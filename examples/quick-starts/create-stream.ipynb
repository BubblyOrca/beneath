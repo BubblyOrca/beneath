{
 "metadata": {
  "language_info": {
   "codemirror_mode": {
    "name": "ipython",
    "version": 3
   },
   "file_extension": ".py",
   "mimetype": "text/x-python",
   "name": "python",
   "nbconvert_exporter": "python",
   "pygments_lexer": "ipython3",
   "version": "3.8.5-final"
  },
  "orig_nbformat": 2,
  "kernelspec": {
   "name": "python3",
   "display_name": "Python 3",
   "language": "python"
  }
 },
 "nbformat": 4,
 "nbformat_minor": 2,
 "cells": [
  {
   "source": [
    "Install Beneath:"
   ],
   "cell_type": "markdown",
   "metadata": {}
  },
  {
   "cell_type": "code",
   "execution_count": null,
   "metadata": {},
   "outputs": [],
   "source": [
    "!pip3 install --upgrade beneath"
   ]
  },
  {
   "source": [
    "Create a CLI secret on [beneath.dev](https://beneath.dev) and use it authenticate Beneath:"
   ],
   "cell_type": "markdown",
   "metadata": {}
  },
  {
   "cell_type": "code",
   "execution_count": null,
   "metadata": {},
   "outputs": [],
   "source": [
    "!beneath auth SECRET"
   ]
  },
  {
   "source": [
    "Create a project"
   ],
   "cell_type": "markdown",
   "metadata": {}
  },
  {
   "cell_type": "code",
   "execution_count": null,
   "metadata": {},
   "outputs": [],
   "source": [
    "!beneath project create USERNAME/NEW_PROJECT_NAME"
   ]
  },
  {
   "source": [
    "Create a stream of movies"
   ],
   "cell_type": "markdown",
   "metadata": {}
  },
  {
   "cell_type": "code",
   "execution_count": null,
   "metadata": {},
   "outputs": [],
   "source": [
    "import beneath\n",
    "client = beneath.Client()\n",
    "\n",
    "stream = await client.create_stream(\"USERNAME/PROJECT_NAME/NEW_STREAM_NAME\", schema=\"\"\"\n",
    "    \" A stream of movies \"\n",
    "    type Movie @schema {\n",
    "        title: String! @key\n",
    "        released_on: Timestamp! @key \n",
    "        director: String\n",
    "        budget_usd: Int\n",
    "        rating: Float\n",
    "    }\n",
    "\"\"\", update_if_exists=True)"
   ]
  },
  {
   "source": [
    "Write a single record to the stream (head over to the web console to see records flow!)"
   ],
   "cell_type": "markdown",
   "metadata": {}
  },
  {
   "cell_type": "code",
   "execution_count": null,
   "metadata": {},
   "outputs": [],
   "source": [
    "from datetime import datetime\n",
    "\n",
    "async with stream.primary_instance.writer() as w:\n",
    "    await w.write({\n",
    "        \"title\":       \"Star Wars: Episode IV\",\n",
    "        \"released_on\": datetime(year=1977, month=5, day=25),\n",
    "        \"director\":    \"George Lucas\",\n",
    "        \"budget_usd\":  11000000,\n",
    "        \"rating\":      8.6,\n",
    "    })"
   ]
  },
  {
   "source": [
    "Write some more movies to the stream "
   ],
   "cell_type": "markdown",
   "metadata": {}
  },
  {
   "cell_type": "code",
   "execution_count": null,
   "metadata": {},
   "outputs": [],
   "source": [
    "import aiohttp\n",
    "import asyncio\n",
    "\n",
    "import random\n",
    "\n",
    "# load a dataset of movies\n",
    "url = \"https://raw.githubusercontent.com/vega/vega/master/docs/data/movies.json\"\n",
    "async with aiohttp.ClientSession() as session:\n",
    "    async with session.get(url) as res:\n",
    "        movies = await res.json(content_type=None)\n",
    "\n",
    "# write a 100 random movies one-by-one\n",
    "n = 100\n",
    "async with stream.primary_instance.writer() as w:\n",
    "    for i in range(n):\n",
    "        # get a random movie\n",
    "        movie = random.choice(movies) \n",
    "\n",
    "        # transform and write the movie\n",
    "        await w.write({\n",
    "            \"title\":       str(movie[\"Title\"]),\n",
    "            \"released_on\": datetime.strptime(movie[\"Release Date\"], \"%b %d %Y\"),\n",
    "            \"director\":    movie[\"Director\"],\n",
    "            \"budget_usd\":  movie[\"Production Budget\"],\n",
    "            \"rating\":      movie[\"IMDB Rating\"],\n",
    "        })\n",
    "\n",
    "        # wait about a second\n",
    "        await asyncio.sleep(1.1)"
   ]
  },
  {
   "cell_type": "code",
   "execution_count": null,
   "metadata": {},
   "outputs": [],
   "source": []
  }
 ]
}