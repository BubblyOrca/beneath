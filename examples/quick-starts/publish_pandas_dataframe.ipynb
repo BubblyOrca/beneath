{
 "cells": [
  {
   "cell_type": "markdown",
   "id": "bb7612eb",
   "metadata": {},
   "source": [
    "Install Beneath:"
   ]
  },
  {
   "cell_type": "code",
   "execution_count": null,
   "id": "60e4a79c",
   "metadata": {},
   "outputs": [],
   "source": [
    "!pip3 install --upgrade beneath"
   ]
  },
  {
   "cell_type": "markdown",
   "id": "43b68ea6",
   "metadata": {},
   "source": [
    "Create a CLI secret on [beneath.dev](https://beneath.dev) and use it authenticate Beneath:"
   ]
  },
  {
   "cell_type": "code",
   "execution_count": null,
   "id": "0ea5adea",
   "metadata": {},
   "outputs": [],
   "source": [
    "!beneath auth SECRET"
   ]
  },
  {
   "cell_type": "markdown",
   "id": "1560023c",
   "metadata": {},
   "source": [
    "Create a Pandas DataFrame"
   ]
  },
  {
   "cell_type": "code",
   "execution_count": null,
   "id": "8398eb3e",
   "metadata": {},
   "outputs": [],
   "source": [
    "import pandas as pd\n",
    "df = pd.read_csv(\"data/s-and-p-500-constituents.csv\")"
   ]
  },
  {
   "cell_type": "markdown",
   "id": "233d6447",
   "metadata": {},
   "source": [
    "Create a project"
   ]
  },
  {
   "cell_type": "code",
   "execution_count": null,
   "id": "bced56a7",
   "metadata": {},
   "outputs": [],
   "source": [
    "!beneath project create USERNAME/NEW_PROJECT_NAME"
   ]
  },
  {
   "cell_type": "markdown",
   "id": "8e7759a5",
   "metadata": {},
   "source": [
    "Write the DataFrame to a new Beneath table (then head over to the web console to see the data!)"
   ]
  },
  {
   "cell_type": "code",
   "execution_count": null,
   "id": "2a360977",
   "metadata": {},
   "outputs": [],
   "source": [
    "import beneath\n",
    "await beneath.write_full(\n",
    "    table_path=\"USERNAME/PROJECT_NAME/s-and-p-500-constituents\",\n",
    "    records=df,\n",
    "    key=[\"symbol\"],\n",
    "    description=\"The full list of companies in the S&P 500 (updated March 31st, 2021)\"\n",
    ")"
   ]
  },
  {
   "cell_type": "markdown",
   "id": "a0213081",
   "metadata": {},
   "source": [
    "You can add specific users"
   ]
  },
  {
   "cell_type": "code",
   "execution_count": null,
   "id": "24c16c33",
   "metadata": {},
   "outputs": [],
   "source": [
    "!beneath project update-permissions USERNAME/PROJECT_NAME FRIEND_USERNAME --view --create"
   ]
  },
  {
   "cell_type": "markdown",
   "id": "9c03299c",
   "metadata": {},
   "source": [
    "Or you can make your project completely public"
   ]
  },
  {
   "cell_type": "code",
   "execution_count": null,
   "id": "891c75db",
   "metadata": {},
   "outputs": [],
   "source": [
    "!beneath project update USERNAME/PROJECT_NAME --public"
   ]
  }
 ],
 "metadata": {
  "kernelspec": {
   "display_name": "Python 3",
   "language": "python",
   "name": "python3"
  },
  "language_info": {
   "codemirror_mode": {
    "name": "ipython",
    "version": 3
   },
   "file_extension": ".py",
   "mimetype": "text/x-python",
   "name": "python",
   "nbconvert_exporter": "python",
   "pygments_lexer": "ipython3",
   "version": "3.8.7"
  }
 },
 "nbformat": 4,
 "nbformat_minor": 5
}
