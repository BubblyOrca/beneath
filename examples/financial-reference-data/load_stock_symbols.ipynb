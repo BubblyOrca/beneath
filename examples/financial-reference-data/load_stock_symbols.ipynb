{
 "cells": [
  {
   "cell_type": "markdown",
   "metadata": {},
   "source": [
    "First, go to https://www.nasdaq.com/market-activity/stocks/screener and download the CSV file to a local directory.\n",
    "\n",
    "Then, you're ready to run the following code to load the data into Beneath."
   ]
  },
  {
   "cell_type": "code",
   "execution_count": null,
   "metadata": {
    "cell_id": "00000-19fb5a92-cc34-456e-b3a1-86919341d821",
    "deepnote_cell_type": "code",
    "deepnote_to_be_reexecuted": false,
    "execution_millis": 151,
    "execution_start": 1624284595311,
    "source_hash": "197bf27c",
    "tags": []
   },
   "outputs": [],
   "source": [
    "import beneath\n",
    "import pandas as pd\n",
    "import numpy as np"
   ]
  },
  {
   "cell_type": "code",
   "execution_count": null,
   "metadata": {
    "cell_id": "00001-c123bfa5-1bee-4290-8d5e-e4ed7b0f4efd",
    "deepnote_cell_type": "code",
    "deepnote_to_be_reexecuted": false,
    "execution_millis": 1811,
    "execution_start": 1624284669170,
    "source_hash": "e1e4cd4f",
    "tags": []
   },
   "outputs": [],
   "source": [
    "!beneath auth SECRET"
   ]
  },
  {
   "cell_type": "code",
   "execution_count": null,
   "metadata": {
    "cell_id": "00003-60da7cbd-3aef-476b-9eed-d60180ace0b9",
    "deepnote_cell_type": "code",
    "deepnote_to_be_reexecuted": false,
    "execution_millis": 12,
    "execution_start": 1624285680865,
    "source_hash": "9c2adef4",
    "tags": []
   },
   "outputs": [],
   "source": [
    "df = pd.read_csv(\"data/stock_symbols.csv\")"
   ]
  },
  {
   "cell_type": "code",
   "execution_count": null,
   "metadata": {},
   "outputs": [],
   "source": [
    "df = df.drop(['Last Sale', 'Net Change', '% Change', 'Market Cap', 'IPO Year', 'Volume'], axis=1)\n",
    "df = df.rename(columns={\"Symbol\": \"symbol\", \"Name\": \"name\", \"Sector\": \"sector\", \"Country\": \"country\", \"Industry\": \"industry\"})\n",
    "df = df.replace(np.nan, '', regex=True)"
   ]
  },
  {
   "cell_type": "code",
   "execution_count": null,
   "metadata": {
    "cell_id": "00005-f51983fd-9eb8-4f29-882f-0d365a4b5b00",
    "deepnote_cell_type": "code",
    "deepnote_to_be_reexecuted": false,
    "execution_millis": 1479,
    "execution_start": 1624285686169,
    "source_hash": "2f85f526",
    "tags": []
   },
   "outputs": [],
   "source": [
    "DATE = \"August 6th, 2021\"\n",
    "await beneath.write_full(\n",
    "    \"examples/financial-reference-data/stock_symbols\",\n",
    "    df,\n",
    "    key=[\"symbol\"],\n",
    "    description=f\"\"\"\n",
    "    Stock symbols listed on the NASDAQ, NYSE, and AMEX exchanges. Pulled from the NASDAQ Stock Screener on {DATE}.\n",
    "    \"\"\",\n",
    "    recreate_on_schema_change=True,\n",
    ")"
   ]
  }
 ],
 "metadata": {
  "deepnote": {},
  "deepnote_execution_queue": [],
  "deepnote_notebook_id": "c3fa02f1-7b53-4741-8af7-d1be97f3ae7e",
  "kernelspec": {
   "display_name": "Python 3 (ipykernel)",
   "language": "python",
   "name": "python3"
  },
  "language_info": {
   "codemirror_mode": {
    "name": "ipython",
    "version": 3
   },
   "file_extension": ".py",
   "mimetype": "text/x-python",
   "name": "python",
   "nbconvert_exporter": "python",
   "pygments_lexer": "ipython3",
   "version": "3.8.7"
  }
 },
 "nbformat": 4,
 "nbformat_minor": 2
}
