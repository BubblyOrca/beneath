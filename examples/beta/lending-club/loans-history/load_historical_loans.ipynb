{
 "cells": [
  {
   "cell_type": "code",
   "execution_count": 1,
   "metadata": {},
   "outputs": [],
   "source": [
    "import beneath\n",
    "import pandas as pd\n",
    "import numpy as np\n",
    "from datetime import datetime, timezone"
   ]
  },
  {
   "cell_type": "markdown",
   "metadata": {},
   "source": [
    "### Create a client"
   ]
  },
  {
   "cell_type": "markdown",
   "metadata": {},
   "source": [
    "Before creating a Beneath client, you'll need to authenticate your environment by calling `beneath auth SECRET` on the command-line."
   ]
  },
  {
   "cell_type": "code",
   "execution_count": 2,
   "metadata": {},
   "outputs": [],
   "source": [
    "client = beneath.Client()"
   ]
  },
  {
   "cell_type": "markdown",
   "metadata": {},
   "source": [
    "### Config"
   ]
  },
  {
   "cell_type": "code",
   "execution_count": 3,
   "metadata": {},
   "outputs": [],
   "source": [
    "username = \"epg\"\n",
    "project_name = \"lending-club\"\n",
    "stream_name = \"loans-history\"\n",
    "\n",
    "STREAM_PATH = f\"{username}/{project_name}/{stream_name}\"\n",
    "SCHEMA = open(\"loans_history.graphql\", \"r\").read()"
   ]
  },
  {
   "cell_type": "markdown",
   "metadata": {},
   "source": [
    "### Stage stream"
   ]
  },
  {
   "cell_type": "code",
   "execution_count": 4,
   "metadata": {},
   "outputs": [],
   "source": [
    "stream = await client.stage_stream(\n",
    "    stream_path=STREAM_PATH, \n",
    "    schema=SCHEMA,\n",
    ")"
   ]
  },
  {
   "cell_type": "markdown",
   "metadata": {},
   "source": [
    "### Stage instance"
   ]
  },
  {
   "cell_type": "code",
   "execution_count": 5,
   "metadata": {},
   "outputs": [],
   "source": [
    "instance = await stream.stage_instance(version=0, make_primary=True)"
   ]
  },
  {
   "cell_type": "markdown",
   "metadata": {},
   "source": [
    "### Write data to Beneath\n",
    "\n",
    "Lending Club distributes their historical loan records as csv files that you can download [here](https://www.lendingclub.com/info/statistics.action).\n",
    "\n",
    "These csv files have a slightly different schema from the new loans that Lending Club lists on its website. Because we would like schema consistency, in this script, we transform the schema from the old records to match the schema of the new records."
   ]
  },
  {
   "cell_type": "code",
   "execution_count": 6,
   "metadata": {},
   "outputs": [
    {
     "name": "stdout",
     "output_type": "stream",
     "text": [
      "period:  2016Q1\n",
      "reading file...\n"
     ]
    },
    {
     "name": "stderr",
     "output_type": "stream",
     "text": [
      "/usr/local/lib/python3.7/site-packages/IPython/core/interactiveshell.py:3063: DtypeWarning: Columns (0,19) have mixed types.Specify dtype option on import or set low_memory=False.\n",
      "  interactivity=interactivity, compiler=compiler, result=result)\n"
     ]
    },
    {
     "name": "stdout",
     "output_type": "stream",
     "text": [
      "aligning schema...\n",
      "writing to Beneath...\n"
     ]
    },
    {
     "name": "stderr",
     "output_type": "stream",
     "text": [
      "INFO:beneath:Flushed 10000 records to 1 instances (10000 total during session)\n",
      "INFO:beneath:Flushed 10000 records to 1 instances (20000 total during session)\n",
      "INFO:beneath:Flushed 10000 records to 1 instances (30000 total during session)\n",
      "INFO:beneath:Flushed 10000 records to 1 instances (40000 total during session)\n",
      "INFO:beneath:Flushed 10000 records to 1 instances (50000 total during session)\n",
      "INFO:beneath:Flushed 10000 records to 1 instances (60000 total during session)\n",
      "INFO:beneath:Flushed 10000 records to 1 instances (70000 total during session)\n",
      "INFO:beneath:Flushed 10000 records to 1 instances (80000 total during session)\n",
      "INFO:beneath:Flushed 10000 records to 1 instances (90000 total during session)\n",
      "INFO:beneath:Flushed 10000 records to 1 instances (100000 total during session)\n",
      "INFO:beneath:Flushed 10000 records to 1 instances (110000 total during session)\n",
      "INFO:beneath:Flushed 10000 records to 1 instances (120000 total during session)\n",
      "INFO:beneath:Flushed 10000 records to 1 instances (130000 total during session)\n",
      "INFO:beneath:Flushed 3887 records to 1 instances (133887 total during session)\n"
     ]
    },
    {
     "name": "stdout",
     "output_type": "stream",
     "text": [
      "period:  2016Q2\n",
      "reading file...\n",
      "aligning schema...\n",
      "writing to Beneath...\n"
     ]
    },
    {
     "name": "stderr",
     "output_type": "stream",
     "text": [
      "INFO:beneath:Flushed 10000 records to 1 instances (10000 total during session)\n",
      "INFO:beneath:Flushed 10000 records to 1 instances (20000 total during session)\n",
      "INFO:beneath:Flushed 10000 records to 1 instances (30000 total during session)\n",
      "INFO:beneath:Flushed 10000 records to 1 instances (40000 total during session)\n",
      "INFO:beneath:Flushed 10000 records to 1 instances (50000 total during session)\n",
      "INFO:beneath:Flushed 10000 records to 1 instances (60000 total during session)\n",
      "INFO:beneath:Flushed 10000 records to 1 instances (70000 total during session)\n",
      "INFO:beneath:Flushed 10000 records to 1 instances (80000 total during session)\n",
      "INFO:beneath:Flushed 10000 records to 1 instances (90000 total during session)\n",
      "INFO:beneath:Flushed 7854 records to 1 instances (97854 total during session)\n"
     ]
    },
    {
     "name": "stdout",
     "output_type": "stream",
     "text": [
      "period:  2016Q3\n",
      "reading file...\n"
     ]
    },
    {
     "name": "stderr",
     "output_type": "stream",
     "text": [
      "/usr/local/lib/python3.7/site-packages/IPython/core/interactiveshell.py:3063: DtypeWarning: Columns (0,19,59) have mixed types.Specify dtype option on import or set low_memory=False.\n",
      "  interactivity=interactivity, compiler=compiler, result=result)\n"
     ]
    },
    {
     "name": "stdout",
     "output_type": "stream",
     "text": [
      "aligning schema...\n",
      "writing to Beneath...\n"
     ]
    },
    {
     "name": "stderr",
     "output_type": "stream",
     "text": [
      "INFO:beneath:Flushed 10000 records to 1 instances (10000 total during session)\n",
      "INFO:beneath:Flushed 10000 records to 1 instances (20000 total during session)\n",
      "INFO:beneath:Flushed 10000 records to 1 instances (30000 total during session)\n",
      "INFO:beneath:Flushed 10000 records to 1 instances (40000 total during session)\n",
      "INFO:beneath:Flushed 10000 records to 1 instances (50000 total during session)\n",
      "INFO:beneath:Flushed 10000 records to 1 instances (60000 total during session)\n",
      "INFO:beneath:Flushed 10000 records to 1 instances (70000 total during session)\n",
      "INFO:beneath:Flushed 10000 records to 1 instances (80000 total during session)\n",
      "INFO:beneath:Flushed 10000 records to 1 instances (90000 total during session)\n",
      "INFO:beneath:Flushed 9120 records to 1 instances (99120 total during session)\n"
     ]
    },
    {
     "name": "stdout",
     "output_type": "stream",
     "text": [
      "period:  2016Q4\n",
      "reading file...\n",
      "aligning schema...\n",
      "writing to Beneath...\n"
     ]
    },
    {
     "name": "stderr",
     "output_type": "stream",
     "text": [
      "INFO:beneath:Flushed 10000 records to 1 instances (10000 total during session)\n",
      "INFO:beneath:Flushed 10000 records to 1 instances (20000 total during session)\n",
      "INFO:beneath:Flushed 10000 records to 1 instances (30000 total during session)\n",
      "INFO:beneath:Flushed 10000 records to 1 instances (40000 total during session)\n",
      "INFO:beneath:Flushed 10000 records to 1 instances (50000 total during session)\n",
      "INFO:beneath:Flushed 10000 records to 1 instances (60000 total during session)\n",
      "INFO:beneath:Flushed 10000 records to 1 instances (70000 total during session)\n",
      "INFO:beneath:Flushed 10000 records to 1 instances (80000 total during session)\n",
      "INFO:beneath:Flushed 10000 records to 1 instances (90000 total during session)\n",
      "INFO:beneath:Flushed 10000 records to 1 instances (100000 total during session)\n",
      "INFO:beneath:Flushed 3546 records to 1 instances (103546 total during session)\n"
     ]
    },
    {
     "name": "stdout",
     "output_type": "stream",
     "text": [
      "period:  2017Q1\n",
      "reading file...\n"
     ]
    },
    {
     "name": "stderr",
     "output_type": "stream",
     "text": [
      "/usr/local/lib/python3.7/site-packages/IPython/core/interactiveshell.py:3063: DtypeWarning: Columns (0,118) have mixed types.Specify dtype option on import or set low_memory=False.\n",
      "  interactivity=interactivity, compiler=compiler, result=result)\n"
     ]
    },
    {
     "name": "stdout",
     "output_type": "stream",
     "text": [
      "aligning schema...\n",
      "writing to Beneath...\n"
     ]
    },
    {
     "name": "stderr",
     "output_type": "stream",
     "text": [
      "INFO:beneath:Flushed 10000 records to 1 instances (10000 total during session)\n",
      "INFO:beneath:Flushed 10000 records to 1 instances (20000 total during session)\n",
      "INFO:beneath:Flushed 10000 records to 1 instances (30000 total during session)\n",
      "INFO:beneath:Flushed 10000 records to 1 instances (40000 total during session)\n",
      "INFO:beneath:Flushed 10000 records to 1 instances (50000 total during session)\n",
      "INFO:beneath:Flushed 10000 records to 1 instances (60000 total during session)\n",
      "INFO:beneath:Flushed 10000 records to 1 instances (70000 total during session)\n",
      "INFO:beneath:Flushed 10000 records to 1 instances (80000 total during session)\n",
      "INFO:beneath:Flushed 10000 records to 1 instances (90000 total during session)\n",
      "INFO:beneath:Flushed 6779 records to 1 instances (96779 total during session)\n"
     ]
    },
    {
     "name": "stdout",
     "output_type": "stream",
     "text": [
      "period:  2017Q2\n",
      "reading file...\n"
     ]
    },
    {
     "name": "stderr",
     "output_type": "stream",
     "text": [
      "/usr/local/lib/python3.7/site-packages/IPython/core/interactiveshell.py:3063: DtypeWarning: Columns (0) have mixed types.Specify dtype option on import or set low_memory=False.\n",
      "  interactivity=interactivity, compiler=compiler, result=result)\n"
     ]
    },
    {
     "name": "stdout",
     "output_type": "stream",
     "text": [
      "aligning schema...\n",
      "writing to Beneath...\n"
     ]
    },
    {
     "name": "stderr",
     "output_type": "stream",
     "text": [
      "INFO:beneath:Flushed 10000 records to 1 instances (10000 total during session)\n",
      "INFO:beneath:Flushed 10000 records to 1 instances (20000 total during session)\n",
      "INFO:beneath:Flushed 10000 records to 1 instances (30000 total during session)\n",
      "INFO:beneath:Flushed 10000 records to 1 instances (40000 total during session)\n",
      "INFO:beneath:Flushed 10000 records to 1 instances (50000 total during session)\n",
      "INFO:beneath:Flushed 10000 records to 1 instances (60000 total during session)\n",
      "INFO:beneath:Flushed 10000 records to 1 instances (70000 total during session)\n",
      "INFO:beneath:Flushed 10000 records to 1 instances (80000 total during session)\n",
      "INFO:beneath:Flushed 10000 records to 1 instances (90000 total during session)\n",
      "INFO:beneath:Flushed 10000 records to 1 instances (100000 total during session)\n",
      "INFO:beneath:Flushed 5451 records to 1 instances (105451 total during session)\n"
     ]
    },
    {
     "name": "stdout",
     "output_type": "stream",
     "text": [
      "period:  2017Q3\n",
      "reading file...\n",
      "aligning schema...\n",
      "writing to Beneath...\n"
     ]
    },
    {
     "name": "stderr",
     "output_type": "stream",
     "text": [
      "INFO:beneath:Flushed 10000 records to 1 instances (10000 total during session)\n",
      "INFO:beneath:Flushed 10000 records to 1 instances (20000 total during session)\n",
      "INFO:beneath:Flushed 10000 records to 1 instances (30000 total during session)\n",
      "INFO:beneath:Flushed 10000 records to 1 instances (40000 total during session)\n",
      "INFO:beneath:Flushed 10000 records to 1 instances (50000 total during session)\n",
      "INFO:beneath:Flushed 10000 records to 1 instances (60000 total during session)\n",
      "INFO:beneath:Flushed 10000 records to 1 instances (70000 total during session)\n",
      "INFO:beneath:Flushed 10000 records to 1 instances (80000 total during session)\n",
      "INFO:beneath:Flushed 10000 records to 1 instances (90000 total during session)\n",
      "INFO:beneath:Flushed 10000 records to 1 instances (100000 total during session)\n",
      "INFO:beneath:Flushed 10000 records to 1 instances (110000 total during session)\n",
      "INFO:beneath:Flushed 10000 records to 1 instances (120000 total during session)\n",
      "INFO:beneath:Flushed 2701 records to 1 instances (122701 total during session)\n"
     ]
    },
    {
     "name": "stdout",
     "output_type": "stream",
     "text": [
      "period:  2017Q4\n",
      "reading file...\n",
      "aligning schema...\n",
      "writing to Beneath...\n"
     ]
    },
    {
     "name": "stderr",
     "output_type": "stream",
     "text": [
      "INFO:beneath:Flushed 10000 records to 1 instances (10000 total during session)\n",
      "INFO:beneath:Flushed 10000 records to 1 instances (20000 total during session)\n",
      "INFO:beneath:Flushed 10000 records to 1 instances (30000 total during session)\n",
      "INFO:beneath:Flushed 10000 records to 1 instances (40000 total during session)\n",
      "INFO:beneath:Flushed 10000 records to 1 instances (50000 total during session)\n",
      "INFO:beneath:Flushed 10000 records to 1 instances (60000 total during session)\n",
      "INFO:beneath:Flushed 10000 records to 1 instances (70000 total during session)\n",
      "INFO:beneath:Flushed 10000 records to 1 instances (80000 total during session)\n",
      "INFO:beneath:Flushed 10000 records to 1 instances (90000 total during session)\n",
      "INFO:beneath:Flushed 10000 records to 1 instances (100000 total during session)\n",
      "INFO:beneath:Flushed 10000 records to 1 instances (110000 total during session)\n",
      "INFO:beneath:Flushed 8648 records to 1 instances (118648 total during session)\n"
     ]
    },
    {
     "name": "stdout",
     "output_type": "stream",
     "text": [
      "period:  2018Q1\n",
      "reading file...\n",
      "aligning schema...\n",
      "writing to Beneath...\n"
     ]
    },
    {
     "name": "stderr",
     "output_type": "stream",
     "text": [
      "INFO:beneath:Flushed 10000 records to 1 instances (10000 total during session)\n",
      "INFO:beneath:Flushed 10000 records to 1 instances (20000 total during session)\n",
      "INFO:beneath:Flushed 10000 records to 1 instances (30000 total during session)\n",
      "INFO:beneath:Flushed 10000 records to 1 instances (40000 total during session)\n",
      "INFO:beneath:Flushed 10000 records to 1 instances (50000 total during session)\n",
      "INFO:beneath:Flushed 10000 records to 1 instances (60000 total during session)\n",
      "INFO:beneath:Flushed 10000 records to 1 instances (70000 total during session)\n",
      "INFO:beneath:Flushed 10000 records to 1 instances (80000 total during session)\n",
      "INFO:beneath:Flushed 10000 records to 1 instances (90000 total during session)\n",
      "INFO:beneath:Flushed 10000 records to 1 instances (100000 total during session)\n",
      "INFO:beneath:Flushed 7864 records to 1 instances (107864 total during session)\n"
     ]
    },
    {
     "name": "stdout",
     "output_type": "stream",
     "text": [
      "period:  2018Q2\n",
      "reading file...\n",
      "aligning schema...\n",
      "writing to Beneath...\n"
     ]
    },
    {
     "name": "stderr",
     "output_type": "stream",
     "text": [
      "INFO:beneath:Flushed 10000 records to 1 instances (10000 total during session)\n",
      "INFO:beneath:Flushed 10000 records to 1 instances (20000 total during session)\n",
      "INFO:beneath:Flushed 10000 records to 1 instances (30000 total during session)\n",
      "INFO:beneath:Flushed 10000 records to 1 instances (40000 total during session)\n",
      "INFO:beneath:Flushed 10000 records to 1 instances (50000 total during session)\n",
      "INFO:beneath:Flushed 10000 records to 1 instances (60000 total during session)\n",
      "INFO:beneath:Flushed 10000 records to 1 instances (70000 total during session)\n",
      "INFO:beneath:Flushed 10000 records to 1 instances (80000 total during session)\n",
      "INFO:beneath:Flushed 10000 records to 1 instances (90000 total during session)\n",
      "INFO:beneath:Flushed 10000 records to 1 instances (100000 total during session)\n",
      "INFO:beneath:Flushed 10000 records to 1 instances (110000 total during session)\n",
      "INFO:beneath:Flushed 10000 records to 1 instances (120000 total during session)\n",
      "INFO:beneath:Flushed 10000 records to 1 instances (130000 total during session)\n",
      "INFO:beneath:Flushed 772 records to 1 instances (130772 total during session)\n"
     ]
    },
    {
     "name": "stdout",
     "output_type": "stream",
     "text": [
      "period:  2018Q3\n",
      "reading file...\n",
      "aligning schema...\n",
      "writing to Beneath...\n"
     ]
    },
    {
     "name": "stderr",
     "output_type": "stream",
     "text": [
      "INFO:beneath:Flushed 10000 records to 1 instances (10000 total during session)\n",
      "INFO:beneath:Flushed 10000 records to 1 instances (20000 total during session)\n",
      "INFO:beneath:Flushed 10000 records to 1 instances (30000 total during session)\n",
      "INFO:beneath:Flushed 10000 records to 1 instances (40000 total during session)\n",
      "INFO:beneath:Flushed 10000 records to 1 instances (50000 total during session)\n",
      "INFO:beneath:Flushed 10000 records to 1 instances (60000 total during session)\n",
      "INFO:beneath:Flushed 10000 records to 1 instances (70000 total during session)\n",
      "INFO:beneath:Flushed 10000 records to 1 instances (80000 total during session)\n",
      "INFO:beneath:Flushed 10000 records to 1 instances (90000 total during session)\n",
      "INFO:beneath:Flushed 10000 records to 1 instances (100000 total during session)\n",
      "INFO:beneath:Flushed 10000 records to 1 instances (110000 total during session)\n",
      "INFO:beneath:Flushed 10000 records to 1 instances (120000 total during session)\n",
      "INFO:beneath:Flushed 8194 records to 1 instances (128194 total during session)\n"
     ]
    },
    {
     "name": "stdout",
     "output_type": "stream",
     "text": [
      "period:  2018Q4\n",
      "reading file...\n",
      "aligning schema...\n",
      "writing to Beneath...\n"
     ]
    },
    {
     "name": "stderr",
     "output_type": "stream",
     "text": [
      "INFO:beneath:Flushed 10000 records to 1 instances (10000 total during session)\n",
      "INFO:beneath:Flushed 10000 records to 1 instances (20000 total during session)\n",
      "INFO:beneath:Flushed 10000 records to 1 instances (30000 total during session)\n",
      "INFO:beneath:Flushed 10000 records to 1 instances (40000 total during session)\n",
      "INFO:beneath:Flushed 10000 records to 1 instances (50000 total during session)\n",
      "INFO:beneath:Flushed 10000 records to 1 instances (60000 total during session)\n",
      "INFO:beneath:Flushed 10000 records to 1 instances (70000 total during session)\n",
      "INFO:beneath:Flushed 10000 records to 1 instances (80000 total during session)\n",
      "INFO:beneath:Flushed 10000 records to 1 instances (90000 total during session)\n",
      "INFO:beneath:Flushed 10000 records to 1 instances (100000 total during session)\n",
      "INFO:beneath:Flushed 10000 records to 1 instances (110000 total during session)\n",
      "INFO:beneath:Flushed 10000 records to 1 instances (120000 total during session)\n",
      "INFO:beneath:Flushed 8412 records to 1 instances (128412 total during session)\n"
     ]
    },
    {
     "name": "stdout",
     "output_type": "stream",
     "text": [
      "period:  2019Q1\n",
      "reading file...\n",
      "aligning schema...\n",
      "writing to Beneath...\n"
     ]
    },
    {
     "name": "stderr",
     "output_type": "stream",
     "text": [
      "INFO:beneath:Flushed 10000 records to 1 instances (10000 total during session)\n",
      "INFO:beneath:Flushed 10000 records to 1 instances (20000 total during session)\n",
      "INFO:beneath:Flushed 10000 records to 1 instances (30000 total during session)\n",
      "INFO:beneath:Flushed 10000 records to 1 instances (40000 total during session)\n",
      "INFO:beneath:Flushed 10000 records to 1 instances (50000 total during session)\n",
      "INFO:beneath:Flushed 10000 records to 1 instances (60000 total during session)\n",
      "INFO:beneath:Flushed 10000 records to 1 instances (70000 total during session)\n",
      "INFO:beneath:Flushed 10000 records to 1 instances (80000 total during session)\n",
      "INFO:beneath:Flushed 10000 records to 1 instances (90000 total during session)\n",
      "INFO:beneath:Flushed 10000 records to 1 instances (100000 total during session)\n",
      "INFO:beneath:Flushed 10000 records to 1 instances (110000 total during session)\n",
      "INFO:beneath:Flushed 5675 records to 1 instances (115675 total during session)\n"
     ]
    },
    {
     "name": "stdout",
     "output_type": "stream",
     "text": [
      "period:  2019Q2\n",
      "reading file...\n"
     ]
    },
    {
     "name": "stderr",
     "output_type": "stream",
     "text": [
      "/usr/local/lib/python3.7/site-packages/IPython/core/interactiveshell.py:3063: DtypeWarning: Columns (0,144,145,146) have mixed types.Specify dtype option on import or set low_memory=False.\n",
      "  interactivity=interactivity, compiler=compiler, result=result)\n"
     ]
    },
    {
     "name": "stdout",
     "output_type": "stream",
     "text": [
      "aligning schema...\n",
      "writing to Beneath...\n"
     ]
    },
    {
     "name": "stderr",
     "output_type": "stream",
     "text": [
      "INFO:beneath:Flushed 10000 records to 1 instances (10000 total during session)\n",
      "INFO:beneath:Flushed 10000 records to 1 instances (20000 total during session)\n",
      "INFO:beneath:Flushed 10000 records to 1 instances (30000 total during session)\n",
      "INFO:beneath:Flushed 10000 records to 1 instances (40000 total during session)\n",
      "INFO:beneath:Flushed 10000 records to 1 instances (50000 total during session)\n",
      "INFO:beneath:Flushed 10000 records to 1 instances (60000 total during session)\n",
      "INFO:beneath:Flushed 10000 records to 1 instances (70000 total during session)\n",
      "INFO:beneath:Flushed 10000 records to 1 instances (80000 total during session)\n",
      "INFO:beneath:Flushed 10000 records to 1 instances (90000 total during session)\n",
      "INFO:beneath:Flushed 10000 records to 1 instances (100000 total during session)\n",
      "INFO:beneath:Flushed 10000 records to 1 instances (110000 total during session)\n",
      "INFO:beneath:Flushed 10000 records to 1 instances (120000 total during session)\n",
      "INFO:beneath:Flushed 10000 records to 1 instances (130000 total during session)\n",
      "INFO:beneath:Flushed 1139 records to 1 instances (131139 total during session)\n"
     ]
    },
    {
     "name": "stdout",
     "output_type": "stream",
     "text": [
      "period:  2019Q3\n",
      "reading file...\n",
      "aligning schema...\n",
      "writing to Beneath...\n"
     ]
    },
    {
     "name": "stderr",
     "output_type": "stream",
     "text": [
      "INFO:beneath:Flushed 10000 records to 1 instances (10000 total during session)\n",
      "INFO:beneath:Flushed 10000 records to 1 instances (20000 total during session)\n",
      "INFO:beneath:Flushed 10000 records to 1 instances (30000 total during session)\n",
      "INFO:beneath:Flushed 10000 records to 1 instances (40000 total during session)\n",
      "INFO:beneath:Flushed 10000 records to 1 instances (50000 total during session)\n",
      "INFO:beneath:Flushed 10000 records to 1 instances (60000 total during session)\n",
      "INFO:beneath:Flushed 10000 records to 1 instances (70000 total during session)\n",
      "INFO:beneath:Flushed 10000 records to 1 instances (80000 total during session)\n",
      "INFO:beneath:Flushed 10000 records to 1 instances (90000 total during session)\n",
      "INFO:beneath:Flushed 10000 records to 1 instances (100000 total during session)\n",
      "INFO:beneath:Flushed 10000 records to 1 instances (110000 total during session)\n",
      "INFO:beneath:Flushed 10000 records to 1 instances (120000 total during session)\n",
      "INFO:beneath:Flushed 10000 records to 1 instances (130000 total during session)\n",
      "INFO:beneath:Flushed 10000 records to 1 instances (140000 total during session)\n",
      "INFO:beneath:Flushed 3035 records to 1 instances (143035 total during session)\n"
     ]
    },
    {
     "name": "stdout",
     "output_type": "stream",
     "text": [
      "period:  2019Q4\n",
      "reading file...\n",
      "aligning schema...\n",
      "writing to Beneath...\n"
     ]
    },
    {
     "name": "stderr",
     "output_type": "stream",
     "text": [
      "INFO:beneath:Flushed 10000 records to 1 instances (10000 total during session)\n",
      "INFO:beneath:Flushed 10000 records to 1 instances (20000 total during session)\n",
      "INFO:beneath:Flushed 10000 records to 1 instances (30000 total during session)\n",
      "INFO:beneath:Flushed 10000 records to 1 instances (40000 total during session)\n",
      "INFO:beneath:Flushed 10000 records to 1 instances (50000 total during session)\n",
      "INFO:beneath:Flushed 10000 records to 1 instances (60000 total during session)\n",
      "INFO:beneath:Flushed 10000 records to 1 instances (70000 total during session)\n",
      "INFO:beneath:Flushed 10000 records to 1 instances (80000 total during session)\n",
      "INFO:beneath:Flushed 10000 records to 1 instances (90000 total during session)\n",
      "INFO:beneath:Flushed 10000 records to 1 instances (100000 total during session)\n",
      "INFO:beneath:Flushed 10000 records to 1 instances (110000 total during session)\n",
      "INFO:beneath:Flushed 10000 records to 1 instances (120000 total during session)\n",
      "INFO:beneath:Flushed 8258 records to 1 instances (128258 total during session)\n"
     ]
    },
    {
     "name": "stdout",
     "output_type": "stream",
     "text": [
      "period:  2020Q1\n",
      "reading file...\n",
      "aligning schema...\n",
      "writing to Beneath...\n"
     ]
    },
    {
     "name": "stderr",
     "output_type": "stream",
     "text": [
      "INFO:beneath:Flushed 10000 records to 1 instances (10000 total during session)\n",
      "INFO:beneath:Flushed 10000 records to 1 instances (20000 total during session)\n",
      "INFO:beneath:Flushed 10000 records to 1 instances (30000 total during session)\n",
      "INFO:beneath:Flushed 10000 records to 1 instances (40000 total during session)\n",
      "INFO:beneath:Flushed 10000 records to 1 instances (50000 total during session)\n",
      "INFO:beneath:Flushed 10000 records to 1 instances (60000 total during session)\n",
      "INFO:beneath:Flushed 10000 records to 1 instances (70000 total during session)\n",
      "INFO:beneath:Flushed 10000 records to 1 instances (80000 total during session)\n",
      "INFO:beneath:Flushed 10000 records to 1 instances (90000 total during session)\n",
      "INFO:beneath:Flushed 10000 records to 1 instances (100000 total during session)\n",
      "INFO:beneath:Flushed 5012 records to 1 instances (105012 total during session)\n"
     ]
    }
   ],
   "source": [
    "periods = ['2016Q1', '2016Q2', '2016Q3', '2016Q4', '2017Q1', '2017Q2', '2017Q3', '2017Q4', \n",
    "          '2018Q1', '2018Q2', '2018Q3', '2018Q4', '2019Q1', '2019Q2', '2019Q3', '2019Q4', '2020Q1']\n",
    "\n",
    "for i in range(0, len(periods)):\n",
    "    print('period: ', periods[i])\n",
    "    \n",
    "    print('reading file...')\n",
    "    \n",
    "    path = '~/Downloads/LoanStats_securev1_' + periods[i] + '.csv'\n",
    "    data = pd.read_csv(path, skiprows=1)\n",
    "    data = data[:-2] # cut out the notes at the bottom of each csv file\n",
    "\n",
    "    print('aligning schema...')\n",
    "    \n",
    "    data['id'] = data['id'].apply(lambda x: int(x))\n",
    "    data['issue_d'] = data['issue_d'].apply(lambda x: datetime.strptime(x, '%b-%Y'))\n",
    "    data['term'] = data['term'].apply(lambda x: int(x[0:3]) if type(x) == str else x)\n",
    "    data['int_rate'] = data['int_rate'].apply(lambda x: float(x[:-1]) if type(x) == str else x)\n",
    "    data = data.rename(columns = {'loan_amnt': 'loan_amount'})\n",
    "    data['loan_amount'] = data['loan_amount'].apply(lambda x: float(x))\n",
    "    data['purpose'] = data['purpose'].apply(lambda x: str(x))\n",
    "    data['home_ownership'] = data['home_ownership'].apply(lambda x: str(x))\n",
    "    data['annual_inc'] = data['annual_inc'].apply(lambda x: float(x))\n",
    "    data['addr_state'] = data['addr_state'].apply(lambda x: str(x))\n",
    "    data['acc_now_delinq'] = data['acc_now_delinq'].apply(lambda x: int(x))\n",
    "    data['dti'] = data['dti'].apply(lambda x: float(x))\n",
    "    data['fico_range_high'] = data['fico_range_high'].apply(lambda x: int(x))\n",
    "    data['open_acc'] = data['open_acc'].apply(lambda x: int(x))\n",
    "    data['pub_rec'] = data['pub_rec'].apply(lambda x: int(x))\n",
    "    data['revol_util'] = data['revol_util'].apply(lambda x: float(x[:-1]) if type(x) != float else x)\n",
    "    data['loan_status'] = data['loan_status'].apply(lambda x: str(x))\n",
    "    \n",
    "    print('writing to Beneath...')\n",
    "    \n",
    "    async with instance.writer() as w:\n",
    "        await w.write(data.to_dict('records'))"
   ]
  },
  {
   "cell_type": "code",
   "execution_count": null,
   "metadata": {},
   "outputs": [],
   "source": []
  }
 ],
 "metadata": {
  "kernelspec": {
   "display_name": "Python 3",
   "language": "python",
   "name": "python3"
  },
  "language_info": {
   "codemirror_mode": {
    "name": "ipython",
    "version": 3
   },
   "file_extension": ".py",
   "mimetype": "text/x-python",
   "name": "python",
   "nbconvert_exporter": "python",
   "pygments_lexer": "ipython3",
   "version": "3.7.6"
  }
 },
 "nbformat": 4,
 "nbformat_minor": 4
}
