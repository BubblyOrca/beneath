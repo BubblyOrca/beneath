{
 "cells": [
  {
   "cell_type": "code",
   "execution_count": 1,
   "id": "67b7d2f9",
   "metadata": {},
   "outputs": [],
   "source": [
    "import beneath\n",
    "import pandas as pd\n",
    "import plotly.express as px\n",
    "from datetime import datetime"
   ]
  },
  {
   "cell_type": "code",
   "execution_count": 2,
   "id": "6a9c0272",
   "metadata": {},
   "outputs": [],
   "source": [
    "BLACKLIST = {\n",
    "    \"FOMO\",\n",
    "    \"DD\",\n",
    "    \"EOD\",\n",
    "    \"TA\",\n",
    "    \"PT\",\n",
    "    \"RSI\",\n",
    "    \"HUGE\",\n",
    "    \"ATH\",\n",
    "    \"USA\",\n",
    "    \"AI\",\n",
    "    \"IMO\",\n",
    "    \"AM\",\n",
    "    \"UK\",\n",
    "    \"BIG\",\n",
    "    \"SO\",\n",
    "    \"OR\",\n",
    "    \"FOR\",\n",
    "    \"ALL\",\n",
    "    \"IT\",\n",
    "    \"BE\",\n",
    "    \"ARE\",\n",
    "    \"NOW\",\n",
    "    \"ON\",\n",
    "    \"ME\",\n",
    "    \"CAN\",\n",
    "    \"VERY\",\n",
    "    \"SI\",\n",
    "    \"TV\",\n",
    "    \"BY\",\n",
    "    \"NEW\",\n",
    "    \"OUT\",\n",
    "    \"LOVE\",\n",
    "    \"GO\",\n",
    "    \"PM\",\n",
    "    \"NEXT\",\n",
    "    \"ANY\",\n",
    "    \"ET\",\n",
    "    \"HAS\",\n",
    "    \"ONE\",\n",
    "    \"PLAY\",\n",
    "    \"LOW\",\n",
    "    \"III\",\n",
    "    \"CASH\",\n",
    "    \"RNG\",\n",
    "    \"GOOD\",\n",
    "    \"REAL\",\n",
    "    \"SEE\",\n",
    "    \"RE\"\n",
    "}"
   ]
  },
  {
   "cell_type": "code",
   "execution_count": 71,
   "id": "8a38d3d5",
   "metadata": {},
   "outputs": [],
   "source": [
    "MODERATORS = {\n",
    "    'OPINION_IS_UNPOPULAR',\n",
    "    'CHAINSAW_VASECTOMY',\n",
    "    'WallStreetBot',\n",
    "    'bawse1',\n",
    "    'zjz',\n",
    "    'VisualMod',\n",
    "    'premier_',\n",
    "    'notmikjaash',\n",
    "    'WaterCups69',\n",
    "    'XvGTM17',\n",
    "    'AutoModerator'\n",
    "}"
   ]
  },
  {
   "cell_type": "code",
   "execution_count": 18,
   "id": "fb541a41",
   "metadata": {},
   "outputs": [],
   "source": [
    "pd.set_option('max_colwidth', 100)"
   ]
  },
  {
   "cell_type": "markdown",
   "id": "67926079",
   "metadata": {},
   "source": [
    "# June report"
   ]
  },
  {
   "cell_type": "markdown",
   "id": "fc312b40",
   "metadata": {},
   "source": [
    "## Posts"
   ]
  },
  {
   "cell_type": "code",
   "execution_count": 33,
   "id": "fca5bf16",
   "metadata": {},
   "outputs": [],
   "source": [
    "posts = await beneath.query_warehouse(\"\"\"\n",
    "with\n",
    "    posts as (\n",
    "        select \n",
    "            created_on, \n",
    "            id, \n",
    "            author, \n",
    "            title, \n",
    "            text, \n",
    "            flair, \n",
    "            permalink,\n",
    "            length(text) as post_length,\n",
    "            array_length(regexp_extract_all(title, r\"\\\\x{1F680}\")) + array_length(regexp_extract_all(text, r\"\\\\x{1F680}\")) as num_rockets,\n",
    "            array_length(regexp_extract_all(title, r\"\\\\x{1F48E}\")) + array_length(regexp_extract_all(text, r\"\\\\x{1F48E}\")) as num_diamonds,\n",
    "        from `examples/reddit/r-wallstreetbets-posts`\n",
    "        where timestamp_trunc(created_on, month) = \"2021-06-01\"\n",
    "    ),\n",
    "    comments as (\n",
    "        select \n",
    "            created_on, \n",
    "            id, \n",
    "            post_id, \n",
    "            author, \n",
    "            text,\n",
    "            length(text) as comment_length,\n",
    "            array_length(regexp_extract_all(c.text, r\"\\\\x{1F680}\")) as num_rockets,\n",
    "            array_length(regexp_extract_all(c.text, r\"\\\\x{1F48E}\")) as num_diamonds,\n",
    "        from `examples/reddit/r-wallstreetbets-comments` c\n",
    "        where timestamp_trunc(created_on, month) = \"2021-06-01\"\n",
    "    )\n",
    "select \n",
    "    p.created_on, \n",
    "    p.title, \n",
    "    p.text, \n",
    "    p.author, \n",
    "    p.flair, \n",
    "    p.permalink,\n",
    "    p.post_length,\n",
    "    count(c.id) as num_comments,\n",
    "    sum(c.comment_length) as sum_comments_length, \n",
    "    sum(c.comment_length)/count(c.id) as avg_comment_length,\n",
    "    p.num_rockets + sum(c.num_rockets) as num_rockets,\n",
    "    p.num_diamonds + sum(c.num_diamonds) as num_diamonds,\n",
    "    count(distinct c.author) as nunique_commenters,\n",
    "from posts p\n",
    "join comments c on p.id = c.post_id\n",
    "group by p.created_on, p.title, p.text, p.author, p.flair, p.permalink, p.post_length, p.num_rockets, p.num_diamonds\n",
    "\"\"\")"
   ]
  },
  {
   "cell_type": "markdown",
   "id": "7db63fbc",
   "metadata": {},
   "source": [
    "Post with most comments"
   ]
  },
  {
   "cell_type": "code",
   "execution_count": 34,
   "id": "72dcd481",
   "metadata": {},
   "outputs": [
    {
     "data": {
      "text/html": [
       "<div>\n",
       "<style scoped>\n",
       "    .dataframe tbody tr th:only-of-type {\n",
       "        vertical-align: middle;\n",
       "    }\n",
       "\n",
       "    .dataframe tbody tr th {\n",
       "        vertical-align: top;\n",
       "    }\n",
       "\n",
       "    .dataframe thead th {\n",
       "        text-align: right;\n",
       "    }\n",
       "</style>\n",
       "<table border=\"1\" class=\"dataframe\">\n",
       "  <thead>\n",
       "    <tr style=\"text-align: right;\">\n",
       "      <th></th>\n",
       "      <th>created_on</th>\n",
       "      <th>title</th>\n",
       "      <th>text</th>\n",
       "      <th>author</th>\n",
       "      <th>flair</th>\n",
       "      <th>permalink</th>\n",
       "      <th>post_length</th>\n",
       "      <th>num_comments</th>\n",
       "      <th>sum_comments_length</th>\n",
       "      <th>avg_comment_length</th>\n",
       "      <th>num_rockets</th>\n",
       "      <th>num_diamonds</th>\n",
       "      <th>nunique_commenters</th>\n",
       "      <th>@meta.timestamp</th>\n",
       "    </tr>\n",
       "  </thead>\n",
       "  <tbody>\n",
       "    <tr>\n",
       "      <th>371</th>\n",
       "      <td>2021-06-11 20:00:17+00:00</td>\n",
       "      <td>Weekend Discussion Thread for the Weekend of June 11, 2021</td>\n",
       "      <td>Your weekend discussion thread. Please keep the shitposting to a maximum!\\n\\nFollow [@Official_W...</td>\n",
       "      <td>OPINION_IS_UNPOPULAR</td>\n",
       "      <td>Weekend Discussion</td>\n",
       "      <td>/r/wallstreetbets/comments/nxosm3/weekend_discussion_thread_for_the_weekend_of_june/</td>\n",
       "      <td>181</td>\n",
       "      <td>63166</td>\n",
       "      <td>4528066</td>\n",
       "      <td>71.685179</td>\n",
       "      <td>3028</td>\n",
       "      <td>440</td>\n",
       "      <td>4668</td>\n",
       "      <td>2021-07-13 14:27:25.308000+00:00</td>\n",
       "    </tr>\n",
       "    <tr>\n",
       "      <th>311</th>\n",
       "      <td>2021-06-03 10:00:13+00:00</td>\n",
       "      <td>Daily Discussion Thread for June 03, 2021</td>\n",
       "      <td>Your daily trading discussion thread. Please keep the shitposting to a minimum. \\n\\n^Navigate ^W...</td>\n",
       "      <td>OPINION_IS_UNPOPULAR</td>\n",
       "      <td>Daily Discussion</td>\n",
       "      <td>/r/wallstreetbets/comments/nr9r9t/daily_discussion_thread_for_june_03_2021/</td>\n",
       "      <td>2359</td>\n",
       "      <td>56245</td>\n",
       "      <td>3356092</td>\n",
       "      <td>59.669162</td>\n",
       "      <td>6961</td>\n",
       "      <td>830</td>\n",
       "      <td>10522</td>\n",
       "      <td>2021-07-13 14:27:25.308000+00:00</td>\n",
       "    </tr>\n",
       "    <tr>\n",
       "      <th>210</th>\n",
       "      <td>2021-06-02 10:00:15+00:00</td>\n",
       "      <td>Daily Discussion Thread for June 02, 2021</td>\n",
       "      <td>Your daily trading discussion thread. Please keep the shitposting to a minimum. \\n\\n^Navigate ^W...</td>\n",
       "      <td>OPINION_IS_UNPOPULAR</td>\n",
       "      <td>Daily Discussion</td>\n",
       "      <td>/r/wallstreetbets/comments/nqi9f6/daily_discussion_thread_for_june_02_2021/</td>\n",
       "      <td>2359</td>\n",
       "      <td>40962</td>\n",
       "      <td>2273866</td>\n",
       "      <td>55.511596</td>\n",
       "      <td>5528</td>\n",
       "      <td>437</td>\n",
       "      <td>8586</td>\n",
       "      <td>2021-07-13 14:27:25.307000+00:00</td>\n",
       "    </tr>\n",
       "  </tbody>\n",
       "</table>\n",
       "</div>"
      ],
      "text/plain": [
       "                   created_on  \\\n",
       "371 2021-06-11 20:00:17+00:00   \n",
       "311 2021-06-03 10:00:13+00:00   \n",
       "210 2021-06-02 10:00:15+00:00   \n",
       "\n",
       "                                                          title  \\\n",
       "371  Weekend Discussion Thread for the Weekend of June 11, 2021   \n",
       "311                   Daily Discussion Thread for June 03, 2021   \n",
       "210                   Daily Discussion Thread for June 02, 2021   \n",
       "\n",
       "                                                                                                    text  \\\n",
       "371  Your weekend discussion thread. Please keep the shitposting to a maximum!\\n\\nFollow [@Official_W...   \n",
       "311  Your daily trading discussion thread. Please keep the shitposting to a minimum. \\n\\n^Navigate ^W...   \n",
       "210  Your daily trading discussion thread. Please keep the shitposting to a minimum. \\n\\n^Navigate ^W...   \n",
       "\n",
       "                   author               flair  \\\n",
       "371  OPINION_IS_UNPOPULAR  Weekend Discussion   \n",
       "311  OPINION_IS_UNPOPULAR    Daily Discussion   \n",
       "210  OPINION_IS_UNPOPULAR    Daily Discussion   \n",
       "\n",
       "                                                                                permalink  \\\n",
       "371  /r/wallstreetbets/comments/nxosm3/weekend_discussion_thread_for_the_weekend_of_june/   \n",
       "311           /r/wallstreetbets/comments/nr9r9t/daily_discussion_thread_for_june_03_2021/   \n",
       "210           /r/wallstreetbets/comments/nqi9f6/daily_discussion_thread_for_june_02_2021/   \n",
       "\n",
       "     post_length  num_comments  sum_comments_length  avg_comment_length  \\\n",
       "371          181         63166              4528066           71.685179   \n",
       "311         2359         56245              3356092           59.669162   \n",
       "210         2359         40962              2273866           55.511596   \n",
       "\n",
       "     num_rockets  num_diamonds  nunique_commenters  \\\n",
       "371         3028           440                4668   \n",
       "311         6961           830               10522   \n",
       "210         5528           437                8586   \n",
       "\n",
       "                     @meta.timestamp  \n",
       "371 2021-07-13 14:27:25.308000+00:00  \n",
       "311 2021-07-13 14:27:25.308000+00:00  \n",
       "210 2021-07-13 14:27:25.307000+00:00  "
      ]
     },
     "execution_count": 34,
     "metadata": {},
     "output_type": "execute_result"
    }
   ],
   "source": [
    "posts.sort_values('num_comments', ascending=False).head(3)"
   ]
  },
  {
   "cell_type": "markdown",
   "id": "9a14f1fe",
   "metadata": {},
   "source": [
    "Longest discussion"
   ]
  },
  {
   "cell_type": "code",
   "execution_count": 35,
   "id": "de673c53",
   "metadata": {},
   "outputs": [
    {
     "data": {
      "text/html": [
       "<div>\n",
       "<style scoped>\n",
       "    .dataframe tbody tr th:only-of-type {\n",
       "        vertical-align: middle;\n",
       "    }\n",
       "\n",
       "    .dataframe tbody tr th {\n",
       "        vertical-align: top;\n",
       "    }\n",
       "\n",
       "    .dataframe thead th {\n",
       "        text-align: right;\n",
       "    }\n",
       "</style>\n",
       "<table border=\"1\" class=\"dataframe\">\n",
       "  <thead>\n",
       "    <tr style=\"text-align: right;\">\n",
       "      <th></th>\n",
       "      <th>created_on</th>\n",
       "      <th>title</th>\n",
       "      <th>text</th>\n",
       "      <th>author</th>\n",
       "      <th>flair</th>\n",
       "      <th>permalink</th>\n",
       "      <th>post_length</th>\n",
       "      <th>num_comments</th>\n",
       "      <th>sum_comments_length</th>\n",
       "      <th>avg_comment_length</th>\n",
       "      <th>num_rockets</th>\n",
       "      <th>num_diamonds</th>\n",
       "      <th>nunique_commenters</th>\n",
       "      <th>@meta.timestamp</th>\n",
       "    </tr>\n",
       "  </thead>\n",
       "  <tbody>\n",
       "    <tr>\n",
       "      <th>371</th>\n",
       "      <td>2021-06-11 20:00:17+00:00</td>\n",
       "      <td>Weekend Discussion Thread for the Weekend of June 11, 2021</td>\n",
       "      <td>Your weekend discussion thread. Please keep the shitposting to a maximum!\\n\\nFollow [@Official_W...</td>\n",
       "      <td>OPINION_IS_UNPOPULAR</td>\n",
       "      <td>Weekend Discussion</td>\n",
       "      <td>/r/wallstreetbets/comments/nxosm3/weekend_discussion_thread_for_the_weekend_of_june/</td>\n",
       "      <td>181</td>\n",
       "      <td>63166</td>\n",
       "      <td>4528066</td>\n",
       "      <td>71.685179</td>\n",
       "      <td>3028</td>\n",
       "      <td>440</td>\n",
       "      <td>4668</td>\n",
       "      <td>2021-07-13 14:27:25.308000+00:00</td>\n",
       "    </tr>\n",
       "    <tr>\n",
       "      <th>311</th>\n",
       "      <td>2021-06-03 10:00:13+00:00</td>\n",
       "      <td>Daily Discussion Thread for June 03, 2021</td>\n",
       "      <td>Your daily trading discussion thread. Please keep the shitposting to a minimum. \\n\\n^Navigate ^W...</td>\n",
       "      <td>OPINION_IS_UNPOPULAR</td>\n",
       "      <td>Daily Discussion</td>\n",
       "      <td>/r/wallstreetbets/comments/nr9r9t/daily_discussion_thread_for_june_03_2021/</td>\n",
       "      <td>2359</td>\n",
       "      <td>56245</td>\n",
       "      <td>3356092</td>\n",
       "      <td>59.669162</td>\n",
       "      <td>6961</td>\n",
       "      <td>830</td>\n",
       "      <td>10522</td>\n",
       "      <td>2021-07-13 14:27:25.308000+00:00</td>\n",
       "    </tr>\n",
       "    <tr>\n",
       "      <th>2674</th>\n",
       "      <td>2021-06-04 20:00:15+00:00</td>\n",
       "      <td>Weekend Discussion Thread for the Weekend of June 04, 2021</td>\n",
       "      <td>Your weekend discussion thread. Please keep the shitposting to a maximum!\\n\\nFollow [@Official_W...</td>\n",
       "      <td>OPINION_IS_UNPOPULAR</td>\n",
       "      <td>Weekend Discussion</td>\n",
       "      <td>/r/wallstreetbets/comments/nse1dg/weekend_discussion_thread_for_the_weekend_of_june/</td>\n",
       "      <td>181</td>\n",
       "      <td>37246</td>\n",
       "      <td>2797369</td>\n",
       "      <td>75.105219</td>\n",
       "      <td>1263</td>\n",
       "      <td>239</td>\n",
       "      <td>4761</td>\n",
       "      <td>2021-07-13 14:27:28.740000+00:00</td>\n",
       "    </tr>\n",
       "  </tbody>\n",
       "</table>\n",
       "</div>"
      ],
      "text/plain": [
       "                    created_on  \\\n",
       "371  2021-06-11 20:00:17+00:00   \n",
       "311  2021-06-03 10:00:13+00:00   \n",
       "2674 2021-06-04 20:00:15+00:00   \n",
       "\n",
       "                                                           title  \\\n",
       "371   Weekend Discussion Thread for the Weekend of June 11, 2021   \n",
       "311                    Daily Discussion Thread for June 03, 2021   \n",
       "2674  Weekend Discussion Thread for the Weekend of June 04, 2021   \n",
       "\n",
       "                                                                                                     text  \\\n",
       "371   Your weekend discussion thread. Please keep the shitposting to a maximum!\\n\\nFollow [@Official_W...   \n",
       "311   Your daily trading discussion thread. Please keep the shitposting to a minimum. \\n\\n^Navigate ^W...   \n",
       "2674  Your weekend discussion thread. Please keep the shitposting to a maximum!\\n\\nFollow [@Official_W...   \n",
       "\n",
       "                    author               flair  \\\n",
       "371   OPINION_IS_UNPOPULAR  Weekend Discussion   \n",
       "311   OPINION_IS_UNPOPULAR    Daily Discussion   \n",
       "2674  OPINION_IS_UNPOPULAR  Weekend Discussion   \n",
       "\n",
       "                                                                                 permalink  \\\n",
       "371   /r/wallstreetbets/comments/nxosm3/weekend_discussion_thread_for_the_weekend_of_june/   \n",
       "311            /r/wallstreetbets/comments/nr9r9t/daily_discussion_thread_for_june_03_2021/   \n",
       "2674  /r/wallstreetbets/comments/nse1dg/weekend_discussion_thread_for_the_weekend_of_june/   \n",
       "\n",
       "      post_length  num_comments  sum_comments_length  avg_comment_length  \\\n",
       "371           181         63166              4528066           71.685179   \n",
       "311          2359         56245              3356092           59.669162   \n",
       "2674          181         37246              2797369           75.105219   \n",
       "\n",
       "      num_rockets  num_diamonds  nunique_commenters  \\\n",
       "371          3028           440                4668   \n",
       "311          6961           830               10522   \n",
       "2674         1263           239                4761   \n",
       "\n",
       "                      @meta.timestamp  \n",
       "371  2021-07-13 14:27:25.308000+00:00  \n",
       "311  2021-07-13 14:27:25.308000+00:00  \n",
       "2674 2021-07-13 14:27:28.740000+00:00  "
      ]
     },
     "execution_count": 35,
     "metadata": {},
     "output_type": "execute_result"
    }
   ],
   "source": [
    "posts.sort_values('sum_comments_length', ascending=False).head(3)"
   ]
  },
  {
   "cell_type": "markdown",
   "id": "16b4b502",
   "metadata": {},
   "source": [
    "Post with the highest avg comment length (at least 5 comments)"
   ]
  },
  {
   "cell_type": "code",
   "execution_count": 26,
   "id": "1f64e331",
   "metadata": {},
   "outputs": [
    {
     "data": {
      "text/html": [
       "<div>\n",
       "<style scoped>\n",
       "    .dataframe tbody tr th:only-of-type {\n",
       "        vertical-align: middle;\n",
       "    }\n",
       "\n",
       "    .dataframe tbody tr th {\n",
       "        vertical-align: top;\n",
       "    }\n",
       "\n",
       "    .dataframe thead th {\n",
       "        text-align: right;\n",
       "    }\n",
       "</style>\n",
       "<table border=\"1\" class=\"dataframe\">\n",
       "  <thead>\n",
       "    <tr style=\"text-align: right;\">\n",
       "      <th></th>\n",
       "      <th>created_on</th>\n",
       "      <th>title</th>\n",
       "      <th>text</th>\n",
       "      <th>author</th>\n",
       "      <th>flair</th>\n",
       "      <th>permalink</th>\n",
       "      <th>post_length</th>\n",
       "      <th>num_comments</th>\n",
       "      <th>sum_comments_length</th>\n",
       "      <th>avg_comment_length</th>\n",
       "      <th>num_rockets</th>\n",
       "      <th>nunique_commenters</th>\n",
       "      <th>@meta.timestamp</th>\n",
       "    </tr>\n",
       "  </thead>\n",
       "  <tbody>\n",
       "    <tr>\n",
       "      <th>24581</th>\n",
       "      <td>2021-06-17 18:25:55+00:00</td>\n",
       "      <td>$DKNG YOLOO. Still holding. Still bullish. 💎🙌 -&gt; 🚀🚀</td>\n",
       "      <td></td>\n",
       "      <td>arjunav</td>\n",
       "      <td>YOLO</td>\n",
       "      <td>/r/wallstreetbets/comments/o241a9/dkng_yoloo_still_holding_still_bullish/</td>\n",
       "      <td>0</td>\n",
       "      <td>5</td>\n",
       "      <td>6974</td>\n",
       "      <td>1394.800000</td>\n",
       "      <td>2</td>\n",
       "      <td>5</td>\n",
       "      <td>2021-07-13 14:10:38.334000+00:00</td>\n",
       "    </tr>\n",
       "    <tr>\n",
       "      <th>28707</th>\n",
       "      <td>2021-06-08 21:00:43+00:00</td>\n",
       "      <td>Sorrento Therapeutics Bull Case = EZ Squeeze.</td>\n",
       "      <td>\"Wall Street analysts also predicted that in 2021, the company’s y-o-y revenues would reach $1.1...</td>\n",
       "      <td>Siphen_</td>\n",
       "      <td>Discussion</td>\n",
       "      <td>/r/wallstreetbets/comments/nvecr9/sorrento_therapeutics_bull_case_ez_squeeze/</td>\n",
       "      <td>5008</td>\n",
       "      <td>13</td>\n",
       "      <td>9433</td>\n",
       "      <td>725.615385</td>\n",
       "      <td>0</td>\n",
       "      <td>8</td>\n",
       "      <td>2021-07-13 14:10:42.956000+00:00</td>\n",
       "    </tr>\n",
       "    <tr>\n",
       "      <th>26653</th>\n",
       "      <td>2021-06-21 20:07:22+00:00</td>\n",
       "      <td>Be objective and look data and take your seat</td>\n",
       "      <td>Times like these illustrate why having a cool head in a crisis is so important. The ability to b...</td>\n",
       "      <td>Kimaxw</td>\n",
       "      <td>DD</td>\n",
       "      <td>/r/wallstreetbets/comments/o546n6/be_objective_and_look_data_and_take_your_seat/</td>\n",
       "      <td>3226</td>\n",
       "      <td>8</td>\n",
       "      <td>5414</td>\n",
       "      <td>676.750000</td>\n",
       "      <td>3</td>\n",
       "      <td>6</td>\n",
       "      <td>2021-07-13 14:10:40.689000+00:00</td>\n",
       "    </tr>\n",
       "  </tbody>\n",
       "</table>\n",
       "</div>"
      ],
      "text/plain": [
       "                     created_on  \\\n",
       "24581 2021-06-17 18:25:55+00:00   \n",
       "28707 2021-06-08 21:00:43+00:00   \n",
       "26653 2021-06-21 20:07:22+00:00   \n",
       "\n",
       "                                                     title  \\\n",
       "24581  $DKNG YOLOO. Still holding. Still bullish. 💎🙌 -> 🚀🚀   \n",
       "28707        Sorrento Therapeutics Bull Case = EZ Squeeze.   \n",
       "26653        Be objective and look data and take your seat   \n",
       "\n",
       "                                                                                                      text  \\\n",
       "24581                                                                                                        \n",
       "28707  \"Wall Street analysts also predicted that in 2021, the company’s y-o-y revenues would reach $1.1...   \n",
       "26653  Times like these illustrate why having a cool head in a crisis is so important. The ability to b...   \n",
       "\n",
       "        author       flair  \\\n",
       "24581  arjunav        YOLO   \n",
       "28707  Siphen_  Discussion   \n",
       "26653   Kimaxw          DD   \n",
       "\n",
       "                                                                              permalink  \\\n",
       "24581         /r/wallstreetbets/comments/o241a9/dkng_yoloo_still_holding_still_bullish/   \n",
       "28707     /r/wallstreetbets/comments/nvecr9/sorrento_therapeutics_bull_case_ez_squeeze/   \n",
       "26653  /r/wallstreetbets/comments/o546n6/be_objective_and_look_data_and_take_your_seat/   \n",
       "\n",
       "       post_length  num_comments  sum_comments_length  avg_comment_length  \\\n",
       "24581            0             5                 6974         1394.800000   \n",
       "28707         5008            13                 9433          725.615385   \n",
       "26653         3226             8                 5414          676.750000   \n",
       "\n",
       "       num_rockets  nunique_commenters                  @meta.timestamp  \n",
       "24581            2                   5 2021-07-13 14:10:38.334000+00:00  \n",
       "28707            0                   8 2021-07-13 14:10:42.956000+00:00  \n",
       "26653            3                   6 2021-07-13 14:10:40.689000+00:00  "
      ]
     },
     "execution_count": 26,
     "metadata": {},
     "output_type": "execute_result"
    }
   ],
   "source": [
    "posts[posts['num_comments'] >= 5].sort_values('avg_comment_length', ascending=False).head(3)"
   ]
  },
  {
   "cell_type": "markdown",
   "id": "4866aeb1",
   "metadata": {},
   "source": [
    "Post with the most rockets (including comments)"
   ]
  },
  {
   "cell_type": "code",
   "execution_count": 39,
   "id": "8d6b9ac2",
   "metadata": {},
   "outputs": [
    {
     "data": {
      "text/html": [
       "<div>\n",
       "<style scoped>\n",
       "    .dataframe tbody tr th:only-of-type {\n",
       "        vertical-align: middle;\n",
       "    }\n",
       "\n",
       "    .dataframe tbody tr th {\n",
       "        vertical-align: top;\n",
       "    }\n",
       "\n",
       "    .dataframe thead th {\n",
       "        text-align: right;\n",
       "    }\n",
       "</style>\n",
       "<table border=\"1\" class=\"dataframe\">\n",
       "  <thead>\n",
       "    <tr style=\"text-align: right;\">\n",
       "      <th></th>\n",
       "      <th>created_on</th>\n",
       "      <th>title</th>\n",
       "      <th>text</th>\n",
       "      <th>author</th>\n",
       "      <th>flair</th>\n",
       "      <th>permalink</th>\n",
       "      <th>post_length</th>\n",
       "      <th>num_comments</th>\n",
       "      <th>sum_comments_length</th>\n",
       "      <th>avg_comment_length</th>\n",
       "      <th>num_rockets</th>\n",
       "      <th>num_diamonds</th>\n",
       "      <th>nunique_commenters</th>\n",
       "      <th>@meta.timestamp</th>\n",
       "    </tr>\n",
       "  </thead>\n",
       "  <tbody>\n",
       "    <tr>\n",
       "      <th>311</th>\n",
       "      <td>2021-06-03 10:00:13+00:00</td>\n",
       "      <td>Daily Discussion Thread for June 03, 2021</td>\n",
       "      <td>Your daily trading discussion thread. Please keep the shitposting to a minimum. \\n\\n^Navigate ^W...</td>\n",
       "      <td>OPINION_IS_UNPOPULAR</td>\n",
       "      <td>Daily Discussion</td>\n",
       "      <td>/r/wallstreetbets/comments/nr9r9t/daily_discussion_thread_for_june_03_2021/</td>\n",
       "      <td>2359</td>\n",
       "      <td>56245</td>\n",
       "      <td>3356092</td>\n",
       "      <td>59.669162</td>\n",
       "      <td>6961</td>\n",
       "      <td>830</td>\n",
       "      <td>10522</td>\n",
       "      <td>2021-07-13 14:27:25.308000+00:00</td>\n",
       "    </tr>\n",
       "    <tr>\n",
       "      <th>210</th>\n",
       "      <td>2021-06-02 10:00:15+00:00</td>\n",
       "      <td>Daily Discussion Thread for June 02, 2021</td>\n",
       "      <td>Your daily trading discussion thread. Please keep the shitposting to a minimum. \\n\\n^Navigate ^W...</td>\n",
       "      <td>OPINION_IS_UNPOPULAR</td>\n",
       "      <td>Daily Discussion</td>\n",
       "      <td>/r/wallstreetbets/comments/nqi9f6/daily_discussion_thread_for_june_02_2021/</td>\n",
       "      <td>2359</td>\n",
       "      <td>40962</td>\n",
       "      <td>2273866</td>\n",
       "      <td>55.511596</td>\n",
       "      <td>5528</td>\n",
       "      <td>437</td>\n",
       "      <td>8586</td>\n",
       "      <td>2021-07-13 14:27:25.307000+00:00</td>\n",
       "    </tr>\n",
       "    <tr>\n",
       "      <th>0</th>\n",
       "      <td>2021-06-08 11:07:59+00:00</td>\n",
       "      <td>Daily Popular Ticker Thread for June 08, 2021 - BB | AMC | CLOV</td>\n",
       "      <td>Apologies for the delay. The global Fastly outage knocked Reddit offline.</td>\n",
       "      <td>OPINION_IS_UNPOPULAR</td>\n",
       "      <td>None</td>\n",
       "      <td>/r/wallstreetbets/comments/nv1ig9/daily_popular_ticker_thread_for_june_08_2021_bb/</td>\n",
       "      <td>73</td>\n",
       "      <td>26140</td>\n",
       "      <td>1572924</td>\n",
       "      <td>60.173068</td>\n",
       "      <td>5487</td>\n",
       "      <td>481</td>\n",
       "      <td>6103</td>\n",
       "      <td>2021-07-13 14:27:25.305000+00:00</td>\n",
       "    </tr>\n",
       "  </tbody>\n",
       "</table>\n",
       "</div>"
      ],
      "text/plain": [
       "                   created_on  \\\n",
       "311 2021-06-03 10:00:13+00:00   \n",
       "210 2021-06-02 10:00:15+00:00   \n",
       "0   2021-06-08 11:07:59+00:00   \n",
       "\n",
       "                                                               title  \\\n",
       "311                        Daily Discussion Thread for June 03, 2021   \n",
       "210                        Daily Discussion Thread for June 02, 2021   \n",
       "0    Daily Popular Ticker Thread for June 08, 2021 - BB | AMC | CLOV   \n",
       "\n",
       "                                                                                                    text  \\\n",
       "311  Your daily trading discussion thread. Please keep the shitposting to a minimum. \\n\\n^Navigate ^W...   \n",
       "210  Your daily trading discussion thread. Please keep the shitposting to a minimum. \\n\\n^Navigate ^W...   \n",
       "0                              Apologies for the delay. The global Fastly outage knocked Reddit offline.   \n",
       "\n",
       "                   author             flair  \\\n",
       "311  OPINION_IS_UNPOPULAR  Daily Discussion   \n",
       "210  OPINION_IS_UNPOPULAR  Daily Discussion   \n",
       "0    OPINION_IS_UNPOPULAR              None   \n",
       "\n",
       "                                                                              permalink  \\\n",
       "311         /r/wallstreetbets/comments/nr9r9t/daily_discussion_thread_for_june_03_2021/   \n",
       "210         /r/wallstreetbets/comments/nqi9f6/daily_discussion_thread_for_june_02_2021/   \n",
       "0    /r/wallstreetbets/comments/nv1ig9/daily_popular_ticker_thread_for_june_08_2021_bb/   \n",
       "\n",
       "     post_length  num_comments  sum_comments_length  avg_comment_length  \\\n",
       "311         2359         56245              3356092           59.669162   \n",
       "210         2359         40962              2273866           55.511596   \n",
       "0             73         26140              1572924           60.173068   \n",
       "\n",
       "     num_rockets  num_diamonds  nunique_commenters  \\\n",
       "311         6961           830               10522   \n",
       "210         5528           437                8586   \n",
       "0           5487           481                6103   \n",
       "\n",
       "                     @meta.timestamp  \n",
       "311 2021-07-13 14:27:25.308000+00:00  \n",
       "210 2021-07-13 14:27:25.307000+00:00  \n",
       "0   2021-07-13 14:27:25.305000+00:00  "
      ]
     },
     "execution_count": 39,
     "metadata": {},
     "output_type": "execute_result"
    }
   ],
   "source": [
    "posts.sort_values('num_rockets', ascending=False).head(3)"
   ]
  },
  {
   "cell_type": "markdown",
   "id": "a6b64cb3",
   "metadata": {},
   "source": [
    "Post with the most diamonds (including comments)"
   ]
  },
  {
   "cell_type": "code",
   "execution_count": 38,
   "id": "e52bd351",
   "metadata": {},
   "outputs": [
    {
     "data": {
      "text/html": [
       "<div>\n",
       "<style scoped>\n",
       "    .dataframe tbody tr th:only-of-type {\n",
       "        vertical-align: middle;\n",
       "    }\n",
       "\n",
       "    .dataframe tbody tr th {\n",
       "        vertical-align: top;\n",
       "    }\n",
       "\n",
       "    .dataframe thead th {\n",
       "        text-align: right;\n",
       "    }\n",
       "</style>\n",
       "<table border=\"1\" class=\"dataframe\">\n",
       "  <thead>\n",
       "    <tr style=\"text-align: right;\">\n",
       "      <th></th>\n",
       "      <th>created_on</th>\n",
       "      <th>title</th>\n",
       "      <th>text</th>\n",
       "      <th>author</th>\n",
       "      <th>flair</th>\n",
       "      <th>permalink</th>\n",
       "      <th>post_length</th>\n",
       "      <th>num_comments</th>\n",
       "      <th>sum_comments_length</th>\n",
       "      <th>avg_comment_length</th>\n",
       "      <th>num_rockets</th>\n",
       "      <th>num_diamonds</th>\n",
       "      <th>nunique_commenters</th>\n",
       "      <th>@meta.timestamp</th>\n",
       "    </tr>\n",
       "  </thead>\n",
       "  <tbody>\n",
       "    <tr>\n",
       "      <th>3334</th>\n",
       "      <td>2021-06-11 10:00:19+00:00</td>\n",
       "      <td>Daily Popular Tickers Thread for June 11, 2021 - AMC | BB | CLOV</td>\n",
       "      <td>\\nYour daily hype thread. Please keep the shitposting to a maximum.\\n\\n^Navigate ^WSB |^We ^reco...</td>\n",
       "      <td>VisualMod</td>\n",
       "      <td>None</td>\n",
       "      <td>/r/wallstreetbets/comments/nxcb5h/daily_popular_tickers_thread_for_june_11_2021_amc/</td>\n",
       "      <td>1782</td>\n",
       "      <td>9492</td>\n",
       "      <td>670418</td>\n",
       "      <td>70.629794</td>\n",
       "      <td>3163</td>\n",
       "      <td>1167</td>\n",
       "      <td>2523</td>\n",
       "      <td>2021-07-13 14:27:30.164000+00:00</td>\n",
       "    </tr>\n",
       "    <tr>\n",
       "      <th>311</th>\n",
       "      <td>2021-06-03 10:00:13+00:00</td>\n",
       "      <td>Daily Discussion Thread for June 03, 2021</td>\n",
       "      <td>Your daily trading discussion thread. Please keep the shitposting to a minimum. \\n\\n^Navigate ^W...</td>\n",
       "      <td>OPINION_IS_UNPOPULAR</td>\n",
       "      <td>Daily Discussion</td>\n",
       "      <td>/r/wallstreetbets/comments/nr9r9t/daily_discussion_thread_for_june_03_2021/</td>\n",
       "      <td>2359</td>\n",
       "      <td>56245</td>\n",
       "      <td>3356092</td>\n",
       "      <td>59.669162</td>\n",
       "      <td>6961</td>\n",
       "      <td>830</td>\n",
       "      <td>10522</td>\n",
       "      <td>2021-07-13 14:27:25.308000+00:00</td>\n",
       "    </tr>\n",
       "    <tr>\n",
       "      <th>950</th>\n",
       "      <td>2021-06-02 20:00:20+00:00</td>\n",
       "      <td>What Are Your Moves Tomorrow, June 03, 2021</td>\n",
       "      <td>Your daily trading discussion thread. Please keep the shitposting to a minimum. \\n\\n^Navigate ^W...</td>\n",
       "      <td>OPINION_IS_UNPOPULAR</td>\n",
       "      <td>Daily Discussion</td>\n",
       "      <td>/r/wallstreetbets/comments/nquubf/what_are_your_moves_tomorrow_june_03_2021/</td>\n",
       "      <td>2357</td>\n",
       "      <td>35642</td>\n",
       "      <td>2113514</td>\n",
       "      <td>59.298412</td>\n",
       "      <td>4250</td>\n",
       "      <td>706</td>\n",
       "      <td>8936</td>\n",
       "      <td>2021-07-13 14:27:25.313000+00:00</td>\n",
       "    </tr>\n",
       "  </tbody>\n",
       "</table>\n",
       "</div>"
      ],
      "text/plain": [
       "                    created_on  \\\n",
       "3334 2021-06-11 10:00:19+00:00   \n",
       "311  2021-06-03 10:00:13+00:00   \n",
       "950  2021-06-02 20:00:20+00:00   \n",
       "\n",
       "                                                                 title  \\\n",
       "3334  Daily Popular Tickers Thread for June 11, 2021 - AMC | BB | CLOV   \n",
       "311                          Daily Discussion Thread for June 03, 2021   \n",
       "950                        What Are Your Moves Tomorrow, June 03, 2021   \n",
       "\n",
       "                                                                                                     text  \\\n",
       "3334  \\nYour daily hype thread. Please keep the shitposting to a maximum.\\n\\n^Navigate ^WSB |^We ^reco...   \n",
       "311   Your daily trading discussion thread. Please keep the shitposting to a minimum. \\n\\n^Navigate ^W...   \n",
       "950   Your daily trading discussion thread. Please keep the shitposting to a minimum. \\n\\n^Navigate ^W...   \n",
       "\n",
       "                    author             flair  \\\n",
       "3334             VisualMod              None   \n",
       "311   OPINION_IS_UNPOPULAR  Daily Discussion   \n",
       "950   OPINION_IS_UNPOPULAR  Daily Discussion   \n",
       "\n",
       "                                                                                 permalink  \\\n",
       "3334  /r/wallstreetbets/comments/nxcb5h/daily_popular_tickers_thread_for_june_11_2021_amc/   \n",
       "311            /r/wallstreetbets/comments/nr9r9t/daily_discussion_thread_for_june_03_2021/   \n",
       "950           /r/wallstreetbets/comments/nquubf/what_are_your_moves_tomorrow_june_03_2021/   \n",
       "\n",
       "      post_length  num_comments  sum_comments_length  avg_comment_length  \\\n",
       "3334         1782          9492               670418           70.629794   \n",
       "311          2359         56245              3356092           59.669162   \n",
       "950          2357         35642              2113514           59.298412   \n",
       "\n",
       "      num_rockets  num_diamonds  nunique_commenters  \\\n",
       "3334         3163          1167                2523   \n",
       "311          6961           830               10522   \n",
       "950          4250           706                8936   \n",
       "\n",
       "                      @meta.timestamp  \n",
       "3334 2021-07-13 14:27:30.164000+00:00  \n",
       "311  2021-07-13 14:27:25.308000+00:00  \n",
       "950  2021-07-13 14:27:25.313000+00:00  "
      ]
     },
     "execution_count": 38,
     "metadata": {},
     "output_type": "execute_result"
    }
   ],
   "source": [
    "posts.sort_values('num_diamonds', ascending=False).head(3)"
   ]
  },
  {
   "cell_type": "markdown",
   "id": "52376129",
   "metadata": {},
   "source": [
    "## Authors"
   ]
  },
  {
   "cell_type": "code",
   "execution_count": 54,
   "id": "fae6b807",
   "metadata": {},
   "outputs": [],
   "source": [
    "authors = await beneath.query_warehouse(\"\"\"\n",
    "with\n",
    "    posts_enhanced as (\n",
    "        select *,\n",
    "            array_length(split(title, \" \")) as num_words_title,\n",
    "            array_length(split(text, \" \")) as num_words_body,\n",
    "            array_length(regexp_extract_all(title, r\"\\\\x{1F680}\")) as num_rockets_title,\n",
    "            array_length(regexp_extract_all(text, r\"\\\\x{1F680}\")) as num_rockets_body,\n",
    "            array_length(regexp_extract_all(title, r\"\\\\x{1F48E}\")) as num_diamonds_title,\n",
    "            array_length(regexp_extract_all(text, r\"\\\\x{1F48E}\")) as num_diamonds_body\n",
    "        from `examples/reddit/r-wallstreetbets-posts`\n",
    "        where timestamp_trunc(created_on, month) = \"2021-06-01\"\n",
    "    ),\n",
    "    comments_enhanced as (\n",
    "        select *,\n",
    "            array_length(split(text, \" \")) as num_words,\n",
    "            array_length(regexp_extract_all(text, r\"\\\\x{1F680}\")) as num_rockets,\n",
    "            array_length(regexp_extract_all(text, r\"\\\\x{1F48E}\")) as num_diamonds\n",
    "        from `examples/reddit/r-wallstreetbets-comments`\n",
    "        where timestamp_trunc(created_on, month) = \"2021-06-01\"\n",
    "    ),\n",
    "    author_posts_stats as (\n",
    "        select \n",
    "            author, \n",
    "            count(*) as num_posts,\n",
    "            sum(num_words_title) + sum(num_words_body) as num_words,\n",
    "            sum(num_rockets_title) + sum(num_rockets_body) as num_rockets,\n",
    "            sum(num_diamonds_title) + sum(num_diamonds_body) as num_diamonds,\n",
    "        from posts_enhanced\n",
    "        group by author\n",
    "    ),\n",
    "    author_comments_stats as (\n",
    "        select\n",
    "            author,\n",
    "            count(*) as num_comments,\n",
    "            sum(num_words) as num_words,\n",
    "            sum(num_rockets) as num_rockets,\n",
    "            sum(num_diamonds) as num_diamonds\n",
    "        from comments_enhanced\n",
    "        group by author\n",
    "    )\n",
    "select \n",
    "    coalesce(p.author, c.author) as author,\n",
    "    ifnull(p.num_posts, 0) as num_posts,\n",
    "    ifnull(c.num_comments, 0) as num_comments,\n",
    "    ifnull(p.num_words, 0) + ifnull(c.num_words, 0) as num_words,\n",
    "    ifnull(p.num_rockets, 0) + ifnull(c.num_rockets, 0) as num_rockets,\n",
    "    ifnull(p.num_diamonds, 0) + ifnull(c.num_diamonds, 0) as num_diamonds,\n",
    "from author_posts_stats p\n",
    "full join author_comments_stats c on p.author = c.author\n",
    "\"\"\")"
   ]
  },
  {
   "cell_type": "code",
   "execution_count": 72,
   "id": "91a31d7c",
   "metadata": {},
   "outputs": [],
   "source": [
    "authors_no_mods = authors.loc[[author not in MODERATORS for author in authors['author']]]"
   ]
  },
  {
   "cell_type": "markdown",
   "id": "3e468cf1",
   "metadata": {},
   "source": [
    "Author with the most posts"
   ]
  },
  {
   "cell_type": "code",
   "execution_count": 73,
   "id": "f0ed0584",
   "metadata": {},
   "outputs": [
    {
     "data": {
      "text/html": [
       "<div>\n",
       "<style scoped>\n",
       "    .dataframe tbody tr th:only-of-type {\n",
       "        vertical-align: middle;\n",
       "    }\n",
       "\n",
       "    .dataframe tbody tr th {\n",
       "        vertical-align: top;\n",
       "    }\n",
       "\n",
       "    .dataframe thead th {\n",
       "        text-align: right;\n",
       "    }\n",
       "</style>\n",
       "<table border=\"1\" class=\"dataframe\">\n",
       "  <thead>\n",
       "    <tr style=\"text-align: right;\">\n",
       "      <th></th>\n",
       "      <th>author</th>\n",
       "      <th>num_posts</th>\n",
       "      <th>num_comments</th>\n",
       "      <th>num_words</th>\n",
       "      <th>num_rockets</th>\n",
       "      <th>num_diamonds</th>\n",
       "      <th>@meta.timestamp</th>\n",
       "    </tr>\n",
       "  </thead>\n",
       "  <tbody>\n",
       "    <tr>\n",
       "      <th>15518</th>\n",
       "      <td>BackgroundProgram389</td>\n",
       "      <td>45</td>\n",
       "      <td>323</td>\n",
       "      <td>2280</td>\n",
       "      <td>0</td>\n",
       "      <td>0</td>\n",
       "      <td>2021-07-14 10:15:56.625000+00:00</td>\n",
       "    </tr>\n",
       "    <tr>\n",
       "      <th>7314</th>\n",
       "      <td>DerekZ1985</td>\n",
       "      <td>37</td>\n",
       "      <td>393</td>\n",
       "      <td>6352</td>\n",
       "      <td>0</td>\n",
       "      <td>0</td>\n",
       "      <td>2021-07-14 10:15:53.283000+00:00</td>\n",
       "    </tr>\n",
       "    <tr>\n",
       "      <th>3098</th>\n",
       "      <td>Z3r0Confidence</td>\n",
       "      <td>37</td>\n",
       "      <td>276</td>\n",
       "      <td>12328</td>\n",
       "      <td>49</td>\n",
       "      <td>0</td>\n",
       "      <td>2021-07-14 10:15:50.287000+00:00</td>\n",
       "    </tr>\n",
       "  </tbody>\n",
       "</table>\n",
       "</div>"
      ],
      "text/plain": [
       "                     author  num_posts  num_comments  num_words  num_rockets  \\\n",
       "15518  BackgroundProgram389         45           323       2280            0   \n",
       "7314             DerekZ1985         37           393       6352            0   \n",
       "3098         Z3r0Confidence         37           276      12328           49   \n",
       "\n",
       "       num_diamonds                  @meta.timestamp  \n",
       "15518             0 2021-07-14 10:15:56.625000+00:00  \n",
       "7314              0 2021-07-14 10:15:53.283000+00:00  \n",
       "3098              0 2021-07-14 10:15:50.287000+00:00  "
      ]
     },
     "execution_count": 73,
     "metadata": {},
     "output_type": "execute_result"
    }
   ],
   "source": [
    "authors_no_mods.sort_values('num_posts', ascending=False).head(3)"
   ]
  },
  {
   "cell_type": "markdown",
   "id": "76dcd07c",
   "metadata": {},
   "source": [
    "Author with the most comments"
   ]
  },
  {
   "cell_type": "code",
   "execution_count": 74,
   "id": "44812962",
   "metadata": {},
   "outputs": [
    {
     "data": {
      "text/html": [
       "<div>\n",
       "<style scoped>\n",
       "    .dataframe tbody tr th:only-of-type {\n",
       "        vertical-align: middle;\n",
       "    }\n",
       "\n",
       "    .dataframe tbody tr th {\n",
       "        vertical-align: top;\n",
       "    }\n",
       "\n",
       "    .dataframe thead th {\n",
       "        text-align: right;\n",
       "    }\n",
       "</style>\n",
       "<table border=\"1\" class=\"dataframe\">\n",
       "  <thead>\n",
       "    <tr style=\"text-align: right;\">\n",
       "      <th></th>\n",
       "      <th>author</th>\n",
       "      <th>num_posts</th>\n",
       "      <th>num_comments</th>\n",
       "      <th>num_words</th>\n",
       "      <th>num_rockets</th>\n",
       "      <th>num_diamonds</th>\n",
       "      <th>@meta.timestamp</th>\n",
       "    </tr>\n",
       "  </thead>\n",
       "  <tbody>\n",
       "    <tr>\n",
       "      <th>1607</th>\n",
       "      <td>MoonArmy1977</td>\n",
       "      <td>0</td>\n",
       "      <td>3458</td>\n",
       "      <td>43605</td>\n",
       "      <td>25</td>\n",
       "      <td>32</td>\n",
       "      <td>2021-07-14 10:15:48.965000+00:00</td>\n",
       "    </tr>\n",
       "    <tr>\n",
       "      <th>5051</th>\n",
       "      <td>Dinosaur_Eats_Pizza</td>\n",
       "      <td>1</td>\n",
       "      <td>3034</td>\n",
       "      <td>34533</td>\n",
       "      <td>82</td>\n",
       "      <td>0</td>\n",
       "      <td>2021-07-14 10:15:52.077000+00:00</td>\n",
       "    </tr>\n",
       "    <tr>\n",
       "      <th>13272</th>\n",
       "      <td>toydan</td>\n",
       "      <td>1</td>\n",
       "      <td>2811</td>\n",
       "      <td>45763</td>\n",
       "      <td>0</td>\n",
       "      <td>0</td>\n",
       "      <td>2021-07-14 10:15:55.755000+00:00</td>\n",
       "    </tr>\n",
       "  </tbody>\n",
       "</table>\n",
       "</div>"
      ],
      "text/plain": [
       "                    author  num_posts  num_comments  num_words  num_rockets  \\\n",
       "1607          MoonArmy1977          0          3458      43605           25   \n",
       "5051   Dinosaur_Eats_Pizza          1          3034      34533           82   \n",
       "13272               toydan          1          2811      45763            0   \n",
       "\n",
       "       num_diamonds                  @meta.timestamp  \n",
       "1607             32 2021-07-14 10:15:48.965000+00:00  \n",
       "5051              0 2021-07-14 10:15:52.077000+00:00  \n",
       "13272             0 2021-07-14 10:15:55.755000+00:00  "
      ]
     },
     "execution_count": 74,
     "metadata": {},
     "output_type": "execute_result"
    }
   ],
   "source": [
    "authors_no_mods.sort_values('num_comments', ascending=False).head(3)"
   ]
  },
  {
   "cell_type": "markdown",
   "id": "0c571d48",
   "metadata": {},
   "source": [
    "Author who wrote the most words"
   ]
  },
  {
   "cell_type": "code",
   "execution_count": 75,
   "id": "386a641c",
   "metadata": {},
   "outputs": [
    {
     "data": {
      "text/html": [
       "<div>\n",
       "<style scoped>\n",
       "    .dataframe tbody tr th:only-of-type {\n",
       "        vertical-align: middle;\n",
       "    }\n",
       "\n",
       "    .dataframe tbody tr th {\n",
       "        vertical-align: top;\n",
       "    }\n",
       "\n",
       "    .dataframe thead th {\n",
       "        text-align: right;\n",
       "    }\n",
       "</style>\n",
       "<table border=\"1\" class=\"dataframe\">\n",
       "  <thead>\n",
       "    <tr style=\"text-align: right;\">\n",
       "      <th></th>\n",
       "      <th>author</th>\n",
       "      <th>num_posts</th>\n",
       "      <th>num_comments</th>\n",
       "      <th>num_words</th>\n",
       "      <th>num_rockets</th>\n",
       "      <th>num_diamonds</th>\n",
       "      <th>@meta.timestamp</th>\n",
       "    </tr>\n",
       "  </thead>\n",
       "  <tbody>\n",
       "    <tr>\n",
       "      <th>13272</th>\n",
       "      <td>toydan</td>\n",
       "      <td>1</td>\n",
       "      <td>2811</td>\n",
       "      <td>45763</td>\n",
       "      <td>0</td>\n",
       "      <td>0</td>\n",
       "      <td>2021-07-14 10:15:55.755000+00:00</td>\n",
       "    </tr>\n",
       "    <tr>\n",
       "      <th>1607</th>\n",
       "      <td>MoonArmy1977</td>\n",
       "      <td>0</td>\n",
       "      <td>3458</td>\n",
       "      <td>43605</td>\n",
       "      <td>25</td>\n",
       "      <td>32</td>\n",
       "      <td>2021-07-14 10:15:48.965000+00:00</td>\n",
       "    </tr>\n",
       "    <tr>\n",
       "      <th>5051</th>\n",
       "      <td>Dinosaur_Eats_Pizza</td>\n",
       "      <td>1</td>\n",
       "      <td>3034</td>\n",
       "      <td>34533</td>\n",
       "      <td>82</td>\n",
       "      <td>0</td>\n",
       "      <td>2021-07-14 10:15:52.077000+00:00</td>\n",
       "    </tr>\n",
       "  </tbody>\n",
       "</table>\n",
       "</div>"
      ],
      "text/plain": [
       "                    author  num_posts  num_comments  num_words  num_rockets  \\\n",
       "13272               toydan          1          2811      45763            0   \n",
       "1607          MoonArmy1977          0          3458      43605           25   \n",
       "5051   Dinosaur_Eats_Pizza          1          3034      34533           82   \n",
       "\n",
       "       num_diamonds                  @meta.timestamp  \n",
       "13272             0 2021-07-14 10:15:55.755000+00:00  \n",
       "1607             32 2021-07-14 10:15:48.965000+00:00  \n",
       "5051              0 2021-07-14 10:15:52.077000+00:00  "
      ]
     },
     "execution_count": 75,
     "metadata": {},
     "output_type": "execute_result"
    }
   ],
   "source": [
    "authors_no_mods.sort_values('num_words', ascending=False).head(3)"
   ]
  },
  {
   "cell_type": "markdown",
   "id": "bfec795d",
   "metadata": {},
   "source": [
    "Author who posted the most rockets"
   ]
  },
  {
   "cell_type": "code",
   "execution_count": 76,
   "id": "1ca8f826",
   "metadata": {},
   "outputs": [
    {
     "data": {
      "text/html": [
       "<div>\n",
       "<style scoped>\n",
       "    .dataframe tbody tr th:only-of-type {\n",
       "        vertical-align: middle;\n",
       "    }\n",
       "\n",
       "    .dataframe tbody tr th {\n",
       "        vertical-align: top;\n",
       "    }\n",
       "\n",
       "    .dataframe thead th {\n",
       "        text-align: right;\n",
       "    }\n",
       "</style>\n",
       "<table border=\"1\" class=\"dataframe\">\n",
       "  <thead>\n",
       "    <tr style=\"text-align: right;\">\n",
       "      <th></th>\n",
       "      <th>author</th>\n",
       "      <th>num_posts</th>\n",
       "      <th>num_comments</th>\n",
       "      <th>num_words</th>\n",
       "      <th>num_rockets</th>\n",
       "      <th>num_diamonds</th>\n",
       "      <th>@meta.timestamp</th>\n",
       "    </tr>\n",
       "  </thead>\n",
       "  <tbody>\n",
       "    <tr>\n",
       "      <th>6907</th>\n",
       "      <td>mateace</td>\n",
       "      <td>0</td>\n",
       "      <td>27</td>\n",
       "      <td>295</td>\n",
       "      <td>2717</td>\n",
       "      <td>0</td>\n",
       "      <td>2021-07-14 10:15:52.885000+00:00</td>\n",
       "    </tr>\n",
       "    <tr>\n",
       "      <th>11097</th>\n",
       "      <td>unipaulie</td>\n",
       "      <td>2</td>\n",
       "      <td>377</td>\n",
       "      <td>3032</td>\n",
       "      <td>1760</td>\n",
       "      <td>23</td>\n",
       "      <td>2021-07-14 10:15:54.937000+00:00</td>\n",
       "    </tr>\n",
       "    <tr>\n",
       "      <th>4766</th>\n",
       "      <td>LordTender</td>\n",
       "      <td>0</td>\n",
       "      <td>372</td>\n",
       "      <td>2931</td>\n",
       "      <td>1039</td>\n",
       "      <td>0</td>\n",
       "      <td>2021-07-14 10:15:51.527000+00:00</td>\n",
       "    </tr>\n",
       "  </tbody>\n",
       "</table>\n",
       "</div>"
      ],
      "text/plain": [
       "           author  num_posts  num_comments  num_words  num_rockets  \\\n",
       "6907      mateace          0            27        295         2717   \n",
       "11097   unipaulie          2           377       3032         1760   \n",
       "4766   LordTender          0           372       2931         1039   \n",
       "\n",
       "       num_diamonds                  @meta.timestamp  \n",
       "6907              0 2021-07-14 10:15:52.885000+00:00  \n",
       "11097            23 2021-07-14 10:15:54.937000+00:00  \n",
       "4766              0 2021-07-14 10:15:51.527000+00:00  "
      ]
     },
     "execution_count": 76,
     "metadata": {},
     "output_type": "execute_result"
    }
   ],
   "source": [
    "authors_no_mods.sort_values('num_rockets', ascending=False).head(3)"
   ]
  },
  {
   "cell_type": "markdown",
   "id": "189a0b23",
   "metadata": {},
   "source": [
    "Author who posted the most diamonds"
   ]
  },
  {
   "cell_type": "code",
   "execution_count": 77,
   "id": "de9c37cc",
   "metadata": {},
   "outputs": [
    {
     "data": {
      "text/html": [
       "<div>\n",
       "<style scoped>\n",
       "    .dataframe tbody tr th:only-of-type {\n",
       "        vertical-align: middle;\n",
       "    }\n",
       "\n",
       "    .dataframe tbody tr th {\n",
       "        vertical-align: top;\n",
       "    }\n",
       "\n",
       "    .dataframe thead th {\n",
       "        text-align: right;\n",
       "    }\n",
       "</style>\n",
       "<table border=\"1\" class=\"dataframe\">\n",
       "  <thead>\n",
       "    <tr style=\"text-align: right;\">\n",
       "      <th></th>\n",
       "      <th>author</th>\n",
       "      <th>num_posts</th>\n",
       "      <th>num_comments</th>\n",
       "      <th>num_words</th>\n",
       "      <th>num_rockets</th>\n",
       "      <th>num_diamonds</th>\n",
       "      <th>@meta.timestamp</th>\n",
       "    </tr>\n",
       "  </thead>\n",
       "  <tbody>\n",
       "    <tr>\n",
       "      <th>15373</th>\n",
       "      <td>Sc0ttyMinz</td>\n",
       "      <td>1</td>\n",
       "      <td>335</td>\n",
       "      <td>2026</td>\n",
       "      <td>590</td>\n",
       "      <td>710</td>\n",
       "      <td>2021-07-14 10:15:56.624000+00:00</td>\n",
       "    </tr>\n",
       "    <tr>\n",
       "      <th>8323</th>\n",
       "      <td>Tazzer57</td>\n",
       "      <td>0</td>\n",
       "      <td>875</td>\n",
       "      <td>8127</td>\n",
       "      <td>926</td>\n",
       "      <td>385</td>\n",
       "      <td>2021-07-14 10:15:53.750000+00:00</td>\n",
       "    </tr>\n",
       "    <tr>\n",
       "      <th>107348</th>\n",
       "      <td>FriendlyhoodKomrad</td>\n",
       "      <td>3</td>\n",
       "      <td>2</td>\n",
       "      <td>246</td>\n",
       "      <td>0</td>\n",
       "      <td>330</td>\n",
       "      <td>2021-07-14 10:16:33.776000+00:00</td>\n",
       "    </tr>\n",
       "  </tbody>\n",
       "</table>\n",
       "</div>"
      ],
      "text/plain": [
       "                    author  num_posts  num_comments  num_words  num_rockets  \\\n",
       "15373           Sc0ttyMinz          1           335       2026          590   \n",
       "8323              Tazzer57          0           875       8127          926   \n",
       "107348  FriendlyhoodKomrad          3             2        246            0   \n",
       "\n",
       "        num_diamonds                  @meta.timestamp  \n",
       "15373            710 2021-07-14 10:15:56.624000+00:00  \n",
       "8323             385 2021-07-14 10:15:53.750000+00:00  \n",
       "107348           330 2021-07-14 10:16:33.776000+00:00  "
      ]
     },
     "execution_count": 77,
     "metadata": {},
     "output_type": "execute_result"
    }
   ],
   "source": [
    "authors_no_mods.sort_values('num_diamonds', ascending=False).head(3)"
   ]
  },
  {
   "cell_type": "markdown",
   "id": "c6987555",
   "metadata": {},
   "source": [
    "Author that spurred the most discussion"
   ]
  },
  {
   "cell_type": "code",
   "execution_count": 90,
   "id": "9d16bbbc",
   "metadata": {},
   "outputs": [
    {
     "data": {
      "text/html": [
       "<div>\n",
       "<style scoped>\n",
       "    .dataframe tbody tr th:only-of-type {\n",
       "        vertical-align: middle;\n",
       "    }\n",
       "\n",
       "    .dataframe tbody tr th {\n",
       "        vertical-align: top;\n",
       "    }\n",
       "\n",
       "    .dataframe thead th {\n",
       "        text-align: right;\n",
       "    }\n",
       "</style>\n",
       "<table border=\"1\" class=\"dataframe\">\n",
       "  <thead>\n",
       "    <tr style=\"text-align: right;\">\n",
       "      <th></th>\n",
       "      <th>author</th>\n",
       "      <th>num_comments_on_posts</th>\n",
       "    </tr>\n",
       "  </thead>\n",
       "  <tbody>\n",
       "    <tr>\n",
       "      <th>17874</th>\n",
       "      <td>pittluke</td>\n",
       "      <td>8297</td>\n",
       "    </tr>\n",
       "    <tr>\n",
       "      <th>19883</th>\n",
       "      <td>yolocallking</td>\n",
       "      <td>5311</td>\n",
       "    </tr>\n",
       "    <tr>\n",
       "      <th>13198</th>\n",
       "      <td>Your_Boy_Roy_</td>\n",
       "      <td>4566</td>\n",
       "    </tr>\n",
       "  </tbody>\n",
       "</table>\n",
       "</div>"
      ],
      "text/plain": [
       "              author  num_comments_on_posts\n",
       "17874       pittluke                   8297\n",
       "19883   yolocallking                   5311\n",
       "13198  Your_Boy_Roy_                   4566"
      ]
     },
     "execution_count": 90,
     "metadata": {},
     "output_type": "execute_result"
    }
   ],
   "source": [
    "posts.loc[[author not in MODERATORS for author in posts['author']]] \\\n",
    "    .groupby('author')['num_comments'] \\\n",
    "    .sum() \\\n",
    "    .reset_index() \\\n",
    "    .sort_values('num_comments', ascending=False) \\\n",
    "    .rename(columns={'num_comments': 'num_comments_on_posts'}) \\\n",
    "    .head(3)"
   ]
  },
  {
   "cell_type": "markdown",
   "id": "611bc89d",
   "metadata": {},
   "source": [
    "## Stock mentions"
   ]
  },
  {
   "cell_type": "code",
   "execution_count": 109,
   "id": "2e96049b",
   "metadata": {},
   "outputs": [],
   "source": [
    "mentions = await beneath.query_warehouse(\"\"\"\n",
    "with\n",
    "    stock_mentions_posts as (\n",
    "        select \n",
    "            symbol, \n",
    "            timestamp_trunc(timestamp, day) as day, \n",
    "            count(*) as num_mentions\n",
    "        from `examples/wallstreetbets-analytics/r-wallstreetbets-posts-stock-mentions`\n",
    "        where timestamp_trunc(timestamp, month) = \"2021-06-01\"\n",
    "        group by symbol, timestamp_trunc(timestamp, day)\n",
    "    ),\n",
    "    stock_mentions_comments as (\n",
    "        select \n",
    "            symbol, \n",
    "            timestamp_trunc(timestamp, day) as day, \n",
    "            count(*) as num_mentions\n",
    "        from `examples/wallstreetbets-analytics/r-wallstreetbets-comments-stock-mentions`\n",
    "        where timestamp_trunc(timestamp, month) = \"2021-06-01\"\n",
    "        group by symbol, timestamp_trunc(timestamp, day)\n",
    "    )\n",
    "select \n",
    "    coalesce(p.symbol, c.symbol) as symbol,\n",
    "    coalesce(p.day, c.day) as day,\n",
    "    ifnull(p.num_mentions, 0) + ifnull(c.num_mentions,0) as num_mentions\n",
    "from stock_mentions_posts p\n",
    "full join stock_mentions_comments c on p.symbol = c.symbol and p.day = c.day\n",
    "order by symbol, day\n",
    "\"\"\")"
   ]
  },
  {
   "cell_type": "code",
   "execution_count": 110,
   "id": "6567765a",
   "metadata": {},
   "outputs": [],
   "source": [
    "mentions = mentions[~mentions['symbol'].isin(BLACKLIST)]"
   ]
  },
  {
   "cell_type": "code",
   "execution_count": 111,
   "id": "717e1cfe",
   "metadata": {},
   "outputs": [],
   "source": [
    "top_symbols_df = mentions \\\n",
    "    .groupby('symbol')['num_mentions'] \\\n",
    "    .sum() \\\n",
    "    .reset_index() \\\n",
    "    .sort_values('num_mentions', ascending=False)\n",
    "top_symbols = top_symbols_df['symbol'][:100]"
   ]
  },
  {
   "cell_type": "code",
   "execution_count": 112,
   "id": "b2aa0c48",
   "metadata": {},
   "outputs": [
    {
     "data": {
      "application/vnd.plotly.v1+json": {
       "config": {
        "plotlyServerURL": "https://plot.ly"
       },
       "data": [
        {
         "alignmentgroup": "True",
         "hovertemplate": "Symbol=%{y}<br>Mentions=%{text}<extra></extra>",
         "legendgroup": "BB",
         "marker": {
          "color": "#636efa",
          "pattern": {
           "shape": ""
          }
         },
         "name": "BB",
         "offsetgroup": "BB",
         "orientation": "h",
         "showlegend": true,
         "text": [
          "77375"
         ],
         "textposition": "auto",
         "type": "bar",
         "x": [
          77375
         ],
         "xaxis": "x",
         "y": [
          "BB"
         ],
         "yaxis": "y"
        },
        {
         "alignmentgroup": "True",
         "hovertemplate": "Symbol=%{y}<br>Mentions=%{text}<extra></extra>",
         "legendgroup": "AMC",
         "marker": {
          "color": "#EF553B",
          "pattern": {
           "shape": ""
          }
         },
         "name": "AMC",
         "offsetgroup": "AMC",
         "orientation": "h",
         "showlegend": true,
         "text": [
          "74149"
         ],
         "textposition": "auto",
         "type": "bar",
         "x": [
          74149
         ],
         "xaxis": "x",
         "y": [
          "AMC"
         ],
         "yaxis": "y"
        },
        {
         "alignmentgroup": "True",
         "hovertemplate": "Symbol=%{y}<br>Mentions=%{text}<extra></extra>",
         "legendgroup": "GME",
         "marker": {
          "color": "#00cc96",
          "pattern": {
           "shape": ""
          }
         },
         "name": "GME",
         "offsetgroup": "GME",
         "orientation": "h",
         "showlegend": true,
         "text": [
          "41550"
         ],
         "textposition": "auto",
         "type": "bar",
         "x": [
          41550
         ],
         "xaxis": "x",
         "y": [
          "GME"
         ],
         "yaxis": "y"
        },
        {
         "alignmentgroup": "True",
         "hovertemplate": "Symbol=%{y}<br>Mentions=%{text}<extra></extra>",
         "legendgroup": "CLOV",
         "marker": {
          "color": "#ab63fa",
          "pattern": {
           "shape": ""
          }
         },
         "name": "CLOV",
         "offsetgroup": "CLOV",
         "orientation": "h",
         "showlegend": true,
         "text": [
          "41188"
         ],
         "textposition": "auto",
         "type": "bar",
         "x": [
          41188
         ],
         "xaxis": "x",
         "y": [
          "CLOV"
         ],
         "yaxis": "y"
        },
        {
         "alignmentgroup": "True",
         "hovertemplate": "Symbol=%{y}<br>Mentions=%{text}<extra></extra>",
         "legendgroup": "CLNE",
         "marker": {
          "color": "#FFA15A",
          "pattern": {
           "shape": ""
          }
         },
         "name": "CLNE",
         "offsetgroup": "CLNE",
         "orientation": "h",
         "showlegend": true,
         "text": [
          "35998"
         ],
         "textposition": "auto",
         "type": "bar",
         "x": [
          35998
         ],
         "xaxis": "x",
         "y": [
          "CLNE"
         ],
         "yaxis": "y"
        },
        {
         "alignmentgroup": "True",
         "hovertemplate": "Symbol=%{y}<br>Mentions=%{text}<extra></extra>",
         "legendgroup": "WISH",
         "marker": {
          "color": "#19d3f3",
          "pattern": {
           "shape": ""
          }
         },
         "name": "WISH",
         "offsetgroup": "WISH",
         "orientation": "h",
         "showlegend": true,
         "text": [
          "35399"
         ],
         "textposition": "auto",
         "type": "bar",
         "x": [
          35399
         ],
         "xaxis": "x",
         "y": [
          "WISH"
         ],
         "yaxis": "y"
        },
        {
         "alignmentgroup": "True",
         "hovertemplate": "Symbol=%{y}<br>Mentions=%{text}<extra></extra>",
         "legendgroup": "WKHS",
         "marker": {
          "color": "#FF6692",
          "pattern": {
           "shape": ""
          }
         },
         "name": "WKHS",
         "offsetgroup": "WKHS",
         "orientation": "h",
         "showlegend": true,
         "text": [
          "19486"
         ],
         "textposition": "auto",
         "type": "bar",
         "x": [
          19486
         ],
         "xaxis": "x",
         "y": [
          "WKHS"
         ],
         "yaxis": "y"
        },
        {
         "alignmentgroup": "True",
         "hovertemplate": "Symbol=%{y}<br>Mentions=%{text}<extra></extra>",
         "legendgroup": "CLF",
         "marker": {
          "color": "#B6E880",
          "pattern": {
           "shape": ""
          }
         },
         "name": "CLF",
         "offsetgroup": "CLF",
         "orientation": "h",
         "showlegend": true,
         "text": [
          "11627"
         ],
         "textposition": "auto",
         "type": "bar",
         "x": [
          11627
         ],
         "xaxis": "x",
         "y": [
          "CLF"
         ],
         "yaxis": "y"
        },
        {
         "alignmentgroup": "True",
         "hovertemplate": "Symbol=%{y}<br>Mentions=%{text}<extra></extra>",
         "legendgroup": "TLRY",
         "marker": {
          "color": "#FF97FF",
          "pattern": {
           "shape": ""
          }
         },
         "name": "TLRY",
         "offsetgroup": "TLRY",
         "orientation": "h",
         "showlegend": true,
         "text": [
          "10823"
         ],
         "textposition": "auto",
         "type": "bar",
         "x": [
          10823
         ],
         "xaxis": "x",
         "y": [
          "TLRY"
         ],
         "yaxis": "y"
        },
        {
         "alignmentgroup": "True",
         "hovertemplate": "Symbol=%{y}<br>Mentions=%{text}<extra></extra>",
         "legendgroup": "UWMC",
         "marker": {
          "color": "#FECB52",
          "pattern": {
           "shape": ""
          }
         },
         "name": "UWMC",
         "offsetgroup": "UWMC",
         "orientation": "h",
         "showlegend": true,
         "text": [
          "9223"
         ],
         "textposition": "auto",
         "type": "bar",
         "x": [
          9223
         ],
         "xaxis": "x",
         "y": [
          "UWMC"
         ],
         "yaxis": "y"
        }
       ],
       "layout": {
        "barmode": "relative",
        "legend": {
         "title": {
          "text": "Symbol"
         },
         "tracegroupgap": 0
        },
        "showlegend": false,
        "template": {
         "data": {
          "bar": [
           {
            "error_x": {
             "color": "#2a3f5f"
            },
            "error_y": {
             "color": "#2a3f5f"
            },
            "marker": {
             "line": {
              "color": "#E5ECF6",
              "width": 0.5
             },
             "pattern": {
              "fillmode": "overlay",
              "size": 10,
              "solidity": 0.2
             }
            },
            "type": "bar"
           }
          ],
          "barpolar": [
           {
            "marker": {
             "line": {
              "color": "#E5ECF6",
              "width": 0.5
             },
             "pattern": {
              "fillmode": "overlay",
              "size": 10,
              "solidity": 0.2
             }
            },
            "type": "barpolar"
           }
          ],
          "carpet": [
           {
            "aaxis": {
             "endlinecolor": "#2a3f5f",
             "gridcolor": "white",
             "linecolor": "white",
             "minorgridcolor": "white",
             "startlinecolor": "#2a3f5f"
            },
            "baxis": {
             "endlinecolor": "#2a3f5f",
             "gridcolor": "white",
             "linecolor": "white",
             "minorgridcolor": "white",
             "startlinecolor": "#2a3f5f"
            },
            "type": "carpet"
           }
          ],
          "choropleth": [
           {
            "colorbar": {
             "outlinewidth": 0,
             "ticks": ""
            },
            "type": "choropleth"
           }
          ],
          "contour": [
           {
            "colorbar": {
             "outlinewidth": 0,
             "ticks": ""
            },
            "colorscale": [
             [
              0,
              "#0d0887"
             ],
             [
              0.1111111111111111,
              "#46039f"
             ],
             [
              0.2222222222222222,
              "#7201a8"
             ],
             [
              0.3333333333333333,
              "#9c179e"
             ],
             [
              0.4444444444444444,
              "#bd3786"
             ],
             [
              0.5555555555555556,
              "#d8576b"
             ],
             [
              0.6666666666666666,
              "#ed7953"
             ],
             [
              0.7777777777777778,
              "#fb9f3a"
             ],
             [
              0.8888888888888888,
              "#fdca26"
             ],
             [
              1,
              "#f0f921"
             ]
            ],
            "type": "contour"
           }
          ],
          "contourcarpet": [
           {
            "colorbar": {
             "outlinewidth": 0,
             "ticks": ""
            },
            "type": "contourcarpet"
           }
          ],
          "heatmap": [
           {
            "colorbar": {
             "outlinewidth": 0,
             "ticks": ""
            },
            "colorscale": [
             [
              0,
              "#0d0887"
             ],
             [
              0.1111111111111111,
              "#46039f"
             ],
             [
              0.2222222222222222,
              "#7201a8"
             ],
             [
              0.3333333333333333,
              "#9c179e"
             ],
             [
              0.4444444444444444,
              "#bd3786"
             ],
             [
              0.5555555555555556,
              "#d8576b"
             ],
             [
              0.6666666666666666,
              "#ed7953"
             ],
             [
              0.7777777777777778,
              "#fb9f3a"
             ],
             [
              0.8888888888888888,
              "#fdca26"
             ],
             [
              1,
              "#f0f921"
             ]
            ],
            "type": "heatmap"
           }
          ],
          "heatmapgl": [
           {
            "colorbar": {
             "outlinewidth": 0,
             "ticks": ""
            },
            "colorscale": [
             [
              0,
              "#0d0887"
             ],
             [
              0.1111111111111111,
              "#46039f"
             ],
             [
              0.2222222222222222,
              "#7201a8"
             ],
             [
              0.3333333333333333,
              "#9c179e"
             ],
             [
              0.4444444444444444,
              "#bd3786"
             ],
             [
              0.5555555555555556,
              "#d8576b"
             ],
             [
              0.6666666666666666,
              "#ed7953"
             ],
             [
              0.7777777777777778,
              "#fb9f3a"
             ],
             [
              0.8888888888888888,
              "#fdca26"
             ],
             [
              1,
              "#f0f921"
             ]
            ],
            "type": "heatmapgl"
           }
          ],
          "histogram": [
           {
            "marker": {
             "pattern": {
              "fillmode": "overlay",
              "size": 10,
              "solidity": 0.2
             }
            },
            "type": "histogram"
           }
          ],
          "histogram2d": [
           {
            "colorbar": {
             "outlinewidth": 0,
             "ticks": ""
            },
            "colorscale": [
             [
              0,
              "#0d0887"
             ],
             [
              0.1111111111111111,
              "#46039f"
             ],
             [
              0.2222222222222222,
              "#7201a8"
             ],
             [
              0.3333333333333333,
              "#9c179e"
             ],
             [
              0.4444444444444444,
              "#bd3786"
             ],
             [
              0.5555555555555556,
              "#d8576b"
             ],
             [
              0.6666666666666666,
              "#ed7953"
             ],
             [
              0.7777777777777778,
              "#fb9f3a"
             ],
             [
              0.8888888888888888,
              "#fdca26"
             ],
             [
              1,
              "#f0f921"
             ]
            ],
            "type": "histogram2d"
           }
          ],
          "histogram2dcontour": [
           {
            "colorbar": {
             "outlinewidth": 0,
             "ticks": ""
            },
            "colorscale": [
             [
              0,
              "#0d0887"
             ],
             [
              0.1111111111111111,
              "#46039f"
             ],
             [
              0.2222222222222222,
              "#7201a8"
             ],
             [
              0.3333333333333333,
              "#9c179e"
             ],
             [
              0.4444444444444444,
              "#bd3786"
             ],
             [
              0.5555555555555556,
              "#d8576b"
             ],
             [
              0.6666666666666666,
              "#ed7953"
             ],
             [
              0.7777777777777778,
              "#fb9f3a"
             ],
             [
              0.8888888888888888,
              "#fdca26"
             ],
             [
              1,
              "#f0f921"
             ]
            ],
            "type": "histogram2dcontour"
           }
          ],
          "mesh3d": [
           {
            "colorbar": {
             "outlinewidth": 0,
             "ticks": ""
            },
            "type": "mesh3d"
           }
          ],
          "parcoords": [
           {
            "line": {
             "colorbar": {
              "outlinewidth": 0,
              "ticks": ""
             }
            },
            "type": "parcoords"
           }
          ],
          "pie": [
           {
            "automargin": true,
            "type": "pie"
           }
          ],
          "scatter": [
           {
            "marker": {
             "colorbar": {
              "outlinewidth": 0,
              "ticks": ""
             }
            },
            "type": "scatter"
           }
          ],
          "scatter3d": [
           {
            "line": {
             "colorbar": {
              "outlinewidth": 0,
              "ticks": ""
             }
            },
            "marker": {
             "colorbar": {
              "outlinewidth": 0,
              "ticks": ""
             }
            },
            "type": "scatter3d"
           }
          ],
          "scattercarpet": [
           {
            "marker": {
             "colorbar": {
              "outlinewidth": 0,
              "ticks": ""
             }
            },
            "type": "scattercarpet"
           }
          ],
          "scattergeo": [
           {
            "marker": {
             "colorbar": {
              "outlinewidth": 0,
              "ticks": ""
             }
            },
            "type": "scattergeo"
           }
          ],
          "scattergl": [
           {
            "marker": {
             "colorbar": {
              "outlinewidth": 0,
              "ticks": ""
             }
            },
            "type": "scattergl"
           }
          ],
          "scattermapbox": [
           {
            "marker": {
             "colorbar": {
              "outlinewidth": 0,
              "ticks": ""
             }
            },
            "type": "scattermapbox"
           }
          ],
          "scatterpolar": [
           {
            "marker": {
             "colorbar": {
              "outlinewidth": 0,
              "ticks": ""
             }
            },
            "type": "scatterpolar"
           }
          ],
          "scatterpolargl": [
           {
            "marker": {
             "colorbar": {
              "outlinewidth": 0,
              "ticks": ""
             }
            },
            "type": "scatterpolargl"
           }
          ],
          "scatterternary": [
           {
            "marker": {
             "colorbar": {
              "outlinewidth": 0,
              "ticks": ""
             }
            },
            "type": "scatterternary"
           }
          ],
          "surface": [
           {
            "colorbar": {
             "outlinewidth": 0,
             "ticks": ""
            },
            "colorscale": [
             [
              0,
              "#0d0887"
             ],
             [
              0.1111111111111111,
              "#46039f"
             ],
             [
              0.2222222222222222,
              "#7201a8"
             ],
             [
              0.3333333333333333,
              "#9c179e"
             ],
             [
              0.4444444444444444,
              "#bd3786"
             ],
             [
              0.5555555555555556,
              "#d8576b"
             ],
             [
              0.6666666666666666,
              "#ed7953"
             ],
             [
              0.7777777777777778,
              "#fb9f3a"
             ],
             [
              0.8888888888888888,
              "#fdca26"
             ],
             [
              1,
              "#f0f921"
             ]
            ],
            "type": "surface"
           }
          ],
          "table": [
           {
            "cells": {
             "fill": {
              "color": "#EBF0F8"
             },
             "line": {
              "color": "white"
             }
            },
            "header": {
             "fill": {
              "color": "#C8D4E3"
             },
             "line": {
              "color": "white"
             }
            },
            "type": "table"
           }
          ]
         },
         "layout": {
          "annotationdefaults": {
           "arrowcolor": "#2a3f5f",
           "arrowhead": 0,
           "arrowwidth": 1
          },
          "autotypenumbers": "strict",
          "coloraxis": {
           "colorbar": {
            "outlinewidth": 0,
            "ticks": ""
           }
          },
          "colorscale": {
           "diverging": [
            [
             0,
             "#8e0152"
            ],
            [
             0.1,
             "#c51b7d"
            ],
            [
             0.2,
             "#de77ae"
            ],
            [
             0.3,
             "#f1b6da"
            ],
            [
             0.4,
             "#fde0ef"
            ],
            [
             0.5,
             "#f7f7f7"
            ],
            [
             0.6,
             "#e6f5d0"
            ],
            [
             0.7,
             "#b8e186"
            ],
            [
             0.8,
             "#7fbc41"
            ],
            [
             0.9,
             "#4d9221"
            ],
            [
             1,
             "#276419"
            ]
           ],
           "sequential": [
            [
             0,
             "#0d0887"
            ],
            [
             0.1111111111111111,
             "#46039f"
            ],
            [
             0.2222222222222222,
             "#7201a8"
            ],
            [
             0.3333333333333333,
             "#9c179e"
            ],
            [
             0.4444444444444444,
             "#bd3786"
            ],
            [
             0.5555555555555556,
             "#d8576b"
            ],
            [
             0.6666666666666666,
             "#ed7953"
            ],
            [
             0.7777777777777778,
             "#fb9f3a"
            ],
            [
             0.8888888888888888,
             "#fdca26"
            ],
            [
             1,
             "#f0f921"
            ]
           ],
           "sequentialminus": [
            [
             0,
             "#0d0887"
            ],
            [
             0.1111111111111111,
             "#46039f"
            ],
            [
             0.2222222222222222,
             "#7201a8"
            ],
            [
             0.3333333333333333,
             "#9c179e"
            ],
            [
             0.4444444444444444,
             "#bd3786"
            ],
            [
             0.5555555555555556,
             "#d8576b"
            ],
            [
             0.6666666666666666,
             "#ed7953"
            ],
            [
             0.7777777777777778,
             "#fb9f3a"
            ],
            [
             0.8888888888888888,
             "#fdca26"
            ],
            [
             1,
             "#f0f921"
            ]
           ]
          },
          "colorway": [
           "#636efa",
           "#EF553B",
           "#00cc96",
           "#ab63fa",
           "#FFA15A",
           "#19d3f3",
           "#FF6692",
           "#B6E880",
           "#FF97FF",
           "#FECB52"
          ],
          "font": {
           "color": "#2a3f5f"
          },
          "geo": {
           "bgcolor": "white",
           "lakecolor": "white",
           "landcolor": "#E5ECF6",
           "showlakes": true,
           "showland": true,
           "subunitcolor": "white"
          },
          "hoverlabel": {
           "align": "left"
          },
          "hovermode": "closest",
          "mapbox": {
           "style": "light"
          },
          "paper_bgcolor": "white",
          "plot_bgcolor": "#E5ECF6",
          "polar": {
           "angularaxis": {
            "gridcolor": "white",
            "linecolor": "white",
            "ticks": ""
           },
           "bgcolor": "#E5ECF6",
           "radialaxis": {
            "gridcolor": "white",
            "linecolor": "white",
            "ticks": ""
           }
          },
          "scene": {
           "xaxis": {
            "backgroundcolor": "#E5ECF6",
            "gridcolor": "white",
            "gridwidth": 2,
            "linecolor": "white",
            "showbackground": true,
            "ticks": "",
            "zerolinecolor": "white"
           },
           "yaxis": {
            "backgroundcolor": "#E5ECF6",
            "gridcolor": "white",
            "gridwidth": 2,
            "linecolor": "white",
            "showbackground": true,
            "ticks": "",
            "zerolinecolor": "white"
           },
           "zaxis": {
            "backgroundcolor": "#E5ECF6",
            "gridcolor": "white",
            "gridwidth": 2,
            "linecolor": "white",
            "showbackground": true,
            "ticks": "",
            "zerolinecolor": "white"
           }
          },
          "shapedefaults": {
           "line": {
            "color": "#2a3f5f"
           }
          },
          "ternary": {
           "aaxis": {
            "gridcolor": "white",
            "linecolor": "white",
            "ticks": ""
           },
           "baxis": {
            "gridcolor": "white",
            "linecolor": "white",
            "ticks": ""
           },
           "bgcolor": "#E5ECF6",
           "caxis": {
            "gridcolor": "white",
            "linecolor": "white",
            "ticks": ""
           }
          },
          "title": {
           "x": 0.05
          },
          "xaxis": {
           "automargin": true,
           "gridcolor": "white",
           "linecolor": "white",
           "ticks": "",
           "title": {
            "standoff": 15
           },
           "zerolinecolor": "white",
           "zerolinewidth": 2
          },
          "yaxis": {
           "automargin": true,
           "gridcolor": "white",
           "linecolor": "white",
           "ticks": "",
           "title": {
            "standoff": 15
           },
           "zerolinecolor": "white",
           "zerolinewidth": 2
          }
         }
        },
        "title": {
         "text": "Most mentioned symbols in June"
        },
        "xaxis": {
         "anchor": "y",
         "domain": [
          0,
          1
         ],
         "title": {
          "text": "Mentions"
         }
        },
        "yaxis": {
         "anchor": "x",
         "categoryarray": [
          "UWMC",
          "TLRY",
          "CLF",
          "WKHS",
          "WISH",
          "CLNE",
          "CLOV",
          "GME",
          "AMC",
          "BB"
         ],
         "categoryorder": "array",
         "domain": [
          0,
          1
         ],
         "title": {
          "text": "Symbol"
         }
        }
       }
      },
      "text/html": [
       "<div>                            <div id=\"af1aa41a-a26d-40fa-8f62-28174c75acad\" class=\"plotly-graph-div\" style=\"height:525px; width:100%;\"></div>            <script type=\"text/javascript\">                require([\"plotly\"], function(Plotly) {                    window.PLOTLYENV=window.PLOTLYENV || {};                                    if (document.getElementById(\"af1aa41a-a26d-40fa-8f62-28174c75acad\")) {                    Plotly.newPlot(                        \"af1aa41a-a26d-40fa-8f62-28174c75acad\",                        [{\"alignmentgroup\":\"True\",\"hovertemplate\":\"Symbol=%{y}<br>Mentions=%{text}<extra></extra>\",\"legendgroup\":\"BB\",\"marker\":{\"color\":\"#636efa\",\"pattern\":{\"shape\":\"\"}},\"name\":\"BB\",\"offsetgroup\":\"BB\",\"orientation\":\"h\",\"showlegend\":true,\"text\":[\"77375\"],\"textposition\":\"auto\",\"type\":\"bar\",\"x\":[77375],\"xaxis\":\"x\",\"y\":[\"BB\"],\"yaxis\":\"y\"},{\"alignmentgroup\":\"True\",\"hovertemplate\":\"Symbol=%{y}<br>Mentions=%{text}<extra></extra>\",\"legendgroup\":\"AMC\",\"marker\":{\"color\":\"#EF553B\",\"pattern\":{\"shape\":\"\"}},\"name\":\"AMC\",\"offsetgroup\":\"AMC\",\"orientation\":\"h\",\"showlegend\":true,\"text\":[\"74149\"],\"textposition\":\"auto\",\"type\":\"bar\",\"x\":[74149],\"xaxis\":\"x\",\"y\":[\"AMC\"],\"yaxis\":\"y\"},{\"alignmentgroup\":\"True\",\"hovertemplate\":\"Symbol=%{y}<br>Mentions=%{text}<extra></extra>\",\"legendgroup\":\"GME\",\"marker\":{\"color\":\"#00cc96\",\"pattern\":{\"shape\":\"\"}},\"name\":\"GME\",\"offsetgroup\":\"GME\",\"orientation\":\"h\",\"showlegend\":true,\"text\":[\"41550\"],\"textposition\":\"auto\",\"type\":\"bar\",\"x\":[41550],\"xaxis\":\"x\",\"y\":[\"GME\"],\"yaxis\":\"y\"},{\"alignmentgroup\":\"True\",\"hovertemplate\":\"Symbol=%{y}<br>Mentions=%{text}<extra></extra>\",\"legendgroup\":\"CLOV\",\"marker\":{\"color\":\"#ab63fa\",\"pattern\":{\"shape\":\"\"}},\"name\":\"CLOV\",\"offsetgroup\":\"CLOV\",\"orientation\":\"h\",\"showlegend\":true,\"text\":[\"41188\"],\"textposition\":\"auto\",\"type\":\"bar\",\"x\":[41188],\"xaxis\":\"x\",\"y\":[\"CLOV\"],\"yaxis\":\"y\"},{\"alignmentgroup\":\"True\",\"hovertemplate\":\"Symbol=%{y}<br>Mentions=%{text}<extra></extra>\",\"legendgroup\":\"CLNE\",\"marker\":{\"color\":\"#FFA15A\",\"pattern\":{\"shape\":\"\"}},\"name\":\"CLNE\",\"offsetgroup\":\"CLNE\",\"orientation\":\"h\",\"showlegend\":true,\"text\":[\"35998\"],\"textposition\":\"auto\",\"type\":\"bar\",\"x\":[35998],\"xaxis\":\"x\",\"y\":[\"CLNE\"],\"yaxis\":\"y\"},{\"alignmentgroup\":\"True\",\"hovertemplate\":\"Symbol=%{y}<br>Mentions=%{text}<extra></extra>\",\"legendgroup\":\"WISH\",\"marker\":{\"color\":\"#19d3f3\",\"pattern\":{\"shape\":\"\"}},\"name\":\"WISH\",\"offsetgroup\":\"WISH\",\"orientation\":\"h\",\"showlegend\":true,\"text\":[\"35399\"],\"textposition\":\"auto\",\"type\":\"bar\",\"x\":[35399],\"xaxis\":\"x\",\"y\":[\"WISH\"],\"yaxis\":\"y\"},{\"alignmentgroup\":\"True\",\"hovertemplate\":\"Symbol=%{y}<br>Mentions=%{text}<extra></extra>\",\"legendgroup\":\"WKHS\",\"marker\":{\"color\":\"#FF6692\",\"pattern\":{\"shape\":\"\"}},\"name\":\"WKHS\",\"offsetgroup\":\"WKHS\",\"orientation\":\"h\",\"showlegend\":true,\"text\":[\"19486\"],\"textposition\":\"auto\",\"type\":\"bar\",\"x\":[19486],\"xaxis\":\"x\",\"y\":[\"WKHS\"],\"yaxis\":\"y\"},{\"alignmentgroup\":\"True\",\"hovertemplate\":\"Symbol=%{y}<br>Mentions=%{text}<extra></extra>\",\"legendgroup\":\"CLF\",\"marker\":{\"color\":\"#B6E880\",\"pattern\":{\"shape\":\"\"}},\"name\":\"CLF\",\"offsetgroup\":\"CLF\",\"orientation\":\"h\",\"showlegend\":true,\"text\":[\"11627\"],\"textposition\":\"auto\",\"type\":\"bar\",\"x\":[11627],\"xaxis\":\"x\",\"y\":[\"CLF\"],\"yaxis\":\"y\"},{\"alignmentgroup\":\"True\",\"hovertemplate\":\"Symbol=%{y}<br>Mentions=%{text}<extra></extra>\",\"legendgroup\":\"TLRY\",\"marker\":{\"color\":\"#FF97FF\",\"pattern\":{\"shape\":\"\"}},\"name\":\"TLRY\",\"offsetgroup\":\"TLRY\",\"orientation\":\"h\",\"showlegend\":true,\"text\":[\"10823\"],\"textposition\":\"auto\",\"type\":\"bar\",\"x\":[10823],\"xaxis\":\"x\",\"y\":[\"TLRY\"],\"yaxis\":\"y\"},{\"alignmentgroup\":\"True\",\"hovertemplate\":\"Symbol=%{y}<br>Mentions=%{text}<extra></extra>\",\"legendgroup\":\"UWMC\",\"marker\":{\"color\":\"#FECB52\",\"pattern\":{\"shape\":\"\"}},\"name\":\"UWMC\",\"offsetgroup\":\"UWMC\",\"orientation\":\"h\",\"showlegend\":true,\"text\":[\"9223\"],\"textposition\":\"auto\",\"type\":\"bar\",\"x\":[9223],\"xaxis\":\"x\",\"y\":[\"UWMC\"],\"yaxis\":\"y\"}],                        {\"barmode\":\"relative\",\"legend\":{\"title\":{\"text\":\"Symbol\"},\"tracegroupgap\":0},\"showlegend\":false,\"template\":{\"data\":{\"bar\":[{\"error_x\":{\"color\":\"#2a3f5f\"},\"error_y\":{\"color\":\"#2a3f5f\"},\"marker\":{\"line\":{\"color\":\"#E5ECF6\",\"width\":0.5},\"pattern\":{\"fillmode\":\"overlay\",\"size\":10,\"solidity\":0.2}},\"type\":\"bar\"}],\"barpolar\":[{\"marker\":{\"line\":{\"color\":\"#E5ECF6\",\"width\":0.5},\"pattern\":{\"fillmode\":\"overlay\",\"size\":10,\"solidity\":0.2}},\"type\":\"barpolar\"}],\"carpet\":[{\"aaxis\":{\"endlinecolor\":\"#2a3f5f\",\"gridcolor\":\"white\",\"linecolor\":\"white\",\"minorgridcolor\":\"white\",\"startlinecolor\":\"#2a3f5f\"},\"baxis\":{\"endlinecolor\":\"#2a3f5f\",\"gridcolor\":\"white\",\"linecolor\":\"white\",\"minorgridcolor\":\"white\",\"startlinecolor\":\"#2a3f5f\"},\"type\":\"carpet\"}],\"choropleth\":[{\"colorbar\":{\"outlinewidth\":0,\"ticks\":\"\"},\"type\":\"choropleth\"}],\"contour\":[{\"colorbar\":{\"outlinewidth\":0,\"ticks\":\"\"},\"colorscale\":[[0.0,\"#0d0887\"],[0.1111111111111111,\"#46039f\"],[0.2222222222222222,\"#7201a8\"],[0.3333333333333333,\"#9c179e\"],[0.4444444444444444,\"#bd3786\"],[0.5555555555555556,\"#d8576b\"],[0.6666666666666666,\"#ed7953\"],[0.7777777777777778,\"#fb9f3a\"],[0.8888888888888888,\"#fdca26\"],[1.0,\"#f0f921\"]],\"type\":\"contour\"}],\"contourcarpet\":[{\"colorbar\":{\"outlinewidth\":0,\"ticks\":\"\"},\"type\":\"contourcarpet\"}],\"heatmap\":[{\"colorbar\":{\"outlinewidth\":0,\"ticks\":\"\"},\"colorscale\":[[0.0,\"#0d0887\"],[0.1111111111111111,\"#46039f\"],[0.2222222222222222,\"#7201a8\"],[0.3333333333333333,\"#9c179e\"],[0.4444444444444444,\"#bd3786\"],[0.5555555555555556,\"#d8576b\"],[0.6666666666666666,\"#ed7953\"],[0.7777777777777778,\"#fb9f3a\"],[0.8888888888888888,\"#fdca26\"],[1.0,\"#f0f921\"]],\"type\":\"heatmap\"}],\"heatmapgl\":[{\"colorbar\":{\"outlinewidth\":0,\"ticks\":\"\"},\"colorscale\":[[0.0,\"#0d0887\"],[0.1111111111111111,\"#46039f\"],[0.2222222222222222,\"#7201a8\"],[0.3333333333333333,\"#9c179e\"],[0.4444444444444444,\"#bd3786\"],[0.5555555555555556,\"#d8576b\"],[0.6666666666666666,\"#ed7953\"],[0.7777777777777778,\"#fb9f3a\"],[0.8888888888888888,\"#fdca26\"],[1.0,\"#f0f921\"]],\"type\":\"heatmapgl\"}],\"histogram\":[{\"marker\":{\"pattern\":{\"fillmode\":\"overlay\",\"size\":10,\"solidity\":0.2}},\"type\":\"histogram\"}],\"histogram2d\":[{\"colorbar\":{\"outlinewidth\":0,\"ticks\":\"\"},\"colorscale\":[[0.0,\"#0d0887\"],[0.1111111111111111,\"#46039f\"],[0.2222222222222222,\"#7201a8\"],[0.3333333333333333,\"#9c179e\"],[0.4444444444444444,\"#bd3786\"],[0.5555555555555556,\"#d8576b\"],[0.6666666666666666,\"#ed7953\"],[0.7777777777777778,\"#fb9f3a\"],[0.8888888888888888,\"#fdca26\"],[1.0,\"#f0f921\"]],\"type\":\"histogram2d\"}],\"histogram2dcontour\":[{\"colorbar\":{\"outlinewidth\":0,\"ticks\":\"\"},\"colorscale\":[[0.0,\"#0d0887\"],[0.1111111111111111,\"#46039f\"],[0.2222222222222222,\"#7201a8\"],[0.3333333333333333,\"#9c179e\"],[0.4444444444444444,\"#bd3786\"],[0.5555555555555556,\"#d8576b\"],[0.6666666666666666,\"#ed7953\"],[0.7777777777777778,\"#fb9f3a\"],[0.8888888888888888,\"#fdca26\"],[1.0,\"#f0f921\"]],\"type\":\"histogram2dcontour\"}],\"mesh3d\":[{\"colorbar\":{\"outlinewidth\":0,\"ticks\":\"\"},\"type\":\"mesh3d\"}],\"parcoords\":[{\"line\":{\"colorbar\":{\"outlinewidth\":0,\"ticks\":\"\"}},\"type\":\"parcoords\"}],\"pie\":[{\"automargin\":true,\"type\":\"pie\"}],\"scatter\":[{\"marker\":{\"colorbar\":{\"outlinewidth\":0,\"ticks\":\"\"}},\"type\":\"scatter\"}],\"scatter3d\":[{\"line\":{\"colorbar\":{\"outlinewidth\":0,\"ticks\":\"\"}},\"marker\":{\"colorbar\":{\"outlinewidth\":0,\"ticks\":\"\"}},\"type\":\"scatter3d\"}],\"scattercarpet\":[{\"marker\":{\"colorbar\":{\"outlinewidth\":0,\"ticks\":\"\"}},\"type\":\"scattercarpet\"}],\"scattergeo\":[{\"marker\":{\"colorbar\":{\"outlinewidth\":0,\"ticks\":\"\"}},\"type\":\"scattergeo\"}],\"scattergl\":[{\"marker\":{\"colorbar\":{\"outlinewidth\":0,\"ticks\":\"\"}},\"type\":\"scattergl\"}],\"scattermapbox\":[{\"marker\":{\"colorbar\":{\"outlinewidth\":0,\"ticks\":\"\"}},\"type\":\"scattermapbox\"}],\"scatterpolar\":[{\"marker\":{\"colorbar\":{\"outlinewidth\":0,\"ticks\":\"\"}},\"type\":\"scatterpolar\"}],\"scatterpolargl\":[{\"marker\":{\"colorbar\":{\"outlinewidth\":0,\"ticks\":\"\"}},\"type\":\"scatterpolargl\"}],\"scatterternary\":[{\"marker\":{\"colorbar\":{\"outlinewidth\":0,\"ticks\":\"\"}},\"type\":\"scatterternary\"}],\"surface\":[{\"colorbar\":{\"outlinewidth\":0,\"ticks\":\"\"},\"colorscale\":[[0.0,\"#0d0887\"],[0.1111111111111111,\"#46039f\"],[0.2222222222222222,\"#7201a8\"],[0.3333333333333333,\"#9c179e\"],[0.4444444444444444,\"#bd3786\"],[0.5555555555555556,\"#d8576b\"],[0.6666666666666666,\"#ed7953\"],[0.7777777777777778,\"#fb9f3a\"],[0.8888888888888888,\"#fdca26\"],[1.0,\"#f0f921\"]],\"type\":\"surface\"}],\"table\":[{\"cells\":{\"fill\":{\"color\":\"#EBF0F8\"},\"line\":{\"color\":\"white\"}},\"header\":{\"fill\":{\"color\":\"#C8D4E3\"},\"line\":{\"color\":\"white\"}},\"type\":\"table\"}]},\"layout\":{\"annotationdefaults\":{\"arrowcolor\":\"#2a3f5f\",\"arrowhead\":0,\"arrowwidth\":1},\"autotypenumbers\":\"strict\",\"coloraxis\":{\"colorbar\":{\"outlinewidth\":0,\"ticks\":\"\"}},\"colorscale\":{\"diverging\":[[0,\"#8e0152\"],[0.1,\"#c51b7d\"],[0.2,\"#de77ae\"],[0.3,\"#f1b6da\"],[0.4,\"#fde0ef\"],[0.5,\"#f7f7f7\"],[0.6,\"#e6f5d0\"],[0.7,\"#b8e186\"],[0.8,\"#7fbc41\"],[0.9,\"#4d9221\"],[1,\"#276419\"]],\"sequential\":[[0.0,\"#0d0887\"],[0.1111111111111111,\"#46039f\"],[0.2222222222222222,\"#7201a8\"],[0.3333333333333333,\"#9c179e\"],[0.4444444444444444,\"#bd3786\"],[0.5555555555555556,\"#d8576b\"],[0.6666666666666666,\"#ed7953\"],[0.7777777777777778,\"#fb9f3a\"],[0.8888888888888888,\"#fdca26\"],[1.0,\"#f0f921\"]],\"sequentialminus\":[[0.0,\"#0d0887\"],[0.1111111111111111,\"#46039f\"],[0.2222222222222222,\"#7201a8\"],[0.3333333333333333,\"#9c179e\"],[0.4444444444444444,\"#bd3786\"],[0.5555555555555556,\"#d8576b\"],[0.6666666666666666,\"#ed7953\"],[0.7777777777777778,\"#fb9f3a\"],[0.8888888888888888,\"#fdca26\"],[1.0,\"#f0f921\"]]},\"colorway\":[\"#636efa\",\"#EF553B\",\"#00cc96\",\"#ab63fa\",\"#FFA15A\",\"#19d3f3\",\"#FF6692\",\"#B6E880\",\"#FF97FF\",\"#FECB52\"],\"font\":{\"color\":\"#2a3f5f\"},\"geo\":{\"bgcolor\":\"white\",\"lakecolor\":\"white\",\"landcolor\":\"#E5ECF6\",\"showlakes\":true,\"showland\":true,\"subunitcolor\":\"white\"},\"hoverlabel\":{\"align\":\"left\"},\"hovermode\":\"closest\",\"mapbox\":{\"style\":\"light\"},\"paper_bgcolor\":\"white\",\"plot_bgcolor\":\"#E5ECF6\",\"polar\":{\"angularaxis\":{\"gridcolor\":\"white\",\"linecolor\":\"white\",\"ticks\":\"\"},\"bgcolor\":\"#E5ECF6\",\"radialaxis\":{\"gridcolor\":\"white\",\"linecolor\":\"white\",\"ticks\":\"\"}},\"scene\":{\"xaxis\":{\"backgroundcolor\":\"#E5ECF6\",\"gridcolor\":\"white\",\"gridwidth\":2,\"linecolor\":\"white\",\"showbackground\":true,\"ticks\":\"\",\"zerolinecolor\":\"white\"},\"yaxis\":{\"backgroundcolor\":\"#E5ECF6\",\"gridcolor\":\"white\",\"gridwidth\":2,\"linecolor\":\"white\",\"showbackground\":true,\"ticks\":\"\",\"zerolinecolor\":\"white\"},\"zaxis\":{\"backgroundcolor\":\"#E5ECF6\",\"gridcolor\":\"white\",\"gridwidth\":2,\"linecolor\":\"white\",\"showbackground\":true,\"ticks\":\"\",\"zerolinecolor\":\"white\"}},\"shapedefaults\":{\"line\":{\"color\":\"#2a3f5f\"}},\"ternary\":{\"aaxis\":{\"gridcolor\":\"white\",\"linecolor\":\"white\",\"ticks\":\"\"},\"baxis\":{\"gridcolor\":\"white\",\"linecolor\":\"white\",\"ticks\":\"\"},\"bgcolor\":\"#E5ECF6\",\"caxis\":{\"gridcolor\":\"white\",\"linecolor\":\"white\",\"ticks\":\"\"}},\"title\":{\"x\":0.05},\"xaxis\":{\"automargin\":true,\"gridcolor\":\"white\",\"linecolor\":\"white\",\"ticks\":\"\",\"title\":{\"standoff\":15},\"zerolinecolor\":\"white\",\"zerolinewidth\":2},\"yaxis\":{\"automargin\":true,\"gridcolor\":\"white\",\"linecolor\":\"white\",\"ticks\":\"\",\"title\":{\"standoff\":15},\"zerolinecolor\":\"white\",\"zerolinewidth\":2}}},\"title\":{\"text\":\"Most mentioned symbols in June\"},\"xaxis\":{\"anchor\":\"y\",\"domain\":[0.0,1.0],\"title\":{\"text\":\"Mentions\"}},\"yaxis\":{\"anchor\":\"x\",\"categoryarray\":[\"UWMC\",\"TLRY\",\"CLF\",\"WKHS\",\"WISH\",\"CLNE\",\"CLOV\",\"GME\",\"AMC\",\"BB\"],\"categoryorder\":\"array\",\"domain\":[0.0,1.0],\"title\":{\"text\":\"Symbol\"}}},                        {\"responsive\": true}                    ).then(function(){\n",
       "                            \n",
       "var gd = document.getElementById('af1aa41a-a26d-40fa-8f62-28174c75acad');\n",
       "var x = new MutationObserver(function (mutations, observer) {{\n",
       "        var display = window.getComputedStyle(gd).display;\n",
       "        if (!display || display === 'none') {{\n",
       "            console.log([gd, 'removed!']);\n",
       "            Plotly.purge(gd);\n",
       "            observer.disconnect();\n",
       "        }}\n",
       "}});\n",
       "\n",
       "// Listen for the removal of the full notebook cells\n",
       "var notebookContainer = gd.closest('#notebook-container');\n",
       "if (notebookContainer) {{\n",
       "    x.observe(notebookContainer, {childList: true});\n",
       "}}\n",
       "\n",
       "// Listen for the clearing of the current output cell\n",
       "var outputEl = gd.closest('.output');\n",
       "if (outputEl) {{\n",
       "    x.observe(outputEl, {childList: true});\n",
       "}}\n",
       "\n",
       "                        })                };                });            </script>        </div>"
      ]
     },
     "metadata": {},
     "output_type": "display_data"
    }
   ],
   "source": [
    "fig = px.bar(top_symbols_df[0:10], x=\"num_mentions\", y=\"symbol\", text=\"num_mentions\", color='symbol', orientation='h', title='Most mentioned symbols in June', labels={'num_mentions': 'Mentions', 'symbol': 'Symbol'})\n",
    "fig.update_layout(showlegend=False)\n",
    "fig.show()"
   ]
  },
  {
   "cell_type": "code",
   "execution_count": 113,
   "id": "1f17bdbd",
   "metadata": {},
   "outputs": [
    {
     "data": {
      "application/vnd.plotly.v1+json": {
       "config": {
        "plotlyServerURL": "https://plot.ly"
       },
       "data": [
        {
         "hovertemplate": "symbol=AMC<br>day=%{x}<br>mentions=%{y}<extra></extra>",
         "legendgroup": "AMC",
         "line": {
          "color": "#636efa",
          "dash": "solid"
         },
         "mode": "lines",
         "name": "AMC",
         "orientation": "v",
         "showlegend": true,
         "type": "scatter",
         "x": [
          "2021-06-01T00:00:00+00:00",
          "2021-06-02T00:00:00+00:00",
          "2021-06-03T00:00:00+00:00",
          "2021-06-04T00:00:00+00:00",
          "2021-06-05T00:00:00+00:00",
          "2021-06-06T00:00:00+00:00",
          "2021-06-07T00:00:00+00:00",
          "2021-06-08T00:00:00+00:00",
          "2021-06-09T00:00:00+00:00",
          "2021-06-10T00:00:00+00:00",
          "2021-06-11T00:00:00+00:00",
          "2021-06-12T00:00:00+00:00",
          "2021-06-13T00:00:00+00:00",
          "2021-06-14T00:00:00+00:00",
          "2021-06-15T00:00:00+00:00",
          "2021-06-16T00:00:00+00:00",
          "2021-06-17T00:00:00+00:00",
          "2021-06-18T00:00:00+00:00",
          "2021-06-19T00:00:00+00:00",
          "2021-06-20T00:00:00+00:00",
          "2021-06-21T00:00:00+00:00",
          "2021-06-22T00:00:00+00:00",
          "2021-06-23T00:00:00+00:00",
          "2021-06-24T00:00:00+00:00",
          "2021-06-25T00:00:00+00:00",
          "2021-06-26T00:00:00+00:00",
          "2021-06-27T00:00:00+00:00",
          "2021-06-28T00:00:00+00:00",
          "2021-06-29T00:00:00+00:00",
          "2021-06-30T00:00:00+00:00"
         ],
         "xaxis": "x",
         "y": [
          3986,
          10347,
          12482,
          6647,
          1918,
          1610,
          3443,
          3527,
          4677,
          3698,
          2518,
          837,
          696,
          2283,
          2149,
          1567,
          2168,
          1564,
          611,
          460,
          1127,
          1149,
          832,
          684,
          657,
          200,
          368,
          759,
          681,
          504
         ],
         "yaxis": "y"
        },
        {
         "hovertemplate": "symbol=BB<br>day=%{x}<br>mentions=%{y}<extra></extra>",
         "legendgroup": "BB",
         "line": {
          "color": "#EF553B",
          "dash": "solid"
         },
         "mode": "lines",
         "name": "BB",
         "orientation": "v",
         "showlegend": true,
         "type": "scatter",
         "x": [
          "2021-06-01T00:00:00+00:00",
          "2021-06-02T00:00:00+00:00",
          "2021-06-03T00:00:00+00:00",
          "2021-06-04T00:00:00+00:00",
          "2021-06-05T00:00:00+00:00",
          "2021-06-06T00:00:00+00:00",
          "2021-06-07T00:00:00+00:00",
          "2021-06-08T00:00:00+00:00",
          "2021-06-09T00:00:00+00:00",
          "2021-06-10T00:00:00+00:00",
          "2021-06-11T00:00:00+00:00",
          "2021-06-12T00:00:00+00:00",
          "2021-06-13T00:00:00+00:00",
          "2021-06-14T00:00:00+00:00",
          "2021-06-15T00:00:00+00:00",
          "2021-06-16T00:00:00+00:00",
          "2021-06-17T00:00:00+00:00",
          "2021-06-18T00:00:00+00:00",
          "2021-06-19T00:00:00+00:00",
          "2021-06-20T00:00:00+00:00",
          "2021-06-21T00:00:00+00:00",
          "2021-06-22T00:00:00+00:00",
          "2021-06-23T00:00:00+00:00",
          "2021-06-24T00:00:00+00:00",
          "2021-06-25T00:00:00+00:00",
          "2021-06-26T00:00:00+00:00",
          "2021-06-27T00:00:00+00:00",
          "2021-06-28T00:00:00+00:00",
          "2021-06-29T00:00:00+00:00",
          "2021-06-30T00:00:00+00:00"
         ],
         "xaxis": "x",
         "y": [
          3421,
          9788,
          16809,
          9109,
          1786,
          1714,
          5747,
          5022,
          4696,
          3246,
          2336,
          508,
          429,
          1465,
          1026,
          991,
          1577,
          1151,
          282,
          196,
          1068,
          1078,
          611,
          665,
          793,
          159,
          159,
          746,
          527,
          270
         ],
         "yaxis": "y"
        },
        {
         "hovertemplate": "symbol=CLF<br>day=%{x}<br>mentions=%{y}<extra></extra>",
         "legendgroup": "CLF",
         "line": {
          "color": "#00cc96",
          "dash": "solid"
         },
         "mode": "lines",
         "name": "CLF",
         "orientation": "v",
         "showlegend": true,
         "type": "scatter",
         "x": [
          "2021-06-01T00:00:00+00:00",
          "2021-06-02T00:00:00+00:00",
          "2021-06-03T00:00:00+00:00",
          "2021-06-05T00:00:00+00:00",
          "2021-06-06T00:00:00+00:00",
          "2021-06-07T00:00:00+00:00",
          "2021-06-08T00:00:00+00:00",
          "2021-06-09T00:00:00+00:00",
          "2021-06-10T00:00:00+00:00",
          "2021-06-11T00:00:00+00:00",
          "2021-06-12T00:00:00+00:00",
          "2021-06-13T00:00:00+00:00",
          "2021-06-14T00:00:00+00:00",
          "2021-06-15T00:00:00+00:00",
          "2021-06-16T00:00:00+00:00",
          "2021-06-17T00:00:00+00:00",
          "2021-06-18T00:00:00+00:00",
          "2021-06-19T00:00:00+00:00",
          "2021-06-20T00:00:00+00:00",
          "2021-06-21T00:00:00+00:00",
          "2021-06-22T00:00:00+00:00",
          "2021-06-23T00:00:00+00:00",
          "2021-06-24T00:00:00+00:00",
          "2021-06-25T00:00:00+00:00",
          "2021-06-26T00:00:00+00:00",
          "2021-06-27T00:00:00+00:00",
          "2021-06-28T00:00:00+00:00",
          "2021-06-29T00:00:00+00:00",
          "2021-06-30T00:00:00+00:00"
         ],
         "xaxis": "x",
         "y": [
          3,
          8,
          8,
          4,
          1,
          13,
          33,
          3099,
          2465,
          1276,
          218,
          257,
          596,
          637,
          339,
          383,
          289,
          47,
          107,
          274,
          138,
          131,
          387,
          223,
          35,
          79,
          215,
          232,
          130
         ],
         "yaxis": "y"
        },
        {
         "hovertemplate": "symbol=CLNE<br>day=%{x}<br>mentions=%{y}<extra></extra>",
         "legendgroup": "CLNE",
         "line": {
          "color": "#ab63fa",
          "dash": "solid"
         },
         "mode": "lines",
         "name": "CLNE",
         "orientation": "v",
         "showlegend": true,
         "type": "scatter",
         "x": [
          "2021-06-01T00:00:00+00:00",
          "2021-06-02T00:00:00+00:00",
          "2021-06-03T00:00:00+00:00",
          "2021-06-04T00:00:00+00:00",
          "2021-06-05T00:00:00+00:00",
          "2021-06-06T00:00:00+00:00",
          "2021-06-07T00:00:00+00:00",
          "2021-06-08T00:00:00+00:00",
          "2021-06-09T00:00:00+00:00",
          "2021-06-10T00:00:00+00:00",
          "2021-06-11T00:00:00+00:00",
          "2021-06-12T00:00:00+00:00",
          "2021-06-13T00:00:00+00:00",
          "2021-06-14T00:00:00+00:00",
          "2021-06-15T00:00:00+00:00",
          "2021-06-16T00:00:00+00:00",
          "2021-06-17T00:00:00+00:00",
          "2021-06-18T00:00:00+00:00",
          "2021-06-19T00:00:00+00:00",
          "2021-06-20T00:00:00+00:00",
          "2021-06-21T00:00:00+00:00",
          "2021-06-22T00:00:00+00:00",
          "2021-06-23T00:00:00+00:00",
          "2021-06-24T00:00:00+00:00",
          "2021-06-25T00:00:00+00:00",
          "2021-06-26T00:00:00+00:00",
          "2021-06-27T00:00:00+00:00",
          "2021-06-28T00:00:00+00:00",
          "2021-06-29T00:00:00+00:00",
          "2021-06-30T00:00:00+00:00"
         ],
         "xaxis": "x",
         "y": [
          8,
          158,
          1657,
          1532,
          298,
          537,
          2000,
          2913,
          5887,
          2912,
          1660,
          499,
          864,
          3032,
          2189,
          1264,
          1656,
          2497,
          131,
          131,
          939,
          649,
          520,
          434,
          326,
          61,
          114,
          369,
          382,
          379
         ],
         "yaxis": "y"
        },
        {
         "hovertemplate": "symbol=CLOV<br>day=%{x}<br>mentions=%{y}<extra></extra>",
         "legendgroup": "CLOV",
         "line": {
          "color": "#FFA15A",
          "dash": "solid"
         },
         "mode": "lines",
         "name": "CLOV",
         "orientation": "v",
         "showlegend": true,
         "type": "scatter",
         "x": [
          "2021-06-01T00:00:00+00:00",
          "2021-06-02T00:00:00+00:00",
          "2021-06-03T00:00:00+00:00",
          "2021-06-04T00:00:00+00:00",
          "2021-06-05T00:00:00+00:00",
          "2021-06-06T00:00:00+00:00",
          "2021-06-07T00:00:00+00:00",
          "2021-06-08T00:00:00+00:00",
          "2021-06-09T00:00:00+00:00",
          "2021-06-10T00:00:00+00:00",
          "2021-06-11T00:00:00+00:00",
          "2021-06-12T00:00:00+00:00",
          "2021-06-13T00:00:00+00:00",
          "2021-06-14T00:00:00+00:00",
          "2021-06-15T00:00:00+00:00",
          "2021-06-16T00:00:00+00:00",
          "2021-06-17T00:00:00+00:00",
          "2021-06-18T00:00:00+00:00",
          "2021-06-19T00:00:00+00:00",
          "2021-06-20T00:00:00+00:00",
          "2021-06-21T00:00:00+00:00",
          "2021-06-22T00:00:00+00:00",
          "2021-06-23T00:00:00+00:00",
          "2021-06-24T00:00:00+00:00",
          "2021-06-25T00:00:00+00:00",
          "2021-06-26T00:00:00+00:00",
          "2021-06-27T00:00:00+00:00",
          "2021-06-28T00:00:00+00:00",
          "2021-06-29T00:00:00+00:00",
          "2021-06-30T00:00:00+00:00"
         ],
         "xaxis": "x",
         "y": [
          59,
          742,
          1129,
          498,
          131,
          354,
          2584,
          7441,
          7208,
          3200,
          2521,
          488,
          562,
          1608,
          1193,
          912,
          534,
          467,
          139,
          227,
          624,
          1501,
          1536,
          1365,
          793,
          216,
          331,
          760,
          1261,
          804
         ],
         "yaxis": "y"
        },
        {
         "hovertemplate": "symbol=GME<br>day=%{x}<br>mentions=%{y}<extra></extra>",
         "legendgroup": "GME",
         "line": {
          "color": "#19d3f3",
          "dash": "solid"
         },
         "mode": "lines",
         "name": "GME",
         "orientation": "v",
         "showlegend": true,
         "type": "scatter",
         "x": [
          "2021-06-01T00:00:00+00:00",
          "2021-06-02T00:00:00+00:00",
          "2021-06-03T00:00:00+00:00",
          "2021-06-04T00:00:00+00:00",
          "2021-06-05T00:00:00+00:00",
          "2021-06-06T00:00:00+00:00",
          "2021-06-07T00:00:00+00:00",
          "2021-06-08T00:00:00+00:00",
          "2021-06-09T00:00:00+00:00",
          "2021-06-10T00:00:00+00:00",
          "2021-06-11T00:00:00+00:00",
          "2021-06-12T00:00:00+00:00",
          "2021-06-13T00:00:00+00:00",
          "2021-06-14T00:00:00+00:00",
          "2021-06-15T00:00:00+00:00",
          "2021-06-16T00:00:00+00:00",
          "2021-06-17T00:00:00+00:00",
          "2021-06-18T00:00:00+00:00",
          "2021-06-19T00:00:00+00:00",
          "2021-06-20T00:00:00+00:00",
          "2021-06-21T00:00:00+00:00",
          "2021-06-22T00:00:00+00:00",
          "2021-06-23T00:00:00+00:00",
          "2021-06-24T00:00:00+00:00",
          "2021-06-25T00:00:00+00:00",
          "2021-06-26T00:00:00+00:00",
          "2021-06-27T00:00:00+00:00",
          "2021-06-28T00:00:00+00:00",
          "2021-06-29T00:00:00+00:00",
          "2021-06-30T00:00:00+00:00"
         ],
         "xaxis": "x",
         "y": [
          1350,
          3418,
          3648,
          2208,
          1018,
          1020,
          2276,
          4289,
          5016,
          3221,
          1538,
          568,
          438,
          892,
          978,
          955,
          702,
          737,
          433,
          362,
          822,
          1128,
          766,
          553,
          612,
          199,
          614,
          663,
          594,
          532
         ],
         "yaxis": "y"
        },
        {
         "hovertemplate": "symbol=TLRY<br>day=%{x}<br>mentions=%{y}<extra></extra>",
         "legendgroup": "TLRY",
         "line": {
          "color": "#FF6692",
          "dash": "solid"
         },
         "mode": "lines",
         "name": "TLRY",
         "orientation": "v",
         "showlegend": true,
         "type": "scatter",
         "x": [
          "2021-06-01T00:00:00+00:00",
          "2021-06-02T00:00:00+00:00",
          "2021-06-03T00:00:00+00:00",
          "2021-06-04T00:00:00+00:00",
          "2021-06-05T00:00:00+00:00",
          "2021-06-06T00:00:00+00:00",
          "2021-06-07T00:00:00+00:00",
          "2021-06-08T00:00:00+00:00",
          "2021-06-09T00:00:00+00:00",
          "2021-06-10T00:00:00+00:00",
          "2021-06-11T00:00:00+00:00",
          "2021-06-12T00:00:00+00:00",
          "2021-06-13T00:00:00+00:00",
          "2021-06-14T00:00:00+00:00",
          "2021-06-15T00:00:00+00:00",
          "2021-06-16T00:00:00+00:00",
          "2021-06-17T00:00:00+00:00",
          "2021-06-18T00:00:00+00:00",
          "2021-06-19T00:00:00+00:00",
          "2021-06-20T00:00:00+00:00",
          "2021-06-21T00:00:00+00:00",
          "2021-06-22T00:00:00+00:00",
          "2021-06-23T00:00:00+00:00",
          "2021-06-24T00:00:00+00:00",
          "2021-06-25T00:00:00+00:00",
          "2021-06-26T00:00:00+00:00",
          "2021-06-27T00:00:00+00:00",
          "2021-06-28T00:00:00+00:00",
          "2021-06-29T00:00:00+00:00",
          "2021-06-30T00:00:00+00:00"
         ],
         "xaxis": "x",
         "y": [
          191,
          802,
          1477,
          669,
          77,
          160,
          616,
          768,
          1788,
          667,
          385,
          74,
          164,
          398,
          271,
          250,
          196,
          169,
          30,
          36,
          318,
          165,
          190,
          262,
          145,
          22,
          64,
          146,
          177,
          146
         ],
         "yaxis": "y"
        },
        {
         "hovertemplate": "symbol=UWMC<br>day=%{x}<br>mentions=%{y}<extra></extra>",
         "legendgroup": "UWMC",
         "line": {
          "color": "#B6E880",
          "dash": "solid"
         },
         "mode": "lines",
         "name": "UWMC",
         "orientation": "v",
         "showlegend": true,
         "type": "scatter",
         "x": [
          "2021-06-01T00:00:00+00:00",
          "2021-06-02T00:00:00+00:00",
          "2021-06-03T00:00:00+00:00",
          "2021-06-04T00:00:00+00:00",
          "2021-06-05T00:00:00+00:00",
          "2021-06-06T00:00:00+00:00",
          "2021-06-07T00:00:00+00:00",
          "2021-06-08T00:00:00+00:00",
          "2021-06-09T00:00:00+00:00",
          "2021-06-10T00:00:00+00:00",
          "2021-06-11T00:00:00+00:00",
          "2021-06-12T00:00:00+00:00",
          "2021-06-13T00:00:00+00:00",
          "2021-06-14T00:00:00+00:00",
          "2021-06-15T00:00:00+00:00",
          "2021-06-16T00:00:00+00:00",
          "2021-06-17T00:00:00+00:00",
          "2021-06-18T00:00:00+00:00",
          "2021-06-19T00:00:00+00:00",
          "2021-06-20T00:00:00+00:00",
          "2021-06-21T00:00:00+00:00",
          "2021-06-22T00:00:00+00:00",
          "2021-06-23T00:00:00+00:00",
          "2021-06-24T00:00:00+00:00",
          "2021-06-25T00:00:00+00:00",
          "2021-06-26T00:00:00+00:00",
          "2021-06-27T00:00:00+00:00",
          "2021-06-28T00:00:00+00:00",
          "2021-06-29T00:00:00+00:00",
          "2021-06-30T00:00:00+00:00"
         ],
         "xaxis": "x",
         "y": [
          53,
          157,
          109,
          76,
          9,
          30,
          122,
          301,
          1392,
          968,
          1013,
          299,
          395,
          712,
          565,
          491,
          444,
          455,
          38,
          55,
          257,
          196,
          261,
          200,
          201,
          20,
          27,
          123,
          135,
          119
         ],
         "yaxis": "y"
        },
        {
         "hovertemplate": "symbol=WISH<br>day=%{x}<br>mentions=%{y}<extra></extra>",
         "legendgroup": "WISH",
         "line": {
          "color": "#FF97FF",
          "dash": "solid"
         },
         "mode": "lines",
         "name": "WISH",
         "orientation": "v",
         "showlegend": true,
         "type": "scatter",
         "x": [
          "2021-06-01T00:00:00+00:00",
          "2021-06-02T00:00:00+00:00",
          "2021-06-03T00:00:00+00:00",
          "2021-06-04T00:00:00+00:00",
          "2021-06-05T00:00:00+00:00",
          "2021-06-06T00:00:00+00:00",
          "2021-06-07T00:00:00+00:00",
          "2021-06-08T00:00:00+00:00",
          "2021-06-09T00:00:00+00:00",
          "2021-06-10T00:00:00+00:00",
          "2021-06-11T00:00:00+00:00",
          "2021-06-12T00:00:00+00:00",
          "2021-06-13T00:00:00+00:00",
          "2021-06-14T00:00:00+00:00",
          "2021-06-15T00:00:00+00:00",
          "2021-06-16T00:00:00+00:00",
          "2021-06-17T00:00:00+00:00",
          "2021-06-18T00:00:00+00:00",
          "2021-06-19T00:00:00+00:00",
          "2021-06-20T00:00:00+00:00",
          "2021-06-21T00:00:00+00:00",
          "2021-06-22T00:00:00+00:00",
          "2021-06-23T00:00:00+00:00",
          "2021-06-24T00:00:00+00:00",
          "2021-06-25T00:00:00+00:00",
          "2021-06-26T00:00:00+00:00",
          "2021-06-27T00:00:00+00:00",
          "2021-06-28T00:00:00+00:00",
          "2021-06-29T00:00:00+00:00",
          "2021-06-30T00:00:00+00:00"
         ],
         "xaxis": "x",
         "y": [
          22,
          52,
          27,
          11,
          6,
          3,
          45,
          4653,
          6765,
          2800,
          1564,
          440,
          474,
          2163,
          1689,
          1013,
          953,
          895,
          242,
          220,
          3000,
          2129,
          1375,
          1307,
          833,
          198,
          273,
          929,
          722,
          596
         ],
         "yaxis": "y"
        },
        {
         "hovertemplate": "symbol=WKHS<br>day=%{x}<br>mentions=%{y}<extra></extra>",
         "legendgroup": "WKHS",
         "line": {
          "color": "#FECB52",
          "dash": "solid"
         },
         "mode": "lines",
         "name": "WKHS",
         "orientation": "v",
         "showlegend": true,
         "type": "scatter",
         "x": [
          "2021-06-01T00:00:00+00:00",
          "2021-06-02T00:00:00+00:00",
          "2021-06-03T00:00:00+00:00",
          "2021-06-04T00:00:00+00:00",
          "2021-06-05T00:00:00+00:00",
          "2021-06-06T00:00:00+00:00",
          "2021-06-07T00:00:00+00:00",
          "2021-06-08T00:00:00+00:00",
          "2021-06-09T00:00:00+00:00",
          "2021-06-10T00:00:00+00:00",
          "2021-06-11T00:00:00+00:00",
          "2021-06-12T00:00:00+00:00",
          "2021-06-13T00:00:00+00:00",
          "2021-06-14T00:00:00+00:00",
          "2021-06-15T00:00:00+00:00",
          "2021-06-16T00:00:00+00:00",
          "2021-06-17T00:00:00+00:00",
          "2021-06-18T00:00:00+00:00",
          "2021-06-19T00:00:00+00:00",
          "2021-06-20T00:00:00+00:00",
          "2021-06-21T00:00:00+00:00",
          "2021-06-22T00:00:00+00:00",
          "2021-06-23T00:00:00+00:00",
          "2021-06-24T00:00:00+00:00",
          "2021-06-25T00:00:00+00:00",
          "2021-06-26T00:00:00+00:00",
          "2021-06-27T00:00:00+00:00",
          "2021-06-28T00:00:00+00:00",
          "2021-06-29T00:00:00+00:00",
          "2021-06-30T00:00:00+00:00"
         ],
         "xaxis": "x",
         "y": [
          12,
          266,
          1064,
          588,
          143,
          194,
          594,
          1367,
          2687,
          1544,
          1318,
          253,
          317,
          894,
          599,
          950,
          534,
          409,
          159,
          133,
          306,
          320,
          1026,
          782,
          555,
          89,
          139,
          924,
          785,
          535
         ],
         "yaxis": "y"
        }
       ],
       "layout": {
        "legend": {
         "title": {
          "text": "symbol"
         },
         "tracegroupgap": 0
        },
        "template": {
         "data": {
          "bar": [
           {
            "error_x": {
             "color": "#2a3f5f"
            },
            "error_y": {
             "color": "#2a3f5f"
            },
            "marker": {
             "line": {
              "color": "#E5ECF6",
              "width": 0.5
             },
             "pattern": {
              "fillmode": "overlay",
              "size": 10,
              "solidity": 0.2
             }
            },
            "type": "bar"
           }
          ],
          "barpolar": [
           {
            "marker": {
             "line": {
              "color": "#E5ECF6",
              "width": 0.5
             },
             "pattern": {
              "fillmode": "overlay",
              "size": 10,
              "solidity": 0.2
             }
            },
            "type": "barpolar"
           }
          ],
          "carpet": [
           {
            "aaxis": {
             "endlinecolor": "#2a3f5f",
             "gridcolor": "white",
             "linecolor": "white",
             "minorgridcolor": "white",
             "startlinecolor": "#2a3f5f"
            },
            "baxis": {
             "endlinecolor": "#2a3f5f",
             "gridcolor": "white",
             "linecolor": "white",
             "minorgridcolor": "white",
             "startlinecolor": "#2a3f5f"
            },
            "type": "carpet"
           }
          ],
          "choropleth": [
           {
            "colorbar": {
             "outlinewidth": 0,
             "ticks": ""
            },
            "type": "choropleth"
           }
          ],
          "contour": [
           {
            "colorbar": {
             "outlinewidth": 0,
             "ticks": ""
            },
            "colorscale": [
             [
              0,
              "#0d0887"
             ],
             [
              0.1111111111111111,
              "#46039f"
             ],
             [
              0.2222222222222222,
              "#7201a8"
             ],
             [
              0.3333333333333333,
              "#9c179e"
             ],
             [
              0.4444444444444444,
              "#bd3786"
             ],
             [
              0.5555555555555556,
              "#d8576b"
             ],
             [
              0.6666666666666666,
              "#ed7953"
             ],
             [
              0.7777777777777778,
              "#fb9f3a"
             ],
             [
              0.8888888888888888,
              "#fdca26"
             ],
             [
              1,
              "#f0f921"
             ]
            ],
            "type": "contour"
           }
          ],
          "contourcarpet": [
           {
            "colorbar": {
             "outlinewidth": 0,
             "ticks": ""
            },
            "type": "contourcarpet"
           }
          ],
          "heatmap": [
           {
            "colorbar": {
             "outlinewidth": 0,
             "ticks": ""
            },
            "colorscale": [
             [
              0,
              "#0d0887"
             ],
             [
              0.1111111111111111,
              "#46039f"
             ],
             [
              0.2222222222222222,
              "#7201a8"
             ],
             [
              0.3333333333333333,
              "#9c179e"
             ],
             [
              0.4444444444444444,
              "#bd3786"
             ],
             [
              0.5555555555555556,
              "#d8576b"
             ],
             [
              0.6666666666666666,
              "#ed7953"
             ],
             [
              0.7777777777777778,
              "#fb9f3a"
             ],
             [
              0.8888888888888888,
              "#fdca26"
             ],
             [
              1,
              "#f0f921"
             ]
            ],
            "type": "heatmap"
           }
          ],
          "heatmapgl": [
           {
            "colorbar": {
             "outlinewidth": 0,
             "ticks": ""
            },
            "colorscale": [
             [
              0,
              "#0d0887"
             ],
             [
              0.1111111111111111,
              "#46039f"
             ],
             [
              0.2222222222222222,
              "#7201a8"
             ],
             [
              0.3333333333333333,
              "#9c179e"
             ],
             [
              0.4444444444444444,
              "#bd3786"
             ],
             [
              0.5555555555555556,
              "#d8576b"
             ],
             [
              0.6666666666666666,
              "#ed7953"
             ],
             [
              0.7777777777777778,
              "#fb9f3a"
             ],
             [
              0.8888888888888888,
              "#fdca26"
             ],
             [
              1,
              "#f0f921"
             ]
            ],
            "type": "heatmapgl"
           }
          ],
          "histogram": [
           {
            "marker": {
             "pattern": {
              "fillmode": "overlay",
              "size": 10,
              "solidity": 0.2
             }
            },
            "type": "histogram"
           }
          ],
          "histogram2d": [
           {
            "colorbar": {
             "outlinewidth": 0,
             "ticks": ""
            },
            "colorscale": [
             [
              0,
              "#0d0887"
             ],
             [
              0.1111111111111111,
              "#46039f"
             ],
             [
              0.2222222222222222,
              "#7201a8"
             ],
             [
              0.3333333333333333,
              "#9c179e"
             ],
             [
              0.4444444444444444,
              "#bd3786"
             ],
             [
              0.5555555555555556,
              "#d8576b"
             ],
             [
              0.6666666666666666,
              "#ed7953"
             ],
             [
              0.7777777777777778,
              "#fb9f3a"
             ],
             [
              0.8888888888888888,
              "#fdca26"
             ],
             [
              1,
              "#f0f921"
             ]
            ],
            "type": "histogram2d"
           }
          ],
          "histogram2dcontour": [
           {
            "colorbar": {
             "outlinewidth": 0,
             "ticks": ""
            },
            "colorscale": [
             [
              0,
              "#0d0887"
             ],
             [
              0.1111111111111111,
              "#46039f"
             ],
             [
              0.2222222222222222,
              "#7201a8"
             ],
             [
              0.3333333333333333,
              "#9c179e"
             ],
             [
              0.4444444444444444,
              "#bd3786"
             ],
             [
              0.5555555555555556,
              "#d8576b"
             ],
             [
              0.6666666666666666,
              "#ed7953"
             ],
             [
              0.7777777777777778,
              "#fb9f3a"
             ],
             [
              0.8888888888888888,
              "#fdca26"
             ],
             [
              1,
              "#f0f921"
             ]
            ],
            "type": "histogram2dcontour"
           }
          ],
          "mesh3d": [
           {
            "colorbar": {
             "outlinewidth": 0,
             "ticks": ""
            },
            "type": "mesh3d"
           }
          ],
          "parcoords": [
           {
            "line": {
             "colorbar": {
              "outlinewidth": 0,
              "ticks": ""
             }
            },
            "type": "parcoords"
           }
          ],
          "pie": [
           {
            "automargin": true,
            "type": "pie"
           }
          ],
          "scatter": [
           {
            "marker": {
             "colorbar": {
              "outlinewidth": 0,
              "ticks": ""
             }
            },
            "type": "scatter"
           }
          ],
          "scatter3d": [
           {
            "line": {
             "colorbar": {
              "outlinewidth": 0,
              "ticks": ""
             }
            },
            "marker": {
             "colorbar": {
              "outlinewidth": 0,
              "ticks": ""
             }
            },
            "type": "scatter3d"
           }
          ],
          "scattercarpet": [
           {
            "marker": {
             "colorbar": {
              "outlinewidth": 0,
              "ticks": ""
             }
            },
            "type": "scattercarpet"
           }
          ],
          "scattergeo": [
           {
            "marker": {
             "colorbar": {
              "outlinewidth": 0,
              "ticks": ""
             }
            },
            "type": "scattergeo"
           }
          ],
          "scattergl": [
           {
            "marker": {
             "colorbar": {
              "outlinewidth": 0,
              "ticks": ""
             }
            },
            "type": "scattergl"
           }
          ],
          "scattermapbox": [
           {
            "marker": {
             "colorbar": {
              "outlinewidth": 0,
              "ticks": ""
             }
            },
            "type": "scattermapbox"
           }
          ],
          "scatterpolar": [
           {
            "marker": {
             "colorbar": {
              "outlinewidth": 0,
              "ticks": ""
             }
            },
            "type": "scatterpolar"
           }
          ],
          "scatterpolargl": [
           {
            "marker": {
             "colorbar": {
              "outlinewidth": 0,
              "ticks": ""
             }
            },
            "type": "scatterpolargl"
           }
          ],
          "scatterternary": [
           {
            "marker": {
             "colorbar": {
              "outlinewidth": 0,
              "ticks": ""
             }
            },
            "type": "scatterternary"
           }
          ],
          "surface": [
           {
            "colorbar": {
             "outlinewidth": 0,
             "ticks": ""
            },
            "colorscale": [
             [
              0,
              "#0d0887"
             ],
             [
              0.1111111111111111,
              "#46039f"
             ],
             [
              0.2222222222222222,
              "#7201a8"
             ],
             [
              0.3333333333333333,
              "#9c179e"
             ],
             [
              0.4444444444444444,
              "#bd3786"
             ],
             [
              0.5555555555555556,
              "#d8576b"
             ],
             [
              0.6666666666666666,
              "#ed7953"
             ],
             [
              0.7777777777777778,
              "#fb9f3a"
             ],
             [
              0.8888888888888888,
              "#fdca26"
             ],
             [
              1,
              "#f0f921"
             ]
            ],
            "type": "surface"
           }
          ],
          "table": [
           {
            "cells": {
             "fill": {
              "color": "#EBF0F8"
             },
             "line": {
              "color": "white"
             }
            },
            "header": {
             "fill": {
              "color": "#C8D4E3"
             },
             "line": {
              "color": "white"
             }
            },
            "type": "table"
           }
          ]
         },
         "layout": {
          "annotationdefaults": {
           "arrowcolor": "#2a3f5f",
           "arrowhead": 0,
           "arrowwidth": 1
          },
          "autotypenumbers": "strict",
          "coloraxis": {
           "colorbar": {
            "outlinewidth": 0,
            "ticks": ""
           }
          },
          "colorscale": {
           "diverging": [
            [
             0,
             "#8e0152"
            ],
            [
             0.1,
             "#c51b7d"
            ],
            [
             0.2,
             "#de77ae"
            ],
            [
             0.3,
             "#f1b6da"
            ],
            [
             0.4,
             "#fde0ef"
            ],
            [
             0.5,
             "#f7f7f7"
            ],
            [
             0.6,
             "#e6f5d0"
            ],
            [
             0.7,
             "#b8e186"
            ],
            [
             0.8,
             "#7fbc41"
            ],
            [
             0.9,
             "#4d9221"
            ],
            [
             1,
             "#276419"
            ]
           ],
           "sequential": [
            [
             0,
             "#0d0887"
            ],
            [
             0.1111111111111111,
             "#46039f"
            ],
            [
             0.2222222222222222,
             "#7201a8"
            ],
            [
             0.3333333333333333,
             "#9c179e"
            ],
            [
             0.4444444444444444,
             "#bd3786"
            ],
            [
             0.5555555555555556,
             "#d8576b"
            ],
            [
             0.6666666666666666,
             "#ed7953"
            ],
            [
             0.7777777777777778,
             "#fb9f3a"
            ],
            [
             0.8888888888888888,
             "#fdca26"
            ],
            [
             1,
             "#f0f921"
            ]
           ],
           "sequentialminus": [
            [
             0,
             "#0d0887"
            ],
            [
             0.1111111111111111,
             "#46039f"
            ],
            [
             0.2222222222222222,
             "#7201a8"
            ],
            [
             0.3333333333333333,
             "#9c179e"
            ],
            [
             0.4444444444444444,
             "#bd3786"
            ],
            [
             0.5555555555555556,
             "#d8576b"
            ],
            [
             0.6666666666666666,
             "#ed7953"
            ],
            [
             0.7777777777777778,
             "#fb9f3a"
            ],
            [
             0.8888888888888888,
             "#fdca26"
            ],
            [
             1,
             "#f0f921"
            ]
           ]
          },
          "colorway": [
           "#636efa",
           "#EF553B",
           "#00cc96",
           "#ab63fa",
           "#FFA15A",
           "#19d3f3",
           "#FF6692",
           "#B6E880",
           "#FF97FF",
           "#FECB52"
          ],
          "font": {
           "color": "#2a3f5f"
          },
          "geo": {
           "bgcolor": "white",
           "lakecolor": "white",
           "landcolor": "#E5ECF6",
           "showlakes": true,
           "showland": true,
           "subunitcolor": "white"
          },
          "hoverlabel": {
           "align": "left"
          },
          "hovermode": "closest",
          "mapbox": {
           "style": "light"
          },
          "paper_bgcolor": "white",
          "plot_bgcolor": "#E5ECF6",
          "polar": {
           "angularaxis": {
            "gridcolor": "white",
            "linecolor": "white",
            "ticks": ""
           },
           "bgcolor": "#E5ECF6",
           "radialaxis": {
            "gridcolor": "white",
            "linecolor": "white",
            "ticks": ""
           }
          },
          "scene": {
           "xaxis": {
            "backgroundcolor": "#E5ECF6",
            "gridcolor": "white",
            "gridwidth": 2,
            "linecolor": "white",
            "showbackground": true,
            "ticks": "",
            "zerolinecolor": "white"
           },
           "yaxis": {
            "backgroundcolor": "#E5ECF6",
            "gridcolor": "white",
            "gridwidth": 2,
            "linecolor": "white",
            "showbackground": true,
            "ticks": "",
            "zerolinecolor": "white"
           },
           "zaxis": {
            "backgroundcolor": "#E5ECF6",
            "gridcolor": "white",
            "gridwidth": 2,
            "linecolor": "white",
            "showbackground": true,
            "ticks": "",
            "zerolinecolor": "white"
           }
          },
          "shapedefaults": {
           "line": {
            "color": "#2a3f5f"
           }
          },
          "ternary": {
           "aaxis": {
            "gridcolor": "white",
            "linecolor": "white",
            "ticks": ""
           },
           "baxis": {
            "gridcolor": "white",
            "linecolor": "white",
            "ticks": ""
           },
           "bgcolor": "#E5ECF6",
           "caxis": {
            "gridcolor": "white",
            "linecolor": "white",
            "ticks": ""
           }
          },
          "title": {
           "x": 0.05
          },
          "xaxis": {
           "automargin": true,
           "gridcolor": "white",
           "linecolor": "white",
           "ticks": "",
           "title": {
            "standoff": 15
           },
           "zerolinecolor": "white",
           "zerolinewidth": 2
          },
          "yaxis": {
           "automargin": true,
           "gridcolor": "white",
           "linecolor": "white",
           "ticks": "",
           "title": {
            "standoff": 15
           },
           "zerolinecolor": "white",
           "zerolinewidth": 2
          }
         }
        },
        "title": {
         "text": "Mentions by day"
        },
        "xaxis": {
         "anchor": "y",
         "domain": [
          0,
          1
         ],
         "title": {
          "text": "day"
         }
        },
        "yaxis": {
         "anchor": "x",
         "domain": [
          0,
          1
         ],
         "title": {
          "text": "mentions"
         }
        }
       }
      },
      "text/html": [
       "<div>                            <div id=\"418ade69-bc1a-49af-925c-eebe468ea489\" class=\"plotly-graph-div\" style=\"height:525px; width:100%;\"></div>            <script type=\"text/javascript\">                require([\"plotly\"], function(Plotly) {                    window.PLOTLYENV=window.PLOTLYENV || {};                                    if (document.getElementById(\"418ade69-bc1a-49af-925c-eebe468ea489\")) {                    Plotly.newPlot(                        \"418ade69-bc1a-49af-925c-eebe468ea489\",                        [{\"hovertemplate\":\"symbol=AMC<br>day=%{x}<br>mentions=%{y}<extra></extra>\",\"legendgroup\":\"AMC\",\"line\":{\"color\":\"#636efa\",\"dash\":\"solid\"},\"mode\":\"lines\",\"name\":\"AMC\",\"orientation\":\"v\",\"showlegend\":true,\"type\":\"scatter\",\"x\":[\"2021-06-01T00:00:00+00:00\",\"2021-06-02T00:00:00+00:00\",\"2021-06-03T00:00:00+00:00\",\"2021-06-04T00:00:00+00:00\",\"2021-06-05T00:00:00+00:00\",\"2021-06-06T00:00:00+00:00\",\"2021-06-07T00:00:00+00:00\",\"2021-06-08T00:00:00+00:00\",\"2021-06-09T00:00:00+00:00\",\"2021-06-10T00:00:00+00:00\",\"2021-06-11T00:00:00+00:00\",\"2021-06-12T00:00:00+00:00\",\"2021-06-13T00:00:00+00:00\",\"2021-06-14T00:00:00+00:00\",\"2021-06-15T00:00:00+00:00\",\"2021-06-16T00:00:00+00:00\",\"2021-06-17T00:00:00+00:00\",\"2021-06-18T00:00:00+00:00\",\"2021-06-19T00:00:00+00:00\",\"2021-06-20T00:00:00+00:00\",\"2021-06-21T00:00:00+00:00\",\"2021-06-22T00:00:00+00:00\",\"2021-06-23T00:00:00+00:00\",\"2021-06-24T00:00:00+00:00\",\"2021-06-25T00:00:00+00:00\",\"2021-06-26T00:00:00+00:00\",\"2021-06-27T00:00:00+00:00\",\"2021-06-28T00:00:00+00:00\",\"2021-06-29T00:00:00+00:00\",\"2021-06-30T00:00:00+00:00\"],\"xaxis\":\"x\",\"y\":[3986,10347,12482,6647,1918,1610,3443,3527,4677,3698,2518,837,696,2283,2149,1567,2168,1564,611,460,1127,1149,832,684,657,200,368,759,681,504],\"yaxis\":\"y\"},{\"hovertemplate\":\"symbol=BB<br>day=%{x}<br>mentions=%{y}<extra></extra>\",\"legendgroup\":\"BB\",\"line\":{\"color\":\"#EF553B\",\"dash\":\"solid\"},\"mode\":\"lines\",\"name\":\"BB\",\"orientation\":\"v\",\"showlegend\":true,\"type\":\"scatter\",\"x\":[\"2021-06-01T00:00:00+00:00\",\"2021-06-02T00:00:00+00:00\",\"2021-06-03T00:00:00+00:00\",\"2021-06-04T00:00:00+00:00\",\"2021-06-05T00:00:00+00:00\",\"2021-06-06T00:00:00+00:00\",\"2021-06-07T00:00:00+00:00\",\"2021-06-08T00:00:00+00:00\",\"2021-06-09T00:00:00+00:00\",\"2021-06-10T00:00:00+00:00\",\"2021-06-11T00:00:00+00:00\",\"2021-06-12T00:00:00+00:00\",\"2021-06-13T00:00:00+00:00\",\"2021-06-14T00:00:00+00:00\",\"2021-06-15T00:00:00+00:00\",\"2021-06-16T00:00:00+00:00\",\"2021-06-17T00:00:00+00:00\",\"2021-06-18T00:00:00+00:00\",\"2021-06-19T00:00:00+00:00\",\"2021-06-20T00:00:00+00:00\",\"2021-06-21T00:00:00+00:00\",\"2021-06-22T00:00:00+00:00\",\"2021-06-23T00:00:00+00:00\",\"2021-06-24T00:00:00+00:00\",\"2021-06-25T00:00:00+00:00\",\"2021-06-26T00:00:00+00:00\",\"2021-06-27T00:00:00+00:00\",\"2021-06-28T00:00:00+00:00\",\"2021-06-29T00:00:00+00:00\",\"2021-06-30T00:00:00+00:00\"],\"xaxis\":\"x\",\"y\":[3421,9788,16809,9109,1786,1714,5747,5022,4696,3246,2336,508,429,1465,1026,991,1577,1151,282,196,1068,1078,611,665,793,159,159,746,527,270],\"yaxis\":\"y\"},{\"hovertemplate\":\"symbol=CLF<br>day=%{x}<br>mentions=%{y}<extra></extra>\",\"legendgroup\":\"CLF\",\"line\":{\"color\":\"#00cc96\",\"dash\":\"solid\"},\"mode\":\"lines\",\"name\":\"CLF\",\"orientation\":\"v\",\"showlegend\":true,\"type\":\"scatter\",\"x\":[\"2021-06-01T00:00:00+00:00\",\"2021-06-02T00:00:00+00:00\",\"2021-06-03T00:00:00+00:00\",\"2021-06-05T00:00:00+00:00\",\"2021-06-06T00:00:00+00:00\",\"2021-06-07T00:00:00+00:00\",\"2021-06-08T00:00:00+00:00\",\"2021-06-09T00:00:00+00:00\",\"2021-06-10T00:00:00+00:00\",\"2021-06-11T00:00:00+00:00\",\"2021-06-12T00:00:00+00:00\",\"2021-06-13T00:00:00+00:00\",\"2021-06-14T00:00:00+00:00\",\"2021-06-15T00:00:00+00:00\",\"2021-06-16T00:00:00+00:00\",\"2021-06-17T00:00:00+00:00\",\"2021-06-18T00:00:00+00:00\",\"2021-06-19T00:00:00+00:00\",\"2021-06-20T00:00:00+00:00\",\"2021-06-21T00:00:00+00:00\",\"2021-06-22T00:00:00+00:00\",\"2021-06-23T00:00:00+00:00\",\"2021-06-24T00:00:00+00:00\",\"2021-06-25T00:00:00+00:00\",\"2021-06-26T00:00:00+00:00\",\"2021-06-27T00:00:00+00:00\",\"2021-06-28T00:00:00+00:00\",\"2021-06-29T00:00:00+00:00\",\"2021-06-30T00:00:00+00:00\"],\"xaxis\":\"x\",\"y\":[3,8,8,4,1,13,33,3099,2465,1276,218,257,596,637,339,383,289,47,107,274,138,131,387,223,35,79,215,232,130],\"yaxis\":\"y\"},{\"hovertemplate\":\"symbol=CLNE<br>day=%{x}<br>mentions=%{y}<extra></extra>\",\"legendgroup\":\"CLNE\",\"line\":{\"color\":\"#ab63fa\",\"dash\":\"solid\"},\"mode\":\"lines\",\"name\":\"CLNE\",\"orientation\":\"v\",\"showlegend\":true,\"type\":\"scatter\",\"x\":[\"2021-06-01T00:00:00+00:00\",\"2021-06-02T00:00:00+00:00\",\"2021-06-03T00:00:00+00:00\",\"2021-06-04T00:00:00+00:00\",\"2021-06-05T00:00:00+00:00\",\"2021-06-06T00:00:00+00:00\",\"2021-06-07T00:00:00+00:00\",\"2021-06-08T00:00:00+00:00\",\"2021-06-09T00:00:00+00:00\",\"2021-06-10T00:00:00+00:00\",\"2021-06-11T00:00:00+00:00\",\"2021-06-12T00:00:00+00:00\",\"2021-06-13T00:00:00+00:00\",\"2021-06-14T00:00:00+00:00\",\"2021-06-15T00:00:00+00:00\",\"2021-06-16T00:00:00+00:00\",\"2021-06-17T00:00:00+00:00\",\"2021-06-18T00:00:00+00:00\",\"2021-06-19T00:00:00+00:00\",\"2021-06-20T00:00:00+00:00\",\"2021-06-21T00:00:00+00:00\",\"2021-06-22T00:00:00+00:00\",\"2021-06-23T00:00:00+00:00\",\"2021-06-24T00:00:00+00:00\",\"2021-06-25T00:00:00+00:00\",\"2021-06-26T00:00:00+00:00\",\"2021-06-27T00:00:00+00:00\",\"2021-06-28T00:00:00+00:00\",\"2021-06-29T00:00:00+00:00\",\"2021-06-30T00:00:00+00:00\"],\"xaxis\":\"x\",\"y\":[8,158,1657,1532,298,537,2000,2913,5887,2912,1660,499,864,3032,2189,1264,1656,2497,131,131,939,649,520,434,326,61,114,369,382,379],\"yaxis\":\"y\"},{\"hovertemplate\":\"symbol=CLOV<br>day=%{x}<br>mentions=%{y}<extra></extra>\",\"legendgroup\":\"CLOV\",\"line\":{\"color\":\"#FFA15A\",\"dash\":\"solid\"},\"mode\":\"lines\",\"name\":\"CLOV\",\"orientation\":\"v\",\"showlegend\":true,\"type\":\"scatter\",\"x\":[\"2021-06-01T00:00:00+00:00\",\"2021-06-02T00:00:00+00:00\",\"2021-06-03T00:00:00+00:00\",\"2021-06-04T00:00:00+00:00\",\"2021-06-05T00:00:00+00:00\",\"2021-06-06T00:00:00+00:00\",\"2021-06-07T00:00:00+00:00\",\"2021-06-08T00:00:00+00:00\",\"2021-06-09T00:00:00+00:00\",\"2021-06-10T00:00:00+00:00\",\"2021-06-11T00:00:00+00:00\",\"2021-06-12T00:00:00+00:00\",\"2021-06-13T00:00:00+00:00\",\"2021-06-14T00:00:00+00:00\",\"2021-06-15T00:00:00+00:00\",\"2021-06-16T00:00:00+00:00\",\"2021-06-17T00:00:00+00:00\",\"2021-06-18T00:00:00+00:00\",\"2021-06-19T00:00:00+00:00\",\"2021-06-20T00:00:00+00:00\",\"2021-06-21T00:00:00+00:00\",\"2021-06-22T00:00:00+00:00\",\"2021-06-23T00:00:00+00:00\",\"2021-06-24T00:00:00+00:00\",\"2021-06-25T00:00:00+00:00\",\"2021-06-26T00:00:00+00:00\",\"2021-06-27T00:00:00+00:00\",\"2021-06-28T00:00:00+00:00\",\"2021-06-29T00:00:00+00:00\",\"2021-06-30T00:00:00+00:00\"],\"xaxis\":\"x\",\"y\":[59,742,1129,498,131,354,2584,7441,7208,3200,2521,488,562,1608,1193,912,534,467,139,227,624,1501,1536,1365,793,216,331,760,1261,804],\"yaxis\":\"y\"},{\"hovertemplate\":\"symbol=GME<br>day=%{x}<br>mentions=%{y}<extra></extra>\",\"legendgroup\":\"GME\",\"line\":{\"color\":\"#19d3f3\",\"dash\":\"solid\"},\"mode\":\"lines\",\"name\":\"GME\",\"orientation\":\"v\",\"showlegend\":true,\"type\":\"scatter\",\"x\":[\"2021-06-01T00:00:00+00:00\",\"2021-06-02T00:00:00+00:00\",\"2021-06-03T00:00:00+00:00\",\"2021-06-04T00:00:00+00:00\",\"2021-06-05T00:00:00+00:00\",\"2021-06-06T00:00:00+00:00\",\"2021-06-07T00:00:00+00:00\",\"2021-06-08T00:00:00+00:00\",\"2021-06-09T00:00:00+00:00\",\"2021-06-10T00:00:00+00:00\",\"2021-06-11T00:00:00+00:00\",\"2021-06-12T00:00:00+00:00\",\"2021-06-13T00:00:00+00:00\",\"2021-06-14T00:00:00+00:00\",\"2021-06-15T00:00:00+00:00\",\"2021-06-16T00:00:00+00:00\",\"2021-06-17T00:00:00+00:00\",\"2021-06-18T00:00:00+00:00\",\"2021-06-19T00:00:00+00:00\",\"2021-06-20T00:00:00+00:00\",\"2021-06-21T00:00:00+00:00\",\"2021-06-22T00:00:00+00:00\",\"2021-06-23T00:00:00+00:00\",\"2021-06-24T00:00:00+00:00\",\"2021-06-25T00:00:00+00:00\",\"2021-06-26T00:00:00+00:00\",\"2021-06-27T00:00:00+00:00\",\"2021-06-28T00:00:00+00:00\",\"2021-06-29T00:00:00+00:00\",\"2021-06-30T00:00:00+00:00\"],\"xaxis\":\"x\",\"y\":[1350,3418,3648,2208,1018,1020,2276,4289,5016,3221,1538,568,438,892,978,955,702,737,433,362,822,1128,766,553,612,199,614,663,594,532],\"yaxis\":\"y\"},{\"hovertemplate\":\"symbol=TLRY<br>day=%{x}<br>mentions=%{y}<extra></extra>\",\"legendgroup\":\"TLRY\",\"line\":{\"color\":\"#FF6692\",\"dash\":\"solid\"},\"mode\":\"lines\",\"name\":\"TLRY\",\"orientation\":\"v\",\"showlegend\":true,\"type\":\"scatter\",\"x\":[\"2021-06-01T00:00:00+00:00\",\"2021-06-02T00:00:00+00:00\",\"2021-06-03T00:00:00+00:00\",\"2021-06-04T00:00:00+00:00\",\"2021-06-05T00:00:00+00:00\",\"2021-06-06T00:00:00+00:00\",\"2021-06-07T00:00:00+00:00\",\"2021-06-08T00:00:00+00:00\",\"2021-06-09T00:00:00+00:00\",\"2021-06-10T00:00:00+00:00\",\"2021-06-11T00:00:00+00:00\",\"2021-06-12T00:00:00+00:00\",\"2021-06-13T00:00:00+00:00\",\"2021-06-14T00:00:00+00:00\",\"2021-06-15T00:00:00+00:00\",\"2021-06-16T00:00:00+00:00\",\"2021-06-17T00:00:00+00:00\",\"2021-06-18T00:00:00+00:00\",\"2021-06-19T00:00:00+00:00\",\"2021-06-20T00:00:00+00:00\",\"2021-06-21T00:00:00+00:00\",\"2021-06-22T00:00:00+00:00\",\"2021-06-23T00:00:00+00:00\",\"2021-06-24T00:00:00+00:00\",\"2021-06-25T00:00:00+00:00\",\"2021-06-26T00:00:00+00:00\",\"2021-06-27T00:00:00+00:00\",\"2021-06-28T00:00:00+00:00\",\"2021-06-29T00:00:00+00:00\",\"2021-06-30T00:00:00+00:00\"],\"xaxis\":\"x\",\"y\":[191,802,1477,669,77,160,616,768,1788,667,385,74,164,398,271,250,196,169,30,36,318,165,190,262,145,22,64,146,177,146],\"yaxis\":\"y\"},{\"hovertemplate\":\"symbol=UWMC<br>day=%{x}<br>mentions=%{y}<extra></extra>\",\"legendgroup\":\"UWMC\",\"line\":{\"color\":\"#B6E880\",\"dash\":\"solid\"},\"mode\":\"lines\",\"name\":\"UWMC\",\"orientation\":\"v\",\"showlegend\":true,\"type\":\"scatter\",\"x\":[\"2021-06-01T00:00:00+00:00\",\"2021-06-02T00:00:00+00:00\",\"2021-06-03T00:00:00+00:00\",\"2021-06-04T00:00:00+00:00\",\"2021-06-05T00:00:00+00:00\",\"2021-06-06T00:00:00+00:00\",\"2021-06-07T00:00:00+00:00\",\"2021-06-08T00:00:00+00:00\",\"2021-06-09T00:00:00+00:00\",\"2021-06-10T00:00:00+00:00\",\"2021-06-11T00:00:00+00:00\",\"2021-06-12T00:00:00+00:00\",\"2021-06-13T00:00:00+00:00\",\"2021-06-14T00:00:00+00:00\",\"2021-06-15T00:00:00+00:00\",\"2021-06-16T00:00:00+00:00\",\"2021-06-17T00:00:00+00:00\",\"2021-06-18T00:00:00+00:00\",\"2021-06-19T00:00:00+00:00\",\"2021-06-20T00:00:00+00:00\",\"2021-06-21T00:00:00+00:00\",\"2021-06-22T00:00:00+00:00\",\"2021-06-23T00:00:00+00:00\",\"2021-06-24T00:00:00+00:00\",\"2021-06-25T00:00:00+00:00\",\"2021-06-26T00:00:00+00:00\",\"2021-06-27T00:00:00+00:00\",\"2021-06-28T00:00:00+00:00\",\"2021-06-29T00:00:00+00:00\",\"2021-06-30T00:00:00+00:00\"],\"xaxis\":\"x\",\"y\":[53,157,109,76,9,30,122,301,1392,968,1013,299,395,712,565,491,444,455,38,55,257,196,261,200,201,20,27,123,135,119],\"yaxis\":\"y\"},{\"hovertemplate\":\"symbol=WISH<br>day=%{x}<br>mentions=%{y}<extra></extra>\",\"legendgroup\":\"WISH\",\"line\":{\"color\":\"#FF97FF\",\"dash\":\"solid\"},\"mode\":\"lines\",\"name\":\"WISH\",\"orientation\":\"v\",\"showlegend\":true,\"type\":\"scatter\",\"x\":[\"2021-06-01T00:00:00+00:00\",\"2021-06-02T00:00:00+00:00\",\"2021-06-03T00:00:00+00:00\",\"2021-06-04T00:00:00+00:00\",\"2021-06-05T00:00:00+00:00\",\"2021-06-06T00:00:00+00:00\",\"2021-06-07T00:00:00+00:00\",\"2021-06-08T00:00:00+00:00\",\"2021-06-09T00:00:00+00:00\",\"2021-06-10T00:00:00+00:00\",\"2021-06-11T00:00:00+00:00\",\"2021-06-12T00:00:00+00:00\",\"2021-06-13T00:00:00+00:00\",\"2021-06-14T00:00:00+00:00\",\"2021-06-15T00:00:00+00:00\",\"2021-06-16T00:00:00+00:00\",\"2021-06-17T00:00:00+00:00\",\"2021-06-18T00:00:00+00:00\",\"2021-06-19T00:00:00+00:00\",\"2021-06-20T00:00:00+00:00\",\"2021-06-21T00:00:00+00:00\",\"2021-06-22T00:00:00+00:00\",\"2021-06-23T00:00:00+00:00\",\"2021-06-24T00:00:00+00:00\",\"2021-06-25T00:00:00+00:00\",\"2021-06-26T00:00:00+00:00\",\"2021-06-27T00:00:00+00:00\",\"2021-06-28T00:00:00+00:00\",\"2021-06-29T00:00:00+00:00\",\"2021-06-30T00:00:00+00:00\"],\"xaxis\":\"x\",\"y\":[22,52,27,11,6,3,45,4653,6765,2800,1564,440,474,2163,1689,1013,953,895,242,220,3000,2129,1375,1307,833,198,273,929,722,596],\"yaxis\":\"y\"},{\"hovertemplate\":\"symbol=WKHS<br>day=%{x}<br>mentions=%{y}<extra></extra>\",\"legendgroup\":\"WKHS\",\"line\":{\"color\":\"#FECB52\",\"dash\":\"solid\"},\"mode\":\"lines\",\"name\":\"WKHS\",\"orientation\":\"v\",\"showlegend\":true,\"type\":\"scatter\",\"x\":[\"2021-06-01T00:00:00+00:00\",\"2021-06-02T00:00:00+00:00\",\"2021-06-03T00:00:00+00:00\",\"2021-06-04T00:00:00+00:00\",\"2021-06-05T00:00:00+00:00\",\"2021-06-06T00:00:00+00:00\",\"2021-06-07T00:00:00+00:00\",\"2021-06-08T00:00:00+00:00\",\"2021-06-09T00:00:00+00:00\",\"2021-06-10T00:00:00+00:00\",\"2021-06-11T00:00:00+00:00\",\"2021-06-12T00:00:00+00:00\",\"2021-06-13T00:00:00+00:00\",\"2021-06-14T00:00:00+00:00\",\"2021-06-15T00:00:00+00:00\",\"2021-06-16T00:00:00+00:00\",\"2021-06-17T00:00:00+00:00\",\"2021-06-18T00:00:00+00:00\",\"2021-06-19T00:00:00+00:00\",\"2021-06-20T00:00:00+00:00\",\"2021-06-21T00:00:00+00:00\",\"2021-06-22T00:00:00+00:00\",\"2021-06-23T00:00:00+00:00\",\"2021-06-24T00:00:00+00:00\",\"2021-06-25T00:00:00+00:00\",\"2021-06-26T00:00:00+00:00\",\"2021-06-27T00:00:00+00:00\",\"2021-06-28T00:00:00+00:00\",\"2021-06-29T00:00:00+00:00\",\"2021-06-30T00:00:00+00:00\"],\"xaxis\":\"x\",\"y\":[12,266,1064,588,143,194,594,1367,2687,1544,1318,253,317,894,599,950,534,409,159,133,306,320,1026,782,555,89,139,924,785,535],\"yaxis\":\"y\"}],                        {\"legend\":{\"title\":{\"text\":\"symbol\"},\"tracegroupgap\":0},\"template\":{\"data\":{\"bar\":[{\"error_x\":{\"color\":\"#2a3f5f\"},\"error_y\":{\"color\":\"#2a3f5f\"},\"marker\":{\"line\":{\"color\":\"#E5ECF6\",\"width\":0.5},\"pattern\":{\"fillmode\":\"overlay\",\"size\":10,\"solidity\":0.2}},\"type\":\"bar\"}],\"barpolar\":[{\"marker\":{\"line\":{\"color\":\"#E5ECF6\",\"width\":0.5},\"pattern\":{\"fillmode\":\"overlay\",\"size\":10,\"solidity\":0.2}},\"type\":\"barpolar\"}],\"carpet\":[{\"aaxis\":{\"endlinecolor\":\"#2a3f5f\",\"gridcolor\":\"white\",\"linecolor\":\"white\",\"minorgridcolor\":\"white\",\"startlinecolor\":\"#2a3f5f\"},\"baxis\":{\"endlinecolor\":\"#2a3f5f\",\"gridcolor\":\"white\",\"linecolor\":\"white\",\"minorgridcolor\":\"white\",\"startlinecolor\":\"#2a3f5f\"},\"type\":\"carpet\"}],\"choropleth\":[{\"colorbar\":{\"outlinewidth\":0,\"ticks\":\"\"},\"type\":\"choropleth\"}],\"contour\":[{\"colorbar\":{\"outlinewidth\":0,\"ticks\":\"\"},\"colorscale\":[[0.0,\"#0d0887\"],[0.1111111111111111,\"#46039f\"],[0.2222222222222222,\"#7201a8\"],[0.3333333333333333,\"#9c179e\"],[0.4444444444444444,\"#bd3786\"],[0.5555555555555556,\"#d8576b\"],[0.6666666666666666,\"#ed7953\"],[0.7777777777777778,\"#fb9f3a\"],[0.8888888888888888,\"#fdca26\"],[1.0,\"#f0f921\"]],\"type\":\"contour\"}],\"contourcarpet\":[{\"colorbar\":{\"outlinewidth\":0,\"ticks\":\"\"},\"type\":\"contourcarpet\"}],\"heatmap\":[{\"colorbar\":{\"outlinewidth\":0,\"ticks\":\"\"},\"colorscale\":[[0.0,\"#0d0887\"],[0.1111111111111111,\"#46039f\"],[0.2222222222222222,\"#7201a8\"],[0.3333333333333333,\"#9c179e\"],[0.4444444444444444,\"#bd3786\"],[0.5555555555555556,\"#d8576b\"],[0.6666666666666666,\"#ed7953\"],[0.7777777777777778,\"#fb9f3a\"],[0.8888888888888888,\"#fdca26\"],[1.0,\"#f0f921\"]],\"type\":\"heatmap\"}],\"heatmapgl\":[{\"colorbar\":{\"outlinewidth\":0,\"ticks\":\"\"},\"colorscale\":[[0.0,\"#0d0887\"],[0.1111111111111111,\"#46039f\"],[0.2222222222222222,\"#7201a8\"],[0.3333333333333333,\"#9c179e\"],[0.4444444444444444,\"#bd3786\"],[0.5555555555555556,\"#d8576b\"],[0.6666666666666666,\"#ed7953\"],[0.7777777777777778,\"#fb9f3a\"],[0.8888888888888888,\"#fdca26\"],[1.0,\"#f0f921\"]],\"type\":\"heatmapgl\"}],\"histogram\":[{\"marker\":{\"pattern\":{\"fillmode\":\"overlay\",\"size\":10,\"solidity\":0.2}},\"type\":\"histogram\"}],\"histogram2d\":[{\"colorbar\":{\"outlinewidth\":0,\"ticks\":\"\"},\"colorscale\":[[0.0,\"#0d0887\"],[0.1111111111111111,\"#46039f\"],[0.2222222222222222,\"#7201a8\"],[0.3333333333333333,\"#9c179e\"],[0.4444444444444444,\"#bd3786\"],[0.5555555555555556,\"#d8576b\"],[0.6666666666666666,\"#ed7953\"],[0.7777777777777778,\"#fb9f3a\"],[0.8888888888888888,\"#fdca26\"],[1.0,\"#f0f921\"]],\"type\":\"histogram2d\"}],\"histogram2dcontour\":[{\"colorbar\":{\"outlinewidth\":0,\"ticks\":\"\"},\"colorscale\":[[0.0,\"#0d0887\"],[0.1111111111111111,\"#46039f\"],[0.2222222222222222,\"#7201a8\"],[0.3333333333333333,\"#9c179e\"],[0.4444444444444444,\"#bd3786\"],[0.5555555555555556,\"#d8576b\"],[0.6666666666666666,\"#ed7953\"],[0.7777777777777778,\"#fb9f3a\"],[0.8888888888888888,\"#fdca26\"],[1.0,\"#f0f921\"]],\"type\":\"histogram2dcontour\"}],\"mesh3d\":[{\"colorbar\":{\"outlinewidth\":0,\"ticks\":\"\"},\"type\":\"mesh3d\"}],\"parcoords\":[{\"line\":{\"colorbar\":{\"outlinewidth\":0,\"ticks\":\"\"}},\"type\":\"parcoords\"}],\"pie\":[{\"automargin\":true,\"type\":\"pie\"}],\"scatter\":[{\"marker\":{\"colorbar\":{\"outlinewidth\":0,\"ticks\":\"\"}},\"type\":\"scatter\"}],\"scatter3d\":[{\"line\":{\"colorbar\":{\"outlinewidth\":0,\"ticks\":\"\"}},\"marker\":{\"colorbar\":{\"outlinewidth\":0,\"ticks\":\"\"}},\"type\":\"scatter3d\"}],\"scattercarpet\":[{\"marker\":{\"colorbar\":{\"outlinewidth\":0,\"ticks\":\"\"}},\"type\":\"scattercarpet\"}],\"scattergeo\":[{\"marker\":{\"colorbar\":{\"outlinewidth\":0,\"ticks\":\"\"}},\"type\":\"scattergeo\"}],\"scattergl\":[{\"marker\":{\"colorbar\":{\"outlinewidth\":0,\"ticks\":\"\"}},\"type\":\"scattergl\"}],\"scattermapbox\":[{\"marker\":{\"colorbar\":{\"outlinewidth\":0,\"ticks\":\"\"}},\"type\":\"scattermapbox\"}],\"scatterpolar\":[{\"marker\":{\"colorbar\":{\"outlinewidth\":0,\"ticks\":\"\"}},\"type\":\"scatterpolar\"}],\"scatterpolargl\":[{\"marker\":{\"colorbar\":{\"outlinewidth\":0,\"ticks\":\"\"}},\"type\":\"scatterpolargl\"}],\"scatterternary\":[{\"marker\":{\"colorbar\":{\"outlinewidth\":0,\"ticks\":\"\"}},\"type\":\"scatterternary\"}],\"surface\":[{\"colorbar\":{\"outlinewidth\":0,\"ticks\":\"\"},\"colorscale\":[[0.0,\"#0d0887\"],[0.1111111111111111,\"#46039f\"],[0.2222222222222222,\"#7201a8\"],[0.3333333333333333,\"#9c179e\"],[0.4444444444444444,\"#bd3786\"],[0.5555555555555556,\"#d8576b\"],[0.6666666666666666,\"#ed7953\"],[0.7777777777777778,\"#fb9f3a\"],[0.8888888888888888,\"#fdca26\"],[1.0,\"#f0f921\"]],\"type\":\"surface\"}],\"table\":[{\"cells\":{\"fill\":{\"color\":\"#EBF0F8\"},\"line\":{\"color\":\"white\"}},\"header\":{\"fill\":{\"color\":\"#C8D4E3\"},\"line\":{\"color\":\"white\"}},\"type\":\"table\"}]},\"layout\":{\"annotationdefaults\":{\"arrowcolor\":\"#2a3f5f\",\"arrowhead\":0,\"arrowwidth\":1},\"autotypenumbers\":\"strict\",\"coloraxis\":{\"colorbar\":{\"outlinewidth\":0,\"ticks\":\"\"}},\"colorscale\":{\"diverging\":[[0,\"#8e0152\"],[0.1,\"#c51b7d\"],[0.2,\"#de77ae\"],[0.3,\"#f1b6da\"],[0.4,\"#fde0ef\"],[0.5,\"#f7f7f7\"],[0.6,\"#e6f5d0\"],[0.7,\"#b8e186\"],[0.8,\"#7fbc41\"],[0.9,\"#4d9221\"],[1,\"#276419\"]],\"sequential\":[[0.0,\"#0d0887\"],[0.1111111111111111,\"#46039f\"],[0.2222222222222222,\"#7201a8\"],[0.3333333333333333,\"#9c179e\"],[0.4444444444444444,\"#bd3786\"],[0.5555555555555556,\"#d8576b\"],[0.6666666666666666,\"#ed7953\"],[0.7777777777777778,\"#fb9f3a\"],[0.8888888888888888,\"#fdca26\"],[1.0,\"#f0f921\"]],\"sequentialminus\":[[0.0,\"#0d0887\"],[0.1111111111111111,\"#46039f\"],[0.2222222222222222,\"#7201a8\"],[0.3333333333333333,\"#9c179e\"],[0.4444444444444444,\"#bd3786\"],[0.5555555555555556,\"#d8576b\"],[0.6666666666666666,\"#ed7953\"],[0.7777777777777778,\"#fb9f3a\"],[0.8888888888888888,\"#fdca26\"],[1.0,\"#f0f921\"]]},\"colorway\":[\"#636efa\",\"#EF553B\",\"#00cc96\",\"#ab63fa\",\"#FFA15A\",\"#19d3f3\",\"#FF6692\",\"#B6E880\",\"#FF97FF\",\"#FECB52\"],\"font\":{\"color\":\"#2a3f5f\"},\"geo\":{\"bgcolor\":\"white\",\"lakecolor\":\"white\",\"landcolor\":\"#E5ECF6\",\"showlakes\":true,\"showland\":true,\"subunitcolor\":\"white\"},\"hoverlabel\":{\"align\":\"left\"},\"hovermode\":\"closest\",\"mapbox\":{\"style\":\"light\"},\"paper_bgcolor\":\"white\",\"plot_bgcolor\":\"#E5ECF6\",\"polar\":{\"angularaxis\":{\"gridcolor\":\"white\",\"linecolor\":\"white\",\"ticks\":\"\"},\"bgcolor\":\"#E5ECF6\",\"radialaxis\":{\"gridcolor\":\"white\",\"linecolor\":\"white\",\"ticks\":\"\"}},\"scene\":{\"xaxis\":{\"backgroundcolor\":\"#E5ECF6\",\"gridcolor\":\"white\",\"gridwidth\":2,\"linecolor\":\"white\",\"showbackground\":true,\"ticks\":\"\",\"zerolinecolor\":\"white\"},\"yaxis\":{\"backgroundcolor\":\"#E5ECF6\",\"gridcolor\":\"white\",\"gridwidth\":2,\"linecolor\":\"white\",\"showbackground\":true,\"ticks\":\"\",\"zerolinecolor\":\"white\"},\"zaxis\":{\"backgroundcolor\":\"#E5ECF6\",\"gridcolor\":\"white\",\"gridwidth\":2,\"linecolor\":\"white\",\"showbackground\":true,\"ticks\":\"\",\"zerolinecolor\":\"white\"}},\"shapedefaults\":{\"line\":{\"color\":\"#2a3f5f\"}},\"ternary\":{\"aaxis\":{\"gridcolor\":\"white\",\"linecolor\":\"white\",\"ticks\":\"\"},\"baxis\":{\"gridcolor\":\"white\",\"linecolor\":\"white\",\"ticks\":\"\"},\"bgcolor\":\"#E5ECF6\",\"caxis\":{\"gridcolor\":\"white\",\"linecolor\":\"white\",\"ticks\":\"\"}},\"title\":{\"x\":0.05},\"xaxis\":{\"automargin\":true,\"gridcolor\":\"white\",\"linecolor\":\"white\",\"ticks\":\"\",\"title\":{\"standoff\":15},\"zerolinecolor\":\"white\",\"zerolinewidth\":2},\"yaxis\":{\"automargin\":true,\"gridcolor\":\"white\",\"linecolor\":\"white\",\"ticks\":\"\",\"title\":{\"standoff\":15},\"zerolinecolor\":\"white\",\"zerolinewidth\":2}}},\"title\":{\"text\":\"Mentions by day\"},\"xaxis\":{\"anchor\":\"y\",\"domain\":[0.0,1.0],\"title\":{\"text\":\"day\"}},\"yaxis\":{\"anchor\":\"x\",\"domain\":[0.0,1.0],\"title\":{\"text\":\"mentions\"}}},                        {\"responsive\": true}                    ).then(function(){\n",
       "                            \n",
       "var gd = document.getElementById('418ade69-bc1a-49af-925c-eebe468ea489');\n",
       "var x = new MutationObserver(function (mutations, observer) {{\n",
       "        var display = window.getComputedStyle(gd).display;\n",
       "        if (!display || display === 'none') {{\n",
       "            console.log([gd, 'removed!']);\n",
       "            Plotly.purge(gd);\n",
       "            observer.disconnect();\n",
       "        }}\n",
       "}});\n",
       "\n",
       "// Listen for the removal of the full notebook cells\n",
       "var notebookContainer = gd.closest('#notebook-container');\n",
       "if (notebookContainer) {{\n",
       "    x.observe(notebookContainer, {childList: true});\n",
       "}}\n",
       "\n",
       "// Listen for the clearing of the current output cell\n",
       "var outputEl = gd.closest('.output');\n",
       "if (outputEl) {{\n",
       "    x.observe(outputEl, {childList: true});\n",
       "}}\n",
       "\n",
       "                        })                };                });            </script>        </div>"
      ]
     },
     "metadata": {},
     "output_type": "display_data"
    }
   ],
   "source": [
    "fig = px.line(mentions[mentions['symbol'].isin(top_symbols[:10])], \n",
    "              x=\"day\", y=\"num_mentions\", line_group=\"symbol\", color=\"symbol\",\n",
    "              title=\"Mentions by day\", labels={'num_mentions': 'mentions'})\n",
    "fig.show()"
   ]
  },
  {
   "cell_type": "code",
   "execution_count": 126,
   "id": "f06ad2c7",
   "metadata": {},
   "outputs": [
    {
     "data": {
      "text/html": [
       "<div>\n",
       "<style scoped>\n",
       "    .dataframe tbody tr th:only-of-type {\n",
       "        vertical-align: middle;\n",
       "    }\n",
       "\n",
       "    .dataframe tbody tr th {\n",
       "        vertical-align: top;\n",
       "    }\n",
       "\n",
       "    .dataframe thead th {\n",
       "        text-align: right;\n",
       "    }\n",
       "</style>\n",
       "<table border=\"1\" class=\"dataframe\">\n",
       "  <thead>\n",
       "    <tr style=\"text-align: right;\">\n",
       "      <th></th>\n",
       "      <th>symbol</th>\n",
       "      <th>day</th>\n",
       "      <th>num_stock_mentions</th>\n",
       "      <th>@meta.timestamp</th>\n",
       "      <th>num_total_mentions</th>\n",
       "      <th>mention_perc</th>\n",
       "    </tr>\n",
       "  </thead>\n",
       "  <tbody>\n",
       "    <tr>\n",
       "      <th>30</th>\n",
       "      <td>AMC</td>\n",
       "      <td>2021-06-01 00:00:00+00:00</td>\n",
       "      <td>3986</td>\n",
       "      <td>2021-07-14 12:49:21.290000+00:00</td>\n",
       "      <td>14007</td>\n",
       "      <td>0.284572</td>\n",
       "    </tr>\n",
       "    <tr>\n",
       "      <th>71</th>\n",
       "      <td>BB</td>\n",
       "      <td>2021-06-01 00:00:00+00:00</td>\n",
       "      <td>3421</td>\n",
       "      <td>2021-07-14 12:49:21.661000+00:00</td>\n",
       "      <td>14007</td>\n",
       "      <td>0.244235</td>\n",
       "    </tr>\n",
       "    <tr>\n",
       "      <th>136</th>\n",
       "      <td>CLF</td>\n",
       "      <td>2021-06-01 00:00:00+00:00</td>\n",
       "      <td>3</td>\n",
       "      <td>2021-07-14 12:49:22.696000+00:00</td>\n",
       "      <td>14007</td>\n",
       "      <td>0.000214</td>\n",
       "    </tr>\n",
       "    <tr>\n",
       "      <th>137</th>\n",
       "      <td>CLNE</td>\n",
       "      <td>2021-06-01 00:00:00+00:00</td>\n",
       "      <td>8</td>\n",
       "      <td>2021-07-14 12:49:22.696000+00:00</td>\n",
       "      <td>14007</td>\n",
       "      <td>0.000571</td>\n",
       "    </tr>\n",
       "    <tr>\n",
       "      <th>138</th>\n",
       "      <td>CLOV</td>\n",
       "      <td>2021-06-01 00:00:00+00:00</td>\n",
       "      <td>59</td>\n",
       "      <td>2021-07-14 12:49:22.696000+00:00</td>\n",
       "      <td>14007</td>\n",
       "      <td>0.004212</td>\n",
       "    </tr>\n",
       "    <tr>\n",
       "      <th>...</th>\n",
       "      <td>...</td>\n",
       "      <td>...</td>\n",
       "      <td>...</td>\n",
       "      <td>...</td>\n",
       "      <td>...</td>\n",
       "      <td>...</td>\n",
       "    </tr>\n",
       "    <tr>\n",
       "      <th>8438</th>\n",
       "      <td>TLRY</td>\n",
       "      <td>2021-06-07 00:00:00+00:00</td>\n",
       "      <td>616</td>\n",
       "      <td>2021-07-14 12:49:29.413000+00:00</td>\n",
       "      <td>25576</td>\n",
       "      <td>0.024085</td>\n",
       "    </tr>\n",
       "    <tr>\n",
       "      <th>8487</th>\n",
       "      <td>UWMC</td>\n",
       "      <td>2021-06-07 00:00:00+00:00</td>\n",
       "      <td>122</td>\n",
       "      <td>2021-07-14 12:49:29.769000+00:00</td>\n",
       "      <td>25576</td>\n",
       "      <td>0.004770</td>\n",
       "    </tr>\n",
       "    <tr>\n",
       "      <th>8522</th>\n",
       "      <td>WISH</td>\n",
       "      <td>2021-06-07 00:00:00+00:00</td>\n",
       "      <td>45</td>\n",
       "      <td>2021-07-14 12:49:30.168000+00:00</td>\n",
       "      <td>25576</td>\n",
       "      <td>0.001759</td>\n",
       "    </tr>\n",
       "    <tr>\n",
       "      <th>8524</th>\n",
       "      <td>WKHS</td>\n",
       "      <td>2021-06-07 00:00:00+00:00</td>\n",
       "      <td>594</td>\n",
       "      <td>2021-07-14 12:49:30.168000+00:00</td>\n",
       "      <td>25576</td>\n",
       "      <td>0.023225</td>\n",
       "    </tr>\n",
       "    <tr>\n",
       "      <th>8613</th>\n",
       "      <td>AMC</td>\n",
       "      <td>2021-06-08 00:00:00+00:00</td>\n",
       "      <td>3527</td>\n",
       "      <td>2021-07-14 12:49:21.290000+00:00</td>\n",
       "      <td>44303</td>\n",
       "      <td>0.079611</td>\n",
       "    </tr>\n",
       "  </tbody>\n",
       "</table>\n",
       "<p>100 rows × 6 columns</p>\n",
       "</div>"
      ],
      "text/plain": [
       "     symbol                       day  num_stock_mentions  \\\n",
       "30      AMC 2021-06-01 00:00:00+00:00                3986   \n",
       "71       BB 2021-06-01 00:00:00+00:00                3421   \n",
       "136     CLF 2021-06-01 00:00:00+00:00                   3   \n",
       "137    CLNE 2021-06-01 00:00:00+00:00                   8   \n",
       "138    CLOV 2021-06-01 00:00:00+00:00                  59   \n",
       "...     ...                       ...                 ...   \n",
       "8438   TLRY 2021-06-07 00:00:00+00:00                 616   \n",
       "8487   UWMC 2021-06-07 00:00:00+00:00                 122   \n",
       "8522   WISH 2021-06-07 00:00:00+00:00                  45   \n",
       "8524   WKHS 2021-06-07 00:00:00+00:00                 594   \n",
       "8613    AMC 2021-06-08 00:00:00+00:00                3527   \n",
       "\n",
       "                      @meta.timestamp  num_total_mentions  mention_perc  \n",
       "30   2021-07-14 12:49:21.290000+00:00               14007      0.284572  \n",
       "71   2021-07-14 12:49:21.661000+00:00               14007      0.244235  \n",
       "136  2021-07-14 12:49:22.696000+00:00               14007      0.000214  \n",
       "137  2021-07-14 12:49:22.696000+00:00               14007      0.000571  \n",
       "138  2021-07-14 12:49:22.696000+00:00               14007      0.004212  \n",
       "...                               ...                 ...           ...  \n",
       "8438 2021-07-14 12:49:29.413000+00:00               25576      0.024085  \n",
       "8487 2021-07-14 12:49:29.769000+00:00               25576      0.004770  \n",
       "8522 2021-07-14 12:49:30.168000+00:00               25576      0.001759  \n",
       "8524 2021-07-14 12:49:30.168000+00:00               25576      0.023225  \n",
       "8613 2021-07-14 12:49:21.290000+00:00               44303      0.079611  \n",
       "\n",
       "[100 rows x 6 columns]"
      ]
     },
     "execution_count": 126,
     "metadata": {},
     "output_type": "execute_result"
    }
   ],
   "source": [
    "# TODO: clean up (naming, rename on merge)\n",
    "total_mentions = mentions.groupby('day')['num_mentions'].sum().reset_index()\n",
    "tmp = mentions \\\n",
    "    .merge(total_mentions, on=\"day\") \\\n",
    "    .rename(columns={'num_mentions_x': 'num_stock_mentions', 'num_mentions_y': 'num_total_mentions'})\n",
    "tmp['mention_perc'] = tmp['num_stock_mentions'] / tmp['num_total_mentions']\n",
    "tmp[tmp['symbol'].isin(top_symbols[0:10])].head(100)"
   ]
  },
  {
   "cell_type": "code",
   "execution_count": 128,
   "id": "9a5e94e8",
   "metadata": {},
   "outputs": [
    {
     "data": {
      "application/vnd.plotly.v1+json": {
       "config": {
        "plotlyServerURL": "https://plot.ly"
       },
       "data": [
        {
         "hovertemplate": "symbol=WKHS<br>day=%{x}<br>mention_perc=%{y}<extra></extra>",
         "legendgroup": "WKHS",
         "line": {
          "color": "#636efa",
          "dash": "solid"
         },
         "mode": "lines",
         "name": "WKHS",
         "orientation": "v",
         "showlegend": true,
         "type": "scatter",
         "x": [
          "2021-06-30T00:00:00+00:00",
          "2021-06-29T00:00:00+00:00",
          "2021-06-28T00:00:00+00:00",
          "2021-06-27T00:00:00+00:00",
          "2021-06-26T00:00:00+00:00",
          "2021-06-25T00:00:00+00:00",
          "2021-06-24T00:00:00+00:00",
          "2021-06-23T00:00:00+00:00",
          "2021-06-22T00:00:00+00:00",
          "2021-06-21T00:00:00+00:00",
          "2021-06-20T00:00:00+00:00",
          "2021-06-19T00:00:00+00:00",
          "2021-06-18T00:00:00+00:00",
          "2021-06-17T00:00:00+00:00",
          "2021-06-16T00:00:00+00:00",
          "2021-06-15T00:00:00+00:00",
          "2021-06-14T00:00:00+00:00",
          "2021-06-13T00:00:00+00:00",
          "2021-06-12T00:00:00+00:00",
          "2021-06-11T00:00:00+00:00",
          "2021-06-10T00:00:00+00:00",
          "2021-06-09T00:00:00+00:00",
          "2021-06-08T00:00:00+00:00",
          "2021-06-07T00:00:00+00:00",
          "2021-06-06T00:00:00+00:00",
          "2021-06-05T00:00:00+00:00",
          "2021-06-04T00:00:00+00:00",
          "2021-06-03T00:00:00+00:00",
          "2021-06-02T00:00:00+00:00",
          "2021-06-01T00:00:00+00:00"
         ],
         "xaxis": "x",
         "y": [
          0.0450868026293612,
          0.05806213017751479,
          0.0653835267478064,
          0.029467882128471488,
          0.028191320874247704,
          0.04130693658827032,
          0.0567118717818551,
          0.07209106239460371,
          0.022027947958972945,
          0.020481927710843374,
          0.03658872077028886,
          0.040406607369758575,
          0.028361417377435683,
          0.03029959146618248,
          0.05297496235989516,
          0.026768557000491577,
          0.033220616104938504,
          0.038452207666181466,
          0.03545403587443946,
          0.049899670616741755,
          0.04021880698098463,
          0.04488507283175197,
          0.03085569825971153,
          0.023224898342195807,
          0.024414799899320414,
          0.018363939899833055,
          0.019991160371264406,
          0.021406297153203902,
          0.007547812269451223,
          0.0008567144998929107
         ],
         "yaxis": "y"
        },
        {
         "hovertemplate": "symbol=CLOV<br>day=%{x}<br>mention_perc=%{y}<extra></extra>",
         "legendgroup": "CLOV",
         "line": {
          "color": "#EF553B",
          "dash": "solid"
         },
         "mode": "lines",
         "name": "CLOV",
         "orientation": "v",
         "showlegend": true,
         "type": "scatter",
         "x": [
          "2021-06-30T00:00:00+00:00",
          "2021-06-29T00:00:00+00:00",
          "2021-06-28T00:00:00+00:00",
          "2021-06-27T00:00:00+00:00",
          "2021-06-26T00:00:00+00:00",
          "2021-06-25T00:00:00+00:00",
          "2021-06-24T00:00:00+00:00",
          "2021-06-23T00:00:00+00:00",
          "2021-06-22T00:00:00+00:00",
          "2021-06-21T00:00:00+00:00",
          "2021-06-20T00:00:00+00:00",
          "2021-06-19T00:00:00+00:00",
          "2021-06-18T00:00:00+00:00",
          "2021-06-17T00:00:00+00:00",
          "2021-06-16T00:00:00+00:00",
          "2021-06-15T00:00:00+00:00",
          "2021-06-14T00:00:00+00:00",
          "2021-06-13T00:00:00+00:00",
          "2021-06-12T00:00:00+00:00",
          "2021-06-11T00:00:00+00:00",
          "2021-06-10T00:00:00+00:00",
          "2021-06-09T00:00:00+00:00",
          "2021-06-08T00:00:00+00:00",
          "2021-06-07T00:00:00+00:00",
          "2021-06-06T00:00:00+00:00",
          "2021-06-05T00:00:00+00:00",
          "2021-06-04T00:00:00+00:00",
          "2021-06-03T00:00:00+00:00",
          "2021-06-02T00:00:00+00:00",
          "2021-06-01T00:00:00+00:00"
         ],
         "xaxis": "x",
         "y": [
          0.06775661554019889,
          0.09326923076923077,
          0.053778658363996604,
          0.07017171931312274,
          0.06841938549255623,
          0.059020541827924974,
          0.09899195010515628,
          0.10792580101180438,
          0.10332484339505747,
          0.04176706827309237,
          0.0624484181568088,
          0.03532401524777637,
          0.0323833298661674,
          0.03029959146618248,
          0.05085596386549936,
          0.05331367028645484,
          0.05975251755787596,
          0.06817079087821445,
          0.06838565022421525,
          0.09544542460152197,
          0.08335504037509768,
          0.12040625417613257,
          0.16795702322641806,
          0.1010322177040976,
          0.0445507173420589,
          0.016822909978168744,
          0.016931288885866792,
          0.02271401267478121,
          0.021054423698995517,
          0.004212179624473477
         ],
         "yaxis": "y"
        },
        {
         "hovertemplate": "symbol=AMC<br>day=%{x}<br>mention_perc=%{y}<extra></extra>",
         "legendgroup": "AMC",
         "line": {
          "color": "#00cc96",
          "dash": "solid"
         },
         "mode": "lines",
         "name": "AMC",
         "orientation": "v",
         "showlegend": true,
         "type": "scatter",
         "x": [
          "2021-06-30T00:00:00+00:00",
          "2021-06-29T00:00:00+00:00",
          "2021-06-28T00:00:00+00:00",
          "2021-06-27T00:00:00+00:00",
          "2021-06-26T00:00:00+00:00",
          "2021-06-25T00:00:00+00:00",
          "2021-06-24T00:00:00+00:00",
          "2021-06-23T00:00:00+00:00",
          "2021-06-22T00:00:00+00:00",
          "2021-06-21T00:00:00+00:00",
          "2021-06-20T00:00:00+00:00",
          "2021-06-19T00:00:00+00:00",
          "2021-06-18T00:00:00+00:00",
          "2021-06-17T00:00:00+00:00",
          "2021-06-16T00:00:00+00:00",
          "2021-06-15T00:00:00+00:00",
          "2021-06-14T00:00:00+00:00",
          "2021-06-13T00:00:00+00:00",
          "2021-06-12T00:00:00+00:00",
          "2021-06-11T00:00:00+00:00",
          "2021-06-10T00:00:00+00:00",
          "2021-06-09T00:00:00+00:00",
          "2021-06-08T00:00:00+00:00",
          "2021-06-07T00:00:00+00:00",
          "2021-06-06T00:00:00+00:00",
          "2021-06-05T00:00:00+00:00",
          "2021-06-04T00:00:00+00:00",
          "2021-06-03T00:00:00+00:00",
          "2021-06-02T00:00:00+00:00",
          "2021-06-01T00:00:00+00:00"
         ],
         "xaxis": "x",
         "y": [
          0.04247429630878139,
          0.0503698224852071,
          0.0537078969714124,
          0.07801568793724825,
          0.06335128286347799,
          0.048898481690979455,
          0.04960475741533106,
          0.05845980888139404,
          0.07909410064018724,
          0.07543507362784471,
          0.1265474552957359,
          0.15527318932655654,
          0.10845295055821372,
          0.1230140717203813,
          0.08738080633469024,
          0.09603610850426778,
          0.08483519750287986,
          0.08442503639010189,
          0.11729260089686099,
          0.09533184416764472,
          0.09632716853347226,
          0.07812708806628357,
          0.07961086156693678,
          0.13461839224272756,
          0.202617669267556,
          0.2463079491460126,
          0.22598850848264374,
          0.2511216175435067,
          0.2935985471880143,
          0.2845719997144285
         ],
         "yaxis": "y"
        },
        {
         "hovertemplate": "symbol=CLF<br>day=%{x}<br>mention_perc=%{y}<extra></extra>",
         "legendgroup": "CLF",
         "line": {
          "color": "#ab63fa",
          "dash": "solid"
         },
         "mode": "lines",
         "name": "CLF",
         "orientation": "v",
         "showlegend": true,
         "type": "scatter",
         "x": [
          "2021-06-30T00:00:00+00:00",
          "2021-06-29T00:00:00+00:00",
          "2021-06-28T00:00:00+00:00",
          "2021-06-27T00:00:00+00:00",
          "2021-06-26T00:00:00+00:00",
          "2021-06-25T00:00:00+00:00",
          "2021-06-24T00:00:00+00:00",
          "2021-06-23T00:00:00+00:00",
          "2021-06-22T00:00:00+00:00",
          "2021-06-21T00:00:00+00:00",
          "2021-06-20T00:00:00+00:00",
          "2021-06-19T00:00:00+00:00",
          "2021-06-18T00:00:00+00:00",
          "2021-06-17T00:00:00+00:00",
          "2021-06-16T00:00:00+00:00",
          "2021-06-15T00:00:00+00:00",
          "2021-06-14T00:00:00+00:00",
          "2021-06-13T00:00:00+00:00",
          "2021-06-12T00:00:00+00:00",
          "2021-06-11T00:00:00+00:00",
          "2021-06-10T00:00:00+00:00",
          "2021-06-09T00:00:00+00:00",
          "2021-06-08T00:00:00+00:00",
          "2021-06-07T00:00:00+00:00",
          "2021-06-06T00:00:00+00:00",
          "2021-06-05T00:00:00+00:00",
          "2021-06-03T00:00:00+00:00",
          "2021-06-02T00:00:00+00:00",
          "2021-06-01T00:00:00+00:00"
         ],
         "xaxis": "x",
         "y": [
          0.01095567166694758,
          0.017159763313609466,
          0.015213699405604303,
          0.016747933008267966,
          0.011086474501108648,
          0.016597201548079785,
          0.0280658495902531,
          0.009204609331084879,
          0.009499552557307084,
          0.018340026773761713,
          0.029436038514442917,
          0.011944091486658195,
          0.020040219124887317,
          0.021731729459827508,
          0.018903697094741538,
          0.028466729230906734,
          0.022147077403292335,
          0.031174187287724406,
          0.03054932735426009,
          0.04830954454246015,
          0.06420942953894243,
          0.051767339302418815,
          0.0007448705505270523,
          0.0005082890209571474,
          0.00012584948401711554,
          0.0005136766405547708,
          0.00016094960265566845,
          0.00022700187276545033,
          0.00021417862497322766
         ],
         "yaxis": "y"
        },
        {
         "hovertemplate": "symbol=CLNE<br>day=%{x}<br>mention_perc=%{y}<extra></extra>",
         "legendgroup": "CLNE",
         "line": {
          "color": "#FFA15A",
          "dash": "solid"
         },
         "mode": "lines",
         "name": "CLNE",
         "orientation": "v",
         "showlegend": true,
         "type": "scatter",
         "x": [
          "2021-06-30T00:00:00+00:00",
          "2021-06-29T00:00:00+00:00",
          "2021-06-28T00:00:00+00:00",
          "2021-06-27T00:00:00+00:00",
          "2021-06-26T00:00:00+00:00",
          "2021-06-25T00:00:00+00:00",
          "2021-06-24T00:00:00+00:00",
          "2021-06-23T00:00:00+00:00",
          "2021-06-22T00:00:00+00:00",
          "2021-06-21T00:00:00+00:00",
          "2021-06-20T00:00:00+00:00",
          "2021-06-19T00:00:00+00:00",
          "2021-06-18T00:00:00+00:00",
          "2021-06-17T00:00:00+00:00",
          "2021-06-16T00:00:00+00:00",
          "2021-06-15T00:00:00+00:00",
          "2021-06-14T00:00:00+00:00",
          "2021-06-13T00:00:00+00:00",
          "2021-06-12T00:00:00+00:00",
          "2021-06-11T00:00:00+00:00",
          "2021-06-10T00:00:00+00:00",
          "2021-06-09T00:00:00+00:00",
          "2021-06-08T00:00:00+00:00",
          "2021-06-07T00:00:00+00:00",
          "2021-06-06T00:00:00+00:00",
          "2021-06-05T00:00:00+00:00",
          "2021-06-04T00:00:00+00:00",
          "2021-06-03T00:00:00+00:00",
          "2021-06-02T00:00:00+00:00",
          "2021-06-01T00:00:00+00:00"
         ],
         "xaxis": "x",
         "y": [
          0.0319399966290241,
          0.028254437869822485,
          0.026110953863572036,
          0.024167903328386687,
          0.019322141273360786,
          0.024263173563560583,
          0.031474363623177896,
          0.03653738055087127,
          0.04467543195429201,
          0.06285140562248996,
          0.03603851444291609,
          0.033290978398983484,
          0.17315026697177727,
          0.09396277802995914,
          0.07048458149779736,
          0.09782365822049426,
          0.11266768236037308,
          0.10480349344978165,
          0.06992713004484305,
          0.0628478400787491,
          0.0758530867413389,
          0.09833956969130028,
          0.06575175496016071,
          0.0781983109164842,
          0.06758117291719104,
          0.03826890972133042,
          0.05208581239587937,
          0.033336686450055324,
          0.004483286987117644,
          0.0005711429999286071
         ],
         "yaxis": "y"
        },
        {
         "hovertemplate": "symbol=BB<br>day=%{x}<br>mention_perc=%{y}<extra></extra>",
         "legendgroup": "BB",
         "line": {
          "color": "#19d3f3",
          "dash": "solid"
         },
         "mode": "lines",
         "name": "BB",
         "orientation": "v",
         "showlegend": true,
         "type": "scatter",
         "x": [
          "2021-06-30T00:00:00+00:00",
          "2021-06-29T00:00:00+00:00",
          "2021-06-28T00:00:00+00:00",
          "2021-06-27T00:00:00+00:00",
          "2021-06-26T00:00:00+00:00",
          "2021-06-25T00:00:00+00:00",
          "2021-06-24T00:00:00+00:00",
          "2021-06-23T00:00:00+00:00",
          "2021-06-22T00:00:00+00:00",
          "2021-06-21T00:00:00+00:00",
          "2021-06-20T00:00:00+00:00",
          "2021-06-19T00:00:00+00:00",
          "2021-06-18T00:00:00+00:00",
          "2021-06-17T00:00:00+00:00",
          "2021-06-16T00:00:00+00:00",
          "2021-06-15T00:00:00+00:00",
          "2021-06-14T00:00:00+00:00",
          "2021-06-13T00:00:00+00:00",
          "2021-06-12T00:00:00+00:00",
          "2021-06-11T00:00:00+00:00",
          "2021-06-10T00:00:00+00:00",
          "2021-06-09T00:00:00+00:00",
          "2021-06-08T00:00:00+00:00",
          "2021-06-07T00:00:00+00:00",
          "2021-06-06T00:00:00+00:00",
          "2021-06-05T00:00:00+00:00",
          "2021-06-04T00:00:00+00:00",
          "2021-06-03T00:00:00+00:00",
          "2021-06-02T00:00:00+00:00",
          "2021-06-01T00:00:00+00:00"
         ],
         "xaxis": "x",
         "y": [
          0.022754087308275744,
          0.0389792899408284,
          0.052787998867817716,
          0.033707865168539325,
          0.050364269876465,
          0.059020541827924974,
          0.04822684748712742,
          0.04293142214727375,
          0.07420664968679011,
          0.0714859437751004,
          0.05392022008253095,
          0.07166454891994918,
          0.07981415990569309,
          0.08948025419881979,
          0.05526125020911169,
          0.04585065022120928,
          0.05443870536211958,
          0.05203784570596798,
          0.07118834080717489,
          0.08844129784575777,
          0.08455326908048971,
          0.07844447414138714,
          0.11335575468929869,
          0.22470284641851737,
          0.215706015605336,
          0.22935662000770515,
          0.3096929928942984,
          0.33817523387989135,
          0.27773679132852847,
          0.2442350253444706
         ],
         "yaxis": "y"
        },
        {
         "hovertemplate": "symbol=GME<br>day=%{x}<br>mention_perc=%{y}<extra></extra>",
         "legendgroup": "GME",
         "line": {
          "color": "#FF6692",
          "dash": "solid"
         },
         "mode": "lines",
         "name": "GME",
         "orientation": "v",
         "showlegend": true,
         "type": "scatter",
         "x": [
          "2021-06-30T00:00:00+00:00",
          "2021-06-29T00:00:00+00:00",
          "2021-06-28T00:00:00+00:00",
          "2021-06-27T00:00:00+00:00",
          "2021-06-26T00:00:00+00:00",
          "2021-06-25T00:00:00+00:00",
          "2021-06-24T00:00:00+00:00",
          "2021-06-23T00:00:00+00:00",
          "2021-06-22T00:00:00+00:00",
          "2021-06-21T00:00:00+00:00",
          "2021-06-20T00:00:00+00:00",
          "2021-06-19T00:00:00+00:00",
          "2021-06-18T00:00:00+00:00",
          "2021-06-17T00:00:00+00:00",
          "2021-06-16T00:00:00+00:00",
          "2021-06-15T00:00:00+00:00",
          "2021-06-14T00:00:00+00:00",
          "2021-06-13T00:00:00+00:00",
          "2021-06-12T00:00:00+00:00",
          "2021-06-11T00:00:00+00:00",
          "2021-06-10T00:00:00+00:00",
          "2021-06-09T00:00:00+00:00",
          "2021-06-08T00:00:00+00:00",
          "2021-06-07T00:00:00+00:00",
          "2021-06-06T00:00:00+00:00",
          "2021-06-05T00:00:00+00:00",
          "2021-06-04T00:00:00+00:00",
          "2021-06-03T00:00:00+00:00",
          "2021-06-02T00:00:00+00:00",
          "2021-06-01T00:00:00+00:00"
         ],
         "xaxis": "x",
         "y": [
          0.04483397943704703,
          0.04393491124260355,
          0.046914803283328615,
          0.13016747933008269,
          0.06303452644916059,
          0.045549270616254835,
          0.0401044310682428,
          0.05382237211916807,
          0.07764851655537963,
          0.05502008032128514,
          0.09958734525447042,
          0.11003811944091486,
          0.05110602593440122,
          0.03983204720835225,
          0.053253777951263036,
          0.0437055905617375,
          0.0331462970532496,
          0.05312954876273653,
          0.0795964125560538,
          0.0582289024344073,
          0.08390205782755926,
          0.08378992382734197,
          0.09681059973365234,
          0.08898967782295902,
          0.12836647369745785,
          0.13073070502118916,
          0.07506884710842145,
          0.07339301881098481,
          0.09698655013903865,
          0.09638038123795245
         ],
         "yaxis": "y"
        },
        {
         "hovertemplate": "symbol=TLRY<br>day=%{x}<br>mention_perc=%{y}<extra></extra>",
         "legendgroup": "TLRY",
         "line": {
          "color": "#B6E880",
          "dash": "solid"
         },
         "mode": "lines",
         "name": "TLRY",
         "orientation": "v",
         "showlegend": true,
         "type": "scatter",
         "x": [
          "2021-06-30T00:00:00+00:00",
          "2021-06-29T00:00:00+00:00",
          "2021-06-28T00:00:00+00:00",
          "2021-06-27T00:00:00+00:00",
          "2021-06-26T00:00:00+00:00",
          "2021-06-25T00:00:00+00:00",
          "2021-06-24T00:00:00+00:00",
          "2021-06-23T00:00:00+00:00",
          "2021-06-22T00:00:00+00:00",
          "2021-06-21T00:00:00+00:00",
          "2021-06-20T00:00:00+00:00",
          "2021-06-19T00:00:00+00:00",
          "2021-06-18T00:00:00+00:00",
          "2021-06-17T00:00:00+00:00",
          "2021-06-16T00:00:00+00:00",
          "2021-06-15T00:00:00+00:00",
          "2021-06-14T00:00:00+00:00",
          "2021-06-13T00:00:00+00:00",
          "2021-06-12T00:00:00+00:00",
          "2021-06-11T00:00:00+00:00",
          "2021-06-10T00:00:00+00:00",
          "2021-06-09T00:00:00+00:00",
          "2021-06-08T00:00:00+00:00",
          "2021-06-07T00:00:00+00:00",
          "2021-06-06T00:00:00+00:00",
          "2021-06-05T00:00:00+00:00",
          "2021-06-04T00:00:00+00:00",
          "2021-06-03T00:00:00+00:00",
          "2021-06-02T00:00:00+00:00",
          "2021-06-01T00:00:00+00:00"
         ],
         "xaxis": "x",
         "y": [
          0.012304062025956514,
          0.013091715976331362,
          0.010331163317294084,
          0.013567945728217087,
          0.006968641114982578,
          0.010791902351890443,
          0.019000652694176518,
          0.013350196739741428,
          0.011358160666345426,
          0.021285140562248995,
          0.009903713892709767,
          0.007623888182973317,
          0.01171902087233895,
          0.01112119836586473,
          0.013940779568393465,
          0.01211064932743442,
          0.014789491286091189,
          0.019893255701115962,
          0.010369955156950673,
          0.014576155680914702,
          0.017374316228184424,
          0.02986770012027262,
          0.017335169175902308,
          0.024085079762277136,
          0.020135917442738484,
          0.009888275330679337,
          0.022745044708122258,
          0.029715320390302787,
          0.022756937744736395,
          0.013636039123295494
         ],
         "yaxis": "y"
        },
        {
         "hovertemplate": "symbol=UWMC<br>day=%{x}<br>mention_perc=%{y}<extra></extra>",
         "legendgroup": "UWMC",
         "line": {
          "color": "#FF97FF",
          "dash": "solid"
         },
         "mode": "lines",
         "name": "UWMC",
         "orientation": "v",
         "showlegend": true,
         "type": "scatter",
         "x": [
          "2021-06-30T00:00:00+00:00",
          "2021-06-29T00:00:00+00:00",
          "2021-06-28T00:00:00+00:00",
          "2021-06-27T00:00:00+00:00",
          "2021-06-26T00:00:00+00:00",
          "2021-06-25T00:00:00+00:00",
          "2021-06-24T00:00:00+00:00",
          "2021-06-23T00:00:00+00:00",
          "2021-06-22T00:00:00+00:00",
          "2021-06-21T00:00:00+00:00",
          "2021-06-20T00:00:00+00:00",
          "2021-06-19T00:00:00+00:00",
          "2021-06-18T00:00:00+00:00",
          "2021-06-17T00:00:00+00:00",
          "2021-06-16T00:00:00+00:00",
          "2021-06-15T00:00:00+00:00",
          "2021-06-14T00:00:00+00:00",
          "2021-06-13T00:00:00+00:00",
          "2021-06-12T00:00:00+00:00",
          "2021-06-11T00:00:00+00:00",
          "2021-06-10T00:00:00+00:00",
          "2021-06-09T00:00:00+00:00",
          "2021-06-08T00:00:00+00:00",
          "2021-06-07T00:00:00+00:00",
          "2021-06-06T00:00:00+00:00",
          "2021-06-05T00:00:00+00:00",
          "2021-06-04T00:00:00+00:00",
          "2021-06-03T00:00:00+00:00",
          "2021-06-02T00:00:00+00:00",
          "2021-06-01T00:00:00+00:00"
         ],
         "xaxis": "x",
         "y": [
          0.01002865329512894,
          0.009985207100591717,
          0.008703651287857345,
          0.005723977104091583,
          0.0063351282863477985,
          0.014959809467103305,
          0.014504315033722532,
          0.0183389544688027,
          0.01349211812487093,
          0.017202141900937083,
          0.015130674002751032,
          0.009656925031766201,
          0.03155121004091256,
          0.025192918747162958,
          0.027379691072324765,
          0.025249139741699067,
          0.02645758240124856,
          0.04791363415817564,
          0.04190022421524664,
          0.038352326505887255,
          0.02521489971346705,
          0.023252706133903515,
          0.006794122294201296,
          0.004770096965905537,
          0.003775484520513466,
          0.0011557724412482341,
          0.0025838914765579845,
          0.0021929383361834827,
          0.004454911753021962,
          0.0037838223745270223
         ],
         "yaxis": "y"
        },
        {
         "hovertemplate": "symbol=WISH<br>day=%{x}<br>mention_perc=%{y}<extra></extra>",
         "legendgroup": "WISH",
         "line": {
          "color": "#FECB52",
          "dash": "solid"
         },
         "mode": "lines",
         "name": "WISH",
         "orientation": "v",
         "showlegend": true,
         "type": "scatter",
         "x": [
          "2021-06-30T00:00:00+00:00",
          "2021-06-29T00:00:00+00:00",
          "2021-06-28T00:00:00+00:00",
          "2021-06-27T00:00:00+00:00",
          "2021-06-26T00:00:00+00:00",
          "2021-06-25T00:00:00+00:00",
          "2021-06-24T00:00:00+00:00",
          "2021-06-23T00:00:00+00:00",
          "2021-06-22T00:00:00+00:00",
          "2021-06-21T00:00:00+00:00",
          "2021-06-20T00:00:00+00:00",
          "2021-06-19T00:00:00+00:00",
          "2021-06-18T00:00:00+00:00",
          "2021-06-17T00:00:00+00:00",
          "2021-06-16T00:00:00+00:00",
          "2021-06-15T00:00:00+00:00",
          "2021-06-14T00:00:00+00:00",
          "2021-06-13T00:00:00+00:00",
          "2021-06-12T00:00:00+00:00",
          "2021-06-11T00:00:00+00:00",
          "2021-06-10T00:00:00+00:00",
          "2021-06-09T00:00:00+00:00",
          "2021-06-08T00:00:00+00:00",
          "2021-06-07T00:00:00+00:00",
          "2021-06-06T00:00:00+00:00",
          "2021-06-05T00:00:00+00:00",
          "2021-06-04T00:00:00+00:00",
          "2021-06-03T00:00:00+00:00",
          "2021-06-02T00:00:00+00:00",
          "2021-06-01T00:00:00+00:00"
         ],
         "xaxis": "x",
         "y": [
          0.05022754087308276,
          0.05340236686390532,
          0.06573733371072743,
          0.057875768496926015,
          0.0627177700348432,
          0.061997618338791305,
          0.09478569874537675,
          0.0966132658797077,
          0.14655469126454188,
          0.20080321285140562,
          0.06052269601100413,
          0.061499364675984755,
          0.06206227030025657,
          0.0540739900136178,
          0.05648803881113032,
          0.07547928676766323,
          0.08037605440154584,
          0.05749636098981077,
          0.061659192825112105,
          0.059213266194676865,
          0.07293566032821047,
          0.11300614726713885,
          0.10502674762431438,
          0.0017594619956208947,
          0.0003775484520513466,
          0.0007705149608321562,
          0.0003739842926597083,
          0.000543204908962881,
          0.001475512172975427,
          0.0015706432498036695
         ],
         "yaxis": "y"
        }
       ],
       "layout": {
        "legend": {
         "title": {
          "text": "symbol"
         },
         "tracegroupgap": 0
        },
        "template": {
         "data": {
          "bar": [
           {
            "error_x": {
             "color": "#2a3f5f"
            },
            "error_y": {
             "color": "#2a3f5f"
            },
            "marker": {
             "line": {
              "color": "#E5ECF6",
              "width": 0.5
             },
             "pattern": {
              "fillmode": "overlay",
              "size": 10,
              "solidity": 0.2
             }
            },
            "type": "bar"
           }
          ],
          "barpolar": [
           {
            "marker": {
             "line": {
              "color": "#E5ECF6",
              "width": 0.5
             },
             "pattern": {
              "fillmode": "overlay",
              "size": 10,
              "solidity": 0.2
             }
            },
            "type": "barpolar"
           }
          ],
          "carpet": [
           {
            "aaxis": {
             "endlinecolor": "#2a3f5f",
             "gridcolor": "white",
             "linecolor": "white",
             "minorgridcolor": "white",
             "startlinecolor": "#2a3f5f"
            },
            "baxis": {
             "endlinecolor": "#2a3f5f",
             "gridcolor": "white",
             "linecolor": "white",
             "minorgridcolor": "white",
             "startlinecolor": "#2a3f5f"
            },
            "type": "carpet"
           }
          ],
          "choropleth": [
           {
            "colorbar": {
             "outlinewidth": 0,
             "ticks": ""
            },
            "type": "choropleth"
           }
          ],
          "contour": [
           {
            "colorbar": {
             "outlinewidth": 0,
             "ticks": ""
            },
            "colorscale": [
             [
              0,
              "#0d0887"
             ],
             [
              0.1111111111111111,
              "#46039f"
             ],
             [
              0.2222222222222222,
              "#7201a8"
             ],
             [
              0.3333333333333333,
              "#9c179e"
             ],
             [
              0.4444444444444444,
              "#bd3786"
             ],
             [
              0.5555555555555556,
              "#d8576b"
             ],
             [
              0.6666666666666666,
              "#ed7953"
             ],
             [
              0.7777777777777778,
              "#fb9f3a"
             ],
             [
              0.8888888888888888,
              "#fdca26"
             ],
             [
              1,
              "#f0f921"
             ]
            ],
            "type": "contour"
           }
          ],
          "contourcarpet": [
           {
            "colorbar": {
             "outlinewidth": 0,
             "ticks": ""
            },
            "type": "contourcarpet"
           }
          ],
          "heatmap": [
           {
            "colorbar": {
             "outlinewidth": 0,
             "ticks": ""
            },
            "colorscale": [
             [
              0,
              "#0d0887"
             ],
             [
              0.1111111111111111,
              "#46039f"
             ],
             [
              0.2222222222222222,
              "#7201a8"
             ],
             [
              0.3333333333333333,
              "#9c179e"
             ],
             [
              0.4444444444444444,
              "#bd3786"
             ],
             [
              0.5555555555555556,
              "#d8576b"
             ],
             [
              0.6666666666666666,
              "#ed7953"
             ],
             [
              0.7777777777777778,
              "#fb9f3a"
             ],
             [
              0.8888888888888888,
              "#fdca26"
             ],
             [
              1,
              "#f0f921"
             ]
            ],
            "type": "heatmap"
           }
          ],
          "heatmapgl": [
           {
            "colorbar": {
             "outlinewidth": 0,
             "ticks": ""
            },
            "colorscale": [
             [
              0,
              "#0d0887"
             ],
             [
              0.1111111111111111,
              "#46039f"
             ],
             [
              0.2222222222222222,
              "#7201a8"
             ],
             [
              0.3333333333333333,
              "#9c179e"
             ],
             [
              0.4444444444444444,
              "#bd3786"
             ],
             [
              0.5555555555555556,
              "#d8576b"
             ],
             [
              0.6666666666666666,
              "#ed7953"
             ],
             [
              0.7777777777777778,
              "#fb9f3a"
             ],
             [
              0.8888888888888888,
              "#fdca26"
             ],
             [
              1,
              "#f0f921"
             ]
            ],
            "type": "heatmapgl"
           }
          ],
          "histogram": [
           {
            "marker": {
             "pattern": {
              "fillmode": "overlay",
              "size": 10,
              "solidity": 0.2
             }
            },
            "type": "histogram"
           }
          ],
          "histogram2d": [
           {
            "colorbar": {
             "outlinewidth": 0,
             "ticks": ""
            },
            "colorscale": [
             [
              0,
              "#0d0887"
             ],
             [
              0.1111111111111111,
              "#46039f"
             ],
             [
              0.2222222222222222,
              "#7201a8"
             ],
             [
              0.3333333333333333,
              "#9c179e"
             ],
             [
              0.4444444444444444,
              "#bd3786"
             ],
             [
              0.5555555555555556,
              "#d8576b"
             ],
             [
              0.6666666666666666,
              "#ed7953"
             ],
             [
              0.7777777777777778,
              "#fb9f3a"
             ],
             [
              0.8888888888888888,
              "#fdca26"
             ],
             [
              1,
              "#f0f921"
             ]
            ],
            "type": "histogram2d"
           }
          ],
          "histogram2dcontour": [
           {
            "colorbar": {
             "outlinewidth": 0,
             "ticks": ""
            },
            "colorscale": [
             [
              0,
              "#0d0887"
             ],
             [
              0.1111111111111111,
              "#46039f"
             ],
             [
              0.2222222222222222,
              "#7201a8"
             ],
             [
              0.3333333333333333,
              "#9c179e"
             ],
             [
              0.4444444444444444,
              "#bd3786"
             ],
             [
              0.5555555555555556,
              "#d8576b"
             ],
             [
              0.6666666666666666,
              "#ed7953"
             ],
             [
              0.7777777777777778,
              "#fb9f3a"
             ],
             [
              0.8888888888888888,
              "#fdca26"
             ],
             [
              1,
              "#f0f921"
             ]
            ],
            "type": "histogram2dcontour"
           }
          ],
          "mesh3d": [
           {
            "colorbar": {
             "outlinewidth": 0,
             "ticks": ""
            },
            "type": "mesh3d"
           }
          ],
          "parcoords": [
           {
            "line": {
             "colorbar": {
              "outlinewidth": 0,
              "ticks": ""
             }
            },
            "type": "parcoords"
           }
          ],
          "pie": [
           {
            "automargin": true,
            "type": "pie"
           }
          ],
          "scatter": [
           {
            "marker": {
             "colorbar": {
              "outlinewidth": 0,
              "ticks": ""
             }
            },
            "type": "scatter"
           }
          ],
          "scatter3d": [
           {
            "line": {
             "colorbar": {
              "outlinewidth": 0,
              "ticks": ""
             }
            },
            "marker": {
             "colorbar": {
              "outlinewidth": 0,
              "ticks": ""
             }
            },
            "type": "scatter3d"
           }
          ],
          "scattercarpet": [
           {
            "marker": {
             "colorbar": {
              "outlinewidth": 0,
              "ticks": ""
             }
            },
            "type": "scattercarpet"
           }
          ],
          "scattergeo": [
           {
            "marker": {
             "colorbar": {
              "outlinewidth": 0,
              "ticks": ""
             }
            },
            "type": "scattergeo"
           }
          ],
          "scattergl": [
           {
            "marker": {
             "colorbar": {
              "outlinewidth": 0,
              "ticks": ""
             }
            },
            "type": "scattergl"
           }
          ],
          "scattermapbox": [
           {
            "marker": {
             "colorbar": {
              "outlinewidth": 0,
              "ticks": ""
             }
            },
            "type": "scattermapbox"
           }
          ],
          "scatterpolar": [
           {
            "marker": {
             "colorbar": {
              "outlinewidth": 0,
              "ticks": ""
             }
            },
            "type": "scatterpolar"
           }
          ],
          "scatterpolargl": [
           {
            "marker": {
             "colorbar": {
              "outlinewidth": 0,
              "ticks": ""
             }
            },
            "type": "scatterpolargl"
           }
          ],
          "scatterternary": [
           {
            "marker": {
             "colorbar": {
              "outlinewidth": 0,
              "ticks": ""
             }
            },
            "type": "scatterternary"
           }
          ],
          "surface": [
           {
            "colorbar": {
             "outlinewidth": 0,
             "ticks": ""
            },
            "colorscale": [
             [
              0,
              "#0d0887"
             ],
             [
              0.1111111111111111,
              "#46039f"
             ],
             [
              0.2222222222222222,
              "#7201a8"
             ],
             [
              0.3333333333333333,
              "#9c179e"
             ],
             [
              0.4444444444444444,
              "#bd3786"
             ],
             [
              0.5555555555555556,
              "#d8576b"
             ],
             [
              0.6666666666666666,
              "#ed7953"
             ],
             [
              0.7777777777777778,
              "#fb9f3a"
             ],
             [
              0.8888888888888888,
              "#fdca26"
             ],
             [
              1,
              "#f0f921"
             ]
            ],
            "type": "surface"
           }
          ],
          "table": [
           {
            "cells": {
             "fill": {
              "color": "#EBF0F8"
             },
             "line": {
              "color": "white"
             }
            },
            "header": {
             "fill": {
              "color": "#C8D4E3"
             },
             "line": {
              "color": "white"
             }
            },
            "type": "table"
           }
          ]
         },
         "layout": {
          "annotationdefaults": {
           "arrowcolor": "#2a3f5f",
           "arrowhead": 0,
           "arrowwidth": 1
          },
          "autotypenumbers": "strict",
          "coloraxis": {
           "colorbar": {
            "outlinewidth": 0,
            "ticks": ""
           }
          },
          "colorscale": {
           "diverging": [
            [
             0,
             "#8e0152"
            ],
            [
             0.1,
             "#c51b7d"
            ],
            [
             0.2,
             "#de77ae"
            ],
            [
             0.3,
             "#f1b6da"
            ],
            [
             0.4,
             "#fde0ef"
            ],
            [
             0.5,
             "#f7f7f7"
            ],
            [
             0.6,
             "#e6f5d0"
            ],
            [
             0.7,
             "#b8e186"
            ],
            [
             0.8,
             "#7fbc41"
            ],
            [
             0.9,
             "#4d9221"
            ],
            [
             1,
             "#276419"
            ]
           ],
           "sequential": [
            [
             0,
             "#0d0887"
            ],
            [
             0.1111111111111111,
             "#46039f"
            ],
            [
             0.2222222222222222,
             "#7201a8"
            ],
            [
             0.3333333333333333,
             "#9c179e"
            ],
            [
             0.4444444444444444,
             "#bd3786"
            ],
            [
             0.5555555555555556,
             "#d8576b"
            ],
            [
             0.6666666666666666,
             "#ed7953"
            ],
            [
             0.7777777777777778,
             "#fb9f3a"
            ],
            [
             0.8888888888888888,
             "#fdca26"
            ],
            [
             1,
             "#f0f921"
            ]
           ],
           "sequentialminus": [
            [
             0,
             "#0d0887"
            ],
            [
             0.1111111111111111,
             "#46039f"
            ],
            [
             0.2222222222222222,
             "#7201a8"
            ],
            [
             0.3333333333333333,
             "#9c179e"
            ],
            [
             0.4444444444444444,
             "#bd3786"
            ],
            [
             0.5555555555555556,
             "#d8576b"
            ],
            [
             0.6666666666666666,
             "#ed7953"
            ],
            [
             0.7777777777777778,
             "#fb9f3a"
            ],
            [
             0.8888888888888888,
             "#fdca26"
            ],
            [
             1,
             "#f0f921"
            ]
           ]
          },
          "colorway": [
           "#636efa",
           "#EF553B",
           "#00cc96",
           "#ab63fa",
           "#FFA15A",
           "#19d3f3",
           "#FF6692",
           "#B6E880",
           "#FF97FF",
           "#FECB52"
          ],
          "font": {
           "color": "#2a3f5f"
          },
          "geo": {
           "bgcolor": "white",
           "lakecolor": "white",
           "landcolor": "#E5ECF6",
           "showlakes": true,
           "showland": true,
           "subunitcolor": "white"
          },
          "hoverlabel": {
           "align": "left"
          },
          "hovermode": "closest",
          "mapbox": {
           "style": "light"
          },
          "paper_bgcolor": "white",
          "plot_bgcolor": "#E5ECF6",
          "polar": {
           "angularaxis": {
            "gridcolor": "white",
            "linecolor": "white",
            "ticks": ""
           },
           "bgcolor": "#E5ECF6",
           "radialaxis": {
            "gridcolor": "white",
            "linecolor": "white",
            "ticks": ""
           }
          },
          "scene": {
           "xaxis": {
            "backgroundcolor": "#E5ECF6",
            "gridcolor": "white",
            "gridwidth": 2,
            "linecolor": "white",
            "showbackground": true,
            "ticks": "",
            "zerolinecolor": "white"
           },
           "yaxis": {
            "backgroundcolor": "#E5ECF6",
            "gridcolor": "white",
            "gridwidth": 2,
            "linecolor": "white",
            "showbackground": true,
            "ticks": "",
            "zerolinecolor": "white"
           },
           "zaxis": {
            "backgroundcolor": "#E5ECF6",
            "gridcolor": "white",
            "gridwidth": 2,
            "linecolor": "white",
            "showbackground": true,
            "ticks": "",
            "zerolinecolor": "white"
           }
          },
          "shapedefaults": {
           "line": {
            "color": "#2a3f5f"
           }
          },
          "ternary": {
           "aaxis": {
            "gridcolor": "white",
            "linecolor": "white",
            "ticks": ""
           },
           "baxis": {
            "gridcolor": "white",
            "linecolor": "white",
            "ticks": ""
           },
           "bgcolor": "#E5ECF6",
           "caxis": {
            "gridcolor": "white",
            "linecolor": "white",
            "ticks": ""
           }
          },
          "title": {
           "x": 0.05
          },
          "xaxis": {
           "automargin": true,
           "gridcolor": "white",
           "linecolor": "white",
           "ticks": "",
           "title": {
            "standoff": 15
           },
           "zerolinecolor": "white",
           "zerolinewidth": 2
          },
          "yaxis": {
           "automargin": true,
           "gridcolor": "white",
           "linecolor": "white",
           "ticks": "",
           "title": {
            "standoff": 15
           },
           "zerolinecolor": "white",
           "zerolinewidth": 2
          }
         }
        },
        "title": {
         "text": "Percent mentions by day"
        },
        "xaxis": {
         "anchor": "y",
         "domain": [
          0,
          1
         ],
         "title": {
          "text": "day"
         }
        },
        "yaxis": {
         "anchor": "x",
         "domain": [
          0,
          1
         ],
         "title": {
          "text": "mention_perc"
         }
        }
       }
      },
      "text/html": [
       "<div>                            <div id=\"ca1b024d-2c78-4279-a3b0-a3505d859402\" class=\"plotly-graph-div\" style=\"height:525px; width:100%;\"></div>            <script type=\"text/javascript\">                require([\"plotly\"], function(Plotly) {                    window.PLOTLYENV=window.PLOTLYENV || {};                                    if (document.getElementById(\"ca1b024d-2c78-4279-a3b0-a3505d859402\")) {                    Plotly.newPlot(                        \"ca1b024d-2c78-4279-a3b0-a3505d859402\",                        [{\"hovertemplate\":\"symbol=WKHS<br>day=%{x}<br>mention_perc=%{y}<extra></extra>\",\"legendgroup\":\"WKHS\",\"line\":{\"color\":\"#636efa\",\"dash\":\"solid\"},\"mode\":\"lines\",\"name\":\"WKHS\",\"orientation\":\"v\",\"showlegend\":true,\"type\":\"scatter\",\"x\":[\"2021-06-30T00:00:00+00:00\",\"2021-06-29T00:00:00+00:00\",\"2021-06-28T00:00:00+00:00\",\"2021-06-27T00:00:00+00:00\",\"2021-06-26T00:00:00+00:00\",\"2021-06-25T00:00:00+00:00\",\"2021-06-24T00:00:00+00:00\",\"2021-06-23T00:00:00+00:00\",\"2021-06-22T00:00:00+00:00\",\"2021-06-21T00:00:00+00:00\",\"2021-06-20T00:00:00+00:00\",\"2021-06-19T00:00:00+00:00\",\"2021-06-18T00:00:00+00:00\",\"2021-06-17T00:00:00+00:00\",\"2021-06-16T00:00:00+00:00\",\"2021-06-15T00:00:00+00:00\",\"2021-06-14T00:00:00+00:00\",\"2021-06-13T00:00:00+00:00\",\"2021-06-12T00:00:00+00:00\",\"2021-06-11T00:00:00+00:00\",\"2021-06-10T00:00:00+00:00\",\"2021-06-09T00:00:00+00:00\",\"2021-06-08T00:00:00+00:00\",\"2021-06-07T00:00:00+00:00\",\"2021-06-06T00:00:00+00:00\",\"2021-06-05T00:00:00+00:00\",\"2021-06-04T00:00:00+00:00\",\"2021-06-03T00:00:00+00:00\",\"2021-06-02T00:00:00+00:00\",\"2021-06-01T00:00:00+00:00\"],\"xaxis\":\"x\",\"y\":[0.0450868026293612,0.05806213017751479,0.0653835267478064,0.029467882128471488,0.028191320874247704,0.04130693658827032,0.0567118717818551,0.07209106239460371,0.022027947958972945,0.020481927710843374,0.03658872077028886,0.040406607369758575,0.028361417377435683,0.03029959146618248,0.05297496235989516,0.026768557000491577,0.033220616104938504,0.038452207666181466,0.03545403587443946,0.049899670616741755,0.04021880698098463,0.04488507283175197,0.03085569825971153,0.023224898342195807,0.024414799899320414,0.018363939899833055,0.019991160371264406,0.021406297153203902,0.007547812269451223,0.0008567144998929107],\"yaxis\":\"y\"},{\"hovertemplate\":\"symbol=CLOV<br>day=%{x}<br>mention_perc=%{y}<extra></extra>\",\"legendgroup\":\"CLOV\",\"line\":{\"color\":\"#EF553B\",\"dash\":\"solid\"},\"mode\":\"lines\",\"name\":\"CLOV\",\"orientation\":\"v\",\"showlegend\":true,\"type\":\"scatter\",\"x\":[\"2021-06-30T00:00:00+00:00\",\"2021-06-29T00:00:00+00:00\",\"2021-06-28T00:00:00+00:00\",\"2021-06-27T00:00:00+00:00\",\"2021-06-26T00:00:00+00:00\",\"2021-06-25T00:00:00+00:00\",\"2021-06-24T00:00:00+00:00\",\"2021-06-23T00:00:00+00:00\",\"2021-06-22T00:00:00+00:00\",\"2021-06-21T00:00:00+00:00\",\"2021-06-20T00:00:00+00:00\",\"2021-06-19T00:00:00+00:00\",\"2021-06-18T00:00:00+00:00\",\"2021-06-17T00:00:00+00:00\",\"2021-06-16T00:00:00+00:00\",\"2021-06-15T00:00:00+00:00\",\"2021-06-14T00:00:00+00:00\",\"2021-06-13T00:00:00+00:00\",\"2021-06-12T00:00:00+00:00\",\"2021-06-11T00:00:00+00:00\",\"2021-06-10T00:00:00+00:00\",\"2021-06-09T00:00:00+00:00\",\"2021-06-08T00:00:00+00:00\",\"2021-06-07T00:00:00+00:00\",\"2021-06-06T00:00:00+00:00\",\"2021-06-05T00:00:00+00:00\",\"2021-06-04T00:00:00+00:00\",\"2021-06-03T00:00:00+00:00\",\"2021-06-02T00:00:00+00:00\",\"2021-06-01T00:00:00+00:00\"],\"xaxis\":\"x\",\"y\":[0.06775661554019889,0.09326923076923077,0.053778658363996604,0.07017171931312274,0.06841938549255623,0.059020541827924974,0.09899195010515628,0.10792580101180438,0.10332484339505747,0.04176706827309237,0.0624484181568088,0.03532401524777637,0.0323833298661674,0.03029959146618248,0.05085596386549936,0.05331367028645484,0.05975251755787596,0.06817079087821445,0.06838565022421525,0.09544542460152197,0.08335504037509768,0.12040625417613257,0.16795702322641806,0.1010322177040976,0.0445507173420589,0.016822909978168744,0.016931288885866792,0.02271401267478121,0.021054423698995517,0.004212179624473477],\"yaxis\":\"y\"},{\"hovertemplate\":\"symbol=AMC<br>day=%{x}<br>mention_perc=%{y}<extra></extra>\",\"legendgroup\":\"AMC\",\"line\":{\"color\":\"#00cc96\",\"dash\":\"solid\"},\"mode\":\"lines\",\"name\":\"AMC\",\"orientation\":\"v\",\"showlegend\":true,\"type\":\"scatter\",\"x\":[\"2021-06-30T00:00:00+00:00\",\"2021-06-29T00:00:00+00:00\",\"2021-06-28T00:00:00+00:00\",\"2021-06-27T00:00:00+00:00\",\"2021-06-26T00:00:00+00:00\",\"2021-06-25T00:00:00+00:00\",\"2021-06-24T00:00:00+00:00\",\"2021-06-23T00:00:00+00:00\",\"2021-06-22T00:00:00+00:00\",\"2021-06-21T00:00:00+00:00\",\"2021-06-20T00:00:00+00:00\",\"2021-06-19T00:00:00+00:00\",\"2021-06-18T00:00:00+00:00\",\"2021-06-17T00:00:00+00:00\",\"2021-06-16T00:00:00+00:00\",\"2021-06-15T00:00:00+00:00\",\"2021-06-14T00:00:00+00:00\",\"2021-06-13T00:00:00+00:00\",\"2021-06-12T00:00:00+00:00\",\"2021-06-11T00:00:00+00:00\",\"2021-06-10T00:00:00+00:00\",\"2021-06-09T00:00:00+00:00\",\"2021-06-08T00:00:00+00:00\",\"2021-06-07T00:00:00+00:00\",\"2021-06-06T00:00:00+00:00\",\"2021-06-05T00:00:00+00:00\",\"2021-06-04T00:00:00+00:00\",\"2021-06-03T00:00:00+00:00\",\"2021-06-02T00:00:00+00:00\",\"2021-06-01T00:00:00+00:00\"],\"xaxis\":\"x\",\"y\":[0.04247429630878139,0.0503698224852071,0.0537078969714124,0.07801568793724825,0.06335128286347799,0.048898481690979455,0.04960475741533106,0.05845980888139404,0.07909410064018724,0.07543507362784471,0.1265474552957359,0.15527318932655654,0.10845295055821372,0.1230140717203813,0.08738080633469024,0.09603610850426778,0.08483519750287986,0.08442503639010189,0.11729260089686099,0.09533184416764472,0.09632716853347226,0.07812708806628357,0.07961086156693678,0.13461839224272756,0.202617669267556,0.2463079491460126,0.22598850848264374,0.2511216175435067,0.2935985471880143,0.2845719997144285],\"yaxis\":\"y\"},{\"hovertemplate\":\"symbol=CLF<br>day=%{x}<br>mention_perc=%{y}<extra></extra>\",\"legendgroup\":\"CLF\",\"line\":{\"color\":\"#ab63fa\",\"dash\":\"solid\"},\"mode\":\"lines\",\"name\":\"CLF\",\"orientation\":\"v\",\"showlegend\":true,\"type\":\"scatter\",\"x\":[\"2021-06-30T00:00:00+00:00\",\"2021-06-29T00:00:00+00:00\",\"2021-06-28T00:00:00+00:00\",\"2021-06-27T00:00:00+00:00\",\"2021-06-26T00:00:00+00:00\",\"2021-06-25T00:00:00+00:00\",\"2021-06-24T00:00:00+00:00\",\"2021-06-23T00:00:00+00:00\",\"2021-06-22T00:00:00+00:00\",\"2021-06-21T00:00:00+00:00\",\"2021-06-20T00:00:00+00:00\",\"2021-06-19T00:00:00+00:00\",\"2021-06-18T00:00:00+00:00\",\"2021-06-17T00:00:00+00:00\",\"2021-06-16T00:00:00+00:00\",\"2021-06-15T00:00:00+00:00\",\"2021-06-14T00:00:00+00:00\",\"2021-06-13T00:00:00+00:00\",\"2021-06-12T00:00:00+00:00\",\"2021-06-11T00:00:00+00:00\",\"2021-06-10T00:00:00+00:00\",\"2021-06-09T00:00:00+00:00\",\"2021-06-08T00:00:00+00:00\",\"2021-06-07T00:00:00+00:00\",\"2021-06-06T00:00:00+00:00\",\"2021-06-05T00:00:00+00:00\",\"2021-06-03T00:00:00+00:00\",\"2021-06-02T00:00:00+00:00\",\"2021-06-01T00:00:00+00:00\"],\"xaxis\":\"x\",\"y\":[0.01095567166694758,0.017159763313609466,0.015213699405604303,0.016747933008267966,0.011086474501108648,0.016597201548079785,0.0280658495902531,0.009204609331084879,0.009499552557307084,0.018340026773761713,0.029436038514442917,0.011944091486658195,0.020040219124887317,0.021731729459827508,0.018903697094741538,0.028466729230906734,0.022147077403292335,0.031174187287724406,0.03054932735426009,0.04830954454246015,0.06420942953894243,0.051767339302418815,0.0007448705505270523,0.0005082890209571474,0.00012584948401711554,0.0005136766405547708,0.00016094960265566845,0.00022700187276545033,0.00021417862497322766],\"yaxis\":\"y\"},{\"hovertemplate\":\"symbol=CLNE<br>day=%{x}<br>mention_perc=%{y}<extra></extra>\",\"legendgroup\":\"CLNE\",\"line\":{\"color\":\"#FFA15A\",\"dash\":\"solid\"},\"mode\":\"lines\",\"name\":\"CLNE\",\"orientation\":\"v\",\"showlegend\":true,\"type\":\"scatter\",\"x\":[\"2021-06-30T00:00:00+00:00\",\"2021-06-29T00:00:00+00:00\",\"2021-06-28T00:00:00+00:00\",\"2021-06-27T00:00:00+00:00\",\"2021-06-26T00:00:00+00:00\",\"2021-06-25T00:00:00+00:00\",\"2021-06-24T00:00:00+00:00\",\"2021-06-23T00:00:00+00:00\",\"2021-06-22T00:00:00+00:00\",\"2021-06-21T00:00:00+00:00\",\"2021-06-20T00:00:00+00:00\",\"2021-06-19T00:00:00+00:00\",\"2021-06-18T00:00:00+00:00\",\"2021-06-17T00:00:00+00:00\",\"2021-06-16T00:00:00+00:00\",\"2021-06-15T00:00:00+00:00\",\"2021-06-14T00:00:00+00:00\",\"2021-06-13T00:00:00+00:00\",\"2021-06-12T00:00:00+00:00\",\"2021-06-11T00:00:00+00:00\",\"2021-06-10T00:00:00+00:00\",\"2021-06-09T00:00:00+00:00\",\"2021-06-08T00:00:00+00:00\",\"2021-06-07T00:00:00+00:00\",\"2021-06-06T00:00:00+00:00\",\"2021-06-05T00:00:00+00:00\",\"2021-06-04T00:00:00+00:00\",\"2021-06-03T00:00:00+00:00\",\"2021-06-02T00:00:00+00:00\",\"2021-06-01T00:00:00+00:00\"],\"xaxis\":\"x\",\"y\":[0.0319399966290241,0.028254437869822485,0.026110953863572036,0.024167903328386687,0.019322141273360786,0.024263173563560583,0.031474363623177896,0.03653738055087127,0.04467543195429201,0.06285140562248996,0.03603851444291609,0.033290978398983484,0.17315026697177727,0.09396277802995914,0.07048458149779736,0.09782365822049426,0.11266768236037308,0.10480349344978165,0.06992713004484305,0.0628478400787491,0.0758530867413389,0.09833956969130028,0.06575175496016071,0.0781983109164842,0.06758117291719104,0.03826890972133042,0.05208581239587937,0.033336686450055324,0.004483286987117644,0.0005711429999286071],\"yaxis\":\"y\"},{\"hovertemplate\":\"symbol=BB<br>day=%{x}<br>mention_perc=%{y}<extra></extra>\",\"legendgroup\":\"BB\",\"line\":{\"color\":\"#19d3f3\",\"dash\":\"solid\"},\"mode\":\"lines\",\"name\":\"BB\",\"orientation\":\"v\",\"showlegend\":true,\"type\":\"scatter\",\"x\":[\"2021-06-30T00:00:00+00:00\",\"2021-06-29T00:00:00+00:00\",\"2021-06-28T00:00:00+00:00\",\"2021-06-27T00:00:00+00:00\",\"2021-06-26T00:00:00+00:00\",\"2021-06-25T00:00:00+00:00\",\"2021-06-24T00:00:00+00:00\",\"2021-06-23T00:00:00+00:00\",\"2021-06-22T00:00:00+00:00\",\"2021-06-21T00:00:00+00:00\",\"2021-06-20T00:00:00+00:00\",\"2021-06-19T00:00:00+00:00\",\"2021-06-18T00:00:00+00:00\",\"2021-06-17T00:00:00+00:00\",\"2021-06-16T00:00:00+00:00\",\"2021-06-15T00:00:00+00:00\",\"2021-06-14T00:00:00+00:00\",\"2021-06-13T00:00:00+00:00\",\"2021-06-12T00:00:00+00:00\",\"2021-06-11T00:00:00+00:00\",\"2021-06-10T00:00:00+00:00\",\"2021-06-09T00:00:00+00:00\",\"2021-06-08T00:00:00+00:00\",\"2021-06-07T00:00:00+00:00\",\"2021-06-06T00:00:00+00:00\",\"2021-06-05T00:00:00+00:00\",\"2021-06-04T00:00:00+00:00\",\"2021-06-03T00:00:00+00:00\",\"2021-06-02T00:00:00+00:00\",\"2021-06-01T00:00:00+00:00\"],\"xaxis\":\"x\",\"y\":[0.022754087308275744,0.0389792899408284,0.052787998867817716,0.033707865168539325,0.050364269876465,0.059020541827924974,0.04822684748712742,0.04293142214727375,0.07420664968679011,0.0714859437751004,0.05392022008253095,0.07166454891994918,0.07981415990569309,0.08948025419881979,0.05526125020911169,0.04585065022120928,0.05443870536211958,0.05203784570596798,0.07118834080717489,0.08844129784575777,0.08455326908048971,0.07844447414138714,0.11335575468929869,0.22470284641851737,0.215706015605336,0.22935662000770515,0.3096929928942984,0.33817523387989135,0.27773679132852847,0.2442350253444706],\"yaxis\":\"y\"},{\"hovertemplate\":\"symbol=GME<br>day=%{x}<br>mention_perc=%{y}<extra></extra>\",\"legendgroup\":\"GME\",\"line\":{\"color\":\"#FF6692\",\"dash\":\"solid\"},\"mode\":\"lines\",\"name\":\"GME\",\"orientation\":\"v\",\"showlegend\":true,\"type\":\"scatter\",\"x\":[\"2021-06-30T00:00:00+00:00\",\"2021-06-29T00:00:00+00:00\",\"2021-06-28T00:00:00+00:00\",\"2021-06-27T00:00:00+00:00\",\"2021-06-26T00:00:00+00:00\",\"2021-06-25T00:00:00+00:00\",\"2021-06-24T00:00:00+00:00\",\"2021-06-23T00:00:00+00:00\",\"2021-06-22T00:00:00+00:00\",\"2021-06-21T00:00:00+00:00\",\"2021-06-20T00:00:00+00:00\",\"2021-06-19T00:00:00+00:00\",\"2021-06-18T00:00:00+00:00\",\"2021-06-17T00:00:00+00:00\",\"2021-06-16T00:00:00+00:00\",\"2021-06-15T00:00:00+00:00\",\"2021-06-14T00:00:00+00:00\",\"2021-06-13T00:00:00+00:00\",\"2021-06-12T00:00:00+00:00\",\"2021-06-11T00:00:00+00:00\",\"2021-06-10T00:00:00+00:00\",\"2021-06-09T00:00:00+00:00\",\"2021-06-08T00:00:00+00:00\",\"2021-06-07T00:00:00+00:00\",\"2021-06-06T00:00:00+00:00\",\"2021-06-05T00:00:00+00:00\",\"2021-06-04T00:00:00+00:00\",\"2021-06-03T00:00:00+00:00\",\"2021-06-02T00:00:00+00:00\",\"2021-06-01T00:00:00+00:00\"],\"xaxis\":\"x\",\"y\":[0.04483397943704703,0.04393491124260355,0.046914803283328615,0.13016747933008269,0.06303452644916059,0.045549270616254835,0.0401044310682428,0.05382237211916807,0.07764851655537963,0.05502008032128514,0.09958734525447042,0.11003811944091486,0.05110602593440122,0.03983204720835225,0.053253777951263036,0.0437055905617375,0.0331462970532496,0.05312954876273653,0.0795964125560538,0.0582289024344073,0.08390205782755926,0.08378992382734197,0.09681059973365234,0.08898967782295902,0.12836647369745785,0.13073070502118916,0.07506884710842145,0.07339301881098481,0.09698655013903865,0.09638038123795245],\"yaxis\":\"y\"},{\"hovertemplate\":\"symbol=TLRY<br>day=%{x}<br>mention_perc=%{y}<extra></extra>\",\"legendgroup\":\"TLRY\",\"line\":{\"color\":\"#B6E880\",\"dash\":\"solid\"},\"mode\":\"lines\",\"name\":\"TLRY\",\"orientation\":\"v\",\"showlegend\":true,\"type\":\"scatter\",\"x\":[\"2021-06-30T00:00:00+00:00\",\"2021-06-29T00:00:00+00:00\",\"2021-06-28T00:00:00+00:00\",\"2021-06-27T00:00:00+00:00\",\"2021-06-26T00:00:00+00:00\",\"2021-06-25T00:00:00+00:00\",\"2021-06-24T00:00:00+00:00\",\"2021-06-23T00:00:00+00:00\",\"2021-06-22T00:00:00+00:00\",\"2021-06-21T00:00:00+00:00\",\"2021-06-20T00:00:00+00:00\",\"2021-06-19T00:00:00+00:00\",\"2021-06-18T00:00:00+00:00\",\"2021-06-17T00:00:00+00:00\",\"2021-06-16T00:00:00+00:00\",\"2021-06-15T00:00:00+00:00\",\"2021-06-14T00:00:00+00:00\",\"2021-06-13T00:00:00+00:00\",\"2021-06-12T00:00:00+00:00\",\"2021-06-11T00:00:00+00:00\",\"2021-06-10T00:00:00+00:00\",\"2021-06-09T00:00:00+00:00\",\"2021-06-08T00:00:00+00:00\",\"2021-06-07T00:00:00+00:00\",\"2021-06-06T00:00:00+00:00\",\"2021-06-05T00:00:00+00:00\",\"2021-06-04T00:00:00+00:00\",\"2021-06-03T00:00:00+00:00\",\"2021-06-02T00:00:00+00:00\",\"2021-06-01T00:00:00+00:00\"],\"xaxis\":\"x\",\"y\":[0.012304062025956514,0.013091715976331362,0.010331163317294084,0.013567945728217087,0.006968641114982578,0.010791902351890443,0.019000652694176518,0.013350196739741428,0.011358160666345426,0.021285140562248995,0.009903713892709767,0.007623888182973317,0.01171902087233895,0.01112119836586473,0.013940779568393465,0.01211064932743442,0.014789491286091189,0.019893255701115962,0.010369955156950673,0.014576155680914702,0.017374316228184424,0.02986770012027262,0.017335169175902308,0.024085079762277136,0.020135917442738484,0.009888275330679337,0.022745044708122258,0.029715320390302787,0.022756937744736395,0.013636039123295494],\"yaxis\":\"y\"},{\"hovertemplate\":\"symbol=UWMC<br>day=%{x}<br>mention_perc=%{y}<extra></extra>\",\"legendgroup\":\"UWMC\",\"line\":{\"color\":\"#FF97FF\",\"dash\":\"solid\"},\"mode\":\"lines\",\"name\":\"UWMC\",\"orientation\":\"v\",\"showlegend\":true,\"type\":\"scatter\",\"x\":[\"2021-06-30T00:00:00+00:00\",\"2021-06-29T00:00:00+00:00\",\"2021-06-28T00:00:00+00:00\",\"2021-06-27T00:00:00+00:00\",\"2021-06-26T00:00:00+00:00\",\"2021-06-25T00:00:00+00:00\",\"2021-06-24T00:00:00+00:00\",\"2021-06-23T00:00:00+00:00\",\"2021-06-22T00:00:00+00:00\",\"2021-06-21T00:00:00+00:00\",\"2021-06-20T00:00:00+00:00\",\"2021-06-19T00:00:00+00:00\",\"2021-06-18T00:00:00+00:00\",\"2021-06-17T00:00:00+00:00\",\"2021-06-16T00:00:00+00:00\",\"2021-06-15T00:00:00+00:00\",\"2021-06-14T00:00:00+00:00\",\"2021-06-13T00:00:00+00:00\",\"2021-06-12T00:00:00+00:00\",\"2021-06-11T00:00:00+00:00\",\"2021-06-10T00:00:00+00:00\",\"2021-06-09T00:00:00+00:00\",\"2021-06-08T00:00:00+00:00\",\"2021-06-07T00:00:00+00:00\",\"2021-06-06T00:00:00+00:00\",\"2021-06-05T00:00:00+00:00\",\"2021-06-04T00:00:00+00:00\",\"2021-06-03T00:00:00+00:00\",\"2021-06-02T00:00:00+00:00\",\"2021-06-01T00:00:00+00:00\"],\"xaxis\":\"x\",\"y\":[0.01002865329512894,0.009985207100591717,0.008703651287857345,0.005723977104091583,0.0063351282863477985,0.014959809467103305,0.014504315033722532,0.0183389544688027,0.01349211812487093,0.017202141900937083,0.015130674002751032,0.009656925031766201,0.03155121004091256,0.025192918747162958,0.027379691072324765,0.025249139741699067,0.02645758240124856,0.04791363415817564,0.04190022421524664,0.038352326505887255,0.02521489971346705,0.023252706133903515,0.006794122294201296,0.004770096965905537,0.003775484520513466,0.0011557724412482341,0.0025838914765579845,0.0021929383361834827,0.004454911753021962,0.0037838223745270223],\"yaxis\":\"y\"},{\"hovertemplate\":\"symbol=WISH<br>day=%{x}<br>mention_perc=%{y}<extra></extra>\",\"legendgroup\":\"WISH\",\"line\":{\"color\":\"#FECB52\",\"dash\":\"solid\"},\"mode\":\"lines\",\"name\":\"WISH\",\"orientation\":\"v\",\"showlegend\":true,\"type\":\"scatter\",\"x\":[\"2021-06-30T00:00:00+00:00\",\"2021-06-29T00:00:00+00:00\",\"2021-06-28T00:00:00+00:00\",\"2021-06-27T00:00:00+00:00\",\"2021-06-26T00:00:00+00:00\",\"2021-06-25T00:00:00+00:00\",\"2021-06-24T00:00:00+00:00\",\"2021-06-23T00:00:00+00:00\",\"2021-06-22T00:00:00+00:00\",\"2021-06-21T00:00:00+00:00\",\"2021-06-20T00:00:00+00:00\",\"2021-06-19T00:00:00+00:00\",\"2021-06-18T00:00:00+00:00\",\"2021-06-17T00:00:00+00:00\",\"2021-06-16T00:00:00+00:00\",\"2021-06-15T00:00:00+00:00\",\"2021-06-14T00:00:00+00:00\",\"2021-06-13T00:00:00+00:00\",\"2021-06-12T00:00:00+00:00\",\"2021-06-11T00:00:00+00:00\",\"2021-06-10T00:00:00+00:00\",\"2021-06-09T00:00:00+00:00\",\"2021-06-08T00:00:00+00:00\",\"2021-06-07T00:00:00+00:00\",\"2021-06-06T00:00:00+00:00\",\"2021-06-05T00:00:00+00:00\",\"2021-06-04T00:00:00+00:00\",\"2021-06-03T00:00:00+00:00\",\"2021-06-02T00:00:00+00:00\",\"2021-06-01T00:00:00+00:00\"],\"xaxis\":\"x\",\"y\":[0.05022754087308276,0.05340236686390532,0.06573733371072743,0.057875768496926015,0.0627177700348432,0.061997618338791305,0.09478569874537675,0.0966132658797077,0.14655469126454188,0.20080321285140562,0.06052269601100413,0.061499364675984755,0.06206227030025657,0.0540739900136178,0.05648803881113032,0.07547928676766323,0.08037605440154584,0.05749636098981077,0.061659192825112105,0.059213266194676865,0.07293566032821047,0.11300614726713885,0.10502674762431438,0.0017594619956208947,0.0003775484520513466,0.0007705149608321562,0.0003739842926597083,0.000543204908962881,0.001475512172975427,0.0015706432498036695],\"yaxis\":\"y\"}],                        {\"legend\":{\"title\":{\"text\":\"symbol\"},\"tracegroupgap\":0},\"template\":{\"data\":{\"bar\":[{\"error_x\":{\"color\":\"#2a3f5f\"},\"error_y\":{\"color\":\"#2a3f5f\"},\"marker\":{\"line\":{\"color\":\"#E5ECF6\",\"width\":0.5},\"pattern\":{\"fillmode\":\"overlay\",\"size\":10,\"solidity\":0.2}},\"type\":\"bar\"}],\"barpolar\":[{\"marker\":{\"line\":{\"color\":\"#E5ECF6\",\"width\":0.5},\"pattern\":{\"fillmode\":\"overlay\",\"size\":10,\"solidity\":0.2}},\"type\":\"barpolar\"}],\"carpet\":[{\"aaxis\":{\"endlinecolor\":\"#2a3f5f\",\"gridcolor\":\"white\",\"linecolor\":\"white\",\"minorgridcolor\":\"white\",\"startlinecolor\":\"#2a3f5f\"},\"baxis\":{\"endlinecolor\":\"#2a3f5f\",\"gridcolor\":\"white\",\"linecolor\":\"white\",\"minorgridcolor\":\"white\",\"startlinecolor\":\"#2a3f5f\"},\"type\":\"carpet\"}],\"choropleth\":[{\"colorbar\":{\"outlinewidth\":0,\"ticks\":\"\"},\"type\":\"choropleth\"}],\"contour\":[{\"colorbar\":{\"outlinewidth\":0,\"ticks\":\"\"},\"colorscale\":[[0.0,\"#0d0887\"],[0.1111111111111111,\"#46039f\"],[0.2222222222222222,\"#7201a8\"],[0.3333333333333333,\"#9c179e\"],[0.4444444444444444,\"#bd3786\"],[0.5555555555555556,\"#d8576b\"],[0.6666666666666666,\"#ed7953\"],[0.7777777777777778,\"#fb9f3a\"],[0.8888888888888888,\"#fdca26\"],[1.0,\"#f0f921\"]],\"type\":\"contour\"}],\"contourcarpet\":[{\"colorbar\":{\"outlinewidth\":0,\"ticks\":\"\"},\"type\":\"contourcarpet\"}],\"heatmap\":[{\"colorbar\":{\"outlinewidth\":0,\"ticks\":\"\"},\"colorscale\":[[0.0,\"#0d0887\"],[0.1111111111111111,\"#46039f\"],[0.2222222222222222,\"#7201a8\"],[0.3333333333333333,\"#9c179e\"],[0.4444444444444444,\"#bd3786\"],[0.5555555555555556,\"#d8576b\"],[0.6666666666666666,\"#ed7953\"],[0.7777777777777778,\"#fb9f3a\"],[0.8888888888888888,\"#fdca26\"],[1.0,\"#f0f921\"]],\"type\":\"heatmap\"}],\"heatmapgl\":[{\"colorbar\":{\"outlinewidth\":0,\"ticks\":\"\"},\"colorscale\":[[0.0,\"#0d0887\"],[0.1111111111111111,\"#46039f\"],[0.2222222222222222,\"#7201a8\"],[0.3333333333333333,\"#9c179e\"],[0.4444444444444444,\"#bd3786\"],[0.5555555555555556,\"#d8576b\"],[0.6666666666666666,\"#ed7953\"],[0.7777777777777778,\"#fb9f3a\"],[0.8888888888888888,\"#fdca26\"],[1.0,\"#f0f921\"]],\"type\":\"heatmapgl\"}],\"histogram\":[{\"marker\":{\"pattern\":{\"fillmode\":\"overlay\",\"size\":10,\"solidity\":0.2}},\"type\":\"histogram\"}],\"histogram2d\":[{\"colorbar\":{\"outlinewidth\":0,\"ticks\":\"\"},\"colorscale\":[[0.0,\"#0d0887\"],[0.1111111111111111,\"#46039f\"],[0.2222222222222222,\"#7201a8\"],[0.3333333333333333,\"#9c179e\"],[0.4444444444444444,\"#bd3786\"],[0.5555555555555556,\"#d8576b\"],[0.6666666666666666,\"#ed7953\"],[0.7777777777777778,\"#fb9f3a\"],[0.8888888888888888,\"#fdca26\"],[1.0,\"#f0f921\"]],\"type\":\"histogram2d\"}],\"histogram2dcontour\":[{\"colorbar\":{\"outlinewidth\":0,\"ticks\":\"\"},\"colorscale\":[[0.0,\"#0d0887\"],[0.1111111111111111,\"#46039f\"],[0.2222222222222222,\"#7201a8\"],[0.3333333333333333,\"#9c179e\"],[0.4444444444444444,\"#bd3786\"],[0.5555555555555556,\"#d8576b\"],[0.6666666666666666,\"#ed7953\"],[0.7777777777777778,\"#fb9f3a\"],[0.8888888888888888,\"#fdca26\"],[1.0,\"#f0f921\"]],\"type\":\"histogram2dcontour\"}],\"mesh3d\":[{\"colorbar\":{\"outlinewidth\":0,\"ticks\":\"\"},\"type\":\"mesh3d\"}],\"parcoords\":[{\"line\":{\"colorbar\":{\"outlinewidth\":0,\"ticks\":\"\"}},\"type\":\"parcoords\"}],\"pie\":[{\"automargin\":true,\"type\":\"pie\"}],\"scatter\":[{\"marker\":{\"colorbar\":{\"outlinewidth\":0,\"ticks\":\"\"}},\"type\":\"scatter\"}],\"scatter3d\":[{\"line\":{\"colorbar\":{\"outlinewidth\":0,\"ticks\":\"\"}},\"marker\":{\"colorbar\":{\"outlinewidth\":0,\"ticks\":\"\"}},\"type\":\"scatter3d\"}],\"scattercarpet\":[{\"marker\":{\"colorbar\":{\"outlinewidth\":0,\"ticks\":\"\"}},\"type\":\"scattercarpet\"}],\"scattergeo\":[{\"marker\":{\"colorbar\":{\"outlinewidth\":0,\"ticks\":\"\"}},\"type\":\"scattergeo\"}],\"scattergl\":[{\"marker\":{\"colorbar\":{\"outlinewidth\":0,\"ticks\":\"\"}},\"type\":\"scattergl\"}],\"scattermapbox\":[{\"marker\":{\"colorbar\":{\"outlinewidth\":0,\"ticks\":\"\"}},\"type\":\"scattermapbox\"}],\"scatterpolar\":[{\"marker\":{\"colorbar\":{\"outlinewidth\":0,\"ticks\":\"\"}},\"type\":\"scatterpolar\"}],\"scatterpolargl\":[{\"marker\":{\"colorbar\":{\"outlinewidth\":0,\"ticks\":\"\"}},\"type\":\"scatterpolargl\"}],\"scatterternary\":[{\"marker\":{\"colorbar\":{\"outlinewidth\":0,\"ticks\":\"\"}},\"type\":\"scatterternary\"}],\"surface\":[{\"colorbar\":{\"outlinewidth\":0,\"ticks\":\"\"},\"colorscale\":[[0.0,\"#0d0887\"],[0.1111111111111111,\"#46039f\"],[0.2222222222222222,\"#7201a8\"],[0.3333333333333333,\"#9c179e\"],[0.4444444444444444,\"#bd3786\"],[0.5555555555555556,\"#d8576b\"],[0.6666666666666666,\"#ed7953\"],[0.7777777777777778,\"#fb9f3a\"],[0.8888888888888888,\"#fdca26\"],[1.0,\"#f0f921\"]],\"type\":\"surface\"}],\"table\":[{\"cells\":{\"fill\":{\"color\":\"#EBF0F8\"},\"line\":{\"color\":\"white\"}},\"header\":{\"fill\":{\"color\":\"#C8D4E3\"},\"line\":{\"color\":\"white\"}},\"type\":\"table\"}]},\"layout\":{\"annotationdefaults\":{\"arrowcolor\":\"#2a3f5f\",\"arrowhead\":0,\"arrowwidth\":1},\"autotypenumbers\":\"strict\",\"coloraxis\":{\"colorbar\":{\"outlinewidth\":0,\"ticks\":\"\"}},\"colorscale\":{\"diverging\":[[0,\"#8e0152\"],[0.1,\"#c51b7d\"],[0.2,\"#de77ae\"],[0.3,\"#f1b6da\"],[0.4,\"#fde0ef\"],[0.5,\"#f7f7f7\"],[0.6,\"#e6f5d0\"],[0.7,\"#b8e186\"],[0.8,\"#7fbc41\"],[0.9,\"#4d9221\"],[1,\"#276419\"]],\"sequential\":[[0.0,\"#0d0887\"],[0.1111111111111111,\"#46039f\"],[0.2222222222222222,\"#7201a8\"],[0.3333333333333333,\"#9c179e\"],[0.4444444444444444,\"#bd3786\"],[0.5555555555555556,\"#d8576b\"],[0.6666666666666666,\"#ed7953\"],[0.7777777777777778,\"#fb9f3a\"],[0.8888888888888888,\"#fdca26\"],[1.0,\"#f0f921\"]],\"sequentialminus\":[[0.0,\"#0d0887\"],[0.1111111111111111,\"#46039f\"],[0.2222222222222222,\"#7201a8\"],[0.3333333333333333,\"#9c179e\"],[0.4444444444444444,\"#bd3786\"],[0.5555555555555556,\"#d8576b\"],[0.6666666666666666,\"#ed7953\"],[0.7777777777777778,\"#fb9f3a\"],[0.8888888888888888,\"#fdca26\"],[1.0,\"#f0f921\"]]},\"colorway\":[\"#636efa\",\"#EF553B\",\"#00cc96\",\"#ab63fa\",\"#FFA15A\",\"#19d3f3\",\"#FF6692\",\"#B6E880\",\"#FF97FF\",\"#FECB52\"],\"font\":{\"color\":\"#2a3f5f\"},\"geo\":{\"bgcolor\":\"white\",\"lakecolor\":\"white\",\"landcolor\":\"#E5ECF6\",\"showlakes\":true,\"showland\":true,\"subunitcolor\":\"white\"},\"hoverlabel\":{\"align\":\"left\"},\"hovermode\":\"closest\",\"mapbox\":{\"style\":\"light\"},\"paper_bgcolor\":\"white\",\"plot_bgcolor\":\"#E5ECF6\",\"polar\":{\"angularaxis\":{\"gridcolor\":\"white\",\"linecolor\":\"white\",\"ticks\":\"\"},\"bgcolor\":\"#E5ECF6\",\"radialaxis\":{\"gridcolor\":\"white\",\"linecolor\":\"white\",\"ticks\":\"\"}},\"scene\":{\"xaxis\":{\"backgroundcolor\":\"#E5ECF6\",\"gridcolor\":\"white\",\"gridwidth\":2,\"linecolor\":\"white\",\"showbackground\":true,\"ticks\":\"\",\"zerolinecolor\":\"white\"},\"yaxis\":{\"backgroundcolor\":\"#E5ECF6\",\"gridcolor\":\"white\",\"gridwidth\":2,\"linecolor\":\"white\",\"showbackground\":true,\"ticks\":\"\",\"zerolinecolor\":\"white\"},\"zaxis\":{\"backgroundcolor\":\"#E5ECF6\",\"gridcolor\":\"white\",\"gridwidth\":2,\"linecolor\":\"white\",\"showbackground\":true,\"ticks\":\"\",\"zerolinecolor\":\"white\"}},\"shapedefaults\":{\"line\":{\"color\":\"#2a3f5f\"}},\"ternary\":{\"aaxis\":{\"gridcolor\":\"white\",\"linecolor\":\"white\",\"ticks\":\"\"},\"baxis\":{\"gridcolor\":\"white\",\"linecolor\":\"white\",\"ticks\":\"\"},\"bgcolor\":\"#E5ECF6\",\"caxis\":{\"gridcolor\":\"white\",\"linecolor\":\"white\",\"ticks\":\"\"}},\"title\":{\"x\":0.05},\"xaxis\":{\"automargin\":true,\"gridcolor\":\"white\",\"linecolor\":\"white\",\"ticks\":\"\",\"title\":{\"standoff\":15},\"zerolinecolor\":\"white\",\"zerolinewidth\":2},\"yaxis\":{\"automargin\":true,\"gridcolor\":\"white\",\"linecolor\":\"white\",\"ticks\":\"\",\"title\":{\"standoff\":15},\"zerolinecolor\":\"white\",\"zerolinewidth\":2}}},\"title\":{\"text\":\"Percent mentions by day\"},\"xaxis\":{\"anchor\":\"y\",\"domain\":[0.0,1.0],\"title\":{\"text\":\"day\"}},\"yaxis\":{\"anchor\":\"x\",\"domain\":[0.0,1.0],\"title\":{\"text\":\"mention_perc\"}}},                        {\"responsive\": true}                    ).then(function(){\n",
       "                            \n",
       "var gd = document.getElementById('ca1b024d-2c78-4279-a3b0-a3505d859402');\n",
       "var x = new MutationObserver(function (mutations, observer) {{\n",
       "        var display = window.getComputedStyle(gd).display;\n",
       "        if (!display || display === 'none') {{\n",
       "            console.log([gd, 'removed!']);\n",
       "            Plotly.purge(gd);\n",
       "            observer.disconnect();\n",
       "        }}\n",
       "}});\n",
       "\n",
       "// Listen for the removal of the full notebook cells\n",
       "var notebookContainer = gd.closest('#notebook-container');\n",
       "if (notebookContainer) {{\n",
       "    x.observe(notebookContainer, {childList: true});\n",
       "}}\n",
       "\n",
       "// Listen for the clearing of the current output cell\n",
       "var outputEl = gd.closest('.output');\n",
       "if (outputEl) {{\n",
       "    x.observe(outputEl, {childList: true});\n",
       "}}\n",
       "\n",
       "                        })                };                });            </script>        </div>"
      ]
     },
     "metadata": {},
     "output_type": "display_data"
    }
   ],
   "source": [
    "fig = px.line(tmp[tmp['symbol'].isin(top_symbols[0:10])].sort_values('day', ascending=False), \n",
    "              x=\"day\", y=\"mention_perc\", line_group=\"symbol\", color=\"symbol\",\n",
    "              title=\"Percent mentions by day\")\n",
    "fig.show()"
   ]
  },
  {
   "cell_type": "code",
   "execution_count": null,
   "id": "639465b0",
   "metadata": {},
   "outputs": [],
   "source": [
    "# TODO: \n",
    "# - find the weekly peak fraction of every stock\n",
    "# - re-align/normalize the curves so you can see how stocks trended +/- n weeks from their peak\n",
    "# - programmatically segment the stocks into rising stars / fading / holding steady"
   ]
  },
  {
   "cell_type": "markdown",
   "id": "7f078560",
   "metadata": {},
   "source": [
    "# Extra"
   ]
  },
  {
   "cell_type": "code",
   "execution_count": null,
   "id": "02a2d81d",
   "metadata": {},
   "outputs": [],
   "source": [
    "mentions_weekly = await beneath.query_warehouse(\"\"\"\n",
    "    SELECT symbol, timestamp_trunc(timestamp, week) as week, count(*) as num_mentions\n",
    "    FROM `examples/wallstreetbets-analytics/r-wallstreetbets-posts-stock-mentions`\n",
    "    GROUP BY symbol, week\n",
    "    ORDER BY week, num_mentions desc\n",
    "\"\"\")"
   ]
  },
  {
   "cell_type": "code",
   "execution_count": null,
   "id": "97c7c60d",
   "metadata": {},
   "outputs": [],
   "source": [
    "top_symbols = mentions_weekly.loc[mentions_weekly['num_mentions'] > 100]['symbol'].unique()\n",
    "top_mentions_weekly = mentions_weekly.loc[mentions_weekly['symbol'].isin(top_symbols)]\n",
    "fig = px.line(top_mentions_weekly, x=\"week\", y=\"num_mentions\", line_group=\"symbol\", color=\"symbol\", title=\"Weekly mentions of most popular companies\")\n",
    "fig.show()"
   ]
  },
  {
   "cell_type": "markdown",
   "id": "18c10ec9",
   "metadata": {},
   "source": [
    "### Mentions & Flair"
   ]
  },
  {
   "cell_type": "code",
   "execution_count": 279,
   "id": "ccccf5e9",
   "metadata": {},
   "outputs": [],
   "source": [
    "symbol_flair = await beneath.query_warehouse(\"\"\"\n",
    "    SELECT symbol, timestamp_trunc(created_on, day) as day, flair, count(*) as num_posts\n",
    "    FROM `examples/wallstreetbets-analytics/r-wallstreetbets-posts-stock-mentions` m\n",
    "    JOIN `examples/reddit/r-wallstreetbets-posts` p ON m.post_id = p.id\n",
    "    WHERE timestamp_trunc(created_on, month) = \"2021-06-01\"\n",
    "    GROUP BY symbol, day, flair\n",
    "\"\"\")"
   ]
  },
  {
   "cell_type": "code",
   "execution_count": 295,
   "id": "0b5cbe42",
   "metadata": {},
   "outputs": [
    {
     "data": {
      "application/vnd.plotly.v1+json": {
       "config": {
        "plotlyServerURL": "https://plot.ly"
       },
       "data": [
        {
         "alignmentgroup": "True",
         "hovertemplate": "flair=%{y}<br>num_posts=%{x}<extra></extra>",
         "legendgroup": "Discussion",
         "marker": {
          "color": "#636efa",
          "pattern": {
           "shape": ""
          }
         },
         "name": "Discussion",
         "offsetgroup": "Discussion",
         "orientation": "h",
         "showlegend": true,
         "textposition": "auto",
         "type": "bar",
         "x": [
          9719
         ],
         "xaxis": "x",
         "y": [
          "Discussion"
         ],
         "yaxis": "y"
        },
        {
         "alignmentgroup": "True",
         "hovertemplate": "flair=%{y}<br>num_posts=%{x}<extra></extra>",
         "legendgroup": "YOLO",
         "marker": {
          "color": "#EF553B",
          "pattern": {
           "shape": ""
          }
         },
         "name": "YOLO",
         "offsetgroup": "YOLO",
         "orientation": "h",
         "showlegend": true,
         "textposition": "auto",
         "type": "bar",
         "x": [
          5481
         ],
         "xaxis": "x",
         "y": [
          "YOLO"
         ],
         "yaxis": "y"
        },
        {
         "alignmentgroup": "True",
         "hovertemplate": "flair=%{y}<br>num_posts=%{x}<extra></extra>",
         "legendgroup": "DD",
         "marker": {
          "color": "#00cc96",
          "pattern": {
           "shape": ""
          }
         },
         "name": "DD",
         "offsetgroup": "DD",
         "orientation": "h",
         "showlegend": true,
         "textposition": "auto",
         "type": "bar",
         "x": [
          4065
         ],
         "xaxis": "x",
         "y": [
          "DD"
         ],
         "yaxis": "y"
        },
        {
         "alignmentgroup": "True",
         "hovertemplate": "flair=%{y}<br>num_posts=%{x}<extra></extra>",
         "legendgroup": "Gain",
         "marker": {
          "color": "#ab63fa",
          "pattern": {
           "shape": ""
          }
         },
         "name": "Gain",
         "offsetgroup": "Gain",
         "orientation": "h",
         "showlegend": true,
         "textposition": "auto",
         "type": "bar",
         "x": [
          2218
         ],
         "xaxis": "x",
         "y": [
          "Gain"
         ],
         "yaxis": "y"
        },
        {
         "alignmentgroup": "True",
         "hovertemplate": "flair=%{y}<br>num_posts=%{x}<extra></extra>",
         "legendgroup": "Meme",
         "marker": {
          "color": "#FFA15A",
          "pattern": {
           "shape": ""
          }
         },
         "name": "Meme",
         "offsetgroup": "Meme",
         "orientation": "h",
         "showlegend": true,
         "textposition": "auto",
         "type": "bar",
         "x": [
          1778
         ],
         "xaxis": "x",
         "y": [
          "Meme"
         ],
         "yaxis": "y"
        },
        {
         "alignmentgroup": "True",
         "hovertemplate": "flair=%{y}<br>num_posts=%{x}<extra></extra>",
         "legendgroup": "Technical Analysis",
         "marker": {
          "color": "#19d3f3",
          "pattern": {
           "shape": ""
          }
         },
         "name": "Technical Analysis",
         "offsetgroup": "Technical Analysis",
         "orientation": "h",
         "showlegend": true,
         "textposition": "auto",
         "type": "bar",
         "x": [
          1282
         ],
         "xaxis": "x",
         "y": [
          "Technical Analysis"
         ],
         "yaxis": "y"
        },
        {
         "alignmentgroup": "True",
         "hovertemplate": "flair=%{y}<br>num_posts=%{x}<extra></extra>",
         "legendgroup": "News",
         "marker": {
          "color": "#FF6692",
          "pattern": {
           "shape": ""
          }
         },
         "name": "News",
         "offsetgroup": "News",
         "orientation": "h",
         "showlegend": true,
         "textposition": "auto",
         "type": "bar",
         "x": [
          807
         ],
         "xaxis": "x",
         "y": [
          "News"
         ],
         "yaxis": "y"
        },
        {
         "alignmentgroup": "True",
         "hovertemplate": "flair=%{y}<br>num_posts=%{x}<extra></extra>",
         "legendgroup": "Loss",
         "marker": {
          "color": "#B6E880",
          "pattern": {
           "shape": ""
          }
         },
         "name": "Loss",
         "offsetgroup": "Loss",
         "orientation": "h",
         "showlegend": true,
         "textposition": "auto",
         "type": "bar",
         "x": [
          587
         ],
         "xaxis": "x",
         "y": [
          "Loss"
         ],
         "yaxis": "y"
        },
        {
         "alignmentgroup": "True",
         "hovertemplate": "flair=%{y}<br>num_posts=%{x}<extra></extra>",
         "legendgroup": "Shitpost",
         "marker": {
          "color": "#FF97FF",
          "pattern": {
           "shape": ""
          }
         },
         "name": "Shitpost",
         "offsetgroup": "Shitpost",
         "orientation": "h",
         "showlegend": true,
         "textposition": "auto",
         "type": "bar",
         "x": [
          5
         ],
         "xaxis": "x",
         "y": [
          "Shitpost"
         ],
         "yaxis": "y"
        }
       ],
       "layout": {
        "barmode": "relative",
        "legend": {
         "title": {
          "text": "flair"
         },
         "tracegroupgap": 0
        },
        "template": {
         "data": {
          "bar": [
           {
            "error_x": {
             "color": "#2a3f5f"
            },
            "error_y": {
             "color": "#2a3f5f"
            },
            "marker": {
             "line": {
              "color": "#E5ECF6",
              "width": 0.5
             },
             "pattern": {
              "fillmode": "overlay",
              "size": 10,
              "solidity": 0.2
             }
            },
            "type": "bar"
           }
          ],
          "barpolar": [
           {
            "marker": {
             "line": {
              "color": "#E5ECF6",
              "width": 0.5
             },
             "pattern": {
              "fillmode": "overlay",
              "size": 10,
              "solidity": 0.2
             }
            },
            "type": "barpolar"
           }
          ],
          "carpet": [
           {
            "aaxis": {
             "endlinecolor": "#2a3f5f",
             "gridcolor": "white",
             "linecolor": "white",
             "minorgridcolor": "white",
             "startlinecolor": "#2a3f5f"
            },
            "baxis": {
             "endlinecolor": "#2a3f5f",
             "gridcolor": "white",
             "linecolor": "white",
             "minorgridcolor": "white",
             "startlinecolor": "#2a3f5f"
            },
            "type": "carpet"
           }
          ],
          "choropleth": [
           {
            "colorbar": {
             "outlinewidth": 0,
             "ticks": ""
            },
            "type": "choropleth"
           }
          ],
          "contour": [
           {
            "colorbar": {
             "outlinewidth": 0,
             "ticks": ""
            },
            "colorscale": [
             [
              0,
              "#0d0887"
             ],
             [
              0.1111111111111111,
              "#46039f"
             ],
             [
              0.2222222222222222,
              "#7201a8"
             ],
             [
              0.3333333333333333,
              "#9c179e"
             ],
             [
              0.4444444444444444,
              "#bd3786"
             ],
             [
              0.5555555555555556,
              "#d8576b"
             ],
             [
              0.6666666666666666,
              "#ed7953"
             ],
             [
              0.7777777777777778,
              "#fb9f3a"
             ],
             [
              0.8888888888888888,
              "#fdca26"
             ],
             [
              1,
              "#f0f921"
             ]
            ],
            "type": "contour"
           }
          ],
          "contourcarpet": [
           {
            "colorbar": {
             "outlinewidth": 0,
             "ticks": ""
            },
            "type": "contourcarpet"
           }
          ],
          "heatmap": [
           {
            "colorbar": {
             "outlinewidth": 0,
             "ticks": ""
            },
            "colorscale": [
             [
              0,
              "#0d0887"
             ],
             [
              0.1111111111111111,
              "#46039f"
             ],
             [
              0.2222222222222222,
              "#7201a8"
             ],
             [
              0.3333333333333333,
              "#9c179e"
             ],
             [
              0.4444444444444444,
              "#bd3786"
             ],
             [
              0.5555555555555556,
              "#d8576b"
             ],
             [
              0.6666666666666666,
              "#ed7953"
             ],
             [
              0.7777777777777778,
              "#fb9f3a"
             ],
             [
              0.8888888888888888,
              "#fdca26"
             ],
             [
              1,
              "#f0f921"
             ]
            ],
            "type": "heatmap"
           }
          ],
          "heatmapgl": [
           {
            "colorbar": {
             "outlinewidth": 0,
             "ticks": ""
            },
            "colorscale": [
             [
              0,
              "#0d0887"
             ],
             [
              0.1111111111111111,
              "#46039f"
             ],
             [
              0.2222222222222222,
              "#7201a8"
             ],
             [
              0.3333333333333333,
              "#9c179e"
             ],
             [
              0.4444444444444444,
              "#bd3786"
             ],
             [
              0.5555555555555556,
              "#d8576b"
             ],
             [
              0.6666666666666666,
              "#ed7953"
             ],
             [
              0.7777777777777778,
              "#fb9f3a"
             ],
             [
              0.8888888888888888,
              "#fdca26"
             ],
             [
              1,
              "#f0f921"
             ]
            ],
            "type": "heatmapgl"
           }
          ],
          "histogram": [
           {
            "marker": {
             "pattern": {
              "fillmode": "overlay",
              "size": 10,
              "solidity": 0.2
             }
            },
            "type": "histogram"
           }
          ],
          "histogram2d": [
           {
            "colorbar": {
             "outlinewidth": 0,
             "ticks": ""
            },
            "colorscale": [
             [
              0,
              "#0d0887"
             ],
             [
              0.1111111111111111,
              "#46039f"
             ],
             [
              0.2222222222222222,
              "#7201a8"
             ],
             [
              0.3333333333333333,
              "#9c179e"
             ],
             [
              0.4444444444444444,
              "#bd3786"
             ],
             [
              0.5555555555555556,
              "#d8576b"
             ],
             [
              0.6666666666666666,
              "#ed7953"
             ],
             [
              0.7777777777777778,
              "#fb9f3a"
             ],
             [
              0.8888888888888888,
              "#fdca26"
             ],
             [
              1,
              "#f0f921"
             ]
            ],
            "type": "histogram2d"
           }
          ],
          "histogram2dcontour": [
           {
            "colorbar": {
             "outlinewidth": 0,
             "ticks": ""
            },
            "colorscale": [
             [
              0,
              "#0d0887"
             ],
             [
              0.1111111111111111,
              "#46039f"
             ],
             [
              0.2222222222222222,
              "#7201a8"
             ],
             [
              0.3333333333333333,
              "#9c179e"
             ],
             [
              0.4444444444444444,
              "#bd3786"
             ],
             [
              0.5555555555555556,
              "#d8576b"
             ],
             [
              0.6666666666666666,
              "#ed7953"
             ],
             [
              0.7777777777777778,
              "#fb9f3a"
             ],
             [
              0.8888888888888888,
              "#fdca26"
             ],
             [
              1,
              "#f0f921"
             ]
            ],
            "type": "histogram2dcontour"
           }
          ],
          "mesh3d": [
           {
            "colorbar": {
             "outlinewidth": 0,
             "ticks": ""
            },
            "type": "mesh3d"
           }
          ],
          "parcoords": [
           {
            "line": {
             "colorbar": {
              "outlinewidth": 0,
              "ticks": ""
             }
            },
            "type": "parcoords"
           }
          ],
          "pie": [
           {
            "automargin": true,
            "type": "pie"
           }
          ],
          "scatter": [
           {
            "marker": {
             "colorbar": {
              "outlinewidth": 0,
              "ticks": ""
             }
            },
            "type": "scatter"
           }
          ],
          "scatter3d": [
           {
            "line": {
             "colorbar": {
              "outlinewidth": 0,
              "ticks": ""
             }
            },
            "marker": {
             "colorbar": {
              "outlinewidth": 0,
              "ticks": ""
             }
            },
            "type": "scatter3d"
           }
          ],
          "scattercarpet": [
           {
            "marker": {
             "colorbar": {
              "outlinewidth": 0,
              "ticks": ""
             }
            },
            "type": "scattercarpet"
           }
          ],
          "scattergeo": [
           {
            "marker": {
             "colorbar": {
              "outlinewidth": 0,
              "ticks": ""
             }
            },
            "type": "scattergeo"
           }
          ],
          "scattergl": [
           {
            "marker": {
             "colorbar": {
              "outlinewidth": 0,
              "ticks": ""
             }
            },
            "type": "scattergl"
           }
          ],
          "scattermapbox": [
           {
            "marker": {
             "colorbar": {
              "outlinewidth": 0,
              "ticks": ""
             }
            },
            "type": "scattermapbox"
           }
          ],
          "scatterpolar": [
           {
            "marker": {
             "colorbar": {
              "outlinewidth": 0,
              "ticks": ""
             }
            },
            "type": "scatterpolar"
           }
          ],
          "scatterpolargl": [
           {
            "marker": {
             "colorbar": {
              "outlinewidth": 0,
              "ticks": ""
             }
            },
            "type": "scatterpolargl"
           }
          ],
          "scatterternary": [
           {
            "marker": {
             "colorbar": {
              "outlinewidth": 0,
              "ticks": ""
             }
            },
            "type": "scatterternary"
           }
          ],
          "surface": [
           {
            "colorbar": {
             "outlinewidth": 0,
             "ticks": ""
            },
            "colorscale": [
             [
              0,
              "#0d0887"
             ],
             [
              0.1111111111111111,
              "#46039f"
             ],
             [
              0.2222222222222222,
              "#7201a8"
             ],
             [
              0.3333333333333333,
              "#9c179e"
             ],
             [
              0.4444444444444444,
              "#bd3786"
             ],
             [
              0.5555555555555556,
              "#d8576b"
             ],
             [
              0.6666666666666666,
              "#ed7953"
             ],
             [
              0.7777777777777778,
              "#fb9f3a"
             ],
             [
              0.8888888888888888,
              "#fdca26"
             ],
             [
              1,
              "#f0f921"
             ]
            ],
            "type": "surface"
           }
          ],
          "table": [
           {
            "cells": {
             "fill": {
              "color": "#EBF0F8"
             },
             "line": {
              "color": "white"
             }
            },
            "header": {
             "fill": {
              "color": "#C8D4E3"
             },
             "line": {
              "color": "white"
             }
            },
            "type": "table"
           }
          ]
         },
         "layout": {
          "annotationdefaults": {
           "arrowcolor": "#2a3f5f",
           "arrowhead": 0,
           "arrowwidth": 1
          },
          "autotypenumbers": "strict",
          "coloraxis": {
           "colorbar": {
            "outlinewidth": 0,
            "ticks": ""
           }
          },
          "colorscale": {
           "diverging": [
            [
             0,
             "#8e0152"
            ],
            [
             0.1,
             "#c51b7d"
            ],
            [
             0.2,
             "#de77ae"
            ],
            [
             0.3,
             "#f1b6da"
            ],
            [
             0.4,
             "#fde0ef"
            ],
            [
             0.5,
             "#f7f7f7"
            ],
            [
             0.6,
             "#e6f5d0"
            ],
            [
             0.7,
             "#b8e186"
            ],
            [
             0.8,
             "#7fbc41"
            ],
            [
             0.9,
             "#4d9221"
            ],
            [
             1,
             "#276419"
            ]
           ],
           "sequential": [
            [
             0,
             "#0d0887"
            ],
            [
             0.1111111111111111,
             "#46039f"
            ],
            [
             0.2222222222222222,
             "#7201a8"
            ],
            [
             0.3333333333333333,
             "#9c179e"
            ],
            [
             0.4444444444444444,
             "#bd3786"
            ],
            [
             0.5555555555555556,
             "#d8576b"
            ],
            [
             0.6666666666666666,
             "#ed7953"
            ],
            [
             0.7777777777777778,
             "#fb9f3a"
            ],
            [
             0.8888888888888888,
             "#fdca26"
            ],
            [
             1,
             "#f0f921"
            ]
           ],
           "sequentialminus": [
            [
             0,
             "#0d0887"
            ],
            [
             0.1111111111111111,
             "#46039f"
            ],
            [
             0.2222222222222222,
             "#7201a8"
            ],
            [
             0.3333333333333333,
             "#9c179e"
            ],
            [
             0.4444444444444444,
             "#bd3786"
            ],
            [
             0.5555555555555556,
             "#d8576b"
            ],
            [
             0.6666666666666666,
             "#ed7953"
            ],
            [
             0.7777777777777778,
             "#fb9f3a"
            ],
            [
             0.8888888888888888,
             "#fdca26"
            ],
            [
             1,
             "#f0f921"
            ]
           ]
          },
          "colorway": [
           "#636efa",
           "#EF553B",
           "#00cc96",
           "#ab63fa",
           "#FFA15A",
           "#19d3f3",
           "#FF6692",
           "#B6E880",
           "#FF97FF",
           "#FECB52"
          ],
          "font": {
           "color": "#2a3f5f"
          },
          "geo": {
           "bgcolor": "white",
           "lakecolor": "white",
           "landcolor": "#E5ECF6",
           "showlakes": true,
           "showland": true,
           "subunitcolor": "white"
          },
          "hoverlabel": {
           "align": "left"
          },
          "hovermode": "closest",
          "mapbox": {
           "style": "light"
          },
          "paper_bgcolor": "white",
          "plot_bgcolor": "#E5ECF6",
          "polar": {
           "angularaxis": {
            "gridcolor": "white",
            "linecolor": "white",
            "ticks": ""
           },
           "bgcolor": "#E5ECF6",
           "radialaxis": {
            "gridcolor": "white",
            "linecolor": "white",
            "ticks": ""
           }
          },
          "scene": {
           "xaxis": {
            "backgroundcolor": "#E5ECF6",
            "gridcolor": "white",
            "gridwidth": 2,
            "linecolor": "white",
            "showbackground": true,
            "ticks": "",
            "zerolinecolor": "white"
           },
           "yaxis": {
            "backgroundcolor": "#E5ECF6",
            "gridcolor": "white",
            "gridwidth": 2,
            "linecolor": "white",
            "showbackground": true,
            "ticks": "",
            "zerolinecolor": "white"
           },
           "zaxis": {
            "backgroundcolor": "#E5ECF6",
            "gridcolor": "white",
            "gridwidth": 2,
            "linecolor": "white",
            "showbackground": true,
            "ticks": "",
            "zerolinecolor": "white"
           }
          },
          "shapedefaults": {
           "line": {
            "color": "#2a3f5f"
           }
          },
          "ternary": {
           "aaxis": {
            "gridcolor": "white",
            "linecolor": "white",
            "ticks": ""
           },
           "baxis": {
            "gridcolor": "white",
            "linecolor": "white",
            "ticks": ""
           },
           "bgcolor": "#E5ECF6",
           "caxis": {
            "gridcolor": "white",
            "linecolor": "white",
            "ticks": ""
           }
          },
          "title": {
           "x": 0.05
          },
          "xaxis": {
           "automargin": true,
           "gridcolor": "white",
           "linecolor": "white",
           "ticks": "",
           "title": {
            "standoff": 15
           },
           "zerolinecolor": "white",
           "zerolinewidth": 2
          },
          "yaxis": {
           "automargin": true,
           "gridcolor": "white",
           "linecolor": "white",
           "ticks": "",
           "title": {
            "standoff": 15
           },
           "zerolinecolor": "white",
           "zerolinewidth": 2
          }
         }
        },
        "title": {
         "text": "Flair distribution"
        },
        "xaxis": {
         "anchor": "y",
         "domain": [
          0,
          1
         ],
         "title": {
          "text": "num_posts"
         }
        },
        "yaxis": {
         "anchor": "x",
         "categoryarray": [
          "Shitpost",
          "Loss",
          "News",
          "Technical Analysis",
          "Meme",
          "Gain",
          "DD",
          "YOLO",
          "Discussion"
         ],
         "categoryorder": "array",
         "domain": [
          0,
          1
         ],
         "title": {
          "text": "flair"
         }
        }
       }
      },
      "text/html": [
       "<div>                            <div id=\"06b0ea17-a05d-4080-8887-504c6bf42380\" class=\"plotly-graph-div\" style=\"height:525px; width:100%;\"></div>            <script type=\"text/javascript\">                require([\"plotly\"], function(Plotly) {                    window.PLOTLYENV=window.PLOTLYENV || {};                                    if (document.getElementById(\"06b0ea17-a05d-4080-8887-504c6bf42380\")) {                    Plotly.newPlot(                        \"06b0ea17-a05d-4080-8887-504c6bf42380\",                        [{\"alignmentgroup\":\"True\",\"hovertemplate\":\"flair=%{y}<br>num_posts=%{x}<extra></extra>\",\"legendgroup\":\"Discussion\",\"marker\":{\"color\":\"#636efa\",\"pattern\":{\"shape\":\"\"}},\"name\":\"Discussion\",\"offsetgroup\":\"Discussion\",\"orientation\":\"h\",\"showlegend\":true,\"textposition\":\"auto\",\"type\":\"bar\",\"x\":[9719],\"xaxis\":\"x\",\"y\":[\"Discussion\"],\"yaxis\":\"y\"},{\"alignmentgroup\":\"True\",\"hovertemplate\":\"flair=%{y}<br>num_posts=%{x}<extra></extra>\",\"legendgroup\":\"YOLO\",\"marker\":{\"color\":\"#EF553B\",\"pattern\":{\"shape\":\"\"}},\"name\":\"YOLO\",\"offsetgroup\":\"YOLO\",\"orientation\":\"h\",\"showlegend\":true,\"textposition\":\"auto\",\"type\":\"bar\",\"x\":[5481],\"xaxis\":\"x\",\"y\":[\"YOLO\"],\"yaxis\":\"y\"},{\"alignmentgroup\":\"True\",\"hovertemplate\":\"flair=%{y}<br>num_posts=%{x}<extra></extra>\",\"legendgroup\":\"DD\",\"marker\":{\"color\":\"#00cc96\",\"pattern\":{\"shape\":\"\"}},\"name\":\"DD\",\"offsetgroup\":\"DD\",\"orientation\":\"h\",\"showlegend\":true,\"textposition\":\"auto\",\"type\":\"bar\",\"x\":[4065],\"xaxis\":\"x\",\"y\":[\"DD\"],\"yaxis\":\"y\"},{\"alignmentgroup\":\"True\",\"hovertemplate\":\"flair=%{y}<br>num_posts=%{x}<extra></extra>\",\"legendgroup\":\"Gain\",\"marker\":{\"color\":\"#ab63fa\",\"pattern\":{\"shape\":\"\"}},\"name\":\"Gain\",\"offsetgroup\":\"Gain\",\"orientation\":\"h\",\"showlegend\":true,\"textposition\":\"auto\",\"type\":\"bar\",\"x\":[2218],\"xaxis\":\"x\",\"y\":[\"Gain\"],\"yaxis\":\"y\"},{\"alignmentgroup\":\"True\",\"hovertemplate\":\"flair=%{y}<br>num_posts=%{x}<extra></extra>\",\"legendgroup\":\"Meme\",\"marker\":{\"color\":\"#FFA15A\",\"pattern\":{\"shape\":\"\"}},\"name\":\"Meme\",\"offsetgroup\":\"Meme\",\"orientation\":\"h\",\"showlegend\":true,\"textposition\":\"auto\",\"type\":\"bar\",\"x\":[1778],\"xaxis\":\"x\",\"y\":[\"Meme\"],\"yaxis\":\"y\"},{\"alignmentgroup\":\"True\",\"hovertemplate\":\"flair=%{y}<br>num_posts=%{x}<extra></extra>\",\"legendgroup\":\"Technical Analysis\",\"marker\":{\"color\":\"#19d3f3\",\"pattern\":{\"shape\":\"\"}},\"name\":\"Technical Analysis\",\"offsetgroup\":\"Technical Analysis\",\"orientation\":\"h\",\"showlegend\":true,\"textposition\":\"auto\",\"type\":\"bar\",\"x\":[1282],\"xaxis\":\"x\",\"y\":[\"Technical Analysis\"],\"yaxis\":\"y\"},{\"alignmentgroup\":\"True\",\"hovertemplate\":\"flair=%{y}<br>num_posts=%{x}<extra></extra>\",\"legendgroup\":\"News\",\"marker\":{\"color\":\"#FF6692\",\"pattern\":{\"shape\":\"\"}},\"name\":\"News\",\"offsetgroup\":\"News\",\"orientation\":\"h\",\"showlegend\":true,\"textposition\":\"auto\",\"type\":\"bar\",\"x\":[807],\"xaxis\":\"x\",\"y\":[\"News\"],\"yaxis\":\"y\"},{\"alignmentgroup\":\"True\",\"hovertemplate\":\"flair=%{y}<br>num_posts=%{x}<extra></extra>\",\"legendgroup\":\"Loss\",\"marker\":{\"color\":\"#B6E880\",\"pattern\":{\"shape\":\"\"}},\"name\":\"Loss\",\"offsetgroup\":\"Loss\",\"orientation\":\"h\",\"showlegend\":true,\"textposition\":\"auto\",\"type\":\"bar\",\"x\":[587],\"xaxis\":\"x\",\"y\":[\"Loss\"],\"yaxis\":\"y\"},{\"alignmentgroup\":\"True\",\"hovertemplate\":\"flair=%{y}<br>num_posts=%{x}<extra></extra>\",\"legendgroup\":\"Shitpost\",\"marker\":{\"color\":\"#FF97FF\",\"pattern\":{\"shape\":\"\"}},\"name\":\"Shitpost\",\"offsetgroup\":\"Shitpost\",\"orientation\":\"h\",\"showlegend\":true,\"textposition\":\"auto\",\"type\":\"bar\",\"x\":[5],\"xaxis\":\"x\",\"y\":[\"Shitpost\"],\"yaxis\":\"y\"}],                        {\"barmode\":\"relative\",\"legend\":{\"title\":{\"text\":\"flair\"},\"tracegroupgap\":0},\"template\":{\"data\":{\"bar\":[{\"error_x\":{\"color\":\"#2a3f5f\"},\"error_y\":{\"color\":\"#2a3f5f\"},\"marker\":{\"line\":{\"color\":\"#E5ECF6\",\"width\":0.5},\"pattern\":{\"fillmode\":\"overlay\",\"size\":10,\"solidity\":0.2}},\"type\":\"bar\"}],\"barpolar\":[{\"marker\":{\"line\":{\"color\":\"#E5ECF6\",\"width\":0.5},\"pattern\":{\"fillmode\":\"overlay\",\"size\":10,\"solidity\":0.2}},\"type\":\"barpolar\"}],\"carpet\":[{\"aaxis\":{\"endlinecolor\":\"#2a3f5f\",\"gridcolor\":\"white\",\"linecolor\":\"white\",\"minorgridcolor\":\"white\",\"startlinecolor\":\"#2a3f5f\"},\"baxis\":{\"endlinecolor\":\"#2a3f5f\",\"gridcolor\":\"white\",\"linecolor\":\"white\",\"minorgridcolor\":\"white\",\"startlinecolor\":\"#2a3f5f\"},\"type\":\"carpet\"}],\"choropleth\":[{\"colorbar\":{\"outlinewidth\":0,\"ticks\":\"\"},\"type\":\"choropleth\"}],\"contour\":[{\"colorbar\":{\"outlinewidth\":0,\"ticks\":\"\"},\"colorscale\":[[0.0,\"#0d0887\"],[0.1111111111111111,\"#46039f\"],[0.2222222222222222,\"#7201a8\"],[0.3333333333333333,\"#9c179e\"],[0.4444444444444444,\"#bd3786\"],[0.5555555555555556,\"#d8576b\"],[0.6666666666666666,\"#ed7953\"],[0.7777777777777778,\"#fb9f3a\"],[0.8888888888888888,\"#fdca26\"],[1.0,\"#f0f921\"]],\"type\":\"contour\"}],\"contourcarpet\":[{\"colorbar\":{\"outlinewidth\":0,\"ticks\":\"\"},\"type\":\"contourcarpet\"}],\"heatmap\":[{\"colorbar\":{\"outlinewidth\":0,\"ticks\":\"\"},\"colorscale\":[[0.0,\"#0d0887\"],[0.1111111111111111,\"#46039f\"],[0.2222222222222222,\"#7201a8\"],[0.3333333333333333,\"#9c179e\"],[0.4444444444444444,\"#bd3786\"],[0.5555555555555556,\"#d8576b\"],[0.6666666666666666,\"#ed7953\"],[0.7777777777777778,\"#fb9f3a\"],[0.8888888888888888,\"#fdca26\"],[1.0,\"#f0f921\"]],\"type\":\"heatmap\"}],\"heatmapgl\":[{\"colorbar\":{\"outlinewidth\":0,\"ticks\":\"\"},\"colorscale\":[[0.0,\"#0d0887\"],[0.1111111111111111,\"#46039f\"],[0.2222222222222222,\"#7201a8\"],[0.3333333333333333,\"#9c179e\"],[0.4444444444444444,\"#bd3786\"],[0.5555555555555556,\"#d8576b\"],[0.6666666666666666,\"#ed7953\"],[0.7777777777777778,\"#fb9f3a\"],[0.8888888888888888,\"#fdca26\"],[1.0,\"#f0f921\"]],\"type\":\"heatmapgl\"}],\"histogram\":[{\"marker\":{\"pattern\":{\"fillmode\":\"overlay\",\"size\":10,\"solidity\":0.2}},\"type\":\"histogram\"}],\"histogram2d\":[{\"colorbar\":{\"outlinewidth\":0,\"ticks\":\"\"},\"colorscale\":[[0.0,\"#0d0887\"],[0.1111111111111111,\"#46039f\"],[0.2222222222222222,\"#7201a8\"],[0.3333333333333333,\"#9c179e\"],[0.4444444444444444,\"#bd3786\"],[0.5555555555555556,\"#d8576b\"],[0.6666666666666666,\"#ed7953\"],[0.7777777777777778,\"#fb9f3a\"],[0.8888888888888888,\"#fdca26\"],[1.0,\"#f0f921\"]],\"type\":\"histogram2d\"}],\"histogram2dcontour\":[{\"colorbar\":{\"outlinewidth\":0,\"ticks\":\"\"},\"colorscale\":[[0.0,\"#0d0887\"],[0.1111111111111111,\"#46039f\"],[0.2222222222222222,\"#7201a8\"],[0.3333333333333333,\"#9c179e\"],[0.4444444444444444,\"#bd3786\"],[0.5555555555555556,\"#d8576b\"],[0.6666666666666666,\"#ed7953\"],[0.7777777777777778,\"#fb9f3a\"],[0.8888888888888888,\"#fdca26\"],[1.0,\"#f0f921\"]],\"type\":\"histogram2dcontour\"}],\"mesh3d\":[{\"colorbar\":{\"outlinewidth\":0,\"ticks\":\"\"},\"type\":\"mesh3d\"}],\"parcoords\":[{\"line\":{\"colorbar\":{\"outlinewidth\":0,\"ticks\":\"\"}},\"type\":\"parcoords\"}],\"pie\":[{\"automargin\":true,\"type\":\"pie\"}],\"scatter\":[{\"marker\":{\"colorbar\":{\"outlinewidth\":0,\"ticks\":\"\"}},\"type\":\"scatter\"}],\"scatter3d\":[{\"line\":{\"colorbar\":{\"outlinewidth\":0,\"ticks\":\"\"}},\"marker\":{\"colorbar\":{\"outlinewidth\":0,\"ticks\":\"\"}},\"type\":\"scatter3d\"}],\"scattercarpet\":[{\"marker\":{\"colorbar\":{\"outlinewidth\":0,\"ticks\":\"\"}},\"type\":\"scattercarpet\"}],\"scattergeo\":[{\"marker\":{\"colorbar\":{\"outlinewidth\":0,\"ticks\":\"\"}},\"type\":\"scattergeo\"}],\"scattergl\":[{\"marker\":{\"colorbar\":{\"outlinewidth\":0,\"ticks\":\"\"}},\"type\":\"scattergl\"}],\"scattermapbox\":[{\"marker\":{\"colorbar\":{\"outlinewidth\":0,\"ticks\":\"\"}},\"type\":\"scattermapbox\"}],\"scatterpolar\":[{\"marker\":{\"colorbar\":{\"outlinewidth\":0,\"ticks\":\"\"}},\"type\":\"scatterpolar\"}],\"scatterpolargl\":[{\"marker\":{\"colorbar\":{\"outlinewidth\":0,\"ticks\":\"\"}},\"type\":\"scatterpolargl\"}],\"scatterternary\":[{\"marker\":{\"colorbar\":{\"outlinewidth\":0,\"ticks\":\"\"}},\"type\":\"scatterternary\"}],\"surface\":[{\"colorbar\":{\"outlinewidth\":0,\"ticks\":\"\"},\"colorscale\":[[0.0,\"#0d0887\"],[0.1111111111111111,\"#46039f\"],[0.2222222222222222,\"#7201a8\"],[0.3333333333333333,\"#9c179e\"],[0.4444444444444444,\"#bd3786\"],[0.5555555555555556,\"#d8576b\"],[0.6666666666666666,\"#ed7953\"],[0.7777777777777778,\"#fb9f3a\"],[0.8888888888888888,\"#fdca26\"],[1.0,\"#f0f921\"]],\"type\":\"surface\"}],\"table\":[{\"cells\":{\"fill\":{\"color\":\"#EBF0F8\"},\"line\":{\"color\":\"white\"}},\"header\":{\"fill\":{\"color\":\"#C8D4E3\"},\"line\":{\"color\":\"white\"}},\"type\":\"table\"}]},\"layout\":{\"annotationdefaults\":{\"arrowcolor\":\"#2a3f5f\",\"arrowhead\":0,\"arrowwidth\":1},\"autotypenumbers\":\"strict\",\"coloraxis\":{\"colorbar\":{\"outlinewidth\":0,\"ticks\":\"\"}},\"colorscale\":{\"diverging\":[[0,\"#8e0152\"],[0.1,\"#c51b7d\"],[0.2,\"#de77ae\"],[0.3,\"#f1b6da\"],[0.4,\"#fde0ef\"],[0.5,\"#f7f7f7\"],[0.6,\"#e6f5d0\"],[0.7,\"#b8e186\"],[0.8,\"#7fbc41\"],[0.9,\"#4d9221\"],[1,\"#276419\"]],\"sequential\":[[0.0,\"#0d0887\"],[0.1111111111111111,\"#46039f\"],[0.2222222222222222,\"#7201a8\"],[0.3333333333333333,\"#9c179e\"],[0.4444444444444444,\"#bd3786\"],[0.5555555555555556,\"#d8576b\"],[0.6666666666666666,\"#ed7953\"],[0.7777777777777778,\"#fb9f3a\"],[0.8888888888888888,\"#fdca26\"],[1.0,\"#f0f921\"]],\"sequentialminus\":[[0.0,\"#0d0887\"],[0.1111111111111111,\"#46039f\"],[0.2222222222222222,\"#7201a8\"],[0.3333333333333333,\"#9c179e\"],[0.4444444444444444,\"#bd3786\"],[0.5555555555555556,\"#d8576b\"],[0.6666666666666666,\"#ed7953\"],[0.7777777777777778,\"#fb9f3a\"],[0.8888888888888888,\"#fdca26\"],[1.0,\"#f0f921\"]]},\"colorway\":[\"#636efa\",\"#EF553B\",\"#00cc96\",\"#ab63fa\",\"#FFA15A\",\"#19d3f3\",\"#FF6692\",\"#B6E880\",\"#FF97FF\",\"#FECB52\"],\"font\":{\"color\":\"#2a3f5f\"},\"geo\":{\"bgcolor\":\"white\",\"lakecolor\":\"white\",\"landcolor\":\"#E5ECF6\",\"showlakes\":true,\"showland\":true,\"subunitcolor\":\"white\"},\"hoverlabel\":{\"align\":\"left\"},\"hovermode\":\"closest\",\"mapbox\":{\"style\":\"light\"},\"paper_bgcolor\":\"white\",\"plot_bgcolor\":\"#E5ECF6\",\"polar\":{\"angularaxis\":{\"gridcolor\":\"white\",\"linecolor\":\"white\",\"ticks\":\"\"},\"bgcolor\":\"#E5ECF6\",\"radialaxis\":{\"gridcolor\":\"white\",\"linecolor\":\"white\",\"ticks\":\"\"}},\"scene\":{\"xaxis\":{\"backgroundcolor\":\"#E5ECF6\",\"gridcolor\":\"white\",\"gridwidth\":2,\"linecolor\":\"white\",\"showbackground\":true,\"ticks\":\"\",\"zerolinecolor\":\"white\"},\"yaxis\":{\"backgroundcolor\":\"#E5ECF6\",\"gridcolor\":\"white\",\"gridwidth\":2,\"linecolor\":\"white\",\"showbackground\":true,\"ticks\":\"\",\"zerolinecolor\":\"white\"},\"zaxis\":{\"backgroundcolor\":\"#E5ECF6\",\"gridcolor\":\"white\",\"gridwidth\":2,\"linecolor\":\"white\",\"showbackground\":true,\"ticks\":\"\",\"zerolinecolor\":\"white\"}},\"shapedefaults\":{\"line\":{\"color\":\"#2a3f5f\"}},\"ternary\":{\"aaxis\":{\"gridcolor\":\"white\",\"linecolor\":\"white\",\"ticks\":\"\"},\"baxis\":{\"gridcolor\":\"white\",\"linecolor\":\"white\",\"ticks\":\"\"},\"bgcolor\":\"#E5ECF6\",\"caxis\":{\"gridcolor\":\"white\",\"linecolor\":\"white\",\"ticks\":\"\"}},\"title\":{\"x\":0.05},\"xaxis\":{\"automargin\":true,\"gridcolor\":\"white\",\"linecolor\":\"white\",\"ticks\":\"\",\"title\":{\"standoff\":15},\"zerolinecolor\":\"white\",\"zerolinewidth\":2},\"yaxis\":{\"automargin\":true,\"gridcolor\":\"white\",\"linecolor\":\"white\",\"ticks\":\"\",\"title\":{\"standoff\":15},\"zerolinecolor\":\"white\",\"zerolinewidth\":2}}},\"title\":{\"text\":\"Flair distribution\"},\"xaxis\":{\"anchor\":\"y\",\"domain\":[0.0,1.0],\"title\":{\"text\":\"num_posts\"}},\"yaxis\":{\"anchor\":\"x\",\"categoryarray\":[\"Shitpost\",\"Loss\",\"News\",\"Technical Analysis\",\"Meme\",\"Gain\",\"DD\",\"YOLO\",\"Discussion\"],\"categoryorder\":\"array\",\"domain\":[0.0,1.0],\"title\":{\"text\":\"flair\"}}},                        {\"responsive\": true}                    ).then(function(){\n",
       "                            \n",
       "var gd = document.getElementById('06b0ea17-a05d-4080-8887-504c6bf42380');\n",
       "var x = new MutationObserver(function (mutations, observer) {{\n",
       "        var display = window.getComputedStyle(gd).display;\n",
       "        if (!display || display === 'none') {{\n",
       "            console.log([gd, 'removed!']);\n",
       "            Plotly.purge(gd);\n",
       "            observer.disconnect();\n",
       "        }}\n",
       "}});\n",
       "\n",
       "// Listen for the removal of the full notebook cells\n",
       "var notebookContainer = gd.closest('#notebook-container');\n",
       "if (notebookContainer) {{\n",
       "    x.observe(notebookContainer, {childList: true});\n",
       "}}\n",
       "\n",
       "// Listen for the clearing of the current output cell\n",
       "var outputEl = gd.closest('.output');\n",
       "if (outputEl) {{\n",
       "    x.observe(outputEl, {childList: true});\n",
       "}}\n",
       "\n",
       "                        })                };                });            </script>        </div>"
      ]
     },
     "metadata": {},
     "output_type": "display_data"
    }
   ],
   "source": [
    "flair_dist = symbol_flair.groupby('flair').sum('num_posts').reset_index().sort_values('num_posts', ascending=False)\n",
    "fig = px.bar(flair_dist, x=\"num_posts\", y=\"flair\", color='flair', orientation=\"h\", title='Flair distribution')\n",
    "fig.show()"
   ]
  },
  {
   "cell_type": "code",
   "execution_count": 340,
   "id": "915c156d",
   "metadata": {},
   "outputs": [
    {
     "data": {
      "application/vnd.plotly.v1+json": {
       "config": {
        "plotlyServerURL": "https://plot.ly"
       },
       "data": [
        {
         "hovertemplate": "flair=DD<br>day=%{x}<br>num_posts=%{y}<extra></extra>",
         "legendgroup": "DD",
         "line": {
          "color": "#636efa",
          "dash": "solid"
         },
         "mode": "lines",
         "name": "DD",
         "orientation": "v",
         "showlegend": true,
         "type": "scatter",
         "x": [
          "2021-06-01T00:00:00+00:00",
          "2021-06-02T00:00:00+00:00",
          "2021-06-03T00:00:00+00:00",
          "2021-06-04T00:00:00+00:00",
          "2021-06-05T00:00:00+00:00",
          "2021-06-06T00:00:00+00:00",
          "2021-06-07T00:00:00+00:00",
          "2021-06-08T00:00:00+00:00",
          "2021-06-09T00:00:00+00:00",
          "2021-06-10T00:00:00+00:00",
          "2021-06-11T00:00:00+00:00",
          "2021-06-12T00:00:00+00:00",
          "2021-06-13T00:00:00+00:00",
          "2021-06-14T00:00:00+00:00",
          "2021-06-15T00:00:00+00:00",
          "2021-06-16T00:00:00+00:00",
          "2021-06-17T00:00:00+00:00",
          "2021-06-18T00:00:00+00:00",
          "2021-06-19T00:00:00+00:00",
          "2021-06-20T00:00:00+00:00",
          "2021-06-21T00:00:00+00:00",
          "2021-06-22T00:00:00+00:00",
          "2021-06-23T00:00:00+00:00",
          "2021-06-24T00:00:00+00:00",
          "2021-06-25T00:00:00+00:00",
          "2021-06-26T00:00:00+00:00",
          "2021-06-27T00:00:00+00:00",
          "2021-06-28T00:00:00+00:00",
          "2021-06-29T00:00:00+00:00"
         ],
         "xaxis": "x",
         "y": [
          28,
          106,
          285,
          141,
          42,
          78,
          146,
          251,
          428,
          389,
          297,
          124,
          86,
          180,
          233,
          213,
          128,
          69,
          37,
          25,
          42,
          80,
          98,
          66,
          81,
          56,
          76,
          71,
          30
         ],
         "yaxis": "y"
        },
        {
         "hovertemplate": "flair=Discussion<br>day=%{x}<br>num_posts=%{y}<extra></extra>",
         "legendgroup": "Discussion",
         "line": {
          "color": "#EF553B",
          "dash": "solid"
         },
         "mode": "lines",
         "name": "Discussion",
         "orientation": "v",
         "showlegend": true,
         "type": "scatter",
         "x": [
          "2021-06-01T00:00:00+00:00",
          "2021-06-02T00:00:00+00:00",
          "2021-06-03T00:00:00+00:00",
          "2021-06-04T00:00:00+00:00",
          "2021-06-05T00:00:00+00:00",
          "2021-06-06T00:00:00+00:00",
          "2021-06-07T00:00:00+00:00",
          "2021-06-08T00:00:00+00:00",
          "2021-06-09T00:00:00+00:00",
          "2021-06-10T00:00:00+00:00",
          "2021-06-11T00:00:00+00:00",
          "2021-06-12T00:00:00+00:00",
          "2021-06-13T00:00:00+00:00",
          "2021-06-14T00:00:00+00:00",
          "2021-06-15T00:00:00+00:00",
          "2021-06-16T00:00:00+00:00",
          "2021-06-17T00:00:00+00:00",
          "2021-06-18T00:00:00+00:00",
          "2021-06-19T00:00:00+00:00",
          "2021-06-20T00:00:00+00:00",
          "2021-06-21T00:00:00+00:00",
          "2021-06-22T00:00:00+00:00",
          "2021-06-23T00:00:00+00:00",
          "2021-06-24T00:00:00+00:00",
          "2021-06-25T00:00:00+00:00",
          "2021-06-26T00:00:00+00:00",
          "2021-06-27T00:00:00+00:00",
          "2021-06-28T00:00:00+00:00",
          "2021-06-29T00:00:00+00:00"
         ],
         "xaxis": "x",
         "y": [
          96,
          727,
          1218,
          490,
          140,
          139,
          347,
          1095,
          1354,
          874,
          485,
          218,
          145,
          263,
          326,
          203,
          181,
          151,
          65,
          82,
          185,
          152,
          104,
          125,
          148,
          59,
          84,
          97,
          48
         ],
         "yaxis": "y"
        },
        {
         "hovertemplate": "flair=Gain<br>day=%{x}<br>num_posts=%{y}<extra></extra>",
         "legendgroup": "Gain",
         "line": {
          "color": "#00cc96",
          "dash": "solid"
         },
         "mode": "lines",
         "name": "Gain",
         "orientation": "v",
         "showlegend": true,
         "type": "scatter",
         "x": [
          "2021-06-01T00:00:00+00:00",
          "2021-06-02T00:00:00+00:00",
          "2021-06-03T00:00:00+00:00",
          "2021-06-04T00:00:00+00:00",
          "2021-06-05T00:00:00+00:00",
          "2021-06-06T00:00:00+00:00",
          "2021-06-07T00:00:00+00:00",
          "2021-06-08T00:00:00+00:00",
          "2021-06-09T00:00:00+00:00",
          "2021-06-10T00:00:00+00:00",
          "2021-06-11T00:00:00+00:00",
          "2021-06-12T00:00:00+00:00",
          "2021-06-13T00:00:00+00:00",
          "2021-06-14T00:00:00+00:00",
          "2021-06-15T00:00:00+00:00",
          "2021-06-16T00:00:00+00:00",
          "2021-06-17T00:00:00+00:00",
          "2021-06-18T00:00:00+00:00",
          "2021-06-19T00:00:00+00:00",
          "2021-06-20T00:00:00+00:00",
          "2021-06-21T00:00:00+00:00",
          "2021-06-22T00:00:00+00:00",
          "2021-06-23T00:00:00+00:00",
          "2021-06-24T00:00:00+00:00",
          "2021-06-25T00:00:00+00:00",
          "2021-06-26T00:00:00+00:00",
          "2021-06-27T00:00:00+00:00",
          "2021-06-28T00:00:00+00:00",
          "2021-06-29T00:00:00+00:00"
         ],
         "xaxis": "x",
         "y": [
          23,
          239,
          277,
          44,
          14,
          7,
          83,
          426,
          385,
          143,
          80,
          23,
          17,
          69,
          36,
          28,
          34,
          47,
          8,
          7,
          30,
          25,
          27,
          32,
          40,
          5,
          3,
          22,
          25
         ],
         "yaxis": "y"
        },
        {
         "hovertemplate": "flair=Loss<br>day=%{x}<br>num_posts=%{y}<extra></extra>",
         "legendgroup": "Loss",
         "line": {
          "color": "#ab63fa",
          "dash": "solid"
         },
         "mode": "lines",
         "name": "Loss",
         "orientation": "v",
         "showlegend": true,
         "type": "scatter",
         "x": [
          "2021-06-01T00:00:00+00:00",
          "2021-06-02T00:00:00+00:00",
          "2021-06-03T00:00:00+00:00",
          "2021-06-04T00:00:00+00:00",
          "2021-06-05T00:00:00+00:00",
          "2021-06-06T00:00:00+00:00",
          "2021-06-07T00:00:00+00:00",
          "2021-06-08T00:00:00+00:00",
          "2021-06-09T00:00:00+00:00",
          "2021-06-10T00:00:00+00:00",
          "2021-06-11T00:00:00+00:00",
          "2021-06-12T00:00:00+00:00",
          "2021-06-13T00:00:00+00:00",
          "2021-06-14T00:00:00+00:00",
          "2021-06-15T00:00:00+00:00",
          "2021-06-16T00:00:00+00:00",
          "2021-06-17T00:00:00+00:00",
          "2021-06-18T00:00:00+00:00",
          "2021-06-19T00:00:00+00:00",
          "2021-06-20T00:00:00+00:00",
          "2021-06-21T00:00:00+00:00",
          "2021-06-22T00:00:00+00:00",
          "2021-06-23T00:00:00+00:00",
          "2021-06-24T00:00:00+00:00",
          "2021-06-25T00:00:00+00:00",
          "2021-06-27T00:00:00+00:00",
          "2021-06-28T00:00:00+00:00",
          "2021-06-29T00:00:00+00:00"
         ],
         "xaxis": "x",
         "y": [
          1,
          32,
          42,
          41,
          13,
          1,
          12,
          26,
          104,
          89,
          58,
          11,
          11,
          21,
          15,
          7,
          16,
          20,
          4,
          4,
          10,
          6,
          12,
          6,
          11,
          3,
          4,
          2
         ],
         "yaxis": "y"
        },
        {
         "hovertemplate": "flair=Meme<br>day=%{x}<br>num_posts=%{y}<extra></extra>",
         "legendgroup": "Meme",
         "line": {
          "color": "#FFA15A",
          "dash": "solid"
         },
         "mode": "lines",
         "name": "Meme",
         "orientation": "v",
         "showlegend": true,
         "type": "scatter",
         "x": [
          "2021-06-01T00:00:00+00:00",
          "2021-06-02T00:00:00+00:00",
          "2021-06-03T00:00:00+00:00",
          "2021-06-04T00:00:00+00:00",
          "2021-06-05T00:00:00+00:00",
          "2021-06-06T00:00:00+00:00",
          "2021-06-07T00:00:00+00:00",
          "2021-06-08T00:00:00+00:00",
          "2021-06-09T00:00:00+00:00",
          "2021-06-10T00:00:00+00:00",
          "2021-06-11T00:00:00+00:00",
          "2021-06-12T00:00:00+00:00",
          "2021-06-13T00:00:00+00:00",
          "2021-06-14T00:00:00+00:00",
          "2021-06-15T00:00:00+00:00",
          "2021-06-16T00:00:00+00:00",
          "2021-06-17T00:00:00+00:00",
          "2021-06-18T00:00:00+00:00",
          "2021-06-19T00:00:00+00:00",
          "2021-06-20T00:00:00+00:00",
          "2021-06-21T00:00:00+00:00",
          "2021-06-22T00:00:00+00:00",
          "2021-06-23T00:00:00+00:00",
          "2021-06-24T00:00:00+00:00",
          "2021-06-25T00:00:00+00:00",
          "2021-06-26T00:00:00+00:00",
          "2021-06-27T00:00:00+00:00",
          "2021-06-28T00:00:00+00:00",
          "2021-06-29T00:00:00+00:00"
         ],
         "xaxis": "x",
         "y": [
          38,
          174,
          277,
          72,
          31,
          32,
          74,
          172,
          230,
          102,
          52,
          17,
          32,
          63,
          40,
          62,
          45,
          25,
          5,
          5,
          36,
          37,
          40,
          24,
          15,
          10,
          10,
          21,
          9
         ],
         "yaxis": "y"
        },
        {
         "hovertemplate": "flair=News<br>day=%{x}<br>num_posts=%{y}<extra></extra>",
         "legendgroup": "News",
         "line": {
          "color": "#19d3f3",
          "dash": "solid"
         },
         "mode": "lines",
         "name": "News",
         "orientation": "v",
         "showlegend": true,
         "type": "scatter",
         "x": [
          "2021-06-01T00:00:00+00:00",
          "2021-06-02T00:00:00+00:00",
          "2021-06-03T00:00:00+00:00",
          "2021-06-04T00:00:00+00:00",
          "2021-06-05T00:00:00+00:00",
          "2021-06-06T00:00:00+00:00",
          "2021-06-07T00:00:00+00:00",
          "2021-06-08T00:00:00+00:00",
          "2021-06-09T00:00:00+00:00",
          "2021-06-10T00:00:00+00:00",
          "2021-06-11T00:00:00+00:00",
          "2021-06-12T00:00:00+00:00",
          "2021-06-13T00:00:00+00:00",
          "2021-06-14T00:00:00+00:00",
          "2021-06-15T00:00:00+00:00",
          "2021-06-16T00:00:00+00:00",
          "2021-06-17T00:00:00+00:00",
          "2021-06-18T00:00:00+00:00",
          "2021-06-19T00:00:00+00:00",
          "2021-06-20T00:00:00+00:00",
          "2021-06-21T00:00:00+00:00",
          "2021-06-22T00:00:00+00:00",
          "2021-06-23T00:00:00+00:00",
          "2021-06-24T00:00:00+00:00",
          "2021-06-25T00:00:00+00:00",
          "2021-06-26T00:00:00+00:00",
          "2021-06-27T00:00:00+00:00",
          "2021-06-28T00:00:00+00:00",
          "2021-06-29T00:00:00+00:00"
         ],
         "xaxis": "x",
         "y": [
          10,
          68,
          84,
          21,
          7,
          12,
          37,
          74,
          66,
          87,
          48,
          17,
          7,
          30,
          30,
          20,
          27,
          13,
          2,
          3,
          17,
          27,
          16,
          25,
          16,
          3,
          2,
          21,
          10
         ],
         "yaxis": "y"
        },
        {
         "hovertemplate": "flair=Technical Analysis<br>day=%{x}<br>num_posts=%{y}<extra></extra>",
         "legendgroup": "Technical Analysis",
         "line": {
          "color": "#FF6692",
          "dash": "solid"
         },
         "mode": "lines",
         "name": "Technical Analysis",
         "orientation": "v",
         "showlegend": true,
         "type": "scatter",
         "x": [
          "2021-06-01T00:00:00+00:00",
          "2021-06-02T00:00:00+00:00",
          "2021-06-03T00:00:00+00:00",
          "2021-06-04T00:00:00+00:00",
          "2021-06-05T00:00:00+00:00",
          "2021-06-06T00:00:00+00:00",
          "2021-06-07T00:00:00+00:00",
          "2021-06-08T00:00:00+00:00",
          "2021-06-09T00:00:00+00:00",
          "2021-06-10T00:00:00+00:00",
          "2021-06-11T00:00:00+00:00",
          "2021-06-12T00:00:00+00:00",
          "2021-06-13T00:00:00+00:00",
          "2021-06-14T00:00:00+00:00",
          "2021-06-15T00:00:00+00:00",
          "2021-06-16T00:00:00+00:00",
          "2021-06-17T00:00:00+00:00",
          "2021-06-18T00:00:00+00:00",
          "2021-06-19T00:00:00+00:00",
          "2021-06-20T00:00:00+00:00",
          "2021-06-21T00:00:00+00:00",
          "2021-06-22T00:00:00+00:00",
          "2021-06-23T00:00:00+00:00",
          "2021-06-24T00:00:00+00:00",
          "2021-06-25T00:00:00+00:00",
          "2021-06-26T00:00:00+00:00",
          "2021-06-27T00:00:00+00:00",
          "2021-06-28T00:00:00+00:00",
          "2021-06-29T00:00:00+00:00"
         ],
         "xaxis": "x",
         "y": [
          11,
          43,
          92,
          34,
          24,
          12,
          65,
          67,
          149,
          138,
          76,
          31,
          75,
          43,
          64,
          40,
          30,
          31,
          18,
          8,
          24,
          31,
          14,
          43,
          47,
          4,
          14,
          32,
          9
         ],
         "yaxis": "y"
        },
        {
         "hovertemplate": "flair=YOLO<br>day=%{x}<br>num_posts=%{y}<extra></extra>",
         "legendgroup": "YOLO",
         "line": {
          "color": "#B6E880",
          "dash": "solid"
         },
         "mode": "lines",
         "name": "YOLO",
         "orientation": "v",
         "showlegend": true,
         "type": "scatter",
         "x": [
          "2021-06-01T00:00:00+00:00",
          "2021-06-02T00:00:00+00:00",
          "2021-06-03T00:00:00+00:00",
          "2021-06-04T00:00:00+00:00",
          "2021-06-05T00:00:00+00:00",
          "2021-06-06T00:00:00+00:00",
          "2021-06-07T00:00:00+00:00",
          "2021-06-08T00:00:00+00:00",
          "2021-06-09T00:00:00+00:00",
          "2021-06-10T00:00:00+00:00",
          "2021-06-11T00:00:00+00:00",
          "2021-06-12T00:00:00+00:00",
          "2021-06-13T00:00:00+00:00",
          "2021-06-14T00:00:00+00:00",
          "2021-06-15T00:00:00+00:00",
          "2021-06-16T00:00:00+00:00",
          "2021-06-17T00:00:00+00:00",
          "2021-06-18T00:00:00+00:00",
          "2021-06-19T00:00:00+00:00",
          "2021-06-20T00:00:00+00:00",
          "2021-06-21T00:00:00+00:00",
          "2021-06-22T00:00:00+00:00",
          "2021-06-23T00:00:00+00:00",
          "2021-06-24T00:00:00+00:00",
          "2021-06-25T00:00:00+00:00",
          "2021-06-26T00:00:00+00:00",
          "2021-06-27T00:00:00+00:00",
          "2021-06-28T00:00:00+00:00",
          "2021-06-29T00:00:00+00:00"
         ],
         "xaxis": "x",
         "y": [
          43,
          428,
          716,
          197,
          59,
          35,
          205,
          789,
          923,
          373,
          257,
          60,
          40,
          161,
          176,
          103,
          113,
          89,
          23,
          10,
          85,
          95,
          95,
          103,
          97,
          18,
          31,
          88,
          39
         ],
         "yaxis": "y"
        },
        {
         "hovertemplate": "flair=Shitpost<br>day=%{x}<br>num_posts=%{y}<extra></extra>",
         "legendgroup": "Shitpost",
         "line": {
          "color": "#FF97FF",
          "dash": "solid"
         },
         "mode": "lines",
         "name": "Shitpost",
         "orientation": "v",
         "showlegend": true,
         "type": "scatter",
         "x": [
          "2021-06-11T00:00:00+00:00",
          "2021-06-19T00:00:00+00:00"
         ],
         "xaxis": "x",
         "y": [
          4,
          1
         ],
         "yaxis": "y"
        }
       ],
       "layout": {
        "legend": {
         "title": {
          "text": "flair"
         },
         "tracegroupgap": 0
        },
        "template": {
         "data": {
          "bar": [
           {
            "error_x": {
             "color": "#2a3f5f"
            },
            "error_y": {
             "color": "#2a3f5f"
            },
            "marker": {
             "line": {
              "color": "#E5ECF6",
              "width": 0.5
             },
             "pattern": {
              "fillmode": "overlay",
              "size": 10,
              "solidity": 0.2
             }
            },
            "type": "bar"
           }
          ],
          "barpolar": [
           {
            "marker": {
             "line": {
              "color": "#E5ECF6",
              "width": 0.5
             },
             "pattern": {
              "fillmode": "overlay",
              "size": 10,
              "solidity": 0.2
             }
            },
            "type": "barpolar"
           }
          ],
          "carpet": [
           {
            "aaxis": {
             "endlinecolor": "#2a3f5f",
             "gridcolor": "white",
             "linecolor": "white",
             "minorgridcolor": "white",
             "startlinecolor": "#2a3f5f"
            },
            "baxis": {
             "endlinecolor": "#2a3f5f",
             "gridcolor": "white",
             "linecolor": "white",
             "minorgridcolor": "white",
             "startlinecolor": "#2a3f5f"
            },
            "type": "carpet"
           }
          ],
          "choropleth": [
           {
            "colorbar": {
             "outlinewidth": 0,
             "ticks": ""
            },
            "type": "choropleth"
           }
          ],
          "contour": [
           {
            "colorbar": {
             "outlinewidth": 0,
             "ticks": ""
            },
            "colorscale": [
             [
              0,
              "#0d0887"
             ],
             [
              0.1111111111111111,
              "#46039f"
             ],
             [
              0.2222222222222222,
              "#7201a8"
             ],
             [
              0.3333333333333333,
              "#9c179e"
             ],
             [
              0.4444444444444444,
              "#bd3786"
             ],
             [
              0.5555555555555556,
              "#d8576b"
             ],
             [
              0.6666666666666666,
              "#ed7953"
             ],
             [
              0.7777777777777778,
              "#fb9f3a"
             ],
             [
              0.8888888888888888,
              "#fdca26"
             ],
             [
              1,
              "#f0f921"
             ]
            ],
            "type": "contour"
           }
          ],
          "contourcarpet": [
           {
            "colorbar": {
             "outlinewidth": 0,
             "ticks": ""
            },
            "type": "contourcarpet"
           }
          ],
          "heatmap": [
           {
            "colorbar": {
             "outlinewidth": 0,
             "ticks": ""
            },
            "colorscale": [
             [
              0,
              "#0d0887"
             ],
             [
              0.1111111111111111,
              "#46039f"
             ],
             [
              0.2222222222222222,
              "#7201a8"
             ],
             [
              0.3333333333333333,
              "#9c179e"
             ],
             [
              0.4444444444444444,
              "#bd3786"
             ],
             [
              0.5555555555555556,
              "#d8576b"
             ],
             [
              0.6666666666666666,
              "#ed7953"
             ],
             [
              0.7777777777777778,
              "#fb9f3a"
             ],
             [
              0.8888888888888888,
              "#fdca26"
             ],
             [
              1,
              "#f0f921"
             ]
            ],
            "type": "heatmap"
           }
          ],
          "heatmapgl": [
           {
            "colorbar": {
             "outlinewidth": 0,
             "ticks": ""
            },
            "colorscale": [
             [
              0,
              "#0d0887"
             ],
             [
              0.1111111111111111,
              "#46039f"
             ],
             [
              0.2222222222222222,
              "#7201a8"
             ],
             [
              0.3333333333333333,
              "#9c179e"
             ],
             [
              0.4444444444444444,
              "#bd3786"
             ],
             [
              0.5555555555555556,
              "#d8576b"
             ],
             [
              0.6666666666666666,
              "#ed7953"
             ],
             [
              0.7777777777777778,
              "#fb9f3a"
             ],
             [
              0.8888888888888888,
              "#fdca26"
             ],
             [
              1,
              "#f0f921"
             ]
            ],
            "type": "heatmapgl"
           }
          ],
          "histogram": [
           {
            "marker": {
             "pattern": {
              "fillmode": "overlay",
              "size": 10,
              "solidity": 0.2
             }
            },
            "type": "histogram"
           }
          ],
          "histogram2d": [
           {
            "colorbar": {
             "outlinewidth": 0,
             "ticks": ""
            },
            "colorscale": [
             [
              0,
              "#0d0887"
             ],
             [
              0.1111111111111111,
              "#46039f"
             ],
             [
              0.2222222222222222,
              "#7201a8"
             ],
             [
              0.3333333333333333,
              "#9c179e"
             ],
             [
              0.4444444444444444,
              "#bd3786"
             ],
             [
              0.5555555555555556,
              "#d8576b"
             ],
             [
              0.6666666666666666,
              "#ed7953"
             ],
             [
              0.7777777777777778,
              "#fb9f3a"
             ],
             [
              0.8888888888888888,
              "#fdca26"
             ],
             [
              1,
              "#f0f921"
             ]
            ],
            "type": "histogram2d"
           }
          ],
          "histogram2dcontour": [
           {
            "colorbar": {
             "outlinewidth": 0,
             "ticks": ""
            },
            "colorscale": [
             [
              0,
              "#0d0887"
             ],
             [
              0.1111111111111111,
              "#46039f"
             ],
             [
              0.2222222222222222,
              "#7201a8"
             ],
             [
              0.3333333333333333,
              "#9c179e"
             ],
             [
              0.4444444444444444,
              "#bd3786"
             ],
             [
              0.5555555555555556,
              "#d8576b"
             ],
             [
              0.6666666666666666,
              "#ed7953"
             ],
             [
              0.7777777777777778,
              "#fb9f3a"
             ],
             [
              0.8888888888888888,
              "#fdca26"
             ],
             [
              1,
              "#f0f921"
             ]
            ],
            "type": "histogram2dcontour"
           }
          ],
          "mesh3d": [
           {
            "colorbar": {
             "outlinewidth": 0,
             "ticks": ""
            },
            "type": "mesh3d"
           }
          ],
          "parcoords": [
           {
            "line": {
             "colorbar": {
              "outlinewidth": 0,
              "ticks": ""
             }
            },
            "type": "parcoords"
           }
          ],
          "pie": [
           {
            "automargin": true,
            "type": "pie"
           }
          ],
          "scatter": [
           {
            "marker": {
             "colorbar": {
              "outlinewidth": 0,
              "ticks": ""
             }
            },
            "type": "scatter"
           }
          ],
          "scatter3d": [
           {
            "line": {
             "colorbar": {
              "outlinewidth": 0,
              "ticks": ""
             }
            },
            "marker": {
             "colorbar": {
              "outlinewidth": 0,
              "ticks": ""
             }
            },
            "type": "scatter3d"
           }
          ],
          "scattercarpet": [
           {
            "marker": {
             "colorbar": {
              "outlinewidth": 0,
              "ticks": ""
             }
            },
            "type": "scattercarpet"
           }
          ],
          "scattergeo": [
           {
            "marker": {
             "colorbar": {
              "outlinewidth": 0,
              "ticks": ""
             }
            },
            "type": "scattergeo"
           }
          ],
          "scattergl": [
           {
            "marker": {
             "colorbar": {
              "outlinewidth": 0,
              "ticks": ""
             }
            },
            "type": "scattergl"
           }
          ],
          "scattermapbox": [
           {
            "marker": {
             "colorbar": {
              "outlinewidth": 0,
              "ticks": ""
             }
            },
            "type": "scattermapbox"
           }
          ],
          "scatterpolar": [
           {
            "marker": {
             "colorbar": {
              "outlinewidth": 0,
              "ticks": ""
             }
            },
            "type": "scatterpolar"
           }
          ],
          "scatterpolargl": [
           {
            "marker": {
             "colorbar": {
              "outlinewidth": 0,
              "ticks": ""
             }
            },
            "type": "scatterpolargl"
           }
          ],
          "scatterternary": [
           {
            "marker": {
             "colorbar": {
              "outlinewidth": 0,
              "ticks": ""
             }
            },
            "type": "scatterternary"
           }
          ],
          "surface": [
           {
            "colorbar": {
             "outlinewidth": 0,
             "ticks": ""
            },
            "colorscale": [
             [
              0,
              "#0d0887"
             ],
             [
              0.1111111111111111,
              "#46039f"
             ],
             [
              0.2222222222222222,
              "#7201a8"
             ],
             [
              0.3333333333333333,
              "#9c179e"
             ],
             [
              0.4444444444444444,
              "#bd3786"
             ],
             [
              0.5555555555555556,
              "#d8576b"
             ],
             [
              0.6666666666666666,
              "#ed7953"
             ],
             [
              0.7777777777777778,
              "#fb9f3a"
             ],
             [
              0.8888888888888888,
              "#fdca26"
             ],
             [
              1,
              "#f0f921"
             ]
            ],
            "type": "surface"
           }
          ],
          "table": [
           {
            "cells": {
             "fill": {
              "color": "#EBF0F8"
             },
             "line": {
              "color": "white"
             }
            },
            "header": {
             "fill": {
              "color": "#C8D4E3"
             },
             "line": {
              "color": "white"
             }
            },
            "type": "table"
           }
          ]
         },
         "layout": {
          "annotationdefaults": {
           "arrowcolor": "#2a3f5f",
           "arrowhead": 0,
           "arrowwidth": 1
          },
          "autotypenumbers": "strict",
          "coloraxis": {
           "colorbar": {
            "outlinewidth": 0,
            "ticks": ""
           }
          },
          "colorscale": {
           "diverging": [
            [
             0,
             "#8e0152"
            ],
            [
             0.1,
             "#c51b7d"
            ],
            [
             0.2,
             "#de77ae"
            ],
            [
             0.3,
             "#f1b6da"
            ],
            [
             0.4,
             "#fde0ef"
            ],
            [
             0.5,
             "#f7f7f7"
            ],
            [
             0.6,
             "#e6f5d0"
            ],
            [
             0.7,
             "#b8e186"
            ],
            [
             0.8,
             "#7fbc41"
            ],
            [
             0.9,
             "#4d9221"
            ],
            [
             1,
             "#276419"
            ]
           ],
           "sequential": [
            [
             0,
             "#0d0887"
            ],
            [
             0.1111111111111111,
             "#46039f"
            ],
            [
             0.2222222222222222,
             "#7201a8"
            ],
            [
             0.3333333333333333,
             "#9c179e"
            ],
            [
             0.4444444444444444,
             "#bd3786"
            ],
            [
             0.5555555555555556,
             "#d8576b"
            ],
            [
             0.6666666666666666,
             "#ed7953"
            ],
            [
             0.7777777777777778,
             "#fb9f3a"
            ],
            [
             0.8888888888888888,
             "#fdca26"
            ],
            [
             1,
             "#f0f921"
            ]
           ],
           "sequentialminus": [
            [
             0,
             "#0d0887"
            ],
            [
             0.1111111111111111,
             "#46039f"
            ],
            [
             0.2222222222222222,
             "#7201a8"
            ],
            [
             0.3333333333333333,
             "#9c179e"
            ],
            [
             0.4444444444444444,
             "#bd3786"
            ],
            [
             0.5555555555555556,
             "#d8576b"
            ],
            [
             0.6666666666666666,
             "#ed7953"
            ],
            [
             0.7777777777777778,
             "#fb9f3a"
            ],
            [
             0.8888888888888888,
             "#fdca26"
            ],
            [
             1,
             "#f0f921"
            ]
           ]
          },
          "colorway": [
           "#636efa",
           "#EF553B",
           "#00cc96",
           "#ab63fa",
           "#FFA15A",
           "#19d3f3",
           "#FF6692",
           "#B6E880",
           "#FF97FF",
           "#FECB52"
          ],
          "font": {
           "color": "#2a3f5f"
          },
          "geo": {
           "bgcolor": "white",
           "lakecolor": "white",
           "landcolor": "#E5ECF6",
           "showlakes": true,
           "showland": true,
           "subunitcolor": "white"
          },
          "hoverlabel": {
           "align": "left"
          },
          "hovermode": "closest",
          "mapbox": {
           "style": "light"
          },
          "paper_bgcolor": "white",
          "plot_bgcolor": "#E5ECF6",
          "polar": {
           "angularaxis": {
            "gridcolor": "white",
            "linecolor": "white",
            "ticks": ""
           },
           "bgcolor": "#E5ECF6",
           "radialaxis": {
            "gridcolor": "white",
            "linecolor": "white",
            "ticks": ""
           }
          },
          "scene": {
           "xaxis": {
            "backgroundcolor": "#E5ECF6",
            "gridcolor": "white",
            "gridwidth": 2,
            "linecolor": "white",
            "showbackground": true,
            "ticks": "",
            "zerolinecolor": "white"
           },
           "yaxis": {
            "backgroundcolor": "#E5ECF6",
            "gridcolor": "white",
            "gridwidth": 2,
            "linecolor": "white",
            "showbackground": true,
            "ticks": "",
            "zerolinecolor": "white"
           },
           "zaxis": {
            "backgroundcolor": "#E5ECF6",
            "gridcolor": "white",
            "gridwidth": 2,
            "linecolor": "white",
            "showbackground": true,
            "ticks": "",
            "zerolinecolor": "white"
           }
          },
          "shapedefaults": {
           "line": {
            "color": "#2a3f5f"
           }
          },
          "ternary": {
           "aaxis": {
            "gridcolor": "white",
            "linecolor": "white",
            "ticks": ""
           },
           "baxis": {
            "gridcolor": "white",
            "linecolor": "white",
            "ticks": ""
           },
           "bgcolor": "#E5ECF6",
           "caxis": {
            "gridcolor": "white",
            "linecolor": "white",
            "ticks": ""
           }
          },
          "title": {
           "x": 0.05
          },
          "xaxis": {
           "automargin": true,
           "gridcolor": "white",
           "linecolor": "white",
           "ticks": "",
           "title": {
            "standoff": 15
           },
           "zerolinecolor": "white",
           "zerolinewidth": 2
          },
          "yaxis": {
           "automargin": true,
           "gridcolor": "white",
           "linecolor": "white",
           "ticks": "",
           "title": {
            "standoff": 15
           },
           "zerolinecolor": "white",
           "zerolinewidth": 2
          }
         }
        },
        "title": {
         "text": "Flair by day"
        },
        "xaxis": {
         "anchor": "y",
         "domain": [
          0,
          1
         ],
         "title": {
          "text": "day"
         }
        },
        "yaxis": {
         "anchor": "x",
         "domain": [
          0,
          1
         ],
         "title": {
          "text": "num_posts"
         }
        }
       }
      },
      "text/html": [
       "<div>                            <div id=\"5056edfe-5f7b-4342-88e1-6fd753198312\" class=\"plotly-graph-div\" style=\"height:525px; width:100%;\"></div>            <script type=\"text/javascript\">                require([\"plotly\"], function(Plotly) {                    window.PLOTLYENV=window.PLOTLYENV || {};                                    if (document.getElementById(\"5056edfe-5f7b-4342-88e1-6fd753198312\")) {                    Plotly.newPlot(                        \"5056edfe-5f7b-4342-88e1-6fd753198312\",                        [{\"hovertemplate\":\"flair=DD<br>day=%{x}<br>num_posts=%{y}<extra></extra>\",\"legendgroup\":\"DD\",\"line\":{\"color\":\"#636efa\",\"dash\":\"solid\"},\"mode\":\"lines\",\"name\":\"DD\",\"orientation\":\"v\",\"showlegend\":true,\"type\":\"scatter\",\"x\":[\"2021-06-01T00:00:00+00:00\",\"2021-06-02T00:00:00+00:00\",\"2021-06-03T00:00:00+00:00\",\"2021-06-04T00:00:00+00:00\",\"2021-06-05T00:00:00+00:00\",\"2021-06-06T00:00:00+00:00\",\"2021-06-07T00:00:00+00:00\",\"2021-06-08T00:00:00+00:00\",\"2021-06-09T00:00:00+00:00\",\"2021-06-10T00:00:00+00:00\",\"2021-06-11T00:00:00+00:00\",\"2021-06-12T00:00:00+00:00\",\"2021-06-13T00:00:00+00:00\",\"2021-06-14T00:00:00+00:00\",\"2021-06-15T00:00:00+00:00\",\"2021-06-16T00:00:00+00:00\",\"2021-06-17T00:00:00+00:00\",\"2021-06-18T00:00:00+00:00\",\"2021-06-19T00:00:00+00:00\",\"2021-06-20T00:00:00+00:00\",\"2021-06-21T00:00:00+00:00\",\"2021-06-22T00:00:00+00:00\",\"2021-06-23T00:00:00+00:00\",\"2021-06-24T00:00:00+00:00\",\"2021-06-25T00:00:00+00:00\",\"2021-06-26T00:00:00+00:00\",\"2021-06-27T00:00:00+00:00\",\"2021-06-28T00:00:00+00:00\",\"2021-06-29T00:00:00+00:00\"],\"xaxis\":\"x\",\"y\":[28,106,285,141,42,78,146,251,428,389,297,124,86,180,233,213,128,69,37,25,42,80,98,66,81,56,76,71,30],\"yaxis\":\"y\"},{\"hovertemplate\":\"flair=Discussion<br>day=%{x}<br>num_posts=%{y}<extra></extra>\",\"legendgroup\":\"Discussion\",\"line\":{\"color\":\"#EF553B\",\"dash\":\"solid\"},\"mode\":\"lines\",\"name\":\"Discussion\",\"orientation\":\"v\",\"showlegend\":true,\"type\":\"scatter\",\"x\":[\"2021-06-01T00:00:00+00:00\",\"2021-06-02T00:00:00+00:00\",\"2021-06-03T00:00:00+00:00\",\"2021-06-04T00:00:00+00:00\",\"2021-06-05T00:00:00+00:00\",\"2021-06-06T00:00:00+00:00\",\"2021-06-07T00:00:00+00:00\",\"2021-06-08T00:00:00+00:00\",\"2021-06-09T00:00:00+00:00\",\"2021-06-10T00:00:00+00:00\",\"2021-06-11T00:00:00+00:00\",\"2021-06-12T00:00:00+00:00\",\"2021-06-13T00:00:00+00:00\",\"2021-06-14T00:00:00+00:00\",\"2021-06-15T00:00:00+00:00\",\"2021-06-16T00:00:00+00:00\",\"2021-06-17T00:00:00+00:00\",\"2021-06-18T00:00:00+00:00\",\"2021-06-19T00:00:00+00:00\",\"2021-06-20T00:00:00+00:00\",\"2021-06-21T00:00:00+00:00\",\"2021-06-22T00:00:00+00:00\",\"2021-06-23T00:00:00+00:00\",\"2021-06-24T00:00:00+00:00\",\"2021-06-25T00:00:00+00:00\",\"2021-06-26T00:00:00+00:00\",\"2021-06-27T00:00:00+00:00\",\"2021-06-28T00:00:00+00:00\",\"2021-06-29T00:00:00+00:00\"],\"xaxis\":\"x\",\"y\":[96,727,1218,490,140,139,347,1095,1354,874,485,218,145,263,326,203,181,151,65,82,185,152,104,125,148,59,84,97,48],\"yaxis\":\"y\"},{\"hovertemplate\":\"flair=Gain<br>day=%{x}<br>num_posts=%{y}<extra></extra>\",\"legendgroup\":\"Gain\",\"line\":{\"color\":\"#00cc96\",\"dash\":\"solid\"},\"mode\":\"lines\",\"name\":\"Gain\",\"orientation\":\"v\",\"showlegend\":true,\"type\":\"scatter\",\"x\":[\"2021-06-01T00:00:00+00:00\",\"2021-06-02T00:00:00+00:00\",\"2021-06-03T00:00:00+00:00\",\"2021-06-04T00:00:00+00:00\",\"2021-06-05T00:00:00+00:00\",\"2021-06-06T00:00:00+00:00\",\"2021-06-07T00:00:00+00:00\",\"2021-06-08T00:00:00+00:00\",\"2021-06-09T00:00:00+00:00\",\"2021-06-10T00:00:00+00:00\",\"2021-06-11T00:00:00+00:00\",\"2021-06-12T00:00:00+00:00\",\"2021-06-13T00:00:00+00:00\",\"2021-06-14T00:00:00+00:00\",\"2021-06-15T00:00:00+00:00\",\"2021-06-16T00:00:00+00:00\",\"2021-06-17T00:00:00+00:00\",\"2021-06-18T00:00:00+00:00\",\"2021-06-19T00:00:00+00:00\",\"2021-06-20T00:00:00+00:00\",\"2021-06-21T00:00:00+00:00\",\"2021-06-22T00:00:00+00:00\",\"2021-06-23T00:00:00+00:00\",\"2021-06-24T00:00:00+00:00\",\"2021-06-25T00:00:00+00:00\",\"2021-06-26T00:00:00+00:00\",\"2021-06-27T00:00:00+00:00\",\"2021-06-28T00:00:00+00:00\",\"2021-06-29T00:00:00+00:00\"],\"xaxis\":\"x\",\"y\":[23,239,277,44,14,7,83,426,385,143,80,23,17,69,36,28,34,47,8,7,30,25,27,32,40,5,3,22,25],\"yaxis\":\"y\"},{\"hovertemplate\":\"flair=Loss<br>day=%{x}<br>num_posts=%{y}<extra></extra>\",\"legendgroup\":\"Loss\",\"line\":{\"color\":\"#ab63fa\",\"dash\":\"solid\"},\"mode\":\"lines\",\"name\":\"Loss\",\"orientation\":\"v\",\"showlegend\":true,\"type\":\"scatter\",\"x\":[\"2021-06-01T00:00:00+00:00\",\"2021-06-02T00:00:00+00:00\",\"2021-06-03T00:00:00+00:00\",\"2021-06-04T00:00:00+00:00\",\"2021-06-05T00:00:00+00:00\",\"2021-06-06T00:00:00+00:00\",\"2021-06-07T00:00:00+00:00\",\"2021-06-08T00:00:00+00:00\",\"2021-06-09T00:00:00+00:00\",\"2021-06-10T00:00:00+00:00\",\"2021-06-11T00:00:00+00:00\",\"2021-06-12T00:00:00+00:00\",\"2021-06-13T00:00:00+00:00\",\"2021-06-14T00:00:00+00:00\",\"2021-06-15T00:00:00+00:00\",\"2021-06-16T00:00:00+00:00\",\"2021-06-17T00:00:00+00:00\",\"2021-06-18T00:00:00+00:00\",\"2021-06-19T00:00:00+00:00\",\"2021-06-20T00:00:00+00:00\",\"2021-06-21T00:00:00+00:00\",\"2021-06-22T00:00:00+00:00\",\"2021-06-23T00:00:00+00:00\",\"2021-06-24T00:00:00+00:00\",\"2021-06-25T00:00:00+00:00\",\"2021-06-27T00:00:00+00:00\",\"2021-06-28T00:00:00+00:00\",\"2021-06-29T00:00:00+00:00\"],\"xaxis\":\"x\",\"y\":[1,32,42,41,13,1,12,26,104,89,58,11,11,21,15,7,16,20,4,4,10,6,12,6,11,3,4,2],\"yaxis\":\"y\"},{\"hovertemplate\":\"flair=Meme<br>day=%{x}<br>num_posts=%{y}<extra></extra>\",\"legendgroup\":\"Meme\",\"line\":{\"color\":\"#FFA15A\",\"dash\":\"solid\"},\"mode\":\"lines\",\"name\":\"Meme\",\"orientation\":\"v\",\"showlegend\":true,\"type\":\"scatter\",\"x\":[\"2021-06-01T00:00:00+00:00\",\"2021-06-02T00:00:00+00:00\",\"2021-06-03T00:00:00+00:00\",\"2021-06-04T00:00:00+00:00\",\"2021-06-05T00:00:00+00:00\",\"2021-06-06T00:00:00+00:00\",\"2021-06-07T00:00:00+00:00\",\"2021-06-08T00:00:00+00:00\",\"2021-06-09T00:00:00+00:00\",\"2021-06-10T00:00:00+00:00\",\"2021-06-11T00:00:00+00:00\",\"2021-06-12T00:00:00+00:00\",\"2021-06-13T00:00:00+00:00\",\"2021-06-14T00:00:00+00:00\",\"2021-06-15T00:00:00+00:00\",\"2021-06-16T00:00:00+00:00\",\"2021-06-17T00:00:00+00:00\",\"2021-06-18T00:00:00+00:00\",\"2021-06-19T00:00:00+00:00\",\"2021-06-20T00:00:00+00:00\",\"2021-06-21T00:00:00+00:00\",\"2021-06-22T00:00:00+00:00\",\"2021-06-23T00:00:00+00:00\",\"2021-06-24T00:00:00+00:00\",\"2021-06-25T00:00:00+00:00\",\"2021-06-26T00:00:00+00:00\",\"2021-06-27T00:00:00+00:00\",\"2021-06-28T00:00:00+00:00\",\"2021-06-29T00:00:00+00:00\"],\"xaxis\":\"x\",\"y\":[38,174,277,72,31,32,74,172,230,102,52,17,32,63,40,62,45,25,5,5,36,37,40,24,15,10,10,21,9],\"yaxis\":\"y\"},{\"hovertemplate\":\"flair=News<br>day=%{x}<br>num_posts=%{y}<extra></extra>\",\"legendgroup\":\"News\",\"line\":{\"color\":\"#19d3f3\",\"dash\":\"solid\"},\"mode\":\"lines\",\"name\":\"News\",\"orientation\":\"v\",\"showlegend\":true,\"type\":\"scatter\",\"x\":[\"2021-06-01T00:00:00+00:00\",\"2021-06-02T00:00:00+00:00\",\"2021-06-03T00:00:00+00:00\",\"2021-06-04T00:00:00+00:00\",\"2021-06-05T00:00:00+00:00\",\"2021-06-06T00:00:00+00:00\",\"2021-06-07T00:00:00+00:00\",\"2021-06-08T00:00:00+00:00\",\"2021-06-09T00:00:00+00:00\",\"2021-06-10T00:00:00+00:00\",\"2021-06-11T00:00:00+00:00\",\"2021-06-12T00:00:00+00:00\",\"2021-06-13T00:00:00+00:00\",\"2021-06-14T00:00:00+00:00\",\"2021-06-15T00:00:00+00:00\",\"2021-06-16T00:00:00+00:00\",\"2021-06-17T00:00:00+00:00\",\"2021-06-18T00:00:00+00:00\",\"2021-06-19T00:00:00+00:00\",\"2021-06-20T00:00:00+00:00\",\"2021-06-21T00:00:00+00:00\",\"2021-06-22T00:00:00+00:00\",\"2021-06-23T00:00:00+00:00\",\"2021-06-24T00:00:00+00:00\",\"2021-06-25T00:00:00+00:00\",\"2021-06-26T00:00:00+00:00\",\"2021-06-27T00:00:00+00:00\",\"2021-06-28T00:00:00+00:00\",\"2021-06-29T00:00:00+00:00\"],\"xaxis\":\"x\",\"y\":[10,68,84,21,7,12,37,74,66,87,48,17,7,30,30,20,27,13,2,3,17,27,16,25,16,3,2,21,10],\"yaxis\":\"y\"},{\"hovertemplate\":\"flair=Technical Analysis<br>day=%{x}<br>num_posts=%{y}<extra></extra>\",\"legendgroup\":\"Technical Analysis\",\"line\":{\"color\":\"#FF6692\",\"dash\":\"solid\"},\"mode\":\"lines\",\"name\":\"Technical Analysis\",\"orientation\":\"v\",\"showlegend\":true,\"type\":\"scatter\",\"x\":[\"2021-06-01T00:00:00+00:00\",\"2021-06-02T00:00:00+00:00\",\"2021-06-03T00:00:00+00:00\",\"2021-06-04T00:00:00+00:00\",\"2021-06-05T00:00:00+00:00\",\"2021-06-06T00:00:00+00:00\",\"2021-06-07T00:00:00+00:00\",\"2021-06-08T00:00:00+00:00\",\"2021-06-09T00:00:00+00:00\",\"2021-06-10T00:00:00+00:00\",\"2021-06-11T00:00:00+00:00\",\"2021-06-12T00:00:00+00:00\",\"2021-06-13T00:00:00+00:00\",\"2021-06-14T00:00:00+00:00\",\"2021-06-15T00:00:00+00:00\",\"2021-06-16T00:00:00+00:00\",\"2021-06-17T00:00:00+00:00\",\"2021-06-18T00:00:00+00:00\",\"2021-06-19T00:00:00+00:00\",\"2021-06-20T00:00:00+00:00\",\"2021-06-21T00:00:00+00:00\",\"2021-06-22T00:00:00+00:00\",\"2021-06-23T00:00:00+00:00\",\"2021-06-24T00:00:00+00:00\",\"2021-06-25T00:00:00+00:00\",\"2021-06-26T00:00:00+00:00\",\"2021-06-27T00:00:00+00:00\",\"2021-06-28T00:00:00+00:00\",\"2021-06-29T00:00:00+00:00\"],\"xaxis\":\"x\",\"y\":[11,43,92,34,24,12,65,67,149,138,76,31,75,43,64,40,30,31,18,8,24,31,14,43,47,4,14,32,9],\"yaxis\":\"y\"},{\"hovertemplate\":\"flair=YOLO<br>day=%{x}<br>num_posts=%{y}<extra></extra>\",\"legendgroup\":\"YOLO\",\"line\":{\"color\":\"#B6E880\",\"dash\":\"solid\"},\"mode\":\"lines\",\"name\":\"YOLO\",\"orientation\":\"v\",\"showlegend\":true,\"type\":\"scatter\",\"x\":[\"2021-06-01T00:00:00+00:00\",\"2021-06-02T00:00:00+00:00\",\"2021-06-03T00:00:00+00:00\",\"2021-06-04T00:00:00+00:00\",\"2021-06-05T00:00:00+00:00\",\"2021-06-06T00:00:00+00:00\",\"2021-06-07T00:00:00+00:00\",\"2021-06-08T00:00:00+00:00\",\"2021-06-09T00:00:00+00:00\",\"2021-06-10T00:00:00+00:00\",\"2021-06-11T00:00:00+00:00\",\"2021-06-12T00:00:00+00:00\",\"2021-06-13T00:00:00+00:00\",\"2021-06-14T00:00:00+00:00\",\"2021-06-15T00:00:00+00:00\",\"2021-06-16T00:00:00+00:00\",\"2021-06-17T00:00:00+00:00\",\"2021-06-18T00:00:00+00:00\",\"2021-06-19T00:00:00+00:00\",\"2021-06-20T00:00:00+00:00\",\"2021-06-21T00:00:00+00:00\",\"2021-06-22T00:00:00+00:00\",\"2021-06-23T00:00:00+00:00\",\"2021-06-24T00:00:00+00:00\",\"2021-06-25T00:00:00+00:00\",\"2021-06-26T00:00:00+00:00\",\"2021-06-27T00:00:00+00:00\",\"2021-06-28T00:00:00+00:00\",\"2021-06-29T00:00:00+00:00\"],\"xaxis\":\"x\",\"y\":[43,428,716,197,59,35,205,789,923,373,257,60,40,161,176,103,113,89,23,10,85,95,95,103,97,18,31,88,39],\"yaxis\":\"y\"},{\"hovertemplate\":\"flair=Shitpost<br>day=%{x}<br>num_posts=%{y}<extra></extra>\",\"legendgroup\":\"Shitpost\",\"line\":{\"color\":\"#FF97FF\",\"dash\":\"solid\"},\"mode\":\"lines\",\"name\":\"Shitpost\",\"orientation\":\"v\",\"showlegend\":true,\"type\":\"scatter\",\"x\":[\"2021-06-11T00:00:00+00:00\",\"2021-06-19T00:00:00+00:00\"],\"xaxis\":\"x\",\"y\":[4,1],\"yaxis\":\"y\"}],                        {\"legend\":{\"title\":{\"text\":\"flair\"},\"tracegroupgap\":0},\"template\":{\"data\":{\"bar\":[{\"error_x\":{\"color\":\"#2a3f5f\"},\"error_y\":{\"color\":\"#2a3f5f\"},\"marker\":{\"line\":{\"color\":\"#E5ECF6\",\"width\":0.5},\"pattern\":{\"fillmode\":\"overlay\",\"size\":10,\"solidity\":0.2}},\"type\":\"bar\"}],\"barpolar\":[{\"marker\":{\"line\":{\"color\":\"#E5ECF6\",\"width\":0.5},\"pattern\":{\"fillmode\":\"overlay\",\"size\":10,\"solidity\":0.2}},\"type\":\"barpolar\"}],\"carpet\":[{\"aaxis\":{\"endlinecolor\":\"#2a3f5f\",\"gridcolor\":\"white\",\"linecolor\":\"white\",\"minorgridcolor\":\"white\",\"startlinecolor\":\"#2a3f5f\"},\"baxis\":{\"endlinecolor\":\"#2a3f5f\",\"gridcolor\":\"white\",\"linecolor\":\"white\",\"minorgridcolor\":\"white\",\"startlinecolor\":\"#2a3f5f\"},\"type\":\"carpet\"}],\"choropleth\":[{\"colorbar\":{\"outlinewidth\":0,\"ticks\":\"\"},\"type\":\"choropleth\"}],\"contour\":[{\"colorbar\":{\"outlinewidth\":0,\"ticks\":\"\"},\"colorscale\":[[0.0,\"#0d0887\"],[0.1111111111111111,\"#46039f\"],[0.2222222222222222,\"#7201a8\"],[0.3333333333333333,\"#9c179e\"],[0.4444444444444444,\"#bd3786\"],[0.5555555555555556,\"#d8576b\"],[0.6666666666666666,\"#ed7953\"],[0.7777777777777778,\"#fb9f3a\"],[0.8888888888888888,\"#fdca26\"],[1.0,\"#f0f921\"]],\"type\":\"contour\"}],\"contourcarpet\":[{\"colorbar\":{\"outlinewidth\":0,\"ticks\":\"\"},\"type\":\"contourcarpet\"}],\"heatmap\":[{\"colorbar\":{\"outlinewidth\":0,\"ticks\":\"\"},\"colorscale\":[[0.0,\"#0d0887\"],[0.1111111111111111,\"#46039f\"],[0.2222222222222222,\"#7201a8\"],[0.3333333333333333,\"#9c179e\"],[0.4444444444444444,\"#bd3786\"],[0.5555555555555556,\"#d8576b\"],[0.6666666666666666,\"#ed7953\"],[0.7777777777777778,\"#fb9f3a\"],[0.8888888888888888,\"#fdca26\"],[1.0,\"#f0f921\"]],\"type\":\"heatmap\"}],\"heatmapgl\":[{\"colorbar\":{\"outlinewidth\":0,\"ticks\":\"\"},\"colorscale\":[[0.0,\"#0d0887\"],[0.1111111111111111,\"#46039f\"],[0.2222222222222222,\"#7201a8\"],[0.3333333333333333,\"#9c179e\"],[0.4444444444444444,\"#bd3786\"],[0.5555555555555556,\"#d8576b\"],[0.6666666666666666,\"#ed7953\"],[0.7777777777777778,\"#fb9f3a\"],[0.8888888888888888,\"#fdca26\"],[1.0,\"#f0f921\"]],\"type\":\"heatmapgl\"}],\"histogram\":[{\"marker\":{\"pattern\":{\"fillmode\":\"overlay\",\"size\":10,\"solidity\":0.2}},\"type\":\"histogram\"}],\"histogram2d\":[{\"colorbar\":{\"outlinewidth\":0,\"ticks\":\"\"},\"colorscale\":[[0.0,\"#0d0887\"],[0.1111111111111111,\"#46039f\"],[0.2222222222222222,\"#7201a8\"],[0.3333333333333333,\"#9c179e\"],[0.4444444444444444,\"#bd3786\"],[0.5555555555555556,\"#d8576b\"],[0.6666666666666666,\"#ed7953\"],[0.7777777777777778,\"#fb9f3a\"],[0.8888888888888888,\"#fdca26\"],[1.0,\"#f0f921\"]],\"type\":\"histogram2d\"}],\"histogram2dcontour\":[{\"colorbar\":{\"outlinewidth\":0,\"ticks\":\"\"},\"colorscale\":[[0.0,\"#0d0887\"],[0.1111111111111111,\"#46039f\"],[0.2222222222222222,\"#7201a8\"],[0.3333333333333333,\"#9c179e\"],[0.4444444444444444,\"#bd3786\"],[0.5555555555555556,\"#d8576b\"],[0.6666666666666666,\"#ed7953\"],[0.7777777777777778,\"#fb9f3a\"],[0.8888888888888888,\"#fdca26\"],[1.0,\"#f0f921\"]],\"type\":\"histogram2dcontour\"}],\"mesh3d\":[{\"colorbar\":{\"outlinewidth\":0,\"ticks\":\"\"},\"type\":\"mesh3d\"}],\"parcoords\":[{\"line\":{\"colorbar\":{\"outlinewidth\":0,\"ticks\":\"\"}},\"type\":\"parcoords\"}],\"pie\":[{\"automargin\":true,\"type\":\"pie\"}],\"scatter\":[{\"marker\":{\"colorbar\":{\"outlinewidth\":0,\"ticks\":\"\"}},\"type\":\"scatter\"}],\"scatter3d\":[{\"line\":{\"colorbar\":{\"outlinewidth\":0,\"ticks\":\"\"}},\"marker\":{\"colorbar\":{\"outlinewidth\":0,\"ticks\":\"\"}},\"type\":\"scatter3d\"}],\"scattercarpet\":[{\"marker\":{\"colorbar\":{\"outlinewidth\":0,\"ticks\":\"\"}},\"type\":\"scattercarpet\"}],\"scattergeo\":[{\"marker\":{\"colorbar\":{\"outlinewidth\":0,\"ticks\":\"\"}},\"type\":\"scattergeo\"}],\"scattergl\":[{\"marker\":{\"colorbar\":{\"outlinewidth\":0,\"ticks\":\"\"}},\"type\":\"scattergl\"}],\"scattermapbox\":[{\"marker\":{\"colorbar\":{\"outlinewidth\":0,\"ticks\":\"\"}},\"type\":\"scattermapbox\"}],\"scatterpolar\":[{\"marker\":{\"colorbar\":{\"outlinewidth\":0,\"ticks\":\"\"}},\"type\":\"scatterpolar\"}],\"scatterpolargl\":[{\"marker\":{\"colorbar\":{\"outlinewidth\":0,\"ticks\":\"\"}},\"type\":\"scatterpolargl\"}],\"scatterternary\":[{\"marker\":{\"colorbar\":{\"outlinewidth\":0,\"ticks\":\"\"}},\"type\":\"scatterternary\"}],\"surface\":[{\"colorbar\":{\"outlinewidth\":0,\"ticks\":\"\"},\"colorscale\":[[0.0,\"#0d0887\"],[0.1111111111111111,\"#46039f\"],[0.2222222222222222,\"#7201a8\"],[0.3333333333333333,\"#9c179e\"],[0.4444444444444444,\"#bd3786\"],[0.5555555555555556,\"#d8576b\"],[0.6666666666666666,\"#ed7953\"],[0.7777777777777778,\"#fb9f3a\"],[0.8888888888888888,\"#fdca26\"],[1.0,\"#f0f921\"]],\"type\":\"surface\"}],\"table\":[{\"cells\":{\"fill\":{\"color\":\"#EBF0F8\"},\"line\":{\"color\":\"white\"}},\"header\":{\"fill\":{\"color\":\"#C8D4E3\"},\"line\":{\"color\":\"white\"}},\"type\":\"table\"}]},\"layout\":{\"annotationdefaults\":{\"arrowcolor\":\"#2a3f5f\",\"arrowhead\":0,\"arrowwidth\":1},\"autotypenumbers\":\"strict\",\"coloraxis\":{\"colorbar\":{\"outlinewidth\":0,\"ticks\":\"\"}},\"colorscale\":{\"diverging\":[[0,\"#8e0152\"],[0.1,\"#c51b7d\"],[0.2,\"#de77ae\"],[0.3,\"#f1b6da\"],[0.4,\"#fde0ef\"],[0.5,\"#f7f7f7\"],[0.6,\"#e6f5d0\"],[0.7,\"#b8e186\"],[0.8,\"#7fbc41\"],[0.9,\"#4d9221\"],[1,\"#276419\"]],\"sequential\":[[0.0,\"#0d0887\"],[0.1111111111111111,\"#46039f\"],[0.2222222222222222,\"#7201a8\"],[0.3333333333333333,\"#9c179e\"],[0.4444444444444444,\"#bd3786\"],[0.5555555555555556,\"#d8576b\"],[0.6666666666666666,\"#ed7953\"],[0.7777777777777778,\"#fb9f3a\"],[0.8888888888888888,\"#fdca26\"],[1.0,\"#f0f921\"]],\"sequentialminus\":[[0.0,\"#0d0887\"],[0.1111111111111111,\"#46039f\"],[0.2222222222222222,\"#7201a8\"],[0.3333333333333333,\"#9c179e\"],[0.4444444444444444,\"#bd3786\"],[0.5555555555555556,\"#d8576b\"],[0.6666666666666666,\"#ed7953\"],[0.7777777777777778,\"#fb9f3a\"],[0.8888888888888888,\"#fdca26\"],[1.0,\"#f0f921\"]]},\"colorway\":[\"#636efa\",\"#EF553B\",\"#00cc96\",\"#ab63fa\",\"#FFA15A\",\"#19d3f3\",\"#FF6692\",\"#B6E880\",\"#FF97FF\",\"#FECB52\"],\"font\":{\"color\":\"#2a3f5f\"},\"geo\":{\"bgcolor\":\"white\",\"lakecolor\":\"white\",\"landcolor\":\"#E5ECF6\",\"showlakes\":true,\"showland\":true,\"subunitcolor\":\"white\"},\"hoverlabel\":{\"align\":\"left\"},\"hovermode\":\"closest\",\"mapbox\":{\"style\":\"light\"},\"paper_bgcolor\":\"white\",\"plot_bgcolor\":\"#E5ECF6\",\"polar\":{\"angularaxis\":{\"gridcolor\":\"white\",\"linecolor\":\"white\",\"ticks\":\"\"},\"bgcolor\":\"#E5ECF6\",\"radialaxis\":{\"gridcolor\":\"white\",\"linecolor\":\"white\",\"ticks\":\"\"}},\"scene\":{\"xaxis\":{\"backgroundcolor\":\"#E5ECF6\",\"gridcolor\":\"white\",\"gridwidth\":2,\"linecolor\":\"white\",\"showbackground\":true,\"ticks\":\"\",\"zerolinecolor\":\"white\"},\"yaxis\":{\"backgroundcolor\":\"#E5ECF6\",\"gridcolor\":\"white\",\"gridwidth\":2,\"linecolor\":\"white\",\"showbackground\":true,\"ticks\":\"\",\"zerolinecolor\":\"white\"},\"zaxis\":{\"backgroundcolor\":\"#E5ECF6\",\"gridcolor\":\"white\",\"gridwidth\":2,\"linecolor\":\"white\",\"showbackground\":true,\"ticks\":\"\",\"zerolinecolor\":\"white\"}},\"shapedefaults\":{\"line\":{\"color\":\"#2a3f5f\"}},\"ternary\":{\"aaxis\":{\"gridcolor\":\"white\",\"linecolor\":\"white\",\"ticks\":\"\"},\"baxis\":{\"gridcolor\":\"white\",\"linecolor\":\"white\",\"ticks\":\"\"},\"bgcolor\":\"#E5ECF6\",\"caxis\":{\"gridcolor\":\"white\",\"linecolor\":\"white\",\"ticks\":\"\"}},\"title\":{\"x\":0.05},\"xaxis\":{\"automargin\":true,\"gridcolor\":\"white\",\"linecolor\":\"white\",\"ticks\":\"\",\"title\":{\"standoff\":15},\"zerolinecolor\":\"white\",\"zerolinewidth\":2},\"yaxis\":{\"automargin\":true,\"gridcolor\":\"white\",\"linecolor\":\"white\",\"ticks\":\"\",\"title\":{\"standoff\":15},\"zerolinecolor\":\"white\",\"zerolinewidth\":2}}},\"title\":{\"text\":\"Flair by day\"},\"xaxis\":{\"anchor\":\"y\",\"domain\":[0.0,1.0],\"title\":{\"text\":\"day\"}},\"yaxis\":{\"anchor\":\"x\",\"domain\":[0.0,1.0],\"title\":{\"text\":\"num_posts\"}}},                        {\"responsive\": true}                    ).then(function(){\n",
       "                            \n",
       "var gd = document.getElementById('5056edfe-5f7b-4342-88e1-6fd753198312');\n",
       "var x = new MutationObserver(function (mutations, observer) {{\n",
       "        var display = window.getComputedStyle(gd).display;\n",
       "        if (!display || display === 'none') {{\n",
       "            console.log([gd, 'removed!']);\n",
       "            Plotly.purge(gd);\n",
       "            observer.disconnect();\n",
       "        }}\n",
       "}});\n",
       "\n",
       "// Listen for the removal of the full notebook cells\n",
       "var notebookContainer = gd.closest('#notebook-container');\n",
       "if (notebookContainer) {{\n",
       "    x.observe(notebookContainer, {childList: true});\n",
       "}}\n",
       "\n",
       "// Listen for the clearing of the current output cell\n",
       "var outputEl = gd.closest('.output');\n",
       "if (outputEl) {{\n",
       "    x.observe(outputEl, {childList: true});\n",
       "}}\n",
       "\n",
       "                        })                };                });            </script>        </div>"
      ]
     },
     "metadata": {},
     "output_type": "display_data"
    }
   ],
   "source": [
    "flair_daily = symbol_flair.groupby(['day', 'flair']).sum('num_posts').reset_index()\n",
    "fig = px.line(flair_daily, x=\"day\", y=\"num_posts\", color='flair', line_group='flair', title='Flair by day')\n",
    "fig.show()"
   ]
  },
  {
   "cell_type": "code",
   "execution_count": 319,
   "id": "791df1a9",
   "metadata": {},
   "outputs": [],
   "source": [
    "# filter for the month's top symbols\n",
    "symbol_flair = symbol_flair[symbol_flair['symbol'].isin(top_symbols)]"
   ]
  },
  {
   "cell_type": "code",
   "execution_count": 306,
   "id": "e886e2c1",
   "metadata": {},
   "outputs": [
    {
     "data": {
      "text/html": [
       "<div>\n",
       "<style scoped>\n",
       "    .dataframe tbody tr th:only-of-type {\n",
       "        vertical-align: middle;\n",
       "    }\n",
       "\n",
       "    .dataframe tbody tr th {\n",
       "        vertical-align: top;\n",
       "    }\n",
       "\n",
       "    .dataframe thead th {\n",
       "        text-align: right;\n",
       "    }\n",
       "</style>\n",
       "<table border=\"1\" class=\"dataframe\">\n",
       "  <thead>\n",
       "    <tr style=\"text-align: right;\">\n",
       "      <th>flair</th>\n",
       "      <th>DD</th>\n",
       "      <th>Discussion</th>\n",
       "      <th>Gain</th>\n",
       "      <th>Loss</th>\n",
       "      <th>Meme</th>\n",
       "      <th>News</th>\n",
       "      <th>Shitpost</th>\n",
       "      <th>Technical Analysis</th>\n",
       "      <th>YOLO</th>\n",
       "      <th>total_posts</th>\n",
       "      <th>DD_percent</th>\n",
       "      <th>Meme_percent</th>\n",
       "      <th>Gain_percent</th>\n",
       "      <th>Loss_percent</th>\n",
       "    </tr>\n",
       "    <tr>\n",
       "      <th>symbol</th>\n",
       "      <th></th>\n",
       "      <th></th>\n",
       "      <th></th>\n",
       "      <th></th>\n",
       "      <th></th>\n",
       "      <th></th>\n",
       "      <th></th>\n",
       "      <th></th>\n",
       "      <th></th>\n",
       "      <th></th>\n",
       "      <th></th>\n",
       "      <th></th>\n",
       "      <th></th>\n",
       "      <th></th>\n",
       "    </tr>\n",
       "  </thead>\n",
       "  <tbody>\n",
       "    <tr>\n",
       "      <th>AAPL</th>\n",
       "      <td>21.0</td>\n",
       "      <td>17.0</td>\n",
       "      <td>1.0</td>\n",
       "      <td>0.0</td>\n",
       "      <td>3.0</td>\n",
       "      <td>0.0</td>\n",
       "      <td>0.0</td>\n",
       "      <td>3.0</td>\n",
       "      <td>5.0</td>\n",
       "      <td>50.0</td>\n",
       "      <td>0.420000</td>\n",
       "      <td>0.060000</td>\n",
       "      <td>0.020000</td>\n",
       "      <td>0.000000</td>\n",
       "    </tr>\n",
       "    <tr>\n",
       "      <th>AHT</th>\n",
       "      <td>4.0</td>\n",
       "      <td>11.0</td>\n",
       "      <td>18.0</td>\n",
       "      <td>0.0</td>\n",
       "      <td>3.0</td>\n",
       "      <td>3.0</td>\n",
       "      <td>0.0</td>\n",
       "      <td>2.0</td>\n",
       "      <td>12.0</td>\n",
       "      <td>53.0</td>\n",
       "      <td>0.075472</td>\n",
       "      <td>0.056604</td>\n",
       "      <td>0.339623</td>\n",
       "      <td>0.000000</td>\n",
       "    </tr>\n",
       "    <tr>\n",
       "      <th>AMC</th>\n",
       "      <td>521.0</td>\n",
       "      <td>2302.0</td>\n",
       "      <td>472.0</td>\n",
       "      <td>112.0</td>\n",
       "      <td>472.0</td>\n",
       "      <td>222.0</td>\n",
       "      <td>3.0</td>\n",
       "      <td>234.0</td>\n",
       "      <td>875.0</td>\n",
       "      <td>5213.0</td>\n",
       "      <td>0.099942</td>\n",
       "      <td>0.090543</td>\n",
       "      <td>0.090543</td>\n",
       "      <td>0.021485</td>\n",
       "    </tr>\n",
       "    <tr>\n",
       "      <th>AMD</th>\n",
       "      <td>27.0</td>\n",
       "      <td>44.0</td>\n",
       "      <td>5.0</td>\n",
       "      <td>3.0</td>\n",
       "      <td>0.0</td>\n",
       "      <td>10.0</td>\n",
       "      <td>0.0</td>\n",
       "      <td>2.0</td>\n",
       "      <td>18.0</td>\n",
       "      <td>109.0</td>\n",
       "      <td>0.247706</td>\n",
       "      <td>0.000000</td>\n",
       "      <td>0.045872</td>\n",
       "      <td>0.027523</td>\n",
       "    </tr>\n",
       "    <tr>\n",
       "      <th>AMZN</th>\n",
       "      <td>34.0</td>\n",
       "      <td>31.0</td>\n",
       "      <td>10.0</td>\n",
       "      <td>0.0</td>\n",
       "      <td>2.0</td>\n",
       "      <td>2.0</td>\n",
       "      <td>0.0</td>\n",
       "      <td>0.0</td>\n",
       "      <td>4.0</td>\n",
       "      <td>83.0</td>\n",
       "      <td>0.409639</td>\n",
       "      <td>0.024096</td>\n",
       "      <td>0.120482</td>\n",
       "      <td>0.000000</td>\n",
       "    </tr>\n",
       "    <tr>\n",
       "      <th>...</th>\n",
       "      <td>...</td>\n",
       "      <td>...</td>\n",
       "      <td>...</td>\n",
       "      <td>...</td>\n",
       "      <td>...</td>\n",
       "      <td>...</td>\n",
       "      <td>...</td>\n",
       "      <td>...</td>\n",
       "      <td>...</td>\n",
       "      <td>...</td>\n",
       "      <td>...</td>\n",
       "      <td>...</td>\n",
       "      <td>...</td>\n",
       "      <td>...</td>\n",
       "    </tr>\n",
       "    <tr>\n",
       "      <th>WOOF</th>\n",
       "      <td>26.0</td>\n",
       "      <td>40.0</td>\n",
       "      <td>14.0</td>\n",
       "      <td>1.0</td>\n",
       "      <td>13.0</td>\n",
       "      <td>1.0</td>\n",
       "      <td>0.0</td>\n",
       "      <td>4.0</td>\n",
       "      <td>36.0</td>\n",
       "      <td>135.0</td>\n",
       "      <td>0.192593</td>\n",
       "      <td>0.096296</td>\n",
       "      <td>0.103704</td>\n",
       "      <td>0.007407</td>\n",
       "    </tr>\n",
       "    <tr>\n",
       "      <th>WPG</th>\n",
       "      <td>5.0</td>\n",
       "      <td>9.0</td>\n",
       "      <td>5.0</td>\n",
       "      <td>0.0</td>\n",
       "      <td>5.0</td>\n",
       "      <td>1.0</td>\n",
       "      <td>0.0</td>\n",
       "      <td>3.0</td>\n",
       "      <td>11.0</td>\n",
       "      <td>39.0</td>\n",
       "      <td>0.128205</td>\n",
       "      <td>0.128205</td>\n",
       "      <td>0.128205</td>\n",
       "      <td>0.000000</td>\n",
       "    </tr>\n",
       "    <tr>\n",
       "      <th>WWE</th>\n",
       "      <td>26.0</td>\n",
       "      <td>18.0</td>\n",
       "      <td>3.0</td>\n",
       "      <td>0.0</td>\n",
       "      <td>2.0</td>\n",
       "      <td>3.0</td>\n",
       "      <td>0.0</td>\n",
       "      <td>4.0</td>\n",
       "      <td>7.0</td>\n",
       "      <td>63.0</td>\n",
       "      <td>0.412698</td>\n",
       "      <td>0.031746</td>\n",
       "      <td>0.047619</td>\n",
       "      <td>0.000000</td>\n",
       "    </tr>\n",
       "    <tr>\n",
       "      <th>XL</th>\n",
       "      <td>21.0</td>\n",
       "      <td>16.0</td>\n",
       "      <td>5.0</td>\n",
       "      <td>0.0</td>\n",
       "      <td>1.0</td>\n",
       "      <td>3.0</td>\n",
       "      <td>0.0</td>\n",
       "      <td>1.0</td>\n",
       "      <td>13.0</td>\n",
       "      <td>60.0</td>\n",
       "      <td>0.350000</td>\n",
       "      <td>0.016667</td>\n",
       "      <td>0.083333</td>\n",
       "      <td>0.000000</td>\n",
       "    </tr>\n",
       "    <tr>\n",
       "      <th>ZOM</th>\n",
       "      <td>2.0</td>\n",
       "      <td>20.0</td>\n",
       "      <td>6.0</td>\n",
       "      <td>1.0</td>\n",
       "      <td>4.0</td>\n",
       "      <td>2.0</td>\n",
       "      <td>0.0</td>\n",
       "      <td>1.0</td>\n",
       "      <td>9.0</td>\n",
       "      <td>45.0</td>\n",
       "      <td>0.044444</td>\n",
       "      <td>0.088889</td>\n",
       "      <td>0.133333</td>\n",
       "      <td>0.022222</td>\n",
       "    </tr>\n",
       "  </tbody>\n",
       "</table>\n",
       "<p>96 rows × 14 columns</p>\n",
       "</div>"
      ],
      "text/plain": [
       "flair      DD  Discussion   Gain   Loss   Meme   News  Shitpost  \\\n",
       "symbol                                                            \n",
       "AAPL     21.0        17.0    1.0    0.0    3.0    0.0       0.0   \n",
       "AHT       4.0        11.0   18.0    0.0    3.0    3.0       0.0   \n",
       "AMC     521.0      2302.0  472.0  112.0  472.0  222.0       3.0   \n",
       "AMD      27.0        44.0    5.0    3.0    0.0   10.0       0.0   \n",
       "AMZN     34.0        31.0   10.0    0.0    2.0    2.0       0.0   \n",
       "...       ...         ...    ...    ...    ...    ...       ...   \n",
       "WOOF     26.0        40.0   14.0    1.0   13.0    1.0       0.0   \n",
       "WPG       5.0         9.0    5.0    0.0    5.0    1.0       0.0   \n",
       "WWE      26.0        18.0    3.0    0.0    2.0    3.0       0.0   \n",
       "XL       21.0        16.0    5.0    0.0    1.0    3.0       0.0   \n",
       "ZOM       2.0        20.0    6.0    1.0    4.0    2.0       0.0   \n",
       "\n",
       "flair   Technical Analysis   YOLO  total_posts  DD_percent  Meme_percent  \\\n",
       "symbol                                                                     \n",
       "AAPL                   3.0    5.0         50.0    0.420000      0.060000   \n",
       "AHT                    2.0   12.0         53.0    0.075472      0.056604   \n",
       "AMC                  234.0  875.0       5213.0    0.099942      0.090543   \n",
       "AMD                    2.0   18.0        109.0    0.247706      0.000000   \n",
       "AMZN                   0.0    4.0         83.0    0.409639      0.024096   \n",
       "...                    ...    ...          ...         ...           ...   \n",
       "WOOF                   4.0   36.0        135.0    0.192593      0.096296   \n",
       "WPG                    3.0   11.0         39.0    0.128205      0.128205   \n",
       "WWE                    4.0    7.0         63.0    0.412698      0.031746   \n",
       "XL                     1.0   13.0         60.0    0.350000      0.016667   \n",
       "ZOM                    1.0    9.0         45.0    0.044444      0.088889   \n",
       "\n",
       "flair   Gain_percent  Loss_percent  \n",
       "symbol                              \n",
       "AAPL        0.020000      0.000000  \n",
       "AHT         0.339623      0.000000  \n",
       "AMC         0.090543      0.021485  \n",
       "AMD         0.045872      0.027523  \n",
       "AMZN        0.120482      0.000000  \n",
       "...              ...           ...  \n",
       "WOOF        0.103704      0.007407  \n",
       "WPG         0.128205      0.000000  \n",
       "WWE         0.047619      0.000000  \n",
       "XL          0.083333      0.000000  \n",
       "ZOM         0.133333      0.022222  \n",
       "\n",
       "[96 rows x 14 columns]"
      ]
     },
     "execution_count": 306,
     "metadata": {},
     "output_type": "execute_result"
    }
   ],
   "source": [
    "wide_flair = symbol_flair.groupby(['symbol', 'flair']) \\\n",
    "    .sum() \\\n",
    "    .reset_index() \\\n",
    "    .pivot_table(index=['symbol'],columns='flair', values='num_posts') \\\n",
    "    .fillna(0)\n",
    "wide_flair['total_posts'] = wide_flair.sum(axis=1)\n",
    "wide_flair['DD_percent'] = wide_flair['DD']/wide_flair['total_posts']\n",
    "wide_flair['Meme_percent'] = wide_flair['Meme']/wide_flair['total_posts']\n",
    "wide_flair['Gain_percent'] = wide_flair['Gain']/wide_flair['total_posts']\n",
    "wide_flair['Loss_percent'] = wide_flair['Loss']/wide_flair['total_posts']\n",
    "wide_flair"
   ]
  },
  {
   "cell_type": "code",
   "execution_count": 307,
   "id": "853fb4f0",
   "metadata": {},
   "outputs": [
    {
     "data": {
      "text/html": [
       "<div>\n",
       "<style scoped>\n",
       "    .dataframe tbody tr th:only-of-type {\n",
       "        vertical-align: middle;\n",
       "    }\n",
       "\n",
       "    .dataframe tbody tr th {\n",
       "        vertical-align: top;\n",
       "    }\n",
       "\n",
       "    .dataframe thead th {\n",
       "        text-align: right;\n",
       "    }\n",
       "</style>\n",
       "<table border=\"1\" class=\"dataframe\">\n",
       "  <thead>\n",
       "    <tr style=\"text-align: right;\">\n",
       "      <th>flair</th>\n",
       "      <th>symbol</th>\n",
       "      <th>DD</th>\n",
       "      <th>Discussion</th>\n",
       "      <th>Gain</th>\n",
       "      <th>Loss</th>\n",
       "      <th>Meme</th>\n",
       "      <th>News</th>\n",
       "      <th>Shitpost</th>\n",
       "      <th>Technical Analysis</th>\n",
       "      <th>YOLO</th>\n",
       "      <th>total_posts</th>\n",
       "      <th>DD_percent</th>\n",
       "      <th>Meme_percent</th>\n",
       "      <th>Gain_percent</th>\n",
       "      <th>Loss_percent</th>\n",
       "    </tr>\n",
       "  </thead>\n",
       "  <tbody>\n",
       "    <tr>\n",
       "      <th>0</th>\n",
       "      <td>UPS</td>\n",
       "      <td>40.0</td>\n",
       "      <td>19.0</td>\n",
       "      <td>0.0</td>\n",
       "      <td>0.0</td>\n",
       "      <td>0.0</td>\n",
       "      <td>0.0</td>\n",
       "      <td>0.0</td>\n",
       "      <td>1.0</td>\n",
       "      <td>0.0</td>\n",
       "      <td>60.0</td>\n",
       "      <td>0.666667</td>\n",
       "      <td>0.000000</td>\n",
       "      <td>0.000000</td>\n",
       "      <td>0.000000</td>\n",
       "    </tr>\n",
       "    <tr>\n",
       "      <th>1</th>\n",
       "      <td>BP</td>\n",
       "      <td>34.0</td>\n",
       "      <td>18.0</td>\n",
       "      <td>2.0</td>\n",
       "      <td>0.0</td>\n",
       "      <td>2.0</td>\n",
       "      <td>0.0</td>\n",
       "      <td>0.0</td>\n",
       "      <td>0.0</td>\n",
       "      <td>2.0</td>\n",
       "      <td>58.0</td>\n",
       "      <td>0.586207</td>\n",
       "      <td>0.034483</td>\n",
       "      <td>0.034483</td>\n",
       "      <td>0.000000</td>\n",
       "    </tr>\n",
       "    <tr>\n",
       "      <th>2</th>\n",
       "      <td>MA</td>\n",
       "      <td>27.0</td>\n",
       "      <td>11.0</td>\n",
       "      <td>2.0</td>\n",
       "      <td>0.0</td>\n",
       "      <td>1.0</td>\n",
       "      <td>0.0</td>\n",
       "      <td>0.0</td>\n",
       "      <td>5.0</td>\n",
       "      <td>1.0</td>\n",
       "      <td>47.0</td>\n",
       "      <td>0.574468</td>\n",
       "      <td>0.021277</td>\n",
       "      <td>0.042553</td>\n",
       "      <td>0.000000</td>\n",
       "    </tr>\n",
       "    <tr>\n",
       "      <th>3</th>\n",
       "      <td>OI</td>\n",
       "      <td>34.0</td>\n",
       "      <td>24.0</td>\n",
       "      <td>0.0</td>\n",
       "      <td>0.0</td>\n",
       "      <td>0.0</td>\n",
       "      <td>0.0</td>\n",
       "      <td>0.0</td>\n",
       "      <td>5.0</td>\n",
       "      <td>0.0</td>\n",
       "      <td>63.0</td>\n",
       "      <td>0.539683</td>\n",
       "      <td>0.000000</td>\n",
       "      <td>0.000000</td>\n",
       "      <td>0.000000</td>\n",
       "    </tr>\n",
       "    <tr>\n",
       "      <th>4</th>\n",
       "      <td>GM</td>\n",
       "      <td>55.0</td>\n",
       "      <td>26.0</td>\n",
       "      <td>5.0</td>\n",
       "      <td>0.0</td>\n",
       "      <td>3.0</td>\n",
       "      <td>8.0</td>\n",
       "      <td>0.0</td>\n",
       "      <td>2.0</td>\n",
       "      <td>5.0</td>\n",
       "      <td>104.0</td>\n",
       "      <td>0.528846</td>\n",
       "      <td>0.028846</td>\n",
       "      <td>0.048077</td>\n",
       "      <td>0.000000</td>\n",
       "    </tr>\n",
       "    <tr>\n",
       "      <th>5</th>\n",
       "      <td>TWNK</td>\n",
       "      <td>34.0</td>\n",
       "      <td>8.0</td>\n",
       "      <td>3.0</td>\n",
       "      <td>1.0</td>\n",
       "      <td>14.0</td>\n",
       "      <td>0.0</td>\n",
       "      <td>0.0</td>\n",
       "      <td>1.0</td>\n",
       "      <td>4.0</td>\n",
       "      <td>65.0</td>\n",
       "      <td>0.523077</td>\n",
       "      <td>0.215385</td>\n",
       "      <td>0.046154</td>\n",
       "      <td>0.015385</td>\n",
       "    </tr>\n",
       "    <tr>\n",
       "      <th>6</th>\n",
       "      <td>IP</td>\n",
       "      <td>22.0</td>\n",
       "      <td>15.0</td>\n",
       "      <td>2.0</td>\n",
       "      <td>1.0</td>\n",
       "      <td>0.0</td>\n",
       "      <td>1.0</td>\n",
       "      <td>0.0</td>\n",
       "      <td>1.0</td>\n",
       "      <td>1.0</td>\n",
       "      <td>43.0</td>\n",
       "      <td>0.511628</td>\n",
       "      <td>0.000000</td>\n",
       "      <td>0.046512</td>\n",
       "      <td>0.023256</td>\n",
       "    </tr>\n",
       "    <tr>\n",
       "      <th>7</th>\n",
       "      <td>JP</td>\n",
       "      <td>25.0</td>\n",
       "      <td>22.0</td>\n",
       "      <td>1.0</td>\n",
       "      <td>0.0</td>\n",
       "      <td>0.0</td>\n",
       "      <td>0.0</td>\n",
       "      <td>0.0</td>\n",
       "      <td>5.0</td>\n",
       "      <td>0.0</td>\n",
       "      <td>53.0</td>\n",
       "      <td>0.471698</td>\n",
       "      <td>0.000000</td>\n",
       "      <td>0.018868</td>\n",
       "      <td>0.000000</td>\n",
       "    </tr>\n",
       "    <tr>\n",
       "      <th>8</th>\n",
       "      <td>LNG</td>\n",
       "      <td>21.0</td>\n",
       "      <td>13.0</td>\n",
       "      <td>4.0</td>\n",
       "      <td>0.0</td>\n",
       "      <td>0.0</td>\n",
       "      <td>3.0</td>\n",
       "      <td>0.0</td>\n",
       "      <td>5.0</td>\n",
       "      <td>3.0</td>\n",
       "      <td>49.0</td>\n",
       "      <td>0.428571</td>\n",
       "      <td>0.000000</td>\n",
       "      <td>0.081633</td>\n",
       "      <td>0.000000</td>\n",
       "    </tr>\n",
       "    <tr>\n",
       "      <th>9</th>\n",
       "      <td>SP</td>\n",
       "      <td>21.0</td>\n",
       "      <td>18.0</td>\n",
       "      <td>1.0</td>\n",
       "      <td>0.0</td>\n",
       "      <td>0.0</td>\n",
       "      <td>0.0</td>\n",
       "      <td>0.0</td>\n",
       "      <td>3.0</td>\n",
       "      <td>7.0</td>\n",
       "      <td>50.0</td>\n",
       "      <td>0.420000</td>\n",
       "      <td>0.000000</td>\n",
       "      <td>0.020000</td>\n",
       "      <td>0.000000</td>\n",
       "    </tr>\n",
       "  </tbody>\n",
       "</table>\n",
       "</div>"
      ],
      "text/plain": [
       "flair symbol    DD  Discussion  Gain  Loss  Meme  News  Shitpost  \\\n",
       "0        UPS  40.0        19.0   0.0   0.0   0.0   0.0       0.0   \n",
       "1         BP  34.0        18.0   2.0   0.0   2.0   0.0       0.0   \n",
       "2         MA  27.0        11.0   2.0   0.0   1.0   0.0       0.0   \n",
       "3         OI  34.0        24.0   0.0   0.0   0.0   0.0       0.0   \n",
       "4         GM  55.0        26.0   5.0   0.0   3.0   8.0       0.0   \n",
       "5       TWNK  34.0         8.0   3.0   1.0  14.0   0.0       0.0   \n",
       "6         IP  22.0        15.0   2.0   1.0   0.0   1.0       0.0   \n",
       "7         JP  25.0        22.0   1.0   0.0   0.0   0.0       0.0   \n",
       "8        LNG  21.0        13.0   4.0   0.0   0.0   3.0       0.0   \n",
       "9         SP  21.0        18.0   1.0   0.0   0.0   0.0       0.0   \n",
       "\n",
       "flair  Technical Analysis  YOLO  total_posts  DD_percent  Meme_percent  \\\n",
       "0                     1.0   0.0         60.0    0.666667      0.000000   \n",
       "1                     0.0   2.0         58.0    0.586207      0.034483   \n",
       "2                     5.0   1.0         47.0    0.574468      0.021277   \n",
       "3                     5.0   0.0         63.0    0.539683      0.000000   \n",
       "4                     2.0   5.0        104.0    0.528846      0.028846   \n",
       "5                     1.0   4.0         65.0    0.523077      0.215385   \n",
       "6                     1.0   1.0         43.0    0.511628      0.000000   \n",
       "7                     5.0   0.0         53.0    0.471698      0.000000   \n",
       "8                     5.0   3.0         49.0    0.428571      0.000000   \n",
       "9                     3.0   7.0         50.0    0.420000      0.000000   \n",
       "\n",
       "flair  Gain_percent  Loss_percent  \n",
       "0          0.000000      0.000000  \n",
       "1          0.034483      0.000000  \n",
       "2          0.042553      0.000000  \n",
       "3          0.000000      0.000000  \n",
       "4          0.048077      0.000000  \n",
       "5          0.046154      0.015385  \n",
       "6          0.046512      0.023256  \n",
       "7          0.018868      0.000000  \n",
       "8          0.081633      0.000000  \n",
       "9          0.020000      0.000000  "
      ]
     },
     "execution_count": 307,
     "metadata": {},
     "output_type": "execute_result"
    }
   ],
   "source": [
    "dd_symbols = wide_flair[wide_flair.index.isin(top_symbols)] \\\n",
    "    .sort_values(by=['DD_percent'], ascending=False) \\\n",
    "    .reset_index()\n",
    "dd_symbols.head(10)"
   ]
  },
  {
   "cell_type": "code",
   "execution_count": 309,
   "id": "83193a53",
   "metadata": {},
   "outputs": [
    {
     "data": {
      "application/vnd.plotly.v1+json": {
       "config": {
        "plotlyServerURL": "https://plot.ly"
       },
       "data": [
        {
         "alignmentgroup": "True",
         "hovertemplate": "symbol=%{y}<br>DD_percent=%{x}<br>DD=%{text}<extra></extra>",
         "legendgroup": "UPS",
         "marker": {
          "color": "#636efa",
          "pattern": {
           "shape": ""
          }
         },
         "name": "UPS",
         "offsetgroup": "UPS",
         "orientation": "h",
         "showlegend": true,
         "text": [
          "40.0"
         ],
         "textposition": "auto",
         "type": "bar",
         "x": [
          0.6666666666666666
         ],
         "xaxis": "x",
         "y": [
          "UPS"
         ],
         "yaxis": "y"
        },
        {
         "alignmentgroup": "True",
         "hovertemplate": "symbol=%{y}<br>DD_percent=%{x}<br>DD=%{text}<extra></extra>",
         "legendgroup": "BP",
         "marker": {
          "color": "#EF553B",
          "pattern": {
           "shape": ""
          }
         },
         "name": "BP",
         "offsetgroup": "BP",
         "orientation": "h",
         "showlegend": true,
         "text": [
          "34.0"
         ],
         "textposition": "auto",
         "type": "bar",
         "x": [
          0.5862068965517241
         ],
         "xaxis": "x",
         "y": [
          "BP"
         ],
         "yaxis": "y"
        },
        {
         "alignmentgroup": "True",
         "hovertemplate": "symbol=%{y}<br>DD_percent=%{x}<br>DD=%{text}<extra></extra>",
         "legendgroup": "MA",
         "marker": {
          "color": "#00cc96",
          "pattern": {
           "shape": ""
          }
         },
         "name": "MA",
         "offsetgroup": "MA",
         "orientation": "h",
         "showlegend": true,
         "text": [
          "27.0"
         ],
         "textposition": "auto",
         "type": "bar",
         "x": [
          0.574468085106383
         ],
         "xaxis": "x",
         "y": [
          "MA"
         ],
         "yaxis": "y"
        },
        {
         "alignmentgroup": "True",
         "hovertemplate": "symbol=%{y}<br>DD_percent=%{x}<br>DD=%{text}<extra></extra>",
         "legendgroup": "OI",
         "marker": {
          "color": "#ab63fa",
          "pattern": {
           "shape": ""
          }
         },
         "name": "OI",
         "offsetgroup": "OI",
         "orientation": "h",
         "showlegend": true,
         "text": [
          "34.0"
         ],
         "textposition": "auto",
         "type": "bar",
         "x": [
          0.5396825396825397
         ],
         "xaxis": "x",
         "y": [
          "OI"
         ],
         "yaxis": "y"
        },
        {
         "alignmentgroup": "True",
         "hovertemplate": "symbol=%{y}<br>DD_percent=%{x}<br>DD=%{text}<extra></extra>",
         "legendgroup": "GM",
         "marker": {
          "color": "#FFA15A",
          "pattern": {
           "shape": ""
          }
         },
         "name": "GM",
         "offsetgroup": "GM",
         "orientation": "h",
         "showlegend": true,
         "text": [
          "55.0"
         ],
         "textposition": "auto",
         "type": "bar",
         "x": [
          0.5288461538461539
         ],
         "xaxis": "x",
         "y": [
          "GM"
         ],
         "yaxis": "y"
        },
        {
         "alignmentgroup": "True",
         "hovertemplate": "symbol=%{y}<br>DD_percent=%{x}<br>DD=%{text}<extra></extra>",
         "legendgroup": "TWNK",
         "marker": {
          "color": "#19d3f3",
          "pattern": {
           "shape": ""
          }
         },
         "name": "TWNK",
         "offsetgroup": "TWNK",
         "orientation": "h",
         "showlegend": true,
         "text": [
          "34.0"
         ],
         "textposition": "auto",
         "type": "bar",
         "x": [
          0.5230769230769231
         ],
         "xaxis": "x",
         "y": [
          "TWNK"
         ],
         "yaxis": "y"
        },
        {
         "alignmentgroup": "True",
         "hovertemplate": "symbol=%{y}<br>DD_percent=%{x}<br>DD=%{text}<extra></extra>",
         "legendgroup": "IP",
         "marker": {
          "color": "#FF6692",
          "pattern": {
           "shape": ""
          }
         },
         "name": "IP",
         "offsetgroup": "IP",
         "orientation": "h",
         "showlegend": true,
         "text": [
          "22.0"
         ],
         "textposition": "auto",
         "type": "bar",
         "x": [
          0.5116279069767442
         ],
         "xaxis": "x",
         "y": [
          "IP"
         ],
         "yaxis": "y"
        },
        {
         "alignmentgroup": "True",
         "hovertemplate": "symbol=%{y}<br>DD_percent=%{x}<br>DD=%{text}<extra></extra>",
         "legendgroup": "JP",
         "marker": {
          "color": "#B6E880",
          "pattern": {
           "shape": ""
          }
         },
         "name": "JP",
         "offsetgroup": "JP",
         "orientation": "h",
         "showlegend": true,
         "text": [
          "25.0"
         ],
         "textposition": "auto",
         "type": "bar",
         "x": [
          0.4716981132075472
         ],
         "xaxis": "x",
         "y": [
          "JP"
         ],
         "yaxis": "y"
        },
        {
         "alignmentgroup": "True",
         "hovertemplate": "symbol=%{y}<br>DD_percent=%{x}<br>DD=%{text}<extra></extra>",
         "legendgroup": "LNG",
         "marker": {
          "color": "#FF97FF",
          "pattern": {
           "shape": ""
          }
         },
         "name": "LNG",
         "offsetgroup": "LNG",
         "orientation": "h",
         "showlegend": true,
         "text": [
          "21.0"
         ],
         "textposition": "auto",
         "type": "bar",
         "x": [
          0.42857142857142855
         ],
         "xaxis": "x",
         "y": [
          "LNG"
         ],
         "yaxis": "y"
        },
        {
         "alignmentgroup": "True",
         "hovertemplate": "symbol=%{y}<br>DD_percent=%{x}<br>DD=%{text}<extra></extra>",
         "legendgroup": "SP",
         "marker": {
          "color": "#FECB52",
          "pattern": {
           "shape": ""
          }
         },
         "name": "SP",
         "offsetgroup": "SP",
         "orientation": "h",
         "showlegend": true,
         "text": [
          "21.0"
         ],
         "textposition": "auto",
         "type": "bar",
         "x": [
          0.42
         ],
         "xaxis": "x",
         "y": [
          "SP"
         ],
         "yaxis": "y"
        },
        {
         "alignmentgroup": "True",
         "hovertemplate": "symbol=%{y}<br>DD_percent=%{x}<br>DD=%{text}<extra></extra>",
         "legendgroup": "AAPL",
         "marker": {
          "color": "#636efa",
          "pattern": {
           "shape": ""
          }
         },
         "name": "AAPL",
         "offsetgroup": "AAPL",
         "orientation": "h",
         "showlegend": true,
         "text": [
          "21.0"
         ],
         "textposition": "auto",
         "type": "bar",
         "x": [
          0.42
         ],
         "xaxis": "x",
         "y": [
          "AAPL"
         ],
         "yaxis": "y"
        },
        {
         "alignmentgroup": "True",
         "hovertemplate": "symbol=%{y}<br>DD_percent=%{x}<br>DD=%{text}<extra></extra>",
         "legendgroup": "WWE",
         "marker": {
          "color": "#EF553B",
          "pattern": {
           "shape": ""
          }
         },
         "name": "WWE",
         "offsetgroup": "WWE",
         "orientation": "h",
         "showlegend": true,
         "text": [
          "26.0"
         ],
         "textposition": "auto",
         "type": "bar",
         "x": [
          0.4126984126984127
         ],
         "xaxis": "x",
         "y": [
          "WWE"
         ],
         "yaxis": "y"
        },
        {
         "alignmentgroup": "True",
         "hovertemplate": "symbol=%{y}<br>DD_percent=%{x}<br>DD=%{text}<extra></extra>",
         "legendgroup": "AMZN",
         "marker": {
          "color": "#00cc96",
          "pattern": {
           "shape": ""
          }
         },
         "name": "AMZN",
         "offsetgroup": "AMZN",
         "orientation": "h",
         "showlegend": true,
         "text": [
          "34.0"
         ],
         "textposition": "auto",
         "type": "bar",
         "x": [
          0.40963855421686746
         ],
         "xaxis": "x",
         "y": [
          "AMZN"
         ],
         "yaxis": "y"
        },
        {
         "alignmentgroup": "True",
         "hovertemplate": "symbol=%{y}<br>DD_percent=%{x}<br>DD=%{text}<extra></extra>",
         "legendgroup": "GOEV",
         "marker": {
          "color": "#ab63fa",
          "pattern": {
           "shape": ""
          }
         },
         "name": "GOEV",
         "offsetgroup": "GOEV",
         "orientation": "h",
         "showlegend": true,
         "text": [
          "44.0"
         ],
         "textposition": "auto",
         "type": "bar",
         "x": [
          0.36666666666666664
         ],
         "xaxis": "x",
         "y": [
          "GOEV"
         ],
         "yaxis": "y"
        },
        {
         "alignmentgroup": "True",
         "hovertemplate": "symbol=%{y}<br>DD_percent=%{x}<br>DD=%{text}<extra></extra>",
         "legendgroup": "ASO",
         "marker": {
          "color": "#FFA15A",
          "pattern": {
           "shape": ""
          }
         },
         "name": "ASO",
         "offsetgroup": "ASO",
         "orientation": "h",
         "showlegend": true,
         "text": [
          "59.0"
         ],
         "textposition": "auto",
         "type": "bar",
         "x": [
          0.3597560975609756
         ],
         "xaxis": "x",
         "y": [
          "ASO"
         ],
         "yaxis": "y"
        },
        {
         "alignmentgroup": "True",
         "hovertemplate": "symbol=%{y}<br>DD_percent=%{x}<br>DD=%{text}<extra></extra>",
         "legendgroup": "XL",
         "marker": {
          "color": "#19d3f3",
          "pattern": {
           "shape": ""
          }
         },
         "name": "XL",
         "offsetgroup": "XL",
         "orientation": "h",
         "showlegend": true,
         "text": [
          "21.0"
         ],
         "textposition": "auto",
         "type": "bar",
         "x": [
          0.35
         ],
         "xaxis": "x",
         "y": [
          "XL"
         ],
         "yaxis": "y"
        },
        {
         "alignmentgroup": "True",
         "hovertemplate": "symbol=%{y}<br>DD_percent=%{x}<br>DD=%{text}<extra></extra>",
         "legendgroup": "BABA",
         "marker": {
          "color": "#FF6692",
          "pattern": {
           "shape": ""
          }
         },
         "name": "BABA",
         "offsetgroup": "BABA",
         "orientation": "h",
         "showlegend": true,
         "text": [
          "18.0"
         ],
         "textposition": "auto",
         "type": "bar",
         "x": [
          0.33962264150943394
         ],
         "xaxis": "x",
         "y": [
          "BABA"
         ],
         "yaxis": "y"
        },
        {
         "alignmentgroup": "True",
         "hovertemplate": "symbol=%{y}<br>DD_percent=%{x}<br>DD=%{text}<extra></extra>",
         "legendgroup": "WELL",
         "marker": {
          "color": "#B6E880",
          "pattern": {
           "shape": ""
          }
         },
         "name": "WELL",
         "offsetgroup": "WELL",
         "orientation": "h",
         "showlegend": true,
         "text": [
          "24.0"
         ],
         "textposition": "auto",
         "type": "bar",
         "x": [
          0.3380281690140845
         ],
         "xaxis": "x",
         "y": [
          "WELL"
         ],
         "yaxis": "y"
        },
        {
         "alignmentgroup": "True",
         "hovertemplate": "symbol=%{y}<br>DD_percent=%{x}<br>DD=%{text}<extra></extra>",
         "legendgroup": "SKLZ",
         "marker": {
          "color": "#FF97FF",
          "pattern": {
           "shape": ""
          }
         },
         "name": "SKLZ",
         "offsetgroup": "SKLZ",
         "orientation": "h",
         "showlegend": true,
         "text": [
          "20.0"
         ],
         "textposition": "auto",
         "type": "bar",
         "x": [
          0.32786885245901637
         ],
         "xaxis": "x",
         "y": [
          "SKLZ"
         ],
         "yaxis": "y"
        },
        {
         "alignmentgroup": "True",
         "hovertemplate": "symbol=%{y}<br>DD_percent=%{x}<br>DD=%{text}<extra></extra>",
         "legendgroup": "NVDA",
         "marker": {
          "color": "#FECB52",
          "pattern": {
           "shape": ""
          }
         },
         "name": "NVDA",
         "offsetgroup": "NVDA",
         "orientation": "h",
         "showlegend": true,
         "text": [
          "18.0"
         ],
         "textposition": "auto",
         "type": "bar",
         "x": [
          0.32727272727272727
         ],
         "xaxis": "x",
         "y": [
          "NVDA"
         ],
         "yaxis": "y"
        }
       ],
       "layout": {
        "barmode": "relative",
        "legend": {
         "title": {
          "text": "symbol"
         },
         "tracegroupgap": 0
        },
        "template": {
         "data": {
          "bar": [
           {
            "error_x": {
             "color": "#2a3f5f"
            },
            "error_y": {
             "color": "#2a3f5f"
            },
            "marker": {
             "line": {
              "color": "#E5ECF6",
              "width": 0.5
             },
             "pattern": {
              "fillmode": "overlay",
              "size": 10,
              "solidity": 0.2
             }
            },
            "type": "bar"
           }
          ],
          "barpolar": [
           {
            "marker": {
             "line": {
              "color": "#E5ECF6",
              "width": 0.5
             },
             "pattern": {
              "fillmode": "overlay",
              "size": 10,
              "solidity": 0.2
             }
            },
            "type": "barpolar"
           }
          ],
          "carpet": [
           {
            "aaxis": {
             "endlinecolor": "#2a3f5f",
             "gridcolor": "white",
             "linecolor": "white",
             "minorgridcolor": "white",
             "startlinecolor": "#2a3f5f"
            },
            "baxis": {
             "endlinecolor": "#2a3f5f",
             "gridcolor": "white",
             "linecolor": "white",
             "minorgridcolor": "white",
             "startlinecolor": "#2a3f5f"
            },
            "type": "carpet"
           }
          ],
          "choropleth": [
           {
            "colorbar": {
             "outlinewidth": 0,
             "ticks": ""
            },
            "type": "choropleth"
           }
          ],
          "contour": [
           {
            "colorbar": {
             "outlinewidth": 0,
             "ticks": ""
            },
            "colorscale": [
             [
              0,
              "#0d0887"
             ],
             [
              0.1111111111111111,
              "#46039f"
             ],
             [
              0.2222222222222222,
              "#7201a8"
             ],
             [
              0.3333333333333333,
              "#9c179e"
             ],
             [
              0.4444444444444444,
              "#bd3786"
             ],
             [
              0.5555555555555556,
              "#d8576b"
             ],
             [
              0.6666666666666666,
              "#ed7953"
             ],
             [
              0.7777777777777778,
              "#fb9f3a"
             ],
             [
              0.8888888888888888,
              "#fdca26"
             ],
             [
              1,
              "#f0f921"
             ]
            ],
            "type": "contour"
           }
          ],
          "contourcarpet": [
           {
            "colorbar": {
             "outlinewidth": 0,
             "ticks": ""
            },
            "type": "contourcarpet"
           }
          ],
          "heatmap": [
           {
            "colorbar": {
             "outlinewidth": 0,
             "ticks": ""
            },
            "colorscale": [
             [
              0,
              "#0d0887"
             ],
             [
              0.1111111111111111,
              "#46039f"
             ],
             [
              0.2222222222222222,
              "#7201a8"
             ],
             [
              0.3333333333333333,
              "#9c179e"
             ],
             [
              0.4444444444444444,
              "#bd3786"
             ],
             [
              0.5555555555555556,
              "#d8576b"
             ],
             [
              0.6666666666666666,
              "#ed7953"
             ],
             [
              0.7777777777777778,
              "#fb9f3a"
             ],
             [
              0.8888888888888888,
              "#fdca26"
             ],
             [
              1,
              "#f0f921"
             ]
            ],
            "type": "heatmap"
           }
          ],
          "heatmapgl": [
           {
            "colorbar": {
             "outlinewidth": 0,
             "ticks": ""
            },
            "colorscale": [
             [
              0,
              "#0d0887"
             ],
             [
              0.1111111111111111,
              "#46039f"
             ],
             [
              0.2222222222222222,
              "#7201a8"
             ],
             [
              0.3333333333333333,
              "#9c179e"
             ],
             [
              0.4444444444444444,
              "#bd3786"
             ],
             [
              0.5555555555555556,
              "#d8576b"
             ],
             [
              0.6666666666666666,
              "#ed7953"
             ],
             [
              0.7777777777777778,
              "#fb9f3a"
             ],
             [
              0.8888888888888888,
              "#fdca26"
             ],
             [
              1,
              "#f0f921"
             ]
            ],
            "type": "heatmapgl"
           }
          ],
          "histogram": [
           {
            "marker": {
             "pattern": {
              "fillmode": "overlay",
              "size": 10,
              "solidity": 0.2
             }
            },
            "type": "histogram"
           }
          ],
          "histogram2d": [
           {
            "colorbar": {
             "outlinewidth": 0,
             "ticks": ""
            },
            "colorscale": [
             [
              0,
              "#0d0887"
             ],
             [
              0.1111111111111111,
              "#46039f"
             ],
             [
              0.2222222222222222,
              "#7201a8"
             ],
             [
              0.3333333333333333,
              "#9c179e"
             ],
             [
              0.4444444444444444,
              "#bd3786"
             ],
             [
              0.5555555555555556,
              "#d8576b"
             ],
             [
              0.6666666666666666,
              "#ed7953"
             ],
             [
              0.7777777777777778,
              "#fb9f3a"
             ],
             [
              0.8888888888888888,
              "#fdca26"
             ],
             [
              1,
              "#f0f921"
             ]
            ],
            "type": "histogram2d"
           }
          ],
          "histogram2dcontour": [
           {
            "colorbar": {
             "outlinewidth": 0,
             "ticks": ""
            },
            "colorscale": [
             [
              0,
              "#0d0887"
             ],
             [
              0.1111111111111111,
              "#46039f"
             ],
             [
              0.2222222222222222,
              "#7201a8"
             ],
             [
              0.3333333333333333,
              "#9c179e"
             ],
             [
              0.4444444444444444,
              "#bd3786"
             ],
             [
              0.5555555555555556,
              "#d8576b"
             ],
             [
              0.6666666666666666,
              "#ed7953"
             ],
             [
              0.7777777777777778,
              "#fb9f3a"
             ],
             [
              0.8888888888888888,
              "#fdca26"
             ],
             [
              1,
              "#f0f921"
             ]
            ],
            "type": "histogram2dcontour"
           }
          ],
          "mesh3d": [
           {
            "colorbar": {
             "outlinewidth": 0,
             "ticks": ""
            },
            "type": "mesh3d"
           }
          ],
          "parcoords": [
           {
            "line": {
             "colorbar": {
              "outlinewidth": 0,
              "ticks": ""
             }
            },
            "type": "parcoords"
           }
          ],
          "pie": [
           {
            "automargin": true,
            "type": "pie"
           }
          ],
          "scatter": [
           {
            "marker": {
             "colorbar": {
              "outlinewidth": 0,
              "ticks": ""
             }
            },
            "type": "scatter"
           }
          ],
          "scatter3d": [
           {
            "line": {
             "colorbar": {
              "outlinewidth": 0,
              "ticks": ""
             }
            },
            "marker": {
             "colorbar": {
              "outlinewidth": 0,
              "ticks": ""
             }
            },
            "type": "scatter3d"
           }
          ],
          "scattercarpet": [
           {
            "marker": {
             "colorbar": {
              "outlinewidth": 0,
              "ticks": ""
             }
            },
            "type": "scattercarpet"
           }
          ],
          "scattergeo": [
           {
            "marker": {
             "colorbar": {
              "outlinewidth": 0,
              "ticks": ""
             }
            },
            "type": "scattergeo"
           }
          ],
          "scattergl": [
           {
            "marker": {
             "colorbar": {
              "outlinewidth": 0,
              "ticks": ""
             }
            },
            "type": "scattergl"
           }
          ],
          "scattermapbox": [
           {
            "marker": {
             "colorbar": {
              "outlinewidth": 0,
              "ticks": ""
             }
            },
            "type": "scattermapbox"
           }
          ],
          "scatterpolar": [
           {
            "marker": {
             "colorbar": {
              "outlinewidth": 0,
              "ticks": ""
             }
            },
            "type": "scatterpolar"
           }
          ],
          "scatterpolargl": [
           {
            "marker": {
             "colorbar": {
              "outlinewidth": 0,
              "ticks": ""
             }
            },
            "type": "scatterpolargl"
           }
          ],
          "scatterternary": [
           {
            "marker": {
             "colorbar": {
              "outlinewidth": 0,
              "ticks": ""
             }
            },
            "type": "scatterternary"
           }
          ],
          "surface": [
           {
            "colorbar": {
             "outlinewidth": 0,
             "ticks": ""
            },
            "colorscale": [
             [
              0,
              "#0d0887"
             ],
             [
              0.1111111111111111,
              "#46039f"
             ],
             [
              0.2222222222222222,
              "#7201a8"
             ],
             [
              0.3333333333333333,
              "#9c179e"
             ],
             [
              0.4444444444444444,
              "#bd3786"
             ],
             [
              0.5555555555555556,
              "#d8576b"
             ],
             [
              0.6666666666666666,
              "#ed7953"
             ],
             [
              0.7777777777777778,
              "#fb9f3a"
             ],
             [
              0.8888888888888888,
              "#fdca26"
             ],
             [
              1,
              "#f0f921"
             ]
            ],
            "type": "surface"
           }
          ],
          "table": [
           {
            "cells": {
             "fill": {
              "color": "#EBF0F8"
             },
             "line": {
              "color": "white"
             }
            },
            "header": {
             "fill": {
              "color": "#C8D4E3"
             },
             "line": {
              "color": "white"
             }
            },
            "type": "table"
           }
          ]
         },
         "layout": {
          "annotationdefaults": {
           "arrowcolor": "#2a3f5f",
           "arrowhead": 0,
           "arrowwidth": 1
          },
          "autotypenumbers": "strict",
          "coloraxis": {
           "colorbar": {
            "outlinewidth": 0,
            "ticks": ""
           }
          },
          "colorscale": {
           "diverging": [
            [
             0,
             "#8e0152"
            ],
            [
             0.1,
             "#c51b7d"
            ],
            [
             0.2,
             "#de77ae"
            ],
            [
             0.3,
             "#f1b6da"
            ],
            [
             0.4,
             "#fde0ef"
            ],
            [
             0.5,
             "#f7f7f7"
            ],
            [
             0.6,
             "#e6f5d0"
            ],
            [
             0.7,
             "#b8e186"
            ],
            [
             0.8,
             "#7fbc41"
            ],
            [
             0.9,
             "#4d9221"
            ],
            [
             1,
             "#276419"
            ]
           ],
           "sequential": [
            [
             0,
             "#0d0887"
            ],
            [
             0.1111111111111111,
             "#46039f"
            ],
            [
             0.2222222222222222,
             "#7201a8"
            ],
            [
             0.3333333333333333,
             "#9c179e"
            ],
            [
             0.4444444444444444,
             "#bd3786"
            ],
            [
             0.5555555555555556,
             "#d8576b"
            ],
            [
             0.6666666666666666,
             "#ed7953"
            ],
            [
             0.7777777777777778,
             "#fb9f3a"
            ],
            [
             0.8888888888888888,
             "#fdca26"
            ],
            [
             1,
             "#f0f921"
            ]
           ],
           "sequentialminus": [
            [
             0,
             "#0d0887"
            ],
            [
             0.1111111111111111,
             "#46039f"
            ],
            [
             0.2222222222222222,
             "#7201a8"
            ],
            [
             0.3333333333333333,
             "#9c179e"
            ],
            [
             0.4444444444444444,
             "#bd3786"
            ],
            [
             0.5555555555555556,
             "#d8576b"
            ],
            [
             0.6666666666666666,
             "#ed7953"
            ],
            [
             0.7777777777777778,
             "#fb9f3a"
            ],
            [
             0.8888888888888888,
             "#fdca26"
            ],
            [
             1,
             "#f0f921"
            ]
           ]
          },
          "colorway": [
           "#636efa",
           "#EF553B",
           "#00cc96",
           "#ab63fa",
           "#FFA15A",
           "#19d3f3",
           "#FF6692",
           "#B6E880",
           "#FF97FF",
           "#FECB52"
          ],
          "font": {
           "color": "#2a3f5f"
          },
          "geo": {
           "bgcolor": "white",
           "lakecolor": "white",
           "landcolor": "#E5ECF6",
           "showlakes": true,
           "showland": true,
           "subunitcolor": "white"
          },
          "hoverlabel": {
           "align": "left"
          },
          "hovermode": "closest",
          "mapbox": {
           "style": "light"
          },
          "paper_bgcolor": "white",
          "plot_bgcolor": "#E5ECF6",
          "polar": {
           "angularaxis": {
            "gridcolor": "white",
            "linecolor": "white",
            "ticks": ""
           },
           "bgcolor": "#E5ECF6",
           "radialaxis": {
            "gridcolor": "white",
            "linecolor": "white",
            "ticks": ""
           }
          },
          "scene": {
           "xaxis": {
            "backgroundcolor": "#E5ECF6",
            "gridcolor": "white",
            "gridwidth": 2,
            "linecolor": "white",
            "showbackground": true,
            "ticks": "",
            "zerolinecolor": "white"
           },
           "yaxis": {
            "backgroundcolor": "#E5ECF6",
            "gridcolor": "white",
            "gridwidth": 2,
            "linecolor": "white",
            "showbackground": true,
            "ticks": "",
            "zerolinecolor": "white"
           },
           "zaxis": {
            "backgroundcolor": "#E5ECF6",
            "gridcolor": "white",
            "gridwidth": 2,
            "linecolor": "white",
            "showbackground": true,
            "ticks": "",
            "zerolinecolor": "white"
           }
          },
          "shapedefaults": {
           "line": {
            "color": "#2a3f5f"
           }
          },
          "ternary": {
           "aaxis": {
            "gridcolor": "white",
            "linecolor": "white",
            "ticks": ""
           },
           "baxis": {
            "gridcolor": "white",
            "linecolor": "white",
            "ticks": ""
           },
           "bgcolor": "#E5ECF6",
           "caxis": {
            "gridcolor": "white",
            "linecolor": "white",
            "ticks": ""
           }
          },
          "title": {
           "x": 0.05
          },
          "xaxis": {
           "automargin": true,
           "gridcolor": "white",
           "linecolor": "white",
           "ticks": "",
           "title": {
            "standoff": 15
           },
           "zerolinecolor": "white",
           "zerolinewidth": 2
          },
          "yaxis": {
           "automargin": true,
           "gridcolor": "white",
           "linecolor": "white",
           "ticks": "",
           "title": {
            "standoff": 15
           },
           "zerolinecolor": "white",
           "zerolinewidth": 2
          }
         }
        },
        "title": {
         "text": "Top DD Stocks"
        },
        "xaxis": {
         "anchor": "y",
         "domain": [
          0,
          1
         ],
         "title": {
          "text": "DD_percent"
         }
        },
        "yaxis": {
         "anchor": "x",
         "categoryarray": [
          "NVDA",
          "SKLZ",
          "WELL",
          "BABA",
          "XL",
          "ASO",
          "GOEV",
          "AMZN",
          "WWE",
          "AAPL",
          "SP",
          "LNG",
          "JP",
          "IP",
          "TWNK",
          "GM",
          "OI",
          "MA",
          "BP",
          "UPS"
         ],
         "categoryorder": "array",
         "domain": [
          0,
          1
         ],
         "title": {
          "text": "symbol"
         }
        }
       }
      },
      "text/html": [
       "<div>                            <div id=\"5425008d-e7ab-4ac3-97b5-81857beeca71\" class=\"plotly-graph-div\" style=\"height:525px; width:100%;\"></div>            <script type=\"text/javascript\">                require([\"plotly\"], function(Plotly) {                    window.PLOTLYENV=window.PLOTLYENV || {};                                    if (document.getElementById(\"5425008d-e7ab-4ac3-97b5-81857beeca71\")) {                    Plotly.newPlot(                        \"5425008d-e7ab-4ac3-97b5-81857beeca71\",                        [{\"alignmentgroup\":\"True\",\"hovertemplate\":\"symbol=%{y}<br>DD_percent=%{x}<br>DD=%{text}<extra></extra>\",\"legendgroup\":\"UPS\",\"marker\":{\"color\":\"#636efa\",\"pattern\":{\"shape\":\"\"}},\"name\":\"UPS\",\"offsetgroup\":\"UPS\",\"orientation\":\"h\",\"showlegend\":true,\"text\":[\"40.0\"],\"textposition\":\"auto\",\"type\":\"bar\",\"x\":[0.6666666666666666],\"xaxis\":\"x\",\"y\":[\"UPS\"],\"yaxis\":\"y\"},{\"alignmentgroup\":\"True\",\"hovertemplate\":\"symbol=%{y}<br>DD_percent=%{x}<br>DD=%{text}<extra></extra>\",\"legendgroup\":\"BP\",\"marker\":{\"color\":\"#EF553B\",\"pattern\":{\"shape\":\"\"}},\"name\":\"BP\",\"offsetgroup\":\"BP\",\"orientation\":\"h\",\"showlegend\":true,\"text\":[\"34.0\"],\"textposition\":\"auto\",\"type\":\"bar\",\"x\":[0.5862068965517241],\"xaxis\":\"x\",\"y\":[\"BP\"],\"yaxis\":\"y\"},{\"alignmentgroup\":\"True\",\"hovertemplate\":\"symbol=%{y}<br>DD_percent=%{x}<br>DD=%{text}<extra></extra>\",\"legendgroup\":\"MA\",\"marker\":{\"color\":\"#00cc96\",\"pattern\":{\"shape\":\"\"}},\"name\":\"MA\",\"offsetgroup\":\"MA\",\"orientation\":\"h\",\"showlegend\":true,\"text\":[\"27.0\"],\"textposition\":\"auto\",\"type\":\"bar\",\"x\":[0.574468085106383],\"xaxis\":\"x\",\"y\":[\"MA\"],\"yaxis\":\"y\"},{\"alignmentgroup\":\"True\",\"hovertemplate\":\"symbol=%{y}<br>DD_percent=%{x}<br>DD=%{text}<extra></extra>\",\"legendgroup\":\"OI\",\"marker\":{\"color\":\"#ab63fa\",\"pattern\":{\"shape\":\"\"}},\"name\":\"OI\",\"offsetgroup\":\"OI\",\"orientation\":\"h\",\"showlegend\":true,\"text\":[\"34.0\"],\"textposition\":\"auto\",\"type\":\"bar\",\"x\":[0.5396825396825397],\"xaxis\":\"x\",\"y\":[\"OI\"],\"yaxis\":\"y\"},{\"alignmentgroup\":\"True\",\"hovertemplate\":\"symbol=%{y}<br>DD_percent=%{x}<br>DD=%{text}<extra></extra>\",\"legendgroup\":\"GM\",\"marker\":{\"color\":\"#FFA15A\",\"pattern\":{\"shape\":\"\"}},\"name\":\"GM\",\"offsetgroup\":\"GM\",\"orientation\":\"h\",\"showlegend\":true,\"text\":[\"55.0\"],\"textposition\":\"auto\",\"type\":\"bar\",\"x\":[0.5288461538461539],\"xaxis\":\"x\",\"y\":[\"GM\"],\"yaxis\":\"y\"},{\"alignmentgroup\":\"True\",\"hovertemplate\":\"symbol=%{y}<br>DD_percent=%{x}<br>DD=%{text}<extra></extra>\",\"legendgroup\":\"TWNK\",\"marker\":{\"color\":\"#19d3f3\",\"pattern\":{\"shape\":\"\"}},\"name\":\"TWNK\",\"offsetgroup\":\"TWNK\",\"orientation\":\"h\",\"showlegend\":true,\"text\":[\"34.0\"],\"textposition\":\"auto\",\"type\":\"bar\",\"x\":[0.5230769230769231],\"xaxis\":\"x\",\"y\":[\"TWNK\"],\"yaxis\":\"y\"},{\"alignmentgroup\":\"True\",\"hovertemplate\":\"symbol=%{y}<br>DD_percent=%{x}<br>DD=%{text}<extra></extra>\",\"legendgroup\":\"IP\",\"marker\":{\"color\":\"#FF6692\",\"pattern\":{\"shape\":\"\"}},\"name\":\"IP\",\"offsetgroup\":\"IP\",\"orientation\":\"h\",\"showlegend\":true,\"text\":[\"22.0\"],\"textposition\":\"auto\",\"type\":\"bar\",\"x\":[0.5116279069767442],\"xaxis\":\"x\",\"y\":[\"IP\"],\"yaxis\":\"y\"},{\"alignmentgroup\":\"True\",\"hovertemplate\":\"symbol=%{y}<br>DD_percent=%{x}<br>DD=%{text}<extra></extra>\",\"legendgroup\":\"JP\",\"marker\":{\"color\":\"#B6E880\",\"pattern\":{\"shape\":\"\"}},\"name\":\"JP\",\"offsetgroup\":\"JP\",\"orientation\":\"h\",\"showlegend\":true,\"text\":[\"25.0\"],\"textposition\":\"auto\",\"type\":\"bar\",\"x\":[0.4716981132075472],\"xaxis\":\"x\",\"y\":[\"JP\"],\"yaxis\":\"y\"},{\"alignmentgroup\":\"True\",\"hovertemplate\":\"symbol=%{y}<br>DD_percent=%{x}<br>DD=%{text}<extra></extra>\",\"legendgroup\":\"LNG\",\"marker\":{\"color\":\"#FF97FF\",\"pattern\":{\"shape\":\"\"}},\"name\":\"LNG\",\"offsetgroup\":\"LNG\",\"orientation\":\"h\",\"showlegend\":true,\"text\":[\"21.0\"],\"textposition\":\"auto\",\"type\":\"bar\",\"x\":[0.42857142857142855],\"xaxis\":\"x\",\"y\":[\"LNG\"],\"yaxis\":\"y\"},{\"alignmentgroup\":\"True\",\"hovertemplate\":\"symbol=%{y}<br>DD_percent=%{x}<br>DD=%{text}<extra></extra>\",\"legendgroup\":\"SP\",\"marker\":{\"color\":\"#FECB52\",\"pattern\":{\"shape\":\"\"}},\"name\":\"SP\",\"offsetgroup\":\"SP\",\"orientation\":\"h\",\"showlegend\":true,\"text\":[\"21.0\"],\"textposition\":\"auto\",\"type\":\"bar\",\"x\":[0.42],\"xaxis\":\"x\",\"y\":[\"SP\"],\"yaxis\":\"y\"},{\"alignmentgroup\":\"True\",\"hovertemplate\":\"symbol=%{y}<br>DD_percent=%{x}<br>DD=%{text}<extra></extra>\",\"legendgroup\":\"AAPL\",\"marker\":{\"color\":\"#636efa\",\"pattern\":{\"shape\":\"\"}},\"name\":\"AAPL\",\"offsetgroup\":\"AAPL\",\"orientation\":\"h\",\"showlegend\":true,\"text\":[\"21.0\"],\"textposition\":\"auto\",\"type\":\"bar\",\"x\":[0.42],\"xaxis\":\"x\",\"y\":[\"AAPL\"],\"yaxis\":\"y\"},{\"alignmentgroup\":\"True\",\"hovertemplate\":\"symbol=%{y}<br>DD_percent=%{x}<br>DD=%{text}<extra></extra>\",\"legendgroup\":\"WWE\",\"marker\":{\"color\":\"#EF553B\",\"pattern\":{\"shape\":\"\"}},\"name\":\"WWE\",\"offsetgroup\":\"WWE\",\"orientation\":\"h\",\"showlegend\":true,\"text\":[\"26.0\"],\"textposition\":\"auto\",\"type\":\"bar\",\"x\":[0.4126984126984127],\"xaxis\":\"x\",\"y\":[\"WWE\"],\"yaxis\":\"y\"},{\"alignmentgroup\":\"True\",\"hovertemplate\":\"symbol=%{y}<br>DD_percent=%{x}<br>DD=%{text}<extra></extra>\",\"legendgroup\":\"AMZN\",\"marker\":{\"color\":\"#00cc96\",\"pattern\":{\"shape\":\"\"}},\"name\":\"AMZN\",\"offsetgroup\":\"AMZN\",\"orientation\":\"h\",\"showlegend\":true,\"text\":[\"34.0\"],\"textposition\":\"auto\",\"type\":\"bar\",\"x\":[0.40963855421686746],\"xaxis\":\"x\",\"y\":[\"AMZN\"],\"yaxis\":\"y\"},{\"alignmentgroup\":\"True\",\"hovertemplate\":\"symbol=%{y}<br>DD_percent=%{x}<br>DD=%{text}<extra></extra>\",\"legendgroup\":\"GOEV\",\"marker\":{\"color\":\"#ab63fa\",\"pattern\":{\"shape\":\"\"}},\"name\":\"GOEV\",\"offsetgroup\":\"GOEV\",\"orientation\":\"h\",\"showlegend\":true,\"text\":[\"44.0\"],\"textposition\":\"auto\",\"type\":\"bar\",\"x\":[0.36666666666666664],\"xaxis\":\"x\",\"y\":[\"GOEV\"],\"yaxis\":\"y\"},{\"alignmentgroup\":\"True\",\"hovertemplate\":\"symbol=%{y}<br>DD_percent=%{x}<br>DD=%{text}<extra></extra>\",\"legendgroup\":\"ASO\",\"marker\":{\"color\":\"#FFA15A\",\"pattern\":{\"shape\":\"\"}},\"name\":\"ASO\",\"offsetgroup\":\"ASO\",\"orientation\":\"h\",\"showlegend\":true,\"text\":[\"59.0\"],\"textposition\":\"auto\",\"type\":\"bar\",\"x\":[0.3597560975609756],\"xaxis\":\"x\",\"y\":[\"ASO\"],\"yaxis\":\"y\"},{\"alignmentgroup\":\"True\",\"hovertemplate\":\"symbol=%{y}<br>DD_percent=%{x}<br>DD=%{text}<extra></extra>\",\"legendgroup\":\"XL\",\"marker\":{\"color\":\"#19d3f3\",\"pattern\":{\"shape\":\"\"}},\"name\":\"XL\",\"offsetgroup\":\"XL\",\"orientation\":\"h\",\"showlegend\":true,\"text\":[\"21.0\"],\"textposition\":\"auto\",\"type\":\"bar\",\"x\":[0.35],\"xaxis\":\"x\",\"y\":[\"XL\"],\"yaxis\":\"y\"},{\"alignmentgroup\":\"True\",\"hovertemplate\":\"symbol=%{y}<br>DD_percent=%{x}<br>DD=%{text}<extra></extra>\",\"legendgroup\":\"BABA\",\"marker\":{\"color\":\"#FF6692\",\"pattern\":{\"shape\":\"\"}},\"name\":\"BABA\",\"offsetgroup\":\"BABA\",\"orientation\":\"h\",\"showlegend\":true,\"text\":[\"18.0\"],\"textposition\":\"auto\",\"type\":\"bar\",\"x\":[0.33962264150943394],\"xaxis\":\"x\",\"y\":[\"BABA\"],\"yaxis\":\"y\"},{\"alignmentgroup\":\"True\",\"hovertemplate\":\"symbol=%{y}<br>DD_percent=%{x}<br>DD=%{text}<extra></extra>\",\"legendgroup\":\"WELL\",\"marker\":{\"color\":\"#B6E880\",\"pattern\":{\"shape\":\"\"}},\"name\":\"WELL\",\"offsetgroup\":\"WELL\",\"orientation\":\"h\",\"showlegend\":true,\"text\":[\"24.0\"],\"textposition\":\"auto\",\"type\":\"bar\",\"x\":[0.3380281690140845],\"xaxis\":\"x\",\"y\":[\"WELL\"],\"yaxis\":\"y\"},{\"alignmentgroup\":\"True\",\"hovertemplate\":\"symbol=%{y}<br>DD_percent=%{x}<br>DD=%{text}<extra></extra>\",\"legendgroup\":\"SKLZ\",\"marker\":{\"color\":\"#FF97FF\",\"pattern\":{\"shape\":\"\"}},\"name\":\"SKLZ\",\"offsetgroup\":\"SKLZ\",\"orientation\":\"h\",\"showlegend\":true,\"text\":[\"20.0\"],\"textposition\":\"auto\",\"type\":\"bar\",\"x\":[0.32786885245901637],\"xaxis\":\"x\",\"y\":[\"SKLZ\"],\"yaxis\":\"y\"},{\"alignmentgroup\":\"True\",\"hovertemplate\":\"symbol=%{y}<br>DD_percent=%{x}<br>DD=%{text}<extra></extra>\",\"legendgroup\":\"NVDA\",\"marker\":{\"color\":\"#FECB52\",\"pattern\":{\"shape\":\"\"}},\"name\":\"NVDA\",\"offsetgroup\":\"NVDA\",\"orientation\":\"h\",\"showlegend\":true,\"text\":[\"18.0\"],\"textposition\":\"auto\",\"type\":\"bar\",\"x\":[0.32727272727272727],\"xaxis\":\"x\",\"y\":[\"NVDA\"],\"yaxis\":\"y\"}],                        {\"barmode\":\"relative\",\"legend\":{\"title\":{\"text\":\"symbol\"},\"tracegroupgap\":0},\"template\":{\"data\":{\"bar\":[{\"error_x\":{\"color\":\"#2a3f5f\"},\"error_y\":{\"color\":\"#2a3f5f\"},\"marker\":{\"line\":{\"color\":\"#E5ECF6\",\"width\":0.5},\"pattern\":{\"fillmode\":\"overlay\",\"size\":10,\"solidity\":0.2}},\"type\":\"bar\"}],\"barpolar\":[{\"marker\":{\"line\":{\"color\":\"#E5ECF6\",\"width\":0.5},\"pattern\":{\"fillmode\":\"overlay\",\"size\":10,\"solidity\":0.2}},\"type\":\"barpolar\"}],\"carpet\":[{\"aaxis\":{\"endlinecolor\":\"#2a3f5f\",\"gridcolor\":\"white\",\"linecolor\":\"white\",\"minorgridcolor\":\"white\",\"startlinecolor\":\"#2a3f5f\"},\"baxis\":{\"endlinecolor\":\"#2a3f5f\",\"gridcolor\":\"white\",\"linecolor\":\"white\",\"minorgridcolor\":\"white\",\"startlinecolor\":\"#2a3f5f\"},\"type\":\"carpet\"}],\"choropleth\":[{\"colorbar\":{\"outlinewidth\":0,\"ticks\":\"\"},\"type\":\"choropleth\"}],\"contour\":[{\"colorbar\":{\"outlinewidth\":0,\"ticks\":\"\"},\"colorscale\":[[0.0,\"#0d0887\"],[0.1111111111111111,\"#46039f\"],[0.2222222222222222,\"#7201a8\"],[0.3333333333333333,\"#9c179e\"],[0.4444444444444444,\"#bd3786\"],[0.5555555555555556,\"#d8576b\"],[0.6666666666666666,\"#ed7953\"],[0.7777777777777778,\"#fb9f3a\"],[0.8888888888888888,\"#fdca26\"],[1.0,\"#f0f921\"]],\"type\":\"contour\"}],\"contourcarpet\":[{\"colorbar\":{\"outlinewidth\":0,\"ticks\":\"\"},\"type\":\"contourcarpet\"}],\"heatmap\":[{\"colorbar\":{\"outlinewidth\":0,\"ticks\":\"\"},\"colorscale\":[[0.0,\"#0d0887\"],[0.1111111111111111,\"#46039f\"],[0.2222222222222222,\"#7201a8\"],[0.3333333333333333,\"#9c179e\"],[0.4444444444444444,\"#bd3786\"],[0.5555555555555556,\"#d8576b\"],[0.6666666666666666,\"#ed7953\"],[0.7777777777777778,\"#fb9f3a\"],[0.8888888888888888,\"#fdca26\"],[1.0,\"#f0f921\"]],\"type\":\"heatmap\"}],\"heatmapgl\":[{\"colorbar\":{\"outlinewidth\":0,\"ticks\":\"\"},\"colorscale\":[[0.0,\"#0d0887\"],[0.1111111111111111,\"#46039f\"],[0.2222222222222222,\"#7201a8\"],[0.3333333333333333,\"#9c179e\"],[0.4444444444444444,\"#bd3786\"],[0.5555555555555556,\"#d8576b\"],[0.6666666666666666,\"#ed7953\"],[0.7777777777777778,\"#fb9f3a\"],[0.8888888888888888,\"#fdca26\"],[1.0,\"#f0f921\"]],\"type\":\"heatmapgl\"}],\"histogram\":[{\"marker\":{\"pattern\":{\"fillmode\":\"overlay\",\"size\":10,\"solidity\":0.2}},\"type\":\"histogram\"}],\"histogram2d\":[{\"colorbar\":{\"outlinewidth\":0,\"ticks\":\"\"},\"colorscale\":[[0.0,\"#0d0887\"],[0.1111111111111111,\"#46039f\"],[0.2222222222222222,\"#7201a8\"],[0.3333333333333333,\"#9c179e\"],[0.4444444444444444,\"#bd3786\"],[0.5555555555555556,\"#d8576b\"],[0.6666666666666666,\"#ed7953\"],[0.7777777777777778,\"#fb9f3a\"],[0.8888888888888888,\"#fdca26\"],[1.0,\"#f0f921\"]],\"type\":\"histogram2d\"}],\"histogram2dcontour\":[{\"colorbar\":{\"outlinewidth\":0,\"ticks\":\"\"},\"colorscale\":[[0.0,\"#0d0887\"],[0.1111111111111111,\"#46039f\"],[0.2222222222222222,\"#7201a8\"],[0.3333333333333333,\"#9c179e\"],[0.4444444444444444,\"#bd3786\"],[0.5555555555555556,\"#d8576b\"],[0.6666666666666666,\"#ed7953\"],[0.7777777777777778,\"#fb9f3a\"],[0.8888888888888888,\"#fdca26\"],[1.0,\"#f0f921\"]],\"type\":\"histogram2dcontour\"}],\"mesh3d\":[{\"colorbar\":{\"outlinewidth\":0,\"ticks\":\"\"},\"type\":\"mesh3d\"}],\"parcoords\":[{\"line\":{\"colorbar\":{\"outlinewidth\":0,\"ticks\":\"\"}},\"type\":\"parcoords\"}],\"pie\":[{\"automargin\":true,\"type\":\"pie\"}],\"scatter\":[{\"marker\":{\"colorbar\":{\"outlinewidth\":0,\"ticks\":\"\"}},\"type\":\"scatter\"}],\"scatter3d\":[{\"line\":{\"colorbar\":{\"outlinewidth\":0,\"ticks\":\"\"}},\"marker\":{\"colorbar\":{\"outlinewidth\":0,\"ticks\":\"\"}},\"type\":\"scatter3d\"}],\"scattercarpet\":[{\"marker\":{\"colorbar\":{\"outlinewidth\":0,\"ticks\":\"\"}},\"type\":\"scattercarpet\"}],\"scattergeo\":[{\"marker\":{\"colorbar\":{\"outlinewidth\":0,\"ticks\":\"\"}},\"type\":\"scattergeo\"}],\"scattergl\":[{\"marker\":{\"colorbar\":{\"outlinewidth\":0,\"ticks\":\"\"}},\"type\":\"scattergl\"}],\"scattermapbox\":[{\"marker\":{\"colorbar\":{\"outlinewidth\":0,\"ticks\":\"\"}},\"type\":\"scattermapbox\"}],\"scatterpolar\":[{\"marker\":{\"colorbar\":{\"outlinewidth\":0,\"ticks\":\"\"}},\"type\":\"scatterpolar\"}],\"scatterpolargl\":[{\"marker\":{\"colorbar\":{\"outlinewidth\":0,\"ticks\":\"\"}},\"type\":\"scatterpolargl\"}],\"scatterternary\":[{\"marker\":{\"colorbar\":{\"outlinewidth\":0,\"ticks\":\"\"}},\"type\":\"scatterternary\"}],\"surface\":[{\"colorbar\":{\"outlinewidth\":0,\"ticks\":\"\"},\"colorscale\":[[0.0,\"#0d0887\"],[0.1111111111111111,\"#46039f\"],[0.2222222222222222,\"#7201a8\"],[0.3333333333333333,\"#9c179e\"],[0.4444444444444444,\"#bd3786\"],[0.5555555555555556,\"#d8576b\"],[0.6666666666666666,\"#ed7953\"],[0.7777777777777778,\"#fb9f3a\"],[0.8888888888888888,\"#fdca26\"],[1.0,\"#f0f921\"]],\"type\":\"surface\"}],\"table\":[{\"cells\":{\"fill\":{\"color\":\"#EBF0F8\"},\"line\":{\"color\":\"white\"}},\"header\":{\"fill\":{\"color\":\"#C8D4E3\"},\"line\":{\"color\":\"white\"}},\"type\":\"table\"}]},\"layout\":{\"annotationdefaults\":{\"arrowcolor\":\"#2a3f5f\",\"arrowhead\":0,\"arrowwidth\":1},\"autotypenumbers\":\"strict\",\"coloraxis\":{\"colorbar\":{\"outlinewidth\":0,\"ticks\":\"\"}},\"colorscale\":{\"diverging\":[[0,\"#8e0152\"],[0.1,\"#c51b7d\"],[0.2,\"#de77ae\"],[0.3,\"#f1b6da\"],[0.4,\"#fde0ef\"],[0.5,\"#f7f7f7\"],[0.6,\"#e6f5d0\"],[0.7,\"#b8e186\"],[0.8,\"#7fbc41\"],[0.9,\"#4d9221\"],[1,\"#276419\"]],\"sequential\":[[0.0,\"#0d0887\"],[0.1111111111111111,\"#46039f\"],[0.2222222222222222,\"#7201a8\"],[0.3333333333333333,\"#9c179e\"],[0.4444444444444444,\"#bd3786\"],[0.5555555555555556,\"#d8576b\"],[0.6666666666666666,\"#ed7953\"],[0.7777777777777778,\"#fb9f3a\"],[0.8888888888888888,\"#fdca26\"],[1.0,\"#f0f921\"]],\"sequentialminus\":[[0.0,\"#0d0887\"],[0.1111111111111111,\"#46039f\"],[0.2222222222222222,\"#7201a8\"],[0.3333333333333333,\"#9c179e\"],[0.4444444444444444,\"#bd3786\"],[0.5555555555555556,\"#d8576b\"],[0.6666666666666666,\"#ed7953\"],[0.7777777777777778,\"#fb9f3a\"],[0.8888888888888888,\"#fdca26\"],[1.0,\"#f0f921\"]]},\"colorway\":[\"#636efa\",\"#EF553B\",\"#00cc96\",\"#ab63fa\",\"#FFA15A\",\"#19d3f3\",\"#FF6692\",\"#B6E880\",\"#FF97FF\",\"#FECB52\"],\"font\":{\"color\":\"#2a3f5f\"},\"geo\":{\"bgcolor\":\"white\",\"lakecolor\":\"white\",\"landcolor\":\"#E5ECF6\",\"showlakes\":true,\"showland\":true,\"subunitcolor\":\"white\"},\"hoverlabel\":{\"align\":\"left\"},\"hovermode\":\"closest\",\"mapbox\":{\"style\":\"light\"},\"paper_bgcolor\":\"white\",\"plot_bgcolor\":\"#E5ECF6\",\"polar\":{\"angularaxis\":{\"gridcolor\":\"white\",\"linecolor\":\"white\",\"ticks\":\"\"},\"bgcolor\":\"#E5ECF6\",\"radialaxis\":{\"gridcolor\":\"white\",\"linecolor\":\"white\",\"ticks\":\"\"}},\"scene\":{\"xaxis\":{\"backgroundcolor\":\"#E5ECF6\",\"gridcolor\":\"white\",\"gridwidth\":2,\"linecolor\":\"white\",\"showbackground\":true,\"ticks\":\"\",\"zerolinecolor\":\"white\"},\"yaxis\":{\"backgroundcolor\":\"#E5ECF6\",\"gridcolor\":\"white\",\"gridwidth\":2,\"linecolor\":\"white\",\"showbackground\":true,\"ticks\":\"\",\"zerolinecolor\":\"white\"},\"zaxis\":{\"backgroundcolor\":\"#E5ECF6\",\"gridcolor\":\"white\",\"gridwidth\":2,\"linecolor\":\"white\",\"showbackground\":true,\"ticks\":\"\",\"zerolinecolor\":\"white\"}},\"shapedefaults\":{\"line\":{\"color\":\"#2a3f5f\"}},\"ternary\":{\"aaxis\":{\"gridcolor\":\"white\",\"linecolor\":\"white\",\"ticks\":\"\"},\"baxis\":{\"gridcolor\":\"white\",\"linecolor\":\"white\",\"ticks\":\"\"},\"bgcolor\":\"#E5ECF6\",\"caxis\":{\"gridcolor\":\"white\",\"linecolor\":\"white\",\"ticks\":\"\"}},\"title\":{\"x\":0.05},\"xaxis\":{\"automargin\":true,\"gridcolor\":\"white\",\"linecolor\":\"white\",\"ticks\":\"\",\"title\":{\"standoff\":15},\"zerolinecolor\":\"white\",\"zerolinewidth\":2},\"yaxis\":{\"automargin\":true,\"gridcolor\":\"white\",\"linecolor\":\"white\",\"ticks\":\"\",\"title\":{\"standoff\":15},\"zerolinecolor\":\"white\",\"zerolinewidth\":2}}},\"title\":{\"text\":\"Top DD Stocks\"},\"xaxis\":{\"anchor\":\"y\",\"domain\":[0.0,1.0],\"title\":{\"text\":\"DD_percent\"}},\"yaxis\":{\"anchor\":\"x\",\"categoryarray\":[\"NVDA\",\"SKLZ\",\"WELL\",\"BABA\",\"XL\",\"ASO\",\"GOEV\",\"AMZN\",\"WWE\",\"AAPL\",\"SP\",\"LNG\",\"JP\",\"IP\",\"TWNK\",\"GM\",\"OI\",\"MA\",\"BP\",\"UPS\"],\"categoryorder\":\"array\",\"domain\":[0.0,1.0],\"title\":{\"text\":\"symbol\"}}},                        {\"responsive\": true}                    ).then(function(){\n",
       "                            \n",
       "var gd = document.getElementById('5425008d-e7ab-4ac3-97b5-81857beeca71');\n",
       "var x = new MutationObserver(function (mutations, observer) {{\n",
       "        var display = window.getComputedStyle(gd).display;\n",
       "        if (!display || display === 'none') {{\n",
       "            console.log([gd, 'removed!']);\n",
       "            Plotly.purge(gd);\n",
       "            observer.disconnect();\n",
       "        }}\n",
       "}});\n",
       "\n",
       "// Listen for the removal of the full notebook cells\n",
       "var notebookContainer = gd.closest('#notebook-container');\n",
       "if (notebookContainer) {{\n",
       "    x.observe(notebookContainer, {childList: true});\n",
       "}}\n",
       "\n",
       "// Listen for the clearing of the current output cell\n",
       "var outputEl = gd.closest('.output');\n",
       "if (outputEl) {{\n",
       "    x.observe(outputEl, {childList: true});\n",
       "}}\n",
       "\n",
       "                        })                };                });            </script>        </div>"
      ]
     },
     "metadata": {},
     "output_type": "display_data"
    }
   ],
   "source": [
    "fig = px.bar(dd_symbols[0:20], x=\"DD_percent\", y=\"symbol\", color='symbol', orientation='h', text='DD', title='Top DD Stocks')\n",
    "fig.show()"
   ]
  },
  {
   "cell_type": "code",
   "execution_count": 320,
   "id": "9a88bf0e",
   "metadata": {},
   "outputs": [
    {
     "data": {
      "text/html": [
       "<div>\n",
       "<style scoped>\n",
       "    .dataframe tbody tr th:only-of-type {\n",
       "        vertical-align: middle;\n",
       "    }\n",
       "\n",
       "    .dataframe tbody tr th {\n",
       "        vertical-align: top;\n",
       "    }\n",
       "\n",
       "    .dataframe thead th {\n",
       "        text-align: right;\n",
       "    }\n",
       "</style>\n",
       "<table border=\"1\" class=\"dataframe\">\n",
       "  <thead>\n",
       "    <tr style=\"text-align: right;\">\n",
       "      <th>flair</th>\n",
       "      <th>symbol</th>\n",
       "      <th>DD</th>\n",
       "      <th>Discussion</th>\n",
       "      <th>Gain</th>\n",
       "      <th>Loss</th>\n",
       "      <th>Meme</th>\n",
       "      <th>News</th>\n",
       "      <th>Shitpost</th>\n",
       "      <th>Technical Analysis</th>\n",
       "      <th>YOLO</th>\n",
       "      <th>total_posts</th>\n",
       "      <th>DD_percent</th>\n",
       "      <th>Meme_percent</th>\n",
       "      <th>Gain_percent</th>\n",
       "      <th>Loss_percent</th>\n",
       "    </tr>\n",
       "  </thead>\n",
       "  <tbody>\n",
       "    <tr>\n",
       "      <th>0</th>\n",
       "      <td>BLNK</td>\n",
       "      <td>7.0</td>\n",
       "      <td>5.0</td>\n",
       "      <td>1.0</td>\n",
       "      <td>1.0</td>\n",
       "      <td>9.0</td>\n",
       "      <td>2.0</td>\n",
       "      <td>0.0</td>\n",
       "      <td>1.0</td>\n",
       "      <td>10.0</td>\n",
       "      <td>36.0</td>\n",
       "      <td>0.194444</td>\n",
       "      <td>0.250000</td>\n",
       "      <td>0.027778</td>\n",
       "      <td>0.027778</td>\n",
       "    </tr>\n",
       "    <tr>\n",
       "      <th>1</th>\n",
       "      <td>TWNK</td>\n",
       "      <td>34.0</td>\n",
       "      <td>8.0</td>\n",
       "      <td>3.0</td>\n",
       "      <td>1.0</td>\n",
       "      <td>14.0</td>\n",
       "      <td>0.0</td>\n",
       "      <td>0.0</td>\n",
       "      <td>1.0</td>\n",
       "      <td>4.0</td>\n",
       "      <td>65.0</td>\n",
       "      <td>0.523077</td>\n",
       "      <td>0.215385</td>\n",
       "      <td>0.046154</td>\n",
       "      <td>0.015385</td>\n",
       "    </tr>\n",
       "    <tr>\n",
       "      <th>2</th>\n",
       "      <td>BABA</td>\n",
       "      <td>18.0</td>\n",
       "      <td>7.0</td>\n",
       "      <td>2.0</td>\n",
       "      <td>0.0</td>\n",
       "      <td>7.0</td>\n",
       "      <td>1.0</td>\n",
       "      <td>0.0</td>\n",
       "      <td>5.0</td>\n",
       "      <td>13.0</td>\n",
       "      <td>53.0</td>\n",
       "      <td>0.339623</td>\n",
       "      <td>0.132075</td>\n",
       "      <td>0.037736</td>\n",
       "      <td>0.000000</td>\n",
       "    </tr>\n",
       "    <tr>\n",
       "      <th>3</th>\n",
       "      <td>WPG</td>\n",
       "      <td>5.0</td>\n",
       "      <td>9.0</td>\n",
       "      <td>5.0</td>\n",
       "      <td>0.0</td>\n",
       "      <td>5.0</td>\n",
       "      <td>1.0</td>\n",
       "      <td>0.0</td>\n",
       "      <td>3.0</td>\n",
       "      <td>11.0</td>\n",
       "      <td>39.0</td>\n",
       "      <td>0.128205</td>\n",
       "      <td>0.128205</td>\n",
       "      <td>0.128205</td>\n",
       "      <td>0.000000</td>\n",
       "    </tr>\n",
       "    <tr>\n",
       "      <th>4</th>\n",
       "      <td>VIAC</td>\n",
       "      <td>11.0</td>\n",
       "      <td>18.0</td>\n",
       "      <td>9.0</td>\n",
       "      <td>0.0</td>\n",
       "      <td>9.0</td>\n",
       "      <td>2.0</td>\n",
       "      <td>0.0</td>\n",
       "      <td>9.0</td>\n",
       "      <td>15.0</td>\n",
       "      <td>73.0</td>\n",
       "      <td>0.150685</td>\n",
       "      <td>0.123288</td>\n",
       "      <td>0.123288</td>\n",
       "      <td>0.000000</td>\n",
       "    </tr>\n",
       "    <tr>\n",
       "      <th>5</th>\n",
       "      <td>NOK</td>\n",
       "      <td>17.0</td>\n",
       "      <td>133.0</td>\n",
       "      <td>14.0</td>\n",
       "      <td>8.0</td>\n",
       "      <td>32.0</td>\n",
       "      <td>11.0</td>\n",
       "      <td>0.0</td>\n",
       "      <td>11.0</td>\n",
       "      <td>62.0</td>\n",
       "      <td>288.0</td>\n",
       "      <td>0.059028</td>\n",
       "      <td>0.111111</td>\n",
       "      <td>0.048611</td>\n",
       "      <td>0.027778</td>\n",
       "    </tr>\n",
       "    <tr>\n",
       "      <th>6</th>\n",
       "      <td>NKLA</td>\n",
       "      <td>13.0</td>\n",
       "      <td>23.0</td>\n",
       "      <td>4.0</td>\n",
       "      <td>0.0</td>\n",
       "      <td>6.0</td>\n",
       "      <td>4.0</td>\n",
       "      <td>0.0</td>\n",
       "      <td>3.0</td>\n",
       "      <td>5.0</td>\n",
       "      <td>58.0</td>\n",
       "      <td>0.224138</td>\n",
       "      <td>0.103448</td>\n",
       "      <td>0.068966</td>\n",
       "      <td>0.000000</td>\n",
       "    </tr>\n",
       "    <tr>\n",
       "      <th>7</th>\n",
       "      <td>SNDL</td>\n",
       "      <td>33.0</td>\n",
       "      <td>185.0</td>\n",
       "      <td>40.0</td>\n",
       "      <td>5.0</td>\n",
       "      <td>47.0</td>\n",
       "      <td>11.0</td>\n",
       "      <td>0.0</td>\n",
       "      <td>20.0</td>\n",
       "      <td>123.0</td>\n",
       "      <td>464.0</td>\n",
       "      <td>0.071121</td>\n",
       "      <td>0.101293</td>\n",
       "      <td>0.086207</td>\n",
       "      <td>0.010776</td>\n",
       "    </tr>\n",
       "    <tr>\n",
       "      <th>8</th>\n",
       "      <td>SDC</td>\n",
       "      <td>5.0</td>\n",
       "      <td>18.0</td>\n",
       "      <td>6.0</td>\n",
       "      <td>3.0</td>\n",
       "      <td>6.0</td>\n",
       "      <td>2.0</td>\n",
       "      <td>0.0</td>\n",
       "      <td>2.0</td>\n",
       "      <td>19.0</td>\n",
       "      <td>61.0</td>\n",
       "      <td>0.081967</td>\n",
       "      <td>0.098361</td>\n",
       "      <td>0.098361</td>\n",
       "      <td>0.049180</td>\n",
       "    </tr>\n",
       "    <tr>\n",
       "      <th>9</th>\n",
       "      <td>WOOF</td>\n",
       "      <td>26.0</td>\n",
       "      <td>40.0</td>\n",
       "      <td>14.0</td>\n",
       "      <td>1.0</td>\n",
       "      <td>13.0</td>\n",
       "      <td>1.0</td>\n",
       "      <td>0.0</td>\n",
       "      <td>4.0</td>\n",
       "      <td>36.0</td>\n",
       "      <td>135.0</td>\n",
       "      <td>0.192593</td>\n",
       "      <td>0.096296</td>\n",
       "      <td>0.103704</td>\n",
       "      <td>0.007407</td>\n",
       "    </tr>\n",
       "  </tbody>\n",
       "</table>\n",
       "</div>"
      ],
      "text/plain": [
       "flair symbol    DD  Discussion  Gain  Loss  Meme  News  Shitpost  \\\n",
       "0       BLNK   7.0         5.0   1.0   1.0   9.0   2.0       0.0   \n",
       "1       TWNK  34.0         8.0   3.0   1.0  14.0   0.0       0.0   \n",
       "2       BABA  18.0         7.0   2.0   0.0   7.0   1.0       0.0   \n",
       "3        WPG   5.0         9.0   5.0   0.0   5.0   1.0       0.0   \n",
       "4       VIAC  11.0        18.0   9.0   0.0   9.0   2.0       0.0   \n",
       "5        NOK  17.0       133.0  14.0   8.0  32.0  11.0       0.0   \n",
       "6       NKLA  13.0        23.0   4.0   0.0   6.0   4.0       0.0   \n",
       "7       SNDL  33.0       185.0  40.0   5.0  47.0  11.0       0.0   \n",
       "8        SDC   5.0        18.0   6.0   3.0   6.0   2.0       0.0   \n",
       "9       WOOF  26.0        40.0  14.0   1.0  13.0   1.0       0.0   \n",
       "\n",
       "flair  Technical Analysis   YOLO  total_posts  DD_percent  Meme_percent  \\\n",
       "0                     1.0   10.0         36.0    0.194444      0.250000   \n",
       "1                     1.0    4.0         65.0    0.523077      0.215385   \n",
       "2                     5.0   13.0         53.0    0.339623      0.132075   \n",
       "3                     3.0   11.0         39.0    0.128205      0.128205   \n",
       "4                     9.0   15.0         73.0    0.150685      0.123288   \n",
       "5                    11.0   62.0        288.0    0.059028      0.111111   \n",
       "6                     3.0    5.0         58.0    0.224138      0.103448   \n",
       "7                    20.0  123.0        464.0    0.071121      0.101293   \n",
       "8                     2.0   19.0         61.0    0.081967      0.098361   \n",
       "9                     4.0   36.0        135.0    0.192593      0.096296   \n",
       "\n",
       "flair  Gain_percent  Loss_percent  \n",
       "0          0.027778      0.027778  \n",
       "1          0.046154      0.015385  \n",
       "2          0.037736      0.000000  \n",
       "3          0.128205      0.000000  \n",
       "4          0.123288      0.000000  \n",
       "5          0.048611      0.027778  \n",
       "6          0.068966      0.000000  \n",
       "7          0.086207      0.010776  \n",
       "8          0.098361      0.049180  \n",
       "9          0.103704      0.007407  "
      ]
     },
     "execution_count": 320,
     "metadata": {},
     "output_type": "execute_result"
    }
   ],
   "source": [
    "meme_symbols = wide_flair[wide_flair.index.isin(top_symbols)] \\\n",
    "    .sort_values(by=['Meme_percent'], ascending=False) \\\n",
    "    .reset_index()\n",
    "meme_symbols.head(10)"
   ]
  },
  {
   "cell_type": "code",
   "execution_count": 321,
   "id": "91e11e75",
   "metadata": {},
   "outputs": [
    {
     "data": {
      "application/vnd.plotly.v1+json": {
       "config": {
        "plotlyServerURL": "https://plot.ly"
       },
       "data": [
        {
         "alignmentgroup": "True",
         "hovertemplate": "symbol=%{y}<br>Meme_percent=%{x}<extra></extra>",
         "legendgroup": "BLNK",
         "marker": {
          "color": "#636efa",
          "pattern": {
           "shape": ""
          }
         },
         "name": "BLNK",
         "offsetgroup": "BLNK",
         "orientation": "h",
         "showlegend": true,
         "textposition": "auto",
         "type": "bar",
         "x": [
          0.25
         ],
         "xaxis": "x",
         "y": [
          "BLNK"
         ],
         "yaxis": "y"
        },
        {
         "alignmentgroup": "True",
         "hovertemplate": "symbol=%{y}<br>Meme_percent=%{x}<extra></extra>",
         "legendgroup": "TWNK",
         "marker": {
          "color": "#EF553B",
          "pattern": {
           "shape": ""
          }
         },
         "name": "TWNK",
         "offsetgroup": "TWNK",
         "orientation": "h",
         "showlegend": true,
         "textposition": "auto",
         "type": "bar",
         "x": [
          0.2153846153846154
         ],
         "xaxis": "x",
         "y": [
          "TWNK"
         ],
         "yaxis": "y"
        },
        {
         "alignmentgroup": "True",
         "hovertemplate": "symbol=%{y}<br>Meme_percent=%{x}<extra></extra>",
         "legendgroup": "BABA",
         "marker": {
          "color": "#00cc96",
          "pattern": {
           "shape": ""
          }
         },
         "name": "BABA",
         "offsetgroup": "BABA",
         "orientation": "h",
         "showlegend": true,
         "textposition": "auto",
         "type": "bar",
         "x": [
          0.1320754716981132
         ],
         "xaxis": "x",
         "y": [
          "BABA"
         ],
         "yaxis": "y"
        },
        {
         "alignmentgroup": "True",
         "hovertemplate": "symbol=%{y}<br>Meme_percent=%{x}<extra></extra>",
         "legendgroup": "WPG",
         "marker": {
          "color": "#ab63fa",
          "pattern": {
           "shape": ""
          }
         },
         "name": "WPG",
         "offsetgroup": "WPG",
         "orientation": "h",
         "showlegend": true,
         "textposition": "auto",
         "type": "bar",
         "x": [
          0.1282051282051282
         ],
         "xaxis": "x",
         "y": [
          "WPG"
         ],
         "yaxis": "y"
        },
        {
         "alignmentgroup": "True",
         "hovertemplate": "symbol=%{y}<br>Meme_percent=%{x}<extra></extra>",
         "legendgroup": "VIAC",
         "marker": {
          "color": "#FFA15A",
          "pattern": {
           "shape": ""
          }
         },
         "name": "VIAC",
         "offsetgroup": "VIAC",
         "orientation": "h",
         "showlegend": true,
         "textposition": "auto",
         "type": "bar",
         "x": [
          0.1232876712328767
         ],
         "xaxis": "x",
         "y": [
          "VIAC"
         ],
         "yaxis": "y"
        },
        {
         "alignmentgroup": "True",
         "hovertemplate": "symbol=%{y}<br>Meme_percent=%{x}<extra></extra>",
         "legendgroup": "NOK",
         "marker": {
          "color": "#19d3f3",
          "pattern": {
           "shape": ""
          }
         },
         "name": "NOK",
         "offsetgroup": "NOK",
         "orientation": "h",
         "showlegend": true,
         "textposition": "auto",
         "type": "bar",
         "x": [
          0.1111111111111111
         ],
         "xaxis": "x",
         "y": [
          "NOK"
         ],
         "yaxis": "y"
        },
        {
         "alignmentgroup": "True",
         "hovertemplate": "symbol=%{y}<br>Meme_percent=%{x}<extra></extra>",
         "legendgroup": "NKLA",
         "marker": {
          "color": "#FF6692",
          "pattern": {
           "shape": ""
          }
         },
         "name": "NKLA",
         "offsetgroup": "NKLA",
         "orientation": "h",
         "showlegend": true,
         "textposition": "auto",
         "type": "bar",
         "x": [
          0.10344827586206896
         ],
         "xaxis": "x",
         "y": [
          "NKLA"
         ],
         "yaxis": "y"
        },
        {
         "alignmentgroup": "True",
         "hovertemplate": "symbol=%{y}<br>Meme_percent=%{x}<extra></extra>",
         "legendgroup": "SNDL",
         "marker": {
          "color": "#B6E880",
          "pattern": {
           "shape": ""
          }
         },
         "name": "SNDL",
         "offsetgroup": "SNDL",
         "orientation": "h",
         "showlegend": true,
         "textposition": "auto",
         "type": "bar",
         "x": [
          0.10129310344827586
         ],
         "xaxis": "x",
         "y": [
          "SNDL"
         ],
         "yaxis": "y"
        },
        {
         "alignmentgroup": "True",
         "hovertemplate": "symbol=%{y}<br>Meme_percent=%{x}<extra></extra>",
         "legendgroup": "SDC",
         "marker": {
          "color": "#FF97FF",
          "pattern": {
           "shape": ""
          }
         },
         "name": "SDC",
         "offsetgroup": "SDC",
         "orientation": "h",
         "showlegend": true,
         "textposition": "auto",
         "type": "bar",
         "x": [
          0.09836065573770492
         ],
         "xaxis": "x",
         "y": [
          "SDC"
         ],
         "yaxis": "y"
        },
        {
         "alignmentgroup": "True",
         "hovertemplate": "symbol=%{y}<br>Meme_percent=%{x}<extra></extra>",
         "legendgroup": "WOOF",
         "marker": {
          "color": "#FECB52",
          "pattern": {
           "shape": ""
          }
         },
         "name": "WOOF",
         "offsetgroup": "WOOF",
         "orientation": "h",
         "showlegend": true,
         "textposition": "auto",
         "type": "bar",
         "x": [
          0.0962962962962963
         ],
         "xaxis": "x",
         "y": [
          "WOOF"
         ],
         "yaxis": "y"
        }
       ],
       "layout": {
        "barmode": "relative",
        "legend": {
         "title": {
          "text": "symbol"
         },
         "tracegroupgap": 0
        },
        "template": {
         "data": {
          "bar": [
           {
            "error_x": {
             "color": "#2a3f5f"
            },
            "error_y": {
             "color": "#2a3f5f"
            },
            "marker": {
             "line": {
              "color": "#E5ECF6",
              "width": 0.5
             },
             "pattern": {
              "fillmode": "overlay",
              "size": 10,
              "solidity": 0.2
             }
            },
            "type": "bar"
           }
          ],
          "barpolar": [
           {
            "marker": {
             "line": {
              "color": "#E5ECF6",
              "width": 0.5
             },
             "pattern": {
              "fillmode": "overlay",
              "size": 10,
              "solidity": 0.2
             }
            },
            "type": "barpolar"
           }
          ],
          "carpet": [
           {
            "aaxis": {
             "endlinecolor": "#2a3f5f",
             "gridcolor": "white",
             "linecolor": "white",
             "minorgridcolor": "white",
             "startlinecolor": "#2a3f5f"
            },
            "baxis": {
             "endlinecolor": "#2a3f5f",
             "gridcolor": "white",
             "linecolor": "white",
             "minorgridcolor": "white",
             "startlinecolor": "#2a3f5f"
            },
            "type": "carpet"
           }
          ],
          "choropleth": [
           {
            "colorbar": {
             "outlinewidth": 0,
             "ticks": ""
            },
            "type": "choropleth"
           }
          ],
          "contour": [
           {
            "colorbar": {
             "outlinewidth": 0,
             "ticks": ""
            },
            "colorscale": [
             [
              0,
              "#0d0887"
             ],
             [
              0.1111111111111111,
              "#46039f"
             ],
             [
              0.2222222222222222,
              "#7201a8"
             ],
             [
              0.3333333333333333,
              "#9c179e"
             ],
             [
              0.4444444444444444,
              "#bd3786"
             ],
             [
              0.5555555555555556,
              "#d8576b"
             ],
             [
              0.6666666666666666,
              "#ed7953"
             ],
             [
              0.7777777777777778,
              "#fb9f3a"
             ],
             [
              0.8888888888888888,
              "#fdca26"
             ],
             [
              1,
              "#f0f921"
             ]
            ],
            "type": "contour"
           }
          ],
          "contourcarpet": [
           {
            "colorbar": {
             "outlinewidth": 0,
             "ticks": ""
            },
            "type": "contourcarpet"
           }
          ],
          "heatmap": [
           {
            "colorbar": {
             "outlinewidth": 0,
             "ticks": ""
            },
            "colorscale": [
             [
              0,
              "#0d0887"
             ],
             [
              0.1111111111111111,
              "#46039f"
             ],
             [
              0.2222222222222222,
              "#7201a8"
             ],
             [
              0.3333333333333333,
              "#9c179e"
             ],
             [
              0.4444444444444444,
              "#bd3786"
             ],
             [
              0.5555555555555556,
              "#d8576b"
             ],
             [
              0.6666666666666666,
              "#ed7953"
             ],
             [
              0.7777777777777778,
              "#fb9f3a"
             ],
             [
              0.8888888888888888,
              "#fdca26"
             ],
             [
              1,
              "#f0f921"
             ]
            ],
            "type": "heatmap"
           }
          ],
          "heatmapgl": [
           {
            "colorbar": {
             "outlinewidth": 0,
             "ticks": ""
            },
            "colorscale": [
             [
              0,
              "#0d0887"
             ],
             [
              0.1111111111111111,
              "#46039f"
             ],
             [
              0.2222222222222222,
              "#7201a8"
             ],
             [
              0.3333333333333333,
              "#9c179e"
             ],
             [
              0.4444444444444444,
              "#bd3786"
             ],
             [
              0.5555555555555556,
              "#d8576b"
             ],
             [
              0.6666666666666666,
              "#ed7953"
             ],
             [
              0.7777777777777778,
              "#fb9f3a"
             ],
             [
              0.8888888888888888,
              "#fdca26"
             ],
             [
              1,
              "#f0f921"
             ]
            ],
            "type": "heatmapgl"
           }
          ],
          "histogram": [
           {
            "marker": {
             "pattern": {
              "fillmode": "overlay",
              "size": 10,
              "solidity": 0.2
             }
            },
            "type": "histogram"
           }
          ],
          "histogram2d": [
           {
            "colorbar": {
             "outlinewidth": 0,
             "ticks": ""
            },
            "colorscale": [
             [
              0,
              "#0d0887"
             ],
             [
              0.1111111111111111,
              "#46039f"
             ],
             [
              0.2222222222222222,
              "#7201a8"
             ],
             [
              0.3333333333333333,
              "#9c179e"
             ],
             [
              0.4444444444444444,
              "#bd3786"
             ],
             [
              0.5555555555555556,
              "#d8576b"
             ],
             [
              0.6666666666666666,
              "#ed7953"
             ],
             [
              0.7777777777777778,
              "#fb9f3a"
             ],
             [
              0.8888888888888888,
              "#fdca26"
             ],
             [
              1,
              "#f0f921"
             ]
            ],
            "type": "histogram2d"
           }
          ],
          "histogram2dcontour": [
           {
            "colorbar": {
             "outlinewidth": 0,
             "ticks": ""
            },
            "colorscale": [
             [
              0,
              "#0d0887"
             ],
             [
              0.1111111111111111,
              "#46039f"
             ],
             [
              0.2222222222222222,
              "#7201a8"
             ],
             [
              0.3333333333333333,
              "#9c179e"
             ],
             [
              0.4444444444444444,
              "#bd3786"
             ],
             [
              0.5555555555555556,
              "#d8576b"
             ],
             [
              0.6666666666666666,
              "#ed7953"
             ],
             [
              0.7777777777777778,
              "#fb9f3a"
             ],
             [
              0.8888888888888888,
              "#fdca26"
             ],
             [
              1,
              "#f0f921"
             ]
            ],
            "type": "histogram2dcontour"
           }
          ],
          "mesh3d": [
           {
            "colorbar": {
             "outlinewidth": 0,
             "ticks": ""
            },
            "type": "mesh3d"
           }
          ],
          "parcoords": [
           {
            "line": {
             "colorbar": {
              "outlinewidth": 0,
              "ticks": ""
             }
            },
            "type": "parcoords"
           }
          ],
          "pie": [
           {
            "automargin": true,
            "type": "pie"
           }
          ],
          "scatter": [
           {
            "marker": {
             "colorbar": {
              "outlinewidth": 0,
              "ticks": ""
             }
            },
            "type": "scatter"
           }
          ],
          "scatter3d": [
           {
            "line": {
             "colorbar": {
              "outlinewidth": 0,
              "ticks": ""
             }
            },
            "marker": {
             "colorbar": {
              "outlinewidth": 0,
              "ticks": ""
             }
            },
            "type": "scatter3d"
           }
          ],
          "scattercarpet": [
           {
            "marker": {
             "colorbar": {
              "outlinewidth": 0,
              "ticks": ""
             }
            },
            "type": "scattercarpet"
           }
          ],
          "scattergeo": [
           {
            "marker": {
             "colorbar": {
              "outlinewidth": 0,
              "ticks": ""
             }
            },
            "type": "scattergeo"
           }
          ],
          "scattergl": [
           {
            "marker": {
             "colorbar": {
              "outlinewidth": 0,
              "ticks": ""
             }
            },
            "type": "scattergl"
           }
          ],
          "scattermapbox": [
           {
            "marker": {
             "colorbar": {
              "outlinewidth": 0,
              "ticks": ""
             }
            },
            "type": "scattermapbox"
           }
          ],
          "scatterpolar": [
           {
            "marker": {
             "colorbar": {
              "outlinewidth": 0,
              "ticks": ""
             }
            },
            "type": "scatterpolar"
           }
          ],
          "scatterpolargl": [
           {
            "marker": {
             "colorbar": {
              "outlinewidth": 0,
              "ticks": ""
             }
            },
            "type": "scatterpolargl"
           }
          ],
          "scatterternary": [
           {
            "marker": {
             "colorbar": {
              "outlinewidth": 0,
              "ticks": ""
             }
            },
            "type": "scatterternary"
           }
          ],
          "surface": [
           {
            "colorbar": {
             "outlinewidth": 0,
             "ticks": ""
            },
            "colorscale": [
             [
              0,
              "#0d0887"
             ],
             [
              0.1111111111111111,
              "#46039f"
             ],
             [
              0.2222222222222222,
              "#7201a8"
             ],
             [
              0.3333333333333333,
              "#9c179e"
             ],
             [
              0.4444444444444444,
              "#bd3786"
             ],
             [
              0.5555555555555556,
              "#d8576b"
             ],
             [
              0.6666666666666666,
              "#ed7953"
             ],
             [
              0.7777777777777778,
              "#fb9f3a"
             ],
             [
              0.8888888888888888,
              "#fdca26"
             ],
             [
              1,
              "#f0f921"
             ]
            ],
            "type": "surface"
           }
          ],
          "table": [
           {
            "cells": {
             "fill": {
              "color": "#EBF0F8"
             },
             "line": {
              "color": "white"
             }
            },
            "header": {
             "fill": {
              "color": "#C8D4E3"
             },
             "line": {
              "color": "white"
             }
            },
            "type": "table"
           }
          ]
         },
         "layout": {
          "annotationdefaults": {
           "arrowcolor": "#2a3f5f",
           "arrowhead": 0,
           "arrowwidth": 1
          },
          "autotypenumbers": "strict",
          "coloraxis": {
           "colorbar": {
            "outlinewidth": 0,
            "ticks": ""
           }
          },
          "colorscale": {
           "diverging": [
            [
             0,
             "#8e0152"
            ],
            [
             0.1,
             "#c51b7d"
            ],
            [
             0.2,
             "#de77ae"
            ],
            [
             0.3,
             "#f1b6da"
            ],
            [
             0.4,
             "#fde0ef"
            ],
            [
             0.5,
             "#f7f7f7"
            ],
            [
             0.6,
             "#e6f5d0"
            ],
            [
             0.7,
             "#b8e186"
            ],
            [
             0.8,
             "#7fbc41"
            ],
            [
             0.9,
             "#4d9221"
            ],
            [
             1,
             "#276419"
            ]
           ],
           "sequential": [
            [
             0,
             "#0d0887"
            ],
            [
             0.1111111111111111,
             "#46039f"
            ],
            [
             0.2222222222222222,
             "#7201a8"
            ],
            [
             0.3333333333333333,
             "#9c179e"
            ],
            [
             0.4444444444444444,
             "#bd3786"
            ],
            [
             0.5555555555555556,
             "#d8576b"
            ],
            [
             0.6666666666666666,
             "#ed7953"
            ],
            [
             0.7777777777777778,
             "#fb9f3a"
            ],
            [
             0.8888888888888888,
             "#fdca26"
            ],
            [
             1,
             "#f0f921"
            ]
           ],
           "sequentialminus": [
            [
             0,
             "#0d0887"
            ],
            [
             0.1111111111111111,
             "#46039f"
            ],
            [
             0.2222222222222222,
             "#7201a8"
            ],
            [
             0.3333333333333333,
             "#9c179e"
            ],
            [
             0.4444444444444444,
             "#bd3786"
            ],
            [
             0.5555555555555556,
             "#d8576b"
            ],
            [
             0.6666666666666666,
             "#ed7953"
            ],
            [
             0.7777777777777778,
             "#fb9f3a"
            ],
            [
             0.8888888888888888,
             "#fdca26"
            ],
            [
             1,
             "#f0f921"
            ]
           ]
          },
          "colorway": [
           "#636efa",
           "#EF553B",
           "#00cc96",
           "#ab63fa",
           "#FFA15A",
           "#19d3f3",
           "#FF6692",
           "#B6E880",
           "#FF97FF",
           "#FECB52"
          ],
          "font": {
           "color": "#2a3f5f"
          },
          "geo": {
           "bgcolor": "white",
           "lakecolor": "white",
           "landcolor": "#E5ECF6",
           "showlakes": true,
           "showland": true,
           "subunitcolor": "white"
          },
          "hoverlabel": {
           "align": "left"
          },
          "hovermode": "closest",
          "mapbox": {
           "style": "light"
          },
          "paper_bgcolor": "white",
          "plot_bgcolor": "#E5ECF6",
          "polar": {
           "angularaxis": {
            "gridcolor": "white",
            "linecolor": "white",
            "ticks": ""
           },
           "bgcolor": "#E5ECF6",
           "radialaxis": {
            "gridcolor": "white",
            "linecolor": "white",
            "ticks": ""
           }
          },
          "scene": {
           "xaxis": {
            "backgroundcolor": "#E5ECF6",
            "gridcolor": "white",
            "gridwidth": 2,
            "linecolor": "white",
            "showbackground": true,
            "ticks": "",
            "zerolinecolor": "white"
           },
           "yaxis": {
            "backgroundcolor": "#E5ECF6",
            "gridcolor": "white",
            "gridwidth": 2,
            "linecolor": "white",
            "showbackground": true,
            "ticks": "",
            "zerolinecolor": "white"
           },
           "zaxis": {
            "backgroundcolor": "#E5ECF6",
            "gridcolor": "white",
            "gridwidth": 2,
            "linecolor": "white",
            "showbackground": true,
            "ticks": "",
            "zerolinecolor": "white"
           }
          },
          "shapedefaults": {
           "line": {
            "color": "#2a3f5f"
           }
          },
          "ternary": {
           "aaxis": {
            "gridcolor": "white",
            "linecolor": "white",
            "ticks": ""
           },
           "baxis": {
            "gridcolor": "white",
            "linecolor": "white",
            "ticks": ""
           },
           "bgcolor": "#E5ECF6",
           "caxis": {
            "gridcolor": "white",
            "linecolor": "white",
            "ticks": ""
           }
          },
          "title": {
           "x": 0.05
          },
          "xaxis": {
           "automargin": true,
           "gridcolor": "white",
           "linecolor": "white",
           "ticks": "",
           "title": {
            "standoff": 15
           },
           "zerolinecolor": "white",
           "zerolinewidth": 2
          },
          "yaxis": {
           "automargin": true,
           "gridcolor": "white",
           "linecolor": "white",
           "ticks": "",
           "title": {
            "standoff": 15
           },
           "zerolinecolor": "white",
           "zerolinewidth": 2
          }
         }
        },
        "title": {
         "text": "Top Meme Stocks"
        },
        "xaxis": {
         "anchor": "y",
         "domain": [
          0,
          1
         ],
         "title": {
          "text": "Meme_percent"
         }
        },
        "yaxis": {
         "anchor": "x",
         "categoryarray": [
          "WOOF",
          "SDC",
          "SNDL",
          "NKLA",
          "NOK",
          "VIAC",
          "WPG",
          "BABA",
          "TWNK",
          "BLNK"
         ],
         "categoryorder": "array",
         "domain": [
          0,
          1
         ],
         "title": {
          "text": "symbol"
         }
        }
       }
      },
      "text/html": [
       "<div>                            <div id=\"9e251acd-d02d-48b0-9c63-156eee7ede47\" class=\"plotly-graph-div\" style=\"height:525px; width:100%;\"></div>            <script type=\"text/javascript\">                require([\"plotly\"], function(Plotly) {                    window.PLOTLYENV=window.PLOTLYENV || {};                                    if (document.getElementById(\"9e251acd-d02d-48b0-9c63-156eee7ede47\")) {                    Plotly.newPlot(                        \"9e251acd-d02d-48b0-9c63-156eee7ede47\",                        [{\"alignmentgroup\":\"True\",\"hovertemplate\":\"symbol=%{y}<br>Meme_percent=%{x}<extra></extra>\",\"legendgroup\":\"BLNK\",\"marker\":{\"color\":\"#636efa\",\"pattern\":{\"shape\":\"\"}},\"name\":\"BLNK\",\"offsetgroup\":\"BLNK\",\"orientation\":\"h\",\"showlegend\":true,\"textposition\":\"auto\",\"type\":\"bar\",\"x\":[0.25],\"xaxis\":\"x\",\"y\":[\"BLNK\"],\"yaxis\":\"y\"},{\"alignmentgroup\":\"True\",\"hovertemplate\":\"symbol=%{y}<br>Meme_percent=%{x}<extra></extra>\",\"legendgroup\":\"TWNK\",\"marker\":{\"color\":\"#EF553B\",\"pattern\":{\"shape\":\"\"}},\"name\":\"TWNK\",\"offsetgroup\":\"TWNK\",\"orientation\":\"h\",\"showlegend\":true,\"textposition\":\"auto\",\"type\":\"bar\",\"x\":[0.2153846153846154],\"xaxis\":\"x\",\"y\":[\"TWNK\"],\"yaxis\":\"y\"},{\"alignmentgroup\":\"True\",\"hovertemplate\":\"symbol=%{y}<br>Meme_percent=%{x}<extra></extra>\",\"legendgroup\":\"BABA\",\"marker\":{\"color\":\"#00cc96\",\"pattern\":{\"shape\":\"\"}},\"name\":\"BABA\",\"offsetgroup\":\"BABA\",\"orientation\":\"h\",\"showlegend\":true,\"textposition\":\"auto\",\"type\":\"bar\",\"x\":[0.1320754716981132],\"xaxis\":\"x\",\"y\":[\"BABA\"],\"yaxis\":\"y\"},{\"alignmentgroup\":\"True\",\"hovertemplate\":\"symbol=%{y}<br>Meme_percent=%{x}<extra></extra>\",\"legendgroup\":\"WPG\",\"marker\":{\"color\":\"#ab63fa\",\"pattern\":{\"shape\":\"\"}},\"name\":\"WPG\",\"offsetgroup\":\"WPG\",\"orientation\":\"h\",\"showlegend\":true,\"textposition\":\"auto\",\"type\":\"bar\",\"x\":[0.1282051282051282],\"xaxis\":\"x\",\"y\":[\"WPG\"],\"yaxis\":\"y\"},{\"alignmentgroup\":\"True\",\"hovertemplate\":\"symbol=%{y}<br>Meme_percent=%{x}<extra></extra>\",\"legendgroup\":\"VIAC\",\"marker\":{\"color\":\"#FFA15A\",\"pattern\":{\"shape\":\"\"}},\"name\":\"VIAC\",\"offsetgroup\":\"VIAC\",\"orientation\":\"h\",\"showlegend\":true,\"textposition\":\"auto\",\"type\":\"bar\",\"x\":[0.1232876712328767],\"xaxis\":\"x\",\"y\":[\"VIAC\"],\"yaxis\":\"y\"},{\"alignmentgroup\":\"True\",\"hovertemplate\":\"symbol=%{y}<br>Meme_percent=%{x}<extra></extra>\",\"legendgroup\":\"NOK\",\"marker\":{\"color\":\"#19d3f3\",\"pattern\":{\"shape\":\"\"}},\"name\":\"NOK\",\"offsetgroup\":\"NOK\",\"orientation\":\"h\",\"showlegend\":true,\"textposition\":\"auto\",\"type\":\"bar\",\"x\":[0.1111111111111111],\"xaxis\":\"x\",\"y\":[\"NOK\"],\"yaxis\":\"y\"},{\"alignmentgroup\":\"True\",\"hovertemplate\":\"symbol=%{y}<br>Meme_percent=%{x}<extra></extra>\",\"legendgroup\":\"NKLA\",\"marker\":{\"color\":\"#FF6692\",\"pattern\":{\"shape\":\"\"}},\"name\":\"NKLA\",\"offsetgroup\":\"NKLA\",\"orientation\":\"h\",\"showlegend\":true,\"textposition\":\"auto\",\"type\":\"bar\",\"x\":[0.10344827586206896],\"xaxis\":\"x\",\"y\":[\"NKLA\"],\"yaxis\":\"y\"},{\"alignmentgroup\":\"True\",\"hovertemplate\":\"symbol=%{y}<br>Meme_percent=%{x}<extra></extra>\",\"legendgroup\":\"SNDL\",\"marker\":{\"color\":\"#B6E880\",\"pattern\":{\"shape\":\"\"}},\"name\":\"SNDL\",\"offsetgroup\":\"SNDL\",\"orientation\":\"h\",\"showlegend\":true,\"textposition\":\"auto\",\"type\":\"bar\",\"x\":[0.10129310344827586],\"xaxis\":\"x\",\"y\":[\"SNDL\"],\"yaxis\":\"y\"},{\"alignmentgroup\":\"True\",\"hovertemplate\":\"symbol=%{y}<br>Meme_percent=%{x}<extra></extra>\",\"legendgroup\":\"SDC\",\"marker\":{\"color\":\"#FF97FF\",\"pattern\":{\"shape\":\"\"}},\"name\":\"SDC\",\"offsetgroup\":\"SDC\",\"orientation\":\"h\",\"showlegend\":true,\"textposition\":\"auto\",\"type\":\"bar\",\"x\":[0.09836065573770492],\"xaxis\":\"x\",\"y\":[\"SDC\"],\"yaxis\":\"y\"},{\"alignmentgroup\":\"True\",\"hovertemplate\":\"symbol=%{y}<br>Meme_percent=%{x}<extra></extra>\",\"legendgroup\":\"WOOF\",\"marker\":{\"color\":\"#FECB52\",\"pattern\":{\"shape\":\"\"}},\"name\":\"WOOF\",\"offsetgroup\":\"WOOF\",\"orientation\":\"h\",\"showlegend\":true,\"textposition\":\"auto\",\"type\":\"bar\",\"x\":[0.0962962962962963],\"xaxis\":\"x\",\"y\":[\"WOOF\"],\"yaxis\":\"y\"}],                        {\"barmode\":\"relative\",\"legend\":{\"title\":{\"text\":\"symbol\"},\"tracegroupgap\":0},\"template\":{\"data\":{\"bar\":[{\"error_x\":{\"color\":\"#2a3f5f\"},\"error_y\":{\"color\":\"#2a3f5f\"},\"marker\":{\"line\":{\"color\":\"#E5ECF6\",\"width\":0.5},\"pattern\":{\"fillmode\":\"overlay\",\"size\":10,\"solidity\":0.2}},\"type\":\"bar\"}],\"barpolar\":[{\"marker\":{\"line\":{\"color\":\"#E5ECF6\",\"width\":0.5},\"pattern\":{\"fillmode\":\"overlay\",\"size\":10,\"solidity\":0.2}},\"type\":\"barpolar\"}],\"carpet\":[{\"aaxis\":{\"endlinecolor\":\"#2a3f5f\",\"gridcolor\":\"white\",\"linecolor\":\"white\",\"minorgridcolor\":\"white\",\"startlinecolor\":\"#2a3f5f\"},\"baxis\":{\"endlinecolor\":\"#2a3f5f\",\"gridcolor\":\"white\",\"linecolor\":\"white\",\"minorgridcolor\":\"white\",\"startlinecolor\":\"#2a3f5f\"},\"type\":\"carpet\"}],\"choropleth\":[{\"colorbar\":{\"outlinewidth\":0,\"ticks\":\"\"},\"type\":\"choropleth\"}],\"contour\":[{\"colorbar\":{\"outlinewidth\":0,\"ticks\":\"\"},\"colorscale\":[[0.0,\"#0d0887\"],[0.1111111111111111,\"#46039f\"],[0.2222222222222222,\"#7201a8\"],[0.3333333333333333,\"#9c179e\"],[0.4444444444444444,\"#bd3786\"],[0.5555555555555556,\"#d8576b\"],[0.6666666666666666,\"#ed7953\"],[0.7777777777777778,\"#fb9f3a\"],[0.8888888888888888,\"#fdca26\"],[1.0,\"#f0f921\"]],\"type\":\"contour\"}],\"contourcarpet\":[{\"colorbar\":{\"outlinewidth\":0,\"ticks\":\"\"},\"type\":\"contourcarpet\"}],\"heatmap\":[{\"colorbar\":{\"outlinewidth\":0,\"ticks\":\"\"},\"colorscale\":[[0.0,\"#0d0887\"],[0.1111111111111111,\"#46039f\"],[0.2222222222222222,\"#7201a8\"],[0.3333333333333333,\"#9c179e\"],[0.4444444444444444,\"#bd3786\"],[0.5555555555555556,\"#d8576b\"],[0.6666666666666666,\"#ed7953\"],[0.7777777777777778,\"#fb9f3a\"],[0.8888888888888888,\"#fdca26\"],[1.0,\"#f0f921\"]],\"type\":\"heatmap\"}],\"heatmapgl\":[{\"colorbar\":{\"outlinewidth\":0,\"ticks\":\"\"},\"colorscale\":[[0.0,\"#0d0887\"],[0.1111111111111111,\"#46039f\"],[0.2222222222222222,\"#7201a8\"],[0.3333333333333333,\"#9c179e\"],[0.4444444444444444,\"#bd3786\"],[0.5555555555555556,\"#d8576b\"],[0.6666666666666666,\"#ed7953\"],[0.7777777777777778,\"#fb9f3a\"],[0.8888888888888888,\"#fdca26\"],[1.0,\"#f0f921\"]],\"type\":\"heatmapgl\"}],\"histogram\":[{\"marker\":{\"pattern\":{\"fillmode\":\"overlay\",\"size\":10,\"solidity\":0.2}},\"type\":\"histogram\"}],\"histogram2d\":[{\"colorbar\":{\"outlinewidth\":0,\"ticks\":\"\"},\"colorscale\":[[0.0,\"#0d0887\"],[0.1111111111111111,\"#46039f\"],[0.2222222222222222,\"#7201a8\"],[0.3333333333333333,\"#9c179e\"],[0.4444444444444444,\"#bd3786\"],[0.5555555555555556,\"#d8576b\"],[0.6666666666666666,\"#ed7953\"],[0.7777777777777778,\"#fb9f3a\"],[0.8888888888888888,\"#fdca26\"],[1.0,\"#f0f921\"]],\"type\":\"histogram2d\"}],\"histogram2dcontour\":[{\"colorbar\":{\"outlinewidth\":0,\"ticks\":\"\"},\"colorscale\":[[0.0,\"#0d0887\"],[0.1111111111111111,\"#46039f\"],[0.2222222222222222,\"#7201a8\"],[0.3333333333333333,\"#9c179e\"],[0.4444444444444444,\"#bd3786\"],[0.5555555555555556,\"#d8576b\"],[0.6666666666666666,\"#ed7953\"],[0.7777777777777778,\"#fb9f3a\"],[0.8888888888888888,\"#fdca26\"],[1.0,\"#f0f921\"]],\"type\":\"histogram2dcontour\"}],\"mesh3d\":[{\"colorbar\":{\"outlinewidth\":0,\"ticks\":\"\"},\"type\":\"mesh3d\"}],\"parcoords\":[{\"line\":{\"colorbar\":{\"outlinewidth\":0,\"ticks\":\"\"}},\"type\":\"parcoords\"}],\"pie\":[{\"automargin\":true,\"type\":\"pie\"}],\"scatter\":[{\"marker\":{\"colorbar\":{\"outlinewidth\":0,\"ticks\":\"\"}},\"type\":\"scatter\"}],\"scatter3d\":[{\"line\":{\"colorbar\":{\"outlinewidth\":0,\"ticks\":\"\"}},\"marker\":{\"colorbar\":{\"outlinewidth\":0,\"ticks\":\"\"}},\"type\":\"scatter3d\"}],\"scattercarpet\":[{\"marker\":{\"colorbar\":{\"outlinewidth\":0,\"ticks\":\"\"}},\"type\":\"scattercarpet\"}],\"scattergeo\":[{\"marker\":{\"colorbar\":{\"outlinewidth\":0,\"ticks\":\"\"}},\"type\":\"scattergeo\"}],\"scattergl\":[{\"marker\":{\"colorbar\":{\"outlinewidth\":0,\"ticks\":\"\"}},\"type\":\"scattergl\"}],\"scattermapbox\":[{\"marker\":{\"colorbar\":{\"outlinewidth\":0,\"ticks\":\"\"}},\"type\":\"scattermapbox\"}],\"scatterpolar\":[{\"marker\":{\"colorbar\":{\"outlinewidth\":0,\"ticks\":\"\"}},\"type\":\"scatterpolar\"}],\"scatterpolargl\":[{\"marker\":{\"colorbar\":{\"outlinewidth\":0,\"ticks\":\"\"}},\"type\":\"scatterpolargl\"}],\"scatterternary\":[{\"marker\":{\"colorbar\":{\"outlinewidth\":0,\"ticks\":\"\"}},\"type\":\"scatterternary\"}],\"surface\":[{\"colorbar\":{\"outlinewidth\":0,\"ticks\":\"\"},\"colorscale\":[[0.0,\"#0d0887\"],[0.1111111111111111,\"#46039f\"],[0.2222222222222222,\"#7201a8\"],[0.3333333333333333,\"#9c179e\"],[0.4444444444444444,\"#bd3786\"],[0.5555555555555556,\"#d8576b\"],[0.6666666666666666,\"#ed7953\"],[0.7777777777777778,\"#fb9f3a\"],[0.8888888888888888,\"#fdca26\"],[1.0,\"#f0f921\"]],\"type\":\"surface\"}],\"table\":[{\"cells\":{\"fill\":{\"color\":\"#EBF0F8\"},\"line\":{\"color\":\"white\"}},\"header\":{\"fill\":{\"color\":\"#C8D4E3\"},\"line\":{\"color\":\"white\"}},\"type\":\"table\"}]},\"layout\":{\"annotationdefaults\":{\"arrowcolor\":\"#2a3f5f\",\"arrowhead\":0,\"arrowwidth\":1},\"autotypenumbers\":\"strict\",\"coloraxis\":{\"colorbar\":{\"outlinewidth\":0,\"ticks\":\"\"}},\"colorscale\":{\"diverging\":[[0,\"#8e0152\"],[0.1,\"#c51b7d\"],[0.2,\"#de77ae\"],[0.3,\"#f1b6da\"],[0.4,\"#fde0ef\"],[0.5,\"#f7f7f7\"],[0.6,\"#e6f5d0\"],[0.7,\"#b8e186\"],[0.8,\"#7fbc41\"],[0.9,\"#4d9221\"],[1,\"#276419\"]],\"sequential\":[[0.0,\"#0d0887\"],[0.1111111111111111,\"#46039f\"],[0.2222222222222222,\"#7201a8\"],[0.3333333333333333,\"#9c179e\"],[0.4444444444444444,\"#bd3786\"],[0.5555555555555556,\"#d8576b\"],[0.6666666666666666,\"#ed7953\"],[0.7777777777777778,\"#fb9f3a\"],[0.8888888888888888,\"#fdca26\"],[1.0,\"#f0f921\"]],\"sequentialminus\":[[0.0,\"#0d0887\"],[0.1111111111111111,\"#46039f\"],[0.2222222222222222,\"#7201a8\"],[0.3333333333333333,\"#9c179e\"],[0.4444444444444444,\"#bd3786\"],[0.5555555555555556,\"#d8576b\"],[0.6666666666666666,\"#ed7953\"],[0.7777777777777778,\"#fb9f3a\"],[0.8888888888888888,\"#fdca26\"],[1.0,\"#f0f921\"]]},\"colorway\":[\"#636efa\",\"#EF553B\",\"#00cc96\",\"#ab63fa\",\"#FFA15A\",\"#19d3f3\",\"#FF6692\",\"#B6E880\",\"#FF97FF\",\"#FECB52\"],\"font\":{\"color\":\"#2a3f5f\"},\"geo\":{\"bgcolor\":\"white\",\"lakecolor\":\"white\",\"landcolor\":\"#E5ECF6\",\"showlakes\":true,\"showland\":true,\"subunitcolor\":\"white\"},\"hoverlabel\":{\"align\":\"left\"},\"hovermode\":\"closest\",\"mapbox\":{\"style\":\"light\"},\"paper_bgcolor\":\"white\",\"plot_bgcolor\":\"#E5ECF6\",\"polar\":{\"angularaxis\":{\"gridcolor\":\"white\",\"linecolor\":\"white\",\"ticks\":\"\"},\"bgcolor\":\"#E5ECF6\",\"radialaxis\":{\"gridcolor\":\"white\",\"linecolor\":\"white\",\"ticks\":\"\"}},\"scene\":{\"xaxis\":{\"backgroundcolor\":\"#E5ECF6\",\"gridcolor\":\"white\",\"gridwidth\":2,\"linecolor\":\"white\",\"showbackground\":true,\"ticks\":\"\",\"zerolinecolor\":\"white\"},\"yaxis\":{\"backgroundcolor\":\"#E5ECF6\",\"gridcolor\":\"white\",\"gridwidth\":2,\"linecolor\":\"white\",\"showbackground\":true,\"ticks\":\"\",\"zerolinecolor\":\"white\"},\"zaxis\":{\"backgroundcolor\":\"#E5ECF6\",\"gridcolor\":\"white\",\"gridwidth\":2,\"linecolor\":\"white\",\"showbackground\":true,\"ticks\":\"\",\"zerolinecolor\":\"white\"}},\"shapedefaults\":{\"line\":{\"color\":\"#2a3f5f\"}},\"ternary\":{\"aaxis\":{\"gridcolor\":\"white\",\"linecolor\":\"white\",\"ticks\":\"\"},\"baxis\":{\"gridcolor\":\"white\",\"linecolor\":\"white\",\"ticks\":\"\"},\"bgcolor\":\"#E5ECF6\",\"caxis\":{\"gridcolor\":\"white\",\"linecolor\":\"white\",\"ticks\":\"\"}},\"title\":{\"x\":0.05},\"xaxis\":{\"automargin\":true,\"gridcolor\":\"white\",\"linecolor\":\"white\",\"ticks\":\"\",\"title\":{\"standoff\":15},\"zerolinecolor\":\"white\",\"zerolinewidth\":2},\"yaxis\":{\"automargin\":true,\"gridcolor\":\"white\",\"linecolor\":\"white\",\"ticks\":\"\",\"title\":{\"standoff\":15},\"zerolinecolor\":\"white\",\"zerolinewidth\":2}}},\"title\":{\"text\":\"Top Meme Stocks\"},\"xaxis\":{\"anchor\":\"y\",\"domain\":[0.0,1.0],\"title\":{\"text\":\"Meme_percent\"}},\"yaxis\":{\"anchor\":\"x\",\"categoryarray\":[\"WOOF\",\"SDC\",\"SNDL\",\"NKLA\",\"NOK\",\"VIAC\",\"WPG\",\"BABA\",\"TWNK\",\"BLNK\"],\"categoryorder\":\"array\",\"domain\":[0.0,1.0],\"title\":{\"text\":\"symbol\"}}},                        {\"responsive\": true}                    ).then(function(){\n",
       "                            \n",
       "var gd = document.getElementById('9e251acd-d02d-48b0-9c63-156eee7ede47');\n",
       "var x = new MutationObserver(function (mutations, observer) {{\n",
       "        var display = window.getComputedStyle(gd).display;\n",
       "        if (!display || display === 'none') {{\n",
       "            console.log([gd, 'removed!']);\n",
       "            Plotly.purge(gd);\n",
       "            observer.disconnect();\n",
       "        }}\n",
       "}});\n",
       "\n",
       "// Listen for the removal of the full notebook cells\n",
       "var notebookContainer = gd.closest('#notebook-container');\n",
       "if (notebookContainer) {{\n",
       "    x.observe(notebookContainer, {childList: true});\n",
       "}}\n",
       "\n",
       "// Listen for the clearing of the current output cell\n",
       "var outputEl = gd.closest('.output');\n",
       "if (outputEl) {{\n",
       "    x.observe(outputEl, {childList: true});\n",
       "}}\n",
       "\n",
       "                        })                };                });            </script>        </div>"
      ]
     },
     "metadata": {},
     "output_type": "display_data"
    }
   ],
   "source": [
    "fig = px.bar(meme_symbols[0:10], x=\"Meme_percent\", y=\"symbol\", color='symbol', orientation='h', title='Top Meme Stocks')\n",
    "fig.show()"
   ]
  },
  {
   "cell_type": "code",
   "execution_count": 332,
   "id": "b1ba6c00",
   "metadata": {},
   "outputs": [],
   "source": [
    "# get BLNK memes\n",
    "blnk_memes = await beneath.query_warehouse(\"\"\"\n",
    "    SELECT symbol, timestamp_trunc(created_on, day) as day, flair, id, permalink\n",
    "    FROM `examples/wallstreetbets-analytics/r-wallstreetbets-posts-stock-mentions` m\n",
    "    JOIN `examples/reddit/r-wallstreetbets-posts` p ON m.post_id = p.id\n",
    "    WHERE timestamp_trunc(created_on, month) = \"2021-06-01\" AND\n",
    "    symbol=\"BLNK\" AND \n",
    "    flair=\"Meme\"\n",
    "\"\"\")"
   ]
  },
  {
   "cell_type": "code",
   "execution_count": 335,
   "id": "29c5bb69",
   "metadata": {},
   "outputs": [
    {
     "data": {
      "text/html": [
       "<div>\n",
       "<style scoped>\n",
       "    .dataframe tbody tr th:only-of-type {\n",
       "        vertical-align: middle;\n",
       "    }\n",
       "\n",
       "    .dataframe tbody tr th {\n",
       "        vertical-align: top;\n",
       "    }\n",
       "\n",
       "    .dataframe thead th {\n",
       "        text-align: right;\n",
       "    }\n",
       "</style>\n",
       "<table border=\"1\" class=\"dataframe\">\n",
       "  <thead>\n",
       "    <tr style=\"text-align: right;\">\n",
       "      <th></th>\n",
       "      <th>symbol</th>\n",
       "      <th>day</th>\n",
       "      <th>flair</th>\n",
       "      <th>id</th>\n",
       "      <th>permalink</th>\n",
       "      <th>@meta.timestamp</th>\n",
       "    </tr>\n",
       "  </thead>\n",
       "  <tbody>\n",
       "    <tr>\n",
       "      <th>0</th>\n",
       "      <td>BLNK</td>\n",
       "      <td>2021-06-03 00:00:00+00:00</td>\n",
       "      <td>Meme</td>\n",
       "      <td>nrcewp</td>\n",
       "      <td>/r/wallstreetbets/comments/nrcewp/shorting_bln...</td>\n",
       "      <td>2021-06-29 17:33:09.526000+00:00</td>\n",
       "    </tr>\n",
       "    <tr>\n",
       "      <th>1</th>\n",
       "      <td>BLNK</td>\n",
       "      <td>2021-06-03 00:00:00+00:00</td>\n",
       "      <td>Meme</td>\n",
       "      <td>nremfo</td>\n",
       "      <td>/r/wallstreetbets/comments/nremfo/time_to_shor...</td>\n",
       "      <td>2021-06-29 17:33:09.526000+00:00</td>\n",
       "    </tr>\n",
       "    <tr>\n",
       "      <th>2</th>\n",
       "      <td>BLNK</td>\n",
       "      <td>2021-06-03 00:00:00+00:00</td>\n",
       "      <td>Meme</td>\n",
       "      <td>nrftwz</td>\n",
       "      <td>/r/wallstreetbets/comments/nrftwz/anyone_ready...</td>\n",
       "      <td>2021-06-29 17:33:09.526000+00:00</td>\n",
       "    </tr>\n",
       "    <tr>\n",
       "      <th>3</th>\n",
       "      <td>BLNK</td>\n",
       "      <td>2021-06-06 00:00:00+00:00</td>\n",
       "      <td>Meme</td>\n",
       "      <td>ntnxie</td>\n",
       "      <td>/r/wallstreetbets/comments/ntnxie/amcx_still_o...</td>\n",
       "      <td>2021-06-29 17:33:09.526000+00:00</td>\n",
       "    </tr>\n",
       "    <tr>\n",
       "      <th>4</th>\n",
       "      <td>BLNK</td>\n",
       "      <td>2021-06-07 00:00:00+00:00</td>\n",
       "      <td>Meme</td>\n",
       "      <td>nufcgg</td>\n",
       "      <td>/r/wallstreetbets/comments/nufcgg/stop_buying_...</td>\n",
       "      <td>2021-06-29 17:33:09.526000+00:00</td>\n",
       "    </tr>\n",
       "    <tr>\n",
       "      <th>5</th>\n",
       "      <td>BLNK</td>\n",
       "      <td>2021-06-08 00:00:00+00:00</td>\n",
       "      <td>Meme</td>\n",
       "      <td>nvbmhi</td>\n",
       "      <td>/r/wallstreetbets/comments/nvbmhi/blnk_is_at_3...</td>\n",
       "      <td>2021-06-29 17:33:09.526000+00:00</td>\n",
       "    </tr>\n",
       "    <tr>\n",
       "      <th>6</th>\n",
       "      <td>BLNK</td>\n",
       "      <td>2021-06-08 00:00:00+00:00</td>\n",
       "      <td>Meme</td>\n",
       "      <td>nvbp01</td>\n",
       "      <td>/r/wallstreetbets/comments/nvbp01/blnk_is_at_3...</td>\n",
       "      <td>2021-06-29 17:33:09.526000+00:00</td>\n",
       "    </tr>\n",
       "    <tr>\n",
       "      <th>7</th>\n",
       "      <td>BLNK</td>\n",
       "      <td>2021-06-02 00:00:00+00:00</td>\n",
       "      <td>Meme</td>\n",
       "      <td>nqtj2o</td>\n",
       "      <td>/r/wallstreetbets/comments/nqtj2o/the_meme_etf...</td>\n",
       "      <td>2021-06-29 17:33:09.526000+00:00</td>\n",
       "    </tr>\n",
       "    <tr>\n",
       "      <th>8</th>\n",
       "      <td>BLNK</td>\n",
       "      <td>2021-06-02 00:00:00+00:00</td>\n",
       "      <td>Meme</td>\n",
       "      <td>nqwrwz</td>\n",
       "      <td>/r/wallstreetbets/comments/nqwrwz/puts_on_blnk...</td>\n",
       "      <td>2021-06-29 17:33:09.526000+00:00</td>\n",
       "    </tr>\n",
       "  </tbody>\n",
       "</table>\n",
       "</div>"
      ],
      "text/plain": [
       "  symbol                       day flair      id  \\\n",
       "0   BLNK 2021-06-03 00:00:00+00:00  Meme  nrcewp   \n",
       "1   BLNK 2021-06-03 00:00:00+00:00  Meme  nremfo   \n",
       "2   BLNK 2021-06-03 00:00:00+00:00  Meme  nrftwz   \n",
       "3   BLNK 2021-06-06 00:00:00+00:00  Meme  ntnxie   \n",
       "4   BLNK 2021-06-07 00:00:00+00:00  Meme  nufcgg   \n",
       "5   BLNK 2021-06-08 00:00:00+00:00  Meme  nvbmhi   \n",
       "6   BLNK 2021-06-08 00:00:00+00:00  Meme  nvbp01   \n",
       "7   BLNK 2021-06-02 00:00:00+00:00  Meme  nqtj2o   \n",
       "8   BLNK 2021-06-02 00:00:00+00:00  Meme  nqwrwz   \n",
       "\n",
       "                                           permalink  \\\n",
       "0  /r/wallstreetbets/comments/nrcewp/shorting_bln...   \n",
       "1  /r/wallstreetbets/comments/nremfo/time_to_shor...   \n",
       "2  /r/wallstreetbets/comments/nrftwz/anyone_ready...   \n",
       "3  /r/wallstreetbets/comments/ntnxie/amcx_still_o...   \n",
       "4  /r/wallstreetbets/comments/nufcgg/stop_buying_...   \n",
       "5  /r/wallstreetbets/comments/nvbmhi/blnk_is_at_3...   \n",
       "6  /r/wallstreetbets/comments/nvbp01/blnk_is_at_3...   \n",
       "7  /r/wallstreetbets/comments/nqtj2o/the_meme_etf...   \n",
       "8  /r/wallstreetbets/comments/nqwrwz/puts_on_blnk...   \n",
       "\n",
       "                   @meta.timestamp  \n",
       "0 2021-06-29 17:33:09.526000+00:00  \n",
       "1 2021-06-29 17:33:09.526000+00:00  \n",
       "2 2021-06-29 17:33:09.526000+00:00  \n",
       "3 2021-06-29 17:33:09.526000+00:00  \n",
       "4 2021-06-29 17:33:09.526000+00:00  \n",
       "5 2021-06-29 17:33:09.526000+00:00  \n",
       "6 2021-06-29 17:33:09.526000+00:00  \n",
       "7 2021-06-29 17:33:09.526000+00:00  \n",
       "8 2021-06-29 17:33:09.526000+00:00  "
      ]
     },
     "execution_count": 335,
     "metadata": {},
     "output_type": "execute_result"
    }
   ],
   "source": [
    "blnk_memes\n",
    "# most (all?) of these were deleted by mods"
   ]
  },
  {
   "cell_type": "code",
   "execution_count": 322,
   "id": "7d71afa3",
   "metadata": {},
   "outputs": [
    {
     "data": {
      "text/html": [
       "<div>\n",
       "<style scoped>\n",
       "    .dataframe tbody tr th:only-of-type {\n",
       "        vertical-align: middle;\n",
       "    }\n",
       "\n",
       "    .dataframe tbody tr th {\n",
       "        vertical-align: top;\n",
       "    }\n",
       "\n",
       "    .dataframe thead th {\n",
       "        text-align: right;\n",
       "    }\n",
       "</style>\n",
       "<table border=\"1\" class=\"dataframe\">\n",
       "  <thead>\n",
       "    <tr style=\"text-align: right;\">\n",
       "      <th>flair</th>\n",
       "      <th>symbol</th>\n",
       "      <th>DD</th>\n",
       "      <th>Discussion</th>\n",
       "      <th>Gain</th>\n",
       "      <th>Loss</th>\n",
       "      <th>Meme</th>\n",
       "      <th>News</th>\n",
       "      <th>Shitpost</th>\n",
       "      <th>Technical Analysis</th>\n",
       "      <th>YOLO</th>\n",
       "      <th>total_posts</th>\n",
       "      <th>DD_percent</th>\n",
       "      <th>Meme_percent</th>\n",
       "      <th>Gain_percent</th>\n",
       "      <th>Loss_percent</th>\n",
       "    </tr>\n",
       "  </thead>\n",
       "  <tbody>\n",
       "    <tr>\n",
       "      <th>0</th>\n",
       "      <td>AHT</td>\n",
       "      <td>4.0</td>\n",
       "      <td>11.0</td>\n",
       "      <td>18.0</td>\n",
       "      <td>0.0</td>\n",
       "      <td>3.0</td>\n",
       "      <td>3.0</td>\n",
       "      <td>0.0</td>\n",
       "      <td>2.0</td>\n",
       "      <td>12.0</td>\n",
       "      <td>53.0</td>\n",
       "      <td>0.075472</td>\n",
       "      <td>0.056604</td>\n",
       "      <td>0.339623</td>\n",
       "      <td>0.000000</td>\n",
       "    </tr>\n",
       "    <tr>\n",
       "      <th>1</th>\n",
       "      <td>GTT</td>\n",
       "      <td>3.0</td>\n",
       "      <td>13.0</td>\n",
       "      <td>9.0</td>\n",
       "      <td>0.0</td>\n",
       "      <td>1.0</td>\n",
       "      <td>3.0</td>\n",
       "      <td>0.0</td>\n",
       "      <td>1.0</td>\n",
       "      <td>9.0</td>\n",
       "      <td>39.0</td>\n",
       "      <td>0.076923</td>\n",
       "      <td>0.025641</td>\n",
       "      <td>0.230769</td>\n",
       "      <td>0.000000</td>\n",
       "    </tr>\n",
       "    <tr>\n",
       "      <th>2</th>\n",
       "      <td>TRCH</td>\n",
       "      <td>9.0</td>\n",
       "      <td>31.0</td>\n",
       "      <td>19.0</td>\n",
       "      <td>3.0</td>\n",
       "      <td>1.0</td>\n",
       "      <td>6.0</td>\n",
       "      <td>0.0</td>\n",
       "      <td>5.0</td>\n",
       "      <td>16.0</td>\n",
       "      <td>90.0</td>\n",
       "      <td>0.100000</td>\n",
       "      <td>0.011111</td>\n",
       "      <td>0.211111</td>\n",
       "      <td>0.033333</td>\n",
       "    </tr>\n",
       "    <tr>\n",
       "      <th>3</th>\n",
       "      <td>RMED</td>\n",
       "      <td>10.0</td>\n",
       "      <td>14.0</td>\n",
       "      <td>10.0</td>\n",
       "      <td>0.0</td>\n",
       "      <td>3.0</td>\n",
       "      <td>2.0</td>\n",
       "      <td>0.0</td>\n",
       "      <td>2.0</td>\n",
       "      <td>7.0</td>\n",
       "      <td>48.0</td>\n",
       "      <td>0.208333</td>\n",
       "      <td>0.062500</td>\n",
       "      <td>0.208333</td>\n",
       "      <td>0.000000</td>\n",
       "    </tr>\n",
       "    <tr>\n",
       "      <th>4</th>\n",
       "      <td>SPCE</td>\n",
       "      <td>28.0</td>\n",
       "      <td>103.0</td>\n",
       "      <td>50.0</td>\n",
       "      <td>4.0</td>\n",
       "      <td>14.0</td>\n",
       "      <td>11.0</td>\n",
       "      <td>0.0</td>\n",
       "      <td>11.0</td>\n",
       "      <td>38.0</td>\n",
       "      <td>259.0</td>\n",
       "      <td>0.108108</td>\n",
       "      <td>0.054054</td>\n",
       "      <td>0.193050</td>\n",
       "      <td>0.015444</td>\n",
       "    </tr>\n",
       "    <tr>\n",
       "      <th>5</th>\n",
       "      <td>GEO</td>\n",
       "      <td>8.0</td>\n",
       "      <td>26.0</td>\n",
       "      <td>16.0</td>\n",
       "      <td>0.0</td>\n",
       "      <td>5.0</td>\n",
       "      <td>5.0</td>\n",
       "      <td>0.0</td>\n",
       "      <td>6.0</td>\n",
       "      <td>21.0</td>\n",
       "      <td>87.0</td>\n",
       "      <td>0.091954</td>\n",
       "      <td>0.057471</td>\n",
       "      <td>0.183908</td>\n",
       "      <td>0.000000</td>\n",
       "    </tr>\n",
       "    <tr>\n",
       "      <th>6</th>\n",
       "      <td>SENS</td>\n",
       "      <td>37.0</td>\n",
       "      <td>44.0</td>\n",
       "      <td>27.0</td>\n",
       "      <td>1.0</td>\n",
       "      <td>5.0</td>\n",
       "      <td>7.0</td>\n",
       "      <td>0.0</td>\n",
       "      <td>9.0</td>\n",
       "      <td>32.0</td>\n",
       "      <td>162.0</td>\n",
       "      <td>0.228395</td>\n",
       "      <td>0.030864</td>\n",
       "      <td>0.166667</td>\n",
       "      <td>0.006173</td>\n",
       "    </tr>\n",
       "    <tr>\n",
       "      <th>7</th>\n",
       "      <td>IVR</td>\n",
       "      <td>5.0</td>\n",
       "      <td>26.0</td>\n",
       "      <td>11.0</td>\n",
       "      <td>1.0</td>\n",
       "      <td>1.0</td>\n",
       "      <td>1.0</td>\n",
       "      <td>0.0</td>\n",
       "      <td>1.0</td>\n",
       "      <td>21.0</td>\n",
       "      <td>67.0</td>\n",
       "      <td>0.074627</td>\n",
       "      <td>0.014925</td>\n",
       "      <td>0.164179</td>\n",
       "      <td>0.014925</td>\n",
       "    </tr>\n",
       "    <tr>\n",
       "      <th>8</th>\n",
       "      <td>NVDA</td>\n",
       "      <td>18.0</td>\n",
       "      <td>18.0</td>\n",
       "      <td>9.0</td>\n",
       "      <td>1.0</td>\n",
       "      <td>0.0</td>\n",
       "      <td>2.0</td>\n",
       "      <td>0.0</td>\n",
       "      <td>2.0</td>\n",
       "      <td>5.0</td>\n",
       "      <td>55.0</td>\n",
       "      <td>0.327273</td>\n",
       "      <td>0.000000</td>\n",
       "      <td>0.163636</td>\n",
       "      <td>0.018182</td>\n",
       "    </tr>\n",
       "    <tr>\n",
       "      <th>9</th>\n",
       "      <td>ASTS</td>\n",
       "      <td>6.0</td>\n",
       "      <td>9.0</td>\n",
       "      <td>8.0</td>\n",
       "      <td>2.0</td>\n",
       "      <td>2.0</td>\n",
       "      <td>1.0</td>\n",
       "      <td>0.0</td>\n",
       "      <td>8.0</td>\n",
       "      <td>14.0</td>\n",
       "      <td>50.0</td>\n",
       "      <td>0.120000</td>\n",
       "      <td>0.040000</td>\n",
       "      <td>0.160000</td>\n",
       "      <td>0.040000</td>\n",
       "    </tr>\n",
       "  </tbody>\n",
       "</table>\n",
       "</div>"
      ],
      "text/plain": [
       "flair symbol    DD  Discussion  Gain  Loss  Meme  News  Shitpost  \\\n",
       "0        AHT   4.0        11.0  18.0   0.0   3.0   3.0       0.0   \n",
       "1        GTT   3.0        13.0   9.0   0.0   1.0   3.0       0.0   \n",
       "2       TRCH   9.0        31.0  19.0   3.0   1.0   6.0       0.0   \n",
       "3       RMED  10.0        14.0  10.0   0.0   3.0   2.0       0.0   \n",
       "4       SPCE  28.0       103.0  50.0   4.0  14.0  11.0       0.0   \n",
       "5        GEO   8.0        26.0  16.0   0.0   5.0   5.0       0.0   \n",
       "6       SENS  37.0        44.0  27.0   1.0   5.0   7.0       0.0   \n",
       "7        IVR   5.0        26.0  11.0   1.0   1.0   1.0       0.0   \n",
       "8       NVDA  18.0        18.0   9.0   1.0   0.0   2.0       0.0   \n",
       "9       ASTS   6.0         9.0   8.0   2.0   2.0   1.0       0.0   \n",
       "\n",
       "flair  Technical Analysis  YOLO  total_posts  DD_percent  Meme_percent  \\\n",
       "0                     2.0  12.0         53.0    0.075472      0.056604   \n",
       "1                     1.0   9.0         39.0    0.076923      0.025641   \n",
       "2                     5.0  16.0         90.0    0.100000      0.011111   \n",
       "3                     2.0   7.0         48.0    0.208333      0.062500   \n",
       "4                    11.0  38.0        259.0    0.108108      0.054054   \n",
       "5                     6.0  21.0         87.0    0.091954      0.057471   \n",
       "6                     9.0  32.0        162.0    0.228395      0.030864   \n",
       "7                     1.0  21.0         67.0    0.074627      0.014925   \n",
       "8                     2.0   5.0         55.0    0.327273      0.000000   \n",
       "9                     8.0  14.0         50.0    0.120000      0.040000   \n",
       "\n",
       "flair  Gain_percent  Loss_percent  \n",
       "0          0.339623      0.000000  \n",
       "1          0.230769      0.000000  \n",
       "2          0.211111      0.033333  \n",
       "3          0.208333      0.000000  \n",
       "4          0.193050      0.015444  \n",
       "5          0.183908      0.000000  \n",
       "6          0.166667      0.006173  \n",
       "7          0.164179      0.014925  \n",
       "8          0.163636      0.018182  \n",
       "9          0.160000      0.040000  "
      ]
     },
     "execution_count": 322,
     "metadata": {},
     "output_type": "execute_result"
    }
   ],
   "source": [
    "gain_symbols = wide_flair[wide_flair.index.isin(top_symbols)] \\\n",
    "    .sort_values(by=['Gain_percent'], ascending=False) \\\n",
    "    .reset_index()\n",
    "gain_symbols.head(10)"
   ]
  },
  {
   "cell_type": "code",
   "execution_count": 329,
   "id": "d6aa6c5d",
   "metadata": {},
   "outputs": [
    {
     "data": {
      "application/vnd.plotly.v1+json": {
       "config": {
        "plotlyServerURL": "https://plot.ly"
       },
       "data": [
        {
         "alignmentgroup": "True",
         "hovertemplate": "symbol=%{y}<br>Gain_percent=%{x}<extra></extra>",
         "legendgroup": "AHT",
         "marker": {
          "color": "#636efa",
          "pattern": {
           "shape": ""
          }
         },
         "name": "AHT",
         "offsetgroup": "AHT",
         "orientation": "h",
         "showlegend": true,
         "textposition": "auto",
         "type": "bar",
         "x": [
          0.33962264150943394
         ],
         "xaxis": "x",
         "y": [
          "AHT"
         ],
         "yaxis": "y"
        },
        {
         "alignmentgroup": "True",
         "hovertemplate": "symbol=%{y}<br>Gain_percent=%{x}<extra></extra>",
         "legendgroup": "GTT",
         "marker": {
          "color": "#EF553B",
          "pattern": {
           "shape": ""
          }
         },
         "name": "GTT",
         "offsetgroup": "GTT",
         "orientation": "h",
         "showlegend": true,
         "textposition": "auto",
         "type": "bar",
         "x": [
          0.23076923076923078
         ],
         "xaxis": "x",
         "y": [
          "GTT"
         ],
         "yaxis": "y"
        },
        {
         "alignmentgroup": "True",
         "hovertemplate": "symbol=%{y}<br>Gain_percent=%{x}<extra></extra>",
         "legendgroup": "TRCH",
         "marker": {
          "color": "#00cc96",
          "pattern": {
           "shape": ""
          }
         },
         "name": "TRCH",
         "offsetgroup": "TRCH",
         "orientation": "h",
         "showlegend": true,
         "textposition": "auto",
         "type": "bar",
         "x": [
          0.2111111111111111
         ],
         "xaxis": "x",
         "y": [
          "TRCH"
         ],
         "yaxis": "y"
        },
        {
         "alignmentgroup": "True",
         "hovertemplate": "symbol=%{y}<br>Gain_percent=%{x}<extra></extra>",
         "legendgroup": "RMED",
         "marker": {
          "color": "#ab63fa",
          "pattern": {
           "shape": ""
          }
         },
         "name": "RMED",
         "offsetgroup": "RMED",
         "orientation": "h",
         "showlegend": true,
         "textposition": "auto",
         "type": "bar",
         "x": [
          0.20833333333333334
         ],
         "xaxis": "x",
         "y": [
          "RMED"
         ],
         "yaxis": "y"
        },
        {
         "alignmentgroup": "True",
         "hovertemplate": "symbol=%{y}<br>Gain_percent=%{x}<extra></extra>",
         "legendgroup": "SPCE",
         "marker": {
          "color": "#FFA15A",
          "pattern": {
           "shape": ""
          }
         },
         "name": "SPCE",
         "offsetgroup": "SPCE",
         "orientation": "h",
         "showlegend": true,
         "textposition": "auto",
         "type": "bar",
         "x": [
          0.19305019305019305
         ],
         "xaxis": "x",
         "y": [
          "SPCE"
         ],
         "yaxis": "y"
        }
       ],
       "layout": {
        "barmode": "relative",
        "legend": {
         "title": {
          "text": "symbol"
         },
         "tracegroupgap": 0
        },
        "template": {
         "data": {
          "bar": [
           {
            "error_x": {
             "color": "#2a3f5f"
            },
            "error_y": {
             "color": "#2a3f5f"
            },
            "marker": {
             "line": {
              "color": "#E5ECF6",
              "width": 0.5
             },
             "pattern": {
              "fillmode": "overlay",
              "size": 10,
              "solidity": 0.2
             }
            },
            "type": "bar"
           }
          ],
          "barpolar": [
           {
            "marker": {
             "line": {
              "color": "#E5ECF6",
              "width": 0.5
             },
             "pattern": {
              "fillmode": "overlay",
              "size": 10,
              "solidity": 0.2
             }
            },
            "type": "barpolar"
           }
          ],
          "carpet": [
           {
            "aaxis": {
             "endlinecolor": "#2a3f5f",
             "gridcolor": "white",
             "linecolor": "white",
             "minorgridcolor": "white",
             "startlinecolor": "#2a3f5f"
            },
            "baxis": {
             "endlinecolor": "#2a3f5f",
             "gridcolor": "white",
             "linecolor": "white",
             "minorgridcolor": "white",
             "startlinecolor": "#2a3f5f"
            },
            "type": "carpet"
           }
          ],
          "choropleth": [
           {
            "colorbar": {
             "outlinewidth": 0,
             "ticks": ""
            },
            "type": "choropleth"
           }
          ],
          "contour": [
           {
            "colorbar": {
             "outlinewidth": 0,
             "ticks": ""
            },
            "colorscale": [
             [
              0,
              "#0d0887"
             ],
             [
              0.1111111111111111,
              "#46039f"
             ],
             [
              0.2222222222222222,
              "#7201a8"
             ],
             [
              0.3333333333333333,
              "#9c179e"
             ],
             [
              0.4444444444444444,
              "#bd3786"
             ],
             [
              0.5555555555555556,
              "#d8576b"
             ],
             [
              0.6666666666666666,
              "#ed7953"
             ],
             [
              0.7777777777777778,
              "#fb9f3a"
             ],
             [
              0.8888888888888888,
              "#fdca26"
             ],
             [
              1,
              "#f0f921"
             ]
            ],
            "type": "contour"
           }
          ],
          "contourcarpet": [
           {
            "colorbar": {
             "outlinewidth": 0,
             "ticks": ""
            },
            "type": "contourcarpet"
           }
          ],
          "heatmap": [
           {
            "colorbar": {
             "outlinewidth": 0,
             "ticks": ""
            },
            "colorscale": [
             [
              0,
              "#0d0887"
             ],
             [
              0.1111111111111111,
              "#46039f"
             ],
             [
              0.2222222222222222,
              "#7201a8"
             ],
             [
              0.3333333333333333,
              "#9c179e"
             ],
             [
              0.4444444444444444,
              "#bd3786"
             ],
             [
              0.5555555555555556,
              "#d8576b"
             ],
             [
              0.6666666666666666,
              "#ed7953"
             ],
             [
              0.7777777777777778,
              "#fb9f3a"
             ],
             [
              0.8888888888888888,
              "#fdca26"
             ],
             [
              1,
              "#f0f921"
             ]
            ],
            "type": "heatmap"
           }
          ],
          "heatmapgl": [
           {
            "colorbar": {
             "outlinewidth": 0,
             "ticks": ""
            },
            "colorscale": [
             [
              0,
              "#0d0887"
             ],
             [
              0.1111111111111111,
              "#46039f"
             ],
             [
              0.2222222222222222,
              "#7201a8"
             ],
             [
              0.3333333333333333,
              "#9c179e"
             ],
             [
              0.4444444444444444,
              "#bd3786"
             ],
             [
              0.5555555555555556,
              "#d8576b"
             ],
             [
              0.6666666666666666,
              "#ed7953"
             ],
             [
              0.7777777777777778,
              "#fb9f3a"
             ],
             [
              0.8888888888888888,
              "#fdca26"
             ],
             [
              1,
              "#f0f921"
             ]
            ],
            "type": "heatmapgl"
           }
          ],
          "histogram": [
           {
            "marker": {
             "pattern": {
              "fillmode": "overlay",
              "size": 10,
              "solidity": 0.2
             }
            },
            "type": "histogram"
           }
          ],
          "histogram2d": [
           {
            "colorbar": {
             "outlinewidth": 0,
             "ticks": ""
            },
            "colorscale": [
             [
              0,
              "#0d0887"
             ],
             [
              0.1111111111111111,
              "#46039f"
             ],
             [
              0.2222222222222222,
              "#7201a8"
             ],
             [
              0.3333333333333333,
              "#9c179e"
             ],
             [
              0.4444444444444444,
              "#bd3786"
             ],
             [
              0.5555555555555556,
              "#d8576b"
             ],
             [
              0.6666666666666666,
              "#ed7953"
             ],
             [
              0.7777777777777778,
              "#fb9f3a"
             ],
             [
              0.8888888888888888,
              "#fdca26"
             ],
             [
              1,
              "#f0f921"
             ]
            ],
            "type": "histogram2d"
           }
          ],
          "histogram2dcontour": [
           {
            "colorbar": {
             "outlinewidth": 0,
             "ticks": ""
            },
            "colorscale": [
             [
              0,
              "#0d0887"
             ],
             [
              0.1111111111111111,
              "#46039f"
             ],
             [
              0.2222222222222222,
              "#7201a8"
             ],
             [
              0.3333333333333333,
              "#9c179e"
             ],
             [
              0.4444444444444444,
              "#bd3786"
             ],
             [
              0.5555555555555556,
              "#d8576b"
             ],
             [
              0.6666666666666666,
              "#ed7953"
             ],
             [
              0.7777777777777778,
              "#fb9f3a"
             ],
             [
              0.8888888888888888,
              "#fdca26"
             ],
             [
              1,
              "#f0f921"
             ]
            ],
            "type": "histogram2dcontour"
           }
          ],
          "mesh3d": [
           {
            "colorbar": {
             "outlinewidth": 0,
             "ticks": ""
            },
            "type": "mesh3d"
           }
          ],
          "parcoords": [
           {
            "line": {
             "colorbar": {
              "outlinewidth": 0,
              "ticks": ""
             }
            },
            "type": "parcoords"
           }
          ],
          "pie": [
           {
            "automargin": true,
            "type": "pie"
           }
          ],
          "scatter": [
           {
            "marker": {
             "colorbar": {
              "outlinewidth": 0,
              "ticks": ""
             }
            },
            "type": "scatter"
           }
          ],
          "scatter3d": [
           {
            "line": {
             "colorbar": {
              "outlinewidth": 0,
              "ticks": ""
             }
            },
            "marker": {
             "colorbar": {
              "outlinewidth": 0,
              "ticks": ""
             }
            },
            "type": "scatter3d"
           }
          ],
          "scattercarpet": [
           {
            "marker": {
             "colorbar": {
              "outlinewidth": 0,
              "ticks": ""
             }
            },
            "type": "scattercarpet"
           }
          ],
          "scattergeo": [
           {
            "marker": {
             "colorbar": {
              "outlinewidth": 0,
              "ticks": ""
             }
            },
            "type": "scattergeo"
           }
          ],
          "scattergl": [
           {
            "marker": {
             "colorbar": {
              "outlinewidth": 0,
              "ticks": ""
             }
            },
            "type": "scattergl"
           }
          ],
          "scattermapbox": [
           {
            "marker": {
             "colorbar": {
              "outlinewidth": 0,
              "ticks": ""
             }
            },
            "type": "scattermapbox"
           }
          ],
          "scatterpolar": [
           {
            "marker": {
             "colorbar": {
              "outlinewidth": 0,
              "ticks": ""
             }
            },
            "type": "scatterpolar"
           }
          ],
          "scatterpolargl": [
           {
            "marker": {
             "colorbar": {
              "outlinewidth": 0,
              "ticks": ""
             }
            },
            "type": "scatterpolargl"
           }
          ],
          "scatterternary": [
           {
            "marker": {
             "colorbar": {
              "outlinewidth": 0,
              "ticks": ""
             }
            },
            "type": "scatterternary"
           }
          ],
          "surface": [
           {
            "colorbar": {
             "outlinewidth": 0,
             "ticks": ""
            },
            "colorscale": [
             [
              0,
              "#0d0887"
             ],
             [
              0.1111111111111111,
              "#46039f"
             ],
             [
              0.2222222222222222,
              "#7201a8"
             ],
             [
              0.3333333333333333,
              "#9c179e"
             ],
             [
              0.4444444444444444,
              "#bd3786"
             ],
             [
              0.5555555555555556,
              "#d8576b"
             ],
             [
              0.6666666666666666,
              "#ed7953"
             ],
             [
              0.7777777777777778,
              "#fb9f3a"
             ],
             [
              0.8888888888888888,
              "#fdca26"
             ],
             [
              1,
              "#f0f921"
             ]
            ],
            "type": "surface"
           }
          ],
          "table": [
           {
            "cells": {
             "fill": {
              "color": "#EBF0F8"
             },
             "line": {
              "color": "white"
             }
            },
            "header": {
             "fill": {
              "color": "#C8D4E3"
             },
             "line": {
              "color": "white"
             }
            },
            "type": "table"
           }
          ]
         },
         "layout": {
          "annotationdefaults": {
           "arrowcolor": "#2a3f5f",
           "arrowhead": 0,
           "arrowwidth": 1
          },
          "autotypenumbers": "strict",
          "coloraxis": {
           "colorbar": {
            "outlinewidth": 0,
            "ticks": ""
           }
          },
          "colorscale": {
           "diverging": [
            [
             0,
             "#8e0152"
            ],
            [
             0.1,
             "#c51b7d"
            ],
            [
             0.2,
             "#de77ae"
            ],
            [
             0.3,
             "#f1b6da"
            ],
            [
             0.4,
             "#fde0ef"
            ],
            [
             0.5,
             "#f7f7f7"
            ],
            [
             0.6,
             "#e6f5d0"
            ],
            [
             0.7,
             "#b8e186"
            ],
            [
             0.8,
             "#7fbc41"
            ],
            [
             0.9,
             "#4d9221"
            ],
            [
             1,
             "#276419"
            ]
           ],
           "sequential": [
            [
             0,
             "#0d0887"
            ],
            [
             0.1111111111111111,
             "#46039f"
            ],
            [
             0.2222222222222222,
             "#7201a8"
            ],
            [
             0.3333333333333333,
             "#9c179e"
            ],
            [
             0.4444444444444444,
             "#bd3786"
            ],
            [
             0.5555555555555556,
             "#d8576b"
            ],
            [
             0.6666666666666666,
             "#ed7953"
            ],
            [
             0.7777777777777778,
             "#fb9f3a"
            ],
            [
             0.8888888888888888,
             "#fdca26"
            ],
            [
             1,
             "#f0f921"
            ]
           ],
           "sequentialminus": [
            [
             0,
             "#0d0887"
            ],
            [
             0.1111111111111111,
             "#46039f"
            ],
            [
             0.2222222222222222,
             "#7201a8"
            ],
            [
             0.3333333333333333,
             "#9c179e"
            ],
            [
             0.4444444444444444,
             "#bd3786"
            ],
            [
             0.5555555555555556,
             "#d8576b"
            ],
            [
             0.6666666666666666,
             "#ed7953"
            ],
            [
             0.7777777777777778,
             "#fb9f3a"
            ],
            [
             0.8888888888888888,
             "#fdca26"
            ],
            [
             1,
             "#f0f921"
            ]
           ]
          },
          "colorway": [
           "#636efa",
           "#EF553B",
           "#00cc96",
           "#ab63fa",
           "#FFA15A",
           "#19d3f3",
           "#FF6692",
           "#B6E880",
           "#FF97FF",
           "#FECB52"
          ],
          "font": {
           "color": "#2a3f5f"
          },
          "geo": {
           "bgcolor": "white",
           "lakecolor": "white",
           "landcolor": "#E5ECF6",
           "showlakes": true,
           "showland": true,
           "subunitcolor": "white"
          },
          "hoverlabel": {
           "align": "left"
          },
          "hovermode": "closest",
          "mapbox": {
           "style": "light"
          },
          "paper_bgcolor": "white",
          "plot_bgcolor": "#E5ECF6",
          "polar": {
           "angularaxis": {
            "gridcolor": "white",
            "linecolor": "white",
            "ticks": ""
           },
           "bgcolor": "#E5ECF6",
           "radialaxis": {
            "gridcolor": "white",
            "linecolor": "white",
            "ticks": ""
           }
          },
          "scene": {
           "xaxis": {
            "backgroundcolor": "#E5ECF6",
            "gridcolor": "white",
            "gridwidth": 2,
            "linecolor": "white",
            "showbackground": true,
            "ticks": "",
            "zerolinecolor": "white"
           },
           "yaxis": {
            "backgroundcolor": "#E5ECF6",
            "gridcolor": "white",
            "gridwidth": 2,
            "linecolor": "white",
            "showbackground": true,
            "ticks": "",
            "zerolinecolor": "white"
           },
           "zaxis": {
            "backgroundcolor": "#E5ECF6",
            "gridcolor": "white",
            "gridwidth": 2,
            "linecolor": "white",
            "showbackground": true,
            "ticks": "",
            "zerolinecolor": "white"
           }
          },
          "shapedefaults": {
           "line": {
            "color": "#2a3f5f"
           }
          },
          "ternary": {
           "aaxis": {
            "gridcolor": "white",
            "linecolor": "white",
            "ticks": ""
           },
           "baxis": {
            "gridcolor": "white",
            "linecolor": "white",
            "ticks": ""
           },
           "bgcolor": "#E5ECF6",
           "caxis": {
            "gridcolor": "white",
            "linecolor": "white",
            "ticks": ""
           }
          },
          "title": {
           "x": 0.05
          },
          "xaxis": {
           "automargin": true,
           "gridcolor": "white",
           "linecolor": "white",
           "ticks": "",
           "title": {
            "standoff": 15
           },
           "zerolinecolor": "white",
           "zerolinewidth": 2
          },
          "yaxis": {
           "automargin": true,
           "gridcolor": "white",
           "linecolor": "white",
           "ticks": "",
           "title": {
            "standoff": 15
           },
           "zerolinecolor": "white",
           "zerolinewidth": 2
          }
         }
        },
        "title": {
         "text": "Top Gain Stocks"
        },
        "xaxis": {
         "anchor": "y",
         "domain": [
          0,
          1
         ],
         "title": {
          "text": "Gain_percent"
         }
        },
        "yaxis": {
         "anchor": "x",
         "categoryarray": [
          "SPCE",
          "RMED",
          "TRCH",
          "GTT",
          "AHT"
         ],
         "categoryorder": "array",
         "domain": [
          0,
          1
         ],
         "title": {
          "text": "symbol"
         }
        }
       }
      },
      "text/html": [
       "<div>                            <div id=\"9481adef-ea45-419d-8928-2543a4c2d9fd\" class=\"plotly-graph-div\" style=\"height:525px; width:100%;\"></div>            <script type=\"text/javascript\">                require([\"plotly\"], function(Plotly) {                    window.PLOTLYENV=window.PLOTLYENV || {};                                    if (document.getElementById(\"9481adef-ea45-419d-8928-2543a4c2d9fd\")) {                    Plotly.newPlot(                        \"9481adef-ea45-419d-8928-2543a4c2d9fd\",                        [{\"alignmentgroup\":\"True\",\"hovertemplate\":\"symbol=%{y}<br>Gain_percent=%{x}<extra></extra>\",\"legendgroup\":\"AHT\",\"marker\":{\"color\":\"#636efa\",\"pattern\":{\"shape\":\"\"}},\"name\":\"AHT\",\"offsetgroup\":\"AHT\",\"orientation\":\"h\",\"showlegend\":true,\"textposition\":\"auto\",\"type\":\"bar\",\"x\":[0.33962264150943394],\"xaxis\":\"x\",\"y\":[\"AHT\"],\"yaxis\":\"y\"},{\"alignmentgroup\":\"True\",\"hovertemplate\":\"symbol=%{y}<br>Gain_percent=%{x}<extra></extra>\",\"legendgroup\":\"GTT\",\"marker\":{\"color\":\"#EF553B\",\"pattern\":{\"shape\":\"\"}},\"name\":\"GTT\",\"offsetgroup\":\"GTT\",\"orientation\":\"h\",\"showlegend\":true,\"textposition\":\"auto\",\"type\":\"bar\",\"x\":[0.23076923076923078],\"xaxis\":\"x\",\"y\":[\"GTT\"],\"yaxis\":\"y\"},{\"alignmentgroup\":\"True\",\"hovertemplate\":\"symbol=%{y}<br>Gain_percent=%{x}<extra></extra>\",\"legendgroup\":\"TRCH\",\"marker\":{\"color\":\"#00cc96\",\"pattern\":{\"shape\":\"\"}},\"name\":\"TRCH\",\"offsetgroup\":\"TRCH\",\"orientation\":\"h\",\"showlegend\":true,\"textposition\":\"auto\",\"type\":\"bar\",\"x\":[0.2111111111111111],\"xaxis\":\"x\",\"y\":[\"TRCH\"],\"yaxis\":\"y\"},{\"alignmentgroup\":\"True\",\"hovertemplate\":\"symbol=%{y}<br>Gain_percent=%{x}<extra></extra>\",\"legendgroup\":\"RMED\",\"marker\":{\"color\":\"#ab63fa\",\"pattern\":{\"shape\":\"\"}},\"name\":\"RMED\",\"offsetgroup\":\"RMED\",\"orientation\":\"h\",\"showlegend\":true,\"textposition\":\"auto\",\"type\":\"bar\",\"x\":[0.20833333333333334],\"xaxis\":\"x\",\"y\":[\"RMED\"],\"yaxis\":\"y\"},{\"alignmentgroup\":\"True\",\"hovertemplate\":\"symbol=%{y}<br>Gain_percent=%{x}<extra></extra>\",\"legendgroup\":\"SPCE\",\"marker\":{\"color\":\"#FFA15A\",\"pattern\":{\"shape\":\"\"}},\"name\":\"SPCE\",\"offsetgroup\":\"SPCE\",\"orientation\":\"h\",\"showlegend\":true,\"textposition\":\"auto\",\"type\":\"bar\",\"x\":[0.19305019305019305],\"xaxis\":\"x\",\"y\":[\"SPCE\"],\"yaxis\":\"y\"}],                        {\"barmode\":\"relative\",\"legend\":{\"title\":{\"text\":\"symbol\"},\"tracegroupgap\":0},\"template\":{\"data\":{\"bar\":[{\"error_x\":{\"color\":\"#2a3f5f\"},\"error_y\":{\"color\":\"#2a3f5f\"},\"marker\":{\"line\":{\"color\":\"#E5ECF6\",\"width\":0.5},\"pattern\":{\"fillmode\":\"overlay\",\"size\":10,\"solidity\":0.2}},\"type\":\"bar\"}],\"barpolar\":[{\"marker\":{\"line\":{\"color\":\"#E5ECF6\",\"width\":0.5},\"pattern\":{\"fillmode\":\"overlay\",\"size\":10,\"solidity\":0.2}},\"type\":\"barpolar\"}],\"carpet\":[{\"aaxis\":{\"endlinecolor\":\"#2a3f5f\",\"gridcolor\":\"white\",\"linecolor\":\"white\",\"minorgridcolor\":\"white\",\"startlinecolor\":\"#2a3f5f\"},\"baxis\":{\"endlinecolor\":\"#2a3f5f\",\"gridcolor\":\"white\",\"linecolor\":\"white\",\"minorgridcolor\":\"white\",\"startlinecolor\":\"#2a3f5f\"},\"type\":\"carpet\"}],\"choropleth\":[{\"colorbar\":{\"outlinewidth\":0,\"ticks\":\"\"},\"type\":\"choropleth\"}],\"contour\":[{\"colorbar\":{\"outlinewidth\":0,\"ticks\":\"\"},\"colorscale\":[[0.0,\"#0d0887\"],[0.1111111111111111,\"#46039f\"],[0.2222222222222222,\"#7201a8\"],[0.3333333333333333,\"#9c179e\"],[0.4444444444444444,\"#bd3786\"],[0.5555555555555556,\"#d8576b\"],[0.6666666666666666,\"#ed7953\"],[0.7777777777777778,\"#fb9f3a\"],[0.8888888888888888,\"#fdca26\"],[1.0,\"#f0f921\"]],\"type\":\"contour\"}],\"contourcarpet\":[{\"colorbar\":{\"outlinewidth\":0,\"ticks\":\"\"},\"type\":\"contourcarpet\"}],\"heatmap\":[{\"colorbar\":{\"outlinewidth\":0,\"ticks\":\"\"},\"colorscale\":[[0.0,\"#0d0887\"],[0.1111111111111111,\"#46039f\"],[0.2222222222222222,\"#7201a8\"],[0.3333333333333333,\"#9c179e\"],[0.4444444444444444,\"#bd3786\"],[0.5555555555555556,\"#d8576b\"],[0.6666666666666666,\"#ed7953\"],[0.7777777777777778,\"#fb9f3a\"],[0.8888888888888888,\"#fdca26\"],[1.0,\"#f0f921\"]],\"type\":\"heatmap\"}],\"heatmapgl\":[{\"colorbar\":{\"outlinewidth\":0,\"ticks\":\"\"},\"colorscale\":[[0.0,\"#0d0887\"],[0.1111111111111111,\"#46039f\"],[0.2222222222222222,\"#7201a8\"],[0.3333333333333333,\"#9c179e\"],[0.4444444444444444,\"#bd3786\"],[0.5555555555555556,\"#d8576b\"],[0.6666666666666666,\"#ed7953\"],[0.7777777777777778,\"#fb9f3a\"],[0.8888888888888888,\"#fdca26\"],[1.0,\"#f0f921\"]],\"type\":\"heatmapgl\"}],\"histogram\":[{\"marker\":{\"pattern\":{\"fillmode\":\"overlay\",\"size\":10,\"solidity\":0.2}},\"type\":\"histogram\"}],\"histogram2d\":[{\"colorbar\":{\"outlinewidth\":0,\"ticks\":\"\"},\"colorscale\":[[0.0,\"#0d0887\"],[0.1111111111111111,\"#46039f\"],[0.2222222222222222,\"#7201a8\"],[0.3333333333333333,\"#9c179e\"],[0.4444444444444444,\"#bd3786\"],[0.5555555555555556,\"#d8576b\"],[0.6666666666666666,\"#ed7953\"],[0.7777777777777778,\"#fb9f3a\"],[0.8888888888888888,\"#fdca26\"],[1.0,\"#f0f921\"]],\"type\":\"histogram2d\"}],\"histogram2dcontour\":[{\"colorbar\":{\"outlinewidth\":0,\"ticks\":\"\"},\"colorscale\":[[0.0,\"#0d0887\"],[0.1111111111111111,\"#46039f\"],[0.2222222222222222,\"#7201a8\"],[0.3333333333333333,\"#9c179e\"],[0.4444444444444444,\"#bd3786\"],[0.5555555555555556,\"#d8576b\"],[0.6666666666666666,\"#ed7953\"],[0.7777777777777778,\"#fb9f3a\"],[0.8888888888888888,\"#fdca26\"],[1.0,\"#f0f921\"]],\"type\":\"histogram2dcontour\"}],\"mesh3d\":[{\"colorbar\":{\"outlinewidth\":0,\"ticks\":\"\"},\"type\":\"mesh3d\"}],\"parcoords\":[{\"line\":{\"colorbar\":{\"outlinewidth\":0,\"ticks\":\"\"}},\"type\":\"parcoords\"}],\"pie\":[{\"automargin\":true,\"type\":\"pie\"}],\"scatter\":[{\"marker\":{\"colorbar\":{\"outlinewidth\":0,\"ticks\":\"\"}},\"type\":\"scatter\"}],\"scatter3d\":[{\"line\":{\"colorbar\":{\"outlinewidth\":0,\"ticks\":\"\"}},\"marker\":{\"colorbar\":{\"outlinewidth\":0,\"ticks\":\"\"}},\"type\":\"scatter3d\"}],\"scattercarpet\":[{\"marker\":{\"colorbar\":{\"outlinewidth\":0,\"ticks\":\"\"}},\"type\":\"scattercarpet\"}],\"scattergeo\":[{\"marker\":{\"colorbar\":{\"outlinewidth\":0,\"ticks\":\"\"}},\"type\":\"scattergeo\"}],\"scattergl\":[{\"marker\":{\"colorbar\":{\"outlinewidth\":0,\"ticks\":\"\"}},\"type\":\"scattergl\"}],\"scattermapbox\":[{\"marker\":{\"colorbar\":{\"outlinewidth\":0,\"ticks\":\"\"}},\"type\":\"scattermapbox\"}],\"scatterpolar\":[{\"marker\":{\"colorbar\":{\"outlinewidth\":0,\"ticks\":\"\"}},\"type\":\"scatterpolar\"}],\"scatterpolargl\":[{\"marker\":{\"colorbar\":{\"outlinewidth\":0,\"ticks\":\"\"}},\"type\":\"scatterpolargl\"}],\"scatterternary\":[{\"marker\":{\"colorbar\":{\"outlinewidth\":0,\"ticks\":\"\"}},\"type\":\"scatterternary\"}],\"surface\":[{\"colorbar\":{\"outlinewidth\":0,\"ticks\":\"\"},\"colorscale\":[[0.0,\"#0d0887\"],[0.1111111111111111,\"#46039f\"],[0.2222222222222222,\"#7201a8\"],[0.3333333333333333,\"#9c179e\"],[0.4444444444444444,\"#bd3786\"],[0.5555555555555556,\"#d8576b\"],[0.6666666666666666,\"#ed7953\"],[0.7777777777777778,\"#fb9f3a\"],[0.8888888888888888,\"#fdca26\"],[1.0,\"#f0f921\"]],\"type\":\"surface\"}],\"table\":[{\"cells\":{\"fill\":{\"color\":\"#EBF0F8\"},\"line\":{\"color\":\"white\"}},\"header\":{\"fill\":{\"color\":\"#C8D4E3\"},\"line\":{\"color\":\"white\"}},\"type\":\"table\"}]},\"layout\":{\"annotationdefaults\":{\"arrowcolor\":\"#2a3f5f\",\"arrowhead\":0,\"arrowwidth\":1},\"autotypenumbers\":\"strict\",\"coloraxis\":{\"colorbar\":{\"outlinewidth\":0,\"ticks\":\"\"}},\"colorscale\":{\"diverging\":[[0,\"#8e0152\"],[0.1,\"#c51b7d\"],[0.2,\"#de77ae\"],[0.3,\"#f1b6da\"],[0.4,\"#fde0ef\"],[0.5,\"#f7f7f7\"],[0.6,\"#e6f5d0\"],[0.7,\"#b8e186\"],[0.8,\"#7fbc41\"],[0.9,\"#4d9221\"],[1,\"#276419\"]],\"sequential\":[[0.0,\"#0d0887\"],[0.1111111111111111,\"#46039f\"],[0.2222222222222222,\"#7201a8\"],[0.3333333333333333,\"#9c179e\"],[0.4444444444444444,\"#bd3786\"],[0.5555555555555556,\"#d8576b\"],[0.6666666666666666,\"#ed7953\"],[0.7777777777777778,\"#fb9f3a\"],[0.8888888888888888,\"#fdca26\"],[1.0,\"#f0f921\"]],\"sequentialminus\":[[0.0,\"#0d0887\"],[0.1111111111111111,\"#46039f\"],[0.2222222222222222,\"#7201a8\"],[0.3333333333333333,\"#9c179e\"],[0.4444444444444444,\"#bd3786\"],[0.5555555555555556,\"#d8576b\"],[0.6666666666666666,\"#ed7953\"],[0.7777777777777778,\"#fb9f3a\"],[0.8888888888888888,\"#fdca26\"],[1.0,\"#f0f921\"]]},\"colorway\":[\"#636efa\",\"#EF553B\",\"#00cc96\",\"#ab63fa\",\"#FFA15A\",\"#19d3f3\",\"#FF6692\",\"#B6E880\",\"#FF97FF\",\"#FECB52\"],\"font\":{\"color\":\"#2a3f5f\"},\"geo\":{\"bgcolor\":\"white\",\"lakecolor\":\"white\",\"landcolor\":\"#E5ECF6\",\"showlakes\":true,\"showland\":true,\"subunitcolor\":\"white\"},\"hoverlabel\":{\"align\":\"left\"},\"hovermode\":\"closest\",\"mapbox\":{\"style\":\"light\"},\"paper_bgcolor\":\"white\",\"plot_bgcolor\":\"#E5ECF6\",\"polar\":{\"angularaxis\":{\"gridcolor\":\"white\",\"linecolor\":\"white\",\"ticks\":\"\"},\"bgcolor\":\"#E5ECF6\",\"radialaxis\":{\"gridcolor\":\"white\",\"linecolor\":\"white\",\"ticks\":\"\"}},\"scene\":{\"xaxis\":{\"backgroundcolor\":\"#E5ECF6\",\"gridcolor\":\"white\",\"gridwidth\":2,\"linecolor\":\"white\",\"showbackground\":true,\"ticks\":\"\",\"zerolinecolor\":\"white\"},\"yaxis\":{\"backgroundcolor\":\"#E5ECF6\",\"gridcolor\":\"white\",\"gridwidth\":2,\"linecolor\":\"white\",\"showbackground\":true,\"ticks\":\"\",\"zerolinecolor\":\"white\"},\"zaxis\":{\"backgroundcolor\":\"#E5ECF6\",\"gridcolor\":\"white\",\"gridwidth\":2,\"linecolor\":\"white\",\"showbackground\":true,\"ticks\":\"\",\"zerolinecolor\":\"white\"}},\"shapedefaults\":{\"line\":{\"color\":\"#2a3f5f\"}},\"ternary\":{\"aaxis\":{\"gridcolor\":\"white\",\"linecolor\":\"white\",\"ticks\":\"\"},\"baxis\":{\"gridcolor\":\"white\",\"linecolor\":\"white\",\"ticks\":\"\"},\"bgcolor\":\"#E5ECF6\",\"caxis\":{\"gridcolor\":\"white\",\"linecolor\":\"white\",\"ticks\":\"\"}},\"title\":{\"x\":0.05},\"xaxis\":{\"automargin\":true,\"gridcolor\":\"white\",\"linecolor\":\"white\",\"ticks\":\"\",\"title\":{\"standoff\":15},\"zerolinecolor\":\"white\",\"zerolinewidth\":2},\"yaxis\":{\"automargin\":true,\"gridcolor\":\"white\",\"linecolor\":\"white\",\"ticks\":\"\",\"title\":{\"standoff\":15},\"zerolinecolor\":\"white\",\"zerolinewidth\":2}}},\"title\":{\"text\":\"Top Gain Stocks\"},\"xaxis\":{\"anchor\":\"y\",\"domain\":[0.0,1.0],\"title\":{\"text\":\"Gain_percent\"}},\"yaxis\":{\"anchor\":\"x\",\"categoryarray\":[\"SPCE\",\"RMED\",\"TRCH\",\"GTT\",\"AHT\"],\"categoryorder\":\"array\",\"domain\":[0.0,1.0],\"title\":{\"text\":\"symbol\"}}},                        {\"responsive\": true}                    ).then(function(){\n",
       "                            \n",
       "var gd = document.getElementById('9481adef-ea45-419d-8928-2543a4c2d9fd');\n",
       "var x = new MutationObserver(function (mutations, observer) {{\n",
       "        var display = window.getComputedStyle(gd).display;\n",
       "        if (!display || display === 'none') {{\n",
       "            console.log([gd, 'removed!']);\n",
       "            Plotly.purge(gd);\n",
       "            observer.disconnect();\n",
       "        }}\n",
       "}});\n",
       "\n",
       "// Listen for the removal of the full notebook cells\n",
       "var notebookContainer = gd.closest('#notebook-container');\n",
       "if (notebookContainer) {{\n",
       "    x.observe(notebookContainer, {childList: true});\n",
       "}}\n",
       "\n",
       "// Listen for the clearing of the current output cell\n",
       "var outputEl = gd.closest('.output');\n",
       "if (outputEl) {{\n",
       "    x.observe(outputEl, {childList: true});\n",
       "}}\n",
       "\n",
       "                        })                };                });            </script>        </div>"
      ]
     },
     "metadata": {},
     "output_type": "display_data"
    }
   ],
   "source": [
    "fig = px.bar(gain_symbols[0:5], x=\"Gain_percent\", y=\"symbol\", color='symbol', orientation='h', title='Top Gain Stocks')\n",
    "fig.show()"
   ]
  },
  {
   "cell_type": "code",
   "execution_count": 326,
   "id": "8bc5d9c1",
   "metadata": {},
   "outputs": [
    {
     "data": {
      "text/html": [
       "<div>\n",
       "<style scoped>\n",
       "    .dataframe tbody tr th:only-of-type {\n",
       "        vertical-align: middle;\n",
       "    }\n",
       "\n",
       "    .dataframe tbody tr th {\n",
       "        vertical-align: top;\n",
       "    }\n",
       "\n",
       "    .dataframe thead th {\n",
       "        text-align: right;\n",
       "    }\n",
       "</style>\n",
       "<table border=\"1\" class=\"dataframe\">\n",
       "  <thead>\n",
       "    <tr style=\"text-align: right;\">\n",
       "      <th>flair</th>\n",
       "      <th>symbol</th>\n",
       "      <th>DD</th>\n",
       "      <th>Discussion</th>\n",
       "      <th>Gain</th>\n",
       "      <th>Loss</th>\n",
       "      <th>Meme</th>\n",
       "      <th>News</th>\n",
       "      <th>Shitpost</th>\n",
       "      <th>Technical Analysis</th>\n",
       "      <th>YOLO</th>\n",
       "      <th>total_posts</th>\n",
       "      <th>DD_percent</th>\n",
       "      <th>Meme_percent</th>\n",
       "      <th>Gain_percent</th>\n",
       "      <th>Loss_percent</th>\n",
       "    </tr>\n",
       "  </thead>\n",
       "  <tbody>\n",
       "    <tr>\n",
       "      <th>0</th>\n",
       "      <td>ORPH</td>\n",
       "      <td>0.0</td>\n",
       "      <td>27.0</td>\n",
       "      <td>6.0</td>\n",
       "      <td>4.0</td>\n",
       "      <td>1.0</td>\n",
       "      <td>0.0</td>\n",
       "      <td>0.0</td>\n",
       "      <td>1.0</td>\n",
       "      <td>10.0</td>\n",
       "      <td>49.0</td>\n",
       "      <td>0.000000</td>\n",
       "      <td>0.020408</td>\n",
       "      <td>0.122449</td>\n",
       "      <td>0.081633</td>\n",
       "    </tr>\n",
       "    <tr>\n",
       "      <th>1</th>\n",
       "      <td>QS</td>\n",
       "      <td>6.0</td>\n",
       "      <td>15.0</td>\n",
       "      <td>2.0</td>\n",
       "      <td>2.0</td>\n",
       "      <td>1.0</td>\n",
       "      <td>2.0</td>\n",
       "      <td>0.0</td>\n",
       "      <td>3.0</td>\n",
       "      <td>5.0</td>\n",
       "      <td>36.0</td>\n",
       "      <td>0.166667</td>\n",
       "      <td>0.027778</td>\n",
       "      <td>0.055556</td>\n",
       "      <td>0.055556</td>\n",
       "    </tr>\n",
       "    <tr>\n",
       "      <th>2</th>\n",
       "      <td>TD</td>\n",
       "      <td>20.0</td>\n",
       "      <td>57.0</td>\n",
       "      <td>2.0</td>\n",
       "      <td>5.0</td>\n",
       "      <td>1.0</td>\n",
       "      <td>7.0</td>\n",
       "      <td>0.0</td>\n",
       "      <td>4.0</td>\n",
       "      <td>4.0</td>\n",
       "      <td>100.0</td>\n",
       "      <td>0.200000</td>\n",
       "      <td>0.010000</td>\n",
       "      <td>0.020000</td>\n",
       "      <td>0.050000</td>\n",
       "    </tr>\n",
       "    <tr>\n",
       "      <th>3</th>\n",
       "      <td>SDC</td>\n",
       "      <td>5.0</td>\n",
       "      <td>18.0</td>\n",
       "      <td>6.0</td>\n",
       "      <td>3.0</td>\n",
       "      <td>6.0</td>\n",
       "      <td>2.0</td>\n",
       "      <td>0.0</td>\n",
       "      <td>2.0</td>\n",
       "      <td>19.0</td>\n",
       "      <td>61.0</td>\n",
       "      <td>0.081967</td>\n",
       "      <td>0.098361</td>\n",
       "      <td>0.098361</td>\n",
       "      <td>0.049180</td>\n",
       "    </tr>\n",
       "    <tr>\n",
       "      <th>4</th>\n",
       "      <td>GSAT</td>\n",
       "      <td>4.0</td>\n",
       "      <td>14.0</td>\n",
       "      <td>3.0</td>\n",
       "      <td>2.0</td>\n",
       "      <td>4.0</td>\n",
       "      <td>4.0</td>\n",
       "      <td>0.0</td>\n",
       "      <td>2.0</td>\n",
       "      <td>10.0</td>\n",
       "      <td>43.0</td>\n",
       "      <td>0.093023</td>\n",
       "      <td>0.093023</td>\n",
       "      <td>0.069767</td>\n",
       "      <td>0.046512</td>\n",
       "    </tr>\n",
       "    <tr>\n",
       "      <th>5</th>\n",
       "      <td>PSFE</td>\n",
       "      <td>16.0</td>\n",
       "      <td>9.0</td>\n",
       "      <td>2.0</td>\n",
       "      <td>3.0</td>\n",
       "      <td>1.0</td>\n",
       "      <td>0.0</td>\n",
       "      <td>0.0</td>\n",
       "      <td>2.0</td>\n",
       "      <td>32.0</td>\n",
       "      <td>65.0</td>\n",
       "      <td>0.246154</td>\n",
       "      <td>0.015385</td>\n",
       "      <td>0.030769</td>\n",
       "      <td>0.046154</td>\n",
       "    </tr>\n",
       "    <tr>\n",
       "      <th>6</th>\n",
       "      <td>BB</td>\n",
       "      <td>246.0</td>\n",
       "      <td>1085.0</td>\n",
       "      <td>230.0</td>\n",
       "      <td>130.0</td>\n",
       "      <td>252.0</td>\n",
       "      <td>66.0</td>\n",
       "      <td>0.0</td>\n",
       "      <td>114.0</td>\n",
       "      <td>845.0</td>\n",
       "      <td>2968.0</td>\n",
       "      <td>0.082884</td>\n",
       "      <td>0.084906</td>\n",
       "      <td>0.077493</td>\n",
       "      <td>0.043801</td>\n",
       "    </tr>\n",
       "    <tr>\n",
       "      <th>7</th>\n",
       "      <td>NAKD</td>\n",
       "      <td>3.0</td>\n",
       "      <td>41.0</td>\n",
       "      <td>15.0</td>\n",
       "      <td>4.0</td>\n",
       "      <td>8.0</td>\n",
       "      <td>2.0</td>\n",
       "      <td>0.0</td>\n",
       "      <td>5.0</td>\n",
       "      <td>20.0</td>\n",
       "      <td>98.0</td>\n",
       "      <td>0.030612</td>\n",
       "      <td>0.081633</td>\n",
       "      <td>0.153061</td>\n",
       "      <td>0.040816</td>\n",
       "    </tr>\n",
       "    <tr>\n",
       "      <th>8</th>\n",
       "      <td>ASTS</td>\n",
       "      <td>6.0</td>\n",
       "      <td>9.0</td>\n",
       "      <td>8.0</td>\n",
       "      <td>2.0</td>\n",
       "      <td>2.0</td>\n",
       "      <td>1.0</td>\n",
       "      <td>0.0</td>\n",
       "      <td>8.0</td>\n",
       "      <td>14.0</td>\n",
       "      <td>50.0</td>\n",
       "      <td>0.120000</td>\n",
       "      <td>0.040000</td>\n",
       "      <td>0.160000</td>\n",
       "      <td>0.040000</td>\n",
       "    </tr>\n",
       "    <tr>\n",
       "      <th>9</th>\n",
       "      <td>UWMC</td>\n",
       "      <td>86.0</td>\n",
       "      <td>135.0</td>\n",
       "      <td>35.0</td>\n",
       "      <td>19.0</td>\n",
       "      <td>20.0</td>\n",
       "      <td>9.0</td>\n",
       "      <td>0.0</td>\n",
       "      <td>45.0</td>\n",
       "      <td>142.0</td>\n",
       "      <td>491.0</td>\n",
       "      <td>0.175153</td>\n",
       "      <td>0.040733</td>\n",
       "      <td>0.071283</td>\n",
       "      <td>0.038697</td>\n",
       "    </tr>\n",
       "  </tbody>\n",
       "</table>\n",
       "</div>"
      ],
      "text/plain": [
       "flair symbol     DD  Discussion   Gain   Loss   Meme  News  Shitpost  \\\n",
       "0       ORPH    0.0        27.0    6.0    4.0    1.0   0.0       0.0   \n",
       "1         QS    6.0        15.0    2.0    2.0    1.0   2.0       0.0   \n",
       "2         TD   20.0        57.0    2.0    5.0    1.0   7.0       0.0   \n",
       "3        SDC    5.0        18.0    6.0    3.0    6.0   2.0       0.0   \n",
       "4       GSAT    4.0        14.0    3.0    2.0    4.0   4.0       0.0   \n",
       "5       PSFE   16.0         9.0    2.0    3.0    1.0   0.0       0.0   \n",
       "6         BB  246.0      1085.0  230.0  130.0  252.0  66.0       0.0   \n",
       "7       NAKD    3.0        41.0   15.0    4.0    8.0   2.0       0.0   \n",
       "8       ASTS    6.0         9.0    8.0    2.0    2.0   1.0       0.0   \n",
       "9       UWMC   86.0       135.0   35.0   19.0   20.0   9.0       0.0   \n",
       "\n",
       "flair  Technical Analysis   YOLO  total_posts  DD_percent  Meme_percent  \\\n",
       "0                     1.0   10.0         49.0    0.000000      0.020408   \n",
       "1                     3.0    5.0         36.0    0.166667      0.027778   \n",
       "2                     4.0    4.0        100.0    0.200000      0.010000   \n",
       "3                     2.0   19.0         61.0    0.081967      0.098361   \n",
       "4                     2.0   10.0         43.0    0.093023      0.093023   \n",
       "5                     2.0   32.0         65.0    0.246154      0.015385   \n",
       "6                   114.0  845.0       2968.0    0.082884      0.084906   \n",
       "7                     5.0   20.0         98.0    0.030612      0.081633   \n",
       "8                     8.0   14.0         50.0    0.120000      0.040000   \n",
       "9                    45.0  142.0        491.0    0.175153      0.040733   \n",
       "\n",
       "flair  Gain_percent  Loss_percent  \n",
       "0          0.122449      0.081633  \n",
       "1          0.055556      0.055556  \n",
       "2          0.020000      0.050000  \n",
       "3          0.098361      0.049180  \n",
       "4          0.069767      0.046512  \n",
       "5          0.030769      0.046154  \n",
       "6          0.077493      0.043801  \n",
       "7          0.153061      0.040816  \n",
       "8          0.160000      0.040000  \n",
       "9          0.071283      0.038697  "
      ]
     },
     "execution_count": 326,
     "metadata": {},
     "output_type": "execute_result"
    }
   ],
   "source": [
    "loss_symbols = wide_flair[wide_flair.index.isin(top_symbols)] \\\n",
    "    .sort_values(by=['Loss_percent'], ascending=False) \\\n",
    "    .reset_index()\n",
    "loss_symbols.head(10)"
   ]
  },
  {
   "cell_type": "code",
   "execution_count": 328,
   "id": "8dd6cc38",
   "metadata": {},
   "outputs": [
    {
     "data": {
      "application/vnd.plotly.v1+json": {
       "config": {
        "plotlyServerURL": "https://plot.ly"
       },
       "data": [
        {
         "alignmentgroup": "True",
         "hovertemplate": "symbol=%{y}<br>Loss_percent=%{x}<extra></extra>",
         "legendgroup": "ORPH",
         "marker": {
          "color": "#636efa",
          "pattern": {
           "shape": ""
          }
         },
         "name": "ORPH",
         "offsetgroup": "ORPH",
         "orientation": "h",
         "showlegend": true,
         "textposition": "auto",
         "type": "bar",
         "x": [
          0.08163265306122448
         ],
         "xaxis": "x",
         "y": [
          "ORPH"
         ],
         "yaxis": "y"
        },
        {
         "alignmentgroup": "True",
         "hovertemplate": "symbol=%{y}<br>Loss_percent=%{x}<extra></extra>",
         "legendgroup": "QS",
         "marker": {
          "color": "#EF553B",
          "pattern": {
           "shape": ""
          }
         },
         "name": "QS",
         "offsetgroup": "QS",
         "orientation": "h",
         "showlegend": true,
         "textposition": "auto",
         "type": "bar",
         "x": [
          0.05555555555555555
         ],
         "xaxis": "x",
         "y": [
          "QS"
         ],
         "yaxis": "y"
        },
        {
         "alignmentgroup": "True",
         "hovertemplate": "symbol=%{y}<br>Loss_percent=%{x}<extra></extra>",
         "legendgroup": "TD",
         "marker": {
          "color": "#00cc96",
          "pattern": {
           "shape": ""
          }
         },
         "name": "TD",
         "offsetgroup": "TD",
         "orientation": "h",
         "showlegend": true,
         "textposition": "auto",
         "type": "bar",
         "x": [
          0.05
         ],
         "xaxis": "x",
         "y": [
          "TD"
         ],
         "yaxis": "y"
        },
        {
         "alignmentgroup": "True",
         "hovertemplate": "symbol=%{y}<br>Loss_percent=%{x}<extra></extra>",
         "legendgroup": "SDC",
         "marker": {
          "color": "#ab63fa",
          "pattern": {
           "shape": ""
          }
         },
         "name": "SDC",
         "offsetgroup": "SDC",
         "orientation": "h",
         "showlegend": true,
         "textposition": "auto",
         "type": "bar",
         "x": [
          0.04918032786885246
         ],
         "xaxis": "x",
         "y": [
          "SDC"
         ],
         "yaxis": "y"
        },
        {
         "alignmentgroup": "True",
         "hovertemplate": "symbol=%{y}<br>Loss_percent=%{x}<extra></extra>",
         "legendgroup": "GSAT",
         "marker": {
          "color": "#FFA15A",
          "pattern": {
           "shape": ""
          }
         },
         "name": "GSAT",
         "offsetgroup": "GSAT",
         "orientation": "h",
         "showlegend": true,
         "textposition": "auto",
         "type": "bar",
         "x": [
          0.046511627906976744
         ],
         "xaxis": "x",
         "y": [
          "GSAT"
         ],
         "yaxis": "y"
        }
       ],
       "layout": {
        "barmode": "relative",
        "legend": {
         "title": {
          "text": "symbol"
         },
         "tracegroupgap": 0
        },
        "template": {
         "data": {
          "bar": [
           {
            "error_x": {
             "color": "#2a3f5f"
            },
            "error_y": {
             "color": "#2a3f5f"
            },
            "marker": {
             "line": {
              "color": "#E5ECF6",
              "width": 0.5
             },
             "pattern": {
              "fillmode": "overlay",
              "size": 10,
              "solidity": 0.2
             }
            },
            "type": "bar"
           }
          ],
          "barpolar": [
           {
            "marker": {
             "line": {
              "color": "#E5ECF6",
              "width": 0.5
             },
             "pattern": {
              "fillmode": "overlay",
              "size": 10,
              "solidity": 0.2
             }
            },
            "type": "barpolar"
           }
          ],
          "carpet": [
           {
            "aaxis": {
             "endlinecolor": "#2a3f5f",
             "gridcolor": "white",
             "linecolor": "white",
             "minorgridcolor": "white",
             "startlinecolor": "#2a3f5f"
            },
            "baxis": {
             "endlinecolor": "#2a3f5f",
             "gridcolor": "white",
             "linecolor": "white",
             "minorgridcolor": "white",
             "startlinecolor": "#2a3f5f"
            },
            "type": "carpet"
           }
          ],
          "choropleth": [
           {
            "colorbar": {
             "outlinewidth": 0,
             "ticks": ""
            },
            "type": "choropleth"
           }
          ],
          "contour": [
           {
            "colorbar": {
             "outlinewidth": 0,
             "ticks": ""
            },
            "colorscale": [
             [
              0,
              "#0d0887"
             ],
             [
              0.1111111111111111,
              "#46039f"
             ],
             [
              0.2222222222222222,
              "#7201a8"
             ],
             [
              0.3333333333333333,
              "#9c179e"
             ],
             [
              0.4444444444444444,
              "#bd3786"
             ],
             [
              0.5555555555555556,
              "#d8576b"
             ],
             [
              0.6666666666666666,
              "#ed7953"
             ],
             [
              0.7777777777777778,
              "#fb9f3a"
             ],
             [
              0.8888888888888888,
              "#fdca26"
             ],
             [
              1,
              "#f0f921"
             ]
            ],
            "type": "contour"
           }
          ],
          "contourcarpet": [
           {
            "colorbar": {
             "outlinewidth": 0,
             "ticks": ""
            },
            "type": "contourcarpet"
           }
          ],
          "heatmap": [
           {
            "colorbar": {
             "outlinewidth": 0,
             "ticks": ""
            },
            "colorscale": [
             [
              0,
              "#0d0887"
             ],
             [
              0.1111111111111111,
              "#46039f"
             ],
             [
              0.2222222222222222,
              "#7201a8"
             ],
             [
              0.3333333333333333,
              "#9c179e"
             ],
             [
              0.4444444444444444,
              "#bd3786"
             ],
             [
              0.5555555555555556,
              "#d8576b"
             ],
             [
              0.6666666666666666,
              "#ed7953"
             ],
             [
              0.7777777777777778,
              "#fb9f3a"
             ],
             [
              0.8888888888888888,
              "#fdca26"
             ],
             [
              1,
              "#f0f921"
             ]
            ],
            "type": "heatmap"
           }
          ],
          "heatmapgl": [
           {
            "colorbar": {
             "outlinewidth": 0,
             "ticks": ""
            },
            "colorscale": [
             [
              0,
              "#0d0887"
             ],
             [
              0.1111111111111111,
              "#46039f"
             ],
             [
              0.2222222222222222,
              "#7201a8"
             ],
             [
              0.3333333333333333,
              "#9c179e"
             ],
             [
              0.4444444444444444,
              "#bd3786"
             ],
             [
              0.5555555555555556,
              "#d8576b"
             ],
             [
              0.6666666666666666,
              "#ed7953"
             ],
             [
              0.7777777777777778,
              "#fb9f3a"
             ],
             [
              0.8888888888888888,
              "#fdca26"
             ],
             [
              1,
              "#f0f921"
             ]
            ],
            "type": "heatmapgl"
           }
          ],
          "histogram": [
           {
            "marker": {
             "pattern": {
              "fillmode": "overlay",
              "size": 10,
              "solidity": 0.2
             }
            },
            "type": "histogram"
           }
          ],
          "histogram2d": [
           {
            "colorbar": {
             "outlinewidth": 0,
             "ticks": ""
            },
            "colorscale": [
             [
              0,
              "#0d0887"
             ],
             [
              0.1111111111111111,
              "#46039f"
             ],
             [
              0.2222222222222222,
              "#7201a8"
             ],
             [
              0.3333333333333333,
              "#9c179e"
             ],
             [
              0.4444444444444444,
              "#bd3786"
             ],
             [
              0.5555555555555556,
              "#d8576b"
             ],
             [
              0.6666666666666666,
              "#ed7953"
             ],
             [
              0.7777777777777778,
              "#fb9f3a"
             ],
             [
              0.8888888888888888,
              "#fdca26"
             ],
             [
              1,
              "#f0f921"
             ]
            ],
            "type": "histogram2d"
           }
          ],
          "histogram2dcontour": [
           {
            "colorbar": {
             "outlinewidth": 0,
             "ticks": ""
            },
            "colorscale": [
             [
              0,
              "#0d0887"
             ],
             [
              0.1111111111111111,
              "#46039f"
             ],
             [
              0.2222222222222222,
              "#7201a8"
             ],
             [
              0.3333333333333333,
              "#9c179e"
             ],
             [
              0.4444444444444444,
              "#bd3786"
             ],
             [
              0.5555555555555556,
              "#d8576b"
             ],
             [
              0.6666666666666666,
              "#ed7953"
             ],
             [
              0.7777777777777778,
              "#fb9f3a"
             ],
             [
              0.8888888888888888,
              "#fdca26"
             ],
             [
              1,
              "#f0f921"
             ]
            ],
            "type": "histogram2dcontour"
           }
          ],
          "mesh3d": [
           {
            "colorbar": {
             "outlinewidth": 0,
             "ticks": ""
            },
            "type": "mesh3d"
           }
          ],
          "parcoords": [
           {
            "line": {
             "colorbar": {
              "outlinewidth": 0,
              "ticks": ""
             }
            },
            "type": "parcoords"
           }
          ],
          "pie": [
           {
            "automargin": true,
            "type": "pie"
           }
          ],
          "scatter": [
           {
            "marker": {
             "colorbar": {
              "outlinewidth": 0,
              "ticks": ""
             }
            },
            "type": "scatter"
           }
          ],
          "scatter3d": [
           {
            "line": {
             "colorbar": {
              "outlinewidth": 0,
              "ticks": ""
             }
            },
            "marker": {
             "colorbar": {
              "outlinewidth": 0,
              "ticks": ""
             }
            },
            "type": "scatter3d"
           }
          ],
          "scattercarpet": [
           {
            "marker": {
             "colorbar": {
              "outlinewidth": 0,
              "ticks": ""
             }
            },
            "type": "scattercarpet"
           }
          ],
          "scattergeo": [
           {
            "marker": {
             "colorbar": {
              "outlinewidth": 0,
              "ticks": ""
             }
            },
            "type": "scattergeo"
           }
          ],
          "scattergl": [
           {
            "marker": {
             "colorbar": {
              "outlinewidth": 0,
              "ticks": ""
             }
            },
            "type": "scattergl"
           }
          ],
          "scattermapbox": [
           {
            "marker": {
             "colorbar": {
              "outlinewidth": 0,
              "ticks": ""
             }
            },
            "type": "scattermapbox"
           }
          ],
          "scatterpolar": [
           {
            "marker": {
             "colorbar": {
              "outlinewidth": 0,
              "ticks": ""
             }
            },
            "type": "scatterpolar"
           }
          ],
          "scatterpolargl": [
           {
            "marker": {
             "colorbar": {
              "outlinewidth": 0,
              "ticks": ""
             }
            },
            "type": "scatterpolargl"
           }
          ],
          "scatterternary": [
           {
            "marker": {
             "colorbar": {
              "outlinewidth": 0,
              "ticks": ""
             }
            },
            "type": "scatterternary"
           }
          ],
          "surface": [
           {
            "colorbar": {
             "outlinewidth": 0,
             "ticks": ""
            },
            "colorscale": [
             [
              0,
              "#0d0887"
             ],
             [
              0.1111111111111111,
              "#46039f"
             ],
             [
              0.2222222222222222,
              "#7201a8"
             ],
             [
              0.3333333333333333,
              "#9c179e"
             ],
             [
              0.4444444444444444,
              "#bd3786"
             ],
             [
              0.5555555555555556,
              "#d8576b"
             ],
             [
              0.6666666666666666,
              "#ed7953"
             ],
             [
              0.7777777777777778,
              "#fb9f3a"
             ],
             [
              0.8888888888888888,
              "#fdca26"
             ],
             [
              1,
              "#f0f921"
             ]
            ],
            "type": "surface"
           }
          ],
          "table": [
           {
            "cells": {
             "fill": {
              "color": "#EBF0F8"
             },
             "line": {
              "color": "white"
             }
            },
            "header": {
             "fill": {
              "color": "#C8D4E3"
             },
             "line": {
              "color": "white"
             }
            },
            "type": "table"
           }
          ]
         },
         "layout": {
          "annotationdefaults": {
           "arrowcolor": "#2a3f5f",
           "arrowhead": 0,
           "arrowwidth": 1
          },
          "autotypenumbers": "strict",
          "coloraxis": {
           "colorbar": {
            "outlinewidth": 0,
            "ticks": ""
           }
          },
          "colorscale": {
           "diverging": [
            [
             0,
             "#8e0152"
            ],
            [
             0.1,
             "#c51b7d"
            ],
            [
             0.2,
             "#de77ae"
            ],
            [
             0.3,
             "#f1b6da"
            ],
            [
             0.4,
             "#fde0ef"
            ],
            [
             0.5,
             "#f7f7f7"
            ],
            [
             0.6,
             "#e6f5d0"
            ],
            [
             0.7,
             "#b8e186"
            ],
            [
             0.8,
             "#7fbc41"
            ],
            [
             0.9,
             "#4d9221"
            ],
            [
             1,
             "#276419"
            ]
           ],
           "sequential": [
            [
             0,
             "#0d0887"
            ],
            [
             0.1111111111111111,
             "#46039f"
            ],
            [
             0.2222222222222222,
             "#7201a8"
            ],
            [
             0.3333333333333333,
             "#9c179e"
            ],
            [
             0.4444444444444444,
             "#bd3786"
            ],
            [
             0.5555555555555556,
             "#d8576b"
            ],
            [
             0.6666666666666666,
             "#ed7953"
            ],
            [
             0.7777777777777778,
             "#fb9f3a"
            ],
            [
             0.8888888888888888,
             "#fdca26"
            ],
            [
             1,
             "#f0f921"
            ]
           ],
           "sequentialminus": [
            [
             0,
             "#0d0887"
            ],
            [
             0.1111111111111111,
             "#46039f"
            ],
            [
             0.2222222222222222,
             "#7201a8"
            ],
            [
             0.3333333333333333,
             "#9c179e"
            ],
            [
             0.4444444444444444,
             "#bd3786"
            ],
            [
             0.5555555555555556,
             "#d8576b"
            ],
            [
             0.6666666666666666,
             "#ed7953"
            ],
            [
             0.7777777777777778,
             "#fb9f3a"
            ],
            [
             0.8888888888888888,
             "#fdca26"
            ],
            [
             1,
             "#f0f921"
            ]
           ]
          },
          "colorway": [
           "#636efa",
           "#EF553B",
           "#00cc96",
           "#ab63fa",
           "#FFA15A",
           "#19d3f3",
           "#FF6692",
           "#B6E880",
           "#FF97FF",
           "#FECB52"
          ],
          "font": {
           "color": "#2a3f5f"
          },
          "geo": {
           "bgcolor": "white",
           "lakecolor": "white",
           "landcolor": "#E5ECF6",
           "showlakes": true,
           "showland": true,
           "subunitcolor": "white"
          },
          "hoverlabel": {
           "align": "left"
          },
          "hovermode": "closest",
          "mapbox": {
           "style": "light"
          },
          "paper_bgcolor": "white",
          "plot_bgcolor": "#E5ECF6",
          "polar": {
           "angularaxis": {
            "gridcolor": "white",
            "linecolor": "white",
            "ticks": ""
           },
           "bgcolor": "#E5ECF6",
           "radialaxis": {
            "gridcolor": "white",
            "linecolor": "white",
            "ticks": ""
           }
          },
          "scene": {
           "xaxis": {
            "backgroundcolor": "#E5ECF6",
            "gridcolor": "white",
            "gridwidth": 2,
            "linecolor": "white",
            "showbackground": true,
            "ticks": "",
            "zerolinecolor": "white"
           },
           "yaxis": {
            "backgroundcolor": "#E5ECF6",
            "gridcolor": "white",
            "gridwidth": 2,
            "linecolor": "white",
            "showbackground": true,
            "ticks": "",
            "zerolinecolor": "white"
           },
           "zaxis": {
            "backgroundcolor": "#E5ECF6",
            "gridcolor": "white",
            "gridwidth": 2,
            "linecolor": "white",
            "showbackground": true,
            "ticks": "",
            "zerolinecolor": "white"
           }
          },
          "shapedefaults": {
           "line": {
            "color": "#2a3f5f"
           }
          },
          "ternary": {
           "aaxis": {
            "gridcolor": "white",
            "linecolor": "white",
            "ticks": ""
           },
           "baxis": {
            "gridcolor": "white",
            "linecolor": "white",
            "ticks": ""
           },
           "bgcolor": "#E5ECF6",
           "caxis": {
            "gridcolor": "white",
            "linecolor": "white",
            "ticks": ""
           }
          },
          "title": {
           "x": 0.05
          },
          "xaxis": {
           "automargin": true,
           "gridcolor": "white",
           "linecolor": "white",
           "ticks": "",
           "title": {
            "standoff": 15
           },
           "zerolinecolor": "white",
           "zerolinewidth": 2
          },
          "yaxis": {
           "automargin": true,
           "gridcolor": "white",
           "linecolor": "white",
           "ticks": "",
           "title": {
            "standoff": 15
           },
           "zerolinecolor": "white",
           "zerolinewidth": 2
          }
         }
        },
        "title": {
         "text": "Top Loss Stocks"
        },
        "xaxis": {
         "anchor": "y",
         "domain": [
          0,
          1
         ],
         "title": {
          "text": "Loss_percent"
         }
        },
        "yaxis": {
         "anchor": "x",
         "categoryarray": [
          "GSAT",
          "SDC",
          "TD",
          "QS",
          "ORPH"
         ],
         "categoryorder": "array",
         "domain": [
          0,
          1
         ],
         "title": {
          "text": "symbol"
         }
        }
       }
      },
      "text/html": [
       "<div>                            <div id=\"239f2c54-203e-4654-a232-a42278c227c5\" class=\"plotly-graph-div\" style=\"height:525px; width:100%;\"></div>            <script type=\"text/javascript\">                require([\"plotly\"], function(Plotly) {                    window.PLOTLYENV=window.PLOTLYENV || {};                                    if (document.getElementById(\"239f2c54-203e-4654-a232-a42278c227c5\")) {                    Plotly.newPlot(                        \"239f2c54-203e-4654-a232-a42278c227c5\",                        [{\"alignmentgroup\":\"True\",\"hovertemplate\":\"symbol=%{y}<br>Loss_percent=%{x}<extra></extra>\",\"legendgroup\":\"ORPH\",\"marker\":{\"color\":\"#636efa\",\"pattern\":{\"shape\":\"\"}},\"name\":\"ORPH\",\"offsetgroup\":\"ORPH\",\"orientation\":\"h\",\"showlegend\":true,\"textposition\":\"auto\",\"type\":\"bar\",\"x\":[0.08163265306122448],\"xaxis\":\"x\",\"y\":[\"ORPH\"],\"yaxis\":\"y\"},{\"alignmentgroup\":\"True\",\"hovertemplate\":\"symbol=%{y}<br>Loss_percent=%{x}<extra></extra>\",\"legendgroup\":\"QS\",\"marker\":{\"color\":\"#EF553B\",\"pattern\":{\"shape\":\"\"}},\"name\":\"QS\",\"offsetgroup\":\"QS\",\"orientation\":\"h\",\"showlegend\":true,\"textposition\":\"auto\",\"type\":\"bar\",\"x\":[0.05555555555555555],\"xaxis\":\"x\",\"y\":[\"QS\"],\"yaxis\":\"y\"},{\"alignmentgroup\":\"True\",\"hovertemplate\":\"symbol=%{y}<br>Loss_percent=%{x}<extra></extra>\",\"legendgroup\":\"TD\",\"marker\":{\"color\":\"#00cc96\",\"pattern\":{\"shape\":\"\"}},\"name\":\"TD\",\"offsetgroup\":\"TD\",\"orientation\":\"h\",\"showlegend\":true,\"textposition\":\"auto\",\"type\":\"bar\",\"x\":[0.05],\"xaxis\":\"x\",\"y\":[\"TD\"],\"yaxis\":\"y\"},{\"alignmentgroup\":\"True\",\"hovertemplate\":\"symbol=%{y}<br>Loss_percent=%{x}<extra></extra>\",\"legendgroup\":\"SDC\",\"marker\":{\"color\":\"#ab63fa\",\"pattern\":{\"shape\":\"\"}},\"name\":\"SDC\",\"offsetgroup\":\"SDC\",\"orientation\":\"h\",\"showlegend\":true,\"textposition\":\"auto\",\"type\":\"bar\",\"x\":[0.04918032786885246],\"xaxis\":\"x\",\"y\":[\"SDC\"],\"yaxis\":\"y\"},{\"alignmentgroup\":\"True\",\"hovertemplate\":\"symbol=%{y}<br>Loss_percent=%{x}<extra></extra>\",\"legendgroup\":\"GSAT\",\"marker\":{\"color\":\"#FFA15A\",\"pattern\":{\"shape\":\"\"}},\"name\":\"GSAT\",\"offsetgroup\":\"GSAT\",\"orientation\":\"h\",\"showlegend\":true,\"textposition\":\"auto\",\"type\":\"bar\",\"x\":[0.046511627906976744],\"xaxis\":\"x\",\"y\":[\"GSAT\"],\"yaxis\":\"y\"}],                        {\"barmode\":\"relative\",\"legend\":{\"title\":{\"text\":\"symbol\"},\"tracegroupgap\":0},\"template\":{\"data\":{\"bar\":[{\"error_x\":{\"color\":\"#2a3f5f\"},\"error_y\":{\"color\":\"#2a3f5f\"},\"marker\":{\"line\":{\"color\":\"#E5ECF6\",\"width\":0.5},\"pattern\":{\"fillmode\":\"overlay\",\"size\":10,\"solidity\":0.2}},\"type\":\"bar\"}],\"barpolar\":[{\"marker\":{\"line\":{\"color\":\"#E5ECF6\",\"width\":0.5},\"pattern\":{\"fillmode\":\"overlay\",\"size\":10,\"solidity\":0.2}},\"type\":\"barpolar\"}],\"carpet\":[{\"aaxis\":{\"endlinecolor\":\"#2a3f5f\",\"gridcolor\":\"white\",\"linecolor\":\"white\",\"minorgridcolor\":\"white\",\"startlinecolor\":\"#2a3f5f\"},\"baxis\":{\"endlinecolor\":\"#2a3f5f\",\"gridcolor\":\"white\",\"linecolor\":\"white\",\"minorgridcolor\":\"white\",\"startlinecolor\":\"#2a3f5f\"},\"type\":\"carpet\"}],\"choropleth\":[{\"colorbar\":{\"outlinewidth\":0,\"ticks\":\"\"},\"type\":\"choropleth\"}],\"contour\":[{\"colorbar\":{\"outlinewidth\":0,\"ticks\":\"\"},\"colorscale\":[[0.0,\"#0d0887\"],[0.1111111111111111,\"#46039f\"],[0.2222222222222222,\"#7201a8\"],[0.3333333333333333,\"#9c179e\"],[0.4444444444444444,\"#bd3786\"],[0.5555555555555556,\"#d8576b\"],[0.6666666666666666,\"#ed7953\"],[0.7777777777777778,\"#fb9f3a\"],[0.8888888888888888,\"#fdca26\"],[1.0,\"#f0f921\"]],\"type\":\"contour\"}],\"contourcarpet\":[{\"colorbar\":{\"outlinewidth\":0,\"ticks\":\"\"},\"type\":\"contourcarpet\"}],\"heatmap\":[{\"colorbar\":{\"outlinewidth\":0,\"ticks\":\"\"},\"colorscale\":[[0.0,\"#0d0887\"],[0.1111111111111111,\"#46039f\"],[0.2222222222222222,\"#7201a8\"],[0.3333333333333333,\"#9c179e\"],[0.4444444444444444,\"#bd3786\"],[0.5555555555555556,\"#d8576b\"],[0.6666666666666666,\"#ed7953\"],[0.7777777777777778,\"#fb9f3a\"],[0.8888888888888888,\"#fdca26\"],[1.0,\"#f0f921\"]],\"type\":\"heatmap\"}],\"heatmapgl\":[{\"colorbar\":{\"outlinewidth\":0,\"ticks\":\"\"},\"colorscale\":[[0.0,\"#0d0887\"],[0.1111111111111111,\"#46039f\"],[0.2222222222222222,\"#7201a8\"],[0.3333333333333333,\"#9c179e\"],[0.4444444444444444,\"#bd3786\"],[0.5555555555555556,\"#d8576b\"],[0.6666666666666666,\"#ed7953\"],[0.7777777777777778,\"#fb9f3a\"],[0.8888888888888888,\"#fdca26\"],[1.0,\"#f0f921\"]],\"type\":\"heatmapgl\"}],\"histogram\":[{\"marker\":{\"pattern\":{\"fillmode\":\"overlay\",\"size\":10,\"solidity\":0.2}},\"type\":\"histogram\"}],\"histogram2d\":[{\"colorbar\":{\"outlinewidth\":0,\"ticks\":\"\"},\"colorscale\":[[0.0,\"#0d0887\"],[0.1111111111111111,\"#46039f\"],[0.2222222222222222,\"#7201a8\"],[0.3333333333333333,\"#9c179e\"],[0.4444444444444444,\"#bd3786\"],[0.5555555555555556,\"#d8576b\"],[0.6666666666666666,\"#ed7953\"],[0.7777777777777778,\"#fb9f3a\"],[0.8888888888888888,\"#fdca26\"],[1.0,\"#f0f921\"]],\"type\":\"histogram2d\"}],\"histogram2dcontour\":[{\"colorbar\":{\"outlinewidth\":0,\"ticks\":\"\"},\"colorscale\":[[0.0,\"#0d0887\"],[0.1111111111111111,\"#46039f\"],[0.2222222222222222,\"#7201a8\"],[0.3333333333333333,\"#9c179e\"],[0.4444444444444444,\"#bd3786\"],[0.5555555555555556,\"#d8576b\"],[0.6666666666666666,\"#ed7953\"],[0.7777777777777778,\"#fb9f3a\"],[0.8888888888888888,\"#fdca26\"],[1.0,\"#f0f921\"]],\"type\":\"histogram2dcontour\"}],\"mesh3d\":[{\"colorbar\":{\"outlinewidth\":0,\"ticks\":\"\"},\"type\":\"mesh3d\"}],\"parcoords\":[{\"line\":{\"colorbar\":{\"outlinewidth\":0,\"ticks\":\"\"}},\"type\":\"parcoords\"}],\"pie\":[{\"automargin\":true,\"type\":\"pie\"}],\"scatter\":[{\"marker\":{\"colorbar\":{\"outlinewidth\":0,\"ticks\":\"\"}},\"type\":\"scatter\"}],\"scatter3d\":[{\"line\":{\"colorbar\":{\"outlinewidth\":0,\"ticks\":\"\"}},\"marker\":{\"colorbar\":{\"outlinewidth\":0,\"ticks\":\"\"}},\"type\":\"scatter3d\"}],\"scattercarpet\":[{\"marker\":{\"colorbar\":{\"outlinewidth\":0,\"ticks\":\"\"}},\"type\":\"scattercarpet\"}],\"scattergeo\":[{\"marker\":{\"colorbar\":{\"outlinewidth\":0,\"ticks\":\"\"}},\"type\":\"scattergeo\"}],\"scattergl\":[{\"marker\":{\"colorbar\":{\"outlinewidth\":0,\"ticks\":\"\"}},\"type\":\"scattergl\"}],\"scattermapbox\":[{\"marker\":{\"colorbar\":{\"outlinewidth\":0,\"ticks\":\"\"}},\"type\":\"scattermapbox\"}],\"scatterpolar\":[{\"marker\":{\"colorbar\":{\"outlinewidth\":0,\"ticks\":\"\"}},\"type\":\"scatterpolar\"}],\"scatterpolargl\":[{\"marker\":{\"colorbar\":{\"outlinewidth\":0,\"ticks\":\"\"}},\"type\":\"scatterpolargl\"}],\"scatterternary\":[{\"marker\":{\"colorbar\":{\"outlinewidth\":0,\"ticks\":\"\"}},\"type\":\"scatterternary\"}],\"surface\":[{\"colorbar\":{\"outlinewidth\":0,\"ticks\":\"\"},\"colorscale\":[[0.0,\"#0d0887\"],[0.1111111111111111,\"#46039f\"],[0.2222222222222222,\"#7201a8\"],[0.3333333333333333,\"#9c179e\"],[0.4444444444444444,\"#bd3786\"],[0.5555555555555556,\"#d8576b\"],[0.6666666666666666,\"#ed7953\"],[0.7777777777777778,\"#fb9f3a\"],[0.8888888888888888,\"#fdca26\"],[1.0,\"#f0f921\"]],\"type\":\"surface\"}],\"table\":[{\"cells\":{\"fill\":{\"color\":\"#EBF0F8\"},\"line\":{\"color\":\"white\"}},\"header\":{\"fill\":{\"color\":\"#C8D4E3\"},\"line\":{\"color\":\"white\"}},\"type\":\"table\"}]},\"layout\":{\"annotationdefaults\":{\"arrowcolor\":\"#2a3f5f\",\"arrowhead\":0,\"arrowwidth\":1},\"autotypenumbers\":\"strict\",\"coloraxis\":{\"colorbar\":{\"outlinewidth\":0,\"ticks\":\"\"}},\"colorscale\":{\"diverging\":[[0,\"#8e0152\"],[0.1,\"#c51b7d\"],[0.2,\"#de77ae\"],[0.3,\"#f1b6da\"],[0.4,\"#fde0ef\"],[0.5,\"#f7f7f7\"],[0.6,\"#e6f5d0\"],[0.7,\"#b8e186\"],[0.8,\"#7fbc41\"],[0.9,\"#4d9221\"],[1,\"#276419\"]],\"sequential\":[[0.0,\"#0d0887\"],[0.1111111111111111,\"#46039f\"],[0.2222222222222222,\"#7201a8\"],[0.3333333333333333,\"#9c179e\"],[0.4444444444444444,\"#bd3786\"],[0.5555555555555556,\"#d8576b\"],[0.6666666666666666,\"#ed7953\"],[0.7777777777777778,\"#fb9f3a\"],[0.8888888888888888,\"#fdca26\"],[1.0,\"#f0f921\"]],\"sequentialminus\":[[0.0,\"#0d0887\"],[0.1111111111111111,\"#46039f\"],[0.2222222222222222,\"#7201a8\"],[0.3333333333333333,\"#9c179e\"],[0.4444444444444444,\"#bd3786\"],[0.5555555555555556,\"#d8576b\"],[0.6666666666666666,\"#ed7953\"],[0.7777777777777778,\"#fb9f3a\"],[0.8888888888888888,\"#fdca26\"],[1.0,\"#f0f921\"]]},\"colorway\":[\"#636efa\",\"#EF553B\",\"#00cc96\",\"#ab63fa\",\"#FFA15A\",\"#19d3f3\",\"#FF6692\",\"#B6E880\",\"#FF97FF\",\"#FECB52\"],\"font\":{\"color\":\"#2a3f5f\"},\"geo\":{\"bgcolor\":\"white\",\"lakecolor\":\"white\",\"landcolor\":\"#E5ECF6\",\"showlakes\":true,\"showland\":true,\"subunitcolor\":\"white\"},\"hoverlabel\":{\"align\":\"left\"},\"hovermode\":\"closest\",\"mapbox\":{\"style\":\"light\"},\"paper_bgcolor\":\"white\",\"plot_bgcolor\":\"#E5ECF6\",\"polar\":{\"angularaxis\":{\"gridcolor\":\"white\",\"linecolor\":\"white\",\"ticks\":\"\"},\"bgcolor\":\"#E5ECF6\",\"radialaxis\":{\"gridcolor\":\"white\",\"linecolor\":\"white\",\"ticks\":\"\"}},\"scene\":{\"xaxis\":{\"backgroundcolor\":\"#E5ECF6\",\"gridcolor\":\"white\",\"gridwidth\":2,\"linecolor\":\"white\",\"showbackground\":true,\"ticks\":\"\",\"zerolinecolor\":\"white\"},\"yaxis\":{\"backgroundcolor\":\"#E5ECF6\",\"gridcolor\":\"white\",\"gridwidth\":2,\"linecolor\":\"white\",\"showbackground\":true,\"ticks\":\"\",\"zerolinecolor\":\"white\"},\"zaxis\":{\"backgroundcolor\":\"#E5ECF6\",\"gridcolor\":\"white\",\"gridwidth\":2,\"linecolor\":\"white\",\"showbackground\":true,\"ticks\":\"\",\"zerolinecolor\":\"white\"}},\"shapedefaults\":{\"line\":{\"color\":\"#2a3f5f\"}},\"ternary\":{\"aaxis\":{\"gridcolor\":\"white\",\"linecolor\":\"white\",\"ticks\":\"\"},\"baxis\":{\"gridcolor\":\"white\",\"linecolor\":\"white\",\"ticks\":\"\"},\"bgcolor\":\"#E5ECF6\",\"caxis\":{\"gridcolor\":\"white\",\"linecolor\":\"white\",\"ticks\":\"\"}},\"title\":{\"x\":0.05},\"xaxis\":{\"automargin\":true,\"gridcolor\":\"white\",\"linecolor\":\"white\",\"ticks\":\"\",\"title\":{\"standoff\":15},\"zerolinecolor\":\"white\",\"zerolinewidth\":2},\"yaxis\":{\"automargin\":true,\"gridcolor\":\"white\",\"linecolor\":\"white\",\"ticks\":\"\",\"title\":{\"standoff\":15},\"zerolinecolor\":\"white\",\"zerolinewidth\":2}}},\"title\":{\"text\":\"Top Loss Stocks\"},\"xaxis\":{\"anchor\":\"y\",\"domain\":[0.0,1.0],\"title\":{\"text\":\"Loss_percent\"}},\"yaxis\":{\"anchor\":\"x\",\"categoryarray\":[\"GSAT\",\"SDC\",\"TD\",\"QS\",\"ORPH\"],\"categoryorder\":\"array\",\"domain\":[0.0,1.0],\"title\":{\"text\":\"symbol\"}}},                        {\"responsive\": true}                    ).then(function(){\n",
       "                            \n",
       "var gd = document.getElementById('239f2c54-203e-4654-a232-a42278c227c5');\n",
       "var x = new MutationObserver(function (mutations, observer) {{\n",
       "        var display = window.getComputedStyle(gd).display;\n",
       "        if (!display || display === 'none') {{\n",
       "            console.log([gd, 'removed!']);\n",
       "            Plotly.purge(gd);\n",
       "            observer.disconnect();\n",
       "        }}\n",
       "}});\n",
       "\n",
       "// Listen for the removal of the full notebook cells\n",
       "var notebookContainer = gd.closest('#notebook-container');\n",
       "if (notebookContainer) {{\n",
       "    x.observe(notebookContainer, {childList: true});\n",
       "}}\n",
       "\n",
       "// Listen for the clearing of the current output cell\n",
       "var outputEl = gd.closest('.output');\n",
       "if (outputEl) {{\n",
       "    x.observe(outputEl, {childList: true});\n",
       "}}\n",
       "\n",
       "                        })                };                });            </script>        </div>"
      ]
     },
     "metadata": {},
     "output_type": "display_data"
    }
   ],
   "source": [
    "fig = px.bar(loss_symbols[0:5], x=\"Loss_percent\", y=\"symbol\", color='symbol', orientation='h', title='Top Loss Stocks')\n",
    "fig.show()"
   ]
  }
 ],
 "metadata": {
  "kernelspec": {
   "display_name": "Python 3",
   "language": "python",
   "name": "python3"
  },
  "language_info": {
   "codemirror_mode": {
    "name": "ipython",
    "version": 3
   },
   "file_extension": ".py",
   "mimetype": "text/x-python",
   "name": "python",
   "nbconvert_exporter": "python",
   "pygments_lexer": "ipython3",
   "version": "3.8.7"
  }
 },
 "nbformat": 4,
 "nbformat_minor": 5
}
