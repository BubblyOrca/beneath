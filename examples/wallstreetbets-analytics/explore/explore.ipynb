{
 "cells": [
  {
   "cell_type": "markdown",
   "id": "9f247094",
   "metadata": {},
   "source": [
    "### Code to render charts for \"Inside the Hivemind of r/wallstreetbets - July 2021\""
   ]
  },
  {
   "cell_type": "code",
   "execution_count": 1,
   "id": "67b7d2f9",
   "metadata": {},
   "outputs": [],
   "source": [
    "import beneath\n",
    "import pandas as pd\n",
    "import plotly.express as px\n",
    "import plotly.graph_objs as go\n",
    "\n",
    "from config import BLACKLIST, MODERATORS\n",
    "from layout import make_layout\n",
    "from datetime import datetime"
   ]
  },
  {
   "cell_type": "markdown",
   "id": "611bc89d",
   "metadata": {},
   "source": [
    "## Stock mentions"
   ]
  },
  {
   "cell_type": "code",
   "execution_count": 4,
   "id": "df72a6cc",
   "metadata": {},
   "outputs": [],
   "source": [
    "mentions = await beneath.query_warehouse(\"\"\"\n",
    "with\n",
    "    stock_mentions_posts as (\n",
    "        select \n",
    "            symbol, \n",
    "            timestamp_trunc(timestamp, day) as day, \n",
    "            count(*) as num_mentions\n",
    "        from `examples/wallstreetbets-analytics/r-wallstreetbets-posts-stock-mentions`\n",
    "        group by symbol, timestamp_trunc(timestamp, day)\n",
    "    ),\n",
    "    stock_mentions_comments as (\n",
    "        select \n",
    "            symbol, \n",
    "            timestamp_trunc(timestamp, day) as day, \n",
    "            count(*) as num_mentions\n",
    "        from `examples/wallstreetbets-analytics/r-wallstreetbets-comments-stock-mentions`\n",
    "        group by symbol, timestamp_trunc(timestamp, day)\n",
    "    )\n",
    "select \n",
    "    coalesce(p.symbol, c.symbol) as symbol,\n",
    "    coalesce(p.day, c.day) as day,\n",
    "    ifnull(p.num_mentions, 0) + ifnull(c.num_mentions,0) as num_mentions\n",
    "from stock_mentions_posts p\n",
    "full join stock_mentions_comments c on p.symbol = c.symbol and p.day = c.day\n",
    "order by symbol, day\n",
    "\"\"\")"
   ]
  },
  {
   "cell_type": "code",
   "execution_count": 5,
   "id": "4c8dd72f",
   "metadata": {},
   "outputs": [],
   "source": [
    "mentions = mentions[~mentions['symbol'].isin(BLACKLIST)]"
   ]
  },
  {
   "cell_type": "markdown",
   "id": "516c4f6a",
   "metadata": {},
   "source": [
    "Keep track of the top symbols"
   ]
  },
  {
   "cell_type": "code",
   "execution_count": 6,
   "id": "717e1cfe",
   "metadata": {},
   "outputs": [],
   "source": [
    "top_symbols_alltime_df = mentions \\\n",
    "    .groupby('symbol')['num_mentions'] \\\n",
    "    .sum() \\\n",
    "    .reset_index() \\\n",
    "    .sort_values('num_mentions', ascending=False)\n",
    "top_symbols_alltime = top_symbols_alltime_df['symbol'][:100]\n",
    "top_symbols_month_df = mentions.loc[mentions['day'].dt.month == 7] \\\n",
    "    .groupby('symbol')['num_mentions'] \\\n",
    "    .sum() \\\n",
    "    .reset_index() \\\n",
    "    .sort_values('num_mentions', ascending=False)\n",
    "top_symbols_month = top_symbols_month_df['symbol'][:100]"
   ]
  },
  {
   "cell_type": "code",
   "execution_count": 62,
   "id": "6f287b28",
   "metadata": {},
   "outputs": [
    {
     "data": {
      "application/vnd.plotly.v1+json": {
       "config": {
        "plotlyServerURL": "https://plot.ly"
       },
       "data": [
        {
         "alignmentgroup": "True",
         "hovertemplate": "Symbol=%{y}<br>Mentions=%{text}<extra></extra>",
         "legendgroup": "AMC",
         "marker": {
          "color": "#636efa",
          "line": {
           "width": 0
          },
          "pattern": {
           "shape": ""
          }
         },
         "name": "AMC",
         "offsetgroup": "AMC",
         "orientation": "h",
         "showlegend": true,
         "text": [
          "10203"
         ],
         "textposition": "auto",
         "type": "bar",
         "x": [
          10203
         ],
         "xaxis": "x",
         "y": [
          "AMC"
         ],
         "yaxis": "y"
        },
        {
         "alignmentgroup": "True",
         "hovertemplate": "Symbol=%{y}<br>Mentions=%{text}<extra></extra>",
         "legendgroup": "GME",
         "marker": {
          "color": "#EF553B",
          "line": {
           "width": 0
          },
          "pattern": {
           "shape": ""
          }
         },
         "name": "GME",
         "offsetgroup": "GME",
         "orientation": "h",
         "showlegend": true,
         "text": [
          "9303"
         ],
         "textposition": "auto",
         "type": "bar",
         "x": [
          9303
         ],
         "xaxis": "x",
         "y": [
          "GME"
         ],
         "yaxis": "y"
        },
        {
         "alignmentgroup": "True",
         "hovertemplate": "Symbol=%{y}<br>Mentions=%{text}<extra></extra>",
         "legendgroup": "CLOV",
         "marker": {
          "color": "#00cc96",
          "line": {
           "width": 0
          },
          "pattern": {
           "shape": ""
          }
         },
         "name": "CLOV",
         "offsetgroup": "CLOV",
         "orientation": "h",
         "showlegend": true,
         "text": [
          "8824"
         ],
         "textposition": "auto",
         "type": "bar",
         "x": [
          8824
         ],
         "xaxis": "x",
         "y": [
          "CLOV"
         ],
         "yaxis": "y"
        },
        {
         "alignmentgroup": "True",
         "hovertemplate": "Symbol=%{y}<br>Mentions=%{text}<extra></extra>",
         "legendgroup": "SPCE",
         "marker": {
          "color": "#ab63fa",
          "line": {
           "width": 0
          },
          "pattern": {
           "shape": ""
          }
         },
         "name": "SPCE",
         "offsetgroup": "SPCE",
         "orientation": "h",
         "showlegend": true,
         "text": [
          "7289"
         ],
         "textposition": "auto",
         "type": "bar",
         "x": [
          7289
         ],
         "xaxis": "x",
         "y": [
          "SPCE"
         ],
         "yaxis": "y"
        },
        {
         "alignmentgroup": "True",
         "hovertemplate": "Symbol=%{y}<br>Mentions=%{text}<extra></extra>",
         "legendgroup": "WISH",
         "marker": {
          "color": "#FFA15A",
          "line": {
           "width": 0
          },
          "pattern": {
           "shape": ""
          }
         },
         "name": "WISH",
         "offsetgroup": "WISH",
         "orientation": "h",
         "showlegend": true,
         "text": [
          "4819"
         ],
         "textposition": "auto",
         "type": "bar",
         "x": [
          4819
         ],
         "xaxis": "x",
         "y": [
          "WISH"
         ],
         "yaxis": "y"
        },
        {
         "alignmentgroup": "True",
         "hovertemplate": "Symbol=%{y}<br>Mentions=%{text}<extra></extra>",
         "legendgroup": "AAPL",
         "marker": {
          "color": "#19d3f3",
          "line": {
           "width": 0
          },
          "pattern": {
           "shape": ""
          }
         },
         "name": "AAPL",
         "offsetgroup": "AAPL",
         "orientation": "h",
         "showlegend": true,
         "text": [
          "3300"
         ],
         "textposition": "auto",
         "type": "bar",
         "x": [
          3300
         ],
         "xaxis": "x",
         "y": [
          "AAPL"
         ],
         "yaxis": "y"
        },
        {
         "alignmentgroup": "True",
         "hovertemplate": "Symbol=%{y}<br>Mentions=%{text}<extra></extra>",
         "legendgroup": "TSLA",
         "marker": {
          "color": "#FF6692",
          "line": {
           "width": 0
          },
          "pattern": {
           "shape": ""
          }
         },
         "name": "TSLA",
         "offsetgroup": "TSLA",
         "orientation": "h",
         "showlegend": true,
         "text": [
          "3212"
         ],
         "textposition": "auto",
         "type": "bar",
         "x": [
          3212
         ],
         "xaxis": "x",
         "y": [
          "TSLA"
         ],
         "yaxis": "y"
        },
        {
         "alignmentgroup": "True",
         "hovertemplate": "Symbol=%{y}<br>Mentions=%{text}<extra></extra>",
         "legendgroup": "BB",
         "marker": {
          "color": "#B6E880",
          "line": {
           "width": 0
          },
          "pattern": {
           "shape": ""
          }
         },
         "name": "BB",
         "offsetgroup": "BB",
         "orientation": "h",
         "showlegend": true,
         "text": [
          "3198"
         ],
         "textposition": "auto",
         "type": "bar",
         "x": [
          3198
         ],
         "xaxis": "x",
         "y": [
          "BB"
         ],
         "yaxis": "y"
        },
        {
         "alignmentgroup": "True",
         "hovertemplate": "Symbol=%{y}<br>Mentions=%{text}<extra></extra>",
         "legendgroup": "SOFI",
         "marker": {
          "color": "#FF97FF",
          "line": {
           "width": 0
          },
          "pattern": {
           "shape": ""
          }
         },
         "name": "SOFI",
         "offsetgroup": "SOFI",
         "orientation": "h",
         "showlegend": true,
         "text": [
          "3153"
         ],
         "textposition": "auto",
         "type": "bar",
         "x": [
          3153
         ],
         "xaxis": "x",
         "y": [
          "SOFI"
         ],
         "yaxis": "y"
        },
        {
         "alignmentgroup": "True",
         "hovertemplate": "Symbol=%{y}<br>Mentions=%{text}<extra></extra>",
         "legendgroup": "AMD",
         "marker": {
          "color": "#FECB52",
          "line": {
           "width": 0
          },
          "pattern": {
           "shape": ""
          }
         },
         "name": "AMD",
         "offsetgroup": "AMD",
         "orientation": "h",
         "showlegend": true,
         "text": [
          "3002"
         ],
         "textposition": "auto",
         "type": "bar",
         "x": [
          3002
         ],
         "xaxis": "x",
         "y": [
          "AMD"
         ],
         "yaxis": "y"
        }
       ],
       "layout": {
        "annotations": [
         {
          "align": "right",
          "height": 40,
          "showarrow": false,
          "text": "<a style=\"color: rgb(100, 130, 180);\" href=\"https://beneath.dev/\">beneath.dev</a>",
          "x": 1,
          "xanchor": "right",
          "xref": "paper",
          "y": 1,
          "yanchor": "bottom",
          "yref": "paper",
          "yshift": 13
         },
         {
          "align": "left",
          "font": {
           "size": 12
          },
          "height": 16,
          "showarrow": false,
          "text": "Number of mentions in posts and comments",
          "x": 0,
          "xanchor": "left",
          "xref": "paper",
          "y": 1,
          "yanchor": "bottom",
          "yref": "paper",
          "yshift": 13
         },
         {
          "align": "left",
          "font": {
           "size": 18
          },
          "height": 24,
          "showarrow": false,
          "text": "<b>Top 10 Most Popular Symbols in July</b>",
          "x": 0,
          "xanchor": "left",
          "xref": "paper",
          "y": 1,
          "yanchor": "bottom",
          "yref": "paper",
          "yshift": 29
         }
        ],
        "bargap": 0,
        "barmode": "relative",
        "colorway": [
         "rgb(60, 170, 255)",
         "rgb(255, 60, 130)",
         "rgb(100, 200, 100)",
         "rgb(200, 220, 240)",
         "rgb(251, 241, 67)",
         "rgb(203, 60, 255)",
         "rgb(249, 148, 66)",
         "rgb(36, 130, 36)",
         "rgb(238, 255, 234)"
        ],
        "dragmode": "select",
        "font": {
         "color": "#e1e1e1",
         "family": "SFMono-Regular,Menlo,Monaco,Consolas,Liberation Mono,Courier,monospace"
        },
        "legend": {
         "title": {
          "text": "Symbol"
         },
         "tracegroupgap": 0
        },
        "margin": {
         "autoexpand": true,
         "b": 30,
         "l": 35,
         "r": 20,
         "t": 68
        },
        "paper_bgcolor": "#1b2442",
        "plot_bgcolor": "#1b2442",
        "showlegend": false,
        "template": {
         "data": {
          "bar": [
           {
            "error_x": {
             "color": "#2a3f5f"
            },
            "error_y": {
             "color": "#2a3f5f"
            },
            "marker": {
             "line": {
              "color": "#E5ECF6",
              "width": 0.5
             },
             "pattern": {
              "fillmode": "overlay",
              "size": 10,
              "solidity": 0.2
             }
            },
            "type": "bar"
           }
          ],
          "barpolar": [
           {
            "marker": {
             "line": {
              "color": "#E5ECF6",
              "width": 0.5
             },
             "pattern": {
              "fillmode": "overlay",
              "size": 10,
              "solidity": 0.2
             }
            },
            "type": "barpolar"
           }
          ],
          "carpet": [
           {
            "aaxis": {
             "endlinecolor": "#2a3f5f",
             "gridcolor": "white",
             "linecolor": "white",
             "minorgridcolor": "white",
             "startlinecolor": "#2a3f5f"
            },
            "baxis": {
             "endlinecolor": "#2a3f5f",
             "gridcolor": "white",
             "linecolor": "white",
             "minorgridcolor": "white",
             "startlinecolor": "#2a3f5f"
            },
            "type": "carpet"
           }
          ],
          "choropleth": [
           {
            "colorbar": {
             "outlinewidth": 0,
             "ticks": ""
            },
            "type": "choropleth"
           }
          ],
          "contour": [
           {
            "colorbar": {
             "outlinewidth": 0,
             "ticks": ""
            },
            "colorscale": [
             [
              0,
              "#0d0887"
             ],
             [
              0.1111111111111111,
              "#46039f"
             ],
             [
              0.2222222222222222,
              "#7201a8"
             ],
             [
              0.3333333333333333,
              "#9c179e"
             ],
             [
              0.4444444444444444,
              "#bd3786"
             ],
             [
              0.5555555555555556,
              "#d8576b"
             ],
             [
              0.6666666666666666,
              "#ed7953"
             ],
             [
              0.7777777777777778,
              "#fb9f3a"
             ],
             [
              0.8888888888888888,
              "#fdca26"
             ],
             [
              1,
              "#f0f921"
             ]
            ],
            "type": "contour"
           }
          ],
          "contourcarpet": [
           {
            "colorbar": {
             "outlinewidth": 0,
             "ticks": ""
            },
            "type": "contourcarpet"
           }
          ],
          "heatmap": [
           {
            "colorbar": {
             "outlinewidth": 0,
             "ticks": ""
            },
            "colorscale": [
             [
              0,
              "#0d0887"
             ],
             [
              0.1111111111111111,
              "#46039f"
             ],
             [
              0.2222222222222222,
              "#7201a8"
             ],
             [
              0.3333333333333333,
              "#9c179e"
             ],
             [
              0.4444444444444444,
              "#bd3786"
             ],
             [
              0.5555555555555556,
              "#d8576b"
             ],
             [
              0.6666666666666666,
              "#ed7953"
             ],
             [
              0.7777777777777778,
              "#fb9f3a"
             ],
             [
              0.8888888888888888,
              "#fdca26"
             ],
             [
              1,
              "#f0f921"
             ]
            ],
            "type": "heatmap"
           }
          ],
          "heatmapgl": [
           {
            "colorbar": {
             "outlinewidth": 0,
             "ticks": ""
            },
            "colorscale": [
             [
              0,
              "#0d0887"
             ],
             [
              0.1111111111111111,
              "#46039f"
             ],
             [
              0.2222222222222222,
              "#7201a8"
             ],
             [
              0.3333333333333333,
              "#9c179e"
             ],
             [
              0.4444444444444444,
              "#bd3786"
             ],
             [
              0.5555555555555556,
              "#d8576b"
             ],
             [
              0.6666666666666666,
              "#ed7953"
             ],
             [
              0.7777777777777778,
              "#fb9f3a"
             ],
             [
              0.8888888888888888,
              "#fdca26"
             ],
             [
              1,
              "#f0f921"
             ]
            ],
            "type": "heatmapgl"
           }
          ],
          "histogram": [
           {
            "marker": {
             "pattern": {
              "fillmode": "overlay",
              "size": 10,
              "solidity": 0.2
             }
            },
            "type": "histogram"
           }
          ],
          "histogram2d": [
           {
            "colorbar": {
             "outlinewidth": 0,
             "ticks": ""
            },
            "colorscale": [
             [
              0,
              "#0d0887"
             ],
             [
              0.1111111111111111,
              "#46039f"
             ],
             [
              0.2222222222222222,
              "#7201a8"
             ],
             [
              0.3333333333333333,
              "#9c179e"
             ],
             [
              0.4444444444444444,
              "#bd3786"
             ],
             [
              0.5555555555555556,
              "#d8576b"
             ],
             [
              0.6666666666666666,
              "#ed7953"
             ],
             [
              0.7777777777777778,
              "#fb9f3a"
             ],
             [
              0.8888888888888888,
              "#fdca26"
             ],
             [
              1,
              "#f0f921"
             ]
            ],
            "type": "histogram2d"
           }
          ],
          "histogram2dcontour": [
           {
            "colorbar": {
             "outlinewidth": 0,
             "ticks": ""
            },
            "colorscale": [
             [
              0,
              "#0d0887"
             ],
             [
              0.1111111111111111,
              "#46039f"
             ],
             [
              0.2222222222222222,
              "#7201a8"
             ],
             [
              0.3333333333333333,
              "#9c179e"
             ],
             [
              0.4444444444444444,
              "#bd3786"
             ],
             [
              0.5555555555555556,
              "#d8576b"
             ],
             [
              0.6666666666666666,
              "#ed7953"
             ],
             [
              0.7777777777777778,
              "#fb9f3a"
             ],
             [
              0.8888888888888888,
              "#fdca26"
             ],
             [
              1,
              "#f0f921"
             ]
            ],
            "type": "histogram2dcontour"
           }
          ],
          "mesh3d": [
           {
            "colorbar": {
             "outlinewidth": 0,
             "ticks": ""
            },
            "type": "mesh3d"
           }
          ],
          "parcoords": [
           {
            "line": {
             "colorbar": {
              "outlinewidth": 0,
              "ticks": ""
             }
            },
            "type": "parcoords"
           }
          ],
          "pie": [
           {
            "automargin": true,
            "type": "pie"
           }
          ],
          "scatter": [
           {
            "marker": {
             "colorbar": {
              "outlinewidth": 0,
              "ticks": ""
             }
            },
            "type": "scatter"
           }
          ],
          "scatter3d": [
           {
            "line": {
             "colorbar": {
              "outlinewidth": 0,
              "ticks": ""
             }
            },
            "marker": {
             "colorbar": {
              "outlinewidth": 0,
              "ticks": ""
             }
            },
            "type": "scatter3d"
           }
          ],
          "scattercarpet": [
           {
            "marker": {
             "colorbar": {
              "outlinewidth": 0,
              "ticks": ""
             }
            },
            "type": "scattercarpet"
           }
          ],
          "scattergeo": [
           {
            "marker": {
             "colorbar": {
              "outlinewidth": 0,
              "ticks": ""
             }
            },
            "type": "scattergeo"
           }
          ],
          "scattergl": [
           {
            "marker": {
             "colorbar": {
              "outlinewidth": 0,
              "ticks": ""
             }
            },
            "type": "scattergl"
           }
          ],
          "scattermapbox": [
           {
            "marker": {
             "colorbar": {
              "outlinewidth": 0,
              "ticks": ""
             }
            },
            "type": "scattermapbox"
           }
          ],
          "scatterpolar": [
           {
            "marker": {
             "colorbar": {
              "outlinewidth": 0,
              "ticks": ""
             }
            },
            "type": "scatterpolar"
           }
          ],
          "scatterpolargl": [
           {
            "marker": {
             "colorbar": {
              "outlinewidth": 0,
              "ticks": ""
             }
            },
            "type": "scatterpolargl"
           }
          ],
          "scatterternary": [
           {
            "marker": {
             "colorbar": {
              "outlinewidth": 0,
              "ticks": ""
             }
            },
            "type": "scatterternary"
           }
          ],
          "surface": [
           {
            "colorbar": {
             "outlinewidth": 0,
             "ticks": ""
            },
            "colorscale": [
             [
              0,
              "#0d0887"
             ],
             [
              0.1111111111111111,
              "#46039f"
             ],
             [
              0.2222222222222222,
              "#7201a8"
             ],
             [
              0.3333333333333333,
              "#9c179e"
             ],
             [
              0.4444444444444444,
              "#bd3786"
             ],
             [
              0.5555555555555556,
              "#d8576b"
             ],
             [
              0.6666666666666666,
              "#ed7953"
             ],
             [
              0.7777777777777778,
              "#fb9f3a"
             ],
             [
              0.8888888888888888,
              "#fdca26"
             ],
             [
              1,
              "#f0f921"
             ]
            ],
            "type": "surface"
           }
          ],
          "table": [
           {
            "cells": {
             "fill": {
              "color": "#EBF0F8"
             },
             "line": {
              "color": "white"
             }
            },
            "header": {
             "fill": {
              "color": "#C8D4E3"
             },
             "line": {
              "color": "white"
             }
            },
            "type": "table"
           }
          ]
         },
         "layout": {
          "annotationdefaults": {
           "arrowcolor": "#2a3f5f",
           "arrowhead": 0,
           "arrowwidth": 1
          },
          "autotypenumbers": "strict",
          "coloraxis": {
           "colorbar": {
            "outlinewidth": 0,
            "ticks": ""
           }
          },
          "colorscale": {
           "diverging": [
            [
             0,
             "#8e0152"
            ],
            [
             0.1,
             "#c51b7d"
            ],
            [
             0.2,
             "#de77ae"
            ],
            [
             0.3,
             "#f1b6da"
            ],
            [
             0.4,
             "#fde0ef"
            ],
            [
             0.5,
             "#f7f7f7"
            ],
            [
             0.6,
             "#e6f5d0"
            ],
            [
             0.7,
             "#b8e186"
            ],
            [
             0.8,
             "#7fbc41"
            ],
            [
             0.9,
             "#4d9221"
            ],
            [
             1,
             "#276419"
            ]
           ],
           "sequential": [
            [
             0,
             "#0d0887"
            ],
            [
             0.1111111111111111,
             "#46039f"
            ],
            [
             0.2222222222222222,
             "#7201a8"
            ],
            [
             0.3333333333333333,
             "#9c179e"
            ],
            [
             0.4444444444444444,
             "#bd3786"
            ],
            [
             0.5555555555555556,
             "#d8576b"
            ],
            [
             0.6666666666666666,
             "#ed7953"
            ],
            [
             0.7777777777777778,
             "#fb9f3a"
            ],
            [
             0.8888888888888888,
             "#fdca26"
            ],
            [
             1,
             "#f0f921"
            ]
           ],
           "sequentialminus": [
            [
             0,
             "#0d0887"
            ],
            [
             0.1111111111111111,
             "#46039f"
            ],
            [
             0.2222222222222222,
             "#7201a8"
            ],
            [
             0.3333333333333333,
             "#9c179e"
            ],
            [
             0.4444444444444444,
             "#bd3786"
            ],
            [
             0.5555555555555556,
             "#d8576b"
            ],
            [
             0.6666666666666666,
             "#ed7953"
            ],
            [
             0.7777777777777778,
             "#fb9f3a"
            ],
            [
             0.8888888888888888,
             "#fdca26"
            ],
            [
             1,
             "#f0f921"
            ]
           ]
          },
          "colorway": [
           "#636efa",
           "#EF553B",
           "#00cc96",
           "#ab63fa",
           "#FFA15A",
           "#19d3f3",
           "#FF6692",
           "#B6E880",
           "#FF97FF",
           "#FECB52"
          ],
          "font": {
           "color": "#2a3f5f"
          },
          "geo": {
           "bgcolor": "white",
           "lakecolor": "white",
           "landcolor": "#E5ECF6",
           "showlakes": true,
           "showland": true,
           "subunitcolor": "white"
          },
          "hoverlabel": {
           "align": "left"
          },
          "hovermode": "closest",
          "mapbox": {
           "style": "light"
          },
          "paper_bgcolor": "white",
          "plot_bgcolor": "#E5ECF6",
          "polar": {
           "angularaxis": {
            "gridcolor": "white",
            "linecolor": "white",
            "ticks": ""
           },
           "bgcolor": "#E5ECF6",
           "radialaxis": {
            "gridcolor": "white",
            "linecolor": "white",
            "ticks": ""
           }
          },
          "scene": {
           "xaxis": {
            "backgroundcolor": "#E5ECF6",
            "gridcolor": "white",
            "gridwidth": 2,
            "linecolor": "white",
            "showbackground": true,
            "ticks": "",
            "zerolinecolor": "white"
           },
           "yaxis": {
            "backgroundcolor": "#E5ECF6",
            "gridcolor": "white",
            "gridwidth": 2,
            "linecolor": "white",
            "showbackground": true,
            "ticks": "",
            "zerolinecolor": "white"
           },
           "zaxis": {
            "backgroundcolor": "#E5ECF6",
            "gridcolor": "white",
            "gridwidth": 2,
            "linecolor": "white",
            "showbackground": true,
            "ticks": "",
            "zerolinecolor": "white"
           }
          },
          "shapedefaults": {
           "line": {
            "color": "#2a3f5f"
           }
          },
          "ternary": {
           "aaxis": {
            "gridcolor": "white",
            "linecolor": "white",
            "ticks": ""
           },
           "baxis": {
            "gridcolor": "white",
            "linecolor": "white",
            "ticks": ""
           },
           "bgcolor": "#E5ECF6",
           "caxis": {
            "gridcolor": "white",
            "linecolor": "white",
            "ticks": ""
           }
          },
          "title": {
           "x": 0.05
          },
          "xaxis": {
           "automargin": true,
           "gridcolor": "white",
           "linecolor": "white",
           "ticks": "",
           "title": {
            "standoff": 15
           },
           "zerolinecolor": "white",
           "zerolinewidth": 2
          },
          "yaxis": {
           "automargin": true,
           "gridcolor": "white",
           "linecolor": "white",
           "ticks": "",
           "title": {
            "standoff": 15
           },
           "zerolinecolor": "white",
           "zerolinewidth": 2
          }
         }
        },
        "title": {
         "font": {
          "color": "#1b2442",
          "size": 1
         },
         "text": "Top 10 Most Popular Symbols in July"
        },
        "xaxis": {
         "anchor": "y",
         "domain": [
          0,
          1
         ],
         "gridcolor": "rgb(44, 53, 72)",
         "title": {
          "text": "Mentions"
         },
         "zeroline": false,
         "zerolinecolor": "#e1e1e1"
        },
        "yaxis": {
         "anchor": "x",
         "categoryarray": [
          "AMD",
          "SOFI",
          "BB",
          "TSLA",
          "AAPL",
          "WISH",
          "SPCE",
          "CLOV",
          "GME",
          "AMC"
         ],
         "categoryorder": "array",
         "domain": [
          0,
          1
         ],
         "gridcolor": "rgb(44, 53, 72)",
         "title": {
          "text": ""
         },
         "zerolinecolor": "#e1e1e1"
        }
       }
      },
      "text/html": [
       "<div>                            <div id=\"213c7dc5-4006-45f4-ab8f-50a3b6454b29\" class=\"plotly-graph-div\" style=\"height:525px; width:100%;\"></div>            <script type=\"text/javascript\">                require([\"plotly\"], function(Plotly) {                    window.PLOTLYENV=window.PLOTLYENV || {};                                    if (document.getElementById(\"213c7dc5-4006-45f4-ab8f-50a3b6454b29\")) {                    Plotly.newPlot(                        \"213c7dc5-4006-45f4-ab8f-50a3b6454b29\",                        [{\"alignmentgroup\":\"True\",\"hovertemplate\":\"Symbol=%{y}<br>Mentions=%{text}<extra></extra>\",\"legendgroup\":\"AMC\",\"marker\":{\"color\":\"#636efa\",\"line\":{\"width\":0},\"pattern\":{\"shape\":\"\"}},\"name\":\"AMC\",\"offsetgroup\":\"AMC\",\"orientation\":\"h\",\"showlegend\":true,\"text\":[\"10203\"],\"textposition\":\"auto\",\"type\":\"bar\",\"x\":[10203],\"xaxis\":\"x\",\"y\":[\"AMC\"],\"yaxis\":\"y\"},{\"alignmentgroup\":\"True\",\"hovertemplate\":\"Symbol=%{y}<br>Mentions=%{text}<extra></extra>\",\"legendgroup\":\"GME\",\"marker\":{\"color\":\"#EF553B\",\"line\":{\"width\":0},\"pattern\":{\"shape\":\"\"}},\"name\":\"GME\",\"offsetgroup\":\"GME\",\"orientation\":\"h\",\"showlegend\":true,\"text\":[\"9303\"],\"textposition\":\"auto\",\"type\":\"bar\",\"x\":[9303],\"xaxis\":\"x\",\"y\":[\"GME\"],\"yaxis\":\"y\"},{\"alignmentgroup\":\"True\",\"hovertemplate\":\"Symbol=%{y}<br>Mentions=%{text}<extra></extra>\",\"legendgroup\":\"CLOV\",\"marker\":{\"color\":\"#00cc96\",\"line\":{\"width\":0},\"pattern\":{\"shape\":\"\"}},\"name\":\"CLOV\",\"offsetgroup\":\"CLOV\",\"orientation\":\"h\",\"showlegend\":true,\"text\":[\"8824\"],\"textposition\":\"auto\",\"type\":\"bar\",\"x\":[8824],\"xaxis\":\"x\",\"y\":[\"CLOV\"],\"yaxis\":\"y\"},{\"alignmentgroup\":\"True\",\"hovertemplate\":\"Symbol=%{y}<br>Mentions=%{text}<extra></extra>\",\"legendgroup\":\"SPCE\",\"marker\":{\"color\":\"#ab63fa\",\"line\":{\"width\":0},\"pattern\":{\"shape\":\"\"}},\"name\":\"SPCE\",\"offsetgroup\":\"SPCE\",\"orientation\":\"h\",\"showlegend\":true,\"text\":[\"7289\"],\"textposition\":\"auto\",\"type\":\"bar\",\"x\":[7289],\"xaxis\":\"x\",\"y\":[\"SPCE\"],\"yaxis\":\"y\"},{\"alignmentgroup\":\"True\",\"hovertemplate\":\"Symbol=%{y}<br>Mentions=%{text}<extra></extra>\",\"legendgroup\":\"WISH\",\"marker\":{\"color\":\"#FFA15A\",\"line\":{\"width\":0},\"pattern\":{\"shape\":\"\"}},\"name\":\"WISH\",\"offsetgroup\":\"WISH\",\"orientation\":\"h\",\"showlegend\":true,\"text\":[\"4819\"],\"textposition\":\"auto\",\"type\":\"bar\",\"x\":[4819],\"xaxis\":\"x\",\"y\":[\"WISH\"],\"yaxis\":\"y\"},{\"alignmentgroup\":\"True\",\"hovertemplate\":\"Symbol=%{y}<br>Mentions=%{text}<extra></extra>\",\"legendgroup\":\"AAPL\",\"marker\":{\"color\":\"#19d3f3\",\"line\":{\"width\":0},\"pattern\":{\"shape\":\"\"}},\"name\":\"AAPL\",\"offsetgroup\":\"AAPL\",\"orientation\":\"h\",\"showlegend\":true,\"text\":[\"3300\"],\"textposition\":\"auto\",\"type\":\"bar\",\"x\":[3300],\"xaxis\":\"x\",\"y\":[\"AAPL\"],\"yaxis\":\"y\"},{\"alignmentgroup\":\"True\",\"hovertemplate\":\"Symbol=%{y}<br>Mentions=%{text}<extra></extra>\",\"legendgroup\":\"TSLA\",\"marker\":{\"color\":\"#FF6692\",\"line\":{\"width\":0},\"pattern\":{\"shape\":\"\"}},\"name\":\"TSLA\",\"offsetgroup\":\"TSLA\",\"orientation\":\"h\",\"showlegend\":true,\"text\":[\"3212\"],\"textposition\":\"auto\",\"type\":\"bar\",\"x\":[3212],\"xaxis\":\"x\",\"y\":[\"TSLA\"],\"yaxis\":\"y\"},{\"alignmentgroup\":\"True\",\"hovertemplate\":\"Symbol=%{y}<br>Mentions=%{text}<extra></extra>\",\"legendgroup\":\"BB\",\"marker\":{\"color\":\"#B6E880\",\"line\":{\"width\":0},\"pattern\":{\"shape\":\"\"}},\"name\":\"BB\",\"offsetgroup\":\"BB\",\"orientation\":\"h\",\"showlegend\":true,\"text\":[\"3198\"],\"textposition\":\"auto\",\"type\":\"bar\",\"x\":[3198],\"xaxis\":\"x\",\"y\":[\"BB\"],\"yaxis\":\"y\"},{\"alignmentgroup\":\"True\",\"hovertemplate\":\"Symbol=%{y}<br>Mentions=%{text}<extra></extra>\",\"legendgroup\":\"SOFI\",\"marker\":{\"color\":\"#FF97FF\",\"line\":{\"width\":0},\"pattern\":{\"shape\":\"\"}},\"name\":\"SOFI\",\"offsetgroup\":\"SOFI\",\"orientation\":\"h\",\"showlegend\":true,\"text\":[\"3153\"],\"textposition\":\"auto\",\"type\":\"bar\",\"x\":[3153],\"xaxis\":\"x\",\"y\":[\"SOFI\"],\"yaxis\":\"y\"},{\"alignmentgroup\":\"True\",\"hovertemplate\":\"Symbol=%{y}<br>Mentions=%{text}<extra></extra>\",\"legendgroup\":\"AMD\",\"marker\":{\"color\":\"#FECB52\",\"line\":{\"width\":0},\"pattern\":{\"shape\":\"\"}},\"name\":\"AMD\",\"offsetgroup\":\"AMD\",\"orientation\":\"h\",\"showlegend\":true,\"text\":[\"3002\"],\"textposition\":\"auto\",\"type\":\"bar\",\"x\":[3002],\"xaxis\":\"x\",\"y\":[\"AMD\"],\"yaxis\":\"y\"}],                        {\"annotations\":[{\"align\":\"right\",\"height\":40,\"showarrow\":false,\"text\":\"<a style=\\\"color: rgb(100, 130, 180);\\\" href=\\\"https://beneath.dev/\\\">beneath.dev</a>\",\"x\":1.0,\"xanchor\":\"right\",\"xref\":\"paper\",\"y\":1.0,\"yanchor\":\"bottom\",\"yref\":\"paper\",\"yshift\":13},{\"align\":\"left\",\"font\":{\"size\":12},\"height\":16,\"showarrow\":false,\"text\":\"Number of mentions in posts and comments\",\"x\":0.0,\"xanchor\":\"left\",\"xref\":\"paper\",\"y\":1.0,\"yanchor\":\"bottom\",\"yref\":\"paper\",\"yshift\":13},{\"align\":\"left\",\"font\":{\"size\":18},\"height\":24,\"showarrow\":false,\"text\":\"<b>Top 10 Most Popular Symbols in July</b>\",\"x\":0.0,\"xanchor\":\"left\",\"xref\":\"paper\",\"y\":1.0,\"yanchor\":\"bottom\",\"yref\":\"paper\",\"yshift\":29}],\"bargap\":0,\"barmode\":\"relative\",\"colorway\":[\"rgb(60, 170, 255)\",\"rgb(255, 60, 130)\",\"rgb(100, 200, 100)\",\"rgb(200, 220, 240)\",\"rgb(251, 241, 67)\",\"rgb(203, 60, 255)\",\"rgb(249, 148, 66)\",\"rgb(36, 130, 36)\",\"rgb(238, 255, 234)\"],\"dragmode\":\"select\",\"font\":{\"color\":\"#e1e1e1\",\"family\":\"SFMono-Regular,Menlo,Monaco,Consolas,Liberation Mono,Courier,monospace\"},\"legend\":{\"title\":{\"text\":\"Symbol\"},\"tracegroupgap\":0},\"margin\":{\"autoexpand\":true,\"b\":30,\"l\":35,\"r\":20,\"t\":68},\"paper_bgcolor\":\"#1b2442\",\"plot_bgcolor\":\"#1b2442\",\"showlegend\":false,\"template\":{\"data\":{\"bar\":[{\"error_x\":{\"color\":\"#2a3f5f\"},\"error_y\":{\"color\":\"#2a3f5f\"},\"marker\":{\"line\":{\"color\":\"#E5ECF6\",\"width\":0.5},\"pattern\":{\"fillmode\":\"overlay\",\"size\":10,\"solidity\":0.2}},\"type\":\"bar\"}],\"barpolar\":[{\"marker\":{\"line\":{\"color\":\"#E5ECF6\",\"width\":0.5},\"pattern\":{\"fillmode\":\"overlay\",\"size\":10,\"solidity\":0.2}},\"type\":\"barpolar\"}],\"carpet\":[{\"aaxis\":{\"endlinecolor\":\"#2a3f5f\",\"gridcolor\":\"white\",\"linecolor\":\"white\",\"minorgridcolor\":\"white\",\"startlinecolor\":\"#2a3f5f\"},\"baxis\":{\"endlinecolor\":\"#2a3f5f\",\"gridcolor\":\"white\",\"linecolor\":\"white\",\"minorgridcolor\":\"white\",\"startlinecolor\":\"#2a3f5f\"},\"type\":\"carpet\"}],\"choropleth\":[{\"colorbar\":{\"outlinewidth\":0,\"ticks\":\"\"},\"type\":\"choropleth\"}],\"contour\":[{\"colorbar\":{\"outlinewidth\":0,\"ticks\":\"\"},\"colorscale\":[[0.0,\"#0d0887\"],[0.1111111111111111,\"#46039f\"],[0.2222222222222222,\"#7201a8\"],[0.3333333333333333,\"#9c179e\"],[0.4444444444444444,\"#bd3786\"],[0.5555555555555556,\"#d8576b\"],[0.6666666666666666,\"#ed7953\"],[0.7777777777777778,\"#fb9f3a\"],[0.8888888888888888,\"#fdca26\"],[1.0,\"#f0f921\"]],\"type\":\"contour\"}],\"contourcarpet\":[{\"colorbar\":{\"outlinewidth\":0,\"ticks\":\"\"},\"type\":\"contourcarpet\"}],\"heatmap\":[{\"colorbar\":{\"outlinewidth\":0,\"ticks\":\"\"},\"colorscale\":[[0.0,\"#0d0887\"],[0.1111111111111111,\"#46039f\"],[0.2222222222222222,\"#7201a8\"],[0.3333333333333333,\"#9c179e\"],[0.4444444444444444,\"#bd3786\"],[0.5555555555555556,\"#d8576b\"],[0.6666666666666666,\"#ed7953\"],[0.7777777777777778,\"#fb9f3a\"],[0.8888888888888888,\"#fdca26\"],[1.0,\"#f0f921\"]],\"type\":\"heatmap\"}],\"heatmapgl\":[{\"colorbar\":{\"outlinewidth\":0,\"ticks\":\"\"},\"colorscale\":[[0.0,\"#0d0887\"],[0.1111111111111111,\"#46039f\"],[0.2222222222222222,\"#7201a8\"],[0.3333333333333333,\"#9c179e\"],[0.4444444444444444,\"#bd3786\"],[0.5555555555555556,\"#d8576b\"],[0.6666666666666666,\"#ed7953\"],[0.7777777777777778,\"#fb9f3a\"],[0.8888888888888888,\"#fdca26\"],[1.0,\"#f0f921\"]],\"type\":\"heatmapgl\"}],\"histogram\":[{\"marker\":{\"pattern\":{\"fillmode\":\"overlay\",\"size\":10,\"solidity\":0.2}},\"type\":\"histogram\"}],\"histogram2d\":[{\"colorbar\":{\"outlinewidth\":0,\"ticks\":\"\"},\"colorscale\":[[0.0,\"#0d0887\"],[0.1111111111111111,\"#46039f\"],[0.2222222222222222,\"#7201a8\"],[0.3333333333333333,\"#9c179e\"],[0.4444444444444444,\"#bd3786\"],[0.5555555555555556,\"#d8576b\"],[0.6666666666666666,\"#ed7953\"],[0.7777777777777778,\"#fb9f3a\"],[0.8888888888888888,\"#fdca26\"],[1.0,\"#f0f921\"]],\"type\":\"histogram2d\"}],\"histogram2dcontour\":[{\"colorbar\":{\"outlinewidth\":0,\"ticks\":\"\"},\"colorscale\":[[0.0,\"#0d0887\"],[0.1111111111111111,\"#46039f\"],[0.2222222222222222,\"#7201a8\"],[0.3333333333333333,\"#9c179e\"],[0.4444444444444444,\"#bd3786\"],[0.5555555555555556,\"#d8576b\"],[0.6666666666666666,\"#ed7953\"],[0.7777777777777778,\"#fb9f3a\"],[0.8888888888888888,\"#fdca26\"],[1.0,\"#f0f921\"]],\"type\":\"histogram2dcontour\"}],\"mesh3d\":[{\"colorbar\":{\"outlinewidth\":0,\"ticks\":\"\"},\"type\":\"mesh3d\"}],\"parcoords\":[{\"line\":{\"colorbar\":{\"outlinewidth\":0,\"ticks\":\"\"}},\"type\":\"parcoords\"}],\"pie\":[{\"automargin\":true,\"type\":\"pie\"}],\"scatter\":[{\"marker\":{\"colorbar\":{\"outlinewidth\":0,\"ticks\":\"\"}},\"type\":\"scatter\"}],\"scatter3d\":[{\"line\":{\"colorbar\":{\"outlinewidth\":0,\"ticks\":\"\"}},\"marker\":{\"colorbar\":{\"outlinewidth\":0,\"ticks\":\"\"}},\"type\":\"scatter3d\"}],\"scattercarpet\":[{\"marker\":{\"colorbar\":{\"outlinewidth\":0,\"ticks\":\"\"}},\"type\":\"scattercarpet\"}],\"scattergeo\":[{\"marker\":{\"colorbar\":{\"outlinewidth\":0,\"ticks\":\"\"}},\"type\":\"scattergeo\"}],\"scattergl\":[{\"marker\":{\"colorbar\":{\"outlinewidth\":0,\"ticks\":\"\"}},\"type\":\"scattergl\"}],\"scattermapbox\":[{\"marker\":{\"colorbar\":{\"outlinewidth\":0,\"ticks\":\"\"}},\"type\":\"scattermapbox\"}],\"scatterpolar\":[{\"marker\":{\"colorbar\":{\"outlinewidth\":0,\"ticks\":\"\"}},\"type\":\"scatterpolar\"}],\"scatterpolargl\":[{\"marker\":{\"colorbar\":{\"outlinewidth\":0,\"ticks\":\"\"}},\"type\":\"scatterpolargl\"}],\"scatterternary\":[{\"marker\":{\"colorbar\":{\"outlinewidth\":0,\"ticks\":\"\"}},\"type\":\"scatterternary\"}],\"surface\":[{\"colorbar\":{\"outlinewidth\":0,\"ticks\":\"\"},\"colorscale\":[[0.0,\"#0d0887\"],[0.1111111111111111,\"#46039f\"],[0.2222222222222222,\"#7201a8\"],[0.3333333333333333,\"#9c179e\"],[0.4444444444444444,\"#bd3786\"],[0.5555555555555556,\"#d8576b\"],[0.6666666666666666,\"#ed7953\"],[0.7777777777777778,\"#fb9f3a\"],[0.8888888888888888,\"#fdca26\"],[1.0,\"#f0f921\"]],\"type\":\"surface\"}],\"table\":[{\"cells\":{\"fill\":{\"color\":\"#EBF0F8\"},\"line\":{\"color\":\"white\"}},\"header\":{\"fill\":{\"color\":\"#C8D4E3\"},\"line\":{\"color\":\"white\"}},\"type\":\"table\"}]},\"layout\":{\"annotationdefaults\":{\"arrowcolor\":\"#2a3f5f\",\"arrowhead\":0,\"arrowwidth\":1},\"autotypenumbers\":\"strict\",\"coloraxis\":{\"colorbar\":{\"outlinewidth\":0,\"ticks\":\"\"}},\"colorscale\":{\"diverging\":[[0,\"#8e0152\"],[0.1,\"#c51b7d\"],[0.2,\"#de77ae\"],[0.3,\"#f1b6da\"],[0.4,\"#fde0ef\"],[0.5,\"#f7f7f7\"],[0.6,\"#e6f5d0\"],[0.7,\"#b8e186\"],[0.8,\"#7fbc41\"],[0.9,\"#4d9221\"],[1,\"#276419\"]],\"sequential\":[[0.0,\"#0d0887\"],[0.1111111111111111,\"#46039f\"],[0.2222222222222222,\"#7201a8\"],[0.3333333333333333,\"#9c179e\"],[0.4444444444444444,\"#bd3786\"],[0.5555555555555556,\"#d8576b\"],[0.6666666666666666,\"#ed7953\"],[0.7777777777777778,\"#fb9f3a\"],[0.8888888888888888,\"#fdca26\"],[1.0,\"#f0f921\"]],\"sequentialminus\":[[0.0,\"#0d0887\"],[0.1111111111111111,\"#46039f\"],[0.2222222222222222,\"#7201a8\"],[0.3333333333333333,\"#9c179e\"],[0.4444444444444444,\"#bd3786\"],[0.5555555555555556,\"#d8576b\"],[0.6666666666666666,\"#ed7953\"],[0.7777777777777778,\"#fb9f3a\"],[0.8888888888888888,\"#fdca26\"],[1.0,\"#f0f921\"]]},\"colorway\":[\"#636efa\",\"#EF553B\",\"#00cc96\",\"#ab63fa\",\"#FFA15A\",\"#19d3f3\",\"#FF6692\",\"#B6E880\",\"#FF97FF\",\"#FECB52\"],\"font\":{\"color\":\"#2a3f5f\"},\"geo\":{\"bgcolor\":\"white\",\"lakecolor\":\"white\",\"landcolor\":\"#E5ECF6\",\"showlakes\":true,\"showland\":true,\"subunitcolor\":\"white\"},\"hoverlabel\":{\"align\":\"left\"},\"hovermode\":\"closest\",\"mapbox\":{\"style\":\"light\"},\"paper_bgcolor\":\"white\",\"plot_bgcolor\":\"#E5ECF6\",\"polar\":{\"angularaxis\":{\"gridcolor\":\"white\",\"linecolor\":\"white\",\"ticks\":\"\"},\"bgcolor\":\"#E5ECF6\",\"radialaxis\":{\"gridcolor\":\"white\",\"linecolor\":\"white\",\"ticks\":\"\"}},\"scene\":{\"xaxis\":{\"backgroundcolor\":\"#E5ECF6\",\"gridcolor\":\"white\",\"gridwidth\":2,\"linecolor\":\"white\",\"showbackground\":true,\"ticks\":\"\",\"zerolinecolor\":\"white\"},\"yaxis\":{\"backgroundcolor\":\"#E5ECF6\",\"gridcolor\":\"white\",\"gridwidth\":2,\"linecolor\":\"white\",\"showbackground\":true,\"ticks\":\"\",\"zerolinecolor\":\"white\"},\"zaxis\":{\"backgroundcolor\":\"#E5ECF6\",\"gridcolor\":\"white\",\"gridwidth\":2,\"linecolor\":\"white\",\"showbackground\":true,\"ticks\":\"\",\"zerolinecolor\":\"white\"}},\"shapedefaults\":{\"line\":{\"color\":\"#2a3f5f\"}},\"ternary\":{\"aaxis\":{\"gridcolor\":\"white\",\"linecolor\":\"white\",\"ticks\":\"\"},\"baxis\":{\"gridcolor\":\"white\",\"linecolor\":\"white\",\"ticks\":\"\"},\"bgcolor\":\"#E5ECF6\",\"caxis\":{\"gridcolor\":\"white\",\"linecolor\":\"white\",\"ticks\":\"\"}},\"title\":{\"x\":0.05},\"xaxis\":{\"automargin\":true,\"gridcolor\":\"white\",\"linecolor\":\"white\",\"ticks\":\"\",\"title\":{\"standoff\":15},\"zerolinecolor\":\"white\",\"zerolinewidth\":2},\"yaxis\":{\"automargin\":true,\"gridcolor\":\"white\",\"linecolor\":\"white\",\"ticks\":\"\",\"title\":{\"standoff\":15},\"zerolinecolor\":\"white\",\"zerolinewidth\":2}}},\"title\":{\"font\":{\"color\":\"#1b2442\",\"size\":1},\"text\":\"Top 10 Most Popular Symbols in July\"},\"xaxis\":{\"anchor\":\"y\",\"domain\":[0.0,1.0],\"gridcolor\":\"rgb(44, 53, 72)\",\"title\":{\"text\":\"Mentions\"},\"zeroline\":false,\"zerolinecolor\":\"#e1e1e1\"},\"yaxis\":{\"anchor\":\"x\",\"categoryarray\":[\"AMD\",\"SOFI\",\"BB\",\"TSLA\",\"AAPL\",\"WISH\",\"SPCE\",\"CLOV\",\"GME\",\"AMC\"],\"categoryorder\":\"array\",\"domain\":[0.0,1.0],\"gridcolor\":\"rgb(44, 53, 72)\",\"title\":{\"text\":\"\"},\"zerolinecolor\":\"#e1e1e1\"}},                        {\"responsive\": true}                    ).then(function(){\n",
       "                            \n",
       "var gd = document.getElementById('213c7dc5-4006-45f4-ab8f-50a3b6454b29');\n",
       "var x = new MutationObserver(function (mutations, observer) {{\n",
       "        var display = window.getComputedStyle(gd).display;\n",
       "        if (!display || display === 'none') {{\n",
       "            console.log([gd, 'removed!']);\n",
       "            Plotly.purge(gd);\n",
       "            observer.disconnect();\n",
       "        }}\n",
       "}});\n",
       "\n",
       "// Listen for the removal of the full notebook cells\n",
       "var notebookContainer = gd.closest('#notebook-container');\n",
       "if (notebookContainer) {{\n",
       "    x.observe(notebookContainer, {childList: true});\n",
       "}}\n",
       "\n",
       "// Listen for the clearing of the current output cell\n",
       "var outputEl = gd.closest('.output');\n",
       "if (outputEl) {{\n",
       "    x.observe(outputEl, {childList: true});\n",
       "}}\n",
       "\n",
       "                        })                };                });            </script>        </div>"
      ]
     },
     "metadata": {},
     "output_type": "display_data"
    }
   ],
   "source": [
    "fig = px.bar(\n",
    "    top_symbols_month_df[0:10],\n",
    "    x=\"num_mentions\",\n",
    "    y=\"symbol\",\n",
    "    text=\"num_mentions\",\n",
    "    color='symbol',\n",
    "    orientation='h',\n",
    "    labels={'num_mentions': 'Mentions', 'symbol': 'Symbol'},\n",
    ")\n",
    "fig.update_layout(\n",
    "    make_layout(\n",
    "        title=\"Top 10 Most Popular Symbols in July\",\n",
    "        subtitle=\"Number of mentions in posts and comments\",\n",
    "        legend=False,\n",
    "        source_hidden=False,\n",
    "        override={\n",
    "            \"bargap\": 0,\n",
    "            'showlegend': False,\n",
    "            'yaxis_title': '',\n",
    "            'xaxis_zeroline': False\n",
    "        },\n",
    "    )\n",
    ")\n",
    "fig.update_traces({\n",
    "    'marker_line_width': 0                 \n",
    "})\n",
    "fig.show()"
   ]
  },
  {
   "cell_type": "code",
   "execution_count": 86,
   "id": "1f17bdbd",
   "metadata": {},
   "outputs": [
    {
     "data": {
      "application/vnd.plotly.v1+json": {
       "config": {
        "plotlyServerURL": "https://plot.ly"
       },
       "data": [
        {
         "hovertemplate": "Symbol=AMC<br>Day=%{x}<br>Mentions=%{y}<extra></extra>",
         "legendgroup": "AMC",
         "line": {
          "color": "#636efa",
          "dash": "solid"
         },
         "mode": "lines",
         "name": "AMC",
         "orientation": "v",
         "showlegend": true,
         "type": "scatter",
         "x": [
          "2021-07-01T00:00:00+00:00",
          "2021-07-02T00:00:00+00:00",
          "2021-07-03T00:00:00+00:00",
          "2021-07-04T00:00:00+00:00",
          "2021-07-05T00:00:00+00:00",
          "2021-07-06T00:00:00+00:00",
          "2021-07-07T00:00:00+00:00",
          "2021-07-08T00:00:00+00:00",
          "2021-07-09T00:00:00+00:00",
          "2021-07-10T00:00:00+00:00",
          "2021-07-11T00:00:00+00:00",
          "2021-07-12T00:00:00+00:00",
          "2021-07-13T00:00:00+00:00",
          "2021-07-14T00:00:00+00:00",
          "2021-07-15T00:00:00+00:00",
          "2021-07-16T00:00:00+00:00",
          "2021-07-17T00:00:00+00:00",
          "2021-07-18T00:00:00+00:00",
          "2021-07-19T00:00:00+00:00",
          "2021-07-20T00:00:00+00:00",
          "2021-07-21T00:00:00+00:00",
          "2021-07-22T00:00:00+00:00",
          "2021-07-23T00:00:00+00:00",
          "2021-07-24T00:00:00+00:00",
          "2021-07-25T00:00:00+00:00",
          "2021-07-26T00:00:00+00:00"
         ],
         "xaxis": "x",
         "y": [
          587,
          613,
          170,
          289,
          281,
          567,
          729,
          729,
          287,
          124,
          142,
          397,
          567,
          841,
          869,
          391,
          151,
          169,
          372,
          516,
          496,
          337,
          240,
          129,
          113,
          97
         ],
         "yaxis": "y"
        },
        {
         "hovertemplate": "Symbol=CLOV<br>Day=%{x}<br>Mentions=%{y}<extra></extra>",
         "legendgroup": "CLOV",
         "line": {
          "color": "#EF553B",
          "dash": "solid"
         },
         "mode": "lines",
         "name": "CLOV",
         "orientation": "v",
         "showlegend": true,
         "type": "scatter",
         "x": [
          "2021-07-01T00:00:00+00:00",
          "2021-07-02T00:00:00+00:00",
          "2021-07-03T00:00:00+00:00",
          "2021-07-04T00:00:00+00:00",
          "2021-07-05T00:00:00+00:00",
          "2021-07-06T00:00:00+00:00",
          "2021-07-07T00:00:00+00:00",
          "2021-07-08T00:00:00+00:00",
          "2021-07-09T00:00:00+00:00",
          "2021-07-10T00:00:00+00:00",
          "2021-07-11T00:00:00+00:00",
          "2021-07-12T00:00:00+00:00",
          "2021-07-13T00:00:00+00:00",
          "2021-07-14T00:00:00+00:00",
          "2021-07-15T00:00:00+00:00",
          "2021-07-16T00:00:00+00:00",
          "2021-07-17T00:00:00+00:00",
          "2021-07-18T00:00:00+00:00",
          "2021-07-19T00:00:00+00:00",
          "2021-07-20T00:00:00+00:00",
          "2021-07-21T00:00:00+00:00",
          "2021-07-22T00:00:00+00:00",
          "2021-07-23T00:00:00+00:00",
          "2021-07-24T00:00:00+00:00",
          "2021-07-25T00:00:00+00:00",
          "2021-07-26T00:00:00+00:00"
         ],
         "xaxis": "x",
         "y": [
          669,
          533,
          109,
          113,
          199,
          829,
          722,
          420,
          293,
          92,
          111,
          706,
          590,
          388,
          266,
          207,
          71,
          82,
          216,
          246,
          712,
          716,
          318,
          64,
          76,
          76
         ],
         "yaxis": "y"
        },
        {
         "hovertemplate": "Symbol=GME<br>Day=%{x}<br>Mentions=%{y}<extra></extra>",
         "legendgroup": "GME",
         "line": {
          "color": "#00cc96",
          "dash": "solid"
         },
         "mode": "lines",
         "name": "GME",
         "orientation": "v",
         "showlegend": true,
         "type": "scatter",
         "x": [
          "2021-07-01T00:00:00+00:00",
          "2021-07-02T00:00:00+00:00",
          "2021-07-03T00:00:00+00:00",
          "2021-07-04T00:00:00+00:00",
          "2021-07-05T00:00:00+00:00",
          "2021-07-06T00:00:00+00:00",
          "2021-07-07T00:00:00+00:00",
          "2021-07-08T00:00:00+00:00",
          "2021-07-09T00:00:00+00:00",
          "2021-07-10T00:00:00+00:00",
          "2021-07-11T00:00:00+00:00",
          "2021-07-12T00:00:00+00:00",
          "2021-07-13T00:00:00+00:00",
          "2021-07-14T00:00:00+00:00",
          "2021-07-15T00:00:00+00:00",
          "2021-07-16T00:00:00+00:00",
          "2021-07-17T00:00:00+00:00",
          "2021-07-18T00:00:00+00:00",
          "2021-07-19T00:00:00+00:00",
          "2021-07-20T00:00:00+00:00",
          "2021-07-21T00:00:00+00:00",
          "2021-07-22T00:00:00+00:00",
          "2021-07-23T00:00:00+00:00",
          "2021-07-24T00:00:00+00:00",
          "2021-07-25T00:00:00+00:00",
          "2021-07-26T00:00:00+00:00"
         ],
         "xaxis": "x",
         "y": [
          586,
          426,
          202,
          416,
          383,
          763,
          805,
          497,
          272,
          136,
          102,
          423,
          359,
          661,
          735,
          354,
          154,
          226,
          386,
          369,
          294,
          236,
          187,
          122,
          115,
          94
         ],
         "yaxis": "y"
        },
        {
         "hovertemplate": "Symbol=SPCE<br>Day=%{x}<br>Mentions=%{y}<extra></extra>",
         "legendgroup": "SPCE",
         "line": {
          "color": "#ab63fa",
          "dash": "solid"
         },
         "mode": "lines",
         "name": "SPCE",
         "orientation": "v",
         "showlegend": true,
         "type": "scatter",
         "x": [
          "2021-07-01T00:00:00+00:00",
          "2021-07-02T00:00:00+00:00",
          "2021-07-03T00:00:00+00:00",
          "2021-07-04T00:00:00+00:00",
          "2021-07-05T00:00:00+00:00",
          "2021-07-06T00:00:00+00:00",
          "2021-07-07T00:00:00+00:00",
          "2021-07-08T00:00:00+00:00",
          "2021-07-09T00:00:00+00:00",
          "2021-07-10T00:00:00+00:00",
          "2021-07-11T00:00:00+00:00",
          "2021-07-12T00:00:00+00:00",
          "2021-07-13T00:00:00+00:00",
          "2021-07-14T00:00:00+00:00",
          "2021-07-15T00:00:00+00:00",
          "2021-07-16T00:00:00+00:00",
          "2021-07-17T00:00:00+00:00",
          "2021-07-18T00:00:00+00:00",
          "2021-07-19T00:00:00+00:00",
          "2021-07-20T00:00:00+00:00",
          "2021-07-21T00:00:00+00:00",
          "2021-07-22T00:00:00+00:00",
          "2021-07-23T00:00:00+00:00",
          "2021-07-24T00:00:00+00:00",
          "2021-07-25T00:00:00+00:00",
          "2021-07-26T00:00:00+00:00"
         ],
         "xaxis": "x",
         "y": [
          383,
          854,
          50,
          73,
          81,
          231,
          185,
          842,
          592,
          148,
          828,
          1418,
          375,
          330,
          197,
          166,
          59,
          29,
          177,
          118,
          56,
          40,
          38,
          8,
          5,
          6
         ],
         "yaxis": "y"
        },
        {
         "hovertemplate": "Symbol=WISH<br>Day=%{x}<br>Mentions=%{y}<extra></extra>",
         "legendgroup": "WISH",
         "line": {
          "color": "#FFA15A",
          "dash": "solid"
         },
         "mode": "lines",
         "name": "WISH",
         "orientation": "v",
         "showlegend": true,
         "type": "scatter",
         "x": [
          "2021-07-01T00:00:00+00:00",
          "2021-07-02T00:00:00+00:00",
          "2021-07-03T00:00:00+00:00",
          "2021-07-04T00:00:00+00:00",
          "2021-07-05T00:00:00+00:00",
          "2021-07-06T00:00:00+00:00",
          "2021-07-07T00:00:00+00:00",
          "2021-07-08T00:00:00+00:00",
          "2021-07-09T00:00:00+00:00",
          "2021-07-10T00:00:00+00:00",
          "2021-07-11T00:00:00+00:00",
          "2021-07-12T00:00:00+00:00",
          "2021-07-13T00:00:00+00:00",
          "2021-07-14T00:00:00+00:00",
          "2021-07-15T00:00:00+00:00",
          "2021-07-16T00:00:00+00:00",
          "2021-07-17T00:00:00+00:00",
          "2021-07-18T00:00:00+00:00",
          "2021-07-19T00:00:00+00:00",
          "2021-07-20T00:00:00+00:00",
          "2021-07-21T00:00:00+00:00",
          "2021-07-22T00:00:00+00:00",
          "2021-07-23T00:00:00+00:00",
          "2021-07-24T00:00:00+00:00",
          "2021-07-25T00:00:00+00:00",
          "2021-07-26T00:00:00+00:00"
         ],
         "xaxis": "x",
         "y": [
          657,
          462,
          73,
          55,
          118,
          342,
          307,
          365,
          203,
          38,
          66,
          208,
          200,
          291,
          253,
          234,
          69,
          36,
          162,
          158,
          141,
          121,
          148,
          28,
          39,
          45
         ],
         "yaxis": "y"
        }
       ],
       "layout": {
        "annotations": [
         {
          "align": "right",
          "height": 40,
          "showarrow": false,
          "text": "<a style=\"color: rgb(100, 130, 180);\" href=\"https://beneath.dev/\">beneath.dev</a>",
          "x": 1,
          "xanchor": "right",
          "xref": "paper",
          "y": 1,
          "yanchor": "bottom",
          "yref": "paper",
          "yshift": 13
         },
         {
          "align": "left",
          "font": {
           "size": 12
          },
          "height": 16,
          "showarrow": false,
          "text": "Number of mentions in posts and comments",
          "x": 0,
          "xanchor": "left",
          "xref": "paper",
          "y": 1,
          "yanchor": "bottom",
          "yref": "paper",
          "yshift": 13
         },
         {
          "align": "left",
          "font": {
           "size": 18
          },
          "height": 24,
          "showarrow": false,
          "text": "<b>Stock mentions in July</b>",
          "x": 0,
          "xanchor": "left",
          "xref": "paper",
          "y": 1,
          "yanchor": "bottom",
          "yref": "paper",
          "yshift": 29
         }
        ],
        "colorway": [
         "rgb(60, 170, 255)",
         "rgb(255, 60, 130)",
         "rgb(100, 200, 100)",
         "rgb(200, 220, 240)",
         "rgb(251, 241, 67)",
         "rgb(203, 60, 255)",
         "rgb(249, 148, 66)",
         "rgb(36, 130, 36)",
         "rgb(238, 255, 234)"
        ],
        "dragmode": "select",
        "font": {
         "color": "#e1e1e1",
         "family": "SFMono-Regular,Menlo,Monaco,Consolas,Liberation Mono,Courier,monospace"
        },
        "legend": {
         "orientation": "h",
         "title": {
          "text": "Symbol"
         },
         "tracegroupgap": 0,
         "x": 0,
         "y": -0.1,
         "yanchor": "top"
        },
        "margin": {
         "autoexpand": true,
         "b": 30,
         "l": 35,
         "r": 20,
         "t": 68
        },
        "paper_bgcolor": "#1b2442",
        "plot_bgcolor": "#1b2442",
        "template": {
         "data": {
          "bar": [
           {
            "error_x": {
             "color": "#2a3f5f"
            },
            "error_y": {
             "color": "#2a3f5f"
            },
            "marker": {
             "line": {
              "color": "#E5ECF6",
              "width": 0.5
             },
             "pattern": {
              "fillmode": "overlay",
              "size": 10,
              "solidity": 0.2
             }
            },
            "type": "bar"
           }
          ],
          "barpolar": [
           {
            "marker": {
             "line": {
              "color": "#E5ECF6",
              "width": 0.5
             },
             "pattern": {
              "fillmode": "overlay",
              "size": 10,
              "solidity": 0.2
             }
            },
            "type": "barpolar"
           }
          ],
          "carpet": [
           {
            "aaxis": {
             "endlinecolor": "#2a3f5f",
             "gridcolor": "white",
             "linecolor": "white",
             "minorgridcolor": "white",
             "startlinecolor": "#2a3f5f"
            },
            "baxis": {
             "endlinecolor": "#2a3f5f",
             "gridcolor": "white",
             "linecolor": "white",
             "minorgridcolor": "white",
             "startlinecolor": "#2a3f5f"
            },
            "type": "carpet"
           }
          ],
          "choropleth": [
           {
            "colorbar": {
             "outlinewidth": 0,
             "ticks": ""
            },
            "type": "choropleth"
           }
          ],
          "contour": [
           {
            "colorbar": {
             "outlinewidth": 0,
             "ticks": ""
            },
            "colorscale": [
             [
              0,
              "#0d0887"
             ],
             [
              0.1111111111111111,
              "#46039f"
             ],
             [
              0.2222222222222222,
              "#7201a8"
             ],
             [
              0.3333333333333333,
              "#9c179e"
             ],
             [
              0.4444444444444444,
              "#bd3786"
             ],
             [
              0.5555555555555556,
              "#d8576b"
             ],
             [
              0.6666666666666666,
              "#ed7953"
             ],
             [
              0.7777777777777778,
              "#fb9f3a"
             ],
             [
              0.8888888888888888,
              "#fdca26"
             ],
             [
              1,
              "#f0f921"
             ]
            ],
            "type": "contour"
           }
          ],
          "contourcarpet": [
           {
            "colorbar": {
             "outlinewidth": 0,
             "ticks": ""
            },
            "type": "contourcarpet"
           }
          ],
          "heatmap": [
           {
            "colorbar": {
             "outlinewidth": 0,
             "ticks": ""
            },
            "colorscale": [
             [
              0,
              "#0d0887"
             ],
             [
              0.1111111111111111,
              "#46039f"
             ],
             [
              0.2222222222222222,
              "#7201a8"
             ],
             [
              0.3333333333333333,
              "#9c179e"
             ],
             [
              0.4444444444444444,
              "#bd3786"
             ],
             [
              0.5555555555555556,
              "#d8576b"
             ],
             [
              0.6666666666666666,
              "#ed7953"
             ],
             [
              0.7777777777777778,
              "#fb9f3a"
             ],
             [
              0.8888888888888888,
              "#fdca26"
             ],
             [
              1,
              "#f0f921"
             ]
            ],
            "type": "heatmap"
           }
          ],
          "heatmapgl": [
           {
            "colorbar": {
             "outlinewidth": 0,
             "ticks": ""
            },
            "colorscale": [
             [
              0,
              "#0d0887"
             ],
             [
              0.1111111111111111,
              "#46039f"
             ],
             [
              0.2222222222222222,
              "#7201a8"
             ],
             [
              0.3333333333333333,
              "#9c179e"
             ],
             [
              0.4444444444444444,
              "#bd3786"
             ],
             [
              0.5555555555555556,
              "#d8576b"
             ],
             [
              0.6666666666666666,
              "#ed7953"
             ],
             [
              0.7777777777777778,
              "#fb9f3a"
             ],
             [
              0.8888888888888888,
              "#fdca26"
             ],
             [
              1,
              "#f0f921"
             ]
            ],
            "type": "heatmapgl"
           }
          ],
          "histogram": [
           {
            "marker": {
             "pattern": {
              "fillmode": "overlay",
              "size": 10,
              "solidity": 0.2
             }
            },
            "type": "histogram"
           }
          ],
          "histogram2d": [
           {
            "colorbar": {
             "outlinewidth": 0,
             "ticks": ""
            },
            "colorscale": [
             [
              0,
              "#0d0887"
             ],
             [
              0.1111111111111111,
              "#46039f"
             ],
             [
              0.2222222222222222,
              "#7201a8"
             ],
             [
              0.3333333333333333,
              "#9c179e"
             ],
             [
              0.4444444444444444,
              "#bd3786"
             ],
             [
              0.5555555555555556,
              "#d8576b"
             ],
             [
              0.6666666666666666,
              "#ed7953"
             ],
             [
              0.7777777777777778,
              "#fb9f3a"
             ],
             [
              0.8888888888888888,
              "#fdca26"
             ],
             [
              1,
              "#f0f921"
             ]
            ],
            "type": "histogram2d"
           }
          ],
          "histogram2dcontour": [
           {
            "colorbar": {
             "outlinewidth": 0,
             "ticks": ""
            },
            "colorscale": [
             [
              0,
              "#0d0887"
             ],
             [
              0.1111111111111111,
              "#46039f"
             ],
             [
              0.2222222222222222,
              "#7201a8"
             ],
             [
              0.3333333333333333,
              "#9c179e"
             ],
             [
              0.4444444444444444,
              "#bd3786"
             ],
             [
              0.5555555555555556,
              "#d8576b"
             ],
             [
              0.6666666666666666,
              "#ed7953"
             ],
             [
              0.7777777777777778,
              "#fb9f3a"
             ],
             [
              0.8888888888888888,
              "#fdca26"
             ],
             [
              1,
              "#f0f921"
             ]
            ],
            "type": "histogram2dcontour"
           }
          ],
          "mesh3d": [
           {
            "colorbar": {
             "outlinewidth": 0,
             "ticks": ""
            },
            "type": "mesh3d"
           }
          ],
          "parcoords": [
           {
            "line": {
             "colorbar": {
              "outlinewidth": 0,
              "ticks": ""
             }
            },
            "type": "parcoords"
           }
          ],
          "pie": [
           {
            "automargin": true,
            "type": "pie"
           }
          ],
          "scatter": [
           {
            "marker": {
             "colorbar": {
              "outlinewidth": 0,
              "ticks": ""
             }
            },
            "type": "scatter"
           }
          ],
          "scatter3d": [
           {
            "line": {
             "colorbar": {
              "outlinewidth": 0,
              "ticks": ""
             }
            },
            "marker": {
             "colorbar": {
              "outlinewidth": 0,
              "ticks": ""
             }
            },
            "type": "scatter3d"
           }
          ],
          "scattercarpet": [
           {
            "marker": {
             "colorbar": {
              "outlinewidth": 0,
              "ticks": ""
             }
            },
            "type": "scattercarpet"
           }
          ],
          "scattergeo": [
           {
            "marker": {
             "colorbar": {
              "outlinewidth": 0,
              "ticks": ""
             }
            },
            "type": "scattergeo"
           }
          ],
          "scattergl": [
           {
            "marker": {
             "colorbar": {
              "outlinewidth": 0,
              "ticks": ""
             }
            },
            "type": "scattergl"
           }
          ],
          "scattermapbox": [
           {
            "marker": {
             "colorbar": {
              "outlinewidth": 0,
              "ticks": ""
             }
            },
            "type": "scattermapbox"
           }
          ],
          "scatterpolar": [
           {
            "marker": {
             "colorbar": {
              "outlinewidth": 0,
              "ticks": ""
             }
            },
            "type": "scatterpolar"
           }
          ],
          "scatterpolargl": [
           {
            "marker": {
             "colorbar": {
              "outlinewidth": 0,
              "ticks": ""
             }
            },
            "type": "scatterpolargl"
           }
          ],
          "scatterternary": [
           {
            "marker": {
             "colorbar": {
              "outlinewidth": 0,
              "ticks": ""
             }
            },
            "type": "scatterternary"
           }
          ],
          "surface": [
           {
            "colorbar": {
             "outlinewidth": 0,
             "ticks": ""
            },
            "colorscale": [
             [
              0,
              "#0d0887"
             ],
             [
              0.1111111111111111,
              "#46039f"
             ],
             [
              0.2222222222222222,
              "#7201a8"
             ],
             [
              0.3333333333333333,
              "#9c179e"
             ],
             [
              0.4444444444444444,
              "#bd3786"
             ],
             [
              0.5555555555555556,
              "#d8576b"
             ],
             [
              0.6666666666666666,
              "#ed7953"
             ],
             [
              0.7777777777777778,
              "#fb9f3a"
             ],
             [
              0.8888888888888888,
              "#fdca26"
             ],
             [
              1,
              "#f0f921"
             ]
            ],
            "type": "surface"
           }
          ],
          "table": [
           {
            "cells": {
             "fill": {
              "color": "#EBF0F8"
             },
             "line": {
              "color": "white"
             }
            },
            "header": {
             "fill": {
              "color": "#C8D4E3"
             },
             "line": {
              "color": "white"
             }
            },
            "type": "table"
           }
          ]
         },
         "layout": {
          "annotationdefaults": {
           "arrowcolor": "#2a3f5f",
           "arrowhead": 0,
           "arrowwidth": 1
          },
          "autotypenumbers": "strict",
          "coloraxis": {
           "colorbar": {
            "outlinewidth": 0,
            "ticks": ""
           }
          },
          "colorscale": {
           "diverging": [
            [
             0,
             "#8e0152"
            ],
            [
             0.1,
             "#c51b7d"
            ],
            [
             0.2,
             "#de77ae"
            ],
            [
             0.3,
             "#f1b6da"
            ],
            [
             0.4,
             "#fde0ef"
            ],
            [
             0.5,
             "#f7f7f7"
            ],
            [
             0.6,
             "#e6f5d0"
            ],
            [
             0.7,
             "#b8e186"
            ],
            [
             0.8,
             "#7fbc41"
            ],
            [
             0.9,
             "#4d9221"
            ],
            [
             1,
             "#276419"
            ]
           ],
           "sequential": [
            [
             0,
             "#0d0887"
            ],
            [
             0.1111111111111111,
             "#46039f"
            ],
            [
             0.2222222222222222,
             "#7201a8"
            ],
            [
             0.3333333333333333,
             "#9c179e"
            ],
            [
             0.4444444444444444,
             "#bd3786"
            ],
            [
             0.5555555555555556,
             "#d8576b"
            ],
            [
             0.6666666666666666,
             "#ed7953"
            ],
            [
             0.7777777777777778,
             "#fb9f3a"
            ],
            [
             0.8888888888888888,
             "#fdca26"
            ],
            [
             1,
             "#f0f921"
            ]
           ],
           "sequentialminus": [
            [
             0,
             "#0d0887"
            ],
            [
             0.1111111111111111,
             "#46039f"
            ],
            [
             0.2222222222222222,
             "#7201a8"
            ],
            [
             0.3333333333333333,
             "#9c179e"
            ],
            [
             0.4444444444444444,
             "#bd3786"
            ],
            [
             0.5555555555555556,
             "#d8576b"
            ],
            [
             0.6666666666666666,
             "#ed7953"
            ],
            [
             0.7777777777777778,
             "#fb9f3a"
            ],
            [
             0.8888888888888888,
             "#fdca26"
            ],
            [
             1,
             "#f0f921"
            ]
           ]
          },
          "colorway": [
           "#636efa",
           "#EF553B",
           "#00cc96",
           "#ab63fa",
           "#FFA15A",
           "#19d3f3",
           "#FF6692",
           "#B6E880",
           "#FF97FF",
           "#FECB52"
          ],
          "font": {
           "color": "#2a3f5f"
          },
          "geo": {
           "bgcolor": "white",
           "lakecolor": "white",
           "landcolor": "#E5ECF6",
           "showlakes": true,
           "showland": true,
           "subunitcolor": "white"
          },
          "hoverlabel": {
           "align": "left"
          },
          "hovermode": "closest",
          "mapbox": {
           "style": "light"
          },
          "paper_bgcolor": "white",
          "plot_bgcolor": "#E5ECF6",
          "polar": {
           "angularaxis": {
            "gridcolor": "white",
            "linecolor": "white",
            "ticks": ""
           },
           "bgcolor": "#E5ECF6",
           "radialaxis": {
            "gridcolor": "white",
            "linecolor": "white",
            "ticks": ""
           }
          },
          "scene": {
           "xaxis": {
            "backgroundcolor": "#E5ECF6",
            "gridcolor": "white",
            "gridwidth": 2,
            "linecolor": "white",
            "showbackground": true,
            "ticks": "",
            "zerolinecolor": "white"
           },
           "yaxis": {
            "backgroundcolor": "#E5ECF6",
            "gridcolor": "white",
            "gridwidth": 2,
            "linecolor": "white",
            "showbackground": true,
            "ticks": "",
            "zerolinecolor": "white"
           },
           "zaxis": {
            "backgroundcolor": "#E5ECF6",
            "gridcolor": "white",
            "gridwidth": 2,
            "linecolor": "white",
            "showbackground": true,
            "ticks": "",
            "zerolinecolor": "white"
           }
          },
          "shapedefaults": {
           "line": {
            "color": "#2a3f5f"
           }
          },
          "ternary": {
           "aaxis": {
            "gridcolor": "white",
            "linecolor": "white",
            "ticks": ""
           },
           "baxis": {
            "gridcolor": "white",
            "linecolor": "white",
            "ticks": ""
           },
           "bgcolor": "#E5ECF6",
           "caxis": {
            "gridcolor": "white",
            "linecolor": "white",
            "ticks": ""
           }
          },
          "title": {
           "x": 0.05
          },
          "xaxis": {
           "automargin": true,
           "gridcolor": "white",
           "linecolor": "white",
           "ticks": "",
           "title": {
            "standoff": 15
           },
           "zerolinecolor": "white",
           "zerolinewidth": 2
          },
          "yaxis": {
           "automargin": true,
           "gridcolor": "white",
           "linecolor": "white",
           "ticks": "",
           "title": {
            "standoff": 15
           },
           "zerolinecolor": "white",
           "zerolinewidth": 2
          }
         }
        },
        "title": {
         "font": {
          "color": "#1b2442",
          "size": 1
         },
         "text": "Stock mentions in July"
        },
        "xaxis": {
         "anchor": "y",
         "domain": [
          0,
          1
         ],
         "gridcolor": "rgb(44, 53, 72)",
         "tickmode": "array",
         "tickvals": [
          "2021-07-07",
          "2021-07-14",
          "2021-07-21",
          "2021-07-28"
         ],
         "title": {
          "text": ""
         },
         "zerolinecolor": "#e1e1e1"
        },
        "yaxis": {
         "anchor": "x",
         "domain": [
          0,
          1
         ],
         "gridcolor": "rgb(44, 53, 72)",
         "title": {
          "text": "Mentions"
         },
         "zerolinecolor": "#e1e1e1"
        }
       }
      },
      "text/html": [
       "<div>                            <div id=\"6115af36-df1a-4f8e-ae5b-1899b925463b\" class=\"plotly-graph-div\" style=\"height:525px; width:100%;\"></div>            <script type=\"text/javascript\">                require([\"plotly\"], function(Plotly) {                    window.PLOTLYENV=window.PLOTLYENV || {};                                    if (document.getElementById(\"6115af36-df1a-4f8e-ae5b-1899b925463b\")) {                    Plotly.newPlot(                        \"6115af36-df1a-4f8e-ae5b-1899b925463b\",                        [{\"hovertemplate\":\"Symbol=AMC<br>Day=%{x}<br>Mentions=%{y}<extra></extra>\",\"legendgroup\":\"AMC\",\"line\":{\"color\":\"#636efa\",\"dash\":\"solid\"},\"mode\":\"lines\",\"name\":\"AMC\",\"orientation\":\"v\",\"showlegend\":true,\"type\":\"scatter\",\"x\":[\"2021-07-01T00:00:00+00:00\",\"2021-07-02T00:00:00+00:00\",\"2021-07-03T00:00:00+00:00\",\"2021-07-04T00:00:00+00:00\",\"2021-07-05T00:00:00+00:00\",\"2021-07-06T00:00:00+00:00\",\"2021-07-07T00:00:00+00:00\",\"2021-07-08T00:00:00+00:00\",\"2021-07-09T00:00:00+00:00\",\"2021-07-10T00:00:00+00:00\",\"2021-07-11T00:00:00+00:00\",\"2021-07-12T00:00:00+00:00\",\"2021-07-13T00:00:00+00:00\",\"2021-07-14T00:00:00+00:00\",\"2021-07-15T00:00:00+00:00\",\"2021-07-16T00:00:00+00:00\",\"2021-07-17T00:00:00+00:00\",\"2021-07-18T00:00:00+00:00\",\"2021-07-19T00:00:00+00:00\",\"2021-07-20T00:00:00+00:00\",\"2021-07-21T00:00:00+00:00\",\"2021-07-22T00:00:00+00:00\",\"2021-07-23T00:00:00+00:00\",\"2021-07-24T00:00:00+00:00\",\"2021-07-25T00:00:00+00:00\",\"2021-07-26T00:00:00+00:00\"],\"xaxis\":\"x\",\"y\":[587,613,170,289,281,567,729,729,287,124,142,397,567,841,869,391,151,169,372,516,496,337,240,129,113,97],\"yaxis\":\"y\"},{\"hovertemplate\":\"Symbol=CLOV<br>Day=%{x}<br>Mentions=%{y}<extra></extra>\",\"legendgroup\":\"CLOV\",\"line\":{\"color\":\"#EF553B\",\"dash\":\"solid\"},\"mode\":\"lines\",\"name\":\"CLOV\",\"orientation\":\"v\",\"showlegend\":true,\"type\":\"scatter\",\"x\":[\"2021-07-01T00:00:00+00:00\",\"2021-07-02T00:00:00+00:00\",\"2021-07-03T00:00:00+00:00\",\"2021-07-04T00:00:00+00:00\",\"2021-07-05T00:00:00+00:00\",\"2021-07-06T00:00:00+00:00\",\"2021-07-07T00:00:00+00:00\",\"2021-07-08T00:00:00+00:00\",\"2021-07-09T00:00:00+00:00\",\"2021-07-10T00:00:00+00:00\",\"2021-07-11T00:00:00+00:00\",\"2021-07-12T00:00:00+00:00\",\"2021-07-13T00:00:00+00:00\",\"2021-07-14T00:00:00+00:00\",\"2021-07-15T00:00:00+00:00\",\"2021-07-16T00:00:00+00:00\",\"2021-07-17T00:00:00+00:00\",\"2021-07-18T00:00:00+00:00\",\"2021-07-19T00:00:00+00:00\",\"2021-07-20T00:00:00+00:00\",\"2021-07-21T00:00:00+00:00\",\"2021-07-22T00:00:00+00:00\",\"2021-07-23T00:00:00+00:00\",\"2021-07-24T00:00:00+00:00\",\"2021-07-25T00:00:00+00:00\",\"2021-07-26T00:00:00+00:00\"],\"xaxis\":\"x\",\"y\":[669,533,109,113,199,829,722,420,293,92,111,706,590,388,266,207,71,82,216,246,712,716,318,64,76,76],\"yaxis\":\"y\"},{\"hovertemplate\":\"Symbol=GME<br>Day=%{x}<br>Mentions=%{y}<extra></extra>\",\"legendgroup\":\"GME\",\"line\":{\"color\":\"#00cc96\",\"dash\":\"solid\"},\"mode\":\"lines\",\"name\":\"GME\",\"orientation\":\"v\",\"showlegend\":true,\"type\":\"scatter\",\"x\":[\"2021-07-01T00:00:00+00:00\",\"2021-07-02T00:00:00+00:00\",\"2021-07-03T00:00:00+00:00\",\"2021-07-04T00:00:00+00:00\",\"2021-07-05T00:00:00+00:00\",\"2021-07-06T00:00:00+00:00\",\"2021-07-07T00:00:00+00:00\",\"2021-07-08T00:00:00+00:00\",\"2021-07-09T00:00:00+00:00\",\"2021-07-10T00:00:00+00:00\",\"2021-07-11T00:00:00+00:00\",\"2021-07-12T00:00:00+00:00\",\"2021-07-13T00:00:00+00:00\",\"2021-07-14T00:00:00+00:00\",\"2021-07-15T00:00:00+00:00\",\"2021-07-16T00:00:00+00:00\",\"2021-07-17T00:00:00+00:00\",\"2021-07-18T00:00:00+00:00\",\"2021-07-19T00:00:00+00:00\",\"2021-07-20T00:00:00+00:00\",\"2021-07-21T00:00:00+00:00\",\"2021-07-22T00:00:00+00:00\",\"2021-07-23T00:00:00+00:00\",\"2021-07-24T00:00:00+00:00\",\"2021-07-25T00:00:00+00:00\",\"2021-07-26T00:00:00+00:00\"],\"xaxis\":\"x\",\"y\":[586,426,202,416,383,763,805,497,272,136,102,423,359,661,735,354,154,226,386,369,294,236,187,122,115,94],\"yaxis\":\"y\"},{\"hovertemplate\":\"Symbol=SPCE<br>Day=%{x}<br>Mentions=%{y}<extra></extra>\",\"legendgroup\":\"SPCE\",\"line\":{\"color\":\"#ab63fa\",\"dash\":\"solid\"},\"mode\":\"lines\",\"name\":\"SPCE\",\"orientation\":\"v\",\"showlegend\":true,\"type\":\"scatter\",\"x\":[\"2021-07-01T00:00:00+00:00\",\"2021-07-02T00:00:00+00:00\",\"2021-07-03T00:00:00+00:00\",\"2021-07-04T00:00:00+00:00\",\"2021-07-05T00:00:00+00:00\",\"2021-07-06T00:00:00+00:00\",\"2021-07-07T00:00:00+00:00\",\"2021-07-08T00:00:00+00:00\",\"2021-07-09T00:00:00+00:00\",\"2021-07-10T00:00:00+00:00\",\"2021-07-11T00:00:00+00:00\",\"2021-07-12T00:00:00+00:00\",\"2021-07-13T00:00:00+00:00\",\"2021-07-14T00:00:00+00:00\",\"2021-07-15T00:00:00+00:00\",\"2021-07-16T00:00:00+00:00\",\"2021-07-17T00:00:00+00:00\",\"2021-07-18T00:00:00+00:00\",\"2021-07-19T00:00:00+00:00\",\"2021-07-20T00:00:00+00:00\",\"2021-07-21T00:00:00+00:00\",\"2021-07-22T00:00:00+00:00\",\"2021-07-23T00:00:00+00:00\",\"2021-07-24T00:00:00+00:00\",\"2021-07-25T00:00:00+00:00\",\"2021-07-26T00:00:00+00:00\"],\"xaxis\":\"x\",\"y\":[383,854,50,73,81,231,185,842,592,148,828,1418,375,330,197,166,59,29,177,118,56,40,38,8,5,6],\"yaxis\":\"y\"},{\"hovertemplate\":\"Symbol=WISH<br>Day=%{x}<br>Mentions=%{y}<extra></extra>\",\"legendgroup\":\"WISH\",\"line\":{\"color\":\"#FFA15A\",\"dash\":\"solid\"},\"mode\":\"lines\",\"name\":\"WISH\",\"orientation\":\"v\",\"showlegend\":true,\"type\":\"scatter\",\"x\":[\"2021-07-01T00:00:00+00:00\",\"2021-07-02T00:00:00+00:00\",\"2021-07-03T00:00:00+00:00\",\"2021-07-04T00:00:00+00:00\",\"2021-07-05T00:00:00+00:00\",\"2021-07-06T00:00:00+00:00\",\"2021-07-07T00:00:00+00:00\",\"2021-07-08T00:00:00+00:00\",\"2021-07-09T00:00:00+00:00\",\"2021-07-10T00:00:00+00:00\",\"2021-07-11T00:00:00+00:00\",\"2021-07-12T00:00:00+00:00\",\"2021-07-13T00:00:00+00:00\",\"2021-07-14T00:00:00+00:00\",\"2021-07-15T00:00:00+00:00\",\"2021-07-16T00:00:00+00:00\",\"2021-07-17T00:00:00+00:00\",\"2021-07-18T00:00:00+00:00\",\"2021-07-19T00:00:00+00:00\",\"2021-07-20T00:00:00+00:00\",\"2021-07-21T00:00:00+00:00\",\"2021-07-22T00:00:00+00:00\",\"2021-07-23T00:00:00+00:00\",\"2021-07-24T00:00:00+00:00\",\"2021-07-25T00:00:00+00:00\",\"2021-07-26T00:00:00+00:00\"],\"xaxis\":\"x\",\"y\":[657,462,73,55,118,342,307,365,203,38,66,208,200,291,253,234,69,36,162,158,141,121,148,28,39,45],\"yaxis\":\"y\"}],                        {\"annotations\":[{\"align\":\"right\",\"height\":40,\"showarrow\":false,\"text\":\"<a style=\\\"color: rgb(100, 130, 180);\\\" href=\\\"https://beneath.dev/\\\">beneath.dev</a>\",\"x\":1.0,\"xanchor\":\"right\",\"xref\":\"paper\",\"y\":1.0,\"yanchor\":\"bottom\",\"yref\":\"paper\",\"yshift\":13},{\"align\":\"left\",\"font\":{\"size\":12},\"height\":16,\"showarrow\":false,\"text\":\"Number of mentions in posts and comments\",\"x\":0.0,\"xanchor\":\"left\",\"xref\":\"paper\",\"y\":1.0,\"yanchor\":\"bottom\",\"yref\":\"paper\",\"yshift\":13},{\"align\":\"left\",\"font\":{\"size\":18},\"height\":24,\"showarrow\":false,\"text\":\"<b>Stock mentions in July</b>\",\"x\":0.0,\"xanchor\":\"left\",\"xref\":\"paper\",\"y\":1.0,\"yanchor\":\"bottom\",\"yref\":\"paper\",\"yshift\":29}],\"colorway\":[\"rgb(60, 170, 255)\",\"rgb(255, 60, 130)\",\"rgb(100, 200, 100)\",\"rgb(200, 220, 240)\",\"rgb(251, 241, 67)\",\"rgb(203, 60, 255)\",\"rgb(249, 148, 66)\",\"rgb(36, 130, 36)\",\"rgb(238, 255, 234)\"],\"dragmode\":\"select\",\"font\":{\"color\":\"#e1e1e1\",\"family\":\"SFMono-Regular,Menlo,Monaco,Consolas,Liberation Mono,Courier,monospace\"},\"legend\":{\"orientation\":\"h\",\"title\":{\"text\":\"Symbol\"},\"tracegroupgap\":0,\"x\":0,\"y\":-0.1,\"yanchor\":\"top\"},\"margin\":{\"autoexpand\":true,\"b\":30,\"l\":35,\"r\":20,\"t\":68},\"paper_bgcolor\":\"#1b2442\",\"plot_bgcolor\":\"#1b2442\",\"template\":{\"data\":{\"bar\":[{\"error_x\":{\"color\":\"#2a3f5f\"},\"error_y\":{\"color\":\"#2a3f5f\"},\"marker\":{\"line\":{\"color\":\"#E5ECF6\",\"width\":0.5},\"pattern\":{\"fillmode\":\"overlay\",\"size\":10,\"solidity\":0.2}},\"type\":\"bar\"}],\"barpolar\":[{\"marker\":{\"line\":{\"color\":\"#E5ECF6\",\"width\":0.5},\"pattern\":{\"fillmode\":\"overlay\",\"size\":10,\"solidity\":0.2}},\"type\":\"barpolar\"}],\"carpet\":[{\"aaxis\":{\"endlinecolor\":\"#2a3f5f\",\"gridcolor\":\"white\",\"linecolor\":\"white\",\"minorgridcolor\":\"white\",\"startlinecolor\":\"#2a3f5f\"},\"baxis\":{\"endlinecolor\":\"#2a3f5f\",\"gridcolor\":\"white\",\"linecolor\":\"white\",\"minorgridcolor\":\"white\",\"startlinecolor\":\"#2a3f5f\"},\"type\":\"carpet\"}],\"choropleth\":[{\"colorbar\":{\"outlinewidth\":0,\"ticks\":\"\"},\"type\":\"choropleth\"}],\"contour\":[{\"colorbar\":{\"outlinewidth\":0,\"ticks\":\"\"},\"colorscale\":[[0.0,\"#0d0887\"],[0.1111111111111111,\"#46039f\"],[0.2222222222222222,\"#7201a8\"],[0.3333333333333333,\"#9c179e\"],[0.4444444444444444,\"#bd3786\"],[0.5555555555555556,\"#d8576b\"],[0.6666666666666666,\"#ed7953\"],[0.7777777777777778,\"#fb9f3a\"],[0.8888888888888888,\"#fdca26\"],[1.0,\"#f0f921\"]],\"type\":\"contour\"}],\"contourcarpet\":[{\"colorbar\":{\"outlinewidth\":0,\"ticks\":\"\"},\"type\":\"contourcarpet\"}],\"heatmap\":[{\"colorbar\":{\"outlinewidth\":0,\"ticks\":\"\"},\"colorscale\":[[0.0,\"#0d0887\"],[0.1111111111111111,\"#46039f\"],[0.2222222222222222,\"#7201a8\"],[0.3333333333333333,\"#9c179e\"],[0.4444444444444444,\"#bd3786\"],[0.5555555555555556,\"#d8576b\"],[0.6666666666666666,\"#ed7953\"],[0.7777777777777778,\"#fb9f3a\"],[0.8888888888888888,\"#fdca26\"],[1.0,\"#f0f921\"]],\"type\":\"heatmap\"}],\"heatmapgl\":[{\"colorbar\":{\"outlinewidth\":0,\"ticks\":\"\"},\"colorscale\":[[0.0,\"#0d0887\"],[0.1111111111111111,\"#46039f\"],[0.2222222222222222,\"#7201a8\"],[0.3333333333333333,\"#9c179e\"],[0.4444444444444444,\"#bd3786\"],[0.5555555555555556,\"#d8576b\"],[0.6666666666666666,\"#ed7953\"],[0.7777777777777778,\"#fb9f3a\"],[0.8888888888888888,\"#fdca26\"],[1.0,\"#f0f921\"]],\"type\":\"heatmapgl\"}],\"histogram\":[{\"marker\":{\"pattern\":{\"fillmode\":\"overlay\",\"size\":10,\"solidity\":0.2}},\"type\":\"histogram\"}],\"histogram2d\":[{\"colorbar\":{\"outlinewidth\":0,\"ticks\":\"\"},\"colorscale\":[[0.0,\"#0d0887\"],[0.1111111111111111,\"#46039f\"],[0.2222222222222222,\"#7201a8\"],[0.3333333333333333,\"#9c179e\"],[0.4444444444444444,\"#bd3786\"],[0.5555555555555556,\"#d8576b\"],[0.6666666666666666,\"#ed7953\"],[0.7777777777777778,\"#fb9f3a\"],[0.8888888888888888,\"#fdca26\"],[1.0,\"#f0f921\"]],\"type\":\"histogram2d\"}],\"histogram2dcontour\":[{\"colorbar\":{\"outlinewidth\":0,\"ticks\":\"\"},\"colorscale\":[[0.0,\"#0d0887\"],[0.1111111111111111,\"#46039f\"],[0.2222222222222222,\"#7201a8\"],[0.3333333333333333,\"#9c179e\"],[0.4444444444444444,\"#bd3786\"],[0.5555555555555556,\"#d8576b\"],[0.6666666666666666,\"#ed7953\"],[0.7777777777777778,\"#fb9f3a\"],[0.8888888888888888,\"#fdca26\"],[1.0,\"#f0f921\"]],\"type\":\"histogram2dcontour\"}],\"mesh3d\":[{\"colorbar\":{\"outlinewidth\":0,\"ticks\":\"\"},\"type\":\"mesh3d\"}],\"parcoords\":[{\"line\":{\"colorbar\":{\"outlinewidth\":0,\"ticks\":\"\"}},\"type\":\"parcoords\"}],\"pie\":[{\"automargin\":true,\"type\":\"pie\"}],\"scatter\":[{\"marker\":{\"colorbar\":{\"outlinewidth\":0,\"ticks\":\"\"}},\"type\":\"scatter\"}],\"scatter3d\":[{\"line\":{\"colorbar\":{\"outlinewidth\":0,\"ticks\":\"\"}},\"marker\":{\"colorbar\":{\"outlinewidth\":0,\"ticks\":\"\"}},\"type\":\"scatter3d\"}],\"scattercarpet\":[{\"marker\":{\"colorbar\":{\"outlinewidth\":0,\"ticks\":\"\"}},\"type\":\"scattercarpet\"}],\"scattergeo\":[{\"marker\":{\"colorbar\":{\"outlinewidth\":0,\"ticks\":\"\"}},\"type\":\"scattergeo\"}],\"scattergl\":[{\"marker\":{\"colorbar\":{\"outlinewidth\":0,\"ticks\":\"\"}},\"type\":\"scattergl\"}],\"scattermapbox\":[{\"marker\":{\"colorbar\":{\"outlinewidth\":0,\"ticks\":\"\"}},\"type\":\"scattermapbox\"}],\"scatterpolar\":[{\"marker\":{\"colorbar\":{\"outlinewidth\":0,\"ticks\":\"\"}},\"type\":\"scatterpolar\"}],\"scatterpolargl\":[{\"marker\":{\"colorbar\":{\"outlinewidth\":0,\"ticks\":\"\"}},\"type\":\"scatterpolargl\"}],\"scatterternary\":[{\"marker\":{\"colorbar\":{\"outlinewidth\":0,\"ticks\":\"\"}},\"type\":\"scatterternary\"}],\"surface\":[{\"colorbar\":{\"outlinewidth\":0,\"ticks\":\"\"},\"colorscale\":[[0.0,\"#0d0887\"],[0.1111111111111111,\"#46039f\"],[0.2222222222222222,\"#7201a8\"],[0.3333333333333333,\"#9c179e\"],[0.4444444444444444,\"#bd3786\"],[0.5555555555555556,\"#d8576b\"],[0.6666666666666666,\"#ed7953\"],[0.7777777777777778,\"#fb9f3a\"],[0.8888888888888888,\"#fdca26\"],[1.0,\"#f0f921\"]],\"type\":\"surface\"}],\"table\":[{\"cells\":{\"fill\":{\"color\":\"#EBF0F8\"},\"line\":{\"color\":\"white\"}},\"header\":{\"fill\":{\"color\":\"#C8D4E3\"},\"line\":{\"color\":\"white\"}},\"type\":\"table\"}]},\"layout\":{\"annotationdefaults\":{\"arrowcolor\":\"#2a3f5f\",\"arrowhead\":0,\"arrowwidth\":1},\"autotypenumbers\":\"strict\",\"coloraxis\":{\"colorbar\":{\"outlinewidth\":0,\"ticks\":\"\"}},\"colorscale\":{\"diverging\":[[0,\"#8e0152\"],[0.1,\"#c51b7d\"],[0.2,\"#de77ae\"],[0.3,\"#f1b6da\"],[0.4,\"#fde0ef\"],[0.5,\"#f7f7f7\"],[0.6,\"#e6f5d0\"],[0.7,\"#b8e186\"],[0.8,\"#7fbc41\"],[0.9,\"#4d9221\"],[1,\"#276419\"]],\"sequential\":[[0.0,\"#0d0887\"],[0.1111111111111111,\"#46039f\"],[0.2222222222222222,\"#7201a8\"],[0.3333333333333333,\"#9c179e\"],[0.4444444444444444,\"#bd3786\"],[0.5555555555555556,\"#d8576b\"],[0.6666666666666666,\"#ed7953\"],[0.7777777777777778,\"#fb9f3a\"],[0.8888888888888888,\"#fdca26\"],[1.0,\"#f0f921\"]],\"sequentialminus\":[[0.0,\"#0d0887\"],[0.1111111111111111,\"#46039f\"],[0.2222222222222222,\"#7201a8\"],[0.3333333333333333,\"#9c179e\"],[0.4444444444444444,\"#bd3786\"],[0.5555555555555556,\"#d8576b\"],[0.6666666666666666,\"#ed7953\"],[0.7777777777777778,\"#fb9f3a\"],[0.8888888888888888,\"#fdca26\"],[1.0,\"#f0f921\"]]},\"colorway\":[\"#636efa\",\"#EF553B\",\"#00cc96\",\"#ab63fa\",\"#FFA15A\",\"#19d3f3\",\"#FF6692\",\"#B6E880\",\"#FF97FF\",\"#FECB52\"],\"font\":{\"color\":\"#2a3f5f\"},\"geo\":{\"bgcolor\":\"white\",\"lakecolor\":\"white\",\"landcolor\":\"#E5ECF6\",\"showlakes\":true,\"showland\":true,\"subunitcolor\":\"white\"},\"hoverlabel\":{\"align\":\"left\"},\"hovermode\":\"closest\",\"mapbox\":{\"style\":\"light\"},\"paper_bgcolor\":\"white\",\"plot_bgcolor\":\"#E5ECF6\",\"polar\":{\"angularaxis\":{\"gridcolor\":\"white\",\"linecolor\":\"white\",\"ticks\":\"\"},\"bgcolor\":\"#E5ECF6\",\"radialaxis\":{\"gridcolor\":\"white\",\"linecolor\":\"white\",\"ticks\":\"\"}},\"scene\":{\"xaxis\":{\"backgroundcolor\":\"#E5ECF6\",\"gridcolor\":\"white\",\"gridwidth\":2,\"linecolor\":\"white\",\"showbackground\":true,\"ticks\":\"\",\"zerolinecolor\":\"white\"},\"yaxis\":{\"backgroundcolor\":\"#E5ECF6\",\"gridcolor\":\"white\",\"gridwidth\":2,\"linecolor\":\"white\",\"showbackground\":true,\"ticks\":\"\",\"zerolinecolor\":\"white\"},\"zaxis\":{\"backgroundcolor\":\"#E5ECF6\",\"gridcolor\":\"white\",\"gridwidth\":2,\"linecolor\":\"white\",\"showbackground\":true,\"ticks\":\"\",\"zerolinecolor\":\"white\"}},\"shapedefaults\":{\"line\":{\"color\":\"#2a3f5f\"}},\"ternary\":{\"aaxis\":{\"gridcolor\":\"white\",\"linecolor\":\"white\",\"ticks\":\"\"},\"baxis\":{\"gridcolor\":\"white\",\"linecolor\":\"white\",\"ticks\":\"\"},\"bgcolor\":\"#E5ECF6\",\"caxis\":{\"gridcolor\":\"white\",\"linecolor\":\"white\",\"ticks\":\"\"}},\"title\":{\"x\":0.05},\"xaxis\":{\"automargin\":true,\"gridcolor\":\"white\",\"linecolor\":\"white\",\"ticks\":\"\",\"title\":{\"standoff\":15},\"zerolinecolor\":\"white\",\"zerolinewidth\":2},\"yaxis\":{\"automargin\":true,\"gridcolor\":\"white\",\"linecolor\":\"white\",\"ticks\":\"\",\"title\":{\"standoff\":15},\"zerolinecolor\":\"white\",\"zerolinewidth\":2}}},\"title\":{\"font\":{\"color\":\"#1b2442\",\"size\":1},\"text\":\"Stock mentions in July\"},\"xaxis\":{\"anchor\":\"y\",\"domain\":[0.0,1.0],\"gridcolor\":\"rgb(44, 53, 72)\",\"tickmode\":\"array\",\"tickvals\":[\"2021-07-07\",\"2021-07-14\",\"2021-07-21\",\"2021-07-28\"],\"title\":{\"text\":\"\"},\"zerolinecolor\":\"#e1e1e1\"},\"yaxis\":{\"anchor\":\"x\",\"domain\":[0.0,1.0],\"gridcolor\":\"rgb(44, 53, 72)\",\"title\":{\"text\":\"Mentions\"},\"zerolinecolor\":\"#e1e1e1\"}},                        {\"responsive\": true}                    ).then(function(){\n",
       "                            \n",
       "var gd = document.getElementById('6115af36-df1a-4f8e-ae5b-1899b925463b');\n",
       "var x = new MutationObserver(function (mutations, observer) {{\n",
       "        var display = window.getComputedStyle(gd).display;\n",
       "        if (!display || display === 'none') {{\n",
       "            console.log([gd, 'removed!']);\n",
       "            Plotly.purge(gd);\n",
       "            observer.disconnect();\n",
       "        }}\n",
       "}});\n",
       "\n",
       "// Listen for the removal of the full notebook cells\n",
       "var notebookContainer = gd.closest('#notebook-container');\n",
       "if (notebookContainer) {{\n",
       "    x.observe(notebookContainer, {childList: true});\n",
       "}}\n",
       "\n",
       "// Listen for the clearing of the current output cell\n",
       "var outputEl = gd.closest('.output');\n",
       "if (outputEl) {{\n",
       "    x.observe(outputEl, {childList: true});\n",
       "}}\n",
       "\n",
       "                        })                };                });            </script>        </div>"
      ]
     },
     "metadata": {},
     "output_type": "display_data"
    }
   ],
   "source": [
    "fig = px.line(mentions.loc[(mentions['symbol'].isin(top_symbols_month[:5])) & (mentions['day'].dt.month == 7)], \n",
    "              x=\"day\",\n",
    "              y=\"num_mentions\",\n",
    "              line_group=\"symbol\",\n",
    "              color=\"symbol\",\n",
    "              labels={'num_mentions': 'Mentions', 'day': 'Day', 'symbol': 'Symbol'},\n",
    "             )\n",
    "fig.update_layout(\n",
    "    make_layout(\n",
    "        title=\"Stock mentions in July\",\n",
    "        subtitle=\"Number of mentions in posts and comments\",\n",
    "        source_hidden=False,\n",
    "        legend=True,\n",
    "        override={\n",
    "#             'showlegend': True,\n",
    "            'xaxis': {\n",
    "                'tickmode': 'array',\n",
    "                'tickvals': [\"2021-07-07\", \"2021-07-14\", \"2021-07-21\", \"2021-07-28\"],\n",
    "                'title': ''\n",
    "            }\n",
    "        },\n",
    "    )\n",
    ")\n",
    "fig.show()"
   ]
  },
  {
   "cell_type": "markdown",
   "id": "00b4880a",
   "metadata": {},
   "source": [
    "Get the fraction of all mentions in the day"
   ]
  },
  {
   "cell_type": "code",
   "execution_count": 79,
   "id": "7cfc28a8",
   "metadata": {},
   "outputs": [],
   "source": [
    "total_daily_mentions = mentions.groupby('day')['num_mentions'].sum().reset_index()\n",
    "tmp = mentions \\\n",
    "    .merge(total_daily_mentions, on=\"day\", suffixes=('_stock', '_total')) \\\n",
    "    .sort_values(['symbol','day'])\n",
    "tmp['fraction_of_mentions'] = tmp['num_mentions_stock'] / tmp['num_mentions_total']\n",
    "tmp['fraction_of_mentions_MA'] = tmp.groupby('symbol')['fraction_of_mentions'] \\\n",
    "                                    .transform(lambda x: x.rolling(window=7, min_periods=1).mean())"
   ]
  },
  {
   "cell_type": "code",
   "execution_count": 91,
   "id": "9b802635",
   "metadata": {},
   "outputs": [
    {
     "data": {
      "application/vnd.plotly.v1+json": {
       "config": {
        "plotlyServerURL": "https://plot.ly"
       },
       "data": [
        {
         "hovertemplate": "Symbol=GME<br>Day=%{x}<br>Fraction of mentions=%{y}<extra></extra>",
         "legendgroup": "GME",
         "line": {
          "color": "#636efa",
          "dash": "solid"
         },
         "mode": "lines",
         "name": "GME",
         "orientation": "v",
         "showlegend": true,
         "type": "scatter",
         "x": [
          "2021-07-26T00:00:00+00:00",
          "2021-07-25T00:00:00+00:00",
          "2021-07-24T00:00:00+00:00",
          "2021-07-23T00:00:00+00:00",
          "2021-07-22T00:00:00+00:00",
          "2021-07-21T00:00:00+00:00",
          "2021-07-20T00:00:00+00:00",
          "2021-07-19T00:00:00+00:00",
          "2021-07-18T00:00:00+00:00",
          "2021-07-17T00:00:00+00:00",
          "2021-07-16T00:00:00+00:00",
          "2021-07-15T00:00:00+00:00",
          "2021-07-14T00:00:00+00:00",
          "2021-07-13T00:00:00+00:00",
          "2021-07-12T00:00:00+00:00",
          "2021-07-11T00:00:00+00:00",
          "2021-07-10T00:00:00+00:00",
          "2021-07-09T00:00:00+00:00",
          "2021-07-08T00:00:00+00:00",
          "2021-07-07T00:00:00+00:00",
          "2021-07-06T00:00:00+00:00",
          "2021-07-05T00:00:00+00:00",
          "2021-07-04T00:00:00+00:00",
          "2021-07-03T00:00:00+00:00",
          "2021-07-02T00:00:00+00:00",
          "2021-07-01T00:00:00+00:00",
          "2021-06-30T00:00:00+00:00",
          "2021-06-29T00:00:00+00:00",
          "2021-06-28T00:00:00+00:00",
          "2021-06-27T00:00:00+00:00",
          "2021-06-26T00:00:00+00:00",
          "2021-06-25T00:00:00+00:00",
          "2021-06-24T00:00:00+00:00",
          "2021-06-23T00:00:00+00:00",
          "2021-06-22T00:00:00+00:00",
          "2021-06-21T00:00:00+00:00",
          "2021-06-20T00:00:00+00:00",
          "2021-06-19T00:00:00+00:00",
          "2021-06-18T00:00:00+00:00",
          "2021-06-17T00:00:00+00:00",
          "2021-06-16T00:00:00+00:00",
          "2021-06-15T00:00:00+00:00",
          "2021-06-14T00:00:00+00:00",
          "2021-06-13T00:00:00+00:00",
          "2021-06-12T00:00:00+00:00",
          "2021-06-11T00:00:00+00:00",
          "2021-06-10T00:00:00+00:00",
          "2021-06-09T00:00:00+00:00",
          "2021-06-08T00:00:00+00:00",
          "2021-06-07T00:00:00+00:00",
          "2021-06-06T00:00:00+00:00",
          "2021-06-05T00:00:00+00:00",
          "2021-06-04T00:00:00+00:00",
          "2021-06-03T00:00:00+00:00",
          "2021-06-02T00:00:00+00:00",
          "2021-06-01T00:00:00+00:00",
          "2021-05-31T00:00:00+00:00",
          "2021-05-30T00:00:00+00:00",
          "2021-05-29T00:00:00+00:00",
          "2021-05-28T00:00:00+00:00",
          "2021-05-27T00:00:00+00:00",
          "2021-05-26T00:00:00+00:00",
          "2021-05-25T00:00:00+00:00",
          "2021-05-24T00:00:00+00:00",
          "2021-05-23T00:00:00+00:00",
          "2021-05-22T00:00:00+00:00",
          "2021-05-21T00:00:00+00:00",
          "2021-05-20T00:00:00+00:00",
          "2021-05-19T00:00:00+00:00",
          "2021-05-18T00:00:00+00:00",
          "2021-05-17T00:00:00+00:00",
          "2021-05-16T00:00:00+00:00",
          "2021-05-15T00:00:00+00:00",
          "2021-05-14T00:00:00+00:00",
          "2021-05-13T00:00:00+00:00",
          "2021-05-12T00:00:00+00:00",
          "2021-05-11T00:00:00+00:00",
          "2021-05-10T00:00:00+00:00",
          "2021-05-09T00:00:00+00:00",
          "2021-05-08T00:00:00+00:00",
          "2021-05-07T00:00:00+00:00",
          "2021-05-06T00:00:00+00:00",
          "2021-05-05T00:00:00+00:00",
          "2021-05-04T00:00:00+00:00",
          "2021-05-03T00:00:00+00:00",
          "2021-05-02T00:00:00+00:00",
          "2021-05-01T00:00:00+00:00",
          "2021-04-30T00:00:00+00:00",
          "2021-04-29T00:00:00+00:00",
          "2021-04-28T00:00:00+00:00",
          "2021-04-27T00:00:00+00:00",
          "2021-04-26T00:00:00+00:00",
          "2021-04-25T00:00:00+00:00",
          "2021-04-24T00:00:00+00:00",
          "2021-04-23T00:00:00+00:00",
          "2021-04-22T00:00:00+00:00",
          "2021-04-21T00:00:00+00:00",
          "2021-04-20T00:00:00+00:00",
          "2021-04-19T00:00:00+00:00",
          "2021-04-18T00:00:00+00:00",
          "2021-04-17T00:00:00+00:00",
          "2021-04-16T00:00:00+00:00",
          "2021-04-15T00:00:00+00:00",
          "2021-04-14T00:00:00+00:00",
          "2021-04-13T00:00:00+00:00",
          "2021-04-12T00:00:00+00:00",
          "2021-04-11T00:00:00+00:00",
          "2021-04-10T00:00:00+00:00",
          "2021-04-09T00:00:00+00:00",
          "2021-04-08T00:00:00+00:00",
          "2021-04-07T00:00:00+00:00",
          "2021-04-06T00:00:00+00:00",
          "2021-04-05T00:00:00+00:00",
          "2021-04-04T00:00:00+00:00",
          "2021-04-03T00:00:00+00:00",
          "2021-04-02T00:00:00+00:00",
          "2021-04-01T00:00:00+00:00",
          "2021-03-31T00:00:00+00:00",
          "2021-03-30T00:00:00+00:00",
          "2021-03-29T00:00:00+00:00",
          "2021-03-26T00:00:00+00:00",
          "2021-03-25T00:00:00+00:00",
          "2021-03-24T00:00:00+00:00",
          "2021-03-23T00:00:00+00:00",
          "2021-03-22T00:00:00+00:00",
          "2021-03-21T00:00:00+00:00",
          "2021-03-20T00:00:00+00:00",
          "2021-03-19T00:00:00+00:00",
          "2021-03-18T00:00:00+00:00",
          "2021-03-17T00:00:00+00:00",
          "2021-03-16T00:00:00+00:00",
          "2021-03-15T00:00:00+00:00",
          "2021-03-14T00:00:00+00:00",
          "2021-03-13T00:00:00+00:00",
          "2021-03-12T00:00:00+00:00",
          "2021-03-11T00:00:00+00:00",
          "2021-03-10T00:00:00+00:00",
          "2021-03-09T00:00:00+00:00"
         ],
         "xaxis": "x",
         "y": [
          0.04349838037945396,
          0.056678166584524396,
          0.060939060939060936,
          0.03423027640490573,
          0.03898249091509746,
          0.04706259004322075,
          0.06677524429967427,
          0.06929982046678636,
          0.1178925404277517,
          0.07504873294346978,
          0.06595863610955842,
          0.10027285129604366,
          0.0822548531607765,
          0.04554103767601167,
          0.05382364168469271,
          0.03903559127439724,
          0.07135362014690451,
          0.04156479217603912,
          0.053805348056728375,
          0.0817507870417386,
          0.09109360076408787,
          0.11641337386018237,
          0.16686722823906938,
          0.1031138335885656,
          0.048124717577948485,
          0.05545041635124905,
          0.04483397943704703,
          0.04393491124260355,
          0.046914803283328615,
          0.13016747933008269,
          0.06303452644916059,
          0.045549270616254835,
          0.0401044310682428,
          0.05382237211916807,
          0.07764851655537963,
          0.05502008032128514,
          0.09958734525447042,
          0.11003811944091486,
          0.05110602593440122,
          0.03983204720835225,
          0.053253777951263036,
          0.0437055905617375,
          0.0331462970532496,
          0.05312954876273653,
          0.0795964125560538,
          0.0582289024344073,
          0.08390205782755926,
          0.08378992382734197,
          0.09681059973365234,
          0.08898967782295902,
          0.12836647369745785,
          0.13073070502118916,
          0.07506884710842145,
          0.07339301881098481,
          0.09698655013903865,
          0.09638038123795245,
          0.09335373852208133,
          0.13290978398983483,
          0.15330812854442344,
          0.11610629988113431,
          0.15516444743142774,
          0.2636785373175058,
          0.267808009782941,
          0.10363189513926815,
          0.12571211545765287,
          0.18317757009345795,
          0.10908201532691994,
          0.07389296386851399,
          0.12170959524483442,
          0.1576468326444295,
          0.14585356379879588,
          0.09447900466562986,
          0.1646039603960396,
          0.11937734836285561,
          0.13035087719298247,
          0.1063529921942758,
          0.09491556037207623,
          0.09565384246378202,
          0.11341896693085543,
          0.1409679234665166,
          0.09422430477742691,
          0.1364842991259307,
          0.10882458662832495,
          0.07918064206995687,
          0.0708488703663084,
          0.14696276943174397,
          0.11980982567353407,
          0.09317730183263413,
          0.08101851851851852,
          0.0902972027972028,
          0.12134710130255787,
          0.17017643710870803,
          0.11809283233343859,
          0.13952802359882005,
          0.12749864937871422,
          0.1251840942562592,
          0.12814033001337893,
          0.12645143018974794,
          0.3062105612753238,
          0.2546434991012582,
          0.3689505165851006,
          0.33156347002123837,
          0.20667522464698332,
          0.24975818709409978,
          0.23605470368835474,
          0.27627187627187627,
          0.2581227436823105,
          0.3011346212818154,
          0.30481769518230484,
          0.2519924778364825,
          0.2171439591167679,
          0.21555727554179566,
          0.26376260538932056,
          0.19250814332247557,
          0.2493368700265252,
          0.23019928461931527,
          0.2471817658191393,
          0.22741131850970478,
          0.29464732366183094,
          0.27955187938435766,
          0.3741935483870968,
          0.41950934579439253,
          0.42007846293129464,
          0.37583051955124713,
          0.3167159554992255,
          0.3036291771469637,
          0.33638720829732066,
          0.37374166161309885,
          0.3167282321899736,
          0.3331505948138808,
          0.4013007469132666,
          0.3742627345844504,
          0.4185269349017511,
          0.35074626865671643,
          0.3846873461349089,
          0.3913283975831844,
          0.43256110050098256,
          0.3780551222048882
         ],
         "yaxis": "y"
        },
        {
         "hovertemplate": "Symbol=AMC<br>Day=%{x}<br>Fraction of mentions=%{y}<extra></extra>",
         "legendgroup": "AMC",
         "line": {
          "color": "#EF553B",
          "dash": "solid"
         },
         "mode": "lines",
         "name": "AMC",
         "orientation": "v",
         "showlegend": true,
         "type": "scatter",
         "x": [
          "2021-07-26T00:00:00+00:00",
          "2021-07-25T00:00:00+00:00",
          "2021-07-24T00:00:00+00:00",
          "2021-07-23T00:00:00+00:00",
          "2021-07-22T00:00:00+00:00",
          "2021-07-21T00:00:00+00:00",
          "2021-07-20T00:00:00+00:00",
          "2021-07-19T00:00:00+00:00",
          "2021-07-18T00:00:00+00:00",
          "2021-07-17T00:00:00+00:00",
          "2021-07-16T00:00:00+00:00",
          "2021-07-15T00:00:00+00:00",
          "2021-07-14T00:00:00+00:00",
          "2021-07-13T00:00:00+00:00",
          "2021-07-12T00:00:00+00:00",
          "2021-07-11T00:00:00+00:00",
          "2021-07-10T00:00:00+00:00",
          "2021-07-09T00:00:00+00:00",
          "2021-07-08T00:00:00+00:00",
          "2021-07-07T00:00:00+00:00",
          "2021-07-06T00:00:00+00:00",
          "2021-07-05T00:00:00+00:00",
          "2021-07-04T00:00:00+00:00",
          "2021-07-03T00:00:00+00:00",
          "2021-07-02T00:00:00+00:00",
          "2021-07-01T00:00:00+00:00",
          "2021-06-30T00:00:00+00:00",
          "2021-06-29T00:00:00+00:00",
          "2021-06-28T00:00:00+00:00",
          "2021-06-27T00:00:00+00:00",
          "2021-06-26T00:00:00+00:00",
          "2021-06-25T00:00:00+00:00",
          "2021-06-24T00:00:00+00:00",
          "2021-06-23T00:00:00+00:00",
          "2021-06-22T00:00:00+00:00",
          "2021-06-21T00:00:00+00:00",
          "2021-06-20T00:00:00+00:00",
          "2021-06-19T00:00:00+00:00",
          "2021-06-18T00:00:00+00:00",
          "2021-06-17T00:00:00+00:00",
          "2021-06-16T00:00:00+00:00",
          "2021-06-15T00:00:00+00:00",
          "2021-06-14T00:00:00+00:00",
          "2021-06-13T00:00:00+00:00",
          "2021-06-12T00:00:00+00:00",
          "2021-06-11T00:00:00+00:00",
          "2021-06-10T00:00:00+00:00",
          "2021-06-09T00:00:00+00:00",
          "2021-06-08T00:00:00+00:00",
          "2021-06-07T00:00:00+00:00",
          "2021-06-06T00:00:00+00:00",
          "2021-06-05T00:00:00+00:00",
          "2021-06-04T00:00:00+00:00",
          "2021-06-03T00:00:00+00:00",
          "2021-06-02T00:00:00+00:00",
          "2021-06-01T00:00:00+00:00",
          "2021-05-31T00:00:00+00:00",
          "2021-05-30T00:00:00+00:00",
          "2021-05-29T00:00:00+00:00",
          "2021-05-28T00:00:00+00:00",
          "2021-05-27T00:00:00+00:00",
          "2021-05-26T00:00:00+00:00",
          "2021-05-25T00:00:00+00:00",
          "2021-05-24T00:00:00+00:00",
          "2021-05-23T00:00:00+00:00",
          "2021-05-22T00:00:00+00:00",
          "2021-05-21T00:00:00+00:00",
          "2021-05-20T00:00:00+00:00",
          "2021-05-19T00:00:00+00:00",
          "2021-05-18T00:00:00+00:00",
          "2021-05-17T00:00:00+00:00",
          "2021-05-16T00:00:00+00:00",
          "2021-05-15T00:00:00+00:00",
          "2021-05-14T00:00:00+00:00",
          "2021-05-13T00:00:00+00:00",
          "2021-05-12T00:00:00+00:00",
          "2021-05-11T00:00:00+00:00",
          "2021-05-10T00:00:00+00:00",
          "2021-05-09T00:00:00+00:00",
          "2021-05-08T00:00:00+00:00",
          "2021-05-07T00:00:00+00:00",
          "2021-05-06T00:00:00+00:00",
          "2021-05-05T00:00:00+00:00",
          "2021-05-04T00:00:00+00:00",
          "2021-05-03T00:00:00+00:00",
          "2021-05-02T00:00:00+00:00",
          "2021-05-01T00:00:00+00:00",
          "2021-04-30T00:00:00+00:00",
          "2021-04-29T00:00:00+00:00",
          "2021-04-28T00:00:00+00:00",
          "2021-04-27T00:00:00+00:00",
          "2021-04-26T00:00:00+00:00",
          "2021-04-25T00:00:00+00:00",
          "2021-04-24T00:00:00+00:00",
          "2021-04-23T00:00:00+00:00",
          "2021-04-22T00:00:00+00:00",
          "2021-04-21T00:00:00+00:00",
          "2021-04-20T00:00:00+00:00",
          "2021-04-19T00:00:00+00:00",
          "2021-04-18T00:00:00+00:00",
          "2021-04-17T00:00:00+00:00",
          "2021-04-16T00:00:00+00:00",
          "2021-04-15T00:00:00+00:00",
          "2021-04-14T00:00:00+00:00",
          "2021-04-13T00:00:00+00:00",
          "2021-04-12T00:00:00+00:00",
          "2021-04-11T00:00:00+00:00",
          "2021-04-10T00:00:00+00:00",
          "2021-04-09T00:00:00+00:00",
          "2021-04-08T00:00:00+00:00",
          "2021-04-07T00:00:00+00:00",
          "2021-04-06T00:00:00+00:00",
          "2021-04-05T00:00:00+00:00",
          "2021-04-04T00:00:00+00:00",
          "2021-04-03T00:00:00+00:00",
          "2021-04-02T00:00:00+00:00",
          "2021-04-01T00:00:00+00:00",
          "2021-03-31T00:00:00+00:00",
          "2021-03-30T00:00:00+00:00",
          "2021-03-29T00:00:00+00:00",
          "2021-03-26T00:00:00+00:00",
          "2021-03-25T00:00:00+00:00",
          "2021-03-24T00:00:00+00:00",
          "2021-03-23T00:00:00+00:00",
          "2021-03-22T00:00:00+00:00",
          "2021-03-21T00:00:00+00:00",
          "2021-03-20T00:00:00+00:00",
          "2021-03-19T00:00:00+00:00",
          "2021-03-18T00:00:00+00:00",
          "2021-03-17T00:00:00+00:00",
          "2021-03-16T00:00:00+00:00",
          "2021-03-15T00:00:00+00:00",
          "2021-03-14T00:00:00+00:00",
          "2021-03-13T00:00:00+00:00",
          "2021-03-12T00:00:00+00:00",
          "2021-03-11T00:00:00+00:00",
          "2021-03-10T00:00:00+00:00",
          "2021-03-09T00:00:00+00:00"
         ],
         "xaxis": "x",
         "y": [
          0.04488662656177696,
          0.055692459339576145,
          0.06443556443556443,
          0.043931905546403076,
          0.055665675586389164,
          0.0793981110933248,
          0.09337676438653637,
          0.06678635547576302,
          0.0881585811163276,
          0.07358674463937621,
          0.072852617849823,
          0.11855388813096862,
          0.10465405674464907,
          0.07192693137130535,
          0.05051533273953429,
          0.05434366628396479,
          0.06505771248688352,
          0.04385696821515892,
          0.07892172783371225,
          0.0740327003148167,
          0.06769340974212035,
          0.08541033434650457,
          0.11592458884877657,
          0.08677896886166411,
          0.06924988703117939,
          0.05554504163512491,
          0.04247429630878139,
          0.0503698224852071,
          0.0537078969714124,
          0.07801568793724825,
          0.06335128286347799,
          0.048898481690979455,
          0.04960475741533106,
          0.05845980888139404,
          0.07909410064018724,
          0.07543507362784471,
          0.1265474552957359,
          0.15527318932655654,
          0.10845295055821372,
          0.1230140717203813,
          0.08738080633469024,
          0.09603610850426778,
          0.08483519750287986,
          0.08442503639010189,
          0.11729260089686099,
          0.09533184416764472,
          0.09632716853347226,
          0.07812708806628357,
          0.07961086156693678,
          0.13461839224272756,
          0.202617669267556,
          0.2463079491460126,
          0.22598850848264374,
          0.2511216175435067,
          0.2935985471880143,
          0.2845719997144285,
          0.25163970266724967,
          0.2823379923761118,
          0.31890359168241966,
          0.3658091356766853,
          0.35737388163145295,
          0.23386546595715652,
          0.16376235605829004,
          0.0906608410704533,
          0.057349031522977593,
          0.07383177570093458,
          0.06750366867764553,
          0.07606628633523499,
          0.11081234078686669,
          0.1682207055657022,
          0.13157894736842105,
          0.08398133748055987,
          0.11551155115511551,
          0.21374127750939345,
          0.2170175438596491,
          0.055615784908933215,
          0.050663776754267136,
          0.03847260865393841,
          0.03908171631593332,
          0.05993247045582442,
          0.04064378119588469,
          0.04428617675623179,
          0.03199137311286844,
          0.02000479156684236,
          0.018754112744022812,
          0.03755715218811234,
          0.029160063391442156,
          0.021086332523735925,
          0.021176268861454045,
          0.04825174825174825,
          0.030640480529121956,
          0.03642572566875356,
          0.03441742974423745,
          0.031563421828908554,
          0.027552674230145867,
          0.0321060382916053,
          0.027352460234874386,
          0.017983574058340415,
          0.022362448798848664,
          0.032654284002396644,
          0.025829255029907558,
          0.0303871916353537,
          0.03891206675224647,
          0.018446870250103633,
          0.028843762950683798,
          0.03679283679283679,
          0.05956678700361011,
          0.03035878564857406,
          0.03110796889203111,
          0.026506671442643504,
          0.02844470157169029,
          0.029411764705882353,
          0.061415109935526534,
          0.08078175895765473,
          0.07123910572186434,
          0.09632089933571794,
          0.06541594667983214,
          0.028407823306313675,
          0.032444793825484174,
          0.033190241859491154,
          0.05147110953562566,
          0.06875,
          0.053918116889648926,
          0.06099553425552772,
          0.09533868469229687,
          0.12594322673374056,
          0.13569576490924806,
          0.07198302001212856,
          0.06459102902374671,
          0.05871388630009319,
          0.09857222702098471,
          0.16630920464700624,
          0.07258387916054003,
          0.08409873708381171,
          0.062284588872476614,
          0.05931410092758063,
          0.10462509341526198,
          0.11076443057722309
         ],
         "yaxis": "y"
        }
       ],
       "layout": {
        "annotations": [
         {
          "align": "right",
          "height": 40,
          "showarrow": false,
          "text": "<a style=\"color: rgb(100, 130, 180);\" href=\"https://beneath.dev/\">beneath.dev</a>",
          "x": 1,
          "xanchor": "right",
          "xref": "paper",
          "y": 1,
          "yanchor": "bottom",
          "yref": "paper",
          "yshift": 13
         },
         {
          "align": "left",
          "font": {
           "size": 12
          },
          "height": 16,
          "showarrow": false,
          "text": "Share of mentions across all stocks on r/wallstreetbets",
          "x": 0,
          "xanchor": "left",
          "xref": "paper",
          "y": 1,
          "yanchor": "bottom",
          "yref": "paper",
          "yshift": 13
         },
         {
          "align": "left",
          "font": {
           "size": 18
          },
          "height": 24,
          "showarrow": false,
          "text": "<b>Relative interest in GME and AMC has declined</b>",
          "x": 0,
          "xanchor": "left",
          "xref": "paper",
          "y": 1,
          "yanchor": "bottom",
          "yref": "paper",
          "yshift": 29
         }
        ],
        "colorway": [
         "rgb(60, 170, 255)",
         "rgb(255, 60, 130)",
         "rgb(100, 200, 100)",
         "rgb(200, 220, 240)",
         "rgb(251, 241, 67)",
         "rgb(203, 60, 255)",
         "rgb(249, 148, 66)",
         "rgb(36, 130, 36)",
         "rgb(238, 255, 234)"
        ],
        "dragmode": "select",
        "font": {
         "color": "#e1e1e1",
         "family": "SFMono-Regular,Menlo,Monaco,Consolas,Liberation Mono,Courier,monospace"
        },
        "legend": {
         "orientation": "h",
         "title": {
          "text": "Symbol"
         },
         "tracegroupgap": 0,
         "x": 0,
         "y": -0.1,
         "yanchor": "top"
        },
        "margin": {
         "autoexpand": true,
         "b": 30,
         "l": 35,
         "r": 20,
         "t": 68
        },
        "paper_bgcolor": "#1b2442",
        "plot_bgcolor": "#1b2442",
        "template": {
         "data": {
          "bar": [
           {
            "error_x": {
             "color": "#2a3f5f"
            },
            "error_y": {
             "color": "#2a3f5f"
            },
            "marker": {
             "line": {
              "color": "#E5ECF6",
              "width": 0.5
             },
             "pattern": {
              "fillmode": "overlay",
              "size": 10,
              "solidity": 0.2
             }
            },
            "type": "bar"
           }
          ],
          "barpolar": [
           {
            "marker": {
             "line": {
              "color": "#E5ECF6",
              "width": 0.5
             },
             "pattern": {
              "fillmode": "overlay",
              "size": 10,
              "solidity": 0.2
             }
            },
            "type": "barpolar"
           }
          ],
          "carpet": [
           {
            "aaxis": {
             "endlinecolor": "#2a3f5f",
             "gridcolor": "white",
             "linecolor": "white",
             "minorgridcolor": "white",
             "startlinecolor": "#2a3f5f"
            },
            "baxis": {
             "endlinecolor": "#2a3f5f",
             "gridcolor": "white",
             "linecolor": "white",
             "minorgridcolor": "white",
             "startlinecolor": "#2a3f5f"
            },
            "type": "carpet"
           }
          ],
          "choropleth": [
           {
            "colorbar": {
             "outlinewidth": 0,
             "ticks": ""
            },
            "type": "choropleth"
           }
          ],
          "contour": [
           {
            "colorbar": {
             "outlinewidth": 0,
             "ticks": ""
            },
            "colorscale": [
             [
              0,
              "#0d0887"
             ],
             [
              0.1111111111111111,
              "#46039f"
             ],
             [
              0.2222222222222222,
              "#7201a8"
             ],
             [
              0.3333333333333333,
              "#9c179e"
             ],
             [
              0.4444444444444444,
              "#bd3786"
             ],
             [
              0.5555555555555556,
              "#d8576b"
             ],
             [
              0.6666666666666666,
              "#ed7953"
             ],
             [
              0.7777777777777778,
              "#fb9f3a"
             ],
             [
              0.8888888888888888,
              "#fdca26"
             ],
             [
              1,
              "#f0f921"
             ]
            ],
            "type": "contour"
           }
          ],
          "contourcarpet": [
           {
            "colorbar": {
             "outlinewidth": 0,
             "ticks": ""
            },
            "type": "contourcarpet"
           }
          ],
          "heatmap": [
           {
            "colorbar": {
             "outlinewidth": 0,
             "ticks": ""
            },
            "colorscale": [
             [
              0,
              "#0d0887"
             ],
             [
              0.1111111111111111,
              "#46039f"
             ],
             [
              0.2222222222222222,
              "#7201a8"
             ],
             [
              0.3333333333333333,
              "#9c179e"
             ],
             [
              0.4444444444444444,
              "#bd3786"
             ],
             [
              0.5555555555555556,
              "#d8576b"
             ],
             [
              0.6666666666666666,
              "#ed7953"
             ],
             [
              0.7777777777777778,
              "#fb9f3a"
             ],
             [
              0.8888888888888888,
              "#fdca26"
             ],
             [
              1,
              "#f0f921"
             ]
            ],
            "type": "heatmap"
           }
          ],
          "heatmapgl": [
           {
            "colorbar": {
             "outlinewidth": 0,
             "ticks": ""
            },
            "colorscale": [
             [
              0,
              "#0d0887"
             ],
             [
              0.1111111111111111,
              "#46039f"
             ],
             [
              0.2222222222222222,
              "#7201a8"
             ],
             [
              0.3333333333333333,
              "#9c179e"
             ],
             [
              0.4444444444444444,
              "#bd3786"
             ],
             [
              0.5555555555555556,
              "#d8576b"
             ],
             [
              0.6666666666666666,
              "#ed7953"
             ],
             [
              0.7777777777777778,
              "#fb9f3a"
             ],
             [
              0.8888888888888888,
              "#fdca26"
             ],
             [
              1,
              "#f0f921"
             ]
            ],
            "type": "heatmapgl"
           }
          ],
          "histogram": [
           {
            "marker": {
             "pattern": {
              "fillmode": "overlay",
              "size": 10,
              "solidity": 0.2
             }
            },
            "type": "histogram"
           }
          ],
          "histogram2d": [
           {
            "colorbar": {
             "outlinewidth": 0,
             "ticks": ""
            },
            "colorscale": [
             [
              0,
              "#0d0887"
             ],
             [
              0.1111111111111111,
              "#46039f"
             ],
             [
              0.2222222222222222,
              "#7201a8"
             ],
             [
              0.3333333333333333,
              "#9c179e"
             ],
             [
              0.4444444444444444,
              "#bd3786"
             ],
             [
              0.5555555555555556,
              "#d8576b"
             ],
             [
              0.6666666666666666,
              "#ed7953"
             ],
             [
              0.7777777777777778,
              "#fb9f3a"
             ],
             [
              0.8888888888888888,
              "#fdca26"
             ],
             [
              1,
              "#f0f921"
             ]
            ],
            "type": "histogram2d"
           }
          ],
          "histogram2dcontour": [
           {
            "colorbar": {
             "outlinewidth": 0,
             "ticks": ""
            },
            "colorscale": [
             [
              0,
              "#0d0887"
             ],
             [
              0.1111111111111111,
              "#46039f"
             ],
             [
              0.2222222222222222,
              "#7201a8"
             ],
             [
              0.3333333333333333,
              "#9c179e"
             ],
             [
              0.4444444444444444,
              "#bd3786"
             ],
             [
              0.5555555555555556,
              "#d8576b"
             ],
             [
              0.6666666666666666,
              "#ed7953"
             ],
             [
              0.7777777777777778,
              "#fb9f3a"
             ],
             [
              0.8888888888888888,
              "#fdca26"
             ],
             [
              1,
              "#f0f921"
             ]
            ],
            "type": "histogram2dcontour"
           }
          ],
          "mesh3d": [
           {
            "colorbar": {
             "outlinewidth": 0,
             "ticks": ""
            },
            "type": "mesh3d"
           }
          ],
          "parcoords": [
           {
            "line": {
             "colorbar": {
              "outlinewidth": 0,
              "ticks": ""
             }
            },
            "type": "parcoords"
           }
          ],
          "pie": [
           {
            "automargin": true,
            "type": "pie"
           }
          ],
          "scatter": [
           {
            "marker": {
             "colorbar": {
              "outlinewidth": 0,
              "ticks": ""
             }
            },
            "type": "scatter"
           }
          ],
          "scatter3d": [
           {
            "line": {
             "colorbar": {
              "outlinewidth": 0,
              "ticks": ""
             }
            },
            "marker": {
             "colorbar": {
              "outlinewidth": 0,
              "ticks": ""
             }
            },
            "type": "scatter3d"
           }
          ],
          "scattercarpet": [
           {
            "marker": {
             "colorbar": {
              "outlinewidth": 0,
              "ticks": ""
             }
            },
            "type": "scattercarpet"
           }
          ],
          "scattergeo": [
           {
            "marker": {
             "colorbar": {
              "outlinewidth": 0,
              "ticks": ""
             }
            },
            "type": "scattergeo"
           }
          ],
          "scattergl": [
           {
            "marker": {
             "colorbar": {
              "outlinewidth": 0,
              "ticks": ""
             }
            },
            "type": "scattergl"
           }
          ],
          "scattermapbox": [
           {
            "marker": {
             "colorbar": {
              "outlinewidth": 0,
              "ticks": ""
             }
            },
            "type": "scattermapbox"
           }
          ],
          "scatterpolar": [
           {
            "marker": {
             "colorbar": {
              "outlinewidth": 0,
              "ticks": ""
             }
            },
            "type": "scatterpolar"
           }
          ],
          "scatterpolargl": [
           {
            "marker": {
             "colorbar": {
              "outlinewidth": 0,
              "ticks": ""
             }
            },
            "type": "scatterpolargl"
           }
          ],
          "scatterternary": [
           {
            "marker": {
             "colorbar": {
              "outlinewidth": 0,
              "ticks": ""
             }
            },
            "type": "scatterternary"
           }
          ],
          "surface": [
           {
            "colorbar": {
             "outlinewidth": 0,
             "ticks": ""
            },
            "colorscale": [
             [
              0,
              "#0d0887"
             ],
             [
              0.1111111111111111,
              "#46039f"
             ],
             [
              0.2222222222222222,
              "#7201a8"
             ],
             [
              0.3333333333333333,
              "#9c179e"
             ],
             [
              0.4444444444444444,
              "#bd3786"
             ],
             [
              0.5555555555555556,
              "#d8576b"
             ],
             [
              0.6666666666666666,
              "#ed7953"
             ],
             [
              0.7777777777777778,
              "#fb9f3a"
             ],
             [
              0.8888888888888888,
              "#fdca26"
             ],
             [
              1,
              "#f0f921"
             ]
            ],
            "type": "surface"
           }
          ],
          "table": [
           {
            "cells": {
             "fill": {
              "color": "#EBF0F8"
             },
             "line": {
              "color": "white"
             }
            },
            "header": {
             "fill": {
              "color": "#C8D4E3"
             },
             "line": {
              "color": "white"
             }
            },
            "type": "table"
           }
          ]
         },
         "layout": {
          "annotationdefaults": {
           "arrowcolor": "#2a3f5f",
           "arrowhead": 0,
           "arrowwidth": 1
          },
          "autotypenumbers": "strict",
          "coloraxis": {
           "colorbar": {
            "outlinewidth": 0,
            "ticks": ""
           }
          },
          "colorscale": {
           "diverging": [
            [
             0,
             "#8e0152"
            ],
            [
             0.1,
             "#c51b7d"
            ],
            [
             0.2,
             "#de77ae"
            ],
            [
             0.3,
             "#f1b6da"
            ],
            [
             0.4,
             "#fde0ef"
            ],
            [
             0.5,
             "#f7f7f7"
            ],
            [
             0.6,
             "#e6f5d0"
            ],
            [
             0.7,
             "#b8e186"
            ],
            [
             0.8,
             "#7fbc41"
            ],
            [
             0.9,
             "#4d9221"
            ],
            [
             1,
             "#276419"
            ]
           ],
           "sequential": [
            [
             0,
             "#0d0887"
            ],
            [
             0.1111111111111111,
             "#46039f"
            ],
            [
             0.2222222222222222,
             "#7201a8"
            ],
            [
             0.3333333333333333,
             "#9c179e"
            ],
            [
             0.4444444444444444,
             "#bd3786"
            ],
            [
             0.5555555555555556,
             "#d8576b"
            ],
            [
             0.6666666666666666,
             "#ed7953"
            ],
            [
             0.7777777777777778,
             "#fb9f3a"
            ],
            [
             0.8888888888888888,
             "#fdca26"
            ],
            [
             1,
             "#f0f921"
            ]
           ],
           "sequentialminus": [
            [
             0,
             "#0d0887"
            ],
            [
             0.1111111111111111,
             "#46039f"
            ],
            [
             0.2222222222222222,
             "#7201a8"
            ],
            [
             0.3333333333333333,
             "#9c179e"
            ],
            [
             0.4444444444444444,
             "#bd3786"
            ],
            [
             0.5555555555555556,
             "#d8576b"
            ],
            [
             0.6666666666666666,
             "#ed7953"
            ],
            [
             0.7777777777777778,
             "#fb9f3a"
            ],
            [
             0.8888888888888888,
             "#fdca26"
            ],
            [
             1,
             "#f0f921"
            ]
           ]
          },
          "colorway": [
           "#636efa",
           "#EF553B",
           "#00cc96",
           "#ab63fa",
           "#FFA15A",
           "#19d3f3",
           "#FF6692",
           "#B6E880",
           "#FF97FF",
           "#FECB52"
          ],
          "font": {
           "color": "#2a3f5f"
          },
          "geo": {
           "bgcolor": "white",
           "lakecolor": "white",
           "landcolor": "#E5ECF6",
           "showlakes": true,
           "showland": true,
           "subunitcolor": "white"
          },
          "hoverlabel": {
           "align": "left"
          },
          "hovermode": "closest",
          "mapbox": {
           "style": "light"
          },
          "paper_bgcolor": "white",
          "plot_bgcolor": "#E5ECF6",
          "polar": {
           "angularaxis": {
            "gridcolor": "white",
            "linecolor": "white",
            "ticks": ""
           },
           "bgcolor": "#E5ECF6",
           "radialaxis": {
            "gridcolor": "white",
            "linecolor": "white",
            "ticks": ""
           }
          },
          "scene": {
           "xaxis": {
            "backgroundcolor": "#E5ECF6",
            "gridcolor": "white",
            "gridwidth": 2,
            "linecolor": "white",
            "showbackground": true,
            "ticks": "",
            "zerolinecolor": "white"
           },
           "yaxis": {
            "backgroundcolor": "#E5ECF6",
            "gridcolor": "white",
            "gridwidth": 2,
            "linecolor": "white",
            "showbackground": true,
            "ticks": "",
            "zerolinecolor": "white"
           },
           "zaxis": {
            "backgroundcolor": "#E5ECF6",
            "gridcolor": "white",
            "gridwidth": 2,
            "linecolor": "white",
            "showbackground": true,
            "ticks": "",
            "zerolinecolor": "white"
           }
          },
          "shapedefaults": {
           "line": {
            "color": "#2a3f5f"
           }
          },
          "ternary": {
           "aaxis": {
            "gridcolor": "white",
            "linecolor": "white",
            "ticks": ""
           },
           "baxis": {
            "gridcolor": "white",
            "linecolor": "white",
            "ticks": ""
           },
           "bgcolor": "#E5ECF6",
           "caxis": {
            "gridcolor": "white",
            "linecolor": "white",
            "ticks": ""
           }
          },
          "title": {
           "x": 0.05
          },
          "xaxis": {
           "automargin": true,
           "gridcolor": "white",
           "linecolor": "white",
           "ticks": "",
           "title": {
            "standoff": 15
           },
           "zerolinecolor": "white",
           "zerolinewidth": 2
          },
          "yaxis": {
           "automargin": true,
           "gridcolor": "white",
           "linecolor": "white",
           "ticks": "",
           "title": {
            "standoff": 15
           },
           "zerolinecolor": "white",
           "zerolinewidth": 2
          }
         }
        },
        "title": {
         "font": {
          "color": "#1b2442",
          "size": 1
         },
         "text": "Relative interest in GME and AMC has declined"
        },
        "xaxis": {
         "anchor": "y",
         "domain": [
          0,
          1
         ],
         "gridcolor": "rgb(44, 53, 72)",
         "title": {
          "text": ""
         },
         "zerolinecolor": "#e1e1e1"
        },
        "yaxis": {
         "anchor": "x",
         "domain": [
          0,
          1
         ],
         "gridcolor": "rgb(44, 53, 72)",
         "title": {
          "text": "Fraction of mentions"
         },
         "zerolinecolor": "#e1e1e1"
        }
       }
      },
      "text/html": [
       "<div>                            <div id=\"53dd4740-597b-49f2-838b-c6697a930943\" class=\"plotly-graph-div\" style=\"height:525px; width:100%;\"></div>            <script type=\"text/javascript\">                require([\"plotly\"], function(Plotly) {                    window.PLOTLYENV=window.PLOTLYENV || {};                                    if (document.getElementById(\"53dd4740-597b-49f2-838b-c6697a930943\")) {                    Plotly.newPlot(                        \"53dd4740-597b-49f2-838b-c6697a930943\",                        [{\"hovertemplate\":\"Symbol=GME<br>Day=%{x}<br>Fraction of mentions=%{y}<extra></extra>\",\"legendgroup\":\"GME\",\"line\":{\"color\":\"#636efa\",\"dash\":\"solid\"},\"mode\":\"lines\",\"name\":\"GME\",\"orientation\":\"v\",\"showlegend\":true,\"type\":\"scatter\",\"x\":[\"2021-07-26T00:00:00+00:00\",\"2021-07-25T00:00:00+00:00\",\"2021-07-24T00:00:00+00:00\",\"2021-07-23T00:00:00+00:00\",\"2021-07-22T00:00:00+00:00\",\"2021-07-21T00:00:00+00:00\",\"2021-07-20T00:00:00+00:00\",\"2021-07-19T00:00:00+00:00\",\"2021-07-18T00:00:00+00:00\",\"2021-07-17T00:00:00+00:00\",\"2021-07-16T00:00:00+00:00\",\"2021-07-15T00:00:00+00:00\",\"2021-07-14T00:00:00+00:00\",\"2021-07-13T00:00:00+00:00\",\"2021-07-12T00:00:00+00:00\",\"2021-07-11T00:00:00+00:00\",\"2021-07-10T00:00:00+00:00\",\"2021-07-09T00:00:00+00:00\",\"2021-07-08T00:00:00+00:00\",\"2021-07-07T00:00:00+00:00\",\"2021-07-06T00:00:00+00:00\",\"2021-07-05T00:00:00+00:00\",\"2021-07-04T00:00:00+00:00\",\"2021-07-03T00:00:00+00:00\",\"2021-07-02T00:00:00+00:00\",\"2021-07-01T00:00:00+00:00\",\"2021-06-30T00:00:00+00:00\",\"2021-06-29T00:00:00+00:00\",\"2021-06-28T00:00:00+00:00\",\"2021-06-27T00:00:00+00:00\",\"2021-06-26T00:00:00+00:00\",\"2021-06-25T00:00:00+00:00\",\"2021-06-24T00:00:00+00:00\",\"2021-06-23T00:00:00+00:00\",\"2021-06-22T00:00:00+00:00\",\"2021-06-21T00:00:00+00:00\",\"2021-06-20T00:00:00+00:00\",\"2021-06-19T00:00:00+00:00\",\"2021-06-18T00:00:00+00:00\",\"2021-06-17T00:00:00+00:00\",\"2021-06-16T00:00:00+00:00\",\"2021-06-15T00:00:00+00:00\",\"2021-06-14T00:00:00+00:00\",\"2021-06-13T00:00:00+00:00\",\"2021-06-12T00:00:00+00:00\",\"2021-06-11T00:00:00+00:00\",\"2021-06-10T00:00:00+00:00\",\"2021-06-09T00:00:00+00:00\",\"2021-06-08T00:00:00+00:00\",\"2021-06-07T00:00:00+00:00\",\"2021-06-06T00:00:00+00:00\",\"2021-06-05T00:00:00+00:00\",\"2021-06-04T00:00:00+00:00\",\"2021-06-03T00:00:00+00:00\",\"2021-06-02T00:00:00+00:00\",\"2021-06-01T00:00:00+00:00\",\"2021-05-31T00:00:00+00:00\",\"2021-05-30T00:00:00+00:00\",\"2021-05-29T00:00:00+00:00\",\"2021-05-28T00:00:00+00:00\",\"2021-05-27T00:00:00+00:00\",\"2021-05-26T00:00:00+00:00\",\"2021-05-25T00:00:00+00:00\",\"2021-05-24T00:00:00+00:00\",\"2021-05-23T00:00:00+00:00\",\"2021-05-22T00:00:00+00:00\",\"2021-05-21T00:00:00+00:00\",\"2021-05-20T00:00:00+00:00\",\"2021-05-19T00:00:00+00:00\",\"2021-05-18T00:00:00+00:00\",\"2021-05-17T00:00:00+00:00\",\"2021-05-16T00:00:00+00:00\",\"2021-05-15T00:00:00+00:00\",\"2021-05-14T00:00:00+00:00\",\"2021-05-13T00:00:00+00:00\",\"2021-05-12T00:00:00+00:00\",\"2021-05-11T00:00:00+00:00\",\"2021-05-10T00:00:00+00:00\",\"2021-05-09T00:00:00+00:00\",\"2021-05-08T00:00:00+00:00\",\"2021-05-07T00:00:00+00:00\",\"2021-05-06T00:00:00+00:00\",\"2021-05-05T00:00:00+00:00\",\"2021-05-04T00:00:00+00:00\",\"2021-05-03T00:00:00+00:00\",\"2021-05-02T00:00:00+00:00\",\"2021-05-01T00:00:00+00:00\",\"2021-04-30T00:00:00+00:00\",\"2021-04-29T00:00:00+00:00\",\"2021-04-28T00:00:00+00:00\",\"2021-04-27T00:00:00+00:00\",\"2021-04-26T00:00:00+00:00\",\"2021-04-25T00:00:00+00:00\",\"2021-04-24T00:00:00+00:00\",\"2021-04-23T00:00:00+00:00\",\"2021-04-22T00:00:00+00:00\",\"2021-04-21T00:00:00+00:00\",\"2021-04-20T00:00:00+00:00\",\"2021-04-19T00:00:00+00:00\",\"2021-04-18T00:00:00+00:00\",\"2021-04-17T00:00:00+00:00\",\"2021-04-16T00:00:00+00:00\",\"2021-04-15T00:00:00+00:00\",\"2021-04-14T00:00:00+00:00\",\"2021-04-13T00:00:00+00:00\",\"2021-04-12T00:00:00+00:00\",\"2021-04-11T00:00:00+00:00\",\"2021-04-10T00:00:00+00:00\",\"2021-04-09T00:00:00+00:00\",\"2021-04-08T00:00:00+00:00\",\"2021-04-07T00:00:00+00:00\",\"2021-04-06T00:00:00+00:00\",\"2021-04-05T00:00:00+00:00\",\"2021-04-04T00:00:00+00:00\",\"2021-04-03T00:00:00+00:00\",\"2021-04-02T00:00:00+00:00\",\"2021-04-01T00:00:00+00:00\",\"2021-03-31T00:00:00+00:00\",\"2021-03-30T00:00:00+00:00\",\"2021-03-29T00:00:00+00:00\",\"2021-03-26T00:00:00+00:00\",\"2021-03-25T00:00:00+00:00\",\"2021-03-24T00:00:00+00:00\",\"2021-03-23T00:00:00+00:00\",\"2021-03-22T00:00:00+00:00\",\"2021-03-21T00:00:00+00:00\",\"2021-03-20T00:00:00+00:00\",\"2021-03-19T00:00:00+00:00\",\"2021-03-18T00:00:00+00:00\",\"2021-03-17T00:00:00+00:00\",\"2021-03-16T00:00:00+00:00\",\"2021-03-15T00:00:00+00:00\",\"2021-03-14T00:00:00+00:00\",\"2021-03-13T00:00:00+00:00\",\"2021-03-12T00:00:00+00:00\",\"2021-03-11T00:00:00+00:00\",\"2021-03-10T00:00:00+00:00\",\"2021-03-09T00:00:00+00:00\"],\"xaxis\":\"x\",\"y\":[0.04349838037945396,0.056678166584524396,0.060939060939060936,0.03423027640490573,0.03898249091509746,0.04706259004322075,0.06677524429967427,0.06929982046678636,0.1178925404277517,0.07504873294346978,0.06595863610955842,0.10027285129604366,0.0822548531607765,0.04554103767601167,0.05382364168469271,0.03903559127439724,0.07135362014690451,0.04156479217603912,0.053805348056728375,0.0817507870417386,0.09109360076408787,0.11641337386018237,0.16686722823906938,0.1031138335885656,0.048124717577948485,0.05545041635124905,0.04483397943704703,0.04393491124260355,0.046914803283328615,0.13016747933008269,0.06303452644916059,0.045549270616254835,0.0401044310682428,0.05382237211916807,0.07764851655537963,0.05502008032128514,0.09958734525447042,0.11003811944091486,0.05110602593440122,0.03983204720835225,0.053253777951263036,0.0437055905617375,0.0331462970532496,0.05312954876273653,0.0795964125560538,0.0582289024344073,0.08390205782755926,0.08378992382734197,0.09681059973365234,0.08898967782295902,0.12836647369745785,0.13073070502118916,0.07506884710842145,0.07339301881098481,0.09698655013903865,0.09638038123795245,0.09335373852208133,0.13290978398983483,0.15330812854442344,0.11610629988113431,0.15516444743142774,0.2636785373175058,0.267808009782941,0.10363189513926815,0.12571211545765287,0.18317757009345795,0.10908201532691994,0.07389296386851399,0.12170959524483442,0.1576468326444295,0.14585356379879588,0.09447900466562986,0.1646039603960396,0.11937734836285561,0.13035087719298247,0.1063529921942758,0.09491556037207623,0.09565384246378202,0.11341896693085543,0.1409679234665166,0.09422430477742691,0.1364842991259307,0.10882458662832495,0.07918064206995687,0.0708488703663084,0.14696276943174397,0.11980982567353407,0.09317730183263413,0.08101851851851852,0.0902972027972028,0.12134710130255787,0.17017643710870803,0.11809283233343859,0.13952802359882005,0.12749864937871422,0.1251840942562592,0.12814033001337893,0.12645143018974794,0.3062105612753238,0.2546434991012582,0.3689505165851006,0.33156347002123837,0.20667522464698332,0.24975818709409978,0.23605470368835474,0.27627187627187627,0.2581227436823105,0.3011346212818154,0.30481769518230484,0.2519924778364825,0.2171439591167679,0.21555727554179566,0.26376260538932056,0.19250814332247557,0.2493368700265252,0.23019928461931527,0.2471817658191393,0.22741131850970478,0.29464732366183094,0.27955187938435766,0.3741935483870968,0.41950934579439253,0.42007846293129464,0.37583051955124713,0.3167159554992255,0.3036291771469637,0.33638720829732066,0.37374166161309885,0.3167282321899736,0.3331505948138808,0.4013007469132666,0.3742627345844504,0.4185269349017511,0.35074626865671643,0.3846873461349089,0.3913283975831844,0.43256110050098256,0.3780551222048882],\"yaxis\":\"y\"},{\"hovertemplate\":\"Symbol=AMC<br>Day=%{x}<br>Fraction of mentions=%{y}<extra></extra>\",\"legendgroup\":\"AMC\",\"line\":{\"color\":\"#EF553B\",\"dash\":\"solid\"},\"mode\":\"lines\",\"name\":\"AMC\",\"orientation\":\"v\",\"showlegend\":true,\"type\":\"scatter\",\"x\":[\"2021-07-26T00:00:00+00:00\",\"2021-07-25T00:00:00+00:00\",\"2021-07-24T00:00:00+00:00\",\"2021-07-23T00:00:00+00:00\",\"2021-07-22T00:00:00+00:00\",\"2021-07-21T00:00:00+00:00\",\"2021-07-20T00:00:00+00:00\",\"2021-07-19T00:00:00+00:00\",\"2021-07-18T00:00:00+00:00\",\"2021-07-17T00:00:00+00:00\",\"2021-07-16T00:00:00+00:00\",\"2021-07-15T00:00:00+00:00\",\"2021-07-14T00:00:00+00:00\",\"2021-07-13T00:00:00+00:00\",\"2021-07-12T00:00:00+00:00\",\"2021-07-11T00:00:00+00:00\",\"2021-07-10T00:00:00+00:00\",\"2021-07-09T00:00:00+00:00\",\"2021-07-08T00:00:00+00:00\",\"2021-07-07T00:00:00+00:00\",\"2021-07-06T00:00:00+00:00\",\"2021-07-05T00:00:00+00:00\",\"2021-07-04T00:00:00+00:00\",\"2021-07-03T00:00:00+00:00\",\"2021-07-02T00:00:00+00:00\",\"2021-07-01T00:00:00+00:00\",\"2021-06-30T00:00:00+00:00\",\"2021-06-29T00:00:00+00:00\",\"2021-06-28T00:00:00+00:00\",\"2021-06-27T00:00:00+00:00\",\"2021-06-26T00:00:00+00:00\",\"2021-06-25T00:00:00+00:00\",\"2021-06-24T00:00:00+00:00\",\"2021-06-23T00:00:00+00:00\",\"2021-06-22T00:00:00+00:00\",\"2021-06-21T00:00:00+00:00\",\"2021-06-20T00:00:00+00:00\",\"2021-06-19T00:00:00+00:00\",\"2021-06-18T00:00:00+00:00\",\"2021-06-17T00:00:00+00:00\",\"2021-06-16T00:00:00+00:00\",\"2021-06-15T00:00:00+00:00\",\"2021-06-14T00:00:00+00:00\",\"2021-06-13T00:00:00+00:00\",\"2021-06-12T00:00:00+00:00\",\"2021-06-11T00:00:00+00:00\",\"2021-06-10T00:00:00+00:00\",\"2021-06-09T00:00:00+00:00\",\"2021-06-08T00:00:00+00:00\",\"2021-06-07T00:00:00+00:00\",\"2021-06-06T00:00:00+00:00\",\"2021-06-05T00:00:00+00:00\",\"2021-06-04T00:00:00+00:00\",\"2021-06-03T00:00:00+00:00\",\"2021-06-02T00:00:00+00:00\",\"2021-06-01T00:00:00+00:00\",\"2021-05-31T00:00:00+00:00\",\"2021-05-30T00:00:00+00:00\",\"2021-05-29T00:00:00+00:00\",\"2021-05-28T00:00:00+00:00\",\"2021-05-27T00:00:00+00:00\",\"2021-05-26T00:00:00+00:00\",\"2021-05-25T00:00:00+00:00\",\"2021-05-24T00:00:00+00:00\",\"2021-05-23T00:00:00+00:00\",\"2021-05-22T00:00:00+00:00\",\"2021-05-21T00:00:00+00:00\",\"2021-05-20T00:00:00+00:00\",\"2021-05-19T00:00:00+00:00\",\"2021-05-18T00:00:00+00:00\",\"2021-05-17T00:00:00+00:00\",\"2021-05-16T00:00:00+00:00\",\"2021-05-15T00:00:00+00:00\",\"2021-05-14T00:00:00+00:00\",\"2021-05-13T00:00:00+00:00\",\"2021-05-12T00:00:00+00:00\",\"2021-05-11T00:00:00+00:00\",\"2021-05-10T00:00:00+00:00\",\"2021-05-09T00:00:00+00:00\",\"2021-05-08T00:00:00+00:00\",\"2021-05-07T00:00:00+00:00\",\"2021-05-06T00:00:00+00:00\",\"2021-05-05T00:00:00+00:00\",\"2021-05-04T00:00:00+00:00\",\"2021-05-03T00:00:00+00:00\",\"2021-05-02T00:00:00+00:00\",\"2021-05-01T00:00:00+00:00\",\"2021-04-30T00:00:00+00:00\",\"2021-04-29T00:00:00+00:00\",\"2021-04-28T00:00:00+00:00\",\"2021-04-27T00:00:00+00:00\",\"2021-04-26T00:00:00+00:00\",\"2021-04-25T00:00:00+00:00\",\"2021-04-24T00:00:00+00:00\",\"2021-04-23T00:00:00+00:00\",\"2021-04-22T00:00:00+00:00\",\"2021-04-21T00:00:00+00:00\",\"2021-04-20T00:00:00+00:00\",\"2021-04-19T00:00:00+00:00\",\"2021-04-18T00:00:00+00:00\",\"2021-04-17T00:00:00+00:00\",\"2021-04-16T00:00:00+00:00\",\"2021-04-15T00:00:00+00:00\",\"2021-04-14T00:00:00+00:00\",\"2021-04-13T00:00:00+00:00\",\"2021-04-12T00:00:00+00:00\",\"2021-04-11T00:00:00+00:00\",\"2021-04-10T00:00:00+00:00\",\"2021-04-09T00:00:00+00:00\",\"2021-04-08T00:00:00+00:00\",\"2021-04-07T00:00:00+00:00\",\"2021-04-06T00:00:00+00:00\",\"2021-04-05T00:00:00+00:00\",\"2021-04-04T00:00:00+00:00\",\"2021-04-03T00:00:00+00:00\",\"2021-04-02T00:00:00+00:00\",\"2021-04-01T00:00:00+00:00\",\"2021-03-31T00:00:00+00:00\",\"2021-03-30T00:00:00+00:00\",\"2021-03-29T00:00:00+00:00\",\"2021-03-26T00:00:00+00:00\",\"2021-03-25T00:00:00+00:00\",\"2021-03-24T00:00:00+00:00\",\"2021-03-23T00:00:00+00:00\",\"2021-03-22T00:00:00+00:00\",\"2021-03-21T00:00:00+00:00\",\"2021-03-20T00:00:00+00:00\",\"2021-03-19T00:00:00+00:00\",\"2021-03-18T00:00:00+00:00\",\"2021-03-17T00:00:00+00:00\",\"2021-03-16T00:00:00+00:00\",\"2021-03-15T00:00:00+00:00\",\"2021-03-14T00:00:00+00:00\",\"2021-03-13T00:00:00+00:00\",\"2021-03-12T00:00:00+00:00\",\"2021-03-11T00:00:00+00:00\",\"2021-03-10T00:00:00+00:00\",\"2021-03-09T00:00:00+00:00\"],\"xaxis\":\"x\",\"y\":[0.04488662656177696,0.055692459339576145,0.06443556443556443,0.043931905546403076,0.055665675586389164,0.0793981110933248,0.09337676438653637,0.06678635547576302,0.0881585811163276,0.07358674463937621,0.072852617849823,0.11855388813096862,0.10465405674464907,0.07192693137130535,0.05051533273953429,0.05434366628396479,0.06505771248688352,0.04385696821515892,0.07892172783371225,0.0740327003148167,0.06769340974212035,0.08541033434650457,0.11592458884877657,0.08677896886166411,0.06924988703117939,0.05554504163512491,0.04247429630878139,0.0503698224852071,0.0537078969714124,0.07801568793724825,0.06335128286347799,0.048898481690979455,0.04960475741533106,0.05845980888139404,0.07909410064018724,0.07543507362784471,0.1265474552957359,0.15527318932655654,0.10845295055821372,0.1230140717203813,0.08738080633469024,0.09603610850426778,0.08483519750287986,0.08442503639010189,0.11729260089686099,0.09533184416764472,0.09632716853347226,0.07812708806628357,0.07961086156693678,0.13461839224272756,0.202617669267556,0.2463079491460126,0.22598850848264374,0.2511216175435067,0.2935985471880143,0.2845719997144285,0.25163970266724967,0.2823379923761118,0.31890359168241966,0.3658091356766853,0.35737388163145295,0.23386546595715652,0.16376235605829004,0.0906608410704533,0.057349031522977593,0.07383177570093458,0.06750366867764553,0.07606628633523499,0.11081234078686669,0.1682207055657022,0.13157894736842105,0.08398133748055987,0.11551155115511551,0.21374127750939345,0.2170175438596491,0.055615784908933215,0.050663776754267136,0.03847260865393841,0.03908171631593332,0.05993247045582442,0.04064378119588469,0.04428617675623179,0.03199137311286844,0.02000479156684236,0.018754112744022812,0.03755715218811234,0.029160063391442156,0.021086332523735925,0.021176268861454045,0.04825174825174825,0.030640480529121956,0.03642572566875356,0.03441742974423745,0.031563421828908554,0.027552674230145867,0.0321060382916053,0.027352460234874386,0.017983574058340415,0.022362448798848664,0.032654284002396644,0.025829255029907558,0.0303871916353537,0.03891206675224647,0.018446870250103633,0.028843762950683798,0.03679283679283679,0.05956678700361011,0.03035878564857406,0.03110796889203111,0.026506671442643504,0.02844470157169029,0.029411764705882353,0.061415109935526534,0.08078175895765473,0.07123910572186434,0.09632089933571794,0.06541594667983214,0.028407823306313675,0.032444793825484174,0.033190241859491154,0.05147110953562566,0.06875,0.053918116889648926,0.06099553425552772,0.09533868469229687,0.12594322673374056,0.13569576490924806,0.07198302001212856,0.06459102902374671,0.05871388630009319,0.09857222702098471,0.16630920464700624,0.07258387916054003,0.08409873708381171,0.062284588872476614,0.05931410092758063,0.10462509341526198,0.11076443057722309],\"yaxis\":\"y\"}],                        {\"annotations\":[{\"align\":\"right\",\"height\":40,\"showarrow\":false,\"text\":\"<a style=\\\"color: rgb(100, 130, 180);\\\" href=\\\"https://beneath.dev/\\\">beneath.dev</a>\",\"x\":1.0,\"xanchor\":\"right\",\"xref\":\"paper\",\"y\":1.0,\"yanchor\":\"bottom\",\"yref\":\"paper\",\"yshift\":13},{\"align\":\"left\",\"font\":{\"size\":12},\"height\":16,\"showarrow\":false,\"text\":\"Share of mentions across all stocks on r/wallstreetbets\",\"x\":0.0,\"xanchor\":\"left\",\"xref\":\"paper\",\"y\":1.0,\"yanchor\":\"bottom\",\"yref\":\"paper\",\"yshift\":13},{\"align\":\"left\",\"font\":{\"size\":18},\"height\":24,\"showarrow\":false,\"text\":\"<b>Relative interest in GME and AMC has declined</b>\",\"x\":0.0,\"xanchor\":\"left\",\"xref\":\"paper\",\"y\":1.0,\"yanchor\":\"bottom\",\"yref\":\"paper\",\"yshift\":29}],\"colorway\":[\"rgb(60, 170, 255)\",\"rgb(255, 60, 130)\",\"rgb(100, 200, 100)\",\"rgb(200, 220, 240)\",\"rgb(251, 241, 67)\",\"rgb(203, 60, 255)\",\"rgb(249, 148, 66)\",\"rgb(36, 130, 36)\",\"rgb(238, 255, 234)\"],\"dragmode\":\"select\",\"font\":{\"color\":\"#e1e1e1\",\"family\":\"SFMono-Regular,Menlo,Monaco,Consolas,Liberation Mono,Courier,monospace\"},\"legend\":{\"orientation\":\"h\",\"title\":{\"text\":\"Symbol\"},\"tracegroupgap\":0,\"x\":0,\"y\":-0.1,\"yanchor\":\"top\"},\"margin\":{\"autoexpand\":true,\"b\":30,\"l\":35,\"r\":20,\"t\":68},\"paper_bgcolor\":\"#1b2442\",\"plot_bgcolor\":\"#1b2442\",\"template\":{\"data\":{\"bar\":[{\"error_x\":{\"color\":\"#2a3f5f\"},\"error_y\":{\"color\":\"#2a3f5f\"},\"marker\":{\"line\":{\"color\":\"#E5ECF6\",\"width\":0.5},\"pattern\":{\"fillmode\":\"overlay\",\"size\":10,\"solidity\":0.2}},\"type\":\"bar\"}],\"barpolar\":[{\"marker\":{\"line\":{\"color\":\"#E5ECF6\",\"width\":0.5},\"pattern\":{\"fillmode\":\"overlay\",\"size\":10,\"solidity\":0.2}},\"type\":\"barpolar\"}],\"carpet\":[{\"aaxis\":{\"endlinecolor\":\"#2a3f5f\",\"gridcolor\":\"white\",\"linecolor\":\"white\",\"minorgridcolor\":\"white\",\"startlinecolor\":\"#2a3f5f\"},\"baxis\":{\"endlinecolor\":\"#2a3f5f\",\"gridcolor\":\"white\",\"linecolor\":\"white\",\"minorgridcolor\":\"white\",\"startlinecolor\":\"#2a3f5f\"},\"type\":\"carpet\"}],\"choropleth\":[{\"colorbar\":{\"outlinewidth\":0,\"ticks\":\"\"},\"type\":\"choropleth\"}],\"contour\":[{\"colorbar\":{\"outlinewidth\":0,\"ticks\":\"\"},\"colorscale\":[[0.0,\"#0d0887\"],[0.1111111111111111,\"#46039f\"],[0.2222222222222222,\"#7201a8\"],[0.3333333333333333,\"#9c179e\"],[0.4444444444444444,\"#bd3786\"],[0.5555555555555556,\"#d8576b\"],[0.6666666666666666,\"#ed7953\"],[0.7777777777777778,\"#fb9f3a\"],[0.8888888888888888,\"#fdca26\"],[1.0,\"#f0f921\"]],\"type\":\"contour\"}],\"contourcarpet\":[{\"colorbar\":{\"outlinewidth\":0,\"ticks\":\"\"},\"type\":\"contourcarpet\"}],\"heatmap\":[{\"colorbar\":{\"outlinewidth\":0,\"ticks\":\"\"},\"colorscale\":[[0.0,\"#0d0887\"],[0.1111111111111111,\"#46039f\"],[0.2222222222222222,\"#7201a8\"],[0.3333333333333333,\"#9c179e\"],[0.4444444444444444,\"#bd3786\"],[0.5555555555555556,\"#d8576b\"],[0.6666666666666666,\"#ed7953\"],[0.7777777777777778,\"#fb9f3a\"],[0.8888888888888888,\"#fdca26\"],[1.0,\"#f0f921\"]],\"type\":\"heatmap\"}],\"heatmapgl\":[{\"colorbar\":{\"outlinewidth\":0,\"ticks\":\"\"},\"colorscale\":[[0.0,\"#0d0887\"],[0.1111111111111111,\"#46039f\"],[0.2222222222222222,\"#7201a8\"],[0.3333333333333333,\"#9c179e\"],[0.4444444444444444,\"#bd3786\"],[0.5555555555555556,\"#d8576b\"],[0.6666666666666666,\"#ed7953\"],[0.7777777777777778,\"#fb9f3a\"],[0.8888888888888888,\"#fdca26\"],[1.0,\"#f0f921\"]],\"type\":\"heatmapgl\"}],\"histogram\":[{\"marker\":{\"pattern\":{\"fillmode\":\"overlay\",\"size\":10,\"solidity\":0.2}},\"type\":\"histogram\"}],\"histogram2d\":[{\"colorbar\":{\"outlinewidth\":0,\"ticks\":\"\"},\"colorscale\":[[0.0,\"#0d0887\"],[0.1111111111111111,\"#46039f\"],[0.2222222222222222,\"#7201a8\"],[0.3333333333333333,\"#9c179e\"],[0.4444444444444444,\"#bd3786\"],[0.5555555555555556,\"#d8576b\"],[0.6666666666666666,\"#ed7953\"],[0.7777777777777778,\"#fb9f3a\"],[0.8888888888888888,\"#fdca26\"],[1.0,\"#f0f921\"]],\"type\":\"histogram2d\"}],\"histogram2dcontour\":[{\"colorbar\":{\"outlinewidth\":0,\"ticks\":\"\"},\"colorscale\":[[0.0,\"#0d0887\"],[0.1111111111111111,\"#46039f\"],[0.2222222222222222,\"#7201a8\"],[0.3333333333333333,\"#9c179e\"],[0.4444444444444444,\"#bd3786\"],[0.5555555555555556,\"#d8576b\"],[0.6666666666666666,\"#ed7953\"],[0.7777777777777778,\"#fb9f3a\"],[0.8888888888888888,\"#fdca26\"],[1.0,\"#f0f921\"]],\"type\":\"histogram2dcontour\"}],\"mesh3d\":[{\"colorbar\":{\"outlinewidth\":0,\"ticks\":\"\"},\"type\":\"mesh3d\"}],\"parcoords\":[{\"line\":{\"colorbar\":{\"outlinewidth\":0,\"ticks\":\"\"}},\"type\":\"parcoords\"}],\"pie\":[{\"automargin\":true,\"type\":\"pie\"}],\"scatter\":[{\"marker\":{\"colorbar\":{\"outlinewidth\":0,\"ticks\":\"\"}},\"type\":\"scatter\"}],\"scatter3d\":[{\"line\":{\"colorbar\":{\"outlinewidth\":0,\"ticks\":\"\"}},\"marker\":{\"colorbar\":{\"outlinewidth\":0,\"ticks\":\"\"}},\"type\":\"scatter3d\"}],\"scattercarpet\":[{\"marker\":{\"colorbar\":{\"outlinewidth\":0,\"ticks\":\"\"}},\"type\":\"scattercarpet\"}],\"scattergeo\":[{\"marker\":{\"colorbar\":{\"outlinewidth\":0,\"ticks\":\"\"}},\"type\":\"scattergeo\"}],\"scattergl\":[{\"marker\":{\"colorbar\":{\"outlinewidth\":0,\"ticks\":\"\"}},\"type\":\"scattergl\"}],\"scattermapbox\":[{\"marker\":{\"colorbar\":{\"outlinewidth\":0,\"ticks\":\"\"}},\"type\":\"scattermapbox\"}],\"scatterpolar\":[{\"marker\":{\"colorbar\":{\"outlinewidth\":0,\"ticks\":\"\"}},\"type\":\"scatterpolar\"}],\"scatterpolargl\":[{\"marker\":{\"colorbar\":{\"outlinewidth\":0,\"ticks\":\"\"}},\"type\":\"scatterpolargl\"}],\"scatterternary\":[{\"marker\":{\"colorbar\":{\"outlinewidth\":0,\"ticks\":\"\"}},\"type\":\"scatterternary\"}],\"surface\":[{\"colorbar\":{\"outlinewidth\":0,\"ticks\":\"\"},\"colorscale\":[[0.0,\"#0d0887\"],[0.1111111111111111,\"#46039f\"],[0.2222222222222222,\"#7201a8\"],[0.3333333333333333,\"#9c179e\"],[0.4444444444444444,\"#bd3786\"],[0.5555555555555556,\"#d8576b\"],[0.6666666666666666,\"#ed7953\"],[0.7777777777777778,\"#fb9f3a\"],[0.8888888888888888,\"#fdca26\"],[1.0,\"#f0f921\"]],\"type\":\"surface\"}],\"table\":[{\"cells\":{\"fill\":{\"color\":\"#EBF0F8\"},\"line\":{\"color\":\"white\"}},\"header\":{\"fill\":{\"color\":\"#C8D4E3\"},\"line\":{\"color\":\"white\"}},\"type\":\"table\"}]},\"layout\":{\"annotationdefaults\":{\"arrowcolor\":\"#2a3f5f\",\"arrowhead\":0,\"arrowwidth\":1},\"autotypenumbers\":\"strict\",\"coloraxis\":{\"colorbar\":{\"outlinewidth\":0,\"ticks\":\"\"}},\"colorscale\":{\"diverging\":[[0,\"#8e0152\"],[0.1,\"#c51b7d\"],[0.2,\"#de77ae\"],[0.3,\"#f1b6da\"],[0.4,\"#fde0ef\"],[0.5,\"#f7f7f7\"],[0.6,\"#e6f5d0\"],[0.7,\"#b8e186\"],[0.8,\"#7fbc41\"],[0.9,\"#4d9221\"],[1,\"#276419\"]],\"sequential\":[[0.0,\"#0d0887\"],[0.1111111111111111,\"#46039f\"],[0.2222222222222222,\"#7201a8\"],[0.3333333333333333,\"#9c179e\"],[0.4444444444444444,\"#bd3786\"],[0.5555555555555556,\"#d8576b\"],[0.6666666666666666,\"#ed7953\"],[0.7777777777777778,\"#fb9f3a\"],[0.8888888888888888,\"#fdca26\"],[1.0,\"#f0f921\"]],\"sequentialminus\":[[0.0,\"#0d0887\"],[0.1111111111111111,\"#46039f\"],[0.2222222222222222,\"#7201a8\"],[0.3333333333333333,\"#9c179e\"],[0.4444444444444444,\"#bd3786\"],[0.5555555555555556,\"#d8576b\"],[0.6666666666666666,\"#ed7953\"],[0.7777777777777778,\"#fb9f3a\"],[0.8888888888888888,\"#fdca26\"],[1.0,\"#f0f921\"]]},\"colorway\":[\"#636efa\",\"#EF553B\",\"#00cc96\",\"#ab63fa\",\"#FFA15A\",\"#19d3f3\",\"#FF6692\",\"#B6E880\",\"#FF97FF\",\"#FECB52\"],\"font\":{\"color\":\"#2a3f5f\"},\"geo\":{\"bgcolor\":\"white\",\"lakecolor\":\"white\",\"landcolor\":\"#E5ECF6\",\"showlakes\":true,\"showland\":true,\"subunitcolor\":\"white\"},\"hoverlabel\":{\"align\":\"left\"},\"hovermode\":\"closest\",\"mapbox\":{\"style\":\"light\"},\"paper_bgcolor\":\"white\",\"plot_bgcolor\":\"#E5ECF6\",\"polar\":{\"angularaxis\":{\"gridcolor\":\"white\",\"linecolor\":\"white\",\"ticks\":\"\"},\"bgcolor\":\"#E5ECF6\",\"radialaxis\":{\"gridcolor\":\"white\",\"linecolor\":\"white\",\"ticks\":\"\"}},\"scene\":{\"xaxis\":{\"backgroundcolor\":\"#E5ECF6\",\"gridcolor\":\"white\",\"gridwidth\":2,\"linecolor\":\"white\",\"showbackground\":true,\"ticks\":\"\",\"zerolinecolor\":\"white\"},\"yaxis\":{\"backgroundcolor\":\"#E5ECF6\",\"gridcolor\":\"white\",\"gridwidth\":2,\"linecolor\":\"white\",\"showbackground\":true,\"ticks\":\"\",\"zerolinecolor\":\"white\"},\"zaxis\":{\"backgroundcolor\":\"#E5ECF6\",\"gridcolor\":\"white\",\"gridwidth\":2,\"linecolor\":\"white\",\"showbackground\":true,\"ticks\":\"\",\"zerolinecolor\":\"white\"}},\"shapedefaults\":{\"line\":{\"color\":\"#2a3f5f\"}},\"ternary\":{\"aaxis\":{\"gridcolor\":\"white\",\"linecolor\":\"white\",\"ticks\":\"\"},\"baxis\":{\"gridcolor\":\"white\",\"linecolor\":\"white\",\"ticks\":\"\"},\"bgcolor\":\"#E5ECF6\",\"caxis\":{\"gridcolor\":\"white\",\"linecolor\":\"white\",\"ticks\":\"\"}},\"title\":{\"x\":0.05},\"xaxis\":{\"automargin\":true,\"gridcolor\":\"white\",\"linecolor\":\"white\",\"ticks\":\"\",\"title\":{\"standoff\":15},\"zerolinecolor\":\"white\",\"zerolinewidth\":2},\"yaxis\":{\"automargin\":true,\"gridcolor\":\"white\",\"linecolor\":\"white\",\"ticks\":\"\",\"title\":{\"standoff\":15},\"zerolinecolor\":\"white\",\"zerolinewidth\":2}}},\"title\":{\"font\":{\"color\":\"#1b2442\",\"size\":1},\"text\":\"Relative interest in GME and AMC has declined\"},\"xaxis\":{\"anchor\":\"y\",\"domain\":[0.0,1.0],\"gridcolor\":\"rgb(44, 53, 72)\",\"title\":{\"text\":\"\"},\"zerolinecolor\":\"#e1e1e1\"},\"yaxis\":{\"anchor\":\"x\",\"domain\":[0.0,1.0],\"gridcolor\":\"rgb(44, 53, 72)\",\"title\":{\"text\":\"Fraction of mentions\"},\"zerolinecolor\":\"#e1e1e1\"}},                        {\"responsive\": true}                    ).then(function(){\n",
       "                            \n",
       "var gd = document.getElementById('53dd4740-597b-49f2-838b-c6697a930943');\n",
       "var x = new MutationObserver(function (mutations, observer) {{\n",
       "        var display = window.getComputedStyle(gd).display;\n",
       "        if (!display || display === 'none') {{\n",
       "            console.log([gd, 'removed!']);\n",
       "            Plotly.purge(gd);\n",
       "            observer.disconnect();\n",
       "        }}\n",
       "}});\n",
       "\n",
       "// Listen for the removal of the full notebook cells\n",
       "var notebookContainer = gd.closest('#notebook-container');\n",
       "if (notebookContainer) {{\n",
       "    x.observe(notebookContainer, {childList: true});\n",
       "}}\n",
       "\n",
       "// Listen for the clearing of the current output cell\n",
       "var outputEl = gd.closest('.output');\n",
       "if (outputEl) {{\n",
       "    x.observe(outputEl, {childList: true});\n",
       "}}\n",
       "\n",
       "                        })                };                });            </script>        </div>"
      ]
     },
     "metadata": {},
     "output_type": "display_data"
    }
   ],
   "source": [
    "# symbols_to_graph = top_symbols_month[0:10]\n",
    "symbols_to_graph = ['AMC', 'GME']\n",
    "fig = px.line(tmp[tmp['symbol'].isin(symbols_to_graph)].sort_values('day', ascending=False), \n",
    "              x=\"day\",\n",
    "              y=\"fraction_of_mentions\", \n",
    "              line_group=\"symbol\",\n",
    "              color=\"symbol\", \n",
    "              labels={'day': 'Day', 'fraction_of_mentions': 'Fraction of mentions', 'symbol': 'Symbol'},\n",
    "            )\n",
    "fig.update_layout(\n",
    "    make_layout(\n",
    "        title=\"Relative interest in GME and AMC has declined\",\n",
    "        subtitle=\"Share of mentions across all stocks on r/wallstreetbets\",\n",
    "        source_hidden=False,\n",
    "        legend=True,\n",
    "        override={\n",
    "            'xaxis': {\n",
    "                'title': ''\n",
    "            }\n",
    "        },\n",
    "    )\n",
    ")\n",
    "fig.show()"
   ]
  },
  {
   "cell_type": "code",
   "execution_count": 105,
   "id": "d0b1b284",
   "metadata": {},
   "outputs": [
    {
     "data": {
      "application/vnd.plotly.v1+json": {
       "config": {
        "plotlyServerURL": "https://plot.ly"
       },
       "data": [
        {
         "hovertemplate": "Symbol=SPCE<br>Day=%{x}<br>Fraction of mentions=%{y}<extra></extra>",
         "legendgroup": "SPCE",
         "line": {
          "color": "#636efa",
          "dash": "solid"
         },
         "mode": "lines",
         "name": "SPCE",
         "orientation": "v",
         "showlegend": true,
         "type": "scatter",
         "x": [
          "2021-07-26T00:00:00+00:00",
          "2021-07-25T00:00:00+00:00",
          "2021-07-24T00:00:00+00:00",
          "2021-07-23T00:00:00+00:00",
          "2021-07-22T00:00:00+00:00",
          "2021-07-21T00:00:00+00:00",
          "2021-07-20T00:00:00+00:00",
          "2021-07-19T00:00:00+00:00",
          "2021-07-18T00:00:00+00:00",
          "2021-07-17T00:00:00+00:00",
          "2021-07-16T00:00:00+00:00",
          "2021-07-15T00:00:00+00:00",
          "2021-07-14T00:00:00+00:00",
          "2021-07-13T00:00:00+00:00",
          "2021-07-12T00:00:00+00:00",
          "2021-07-11T00:00:00+00:00",
          "2021-07-10T00:00:00+00:00",
          "2021-07-09T00:00:00+00:00",
          "2021-07-08T00:00:00+00:00",
          "2021-07-07T00:00:00+00:00",
          "2021-07-06T00:00:00+00:00",
          "2021-07-05T00:00:00+00:00",
          "2021-07-04T00:00:00+00:00",
          "2021-07-03T00:00:00+00:00",
          "2021-07-02T00:00:00+00:00",
          "2021-07-01T00:00:00+00:00",
          "2021-06-30T00:00:00+00:00",
          "2021-06-29T00:00:00+00:00",
          "2021-06-28T00:00:00+00:00",
          "2021-06-27T00:00:00+00:00",
          "2021-06-26T00:00:00+00:00",
          "2021-06-25T00:00:00+00:00",
          "2021-06-24T00:00:00+00:00",
          "2021-06-23T00:00:00+00:00",
          "2021-06-22T00:00:00+00:00",
          "2021-06-21T00:00:00+00:00",
          "2021-06-20T00:00:00+00:00",
          "2021-06-19T00:00:00+00:00",
          "2021-06-18T00:00:00+00:00",
          "2021-06-17T00:00:00+00:00",
          "2021-06-16T00:00:00+00:00",
          "2021-06-15T00:00:00+00:00",
          "2021-06-14T00:00:00+00:00",
          "2021-06-13T00:00:00+00:00",
          "2021-06-12T00:00:00+00:00",
          "2021-06-11T00:00:00+00:00",
          "2021-06-10T00:00:00+00:00",
          "2021-06-09T00:00:00+00:00",
          "2021-06-08T00:00:00+00:00",
          "2021-06-07T00:00:00+00:00",
          "2021-06-06T00:00:00+00:00",
          "2021-06-05T00:00:00+00:00",
          "2021-06-04T00:00:00+00:00",
          "2021-06-03T00:00:00+00:00",
          "2021-06-02T00:00:00+00:00",
          "2021-06-01T00:00:00+00:00",
          "2021-05-31T00:00:00+00:00",
          "2021-05-30T00:00:00+00:00",
          "2021-05-29T00:00:00+00:00",
          "2021-05-28T00:00:00+00:00",
          "2021-05-27T00:00:00+00:00",
          "2021-05-26T00:00:00+00:00",
          "2021-05-25T00:00:00+00:00",
          "2021-05-24T00:00:00+00:00",
          "2021-05-23T00:00:00+00:00",
          "2021-05-22T00:00:00+00:00",
          "2021-05-21T00:00:00+00:00",
          "2021-05-20T00:00:00+00:00",
          "2021-05-19T00:00:00+00:00",
          "2021-05-18T00:00:00+00:00",
          "2021-05-17T00:00:00+00:00",
          "2021-05-16T00:00:00+00:00",
          "2021-05-15T00:00:00+00:00",
          "2021-05-14T00:00:00+00:00",
          "2021-05-13T00:00:00+00:00",
          "2021-05-12T00:00:00+00:00",
          "2021-05-11T00:00:00+00:00",
          "2021-05-10T00:00:00+00:00",
          "2021-05-09T00:00:00+00:00",
          "2021-05-08T00:00:00+00:00",
          "2021-05-07T00:00:00+00:00",
          "2021-05-06T00:00:00+00:00",
          "2021-05-05T00:00:00+00:00",
          "2021-05-04T00:00:00+00:00",
          "2021-05-03T00:00:00+00:00",
          "2021-05-02T00:00:00+00:00",
          "2021-05-01T00:00:00+00:00",
          "2021-04-30T00:00:00+00:00",
          "2021-04-29T00:00:00+00:00",
          "2021-04-28T00:00:00+00:00",
          "2021-04-27T00:00:00+00:00",
          "2021-04-26T00:00:00+00:00",
          "2021-04-25T00:00:00+00:00",
          "2021-04-24T00:00:00+00:00",
          "2021-04-23T00:00:00+00:00",
          "2021-04-22T00:00:00+00:00",
          "2021-04-21T00:00:00+00:00",
          "2021-04-20T00:00:00+00:00",
          "2021-04-19T00:00:00+00:00",
          "2021-04-18T00:00:00+00:00",
          "2021-04-17T00:00:00+00:00",
          "2021-04-16T00:00:00+00:00",
          "2021-04-15T00:00:00+00:00",
          "2021-04-14T00:00:00+00:00",
          "2021-04-13T00:00:00+00:00",
          "2021-04-12T00:00:00+00:00",
          "2021-04-11T00:00:00+00:00",
          "2021-04-10T00:00:00+00:00",
          "2021-04-09T00:00:00+00:00",
          "2021-04-08T00:00:00+00:00",
          "2021-04-07T00:00:00+00:00",
          "2021-04-06T00:00:00+00:00",
          "2021-04-05T00:00:00+00:00",
          "2021-04-03T00:00:00+00:00",
          "2021-04-02T00:00:00+00:00",
          "2021-04-01T00:00:00+00:00",
          "2021-03-31T00:00:00+00:00",
          "2021-03-30T00:00:00+00:00",
          "2021-03-29T00:00:00+00:00",
          "2021-03-26T00:00:00+00:00",
          "2021-03-25T00:00:00+00:00",
          "2021-03-24T00:00:00+00:00",
          "2021-03-23T00:00:00+00:00",
          "2021-03-22T00:00:00+00:00",
          "2021-03-21T00:00:00+00:00",
          "2021-03-20T00:00:00+00:00",
          "2021-03-19T00:00:00+00:00",
          "2021-03-18T00:00:00+00:00",
          "2021-03-17T00:00:00+00:00",
          "2021-03-16T00:00:00+00:00",
          "2021-03-15T00:00:00+00:00",
          "2021-03-14T00:00:00+00:00",
          "2021-03-13T00:00:00+00:00",
          "2021-03-12T00:00:00+00:00",
          "2021-03-11T00:00:00+00:00",
          "2021-03-10T00:00:00+00:00",
          "2021-03-09T00:00:00+00:00"
         ],
         "xaxis": "x",
         "y": [
          0.002776492364645997,
          0.0024642681123706258,
          0.003996003996003996,
          0.006955885044847154,
          0.006607201850016518,
          0.00896430286537538,
          0.021353601158161418,
          0.03177737881508079,
          0.015127803860198226,
          0.028752436647173488,
          0.030929755915781627,
          0.026875852660300136,
          0.04106520657043305,
          0.04757072180641888,
          0.1804300801628706,
          0.3168771526980482,
          0.0776495278069255,
          0.09046454767726161,
          0.09115513694922595,
          0.01878744795369148,
          0.027578796561604585,
          0.024620060790273558,
          0.029281989570798236,
          0.025523226135783564,
          0.096475372797108,
          0.03624148372445117,
          0.026125063205798077,
          0.026183431952662723,
          0.030568921596377016,
          0.03497986008055968,
          0.053531834019638895,
          0.08663292646621018,
          0.005221553412140111,
          0.00941540191118606,
          0.012597232739037654,
          0.002677376171352075,
          0.004676753782668501,
          0.0035578144853875477,
          0.002843076069620692,
          0.002837040399455288,
          0.0031227346233201362,
          0.003664476918264289,
          0.0031957192226227194,
          0.002911208151382824,
          0.002942825112107623,
          0.004581077499716049,
          0.004063558218286012,
          0.002639315782440198,
          0.00519152201882491,
          0.008093525179856115,
          0.0031462371004278883,
          0.0023115448824964683,
          0.003331860061877401,
          0.00444623277336284,
          0.005618296350944896,
          0.009352466623830942,
          0.011587232181897682,
          0.012706480304955527,
          0.01285444234404537,
          0.01914586517235524,
          0.029319107825429496,
          0.025378632828489563,
          0.07133394476714562,
          0.1567449481157837,
          0.1226737561716673,
          0.11542056074766355,
          0.04418718408609164,
          0.03572398804672643,
          0.0016982734220209455,
          0.002114774584254542,
          0.0014565935133035541,
          0.0011664074650077762,
          0.0012376237623762376,
          0.001932367149758454,
          0.002543859649122807,
          0.005854293148308759,
          0.012462747222974803,
          0.009786050081550417,
          0.002732987154960372,
          0.0019696117051209903,
          0.002444738718549455,
          0.00407898996438977,
          0.002875629043853343,
          0.005630091039770004,
          0.004606273305549463,
          0.004898758981058132,
          0.005388272583201268,
          0.0016559947008169575,
          0.0016289437585733882,
          0.0017482517482517483,
          0.0024296416278598906,
          0.0013009187738840557,
          0.0006315124723713293,
          0.0017699115044247787,
          0.0009454349000540249,
          0.003387334315169367,
          0.005500222982012784,
          0.00821297082979326,
          0.0025462194176906895,
          0.0038945476333133613,
          0.004078303425774877,
          0.004492729946087241,
          0.010831193838254172,
          0.0017963244438303164,
          0.00256941566514712,
          0.0031746031746031746,
          0.0012033694344163659,
          0.0012266176019625882,
          0.001312998687001313,
          0.001432793050953703,
          0.002217722495419921,
          0.0013544891640866873,
          0.0019011406844106464,
          0.0011367942402425162,
          0.0002554931016862545,
          0.0006582736772813297,
          0.0007436602959767978,
          0.002143929107410848,
          0.004502146372107632,
          0.002197802197802198,
          0.0008177570093457944,
          0.0011065285182577204,
          0.0008169044766365319,
          0.0011266018870581607,
          0.0016169601149838304,
          0.0005185825410544512,
          0.0006064281382656155,
          0.0005804749340369394,
          0.001315717340058111,
          0.0016259336415832529,
          0.0014745308310991957,
          0.0018714075658334448,
          0.0018656716417910447,
          0.0022156573116691287,
          0.002808271636456472,
          0.0012178582302305627,
          0.0026001040041601664
         ],
         "yaxis": "y"
        },
        {
         "hovertemplate": "Symbol=CLOV<br>Day=%{x}<br>Fraction of mentions=%{y}<extra></extra>",
         "legendgroup": "CLOV",
         "line": {
          "color": "#EF553B",
          "dash": "solid"
         },
         "mode": "lines",
         "name": "CLOV",
         "orientation": "v",
         "showlegend": true,
         "type": "scatter",
         "x": [
          "2021-07-26T00:00:00+00:00",
          "2021-07-25T00:00:00+00:00",
          "2021-07-24T00:00:00+00:00",
          "2021-07-23T00:00:00+00:00",
          "2021-07-22T00:00:00+00:00",
          "2021-07-21T00:00:00+00:00",
          "2021-07-20T00:00:00+00:00",
          "2021-07-19T00:00:00+00:00",
          "2021-07-18T00:00:00+00:00",
          "2021-07-17T00:00:00+00:00",
          "2021-07-16T00:00:00+00:00",
          "2021-07-15T00:00:00+00:00",
          "2021-07-14T00:00:00+00:00",
          "2021-07-13T00:00:00+00:00",
          "2021-07-12T00:00:00+00:00",
          "2021-07-11T00:00:00+00:00",
          "2021-07-10T00:00:00+00:00",
          "2021-07-09T00:00:00+00:00",
          "2021-07-08T00:00:00+00:00",
          "2021-07-07T00:00:00+00:00",
          "2021-07-06T00:00:00+00:00",
          "2021-07-05T00:00:00+00:00",
          "2021-07-04T00:00:00+00:00",
          "2021-07-03T00:00:00+00:00",
          "2021-07-02T00:00:00+00:00",
          "2021-07-01T00:00:00+00:00",
          "2021-06-30T00:00:00+00:00",
          "2021-06-29T00:00:00+00:00",
          "2021-06-28T00:00:00+00:00",
          "2021-06-27T00:00:00+00:00",
          "2021-06-26T00:00:00+00:00",
          "2021-06-25T00:00:00+00:00",
          "2021-06-24T00:00:00+00:00",
          "2021-06-23T00:00:00+00:00",
          "2021-06-22T00:00:00+00:00",
          "2021-06-21T00:00:00+00:00",
          "2021-06-20T00:00:00+00:00",
          "2021-06-19T00:00:00+00:00",
          "2021-06-18T00:00:00+00:00",
          "2021-06-17T00:00:00+00:00",
          "2021-06-16T00:00:00+00:00",
          "2021-06-15T00:00:00+00:00",
          "2021-06-14T00:00:00+00:00",
          "2021-06-13T00:00:00+00:00",
          "2021-06-12T00:00:00+00:00",
          "2021-06-11T00:00:00+00:00",
          "2021-06-10T00:00:00+00:00",
          "2021-06-09T00:00:00+00:00",
          "2021-06-08T00:00:00+00:00",
          "2021-06-07T00:00:00+00:00",
          "2021-06-06T00:00:00+00:00",
          "2021-06-05T00:00:00+00:00",
          "2021-06-04T00:00:00+00:00",
          "2021-06-03T00:00:00+00:00",
          "2021-06-02T00:00:00+00:00",
          "2021-06-01T00:00:00+00:00",
          "2021-05-31T00:00:00+00:00",
          "2021-05-30T00:00:00+00:00",
          "2021-05-29T00:00:00+00:00",
          "2021-05-28T00:00:00+00:00",
          "2021-05-27T00:00:00+00:00",
          "2021-05-26T00:00:00+00:00",
          "2021-05-25T00:00:00+00:00",
          "2021-05-24T00:00:00+00:00",
          "2021-05-23T00:00:00+00:00",
          "2021-05-22T00:00:00+00:00",
          "2021-05-21T00:00:00+00:00",
          "2021-05-20T00:00:00+00:00",
          "2021-05-19T00:00:00+00:00",
          "2021-05-18T00:00:00+00:00",
          "2021-05-17T00:00:00+00:00",
          "2021-05-16T00:00:00+00:00",
          "2021-05-15T00:00:00+00:00",
          "2021-05-14T00:00:00+00:00",
          "2021-05-13T00:00:00+00:00",
          "2021-05-12T00:00:00+00:00",
          "2021-05-11T00:00:00+00:00",
          "2021-05-10T00:00:00+00:00",
          "2021-05-09T00:00:00+00:00",
          "2021-05-08T00:00:00+00:00",
          "2021-05-07T00:00:00+00:00",
          "2021-05-06T00:00:00+00:00",
          "2021-05-05T00:00:00+00:00",
          "2021-05-04T00:00:00+00:00",
          "2021-05-03T00:00:00+00:00",
          "2021-05-02T00:00:00+00:00",
          "2021-05-01T00:00:00+00:00",
          "2021-04-30T00:00:00+00:00",
          "2021-04-29T00:00:00+00:00",
          "2021-04-28T00:00:00+00:00",
          "2021-04-27T00:00:00+00:00",
          "2021-04-26T00:00:00+00:00",
          "2021-04-25T00:00:00+00:00",
          "2021-04-24T00:00:00+00:00",
          "2021-04-23T00:00:00+00:00",
          "2021-04-22T00:00:00+00:00",
          "2021-04-21T00:00:00+00:00",
          "2021-04-20T00:00:00+00:00",
          "2021-04-19T00:00:00+00:00",
          "2021-04-18T00:00:00+00:00",
          "2021-04-17T00:00:00+00:00",
          "2021-04-16T00:00:00+00:00",
          "2021-04-15T00:00:00+00:00",
          "2021-04-14T00:00:00+00:00",
          "2021-04-13T00:00:00+00:00",
          "2021-04-12T00:00:00+00:00",
          "2021-04-11T00:00:00+00:00",
          "2021-04-10T00:00:00+00:00",
          "2021-04-09T00:00:00+00:00",
          "2021-04-08T00:00:00+00:00",
          "2021-04-07T00:00:00+00:00",
          "2021-04-06T00:00:00+00:00",
          "2021-04-02T00:00:00+00:00",
          "2021-04-01T00:00:00+00:00",
          "2021-03-31T00:00:00+00:00",
          "2021-03-30T00:00:00+00:00",
          "2021-03-29T00:00:00+00:00",
          "2021-03-26T00:00:00+00:00",
          "2021-03-25T00:00:00+00:00",
          "2021-03-24T00:00:00+00:00",
          "2021-03-23T00:00:00+00:00",
          "2021-03-22T00:00:00+00:00",
          "2021-03-21T00:00:00+00:00",
          "2021-03-19T00:00:00+00:00",
          "2021-03-18T00:00:00+00:00",
          "2021-03-17T00:00:00+00:00",
          "2021-03-16T00:00:00+00:00",
          "2021-03-15T00:00:00+00:00",
          "2021-03-14T00:00:00+00:00",
          "2021-03-13T00:00:00+00:00",
          "2021-03-12T00:00:00+00:00",
          "2021-03-11T00:00:00+00:00",
          "2021-03-10T00:00:00+00:00",
          "2021-03-09T00:00:00+00:00"
         ],
         "xaxis": "x",
         "y": [
          0.035168903285515966,
          0.037456875308033516,
          0.03196803196803197,
          0.058209774848984076,
          0.11826891311529568,
          0.11397470785977269,
          0.04451682953311618,
          0.03877917414721724,
          0.04277516953573292,
          0.034600389863547756,
          0.03856903297931805,
          0.036289222373806274,
          0.04828272772523644,
          0.0748446023087657,
          0.08983331212622471,
          0.04247990815154994,
          0.048268625393494226,
          0.04477383863080685,
          0.04546930821695356,
          0.0733218239057581,
          0.09897325692454632,
          0.06048632218844985,
          0.045326915363016446,
          0.055640632976008166,
          0.060212381382738364,
          0.06330431491294473,
          0.06775661554019889,
          0.09326923076923077,
          0.053778658363996604,
          0.07017171931312274,
          0.06841938549255623,
          0.059020541827924974,
          0.09899195010515628,
          0.10792580101180438,
          0.10332484339505747,
          0.04176706827309237,
          0.0624484181568088,
          0.03532401524777637,
          0.0323833298661674,
          0.03029959146618248,
          0.05085596386549936,
          0.05331367028645484,
          0.05975251755787596,
          0.06817079087821445,
          0.06838565022421525,
          0.09544542460152197,
          0.08335504037509768,
          0.12040625417613257,
          0.16795702322641806,
          0.1010322177040976,
          0.0445507173420589,
          0.016822909978168744,
          0.016931288885866792,
          0.02271401267478121,
          0.021054423698995517,
          0.004212179624473477,
          0.00765194578049847,
          0.010419313850063533,
          0.00831758034026465,
          0.007768721344880285,
          0.010207081950686772,
          0.006753990994678674,
          0.004687659227555284,
          0.009011469142545057,
          0.008735282947208508,
          0.003738317757009346,
          0.01271808250448394,
          0.016843249117087747,
          0.005802434191904897,
          0.015572431029510718,
          0.05136919790250534,
          0.03382581648522551,
          0.023514851485148515,
          0.017176596886741814,
          0.007631578947368421,
          0.016045099739809193,
          0.008850356723561817,
          0.011033291758610765,
          0.025416780541131456,
          0.018851997749015192,
          0.014872160537842518,
          0.013531887342181937,
          0.020129403306973402,
          0.02467656923814087,
          0.04715946479491116,
          0.07119529719137818,
          0.027258320126782885,
          0.04901744314418194,
          0.08762002743484225,
          0.059702797202797205,
          0.008908685968819599,
          0.01219611350516302,
          0.012630249447426587,
          0.01592920353982301,
          0.019043760129659644,
          0.013107511045655376,
          0.03731232347257321,
          0.06655338431039366,
          0.10450570131739179,
          0.07159976033553025,
          0.05655247417074497,
          0.0702499591570005,
          0.0008023106546854943,
          0.0002763576067431256,
          0.0003315375051802735,
          0.0004884004884004884,
          0.00030084235860409147,
          0.0009199632014719411,
          0.002120997879002121,
          0.007969911345929972,
          9.642271719217047e-05,
          0.00048374613003095975,
          0.000510986203372509,
          0.00016456841932033242,
          0.0002974641183907191,
          0.0001429286071607232,
          0.00020940215684221548,
          7.089684509039348e-05,
          0.00023364485981308412,
          0.0003520772558092747,
          0.00010892059688487092,
          7.041261794113505e-05,
          0.0005389867049946101,
          0.0003638568829593693,
          0.000158311345646438,
          0.0003289293350145277,
          0.0004064834103958132,
          0.0003127792672028597,
          0.0009357037829167224,
          0.0002870264064293915,
          9.847365829640571e-05,
          0.00038294613224406433,
          0.0001660715768496222,
          0.0001733402669440111
         ],
         "yaxis": "y"
        }
       ],
       "layout": {
        "annotations": [
         {
          "align": "right",
          "height": 40,
          "showarrow": false,
          "text": "<a style=\"color: rgb(100, 130, 180);\" href=\"https://beneath.dev/\">beneath.dev</a>",
          "x": 1,
          "xanchor": "right",
          "xref": "paper",
          "y": 1,
          "yanchor": "bottom",
          "yref": "paper",
          "yshift": 13
         },
         {
          "align": "left",
          "font": {
           "size": 12
          },
          "height": 16,
          "showarrow": false,
          "text": "Share of mentions across all stocks on r/wallstreetbets",
          "x": 0,
          "xanchor": "left",
          "xref": "paper",
          "y": 1,
          "yanchor": "bottom",
          "yref": "paper",
          "yshift": 13
         },
         {
          "align": "left",
          "font": {
           "size": 18
          },
          "height": 24,
          "showarrow": false,
          "text": "<b>Relative interest in CLOV and SPCE has increased</b>",
          "x": 0,
          "xanchor": "left",
          "xref": "paper",
          "y": 1,
          "yanchor": "bottom",
          "yref": "paper",
          "yshift": 29
         }
        ],
        "colorway": [
         "rgb(60, 170, 255)",
         "rgb(255, 60, 130)",
         "rgb(100, 200, 100)",
         "rgb(200, 220, 240)",
         "rgb(251, 241, 67)",
         "rgb(203, 60, 255)",
         "rgb(249, 148, 66)",
         "rgb(36, 130, 36)",
         "rgb(238, 255, 234)"
        ],
        "dragmode": "select",
        "font": {
         "color": "#e1e1e1",
         "family": "SFMono-Regular,Menlo,Monaco,Consolas,Liberation Mono,Courier,monospace"
        },
        "legend": {
         "orientation": "h",
         "title": {
          "text": "Symbol"
         },
         "tracegroupgap": 0,
         "x": 0,
         "y": -0.1,
         "yanchor": "top"
        },
        "margin": {
         "autoexpand": true,
         "b": 30,
         "l": 35,
         "r": 20,
         "t": 68
        },
        "paper_bgcolor": "#1b2442",
        "plot_bgcolor": "#1b2442",
        "template": {
         "data": {
          "bar": [
           {
            "error_x": {
             "color": "#2a3f5f"
            },
            "error_y": {
             "color": "#2a3f5f"
            },
            "marker": {
             "line": {
              "color": "#E5ECF6",
              "width": 0.5
             },
             "pattern": {
              "fillmode": "overlay",
              "size": 10,
              "solidity": 0.2
             }
            },
            "type": "bar"
           }
          ],
          "barpolar": [
           {
            "marker": {
             "line": {
              "color": "#E5ECF6",
              "width": 0.5
             },
             "pattern": {
              "fillmode": "overlay",
              "size": 10,
              "solidity": 0.2
             }
            },
            "type": "barpolar"
           }
          ],
          "carpet": [
           {
            "aaxis": {
             "endlinecolor": "#2a3f5f",
             "gridcolor": "white",
             "linecolor": "white",
             "minorgridcolor": "white",
             "startlinecolor": "#2a3f5f"
            },
            "baxis": {
             "endlinecolor": "#2a3f5f",
             "gridcolor": "white",
             "linecolor": "white",
             "minorgridcolor": "white",
             "startlinecolor": "#2a3f5f"
            },
            "type": "carpet"
           }
          ],
          "choropleth": [
           {
            "colorbar": {
             "outlinewidth": 0,
             "ticks": ""
            },
            "type": "choropleth"
           }
          ],
          "contour": [
           {
            "colorbar": {
             "outlinewidth": 0,
             "ticks": ""
            },
            "colorscale": [
             [
              0,
              "#0d0887"
             ],
             [
              0.1111111111111111,
              "#46039f"
             ],
             [
              0.2222222222222222,
              "#7201a8"
             ],
             [
              0.3333333333333333,
              "#9c179e"
             ],
             [
              0.4444444444444444,
              "#bd3786"
             ],
             [
              0.5555555555555556,
              "#d8576b"
             ],
             [
              0.6666666666666666,
              "#ed7953"
             ],
             [
              0.7777777777777778,
              "#fb9f3a"
             ],
             [
              0.8888888888888888,
              "#fdca26"
             ],
             [
              1,
              "#f0f921"
             ]
            ],
            "type": "contour"
           }
          ],
          "contourcarpet": [
           {
            "colorbar": {
             "outlinewidth": 0,
             "ticks": ""
            },
            "type": "contourcarpet"
           }
          ],
          "heatmap": [
           {
            "colorbar": {
             "outlinewidth": 0,
             "ticks": ""
            },
            "colorscale": [
             [
              0,
              "#0d0887"
             ],
             [
              0.1111111111111111,
              "#46039f"
             ],
             [
              0.2222222222222222,
              "#7201a8"
             ],
             [
              0.3333333333333333,
              "#9c179e"
             ],
             [
              0.4444444444444444,
              "#bd3786"
             ],
             [
              0.5555555555555556,
              "#d8576b"
             ],
             [
              0.6666666666666666,
              "#ed7953"
             ],
             [
              0.7777777777777778,
              "#fb9f3a"
             ],
             [
              0.8888888888888888,
              "#fdca26"
             ],
             [
              1,
              "#f0f921"
             ]
            ],
            "type": "heatmap"
           }
          ],
          "heatmapgl": [
           {
            "colorbar": {
             "outlinewidth": 0,
             "ticks": ""
            },
            "colorscale": [
             [
              0,
              "#0d0887"
             ],
             [
              0.1111111111111111,
              "#46039f"
             ],
             [
              0.2222222222222222,
              "#7201a8"
             ],
             [
              0.3333333333333333,
              "#9c179e"
             ],
             [
              0.4444444444444444,
              "#bd3786"
             ],
             [
              0.5555555555555556,
              "#d8576b"
             ],
             [
              0.6666666666666666,
              "#ed7953"
             ],
             [
              0.7777777777777778,
              "#fb9f3a"
             ],
             [
              0.8888888888888888,
              "#fdca26"
             ],
             [
              1,
              "#f0f921"
             ]
            ],
            "type": "heatmapgl"
           }
          ],
          "histogram": [
           {
            "marker": {
             "pattern": {
              "fillmode": "overlay",
              "size": 10,
              "solidity": 0.2
             }
            },
            "type": "histogram"
           }
          ],
          "histogram2d": [
           {
            "colorbar": {
             "outlinewidth": 0,
             "ticks": ""
            },
            "colorscale": [
             [
              0,
              "#0d0887"
             ],
             [
              0.1111111111111111,
              "#46039f"
             ],
             [
              0.2222222222222222,
              "#7201a8"
             ],
             [
              0.3333333333333333,
              "#9c179e"
             ],
             [
              0.4444444444444444,
              "#bd3786"
             ],
             [
              0.5555555555555556,
              "#d8576b"
             ],
             [
              0.6666666666666666,
              "#ed7953"
             ],
             [
              0.7777777777777778,
              "#fb9f3a"
             ],
             [
              0.8888888888888888,
              "#fdca26"
             ],
             [
              1,
              "#f0f921"
             ]
            ],
            "type": "histogram2d"
           }
          ],
          "histogram2dcontour": [
           {
            "colorbar": {
             "outlinewidth": 0,
             "ticks": ""
            },
            "colorscale": [
             [
              0,
              "#0d0887"
             ],
             [
              0.1111111111111111,
              "#46039f"
             ],
             [
              0.2222222222222222,
              "#7201a8"
             ],
             [
              0.3333333333333333,
              "#9c179e"
             ],
             [
              0.4444444444444444,
              "#bd3786"
             ],
             [
              0.5555555555555556,
              "#d8576b"
             ],
             [
              0.6666666666666666,
              "#ed7953"
             ],
             [
              0.7777777777777778,
              "#fb9f3a"
             ],
             [
              0.8888888888888888,
              "#fdca26"
             ],
             [
              1,
              "#f0f921"
             ]
            ],
            "type": "histogram2dcontour"
           }
          ],
          "mesh3d": [
           {
            "colorbar": {
             "outlinewidth": 0,
             "ticks": ""
            },
            "type": "mesh3d"
           }
          ],
          "parcoords": [
           {
            "line": {
             "colorbar": {
              "outlinewidth": 0,
              "ticks": ""
             }
            },
            "type": "parcoords"
           }
          ],
          "pie": [
           {
            "automargin": true,
            "type": "pie"
           }
          ],
          "scatter": [
           {
            "marker": {
             "colorbar": {
              "outlinewidth": 0,
              "ticks": ""
             }
            },
            "type": "scatter"
           }
          ],
          "scatter3d": [
           {
            "line": {
             "colorbar": {
              "outlinewidth": 0,
              "ticks": ""
             }
            },
            "marker": {
             "colorbar": {
              "outlinewidth": 0,
              "ticks": ""
             }
            },
            "type": "scatter3d"
           }
          ],
          "scattercarpet": [
           {
            "marker": {
             "colorbar": {
              "outlinewidth": 0,
              "ticks": ""
             }
            },
            "type": "scattercarpet"
           }
          ],
          "scattergeo": [
           {
            "marker": {
             "colorbar": {
              "outlinewidth": 0,
              "ticks": ""
             }
            },
            "type": "scattergeo"
           }
          ],
          "scattergl": [
           {
            "marker": {
             "colorbar": {
              "outlinewidth": 0,
              "ticks": ""
             }
            },
            "type": "scattergl"
           }
          ],
          "scattermapbox": [
           {
            "marker": {
             "colorbar": {
              "outlinewidth": 0,
              "ticks": ""
             }
            },
            "type": "scattermapbox"
           }
          ],
          "scatterpolar": [
           {
            "marker": {
             "colorbar": {
              "outlinewidth": 0,
              "ticks": ""
             }
            },
            "type": "scatterpolar"
           }
          ],
          "scatterpolargl": [
           {
            "marker": {
             "colorbar": {
              "outlinewidth": 0,
              "ticks": ""
             }
            },
            "type": "scatterpolargl"
           }
          ],
          "scatterternary": [
           {
            "marker": {
             "colorbar": {
              "outlinewidth": 0,
              "ticks": ""
             }
            },
            "type": "scatterternary"
           }
          ],
          "surface": [
           {
            "colorbar": {
             "outlinewidth": 0,
             "ticks": ""
            },
            "colorscale": [
             [
              0,
              "#0d0887"
             ],
             [
              0.1111111111111111,
              "#46039f"
             ],
             [
              0.2222222222222222,
              "#7201a8"
             ],
             [
              0.3333333333333333,
              "#9c179e"
             ],
             [
              0.4444444444444444,
              "#bd3786"
             ],
             [
              0.5555555555555556,
              "#d8576b"
             ],
             [
              0.6666666666666666,
              "#ed7953"
             ],
             [
              0.7777777777777778,
              "#fb9f3a"
             ],
             [
              0.8888888888888888,
              "#fdca26"
             ],
             [
              1,
              "#f0f921"
             ]
            ],
            "type": "surface"
           }
          ],
          "table": [
           {
            "cells": {
             "fill": {
              "color": "#EBF0F8"
             },
             "line": {
              "color": "white"
             }
            },
            "header": {
             "fill": {
              "color": "#C8D4E3"
             },
             "line": {
              "color": "white"
             }
            },
            "type": "table"
           }
          ]
         },
         "layout": {
          "annotationdefaults": {
           "arrowcolor": "#2a3f5f",
           "arrowhead": 0,
           "arrowwidth": 1
          },
          "autotypenumbers": "strict",
          "coloraxis": {
           "colorbar": {
            "outlinewidth": 0,
            "ticks": ""
           }
          },
          "colorscale": {
           "diverging": [
            [
             0,
             "#8e0152"
            ],
            [
             0.1,
             "#c51b7d"
            ],
            [
             0.2,
             "#de77ae"
            ],
            [
             0.3,
             "#f1b6da"
            ],
            [
             0.4,
             "#fde0ef"
            ],
            [
             0.5,
             "#f7f7f7"
            ],
            [
             0.6,
             "#e6f5d0"
            ],
            [
             0.7,
             "#b8e186"
            ],
            [
             0.8,
             "#7fbc41"
            ],
            [
             0.9,
             "#4d9221"
            ],
            [
             1,
             "#276419"
            ]
           ],
           "sequential": [
            [
             0,
             "#0d0887"
            ],
            [
             0.1111111111111111,
             "#46039f"
            ],
            [
             0.2222222222222222,
             "#7201a8"
            ],
            [
             0.3333333333333333,
             "#9c179e"
            ],
            [
             0.4444444444444444,
             "#bd3786"
            ],
            [
             0.5555555555555556,
             "#d8576b"
            ],
            [
             0.6666666666666666,
             "#ed7953"
            ],
            [
             0.7777777777777778,
             "#fb9f3a"
            ],
            [
             0.8888888888888888,
             "#fdca26"
            ],
            [
             1,
             "#f0f921"
            ]
           ],
           "sequentialminus": [
            [
             0,
             "#0d0887"
            ],
            [
             0.1111111111111111,
             "#46039f"
            ],
            [
             0.2222222222222222,
             "#7201a8"
            ],
            [
             0.3333333333333333,
             "#9c179e"
            ],
            [
             0.4444444444444444,
             "#bd3786"
            ],
            [
             0.5555555555555556,
             "#d8576b"
            ],
            [
             0.6666666666666666,
             "#ed7953"
            ],
            [
             0.7777777777777778,
             "#fb9f3a"
            ],
            [
             0.8888888888888888,
             "#fdca26"
            ],
            [
             1,
             "#f0f921"
            ]
           ]
          },
          "colorway": [
           "#636efa",
           "#EF553B",
           "#00cc96",
           "#ab63fa",
           "#FFA15A",
           "#19d3f3",
           "#FF6692",
           "#B6E880",
           "#FF97FF",
           "#FECB52"
          ],
          "font": {
           "color": "#2a3f5f"
          },
          "geo": {
           "bgcolor": "white",
           "lakecolor": "white",
           "landcolor": "#E5ECF6",
           "showlakes": true,
           "showland": true,
           "subunitcolor": "white"
          },
          "hoverlabel": {
           "align": "left"
          },
          "hovermode": "closest",
          "mapbox": {
           "style": "light"
          },
          "paper_bgcolor": "white",
          "plot_bgcolor": "#E5ECF6",
          "polar": {
           "angularaxis": {
            "gridcolor": "white",
            "linecolor": "white",
            "ticks": ""
           },
           "bgcolor": "#E5ECF6",
           "radialaxis": {
            "gridcolor": "white",
            "linecolor": "white",
            "ticks": ""
           }
          },
          "scene": {
           "xaxis": {
            "backgroundcolor": "#E5ECF6",
            "gridcolor": "white",
            "gridwidth": 2,
            "linecolor": "white",
            "showbackground": true,
            "ticks": "",
            "zerolinecolor": "white"
           },
           "yaxis": {
            "backgroundcolor": "#E5ECF6",
            "gridcolor": "white",
            "gridwidth": 2,
            "linecolor": "white",
            "showbackground": true,
            "ticks": "",
            "zerolinecolor": "white"
           },
           "zaxis": {
            "backgroundcolor": "#E5ECF6",
            "gridcolor": "white",
            "gridwidth": 2,
            "linecolor": "white",
            "showbackground": true,
            "ticks": "",
            "zerolinecolor": "white"
           }
          },
          "shapedefaults": {
           "line": {
            "color": "#2a3f5f"
           }
          },
          "ternary": {
           "aaxis": {
            "gridcolor": "white",
            "linecolor": "white",
            "ticks": ""
           },
           "baxis": {
            "gridcolor": "white",
            "linecolor": "white",
            "ticks": ""
           },
           "bgcolor": "#E5ECF6",
           "caxis": {
            "gridcolor": "white",
            "linecolor": "white",
            "ticks": ""
           }
          },
          "title": {
           "x": 0.05
          },
          "xaxis": {
           "automargin": true,
           "gridcolor": "white",
           "linecolor": "white",
           "ticks": "",
           "title": {
            "standoff": 15
           },
           "zerolinecolor": "white",
           "zerolinewidth": 2
          },
          "yaxis": {
           "automargin": true,
           "gridcolor": "white",
           "linecolor": "white",
           "ticks": "",
           "title": {
            "standoff": 15
           },
           "zerolinecolor": "white",
           "zerolinewidth": 2
          }
         }
        },
        "title": {
         "font": {
          "color": "#1b2442",
          "size": 1
         },
         "text": "Relative interest in CLOV and SPCE has increased"
        },
        "xaxis": {
         "anchor": "y",
         "domain": [
          0,
          1
         ],
         "gridcolor": "rgb(44, 53, 72)",
         "title": {
          "text": ""
         },
         "zerolinecolor": "#e1e1e1"
        },
        "yaxis": {
         "anchor": "x",
         "domain": [
          0,
          1
         ],
         "gridcolor": "rgb(44, 53, 72)",
         "title": {
          "text": "Fraction of mentions"
         },
         "zerolinecolor": "#e1e1e1"
        }
       }
      },
      "text/html": [
       "<div>                            <div id=\"7cb960cb-a840-434e-b897-e947cf1a9871\" class=\"plotly-graph-div\" style=\"height:525px; width:100%;\"></div>            <script type=\"text/javascript\">                require([\"plotly\"], function(Plotly) {                    window.PLOTLYENV=window.PLOTLYENV || {};                                    if (document.getElementById(\"7cb960cb-a840-434e-b897-e947cf1a9871\")) {                    Plotly.newPlot(                        \"7cb960cb-a840-434e-b897-e947cf1a9871\",                        [{\"hovertemplate\":\"Symbol=SPCE<br>Day=%{x}<br>Fraction of mentions=%{y}<extra></extra>\",\"legendgroup\":\"SPCE\",\"line\":{\"color\":\"#636efa\",\"dash\":\"solid\"},\"mode\":\"lines\",\"name\":\"SPCE\",\"orientation\":\"v\",\"showlegend\":true,\"type\":\"scatter\",\"x\":[\"2021-07-26T00:00:00+00:00\",\"2021-07-25T00:00:00+00:00\",\"2021-07-24T00:00:00+00:00\",\"2021-07-23T00:00:00+00:00\",\"2021-07-22T00:00:00+00:00\",\"2021-07-21T00:00:00+00:00\",\"2021-07-20T00:00:00+00:00\",\"2021-07-19T00:00:00+00:00\",\"2021-07-18T00:00:00+00:00\",\"2021-07-17T00:00:00+00:00\",\"2021-07-16T00:00:00+00:00\",\"2021-07-15T00:00:00+00:00\",\"2021-07-14T00:00:00+00:00\",\"2021-07-13T00:00:00+00:00\",\"2021-07-12T00:00:00+00:00\",\"2021-07-11T00:00:00+00:00\",\"2021-07-10T00:00:00+00:00\",\"2021-07-09T00:00:00+00:00\",\"2021-07-08T00:00:00+00:00\",\"2021-07-07T00:00:00+00:00\",\"2021-07-06T00:00:00+00:00\",\"2021-07-05T00:00:00+00:00\",\"2021-07-04T00:00:00+00:00\",\"2021-07-03T00:00:00+00:00\",\"2021-07-02T00:00:00+00:00\",\"2021-07-01T00:00:00+00:00\",\"2021-06-30T00:00:00+00:00\",\"2021-06-29T00:00:00+00:00\",\"2021-06-28T00:00:00+00:00\",\"2021-06-27T00:00:00+00:00\",\"2021-06-26T00:00:00+00:00\",\"2021-06-25T00:00:00+00:00\",\"2021-06-24T00:00:00+00:00\",\"2021-06-23T00:00:00+00:00\",\"2021-06-22T00:00:00+00:00\",\"2021-06-21T00:00:00+00:00\",\"2021-06-20T00:00:00+00:00\",\"2021-06-19T00:00:00+00:00\",\"2021-06-18T00:00:00+00:00\",\"2021-06-17T00:00:00+00:00\",\"2021-06-16T00:00:00+00:00\",\"2021-06-15T00:00:00+00:00\",\"2021-06-14T00:00:00+00:00\",\"2021-06-13T00:00:00+00:00\",\"2021-06-12T00:00:00+00:00\",\"2021-06-11T00:00:00+00:00\",\"2021-06-10T00:00:00+00:00\",\"2021-06-09T00:00:00+00:00\",\"2021-06-08T00:00:00+00:00\",\"2021-06-07T00:00:00+00:00\",\"2021-06-06T00:00:00+00:00\",\"2021-06-05T00:00:00+00:00\",\"2021-06-04T00:00:00+00:00\",\"2021-06-03T00:00:00+00:00\",\"2021-06-02T00:00:00+00:00\",\"2021-06-01T00:00:00+00:00\",\"2021-05-31T00:00:00+00:00\",\"2021-05-30T00:00:00+00:00\",\"2021-05-29T00:00:00+00:00\",\"2021-05-28T00:00:00+00:00\",\"2021-05-27T00:00:00+00:00\",\"2021-05-26T00:00:00+00:00\",\"2021-05-25T00:00:00+00:00\",\"2021-05-24T00:00:00+00:00\",\"2021-05-23T00:00:00+00:00\",\"2021-05-22T00:00:00+00:00\",\"2021-05-21T00:00:00+00:00\",\"2021-05-20T00:00:00+00:00\",\"2021-05-19T00:00:00+00:00\",\"2021-05-18T00:00:00+00:00\",\"2021-05-17T00:00:00+00:00\",\"2021-05-16T00:00:00+00:00\",\"2021-05-15T00:00:00+00:00\",\"2021-05-14T00:00:00+00:00\",\"2021-05-13T00:00:00+00:00\",\"2021-05-12T00:00:00+00:00\",\"2021-05-11T00:00:00+00:00\",\"2021-05-10T00:00:00+00:00\",\"2021-05-09T00:00:00+00:00\",\"2021-05-08T00:00:00+00:00\",\"2021-05-07T00:00:00+00:00\",\"2021-05-06T00:00:00+00:00\",\"2021-05-05T00:00:00+00:00\",\"2021-05-04T00:00:00+00:00\",\"2021-05-03T00:00:00+00:00\",\"2021-05-02T00:00:00+00:00\",\"2021-05-01T00:00:00+00:00\",\"2021-04-30T00:00:00+00:00\",\"2021-04-29T00:00:00+00:00\",\"2021-04-28T00:00:00+00:00\",\"2021-04-27T00:00:00+00:00\",\"2021-04-26T00:00:00+00:00\",\"2021-04-25T00:00:00+00:00\",\"2021-04-24T00:00:00+00:00\",\"2021-04-23T00:00:00+00:00\",\"2021-04-22T00:00:00+00:00\",\"2021-04-21T00:00:00+00:00\",\"2021-04-20T00:00:00+00:00\",\"2021-04-19T00:00:00+00:00\",\"2021-04-18T00:00:00+00:00\",\"2021-04-17T00:00:00+00:00\",\"2021-04-16T00:00:00+00:00\",\"2021-04-15T00:00:00+00:00\",\"2021-04-14T00:00:00+00:00\",\"2021-04-13T00:00:00+00:00\",\"2021-04-12T00:00:00+00:00\",\"2021-04-11T00:00:00+00:00\",\"2021-04-10T00:00:00+00:00\",\"2021-04-09T00:00:00+00:00\",\"2021-04-08T00:00:00+00:00\",\"2021-04-07T00:00:00+00:00\",\"2021-04-06T00:00:00+00:00\",\"2021-04-05T00:00:00+00:00\",\"2021-04-03T00:00:00+00:00\",\"2021-04-02T00:00:00+00:00\",\"2021-04-01T00:00:00+00:00\",\"2021-03-31T00:00:00+00:00\",\"2021-03-30T00:00:00+00:00\",\"2021-03-29T00:00:00+00:00\",\"2021-03-26T00:00:00+00:00\",\"2021-03-25T00:00:00+00:00\",\"2021-03-24T00:00:00+00:00\",\"2021-03-23T00:00:00+00:00\",\"2021-03-22T00:00:00+00:00\",\"2021-03-21T00:00:00+00:00\",\"2021-03-20T00:00:00+00:00\",\"2021-03-19T00:00:00+00:00\",\"2021-03-18T00:00:00+00:00\",\"2021-03-17T00:00:00+00:00\",\"2021-03-16T00:00:00+00:00\",\"2021-03-15T00:00:00+00:00\",\"2021-03-14T00:00:00+00:00\",\"2021-03-13T00:00:00+00:00\",\"2021-03-12T00:00:00+00:00\",\"2021-03-11T00:00:00+00:00\",\"2021-03-10T00:00:00+00:00\",\"2021-03-09T00:00:00+00:00\"],\"xaxis\":\"x\",\"y\":[0.002776492364645997,0.0024642681123706258,0.003996003996003996,0.006955885044847154,0.006607201850016518,0.00896430286537538,0.021353601158161418,0.03177737881508079,0.015127803860198226,0.028752436647173488,0.030929755915781627,0.026875852660300136,0.04106520657043305,0.04757072180641888,0.1804300801628706,0.3168771526980482,0.0776495278069255,0.09046454767726161,0.09115513694922595,0.01878744795369148,0.027578796561604585,0.024620060790273558,0.029281989570798236,0.025523226135783564,0.096475372797108,0.03624148372445117,0.026125063205798077,0.026183431952662723,0.030568921596377016,0.03497986008055968,0.053531834019638895,0.08663292646621018,0.005221553412140111,0.00941540191118606,0.012597232739037654,0.002677376171352075,0.004676753782668501,0.0035578144853875477,0.002843076069620692,0.002837040399455288,0.0031227346233201362,0.003664476918264289,0.0031957192226227194,0.002911208151382824,0.002942825112107623,0.004581077499716049,0.004063558218286012,0.002639315782440198,0.00519152201882491,0.008093525179856115,0.0031462371004278883,0.0023115448824964683,0.003331860061877401,0.00444623277336284,0.005618296350944896,0.009352466623830942,0.011587232181897682,0.012706480304955527,0.01285444234404537,0.01914586517235524,0.029319107825429496,0.025378632828489563,0.07133394476714562,0.1567449481157837,0.1226737561716673,0.11542056074766355,0.04418718408609164,0.03572398804672643,0.0016982734220209455,0.002114774584254542,0.0014565935133035541,0.0011664074650077762,0.0012376237623762376,0.001932367149758454,0.002543859649122807,0.005854293148308759,0.012462747222974803,0.009786050081550417,0.002732987154960372,0.0019696117051209903,0.002444738718549455,0.00407898996438977,0.002875629043853343,0.005630091039770004,0.004606273305549463,0.004898758981058132,0.005388272583201268,0.0016559947008169575,0.0016289437585733882,0.0017482517482517483,0.0024296416278598906,0.0013009187738840557,0.0006315124723713293,0.0017699115044247787,0.0009454349000540249,0.003387334315169367,0.005500222982012784,0.00821297082979326,0.0025462194176906895,0.0038945476333133613,0.004078303425774877,0.004492729946087241,0.010831193838254172,0.0017963244438303164,0.00256941566514712,0.0031746031746031746,0.0012033694344163659,0.0012266176019625882,0.001312998687001313,0.001432793050953703,0.002217722495419921,0.0013544891640866873,0.0019011406844106464,0.0011367942402425162,0.0002554931016862545,0.0006582736772813297,0.0007436602959767978,0.002143929107410848,0.004502146372107632,0.002197802197802198,0.0008177570093457944,0.0011065285182577204,0.0008169044766365319,0.0011266018870581607,0.0016169601149838304,0.0005185825410544512,0.0006064281382656155,0.0005804749340369394,0.001315717340058111,0.0016259336415832529,0.0014745308310991957,0.0018714075658334448,0.0018656716417910447,0.0022156573116691287,0.002808271636456472,0.0012178582302305627,0.0026001040041601664],\"yaxis\":\"y\"},{\"hovertemplate\":\"Symbol=CLOV<br>Day=%{x}<br>Fraction of mentions=%{y}<extra></extra>\",\"legendgroup\":\"CLOV\",\"line\":{\"color\":\"#EF553B\",\"dash\":\"solid\"},\"mode\":\"lines\",\"name\":\"CLOV\",\"orientation\":\"v\",\"showlegend\":true,\"type\":\"scatter\",\"x\":[\"2021-07-26T00:00:00+00:00\",\"2021-07-25T00:00:00+00:00\",\"2021-07-24T00:00:00+00:00\",\"2021-07-23T00:00:00+00:00\",\"2021-07-22T00:00:00+00:00\",\"2021-07-21T00:00:00+00:00\",\"2021-07-20T00:00:00+00:00\",\"2021-07-19T00:00:00+00:00\",\"2021-07-18T00:00:00+00:00\",\"2021-07-17T00:00:00+00:00\",\"2021-07-16T00:00:00+00:00\",\"2021-07-15T00:00:00+00:00\",\"2021-07-14T00:00:00+00:00\",\"2021-07-13T00:00:00+00:00\",\"2021-07-12T00:00:00+00:00\",\"2021-07-11T00:00:00+00:00\",\"2021-07-10T00:00:00+00:00\",\"2021-07-09T00:00:00+00:00\",\"2021-07-08T00:00:00+00:00\",\"2021-07-07T00:00:00+00:00\",\"2021-07-06T00:00:00+00:00\",\"2021-07-05T00:00:00+00:00\",\"2021-07-04T00:00:00+00:00\",\"2021-07-03T00:00:00+00:00\",\"2021-07-02T00:00:00+00:00\",\"2021-07-01T00:00:00+00:00\",\"2021-06-30T00:00:00+00:00\",\"2021-06-29T00:00:00+00:00\",\"2021-06-28T00:00:00+00:00\",\"2021-06-27T00:00:00+00:00\",\"2021-06-26T00:00:00+00:00\",\"2021-06-25T00:00:00+00:00\",\"2021-06-24T00:00:00+00:00\",\"2021-06-23T00:00:00+00:00\",\"2021-06-22T00:00:00+00:00\",\"2021-06-21T00:00:00+00:00\",\"2021-06-20T00:00:00+00:00\",\"2021-06-19T00:00:00+00:00\",\"2021-06-18T00:00:00+00:00\",\"2021-06-17T00:00:00+00:00\",\"2021-06-16T00:00:00+00:00\",\"2021-06-15T00:00:00+00:00\",\"2021-06-14T00:00:00+00:00\",\"2021-06-13T00:00:00+00:00\",\"2021-06-12T00:00:00+00:00\",\"2021-06-11T00:00:00+00:00\",\"2021-06-10T00:00:00+00:00\",\"2021-06-09T00:00:00+00:00\",\"2021-06-08T00:00:00+00:00\",\"2021-06-07T00:00:00+00:00\",\"2021-06-06T00:00:00+00:00\",\"2021-06-05T00:00:00+00:00\",\"2021-06-04T00:00:00+00:00\",\"2021-06-03T00:00:00+00:00\",\"2021-06-02T00:00:00+00:00\",\"2021-06-01T00:00:00+00:00\",\"2021-05-31T00:00:00+00:00\",\"2021-05-30T00:00:00+00:00\",\"2021-05-29T00:00:00+00:00\",\"2021-05-28T00:00:00+00:00\",\"2021-05-27T00:00:00+00:00\",\"2021-05-26T00:00:00+00:00\",\"2021-05-25T00:00:00+00:00\",\"2021-05-24T00:00:00+00:00\",\"2021-05-23T00:00:00+00:00\",\"2021-05-22T00:00:00+00:00\",\"2021-05-21T00:00:00+00:00\",\"2021-05-20T00:00:00+00:00\",\"2021-05-19T00:00:00+00:00\",\"2021-05-18T00:00:00+00:00\",\"2021-05-17T00:00:00+00:00\",\"2021-05-16T00:00:00+00:00\",\"2021-05-15T00:00:00+00:00\",\"2021-05-14T00:00:00+00:00\",\"2021-05-13T00:00:00+00:00\",\"2021-05-12T00:00:00+00:00\",\"2021-05-11T00:00:00+00:00\",\"2021-05-10T00:00:00+00:00\",\"2021-05-09T00:00:00+00:00\",\"2021-05-08T00:00:00+00:00\",\"2021-05-07T00:00:00+00:00\",\"2021-05-06T00:00:00+00:00\",\"2021-05-05T00:00:00+00:00\",\"2021-05-04T00:00:00+00:00\",\"2021-05-03T00:00:00+00:00\",\"2021-05-02T00:00:00+00:00\",\"2021-05-01T00:00:00+00:00\",\"2021-04-30T00:00:00+00:00\",\"2021-04-29T00:00:00+00:00\",\"2021-04-28T00:00:00+00:00\",\"2021-04-27T00:00:00+00:00\",\"2021-04-26T00:00:00+00:00\",\"2021-04-25T00:00:00+00:00\",\"2021-04-24T00:00:00+00:00\",\"2021-04-23T00:00:00+00:00\",\"2021-04-22T00:00:00+00:00\",\"2021-04-21T00:00:00+00:00\",\"2021-04-20T00:00:00+00:00\",\"2021-04-19T00:00:00+00:00\",\"2021-04-18T00:00:00+00:00\",\"2021-04-17T00:00:00+00:00\",\"2021-04-16T00:00:00+00:00\",\"2021-04-15T00:00:00+00:00\",\"2021-04-14T00:00:00+00:00\",\"2021-04-13T00:00:00+00:00\",\"2021-04-12T00:00:00+00:00\",\"2021-04-11T00:00:00+00:00\",\"2021-04-10T00:00:00+00:00\",\"2021-04-09T00:00:00+00:00\",\"2021-04-08T00:00:00+00:00\",\"2021-04-07T00:00:00+00:00\",\"2021-04-06T00:00:00+00:00\",\"2021-04-02T00:00:00+00:00\",\"2021-04-01T00:00:00+00:00\",\"2021-03-31T00:00:00+00:00\",\"2021-03-30T00:00:00+00:00\",\"2021-03-29T00:00:00+00:00\",\"2021-03-26T00:00:00+00:00\",\"2021-03-25T00:00:00+00:00\",\"2021-03-24T00:00:00+00:00\",\"2021-03-23T00:00:00+00:00\",\"2021-03-22T00:00:00+00:00\",\"2021-03-21T00:00:00+00:00\",\"2021-03-19T00:00:00+00:00\",\"2021-03-18T00:00:00+00:00\",\"2021-03-17T00:00:00+00:00\",\"2021-03-16T00:00:00+00:00\",\"2021-03-15T00:00:00+00:00\",\"2021-03-14T00:00:00+00:00\",\"2021-03-13T00:00:00+00:00\",\"2021-03-12T00:00:00+00:00\",\"2021-03-11T00:00:00+00:00\",\"2021-03-10T00:00:00+00:00\",\"2021-03-09T00:00:00+00:00\"],\"xaxis\":\"x\",\"y\":[0.035168903285515966,0.037456875308033516,0.03196803196803197,0.058209774848984076,0.11826891311529568,0.11397470785977269,0.04451682953311618,0.03877917414721724,0.04277516953573292,0.034600389863547756,0.03856903297931805,0.036289222373806274,0.04828272772523644,0.0748446023087657,0.08983331212622471,0.04247990815154994,0.048268625393494226,0.04477383863080685,0.04546930821695356,0.0733218239057581,0.09897325692454632,0.06048632218844985,0.045326915363016446,0.055640632976008166,0.060212381382738364,0.06330431491294473,0.06775661554019889,0.09326923076923077,0.053778658363996604,0.07017171931312274,0.06841938549255623,0.059020541827924974,0.09899195010515628,0.10792580101180438,0.10332484339505747,0.04176706827309237,0.0624484181568088,0.03532401524777637,0.0323833298661674,0.03029959146618248,0.05085596386549936,0.05331367028645484,0.05975251755787596,0.06817079087821445,0.06838565022421525,0.09544542460152197,0.08335504037509768,0.12040625417613257,0.16795702322641806,0.1010322177040976,0.0445507173420589,0.016822909978168744,0.016931288885866792,0.02271401267478121,0.021054423698995517,0.004212179624473477,0.00765194578049847,0.010419313850063533,0.00831758034026465,0.007768721344880285,0.010207081950686772,0.006753990994678674,0.004687659227555284,0.009011469142545057,0.008735282947208508,0.003738317757009346,0.01271808250448394,0.016843249117087747,0.005802434191904897,0.015572431029510718,0.05136919790250534,0.03382581648522551,0.023514851485148515,0.017176596886741814,0.007631578947368421,0.016045099739809193,0.008850356723561817,0.011033291758610765,0.025416780541131456,0.018851997749015192,0.014872160537842518,0.013531887342181937,0.020129403306973402,0.02467656923814087,0.04715946479491116,0.07119529719137818,0.027258320126782885,0.04901744314418194,0.08762002743484225,0.059702797202797205,0.008908685968819599,0.01219611350516302,0.012630249447426587,0.01592920353982301,0.019043760129659644,0.013107511045655376,0.03731232347257321,0.06655338431039366,0.10450570131739179,0.07159976033553025,0.05655247417074497,0.0702499591570005,0.0008023106546854943,0.0002763576067431256,0.0003315375051802735,0.0004884004884004884,0.00030084235860409147,0.0009199632014719411,0.002120997879002121,0.007969911345929972,9.642271719217047e-05,0.00048374613003095975,0.000510986203372509,0.00016456841932033242,0.0002974641183907191,0.0001429286071607232,0.00020940215684221548,7.089684509039348e-05,0.00023364485981308412,0.0003520772558092747,0.00010892059688487092,7.041261794113505e-05,0.0005389867049946101,0.0003638568829593693,0.000158311345646438,0.0003289293350145277,0.0004064834103958132,0.0003127792672028597,0.0009357037829167224,0.0002870264064293915,9.847365829640571e-05,0.00038294613224406433,0.0001660715768496222,0.0001733402669440111],\"yaxis\":\"y\"}],                        {\"annotations\":[{\"align\":\"right\",\"height\":40,\"showarrow\":false,\"text\":\"<a style=\\\"color: rgb(100, 130, 180);\\\" href=\\\"https://beneath.dev/\\\">beneath.dev</a>\",\"x\":1.0,\"xanchor\":\"right\",\"xref\":\"paper\",\"y\":1.0,\"yanchor\":\"bottom\",\"yref\":\"paper\",\"yshift\":13},{\"align\":\"left\",\"font\":{\"size\":12},\"height\":16,\"showarrow\":false,\"text\":\"Share of mentions across all stocks on r/wallstreetbets\",\"x\":0.0,\"xanchor\":\"left\",\"xref\":\"paper\",\"y\":1.0,\"yanchor\":\"bottom\",\"yref\":\"paper\",\"yshift\":13},{\"align\":\"left\",\"font\":{\"size\":18},\"height\":24,\"showarrow\":false,\"text\":\"<b>Relative interest in CLOV and SPCE has increased</b>\",\"x\":0.0,\"xanchor\":\"left\",\"xref\":\"paper\",\"y\":1.0,\"yanchor\":\"bottom\",\"yref\":\"paper\",\"yshift\":29}],\"colorway\":[\"rgb(60, 170, 255)\",\"rgb(255, 60, 130)\",\"rgb(100, 200, 100)\",\"rgb(200, 220, 240)\",\"rgb(251, 241, 67)\",\"rgb(203, 60, 255)\",\"rgb(249, 148, 66)\",\"rgb(36, 130, 36)\",\"rgb(238, 255, 234)\"],\"dragmode\":\"select\",\"font\":{\"color\":\"#e1e1e1\",\"family\":\"SFMono-Regular,Menlo,Monaco,Consolas,Liberation Mono,Courier,monospace\"},\"legend\":{\"orientation\":\"h\",\"title\":{\"text\":\"Symbol\"},\"tracegroupgap\":0,\"x\":0,\"y\":-0.1,\"yanchor\":\"top\"},\"margin\":{\"autoexpand\":true,\"b\":30,\"l\":35,\"r\":20,\"t\":68},\"paper_bgcolor\":\"#1b2442\",\"plot_bgcolor\":\"#1b2442\",\"template\":{\"data\":{\"bar\":[{\"error_x\":{\"color\":\"#2a3f5f\"},\"error_y\":{\"color\":\"#2a3f5f\"},\"marker\":{\"line\":{\"color\":\"#E5ECF6\",\"width\":0.5},\"pattern\":{\"fillmode\":\"overlay\",\"size\":10,\"solidity\":0.2}},\"type\":\"bar\"}],\"barpolar\":[{\"marker\":{\"line\":{\"color\":\"#E5ECF6\",\"width\":0.5},\"pattern\":{\"fillmode\":\"overlay\",\"size\":10,\"solidity\":0.2}},\"type\":\"barpolar\"}],\"carpet\":[{\"aaxis\":{\"endlinecolor\":\"#2a3f5f\",\"gridcolor\":\"white\",\"linecolor\":\"white\",\"minorgridcolor\":\"white\",\"startlinecolor\":\"#2a3f5f\"},\"baxis\":{\"endlinecolor\":\"#2a3f5f\",\"gridcolor\":\"white\",\"linecolor\":\"white\",\"minorgridcolor\":\"white\",\"startlinecolor\":\"#2a3f5f\"},\"type\":\"carpet\"}],\"choropleth\":[{\"colorbar\":{\"outlinewidth\":0,\"ticks\":\"\"},\"type\":\"choropleth\"}],\"contour\":[{\"colorbar\":{\"outlinewidth\":0,\"ticks\":\"\"},\"colorscale\":[[0.0,\"#0d0887\"],[0.1111111111111111,\"#46039f\"],[0.2222222222222222,\"#7201a8\"],[0.3333333333333333,\"#9c179e\"],[0.4444444444444444,\"#bd3786\"],[0.5555555555555556,\"#d8576b\"],[0.6666666666666666,\"#ed7953\"],[0.7777777777777778,\"#fb9f3a\"],[0.8888888888888888,\"#fdca26\"],[1.0,\"#f0f921\"]],\"type\":\"contour\"}],\"contourcarpet\":[{\"colorbar\":{\"outlinewidth\":0,\"ticks\":\"\"},\"type\":\"contourcarpet\"}],\"heatmap\":[{\"colorbar\":{\"outlinewidth\":0,\"ticks\":\"\"},\"colorscale\":[[0.0,\"#0d0887\"],[0.1111111111111111,\"#46039f\"],[0.2222222222222222,\"#7201a8\"],[0.3333333333333333,\"#9c179e\"],[0.4444444444444444,\"#bd3786\"],[0.5555555555555556,\"#d8576b\"],[0.6666666666666666,\"#ed7953\"],[0.7777777777777778,\"#fb9f3a\"],[0.8888888888888888,\"#fdca26\"],[1.0,\"#f0f921\"]],\"type\":\"heatmap\"}],\"heatmapgl\":[{\"colorbar\":{\"outlinewidth\":0,\"ticks\":\"\"},\"colorscale\":[[0.0,\"#0d0887\"],[0.1111111111111111,\"#46039f\"],[0.2222222222222222,\"#7201a8\"],[0.3333333333333333,\"#9c179e\"],[0.4444444444444444,\"#bd3786\"],[0.5555555555555556,\"#d8576b\"],[0.6666666666666666,\"#ed7953\"],[0.7777777777777778,\"#fb9f3a\"],[0.8888888888888888,\"#fdca26\"],[1.0,\"#f0f921\"]],\"type\":\"heatmapgl\"}],\"histogram\":[{\"marker\":{\"pattern\":{\"fillmode\":\"overlay\",\"size\":10,\"solidity\":0.2}},\"type\":\"histogram\"}],\"histogram2d\":[{\"colorbar\":{\"outlinewidth\":0,\"ticks\":\"\"},\"colorscale\":[[0.0,\"#0d0887\"],[0.1111111111111111,\"#46039f\"],[0.2222222222222222,\"#7201a8\"],[0.3333333333333333,\"#9c179e\"],[0.4444444444444444,\"#bd3786\"],[0.5555555555555556,\"#d8576b\"],[0.6666666666666666,\"#ed7953\"],[0.7777777777777778,\"#fb9f3a\"],[0.8888888888888888,\"#fdca26\"],[1.0,\"#f0f921\"]],\"type\":\"histogram2d\"}],\"histogram2dcontour\":[{\"colorbar\":{\"outlinewidth\":0,\"ticks\":\"\"},\"colorscale\":[[0.0,\"#0d0887\"],[0.1111111111111111,\"#46039f\"],[0.2222222222222222,\"#7201a8\"],[0.3333333333333333,\"#9c179e\"],[0.4444444444444444,\"#bd3786\"],[0.5555555555555556,\"#d8576b\"],[0.6666666666666666,\"#ed7953\"],[0.7777777777777778,\"#fb9f3a\"],[0.8888888888888888,\"#fdca26\"],[1.0,\"#f0f921\"]],\"type\":\"histogram2dcontour\"}],\"mesh3d\":[{\"colorbar\":{\"outlinewidth\":0,\"ticks\":\"\"},\"type\":\"mesh3d\"}],\"parcoords\":[{\"line\":{\"colorbar\":{\"outlinewidth\":0,\"ticks\":\"\"}},\"type\":\"parcoords\"}],\"pie\":[{\"automargin\":true,\"type\":\"pie\"}],\"scatter\":[{\"marker\":{\"colorbar\":{\"outlinewidth\":0,\"ticks\":\"\"}},\"type\":\"scatter\"}],\"scatter3d\":[{\"line\":{\"colorbar\":{\"outlinewidth\":0,\"ticks\":\"\"}},\"marker\":{\"colorbar\":{\"outlinewidth\":0,\"ticks\":\"\"}},\"type\":\"scatter3d\"}],\"scattercarpet\":[{\"marker\":{\"colorbar\":{\"outlinewidth\":0,\"ticks\":\"\"}},\"type\":\"scattercarpet\"}],\"scattergeo\":[{\"marker\":{\"colorbar\":{\"outlinewidth\":0,\"ticks\":\"\"}},\"type\":\"scattergeo\"}],\"scattergl\":[{\"marker\":{\"colorbar\":{\"outlinewidth\":0,\"ticks\":\"\"}},\"type\":\"scattergl\"}],\"scattermapbox\":[{\"marker\":{\"colorbar\":{\"outlinewidth\":0,\"ticks\":\"\"}},\"type\":\"scattermapbox\"}],\"scatterpolar\":[{\"marker\":{\"colorbar\":{\"outlinewidth\":0,\"ticks\":\"\"}},\"type\":\"scatterpolar\"}],\"scatterpolargl\":[{\"marker\":{\"colorbar\":{\"outlinewidth\":0,\"ticks\":\"\"}},\"type\":\"scatterpolargl\"}],\"scatterternary\":[{\"marker\":{\"colorbar\":{\"outlinewidth\":0,\"ticks\":\"\"}},\"type\":\"scatterternary\"}],\"surface\":[{\"colorbar\":{\"outlinewidth\":0,\"ticks\":\"\"},\"colorscale\":[[0.0,\"#0d0887\"],[0.1111111111111111,\"#46039f\"],[0.2222222222222222,\"#7201a8\"],[0.3333333333333333,\"#9c179e\"],[0.4444444444444444,\"#bd3786\"],[0.5555555555555556,\"#d8576b\"],[0.6666666666666666,\"#ed7953\"],[0.7777777777777778,\"#fb9f3a\"],[0.8888888888888888,\"#fdca26\"],[1.0,\"#f0f921\"]],\"type\":\"surface\"}],\"table\":[{\"cells\":{\"fill\":{\"color\":\"#EBF0F8\"},\"line\":{\"color\":\"white\"}},\"header\":{\"fill\":{\"color\":\"#C8D4E3\"},\"line\":{\"color\":\"white\"}},\"type\":\"table\"}]},\"layout\":{\"annotationdefaults\":{\"arrowcolor\":\"#2a3f5f\",\"arrowhead\":0,\"arrowwidth\":1},\"autotypenumbers\":\"strict\",\"coloraxis\":{\"colorbar\":{\"outlinewidth\":0,\"ticks\":\"\"}},\"colorscale\":{\"diverging\":[[0,\"#8e0152\"],[0.1,\"#c51b7d\"],[0.2,\"#de77ae\"],[0.3,\"#f1b6da\"],[0.4,\"#fde0ef\"],[0.5,\"#f7f7f7\"],[0.6,\"#e6f5d0\"],[0.7,\"#b8e186\"],[0.8,\"#7fbc41\"],[0.9,\"#4d9221\"],[1,\"#276419\"]],\"sequential\":[[0.0,\"#0d0887\"],[0.1111111111111111,\"#46039f\"],[0.2222222222222222,\"#7201a8\"],[0.3333333333333333,\"#9c179e\"],[0.4444444444444444,\"#bd3786\"],[0.5555555555555556,\"#d8576b\"],[0.6666666666666666,\"#ed7953\"],[0.7777777777777778,\"#fb9f3a\"],[0.8888888888888888,\"#fdca26\"],[1.0,\"#f0f921\"]],\"sequentialminus\":[[0.0,\"#0d0887\"],[0.1111111111111111,\"#46039f\"],[0.2222222222222222,\"#7201a8\"],[0.3333333333333333,\"#9c179e\"],[0.4444444444444444,\"#bd3786\"],[0.5555555555555556,\"#d8576b\"],[0.6666666666666666,\"#ed7953\"],[0.7777777777777778,\"#fb9f3a\"],[0.8888888888888888,\"#fdca26\"],[1.0,\"#f0f921\"]]},\"colorway\":[\"#636efa\",\"#EF553B\",\"#00cc96\",\"#ab63fa\",\"#FFA15A\",\"#19d3f3\",\"#FF6692\",\"#B6E880\",\"#FF97FF\",\"#FECB52\"],\"font\":{\"color\":\"#2a3f5f\"},\"geo\":{\"bgcolor\":\"white\",\"lakecolor\":\"white\",\"landcolor\":\"#E5ECF6\",\"showlakes\":true,\"showland\":true,\"subunitcolor\":\"white\"},\"hoverlabel\":{\"align\":\"left\"},\"hovermode\":\"closest\",\"mapbox\":{\"style\":\"light\"},\"paper_bgcolor\":\"white\",\"plot_bgcolor\":\"#E5ECF6\",\"polar\":{\"angularaxis\":{\"gridcolor\":\"white\",\"linecolor\":\"white\",\"ticks\":\"\"},\"bgcolor\":\"#E5ECF6\",\"radialaxis\":{\"gridcolor\":\"white\",\"linecolor\":\"white\",\"ticks\":\"\"}},\"scene\":{\"xaxis\":{\"backgroundcolor\":\"#E5ECF6\",\"gridcolor\":\"white\",\"gridwidth\":2,\"linecolor\":\"white\",\"showbackground\":true,\"ticks\":\"\",\"zerolinecolor\":\"white\"},\"yaxis\":{\"backgroundcolor\":\"#E5ECF6\",\"gridcolor\":\"white\",\"gridwidth\":2,\"linecolor\":\"white\",\"showbackground\":true,\"ticks\":\"\",\"zerolinecolor\":\"white\"},\"zaxis\":{\"backgroundcolor\":\"#E5ECF6\",\"gridcolor\":\"white\",\"gridwidth\":2,\"linecolor\":\"white\",\"showbackground\":true,\"ticks\":\"\",\"zerolinecolor\":\"white\"}},\"shapedefaults\":{\"line\":{\"color\":\"#2a3f5f\"}},\"ternary\":{\"aaxis\":{\"gridcolor\":\"white\",\"linecolor\":\"white\",\"ticks\":\"\"},\"baxis\":{\"gridcolor\":\"white\",\"linecolor\":\"white\",\"ticks\":\"\"},\"bgcolor\":\"#E5ECF6\",\"caxis\":{\"gridcolor\":\"white\",\"linecolor\":\"white\",\"ticks\":\"\"}},\"title\":{\"x\":0.05},\"xaxis\":{\"automargin\":true,\"gridcolor\":\"white\",\"linecolor\":\"white\",\"ticks\":\"\",\"title\":{\"standoff\":15},\"zerolinecolor\":\"white\",\"zerolinewidth\":2},\"yaxis\":{\"automargin\":true,\"gridcolor\":\"white\",\"linecolor\":\"white\",\"ticks\":\"\",\"title\":{\"standoff\":15},\"zerolinecolor\":\"white\",\"zerolinewidth\":2}}},\"title\":{\"font\":{\"color\":\"#1b2442\",\"size\":1},\"text\":\"Relative interest in CLOV and SPCE has increased\"},\"xaxis\":{\"anchor\":\"y\",\"domain\":[0.0,1.0],\"gridcolor\":\"rgb(44, 53, 72)\",\"title\":{\"text\":\"\"},\"zerolinecolor\":\"#e1e1e1\"},\"yaxis\":{\"anchor\":\"x\",\"domain\":[0.0,1.0],\"gridcolor\":\"rgb(44, 53, 72)\",\"title\":{\"text\":\"Fraction of mentions\"},\"zerolinecolor\":\"#e1e1e1\"}},                        {\"responsive\": true}                    ).then(function(){\n",
       "                            \n",
       "var gd = document.getElementById('7cb960cb-a840-434e-b897-e947cf1a9871');\n",
       "var x = new MutationObserver(function (mutations, observer) {{\n",
       "        var display = window.getComputedStyle(gd).display;\n",
       "        if (!display || display === 'none') {{\n",
       "            console.log([gd, 'removed!']);\n",
       "            Plotly.purge(gd);\n",
       "            observer.disconnect();\n",
       "        }}\n",
       "}});\n",
       "\n",
       "// Listen for the removal of the full notebook cells\n",
       "var notebookContainer = gd.closest('#notebook-container');\n",
       "if (notebookContainer) {{\n",
       "    x.observe(notebookContainer, {childList: true});\n",
       "}}\n",
       "\n",
       "// Listen for the clearing of the current output cell\n",
       "var outputEl = gd.closest('.output');\n",
       "if (outputEl) {{\n",
       "    x.observe(outputEl, {childList: true});\n",
       "}}\n",
       "\n",
       "                        })                };                });            </script>        </div>"
      ]
     },
     "metadata": {},
     "output_type": "display_data"
    }
   ],
   "source": [
    "# symbols_to_graph = top_symbols_month[0:10]\n",
    "symbols_to_graph = ['CLOV', 'SPCE']\n",
    "fig = px.line(tmp[tmp['symbol'].isin(symbols_to_graph)].sort_values('day', ascending=False), \n",
    "              x=\"day\",\n",
    "              y=\"fraction_of_mentions\", \n",
    "              line_group=\"symbol\",\n",
    "              color=\"symbol\", \n",
    "              labels={'day': 'Day', 'fraction_of_mentions': 'Fraction of mentions', 'symbol': 'Symbol'},\n",
    "            )\n",
    "fig.update_layout(\n",
    "    make_layout(\n",
    "        title=\"Relative interest in CLOV and SPCE has increased\",\n",
    "        subtitle=\"Share of mentions across all stocks on r/wallstreetbets\",\n",
    "        source_hidden=False,\n",
    "        legend=True,\n",
    "        override={\n",
    "            'xaxis': {\n",
    "                'title': ''\n",
    "            }\n",
    "        },\n",
    "    )\n",
    ")\n",
    "fig.show()"
   ]
  },
  {
   "cell_type": "code",
   "execution_count": 82,
   "id": "5bfb4354",
   "metadata": {},
   "outputs": [
    {
     "data": {
      "application/vnd.plotly.v1+json": {
       "config": {
        "plotlyServerURL": "https://plot.ly"
       },
       "data": [
        {
         "hovertemplate": "Symbol=WISH<br>Day=%{x}<br>Fraction of mentions (7 day rolling average)=%{y}<extra></extra>",
         "legendgroup": "WISH",
         "line": {
          "color": "#636efa",
          "dash": "solid"
         },
         "mode": "lines",
         "name": "WISH",
         "showlegend": true,
         "type": "scattergl",
         "x": [
          "2021-07-26T00:00:00+00:00",
          "2021-07-25T00:00:00+00:00",
          "2021-07-24T00:00:00+00:00",
          "2021-07-23T00:00:00+00:00",
          "2021-07-22T00:00:00+00:00",
          "2021-07-21T00:00:00+00:00",
          "2021-07-20T00:00:00+00:00",
          "2021-07-19T00:00:00+00:00",
          "2021-07-18T00:00:00+00:00",
          "2021-07-17T00:00:00+00:00",
          "2021-07-16T00:00:00+00:00",
          "2021-07-15T00:00:00+00:00",
          "2021-07-14T00:00:00+00:00",
          "2021-07-13T00:00:00+00:00",
          "2021-07-12T00:00:00+00:00",
          "2021-07-11T00:00:00+00:00",
          "2021-07-10T00:00:00+00:00",
          "2021-07-09T00:00:00+00:00",
          "2021-07-08T00:00:00+00:00",
          "2021-07-07T00:00:00+00:00",
          "2021-07-06T00:00:00+00:00",
          "2021-07-05T00:00:00+00:00",
          "2021-07-04T00:00:00+00:00",
          "2021-07-03T00:00:00+00:00",
          "2021-07-02T00:00:00+00:00",
          "2021-07-01T00:00:00+00:00",
          "2021-06-30T00:00:00+00:00",
          "2021-06-29T00:00:00+00:00",
          "2021-06-28T00:00:00+00:00",
          "2021-06-27T00:00:00+00:00",
          "2021-06-26T00:00:00+00:00",
          "2021-06-25T00:00:00+00:00",
          "2021-06-24T00:00:00+00:00",
          "2021-06-23T00:00:00+00:00",
          "2021-06-22T00:00:00+00:00",
          "2021-06-21T00:00:00+00:00",
          "2021-06-20T00:00:00+00:00",
          "2021-06-19T00:00:00+00:00",
          "2021-06-18T00:00:00+00:00",
          "2021-06-17T00:00:00+00:00",
          "2021-06-16T00:00:00+00:00",
          "2021-06-15T00:00:00+00:00",
          "2021-06-14T00:00:00+00:00",
          "2021-06-13T00:00:00+00:00",
          "2021-06-12T00:00:00+00:00",
          "2021-06-11T00:00:00+00:00",
          "2021-06-10T00:00:00+00:00",
          "2021-06-09T00:00:00+00:00",
          "2021-06-08T00:00:00+00:00",
          "2021-06-07T00:00:00+00:00",
          "2021-06-06T00:00:00+00:00",
          "2021-06-05T00:00:00+00:00",
          "2021-06-04T00:00:00+00:00",
          "2021-06-03T00:00:00+00:00",
          "2021-06-02T00:00:00+00:00",
          "2021-06-01T00:00:00+00:00",
          "2021-05-31T00:00:00+00:00",
          "2021-05-30T00:00:00+00:00",
          "2021-05-29T00:00:00+00:00",
          "2021-05-28T00:00:00+00:00",
          "2021-05-27T00:00:00+00:00",
          "2021-05-26T00:00:00+00:00",
          "2021-05-25T00:00:00+00:00",
          "2021-05-24T00:00:00+00:00",
          "2021-05-23T00:00:00+00:00",
          "2021-05-21T00:00:00+00:00",
          "2021-05-20T00:00:00+00:00",
          "2021-05-19T00:00:00+00:00",
          "2021-05-18T00:00:00+00:00",
          "2021-05-17T00:00:00+00:00",
          "2021-05-16T00:00:00+00:00",
          "2021-05-14T00:00:00+00:00",
          "2021-05-13T00:00:00+00:00",
          "2021-05-12T00:00:00+00:00",
          "2021-05-11T00:00:00+00:00",
          "2021-05-10T00:00:00+00:00",
          "2021-05-09T00:00:00+00:00",
          "2021-05-08T00:00:00+00:00",
          "2021-05-07T00:00:00+00:00",
          "2021-05-06T00:00:00+00:00",
          "2021-05-05T00:00:00+00:00",
          "2021-05-04T00:00:00+00:00",
          "2021-05-03T00:00:00+00:00",
          "2021-05-02T00:00:00+00:00",
          "2021-05-01T00:00:00+00:00",
          "2021-04-30T00:00:00+00:00",
          "2021-04-29T00:00:00+00:00",
          "2021-04-28T00:00:00+00:00",
          "2021-04-27T00:00:00+00:00",
          "2021-04-26T00:00:00+00:00",
          "2021-04-25T00:00:00+00:00",
          "2021-04-23T00:00:00+00:00",
          "2021-04-22T00:00:00+00:00",
          "2021-04-21T00:00:00+00:00",
          "2021-04-20T00:00:00+00:00",
          "2021-04-19T00:00:00+00:00",
          "2021-04-18T00:00:00+00:00",
          "2021-04-17T00:00:00+00:00",
          "2021-04-16T00:00:00+00:00",
          "2021-04-15T00:00:00+00:00",
          "2021-04-14T00:00:00+00:00",
          "2021-04-13T00:00:00+00:00",
          "2021-04-12T00:00:00+00:00",
          "2021-04-11T00:00:00+00:00",
          "2021-04-10T00:00:00+00:00",
          "2021-04-09T00:00:00+00:00",
          "2021-04-08T00:00:00+00:00",
          "2021-04-07T00:00:00+00:00",
          "2021-04-06T00:00:00+00:00",
          "2021-04-05T00:00:00+00:00",
          "2021-04-04T00:00:00+00:00",
          "2021-04-02T00:00:00+00:00",
          "2021-04-01T00:00:00+00:00",
          "2021-03-31T00:00:00+00:00",
          "2021-03-30T00:00:00+00:00",
          "2021-03-29T00:00:00+00:00",
          "2021-03-26T00:00:00+00:00",
          "2021-03-25T00:00:00+00:00",
          "2021-03-24T00:00:00+00:00",
          "2021-03-23T00:00:00+00:00",
          "2021-03-22T00:00:00+00:00",
          "2021-03-21T00:00:00+00:00",
          "2021-03-20T00:00:00+00:00",
          "2021-03-19T00:00:00+00:00",
          "2021-03-18T00:00:00+00:00",
          "2021-03-17T00:00:00+00:00",
          "2021-03-16T00:00:00+00:00",
          "2021-03-15T00:00:00+00:00",
          "2021-03-14T00:00:00+00:00",
          "2021-03-13T00:00:00+00:00",
          "2021-03-12T00:00:00+00:00",
          "2021-03-11T00:00:00+00:00",
          "2021-03-10T00:00:00+00:00",
          "2021-03-09T00:00:00+00:00"
         ],
         "xaxis": "x",
         "y": [
          0.021753152767559996,
          0.022933251035498276,
          0.02287011552785739,
          0.02567578938616283,
          0.028034137194418225,
          0.03010969481630716,
          0.03205843935825104,
          0.031598288158930364,
          0.03122430115190957,
          0.03214986987230696,
          0.030194342719342356,
          0.028397343574297358,
          0.0291115300166064,
          0.028392238935453302,
          0.030600795210974613,
          0.031943622330533036,
          0.03148697221603498,
          0.03396223924958415,
          0.036986641067249706,
          0.04022290070449952,
          0.042944405368389116,
          0.04474032269769856,
          0.04900761874234872,
          0.054123903818438145,
          0.057760169515095175,
          0.05916102997495865,
          0.06382058529480754,
          0.07044711743861111,
          0.08375459235298775,
          0.1030497179445132,
          0.10342785044652436,
          0.10325379253811603,
          0.10326302853261106,
          0.09744707014235979,
          0.09171489484684872,
          0.08156126563300892,
          0.06435738585445752,
          0.06392505228000132,
          0.06394788487273381,
          0.06354088428622243,
          0.06623540861687852,
          0.07430942411059402,
          0.07853048994725846,
          0.06729954817498347,
          0.05913971781244642,
          0.050441335260406416,
          0.042035723560118254,
          0.03169394421451146,
          0.015760996343916683,
          0.0009815528618437263,
          0.0014485470785977404,
          0.0019391750270884992,
          0.0021531630329539564,
          0.0024272237878851114,
          0.0025116402604251245,
          0.002641963463439823,
          0.002897998137409872,
          0.0022771789293176458,
          0.0017868719034978657,
          0.0015093967145995504,
          0.001240123626789893,
          0.001179194156661191,
          0.000947941920325563,
          0.0005646358734609418,
          0.0005781955763778614,
          0.0012294065326907294,
          0.001821917894251324,
          0.0019185793797209998,
          0.0019078014385146018,
          0.0019212965910098447,
          0.002097489072285645,
          0.0021069911187889105,
          0.0014597318113822397,
          0.0008576317084216982,
          0.0007669443766080076,
          0.0007108600915680934,
          0.000634509307943713,
          0.0004545202873249735,
          0.0005150502217408979,
          0.0004883849132195672,
          0.0005493688512822674,
          0.0007599059777072442,
          0.0011113379015094355,
          0.0010991811512634782,
          0.001096087523867799,
          0.0009342637075067941,
          0.0009447996384457178,
          0.0008892908233225239,
          0.0007359395017469034,
          0.00036609712793837427,
          0.0003740483160919015,
          0.0003226732336176628,
          0.00044341178499738697,
          0.00047010258253975403,
          0.00044736964725296735,
          0.00033783631928832304,
          0.0003685356240778684,
          0.0003687158771387456,
          0.0003736826636300297,
          0.00033464942145338555,
          0.00040660068284186754,
          0.00046950889709636187,
          0.0005129535439148904,
          0.000490055866151001,
          0.0004936116576393881,
          0.000668797973300371,
          0.0006148176226775077,
          0.00048472059511565186,
          0.0004531184829369069,
          0.00045766239860257305,
          0.00046443010631944175,
          0.0004929969685418186,
          0.00033867013244918157,
          0.00031499071197584456,
          0.0003546617205627011,
          0.0003549478565762153,
          0.00036920188905764667,
          0.00035614404511220994,
          0.0003488916311636206,
          0.00030771933259764867,
          0.0003206723663362311,
          0.00030229389099081414,
          0.0003082498105576574,
          0.00027517036275407746,
          0.0003141145064015774,
          0.00037391549758683973,
          0.0004650890148153031,
          0.0005030845390059674,
          0.0005496963351256691,
          0.000579432420757941,
          0.0006525339243400784,
          0.0007387470213915635,
          0.0006613500444692703,
          0.0005200208008320333
         ],
         "yaxis": "y"
        },
        {
         "hovertemplate": "Symbol=TSLA<br>Day=%{x}<br>Fraction of mentions (7 day rolling average)=%{y}<extra></extra>",
         "legendgroup": "TSLA",
         "line": {
          "color": "#EF553B",
          "dash": "solid"
         },
         "mode": "lines",
         "name": "TSLA",
         "showlegend": true,
         "type": "scattergl",
         "x": [
          "2021-07-26T00:00:00+00:00",
          "2021-07-25T00:00:00+00:00",
          "2021-07-24T00:00:00+00:00",
          "2021-07-23T00:00:00+00:00",
          "2021-07-22T00:00:00+00:00",
          "2021-07-21T00:00:00+00:00",
          "2021-07-20T00:00:00+00:00",
          "2021-07-19T00:00:00+00:00",
          "2021-07-18T00:00:00+00:00",
          "2021-07-17T00:00:00+00:00",
          "2021-07-16T00:00:00+00:00",
          "2021-07-15T00:00:00+00:00",
          "2021-07-14T00:00:00+00:00",
          "2021-07-13T00:00:00+00:00",
          "2021-07-12T00:00:00+00:00",
          "2021-07-11T00:00:00+00:00",
          "2021-07-10T00:00:00+00:00",
          "2021-07-09T00:00:00+00:00",
          "2021-07-08T00:00:00+00:00",
          "2021-07-07T00:00:00+00:00",
          "2021-07-06T00:00:00+00:00",
          "2021-07-05T00:00:00+00:00",
          "2021-07-04T00:00:00+00:00",
          "2021-07-03T00:00:00+00:00",
          "2021-07-02T00:00:00+00:00",
          "2021-07-01T00:00:00+00:00",
          "2021-06-30T00:00:00+00:00",
          "2021-06-29T00:00:00+00:00",
          "2021-06-28T00:00:00+00:00",
          "2021-06-27T00:00:00+00:00",
          "2021-06-26T00:00:00+00:00",
          "2021-06-25T00:00:00+00:00",
          "2021-06-24T00:00:00+00:00",
          "2021-06-23T00:00:00+00:00",
          "2021-06-22T00:00:00+00:00",
          "2021-06-21T00:00:00+00:00",
          "2021-06-20T00:00:00+00:00",
          "2021-06-19T00:00:00+00:00",
          "2021-06-18T00:00:00+00:00",
          "2021-06-17T00:00:00+00:00",
          "2021-06-16T00:00:00+00:00",
          "2021-06-15T00:00:00+00:00",
          "2021-06-14T00:00:00+00:00",
          "2021-06-13T00:00:00+00:00",
          "2021-06-12T00:00:00+00:00",
          "2021-06-11T00:00:00+00:00",
          "2021-06-10T00:00:00+00:00",
          "2021-06-09T00:00:00+00:00",
          "2021-06-08T00:00:00+00:00",
          "2021-06-07T00:00:00+00:00",
          "2021-06-06T00:00:00+00:00",
          "2021-06-05T00:00:00+00:00",
          "2021-06-04T00:00:00+00:00",
          "2021-06-03T00:00:00+00:00",
          "2021-06-02T00:00:00+00:00",
          "2021-06-01T00:00:00+00:00",
          "2021-05-31T00:00:00+00:00",
          "2021-05-30T00:00:00+00:00",
          "2021-05-29T00:00:00+00:00",
          "2021-05-28T00:00:00+00:00",
          "2021-05-27T00:00:00+00:00",
          "2021-05-26T00:00:00+00:00",
          "2021-05-25T00:00:00+00:00",
          "2021-05-24T00:00:00+00:00",
          "2021-05-23T00:00:00+00:00",
          "2021-05-22T00:00:00+00:00",
          "2021-05-21T00:00:00+00:00",
          "2021-05-20T00:00:00+00:00",
          "2021-05-19T00:00:00+00:00",
          "2021-05-18T00:00:00+00:00",
          "2021-05-17T00:00:00+00:00",
          "2021-05-16T00:00:00+00:00",
          "2021-05-15T00:00:00+00:00",
          "2021-05-14T00:00:00+00:00",
          "2021-05-13T00:00:00+00:00",
          "2021-05-12T00:00:00+00:00",
          "2021-05-11T00:00:00+00:00",
          "2021-05-10T00:00:00+00:00",
          "2021-05-09T00:00:00+00:00",
          "2021-05-08T00:00:00+00:00",
          "2021-05-07T00:00:00+00:00",
          "2021-05-06T00:00:00+00:00",
          "2021-05-05T00:00:00+00:00",
          "2021-05-04T00:00:00+00:00",
          "2021-05-03T00:00:00+00:00",
          "2021-05-02T00:00:00+00:00",
          "2021-05-01T00:00:00+00:00",
          "2021-04-30T00:00:00+00:00",
          "2021-04-29T00:00:00+00:00",
          "2021-04-28T00:00:00+00:00",
          "2021-04-27T00:00:00+00:00",
          "2021-04-26T00:00:00+00:00",
          "2021-04-25T00:00:00+00:00",
          "2021-04-24T00:00:00+00:00",
          "2021-04-23T00:00:00+00:00",
          "2021-04-22T00:00:00+00:00",
          "2021-04-21T00:00:00+00:00",
          "2021-04-20T00:00:00+00:00",
          "2021-04-19T00:00:00+00:00",
          "2021-04-18T00:00:00+00:00",
          "2021-04-17T00:00:00+00:00",
          "2021-04-16T00:00:00+00:00",
          "2021-04-15T00:00:00+00:00",
          "2021-04-14T00:00:00+00:00",
          "2021-04-13T00:00:00+00:00",
          "2021-04-12T00:00:00+00:00",
          "2021-04-11T00:00:00+00:00",
          "2021-04-10T00:00:00+00:00",
          "2021-04-09T00:00:00+00:00",
          "2021-04-08T00:00:00+00:00",
          "2021-04-07T00:00:00+00:00",
          "2021-04-06T00:00:00+00:00",
          "2021-04-05T00:00:00+00:00",
          "2021-04-04T00:00:00+00:00",
          "2021-04-03T00:00:00+00:00",
          "2021-04-02T00:00:00+00:00",
          "2021-04-01T00:00:00+00:00",
          "2021-03-31T00:00:00+00:00",
          "2021-03-30T00:00:00+00:00",
          "2021-03-29T00:00:00+00:00",
          "2021-03-26T00:00:00+00:00",
          "2021-03-25T00:00:00+00:00",
          "2021-03-24T00:00:00+00:00",
          "2021-03-23T00:00:00+00:00",
          "2021-03-22T00:00:00+00:00",
          "2021-03-21T00:00:00+00:00",
          "2021-03-20T00:00:00+00:00",
          "2021-03-19T00:00:00+00:00",
          "2021-03-18T00:00:00+00:00",
          "2021-03-17T00:00:00+00:00",
          "2021-03-16T00:00:00+00:00",
          "2021-03-15T00:00:00+00:00",
          "2021-03-14T00:00:00+00:00",
          "2021-03-13T00:00:00+00:00",
          "2021-03-12T00:00:00+00:00",
          "2021-03-11T00:00:00+00:00",
          "2021-03-10T00:00:00+00:00",
          "2021-03-09T00:00:00+00:00"
         ],
         "xaxis": "x",
         "y": [
          0.030791602197526052,
          0.028206879361938574,
          0.027024970905927148,
          0.02630277469500913,
          0.02317745444407316,
          0.022742809759519405,
          0.021829186266819033,
          0.021735768168383744,
          0.023146657143507988,
          0.02052412687750494,
          0.021069240389979142,
          0.021654243853207456,
          0.02140729188795252,
          0.020342694149104355,
          0.02004196462492166,
          0.017728264469937565,
          0.019575720436688752,
          0.018161708457185993,
          0.019870051135535867,
          0.01947280611850194,
          0.020033839912678358,
          0.018844655502202348,
          0.020212332189681815,
          0.019917299732770784,
          0.020841813604763726,
          0.02110252160087298,
          0.030097906579423517,
          0.032738989926565716,
          0.031989077544334735,
          0.03090573402103609,
          0.031885820806132066,
          0.03225817777456906,
          0.029783184876633735,
          0.02014043188860352,
          0.017083948153041137,
          0.01703834708107066,
          0.0159538933283391,
          0.014093996102548658,
          0.011784841575956623,
          0.010918971776016237,
          0.009750382240723054,
          0.00841287966727713,
          0.00807890127148509,
          0.008229551442222559,
          0.007213447924736896,
          0.006974569571082047,
          0.006980049878090518,
          0.007454214995916848,
          0.0077425518160961215,
          0.008378293741148698,
          0.010346342367534237,
          0.01055695350076121,
          0.010419743020856067,
          0.010186524387734073,
          0.01066099777818144,
          0.012303858733495722,
          0.015429761014855868,
          0.02164562900746066,
          0.02887488621782464,
          0.03260260382996533,
          0.04384644664425054,
          0.050893380253279934,
          0.0584555377154098,
          0.06376117014683341,
          0.06649787339253031,
          0.06920063185452716,
          0.06971396756727066,
          0.06482083699197873,
          0.06531502274160135,
          0.06265919538880828,
          0.059007465743052934,
          0.052077448413687395,
          0.046541449277362354,
          0.043686593488704455,
          0.03989558003122954,
          0.03333784545522981,
          0.02861032431177623,
          0.026174034715042364,
          0.025509375687318224,
          0.02280266774541362,
          0.024138938349766347,
          0.027481638321209503,
          0.029296703466430634,
          0.030061242665549274,
          0.02989799658553986,
          0.03263721572961154,
          0.035604019133627,
          0.03640329092009427,
          0.03299143742496687,
          0.03331296563745675,
          0.035828825353777294,
          0.03824927608095324,
          0.03702360952560641,
          0.03693025832815839,
          0.03545409466255934,
          0.035187970541727204,
          0.03720859828119693,
          0.039811253806716206,
          0.04382880039933319,
          0.042423078113030185,
          0.040513966444404935,
          0.0411592556332258,
          0.041260681010830455,
          0.03852113021595366,
          0.03469068785967009,
          0.02950899956064555,
          0.03619356048085344,
          0.03866477956856614,
          0.04201189915280963,
          0.048309566152463616,
          0.05340092807289288,
          0.05381377288345771,
          0.05439079241457918,
          0.04691378087617317,
          0.04516536042588088,
          0.041394812629678195,
          0.034493789270154694,
          0.027996658573308738,
          0.029052783510656138,
          0.02896499294645854,
          0.02947692033068237,
          0.02758143854430176,
          0.027346582747126282,
          0.02751504162746191,
          0.02752488122104042,
          0.023503519796443488,
          0.020463074320008656,
          0.018941926509241525,
          0.01957131590985703,
          0.020623607038218705,
          0.020748653762175124,
          0.026331197551900363,
          0.028217496339594212,
          0.030679602745596203,
          0.03336241962028457,
          0.0364247984564569,
          0.04053201514702898,
          0.05858901022707575
         ],
         "yaxis": "y"
        },
        {
         "hovertemplate": "Symbol=AMC<br>Day=%{x}<br>Fraction of mentions (7 day rolling average)=%{y}<extra></extra>",
         "legendgroup": "AMC",
         "line": {
          "color": "#00cc96",
          "dash": "solid"
         },
         "mode": "lines",
         "name": "AMC",
         "showlegend": true,
         "type": "scattergl",
         "x": [
          "2021-07-26T00:00:00+00:00",
          "2021-07-25T00:00:00+00:00",
          "2021-07-24T00:00:00+00:00",
          "2021-07-23T00:00:00+00:00",
          "2021-07-22T00:00:00+00:00",
          "2021-07-21T00:00:00+00:00",
          "2021-07-20T00:00:00+00:00",
          "2021-07-19T00:00:00+00:00",
          "2021-07-18T00:00:00+00:00",
          "2021-07-17T00:00:00+00:00",
          "2021-07-16T00:00:00+00:00",
          "2021-07-15T00:00:00+00:00",
          "2021-07-14T00:00:00+00:00",
          "2021-07-13T00:00:00+00:00",
          "2021-07-12T00:00:00+00:00",
          "2021-07-11T00:00:00+00:00",
          "2021-07-10T00:00:00+00:00",
          "2021-07-09T00:00:00+00:00",
          "2021-07-08T00:00:00+00:00",
          "2021-07-07T00:00:00+00:00",
          "2021-07-06T00:00:00+00:00",
          "2021-07-05T00:00:00+00:00",
          "2021-07-04T00:00:00+00:00",
          "2021-07-03T00:00:00+00:00",
          "2021-07-02T00:00:00+00:00",
          "2021-07-01T00:00:00+00:00",
          "2021-06-30T00:00:00+00:00",
          "2021-06-29T00:00:00+00:00",
          "2021-06-28T00:00:00+00:00",
          "2021-06-27T00:00:00+00:00",
          "2021-06-26T00:00:00+00:00",
          "2021-06-25T00:00:00+00:00",
          "2021-06-24T00:00:00+00:00",
          "2021-06-23T00:00:00+00:00",
          "2021-06-22T00:00:00+00:00",
          "2021-06-21T00:00:00+00:00",
          "2021-06-20T00:00:00+00:00",
          "2021-06-19T00:00:00+00:00",
          "2021-06-18T00:00:00+00:00",
          "2021-06-17T00:00:00+00:00",
          "2021-06-16T00:00:00+00:00",
          "2021-06-15T00:00:00+00:00",
          "2021-06-14T00:00:00+00:00",
          "2021-06-13T00:00:00+00:00",
          "2021-06-12T00:00:00+00:00",
          "2021-06-11T00:00:00+00:00",
          "2021-06-10T00:00:00+00:00",
          "2021-06-09T00:00:00+00:00",
          "2021-06-08T00:00:00+00:00",
          "2021-06-07T00:00:00+00:00",
          "2021-06-06T00:00:00+00:00",
          "2021-06-05T00:00:00+00:00",
          "2021-06-04T00:00:00+00:00",
          "2021-06-03T00:00:00+00:00",
          "2021-06-02T00:00:00+00:00",
          "2021-06-01T00:00:00+00:00",
          "2021-05-31T00:00:00+00:00",
          "2021-05-30T00:00:00+00:00",
          "2021-05-29T00:00:00+00:00",
          "2021-05-28T00:00:00+00:00",
          "2021-05-27T00:00:00+00:00",
          "2021-05-26T00:00:00+00:00",
          "2021-05-25T00:00:00+00:00",
          "2021-05-24T00:00:00+00:00",
          "2021-05-23T00:00:00+00:00",
          "2021-05-22T00:00:00+00:00",
          "2021-05-21T00:00:00+00:00",
          "2021-05-20T00:00:00+00:00",
          "2021-05-19T00:00:00+00:00",
          "2021-05-18T00:00:00+00:00",
          "2021-05-17T00:00:00+00:00",
          "2021-05-16T00:00:00+00:00",
          "2021-05-15T00:00:00+00:00",
          "2021-05-14T00:00:00+00:00",
          "2021-05-13T00:00:00+00:00",
          "2021-05-12T00:00:00+00:00",
          "2021-05-11T00:00:00+00:00",
          "2021-05-10T00:00:00+00:00",
          "2021-05-09T00:00:00+00:00",
          "2021-05-08T00:00:00+00:00",
          "2021-05-07T00:00:00+00:00",
          "2021-05-06T00:00:00+00:00",
          "2021-05-05T00:00:00+00:00",
          "2021-05-04T00:00:00+00:00",
          "2021-05-03T00:00:00+00:00",
          "2021-05-02T00:00:00+00:00",
          "2021-05-01T00:00:00+00:00",
          "2021-04-30T00:00:00+00:00",
          "2021-04-29T00:00:00+00:00",
          "2021-04-28T00:00:00+00:00",
          "2021-04-27T00:00:00+00:00",
          "2021-04-26T00:00:00+00:00",
          "2021-04-25T00:00:00+00:00",
          "2021-04-24T00:00:00+00:00",
          "2021-04-23T00:00:00+00:00",
          "2021-04-22T00:00:00+00:00",
          "2021-04-21T00:00:00+00:00",
          "2021-04-20T00:00:00+00:00",
          "2021-04-19T00:00:00+00:00",
          "2021-04-18T00:00:00+00:00",
          "2021-04-17T00:00:00+00:00",
          "2021-04-16T00:00:00+00:00",
          "2021-04-15T00:00:00+00:00",
          "2021-04-14T00:00:00+00:00",
          "2021-04-13T00:00:00+00:00",
          "2021-04-12T00:00:00+00:00",
          "2021-04-11T00:00:00+00:00",
          "2021-04-10T00:00:00+00:00",
          "2021-04-09T00:00:00+00:00",
          "2021-04-08T00:00:00+00:00",
          "2021-04-07T00:00:00+00:00",
          "2021-04-06T00:00:00+00:00",
          "2021-04-05T00:00:00+00:00",
          "2021-04-04T00:00:00+00:00",
          "2021-04-03T00:00:00+00:00",
          "2021-04-02T00:00:00+00:00",
          "2021-04-01T00:00:00+00:00",
          "2021-03-31T00:00:00+00:00",
          "2021-03-30T00:00:00+00:00",
          "2021-03-29T00:00:00+00:00",
          "2021-03-26T00:00:00+00:00",
          "2021-03-25T00:00:00+00:00",
          "2021-03-24T00:00:00+00:00",
          "2021-03-23T00:00:00+00:00",
          "2021-03-22T00:00:00+00:00",
          "2021-03-21T00:00:00+00:00",
          "2021-03-20T00:00:00+00:00",
          "2021-03-19T00:00:00+00:00",
          "2021-03-18T00:00:00+00:00",
          "2021-03-17T00:00:00+00:00",
          "2021-03-16T00:00:00+00:00",
          "2021-03-15T00:00:00+00:00",
          "2021-03-14T00:00:00+00:00",
          "2021-03-13T00:00:00+00:00",
          "2021-03-12T00:00:00+00:00",
          "2021-03-11T00:00:00+00:00",
          "2021-03-10T00:00:00+00:00",
          "2021-03-09T00:00:00+00:00"
         ],
         "xaxis": "x",
         "y": [
          0.06248387242136728,
          0.06561240512336529,
          0.07025042252004407,
          0.07155773397773146,
          0.07568926430679145,
          0.08467329467030281,
          0.08828128690620628,
          0.08521702504688755,
          0.0828925932274263,
          0.07806189110851733,
          0.07684345794387551,
          0.07270122228178065,
          0.06703948509645832,
          0.06266500560648226,
          0.06206021680231298,
          0.06704521703188017,
          0.07584249168399612,
          0.07894552830896477,
          0.08257308813982485,
          0.07923356154002666,
          0.07472521811059304,
          0.072250419931034,
          0.06772150030602084,
          0.06230594303294536,
          0.0589591307474902,
          0.05605178712746164,
          0.055203175096062526,
          0.05748681974929289,
          0.061590288057147204,
          0.06469417043663753,
          0.07162728005927864,
          0.08475898098257557,
          0.09326676224932332,
          0.10375380715004477,
          0.10788537821480138,
          0.11030566505252717,
          0.1116485398918179,
          0.10563105147672733,
          0.10020525312962796,
          0.09833080935954668,
          0.09451839461855968,
          0.09319643486593014,
          0.09084997101774002,
          0.0979618559805754,
          0.1148465178202117,
          0.13327728185580479,
          0.15194251961509034,
          0.17405601233080953,
          0.20483764934819967,
          0.2341178119406985,
          0.2508351420013445,
          0.26222375958828104,
          0.27259456566491064,
          0.2925689409783451,
          0.3077478358480517,
          0.29921453852935775,
          0.2819560180070523,
          0.2589590377789385,
          0.2268177576570622,
          0.19180749823113574,
          0.14919243151698722,
          0.10900563218895609,
          0.0914266143074861,
          0.09206352137997355,
          0.09790896513682609,
          0.10171358027362357,
          0.10766783390993513,
          0.1285589208858991,
          0.14869481481795827,
          0.14080959254968206,
          0.1240157455766199,
          0.11071484004597953,
          0.10430060845103287,
          0.09636073977970558,
          0.0716325260206329,
          0.04695661643443043,
          0.04358170046356402,
          0.03920184543678906,
          0.036384917449658265,
          0.036167122574255264,
          0.03177106442220066,
          0.02897714318332226,
          0.025675727769782584,
          0.02799863850390827,
          0.029518022641376786,
          0.03204253877348118,
          0.03159400699578476,
          0.03193734391542282,
          0.03286110701633853,
          0.03442250264921728,
          0.03143689007537816,
          0.02962876057955222,
          0.02761972102670866,
          0.02736784306358855,
          0.026548676378016976,
          0.02695360743590381,
          0.027925897215995404,
          0.026653670075313867,
          0.028205125631362925,
          0.030266609630504083,
          0.03411125291639172,
          0.034758328719058366,
          0.03486129689858371,
          0.03308909756864043,
          0.03451735918600995,
          0.03459850229389546,
          0.03811596988570828,
          0.041146680164857515,
          0.046986725889613265,
          0.05630285881013995,
          0.061861326701166904,
          0.06185605837754167,
          0.06228934825177051,
          0.05825722424090831,
          0.054069988609189865,
          0.05371440207749496,
          0.047656861728056533,
          0.04702537423887019,
          0.056586925865439223,
          0.06994384485233299,
          0.08458749100229826,
          0.08751776392751297,
          0.08692362521661963,
          0.08760873513239739,
          0.09297683409889124,
          0.10311547980670686,
          0.09549271586767823,
          0.08812171189261589,
          0.08673622172980845,
          0.0859823748589276,
          0.09254111873252313,
          0.09428286209770005,
          0.08227847167281567,
          0.08421739017527081,
          0.08424705344813557,
          0.09156787497335524,
          0.10769476199624253,
          0.11076443057722309
         ],
         "yaxis": "y"
        },
        {
         "hovertemplate": "Symbol=AMD<br>Day=%{x}<br>Fraction of mentions (7 day rolling average)=%{y}<extra></extra>",
         "legendgroup": "AMD",
         "line": {
          "color": "#ab63fa",
          "dash": "solid"
         },
         "mode": "lines",
         "name": "AMD",
         "showlegend": true,
         "type": "scattergl",
         "x": [
          "2021-07-26T00:00:00+00:00",
          "2021-07-25T00:00:00+00:00",
          "2021-07-24T00:00:00+00:00",
          "2021-07-23T00:00:00+00:00",
          "2021-07-22T00:00:00+00:00",
          "2021-07-21T00:00:00+00:00",
          "2021-07-20T00:00:00+00:00",
          "2021-07-19T00:00:00+00:00",
          "2021-07-18T00:00:00+00:00",
          "2021-07-17T00:00:00+00:00",
          "2021-07-16T00:00:00+00:00",
          "2021-07-15T00:00:00+00:00",
          "2021-07-14T00:00:00+00:00",
          "2021-07-13T00:00:00+00:00",
          "2021-07-12T00:00:00+00:00",
          "2021-07-11T00:00:00+00:00",
          "2021-07-10T00:00:00+00:00",
          "2021-07-09T00:00:00+00:00",
          "2021-07-08T00:00:00+00:00",
          "2021-07-07T00:00:00+00:00",
          "2021-07-06T00:00:00+00:00",
          "2021-07-05T00:00:00+00:00",
          "2021-07-04T00:00:00+00:00",
          "2021-07-03T00:00:00+00:00",
          "2021-07-02T00:00:00+00:00",
          "2021-07-01T00:00:00+00:00",
          "2021-06-30T00:00:00+00:00",
          "2021-06-29T00:00:00+00:00",
          "2021-06-28T00:00:00+00:00",
          "2021-06-27T00:00:00+00:00",
          "2021-06-26T00:00:00+00:00",
          "2021-06-25T00:00:00+00:00",
          "2021-06-24T00:00:00+00:00",
          "2021-06-23T00:00:00+00:00",
          "2021-06-22T00:00:00+00:00",
          "2021-06-21T00:00:00+00:00",
          "2021-06-20T00:00:00+00:00",
          "2021-06-19T00:00:00+00:00",
          "2021-06-18T00:00:00+00:00",
          "2021-06-17T00:00:00+00:00",
          "2021-06-16T00:00:00+00:00",
          "2021-06-15T00:00:00+00:00",
          "2021-06-14T00:00:00+00:00",
          "2021-06-13T00:00:00+00:00",
          "2021-06-12T00:00:00+00:00",
          "2021-06-11T00:00:00+00:00",
          "2021-06-10T00:00:00+00:00",
          "2021-06-09T00:00:00+00:00",
          "2021-06-08T00:00:00+00:00",
          "2021-06-07T00:00:00+00:00",
          "2021-06-06T00:00:00+00:00",
          "2021-06-05T00:00:00+00:00",
          "2021-06-04T00:00:00+00:00",
          "2021-06-03T00:00:00+00:00",
          "2021-06-02T00:00:00+00:00",
          "2021-06-01T00:00:00+00:00",
          "2021-05-31T00:00:00+00:00",
          "2021-05-30T00:00:00+00:00",
          "2021-05-29T00:00:00+00:00",
          "2021-05-28T00:00:00+00:00",
          "2021-05-27T00:00:00+00:00",
          "2021-05-26T00:00:00+00:00",
          "2021-05-25T00:00:00+00:00",
          "2021-05-24T00:00:00+00:00",
          "2021-05-23T00:00:00+00:00",
          "2021-05-22T00:00:00+00:00",
          "2021-05-21T00:00:00+00:00",
          "2021-05-20T00:00:00+00:00",
          "2021-05-19T00:00:00+00:00",
          "2021-05-18T00:00:00+00:00",
          "2021-05-17T00:00:00+00:00",
          "2021-05-16T00:00:00+00:00",
          "2021-05-15T00:00:00+00:00",
          "2021-05-14T00:00:00+00:00",
          "2021-05-13T00:00:00+00:00",
          "2021-05-12T00:00:00+00:00",
          "2021-05-11T00:00:00+00:00",
          "2021-05-10T00:00:00+00:00",
          "2021-05-09T00:00:00+00:00",
          "2021-05-08T00:00:00+00:00",
          "2021-05-07T00:00:00+00:00",
          "2021-05-06T00:00:00+00:00",
          "2021-05-05T00:00:00+00:00",
          "2021-05-04T00:00:00+00:00",
          "2021-05-03T00:00:00+00:00",
          "2021-05-02T00:00:00+00:00",
          "2021-05-01T00:00:00+00:00",
          "2021-04-30T00:00:00+00:00",
          "2021-04-29T00:00:00+00:00",
          "2021-04-28T00:00:00+00:00",
          "2021-04-27T00:00:00+00:00",
          "2021-04-26T00:00:00+00:00",
          "2021-04-25T00:00:00+00:00",
          "2021-04-24T00:00:00+00:00",
          "2021-04-23T00:00:00+00:00",
          "2021-04-22T00:00:00+00:00",
          "2021-04-21T00:00:00+00:00",
          "2021-04-20T00:00:00+00:00",
          "2021-04-19T00:00:00+00:00",
          "2021-04-18T00:00:00+00:00",
          "2021-04-17T00:00:00+00:00",
          "2021-04-16T00:00:00+00:00",
          "2021-04-15T00:00:00+00:00",
          "2021-04-14T00:00:00+00:00",
          "2021-04-13T00:00:00+00:00",
          "2021-04-12T00:00:00+00:00",
          "2021-04-11T00:00:00+00:00",
          "2021-04-10T00:00:00+00:00",
          "2021-04-09T00:00:00+00:00",
          "2021-04-08T00:00:00+00:00",
          "2021-04-07T00:00:00+00:00",
          "2021-04-06T00:00:00+00:00",
          "2021-04-05T00:00:00+00:00",
          "2021-04-04T00:00:00+00:00",
          "2021-04-03T00:00:00+00:00",
          "2021-04-02T00:00:00+00:00",
          "2021-04-01T00:00:00+00:00",
          "2021-03-31T00:00:00+00:00",
          "2021-03-30T00:00:00+00:00",
          "2021-03-29T00:00:00+00:00",
          "2021-03-26T00:00:00+00:00",
          "2021-03-25T00:00:00+00:00",
          "2021-03-24T00:00:00+00:00",
          "2021-03-23T00:00:00+00:00",
          "2021-03-22T00:00:00+00:00",
          "2021-03-21T00:00:00+00:00",
          "2021-03-20T00:00:00+00:00",
          "2021-03-19T00:00:00+00:00",
          "2021-03-18T00:00:00+00:00",
          "2021-03-17T00:00:00+00:00",
          "2021-03-16T00:00:00+00:00",
          "2021-03-15T00:00:00+00:00",
          "2021-03-14T00:00:00+00:00",
          "2021-03-13T00:00:00+00:00",
          "2021-03-12T00:00:00+00:00",
          "2021-03-11T00:00:00+00:00",
          "2021-03-10T00:00:00+00:00",
          "2021-03-09T00:00:00+00:00"
         ],
         "xaxis": "x",
         "y": [
          0.027931676369221024,
          0.02695519228871485,
          0.021342669700508687,
          0.020061786840678462,
          0.018637616174305538,
          0.017194500789137927,
          0.016319596016529502,
          0.015856594984745856,
          0.015259491137151943,
          0.01498681712052165,
          0.014969942124356875,
          0.014536391853595097,
          0.013583925238254467,
          0.014592095388390776,
          0.015672928929731076,
          0.0207713038537681,
          0.021811250311032298,
          0.02151947977811147,
          0.022697928452229208,
          0.02711216084655262,
          0.03164959421981602,
          0.032382396793041786,
          0.02690829177563811,
          0.025682691039395706,
          0.024362237424252874,
          0.022689166932957996,
          0.01790685549491586,
          0.011917947516101767,
          0.010046740079527982,
          0.009281442559876507,
          0.009908125217225264,
          0.01038318509131732,
          0.010636944537737216,
          0.011462377713535718,
          0.010829660773343857,
          0.009760580303352548,
          0.00937116069556342,
          0.009192230180802822,
          0.008411897834304185,
          0.007467854544858724,
          0.005424986981608043,
          0.005119537903606508,
          0.004886055537758937,
          0.004408158821252118,
          0.003588300943326518,
          0.0033212280643425325,
          0.003077973265440298,
          0.0028745167038259057,
          0.002954448098521744,
          0.005406714311950736,
          0.007055978675347513,
          0.00711824778472015,
          0.007819802038035215,
          0.008120140489972625,
          0.008271281790097404,
          0.008666559979021925,
          0.007268205007180734,
          0.00760219245327835,
          0.007598993599791562,
          0.008319677258658708,
          0.010922854556760758,
          0.014974689104197521,
          0.02168306718632216,
          0.02178645338585746,
          0.021024650167409707,
          0.022267189593808856,
          0.022040374522448582,
          0.02113257521303482,
          0.020314903486857105,
          0.014614183865149915,
          0.015779204728446235,
          0.016747566606712627,
          0.015339692652735987,
          0.01527863561850133,
          0.015605839616061245,
          0.014798195708623504,
          0.017392521445138247,
          0.020805912414014867,
          0.025520484991270787,
          0.02724376893251929,
          0.029082255803919235,
          0.030290540649408774,
          0.030720852337409038,
          0.03587294323716349,
          0.03630685054632892,
          0.0324641544053166,
          0.032473936160510565,
          0.03391787460429473,
          0.0355353951517761,
          0.0356789691907846,
          0.02840078208875329,
          0.02398320270707924,
          0.02231115992763962,
          0.022314768029799235,
          0.01823880193763542,
          0.01402798861276964,
          0.014692243767341294,
          0.01385707469397415,
          0.014368069264405337,
          0.01749753685276176,
          0.016304441842815397,
          0.0176841365190849,
          0.017732811978613046,
          0.015319546226162108,
          0.015758075541023552,
          0.014841275957534955,
          0.011987584380795887,
          0.01204416906267014,
          0.01137983142895414,
          0.011644787511176685,
          0.011330422440297678,
          0.011207638641991044,
          0.011530289818783079,
          0.010324270283445541,
          0.010256969416072622,
          0.010047257565840077,
          0.010193356427729502,
          0.011264773223145215,
          0.011206280683680342,
          0.010729499214341612,
          0.011112356890335249,
          0.011158888511092835,
          0.011434625553622717,
          0.01076865634689386,
          0.009181198753769229,
          0.008625003794471283,
          0.007601247779018252,
          0.007691225719910161,
          0.007267190964160111,
          0.00677406694584349,
          0.006295085270509799,
          0.00648885388803198,
          0.006341553843454647,
          0.006994973554800302,
          0.006555140594476268,
          0.006737889740608107,
          0.006107175007474156,
          0.007453631478592477
         ],
         "yaxis": "y"
        },
        {
         "hovertemplate": "Symbol=BB<br>Day=%{x}<br>Fraction of mentions (7 day rolling average)=%{y}<extra></extra>",
         "legendgroup": "BB",
         "line": {
          "color": "#FFA15A",
          "dash": "solid"
         },
         "mode": "lines",
         "name": "BB",
         "showlegend": true,
         "type": "scattergl",
         "x": [
          "2021-07-26T00:00:00+00:00",
          "2021-07-25T00:00:00+00:00",
          "2021-07-24T00:00:00+00:00",
          "2021-07-23T00:00:00+00:00",
          "2021-07-22T00:00:00+00:00",
          "2021-07-21T00:00:00+00:00",
          "2021-07-20T00:00:00+00:00",
          "2021-07-19T00:00:00+00:00",
          "2021-07-18T00:00:00+00:00",
          "2021-07-17T00:00:00+00:00",
          "2021-07-16T00:00:00+00:00",
          "2021-07-15T00:00:00+00:00",
          "2021-07-14T00:00:00+00:00",
          "2021-07-13T00:00:00+00:00",
          "2021-07-12T00:00:00+00:00",
          "2021-07-11T00:00:00+00:00",
          "2021-07-10T00:00:00+00:00",
          "2021-07-09T00:00:00+00:00",
          "2021-07-08T00:00:00+00:00",
          "2021-07-07T00:00:00+00:00",
          "2021-07-06T00:00:00+00:00",
          "2021-07-05T00:00:00+00:00",
          "2021-07-04T00:00:00+00:00",
          "2021-07-03T00:00:00+00:00",
          "2021-07-02T00:00:00+00:00",
          "2021-07-01T00:00:00+00:00",
          "2021-06-30T00:00:00+00:00",
          "2021-06-29T00:00:00+00:00",
          "2021-06-28T00:00:00+00:00",
          "2021-06-27T00:00:00+00:00",
          "2021-06-26T00:00:00+00:00",
          "2021-06-25T00:00:00+00:00",
          "2021-06-24T00:00:00+00:00",
          "2021-06-23T00:00:00+00:00",
          "2021-06-22T00:00:00+00:00",
          "2021-06-21T00:00:00+00:00",
          "2021-06-20T00:00:00+00:00",
          "2021-06-19T00:00:00+00:00",
          "2021-06-18T00:00:00+00:00",
          "2021-06-17T00:00:00+00:00",
          "2021-06-16T00:00:00+00:00",
          "2021-06-15T00:00:00+00:00",
          "2021-06-14T00:00:00+00:00",
          "2021-06-13T00:00:00+00:00",
          "2021-06-12T00:00:00+00:00",
          "2021-06-11T00:00:00+00:00",
          "2021-06-10T00:00:00+00:00",
          "2021-06-09T00:00:00+00:00",
          "2021-06-08T00:00:00+00:00",
          "2021-06-07T00:00:00+00:00",
          "2021-06-06T00:00:00+00:00",
          "2021-06-05T00:00:00+00:00",
          "2021-06-04T00:00:00+00:00",
          "2021-06-03T00:00:00+00:00",
          "2021-06-02T00:00:00+00:00",
          "2021-06-01T00:00:00+00:00",
          "2021-05-31T00:00:00+00:00",
          "2021-05-30T00:00:00+00:00",
          "2021-05-29T00:00:00+00:00",
          "2021-05-28T00:00:00+00:00",
          "2021-05-27T00:00:00+00:00",
          "2021-05-26T00:00:00+00:00",
          "2021-05-25T00:00:00+00:00",
          "2021-05-24T00:00:00+00:00",
          "2021-05-23T00:00:00+00:00",
          "2021-05-22T00:00:00+00:00",
          "2021-05-21T00:00:00+00:00",
          "2021-05-20T00:00:00+00:00",
          "2021-05-19T00:00:00+00:00",
          "2021-05-18T00:00:00+00:00",
          "2021-05-17T00:00:00+00:00",
          "2021-05-16T00:00:00+00:00",
          "2021-05-15T00:00:00+00:00",
          "2021-05-14T00:00:00+00:00",
          "2021-05-13T00:00:00+00:00",
          "2021-05-12T00:00:00+00:00",
          "2021-05-11T00:00:00+00:00",
          "2021-05-10T00:00:00+00:00",
          "2021-05-09T00:00:00+00:00",
          "2021-05-08T00:00:00+00:00",
          "2021-05-07T00:00:00+00:00",
          "2021-05-06T00:00:00+00:00",
          "2021-05-05T00:00:00+00:00",
          "2021-05-04T00:00:00+00:00",
          "2021-05-03T00:00:00+00:00",
          "2021-05-02T00:00:00+00:00",
          "2021-05-01T00:00:00+00:00",
          "2021-04-30T00:00:00+00:00",
          "2021-04-29T00:00:00+00:00",
          "2021-04-28T00:00:00+00:00",
          "2021-04-27T00:00:00+00:00",
          "2021-04-26T00:00:00+00:00",
          "2021-04-25T00:00:00+00:00",
          "2021-04-24T00:00:00+00:00",
          "2021-04-23T00:00:00+00:00",
          "2021-04-22T00:00:00+00:00",
          "2021-04-21T00:00:00+00:00",
          "2021-04-20T00:00:00+00:00",
          "2021-04-19T00:00:00+00:00",
          "2021-04-18T00:00:00+00:00",
          "2021-04-17T00:00:00+00:00",
          "2021-04-16T00:00:00+00:00",
          "2021-04-15T00:00:00+00:00",
          "2021-04-14T00:00:00+00:00",
          "2021-04-13T00:00:00+00:00",
          "2021-04-12T00:00:00+00:00",
          "2021-04-11T00:00:00+00:00",
          "2021-04-10T00:00:00+00:00",
          "2021-04-09T00:00:00+00:00",
          "2021-04-08T00:00:00+00:00",
          "2021-04-07T00:00:00+00:00",
          "2021-04-06T00:00:00+00:00",
          "2021-04-05T00:00:00+00:00",
          "2021-04-04T00:00:00+00:00",
          "2021-04-03T00:00:00+00:00",
          "2021-04-02T00:00:00+00:00",
          "2021-04-01T00:00:00+00:00",
          "2021-03-31T00:00:00+00:00",
          "2021-03-30T00:00:00+00:00",
          "2021-03-29T00:00:00+00:00",
          "2021-03-26T00:00:00+00:00",
          "2021-03-25T00:00:00+00:00",
          "2021-03-24T00:00:00+00:00",
          "2021-03-23T00:00:00+00:00",
          "2021-03-22T00:00:00+00:00",
          "2021-03-21T00:00:00+00:00",
          "2021-03-20T00:00:00+00:00",
          "2021-03-19T00:00:00+00:00",
          "2021-03-18T00:00:00+00:00",
          "2021-03-17T00:00:00+00:00",
          "2021-03-16T00:00:00+00:00",
          "2021-03-15T00:00:00+00:00",
          "2021-03-14T00:00:00+00:00",
          "2021-03-13T00:00:00+00:00",
          "2021-03-12T00:00:00+00:00",
          "2021-03-11T00:00:00+00:00",
          "2021-03-10T00:00:00+00:00",
          "2021-03-09T00:00:00+00:00"
         ],
         "xaxis": "x",
         "y": [
          0.016672759335343335,
          0.016894152378730983,
          0.019257785650533824,
          0.02138118439047392,
          0.023746928437718407,
          0.02535090362703804,
          0.025552314390814908,
          0.024030353001394538,
          0.024580423735450836,
          0.02305098516586091,
          0.02114937033830584,
          0.020117589109165994,
          0.019748168650526084,
          0.019461667209337015,
          0.019219538358285115,
          0.02060480916219623,
          0.02258002979143917,
          0.02669205835112958,
          0.027084618097549105,
          0.028276992676776184,
          0.02820531744174581,
          0.02990218148432288,
          0.03284063203903935,
          0.033931326432780025,
          0.0353652653730553,
          0.04076275159506796,
          0.04369155721099694,
          0.04657403361656808,
          0.0516065135802769,
          0.054277648567031565,
          0.05716512784045894,
          0.06020802484667097,
          0.06317854171492356,
          0.0690718855308796,
          0.0708332895397136,
          0.06678243247320205,
          0.06434711269991908,
          0.06407820207469579,
          0.06401017234429947,
          0.06524262062145157,
          0.06453876560454727,
          0.06785065473772948,
          0.07749424109031368,
          0.10181768981265622,
          0.12519885694113736,
          0.147794325398356,
          0.17940171040529032,
          0.21563341966234775,
          0.2441037506890822,
          0.2628007893541068,
          0.2554677011062993,
          0.2418244565462341,
          0.22248077521107984,
          0.19579586544821634,
          0.1580882416822257,
          0.12610116600152896,
          0.0930738654278688,
          0.06900873944517728,
          0.052487915908619995,
          0.04053499064721285,
          0.024002944703926228,
          0.014370054016861407,
          0.00811589061447655,
          0.008188727933601236,
          0.008374363960039892,
          0.00911186728567129,
          0.009411276398812243,
          0.010809503038013698,
          0.01163124974381651,
          0.011698096508499732,
          0.010742347849380074,
          0.010622052761953065,
          0.01044379532937864,
          0.01024341151577419,
          0.009697494542423588,
          0.00893219914140891,
          0.008495430246088167,
          0.008524575838029963,
          0.00858742510100161,
          0.008496818556618163,
          0.008378115673235051,
          0.007636444809194775,
          0.00794475928051897,
          0.008190424829922837,
          0.00893551442095982,
          0.009766126324199976,
          0.010811595605231246,
          0.010584730109022247,
          0.011127820197945722,
          0.01183363750429213,
          0.014005215368972415,
          0.015466883951761662,
          0.015972548204973357,
          0.017231140724591098,
          0.018805609892067237,
          0.018620667418945032,
          0.018413704017409833,
          0.016243635973570585,
          0.014720435616561148,
          0.014356207231267144,
          0.012694505763914527,
          0.01086172581635379,
          0.011878607895137684,
          0.013473224056352916,
          0.016623519762932103,
          0.017390504965633158,
          0.01812686494673253,
          0.019575583993847602,
          0.0211019337375987,
          0.02162078302530464,
          0.02124858458361445,
          0.02358477009393614,
          0.027311342342592852,
          0.027584523808087142,
          0.025578974455684793,
          0.02449906735712063,
          0.02264803017085547,
          0.020836566347876395,
          0.015465756748608698,
          0.010331297272212584,
          0.008778740194320785,
          0.008578431885481403,
          0.008231165873807084,
          0.008321512289419833,
          0.009283329695741438,
          0.010740188604766015,
          0.011654768772030057,
          0.013983184109836639,
          0.01785269213781142,
          0.018011525048487825,
          0.018976855730575514,
          0.019221758135206404,
          0.0190592838059386,
          0.020117498005971395,
          0.0188681698668213,
          0.013783852289193542,
          0.016399546623731595,
          0.0171606864274571
         ],
         "yaxis": "y"
        },
        {
         "hovertemplate": "Symbol=CLOV<br>Day=%{x}<br>Fraction of mentions (7 day rolling average)=%{y}<extra></extra>",
         "legendgroup": "CLOV",
         "line": {
          "color": "#19d3f3",
          "dash": "solid"
         },
         "mode": "lines",
         "name": "CLOV",
         "showlegend": true,
         "type": "scattergl",
         "x": [
          "2021-07-26T00:00:00+00:00",
          "2021-07-25T00:00:00+00:00",
          "2021-07-24T00:00:00+00:00",
          "2021-07-23T00:00:00+00:00",
          "2021-07-22T00:00:00+00:00",
          "2021-07-21T00:00:00+00:00",
          "2021-07-20T00:00:00+00:00",
          "2021-07-19T00:00:00+00:00",
          "2021-07-18T00:00:00+00:00",
          "2021-07-17T00:00:00+00:00",
          "2021-07-16T00:00:00+00:00",
          "2021-07-15T00:00:00+00:00",
          "2021-07-14T00:00:00+00:00",
          "2021-07-13T00:00:00+00:00",
          "2021-07-12T00:00:00+00:00",
          "2021-07-11T00:00:00+00:00",
          "2021-07-10T00:00:00+00:00",
          "2021-07-09T00:00:00+00:00",
          "2021-07-08T00:00:00+00:00",
          "2021-07-07T00:00:00+00:00",
          "2021-07-06T00:00:00+00:00",
          "2021-07-05T00:00:00+00:00",
          "2021-07-04T00:00:00+00:00",
          "2021-07-03T00:00:00+00:00",
          "2021-07-02T00:00:00+00:00",
          "2021-07-01T00:00:00+00:00",
          "2021-06-30T00:00:00+00:00",
          "2021-06-29T00:00:00+00:00",
          "2021-06-28T00:00:00+00:00",
          "2021-06-27T00:00:00+00:00",
          "2021-06-26T00:00:00+00:00",
          "2021-06-25T00:00:00+00:00",
          "2021-06-24T00:00:00+00:00",
          "2021-06-23T00:00:00+00:00",
          "2021-06-22T00:00:00+00:00",
          "2021-06-21T00:00:00+00:00",
          "2021-06-20T00:00:00+00:00",
          "2021-06-19T00:00:00+00:00",
          "2021-06-18T00:00:00+00:00",
          "2021-06-17T00:00:00+00:00",
          "2021-06-16T00:00:00+00:00",
          "2021-06-15T00:00:00+00:00",
          "2021-06-14T00:00:00+00:00",
          "2021-06-13T00:00:00+00:00",
          "2021-06-12T00:00:00+00:00",
          "2021-06-11T00:00:00+00:00",
          "2021-06-10T00:00:00+00:00",
          "2021-06-09T00:00:00+00:00",
          "2021-06-08T00:00:00+00:00",
          "2021-06-07T00:00:00+00:00",
          "2021-06-06T00:00:00+00:00",
          "2021-06-05T00:00:00+00:00",
          "2021-06-04T00:00:00+00:00",
          "2021-06-03T00:00:00+00:00",
          "2021-06-02T00:00:00+00:00",
          "2021-06-01T00:00:00+00:00",
          "2021-05-31T00:00:00+00:00",
          "2021-05-30T00:00:00+00:00",
          "2021-05-29T00:00:00+00:00",
          "2021-05-28T00:00:00+00:00",
          "2021-05-27T00:00:00+00:00",
          "2021-05-26T00:00:00+00:00",
          "2021-05-25T00:00:00+00:00",
          "2021-05-24T00:00:00+00:00",
          "2021-05-23T00:00:00+00:00",
          "2021-05-22T00:00:00+00:00",
          "2021-05-21T00:00:00+00:00",
          "2021-05-20T00:00:00+00:00",
          "2021-05-19T00:00:00+00:00",
          "2021-05-18T00:00:00+00:00",
          "2021-05-17T00:00:00+00:00",
          "2021-05-16T00:00:00+00:00",
          "2021-05-15T00:00:00+00:00",
          "2021-05-14T00:00:00+00:00",
          "2021-05-13T00:00:00+00:00",
          "2021-05-12T00:00:00+00:00",
          "2021-05-11T00:00:00+00:00",
          "2021-05-10T00:00:00+00:00",
          "2021-05-09T00:00:00+00:00",
          "2021-05-08T00:00:00+00:00",
          "2021-05-07T00:00:00+00:00",
          "2021-05-06T00:00:00+00:00",
          "2021-05-05T00:00:00+00:00",
          "2021-05-04T00:00:00+00:00",
          "2021-05-03T00:00:00+00:00",
          "2021-05-02T00:00:00+00:00",
          "2021-05-01T00:00:00+00:00",
          "2021-04-30T00:00:00+00:00",
          "2021-04-29T00:00:00+00:00",
          "2021-04-28T00:00:00+00:00",
          "2021-04-27T00:00:00+00:00",
          "2021-04-26T00:00:00+00:00",
          "2021-04-25T00:00:00+00:00",
          "2021-04-24T00:00:00+00:00",
          "2021-04-23T00:00:00+00:00",
          "2021-04-22T00:00:00+00:00",
          "2021-04-21T00:00:00+00:00",
          "2021-04-20T00:00:00+00:00",
          "2021-04-19T00:00:00+00:00",
          "2021-04-18T00:00:00+00:00",
          "2021-04-17T00:00:00+00:00",
          "2021-04-16T00:00:00+00:00",
          "2021-04-15T00:00:00+00:00",
          "2021-04-14T00:00:00+00:00",
          "2021-04-13T00:00:00+00:00",
          "2021-04-12T00:00:00+00:00",
          "2021-04-11T00:00:00+00:00",
          "2021-04-10T00:00:00+00:00",
          "2021-04-09T00:00:00+00:00",
          "2021-04-08T00:00:00+00:00",
          "2021-04-07T00:00:00+00:00",
          "2021-04-06T00:00:00+00:00",
          "2021-04-02T00:00:00+00:00",
          "2021-04-01T00:00:00+00:00",
          "2021-03-31T00:00:00+00:00",
          "2021-03-30T00:00:00+00:00",
          "2021-03-29T00:00:00+00:00",
          "2021-03-26T00:00:00+00:00",
          "2021-03-25T00:00:00+00:00",
          "2021-03-24T00:00:00+00:00",
          "2021-03-23T00:00:00+00:00",
          "2021-03-22T00:00:00+00:00",
          "2021-03-21T00:00:00+00:00",
          "2021-03-19T00:00:00+00:00",
          "2021-03-18T00:00:00+00:00",
          "2021-03-17T00:00:00+00:00",
          "2021-03-16T00:00:00+00:00",
          "2021-03-15T00:00:00+00:00",
          "2021-03-14T00:00:00+00:00",
          "2021-03-13T00:00:00+00:00",
          "2021-03-12T00:00:00+00:00",
          "2021-03-11T00:00:00+00:00",
          "2021-03-10T00:00:00+00:00",
          "2021-03-09T00:00:00+00:00"
         ],
         "xaxis": "x",
         "y": [
          0.06279486227410715,
          0.0633106152543502,
          0.06407037157259296,
          0.06444642270052378,
          0.06164060243342865,
          0.0499292180417873,
          0.04054464945113927,
          0.0448771884190892,
          0.05217063670180455,
          0.05212845650406412,
          0.054081061579770766,
          0.054967462387126305,
          0.05627890322186164,
          0.05985591696193616,
          0.06330286762133339,
          0.05911044048736556,
          0.05951715580328933,
          0.06057029974364847,
          0.06277580585106726,
          0.06532366395049456,
          0.0645286341839861,
          0.06371377330465532,
          0.06275553561544771,
          0.06630479332260576,
          0.06813032939639833,
          0.06796006660285357,
          0.07305830020174094,
          0.07879675526911314,
          0.08023327135851696,
          0.07851732991695921,
          0.07741400118034293,
          0.07268609114537439,
          0.06888077515083758,
          0.05906758105955561,
          0.05091474718151203,
          0.043770293880283084,
          0.04633964377810932,
          0.04715712559545298,
          0.051880216306372816,
          0.060889086982852045,
          0.06846843682698278,
          0.07840419258564468,
          0.09478181443421085,
          0.10067891445509966,
          0.09730461823564886,
          0.08993851248621365,
          0.07872220738397719,
          0.07005920342678913,
          0.055866084787198116,
          0.0324739642726346,
          0.019133925426406156,
          0.01425801064183539,
          0.013042963550706235,
          0.011734025330565306,
          0.009947320941408957,
          0.007904401983649409,
          0.007972327641232523,
          0.008166545264382036,
          0.007925969421117032,
          0.007271789052080561,
          0.007978840646309654,
          0.00892686452722408,
          0.00879092784111354,
          0.010345895241392887,
          0.01639699934995864,
          0.01998136128396107,
          0.02280658038798095,
          0.02344351101401779,
          0.022127558132629316,
          0.023590796068044213,
          0.022630499738622942,
          0.01686822743235229,
          0.015666936583195994,
          0.015000814620891237,
          0.014671609428191337,
          0.01551451062745041,
          0.016097982565616724,
          0.01835887006769945,
          0.023519751930028077,
          0.030059540022920467,
          0.03126044321974442,
          0.03613834073493577,
          0.04672236074817295,
          0.05237570273329064,
          0.05012314798053046,
          0.04512838351056644,
          0.036761948118573355,
          0.035143502891864804,
          0.03086154817550447,
          0.020216902977049207,
          0.017018263872731493,
          0.025253220778670645,
          0.03844030475184618,
          0.04686452059300385,
          0.052667844968849846,
          0.05998301625846997,
          0.05822513048833141,
          0.05293427822178426,
          0.043474014392468056,
          0.028614399988326444,
          0.018428840277336992,
          0.010481338710297989,
          0.0007486299562982193,
          0.0017725729121902875,
          0.0017468679279687225,
          0.0017686120172331064,
          0.0017718385479433948,
          0.0017523708423314293,
          0.0016634424018912547,
          0.0013808610773424837,
          0.0002722169074728042,
          0.00026857035431540746,
          0.00023284160142713952,
          0.0002101403232038204,
          0.00020219063428446874,
          0.0001697547056488139,
          0.0002263344339107977,
          0.00024839939478467685,
          0.00026088718057839746,
          0.00027449924846431796,
          0.0002822715562623949,
          0.00031139422345067896,
          0.0004350072470186201,
          0.0003990129186521603,
          0.00036110102941459404,
          0.0003931917132142549,
          0.00036992631919069695,
          0.00033662015584043955,
          0.0003405936372800362,
          0.00022157160815269896,
          0.00020520790858352583,
          0.00024078599201256585,
          0.00016970592189681665,
          0.0001733402669440111
         ],
         "yaxis": "y"
        },
        {
         "hovertemplate": "Symbol=AAPL<br>Day=%{x}<br>Fraction of mentions (7 day rolling average)=%{y}<extra></extra>",
         "legendgroup": "AAPL",
         "line": {
          "color": "#FF6692",
          "dash": "solid"
         },
         "mode": "lines",
         "name": "AAPL",
         "showlegend": true,
         "type": "scattergl",
         "x": [
          "2021-07-26T00:00:00+00:00",
          "2021-07-25T00:00:00+00:00",
          "2021-07-24T00:00:00+00:00",
          "2021-07-23T00:00:00+00:00",
          "2021-07-22T00:00:00+00:00",
          "2021-07-21T00:00:00+00:00",
          "2021-07-20T00:00:00+00:00",
          "2021-07-19T00:00:00+00:00",
          "2021-07-18T00:00:00+00:00",
          "2021-07-17T00:00:00+00:00",
          "2021-07-16T00:00:00+00:00",
          "2021-07-15T00:00:00+00:00",
          "2021-07-14T00:00:00+00:00",
          "2021-07-13T00:00:00+00:00",
          "2021-07-12T00:00:00+00:00",
          "2021-07-11T00:00:00+00:00",
          "2021-07-10T00:00:00+00:00",
          "2021-07-09T00:00:00+00:00",
          "2021-07-08T00:00:00+00:00",
          "2021-07-07T00:00:00+00:00",
          "2021-07-06T00:00:00+00:00",
          "2021-07-05T00:00:00+00:00",
          "2021-07-04T00:00:00+00:00",
          "2021-07-03T00:00:00+00:00",
          "2021-07-02T00:00:00+00:00",
          "2021-07-01T00:00:00+00:00",
          "2021-06-30T00:00:00+00:00",
          "2021-06-29T00:00:00+00:00",
          "2021-06-28T00:00:00+00:00",
          "2021-06-27T00:00:00+00:00",
          "2021-06-26T00:00:00+00:00",
          "2021-06-25T00:00:00+00:00",
          "2021-06-24T00:00:00+00:00",
          "2021-06-23T00:00:00+00:00",
          "2021-06-22T00:00:00+00:00",
          "2021-06-21T00:00:00+00:00",
          "2021-06-20T00:00:00+00:00",
          "2021-06-19T00:00:00+00:00",
          "2021-06-18T00:00:00+00:00",
          "2021-06-17T00:00:00+00:00",
          "2021-06-16T00:00:00+00:00",
          "2021-06-15T00:00:00+00:00",
          "2021-06-14T00:00:00+00:00",
          "2021-06-13T00:00:00+00:00",
          "2021-06-12T00:00:00+00:00",
          "2021-06-11T00:00:00+00:00",
          "2021-06-10T00:00:00+00:00",
          "2021-06-09T00:00:00+00:00",
          "2021-06-08T00:00:00+00:00",
          "2021-06-07T00:00:00+00:00",
          "2021-06-06T00:00:00+00:00",
          "2021-06-05T00:00:00+00:00",
          "2021-06-04T00:00:00+00:00",
          "2021-06-03T00:00:00+00:00",
          "2021-06-02T00:00:00+00:00",
          "2021-06-01T00:00:00+00:00",
          "2021-05-31T00:00:00+00:00",
          "2021-05-30T00:00:00+00:00",
          "2021-05-29T00:00:00+00:00",
          "2021-05-28T00:00:00+00:00",
          "2021-05-27T00:00:00+00:00",
          "2021-05-26T00:00:00+00:00",
          "2021-05-25T00:00:00+00:00",
          "2021-05-24T00:00:00+00:00",
          "2021-05-23T00:00:00+00:00",
          "2021-05-22T00:00:00+00:00",
          "2021-05-21T00:00:00+00:00",
          "2021-05-20T00:00:00+00:00",
          "2021-05-19T00:00:00+00:00",
          "2021-05-18T00:00:00+00:00",
          "2021-05-17T00:00:00+00:00",
          "2021-05-16T00:00:00+00:00",
          "2021-05-15T00:00:00+00:00",
          "2021-05-14T00:00:00+00:00",
          "2021-05-13T00:00:00+00:00",
          "2021-05-12T00:00:00+00:00",
          "2021-05-11T00:00:00+00:00",
          "2021-05-10T00:00:00+00:00",
          "2021-05-09T00:00:00+00:00",
          "2021-05-08T00:00:00+00:00",
          "2021-05-07T00:00:00+00:00",
          "2021-05-06T00:00:00+00:00",
          "2021-05-05T00:00:00+00:00",
          "2021-05-04T00:00:00+00:00",
          "2021-05-03T00:00:00+00:00",
          "2021-05-02T00:00:00+00:00",
          "2021-05-01T00:00:00+00:00",
          "2021-04-30T00:00:00+00:00",
          "2021-04-29T00:00:00+00:00",
          "2021-04-28T00:00:00+00:00",
          "2021-04-27T00:00:00+00:00",
          "2021-04-26T00:00:00+00:00",
          "2021-04-25T00:00:00+00:00",
          "2021-04-24T00:00:00+00:00",
          "2021-04-23T00:00:00+00:00",
          "2021-04-22T00:00:00+00:00",
          "2021-04-21T00:00:00+00:00",
          "2021-04-20T00:00:00+00:00",
          "2021-04-19T00:00:00+00:00",
          "2021-04-18T00:00:00+00:00",
          "2021-04-17T00:00:00+00:00",
          "2021-04-16T00:00:00+00:00",
          "2021-04-15T00:00:00+00:00",
          "2021-04-14T00:00:00+00:00",
          "2021-04-13T00:00:00+00:00",
          "2021-04-12T00:00:00+00:00",
          "2021-04-11T00:00:00+00:00",
          "2021-04-10T00:00:00+00:00",
          "2021-04-09T00:00:00+00:00",
          "2021-04-08T00:00:00+00:00",
          "2021-04-07T00:00:00+00:00",
          "2021-04-06T00:00:00+00:00",
          "2021-04-05T00:00:00+00:00",
          "2021-04-04T00:00:00+00:00",
          "2021-04-03T00:00:00+00:00",
          "2021-04-02T00:00:00+00:00",
          "2021-04-01T00:00:00+00:00",
          "2021-03-31T00:00:00+00:00",
          "2021-03-30T00:00:00+00:00",
          "2021-03-29T00:00:00+00:00",
          "2021-03-26T00:00:00+00:00",
          "2021-03-25T00:00:00+00:00",
          "2021-03-24T00:00:00+00:00",
          "2021-03-23T00:00:00+00:00",
          "2021-03-22T00:00:00+00:00",
          "2021-03-21T00:00:00+00:00",
          "2021-03-20T00:00:00+00:00",
          "2021-03-19T00:00:00+00:00",
          "2021-03-18T00:00:00+00:00",
          "2021-03-17T00:00:00+00:00",
          "2021-03-16T00:00:00+00:00",
          "2021-03-15T00:00:00+00:00",
          "2021-03-14T00:00:00+00:00",
          "2021-03-13T00:00:00+00:00",
          "2021-03-12T00:00:00+00:00",
          "2021-03-11T00:00:00+00:00",
          "2021-03-10T00:00:00+00:00",
          "2021-03-09T00:00:00+00:00"
         ],
         "xaxis": "x",
         "y": [
          0.022704056482345754,
          0.022805863576061815,
          0.02139675543984881,
          0.020274235520336407,
          0.021791531559435556,
          0.02472252287085567,
          0.02905857843622007,
          0.030010402802219418,
          0.02896135420293453,
          0.027739754074460322,
          0.029623617282673226,
          0.029098332787399622,
          0.026509511639063173,
          0.02246876299097656,
          0.021724567977767704,
          0.020797425970935056,
          0.020803281303047195,
          0.01843518044609273,
          0.01693125096199604,
          0.014444107057841734,
          0.012094554609800271,
          0.009691157551344804,
          0.008886136866158214,
          0.008416157426953858,
          0.007445353184196529,
          0.00559285766821263,
          0.005599745531670165,
          0.005857211158469405,
          0.0061653993510214595,
          0.006382571464326081,
          0.006517086155192449,
          0.006827483292068651,
          0.007082547736513312,
          0.007547927234024905,
          0.007259186407641105,
          0.007258789570865802,
          0.007456638995819474,
          0.007063300775195585,
          0.006760005800075379,
          0.006591378192858095,
          0.005731039067070837,
          0.004973167898423075,
          0.004316994677037806,
          0.003987240000262244,
          0.004045292839808505,
          0.0039000088956669724,
          0.0037942954045282465,
          0.003598250936563114,
          0.0037528465585673623,
          0.0040427110097759665,
          0.00379270257399091,
          0.004161995080585045,
          0.004368797439682817,
          0.004432432699709365,
          0.004694362244746118,
          0.005306554477368175,
          0.00585768614517062,
          0.006688160087685002,
          0.006756769979711977,
          0.007923795452869633,
          0.010710149039583446,
          0.012162382030885252,
          0.013138410085383665,
          0.013490629020664838,
          0.012732610195132199,
          0.012647259705858307,
          0.012251462449230106,
          0.009862271180208411,
          0.009076698854937207,
          0.008916882965366992,
          0.009513849333440223,
          0.010300808977560761,
          0.010316140665110805,
          0.010209448389644816,
          0.010519136852536904,
          0.010467831022406381,
          0.01031714196792308,
          0.011768650864535045,
          0.012164596260777902,
          0.013902122744958622,
          0.01565974590477408,
          0.017919273347375225,
          0.021970857651468428,
          0.026809010153172334,
          0.02492524837493174,
          0.02495815809785473,
          0.025182652325867857,
          0.02437610107543626,
          0.023893702248656386,
          0.02201107061639294,
          0.01877046923769137,
          0.023633446875058615,
          0.02500965644385385,
          0.0235732263795899,
          0.023197534374164535,
          0.022118005069607122,
          0.021620872929295494,
          0.021176258735949933,
          0.01868043200302741,
          0.018364567864038537,
          0.01948847144904531,
          0.020437735117588136,
          0.024287954655237063,
          0.02541923638771193,
          0.025060263094916452,
          0.02251143792871238,
          0.02171852197154259,
          0.02068258271902036,
          0.01946939463094274,
          0.01501364684200113,
          0.012945944622940032,
          0.0132094028032816,
          0.013477395917169687,
          0.013242814366293933,
          0.013943617638435712,
          0.013717428722154259,
          0.01352925741207447,
          0.013017084395541603,
          0.013517969309702579,
          0.013492681122405663,
          0.013331449993889504,
          0.013661602775884346,
          0.015669900559032328,
          0.01636385564730129,
          0.017064280065882172,
          0.015548005959673409,
          0.015049297189998348,
          0.014690122572899868,
          0.013451336236211664,
          0.011589750677879027,
          0.010778599186246723,
          0.00955651677290792,
          0.009198122711079495,
          0.009112870899866708,
          0.008951364170183556,
          0.008619872397599083,
          0.00733454010861035,
          0.006586930143872421
         ],
         "yaxis": "y"
        },
        {
         "hovertemplate": "Symbol=SOFI<br>Day=%{x}<br>Fraction of mentions (7 day rolling average)=%{y}<extra></extra>",
         "legendgroup": "SOFI",
         "line": {
          "color": "#B6E880",
          "dash": "solid"
         },
         "mode": "lines",
         "name": "SOFI",
         "showlegend": true,
         "type": "scattergl",
         "x": [
          "2021-07-26T00:00:00+00:00",
          "2021-07-25T00:00:00+00:00",
          "2021-07-24T00:00:00+00:00",
          "2021-07-23T00:00:00+00:00",
          "2021-07-22T00:00:00+00:00",
          "2021-07-21T00:00:00+00:00",
          "2021-07-20T00:00:00+00:00",
          "2021-07-19T00:00:00+00:00",
          "2021-07-18T00:00:00+00:00",
          "2021-07-17T00:00:00+00:00",
          "2021-07-16T00:00:00+00:00",
          "2021-07-15T00:00:00+00:00",
          "2021-07-14T00:00:00+00:00",
          "2021-07-13T00:00:00+00:00",
          "2021-07-12T00:00:00+00:00",
          "2021-07-11T00:00:00+00:00",
          "2021-07-10T00:00:00+00:00",
          "2021-07-09T00:00:00+00:00",
          "2021-07-08T00:00:00+00:00",
          "2021-07-07T00:00:00+00:00",
          "2021-07-06T00:00:00+00:00",
          "2021-07-05T00:00:00+00:00",
          "2021-07-04T00:00:00+00:00",
          "2021-07-03T00:00:00+00:00",
          "2021-07-02T00:00:00+00:00",
          "2021-07-01T00:00:00+00:00",
          "2021-06-30T00:00:00+00:00",
          "2021-06-29T00:00:00+00:00",
          "2021-06-28T00:00:00+00:00",
          "2021-06-27T00:00:00+00:00",
          "2021-06-26T00:00:00+00:00",
          "2021-06-25T00:00:00+00:00",
          "2021-06-24T00:00:00+00:00",
          "2021-06-23T00:00:00+00:00",
          "2021-06-22T00:00:00+00:00",
          "2021-06-21T00:00:00+00:00",
          "2021-06-20T00:00:00+00:00",
          "2021-06-19T00:00:00+00:00",
          "2021-06-18T00:00:00+00:00",
          "2021-06-17T00:00:00+00:00",
          "2021-06-16T00:00:00+00:00",
          "2021-06-15T00:00:00+00:00",
          "2021-06-14T00:00:00+00:00",
          "2021-06-13T00:00:00+00:00",
          "2021-06-12T00:00:00+00:00",
          "2021-06-11T00:00:00+00:00",
          "2021-06-10T00:00:00+00:00",
          "2021-06-09T00:00:00+00:00",
          "2021-06-08T00:00:00+00:00",
          "2021-06-07T00:00:00+00:00",
          "2021-06-06T00:00:00+00:00",
          "2021-06-05T00:00:00+00:00",
          "2021-06-04T00:00:00+00:00",
          "2021-06-03T00:00:00+00:00",
          "2021-06-02T00:00:00+00:00",
          "2021-06-01T00:00:00+00:00",
          "2021-05-31T00:00:00+00:00",
          "2021-05-30T00:00:00+00:00",
          "2021-05-29T00:00:00+00:00",
          "2021-05-28T00:00:00+00:00",
          "2021-05-27T00:00:00+00:00",
          "2021-05-26T00:00:00+00:00",
          "2021-05-25T00:00:00+00:00",
          "2021-05-24T00:00:00+00:00",
          "2021-05-23T00:00:00+00:00",
          "2021-05-22T00:00:00+00:00",
          "2021-05-21T00:00:00+00:00",
          "2021-05-20T00:00:00+00:00",
          "2021-05-19T00:00:00+00:00",
          "2021-05-18T00:00:00+00:00",
          "2021-05-16T00:00:00+00:00",
          "2021-05-14T00:00:00+00:00",
          "2021-05-13T00:00:00+00:00",
          "2021-05-12T00:00:00+00:00",
          "2021-05-11T00:00:00+00:00",
          "2021-05-10T00:00:00+00:00",
          "2021-05-09T00:00:00+00:00",
          "2021-05-08T00:00:00+00:00",
          "2021-05-07T00:00:00+00:00",
          "2021-05-06T00:00:00+00:00",
          "2021-05-05T00:00:00+00:00",
          "2021-05-03T00:00:00+00:00",
          "2021-05-02T00:00:00+00:00",
          "2021-05-01T00:00:00+00:00",
          "2021-04-30T00:00:00+00:00",
          "2021-04-29T00:00:00+00:00",
          "2021-04-27T00:00:00+00:00",
          "2021-04-20T00:00:00+00:00",
          "2021-04-19T00:00:00+00:00",
          "2021-04-18T00:00:00+00:00",
          "2021-04-17T00:00:00+00:00",
          "2021-04-16T00:00:00+00:00",
          "2021-04-15T00:00:00+00:00",
          "2021-04-14T00:00:00+00:00",
          "2021-04-13T00:00:00+00:00",
          "2021-04-12T00:00:00+00:00",
          "2021-04-10T00:00:00+00:00",
          "2021-04-09T00:00:00+00:00",
          "2021-04-08T00:00:00+00:00",
          "2021-04-07T00:00:00+00:00",
          "2021-04-02T00:00:00+00:00",
          "2021-04-01T00:00:00+00:00",
          "2021-03-31T00:00:00+00:00",
          "2021-03-30T00:00:00+00:00",
          "2021-03-29T00:00:00+00:00",
          "2021-03-26T00:00:00+00:00",
          "2021-03-25T00:00:00+00:00",
          "2021-03-23T00:00:00+00:00",
          "2021-03-22T00:00:00+00:00",
          "2021-03-21T00:00:00+00:00",
          "2021-03-20T00:00:00+00:00",
          "2021-03-19T00:00:00+00:00",
          "2021-03-18T00:00:00+00:00",
          "2021-03-17T00:00:00+00:00",
          "2021-03-15T00:00:00+00:00",
          "2021-03-13T00:00:00+00:00",
          "2021-03-10T00:00:00+00:00"
         ],
         "xaxis": "x",
         "y": [
          0.019569540586695463,
          0.019976626540817704,
          0.019922195579605496,
          0.020656701953209615,
          0.0218858370131964,
          0.022024599841369816,
          0.016385035850013985,
          0.01803914879151772,
          0.01922493021005039,
          0.019354807573478315,
          0.01950945851235635,
          0.021047138553533715,
          0.019655343330712227,
          0.020786924459116833,
          0.02052243929440569,
          0.020146623177551958,
          0.021832695664852964,
          0.02250312512307112,
          0.021550850839351845,
          0.023083471942651368,
          0.026626977505772708,
          0.03993483451541504,
          0.04536600952078283,
          0.04283311105115042,
          0.04084886183488173,
          0.03823919223425758,
          0.03453745383477054,
          0.027588956001373063,
          0.01155528977191756,
          0.0036431240792383626,
          0.003227432442731967,
          0.0025491861796555593,
          0.0019389853235904206,
          0.0022554936075920196,
          0.0023869257280141683,
          0.0022278781189072447,
          0.0022787519899325924,
          0.00222767665729698,
          0.002386482223728429,
          0.0022507007213585823,
          0.001957998555884591,
          0.0020123270361737155,
          0.002581732152462078,
          0.0026188040888258414,
          0.002489273417988512,
          0.0024241306189263256,
          0.002388045326605568,
          0.0023265392861273166,
          0.0023965357465279944,
          0.0027332826416369064,
          0.00289581926452066,
          0.0027893372142573495,
          0.002568163561624207,
          0.0024175720648626263,
          0.002220268905480775,
          0.0017428063528833436,
          0.0007825367949390021,
          0.0005247796806396621,
          0.0006508448419745961,
          0.0007303459284894451,
          0.0007293808174856011,
          0.0008606155922674084,
          0.000892030158228422,
          0.0008022055345089388,
          0.0007407166803420571,
          0.0004847708484565081,
          0.00037632215663349264,
          0.0004149791572789343,
          0.0002984460221497163,
          0.00029261720991535713,
          0.00029046297607217004,
          0.00031531207794748646,
          0.0004600480087274433,
          0.0004534841727860196,
          0.00040437161040048384,
          0.00038133502275558096,
          0.00037316606021355525,
          0.0003794029881107707,
          0.000314782051719055,
          0.00016695757115167564,
          0.00015810018548268533,
          0.00022617852458906178,
          0.00025795601062890053,
          0.0002540983899299589,
          0.0002476597733978322,
          0.0002668966805889999,
          0.00027757214471855996,
          0.0002975404532669905,
          0.0002284651096855642,
          0.00019264861042550088,
          0.000325082469680449,
          0.000343955712673127,
          0.00033453301757454255,
          0.0003391592037812914,
          0.00038254748925488645,
          0.0003824617511641861,
          0.0003920806051349401,
          0.00023726789159181656,
          0.00020946825742636102,
          0.00019401078795795826,
          0.00019149481802588285,
          0.00013405687424193456,
          0.00013236093256778725,
          0.00018811159625339448,
          0.00024177644395249846,
          0.00022052510923597647,
          0.00021793562401575066,
          0.00022422884951335138,
          0.00024058501599947798,
          0.0002715298429263718,
          0.00022616442351754598,
          0.00017742807059472842,
          0.00020078512194836182,
          0.0002377887902982491,
          0.00024395631261665935,
          0.00025422758778111056,
          0.00022142876913282958
         ],
         "yaxis": "y"
        },
        {
         "hovertemplate": "Symbol=SPCE<br>Day=%{x}<br>Fraction of mentions (7 day rolling average)=%{y}<extra></extra>",
         "legendgroup": "SPCE",
         "line": {
          "color": "#FF97FF",
          "dash": "solid"
         },
         "mode": "lines",
         "name": "SPCE",
         "showlegend": true,
         "type": "scattergl",
         "x": [
          "2021-07-26T00:00:00+00:00",
          "2021-07-25T00:00:00+00:00",
          "2021-07-24T00:00:00+00:00",
          "2021-07-23T00:00:00+00:00",
          "2021-07-22T00:00:00+00:00",
          "2021-07-21T00:00:00+00:00",
          "2021-07-20T00:00:00+00:00",
          "2021-07-19T00:00:00+00:00",
          "2021-07-18T00:00:00+00:00",
          "2021-07-17T00:00:00+00:00",
          "2021-07-16T00:00:00+00:00",
          "2021-07-15T00:00:00+00:00",
          "2021-07-14T00:00:00+00:00",
          "2021-07-13T00:00:00+00:00",
          "2021-07-12T00:00:00+00:00",
          "2021-07-11T00:00:00+00:00",
          "2021-07-10T00:00:00+00:00",
          "2021-07-09T00:00:00+00:00",
          "2021-07-08T00:00:00+00:00",
          "2021-07-07T00:00:00+00:00",
          "2021-07-06T00:00:00+00:00",
          "2021-07-05T00:00:00+00:00",
          "2021-07-04T00:00:00+00:00",
          "2021-07-03T00:00:00+00:00",
          "2021-07-02T00:00:00+00:00",
          "2021-07-01T00:00:00+00:00",
          "2021-06-30T00:00:00+00:00",
          "2021-06-29T00:00:00+00:00",
          "2021-06-28T00:00:00+00:00",
          "2021-06-27T00:00:00+00:00",
          "2021-06-26T00:00:00+00:00",
          "2021-06-25T00:00:00+00:00",
          "2021-06-24T00:00:00+00:00",
          "2021-06-23T00:00:00+00:00",
          "2021-06-22T00:00:00+00:00",
          "2021-06-21T00:00:00+00:00",
          "2021-06-20T00:00:00+00:00",
          "2021-06-19T00:00:00+00:00",
          "2021-06-18T00:00:00+00:00",
          "2021-06-17T00:00:00+00:00",
          "2021-06-16T00:00:00+00:00",
          "2021-06-15T00:00:00+00:00",
          "2021-06-14T00:00:00+00:00",
          "2021-06-13T00:00:00+00:00",
          "2021-06-12T00:00:00+00:00",
          "2021-06-11T00:00:00+00:00",
          "2021-06-10T00:00:00+00:00",
          "2021-06-09T00:00:00+00:00",
          "2021-06-08T00:00:00+00:00",
          "2021-06-07T00:00:00+00:00",
          "2021-06-06T00:00:00+00:00",
          "2021-06-05T00:00:00+00:00",
          "2021-06-04T00:00:00+00:00",
          "2021-06-03T00:00:00+00:00",
          "2021-06-02T00:00:00+00:00",
          "2021-06-01T00:00:00+00:00",
          "2021-05-31T00:00:00+00:00",
          "2021-05-30T00:00:00+00:00",
          "2021-05-29T00:00:00+00:00",
          "2021-05-28T00:00:00+00:00",
          "2021-05-27T00:00:00+00:00",
          "2021-05-26T00:00:00+00:00",
          "2021-05-25T00:00:00+00:00",
          "2021-05-24T00:00:00+00:00",
          "2021-05-23T00:00:00+00:00",
          "2021-05-22T00:00:00+00:00",
          "2021-05-21T00:00:00+00:00",
          "2021-05-20T00:00:00+00:00",
          "2021-05-19T00:00:00+00:00",
          "2021-05-18T00:00:00+00:00",
          "2021-05-17T00:00:00+00:00",
          "2021-05-16T00:00:00+00:00",
          "2021-05-15T00:00:00+00:00",
          "2021-05-14T00:00:00+00:00",
          "2021-05-13T00:00:00+00:00",
          "2021-05-12T00:00:00+00:00",
          "2021-05-11T00:00:00+00:00",
          "2021-05-10T00:00:00+00:00",
          "2021-05-09T00:00:00+00:00",
          "2021-05-08T00:00:00+00:00",
          "2021-05-07T00:00:00+00:00",
          "2021-05-06T00:00:00+00:00",
          "2021-05-05T00:00:00+00:00",
          "2021-05-04T00:00:00+00:00",
          "2021-05-03T00:00:00+00:00",
          "2021-05-02T00:00:00+00:00",
          "2021-05-01T00:00:00+00:00",
          "2021-04-30T00:00:00+00:00",
          "2021-04-29T00:00:00+00:00",
          "2021-04-28T00:00:00+00:00",
          "2021-04-27T00:00:00+00:00",
          "2021-04-26T00:00:00+00:00",
          "2021-04-25T00:00:00+00:00",
          "2021-04-24T00:00:00+00:00",
          "2021-04-23T00:00:00+00:00",
          "2021-04-22T00:00:00+00:00",
          "2021-04-21T00:00:00+00:00",
          "2021-04-20T00:00:00+00:00",
          "2021-04-19T00:00:00+00:00",
          "2021-04-18T00:00:00+00:00",
          "2021-04-17T00:00:00+00:00",
          "2021-04-16T00:00:00+00:00",
          "2021-04-15T00:00:00+00:00",
          "2021-04-14T00:00:00+00:00",
          "2021-04-13T00:00:00+00:00",
          "2021-04-12T00:00:00+00:00",
          "2021-04-11T00:00:00+00:00",
          "2021-04-10T00:00:00+00:00",
          "2021-04-09T00:00:00+00:00",
          "2021-04-08T00:00:00+00:00",
          "2021-04-07T00:00:00+00:00",
          "2021-04-06T00:00:00+00:00",
          "2021-04-05T00:00:00+00:00",
          "2021-04-03T00:00:00+00:00",
          "2021-04-02T00:00:00+00:00",
          "2021-04-01T00:00:00+00:00",
          "2021-03-31T00:00:00+00:00",
          "2021-03-30T00:00:00+00:00",
          "2021-03-29T00:00:00+00:00",
          "2021-03-26T00:00:00+00:00",
          "2021-03-25T00:00:00+00:00",
          "2021-03-24T00:00:00+00:00",
          "2021-03-23T00:00:00+00:00",
          "2021-03-22T00:00:00+00:00",
          "2021-03-21T00:00:00+00:00",
          "2021-03-20T00:00:00+00:00",
          "2021-03-19T00:00:00+00:00",
          "2021-03-18T00:00:00+00:00",
          "2021-03-17T00:00:00+00:00",
          "2021-03-16T00:00:00+00:00",
          "2021-03-15T00:00:00+00:00",
          "2021-03-14T00:00:00+00:00",
          "2021-03-13T00:00:00+00:00",
          "2021-03-12T00:00:00+00:00",
          "2021-03-11T00:00:00+00:00",
          "2021-03-10T00:00:00+00:00",
          "2021-03-09T00:00:00+00:00"
         ],
         "xaxis": "x",
         "y": [
          0.007588250770203012,
          0.011731234548836554,
          0.013540311084240498,
          0.017076944320121853,
          0.020501783015969634,
          0.02339730456029587,
          0.027983147946732675,
          0.03172845089648374,
          0.05296455108902515,
          0.09607160092300371,
          0.10305689966011114,
          0.11156186991175114,
          0.12074462481016912,
          0.11756208786492031,
          0.11470609854423255,
          0.09244752434814726,
          0.05136250104425442,
          0.04391588651980557,
          0.044774575822640765,
          0.03692976821910151,
          0.03797799896940245,
          0.03777866116812505,
          0.03862849842613982,
          0.039442479927534316,
          0.043443709625227936,
          0.042037645863671105,
          0.037606227247626675,
          0.03521913277696781,
          0.03327824717502137,
          0.029293740685732095,
          0.024964725500319068,
          0.017825579852568878,
          0.005855601224484663,
          0.0055149565083868314,
          0.0046160040386917,
          0.003339896064295504,
          0.0034139450716198817,
          0.0031617242671504995,
          0.0030738686423962243,
          0.0033221545609812752,
          0.0034973713922428072,
          0.0034283115578313877,
          0.003646460857911476,
          0.004346147423230533,
          0.004379722987379828,
          0.004289540097435376,
          0.0041110804634584275,
          0.004165748257040832,
          0.00459131690968436,
          0.005185737567542364,
          0.005684838567834018,
          0.007050587597052251,
          0.008556715805844951,
          0.010815859393056071,
          0.01436912725763702,
          0.01719203246871483,
          0.026046529346331216,
          0.046783345908314934,
          0.06249295674641662,
          0.07714525937550494,
          0.08072259064889584,
          0.08163757353765255,
          0.07825466505101418,
          0.06836621216774402,
          0.04618216151024685,
          0.02882396883786692,
          0.01251212069711159,
          0.00647571827763542,
          0.0017356999351206166,
          0.0023294170388760186,
          0.0038076988444074845,
          0.004997621211299894,
          0.00522141830986455,
          0.005325988015970944,
          0.005399183954369657,
          0.005618488285122082,
          0.00519296484162845,
          0.004216871101170622,
          0.003476902990313342,
          0.0037862989654701656,
          0.004274679090910205,
          0.004162001374091276,
          0.0038119947732603654,
          0.003650940873888709,
          0.0031937338150444068,
          0.0027215403105207772,
          0.0021119336664226626,
          0.001595024940883164,
          0.001493516397917031,
          0.0017447150488593135,
          0.0022807109393966044,
          0.0031069008253870856,
          0.0032848009173594623,
          0.003750948797494038,
          0.004080719071972624,
          0.004587475507120227,
          0.005650884010418055,
          0.00512175564782056,
          0.004315533481442539,
          0.004405302589572895,
          0.004020848561159038,
          0.003613464872042997,
          0.003159217549316436,
          0.0018165888654163684,
          0.0018767885870720267,
          0.0017032276583491075,
          0.0015213044454644605,
          0.001511793703439625,
          0.0013730616319715776,
          0.0012795294877258657,
          0.0011810819513005933,
          0.0011705400387278686,
          0.0016202053541594322,
          0.0016625855703582251,
          0.001617008823087265,
          0.0017385853111689029,
          0.0017612468539339318,
          0.0018159527955169837,
          0.0017406715108845526,
          0.0011715909635912412,
          0.0009442518122288721,
          0.0009103543728990357,
          0.0009402384902990914,
          0.0010558140852914802,
          0.0011055182201544851,
          0.0011418678559901444,
          0.001334309156095372,
          0.0015641990380101597,
          0.0018824557097843787,
          0.0018684758369518718,
          0.0020076430316057167,
          0.00209649506502347,
          0.002141512564861475,
          0.0022104727956290824,
          0.0022087446236157336,
          0.0019089811171953647,
          0.0026001040041601664
         ],
         "yaxis": "y"
        },
        {
         "hovertemplate": "Symbol=GME<br>Day=%{x}<br>Fraction of mentions (7 day rolling average)=%{y}<extra></extra>",
         "legendgroup": "GME",
         "line": {
          "color": "#FECB52",
          "dash": "solid"
         },
         "mode": "lines",
         "name": "GME",
         "showlegend": true,
         "type": "scattergl",
         "x": [
          "2021-07-26T00:00:00+00:00",
          "2021-07-25T00:00:00+00:00",
          "2021-07-24T00:00:00+00:00",
          "2021-07-23T00:00:00+00:00",
          "2021-07-22T00:00:00+00:00",
          "2021-07-21T00:00:00+00:00",
          "2021-07-20T00:00:00+00:00",
          "2021-07-19T00:00:00+00:00",
          "2021-07-18T00:00:00+00:00",
          "2021-07-17T00:00:00+00:00",
          "2021-07-16T00:00:00+00:00",
          "2021-07-15T00:00:00+00:00",
          "2021-07-14T00:00:00+00:00",
          "2021-07-13T00:00:00+00:00",
          "2021-07-12T00:00:00+00:00",
          "2021-07-11T00:00:00+00:00",
          "2021-07-10T00:00:00+00:00",
          "2021-07-09T00:00:00+00:00",
          "2021-07-08T00:00:00+00:00",
          "2021-07-07T00:00:00+00:00",
          "2021-07-06T00:00:00+00:00",
          "2021-07-05T00:00:00+00:00",
          "2021-07-04T00:00:00+00:00",
          "2021-07-03T00:00:00+00:00",
          "2021-07-02T00:00:00+00:00",
          "2021-07-01T00:00:00+00:00",
          "2021-06-30T00:00:00+00:00",
          "2021-06-29T00:00:00+00:00",
          "2021-06-28T00:00:00+00:00",
          "2021-06-27T00:00:00+00:00",
          "2021-06-26T00:00:00+00:00",
          "2021-06-25T00:00:00+00:00",
          "2021-06-24T00:00:00+00:00",
          "2021-06-23T00:00:00+00:00",
          "2021-06-22T00:00:00+00:00",
          "2021-06-21T00:00:00+00:00",
          "2021-06-20T00:00:00+00:00",
          "2021-06-19T00:00:00+00:00",
          "2021-06-18T00:00:00+00:00",
          "2021-06-17T00:00:00+00:00",
          "2021-06-16T00:00:00+00:00",
          "2021-06-15T00:00:00+00:00",
          "2021-06-14T00:00:00+00:00",
          "2021-06-13T00:00:00+00:00",
          "2021-06-12T00:00:00+00:00",
          "2021-06-11T00:00:00+00:00",
          "2021-06-10T00:00:00+00:00",
          "2021-06-09T00:00:00+00:00",
          "2021-06-08T00:00:00+00:00",
          "2021-06-07T00:00:00+00:00",
          "2021-06-06T00:00:00+00:00",
          "2021-06-05T00:00:00+00:00",
          "2021-06-04T00:00:00+00:00",
          "2021-06-03T00:00:00+00:00",
          "2021-06-02T00:00:00+00:00",
          "2021-06-01T00:00:00+00:00",
          "2021-05-31T00:00:00+00:00",
          "2021-05-30T00:00:00+00:00",
          "2021-05-29T00:00:00+00:00",
          "2021-05-28T00:00:00+00:00",
          "2021-05-27T00:00:00+00:00",
          "2021-05-26T00:00:00+00:00",
          "2021-05-25T00:00:00+00:00",
          "2021-05-24T00:00:00+00:00",
          "2021-05-23T00:00:00+00:00",
          "2021-05-22T00:00:00+00:00",
          "2021-05-21T00:00:00+00:00",
          "2021-05-20T00:00:00+00:00",
          "2021-05-19T00:00:00+00:00",
          "2021-05-18T00:00:00+00:00",
          "2021-05-17T00:00:00+00:00",
          "2021-05-16T00:00:00+00:00",
          "2021-05-15T00:00:00+00:00",
          "2021-05-14T00:00:00+00:00",
          "2021-05-13T00:00:00+00:00",
          "2021-05-12T00:00:00+00:00",
          "2021-05-11T00:00:00+00:00",
          "2021-05-10T00:00:00+00:00",
          "2021-05-09T00:00:00+00:00",
          "2021-05-08T00:00:00+00:00",
          "2021-05-07T00:00:00+00:00",
          "2021-05-06T00:00:00+00:00",
          "2021-05-05T00:00:00+00:00",
          "2021-05-04T00:00:00+00:00",
          "2021-05-03T00:00:00+00:00",
          "2021-05-02T00:00:00+00:00",
          "2021-05-01T00:00:00+00:00",
          "2021-04-30T00:00:00+00:00",
          "2021-04-29T00:00:00+00:00",
          "2021-04-28T00:00:00+00:00",
          "2021-04-27T00:00:00+00:00",
          "2021-04-26T00:00:00+00:00",
          "2021-04-25T00:00:00+00:00",
          "2021-04-24T00:00:00+00:00",
          "2021-04-23T00:00:00+00:00",
          "2021-04-22T00:00:00+00:00",
          "2021-04-21T00:00:00+00:00",
          "2021-04-20T00:00:00+00:00",
          "2021-04-19T00:00:00+00:00",
          "2021-04-18T00:00:00+00:00",
          "2021-04-17T00:00:00+00:00",
          "2021-04-16T00:00:00+00:00",
          "2021-04-15T00:00:00+00:00",
          "2021-04-14T00:00:00+00:00",
          "2021-04-13T00:00:00+00:00",
          "2021-04-12T00:00:00+00:00",
          "2021-04-11T00:00:00+00:00",
          "2021-04-10T00:00:00+00:00",
          "2021-04-09T00:00:00+00:00",
          "2021-04-08T00:00:00+00:00",
          "2021-04-07T00:00:00+00:00",
          "2021-04-06T00:00:00+00:00",
          "2021-04-05T00:00:00+00:00",
          "2021-04-04T00:00:00+00:00",
          "2021-04-03T00:00:00+00:00",
          "2021-04-02T00:00:00+00:00",
          "2021-04-01T00:00:00+00:00",
          "2021-03-31T00:00:00+00:00",
          "2021-03-30T00:00:00+00:00",
          "2021-03-29T00:00:00+00:00",
          "2021-03-26T00:00:00+00:00",
          "2021-03-25T00:00:00+00:00",
          "2021-03-24T00:00:00+00:00",
          "2021-03-23T00:00:00+00:00",
          "2021-03-22T00:00:00+00:00",
          "2021-03-21T00:00:00+00:00",
          "2021-03-20T00:00:00+00:00",
          "2021-03-19T00:00:00+00:00",
          "2021-03-18T00:00:00+00:00",
          "2021-03-17T00:00:00+00:00",
          "2021-03-16T00:00:00+00:00",
          "2021-03-15T00:00:00+00:00",
          "2021-03-14T00:00:00+00:00",
          "2021-03-13T00:00:00+00:00",
          "2021-03-12T00:00:00+00:00",
          "2021-03-11T00:00:00+00:00",
          "2021-03-10T00:00:00+00:00",
          "2021-03-09T00:00:00+00:00"
         ],
         "xaxis": "x",
         "y": [
          0.04973802993799108,
          0.05342394995046713,
          0.0621688604994996,
          0.06418452792870086,
          0.06871715074365124,
          0.07747291651235785,
          0.08250038267200867,
          0.07946692458291402,
          0.07725604189975778,
          0.06599076344927857,
          0.06546289019262638,
          0.06197805534498078,
          0.05533984059650716,
          0.05526783115093032,
          0.061775340163512625,
          0.07071673047429687,
          0.08897839289782146,
          0.09351556624663018,
          0.09445269844690296,
          0.09468770820326307,
          0.08941387854544998,
          0.08267692289952364,
          0.07274855567425882,
          0.06750573440154643,
          0.06178011909591714,
          0.06141219810138948,
          0.05921991448953144,
          0.06050397058697731,
          0.0653201999173739,
          0.06647809663708196,
          0.062109506054851646,
          0.06882430505367368,
          0.06961812724198031,
          0.06957921526199594,
          0.0694979875237238,
          0.06464899809606063,
          0.061524171914912704,
          0.054887343844664996,
          0.05053852857539914,
          0.051556082361114294,
          0.057851798163858145,
          0.062214104717583714,
          0.06980053459928584,
          0.07777816042353003,
          0.08852629255706165,
          0.09583119148065242,
          0.09823689786265444,
          0.09673560657457236,
          0.09862083890481475,
          0.09855937911971477,
          0.09918281636244654,
          0.09983186068992896,
          0.10305720690753385,
          0.10891970016077855,
          0.12060133282084183,
          0.14441447384633713,
          0.16890413506704977,
          0.17037244315521932,
          0.16934420479347903,
          0.17361126787191253,
          0.17260779864988193,
          0.1609975867123228,
          0.14071630927336976,
          0.12497899825358241,
          0.1310106652049435,
          0.12654879223465448,
          0.12389541942073759,
          0.1253661812830141,
          0.1334315974722239,
          0.13123779703642982,
          0.12227618671180791,
          0.11510479794966308,
          0.1178105068446953,
          0.11443393014047774,
          0.11084063819970222,
          0.11171684133298053,
          0.1120699262521304,
          0.10982208078039908,
          0.10627851333790284,
          0.11107048512374407,
          0.10804789972474656,
          0.10789832787549043,
          0.09997464493157442,
          0.09732787581284268,
          0.10335165570321425,
          0.11754130809498563,
          0.11341703136665629,
          0.11623391678455428,
          0.1211369664339943,
          0.12744633439652867,
          0.13285249542741098,
          0.13358168526843814,
          0.15301513157795466,
          0.1725223696876432,
          0.20529701154282612,
          0.23444912877747243,
          0.24609071883329015,
          0.2634646984162503,
          0.2791223089160512,
          0.27484535391555875,
          0.27534238885570905,
          0.26565440381238264,
          0.2618335788353921,
          0.2683074721481777,
          0.26364829672284457,
          0.2607200927019076,
          0.2589330540043996,
          0.24955953966728034,
          0.2421598609165246,
          0.23150008797895466,
          0.2308128434050485,
          0.23227960903261088,
          0.24357818733547307,
          0.24583379790619267,
          0.2717888557725671,
          0.29609920945369106,
          0.32322480635540235,
          0.3416031997457035,
          0.35436100502992074,
          0.3556441269563683,
          0.3637634596582201,
          0.36369890440479186,
          0.34901588817558915,
          0.3365976213016729,
          0.3402362252105328,
          0.34845719365127925,
          0.3648711590448203,
          0.3669224533818768,
          0.36848612259927827,
          0.37914328908402267,
          0.39334478989646576,
          0.39002398636669744,
          0.3926508616637386,
          0.3874756470161361,
          0.396657991605991,
          0.4006482067630184,
          0.4053081113529354,
          0.3780551222048882
         ],
         "yaxis": "y"
        }
       ],
       "layout": {
        "annotations": [
         {
          "align": "right",
          "height": 40,
          "showarrow": false,
          "text": "<a style=\"color: rgb(100, 130, 180);\" href=\"https://beneath.dev/\">beneath.dev</a>",
          "x": 1,
          "xanchor": "right",
          "xref": "paper",
          "y": 1,
          "yanchor": "bottom",
          "yref": "paper",
          "yshift": 13
         },
         {
          "align": "left",
          "font": {
           "size": 12
          },
          "height": 16,
          "showarrow": false,
          "text": "...",
          "x": 0,
          "xanchor": "left",
          "xref": "paper",
          "y": 1,
          "yanchor": "bottom",
          "yref": "paper",
          "yshift": 13
         },
         {
          "align": "left",
          "font": {
           "size": 18
          },
          "height": 24,
          "showarrow": false,
          "text": "<b>Fraction of mentions (7 day rolling average)</b>",
          "x": 0,
          "xanchor": "left",
          "xref": "paper",
          "y": 1,
          "yanchor": "bottom",
          "yref": "paper",
          "yshift": 29
         }
        ],
        "colorway": [
         "rgb(60, 170, 255)",
         "rgb(255, 60, 130)",
         "rgb(100, 200, 100)",
         "rgb(200, 220, 240)",
         "rgb(251, 241, 67)",
         "rgb(203, 60, 255)",
         "rgb(249, 148, 66)",
         "rgb(36, 130, 36)",
         "rgb(238, 255, 234)"
        ],
        "dragmode": "select",
        "font": {
         "color": "#e1e1e1",
         "family": "SFMono-Regular,Menlo,Monaco,Consolas,Liberation Mono,Courier,monospace"
        },
        "legend": {
         "orientation": "h",
         "title": {
          "text": "Symbol"
         },
         "tracegroupgap": 0,
         "x": 0,
         "y": -0.1,
         "yanchor": "top"
        },
        "margin": {
         "autoexpand": true,
         "b": 30,
         "l": 35,
         "r": 20,
         "t": 68
        },
        "paper_bgcolor": "#1b2442",
        "plot_bgcolor": "#1b2442",
        "template": {
         "data": {
          "bar": [
           {
            "error_x": {
             "color": "#2a3f5f"
            },
            "error_y": {
             "color": "#2a3f5f"
            },
            "marker": {
             "line": {
              "color": "#E5ECF6",
              "width": 0.5
             },
             "pattern": {
              "fillmode": "overlay",
              "size": 10,
              "solidity": 0.2
             }
            },
            "type": "bar"
           }
          ],
          "barpolar": [
           {
            "marker": {
             "line": {
              "color": "#E5ECF6",
              "width": 0.5
             },
             "pattern": {
              "fillmode": "overlay",
              "size": 10,
              "solidity": 0.2
             }
            },
            "type": "barpolar"
           }
          ],
          "carpet": [
           {
            "aaxis": {
             "endlinecolor": "#2a3f5f",
             "gridcolor": "white",
             "linecolor": "white",
             "minorgridcolor": "white",
             "startlinecolor": "#2a3f5f"
            },
            "baxis": {
             "endlinecolor": "#2a3f5f",
             "gridcolor": "white",
             "linecolor": "white",
             "minorgridcolor": "white",
             "startlinecolor": "#2a3f5f"
            },
            "type": "carpet"
           }
          ],
          "choropleth": [
           {
            "colorbar": {
             "outlinewidth": 0,
             "ticks": ""
            },
            "type": "choropleth"
           }
          ],
          "contour": [
           {
            "colorbar": {
             "outlinewidth": 0,
             "ticks": ""
            },
            "colorscale": [
             [
              0,
              "#0d0887"
             ],
             [
              0.1111111111111111,
              "#46039f"
             ],
             [
              0.2222222222222222,
              "#7201a8"
             ],
             [
              0.3333333333333333,
              "#9c179e"
             ],
             [
              0.4444444444444444,
              "#bd3786"
             ],
             [
              0.5555555555555556,
              "#d8576b"
             ],
             [
              0.6666666666666666,
              "#ed7953"
             ],
             [
              0.7777777777777778,
              "#fb9f3a"
             ],
             [
              0.8888888888888888,
              "#fdca26"
             ],
             [
              1,
              "#f0f921"
             ]
            ],
            "type": "contour"
           }
          ],
          "contourcarpet": [
           {
            "colorbar": {
             "outlinewidth": 0,
             "ticks": ""
            },
            "type": "contourcarpet"
           }
          ],
          "heatmap": [
           {
            "colorbar": {
             "outlinewidth": 0,
             "ticks": ""
            },
            "colorscale": [
             [
              0,
              "#0d0887"
             ],
             [
              0.1111111111111111,
              "#46039f"
             ],
             [
              0.2222222222222222,
              "#7201a8"
             ],
             [
              0.3333333333333333,
              "#9c179e"
             ],
             [
              0.4444444444444444,
              "#bd3786"
             ],
             [
              0.5555555555555556,
              "#d8576b"
             ],
             [
              0.6666666666666666,
              "#ed7953"
             ],
             [
              0.7777777777777778,
              "#fb9f3a"
             ],
             [
              0.8888888888888888,
              "#fdca26"
             ],
             [
              1,
              "#f0f921"
             ]
            ],
            "type": "heatmap"
           }
          ],
          "heatmapgl": [
           {
            "colorbar": {
             "outlinewidth": 0,
             "ticks": ""
            },
            "colorscale": [
             [
              0,
              "#0d0887"
             ],
             [
              0.1111111111111111,
              "#46039f"
             ],
             [
              0.2222222222222222,
              "#7201a8"
             ],
             [
              0.3333333333333333,
              "#9c179e"
             ],
             [
              0.4444444444444444,
              "#bd3786"
             ],
             [
              0.5555555555555556,
              "#d8576b"
             ],
             [
              0.6666666666666666,
              "#ed7953"
             ],
             [
              0.7777777777777778,
              "#fb9f3a"
             ],
             [
              0.8888888888888888,
              "#fdca26"
             ],
             [
              1,
              "#f0f921"
             ]
            ],
            "type": "heatmapgl"
           }
          ],
          "histogram": [
           {
            "marker": {
             "pattern": {
              "fillmode": "overlay",
              "size": 10,
              "solidity": 0.2
             }
            },
            "type": "histogram"
           }
          ],
          "histogram2d": [
           {
            "colorbar": {
             "outlinewidth": 0,
             "ticks": ""
            },
            "colorscale": [
             [
              0,
              "#0d0887"
             ],
             [
              0.1111111111111111,
              "#46039f"
             ],
             [
              0.2222222222222222,
              "#7201a8"
             ],
             [
              0.3333333333333333,
              "#9c179e"
             ],
             [
              0.4444444444444444,
              "#bd3786"
             ],
             [
              0.5555555555555556,
              "#d8576b"
             ],
             [
              0.6666666666666666,
              "#ed7953"
             ],
             [
              0.7777777777777778,
              "#fb9f3a"
             ],
             [
              0.8888888888888888,
              "#fdca26"
             ],
             [
              1,
              "#f0f921"
             ]
            ],
            "type": "histogram2d"
           }
          ],
          "histogram2dcontour": [
           {
            "colorbar": {
             "outlinewidth": 0,
             "ticks": ""
            },
            "colorscale": [
             [
              0,
              "#0d0887"
             ],
             [
              0.1111111111111111,
              "#46039f"
             ],
             [
              0.2222222222222222,
              "#7201a8"
             ],
             [
              0.3333333333333333,
              "#9c179e"
             ],
             [
              0.4444444444444444,
              "#bd3786"
             ],
             [
              0.5555555555555556,
              "#d8576b"
             ],
             [
              0.6666666666666666,
              "#ed7953"
             ],
             [
              0.7777777777777778,
              "#fb9f3a"
             ],
             [
              0.8888888888888888,
              "#fdca26"
             ],
             [
              1,
              "#f0f921"
             ]
            ],
            "type": "histogram2dcontour"
           }
          ],
          "mesh3d": [
           {
            "colorbar": {
             "outlinewidth": 0,
             "ticks": ""
            },
            "type": "mesh3d"
           }
          ],
          "parcoords": [
           {
            "line": {
             "colorbar": {
              "outlinewidth": 0,
              "ticks": ""
             }
            },
            "type": "parcoords"
           }
          ],
          "pie": [
           {
            "automargin": true,
            "type": "pie"
           }
          ],
          "scatter": [
           {
            "marker": {
             "colorbar": {
              "outlinewidth": 0,
              "ticks": ""
             }
            },
            "type": "scatter"
           }
          ],
          "scatter3d": [
           {
            "line": {
             "colorbar": {
              "outlinewidth": 0,
              "ticks": ""
             }
            },
            "marker": {
             "colorbar": {
              "outlinewidth": 0,
              "ticks": ""
             }
            },
            "type": "scatter3d"
           }
          ],
          "scattercarpet": [
           {
            "marker": {
             "colorbar": {
              "outlinewidth": 0,
              "ticks": ""
             }
            },
            "type": "scattercarpet"
           }
          ],
          "scattergeo": [
           {
            "marker": {
             "colorbar": {
              "outlinewidth": 0,
              "ticks": ""
             }
            },
            "type": "scattergeo"
           }
          ],
          "scattergl": [
           {
            "marker": {
             "colorbar": {
              "outlinewidth": 0,
              "ticks": ""
             }
            },
            "type": "scattergl"
           }
          ],
          "scattermapbox": [
           {
            "marker": {
             "colorbar": {
              "outlinewidth": 0,
              "ticks": ""
             }
            },
            "type": "scattermapbox"
           }
          ],
          "scatterpolar": [
           {
            "marker": {
             "colorbar": {
              "outlinewidth": 0,
              "ticks": ""
             }
            },
            "type": "scatterpolar"
           }
          ],
          "scatterpolargl": [
           {
            "marker": {
             "colorbar": {
              "outlinewidth": 0,
              "ticks": ""
             }
            },
            "type": "scatterpolargl"
           }
          ],
          "scatterternary": [
           {
            "marker": {
             "colorbar": {
              "outlinewidth": 0,
              "ticks": ""
             }
            },
            "type": "scatterternary"
           }
          ],
          "surface": [
           {
            "colorbar": {
             "outlinewidth": 0,
             "ticks": ""
            },
            "colorscale": [
             [
              0,
              "#0d0887"
             ],
             [
              0.1111111111111111,
              "#46039f"
             ],
             [
              0.2222222222222222,
              "#7201a8"
             ],
             [
              0.3333333333333333,
              "#9c179e"
             ],
             [
              0.4444444444444444,
              "#bd3786"
             ],
             [
              0.5555555555555556,
              "#d8576b"
             ],
             [
              0.6666666666666666,
              "#ed7953"
             ],
             [
              0.7777777777777778,
              "#fb9f3a"
             ],
             [
              0.8888888888888888,
              "#fdca26"
             ],
             [
              1,
              "#f0f921"
             ]
            ],
            "type": "surface"
           }
          ],
          "table": [
           {
            "cells": {
             "fill": {
              "color": "#EBF0F8"
             },
             "line": {
              "color": "white"
             }
            },
            "header": {
             "fill": {
              "color": "#C8D4E3"
             },
             "line": {
              "color": "white"
             }
            },
            "type": "table"
           }
          ]
         },
         "layout": {
          "annotationdefaults": {
           "arrowcolor": "#2a3f5f",
           "arrowhead": 0,
           "arrowwidth": 1
          },
          "autotypenumbers": "strict",
          "coloraxis": {
           "colorbar": {
            "outlinewidth": 0,
            "ticks": ""
           }
          },
          "colorscale": {
           "diverging": [
            [
             0,
             "#8e0152"
            ],
            [
             0.1,
             "#c51b7d"
            ],
            [
             0.2,
             "#de77ae"
            ],
            [
             0.3,
             "#f1b6da"
            ],
            [
             0.4,
             "#fde0ef"
            ],
            [
             0.5,
             "#f7f7f7"
            ],
            [
             0.6,
             "#e6f5d0"
            ],
            [
             0.7,
             "#b8e186"
            ],
            [
             0.8,
             "#7fbc41"
            ],
            [
             0.9,
             "#4d9221"
            ],
            [
             1,
             "#276419"
            ]
           ],
           "sequential": [
            [
             0,
             "#0d0887"
            ],
            [
             0.1111111111111111,
             "#46039f"
            ],
            [
             0.2222222222222222,
             "#7201a8"
            ],
            [
             0.3333333333333333,
             "#9c179e"
            ],
            [
             0.4444444444444444,
             "#bd3786"
            ],
            [
             0.5555555555555556,
             "#d8576b"
            ],
            [
             0.6666666666666666,
             "#ed7953"
            ],
            [
             0.7777777777777778,
             "#fb9f3a"
            ],
            [
             0.8888888888888888,
             "#fdca26"
            ],
            [
             1,
             "#f0f921"
            ]
           ],
           "sequentialminus": [
            [
             0,
             "#0d0887"
            ],
            [
             0.1111111111111111,
             "#46039f"
            ],
            [
             0.2222222222222222,
             "#7201a8"
            ],
            [
             0.3333333333333333,
             "#9c179e"
            ],
            [
             0.4444444444444444,
             "#bd3786"
            ],
            [
             0.5555555555555556,
             "#d8576b"
            ],
            [
             0.6666666666666666,
             "#ed7953"
            ],
            [
             0.7777777777777778,
             "#fb9f3a"
            ],
            [
             0.8888888888888888,
             "#fdca26"
            ],
            [
             1,
             "#f0f921"
            ]
           ]
          },
          "colorway": [
           "#636efa",
           "#EF553B",
           "#00cc96",
           "#ab63fa",
           "#FFA15A",
           "#19d3f3",
           "#FF6692",
           "#B6E880",
           "#FF97FF",
           "#FECB52"
          ],
          "font": {
           "color": "#2a3f5f"
          },
          "geo": {
           "bgcolor": "white",
           "lakecolor": "white",
           "landcolor": "#E5ECF6",
           "showlakes": true,
           "showland": true,
           "subunitcolor": "white"
          },
          "hoverlabel": {
           "align": "left"
          },
          "hovermode": "closest",
          "mapbox": {
           "style": "light"
          },
          "paper_bgcolor": "white",
          "plot_bgcolor": "#E5ECF6",
          "polar": {
           "angularaxis": {
            "gridcolor": "white",
            "linecolor": "white",
            "ticks": ""
           },
           "bgcolor": "#E5ECF6",
           "radialaxis": {
            "gridcolor": "white",
            "linecolor": "white",
            "ticks": ""
           }
          },
          "scene": {
           "xaxis": {
            "backgroundcolor": "#E5ECF6",
            "gridcolor": "white",
            "gridwidth": 2,
            "linecolor": "white",
            "showbackground": true,
            "ticks": "",
            "zerolinecolor": "white"
           },
           "yaxis": {
            "backgroundcolor": "#E5ECF6",
            "gridcolor": "white",
            "gridwidth": 2,
            "linecolor": "white",
            "showbackground": true,
            "ticks": "",
            "zerolinecolor": "white"
           },
           "zaxis": {
            "backgroundcolor": "#E5ECF6",
            "gridcolor": "white",
            "gridwidth": 2,
            "linecolor": "white",
            "showbackground": true,
            "ticks": "",
            "zerolinecolor": "white"
           }
          },
          "shapedefaults": {
           "line": {
            "color": "#2a3f5f"
           }
          },
          "ternary": {
           "aaxis": {
            "gridcolor": "white",
            "linecolor": "white",
            "ticks": ""
           },
           "baxis": {
            "gridcolor": "white",
            "linecolor": "white",
            "ticks": ""
           },
           "bgcolor": "#E5ECF6",
           "caxis": {
            "gridcolor": "white",
            "linecolor": "white",
            "ticks": ""
           }
          },
          "title": {
           "x": 0.05
          },
          "xaxis": {
           "automargin": true,
           "gridcolor": "white",
           "linecolor": "white",
           "ticks": "",
           "title": {
            "standoff": 15
           },
           "zerolinecolor": "white",
           "zerolinewidth": 2
          },
          "yaxis": {
           "automargin": true,
           "gridcolor": "white",
           "linecolor": "white",
           "ticks": "",
           "title": {
            "standoff": 15
           },
           "zerolinecolor": "white",
           "zerolinewidth": 2
          }
         }
        },
        "title": {
         "font": {
          "color": "#1b2442",
          "size": 1
         },
         "text": "Fraction of mentions (7 day rolling average)"
        },
        "xaxis": {
         "anchor": "y",
         "domain": [
          0,
          1
         ],
         "gridcolor": "rgb(44, 53, 72)",
         "title": {
          "text": ""
         },
         "zerolinecolor": "#e1e1e1"
        },
        "yaxis": {
         "anchor": "x",
         "domain": [
          0,
          1
         ],
         "gridcolor": "rgb(44, 53, 72)",
         "title": {
          "text": "% of all mentions"
         },
         "zerolinecolor": "#e1e1e1"
        }
       }
      },
      "text/html": [
       "<div>                            <div id=\"c8bda470-ffad-4f2b-aa15-e26480b37e48\" class=\"plotly-graph-div\" style=\"height:525px; width:100%;\"></div>            <script type=\"text/javascript\">                require([\"plotly\"], function(Plotly) {                    window.PLOTLYENV=window.PLOTLYENV || {};                                    if (document.getElementById(\"c8bda470-ffad-4f2b-aa15-e26480b37e48\")) {                    Plotly.newPlot(                        \"c8bda470-ffad-4f2b-aa15-e26480b37e48\",                        [{\"hovertemplate\":\"Symbol=WISH<br>Day=%{x}<br>Fraction of mentions (7 day rolling average)=%{y}<extra></extra>\",\"legendgroup\":\"WISH\",\"line\":{\"color\":\"#636efa\",\"dash\":\"solid\"},\"mode\":\"lines\",\"name\":\"WISH\",\"showlegend\":true,\"type\":\"scattergl\",\"x\":[\"2021-07-26T00:00:00+00:00\",\"2021-07-25T00:00:00+00:00\",\"2021-07-24T00:00:00+00:00\",\"2021-07-23T00:00:00+00:00\",\"2021-07-22T00:00:00+00:00\",\"2021-07-21T00:00:00+00:00\",\"2021-07-20T00:00:00+00:00\",\"2021-07-19T00:00:00+00:00\",\"2021-07-18T00:00:00+00:00\",\"2021-07-17T00:00:00+00:00\",\"2021-07-16T00:00:00+00:00\",\"2021-07-15T00:00:00+00:00\",\"2021-07-14T00:00:00+00:00\",\"2021-07-13T00:00:00+00:00\",\"2021-07-12T00:00:00+00:00\",\"2021-07-11T00:00:00+00:00\",\"2021-07-10T00:00:00+00:00\",\"2021-07-09T00:00:00+00:00\",\"2021-07-08T00:00:00+00:00\",\"2021-07-07T00:00:00+00:00\",\"2021-07-06T00:00:00+00:00\",\"2021-07-05T00:00:00+00:00\",\"2021-07-04T00:00:00+00:00\",\"2021-07-03T00:00:00+00:00\",\"2021-07-02T00:00:00+00:00\",\"2021-07-01T00:00:00+00:00\",\"2021-06-30T00:00:00+00:00\",\"2021-06-29T00:00:00+00:00\",\"2021-06-28T00:00:00+00:00\",\"2021-06-27T00:00:00+00:00\",\"2021-06-26T00:00:00+00:00\",\"2021-06-25T00:00:00+00:00\",\"2021-06-24T00:00:00+00:00\",\"2021-06-23T00:00:00+00:00\",\"2021-06-22T00:00:00+00:00\",\"2021-06-21T00:00:00+00:00\",\"2021-06-20T00:00:00+00:00\",\"2021-06-19T00:00:00+00:00\",\"2021-06-18T00:00:00+00:00\",\"2021-06-17T00:00:00+00:00\",\"2021-06-16T00:00:00+00:00\",\"2021-06-15T00:00:00+00:00\",\"2021-06-14T00:00:00+00:00\",\"2021-06-13T00:00:00+00:00\",\"2021-06-12T00:00:00+00:00\",\"2021-06-11T00:00:00+00:00\",\"2021-06-10T00:00:00+00:00\",\"2021-06-09T00:00:00+00:00\",\"2021-06-08T00:00:00+00:00\",\"2021-06-07T00:00:00+00:00\",\"2021-06-06T00:00:00+00:00\",\"2021-06-05T00:00:00+00:00\",\"2021-06-04T00:00:00+00:00\",\"2021-06-03T00:00:00+00:00\",\"2021-06-02T00:00:00+00:00\",\"2021-06-01T00:00:00+00:00\",\"2021-05-31T00:00:00+00:00\",\"2021-05-30T00:00:00+00:00\",\"2021-05-29T00:00:00+00:00\",\"2021-05-28T00:00:00+00:00\",\"2021-05-27T00:00:00+00:00\",\"2021-05-26T00:00:00+00:00\",\"2021-05-25T00:00:00+00:00\",\"2021-05-24T00:00:00+00:00\",\"2021-05-23T00:00:00+00:00\",\"2021-05-21T00:00:00+00:00\",\"2021-05-20T00:00:00+00:00\",\"2021-05-19T00:00:00+00:00\",\"2021-05-18T00:00:00+00:00\",\"2021-05-17T00:00:00+00:00\",\"2021-05-16T00:00:00+00:00\",\"2021-05-14T00:00:00+00:00\",\"2021-05-13T00:00:00+00:00\",\"2021-05-12T00:00:00+00:00\",\"2021-05-11T00:00:00+00:00\",\"2021-05-10T00:00:00+00:00\",\"2021-05-09T00:00:00+00:00\",\"2021-05-08T00:00:00+00:00\",\"2021-05-07T00:00:00+00:00\",\"2021-05-06T00:00:00+00:00\",\"2021-05-05T00:00:00+00:00\",\"2021-05-04T00:00:00+00:00\",\"2021-05-03T00:00:00+00:00\",\"2021-05-02T00:00:00+00:00\",\"2021-05-01T00:00:00+00:00\",\"2021-04-30T00:00:00+00:00\",\"2021-04-29T00:00:00+00:00\",\"2021-04-28T00:00:00+00:00\",\"2021-04-27T00:00:00+00:00\",\"2021-04-26T00:00:00+00:00\",\"2021-04-25T00:00:00+00:00\",\"2021-04-23T00:00:00+00:00\",\"2021-04-22T00:00:00+00:00\",\"2021-04-21T00:00:00+00:00\",\"2021-04-20T00:00:00+00:00\",\"2021-04-19T00:00:00+00:00\",\"2021-04-18T00:00:00+00:00\",\"2021-04-17T00:00:00+00:00\",\"2021-04-16T00:00:00+00:00\",\"2021-04-15T00:00:00+00:00\",\"2021-04-14T00:00:00+00:00\",\"2021-04-13T00:00:00+00:00\",\"2021-04-12T00:00:00+00:00\",\"2021-04-11T00:00:00+00:00\",\"2021-04-10T00:00:00+00:00\",\"2021-04-09T00:00:00+00:00\",\"2021-04-08T00:00:00+00:00\",\"2021-04-07T00:00:00+00:00\",\"2021-04-06T00:00:00+00:00\",\"2021-04-05T00:00:00+00:00\",\"2021-04-04T00:00:00+00:00\",\"2021-04-02T00:00:00+00:00\",\"2021-04-01T00:00:00+00:00\",\"2021-03-31T00:00:00+00:00\",\"2021-03-30T00:00:00+00:00\",\"2021-03-29T00:00:00+00:00\",\"2021-03-26T00:00:00+00:00\",\"2021-03-25T00:00:00+00:00\",\"2021-03-24T00:00:00+00:00\",\"2021-03-23T00:00:00+00:00\",\"2021-03-22T00:00:00+00:00\",\"2021-03-21T00:00:00+00:00\",\"2021-03-20T00:00:00+00:00\",\"2021-03-19T00:00:00+00:00\",\"2021-03-18T00:00:00+00:00\",\"2021-03-17T00:00:00+00:00\",\"2021-03-16T00:00:00+00:00\",\"2021-03-15T00:00:00+00:00\",\"2021-03-14T00:00:00+00:00\",\"2021-03-13T00:00:00+00:00\",\"2021-03-12T00:00:00+00:00\",\"2021-03-11T00:00:00+00:00\",\"2021-03-10T00:00:00+00:00\",\"2021-03-09T00:00:00+00:00\"],\"xaxis\":\"x\",\"y\":[0.021753152767559996,0.022933251035498276,0.02287011552785739,0.02567578938616283,0.028034137194418225,0.03010969481630716,0.03205843935825104,0.031598288158930364,0.03122430115190957,0.03214986987230696,0.030194342719342356,0.028397343574297358,0.0291115300166064,0.028392238935453302,0.030600795210974613,0.031943622330533036,0.03148697221603498,0.03396223924958415,0.036986641067249706,0.04022290070449952,0.042944405368389116,0.04474032269769856,0.04900761874234872,0.054123903818438145,0.057760169515095175,0.05916102997495865,0.06382058529480754,0.07044711743861111,0.08375459235298775,0.1030497179445132,0.10342785044652436,0.10325379253811603,0.10326302853261106,0.09744707014235979,0.09171489484684872,0.08156126563300892,0.06435738585445752,0.06392505228000132,0.06394788487273381,0.06354088428622243,0.06623540861687852,0.07430942411059402,0.07853048994725846,0.06729954817498347,0.05913971781244642,0.050441335260406416,0.042035723560118254,0.03169394421451146,0.015760996343916683,0.0009815528618437263,0.0014485470785977404,0.0019391750270884992,0.0021531630329539564,0.0024272237878851114,0.0025116402604251245,0.002641963463439823,0.002897998137409872,0.0022771789293176458,0.0017868719034978657,0.0015093967145995504,0.001240123626789893,0.001179194156661191,0.000947941920325563,0.0005646358734609418,0.0005781955763778614,0.0012294065326907294,0.001821917894251324,0.0019185793797209998,0.0019078014385146018,0.0019212965910098447,0.002097489072285645,0.0021069911187889105,0.0014597318113822397,0.0008576317084216982,0.0007669443766080076,0.0007108600915680934,0.000634509307943713,0.0004545202873249735,0.0005150502217408979,0.0004883849132195672,0.0005493688512822674,0.0007599059777072442,0.0011113379015094355,0.0010991811512634782,0.001096087523867799,0.0009342637075067941,0.0009447996384457178,0.0008892908233225239,0.0007359395017469034,0.00036609712793837427,0.0003740483160919015,0.0003226732336176628,0.00044341178499738697,0.00047010258253975403,0.00044736964725296735,0.00033783631928832304,0.0003685356240778684,0.0003687158771387456,0.0003736826636300297,0.00033464942145338555,0.00040660068284186754,0.00046950889709636187,0.0005129535439148904,0.000490055866151001,0.0004936116576393881,0.000668797973300371,0.0006148176226775077,0.00048472059511565186,0.0004531184829369069,0.00045766239860257305,0.00046443010631944175,0.0004929969685418186,0.00033867013244918157,0.00031499071197584456,0.0003546617205627011,0.0003549478565762153,0.00036920188905764667,0.00035614404511220994,0.0003488916311636206,0.00030771933259764867,0.0003206723663362311,0.00030229389099081414,0.0003082498105576574,0.00027517036275407746,0.0003141145064015774,0.00037391549758683973,0.0004650890148153031,0.0005030845390059674,0.0005496963351256691,0.000579432420757941,0.0006525339243400784,0.0007387470213915635,0.0006613500444692703,0.0005200208008320333],\"yaxis\":\"y\"},{\"hovertemplate\":\"Symbol=TSLA<br>Day=%{x}<br>Fraction of mentions (7 day rolling average)=%{y}<extra></extra>\",\"legendgroup\":\"TSLA\",\"line\":{\"color\":\"#EF553B\",\"dash\":\"solid\"},\"mode\":\"lines\",\"name\":\"TSLA\",\"showlegend\":true,\"type\":\"scattergl\",\"x\":[\"2021-07-26T00:00:00+00:00\",\"2021-07-25T00:00:00+00:00\",\"2021-07-24T00:00:00+00:00\",\"2021-07-23T00:00:00+00:00\",\"2021-07-22T00:00:00+00:00\",\"2021-07-21T00:00:00+00:00\",\"2021-07-20T00:00:00+00:00\",\"2021-07-19T00:00:00+00:00\",\"2021-07-18T00:00:00+00:00\",\"2021-07-17T00:00:00+00:00\",\"2021-07-16T00:00:00+00:00\",\"2021-07-15T00:00:00+00:00\",\"2021-07-14T00:00:00+00:00\",\"2021-07-13T00:00:00+00:00\",\"2021-07-12T00:00:00+00:00\",\"2021-07-11T00:00:00+00:00\",\"2021-07-10T00:00:00+00:00\",\"2021-07-09T00:00:00+00:00\",\"2021-07-08T00:00:00+00:00\",\"2021-07-07T00:00:00+00:00\",\"2021-07-06T00:00:00+00:00\",\"2021-07-05T00:00:00+00:00\",\"2021-07-04T00:00:00+00:00\",\"2021-07-03T00:00:00+00:00\",\"2021-07-02T00:00:00+00:00\",\"2021-07-01T00:00:00+00:00\",\"2021-06-30T00:00:00+00:00\",\"2021-06-29T00:00:00+00:00\",\"2021-06-28T00:00:00+00:00\",\"2021-06-27T00:00:00+00:00\",\"2021-06-26T00:00:00+00:00\",\"2021-06-25T00:00:00+00:00\",\"2021-06-24T00:00:00+00:00\",\"2021-06-23T00:00:00+00:00\",\"2021-06-22T00:00:00+00:00\",\"2021-06-21T00:00:00+00:00\",\"2021-06-20T00:00:00+00:00\",\"2021-06-19T00:00:00+00:00\",\"2021-06-18T00:00:00+00:00\",\"2021-06-17T00:00:00+00:00\",\"2021-06-16T00:00:00+00:00\",\"2021-06-15T00:00:00+00:00\",\"2021-06-14T00:00:00+00:00\",\"2021-06-13T00:00:00+00:00\",\"2021-06-12T00:00:00+00:00\",\"2021-06-11T00:00:00+00:00\",\"2021-06-10T00:00:00+00:00\",\"2021-06-09T00:00:00+00:00\",\"2021-06-08T00:00:00+00:00\",\"2021-06-07T00:00:00+00:00\",\"2021-06-06T00:00:00+00:00\",\"2021-06-05T00:00:00+00:00\",\"2021-06-04T00:00:00+00:00\",\"2021-06-03T00:00:00+00:00\",\"2021-06-02T00:00:00+00:00\",\"2021-06-01T00:00:00+00:00\",\"2021-05-31T00:00:00+00:00\",\"2021-05-30T00:00:00+00:00\",\"2021-05-29T00:00:00+00:00\",\"2021-05-28T00:00:00+00:00\",\"2021-05-27T00:00:00+00:00\",\"2021-05-26T00:00:00+00:00\",\"2021-05-25T00:00:00+00:00\",\"2021-05-24T00:00:00+00:00\",\"2021-05-23T00:00:00+00:00\",\"2021-05-22T00:00:00+00:00\",\"2021-05-21T00:00:00+00:00\",\"2021-05-20T00:00:00+00:00\",\"2021-05-19T00:00:00+00:00\",\"2021-05-18T00:00:00+00:00\",\"2021-05-17T00:00:00+00:00\",\"2021-05-16T00:00:00+00:00\",\"2021-05-15T00:00:00+00:00\",\"2021-05-14T00:00:00+00:00\",\"2021-05-13T00:00:00+00:00\",\"2021-05-12T00:00:00+00:00\",\"2021-05-11T00:00:00+00:00\",\"2021-05-10T00:00:00+00:00\",\"2021-05-09T00:00:00+00:00\",\"2021-05-08T00:00:00+00:00\",\"2021-05-07T00:00:00+00:00\",\"2021-05-06T00:00:00+00:00\",\"2021-05-05T00:00:00+00:00\",\"2021-05-04T00:00:00+00:00\",\"2021-05-03T00:00:00+00:00\",\"2021-05-02T00:00:00+00:00\",\"2021-05-01T00:00:00+00:00\",\"2021-04-30T00:00:00+00:00\",\"2021-04-29T00:00:00+00:00\",\"2021-04-28T00:00:00+00:00\",\"2021-04-27T00:00:00+00:00\",\"2021-04-26T00:00:00+00:00\",\"2021-04-25T00:00:00+00:00\",\"2021-04-24T00:00:00+00:00\",\"2021-04-23T00:00:00+00:00\",\"2021-04-22T00:00:00+00:00\",\"2021-04-21T00:00:00+00:00\",\"2021-04-20T00:00:00+00:00\",\"2021-04-19T00:00:00+00:00\",\"2021-04-18T00:00:00+00:00\",\"2021-04-17T00:00:00+00:00\",\"2021-04-16T00:00:00+00:00\",\"2021-04-15T00:00:00+00:00\",\"2021-04-14T00:00:00+00:00\",\"2021-04-13T00:00:00+00:00\",\"2021-04-12T00:00:00+00:00\",\"2021-04-11T00:00:00+00:00\",\"2021-04-10T00:00:00+00:00\",\"2021-04-09T00:00:00+00:00\",\"2021-04-08T00:00:00+00:00\",\"2021-04-07T00:00:00+00:00\",\"2021-04-06T00:00:00+00:00\",\"2021-04-05T00:00:00+00:00\",\"2021-04-04T00:00:00+00:00\",\"2021-04-03T00:00:00+00:00\",\"2021-04-02T00:00:00+00:00\",\"2021-04-01T00:00:00+00:00\",\"2021-03-31T00:00:00+00:00\",\"2021-03-30T00:00:00+00:00\",\"2021-03-29T00:00:00+00:00\",\"2021-03-26T00:00:00+00:00\",\"2021-03-25T00:00:00+00:00\",\"2021-03-24T00:00:00+00:00\",\"2021-03-23T00:00:00+00:00\",\"2021-03-22T00:00:00+00:00\",\"2021-03-21T00:00:00+00:00\",\"2021-03-20T00:00:00+00:00\",\"2021-03-19T00:00:00+00:00\",\"2021-03-18T00:00:00+00:00\",\"2021-03-17T00:00:00+00:00\",\"2021-03-16T00:00:00+00:00\",\"2021-03-15T00:00:00+00:00\",\"2021-03-14T00:00:00+00:00\",\"2021-03-13T00:00:00+00:00\",\"2021-03-12T00:00:00+00:00\",\"2021-03-11T00:00:00+00:00\",\"2021-03-10T00:00:00+00:00\",\"2021-03-09T00:00:00+00:00\"],\"xaxis\":\"x\",\"y\":[0.030791602197526052,0.028206879361938574,0.027024970905927148,0.02630277469500913,0.02317745444407316,0.022742809759519405,0.021829186266819033,0.021735768168383744,0.023146657143507988,0.02052412687750494,0.021069240389979142,0.021654243853207456,0.02140729188795252,0.020342694149104355,0.02004196462492166,0.017728264469937565,0.019575720436688752,0.018161708457185993,0.019870051135535867,0.01947280611850194,0.020033839912678358,0.018844655502202348,0.020212332189681815,0.019917299732770784,0.020841813604763726,0.02110252160087298,0.030097906579423517,0.032738989926565716,0.031989077544334735,0.03090573402103609,0.031885820806132066,0.03225817777456906,0.029783184876633735,0.02014043188860352,0.017083948153041137,0.01703834708107066,0.0159538933283391,0.014093996102548658,0.011784841575956623,0.010918971776016237,0.009750382240723054,0.00841287966727713,0.00807890127148509,0.008229551442222559,0.007213447924736896,0.006974569571082047,0.006980049878090518,0.007454214995916848,0.0077425518160961215,0.008378293741148698,0.010346342367534237,0.01055695350076121,0.010419743020856067,0.010186524387734073,0.01066099777818144,0.012303858733495722,0.015429761014855868,0.02164562900746066,0.02887488621782464,0.03260260382996533,0.04384644664425054,0.050893380253279934,0.0584555377154098,0.06376117014683341,0.06649787339253031,0.06920063185452716,0.06971396756727066,0.06482083699197873,0.06531502274160135,0.06265919538880828,0.059007465743052934,0.052077448413687395,0.046541449277362354,0.043686593488704455,0.03989558003122954,0.03333784545522981,0.02861032431177623,0.026174034715042364,0.025509375687318224,0.02280266774541362,0.024138938349766347,0.027481638321209503,0.029296703466430634,0.030061242665549274,0.02989799658553986,0.03263721572961154,0.035604019133627,0.03640329092009427,0.03299143742496687,0.03331296563745675,0.035828825353777294,0.03824927608095324,0.03702360952560641,0.03693025832815839,0.03545409466255934,0.035187970541727204,0.03720859828119693,0.039811253806716206,0.04382880039933319,0.042423078113030185,0.040513966444404935,0.0411592556332258,0.041260681010830455,0.03852113021595366,0.03469068785967009,0.02950899956064555,0.03619356048085344,0.03866477956856614,0.04201189915280963,0.048309566152463616,0.05340092807289288,0.05381377288345771,0.05439079241457918,0.04691378087617317,0.04516536042588088,0.041394812629678195,0.034493789270154694,0.027996658573308738,0.029052783510656138,0.02896499294645854,0.02947692033068237,0.02758143854430176,0.027346582747126282,0.02751504162746191,0.02752488122104042,0.023503519796443488,0.020463074320008656,0.018941926509241525,0.01957131590985703,0.020623607038218705,0.020748653762175124,0.026331197551900363,0.028217496339594212,0.030679602745596203,0.03336241962028457,0.0364247984564569,0.04053201514702898,0.05858901022707575],\"yaxis\":\"y\"},{\"hovertemplate\":\"Symbol=AMC<br>Day=%{x}<br>Fraction of mentions (7 day rolling average)=%{y}<extra></extra>\",\"legendgroup\":\"AMC\",\"line\":{\"color\":\"#00cc96\",\"dash\":\"solid\"},\"mode\":\"lines\",\"name\":\"AMC\",\"showlegend\":true,\"type\":\"scattergl\",\"x\":[\"2021-07-26T00:00:00+00:00\",\"2021-07-25T00:00:00+00:00\",\"2021-07-24T00:00:00+00:00\",\"2021-07-23T00:00:00+00:00\",\"2021-07-22T00:00:00+00:00\",\"2021-07-21T00:00:00+00:00\",\"2021-07-20T00:00:00+00:00\",\"2021-07-19T00:00:00+00:00\",\"2021-07-18T00:00:00+00:00\",\"2021-07-17T00:00:00+00:00\",\"2021-07-16T00:00:00+00:00\",\"2021-07-15T00:00:00+00:00\",\"2021-07-14T00:00:00+00:00\",\"2021-07-13T00:00:00+00:00\",\"2021-07-12T00:00:00+00:00\",\"2021-07-11T00:00:00+00:00\",\"2021-07-10T00:00:00+00:00\",\"2021-07-09T00:00:00+00:00\",\"2021-07-08T00:00:00+00:00\",\"2021-07-07T00:00:00+00:00\",\"2021-07-06T00:00:00+00:00\",\"2021-07-05T00:00:00+00:00\",\"2021-07-04T00:00:00+00:00\",\"2021-07-03T00:00:00+00:00\",\"2021-07-02T00:00:00+00:00\",\"2021-07-01T00:00:00+00:00\",\"2021-06-30T00:00:00+00:00\",\"2021-06-29T00:00:00+00:00\",\"2021-06-28T00:00:00+00:00\",\"2021-06-27T00:00:00+00:00\",\"2021-06-26T00:00:00+00:00\",\"2021-06-25T00:00:00+00:00\",\"2021-06-24T00:00:00+00:00\",\"2021-06-23T00:00:00+00:00\",\"2021-06-22T00:00:00+00:00\",\"2021-06-21T00:00:00+00:00\",\"2021-06-20T00:00:00+00:00\",\"2021-06-19T00:00:00+00:00\",\"2021-06-18T00:00:00+00:00\",\"2021-06-17T00:00:00+00:00\",\"2021-06-16T00:00:00+00:00\",\"2021-06-15T00:00:00+00:00\",\"2021-06-14T00:00:00+00:00\",\"2021-06-13T00:00:00+00:00\",\"2021-06-12T00:00:00+00:00\",\"2021-06-11T00:00:00+00:00\",\"2021-06-10T00:00:00+00:00\",\"2021-06-09T00:00:00+00:00\",\"2021-06-08T00:00:00+00:00\",\"2021-06-07T00:00:00+00:00\",\"2021-06-06T00:00:00+00:00\",\"2021-06-05T00:00:00+00:00\",\"2021-06-04T00:00:00+00:00\",\"2021-06-03T00:00:00+00:00\",\"2021-06-02T00:00:00+00:00\",\"2021-06-01T00:00:00+00:00\",\"2021-05-31T00:00:00+00:00\",\"2021-05-30T00:00:00+00:00\",\"2021-05-29T00:00:00+00:00\",\"2021-05-28T00:00:00+00:00\",\"2021-05-27T00:00:00+00:00\",\"2021-05-26T00:00:00+00:00\",\"2021-05-25T00:00:00+00:00\",\"2021-05-24T00:00:00+00:00\",\"2021-05-23T00:00:00+00:00\",\"2021-05-22T00:00:00+00:00\",\"2021-05-21T00:00:00+00:00\",\"2021-05-20T00:00:00+00:00\",\"2021-05-19T00:00:00+00:00\",\"2021-05-18T00:00:00+00:00\",\"2021-05-17T00:00:00+00:00\",\"2021-05-16T00:00:00+00:00\",\"2021-05-15T00:00:00+00:00\",\"2021-05-14T00:00:00+00:00\",\"2021-05-13T00:00:00+00:00\",\"2021-05-12T00:00:00+00:00\",\"2021-05-11T00:00:00+00:00\",\"2021-05-10T00:00:00+00:00\",\"2021-05-09T00:00:00+00:00\",\"2021-05-08T00:00:00+00:00\",\"2021-05-07T00:00:00+00:00\",\"2021-05-06T00:00:00+00:00\",\"2021-05-05T00:00:00+00:00\",\"2021-05-04T00:00:00+00:00\",\"2021-05-03T00:00:00+00:00\",\"2021-05-02T00:00:00+00:00\",\"2021-05-01T00:00:00+00:00\",\"2021-04-30T00:00:00+00:00\",\"2021-04-29T00:00:00+00:00\",\"2021-04-28T00:00:00+00:00\",\"2021-04-27T00:00:00+00:00\",\"2021-04-26T00:00:00+00:00\",\"2021-04-25T00:00:00+00:00\",\"2021-04-24T00:00:00+00:00\",\"2021-04-23T00:00:00+00:00\",\"2021-04-22T00:00:00+00:00\",\"2021-04-21T00:00:00+00:00\",\"2021-04-20T00:00:00+00:00\",\"2021-04-19T00:00:00+00:00\",\"2021-04-18T00:00:00+00:00\",\"2021-04-17T00:00:00+00:00\",\"2021-04-16T00:00:00+00:00\",\"2021-04-15T00:00:00+00:00\",\"2021-04-14T00:00:00+00:00\",\"2021-04-13T00:00:00+00:00\",\"2021-04-12T00:00:00+00:00\",\"2021-04-11T00:00:00+00:00\",\"2021-04-10T00:00:00+00:00\",\"2021-04-09T00:00:00+00:00\",\"2021-04-08T00:00:00+00:00\",\"2021-04-07T00:00:00+00:00\",\"2021-04-06T00:00:00+00:00\",\"2021-04-05T00:00:00+00:00\",\"2021-04-04T00:00:00+00:00\",\"2021-04-03T00:00:00+00:00\",\"2021-04-02T00:00:00+00:00\",\"2021-04-01T00:00:00+00:00\",\"2021-03-31T00:00:00+00:00\",\"2021-03-30T00:00:00+00:00\",\"2021-03-29T00:00:00+00:00\",\"2021-03-26T00:00:00+00:00\",\"2021-03-25T00:00:00+00:00\",\"2021-03-24T00:00:00+00:00\",\"2021-03-23T00:00:00+00:00\",\"2021-03-22T00:00:00+00:00\",\"2021-03-21T00:00:00+00:00\",\"2021-03-20T00:00:00+00:00\",\"2021-03-19T00:00:00+00:00\",\"2021-03-18T00:00:00+00:00\",\"2021-03-17T00:00:00+00:00\",\"2021-03-16T00:00:00+00:00\",\"2021-03-15T00:00:00+00:00\",\"2021-03-14T00:00:00+00:00\",\"2021-03-13T00:00:00+00:00\",\"2021-03-12T00:00:00+00:00\",\"2021-03-11T00:00:00+00:00\",\"2021-03-10T00:00:00+00:00\",\"2021-03-09T00:00:00+00:00\"],\"xaxis\":\"x\",\"y\":[0.06248387242136728,0.06561240512336529,0.07025042252004407,0.07155773397773146,0.07568926430679145,0.08467329467030281,0.08828128690620628,0.08521702504688755,0.0828925932274263,0.07806189110851733,0.07684345794387551,0.07270122228178065,0.06703948509645832,0.06266500560648226,0.06206021680231298,0.06704521703188017,0.07584249168399612,0.07894552830896477,0.08257308813982485,0.07923356154002666,0.07472521811059304,0.072250419931034,0.06772150030602084,0.06230594303294536,0.0589591307474902,0.05605178712746164,0.055203175096062526,0.05748681974929289,0.061590288057147204,0.06469417043663753,0.07162728005927864,0.08475898098257557,0.09326676224932332,0.10375380715004477,0.10788537821480138,0.11030566505252717,0.1116485398918179,0.10563105147672733,0.10020525312962796,0.09833080935954668,0.09451839461855968,0.09319643486593014,0.09084997101774002,0.0979618559805754,0.1148465178202117,0.13327728185580479,0.15194251961509034,0.17405601233080953,0.20483764934819967,0.2341178119406985,0.2508351420013445,0.26222375958828104,0.27259456566491064,0.2925689409783451,0.3077478358480517,0.29921453852935775,0.2819560180070523,0.2589590377789385,0.2268177576570622,0.19180749823113574,0.14919243151698722,0.10900563218895609,0.0914266143074861,0.09206352137997355,0.09790896513682609,0.10171358027362357,0.10766783390993513,0.1285589208858991,0.14869481481795827,0.14080959254968206,0.1240157455766199,0.11071484004597953,0.10430060845103287,0.09636073977970558,0.0716325260206329,0.04695661643443043,0.04358170046356402,0.03920184543678906,0.036384917449658265,0.036167122574255264,0.03177106442220066,0.02897714318332226,0.025675727769782584,0.02799863850390827,0.029518022641376786,0.03204253877348118,0.03159400699578476,0.03193734391542282,0.03286110701633853,0.03442250264921728,0.03143689007537816,0.02962876057955222,0.02761972102670866,0.02736784306358855,0.026548676378016976,0.02695360743590381,0.027925897215995404,0.026653670075313867,0.028205125631362925,0.030266609630504083,0.03411125291639172,0.034758328719058366,0.03486129689858371,0.03308909756864043,0.03451735918600995,0.03459850229389546,0.03811596988570828,0.041146680164857515,0.046986725889613265,0.05630285881013995,0.061861326701166904,0.06185605837754167,0.06228934825177051,0.05825722424090831,0.054069988609189865,0.05371440207749496,0.047656861728056533,0.04702537423887019,0.056586925865439223,0.06994384485233299,0.08458749100229826,0.08751776392751297,0.08692362521661963,0.08760873513239739,0.09297683409889124,0.10311547980670686,0.09549271586767823,0.08812171189261589,0.08673622172980845,0.0859823748589276,0.09254111873252313,0.09428286209770005,0.08227847167281567,0.08421739017527081,0.08424705344813557,0.09156787497335524,0.10769476199624253,0.11076443057722309],\"yaxis\":\"y\"},{\"hovertemplate\":\"Symbol=AMD<br>Day=%{x}<br>Fraction of mentions (7 day rolling average)=%{y}<extra></extra>\",\"legendgroup\":\"AMD\",\"line\":{\"color\":\"#ab63fa\",\"dash\":\"solid\"},\"mode\":\"lines\",\"name\":\"AMD\",\"showlegend\":true,\"type\":\"scattergl\",\"x\":[\"2021-07-26T00:00:00+00:00\",\"2021-07-25T00:00:00+00:00\",\"2021-07-24T00:00:00+00:00\",\"2021-07-23T00:00:00+00:00\",\"2021-07-22T00:00:00+00:00\",\"2021-07-21T00:00:00+00:00\",\"2021-07-20T00:00:00+00:00\",\"2021-07-19T00:00:00+00:00\",\"2021-07-18T00:00:00+00:00\",\"2021-07-17T00:00:00+00:00\",\"2021-07-16T00:00:00+00:00\",\"2021-07-15T00:00:00+00:00\",\"2021-07-14T00:00:00+00:00\",\"2021-07-13T00:00:00+00:00\",\"2021-07-12T00:00:00+00:00\",\"2021-07-11T00:00:00+00:00\",\"2021-07-10T00:00:00+00:00\",\"2021-07-09T00:00:00+00:00\",\"2021-07-08T00:00:00+00:00\",\"2021-07-07T00:00:00+00:00\",\"2021-07-06T00:00:00+00:00\",\"2021-07-05T00:00:00+00:00\",\"2021-07-04T00:00:00+00:00\",\"2021-07-03T00:00:00+00:00\",\"2021-07-02T00:00:00+00:00\",\"2021-07-01T00:00:00+00:00\",\"2021-06-30T00:00:00+00:00\",\"2021-06-29T00:00:00+00:00\",\"2021-06-28T00:00:00+00:00\",\"2021-06-27T00:00:00+00:00\",\"2021-06-26T00:00:00+00:00\",\"2021-06-25T00:00:00+00:00\",\"2021-06-24T00:00:00+00:00\",\"2021-06-23T00:00:00+00:00\",\"2021-06-22T00:00:00+00:00\",\"2021-06-21T00:00:00+00:00\",\"2021-06-20T00:00:00+00:00\",\"2021-06-19T00:00:00+00:00\",\"2021-06-18T00:00:00+00:00\",\"2021-06-17T00:00:00+00:00\",\"2021-06-16T00:00:00+00:00\",\"2021-06-15T00:00:00+00:00\",\"2021-06-14T00:00:00+00:00\",\"2021-06-13T00:00:00+00:00\",\"2021-06-12T00:00:00+00:00\",\"2021-06-11T00:00:00+00:00\",\"2021-06-10T00:00:00+00:00\",\"2021-06-09T00:00:00+00:00\",\"2021-06-08T00:00:00+00:00\",\"2021-06-07T00:00:00+00:00\",\"2021-06-06T00:00:00+00:00\",\"2021-06-05T00:00:00+00:00\",\"2021-06-04T00:00:00+00:00\",\"2021-06-03T00:00:00+00:00\",\"2021-06-02T00:00:00+00:00\",\"2021-06-01T00:00:00+00:00\",\"2021-05-31T00:00:00+00:00\",\"2021-05-30T00:00:00+00:00\",\"2021-05-29T00:00:00+00:00\",\"2021-05-28T00:00:00+00:00\",\"2021-05-27T00:00:00+00:00\",\"2021-05-26T00:00:00+00:00\",\"2021-05-25T00:00:00+00:00\",\"2021-05-24T00:00:00+00:00\",\"2021-05-23T00:00:00+00:00\",\"2021-05-22T00:00:00+00:00\",\"2021-05-21T00:00:00+00:00\",\"2021-05-20T00:00:00+00:00\",\"2021-05-19T00:00:00+00:00\",\"2021-05-18T00:00:00+00:00\",\"2021-05-17T00:00:00+00:00\",\"2021-05-16T00:00:00+00:00\",\"2021-05-15T00:00:00+00:00\",\"2021-05-14T00:00:00+00:00\",\"2021-05-13T00:00:00+00:00\",\"2021-05-12T00:00:00+00:00\",\"2021-05-11T00:00:00+00:00\",\"2021-05-10T00:00:00+00:00\",\"2021-05-09T00:00:00+00:00\",\"2021-05-08T00:00:00+00:00\",\"2021-05-07T00:00:00+00:00\",\"2021-05-06T00:00:00+00:00\",\"2021-05-05T00:00:00+00:00\",\"2021-05-04T00:00:00+00:00\",\"2021-05-03T00:00:00+00:00\",\"2021-05-02T00:00:00+00:00\",\"2021-05-01T00:00:00+00:00\",\"2021-04-30T00:00:00+00:00\",\"2021-04-29T00:00:00+00:00\",\"2021-04-28T00:00:00+00:00\",\"2021-04-27T00:00:00+00:00\",\"2021-04-26T00:00:00+00:00\",\"2021-04-25T00:00:00+00:00\",\"2021-04-24T00:00:00+00:00\",\"2021-04-23T00:00:00+00:00\",\"2021-04-22T00:00:00+00:00\",\"2021-04-21T00:00:00+00:00\",\"2021-04-20T00:00:00+00:00\",\"2021-04-19T00:00:00+00:00\",\"2021-04-18T00:00:00+00:00\",\"2021-04-17T00:00:00+00:00\",\"2021-04-16T00:00:00+00:00\",\"2021-04-15T00:00:00+00:00\",\"2021-04-14T00:00:00+00:00\",\"2021-04-13T00:00:00+00:00\",\"2021-04-12T00:00:00+00:00\",\"2021-04-11T00:00:00+00:00\",\"2021-04-10T00:00:00+00:00\",\"2021-04-09T00:00:00+00:00\",\"2021-04-08T00:00:00+00:00\",\"2021-04-07T00:00:00+00:00\",\"2021-04-06T00:00:00+00:00\",\"2021-04-05T00:00:00+00:00\",\"2021-04-04T00:00:00+00:00\",\"2021-04-03T00:00:00+00:00\",\"2021-04-02T00:00:00+00:00\",\"2021-04-01T00:00:00+00:00\",\"2021-03-31T00:00:00+00:00\",\"2021-03-30T00:00:00+00:00\",\"2021-03-29T00:00:00+00:00\",\"2021-03-26T00:00:00+00:00\",\"2021-03-25T00:00:00+00:00\",\"2021-03-24T00:00:00+00:00\",\"2021-03-23T00:00:00+00:00\",\"2021-03-22T00:00:00+00:00\",\"2021-03-21T00:00:00+00:00\",\"2021-03-20T00:00:00+00:00\",\"2021-03-19T00:00:00+00:00\",\"2021-03-18T00:00:00+00:00\",\"2021-03-17T00:00:00+00:00\",\"2021-03-16T00:00:00+00:00\",\"2021-03-15T00:00:00+00:00\",\"2021-03-14T00:00:00+00:00\",\"2021-03-13T00:00:00+00:00\",\"2021-03-12T00:00:00+00:00\",\"2021-03-11T00:00:00+00:00\",\"2021-03-10T00:00:00+00:00\",\"2021-03-09T00:00:00+00:00\"],\"xaxis\":\"x\",\"y\":[0.027931676369221024,0.02695519228871485,0.021342669700508687,0.020061786840678462,0.018637616174305538,0.017194500789137927,0.016319596016529502,0.015856594984745856,0.015259491137151943,0.01498681712052165,0.014969942124356875,0.014536391853595097,0.013583925238254467,0.014592095388390776,0.015672928929731076,0.0207713038537681,0.021811250311032298,0.02151947977811147,0.022697928452229208,0.02711216084655262,0.03164959421981602,0.032382396793041786,0.02690829177563811,0.025682691039395706,0.024362237424252874,0.022689166932957996,0.01790685549491586,0.011917947516101767,0.010046740079527982,0.009281442559876507,0.009908125217225264,0.01038318509131732,0.010636944537737216,0.011462377713535718,0.010829660773343857,0.009760580303352548,0.00937116069556342,0.009192230180802822,0.008411897834304185,0.007467854544858724,0.005424986981608043,0.005119537903606508,0.004886055537758937,0.004408158821252118,0.003588300943326518,0.0033212280643425325,0.003077973265440298,0.0028745167038259057,0.002954448098521744,0.005406714311950736,0.007055978675347513,0.00711824778472015,0.007819802038035215,0.008120140489972625,0.008271281790097404,0.008666559979021925,0.007268205007180734,0.00760219245327835,0.007598993599791562,0.008319677258658708,0.010922854556760758,0.014974689104197521,0.02168306718632216,0.02178645338585746,0.021024650167409707,0.022267189593808856,0.022040374522448582,0.02113257521303482,0.020314903486857105,0.014614183865149915,0.015779204728446235,0.016747566606712627,0.015339692652735987,0.01527863561850133,0.015605839616061245,0.014798195708623504,0.017392521445138247,0.020805912414014867,0.025520484991270787,0.02724376893251929,0.029082255803919235,0.030290540649408774,0.030720852337409038,0.03587294323716349,0.03630685054632892,0.0324641544053166,0.032473936160510565,0.03391787460429473,0.0355353951517761,0.0356789691907846,0.02840078208875329,0.02398320270707924,0.02231115992763962,0.022314768029799235,0.01823880193763542,0.01402798861276964,0.014692243767341294,0.01385707469397415,0.014368069264405337,0.01749753685276176,0.016304441842815397,0.0176841365190849,0.017732811978613046,0.015319546226162108,0.015758075541023552,0.014841275957534955,0.011987584380795887,0.01204416906267014,0.01137983142895414,0.011644787511176685,0.011330422440297678,0.011207638641991044,0.011530289818783079,0.010324270283445541,0.010256969416072622,0.010047257565840077,0.010193356427729502,0.011264773223145215,0.011206280683680342,0.010729499214341612,0.011112356890335249,0.011158888511092835,0.011434625553622717,0.01076865634689386,0.009181198753769229,0.008625003794471283,0.007601247779018252,0.007691225719910161,0.007267190964160111,0.00677406694584349,0.006295085270509799,0.00648885388803198,0.006341553843454647,0.006994973554800302,0.006555140594476268,0.006737889740608107,0.006107175007474156,0.007453631478592477],\"yaxis\":\"y\"},{\"hovertemplate\":\"Symbol=BB<br>Day=%{x}<br>Fraction of mentions (7 day rolling average)=%{y}<extra></extra>\",\"legendgroup\":\"BB\",\"line\":{\"color\":\"#FFA15A\",\"dash\":\"solid\"},\"mode\":\"lines\",\"name\":\"BB\",\"showlegend\":true,\"type\":\"scattergl\",\"x\":[\"2021-07-26T00:00:00+00:00\",\"2021-07-25T00:00:00+00:00\",\"2021-07-24T00:00:00+00:00\",\"2021-07-23T00:00:00+00:00\",\"2021-07-22T00:00:00+00:00\",\"2021-07-21T00:00:00+00:00\",\"2021-07-20T00:00:00+00:00\",\"2021-07-19T00:00:00+00:00\",\"2021-07-18T00:00:00+00:00\",\"2021-07-17T00:00:00+00:00\",\"2021-07-16T00:00:00+00:00\",\"2021-07-15T00:00:00+00:00\",\"2021-07-14T00:00:00+00:00\",\"2021-07-13T00:00:00+00:00\",\"2021-07-12T00:00:00+00:00\",\"2021-07-11T00:00:00+00:00\",\"2021-07-10T00:00:00+00:00\",\"2021-07-09T00:00:00+00:00\",\"2021-07-08T00:00:00+00:00\",\"2021-07-07T00:00:00+00:00\",\"2021-07-06T00:00:00+00:00\",\"2021-07-05T00:00:00+00:00\",\"2021-07-04T00:00:00+00:00\",\"2021-07-03T00:00:00+00:00\",\"2021-07-02T00:00:00+00:00\",\"2021-07-01T00:00:00+00:00\",\"2021-06-30T00:00:00+00:00\",\"2021-06-29T00:00:00+00:00\",\"2021-06-28T00:00:00+00:00\",\"2021-06-27T00:00:00+00:00\",\"2021-06-26T00:00:00+00:00\",\"2021-06-25T00:00:00+00:00\",\"2021-06-24T00:00:00+00:00\",\"2021-06-23T00:00:00+00:00\",\"2021-06-22T00:00:00+00:00\",\"2021-06-21T00:00:00+00:00\",\"2021-06-20T00:00:00+00:00\",\"2021-06-19T00:00:00+00:00\",\"2021-06-18T00:00:00+00:00\",\"2021-06-17T00:00:00+00:00\",\"2021-06-16T00:00:00+00:00\",\"2021-06-15T00:00:00+00:00\",\"2021-06-14T00:00:00+00:00\",\"2021-06-13T00:00:00+00:00\",\"2021-06-12T00:00:00+00:00\",\"2021-06-11T00:00:00+00:00\",\"2021-06-10T00:00:00+00:00\",\"2021-06-09T00:00:00+00:00\",\"2021-06-08T00:00:00+00:00\",\"2021-06-07T00:00:00+00:00\",\"2021-06-06T00:00:00+00:00\",\"2021-06-05T00:00:00+00:00\",\"2021-06-04T00:00:00+00:00\",\"2021-06-03T00:00:00+00:00\",\"2021-06-02T00:00:00+00:00\",\"2021-06-01T00:00:00+00:00\",\"2021-05-31T00:00:00+00:00\",\"2021-05-30T00:00:00+00:00\",\"2021-05-29T00:00:00+00:00\",\"2021-05-28T00:00:00+00:00\",\"2021-05-27T00:00:00+00:00\",\"2021-05-26T00:00:00+00:00\",\"2021-05-25T00:00:00+00:00\",\"2021-05-24T00:00:00+00:00\",\"2021-05-23T00:00:00+00:00\",\"2021-05-22T00:00:00+00:00\",\"2021-05-21T00:00:00+00:00\",\"2021-05-20T00:00:00+00:00\",\"2021-05-19T00:00:00+00:00\",\"2021-05-18T00:00:00+00:00\",\"2021-05-17T00:00:00+00:00\",\"2021-05-16T00:00:00+00:00\",\"2021-05-15T00:00:00+00:00\",\"2021-05-14T00:00:00+00:00\",\"2021-05-13T00:00:00+00:00\",\"2021-05-12T00:00:00+00:00\",\"2021-05-11T00:00:00+00:00\",\"2021-05-10T00:00:00+00:00\",\"2021-05-09T00:00:00+00:00\",\"2021-05-08T00:00:00+00:00\",\"2021-05-07T00:00:00+00:00\",\"2021-05-06T00:00:00+00:00\",\"2021-05-05T00:00:00+00:00\",\"2021-05-04T00:00:00+00:00\",\"2021-05-03T00:00:00+00:00\",\"2021-05-02T00:00:00+00:00\",\"2021-05-01T00:00:00+00:00\",\"2021-04-30T00:00:00+00:00\",\"2021-04-29T00:00:00+00:00\",\"2021-04-28T00:00:00+00:00\",\"2021-04-27T00:00:00+00:00\",\"2021-04-26T00:00:00+00:00\",\"2021-04-25T00:00:00+00:00\",\"2021-04-24T00:00:00+00:00\",\"2021-04-23T00:00:00+00:00\",\"2021-04-22T00:00:00+00:00\",\"2021-04-21T00:00:00+00:00\",\"2021-04-20T00:00:00+00:00\",\"2021-04-19T00:00:00+00:00\",\"2021-04-18T00:00:00+00:00\",\"2021-04-17T00:00:00+00:00\",\"2021-04-16T00:00:00+00:00\",\"2021-04-15T00:00:00+00:00\",\"2021-04-14T00:00:00+00:00\",\"2021-04-13T00:00:00+00:00\",\"2021-04-12T00:00:00+00:00\",\"2021-04-11T00:00:00+00:00\",\"2021-04-10T00:00:00+00:00\",\"2021-04-09T00:00:00+00:00\",\"2021-04-08T00:00:00+00:00\",\"2021-04-07T00:00:00+00:00\",\"2021-04-06T00:00:00+00:00\",\"2021-04-05T00:00:00+00:00\",\"2021-04-04T00:00:00+00:00\",\"2021-04-03T00:00:00+00:00\",\"2021-04-02T00:00:00+00:00\",\"2021-04-01T00:00:00+00:00\",\"2021-03-31T00:00:00+00:00\",\"2021-03-30T00:00:00+00:00\",\"2021-03-29T00:00:00+00:00\",\"2021-03-26T00:00:00+00:00\",\"2021-03-25T00:00:00+00:00\",\"2021-03-24T00:00:00+00:00\",\"2021-03-23T00:00:00+00:00\",\"2021-03-22T00:00:00+00:00\",\"2021-03-21T00:00:00+00:00\",\"2021-03-20T00:00:00+00:00\",\"2021-03-19T00:00:00+00:00\",\"2021-03-18T00:00:00+00:00\",\"2021-03-17T00:00:00+00:00\",\"2021-03-16T00:00:00+00:00\",\"2021-03-15T00:00:00+00:00\",\"2021-03-14T00:00:00+00:00\",\"2021-03-13T00:00:00+00:00\",\"2021-03-12T00:00:00+00:00\",\"2021-03-11T00:00:00+00:00\",\"2021-03-10T00:00:00+00:00\",\"2021-03-09T00:00:00+00:00\"],\"xaxis\":\"x\",\"y\":[0.016672759335343335,0.016894152378730983,0.019257785650533824,0.02138118439047392,0.023746928437718407,0.02535090362703804,0.025552314390814908,0.024030353001394538,0.024580423735450836,0.02305098516586091,0.02114937033830584,0.020117589109165994,0.019748168650526084,0.019461667209337015,0.019219538358285115,0.02060480916219623,0.02258002979143917,0.02669205835112958,0.027084618097549105,0.028276992676776184,0.02820531744174581,0.02990218148432288,0.03284063203903935,0.033931326432780025,0.0353652653730553,0.04076275159506796,0.04369155721099694,0.04657403361656808,0.0516065135802769,0.054277648567031565,0.05716512784045894,0.06020802484667097,0.06317854171492356,0.0690718855308796,0.0708332895397136,0.06678243247320205,0.06434711269991908,0.06407820207469579,0.06401017234429947,0.06524262062145157,0.06453876560454727,0.06785065473772948,0.07749424109031368,0.10181768981265622,0.12519885694113736,0.147794325398356,0.17940171040529032,0.21563341966234775,0.2441037506890822,0.2628007893541068,0.2554677011062993,0.2418244565462341,0.22248077521107984,0.19579586544821634,0.1580882416822257,0.12610116600152896,0.0930738654278688,0.06900873944517728,0.052487915908619995,0.04053499064721285,0.024002944703926228,0.014370054016861407,0.00811589061447655,0.008188727933601236,0.008374363960039892,0.00911186728567129,0.009411276398812243,0.010809503038013698,0.01163124974381651,0.011698096508499732,0.010742347849380074,0.010622052761953065,0.01044379532937864,0.01024341151577419,0.009697494542423588,0.00893219914140891,0.008495430246088167,0.008524575838029963,0.00858742510100161,0.008496818556618163,0.008378115673235051,0.007636444809194775,0.00794475928051897,0.008190424829922837,0.00893551442095982,0.009766126324199976,0.010811595605231246,0.010584730109022247,0.011127820197945722,0.01183363750429213,0.014005215368972415,0.015466883951761662,0.015972548204973357,0.017231140724591098,0.018805609892067237,0.018620667418945032,0.018413704017409833,0.016243635973570585,0.014720435616561148,0.014356207231267144,0.012694505763914527,0.01086172581635379,0.011878607895137684,0.013473224056352916,0.016623519762932103,0.017390504965633158,0.01812686494673253,0.019575583993847602,0.0211019337375987,0.02162078302530464,0.02124858458361445,0.02358477009393614,0.027311342342592852,0.027584523808087142,0.025578974455684793,0.02449906735712063,0.02264803017085547,0.020836566347876395,0.015465756748608698,0.010331297272212584,0.008778740194320785,0.008578431885481403,0.008231165873807084,0.008321512289419833,0.009283329695741438,0.010740188604766015,0.011654768772030057,0.013983184109836639,0.01785269213781142,0.018011525048487825,0.018976855730575514,0.019221758135206404,0.0190592838059386,0.020117498005971395,0.0188681698668213,0.013783852289193542,0.016399546623731595,0.0171606864274571],\"yaxis\":\"y\"},{\"hovertemplate\":\"Symbol=CLOV<br>Day=%{x}<br>Fraction of mentions (7 day rolling average)=%{y}<extra></extra>\",\"legendgroup\":\"CLOV\",\"line\":{\"color\":\"#19d3f3\",\"dash\":\"solid\"},\"mode\":\"lines\",\"name\":\"CLOV\",\"showlegend\":true,\"type\":\"scattergl\",\"x\":[\"2021-07-26T00:00:00+00:00\",\"2021-07-25T00:00:00+00:00\",\"2021-07-24T00:00:00+00:00\",\"2021-07-23T00:00:00+00:00\",\"2021-07-22T00:00:00+00:00\",\"2021-07-21T00:00:00+00:00\",\"2021-07-20T00:00:00+00:00\",\"2021-07-19T00:00:00+00:00\",\"2021-07-18T00:00:00+00:00\",\"2021-07-17T00:00:00+00:00\",\"2021-07-16T00:00:00+00:00\",\"2021-07-15T00:00:00+00:00\",\"2021-07-14T00:00:00+00:00\",\"2021-07-13T00:00:00+00:00\",\"2021-07-12T00:00:00+00:00\",\"2021-07-11T00:00:00+00:00\",\"2021-07-10T00:00:00+00:00\",\"2021-07-09T00:00:00+00:00\",\"2021-07-08T00:00:00+00:00\",\"2021-07-07T00:00:00+00:00\",\"2021-07-06T00:00:00+00:00\",\"2021-07-05T00:00:00+00:00\",\"2021-07-04T00:00:00+00:00\",\"2021-07-03T00:00:00+00:00\",\"2021-07-02T00:00:00+00:00\",\"2021-07-01T00:00:00+00:00\",\"2021-06-30T00:00:00+00:00\",\"2021-06-29T00:00:00+00:00\",\"2021-06-28T00:00:00+00:00\",\"2021-06-27T00:00:00+00:00\",\"2021-06-26T00:00:00+00:00\",\"2021-06-25T00:00:00+00:00\",\"2021-06-24T00:00:00+00:00\",\"2021-06-23T00:00:00+00:00\",\"2021-06-22T00:00:00+00:00\",\"2021-06-21T00:00:00+00:00\",\"2021-06-20T00:00:00+00:00\",\"2021-06-19T00:00:00+00:00\",\"2021-06-18T00:00:00+00:00\",\"2021-06-17T00:00:00+00:00\",\"2021-06-16T00:00:00+00:00\",\"2021-06-15T00:00:00+00:00\",\"2021-06-14T00:00:00+00:00\",\"2021-06-13T00:00:00+00:00\",\"2021-06-12T00:00:00+00:00\",\"2021-06-11T00:00:00+00:00\",\"2021-06-10T00:00:00+00:00\",\"2021-06-09T00:00:00+00:00\",\"2021-06-08T00:00:00+00:00\",\"2021-06-07T00:00:00+00:00\",\"2021-06-06T00:00:00+00:00\",\"2021-06-05T00:00:00+00:00\",\"2021-06-04T00:00:00+00:00\",\"2021-06-03T00:00:00+00:00\",\"2021-06-02T00:00:00+00:00\",\"2021-06-01T00:00:00+00:00\",\"2021-05-31T00:00:00+00:00\",\"2021-05-30T00:00:00+00:00\",\"2021-05-29T00:00:00+00:00\",\"2021-05-28T00:00:00+00:00\",\"2021-05-27T00:00:00+00:00\",\"2021-05-26T00:00:00+00:00\",\"2021-05-25T00:00:00+00:00\",\"2021-05-24T00:00:00+00:00\",\"2021-05-23T00:00:00+00:00\",\"2021-05-22T00:00:00+00:00\",\"2021-05-21T00:00:00+00:00\",\"2021-05-20T00:00:00+00:00\",\"2021-05-19T00:00:00+00:00\",\"2021-05-18T00:00:00+00:00\",\"2021-05-17T00:00:00+00:00\",\"2021-05-16T00:00:00+00:00\",\"2021-05-15T00:00:00+00:00\",\"2021-05-14T00:00:00+00:00\",\"2021-05-13T00:00:00+00:00\",\"2021-05-12T00:00:00+00:00\",\"2021-05-11T00:00:00+00:00\",\"2021-05-10T00:00:00+00:00\",\"2021-05-09T00:00:00+00:00\",\"2021-05-08T00:00:00+00:00\",\"2021-05-07T00:00:00+00:00\",\"2021-05-06T00:00:00+00:00\",\"2021-05-05T00:00:00+00:00\",\"2021-05-04T00:00:00+00:00\",\"2021-05-03T00:00:00+00:00\",\"2021-05-02T00:00:00+00:00\",\"2021-05-01T00:00:00+00:00\",\"2021-04-30T00:00:00+00:00\",\"2021-04-29T00:00:00+00:00\",\"2021-04-28T00:00:00+00:00\",\"2021-04-27T00:00:00+00:00\",\"2021-04-26T00:00:00+00:00\",\"2021-04-25T00:00:00+00:00\",\"2021-04-24T00:00:00+00:00\",\"2021-04-23T00:00:00+00:00\",\"2021-04-22T00:00:00+00:00\",\"2021-04-21T00:00:00+00:00\",\"2021-04-20T00:00:00+00:00\",\"2021-04-19T00:00:00+00:00\",\"2021-04-18T00:00:00+00:00\",\"2021-04-17T00:00:00+00:00\",\"2021-04-16T00:00:00+00:00\",\"2021-04-15T00:00:00+00:00\",\"2021-04-14T00:00:00+00:00\",\"2021-04-13T00:00:00+00:00\",\"2021-04-12T00:00:00+00:00\",\"2021-04-11T00:00:00+00:00\",\"2021-04-10T00:00:00+00:00\",\"2021-04-09T00:00:00+00:00\",\"2021-04-08T00:00:00+00:00\",\"2021-04-07T00:00:00+00:00\",\"2021-04-06T00:00:00+00:00\",\"2021-04-02T00:00:00+00:00\",\"2021-04-01T00:00:00+00:00\",\"2021-03-31T00:00:00+00:00\",\"2021-03-30T00:00:00+00:00\",\"2021-03-29T00:00:00+00:00\",\"2021-03-26T00:00:00+00:00\",\"2021-03-25T00:00:00+00:00\",\"2021-03-24T00:00:00+00:00\",\"2021-03-23T00:00:00+00:00\",\"2021-03-22T00:00:00+00:00\",\"2021-03-21T00:00:00+00:00\",\"2021-03-19T00:00:00+00:00\",\"2021-03-18T00:00:00+00:00\",\"2021-03-17T00:00:00+00:00\",\"2021-03-16T00:00:00+00:00\",\"2021-03-15T00:00:00+00:00\",\"2021-03-14T00:00:00+00:00\",\"2021-03-13T00:00:00+00:00\",\"2021-03-12T00:00:00+00:00\",\"2021-03-11T00:00:00+00:00\",\"2021-03-10T00:00:00+00:00\",\"2021-03-09T00:00:00+00:00\"],\"xaxis\":\"x\",\"y\":[0.06279486227410715,0.0633106152543502,0.06407037157259296,0.06444642270052378,0.06164060243342865,0.0499292180417873,0.04054464945113927,0.0448771884190892,0.05217063670180455,0.05212845650406412,0.054081061579770766,0.054967462387126305,0.05627890322186164,0.05985591696193616,0.06330286762133339,0.05911044048736556,0.05951715580328933,0.06057029974364847,0.06277580585106726,0.06532366395049456,0.0645286341839861,0.06371377330465532,0.06275553561544771,0.06630479332260576,0.06813032939639833,0.06796006660285357,0.07305830020174094,0.07879675526911314,0.08023327135851696,0.07851732991695921,0.07741400118034293,0.07268609114537439,0.06888077515083758,0.05906758105955561,0.05091474718151203,0.043770293880283084,0.04633964377810932,0.04715712559545298,0.051880216306372816,0.060889086982852045,0.06846843682698278,0.07840419258564468,0.09478181443421085,0.10067891445509966,0.09730461823564886,0.08993851248621365,0.07872220738397719,0.07005920342678913,0.055866084787198116,0.0324739642726346,0.019133925426406156,0.01425801064183539,0.013042963550706235,0.011734025330565306,0.009947320941408957,0.007904401983649409,0.007972327641232523,0.008166545264382036,0.007925969421117032,0.007271789052080561,0.007978840646309654,0.00892686452722408,0.00879092784111354,0.010345895241392887,0.01639699934995864,0.01998136128396107,0.02280658038798095,0.02344351101401779,0.022127558132629316,0.023590796068044213,0.022630499738622942,0.01686822743235229,0.015666936583195994,0.015000814620891237,0.014671609428191337,0.01551451062745041,0.016097982565616724,0.01835887006769945,0.023519751930028077,0.030059540022920467,0.03126044321974442,0.03613834073493577,0.04672236074817295,0.05237570273329064,0.05012314798053046,0.04512838351056644,0.036761948118573355,0.035143502891864804,0.03086154817550447,0.020216902977049207,0.017018263872731493,0.025253220778670645,0.03844030475184618,0.04686452059300385,0.052667844968849846,0.05998301625846997,0.05822513048833141,0.05293427822178426,0.043474014392468056,0.028614399988326444,0.018428840277336992,0.010481338710297989,0.0007486299562982193,0.0017725729121902875,0.0017468679279687225,0.0017686120172331064,0.0017718385479433948,0.0017523708423314293,0.0016634424018912547,0.0013808610773424837,0.0002722169074728042,0.00026857035431540746,0.00023284160142713952,0.0002101403232038204,0.00020219063428446874,0.0001697547056488139,0.0002263344339107977,0.00024839939478467685,0.00026088718057839746,0.00027449924846431796,0.0002822715562623949,0.00031139422345067896,0.0004350072470186201,0.0003990129186521603,0.00036110102941459404,0.0003931917132142549,0.00036992631919069695,0.00033662015584043955,0.0003405936372800362,0.00022157160815269896,0.00020520790858352583,0.00024078599201256585,0.00016970592189681665,0.0001733402669440111],\"yaxis\":\"y\"},{\"hovertemplate\":\"Symbol=AAPL<br>Day=%{x}<br>Fraction of mentions (7 day rolling average)=%{y}<extra></extra>\",\"legendgroup\":\"AAPL\",\"line\":{\"color\":\"#FF6692\",\"dash\":\"solid\"},\"mode\":\"lines\",\"name\":\"AAPL\",\"showlegend\":true,\"type\":\"scattergl\",\"x\":[\"2021-07-26T00:00:00+00:00\",\"2021-07-25T00:00:00+00:00\",\"2021-07-24T00:00:00+00:00\",\"2021-07-23T00:00:00+00:00\",\"2021-07-22T00:00:00+00:00\",\"2021-07-21T00:00:00+00:00\",\"2021-07-20T00:00:00+00:00\",\"2021-07-19T00:00:00+00:00\",\"2021-07-18T00:00:00+00:00\",\"2021-07-17T00:00:00+00:00\",\"2021-07-16T00:00:00+00:00\",\"2021-07-15T00:00:00+00:00\",\"2021-07-14T00:00:00+00:00\",\"2021-07-13T00:00:00+00:00\",\"2021-07-12T00:00:00+00:00\",\"2021-07-11T00:00:00+00:00\",\"2021-07-10T00:00:00+00:00\",\"2021-07-09T00:00:00+00:00\",\"2021-07-08T00:00:00+00:00\",\"2021-07-07T00:00:00+00:00\",\"2021-07-06T00:00:00+00:00\",\"2021-07-05T00:00:00+00:00\",\"2021-07-04T00:00:00+00:00\",\"2021-07-03T00:00:00+00:00\",\"2021-07-02T00:00:00+00:00\",\"2021-07-01T00:00:00+00:00\",\"2021-06-30T00:00:00+00:00\",\"2021-06-29T00:00:00+00:00\",\"2021-06-28T00:00:00+00:00\",\"2021-06-27T00:00:00+00:00\",\"2021-06-26T00:00:00+00:00\",\"2021-06-25T00:00:00+00:00\",\"2021-06-24T00:00:00+00:00\",\"2021-06-23T00:00:00+00:00\",\"2021-06-22T00:00:00+00:00\",\"2021-06-21T00:00:00+00:00\",\"2021-06-20T00:00:00+00:00\",\"2021-06-19T00:00:00+00:00\",\"2021-06-18T00:00:00+00:00\",\"2021-06-17T00:00:00+00:00\",\"2021-06-16T00:00:00+00:00\",\"2021-06-15T00:00:00+00:00\",\"2021-06-14T00:00:00+00:00\",\"2021-06-13T00:00:00+00:00\",\"2021-06-12T00:00:00+00:00\",\"2021-06-11T00:00:00+00:00\",\"2021-06-10T00:00:00+00:00\",\"2021-06-09T00:00:00+00:00\",\"2021-06-08T00:00:00+00:00\",\"2021-06-07T00:00:00+00:00\",\"2021-06-06T00:00:00+00:00\",\"2021-06-05T00:00:00+00:00\",\"2021-06-04T00:00:00+00:00\",\"2021-06-03T00:00:00+00:00\",\"2021-06-02T00:00:00+00:00\",\"2021-06-01T00:00:00+00:00\",\"2021-05-31T00:00:00+00:00\",\"2021-05-30T00:00:00+00:00\",\"2021-05-29T00:00:00+00:00\",\"2021-05-28T00:00:00+00:00\",\"2021-05-27T00:00:00+00:00\",\"2021-05-26T00:00:00+00:00\",\"2021-05-25T00:00:00+00:00\",\"2021-05-24T00:00:00+00:00\",\"2021-05-23T00:00:00+00:00\",\"2021-05-22T00:00:00+00:00\",\"2021-05-21T00:00:00+00:00\",\"2021-05-20T00:00:00+00:00\",\"2021-05-19T00:00:00+00:00\",\"2021-05-18T00:00:00+00:00\",\"2021-05-17T00:00:00+00:00\",\"2021-05-16T00:00:00+00:00\",\"2021-05-15T00:00:00+00:00\",\"2021-05-14T00:00:00+00:00\",\"2021-05-13T00:00:00+00:00\",\"2021-05-12T00:00:00+00:00\",\"2021-05-11T00:00:00+00:00\",\"2021-05-10T00:00:00+00:00\",\"2021-05-09T00:00:00+00:00\",\"2021-05-08T00:00:00+00:00\",\"2021-05-07T00:00:00+00:00\",\"2021-05-06T00:00:00+00:00\",\"2021-05-05T00:00:00+00:00\",\"2021-05-04T00:00:00+00:00\",\"2021-05-03T00:00:00+00:00\",\"2021-05-02T00:00:00+00:00\",\"2021-05-01T00:00:00+00:00\",\"2021-04-30T00:00:00+00:00\",\"2021-04-29T00:00:00+00:00\",\"2021-04-28T00:00:00+00:00\",\"2021-04-27T00:00:00+00:00\",\"2021-04-26T00:00:00+00:00\",\"2021-04-25T00:00:00+00:00\",\"2021-04-24T00:00:00+00:00\",\"2021-04-23T00:00:00+00:00\",\"2021-04-22T00:00:00+00:00\",\"2021-04-21T00:00:00+00:00\",\"2021-04-20T00:00:00+00:00\",\"2021-04-19T00:00:00+00:00\",\"2021-04-18T00:00:00+00:00\",\"2021-04-17T00:00:00+00:00\",\"2021-04-16T00:00:00+00:00\",\"2021-04-15T00:00:00+00:00\",\"2021-04-14T00:00:00+00:00\",\"2021-04-13T00:00:00+00:00\",\"2021-04-12T00:00:00+00:00\",\"2021-04-11T00:00:00+00:00\",\"2021-04-10T00:00:00+00:00\",\"2021-04-09T00:00:00+00:00\",\"2021-04-08T00:00:00+00:00\",\"2021-04-07T00:00:00+00:00\",\"2021-04-06T00:00:00+00:00\",\"2021-04-05T00:00:00+00:00\",\"2021-04-04T00:00:00+00:00\",\"2021-04-03T00:00:00+00:00\",\"2021-04-02T00:00:00+00:00\",\"2021-04-01T00:00:00+00:00\",\"2021-03-31T00:00:00+00:00\",\"2021-03-30T00:00:00+00:00\",\"2021-03-29T00:00:00+00:00\",\"2021-03-26T00:00:00+00:00\",\"2021-03-25T00:00:00+00:00\",\"2021-03-24T00:00:00+00:00\",\"2021-03-23T00:00:00+00:00\",\"2021-03-22T00:00:00+00:00\",\"2021-03-21T00:00:00+00:00\",\"2021-03-20T00:00:00+00:00\",\"2021-03-19T00:00:00+00:00\",\"2021-03-18T00:00:00+00:00\",\"2021-03-17T00:00:00+00:00\",\"2021-03-16T00:00:00+00:00\",\"2021-03-15T00:00:00+00:00\",\"2021-03-14T00:00:00+00:00\",\"2021-03-13T00:00:00+00:00\",\"2021-03-12T00:00:00+00:00\",\"2021-03-11T00:00:00+00:00\",\"2021-03-10T00:00:00+00:00\",\"2021-03-09T00:00:00+00:00\"],\"xaxis\":\"x\",\"y\":[0.022704056482345754,0.022805863576061815,0.02139675543984881,0.020274235520336407,0.021791531559435556,0.02472252287085567,0.02905857843622007,0.030010402802219418,0.02896135420293453,0.027739754074460322,0.029623617282673226,0.029098332787399622,0.026509511639063173,0.02246876299097656,0.021724567977767704,0.020797425970935056,0.020803281303047195,0.01843518044609273,0.01693125096199604,0.014444107057841734,0.012094554609800271,0.009691157551344804,0.008886136866158214,0.008416157426953858,0.007445353184196529,0.00559285766821263,0.005599745531670165,0.005857211158469405,0.0061653993510214595,0.006382571464326081,0.006517086155192449,0.006827483292068651,0.007082547736513312,0.007547927234024905,0.007259186407641105,0.007258789570865802,0.007456638995819474,0.007063300775195585,0.006760005800075379,0.006591378192858095,0.005731039067070837,0.004973167898423075,0.004316994677037806,0.003987240000262244,0.004045292839808505,0.0039000088956669724,0.0037942954045282465,0.003598250936563114,0.0037528465585673623,0.0040427110097759665,0.00379270257399091,0.004161995080585045,0.004368797439682817,0.004432432699709365,0.004694362244746118,0.005306554477368175,0.00585768614517062,0.006688160087685002,0.006756769979711977,0.007923795452869633,0.010710149039583446,0.012162382030885252,0.013138410085383665,0.013490629020664838,0.012732610195132199,0.012647259705858307,0.012251462449230106,0.009862271180208411,0.009076698854937207,0.008916882965366992,0.009513849333440223,0.010300808977560761,0.010316140665110805,0.010209448389644816,0.010519136852536904,0.010467831022406381,0.01031714196792308,0.011768650864535045,0.012164596260777902,0.013902122744958622,0.01565974590477408,0.017919273347375225,0.021970857651468428,0.026809010153172334,0.02492524837493174,0.02495815809785473,0.025182652325867857,0.02437610107543626,0.023893702248656386,0.02201107061639294,0.01877046923769137,0.023633446875058615,0.02500965644385385,0.0235732263795899,0.023197534374164535,0.022118005069607122,0.021620872929295494,0.021176258735949933,0.01868043200302741,0.018364567864038537,0.01948847144904531,0.020437735117588136,0.024287954655237063,0.02541923638771193,0.025060263094916452,0.02251143792871238,0.02171852197154259,0.02068258271902036,0.01946939463094274,0.01501364684200113,0.012945944622940032,0.0132094028032816,0.013477395917169687,0.013242814366293933,0.013943617638435712,0.013717428722154259,0.01352925741207447,0.013017084395541603,0.013517969309702579,0.013492681122405663,0.013331449993889504,0.013661602775884346,0.015669900559032328,0.01636385564730129,0.017064280065882172,0.015548005959673409,0.015049297189998348,0.014690122572899868,0.013451336236211664,0.011589750677879027,0.010778599186246723,0.00955651677290792,0.009198122711079495,0.009112870899866708,0.008951364170183556,0.008619872397599083,0.00733454010861035,0.006586930143872421],\"yaxis\":\"y\"},{\"hovertemplate\":\"Symbol=SOFI<br>Day=%{x}<br>Fraction of mentions (7 day rolling average)=%{y}<extra></extra>\",\"legendgroup\":\"SOFI\",\"line\":{\"color\":\"#B6E880\",\"dash\":\"solid\"},\"mode\":\"lines\",\"name\":\"SOFI\",\"showlegend\":true,\"type\":\"scattergl\",\"x\":[\"2021-07-26T00:00:00+00:00\",\"2021-07-25T00:00:00+00:00\",\"2021-07-24T00:00:00+00:00\",\"2021-07-23T00:00:00+00:00\",\"2021-07-22T00:00:00+00:00\",\"2021-07-21T00:00:00+00:00\",\"2021-07-20T00:00:00+00:00\",\"2021-07-19T00:00:00+00:00\",\"2021-07-18T00:00:00+00:00\",\"2021-07-17T00:00:00+00:00\",\"2021-07-16T00:00:00+00:00\",\"2021-07-15T00:00:00+00:00\",\"2021-07-14T00:00:00+00:00\",\"2021-07-13T00:00:00+00:00\",\"2021-07-12T00:00:00+00:00\",\"2021-07-11T00:00:00+00:00\",\"2021-07-10T00:00:00+00:00\",\"2021-07-09T00:00:00+00:00\",\"2021-07-08T00:00:00+00:00\",\"2021-07-07T00:00:00+00:00\",\"2021-07-06T00:00:00+00:00\",\"2021-07-05T00:00:00+00:00\",\"2021-07-04T00:00:00+00:00\",\"2021-07-03T00:00:00+00:00\",\"2021-07-02T00:00:00+00:00\",\"2021-07-01T00:00:00+00:00\",\"2021-06-30T00:00:00+00:00\",\"2021-06-29T00:00:00+00:00\",\"2021-06-28T00:00:00+00:00\",\"2021-06-27T00:00:00+00:00\",\"2021-06-26T00:00:00+00:00\",\"2021-06-25T00:00:00+00:00\",\"2021-06-24T00:00:00+00:00\",\"2021-06-23T00:00:00+00:00\",\"2021-06-22T00:00:00+00:00\",\"2021-06-21T00:00:00+00:00\",\"2021-06-20T00:00:00+00:00\",\"2021-06-19T00:00:00+00:00\",\"2021-06-18T00:00:00+00:00\",\"2021-06-17T00:00:00+00:00\",\"2021-06-16T00:00:00+00:00\",\"2021-06-15T00:00:00+00:00\",\"2021-06-14T00:00:00+00:00\",\"2021-06-13T00:00:00+00:00\",\"2021-06-12T00:00:00+00:00\",\"2021-06-11T00:00:00+00:00\",\"2021-06-10T00:00:00+00:00\",\"2021-06-09T00:00:00+00:00\",\"2021-06-08T00:00:00+00:00\",\"2021-06-07T00:00:00+00:00\",\"2021-06-06T00:00:00+00:00\",\"2021-06-05T00:00:00+00:00\",\"2021-06-04T00:00:00+00:00\",\"2021-06-03T00:00:00+00:00\",\"2021-06-02T00:00:00+00:00\",\"2021-06-01T00:00:00+00:00\",\"2021-05-31T00:00:00+00:00\",\"2021-05-30T00:00:00+00:00\",\"2021-05-29T00:00:00+00:00\",\"2021-05-28T00:00:00+00:00\",\"2021-05-27T00:00:00+00:00\",\"2021-05-26T00:00:00+00:00\",\"2021-05-25T00:00:00+00:00\",\"2021-05-24T00:00:00+00:00\",\"2021-05-23T00:00:00+00:00\",\"2021-05-22T00:00:00+00:00\",\"2021-05-21T00:00:00+00:00\",\"2021-05-20T00:00:00+00:00\",\"2021-05-19T00:00:00+00:00\",\"2021-05-18T00:00:00+00:00\",\"2021-05-16T00:00:00+00:00\",\"2021-05-14T00:00:00+00:00\",\"2021-05-13T00:00:00+00:00\",\"2021-05-12T00:00:00+00:00\",\"2021-05-11T00:00:00+00:00\",\"2021-05-10T00:00:00+00:00\",\"2021-05-09T00:00:00+00:00\",\"2021-05-08T00:00:00+00:00\",\"2021-05-07T00:00:00+00:00\",\"2021-05-06T00:00:00+00:00\",\"2021-05-05T00:00:00+00:00\",\"2021-05-03T00:00:00+00:00\",\"2021-05-02T00:00:00+00:00\",\"2021-05-01T00:00:00+00:00\",\"2021-04-30T00:00:00+00:00\",\"2021-04-29T00:00:00+00:00\",\"2021-04-27T00:00:00+00:00\",\"2021-04-20T00:00:00+00:00\",\"2021-04-19T00:00:00+00:00\",\"2021-04-18T00:00:00+00:00\",\"2021-04-17T00:00:00+00:00\",\"2021-04-16T00:00:00+00:00\",\"2021-04-15T00:00:00+00:00\",\"2021-04-14T00:00:00+00:00\",\"2021-04-13T00:00:00+00:00\",\"2021-04-12T00:00:00+00:00\",\"2021-04-10T00:00:00+00:00\",\"2021-04-09T00:00:00+00:00\",\"2021-04-08T00:00:00+00:00\",\"2021-04-07T00:00:00+00:00\",\"2021-04-02T00:00:00+00:00\",\"2021-04-01T00:00:00+00:00\",\"2021-03-31T00:00:00+00:00\",\"2021-03-30T00:00:00+00:00\",\"2021-03-29T00:00:00+00:00\",\"2021-03-26T00:00:00+00:00\",\"2021-03-25T00:00:00+00:00\",\"2021-03-23T00:00:00+00:00\",\"2021-03-22T00:00:00+00:00\",\"2021-03-21T00:00:00+00:00\",\"2021-03-20T00:00:00+00:00\",\"2021-03-19T00:00:00+00:00\",\"2021-03-18T00:00:00+00:00\",\"2021-03-17T00:00:00+00:00\",\"2021-03-15T00:00:00+00:00\",\"2021-03-13T00:00:00+00:00\",\"2021-03-10T00:00:00+00:00\"],\"xaxis\":\"x\",\"y\":[0.019569540586695463,0.019976626540817704,0.019922195579605496,0.020656701953209615,0.0218858370131964,0.022024599841369816,0.016385035850013985,0.01803914879151772,0.01922493021005039,0.019354807573478315,0.01950945851235635,0.021047138553533715,0.019655343330712227,0.020786924459116833,0.02052243929440569,0.020146623177551958,0.021832695664852964,0.02250312512307112,0.021550850839351845,0.023083471942651368,0.026626977505772708,0.03993483451541504,0.04536600952078283,0.04283311105115042,0.04084886183488173,0.03823919223425758,0.03453745383477054,0.027588956001373063,0.01155528977191756,0.0036431240792383626,0.003227432442731967,0.0025491861796555593,0.0019389853235904206,0.0022554936075920196,0.0023869257280141683,0.0022278781189072447,0.0022787519899325924,0.00222767665729698,0.002386482223728429,0.0022507007213585823,0.001957998555884591,0.0020123270361737155,0.002581732152462078,0.0026188040888258414,0.002489273417988512,0.0024241306189263256,0.002388045326605568,0.0023265392861273166,0.0023965357465279944,0.0027332826416369064,0.00289581926452066,0.0027893372142573495,0.002568163561624207,0.0024175720648626263,0.002220268905480775,0.0017428063528833436,0.0007825367949390021,0.0005247796806396621,0.0006508448419745961,0.0007303459284894451,0.0007293808174856011,0.0008606155922674084,0.000892030158228422,0.0008022055345089388,0.0007407166803420571,0.0004847708484565081,0.00037632215663349264,0.0004149791572789343,0.0002984460221497163,0.00029261720991535713,0.00029046297607217004,0.00031531207794748646,0.0004600480087274433,0.0004534841727860196,0.00040437161040048384,0.00038133502275558096,0.00037316606021355525,0.0003794029881107707,0.000314782051719055,0.00016695757115167564,0.00015810018548268533,0.00022617852458906178,0.00025795601062890053,0.0002540983899299589,0.0002476597733978322,0.0002668966805889999,0.00027757214471855996,0.0002975404532669905,0.0002284651096855642,0.00019264861042550088,0.000325082469680449,0.000343955712673127,0.00033453301757454255,0.0003391592037812914,0.00038254748925488645,0.0003824617511641861,0.0003920806051349401,0.00023726789159181656,0.00020946825742636102,0.00019401078795795826,0.00019149481802588285,0.00013405687424193456,0.00013236093256778725,0.00018811159625339448,0.00024177644395249846,0.00022052510923597647,0.00021793562401575066,0.00022422884951335138,0.00024058501599947798,0.0002715298429263718,0.00022616442351754598,0.00017742807059472842,0.00020078512194836182,0.0002377887902982491,0.00024395631261665935,0.00025422758778111056,0.00022142876913282958],\"yaxis\":\"y\"},{\"hovertemplate\":\"Symbol=SPCE<br>Day=%{x}<br>Fraction of mentions (7 day rolling average)=%{y}<extra></extra>\",\"legendgroup\":\"SPCE\",\"line\":{\"color\":\"#FF97FF\",\"dash\":\"solid\"},\"mode\":\"lines\",\"name\":\"SPCE\",\"showlegend\":true,\"type\":\"scattergl\",\"x\":[\"2021-07-26T00:00:00+00:00\",\"2021-07-25T00:00:00+00:00\",\"2021-07-24T00:00:00+00:00\",\"2021-07-23T00:00:00+00:00\",\"2021-07-22T00:00:00+00:00\",\"2021-07-21T00:00:00+00:00\",\"2021-07-20T00:00:00+00:00\",\"2021-07-19T00:00:00+00:00\",\"2021-07-18T00:00:00+00:00\",\"2021-07-17T00:00:00+00:00\",\"2021-07-16T00:00:00+00:00\",\"2021-07-15T00:00:00+00:00\",\"2021-07-14T00:00:00+00:00\",\"2021-07-13T00:00:00+00:00\",\"2021-07-12T00:00:00+00:00\",\"2021-07-11T00:00:00+00:00\",\"2021-07-10T00:00:00+00:00\",\"2021-07-09T00:00:00+00:00\",\"2021-07-08T00:00:00+00:00\",\"2021-07-07T00:00:00+00:00\",\"2021-07-06T00:00:00+00:00\",\"2021-07-05T00:00:00+00:00\",\"2021-07-04T00:00:00+00:00\",\"2021-07-03T00:00:00+00:00\",\"2021-07-02T00:00:00+00:00\",\"2021-07-01T00:00:00+00:00\",\"2021-06-30T00:00:00+00:00\",\"2021-06-29T00:00:00+00:00\",\"2021-06-28T00:00:00+00:00\",\"2021-06-27T00:00:00+00:00\",\"2021-06-26T00:00:00+00:00\",\"2021-06-25T00:00:00+00:00\",\"2021-06-24T00:00:00+00:00\",\"2021-06-23T00:00:00+00:00\",\"2021-06-22T00:00:00+00:00\",\"2021-06-21T00:00:00+00:00\",\"2021-06-20T00:00:00+00:00\",\"2021-06-19T00:00:00+00:00\",\"2021-06-18T00:00:00+00:00\",\"2021-06-17T00:00:00+00:00\",\"2021-06-16T00:00:00+00:00\",\"2021-06-15T00:00:00+00:00\",\"2021-06-14T00:00:00+00:00\",\"2021-06-13T00:00:00+00:00\",\"2021-06-12T00:00:00+00:00\",\"2021-06-11T00:00:00+00:00\",\"2021-06-10T00:00:00+00:00\",\"2021-06-09T00:00:00+00:00\",\"2021-06-08T00:00:00+00:00\",\"2021-06-07T00:00:00+00:00\",\"2021-06-06T00:00:00+00:00\",\"2021-06-05T00:00:00+00:00\",\"2021-06-04T00:00:00+00:00\",\"2021-06-03T00:00:00+00:00\",\"2021-06-02T00:00:00+00:00\",\"2021-06-01T00:00:00+00:00\",\"2021-05-31T00:00:00+00:00\",\"2021-05-30T00:00:00+00:00\",\"2021-05-29T00:00:00+00:00\",\"2021-05-28T00:00:00+00:00\",\"2021-05-27T00:00:00+00:00\",\"2021-05-26T00:00:00+00:00\",\"2021-05-25T00:00:00+00:00\",\"2021-05-24T00:00:00+00:00\",\"2021-05-23T00:00:00+00:00\",\"2021-05-22T00:00:00+00:00\",\"2021-05-21T00:00:00+00:00\",\"2021-05-20T00:00:00+00:00\",\"2021-05-19T00:00:00+00:00\",\"2021-05-18T00:00:00+00:00\",\"2021-05-17T00:00:00+00:00\",\"2021-05-16T00:00:00+00:00\",\"2021-05-15T00:00:00+00:00\",\"2021-05-14T00:00:00+00:00\",\"2021-05-13T00:00:00+00:00\",\"2021-05-12T00:00:00+00:00\",\"2021-05-11T00:00:00+00:00\",\"2021-05-10T00:00:00+00:00\",\"2021-05-09T00:00:00+00:00\",\"2021-05-08T00:00:00+00:00\",\"2021-05-07T00:00:00+00:00\",\"2021-05-06T00:00:00+00:00\",\"2021-05-05T00:00:00+00:00\",\"2021-05-04T00:00:00+00:00\",\"2021-05-03T00:00:00+00:00\",\"2021-05-02T00:00:00+00:00\",\"2021-05-01T00:00:00+00:00\",\"2021-04-30T00:00:00+00:00\",\"2021-04-29T00:00:00+00:00\",\"2021-04-28T00:00:00+00:00\",\"2021-04-27T00:00:00+00:00\",\"2021-04-26T00:00:00+00:00\",\"2021-04-25T00:00:00+00:00\",\"2021-04-24T00:00:00+00:00\",\"2021-04-23T00:00:00+00:00\",\"2021-04-22T00:00:00+00:00\",\"2021-04-21T00:00:00+00:00\",\"2021-04-20T00:00:00+00:00\",\"2021-04-19T00:00:00+00:00\",\"2021-04-18T00:00:00+00:00\",\"2021-04-17T00:00:00+00:00\",\"2021-04-16T00:00:00+00:00\",\"2021-04-15T00:00:00+00:00\",\"2021-04-14T00:00:00+00:00\",\"2021-04-13T00:00:00+00:00\",\"2021-04-12T00:00:00+00:00\",\"2021-04-11T00:00:00+00:00\",\"2021-04-10T00:00:00+00:00\",\"2021-04-09T00:00:00+00:00\",\"2021-04-08T00:00:00+00:00\",\"2021-04-07T00:00:00+00:00\",\"2021-04-06T00:00:00+00:00\",\"2021-04-05T00:00:00+00:00\",\"2021-04-03T00:00:00+00:00\",\"2021-04-02T00:00:00+00:00\",\"2021-04-01T00:00:00+00:00\",\"2021-03-31T00:00:00+00:00\",\"2021-03-30T00:00:00+00:00\",\"2021-03-29T00:00:00+00:00\",\"2021-03-26T00:00:00+00:00\",\"2021-03-25T00:00:00+00:00\",\"2021-03-24T00:00:00+00:00\",\"2021-03-23T00:00:00+00:00\",\"2021-03-22T00:00:00+00:00\",\"2021-03-21T00:00:00+00:00\",\"2021-03-20T00:00:00+00:00\",\"2021-03-19T00:00:00+00:00\",\"2021-03-18T00:00:00+00:00\",\"2021-03-17T00:00:00+00:00\",\"2021-03-16T00:00:00+00:00\",\"2021-03-15T00:00:00+00:00\",\"2021-03-14T00:00:00+00:00\",\"2021-03-13T00:00:00+00:00\",\"2021-03-12T00:00:00+00:00\",\"2021-03-11T00:00:00+00:00\",\"2021-03-10T00:00:00+00:00\",\"2021-03-09T00:00:00+00:00\"],\"xaxis\":\"x\",\"y\":[0.007588250770203012,0.011731234548836554,0.013540311084240498,0.017076944320121853,0.020501783015969634,0.02339730456029587,0.027983147946732675,0.03172845089648374,0.05296455108902515,0.09607160092300371,0.10305689966011114,0.11156186991175114,0.12074462481016912,0.11756208786492031,0.11470609854423255,0.09244752434814726,0.05136250104425442,0.04391588651980557,0.044774575822640765,0.03692976821910151,0.03797799896940245,0.03777866116812505,0.03862849842613982,0.039442479927534316,0.043443709625227936,0.042037645863671105,0.037606227247626675,0.03521913277696781,0.03327824717502137,0.029293740685732095,0.024964725500319068,0.017825579852568878,0.005855601224484663,0.0055149565083868314,0.0046160040386917,0.003339896064295504,0.0034139450716198817,0.0031617242671504995,0.0030738686423962243,0.0033221545609812752,0.0034973713922428072,0.0034283115578313877,0.003646460857911476,0.004346147423230533,0.004379722987379828,0.004289540097435376,0.0041110804634584275,0.004165748257040832,0.00459131690968436,0.005185737567542364,0.005684838567834018,0.007050587597052251,0.008556715805844951,0.010815859393056071,0.01436912725763702,0.01719203246871483,0.026046529346331216,0.046783345908314934,0.06249295674641662,0.07714525937550494,0.08072259064889584,0.08163757353765255,0.07825466505101418,0.06836621216774402,0.04618216151024685,0.02882396883786692,0.01251212069711159,0.00647571827763542,0.0017356999351206166,0.0023294170388760186,0.0038076988444074845,0.004997621211299894,0.00522141830986455,0.005325988015970944,0.005399183954369657,0.005618488285122082,0.00519296484162845,0.004216871101170622,0.003476902990313342,0.0037862989654701656,0.004274679090910205,0.004162001374091276,0.0038119947732603654,0.003650940873888709,0.0031937338150444068,0.0027215403105207772,0.0021119336664226626,0.001595024940883164,0.001493516397917031,0.0017447150488593135,0.0022807109393966044,0.0031069008253870856,0.0032848009173594623,0.003750948797494038,0.004080719071972624,0.004587475507120227,0.005650884010418055,0.00512175564782056,0.004315533481442539,0.004405302589572895,0.004020848561159038,0.003613464872042997,0.003159217549316436,0.0018165888654163684,0.0018767885870720267,0.0017032276583491075,0.0015213044454644605,0.001511793703439625,0.0013730616319715776,0.0012795294877258657,0.0011810819513005933,0.0011705400387278686,0.0016202053541594322,0.0016625855703582251,0.001617008823087265,0.0017385853111689029,0.0017612468539339318,0.0018159527955169837,0.0017406715108845526,0.0011715909635912412,0.0009442518122288721,0.0009103543728990357,0.0009402384902990914,0.0010558140852914802,0.0011055182201544851,0.0011418678559901444,0.001334309156095372,0.0015641990380101597,0.0018824557097843787,0.0018684758369518718,0.0020076430316057167,0.00209649506502347,0.002141512564861475,0.0022104727956290824,0.0022087446236157336,0.0019089811171953647,0.0026001040041601664],\"yaxis\":\"y\"},{\"hovertemplate\":\"Symbol=GME<br>Day=%{x}<br>Fraction of mentions (7 day rolling average)=%{y}<extra></extra>\",\"legendgroup\":\"GME\",\"line\":{\"color\":\"#FECB52\",\"dash\":\"solid\"},\"mode\":\"lines\",\"name\":\"GME\",\"showlegend\":true,\"type\":\"scattergl\",\"x\":[\"2021-07-26T00:00:00+00:00\",\"2021-07-25T00:00:00+00:00\",\"2021-07-24T00:00:00+00:00\",\"2021-07-23T00:00:00+00:00\",\"2021-07-22T00:00:00+00:00\",\"2021-07-21T00:00:00+00:00\",\"2021-07-20T00:00:00+00:00\",\"2021-07-19T00:00:00+00:00\",\"2021-07-18T00:00:00+00:00\",\"2021-07-17T00:00:00+00:00\",\"2021-07-16T00:00:00+00:00\",\"2021-07-15T00:00:00+00:00\",\"2021-07-14T00:00:00+00:00\",\"2021-07-13T00:00:00+00:00\",\"2021-07-12T00:00:00+00:00\",\"2021-07-11T00:00:00+00:00\",\"2021-07-10T00:00:00+00:00\",\"2021-07-09T00:00:00+00:00\",\"2021-07-08T00:00:00+00:00\",\"2021-07-07T00:00:00+00:00\",\"2021-07-06T00:00:00+00:00\",\"2021-07-05T00:00:00+00:00\",\"2021-07-04T00:00:00+00:00\",\"2021-07-03T00:00:00+00:00\",\"2021-07-02T00:00:00+00:00\",\"2021-07-01T00:00:00+00:00\",\"2021-06-30T00:00:00+00:00\",\"2021-06-29T00:00:00+00:00\",\"2021-06-28T00:00:00+00:00\",\"2021-06-27T00:00:00+00:00\",\"2021-06-26T00:00:00+00:00\",\"2021-06-25T00:00:00+00:00\",\"2021-06-24T00:00:00+00:00\",\"2021-06-23T00:00:00+00:00\",\"2021-06-22T00:00:00+00:00\",\"2021-06-21T00:00:00+00:00\",\"2021-06-20T00:00:00+00:00\",\"2021-06-19T00:00:00+00:00\",\"2021-06-18T00:00:00+00:00\",\"2021-06-17T00:00:00+00:00\",\"2021-06-16T00:00:00+00:00\",\"2021-06-15T00:00:00+00:00\",\"2021-06-14T00:00:00+00:00\",\"2021-06-13T00:00:00+00:00\",\"2021-06-12T00:00:00+00:00\",\"2021-06-11T00:00:00+00:00\",\"2021-06-10T00:00:00+00:00\",\"2021-06-09T00:00:00+00:00\",\"2021-06-08T00:00:00+00:00\",\"2021-06-07T00:00:00+00:00\",\"2021-06-06T00:00:00+00:00\",\"2021-06-05T00:00:00+00:00\",\"2021-06-04T00:00:00+00:00\",\"2021-06-03T00:00:00+00:00\",\"2021-06-02T00:00:00+00:00\",\"2021-06-01T00:00:00+00:00\",\"2021-05-31T00:00:00+00:00\",\"2021-05-30T00:00:00+00:00\",\"2021-05-29T00:00:00+00:00\",\"2021-05-28T00:00:00+00:00\",\"2021-05-27T00:00:00+00:00\",\"2021-05-26T00:00:00+00:00\",\"2021-05-25T00:00:00+00:00\",\"2021-05-24T00:00:00+00:00\",\"2021-05-23T00:00:00+00:00\",\"2021-05-22T00:00:00+00:00\",\"2021-05-21T00:00:00+00:00\",\"2021-05-20T00:00:00+00:00\",\"2021-05-19T00:00:00+00:00\",\"2021-05-18T00:00:00+00:00\",\"2021-05-17T00:00:00+00:00\",\"2021-05-16T00:00:00+00:00\",\"2021-05-15T00:00:00+00:00\",\"2021-05-14T00:00:00+00:00\",\"2021-05-13T00:00:00+00:00\",\"2021-05-12T00:00:00+00:00\",\"2021-05-11T00:00:00+00:00\",\"2021-05-10T00:00:00+00:00\",\"2021-05-09T00:00:00+00:00\",\"2021-05-08T00:00:00+00:00\",\"2021-05-07T00:00:00+00:00\",\"2021-05-06T00:00:00+00:00\",\"2021-05-05T00:00:00+00:00\",\"2021-05-04T00:00:00+00:00\",\"2021-05-03T00:00:00+00:00\",\"2021-05-02T00:00:00+00:00\",\"2021-05-01T00:00:00+00:00\",\"2021-04-30T00:00:00+00:00\",\"2021-04-29T00:00:00+00:00\",\"2021-04-28T00:00:00+00:00\",\"2021-04-27T00:00:00+00:00\",\"2021-04-26T00:00:00+00:00\",\"2021-04-25T00:00:00+00:00\",\"2021-04-24T00:00:00+00:00\",\"2021-04-23T00:00:00+00:00\",\"2021-04-22T00:00:00+00:00\",\"2021-04-21T00:00:00+00:00\",\"2021-04-20T00:00:00+00:00\",\"2021-04-19T00:00:00+00:00\",\"2021-04-18T00:00:00+00:00\",\"2021-04-17T00:00:00+00:00\",\"2021-04-16T00:00:00+00:00\",\"2021-04-15T00:00:00+00:00\",\"2021-04-14T00:00:00+00:00\",\"2021-04-13T00:00:00+00:00\",\"2021-04-12T00:00:00+00:00\",\"2021-04-11T00:00:00+00:00\",\"2021-04-10T00:00:00+00:00\",\"2021-04-09T00:00:00+00:00\",\"2021-04-08T00:00:00+00:00\",\"2021-04-07T00:00:00+00:00\",\"2021-04-06T00:00:00+00:00\",\"2021-04-05T00:00:00+00:00\",\"2021-04-04T00:00:00+00:00\",\"2021-04-03T00:00:00+00:00\",\"2021-04-02T00:00:00+00:00\",\"2021-04-01T00:00:00+00:00\",\"2021-03-31T00:00:00+00:00\",\"2021-03-30T00:00:00+00:00\",\"2021-03-29T00:00:00+00:00\",\"2021-03-26T00:00:00+00:00\",\"2021-03-25T00:00:00+00:00\",\"2021-03-24T00:00:00+00:00\",\"2021-03-23T00:00:00+00:00\",\"2021-03-22T00:00:00+00:00\",\"2021-03-21T00:00:00+00:00\",\"2021-03-20T00:00:00+00:00\",\"2021-03-19T00:00:00+00:00\",\"2021-03-18T00:00:00+00:00\",\"2021-03-17T00:00:00+00:00\",\"2021-03-16T00:00:00+00:00\",\"2021-03-15T00:00:00+00:00\",\"2021-03-14T00:00:00+00:00\",\"2021-03-13T00:00:00+00:00\",\"2021-03-12T00:00:00+00:00\",\"2021-03-11T00:00:00+00:00\",\"2021-03-10T00:00:00+00:00\",\"2021-03-09T00:00:00+00:00\"],\"xaxis\":\"x\",\"y\":[0.04973802993799108,0.05342394995046713,0.0621688604994996,0.06418452792870086,0.06871715074365124,0.07747291651235785,0.08250038267200867,0.07946692458291402,0.07725604189975778,0.06599076344927857,0.06546289019262638,0.06197805534498078,0.05533984059650716,0.05526783115093032,0.061775340163512625,0.07071673047429687,0.08897839289782146,0.09351556624663018,0.09445269844690296,0.09468770820326307,0.08941387854544998,0.08267692289952364,0.07274855567425882,0.06750573440154643,0.06178011909591714,0.06141219810138948,0.05921991448953144,0.06050397058697731,0.0653201999173739,0.06647809663708196,0.062109506054851646,0.06882430505367368,0.06961812724198031,0.06957921526199594,0.0694979875237238,0.06464899809606063,0.061524171914912704,0.054887343844664996,0.05053852857539914,0.051556082361114294,0.057851798163858145,0.062214104717583714,0.06980053459928584,0.07777816042353003,0.08852629255706165,0.09583119148065242,0.09823689786265444,0.09673560657457236,0.09862083890481475,0.09855937911971477,0.09918281636244654,0.09983186068992896,0.10305720690753385,0.10891970016077855,0.12060133282084183,0.14441447384633713,0.16890413506704977,0.17037244315521932,0.16934420479347903,0.17361126787191253,0.17260779864988193,0.1609975867123228,0.14071630927336976,0.12497899825358241,0.1310106652049435,0.12654879223465448,0.12389541942073759,0.1253661812830141,0.1334315974722239,0.13123779703642982,0.12227618671180791,0.11510479794966308,0.1178105068446953,0.11443393014047774,0.11084063819970222,0.11171684133298053,0.1120699262521304,0.10982208078039908,0.10627851333790284,0.11107048512374407,0.10804789972474656,0.10789832787549043,0.09997464493157442,0.09732787581284268,0.10335165570321425,0.11754130809498563,0.11341703136665629,0.11623391678455428,0.1211369664339943,0.12744633439652867,0.13285249542741098,0.13358168526843814,0.15301513157795466,0.1725223696876432,0.20529701154282612,0.23444912877747243,0.24609071883329015,0.2634646984162503,0.2791223089160512,0.27484535391555875,0.27534238885570905,0.26565440381238264,0.2618335788353921,0.2683074721481777,0.26364829672284457,0.2607200927019076,0.2589330540043996,0.24955953966728034,0.2421598609165246,0.23150008797895466,0.2308128434050485,0.23227960903261088,0.24357818733547307,0.24583379790619267,0.2717888557725671,0.29609920945369106,0.32322480635540235,0.3416031997457035,0.35436100502992074,0.3556441269563683,0.3637634596582201,0.36369890440479186,0.34901588817558915,0.3365976213016729,0.3402362252105328,0.34845719365127925,0.3648711590448203,0.3669224533818768,0.36848612259927827,0.37914328908402267,0.39334478989646576,0.39002398636669744,0.3926508616637386,0.3874756470161361,0.396657991605991,0.4006482067630184,0.4053081113529354,0.3780551222048882],\"yaxis\":\"y\"}],                        {\"annotations\":[{\"align\":\"right\",\"height\":40,\"showarrow\":false,\"text\":\"<a style=\\\"color: rgb(100, 130, 180);\\\" href=\\\"https://beneath.dev/\\\">beneath.dev</a>\",\"x\":1.0,\"xanchor\":\"right\",\"xref\":\"paper\",\"y\":1.0,\"yanchor\":\"bottom\",\"yref\":\"paper\",\"yshift\":13},{\"align\":\"left\",\"font\":{\"size\":12},\"height\":16,\"showarrow\":false,\"text\":\"...\",\"x\":0.0,\"xanchor\":\"left\",\"xref\":\"paper\",\"y\":1.0,\"yanchor\":\"bottom\",\"yref\":\"paper\",\"yshift\":13},{\"align\":\"left\",\"font\":{\"size\":18},\"height\":24,\"showarrow\":false,\"text\":\"<b>Fraction of mentions (7 day rolling average)</b>\",\"x\":0.0,\"xanchor\":\"left\",\"xref\":\"paper\",\"y\":1.0,\"yanchor\":\"bottom\",\"yref\":\"paper\",\"yshift\":29}],\"colorway\":[\"rgb(60, 170, 255)\",\"rgb(255, 60, 130)\",\"rgb(100, 200, 100)\",\"rgb(200, 220, 240)\",\"rgb(251, 241, 67)\",\"rgb(203, 60, 255)\",\"rgb(249, 148, 66)\",\"rgb(36, 130, 36)\",\"rgb(238, 255, 234)\"],\"dragmode\":\"select\",\"font\":{\"color\":\"#e1e1e1\",\"family\":\"SFMono-Regular,Menlo,Monaco,Consolas,Liberation Mono,Courier,monospace\"},\"legend\":{\"orientation\":\"h\",\"title\":{\"text\":\"Symbol\"},\"tracegroupgap\":0,\"x\":0,\"y\":-0.1,\"yanchor\":\"top\"},\"margin\":{\"autoexpand\":true,\"b\":30,\"l\":35,\"r\":20,\"t\":68},\"paper_bgcolor\":\"#1b2442\",\"plot_bgcolor\":\"#1b2442\",\"template\":{\"data\":{\"bar\":[{\"error_x\":{\"color\":\"#2a3f5f\"},\"error_y\":{\"color\":\"#2a3f5f\"},\"marker\":{\"line\":{\"color\":\"#E5ECF6\",\"width\":0.5},\"pattern\":{\"fillmode\":\"overlay\",\"size\":10,\"solidity\":0.2}},\"type\":\"bar\"}],\"barpolar\":[{\"marker\":{\"line\":{\"color\":\"#E5ECF6\",\"width\":0.5},\"pattern\":{\"fillmode\":\"overlay\",\"size\":10,\"solidity\":0.2}},\"type\":\"barpolar\"}],\"carpet\":[{\"aaxis\":{\"endlinecolor\":\"#2a3f5f\",\"gridcolor\":\"white\",\"linecolor\":\"white\",\"minorgridcolor\":\"white\",\"startlinecolor\":\"#2a3f5f\"},\"baxis\":{\"endlinecolor\":\"#2a3f5f\",\"gridcolor\":\"white\",\"linecolor\":\"white\",\"minorgridcolor\":\"white\",\"startlinecolor\":\"#2a3f5f\"},\"type\":\"carpet\"}],\"choropleth\":[{\"colorbar\":{\"outlinewidth\":0,\"ticks\":\"\"},\"type\":\"choropleth\"}],\"contour\":[{\"colorbar\":{\"outlinewidth\":0,\"ticks\":\"\"},\"colorscale\":[[0.0,\"#0d0887\"],[0.1111111111111111,\"#46039f\"],[0.2222222222222222,\"#7201a8\"],[0.3333333333333333,\"#9c179e\"],[0.4444444444444444,\"#bd3786\"],[0.5555555555555556,\"#d8576b\"],[0.6666666666666666,\"#ed7953\"],[0.7777777777777778,\"#fb9f3a\"],[0.8888888888888888,\"#fdca26\"],[1.0,\"#f0f921\"]],\"type\":\"contour\"}],\"contourcarpet\":[{\"colorbar\":{\"outlinewidth\":0,\"ticks\":\"\"},\"type\":\"contourcarpet\"}],\"heatmap\":[{\"colorbar\":{\"outlinewidth\":0,\"ticks\":\"\"},\"colorscale\":[[0.0,\"#0d0887\"],[0.1111111111111111,\"#46039f\"],[0.2222222222222222,\"#7201a8\"],[0.3333333333333333,\"#9c179e\"],[0.4444444444444444,\"#bd3786\"],[0.5555555555555556,\"#d8576b\"],[0.6666666666666666,\"#ed7953\"],[0.7777777777777778,\"#fb9f3a\"],[0.8888888888888888,\"#fdca26\"],[1.0,\"#f0f921\"]],\"type\":\"heatmap\"}],\"heatmapgl\":[{\"colorbar\":{\"outlinewidth\":0,\"ticks\":\"\"},\"colorscale\":[[0.0,\"#0d0887\"],[0.1111111111111111,\"#46039f\"],[0.2222222222222222,\"#7201a8\"],[0.3333333333333333,\"#9c179e\"],[0.4444444444444444,\"#bd3786\"],[0.5555555555555556,\"#d8576b\"],[0.6666666666666666,\"#ed7953\"],[0.7777777777777778,\"#fb9f3a\"],[0.8888888888888888,\"#fdca26\"],[1.0,\"#f0f921\"]],\"type\":\"heatmapgl\"}],\"histogram\":[{\"marker\":{\"pattern\":{\"fillmode\":\"overlay\",\"size\":10,\"solidity\":0.2}},\"type\":\"histogram\"}],\"histogram2d\":[{\"colorbar\":{\"outlinewidth\":0,\"ticks\":\"\"},\"colorscale\":[[0.0,\"#0d0887\"],[0.1111111111111111,\"#46039f\"],[0.2222222222222222,\"#7201a8\"],[0.3333333333333333,\"#9c179e\"],[0.4444444444444444,\"#bd3786\"],[0.5555555555555556,\"#d8576b\"],[0.6666666666666666,\"#ed7953\"],[0.7777777777777778,\"#fb9f3a\"],[0.8888888888888888,\"#fdca26\"],[1.0,\"#f0f921\"]],\"type\":\"histogram2d\"}],\"histogram2dcontour\":[{\"colorbar\":{\"outlinewidth\":0,\"ticks\":\"\"},\"colorscale\":[[0.0,\"#0d0887\"],[0.1111111111111111,\"#46039f\"],[0.2222222222222222,\"#7201a8\"],[0.3333333333333333,\"#9c179e\"],[0.4444444444444444,\"#bd3786\"],[0.5555555555555556,\"#d8576b\"],[0.6666666666666666,\"#ed7953\"],[0.7777777777777778,\"#fb9f3a\"],[0.8888888888888888,\"#fdca26\"],[1.0,\"#f0f921\"]],\"type\":\"histogram2dcontour\"}],\"mesh3d\":[{\"colorbar\":{\"outlinewidth\":0,\"ticks\":\"\"},\"type\":\"mesh3d\"}],\"parcoords\":[{\"line\":{\"colorbar\":{\"outlinewidth\":0,\"ticks\":\"\"}},\"type\":\"parcoords\"}],\"pie\":[{\"automargin\":true,\"type\":\"pie\"}],\"scatter\":[{\"marker\":{\"colorbar\":{\"outlinewidth\":0,\"ticks\":\"\"}},\"type\":\"scatter\"}],\"scatter3d\":[{\"line\":{\"colorbar\":{\"outlinewidth\":0,\"ticks\":\"\"}},\"marker\":{\"colorbar\":{\"outlinewidth\":0,\"ticks\":\"\"}},\"type\":\"scatter3d\"}],\"scattercarpet\":[{\"marker\":{\"colorbar\":{\"outlinewidth\":0,\"ticks\":\"\"}},\"type\":\"scattercarpet\"}],\"scattergeo\":[{\"marker\":{\"colorbar\":{\"outlinewidth\":0,\"ticks\":\"\"}},\"type\":\"scattergeo\"}],\"scattergl\":[{\"marker\":{\"colorbar\":{\"outlinewidth\":0,\"ticks\":\"\"}},\"type\":\"scattergl\"}],\"scattermapbox\":[{\"marker\":{\"colorbar\":{\"outlinewidth\":0,\"ticks\":\"\"}},\"type\":\"scattermapbox\"}],\"scatterpolar\":[{\"marker\":{\"colorbar\":{\"outlinewidth\":0,\"ticks\":\"\"}},\"type\":\"scatterpolar\"}],\"scatterpolargl\":[{\"marker\":{\"colorbar\":{\"outlinewidth\":0,\"ticks\":\"\"}},\"type\":\"scatterpolargl\"}],\"scatterternary\":[{\"marker\":{\"colorbar\":{\"outlinewidth\":0,\"ticks\":\"\"}},\"type\":\"scatterternary\"}],\"surface\":[{\"colorbar\":{\"outlinewidth\":0,\"ticks\":\"\"},\"colorscale\":[[0.0,\"#0d0887\"],[0.1111111111111111,\"#46039f\"],[0.2222222222222222,\"#7201a8\"],[0.3333333333333333,\"#9c179e\"],[0.4444444444444444,\"#bd3786\"],[0.5555555555555556,\"#d8576b\"],[0.6666666666666666,\"#ed7953\"],[0.7777777777777778,\"#fb9f3a\"],[0.8888888888888888,\"#fdca26\"],[1.0,\"#f0f921\"]],\"type\":\"surface\"}],\"table\":[{\"cells\":{\"fill\":{\"color\":\"#EBF0F8\"},\"line\":{\"color\":\"white\"}},\"header\":{\"fill\":{\"color\":\"#C8D4E3\"},\"line\":{\"color\":\"white\"}},\"type\":\"table\"}]},\"layout\":{\"annotationdefaults\":{\"arrowcolor\":\"#2a3f5f\",\"arrowhead\":0,\"arrowwidth\":1},\"autotypenumbers\":\"strict\",\"coloraxis\":{\"colorbar\":{\"outlinewidth\":0,\"ticks\":\"\"}},\"colorscale\":{\"diverging\":[[0,\"#8e0152\"],[0.1,\"#c51b7d\"],[0.2,\"#de77ae\"],[0.3,\"#f1b6da\"],[0.4,\"#fde0ef\"],[0.5,\"#f7f7f7\"],[0.6,\"#e6f5d0\"],[0.7,\"#b8e186\"],[0.8,\"#7fbc41\"],[0.9,\"#4d9221\"],[1,\"#276419\"]],\"sequential\":[[0.0,\"#0d0887\"],[0.1111111111111111,\"#46039f\"],[0.2222222222222222,\"#7201a8\"],[0.3333333333333333,\"#9c179e\"],[0.4444444444444444,\"#bd3786\"],[0.5555555555555556,\"#d8576b\"],[0.6666666666666666,\"#ed7953\"],[0.7777777777777778,\"#fb9f3a\"],[0.8888888888888888,\"#fdca26\"],[1.0,\"#f0f921\"]],\"sequentialminus\":[[0.0,\"#0d0887\"],[0.1111111111111111,\"#46039f\"],[0.2222222222222222,\"#7201a8\"],[0.3333333333333333,\"#9c179e\"],[0.4444444444444444,\"#bd3786\"],[0.5555555555555556,\"#d8576b\"],[0.6666666666666666,\"#ed7953\"],[0.7777777777777778,\"#fb9f3a\"],[0.8888888888888888,\"#fdca26\"],[1.0,\"#f0f921\"]]},\"colorway\":[\"#636efa\",\"#EF553B\",\"#00cc96\",\"#ab63fa\",\"#FFA15A\",\"#19d3f3\",\"#FF6692\",\"#B6E880\",\"#FF97FF\",\"#FECB52\"],\"font\":{\"color\":\"#2a3f5f\"},\"geo\":{\"bgcolor\":\"white\",\"lakecolor\":\"white\",\"landcolor\":\"#E5ECF6\",\"showlakes\":true,\"showland\":true,\"subunitcolor\":\"white\"},\"hoverlabel\":{\"align\":\"left\"},\"hovermode\":\"closest\",\"mapbox\":{\"style\":\"light\"},\"paper_bgcolor\":\"white\",\"plot_bgcolor\":\"#E5ECF6\",\"polar\":{\"angularaxis\":{\"gridcolor\":\"white\",\"linecolor\":\"white\",\"ticks\":\"\"},\"bgcolor\":\"#E5ECF6\",\"radialaxis\":{\"gridcolor\":\"white\",\"linecolor\":\"white\",\"ticks\":\"\"}},\"scene\":{\"xaxis\":{\"backgroundcolor\":\"#E5ECF6\",\"gridcolor\":\"white\",\"gridwidth\":2,\"linecolor\":\"white\",\"showbackground\":true,\"ticks\":\"\",\"zerolinecolor\":\"white\"},\"yaxis\":{\"backgroundcolor\":\"#E5ECF6\",\"gridcolor\":\"white\",\"gridwidth\":2,\"linecolor\":\"white\",\"showbackground\":true,\"ticks\":\"\",\"zerolinecolor\":\"white\"},\"zaxis\":{\"backgroundcolor\":\"#E5ECF6\",\"gridcolor\":\"white\",\"gridwidth\":2,\"linecolor\":\"white\",\"showbackground\":true,\"ticks\":\"\",\"zerolinecolor\":\"white\"}},\"shapedefaults\":{\"line\":{\"color\":\"#2a3f5f\"}},\"ternary\":{\"aaxis\":{\"gridcolor\":\"white\",\"linecolor\":\"white\",\"ticks\":\"\"},\"baxis\":{\"gridcolor\":\"white\",\"linecolor\":\"white\",\"ticks\":\"\"},\"bgcolor\":\"#E5ECF6\",\"caxis\":{\"gridcolor\":\"white\",\"linecolor\":\"white\",\"ticks\":\"\"}},\"title\":{\"x\":0.05},\"xaxis\":{\"automargin\":true,\"gridcolor\":\"white\",\"linecolor\":\"white\",\"ticks\":\"\",\"title\":{\"standoff\":15},\"zerolinecolor\":\"white\",\"zerolinewidth\":2},\"yaxis\":{\"automargin\":true,\"gridcolor\":\"white\",\"linecolor\":\"white\",\"ticks\":\"\",\"title\":{\"standoff\":15},\"zerolinecolor\":\"white\",\"zerolinewidth\":2}}},\"title\":{\"font\":{\"color\":\"#1b2442\",\"size\":1},\"text\":\"Fraction of mentions (7 day rolling average)\"},\"xaxis\":{\"anchor\":\"y\",\"domain\":[0.0,1.0],\"gridcolor\":\"rgb(44, 53, 72)\",\"title\":{\"text\":\"\"},\"zerolinecolor\":\"#e1e1e1\"},\"yaxis\":{\"anchor\":\"x\",\"domain\":[0.0,1.0],\"gridcolor\":\"rgb(44, 53, 72)\",\"title\":{\"text\":\"% of all mentions\"},\"zerolinecolor\":\"#e1e1e1\"}},                        {\"responsive\": true}                    ).then(function(){\n",
       "                            \n",
       "var gd = document.getElementById('c8bda470-ffad-4f2b-aa15-e26480b37e48');\n",
       "var x = new MutationObserver(function (mutations, observer) {{\n",
       "        var display = window.getComputedStyle(gd).display;\n",
       "        if (!display || display === 'none') {{\n",
       "            console.log([gd, 'removed!']);\n",
       "            Plotly.purge(gd);\n",
       "            observer.disconnect();\n",
       "        }}\n",
       "}});\n",
       "\n",
       "// Listen for the removal of the full notebook cells\n",
       "var notebookContainer = gd.closest('#notebook-container');\n",
       "if (notebookContainer) {{\n",
       "    x.observe(notebookContainer, {childList: true});\n",
       "}}\n",
       "\n",
       "// Listen for the clearing of the current output cell\n",
       "var outputEl = gd.closest('.output');\n",
       "if (outputEl) {{\n",
       "    x.observe(outputEl, {childList: true});\n",
       "}}\n",
       "\n",
       "                        })                };                });            </script>        </div>"
      ]
     },
     "metadata": {},
     "output_type": "display_data"
    }
   ],
   "source": [
    "fig = px.line(tmp[tmp['symbol'].isin(top_symbols_month[0:10])].sort_values('day', ascending=False), \n",
    "              x=\"day\", \n",
    "              y=\"fraction_of_mentions_MA\",\n",
    "              line_group=\"symbol\",\n",
    "              color=\"symbol\",\n",
    "              labels={'day': 'Day', 'fraction_of_mentions_MA': 'Fraction of mentions (7 day rolling average)', 'symbol': 'Symbol'},\n",
    "             )\n",
    "fig.update_layout(\n",
    "    make_layout(\n",
    "        title=\"Fraction of mentions (7 day rolling average)\",\n",
    "        subtitle=\"...\",\n",
    "        source_hidden=False,\n",
    "        legend=True,\n",
    "        override={\n",
    "            'xaxis': {\n",
    "                'title': ''\n",
    "            },\n",
    "            'yaxis': {\n",
    "                'title': '% of all mentions'\n",
    "            }\n",
    "        },\n",
    "    )\n",
    ")\n",
    "fig.show()"
   ]
  },
  {
   "cell_type": "code",
   "execution_count": 83,
   "id": "ab8b1a54",
   "metadata": {},
   "outputs": [
    {
     "data": {
      "text/html": [
       "<div>\n",
       "<style scoped>\n",
       "    .dataframe tbody tr th:only-of-type {\n",
       "        vertical-align: middle;\n",
       "    }\n",
       "\n",
       "    .dataframe tbody tr th {\n",
       "        vertical-align: top;\n",
       "    }\n",
       "\n",
       "    .dataframe thead th {\n",
       "        text-align: right;\n",
       "    }\n",
       "</style>\n",
       "<table border=\"1\" class=\"dataframe\">\n",
       "  <thead>\n",
       "    <tr style=\"text-align: right;\">\n",
       "      <th></th>\n",
       "      <th>symbol</th>\n",
       "      <th>day</th>\n",
       "      <th>num_mentions_stock</th>\n",
       "      <th>@meta.timestamp</th>\n",
       "      <th>num_mentions_total</th>\n",
       "      <th>fraction_of_mentions</th>\n",
       "      <th>fraction_of_mentions_MA</th>\n",
       "      <th>date_of_peak_popularity</th>\n",
       "      <th>days_from_peak</th>\n",
       "    </tr>\n",
       "  </thead>\n",
       "  <tbody>\n",
       "    <tr>\n",
       "      <th>0</th>\n",
       "      <td>A</td>\n",
       "      <td>2021-03-10 00:00:00+00:00</td>\n",
       "      <td>1</td>\n",
       "      <td>2021-07-26 13:57:37.227000+00:00</td>\n",
       "      <td>36129</td>\n",
       "      <td>0.000028</td>\n",
       "      <td>0.000028</td>\n",
       "      <td>2021-05-11 00:00:00+00:00</td>\n",
       "      <td>-62</td>\n",
       "    </tr>\n",
       "    <tr>\n",
       "      <th>1</th>\n",
       "      <td>A</td>\n",
       "      <td>2021-03-16 00:00:00+00:00</td>\n",
       "      <td>1</td>\n",
       "      <td>2021-07-26 13:57:37.227000+00:00</td>\n",
       "      <td>19681</td>\n",
       "      <td>0.000051</td>\n",
       "      <td>0.000039</td>\n",
       "      <td>2021-05-11 00:00:00+00:00</td>\n",
       "      <td>-56</td>\n",
       "    </tr>\n",
       "    <tr>\n",
       "      <th>2</th>\n",
       "      <td>A</td>\n",
       "      <td>2021-03-19 00:00:00+00:00</td>\n",
       "      <td>1</td>\n",
       "      <td>2021-07-26 13:57:37.227000+00:00</td>\n",
       "      <td>16490</td>\n",
       "      <td>0.000061</td>\n",
       "      <td>0.000046</td>\n",
       "      <td>2021-05-11 00:00:00+00:00</td>\n",
       "      <td>-53</td>\n",
       "    </tr>\n",
       "    <tr>\n",
       "      <th>3</th>\n",
       "      <td>A</td>\n",
       "      <td>2021-03-22 00:00:00+00:00</td>\n",
       "      <td>2</td>\n",
       "      <td>2021-07-26 13:57:37.227000+00:00</td>\n",
       "      <td>14202</td>\n",
       "      <td>0.000141</td>\n",
       "      <td>0.000070</td>\n",
       "      <td>2021-05-11 00:00:00+00:00</td>\n",
       "      <td>-50</td>\n",
       "    </tr>\n",
       "    <tr>\n",
       "      <th>4</th>\n",
       "      <td>A</td>\n",
       "      <td>2021-03-23 00:00:00+00:00</td>\n",
       "      <td>1</td>\n",
       "      <td>2021-07-26 13:57:37.227000+00:00</td>\n",
       "      <td>18362</td>\n",
       "      <td>0.000054</td>\n",
       "      <td>0.000067</td>\n",
       "      <td>2021-05-11 00:00:00+00:00</td>\n",
       "      <td>-49</td>\n",
       "    </tr>\n",
       "  </tbody>\n",
       "</table>\n",
       "</div>"
      ],
      "text/plain": [
       "  symbol                       day  num_mentions_stock  \\\n",
       "0      A 2021-03-10 00:00:00+00:00                   1   \n",
       "1      A 2021-03-16 00:00:00+00:00                   1   \n",
       "2      A 2021-03-19 00:00:00+00:00                   1   \n",
       "3      A 2021-03-22 00:00:00+00:00                   2   \n",
       "4      A 2021-03-23 00:00:00+00:00                   1   \n",
       "\n",
       "                   @meta.timestamp  num_mentions_total  fraction_of_mentions  \\\n",
       "0 2021-07-26 13:57:37.227000+00:00               36129              0.000028   \n",
       "1 2021-07-26 13:57:37.227000+00:00               19681              0.000051   \n",
       "2 2021-07-26 13:57:37.227000+00:00               16490              0.000061   \n",
       "3 2021-07-26 13:57:37.227000+00:00               14202              0.000141   \n",
       "4 2021-07-26 13:57:37.227000+00:00               18362              0.000054   \n",
       "\n",
       "   fraction_of_mentions_MA   date_of_peak_popularity  days_from_peak  \n",
       "0                 0.000028 2021-05-11 00:00:00+00:00             -62  \n",
       "1                 0.000039 2021-05-11 00:00:00+00:00             -56  \n",
       "2                 0.000046 2021-05-11 00:00:00+00:00             -53  \n",
       "3                 0.000070 2021-05-11 00:00:00+00:00             -50  \n",
       "4                 0.000067 2021-05-11 00:00:00+00:00             -49  "
      ]
     },
     "execution_count": 83,
     "metadata": {},
     "output_type": "execute_result"
    }
   ],
   "source": [
    "symbol_peaks = tmp.loc[tmp.groupby(['symbol'])[\"fraction_of_mentions_MA\"].idxmax()][['symbol', 'day']] \\\n",
    "    .rename(columns={'day': 'date_of_peak_popularity'})\n",
    "tmp2 = tmp.merge(symbol_peaks, on='symbol')\n",
    "tmp2['days_from_peak'] = (tmp2['day'] - tmp2['date_of_peak_popularity']).dt.days\n",
    "tmp2.head()"
   ]
  },
  {
   "cell_type": "code",
   "execution_count": 85,
   "id": "d424b48e",
   "metadata": {},
   "outputs": [
    {
     "data": {
      "application/vnd.plotly.v1+json": {
       "config": {
        "plotlyServerURL": "https://plot.ly"
       },
       "data": [
        {
         "hovertemplate": "Symbol=WKHS<br>Days from peak=%{x}<br>Mentions=%{y}<extra></extra>",
         "legendgroup": "WKHS",
         "line": {
          "color": "#636efa",
          "dash": "solid"
         },
         "mode": "lines",
         "name": "WKHS",
         "showlegend": true,
         "type": "scattergl",
         "x": [
          27,
          26,
          25,
          24,
          23,
          22,
          21,
          20,
          19,
          18,
          17,
          16,
          15,
          14,
          13,
          12,
          11,
          10,
          9,
          8,
          7,
          6,
          5,
          4,
          3,
          2,
          1,
          0,
          -1,
          -2,
          -3,
          -4,
          -5,
          -6,
          -7,
          -8,
          -9,
          -10,
          -11,
          -12,
          -13,
          -14,
          -15,
          -16,
          -17,
          -18,
          -19,
          -20,
          -21,
          -22,
          -23,
          -24,
          -25,
          -26,
          -27,
          -28,
          -29,
          -30,
          -31,
          -32,
          -33,
          -34,
          -35,
          -36,
          -37,
          -38,
          -40,
          -41,
          -42,
          -43,
          -44,
          -46,
          -47,
          -48,
          -49,
          -50,
          -51,
          -52,
          -53,
          -54,
          -55,
          -56,
          -57,
          -58,
          -59,
          -60,
          -61,
          -62,
          -63,
          -64,
          -66,
          -67,
          -68,
          -69,
          -70,
          -71,
          -73,
          -74,
          -75,
          -76,
          -77,
          -78,
          -79,
          -81,
          -82,
          -83,
          -84,
          -85,
          -87,
          -88,
          -89,
          -90,
          -91,
          -92,
          -95,
          -96,
          -97,
          -98,
          -99,
          -100,
          -101,
          -102,
          -103,
          -104,
          -105,
          -106,
          -107,
          -108,
          -109,
          -110,
          -111,
          -112
         ],
         "xaxis": "x",
         "y": [
          8,
          5,
          3,
          19,
          18,
          54,
          17,
          36,
          12,
          13,
          49,
          65,
          76,
          59,
          77,
          32,
          32,
          51,
          156,
          116,
          104,
          46,
          61,
          45,
          207,
          247,
          535,
          785,
          924,
          139,
          89,
          555,
          782,
          1026,
          320,
          306,
          133,
          159,
          409,
          534,
          950,
          599,
          894,
          317,
          253,
          1318,
          1544,
          2687,
          1367,
          594,
          194,
          143,
          588,
          1064,
          266,
          12,
          9,
          7,
          8,
          38,
          32,
          10,
          8,
          10,
          2,
          1,
          5,
          9,
          13,
          15,
          4,
          8,
          10,
          22,
          24,
          27,
          11,
          8,
          20,
          30,
          9,
          8,
          9,
          2,
          4,
          11,
          5,
          3,
          6,
          2,
          1,
          4,
          3,
          5,
          2,
          2,
          1,
          23,
          6,
          7,
          7,
          4,
          1,
          3,
          8,
          5,
          16,
          9,
          1,
          5,
          9,
          17,
          21,
          15,
          3,
          9,
          8,
          14,
          10,
          17,
          4,
          14,
          5,
          5,
          7,
          17,
          5,
          3,
          20,
          37,
          14,
          4
         ],
         "yaxis": "y"
        },
        {
         "hovertemplate": "Symbol=TSLA<br>Days from peak=%{x}<br>Mentions=%{y}<extra></extra>",
         "legendgroup": "TSLA",
         "line": {
          "color": "#EF553B",
          "dash": "solid"
         },
         "mode": "lines",
         "name": "TSLA",
         "showlegend": true,
         "type": "scattergl",
         "x": [
          66,
          65,
          64,
          63,
          62,
          61,
          60,
          59,
          58,
          57,
          56,
          55,
          54,
          53,
          52,
          51,
          50,
          49,
          48,
          47,
          46,
          45,
          44,
          43,
          42,
          41,
          40,
          39,
          38,
          37,
          36,
          35,
          34,
          33,
          32,
          31,
          30,
          29,
          28,
          27,
          26,
          25,
          24,
          23,
          22,
          21,
          20,
          19,
          18,
          17,
          16,
          15,
          14,
          13,
          12,
          11,
          10,
          9,
          8,
          7,
          6,
          5,
          4,
          3,
          2,
          1,
          0,
          -1,
          -2,
          -3,
          -4,
          -5,
          -6,
          -7,
          -8,
          -9,
          -10,
          -11,
          -12,
          -13,
          -14,
          -15,
          -16,
          -17,
          -18,
          -19,
          -20,
          -21,
          -22,
          -23,
          -24,
          -25,
          -26,
          -27,
          -28,
          -29,
          -30,
          -31,
          -32,
          -33,
          -34,
          -35,
          -36,
          -37,
          -38,
          -39,
          -40,
          -41,
          -42,
          -43,
          -44,
          -45,
          -46,
          -47,
          -48,
          -49,
          -50,
          -51,
          -52,
          -53,
          -56,
          -57,
          -58,
          -59,
          -60,
          -61,
          -62,
          -63,
          -64,
          -65,
          -66,
          -67,
          -68,
          -69,
          -70,
          -71,
          -72,
          -73
         ],
         "xaxis": "x",
         "y": [
          81,
          75,
          55,
          204,
          158,
          162,
          134,
          108,
          55,
          46,
          83,
          169,
          157,
          186,
          230,
          27,
          50,
          128,
          197,
          119,
          180,
          43,
          58,
          32,
          279,
          196,
          190,
          178,
          320,
          100,
          72,
          448,
          1124,
          491,
          115,
          225,
          102,
          100,
          231,
          247,
          235,
          170,
          201,
          124,
          66,
          263,
          224,
          224,
          233,
          218,
          63,
          59,
          294,
          455,
          203,
          136,
          102,
          37,
          35,
          197,
          297,
          253,
          310,
          482,
          158,
          70,
          534,
          455,
          496,
          715,
          875,
          203,
          88,
          492,
          744,
          476,
          478,
          380,
          147,
          58,
          258,
          299,
          206,
          218,
          290,
          65,
          81,
          450,
          374,
          273,
          370,
          627,
          133,
          106,
          191,
          233,
          279,
          296,
          383,
          138,
          77,
          293,
          604,
          864,
          845,
          400,
          93,
          83,
          244,
          327,
          341,
          349,
          960,
          139,
          129,
          269,
          789,
          481,
          529,
          258,
          466,
          385,
          406,
          357,
          613,
          207,
          177,
          326,
          395,
          394,
          384,
          336,
          119,
          139,
          491,
          663,
          812,
          338
         ],
         "yaxis": "y"
        },
        {
         "hovertemplate": "Symbol=GME<br>Days from peak=%{x}<br>Mentions=%{y}<extra></extra>",
         "legendgroup": "GME",
         "line": {
          "color": "#00cc96",
          "dash": "solid"
         },
         "mode": "lines",
         "name": "GME",
         "showlegend": true,
         "type": "scattergl",
         "x": [
          138,
          137,
          136,
          135,
          134,
          133,
          132,
          131,
          130,
          129,
          128,
          127,
          126,
          125,
          124,
          123,
          122,
          121,
          120,
          119,
          118,
          117,
          116,
          115,
          114,
          113,
          112,
          111,
          110,
          109,
          108,
          107,
          106,
          105,
          104,
          103,
          102,
          101,
          100,
          99,
          98,
          97,
          96,
          95,
          94,
          93,
          92,
          91,
          90,
          89,
          88,
          87,
          86,
          85,
          84,
          83,
          82,
          81,
          80,
          79,
          78,
          77,
          76,
          75,
          74,
          73,
          72,
          71,
          70,
          69,
          68,
          67,
          66,
          65,
          64,
          63,
          62,
          61,
          60,
          59,
          58,
          57,
          56,
          55,
          54,
          53,
          52,
          51,
          50,
          49,
          48,
          47,
          46,
          45,
          44,
          43,
          42,
          41,
          40,
          39,
          38,
          37,
          36,
          35,
          34,
          33,
          32,
          31,
          30,
          29,
          28,
          27,
          26,
          25,
          24,
          23,
          22,
          21,
          20,
          19,
          16,
          15,
          14,
          13,
          12,
          11,
          10,
          9,
          8,
          7,
          6,
          5,
          4,
          3,
          2,
          1,
          0,
          -1
         ],
         "xaxis": "x",
         "y": [
          94,
          115,
          122,
          187,
          236,
          294,
          369,
          386,
          226,
          154,
          354,
          735,
          661,
          359,
          423,
          102,
          136,
          272,
          497,
          805,
          763,
          383,
          416,
          202,
          426,
          586,
          532,
          594,
          663,
          614,
          199,
          612,
          553,
          766,
          1128,
          822,
          362,
          433,
          737,
          702,
          955,
          978,
          892,
          438,
          568,
          1538,
          3221,
          5016,
          4289,
          2276,
          1020,
          1018,
          2208,
          3648,
          3418,
          1350,
          427,
          523,
          811,
          2735,
          3694,
          3865,
          2628,
          759,
          331,
          392,
          669,
          544,
          860,
          1640,
          1502,
          243,
          399,
          1112,
          1486,
          981,
          1051,
          997,
          415,
          501,
          925,
          2108,
          1211,
          661,
          646,
          450,
          378,
          844,
          945,
          1033,
          1798,
          2093,
          374,
          473,
          944,
          850,
          862,
          893,
          2766,
          850,
          1357,
          4059,
          2576,
          3615,
          2848,
          3394,
          858,
          982,
          3018,
          2814,
          2252,
          2228,
          3191,
          591,
          658,
          901,
          3004,
          3058,
          4123,
          2670,
          5278,
          7182,
          8352,
          6901,
          4498,
          1690,
          1946,
          6163,
          6002,
          6077,
          7898,
          8376,
          3131,
          2444,
          7813,
          9197,
          15628,
          2181
         ],
         "yaxis": "y"
        },
        {
         "hovertemplate": "Symbol=CLNE<br>Days from peak=%{x}<br>Mentions=%{y}<extra></extra>",
         "legendgroup": "CLNE",
         "line": {
          "color": "#ab63fa",
          "dash": "solid"
         },
         "mode": "lines",
         "name": "CLNE",
         "showlegend": true,
         "type": "scattergl",
         "x": [
          38,
          37,
          36,
          35,
          34,
          33,
          32,
          31,
          30,
          29,
          28,
          27,
          26,
          25,
          24,
          23,
          22,
          21,
          20,
          19,
          18,
          17,
          16,
          15,
          14,
          13,
          12,
          11,
          10,
          9,
          8,
          7,
          6,
          5,
          4,
          3,
          2,
          1,
          0,
          -1,
          -2,
          -3,
          -4,
          -5,
          -6,
          -7,
          -8,
          -9,
          -10,
          -11,
          -12,
          -13,
          -14,
          -15,
          -16,
          -17,
          -18,
          -19,
          -21,
          -22,
          -23,
          -24,
          -25,
          -26,
          -27,
          -28,
          -29,
          -30,
          -31,
          -32,
          -33,
          -34,
          -35,
          -36,
          -37,
          -38,
          -39,
          -40,
          -41,
          -42,
          -43,
          -44,
          -45,
          -46,
          -47,
          -48,
          -49,
          -50,
          -51,
          -52,
          -53,
          -54,
          -55,
          -56,
          -57,
          -58,
          -59,
          -60,
          -62,
          -63,
          -64,
          -65,
          -66,
          -67,
          -69,
          -70,
          -71,
          -73,
          -74,
          -77,
          -78,
          -79,
          -80,
          -81,
          -84,
          -85,
          -86,
          -87,
          -88,
          -89,
          -90,
          -91,
          -92,
          -93,
          -94,
          -95,
          -96,
          -97,
          -98,
          -99,
          -100,
          -101
         ],
         "xaxis": "x",
         "y": [
          22,
          4,
          13,
          48,
          80,
          115,
          113,
          85,
          20,
          26,
          96,
          156,
          209,
          154,
          129,
          10,
          22,
          94,
          169,
          254,
          274,
          36,
          41,
          28,
          253,
          331,
          379,
          382,
          369,
          114,
          61,
          326,
          434,
          520,
          649,
          939,
          131,
          131,
          2497,
          1656,
          1264,
          2189,
          3032,
          864,
          499,
          1660,
          2912,
          5887,
          2913,
          2000,
          537,
          298,
          1532,
          1657,
          158,
          8,
          6,
          5,
          15,
          7,
          19,
          17,
          11,
          3,
          3,
          22,
          38,
          11,
          37,
          24,
          3,
          10,
          25,
          33,
          24,
          56,
          33,
          4,
          23,
          76,
          60,
          37,
          20,
          29,
          10,
          19,
          39,
          29,
          32,
          49,
          39,
          18,
          8,
          9,
          4,
          19,
          40,
          59,
          4,
          7,
          9,
          10,
          13,
          11,
          1,
          9,
          4,
          12,
          14,
          2,
          10,
          10,
          4,
          4,
          2,
          4,
          11,
          22,
          10,
          1,
          1,
          12,
          7,
          3,
          10,
          15,
          9,
          4,
          8,
          13,
          9,
          3
         ],
         "yaxis": "y"
        },
        {
         "hovertemplate": "Symbol=MVIS<br>Days from peak=%{x}<br>Mentions=%{y}<extra></extra>",
         "legendgroup": "MVIS",
         "line": {
          "color": "#FFA15A",
          "dash": "solid"
         },
         "mode": "lines",
         "name": "MVIS",
         "showlegend": true,
         "type": "scattergl",
         "x": [
          87,
          86,
          85,
          84,
          83,
          82,
          81,
          80,
          79,
          78,
          77,
          76,
          75,
          74,
          73,
          72,
          71,
          70,
          69,
          68,
          67,
          66,
          65,
          64,
          63,
          62,
          61,
          60,
          59,
          58,
          57,
          56,
          55,
          54,
          53,
          52,
          51,
          50,
          49,
          48,
          47,
          46,
          45,
          44,
          43,
          42,
          41,
          40,
          39,
          38,
          37,
          36,
          35,
          34,
          33,
          32,
          31,
          30,
          29,
          28,
          27,
          26,
          25,
          24,
          23,
          22,
          21,
          20,
          19,
          18,
          17,
          16,
          15,
          14,
          13,
          12,
          11,
          10,
          9,
          8,
          7,
          6,
          5,
          4,
          3,
          2,
          1,
          0,
          -1,
          -2,
          -3,
          -4,
          -5,
          -6,
          -7,
          -8,
          -9,
          -10,
          -11,
          -12,
          -13,
          -14,
          -15,
          -16,
          -17,
          -18,
          -19,
          -20,
          -21,
          -22,
          -23,
          -24,
          -25,
          -26,
          -27,
          -28,
          -29,
          -30,
          -31,
          -32,
          -35,
          -36,
          -37,
          -38,
          -39,
          -40,
          -41,
          -42,
          -43,
          -44,
          -45,
          -46,
          -47,
          -48,
          -49,
          -50,
          -51,
          -52
         ],
         "xaxis": "x",
         "y": [
          6,
          4,
          8,
          31,
          90,
          26,
          24,
          26,
          3,
          12,
          33,
          19,
          24,
          56,
          18,
          4,
          5,
          23,
          34,
          28,
          15,
          4,
          2,
          4,
          14,
          18,
          15,
          23,
          22,
          7,
          12,
          16,
          39,
          24,
          58,
          95,
          6,
          9,
          20,
          28,
          20,
          27,
          30,
          15,
          16,
          80,
          358,
          105,
          126,
          296,
          62,
          98,
          792,
          100,
          164,
          179,
          14,
          25,
          16,
          196,
          106,
          119,
          159,
          56,
          15,
          24,
          58,
          71,
          53,
          209,
          213,
          39,
          34,
          236,
          98,
          94,
          118,
          116,
          50,
          53,
          200,
          305,
          328,
          598,
          582,
          172,
          219,
          1532,
          2014,
          1911,
          3194,
          3491,
          363,
          447,
          1137,
          947,
          741,
          472,
          45,
          13,
          16,
          98,
          242,
          85,
          45,
          65,
          12,
          19,
          41,
          56,
          71,
          90,
          116,
          53,
          102,
          40,
          221,
          404,
          29,
          15,
          42,
          25,
          43,
          26,
          41,
          8,
          9,
          19,
          25,
          34,
          27,
          78,
          56,
          28,
          163,
          70,
          32,
          6
         ],
         "yaxis": "y"
        },
        {
         "hovertemplate": "Symbol=BB<br>Days from peak=%{x}<br>Mentions=%{y}<extra></extra>",
         "legendgroup": "BB",
         "line": {
          "color": "#19d3f3",
          "dash": "solid"
         },
         "mode": "lines",
         "name": "BB",
         "showlegend": true,
         "type": "scattergl",
         "x": [
          49,
          48,
          47,
          46,
          45,
          44,
          43,
          42,
          41,
          40,
          39,
          38,
          37,
          36,
          35,
          34,
          33,
          32,
          31,
          30,
          29,
          28,
          27,
          26,
          25,
          24,
          23,
          22,
          21,
          20,
          19,
          18,
          17,
          16,
          15,
          14,
          13,
          12,
          11,
          10,
          9,
          8,
          7,
          6,
          5,
          4,
          3,
          2,
          1,
          0,
          -1,
          -2,
          -3,
          -4,
          -5,
          -6,
          -7,
          -8,
          -9,
          -10,
          -11,
          -12,
          -13,
          -14,
          -15,
          -16,
          -17,
          -18,
          -19,
          -20,
          -21,
          -22,
          -23,
          -24,
          -25,
          -26,
          -27,
          -28,
          -29,
          -30,
          -31,
          -32,
          -33,
          -34,
          -35,
          -36,
          -37,
          -38,
          -39,
          -40,
          -41,
          -42,
          -43,
          -44,
          -45,
          -46,
          -47,
          -48,
          -49,
          -50,
          -51,
          -52,
          -53,
          -54,
          -55,
          -56,
          -57,
          -58,
          -59,
          -60,
          -61,
          -62,
          -63,
          -64,
          -65,
          -66,
          -67,
          -68,
          -69,
          -70,
          -73,
          -74,
          -75,
          -76,
          -77,
          -78,
          -79,
          -80,
          -81,
          -82,
          -83,
          -84,
          -85,
          -86,
          -87,
          -88,
          -89,
          -90
         ],
         "xaxis": "x",
         "y": [
          37,
          13,
          20,
          50,
          65,
          149,
          218,
          104,
          44,
          51,
          138,
          161,
          203,
          227,
          177,
          32,
          22,
          121,
          179,
          229,
          227,
          106,
          65,
          79,
          188,
          293,
          270,
          527,
          746,
          159,
          159,
          793,
          665,
          611,
          1078,
          1068,
          196,
          282,
          1151,
          1577,
          991,
          1026,
          1465,
          429,
          508,
          2336,
          3246,
          4696,
          5022,
          5747,
          1714,
          1786,
          9109,
          16809,
          9788,
          3421,
          793,
          473,
          497,
          2895,
          1767,
          789,
          128,
          36,
          12,
          22,
          44,
          50,
          71,
          141,
          64,
          25,
          30,
          158,
          143,
          97,
          76,
          56,
          31,
          39,
          129,
          111,
          83,
          59,
          53,
          24,
          32,
          72,
          109,
          105,
          182,
          143,
          48,
          29,
          87,
          97,
          164,
          159,
          137,
          80,
          72,
          128,
          160,
          133,
          143,
          155,
          41,
          22,
          174,
          268,
          324,
          178,
          215,
          69,
          46,
          83,
          260,
          640,
          606,
          188,
          119,
          169,
          164,
          160,
          142,
          41,
          51,
          116,
          141,
          162,
          304,
          452,
          103,
          175,
          693,
          201,
          565,
          99
         ],
         "yaxis": "y"
        },
        {
         "hovertemplate": "Symbol=CLOV<br>Days from peak=%{x}<br>Mentions=%{y}<extra></extra>",
         "legendgroup": "CLOV",
         "line": {
          "color": "#FF6692",
          "dash": "solid"
         },
         "mode": "lines",
         "name": "CLOV",
         "showlegend": true,
         "type": "scattergl",
         "x": [
          43,
          42,
          41,
          40,
          39,
          38,
          37,
          36,
          35,
          34,
          33,
          32,
          31,
          30,
          29,
          28,
          27,
          26,
          25,
          24,
          23,
          22,
          21,
          20,
          19,
          18,
          17,
          16,
          15,
          14,
          13,
          12,
          11,
          10,
          9,
          8,
          7,
          6,
          5,
          4,
          3,
          2,
          1,
          0,
          -1,
          -2,
          -3,
          -4,
          -5,
          -6,
          -7,
          -8,
          -9,
          -10,
          -11,
          -12,
          -13,
          -14,
          -15,
          -16,
          -17,
          -18,
          -19,
          -20,
          -21,
          -22,
          -23,
          -24,
          -25,
          -26,
          -27,
          -28,
          -29,
          -30,
          -31,
          -32,
          -33,
          -34,
          -35,
          -36,
          -37,
          -38,
          -39,
          -40,
          -41,
          -42,
          -43,
          -44,
          -45,
          -46,
          -47,
          -48,
          -49,
          -50,
          -51,
          -52,
          -53,
          -54,
          -55,
          -56,
          -57,
          -58,
          -59,
          -60,
          -61,
          -62,
          -63,
          -64,
          -65,
          -66,
          -67,
          -68,
          -72,
          -73,
          -74,
          -75,
          -76,
          -79,
          -80,
          -81,
          -82,
          -83,
          -84,
          -86,
          -87,
          -88,
          -89,
          -90,
          -91,
          -92,
          -93,
          -94,
          -95,
          -96
         ],
         "xaxis": "x",
         "y": [
          76,
          76,
          64,
          318,
          716,
          712,
          246,
          216,
          82,
          71,
          207,
          266,
          388,
          590,
          706,
          111,
          92,
          293,
          420,
          722,
          829,
          199,
          113,
          109,
          533,
          669,
          804,
          1261,
          760,
          331,
          216,
          793,
          1365,
          1536,
          1501,
          624,
          227,
          139,
          467,
          534,
          912,
          1193,
          1608,
          562,
          488,
          2521,
          3200,
          7208,
          7441,
          2584,
          354,
          131,
          498,
          1129,
          742,
          59,
          35,
          41,
          44,
          183,
          243,
          99,
          46,
          66,
          23,
          8,
          78,
          124,
          41,
          162,
          529,
          87,
          57,
          160,
          87,
          148,
          98,
          115,
          93,
          67,
          146,
          209,
          224,
          206,
          430,
          218,
          86,
          444,
          1022,
          683,
          132,
          150,
          40,
          54,
          141,
          89,
          251,
          470,
          944,
          239,
          208,
          860,
          10,
          4,
          4,
          6,
          1,
          3,
          21,
          89,
          1,
          5,
          2,
          2,
          4,
          2,
          2,
          1,
          4,
          7,
          2,
          1,
          3,
          6,
          3,
          6,
          8,
          7,
          7,
          2,
          2,
          9,
          6,
          1
         ],
         "yaxis": "y"
        },
        {
         "hovertemplate": "Symbol=PLTR<br>Days from peak=%{x}<br>Mentions=%{y}<extra></extra>",
         "legendgroup": "PLTR",
         "line": {
          "color": "#B6E880",
          "dash": "solid"
         },
         "mode": "lines",
         "name": "PLTR",
         "showlegend": true,
         "type": "scattergl",
         "x": [
          75,
          74,
          73,
          72,
          71,
          70,
          69,
          68,
          67,
          66,
          65,
          64,
          63,
          62,
          61,
          60,
          59,
          58,
          57,
          56,
          55,
          54,
          53,
          52,
          51,
          50,
          49,
          48,
          47,
          46,
          45,
          44,
          43,
          42,
          41,
          40,
          39,
          38,
          37,
          36,
          35,
          34,
          33,
          32,
          31,
          30,
          29,
          28,
          27,
          26,
          25,
          24,
          23,
          22,
          21,
          20,
          19,
          18,
          17,
          16,
          15,
          14,
          13,
          12,
          11,
          10,
          9,
          8,
          7,
          6,
          5,
          4,
          3,
          2,
          1,
          0,
          -1,
          -2,
          -3,
          -4,
          -5,
          -6,
          -7,
          -8,
          -9,
          -10,
          -11,
          -12,
          -13,
          -14,
          -15,
          -16,
          -17,
          -18,
          -19,
          -20,
          -21,
          -22,
          -23,
          -24,
          -25,
          -26,
          -27,
          -28,
          -29,
          -30,
          -31,
          -32,
          -33,
          -34,
          -35,
          -36,
          -37,
          -38,
          -39,
          -40,
          -41,
          -42,
          -43,
          -44,
          -47,
          -48,
          -49,
          -50,
          -51,
          -52,
          -53,
          -54,
          -55,
          -56,
          -57,
          -58,
          -59,
          -60,
          -61,
          -62,
          -63,
          -64
         ],
         "xaxis": "x",
         "y": [
          24,
          16,
          33,
          95,
          45,
          51,
          72,
          111,
          31,
          26,
          78,
          122,
          187,
          130,
          112,
          8,
          27,
          111,
          209,
          291,
          117,
          89,
          28,
          24,
          203,
          363,
          164,
          257,
          494,
          123,
          78,
          328,
          340,
          385,
          133,
          212,
          68,
          70,
          353,
          454,
          237,
          385,
          449,
          59,
          80,
          194,
          199,
          228,
          300,
          205,
          53,
          63,
          273,
          330,
          461,
          205,
          60,
          102,
          72,
          618,
          323,
          248,
          250,
          256,
          60,
          44,
          272,
          320,
          189,
          527,
          323,
          131,
          101,
          566,
          535,
          850,
          1907,
          1270,
          266,
          315,
          849,
          1070,
          509,
          432,
          324,
          97,
          104,
          182,
          303,
          189,
          251,
          257,
          103,
          76,
          273,
          334,
          334,
          403,
          419,
          105,
          135,
          569,
          835,
          1306,
          1139,
          869,
          221,
          158,
          540,
          507,
          415,
          439,
          661,
          158,
          141,
          177,
          592,
          711,
          954,
          741,
          437,
          561,
          815,
          679,
          557,
          178,
          134,
          325,
          551,
          574,
          568,
          531,
          163,
          206,
          639,
          894,
          660,
          148
         ],
         "yaxis": "y"
        },
        {
         "hovertemplate": "Symbol=WISH<br>Days from peak=%{x}<br>Mentions=%{y}<extra></extra>",
         "legendgroup": "WISH",
         "line": {
          "color": "#FF97FF",
          "dash": "solid"
         },
         "mode": "lines",
         "name": "WISH",
         "showlegend": true,
         "type": "scattergl",
         "x": [
          30,
          29,
          28,
          27,
          26,
          25,
          24,
          23,
          22,
          21,
          20,
          19,
          18,
          17,
          16,
          15,
          14,
          13,
          12,
          11,
          10,
          9,
          8,
          7,
          6,
          5,
          4,
          3,
          2,
          1,
          0,
          -1,
          -2,
          -3,
          -4,
          -5,
          -6,
          -7,
          -8,
          -9,
          -10,
          -11,
          -12,
          -13,
          -14,
          -15,
          -16,
          -17,
          -18,
          -19,
          -20,
          -21,
          -22,
          -23,
          -24,
          -25,
          -26,
          -27,
          -28,
          -29,
          -30,
          -31,
          -32,
          -33,
          -34,
          -36,
          -37,
          -38,
          -39,
          -40,
          -41,
          -43,
          -44,
          -45,
          -46,
          -47,
          -48,
          -49,
          -50,
          -51,
          -52,
          -53,
          -54,
          -55,
          -56,
          -57,
          -58,
          -59,
          -60,
          -61,
          -62,
          -64,
          -65,
          -66,
          -67,
          -68,
          -69,
          -70,
          -71,
          -72,
          -73,
          -74,
          -75,
          -76,
          -77,
          -78,
          -79,
          -80,
          -81,
          -82,
          -83,
          -85,
          -86,
          -87,
          -88,
          -89,
          -92,
          -93,
          -94,
          -95,
          -96,
          -97,
          -98,
          -99,
          -100,
          -101,
          -102,
          -103,
          -104,
          -105,
          -106,
          -107,
          -108,
          -109
         ],
         "xaxis": "x",
         "y": [
          45,
          39,
          28,
          148,
          121,
          141,
          158,
          162,
          36,
          69,
          234,
          253,
          291,
          200,
          208,
          66,
          38,
          203,
          365,
          307,
          342,
          118,
          55,
          73,
          462,
          657,
          596,
          722,
          929,
          273,
          198,
          833,
          1307,
          1375,
          2129,
          3000,
          220,
          242,
          895,
          953,
          1013,
          1689,
          2163,
          474,
          440,
          1564,
          2800,
          6765,
          4653,
          45,
          3,
          6,
          11,
          27,
          52,
          22,
          23,
          15,
          12,
          54,
          27,
          35,
          33,
          5,
          1,
          2,
          3,
          5,
          8,
          7,
          2,
          46,
          51,
          10,
          7,
          9,
          7,
          3,
          4,
          4,
          5,
          2,
          3,
          2,
          4,
          2,
          8,
          22,
          40,
          3,
          2,
          1,
          2,
          2,
          6,
          1,
          1,
          1,
          12,
          6,
          2,
          1,
          4,
          1,
          1,
          7,
          11,
          6,
          4,
          2,
          1,
          6,
          4,
          1,
          5,
          4,
          3,
          9,
          9,
          3,
          5,
          2,
          3,
          2,
          9,
          3,
          5,
          5,
          3,
          2,
          8,
          21,
          29,
          3
         ],
         "yaxis": "y"
        },
        {
         "hovertemplate": "Symbol=AMC<br>Days from peak=%{x}<br>Mentions=%{y}<extra></extra>",
         "legendgroup": "AMC",
         "line": {
          "color": "#FECB52",
          "dash": "solid"
         },
         "mode": "lines",
         "name": "AMC",
         "showlegend": true,
         "type": "scattergl",
         "x": [
          54,
          53,
          52,
          51,
          50,
          49,
          48,
          47,
          46,
          45,
          44,
          43,
          42,
          41,
          40,
          39,
          38,
          37,
          36,
          35,
          34,
          33,
          32,
          31,
          30,
          29,
          28,
          27,
          26,
          25,
          24,
          23,
          22,
          21,
          20,
          19,
          18,
          17,
          16,
          15,
          14,
          13,
          12,
          11,
          10,
          9,
          8,
          7,
          6,
          5,
          4,
          3,
          2,
          1,
          0,
          -1,
          -2,
          -3,
          -4,
          -5,
          -6,
          -7,
          -8,
          -9,
          -10,
          -11,
          -12,
          -13,
          -14,
          -15,
          -16,
          -17,
          -18,
          -19,
          -20,
          -21,
          -22,
          -23,
          -24,
          -25,
          -26,
          -27,
          -28,
          -29,
          -30,
          -31,
          -32,
          -33,
          -34,
          -35,
          -36,
          -37,
          -38,
          -39,
          -40,
          -41,
          -42,
          -43,
          -44,
          -45,
          -46,
          -47,
          -48,
          -49,
          -50,
          -51,
          -52,
          -53,
          -54,
          -55,
          -56,
          -57,
          -58,
          -59,
          -60,
          -61,
          -62,
          -63,
          -64,
          -65,
          -68,
          -69,
          -70,
          -71,
          -72,
          -73,
          -74,
          -75,
          -76,
          -77,
          -78,
          -79,
          -80,
          -81,
          -82,
          -83,
          -84,
          -85
         ],
         "xaxis": "x",
         "y": [
          97,
          113,
          129,
          240,
          337,
          496,
          516,
          372,
          169,
          151,
          391,
          869,
          841,
          567,
          397,
          142,
          124,
          287,
          729,
          729,
          567,
          281,
          289,
          170,
          613,
          587,
          504,
          681,
          759,
          368,
          200,
          657,
          684,
          832,
          1149,
          1127,
          460,
          611,
          1564,
          2168,
          1567,
          2149,
          2283,
          696,
          837,
          2518,
          3698,
          4677,
          3527,
          3443,
          1610,
          1918,
          6647,
          12482,
          10347,
          3986,
          1151,
          1111,
          1687,
          8617,
          8508,
          3428,
          1607,
          664,
          151,
          158,
          414,
          560,
          783,
          1750,
          1355,
          216,
          280,
          1991,
          2474,
          513,
          561,
          401,
          143,
          213,
          399,
          684,
          356,
          167,
          171,
          115,
          92,
          191,
          247,
          552,
          454,
          448,
          109,
          107,
          204,
          218,
          184,
          127,
          202,
          109,
          95,
          372,
          485,
          267,
          348,
          452,
          198,
          99,
          308,
          296,
          295,
          304,
          743,
          248,
          188,
          377,
          795,
          382,
          454,
          317,
          726,
          1177,
          1072,
          1120,
          1354,
          701,
          785,
          1187,
          1224,
          1071,
          1940,
          3722,
          543,
          586,
          1265,
          1394,
          3780,
          639
         ],
         "yaxis": "y"
        }
       ],
       "layout": {
        "annotations": [
         {
          "align": "right",
          "height": 40,
          "showarrow": false,
          "text": "<a style=\"color: rgb(100, 130, 180);\" href=\"https://beneath.dev/\">beneath.dev</a>",
          "x": 1,
          "xanchor": "right",
          "xref": "paper",
          "y": 1,
          "yanchor": "bottom",
          "yref": "paper",
          "yshift": 13
         },
         {
          "align": "left",
          "font": {
           "size": 12
          },
          "height": 16,
          "showarrow": false,
          "text": "...",
          "x": 0,
          "xanchor": "left",
          "xref": "paper",
          "y": 1,
          "yanchor": "bottom",
          "yref": "paper",
          "yshift": 13
         },
         {
          "align": "left",
          "font": {
           "size": 18
          },
          "height": 24,
          "showarrow": false,
          "text": "<b>Days from peak</b>",
          "x": 0,
          "xanchor": "left",
          "xref": "paper",
          "y": 1,
          "yanchor": "bottom",
          "yref": "paper",
          "yshift": 29
         }
        ],
        "colorway": [
         "rgb(60, 170, 255)",
         "rgb(255, 60, 130)",
         "rgb(100, 200, 100)",
         "rgb(200, 220, 240)",
         "rgb(251, 241, 67)",
         "rgb(203, 60, 255)",
         "rgb(249, 148, 66)",
         "rgb(36, 130, 36)",
         "rgb(238, 255, 234)"
        ],
        "dragmode": "select",
        "font": {
         "color": "#e1e1e1",
         "family": "SFMono-Regular,Menlo,Monaco,Consolas,Liberation Mono,Courier,monospace"
        },
        "legend": {
         "orientation": "h",
         "title": {
          "text": "Symbol"
         },
         "tracegroupgap": 0,
         "x": 0,
         "y": -0.1,
         "yanchor": "top"
        },
        "margin": {
         "autoexpand": true,
         "b": 30,
         "l": 35,
         "r": 20,
         "t": 68
        },
        "paper_bgcolor": "#1b2442",
        "plot_bgcolor": "#1b2442",
        "template": {
         "data": {
          "bar": [
           {
            "error_x": {
             "color": "#2a3f5f"
            },
            "error_y": {
             "color": "#2a3f5f"
            },
            "marker": {
             "line": {
              "color": "#E5ECF6",
              "width": 0.5
             },
             "pattern": {
              "fillmode": "overlay",
              "size": 10,
              "solidity": 0.2
             }
            },
            "type": "bar"
           }
          ],
          "barpolar": [
           {
            "marker": {
             "line": {
              "color": "#E5ECF6",
              "width": 0.5
             },
             "pattern": {
              "fillmode": "overlay",
              "size": 10,
              "solidity": 0.2
             }
            },
            "type": "barpolar"
           }
          ],
          "carpet": [
           {
            "aaxis": {
             "endlinecolor": "#2a3f5f",
             "gridcolor": "white",
             "linecolor": "white",
             "minorgridcolor": "white",
             "startlinecolor": "#2a3f5f"
            },
            "baxis": {
             "endlinecolor": "#2a3f5f",
             "gridcolor": "white",
             "linecolor": "white",
             "minorgridcolor": "white",
             "startlinecolor": "#2a3f5f"
            },
            "type": "carpet"
           }
          ],
          "choropleth": [
           {
            "colorbar": {
             "outlinewidth": 0,
             "ticks": ""
            },
            "type": "choropleth"
           }
          ],
          "contour": [
           {
            "colorbar": {
             "outlinewidth": 0,
             "ticks": ""
            },
            "colorscale": [
             [
              0,
              "#0d0887"
             ],
             [
              0.1111111111111111,
              "#46039f"
             ],
             [
              0.2222222222222222,
              "#7201a8"
             ],
             [
              0.3333333333333333,
              "#9c179e"
             ],
             [
              0.4444444444444444,
              "#bd3786"
             ],
             [
              0.5555555555555556,
              "#d8576b"
             ],
             [
              0.6666666666666666,
              "#ed7953"
             ],
             [
              0.7777777777777778,
              "#fb9f3a"
             ],
             [
              0.8888888888888888,
              "#fdca26"
             ],
             [
              1,
              "#f0f921"
             ]
            ],
            "type": "contour"
           }
          ],
          "contourcarpet": [
           {
            "colorbar": {
             "outlinewidth": 0,
             "ticks": ""
            },
            "type": "contourcarpet"
           }
          ],
          "heatmap": [
           {
            "colorbar": {
             "outlinewidth": 0,
             "ticks": ""
            },
            "colorscale": [
             [
              0,
              "#0d0887"
             ],
             [
              0.1111111111111111,
              "#46039f"
             ],
             [
              0.2222222222222222,
              "#7201a8"
             ],
             [
              0.3333333333333333,
              "#9c179e"
             ],
             [
              0.4444444444444444,
              "#bd3786"
             ],
             [
              0.5555555555555556,
              "#d8576b"
             ],
             [
              0.6666666666666666,
              "#ed7953"
             ],
             [
              0.7777777777777778,
              "#fb9f3a"
             ],
             [
              0.8888888888888888,
              "#fdca26"
             ],
             [
              1,
              "#f0f921"
             ]
            ],
            "type": "heatmap"
           }
          ],
          "heatmapgl": [
           {
            "colorbar": {
             "outlinewidth": 0,
             "ticks": ""
            },
            "colorscale": [
             [
              0,
              "#0d0887"
             ],
             [
              0.1111111111111111,
              "#46039f"
             ],
             [
              0.2222222222222222,
              "#7201a8"
             ],
             [
              0.3333333333333333,
              "#9c179e"
             ],
             [
              0.4444444444444444,
              "#bd3786"
             ],
             [
              0.5555555555555556,
              "#d8576b"
             ],
             [
              0.6666666666666666,
              "#ed7953"
             ],
             [
              0.7777777777777778,
              "#fb9f3a"
             ],
             [
              0.8888888888888888,
              "#fdca26"
             ],
             [
              1,
              "#f0f921"
             ]
            ],
            "type": "heatmapgl"
           }
          ],
          "histogram": [
           {
            "marker": {
             "pattern": {
              "fillmode": "overlay",
              "size": 10,
              "solidity": 0.2
             }
            },
            "type": "histogram"
           }
          ],
          "histogram2d": [
           {
            "colorbar": {
             "outlinewidth": 0,
             "ticks": ""
            },
            "colorscale": [
             [
              0,
              "#0d0887"
             ],
             [
              0.1111111111111111,
              "#46039f"
             ],
             [
              0.2222222222222222,
              "#7201a8"
             ],
             [
              0.3333333333333333,
              "#9c179e"
             ],
             [
              0.4444444444444444,
              "#bd3786"
             ],
             [
              0.5555555555555556,
              "#d8576b"
             ],
             [
              0.6666666666666666,
              "#ed7953"
             ],
             [
              0.7777777777777778,
              "#fb9f3a"
             ],
             [
              0.8888888888888888,
              "#fdca26"
             ],
             [
              1,
              "#f0f921"
             ]
            ],
            "type": "histogram2d"
           }
          ],
          "histogram2dcontour": [
           {
            "colorbar": {
             "outlinewidth": 0,
             "ticks": ""
            },
            "colorscale": [
             [
              0,
              "#0d0887"
             ],
             [
              0.1111111111111111,
              "#46039f"
             ],
             [
              0.2222222222222222,
              "#7201a8"
             ],
             [
              0.3333333333333333,
              "#9c179e"
             ],
             [
              0.4444444444444444,
              "#bd3786"
             ],
             [
              0.5555555555555556,
              "#d8576b"
             ],
             [
              0.6666666666666666,
              "#ed7953"
             ],
             [
              0.7777777777777778,
              "#fb9f3a"
             ],
             [
              0.8888888888888888,
              "#fdca26"
             ],
             [
              1,
              "#f0f921"
             ]
            ],
            "type": "histogram2dcontour"
           }
          ],
          "mesh3d": [
           {
            "colorbar": {
             "outlinewidth": 0,
             "ticks": ""
            },
            "type": "mesh3d"
           }
          ],
          "parcoords": [
           {
            "line": {
             "colorbar": {
              "outlinewidth": 0,
              "ticks": ""
             }
            },
            "type": "parcoords"
           }
          ],
          "pie": [
           {
            "automargin": true,
            "type": "pie"
           }
          ],
          "scatter": [
           {
            "marker": {
             "colorbar": {
              "outlinewidth": 0,
              "ticks": ""
             }
            },
            "type": "scatter"
           }
          ],
          "scatter3d": [
           {
            "line": {
             "colorbar": {
              "outlinewidth": 0,
              "ticks": ""
             }
            },
            "marker": {
             "colorbar": {
              "outlinewidth": 0,
              "ticks": ""
             }
            },
            "type": "scatter3d"
           }
          ],
          "scattercarpet": [
           {
            "marker": {
             "colorbar": {
              "outlinewidth": 0,
              "ticks": ""
             }
            },
            "type": "scattercarpet"
           }
          ],
          "scattergeo": [
           {
            "marker": {
             "colorbar": {
              "outlinewidth": 0,
              "ticks": ""
             }
            },
            "type": "scattergeo"
           }
          ],
          "scattergl": [
           {
            "marker": {
             "colorbar": {
              "outlinewidth": 0,
              "ticks": ""
             }
            },
            "type": "scattergl"
           }
          ],
          "scattermapbox": [
           {
            "marker": {
             "colorbar": {
              "outlinewidth": 0,
              "ticks": ""
             }
            },
            "type": "scattermapbox"
           }
          ],
          "scatterpolar": [
           {
            "marker": {
             "colorbar": {
              "outlinewidth": 0,
              "ticks": ""
             }
            },
            "type": "scatterpolar"
           }
          ],
          "scatterpolargl": [
           {
            "marker": {
             "colorbar": {
              "outlinewidth": 0,
              "ticks": ""
             }
            },
            "type": "scatterpolargl"
           }
          ],
          "scatterternary": [
           {
            "marker": {
             "colorbar": {
              "outlinewidth": 0,
              "ticks": ""
             }
            },
            "type": "scatterternary"
           }
          ],
          "surface": [
           {
            "colorbar": {
             "outlinewidth": 0,
             "ticks": ""
            },
            "colorscale": [
             [
              0,
              "#0d0887"
             ],
             [
              0.1111111111111111,
              "#46039f"
             ],
             [
              0.2222222222222222,
              "#7201a8"
             ],
             [
              0.3333333333333333,
              "#9c179e"
             ],
             [
              0.4444444444444444,
              "#bd3786"
             ],
             [
              0.5555555555555556,
              "#d8576b"
             ],
             [
              0.6666666666666666,
              "#ed7953"
             ],
             [
              0.7777777777777778,
              "#fb9f3a"
             ],
             [
              0.8888888888888888,
              "#fdca26"
             ],
             [
              1,
              "#f0f921"
             ]
            ],
            "type": "surface"
           }
          ],
          "table": [
           {
            "cells": {
             "fill": {
              "color": "#EBF0F8"
             },
             "line": {
              "color": "white"
             }
            },
            "header": {
             "fill": {
              "color": "#C8D4E3"
             },
             "line": {
              "color": "white"
             }
            },
            "type": "table"
           }
          ]
         },
         "layout": {
          "annotationdefaults": {
           "arrowcolor": "#2a3f5f",
           "arrowhead": 0,
           "arrowwidth": 1
          },
          "autotypenumbers": "strict",
          "coloraxis": {
           "colorbar": {
            "outlinewidth": 0,
            "ticks": ""
           }
          },
          "colorscale": {
           "diverging": [
            [
             0,
             "#8e0152"
            ],
            [
             0.1,
             "#c51b7d"
            ],
            [
             0.2,
             "#de77ae"
            ],
            [
             0.3,
             "#f1b6da"
            ],
            [
             0.4,
             "#fde0ef"
            ],
            [
             0.5,
             "#f7f7f7"
            ],
            [
             0.6,
             "#e6f5d0"
            ],
            [
             0.7,
             "#b8e186"
            ],
            [
             0.8,
             "#7fbc41"
            ],
            [
             0.9,
             "#4d9221"
            ],
            [
             1,
             "#276419"
            ]
           ],
           "sequential": [
            [
             0,
             "#0d0887"
            ],
            [
             0.1111111111111111,
             "#46039f"
            ],
            [
             0.2222222222222222,
             "#7201a8"
            ],
            [
             0.3333333333333333,
             "#9c179e"
            ],
            [
             0.4444444444444444,
             "#bd3786"
            ],
            [
             0.5555555555555556,
             "#d8576b"
            ],
            [
             0.6666666666666666,
             "#ed7953"
            ],
            [
             0.7777777777777778,
             "#fb9f3a"
            ],
            [
             0.8888888888888888,
             "#fdca26"
            ],
            [
             1,
             "#f0f921"
            ]
           ],
           "sequentialminus": [
            [
             0,
             "#0d0887"
            ],
            [
             0.1111111111111111,
             "#46039f"
            ],
            [
             0.2222222222222222,
             "#7201a8"
            ],
            [
             0.3333333333333333,
             "#9c179e"
            ],
            [
             0.4444444444444444,
             "#bd3786"
            ],
            [
             0.5555555555555556,
             "#d8576b"
            ],
            [
             0.6666666666666666,
             "#ed7953"
            ],
            [
             0.7777777777777778,
             "#fb9f3a"
            ],
            [
             0.8888888888888888,
             "#fdca26"
            ],
            [
             1,
             "#f0f921"
            ]
           ]
          },
          "colorway": [
           "#636efa",
           "#EF553B",
           "#00cc96",
           "#ab63fa",
           "#FFA15A",
           "#19d3f3",
           "#FF6692",
           "#B6E880",
           "#FF97FF",
           "#FECB52"
          ],
          "font": {
           "color": "#2a3f5f"
          },
          "geo": {
           "bgcolor": "white",
           "lakecolor": "white",
           "landcolor": "#E5ECF6",
           "showlakes": true,
           "showland": true,
           "subunitcolor": "white"
          },
          "hoverlabel": {
           "align": "left"
          },
          "hovermode": "closest",
          "mapbox": {
           "style": "light"
          },
          "paper_bgcolor": "white",
          "plot_bgcolor": "#E5ECF6",
          "polar": {
           "angularaxis": {
            "gridcolor": "white",
            "linecolor": "white",
            "ticks": ""
           },
           "bgcolor": "#E5ECF6",
           "radialaxis": {
            "gridcolor": "white",
            "linecolor": "white",
            "ticks": ""
           }
          },
          "scene": {
           "xaxis": {
            "backgroundcolor": "#E5ECF6",
            "gridcolor": "white",
            "gridwidth": 2,
            "linecolor": "white",
            "showbackground": true,
            "ticks": "",
            "zerolinecolor": "white"
           },
           "yaxis": {
            "backgroundcolor": "#E5ECF6",
            "gridcolor": "white",
            "gridwidth": 2,
            "linecolor": "white",
            "showbackground": true,
            "ticks": "",
            "zerolinecolor": "white"
           },
           "zaxis": {
            "backgroundcolor": "#E5ECF6",
            "gridcolor": "white",
            "gridwidth": 2,
            "linecolor": "white",
            "showbackground": true,
            "ticks": "",
            "zerolinecolor": "white"
           }
          },
          "shapedefaults": {
           "line": {
            "color": "#2a3f5f"
           }
          },
          "ternary": {
           "aaxis": {
            "gridcolor": "white",
            "linecolor": "white",
            "ticks": ""
           },
           "baxis": {
            "gridcolor": "white",
            "linecolor": "white",
            "ticks": ""
           },
           "bgcolor": "#E5ECF6",
           "caxis": {
            "gridcolor": "white",
            "linecolor": "white",
            "ticks": ""
           }
          },
          "title": {
           "x": 0.05
          },
          "xaxis": {
           "automargin": true,
           "gridcolor": "white",
           "linecolor": "white",
           "ticks": "",
           "title": {
            "standoff": 15
           },
           "zerolinecolor": "white",
           "zerolinewidth": 2
          },
          "yaxis": {
           "automargin": true,
           "gridcolor": "white",
           "linecolor": "white",
           "ticks": "",
           "title": {
            "standoff": 15
           },
           "zerolinecolor": "white",
           "zerolinewidth": 2
          }
         }
        },
        "title": {
         "font": {
          "color": "#1b2442",
          "size": 1
         },
         "text": "Days from peak"
        },
        "xaxis": {
         "anchor": "y",
         "domain": [
          0,
          1
         ],
         "gridcolor": "rgb(44, 53, 72)",
         "title": {
          "text": "Days from peak"
         },
         "zerolinecolor": "#e1e1e1"
        },
        "yaxis": {
         "anchor": "x",
         "domain": [
          0,
          1
         ],
         "gridcolor": "rgb(44, 53, 72)",
         "title": {
          "text": "Mentions"
         },
         "zerolinecolor": "#e1e1e1"
        }
       }
      },
      "text/html": [
       "<div>                            <div id=\"7e7b8caf-fa20-4646-bd8b-878cea606e0d\" class=\"plotly-graph-div\" style=\"height:525px; width:100%;\"></div>            <script type=\"text/javascript\">                require([\"plotly\"], function(Plotly) {                    window.PLOTLYENV=window.PLOTLYENV || {};                                    if (document.getElementById(\"7e7b8caf-fa20-4646-bd8b-878cea606e0d\")) {                    Plotly.newPlot(                        \"7e7b8caf-fa20-4646-bd8b-878cea606e0d\",                        [{\"hovertemplate\":\"Symbol=WKHS<br>Days from peak=%{x}<br>Mentions=%{y}<extra></extra>\",\"legendgroup\":\"WKHS\",\"line\":{\"color\":\"#636efa\",\"dash\":\"solid\"},\"mode\":\"lines\",\"name\":\"WKHS\",\"showlegend\":true,\"type\":\"scattergl\",\"x\":[27,26,25,24,23,22,21,20,19,18,17,16,15,14,13,12,11,10,9,8,7,6,5,4,3,2,1,0,-1,-2,-3,-4,-5,-6,-7,-8,-9,-10,-11,-12,-13,-14,-15,-16,-17,-18,-19,-20,-21,-22,-23,-24,-25,-26,-27,-28,-29,-30,-31,-32,-33,-34,-35,-36,-37,-38,-40,-41,-42,-43,-44,-46,-47,-48,-49,-50,-51,-52,-53,-54,-55,-56,-57,-58,-59,-60,-61,-62,-63,-64,-66,-67,-68,-69,-70,-71,-73,-74,-75,-76,-77,-78,-79,-81,-82,-83,-84,-85,-87,-88,-89,-90,-91,-92,-95,-96,-97,-98,-99,-100,-101,-102,-103,-104,-105,-106,-107,-108,-109,-110,-111,-112],\"xaxis\":\"x\",\"y\":[8,5,3,19,18,54,17,36,12,13,49,65,76,59,77,32,32,51,156,116,104,46,61,45,207,247,535,785,924,139,89,555,782,1026,320,306,133,159,409,534,950,599,894,317,253,1318,1544,2687,1367,594,194,143,588,1064,266,12,9,7,8,38,32,10,8,10,2,1,5,9,13,15,4,8,10,22,24,27,11,8,20,30,9,8,9,2,4,11,5,3,6,2,1,4,3,5,2,2,1,23,6,7,7,4,1,3,8,5,16,9,1,5,9,17,21,15,3,9,8,14,10,17,4,14,5,5,7,17,5,3,20,37,14,4],\"yaxis\":\"y\"},{\"hovertemplate\":\"Symbol=TSLA<br>Days from peak=%{x}<br>Mentions=%{y}<extra></extra>\",\"legendgroup\":\"TSLA\",\"line\":{\"color\":\"#EF553B\",\"dash\":\"solid\"},\"mode\":\"lines\",\"name\":\"TSLA\",\"showlegend\":true,\"type\":\"scattergl\",\"x\":[66,65,64,63,62,61,60,59,58,57,56,55,54,53,52,51,50,49,48,47,46,45,44,43,42,41,40,39,38,37,36,35,34,33,32,31,30,29,28,27,26,25,24,23,22,21,20,19,18,17,16,15,14,13,12,11,10,9,8,7,6,5,4,3,2,1,0,-1,-2,-3,-4,-5,-6,-7,-8,-9,-10,-11,-12,-13,-14,-15,-16,-17,-18,-19,-20,-21,-22,-23,-24,-25,-26,-27,-28,-29,-30,-31,-32,-33,-34,-35,-36,-37,-38,-39,-40,-41,-42,-43,-44,-45,-46,-47,-48,-49,-50,-51,-52,-53,-56,-57,-58,-59,-60,-61,-62,-63,-64,-65,-66,-67,-68,-69,-70,-71,-72,-73],\"xaxis\":\"x\",\"y\":[81,75,55,204,158,162,134,108,55,46,83,169,157,186,230,27,50,128,197,119,180,43,58,32,279,196,190,178,320,100,72,448,1124,491,115,225,102,100,231,247,235,170,201,124,66,263,224,224,233,218,63,59,294,455,203,136,102,37,35,197,297,253,310,482,158,70,534,455,496,715,875,203,88,492,744,476,478,380,147,58,258,299,206,218,290,65,81,450,374,273,370,627,133,106,191,233,279,296,383,138,77,293,604,864,845,400,93,83,244,327,341,349,960,139,129,269,789,481,529,258,466,385,406,357,613,207,177,326,395,394,384,336,119,139,491,663,812,338],\"yaxis\":\"y\"},{\"hovertemplate\":\"Symbol=GME<br>Days from peak=%{x}<br>Mentions=%{y}<extra></extra>\",\"legendgroup\":\"GME\",\"line\":{\"color\":\"#00cc96\",\"dash\":\"solid\"},\"mode\":\"lines\",\"name\":\"GME\",\"showlegend\":true,\"type\":\"scattergl\",\"x\":[138,137,136,135,134,133,132,131,130,129,128,127,126,125,124,123,122,121,120,119,118,117,116,115,114,113,112,111,110,109,108,107,106,105,104,103,102,101,100,99,98,97,96,95,94,93,92,91,90,89,88,87,86,85,84,83,82,81,80,79,78,77,76,75,74,73,72,71,70,69,68,67,66,65,64,63,62,61,60,59,58,57,56,55,54,53,52,51,50,49,48,47,46,45,44,43,42,41,40,39,38,37,36,35,34,33,32,31,30,29,28,27,26,25,24,23,22,21,20,19,16,15,14,13,12,11,10,9,8,7,6,5,4,3,2,1,0,-1],\"xaxis\":\"x\",\"y\":[94,115,122,187,236,294,369,386,226,154,354,735,661,359,423,102,136,272,497,805,763,383,416,202,426,586,532,594,663,614,199,612,553,766,1128,822,362,433,737,702,955,978,892,438,568,1538,3221,5016,4289,2276,1020,1018,2208,3648,3418,1350,427,523,811,2735,3694,3865,2628,759,331,392,669,544,860,1640,1502,243,399,1112,1486,981,1051,997,415,501,925,2108,1211,661,646,450,378,844,945,1033,1798,2093,374,473,944,850,862,893,2766,850,1357,4059,2576,3615,2848,3394,858,982,3018,2814,2252,2228,3191,591,658,901,3004,3058,4123,2670,5278,7182,8352,6901,4498,1690,1946,6163,6002,6077,7898,8376,3131,2444,7813,9197,15628,2181],\"yaxis\":\"y\"},{\"hovertemplate\":\"Symbol=CLNE<br>Days from peak=%{x}<br>Mentions=%{y}<extra></extra>\",\"legendgroup\":\"CLNE\",\"line\":{\"color\":\"#ab63fa\",\"dash\":\"solid\"},\"mode\":\"lines\",\"name\":\"CLNE\",\"showlegend\":true,\"type\":\"scattergl\",\"x\":[38,37,36,35,34,33,32,31,30,29,28,27,26,25,24,23,22,21,20,19,18,17,16,15,14,13,12,11,10,9,8,7,6,5,4,3,2,1,0,-1,-2,-3,-4,-5,-6,-7,-8,-9,-10,-11,-12,-13,-14,-15,-16,-17,-18,-19,-21,-22,-23,-24,-25,-26,-27,-28,-29,-30,-31,-32,-33,-34,-35,-36,-37,-38,-39,-40,-41,-42,-43,-44,-45,-46,-47,-48,-49,-50,-51,-52,-53,-54,-55,-56,-57,-58,-59,-60,-62,-63,-64,-65,-66,-67,-69,-70,-71,-73,-74,-77,-78,-79,-80,-81,-84,-85,-86,-87,-88,-89,-90,-91,-92,-93,-94,-95,-96,-97,-98,-99,-100,-101],\"xaxis\":\"x\",\"y\":[22,4,13,48,80,115,113,85,20,26,96,156,209,154,129,10,22,94,169,254,274,36,41,28,253,331,379,382,369,114,61,326,434,520,649,939,131,131,2497,1656,1264,2189,3032,864,499,1660,2912,5887,2913,2000,537,298,1532,1657,158,8,6,5,15,7,19,17,11,3,3,22,38,11,37,24,3,10,25,33,24,56,33,4,23,76,60,37,20,29,10,19,39,29,32,49,39,18,8,9,4,19,40,59,4,7,9,10,13,11,1,9,4,12,14,2,10,10,4,4,2,4,11,22,10,1,1,12,7,3,10,15,9,4,8,13,9,3],\"yaxis\":\"y\"},{\"hovertemplate\":\"Symbol=MVIS<br>Days from peak=%{x}<br>Mentions=%{y}<extra></extra>\",\"legendgroup\":\"MVIS\",\"line\":{\"color\":\"#FFA15A\",\"dash\":\"solid\"},\"mode\":\"lines\",\"name\":\"MVIS\",\"showlegend\":true,\"type\":\"scattergl\",\"x\":[87,86,85,84,83,82,81,80,79,78,77,76,75,74,73,72,71,70,69,68,67,66,65,64,63,62,61,60,59,58,57,56,55,54,53,52,51,50,49,48,47,46,45,44,43,42,41,40,39,38,37,36,35,34,33,32,31,30,29,28,27,26,25,24,23,22,21,20,19,18,17,16,15,14,13,12,11,10,9,8,7,6,5,4,3,2,1,0,-1,-2,-3,-4,-5,-6,-7,-8,-9,-10,-11,-12,-13,-14,-15,-16,-17,-18,-19,-20,-21,-22,-23,-24,-25,-26,-27,-28,-29,-30,-31,-32,-35,-36,-37,-38,-39,-40,-41,-42,-43,-44,-45,-46,-47,-48,-49,-50,-51,-52],\"xaxis\":\"x\",\"y\":[6,4,8,31,90,26,24,26,3,12,33,19,24,56,18,4,5,23,34,28,15,4,2,4,14,18,15,23,22,7,12,16,39,24,58,95,6,9,20,28,20,27,30,15,16,80,358,105,126,296,62,98,792,100,164,179,14,25,16,196,106,119,159,56,15,24,58,71,53,209,213,39,34,236,98,94,118,116,50,53,200,305,328,598,582,172,219,1532,2014,1911,3194,3491,363,447,1137,947,741,472,45,13,16,98,242,85,45,65,12,19,41,56,71,90,116,53,102,40,221,404,29,15,42,25,43,26,41,8,9,19,25,34,27,78,56,28,163,70,32,6],\"yaxis\":\"y\"},{\"hovertemplate\":\"Symbol=BB<br>Days from peak=%{x}<br>Mentions=%{y}<extra></extra>\",\"legendgroup\":\"BB\",\"line\":{\"color\":\"#19d3f3\",\"dash\":\"solid\"},\"mode\":\"lines\",\"name\":\"BB\",\"showlegend\":true,\"type\":\"scattergl\",\"x\":[49,48,47,46,45,44,43,42,41,40,39,38,37,36,35,34,33,32,31,30,29,28,27,26,25,24,23,22,21,20,19,18,17,16,15,14,13,12,11,10,9,8,7,6,5,4,3,2,1,0,-1,-2,-3,-4,-5,-6,-7,-8,-9,-10,-11,-12,-13,-14,-15,-16,-17,-18,-19,-20,-21,-22,-23,-24,-25,-26,-27,-28,-29,-30,-31,-32,-33,-34,-35,-36,-37,-38,-39,-40,-41,-42,-43,-44,-45,-46,-47,-48,-49,-50,-51,-52,-53,-54,-55,-56,-57,-58,-59,-60,-61,-62,-63,-64,-65,-66,-67,-68,-69,-70,-73,-74,-75,-76,-77,-78,-79,-80,-81,-82,-83,-84,-85,-86,-87,-88,-89,-90],\"xaxis\":\"x\",\"y\":[37,13,20,50,65,149,218,104,44,51,138,161,203,227,177,32,22,121,179,229,227,106,65,79,188,293,270,527,746,159,159,793,665,611,1078,1068,196,282,1151,1577,991,1026,1465,429,508,2336,3246,4696,5022,5747,1714,1786,9109,16809,9788,3421,793,473,497,2895,1767,789,128,36,12,22,44,50,71,141,64,25,30,158,143,97,76,56,31,39,129,111,83,59,53,24,32,72,109,105,182,143,48,29,87,97,164,159,137,80,72,128,160,133,143,155,41,22,174,268,324,178,215,69,46,83,260,640,606,188,119,169,164,160,142,41,51,116,141,162,304,452,103,175,693,201,565,99],\"yaxis\":\"y\"},{\"hovertemplate\":\"Symbol=CLOV<br>Days from peak=%{x}<br>Mentions=%{y}<extra></extra>\",\"legendgroup\":\"CLOV\",\"line\":{\"color\":\"#FF6692\",\"dash\":\"solid\"},\"mode\":\"lines\",\"name\":\"CLOV\",\"showlegend\":true,\"type\":\"scattergl\",\"x\":[43,42,41,40,39,38,37,36,35,34,33,32,31,30,29,28,27,26,25,24,23,22,21,20,19,18,17,16,15,14,13,12,11,10,9,8,7,6,5,4,3,2,1,0,-1,-2,-3,-4,-5,-6,-7,-8,-9,-10,-11,-12,-13,-14,-15,-16,-17,-18,-19,-20,-21,-22,-23,-24,-25,-26,-27,-28,-29,-30,-31,-32,-33,-34,-35,-36,-37,-38,-39,-40,-41,-42,-43,-44,-45,-46,-47,-48,-49,-50,-51,-52,-53,-54,-55,-56,-57,-58,-59,-60,-61,-62,-63,-64,-65,-66,-67,-68,-72,-73,-74,-75,-76,-79,-80,-81,-82,-83,-84,-86,-87,-88,-89,-90,-91,-92,-93,-94,-95,-96],\"xaxis\":\"x\",\"y\":[76,76,64,318,716,712,246,216,82,71,207,266,388,590,706,111,92,293,420,722,829,199,113,109,533,669,804,1261,760,331,216,793,1365,1536,1501,624,227,139,467,534,912,1193,1608,562,488,2521,3200,7208,7441,2584,354,131,498,1129,742,59,35,41,44,183,243,99,46,66,23,8,78,124,41,162,529,87,57,160,87,148,98,115,93,67,146,209,224,206,430,218,86,444,1022,683,132,150,40,54,141,89,251,470,944,239,208,860,10,4,4,6,1,3,21,89,1,5,2,2,4,2,2,1,4,7,2,1,3,6,3,6,8,7,7,2,2,9,6,1],\"yaxis\":\"y\"},{\"hovertemplate\":\"Symbol=PLTR<br>Days from peak=%{x}<br>Mentions=%{y}<extra></extra>\",\"legendgroup\":\"PLTR\",\"line\":{\"color\":\"#B6E880\",\"dash\":\"solid\"},\"mode\":\"lines\",\"name\":\"PLTR\",\"showlegend\":true,\"type\":\"scattergl\",\"x\":[75,74,73,72,71,70,69,68,67,66,65,64,63,62,61,60,59,58,57,56,55,54,53,52,51,50,49,48,47,46,45,44,43,42,41,40,39,38,37,36,35,34,33,32,31,30,29,28,27,26,25,24,23,22,21,20,19,18,17,16,15,14,13,12,11,10,9,8,7,6,5,4,3,2,1,0,-1,-2,-3,-4,-5,-6,-7,-8,-9,-10,-11,-12,-13,-14,-15,-16,-17,-18,-19,-20,-21,-22,-23,-24,-25,-26,-27,-28,-29,-30,-31,-32,-33,-34,-35,-36,-37,-38,-39,-40,-41,-42,-43,-44,-47,-48,-49,-50,-51,-52,-53,-54,-55,-56,-57,-58,-59,-60,-61,-62,-63,-64],\"xaxis\":\"x\",\"y\":[24,16,33,95,45,51,72,111,31,26,78,122,187,130,112,8,27,111,209,291,117,89,28,24,203,363,164,257,494,123,78,328,340,385,133,212,68,70,353,454,237,385,449,59,80,194,199,228,300,205,53,63,273,330,461,205,60,102,72,618,323,248,250,256,60,44,272,320,189,527,323,131,101,566,535,850,1907,1270,266,315,849,1070,509,432,324,97,104,182,303,189,251,257,103,76,273,334,334,403,419,105,135,569,835,1306,1139,869,221,158,540,507,415,439,661,158,141,177,592,711,954,741,437,561,815,679,557,178,134,325,551,574,568,531,163,206,639,894,660,148],\"yaxis\":\"y\"},{\"hovertemplate\":\"Symbol=WISH<br>Days from peak=%{x}<br>Mentions=%{y}<extra></extra>\",\"legendgroup\":\"WISH\",\"line\":{\"color\":\"#FF97FF\",\"dash\":\"solid\"},\"mode\":\"lines\",\"name\":\"WISH\",\"showlegend\":true,\"type\":\"scattergl\",\"x\":[30,29,28,27,26,25,24,23,22,21,20,19,18,17,16,15,14,13,12,11,10,9,8,7,6,5,4,3,2,1,0,-1,-2,-3,-4,-5,-6,-7,-8,-9,-10,-11,-12,-13,-14,-15,-16,-17,-18,-19,-20,-21,-22,-23,-24,-25,-26,-27,-28,-29,-30,-31,-32,-33,-34,-36,-37,-38,-39,-40,-41,-43,-44,-45,-46,-47,-48,-49,-50,-51,-52,-53,-54,-55,-56,-57,-58,-59,-60,-61,-62,-64,-65,-66,-67,-68,-69,-70,-71,-72,-73,-74,-75,-76,-77,-78,-79,-80,-81,-82,-83,-85,-86,-87,-88,-89,-92,-93,-94,-95,-96,-97,-98,-99,-100,-101,-102,-103,-104,-105,-106,-107,-108,-109],\"xaxis\":\"x\",\"y\":[45,39,28,148,121,141,158,162,36,69,234,253,291,200,208,66,38,203,365,307,342,118,55,73,462,657,596,722,929,273,198,833,1307,1375,2129,3000,220,242,895,953,1013,1689,2163,474,440,1564,2800,6765,4653,45,3,6,11,27,52,22,23,15,12,54,27,35,33,5,1,2,3,5,8,7,2,46,51,10,7,9,7,3,4,4,5,2,3,2,4,2,8,22,40,3,2,1,2,2,6,1,1,1,12,6,2,1,4,1,1,7,11,6,4,2,1,6,4,1,5,4,3,9,9,3,5,2,3,2,9,3,5,5,3,2,8,21,29,3],\"yaxis\":\"y\"},{\"hovertemplate\":\"Symbol=AMC<br>Days from peak=%{x}<br>Mentions=%{y}<extra></extra>\",\"legendgroup\":\"AMC\",\"line\":{\"color\":\"#FECB52\",\"dash\":\"solid\"},\"mode\":\"lines\",\"name\":\"AMC\",\"showlegend\":true,\"type\":\"scattergl\",\"x\":[54,53,52,51,50,49,48,47,46,45,44,43,42,41,40,39,38,37,36,35,34,33,32,31,30,29,28,27,26,25,24,23,22,21,20,19,18,17,16,15,14,13,12,11,10,9,8,7,6,5,4,3,2,1,0,-1,-2,-3,-4,-5,-6,-7,-8,-9,-10,-11,-12,-13,-14,-15,-16,-17,-18,-19,-20,-21,-22,-23,-24,-25,-26,-27,-28,-29,-30,-31,-32,-33,-34,-35,-36,-37,-38,-39,-40,-41,-42,-43,-44,-45,-46,-47,-48,-49,-50,-51,-52,-53,-54,-55,-56,-57,-58,-59,-60,-61,-62,-63,-64,-65,-68,-69,-70,-71,-72,-73,-74,-75,-76,-77,-78,-79,-80,-81,-82,-83,-84,-85],\"xaxis\":\"x\",\"y\":[97,113,129,240,337,496,516,372,169,151,391,869,841,567,397,142,124,287,729,729,567,281,289,170,613,587,504,681,759,368,200,657,684,832,1149,1127,460,611,1564,2168,1567,2149,2283,696,837,2518,3698,4677,3527,3443,1610,1918,6647,12482,10347,3986,1151,1111,1687,8617,8508,3428,1607,664,151,158,414,560,783,1750,1355,216,280,1991,2474,513,561,401,143,213,399,684,356,167,171,115,92,191,247,552,454,448,109,107,204,218,184,127,202,109,95,372,485,267,348,452,198,99,308,296,295,304,743,248,188,377,795,382,454,317,726,1177,1072,1120,1354,701,785,1187,1224,1071,1940,3722,543,586,1265,1394,3780,639],\"yaxis\":\"y\"}],                        {\"annotations\":[{\"align\":\"right\",\"height\":40,\"showarrow\":false,\"text\":\"<a style=\\\"color: rgb(100, 130, 180);\\\" href=\\\"https://beneath.dev/\\\">beneath.dev</a>\",\"x\":1.0,\"xanchor\":\"right\",\"xref\":\"paper\",\"y\":1.0,\"yanchor\":\"bottom\",\"yref\":\"paper\",\"yshift\":13},{\"align\":\"left\",\"font\":{\"size\":12},\"height\":16,\"showarrow\":false,\"text\":\"...\",\"x\":0.0,\"xanchor\":\"left\",\"xref\":\"paper\",\"y\":1.0,\"yanchor\":\"bottom\",\"yref\":\"paper\",\"yshift\":13},{\"align\":\"left\",\"font\":{\"size\":18},\"height\":24,\"showarrow\":false,\"text\":\"<b>Days from peak</b>\",\"x\":0.0,\"xanchor\":\"left\",\"xref\":\"paper\",\"y\":1.0,\"yanchor\":\"bottom\",\"yref\":\"paper\",\"yshift\":29}],\"colorway\":[\"rgb(60, 170, 255)\",\"rgb(255, 60, 130)\",\"rgb(100, 200, 100)\",\"rgb(200, 220, 240)\",\"rgb(251, 241, 67)\",\"rgb(203, 60, 255)\",\"rgb(249, 148, 66)\",\"rgb(36, 130, 36)\",\"rgb(238, 255, 234)\"],\"dragmode\":\"select\",\"font\":{\"color\":\"#e1e1e1\",\"family\":\"SFMono-Regular,Menlo,Monaco,Consolas,Liberation Mono,Courier,monospace\"},\"legend\":{\"orientation\":\"h\",\"title\":{\"text\":\"Symbol\"},\"tracegroupgap\":0,\"x\":0,\"y\":-0.1,\"yanchor\":\"top\"},\"margin\":{\"autoexpand\":true,\"b\":30,\"l\":35,\"r\":20,\"t\":68},\"paper_bgcolor\":\"#1b2442\",\"plot_bgcolor\":\"#1b2442\",\"template\":{\"data\":{\"bar\":[{\"error_x\":{\"color\":\"#2a3f5f\"},\"error_y\":{\"color\":\"#2a3f5f\"},\"marker\":{\"line\":{\"color\":\"#E5ECF6\",\"width\":0.5},\"pattern\":{\"fillmode\":\"overlay\",\"size\":10,\"solidity\":0.2}},\"type\":\"bar\"}],\"barpolar\":[{\"marker\":{\"line\":{\"color\":\"#E5ECF6\",\"width\":0.5},\"pattern\":{\"fillmode\":\"overlay\",\"size\":10,\"solidity\":0.2}},\"type\":\"barpolar\"}],\"carpet\":[{\"aaxis\":{\"endlinecolor\":\"#2a3f5f\",\"gridcolor\":\"white\",\"linecolor\":\"white\",\"minorgridcolor\":\"white\",\"startlinecolor\":\"#2a3f5f\"},\"baxis\":{\"endlinecolor\":\"#2a3f5f\",\"gridcolor\":\"white\",\"linecolor\":\"white\",\"minorgridcolor\":\"white\",\"startlinecolor\":\"#2a3f5f\"},\"type\":\"carpet\"}],\"choropleth\":[{\"colorbar\":{\"outlinewidth\":0,\"ticks\":\"\"},\"type\":\"choropleth\"}],\"contour\":[{\"colorbar\":{\"outlinewidth\":0,\"ticks\":\"\"},\"colorscale\":[[0.0,\"#0d0887\"],[0.1111111111111111,\"#46039f\"],[0.2222222222222222,\"#7201a8\"],[0.3333333333333333,\"#9c179e\"],[0.4444444444444444,\"#bd3786\"],[0.5555555555555556,\"#d8576b\"],[0.6666666666666666,\"#ed7953\"],[0.7777777777777778,\"#fb9f3a\"],[0.8888888888888888,\"#fdca26\"],[1.0,\"#f0f921\"]],\"type\":\"contour\"}],\"contourcarpet\":[{\"colorbar\":{\"outlinewidth\":0,\"ticks\":\"\"},\"type\":\"contourcarpet\"}],\"heatmap\":[{\"colorbar\":{\"outlinewidth\":0,\"ticks\":\"\"},\"colorscale\":[[0.0,\"#0d0887\"],[0.1111111111111111,\"#46039f\"],[0.2222222222222222,\"#7201a8\"],[0.3333333333333333,\"#9c179e\"],[0.4444444444444444,\"#bd3786\"],[0.5555555555555556,\"#d8576b\"],[0.6666666666666666,\"#ed7953\"],[0.7777777777777778,\"#fb9f3a\"],[0.8888888888888888,\"#fdca26\"],[1.0,\"#f0f921\"]],\"type\":\"heatmap\"}],\"heatmapgl\":[{\"colorbar\":{\"outlinewidth\":0,\"ticks\":\"\"},\"colorscale\":[[0.0,\"#0d0887\"],[0.1111111111111111,\"#46039f\"],[0.2222222222222222,\"#7201a8\"],[0.3333333333333333,\"#9c179e\"],[0.4444444444444444,\"#bd3786\"],[0.5555555555555556,\"#d8576b\"],[0.6666666666666666,\"#ed7953\"],[0.7777777777777778,\"#fb9f3a\"],[0.8888888888888888,\"#fdca26\"],[1.0,\"#f0f921\"]],\"type\":\"heatmapgl\"}],\"histogram\":[{\"marker\":{\"pattern\":{\"fillmode\":\"overlay\",\"size\":10,\"solidity\":0.2}},\"type\":\"histogram\"}],\"histogram2d\":[{\"colorbar\":{\"outlinewidth\":0,\"ticks\":\"\"},\"colorscale\":[[0.0,\"#0d0887\"],[0.1111111111111111,\"#46039f\"],[0.2222222222222222,\"#7201a8\"],[0.3333333333333333,\"#9c179e\"],[0.4444444444444444,\"#bd3786\"],[0.5555555555555556,\"#d8576b\"],[0.6666666666666666,\"#ed7953\"],[0.7777777777777778,\"#fb9f3a\"],[0.8888888888888888,\"#fdca26\"],[1.0,\"#f0f921\"]],\"type\":\"histogram2d\"}],\"histogram2dcontour\":[{\"colorbar\":{\"outlinewidth\":0,\"ticks\":\"\"},\"colorscale\":[[0.0,\"#0d0887\"],[0.1111111111111111,\"#46039f\"],[0.2222222222222222,\"#7201a8\"],[0.3333333333333333,\"#9c179e\"],[0.4444444444444444,\"#bd3786\"],[0.5555555555555556,\"#d8576b\"],[0.6666666666666666,\"#ed7953\"],[0.7777777777777778,\"#fb9f3a\"],[0.8888888888888888,\"#fdca26\"],[1.0,\"#f0f921\"]],\"type\":\"histogram2dcontour\"}],\"mesh3d\":[{\"colorbar\":{\"outlinewidth\":0,\"ticks\":\"\"},\"type\":\"mesh3d\"}],\"parcoords\":[{\"line\":{\"colorbar\":{\"outlinewidth\":0,\"ticks\":\"\"}},\"type\":\"parcoords\"}],\"pie\":[{\"automargin\":true,\"type\":\"pie\"}],\"scatter\":[{\"marker\":{\"colorbar\":{\"outlinewidth\":0,\"ticks\":\"\"}},\"type\":\"scatter\"}],\"scatter3d\":[{\"line\":{\"colorbar\":{\"outlinewidth\":0,\"ticks\":\"\"}},\"marker\":{\"colorbar\":{\"outlinewidth\":0,\"ticks\":\"\"}},\"type\":\"scatter3d\"}],\"scattercarpet\":[{\"marker\":{\"colorbar\":{\"outlinewidth\":0,\"ticks\":\"\"}},\"type\":\"scattercarpet\"}],\"scattergeo\":[{\"marker\":{\"colorbar\":{\"outlinewidth\":0,\"ticks\":\"\"}},\"type\":\"scattergeo\"}],\"scattergl\":[{\"marker\":{\"colorbar\":{\"outlinewidth\":0,\"ticks\":\"\"}},\"type\":\"scattergl\"}],\"scattermapbox\":[{\"marker\":{\"colorbar\":{\"outlinewidth\":0,\"ticks\":\"\"}},\"type\":\"scattermapbox\"}],\"scatterpolar\":[{\"marker\":{\"colorbar\":{\"outlinewidth\":0,\"ticks\":\"\"}},\"type\":\"scatterpolar\"}],\"scatterpolargl\":[{\"marker\":{\"colorbar\":{\"outlinewidth\":0,\"ticks\":\"\"}},\"type\":\"scatterpolargl\"}],\"scatterternary\":[{\"marker\":{\"colorbar\":{\"outlinewidth\":0,\"ticks\":\"\"}},\"type\":\"scatterternary\"}],\"surface\":[{\"colorbar\":{\"outlinewidth\":0,\"ticks\":\"\"},\"colorscale\":[[0.0,\"#0d0887\"],[0.1111111111111111,\"#46039f\"],[0.2222222222222222,\"#7201a8\"],[0.3333333333333333,\"#9c179e\"],[0.4444444444444444,\"#bd3786\"],[0.5555555555555556,\"#d8576b\"],[0.6666666666666666,\"#ed7953\"],[0.7777777777777778,\"#fb9f3a\"],[0.8888888888888888,\"#fdca26\"],[1.0,\"#f0f921\"]],\"type\":\"surface\"}],\"table\":[{\"cells\":{\"fill\":{\"color\":\"#EBF0F8\"},\"line\":{\"color\":\"white\"}},\"header\":{\"fill\":{\"color\":\"#C8D4E3\"},\"line\":{\"color\":\"white\"}},\"type\":\"table\"}]},\"layout\":{\"annotationdefaults\":{\"arrowcolor\":\"#2a3f5f\",\"arrowhead\":0,\"arrowwidth\":1},\"autotypenumbers\":\"strict\",\"coloraxis\":{\"colorbar\":{\"outlinewidth\":0,\"ticks\":\"\"}},\"colorscale\":{\"diverging\":[[0,\"#8e0152\"],[0.1,\"#c51b7d\"],[0.2,\"#de77ae\"],[0.3,\"#f1b6da\"],[0.4,\"#fde0ef\"],[0.5,\"#f7f7f7\"],[0.6,\"#e6f5d0\"],[0.7,\"#b8e186\"],[0.8,\"#7fbc41\"],[0.9,\"#4d9221\"],[1,\"#276419\"]],\"sequential\":[[0.0,\"#0d0887\"],[0.1111111111111111,\"#46039f\"],[0.2222222222222222,\"#7201a8\"],[0.3333333333333333,\"#9c179e\"],[0.4444444444444444,\"#bd3786\"],[0.5555555555555556,\"#d8576b\"],[0.6666666666666666,\"#ed7953\"],[0.7777777777777778,\"#fb9f3a\"],[0.8888888888888888,\"#fdca26\"],[1.0,\"#f0f921\"]],\"sequentialminus\":[[0.0,\"#0d0887\"],[0.1111111111111111,\"#46039f\"],[0.2222222222222222,\"#7201a8\"],[0.3333333333333333,\"#9c179e\"],[0.4444444444444444,\"#bd3786\"],[0.5555555555555556,\"#d8576b\"],[0.6666666666666666,\"#ed7953\"],[0.7777777777777778,\"#fb9f3a\"],[0.8888888888888888,\"#fdca26\"],[1.0,\"#f0f921\"]]},\"colorway\":[\"#636efa\",\"#EF553B\",\"#00cc96\",\"#ab63fa\",\"#FFA15A\",\"#19d3f3\",\"#FF6692\",\"#B6E880\",\"#FF97FF\",\"#FECB52\"],\"font\":{\"color\":\"#2a3f5f\"},\"geo\":{\"bgcolor\":\"white\",\"lakecolor\":\"white\",\"landcolor\":\"#E5ECF6\",\"showlakes\":true,\"showland\":true,\"subunitcolor\":\"white\"},\"hoverlabel\":{\"align\":\"left\"},\"hovermode\":\"closest\",\"mapbox\":{\"style\":\"light\"},\"paper_bgcolor\":\"white\",\"plot_bgcolor\":\"#E5ECF6\",\"polar\":{\"angularaxis\":{\"gridcolor\":\"white\",\"linecolor\":\"white\",\"ticks\":\"\"},\"bgcolor\":\"#E5ECF6\",\"radialaxis\":{\"gridcolor\":\"white\",\"linecolor\":\"white\",\"ticks\":\"\"}},\"scene\":{\"xaxis\":{\"backgroundcolor\":\"#E5ECF6\",\"gridcolor\":\"white\",\"gridwidth\":2,\"linecolor\":\"white\",\"showbackground\":true,\"ticks\":\"\",\"zerolinecolor\":\"white\"},\"yaxis\":{\"backgroundcolor\":\"#E5ECF6\",\"gridcolor\":\"white\",\"gridwidth\":2,\"linecolor\":\"white\",\"showbackground\":true,\"ticks\":\"\",\"zerolinecolor\":\"white\"},\"zaxis\":{\"backgroundcolor\":\"#E5ECF6\",\"gridcolor\":\"white\",\"gridwidth\":2,\"linecolor\":\"white\",\"showbackground\":true,\"ticks\":\"\",\"zerolinecolor\":\"white\"}},\"shapedefaults\":{\"line\":{\"color\":\"#2a3f5f\"}},\"ternary\":{\"aaxis\":{\"gridcolor\":\"white\",\"linecolor\":\"white\",\"ticks\":\"\"},\"baxis\":{\"gridcolor\":\"white\",\"linecolor\":\"white\",\"ticks\":\"\"},\"bgcolor\":\"#E5ECF6\",\"caxis\":{\"gridcolor\":\"white\",\"linecolor\":\"white\",\"ticks\":\"\"}},\"title\":{\"x\":0.05},\"xaxis\":{\"automargin\":true,\"gridcolor\":\"white\",\"linecolor\":\"white\",\"ticks\":\"\",\"title\":{\"standoff\":15},\"zerolinecolor\":\"white\",\"zerolinewidth\":2},\"yaxis\":{\"automargin\":true,\"gridcolor\":\"white\",\"linecolor\":\"white\",\"ticks\":\"\",\"title\":{\"standoff\":15},\"zerolinecolor\":\"white\",\"zerolinewidth\":2}}},\"title\":{\"font\":{\"color\":\"#1b2442\",\"size\":1},\"text\":\"Days from peak\"},\"xaxis\":{\"anchor\":\"y\",\"domain\":[0.0,1.0],\"gridcolor\":\"rgb(44, 53, 72)\",\"title\":{\"text\":\"Days from peak\"},\"zerolinecolor\":\"#e1e1e1\"},\"yaxis\":{\"anchor\":\"x\",\"domain\":[0.0,1.0],\"gridcolor\":\"rgb(44, 53, 72)\",\"title\":{\"text\":\"Mentions\"},\"zerolinecolor\":\"#e1e1e1\"}},                        {\"responsive\": true}                    ).then(function(){\n",
       "                            \n",
       "var gd = document.getElementById('7e7b8caf-fa20-4646-bd8b-878cea606e0d');\n",
       "var x = new MutationObserver(function (mutations, observer) {{\n",
       "        var display = window.getComputedStyle(gd).display;\n",
       "        if (!display || display === 'none') {{\n",
       "            console.log([gd, 'removed!']);\n",
       "            Plotly.purge(gd);\n",
       "            observer.disconnect();\n",
       "        }}\n",
       "}});\n",
       "\n",
       "// Listen for the removal of the full notebook cells\n",
       "var notebookContainer = gd.closest('#notebook-container');\n",
       "if (notebookContainer) {{\n",
       "    x.observe(notebookContainer, {childList: true});\n",
       "}}\n",
       "\n",
       "// Listen for the clearing of the current output cell\n",
       "var outputEl = gd.closest('.output');\n",
       "if (outputEl) {{\n",
       "    x.observe(outputEl, {childList: true});\n",
       "}}\n",
       "\n",
       "                        })                };                });            </script>        </div>"
      ]
     },
     "metadata": {},
     "output_type": "display_data"
    }
   ],
   "source": [
    "fig = px.line(tmp2[tmp2['symbol'].isin(top_symbols_alltime[0:10])].sort_values('day', ascending=False), \n",
    "              x=\"days_from_peak\", \n",
    "              y=\"num_mentions_stock\",\n",
    "              line_group=\"symbol\",\n",
    "              color=\"symbol\",\n",
    "              labels={'days_from_peak': 'Days from peak', 'num_mentions_stock': 'Mentions', 'symbol': 'Symbol'},\n",
    "             )\n",
    "fig.update_layout(\n",
    "    make_layout(\n",
    "        title=\"Days from peak\",\n",
    "        subtitle=\"...\",\n",
    "        source_hidden=False,\n",
    "        legend=True,\n",
    "        override={},\n",
    "    )\n",
    ")\n",
    "fig.show()"
   ]
  },
  {
   "cell_type": "markdown",
   "id": "fc312b40",
   "metadata": {},
   "source": [
    "## Interesting discussions"
   ]
  },
  {
   "cell_type": "code",
   "execution_count": 2,
   "id": "63644297",
   "metadata": {},
   "outputs": [],
   "source": [
    "pd.set_option('max_colwidth', 100)"
   ]
  },
  {
   "cell_type": "code",
   "execution_count": 12,
   "id": "4c5106ec",
   "metadata": {},
   "outputs": [],
   "source": [
    "posts = await beneath.query_warehouse(\"\"\"\n",
    "with\n",
    "    posts as (\n",
    "        select \n",
    "            created_on, \n",
    "            id, \n",
    "            author, \n",
    "            title, \n",
    "            text, \n",
    "            flair, \n",
    "            permalink,\n",
    "            length(text) as post_length,\n",
    "            array_length(regexp_extract_all(title, r\"\\\\x{1F680}\")) + array_length(regexp_extract_all(text, r\"\\\\x{1F680}\")) as num_rockets,\n",
    "            array_length(regexp_extract_all(title, r\"\\\\x{1F48E}\")) + array_length(regexp_extract_all(text, r\"\\\\x{1F48E}\")) as num_diamonds,\n",
    "        from `examples/reddit/r-wallstreetbets-posts`\n",
    "        where timestamp_trunc(created_on, month) = \"2021-07-01\"\n",
    "    ),\n",
    "    comments as (\n",
    "        select \n",
    "            created_on, \n",
    "            id, \n",
    "            post_id, \n",
    "            author, \n",
    "            text,\n",
    "            length(text) as comment_length,\n",
    "            array_length(regexp_extract_all(c.text, r\"\\\\x{1F680}\")) as num_rockets,\n",
    "            array_length(regexp_extract_all(c.text, r\"\\\\x{1F48E}\")) as num_diamonds,\n",
    "        from `examples/reddit/r-wallstreetbets-comments` c\n",
    "        where timestamp_trunc(created_on, month) = \"2021-07-01\"\n",
    "    )\n",
    "select \n",
    "    p.created_on, \n",
    "    p.title, \n",
    "    p.text, \n",
    "    p.author, \n",
    "    p.flair, \n",
    "    p.permalink,\n",
    "    p.post_length,\n",
    "    count(c.id) as num_comments,\n",
    "    sum(c.comment_length) as sum_comments_length, \n",
    "    sum(c.comment_length)/count(c.id) as avg_comment_length,\n",
    "    p.num_rockets + sum(c.num_rockets) as num_rockets,\n",
    "    p.num_diamonds + sum(c.num_diamonds) as num_diamonds,\n",
    "    count(distinct c.author) as nunique_commenters,\n",
    "from posts p\n",
    "join comments c on p.id = c.post_id\n",
    "group by p.created_on, p.title, p.text, p.author, p.flair, p.permalink, p.post_length, p.num_rockets, p.num_diamonds\n",
    "\"\"\")"
   ]
  },
  {
   "cell_type": "markdown",
   "id": "ce0bb825",
   "metadata": {},
   "source": [
    "Exclude moderators"
   ]
  },
  {
   "cell_type": "code",
   "execution_count": 15,
   "id": "81d12354",
   "metadata": {},
   "outputs": [],
   "source": [
    "posts_no_mods = posts.loc[[author not in MODERATORS for author in posts['author']]]"
   ]
  },
  {
   "cell_type": "markdown",
   "id": "7db63fbc",
   "metadata": {},
   "source": [
    "Post with most comments"
   ]
  },
  {
   "cell_type": "code",
   "execution_count": 16,
   "id": "9f541390",
   "metadata": {},
   "outputs": [
    {
     "data": {
      "text/html": [
       "<div>\n",
       "<style scoped>\n",
       "    .dataframe tbody tr th:only-of-type {\n",
       "        vertical-align: middle;\n",
       "    }\n",
       "\n",
       "    .dataframe tbody tr th {\n",
       "        vertical-align: top;\n",
       "    }\n",
       "\n",
       "    .dataframe thead th {\n",
       "        text-align: right;\n",
       "    }\n",
       "</style>\n",
       "<table border=\"1\" class=\"dataframe\">\n",
       "  <thead>\n",
       "    <tr style=\"text-align: right;\">\n",
       "      <th></th>\n",
       "      <th>created_on</th>\n",
       "      <th>title</th>\n",
       "      <th>text</th>\n",
       "      <th>author</th>\n",
       "      <th>flair</th>\n",
       "      <th>permalink</th>\n",
       "      <th>post_length</th>\n",
       "      <th>num_comments</th>\n",
       "      <th>sum_comments_length</th>\n",
       "      <th>avg_comment_length</th>\n",
       "      <th>num_rockets</th>\n",
       "      <th>num_diamonds</th>\n",
       "      <th>nunique_commenters</th>\n",
       "      <th>@meta.timestamp</th>\n",
       "    </tr>\n",
       "  </thead>\n",
       "  <tbody>\n",
       "    <tr>\n",
       "      <th>6713</th>\n",
       "      <td>2021-07-16 21:29:47+00:00</td>\n",
       "      <td>Zillow is aiming to kill real estate agents</td>\n",
       "      <td>Six fucking percent for a week of work.  That's what realtors want in this market.  3% for the b...</td>\n",
       "      <td>zer0sumgames</td>\n",
       "      <td>Discussion</td>\n",
       "      <td>/r/wallstreetbets/comments/olqhjh/zillow_is_aiming_to_kill_real_estate_agents/</td>\n",
       "      <td>2229</td>\n",
       "      <td>4345</td>\n",
       "      <td>1010619</td>\n",
       "      <td>232.593556</td>\n",
       "      <td>8</td>\n",
       "      <td>0</td>\n",
       "      <td>2903</td>\n",
       "      <td>2021-07-23 13:57:35.735000+00:00</td>\n",
       "    </tr>\n",
       "    <tr>\n",
       "      <th>823</th>\n",
       "      <td>2021-07-09 16:01:26+00:00</td>\n",
       "      <td>$90 &gt; $24,000 in one day.</td>\n",
       "      <td></td>\n",
       "      <td>kado63</td>\n",
       "      <td>Gain</td>\n",
       "      <td>/r/wallstreetbets/comments/ogym6z/90_24000_in_one_day/</td>\n",
       "      <td>0</td>\n",
       "      <td>3670</td>\n",
       "      <td>279444</td>\n",
       "      <td>76.142779</td>\n",
       "      <td>16</td>\n",
       "      <td>2</td>\n",
       "      <td>2785</td>\n",
       "      <td>2021-07-23 13:57:30.323000+00:00</td>\n",
       "    </tr>\n",
       "    <tr>\n",
       "      <th>5063</th>\n",
       "      <td>2021-07-04 17:03:18+00:00</td>\n",
       "      <td>If the DD involves a “short squeeze”… ignore it. Stop. Get help. Learn to use your brain.</td>\n",
       "      <td>I’m just an autist that wants to help my fellow dudes make money. Have I been guilty of this in ...</td>\n",
       "      <td>iyioi</td>\n",
       "      <td>Discussion</td>\n",
       "      <td>/r/wallstreetbets/comments/odoir9/if_the_dd_involves_a_short_squeeze_ignore_it_stop/</td>\n",
       "      <td>2191</td>\n",
       "      <td>2409</td>\n",
       "      <td>317987</td>\n",
       "      <td>131.999585</td>\n",
       "      <td>59</td>\n",
       "      <td>17</td>\n",
       "      <td>1475</td>\n",
       "      <td>2021-07-23 13:57:34.593000+00:00</td>\n",
       "    </tr>\n",
       "  </tbody>\n",
       "</table>\n",
       "</div>"
      ],
      "text/plain": [
       "                    created_on  \\\n",
       "6713 2021-07-16 21:29:47+00:00   \n",
       "823  2021-07-09 16:01:26+00:00   \n",
       "5063 2021-07-04 17:03:18+00:00   \n",
       "\n",
       "                                                                                          title  \\\n",
       "6713                                                Zillow is aiming to kill real estate agents   \n",
       "823                                                                   $90 > $24,000 in one day.   \n",
       "5063  If the DD involves a “short squeeze”… ignore it. Stop. Get help. Learn to use your brain.   \n",
       "\n",
       "                                                                                                     text  \\\n",
       "6713  Six fucking percent for a week of work.  That's what realtors want in this market.  3% for the b...   \n",
       "823                                                                                                         \n",
       "5063  I’m just an autist that wants to help my fellow dudes make money. Have I been guilty of this in ...   \n",
       "\n",
       "            author       flair  \\\n",
       "6713  zer0sumgames  Discussion   \n",
       "823         kado63        Gain   \n",
       "5063         iyioi  Discussion   \n",
       "\n",
       "                                                                                 permalink  \\\n",
       "6713        /r/wallstreetbets/comments/olqhjh/zillow_is_aiming_to_kill_real_estate_agents/   \n",
       "823                                 /r/wallstreetbets/comments/ogym6z/90_24000_in_one_day/   \n",
       "5063  /r/wallstreetbets/comments/odoir9/if_the_dd_involves_a_short_squeeze_ignore_it_stop/   \n",
       "\n",
       "      post_length  num_comments  sum_comments_length  avg_comment_length  \\\n",
       "6713         2229          4345              1010619          232.593556   \n",
       "823             0          3670               279444           76.142779   \n",
       "5063         2191          2409               317987          131.999585   \n",
       "\n",
       "      num_rockets  num_diamonds  nunique_commenters  \\\n",
       "6713            8             0                2903   \n",
       "823            16             2                2785   \n",
       "5063           59            17                1475   \n",
       "\n",
       "                      @meta.timestamp  \n",
       "6713 2021-07-23 13:57:35.735000+00:00  \n",
       "823  2021-07-23 13:57:30.323000+00:00  \n",
       "5063 2021-07-23 13:57:34.593000+00:00  "
      ]
     },
     "execution_count": 16,
     "metadata": {},
     "output_type": "execute_result"
    }
   ],
   "source": [
    "posts_no_mods.sort_values('num_comments', ascending=False).head(3)"
   ]
  },
  {
   "cell_type": "markdown",
   "id": "9a14f1fe",
   "metadata": {},
   "source": [
    "Longest discussion"
   ]
  },
  {
   "cell_type": "code",
   "execution_count": 17,
   "id": "de673c53",
   "metadata": {},
   "outputs": [
    {
     "data": {
      "text/html": [
       "<div>\n",
       "<style scoped>\n",
       "    .dataframe tbody tr th:only-of-type {\n",
       "        vertical-align: middle;\n",
       "    }\n",
       "\n",
       "    .dataframe tbody tr th {\n",
       "        vertical-align: top;\n",
       "    }\n",
       "\n",
       "    .dataframe thead th {\n",
       "        text-align: right;\n",
       "    }\n",
       "</style>\n",
       "<table border=\"1\" class=\"dataframe\">\n",
       "  <thead>\n",
       "    <tr style=\"text-align: right;\">\n",
       "      <th></th>\n",
       "      <th>created_on</th>\n",
       "      <th>title</th>\n",
       "      <th>text</th>\n",
       "      <th>author</th>\n",
       "      <th>flair</th>\n",
       "      <th>permalink</th>\n",
       "      <th>post_length</th>\n",
       "      <th>num_comments</th>\n",
       "      <th>sum_comments_length</th>\n",
       "      <th>avg_comment_length</th>\n",
       "      <th>num_rockets</th>\n",
       "      <th>num_diamonds</th>\n",
       "      <th>nunique_commenters</th>\n",
       "      <th>@meta.timestamp</th>\n",
       "    </tr>\n",
       "  </thead>\n",
       "  <tbody>\n",
       "    <tr>\n",
       "      <th>6713</th>\n",
       "      <td>2021-07-16 21:29:47+00:00</td>\n",
       "      <td>Zillow is aiming to kill real estate agents</td>\n",
       "      <td>Six fucking percent for a week of work.  That's what realtors want in this market.  3% for the b...</td>\n",
       "      <td>zer0sumgames</td>\n",
       "      <td>Discussion</td>\n",
       "      <td>/r/wallstreetbets/comments/olqhjh/zillow_is_aiming_to_kill_real_estate_agents/</td>\n",
       "      <td>2229</td>\n",
       "      <td>4345</td>\n",
       "      <td>1010619</td>\n",
       "      <td>232.593556</td>\n",
       "      <td>8</td>\n",
       "      <td>0</td>\n",
       "      <td>2903</td>\n",
       "      <td>2021-07-23 13:57:35.735000+00:00</td>\n",
       "    </tr>\n",
       "    <tr>\n",
       "      <th>5063</th>\n",
       "      <td>2021-07-04 17:03:18+00:00</td>\n",
       "      <td>If the DD involves a “short squeeze”… ignore it. Stop. Get help. Learn to use your brain.</td>\n",
       "      <td>I’m just an autist that wants to help my fellow dudes make money. Have I been guilty of this in ...</td>\n",
       "      <td>iyioi</td>\n",
       "      <td>Discussion</td>\n",
       "      <td>/r/wallstreetbets/comments/odoir9/if_the_dd_involves_a_short_squeeze_ignore_it_stop/</td>\n",
       "      <td>2191</td>\n",
       "      <td>2409</td>\n",
       "      <td>317987</td>\n",
       "      <td>131.999585</td>\n",
       "      <td>59</td>\n",
       "      <td>17</td>\n",
       "      <td>1475</td>\n",
       "      <td>2021-07-23 13:57:34.593000+00:00</td>\n",
       "    </tr>\n",
       "    <tr>\n",
       "      <th>823</th>\n",
       "      <td>2021-07-09 16:01:26+00:00</td>\n",
       "      <td>$90 &gt; $24,000 in one day.</td>\n",
       "      <td></td>\n",
       "      <td>kado63</td>\n",
       "      <td>Gain</td>\n",
       "      <td>/r/wallstreetbets/comments/ogym6z/90_24000_in_one_day/</td>\n",
       "      <td>0</td>\n",
       "      <td>3670</td>\n",
       "      <td>279444</td>\n",
       "      <td>76.142779</td>\n",
       "      <td>16</td>\n",
       "      <td>2</td>\n",
       "      <td>2785</td>\n",
       "      <td>2021-07-23 13:57:30.323000+00:00</td>\n",
       "    </tr>\n",
       "  </tbody>\n",
       "</table>\n",
       "</div>"
      ],
      "text/plain": [
       "                    created_on  \\\n",
       "6713 2021-07-16 21:29:47+00:00   \n",
       "5063 2021-07-04 17:03:18+00:00   \n",
       "823  2021-07-09 16:01:26+00:00   \n",
       "\n",
       "                                                                                          title  \\\n",
       "6713                                                Zillow is aiming to kill real estate agents   \n",
       "5063  If the DD involves a “short squeeze”… ignore it. Stop. Get help. Learn to use your brain.   \n",
       "823                                                                   $90 > $24,000 in one day.   \n",
       "\n",
       "                                                                                                     text  \\\n",
       "6713  Six fucking percent for a week of work.  That's what realtors want in this market.  3% for the b...   \n",
       "5063  I’m just an autist that wants to help my fellow dudes make money. Have I been guilty of this in ...   \n",
       "823                                                                                                         \n",
       "\n",
       "            author       flair  \\\n",
       "6713  zer0sumgames  Discussion   \n",
       "5063         iyioi  Discussion   \n",
       "823         kado63        Gain   \n",
       "\n",
       "                                                                                 permalink  \\\n",
       "6713        /r/wallstreetbets/comments/olqhjh/zillow_is_aiming_to_kill_real_estate_agents/   \n",
       "5063  /r/wallstreetbets/comments/odoir9/if_the_dd_involves_a_short_squeeze_ignore_it_stop/   \n",
       "823                                 /r/wallstreetbets/comments/ogym6z/90_24000_in_one_day/   \n",
       "\n",
       "      post_length  num_comments  sum_comments_length  avg_comment_length  \\\n",
       "6713         2229          4345              1010619          232.593556   \n",
       "5063         2191          2409               317987          131.999585   \n",
       "823             0          3670               279444           76.142779   \n",
       "\n",
       "      num_rockets  num_diamonds  nunique_commenters  \\\n",
       "6713            8             0                2903   \n",
       "5063           59            17                1475   \n",
       "823            16             2                2785   \n",
       "\n",
       "                      @meta.timestamp  \n",
       "6713 2021-07-23 13:57:35.735000+00:00  \n",
       "5063 2021-07-23 13:57:34.593000+00:00  \n",
       "823  2021-07-23 13:57:30.323000+00:00  "
      ]
     },
     "execution_count": 17,
     "metadata": {},
     "output_type": "execute_result"
    }
   ],
   "source": [
    "posts_no_mods.sort_values('sum_comments_length', ascending=False).head(3)"
   ]
  },
  {
   "cell_type": "markdown",
   "id": "16b4b502",
   "metadata": {},
   "source": [
    "Post with the highest avg comment length (at least 5 comments)"
   ]
  },
  {
   "cell_type": "code",
   "execution_count": 30,
   "id": "09cd9af0",
   "metadata": {},
   "outputs": [
    {
     "data": {
      "text/html": [
       "<div>\n",
       "<style scoped>\n",
       "    .dataframe tbody tr th:only-of-type {\n",
       "        vertical-align: middle;\n",
       "    }\n",
       "\n",
       "    .dataframe tbody tr th {\n",
       "        vertical-align: top;\n",
       "    }\n",
       "\n",
       "    .dataframe thead th {\n",
       "        text-align: right;\n",
       "    }\n",
       "</style>\n",
       "<table border=\"1\" class=\"dataframe\">\n",
       "  <thead>\n",
       "    <tr style=\"text-align: right;\">\n",
       "      <th></th>\n",
       "      <th>created_on</th>\n",
       "      <th>title</th>\n",
       "      <th>text</th>\n",
       "      <th>author</th>\n",
       "      <th>flair</th>\n",
       "      <th>permalink</th>\n",
       "      <th>post_length</th>\n",
       "      <th>num_comments</th>\n",
       "      <th>sum_comments_length</th>\n",
       "      <th>avg_comment_length</th>\n",
       "      <th>num_rockets</th>\n",
       "      <th>num_diamonds</th>\n",
       "      <th>nunique_commenters</th>\n",
       "      <th>@meta.timestamp</th>\n",
       "    </tr>\n",
       "  </thead>\n",
       "  <tbody>\n",
       "    <tr>\n",
       "      <th>5069</th>\n",
       "      <td>2021-07-17 20:06:16+00:00</td>\n",
       "      <td>What Quantitative Easing actually is [For Retards]</td>\n",
       "      <td>I've seen a lot of people spreading misinformation about how the Fed actually works, and misrepr...</td>\n",
       "      <td>Traditional_Fee_8828</td>\n",
       "      <td>Discussion</td>\n",
       "      <td>/r/wallstreetbets/comments/ombo3v/what_quantitative_easing_actually_is_for_retards/</td>\n",
       "      <td>1580</td>\n",
       "      <td>63</td>\n",
       "      <td>30891</td>\n",
       "      <td>490.333333</td>\n",
       "      <td>0</td>\n",
       "      <td>0</td>\n",
       "      <td>26</td>\n",
       "      <td>2021-07-23 13:57:34.593000+00:00</td>\n",
       "    </tr>\n",
       "    <tr>\n",
       "      <th>565</th>\n",
       "      <td>2021-07-15 01:36:36+00:00</td>\n",
       "      <td>💚 Andy on EV Charge Stocks: I Like $EVGO a lot, and it's on sale today!</td>\n",
       "      <td>Hi, I'm Andy.\\n\\nI know next-to-nothing about money markets, but I know a lot about EVs and the ...</td>\n",
       "      <td>andy-broker</td>\n",
       "      <td>DD</td>\n",
       "      <td>/r/wallstreetbets/comments/okiliv/andy_on_ev_charge_stocks_i_like_evgo_a_lot_and/</td>\n",
       "      <td>4976</td>\n",
       "      <td>45</td>\n",
       "      <td>19964</td>\n",
       "      <td>443.644444</td>\n",
       "      <td>11</td>\n",
       "      <td>0</td>\n",
       "      <td>21</td>\n",
       "      <td>2021-07-23 13:57:30.323000+00:00</td>\n",
       "    </tr>\n",
       "    <tr>\n",
       "      <th>6723</th>\n",
       "      <td>2021-07-10 17:59:23+00:00</td>\n",
       "      <td>The Housing Market Is Not In A Bubble: Popping the Hopium Bubble</td>\n",
       "      <td>Alright, so I have recently seen an uptick in stupidity regarding the housing market, and I have...</td>\n",
       "      <td>Hani95</td>\n",
       "      <td>Discussion</td>\n",
       "      <td>/r/wallstreetbets/comments/ohniqc/the_housing_market_is_not_in_a_bubble_popping_the/</td>\n",
       "      <td>4974</td>\n",
       "      <td>413</td>\n",
       "      <td>176308</td>\n",
       "      <td>426.895884</td>\n",
       "      <td>3</td>\n",
       "      <td>0</td>\n",
       "      <td>182</td>\n",
       "      <td>2021-07-23 13:57:35.735000+00:00</td>\n",
       "    </tr>\n",
       "  </tbody>\n",
       "</table>\n",
       "</div>"
      ],
      "text/plain": [
       "                    created_on  \\\n",
       "5069 2021-07-17 20:06:16+00:00   \n",
       "565  2021-07-15 01:36:36+00:00   \n",
       "6723 2021-07-10 17:59:23+00:00   \n",
       "\n",
       "                                                                        title  \\\n",
       "5069                       What Quantitative Easing actually is [For Retards]   \n",
       "565   💚 Andy on EV Charge Stocks: I Like $EVGO a lot, and it's on sale today!   \n",
       "6723         The Housing Market Is Not In A Bubble: Popping the Hopium Bubble   \n",
       "\n",
       "                                                                                                     text  \\\n",
       "5069  I've seen a lot of people spreading misinformation about how the Fed actually works, and misrepr...   \n",
       "565   Hi, I'm Andy.\\n\\nI know next-to-nothing about money markets, but I know a lot about EVs and the ...   \n",
       "6723  Alright, so I have recently seen an uptick in stupidity regarding the housing market, and I have...   \n",
       "\n",
       "                    author       flair  \\\n",
       "5069  Traditional_Fee_8828  Discussion   \n",
       "565            andy-broker          DD   \n",
       "6723                Hani95  Discussion   \n",
       "\n",
       "                                                                                 permalink  \\\n",
       "5069   /r/wallstreetbets/comments/ombo3v/what_quantitative_easing_actually_is_for_retards/   \n",
       "565      /r/wallstreetbets/comments/okiliv/andy_on_ev_charge_stocks_i_like_evgo_a_lot_and/   \n",
       "6723  /r/wallstreetbets/comments/ohniqc/the_housing_market_is_not_in_a_bubble_popping_the/   \n",
       "\n",
       "      post_length  num_comments  sum_comments_length  avg_comment_length  \\\n",
       "5069         1580            63                30891          490.333333   \n",
       "565          4976            45                19964          443.644444   \n",
       "6723         4974           413               176308          426.895884   \n",
       "\n",
       "      num_rockets  num_diamonds  nunique_commenters  \\\n",
       "5069            0             0                  26   \n",
       "565            11             0                  21   \n",
       "6723            3             0                 182   \n",
       "\n",
       "                      @meta.timestamp  \n",
       "5069 2021-07-23 13:57:34.593000+00:00  \n",
       "565  2021-07-23 13:57:30.323000+00:00  \n",
       "6723 2021-07-23 13:57:35.735000+00:00  "
      ]
     },
     "execution_count": 30,
     "metadata": {},
     "output_type": "execute_result"
    }
   ],
   "source": [
    "posts_no_mods[posts_no_mods['num_comments'] >= 15].sort_values('avg_comment_length', ascending=False).head(3)"
   ]
  },
  {
   "cell_type": "markdown",
   "id": "1351d122",
   "metadata": {},
   "source": [
    "Post with the most rockets (including comments)"
   ]
  },
  {
   "cell_type": "code",
   "execution_count": 19,
   "id": "b13fc0e6",
   "metadata": {},
   "outputs": [
    {
     "data": {
      "text/html": [
       "<div>\n",
       "<style scoped>\n",
       "    .dataframe tbody tr th:only-of-type {\n",
       "        vertical-align: middle;\n",
       "    }\n",
       "\n",
       "    .dataframe tbody tr th {\n",
       "        vertical-align: top;\n",
       "    }\n",
       "\n",
       "    .dataframe thead th {\n",
       "        text-align: right;\n",
       "    }\n",
       "</style>\n",
       "<table border=\"1\" class=\"dataframe\">\n",
       "  <thead>\n",
       "    <tr style=\"text-align: right;\">\n",
       "      <th></th>\n",
       "      <th>created_on</th>\n",
       "      <th>title</th>\n",
       "      <th>text</th>\n",
       "      <th>author</th>\n",
       "      <th>flair</th>\n",
       "      <th>permalink</th>\n",
       "      <th>post_length</th>\n",
       "      <th>num_comments</th>\n",
       "      <th>sum_comments_length</th>\n",
       "      <th>avg_comment_length</th>\n",
       "      <th>num_rockets</th>\n",
       "      <th>num_diamonds</th>\n",
       "      <th>nunique_commenters</th>\n",
       "      <th>@meta.timestamp</th>\n",
       "    </tr>\n",
       "  </thead>\n",
       "  <tbody>\n",
       "    <tr>\n",
       "      <th>5101</th>\n",
       "      <td>2021-07-01 20:23:39+00:00</td>\n",
       "      <td>Daily option statistics for AMC, GME, WISH, MU, CLOV, AMD, NIO, PLTR, CLNE, and others.</td>\n",
       "      <td>Hey guys, \\n\\nAs usual here is the daily option statistics for the most popular stocks on WSB. E...</td>\n",
       "      <td>Chillznday</td>\n",
       "      <td>Discussion</td>\n",
       "      <td>/r/wallstreetbets/comments/obud5h/daily_option_statistics_for_amc_gme_wish_mu_clov/</td>\n",
       "      <td>1726</td>\n",
       "      <td>231</td>\n",
       "      <td>19873</td>\n",
       "      <td>86.030303</td>\n",
       "      <td>137</td>\n",
       "      <td>12</td>\n",
       "      <td>153</td>\n",
       "      <td>2021-07-23 13:57:34.593000+00:00</td>\n",
       "    </tr>\n",
       "    <tr>\n",
       "      <th>230</th>\n",
       "      <td>2021-07-09 22:18:16+00:00</td>\n",
       "      <td>I'm a retired hedge fund manager and decided to pull up the sleeves for one last O'hare play (Yo...</td>\n",
       "      <td>\\n\\n### [🚀](https://emojipedia.org/rocket/)[🚀](https://emojipedia.org/rocket/)[🚀](https://emoji...</td>\n",
       "      <td>wetdirtkurt</td>\n",
       "      <td>DD</td>\n",
       "      <td>/r/wallstreetbets/comments/oh62by/im_a_retired_hedge_fund_manager_and_decided_to/</td>\n",
       "      <td>4616</td>\n",
       "      <td>13</td>\n",
       "      <td>1471</td>\n",
       "      <td>113.153846</td>\n",
       "      <td>132</td>\n",
       "      <td>0</td>\n",
       "      <td>13</td>\n",
       "      <td>2021-07-23 13:57:30.322000+00:00</td>\n",
       "    </tr>\n",
       "    <tr>\n",
       "      <th>6347</th>\n",
       "      <td>2021-07-06 18:06:24+00:00</td>\n",
       "      <td>Let me clear the air here regarding GME, AMC, &amp; CLOV</td>\n",
       "      <td>Alright you retards, I'm taking the initiative to clear the air. I'm probably going to get a lot...</td>\n",
       "      <td>ShortChecker</td>\n",
       "      <td>Discussion</td>\n",
       "      <td>/r/wallstreetbets/comments/of0hls/let_me_clear_the_air_here_regarding_gme_amc_clov/</td>\n",
       "      <td>5012</td>\n",
       "      <td>1743</td>\n",
       "      <td>210471</td>\n",
       "      <td>120.752151</td>\n",
       "      <td>129</td>\n",
       "      <td>63</td>\n",
       "      <td>1320</td>\n",
       "      <td>2021-07-23 13:57:35.735000+00:00</td>\n",
       "    </tr>\n",
       "  </tbody>\n",
       "</table>\n",
       "</div>"
      ],
      "text/plain": [
       "                    created_on  \\\n",
       "5101 2021-07-01 20:23:39+00:00   \n",
       "230  2021-07-09 22:18:16+00:00   \n",
       "6347 2021-07-06 18:06:24+00:00   \n",
       "\n",
       "                                                                                                    title  \\\n",
       "5101              Daily option statistics for AMC, GME, WISH, MU, CLOV, AMD, NIO, PLTR, CLNE, and others.   \n",
       "230   I'm a retired hedge fund manager and decided to pull up the sleeves for one last O'hare play (Yo...   \n",
       "6347                                                 Let me clear the air here regarding GME, AMC, & CLOV   \n",
       "\n",
       "                                                                                                     text  \\\n",
       "5101  Hey guys, \\n\\nAs usual here is the daily option statistics for the most popular stocks on WSB. E...   \n",
       "230    \\n\\n### [🚀](https://emojipedia.org/rocket/)[🚀](https://emojipedia.org/rocket/)[🚀](https://emoji...   \n",
       "6347  Alright you retards, I'm taking the initiative to clear the air. I'm probably going to get a lot...   \n",
       "\n",
       "            author       flair  \\\n",
       "5101    Chillznday  Discussion   \n",
       "230    wetdirtkurt          DD   \n",
       "6347  ShortChecker  Discussion   \n",
       "\n",
       "                                                                                permalink  \\\n",
       "5101  /r/wallstreetbets/comments/obud5h/daily_option_statistics_for_amc_gme_wish_mu_clov/   \n",
       "230     /r/wallstreetbets/comments/oh62by/im_a_retired_hedge_fund_manager_and_decided_to/   \n",
       "6347  /r/wallstreetbets/comments/of0hls/let_me_clear_the_air_here_regarding_gme_amc_clov/   \n",
       "\n",
       "      post_length  num_comments  sum_comments_length  avg_comment_length  \\\n",
       "5101         1726           231                19873           86.030303   \n",
       "230          4616            13                 1471          113.153846   \n",
       "6347         5012          1743               210471          120.752151   \n",
       "\n",
       "      num_rockets  num_diamonds  nunique_commenters  \\\n",
       "5101          137            12                 153   \n",
       "230           132             0                  13   \n",
       "6347          129            63                1320   \n",
       "\n",
       "                      @meta.timestamp  \n",
       "5101 2021-07-23 13:57:34.593000+00:00  \n",
       "230  2021-07-23 13:57:30.322000+00:00  \n",
       "6347 2021-07-23 13:57:35.735000+00:00  "
      ]
     },
     "execution_count": 19,
     "metadata": {},
     "output_type": "execute_result"
    }
   ],
   "source": [
    "posts_no_mods.sort_values('num_rockets', ascending=False).head(3)"
   ]
  },
  {
   "cell_type": "markdown",
   "id": "9a35ff6e",
   "metadata": {},
   "source": [
    "Post with the most diamonds (including comments)"
   ]
  },
  {
   "cell_type": "code",
   "execution_count": 20,
   "id": "9e66b799",
   "metadata": {},
   "outputs": [
    {
     "data": {
      "text/html": [
       "<div>\n",
       "<style scoped>\n",
       "    .dataframe tbody tr th:only-of-type {\n",
       "        vertical-align: middle;\n",
       "    }\n",
       "\n",
       "    .dataframe tbody tr th {\n",
       "        vertical-align: top;\n",
       "    }\n",
       "\n",
       "    .dataframe thead th {\n",
       "        text-align: right;\n",
       "    }\n",
       "</style>\n",
       "<table border=\"1\" class=\"dataframe\">\n",
       "  <thead>\n",
       "    <tr style=\"text-align: right;\">\n",
       "      <th></th>\n",
       "      <th>created_on</th>\n",
       "      <th>title</th>\n",
       "      <th>text</th>\n",
       "      <th>author</th>\n",
       "      <th>flair</th>\n",
       "      <th>permalink</th>\n",
       "      <th>post_length</th>\n",
       "      <th>num_comments</th>\n",
       "      <th>sum_comments_length</th>\n",
       "      <th>avg_comment_length</th>\n",
       "      <th>num_rockets</th>\n",
       "      <th>num_diamonds</th>\n",
       "      <th>nunique_commenters</th>\n",
       "      <th>@meta.timestamp</th>\n",
       "    </tr>\n",
       "  </thead>\n",
       "  <tbody>\n",
       "    <tr>\n",
       "      <th>6347</th>\n",
       "      <td>2021-07-06 18:06:24+00:00</td>\n",
       "      <td>Let me clear the air here regarding GME, AMC, &amp; CLOV</td>\n",
       "      <td>Alright you retards, I'm taking the initiative to clear the air. I'm probably going to get a lot...</td>\n",
       "      <td>ShortChecker</td>\n",
       "      <td>Discussion</td>\n",
       "      <td>/r/wallstreetbets/comments/of0hls/let_me_clear_the_air_here_regarding_gme_amc_clov/</td>\n",
       "      <td>5012</td>\n",
       "      <td>1743</td>\n",
       "      <td>210471</td>\n",
       "      <td>120.752151</td>\n",
       "      <td>129</td>\n",
       "      <td>63</td>\n",
       "      <td>1320</td>\n",
       "      <td>2021-07-23 13:57:35.735000+00:00</td>\n",
       "    </tr>\n",
       "    <tr>\n",
       "      <th>2602</th>\n",
       "      <td>2021-07-11 17:53:34+00:00</td>\n",
       "      <td>💎💎💎💎💎💎💎💎💎💎💎💎💎💎💎SPCE, 💎AMC, 💎GME💎💎💎💎💎💎💎💎💎💎💎💎💎💎💎💎</td>\n",
       "      <td></td>\n",
       "      <td>Rockyturki</td>\n",
       "      <td>Meme</td>\n",
       "      <td>/r/wallstreetbets/comments/oi95zc/spce_amc_gme/</td>\n",
       "      <td>0</td>\n",
       "      <td>1</td>\n",
       "      <td>736</td>\n",
       "      <td>736.000000</td>\n",
       "      <td>0</td>\n",
       "      <td>33</td>\n",
       "      <td>1</td>\n",
       "      <td>2021-07-23 13:57:32.379000+00:00</td>\n",
       "    </tr>\n",
       "    <tr>\n",
       "      <th>3966</th>\n",
       "      <td>2021-07-06 16:12:32+00:00</td>\n",
       "      <td>I heard we’re back to YOLOing $GME …🌍👨🏻‍🚀 🔫👨🏽‍🚀</td>\n",
       "      <td></td>\n",
       "      <td>Gold_Flake</td>\n",
       "      <td>YOLO</td>\n",
       "      <td>/r/wallstreetbets/comments/oey4yt/i_heard_were_back_to_yoloing_gme/</td>\n",
       "      <td>0</td>\n",
       "      <td>804</td>\n",
       "      <td>56340</td>\n",
       "      <td>70.074627</td>\n",
       "      <td>57</td>\n",
       "      <td>20</td>\n",
       "      <td>612</td>\n",
       "      <td>2021-07-23 13:57:32.966000+00:00</td>\n",
       "    </tr>\n",
       "  </tbody>\n",
       "</table>\n",
       "</div>"
      ],
      "text/plain": [
       "                    created_on  \\\n",
       "6347 2021-07-06 18:06:24+00:00   \n",
       "2602 2021-07-11 17:53:34+00:00   \n",
       "3966 2021-07-06 16:12:32+00:00   \n",
       "\n",
       "                                                     title  \\\n",
       "6347  Let me clear the air here regarding GME, AMC, & CLOV   \n",
       "2602       💎💎💎💎💎💎💎💎💎💎💎💎💎💎💎SPCE, 💎AMC, 💎GME💎💎💎💎💎💎💎💎💎💎💎💎💎💎💎💎   \n",
       "3966       I heard we’re back to YOLOing $GME …🌍👨🏻‍🚀 🔫👨🏽‍🚀   \n",
       "\n",
       "                                                                                                     text  \\\n",
       "6347  Alright you retards, I'm taking the initiative to clear the air. I'm probably going to get a lot...   \n",
       "2602                                                                                                        \n",
       "3966                                                                                                        \n",
       "\n",
       "            author       flair  \\\n",
       "6347  ShortChecker  Discussion   \n",
       "2602    Rockyturki        Meme   \n",
       "3966    Gold_Flake        YOLO   \n",
       "\n",
       "                                                                                permalink  \\\n",
       "6347  /r/wallstreetbets/comments/of0hls/let_me_clear_the_air_here_regarding_gme_amc_clov/   \n",
       "2602                                      /r/wallstreetbets/comments/oi95zc/spce_amc_gme/   \n",
       "3966                  /r/wallstreetbets/comments/oey4yt/i_heard_were_back_to_yoloing_gme/   \n",
       "\n",
       "      post_length  num_comments  sum_comments_length  avg_comment_length  \\\n",
       "6347         5012          1743               210471          120.752151   \n",
       "2602            0             1                  736          736.000000   \n",
       "3966            0           804                56340           70.074627   \n",
       "\n",
       "      num_rockets  num_diamonds  nunique_commenters  \\\n",
       "6347          129            63                1320   \n",
       "2602            0            33                   1   \n",
       "3966           57            20                 612   \n",
       "\n",
       "                      @meta.timestamp  \n",
       "6347 2021-07-23 13:57:35.735000+00:00  \n",
       "2602 2021-07-23 13:57:32.379000+00:00  \n",
       "3966 2021-07-23 13:57:32.966000+00:00  "
      ]
     },
     "execution_count": 20,
     "metadata": {},
     "output_type": "execute_result"
    }
   ],
   "source": [
    "posts_no_mods.sort_values('num_diamonds', ascending=False).head(3)"
   ]
  },
  {
   "cell_type": "markdown",
   "id": "52376129",
   "metadata": {},
   "source": [
    "## Degenerate shoutouts"
   ]
  },
  {
   "cell_type": "code",
   "execution_count": 21,
   "id": "339e8c22",
   "metadata": {},
   "outputs": [],
   "source": [
    "authors = await beneath.query_warehouse(\"\"\"\n",
    "with\n",
    "    posts_enhanced as (\n",
    "        select *,\n",
    "            array_length(split(title, \" \")) as num_words_title,\n",
    "            array_length(split(text, \" \")) as num_words_body,\n",
    "            array_length(regexp_extract_all(title, r\"\\\\x{1F680}\")) as num_rockets_title,\n",
    "            array_length(regexp_extract_all(text, r\"\\\\x{1F680}\")) as num_rockets_body,\n",
    "            array_length(regexp_extract_all(title, r\"\\\\x{1F48E}\")) as num_diamonds_title,\n",
    "            array_length(regexp_extract_all(text, r\"\\\\x{1F48E}\")) as num_diamonds_body\n",
    "        from `examples/reddit/r-wallstreetbets-posts`\n",
    "        where timestamp_trunc(created_on, month) = \"2021-07-01\"\n",
    "    ),\n",
    "    comments_enhanced as (\n",
    "        select *,\n",
    "            array_length(split(text, \" \")) as num_words,\n",
    "            array_length(regexp_extract_all(text, r\"\\\\x{1F680}\")) as num_rockets,\n",
    "            array_length(regexp_extract_all(text, r\"\\\\x{1F48E}\")) as num_diamonds\n",
    "        from `examples/reddit/r-wallstreetbets-comments`\n",
    "        where timestamp_trunc(created_on, month) = \"2021-07-01\"\n",
    "    ),\n",
    "    author_posts_stats as (\n",
    "        select \n",
    "            author, \n",
    "            count(*) as num_posts,\n",
    "            sum(num_words_title) + sum(num_words_body) as num_words,\n",
    "            sum(num_rockets_title) + sum(num_rockets_body) as num_rockets,\n",
    "            sum(num_diamonds_title) + sum(num_diamonds_body) as num_diamonds,\n",
    "        from posts_enhanced\n",
    "        group by author\n",
    "    ),\n",
    "    author_comments_stats as (\n",
    "        select\n",
    "            author,\n",
    "            count(*) as num_comments,\n",
    "            sum(num_words) as num_words,\n",
    "            sum(num_rockets) as num_rockets,\n",
    "            sum(num_diamonds) as num_diamonds\n",
    "        from comments_enhanced\n",
    "        group by author\n",
    "    )\n",
    "select \n",
    "    coalesce(p.author, c.author) as author,\n",
    "    ifnull(p.num_posts, 0) as num_posts,\n",
    "    ifnull(c.num_comments, 0) as num_comments,\n",
    "    ifnull(p.num_words, 0) + ifnull(c.num_words, 0) as num_words,\n",
    "    ifnull(p.num_rockets, 0) + ifnull(c.num_rockets, 0) as num_rockets,\n",
    "    ifnull(p.num_diamonds, 0) + ifnull(c.num_diamonds, 0) as num_diamonds,\n",
    "from author_posts_stats p\n",
    "full join author_comments_stats c on p.author = c.author\n",
    "\"\"\")"
   ]
  },
  {
   "cell_type": "code",
   "execution_count": 22,
   "id": "a6439819",
   "metadata": {},
   "outputs": [],
   "source": [
    "authors_no_mods = authors.loc[[author not in MODERATORS for author in authors['author']]]"
   ]
  },
  {
   "cell_type": "markdown",
   "id": "87927e8d",
   "metadata": {},
   "source": [
    "Author with the most posts"
   ]
  },
  {
   "cell_type": "code",
   "execution_count": 23,
   "id": "d9e7551b",
   "metadata": {},
   "outputs": [
    {
     "data": {
      "text/html": [
       "<div>\n",
       "<style scoped>\n",
       "    .dataframe tbody tr th:only-of-type {\n",
       "        vertical-align: middle;\n",
       "    }\n",
       "\n",
       "    .dataframe tbody tr th {\n",
       "        vertical-align: top;\n",
       "    }\n",
       "\n",
       "    .dataframe thead th {\n",
       "        text-align: right;\n",
       "    }\n",
       "</style>\n",
       "<table border=\"1\" class=\"dataframe\">\n",
       "  <thead>\n",
       "    <tr style=\"text-align: right;\">\n",
       "      <th></th>\n",
       "      <th>author</th>\n",
       "      <th>num_posts</th>\n",
       "      <th>num_comments</th>\n",
       "      <th>num_words</th>\n",
       "      <th>num_rockets</th>\n",
       "      <th>num_diamonds</th>\n",
       "      <th>@meta.timestamp</th>\n",
       "    </tr>\n",
       "  </thead>\n",
       "  <tbody>\n",
       "    <tr>\n",
       "      <th>18469</th>\n",
       "      <td>margin_call_rep</td>\n",
       "      <td>33</td>\n",
       "      <td>697</td>\n",
       "      <td>8293</td>\n",
       "      <td>0</td>\n",
       "      <td>0</td>\n",
       "      <td>2021-07-23 14:14:41.315000+00:00</td>\n",
       "    </tr>\n",
       "    <tr>\n",
       "      <th>10651</th>\n",
       "      <td>Throwaway1forall</td>\n",
       "      <td>32</td>\n",
       "      <td>391</td>\n",
       "      <td>3119</td>\n",
       "      <td>0</td>\n",
       "      <td>0</td>\n",
       "      <td>2021-07-23 14:14:38.416000+00:00</td>\n",
       "    </tr>\n",
       "    <tr>\n",
       "      <th>20936</th>\n",
       "      <td>Ratchet_as_fuck</td>\n",
       "      <td>27</td>\n",
       "      <td>248</td>\n",
       "      <td>4036</td>\n",
       "      <td>0</td>\n",
       "      <td>0</td>\n",
       "      <td>2021-07-23 14:14:42.006000+00:00</td>\n",
       "    </tr>\n",
       "  </tbody>\n",
       "</table>\n",
       "</div>"
      ],
      "text/plain": [
       "                 author  num_posts  num_comments  num_words  num_rockets  \\\n",
       "18469   margin_call_rep         33           697       8293            0   \n",
       "10651  Throwaway1forall         32           391       3119            0   \n",
       "20936   Ratchet_as_fuck         27           248       4036            0   \n",
       "\n",
       "       num_diamonds                  @meta.timestamp  \n",
       "18469             0 2021-07-23 14:14:41.315000+00:00  \n",
       "10651             0 2021-07-23 14:14:38.416000+00:00  \n",
       "20936             0 2021-07-23 14:14:42.006000+00:00  "
      ]
     },
     "execution_count": 23,
     "metadata": {},
     "output_type": "execute_result"
    }
   ],
   "source": [
    "authors_no_mods.sort_values('num_posts', ascending=False).head(3)"
   ]
  },
  {
   "cell_type": "markdown",
   "id": "1532fabb",
   "metadata": {},
   "source": [
    "Author with the most comments"
   ]
  },
  {
   "cell_type": "code",
   "execution_count": 24,
   "id": "5da8edb1",
   "metadata": {},
   "outputs": [
    {
     "data": {
      "text/html": [
       "<div>\n",
       "<style scoped>\n",
       "    .dataframe tbody tr th:only-of-type {\n",
       "        vertical-align: middle;\n",
       "    }\n",
       "\n",
       "    .dataframe tbody tr th {\n",
       "        vertical-align: top;\n",
       "    }\n",
       "\n",
       "    .dataframe thead th {\n",
       "        text-align: right;\n",
       "    }\n",
       "</style>\n",
       "<table border=\"1\" class=\"dataframe\">\n",
       "  <thead>\n",
       "    <tr style=\"text-align: right;\">\n",
       "      <th></th>\n",
       "      <th>author</th>\n",
       "      <th>num_posts</th>\n",
       "      <th>num_comments</th>\n",
       "      <th>num_words</th>\n",
       "      <th>num_rockets</th>\n",
       "      <th>num_diamonds</th>\n",
       "      <th>@meta.timestamp</th>\n",
       "    </tr>\n",
       "  </thead>\n",
       "  <tbody>\n",
       "    <tr>\n",
       "      <th>4860</th>\n",
       "      <td>cashflow_</td>\n",
       "      <td>1</td>\n",
       "      <td>3700</td>\n",
       "      <td>38610</td>\n",
       "      <td>0</td>\n",
       "      <td>0</td>\n",
       "      <td>2021-07-23 14:14:36.066000+00:00</td>\n",
       "    </tr>\n",
       "    <tr>\n",
       "      <th>7722</th>\n",
       "      <td>quarantrader</td>\n",
       "      <td>0</td>\n",
       "      <td>3266</td>\n",
       "      <td>24637</td>\n",
       "      <td>3</td>\n",
       "      <td>0</td>\n",
       "      <td>2021-07-23 14:14:37.202000+00:00</td>\n",
       "    </tr>\n",
       "    <tr>\n",
       "      <th>24839</th>\n",
       "      <td>Historical-Egg3243</td>\n",
       "      <td>0</td>\n",
       "      <td>2057</td>\n",
       "      <td>27443</td>\n",
       "      <td>0</td>\n",
       "      <td>0</td>\n",
       "      <td>2021-07-23 14:14:43.881000+00:00</td>\n",
       "    </tr>\n",
       "  </tbody>\n",
       "</table>\n",
       "</div>"
      ],
      "text/plain": [
       "                   author  num_posts  num_comments  num_words  num_rockets  \\\n",
       "4860            cashflow_          1          3700      38610            0   \n",
       "7722         quarantrader          0          3266      24637            3   \n",
       "24839  Historical-Egg3243          0          2057      27443            0   \n",
       "\n",
       "       num_diamonds                  @meta.timestamp  \n",
       "4860              0 2021-07-23 14:14:36.066000+00:00  \n",
       "7722              0 2021-07-23 14:14:37.202000+00:00  \n",
       "24839             0 2021-07-23 14:14:43.881000+00:00  "
      ]
     },
     "execution_count": 24,
     "metadata": {},
     "output_type": "execute_result"
    }
   ],
   "source": [
    "authors_no_mods.sort_values('num_comments', ascending=False).head(3)"
   ]
  },
  {
   "cell_type": "markdown",
   "id": "78cbb374",
   "metadata": {},
   "source": [
    "Author who wrote the most words"
   ]
  },
  {
   "cell_type": "code",
   "execution_count": 25,
   "id": "5a85fb21",
   "metadata": {},
   "outputs": [
    {
     "data": {
      "text/html": [
       "<div>\n",
       "<style scoped>\n",
       "    .dataframe tbody tr th:only-of-type {\n",
       "        vertical-align: middle;\n",
       "    }\n",
       "\n",
       "    .dataframe tbody tr th {\n",
       "        vertical-align: top;\n",
       "    }\n",
       "\n",
       "    .dataframe thead th {\n",
       "        text-align: right;\n",
       "    }\n",
       "</style>\n",
       "<table border=\"1\" class=\"dataframe\">\n",
       "  <thead>\n",
       "    <tr style=\"text-align: right;\">\n",
       "      <th></th>\n",
       "      <th>author</th>\n",
       "      <th>num_posts</th>\n",
       "      <th>num_comments</th>\n",
       "      <th>num_words</th>\n",
       "      <th>num_rockets</th>\n",
       "      <th>num_diamonds</th>\n",
       "      <th>@meta.timestamp</th>\n",
       "    </tr>\n",
       "  </thead>\n",
       "  <tbody>\n",
       "    <tr>\n",
       "      <th>4860</th>\n",
       "      <td>cashflow_</td>\n",
       "      <td>1</td>\n",
       "      <td>3700</td>\n",
       "      <td>38610</td>\n",
       "      <td>0</td>\n",
       "      <td>0</td>\n",
       "      <td>2021-07-23 14:14:36.066000+00:00</td>\n",
       "    </tr>\n",
       "    <tr>\n",
       "      <th>1870</th>\n",
       "      <td>NotSm4rt</td>\n",
       "      <td>0</td>\n",
       "      <td>1594</td>\n",
       "      <td>31334</td>\n",
       "      <td>4</td>\n",
       "      <td>0</td>\n",
       "      <td>2021-07-23 14:14:34.510000+00:00</td>\n",
       "    </tr>\n",
       "    <tr>\n",
       "      <th>24839</th>\n",
       "      <td>Historical-Egg3243</td>\n",
       "      <td>0</td>\n",
       "      <td>2057</td>\n",
       "      <td>27443</td>\n",
       "      <td>0</td>\n",
       "      <td>0</td>\n",
       "      <td>2021-07-23 14:14:43.881000+00:00</td>\n",
       "    </tr>\n",
       "  </tbody>\n",
       "</table>\n",
       "</div>"
      ],
      "text/plain": [
       "                   author  num_posts  num_comments  num_words  num_rockets  \\\n",
       "4860            cashflow_          1          3700      38610            0   \n",
       "1870             NotSm4rt          0          1594      31334            4   \n",
       "24839  Historical-Egg3243          0          2057      27443            0   \n",
       "\n",
       "       num_diamonds                  @meta.timestamp  \n",
       "4860              0 2021-07-23 14:14:36.066000+00:00  \n",
       "1870              0 2021-07-23 14:14:34.510000+00:00  \n",
       "24839             0 2021-07-23 14:14:43.881000+00:00  "
      ]
     },
     "execution_count": 25,
     "metadata": {},
     "output_type": "execute_result"
    }
   ],
   "source": [
    "authors_no_mods.sort_values('num_words', ascending=False).head(3)"
   ]
  },
  {
   "cell_type": "markdown",
   "id": "ecd1b441",
   "metadata": {},
   "source": [
    "Author who posted the most rockets"
   ]
  },
  {
   "cell_type": "code",
   "execution_count": 26,
   "id": "9b28b8fe",
   "metadata": {},
   "outputs": [
    {
     "data": {
      "text/html": [
       "<div>\n",
       "<style scoped>\n",
       "    .dataframe tbody tr th:only-of-type {\n",
       "        vertical-align: middle;\n",
       "    }\n",
       "\n",
       "    .dataframe tbody tr th {\n",
       "        vertical-align: top;\n",
       "    }\n",
       "\n",
       "    .dataframe thead th {\n",
       "        text-align: right;\n",
       "    }\n",
       "</style>\n",
       "<table border=\"1\" class=\"dataframe\">\n",
       "  <thead>\n",
       "    <tr style=\"text-align: right;\">\n",
       "      <th></th>\n",
       "      <th>author</th>\n",
       "      <th>num_posts</th>\n",
       "      <th>num_comments</th>\n",
       "      <th>num_words</th>\n",
       "      <th>num_rockets</th>\n",
       "      <th>num_diamonds</th>\n",
       "      <th>@meta.timestamp</th>\n",
       "    </tr>\n",
       "  </thead>\n",
       "  <tbody>\n",
       "    <tr>\n",
       "      <th>6407</th>\n",
       "      <td>Dark_Prinzz</td>\n",
       "      <td>0</td>\n",
       "      <td>12</td>\n",
       "      <td>1356</td>\n",
       "      <td>864</td>\n",
       "      <td>0</td>\n",
       "      <td>2021-07-23 14:14:36.789000+00:00</td>\n",
       "    </tr>\n",
       "    <tr>\n",
       "      <th>25328</th>\n",
       "      <td>mateace</td>\n",
       "      <td>0</td>\n",
       "      <td>6</td>\n",
       "      <td>60</td>\n",
       "      <td>720</td>\n",
       "      <td>0</td>\n",
       "      <td>2021-07-23 14:14:44.243000+00:00</td>\n",
       "    </tr>\n",
       "    <tr>\n",
       "      <th>23802</th>\n",
       "      <td>Jokerboi129</td>\n",
       "      <td>0</td>\n",
       "      <td>41</td>\n",
       "      <td>144</td>\n",
       "      <td>299</td>\n",
       "      <td>2</td>\n",
       "      <td>2021-07-23 14:14:43.453000+00:00</td>\n",
       "    </tr>\n",
       "  </tbody>\n",
       "</table>\n",
       "</div>"
      ],
      "text/plain": [
       "            author  num_posts  num_comments  num_words  num_rockets  \\\n",
       "6407   Dark_Prinzz          0            12       1356          864   \n",
       "25328      mateace          0             6         60          720   \n",
       "23802  Jokerboi129          0            41        144          299   \n",
       "\n",
       "       num_diamonds                  @meta.timestamp  \n",
       "6407              0 2021-07-23 14:14:36.789000+00:00  \n",
       "25328             0 2021-07-23 14:14:44.243000+00:00  \n",
       "23802             2 2021-07-23 14:14:43.453000+00:00  "
      ]
     },
     "execution_count": 26,
     "metadata": {},
     "output_type": "execute_result"
    }
   ],
   "source": [
    "authors_no_mods.sort_values('num_rockets', ascending=False).head(3)"
   ]
  },
  {
   "cell_type": "markdown",
   "id": "e0152c8d",
   "metadata": {},
   "source": [
    "Author who posted the most diamonds"
   ]
  },
  {
   "cell_type": "code",
   "execution_count": 27,
   "id": "05722790",
   "metadata": {},
   "outputs": [
    {
     "data": {
      "text/html": [
       "<div>\n",
       "<style scoped>\n",
       "    .dataframe tbody tr th:only-of-type {\n",
       "        vertical-align: middle;\n",
       "    }\n",
       "\n",
       "    .dataframe tbody tr th {\n",
       "        vertical-align: top;\n",
       "    }\n",
       "\n",
       "    .dataframe thead th {\n",
       "        text-align: right;\n",
       "    }\n",
       "</style>\n",
       "<table border=\"1\" class=\"dataframe\">\n",
       "  <thead>\n",
       "    <tr style=\"text-align: right;\">\n",
       "      <th></th>\n",
       "      <th>author</th>\n",
       "      <th>num_posts</th>\n",
       "      <th>num_comments</th>\n",
       "      <th>num_words</th>\n",
       "      <th>num_rockets</th>\n",
       "      <th>num_diamonds</th>\n",
       "      <th>@meta.timestamp</th>\n",
       "    </tr>\n",
       "  </thead>\n",
       "  <tbody>\n",
       "    <tr>\n",
       "      <th>4242</th>\n",
       "      <td>Minute-Ad-2749</td>\n",
       "      <td>0</td>\n",
       "      <td>135</td>\n",
       "      <td>1685</td>\n",
       "      <td>0</td>\n",
       "      <td>149</td>\n",
       "      <td>2021-07-23 14:14:36.066000+00:00</td>\n",
       "    </tr>\n",
       "    <tr>\n",
       "      <th>13781</th>\n",
       "      <td>GoldGlad2495</td>\n",
       "      <td>0</td>\n",
       "      <td>84</td>\n",
       "      <td>592</td>\n",
       "      <td>171</td>\n",
       "      <td>147</td>\n",
       "      <td>2021-07-23 14:14:39.511000+00:00</td>\n",
       "    </tr>\n",
       "    <tr>\n",
       "      <th>25873</th>\n",
       "      <td>Tazzer57</td>\n",
       "      <td>0</td>\n",
       "      <td>135</td>\n",
       "      <td>1493</td>\n",
       "      <td>90</td>\n",
       "      <td>78</td>\n",
       "      <td>2021-07-23 14:14:44.243000+00:00</td>\n",
       "    </tr>\n",
       "  </tbody>\n",
       "</table>\n",
       "</div>"
      ],
      "text/plain": [
       "               author  num_posts  num_comments  num_words  num_rockets  \\\n",
       "4242   Minute-Ad-2749          0           135       1685            0   \n",
       "13781    GoldGlad2495          0            84        592          171   \n",
       "25873        Tazzer57          0           135       1493           90   \n",
       "\n",
       "       num_diamonds                  @meta.timestamp  \n",
       "4242            149 2021-07-23 14:14:36.066000+00:00  \n",
       "13781           147 2021-07-23 14:14:39.511000+00:00  \n",
       "25873            78 2021-07-23 14:14:44.243000+00:00  "
      ]
     },
     "execution_count": 27,
     "metadata": {},
     "output_type": "execute_result"
    }
   ],
   "source": [
    "authors_no_mods.sort_values('num_diamonds', ascending=False).head(3)"
   ]
  }
 ],
 "metadata": {
  "kernelspec": {
   "display_name": "Python 3",
   "language": "python",
   "name": "python3"
  },
  "language_info": {
   "codemirror_mode": {
    "name": "ipython",
    "version": 3
   },
   "file_extension": ".py",
   "mimetype": "text/x-python",
   "name": "python",
   "nbconvert_exporter": "python",
   "pygments_lexer": "ipython3",
   "version": "3.8.7"
  }
 },
 "nbformat": 4,
 "nbformat_minor": 5
}
