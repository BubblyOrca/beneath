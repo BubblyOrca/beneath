{
 "cells": [
  {
   "cell_type": "code",
   "execution_count": 1,
   "id": "67b7d2f9",
   "metadata": {},
   "outputs": [],
   "source": [
    "import beneath\n",
    "import pandas as pd\n",
    "import plotly.express as px\n",
    "from datetime import datetime"
   ]
  },
  {
   "cell_type": "code",
   "execution_count": 2,
   "id": "6a9c0272",
   "metadata": {},
   "outputs": [],
   "source": [
    "BLACKLIST = {\n",
    "    \"FOMO\",\n",
    "    \"DD\",\n",
    "    \"EOD\",\n",
    "    \"TA\",\n",
    "    \"PT\",\n",
    "    \"RSI\",\n",
    "    \"HUGE\",\n",
    "    \"ATH\",\n",
    "    \"USA\",\n",
    "    \"AI\",\n",
    "    \"IMO\",\n",
    "    \"AM\",\n",
    "    \"UK\",\n",
    "    \"BIG\",\n",
    "    \"SO\",\n",
    "    \"OR\",\n",
    "    \"FOR\",\n",
    "    \"ALL\",\n",
    "    \"IT\",\n",
    "    \"BE\",\n",
    "    \"ARE\",\n",
    "    \"NOW\",\n",
    "    \"ON\",\n",
    "    \"ME\",\n",
    "    \"CAN\",\n",
    "    \"VERY\",\n",
    "    \"SI\",\n",
    "    \"TV\",\n",
    "    \"BY\",\n",
    "    \"NEW\",\n",
    "    \"OUT\",\n",
    "    \"LOVE\",\n",
    "    \"GO\",\n",
    "    \"PM\",\n",
    "    \"NEXT\",\n",
    "    \"ANY\",\n",
    "    \"ET\",\n",
    "    \"HAS\",\n",
    "    \"ONE\",\n",
    "    \"PLAY\",\n",
    "    \"LOW\",\n",
    "    \"III\",\n",
    "    \"CASH\",\n",
    "    \"RNG\",\n",
    "    \"GOOD\",\n",
    "    \"REAL\",\n",
    "    \"SEE\",\n",
    "    \"RE\"\n",
    "}"
   ]
  },
  {
   "cell_type": "code",
   "execution_count": 71,
   "id": "49477b73",
   "metadata": {},
   "outputs": [],
   "source": [
    "MODERATORS = {\n",
    "    'OPINION_IS_UNPOPULAR',\n",
    "    'CHAINSAW_VASECTOMY',\n",
    "    'WallStreetBot',\n",
    "    'bawse1',\n",
    "    'zjz',\n",
    "    'VisualMod',\n",
    "    'premier_',\n",
    "    'notmikjaash',\n",
    "    'WaterCups69',\n",
    "    'XvGTM17',\n",
    "    'AutoModerator'\n",
    "}"
   ]
  },
  {
   "cell_type": "code",
   "execution_count": 18,
   "id": "cf6f290f",
   "metadata": {},
   "outputs": [],
   "source": [
    "pd.set_option('max_colwidth', 100)"
   ]
  },
  {
   "cell_type": "markdown",
   "id": "67926079",
   "metadata": {},
   "source": [
    "# June report"
   ]
  },
  {
   "cell_type": "markdown",
   "id": "fc312b40",
   "metadata": {},
   "source": [
    "## Posts"
   ]
  },
  {
   "cell_type": "code",
   "execution_count": 33,
   "id": "4c5106ec",
   "metadata": {},
   "outputs": [],
   "source": [
    "posts = await beneath.query_warehouse(\"\"\"\n",
    "with\n",
    "    posts as (\n",
    "        select \n",
    "            created_on, \n",
    "            id, \n",
    "            author, \n",
    "            title, \n",
    "            text, \n",
    "            flair, \n",
    "            permalink,\n",
    "            length(text) as post_length,\n",
    "            array_length(regexp_extract_all(title, r\"\\\\x{1F680}\")) + array_length(regexp_extract_all(text, r\"\\\\x{1F680}\")) as num_rockets,\n",
    "            array_length(regexp_extract_all(title, r\"\\\\x{1F48E}\")) + array_length(regexp_extract_all(text, r\"\\\\x{1F48E}\")) as num_diamonds,\n",
    "        from `examples/reddit/r-wallstreetbets-posts`\n",
    "        where timestamp_trunc(created_on, month) = \"2021-06-01\"\n",
    "    ),\n",
    "    comments as (\n",
    "        select \n",
    "            created_on, \n",
    "            id, \n",
    "            post_id, \n",
    "            author, \n",
    "            text,\n",
    "            length(text) as comment_length,\n",
    "            array_length(regexp_extract_all(c.text, r\"\\\\x{1F680}\")) as num_rockets,\n",
    "            array_length(regexp_extract_all(c.text, r\"\\\\x{1F48E}\")) as num_diamonds,\n",
    "        from `examples/reddit/r-wallstreetbets-comments` c\n",
    "        where timestamp_trunc(created_on, month) = \"2021-06-01\"\n",
    "    )\n",
    "select \n",
    "    p.created_on, \n",
    "    p.title, \n",
    "    p.text, \n",
    "    p.author, \n",
    "    p.flair, \n",
    "    p.permalink,\n",
    "    p.post_length,\n",
    "    count(c.id) as num_comments,\n",
    "    sum(c.comment_length) as sum_comments_length, \n",
    "    sum(c.comment_length)/count(c.id) as avg_comment_length,\n",
    "    p.num_rockets + sum(c.num_rockets) as num_rockets,\n",
    "    p.num_diamonds + sum(c.num_diamonds) as num_diamonds,\n",
    "    count(distinct c.author) as nunique_commenters,\n",
    "from posts p\n",
    "join comments c on p.id = c.post_id\n",
    "group by p.created_on, p.title, p.text, p.author, p.flair, p.permalink, p.post_length, p.num_rockets, p.num_diamonds\n",
    "\"\"\")"
   ]
  },
  {
   "cell_type": "markdown",
   "id": "7db63fbc",
   "metadata": {},
   "source": [
    "Post with most comments"
   ]
  },
  {
   "cell_type": "code",
   "execution_count": 34,
   "id": "9f541390",
   "metadata": {},
   "outputs": [
    {
     "data": {
      "text/html": [
       "<div>\n",
       "<style scoped>\n",
       "    .dataframe tbody tr th:only-of-type {\n",
       "        vertical-align: middle;\n",
       "    }\n",
       "\n",
       "    .dataframe tbody tr th {\n",
       "        vertical-align: top;\n",
       "    }\n",
       "\n",
       "    .dataframe thead th {\n",
       "        text-align: right;\n",
       "    }\n",
       "</style>\n",
       "<table border=\"1\" class=\"dataframe\">\n",
       "  <thead>\n",
       "    <tr style=\"text-align: right;\">\n",
       "      <th></th>\n",
       "      <th>created_on</th>\n",
       "      <th>title</th>\n",
       "      <th>text</th>\n",
       "      <th>author</th>\n",
       "      <th>flair</th>\n",
       "      <th>permalink</th>\n",
       "      <th>post_length</th>\n",
       "      <th>num_comments</th>\n",
       "      <th>sum_comments_length</th>\n",
       "      <th>avg_comment_length</th>\n",
       "      <th>num_rockets</th>\n",
       "      <th>num_diamonds</th>\n",
       "      <th>nunique_commenters</th>\n",
       "      <th>@meta.timestamp</th>\n",
       "    </tr>\n",
       "  </thead>\n",
       "  <tbody>\n",
       "    <tr>\n",
       "      <th>371</th>\n",
       "      <td>2021-06-11 20:00:17+00:00</td>\n",
       "      <td>Weekend Discussion Thread for the Weekend of June 11, 2021</td>\n",
       "      <td>Your weekend discussion thread. Please keep the shitposting to a maximum!\\n\\nFollow [@Official_W...</td>\n",
       "      <td>OPINION_IS_UNPOPULAR</td>\n",
       "      <td>Weekend Discussion</td>\n",
       "      <td>/r/wallstreetbets/comments/nxosm3/weekend_discussion_thread_for_the_weekend_of_june/</td>\n",
       "      <td>181</td>\n",
       "      <td>63166</td>\n",
       "      <td>4528066</td>\n",
       "      <td>71.685179</td>\n",
       "      <td>3028</td>\n",
       "      <td>440</td>\n",
       "      <td>4668</td>\n",
       "      <td>2021-07-13 14:27:25.308000+00:00</td>\n",
       "    </tr>\n",
       "    <tr>\n",
       "      <th>311</th>\n",
       "      <td>2021-06-03 10:00:13+00:00</td>\n",
       "      <td>Daily Discussion Thread for June 03, 2021</td>\n",
       "      <td>Your daily trading discussion thread. Please keep the shitposting to a minimum. \\n\\n^Navigate ^W...</td>\n",
       "      <td>OPINION_IS_UNPOPULAR</td>\n",
       "      <td>Daily Discussion</td>\n",
       "      <td>/r/wallstreetbets/comments/nr9r9t/daily_discussion_thread_for_june_03_2021/</td>\n",
       "      <td>2359</td>\n",
       "      <td>56245</td>\n",
       "      <td>3356092</td>\n",
       "      <td>59.669162</td>\n",
       "      <td>6961</td>\n",
       "      <td>830</td>\n",
       "      <td>10522</td>\n",
       "      <td>2021-07-13 14:27:25.308000+00:00</td>\n",
       "    </tr>\n",
       "    <tr>\n",
       "      <th>210</th>\n",
       "      <td>2021-06-02 10:00:15+00:00</td>\n",
       "      <td>Daily Discussion Thread for June 02, 2021</td>\n",
       "      <td>Your daily trading discussion thread. Please keep the shitposting to a minimum. \\n\\n^Navigate ^W...</td>\n",
       "      <td>OPINION_IS_UNPOPULAR</td>\n",
       "      <td>Daily Discussion</td>\n",
       "      <td>/r/wallstreetbets/comments/nqi9f6/daily_discussion_thread_for_june_02_2021/</td>\n",
       "      <td>2359</td>\n",
       "      <td>40962</td>\n",
       "      <td>2273866</td>\n",
       "      <td>55.511596</td>\n",
       "      <td>5528</td>\n",
       "      <td>437</td>\n",
       "      <td>8586</td>\n",
       "      <td>2021-07-13 14:27:25.307000+00:00</td>\n",
       "    </tr>\n",
       "  </tbody>\n",
       "</table>\n",
       "</div>"
      ],
      "text/plain": [
       "                   created_on  \\\n",
       "371 2021-06-11 20:00:17+00:00   \n",
       "311 2021-06-03 10:00:13+00:00   \n",
       "210 2021-06-02 10:00:15+00:00   \n",
       "\n",
       "                                                          title  \\\n",
       "371  Weekend Discussion Thread for the Weekend of June 11, 2021   \n",
       "311                   Daily Discussion Thread for June 03, 2021   \n",
       "210                   Daily Discussion Thread for June 02, 2021   \n",
       "\n",
       "                                                                                                    text  \\\n",
       "371  Your weekend discussion thread. Please keep the shitposting to a maximum!\\n\\nFollow [@Official_W...   \n",
       "311  Your daily trading discussion thread. Please keep the shitposting to a minimum. \\n\\n^Navigate ^W...   \n",
       "210  Your daily trading discussion thread. Please keep the shitposting to a minimum. \\n\\n^Navigate ^W...   \n",
       "\n",
       "                   author               flair  \\\n",
       "371  OPINION_IS_UNPOPULAR  Weekend Discussion   \n",
       "311  OPINION_IS_UNPOPULAR    Daily Discussion   \n",
       "210  OPINION_IS_UNPOPULAR    Daily Discussion   \n",
       "\n",
       "                                                                                permalink  \\\n",
       "371  /r/wallstreetbets/comments/nxosm3/weekend_discussion_thread_for_the_weekend_of_june/   \n",
       "311           /r/wallstreetbets/comments/nr9r9t/daily_discussion_thread_for_june_03_2021/   \n",
       "210           /r/wallstreetbets/comments/nqi9f6/daily_discussion_thread_for_june_02_2021/   \n",
       "\n",
       "     post_length  num_comments  sum_comments_length  avg_comment_length  \\\n",
       "371          181         63166              4528066           71.685179   \n",
       "311         2359         56245              3356092           59.669162   \n",
       "210         2359         40962              2273866           55.511596   \n",
       "\n",
       "     num_rockets  num_diamonds  nunique_commenters  \\\n",
       "371         3028           440                4668   \n",
       "311         6961           830               10522   \n",
       "210         5528           437                8586   \n",
       "\n",
       "                     @meta.timestamp  \n",
       "371 2021-07-13 14:27:25.308000+00:00  \n",
       "311 2021-07-13 14:27:25.308000+00:00  \n",
       "210 2021-07-13 14:27:25.307000+00:00  "
      ]
     },
     "execution_count": 34,
     "metadata": {},
     "output_type": "execute_result"
    }
   ],
   "source": [
    "posts.sort_values('num_comments', ascending=False).head(3)"
   ]
  },
  {
   "cell_type": "markdown",
   "id": "9a14f1fe",
   "metadata": {},
   "source": [
    "Longest discussion"
   ]
  },
  {
   "cell_type": "code",
   "execution_count": 35,
   "id": "de673c53",
   "metadata": {},
   "outputs": [
    {
     "data": {
      "text/html": [
       "<div>\n",
       "<style scoped>\n",
       "    .dataframe tbody tr th:only-of-type {\n",
       "        vertical-align: middle;\n",
       "    }\n",
       "\n",
       "    .dataframe tbody tr th {\n",
       "        vertical-align: top;\n",
       "    }\n",
       "\n",
       "    .dataframe thead th {\n",
       "        text-align: right;\n",
       "    }\n",
       "</style>\n",
       "<table border=\"1\" class=\"dataframe\">\n",
       "  <thead>\n",
       "    <tr style=\"text-align: right;\">\n",
       "      <th></th>\n",
       "      <th>created_on</th>\n",
       "      <th>title</th>\n",
       "      <th>text</th>\n",
       "      <th>author</th>\n",
       "      <th>flair</th>\n",
       "      <th>permalink</th>\n",
       "      <th>post_length</th>\n",
       "      <th>num_comments</th>\n",
       "      <th>sum_comments_length</th>\n",
       "      <th>avg_comment_length</th>\n",
       "      <th>num_rockets</th>\n",
       "      <th>num_diamonds</th>\n",
       "      <th>nunique_commenters</th>\n",
       "      <th>@meta.timestamp</th>\n",
       "    </tr>\n",
       "  </thead>\n",
       "  <tbody>\n",
       "    <tr>\n",
       "      <th>371</th>\n",
       "      <td>2021-06-11 20:00:17+00:00</td>\n",
       "      <td>Weekend Discussion Thread for the Weekend of June 11, 2021</td>\n",
       "      <td>Your weekend discussion thread. Please keep the shitposting to a maximum!\\n\\nFollow [@Official_W...</td>\n",
       "      <td>OPINION_IS_UNPOPULAR</td>\n",
       "      <td>Weekend Discussion</td>\n",
       "      <td>/r/wallstreetbets/comments/nxosm3/weekend_discussion_thread_for_the_weekend_of_june/</td>\n",
       "      <td>181</td>\n",
       "      <td>63166</td>\n",
       "      <td>4528066</td>\n",
       "      <td>71.685179</td>\n",
       "      <td>3028</td>\n",
       "      <td>440</td>\n",
       "      <td>4668</td>\n",
       "      <td>2021-07-13 14:27:25.308000+00:00</td>\n",
       "    </tr>\n",
       "    <tr>\n",
       "      <th>311</th>\n",
       "      <td>2021-06-03 10:00:13+00:00</td>\n",
       "      <td>Daily Discussion Thread for June 03, 2021</td>\n",
       "      <td>Your daily trading discussion thread. Please keep the shitposting to a minimum. \\n\\n^Navigate ^W...</td>\n",
       "      <td>OPINION_IS_UNPOPULAR</td>\n",
       "      <td>Daily Discussion</td>\n",
       "      <td>/r/wallstreetbets/comments/nr9r9t/daily_discussion_thread_for_june_03_2021/</td>\n",
       "      <td>2359</td>\n",
       "      <td>56245</td>\n",
       "      <td>3356092</td>\n",
       "      <td>59.669162</td>\n",
       "      <td>6961</td>\n",
       "      <td>830</td>\n",
       "      <td>10522</td>\n",
       "      <td>2021-07-13 14:27:25.308000+00:00</td>\n",
       "    </tr>\n",
       "    <tr>\n",
       "      <th>2674</th>\n",
       "      <td>2021-06-04 20:00:15+00:00</td>\n",
       "      <td>Weekend Discussion Thread for the Weekend of June 04, 2021</td>\n",
       "      <td>Your weekend discussion thread. Please keep the shitposting to a maximum!\\n\\nFollow [@Official_W...</td>\n",
       "      <td>OPINION_IS_UNPOPULAR</td>\n",
       "      <td>Weekend Discussion</td>\n",
       "      <td>/r/wallstreetbets/comments/nse1dg/weekend_discussion_thread_for_the_weekend_of_june/</td>\n",
       "      <td>181</td>\n",
       "      <td>37246</td>\n",
       "      <td>2797369</td>\n",
       "      <td>75.105219</td>\n",
       "      <td>1263</td>\n",
       "      <td>239</td>\n",
       "      <td>4761</td>\n",
       "      <td>2021-07-13 14:27:28.740000+00:00</td>\n",
       "    </tr>\n",
       "  </tbody>\n",
       "</table>\n",
       "</div>"
      ],
      "text/plain": [
       "                    created_on  \\\n",
       "371  2021-06-11 20:00:17+00:00   \n",
       "311  2021-06-03 10:00:13+00:00   \n",
       "2674 2021-06-04 20:00:15+00:00   \n",
       "\n",
       "                                                           title  \\\n",
       "371   Weekend Discussion Thread for the Weekend of June 11, 2021   \n",
       "311                    Daily Discussion Thread for June 03, 2021   \n",
       "2674  Weekend Discussion Thread for the Weekend of June 04, 2021   \n",
       "\n",
       "                                                                                                     text  \\\n",
       "371   Your weekend discussion thread. Please keep the shitposting to a maximum!\\n\\nFollow [@Official_W...   \n",
       "311   Your daily trading discussion thread. Please keep the shitposting to a minimum. \\n\\n^Navigate ^W...   \n",
       "2674  Your weekend discussion thread. Please keep the shitposting to a maximum!\\n\\nFollow [@Official_W...   \n",
       "\n",
       "                    author               flair  \\\n",
       "371   OPINION_IS_UNPOPULAR  Weekend Discussion   \n",
       "311   OPINION_IS_UNPOPULAR    Daily Discussion   \n",
       "2674  OPINION_IS_UNPOPULAR  Weekend Discussion   \n",
       "\n",
       "                                                                                 permalink  \\\n",
       "371   /r/wallstreetbets/comments/nxosm3/weekend_discussion_thread_for_the_weekend_of_june/   \n",
       "311            /r/wallstreetbets/comments/nr9r9t/daily_discussion_thread_for_june_03_2021/   \n",
       "2674  /r/wallstreetbets/comments/nse1dg/weekend_discussion_thread_for_the_weekend_of_june/   \n",
       "\n",
       "      post_length  num_comments  sum_comments_length  avg_comment_length  \\\n",
       "371           181         63166              4528066           71.685179   \n",
       "311          2359         56245              3356092           59.669162   \n",
       "2674          181         37246              2797369           75.105219   \n",
       "\n",
       "      num_rockets  num_diamonds  nunique_commenters  \\\n",
       "371          3028           440                4668   \n",
       "311          6961           830               10522   \n",
       "2674         1263           239                4761   \n",
       "\n",
       "                      @meta.timestamp  \n",
       "371  2021-07-13 14:27:25.308000+00:00  \n",
       "311  2021-07-13 14:27:25.308000+00:00  \n",
       "2674 2021-07-13 14:27:28.740000+00:00  "
      ]
     },
     "execution_count": 35,
     "metadata": {},
     "output_type": "execute_result"
    }
   ],
   "source": [
    "posts.sort_values('sum_comments_length', ascending=False).head(3)"
   ]
  },
  {
   "cell_type": "markdown",
   "id": "16b4b502",
   "metadata": {},
   "source": [
    "Post with the highest avg comment length (at least 5 comments)"
   ]
  },
  {
   "cell_type": "code",
   "execution_count": 26,
   "id": "09cd9af0",
   "metadata": {},
   "outputs": [
    {
     "data": {
      "text/html": [
       "<div>\n",
       "<style scoped>\n",
       "    .dataframe tbody tr th:only-of-type {\n",
       "        vertical-align: middle;\n",
       "    }\n",
       "\n",
       "    .dataframe tbody tr th {\n",
       "        vertical-align: top;\n",
       "    }\n",
       "\n",
       "    .dataframe thead th {\n",
       "        text-align: right;\n",
       "    }\n",
       "</style>\n",
       "<table border=\"1\" class=\"dataframe\">\n",
       "  <thead>\n",
       "    <tr style=\"text-align: right;\">\n",
       "      <th></th>\n",
       "      <th>created_on</th>\n",
       "      <th>title</th>\n",
       "      <th>text</th>\n",
       "      <th>author</th>\n",
       "      <th>flair</th>\n",
       "      <th>permalink</th>\n",
       "      <th>post_length</th>\n",
       "      <th>num_comments</th>\n",
       "      <th>sum_comments_length</th>\n",
       "      <th>avg_comment_length</th>\n",
       "      <th>num_rockets</th>\n",
       "      <th>nunique_commenters</th>\n",
       "      <th>@meta.timestamp</th>\n",
       "    </tr>\n",
       "  </thead>\n",
       "  <tbody>\n",
       "    <tr>\n",
       "      <th>24581</th>\n",
       "      <td>2021-06-17 18:25:55+00:00</td>\n",
       "      <td>$DKNG YOLOO. Still holding. Still bullish. 💎🙌 -&gt; 🚀🚀</td>\n",
       "      <td></td>\n",
       "      <td>arjunav</td>\n",
       "      <td>YOLO</td>\n",
       "      <td>/r/wallstreetbets/comments/o241a9/dkng_yoloo_still_holding_still_bullish/</td>\n",
       "      <td>0</td>\n",
       "      <td>5</td>\n",
       "      <td>6974</td>\n",
       "      <td>1394.800000</td>\n",
       "      <td>2</td>\n",
       "      <td>5</td>\n",
       "      <td>2021-07-13 14:10:38.334000+00:00</td>\n",
       "    </tr>\n",
       "    <tr>\n",
       "      <th>28707</th>\n",
       "      <td>2021-06-08 21:00:43+00:00</td>\n",
       "      <td>Sorrento Therapeutics Bull Case = EZ Squeeze.</td>\n",
       "      <td>\"Wall Street analysts also predicted that in 2021, the company’s y-o-y revenues would reach $1.1...</td>\n",
       "      <td>Siphen_</td>\n",
       "      <td>Discussion</td>\n",
       "      <td>/r/wallstreetbets/comments/nvecr9/sorrento_therapeutics_bull_case_ez_squeeze/</td>\n",
       "      <td>5008</td>\n",
       "      <td>13</td>\n",
       "      <td>9433</td>\n",
       "      <td>725.615385</td>\n",
       "      <td>0</td>\n",
       "      <td>8</td>\n",
       "      <td>2021-07-13 14:10:42.956000+00:00</td>\n",
       "    </tr>\n",
       "    <tr>\n",
       "      <th>26653</th>\n",
       "      <td>2021-06-21 20:07:22+00:00</td>\n",
       "      <td>Be objective and look data and take your seat</td>\n",
       "      <td>Times like these illustrate why having a cool head in a crisis is so important. The ability to b...</td>\n",
       "      <td>Kimaxw</td>\n",
       "      <td>DD</td>\n",
       "      <td>/r/wallstreetbets/comments/o546n6/be_objective_and_look_data_and_take_your_seat/</td>\n",
       "      <td>3226</td>\n",
       "      <td>8</td>\n",
       "      <td>5414</td>\n",
       "      <td>676.750000</td>\n",
       "      <td>3</td>\n",
       "      <td>6</td>\n",
       "      <td>2021-07-13 14:10:40.689000+00:00</td>\n",
       "    </tr>\n",
       "  </tbody>\n",
       "</table>\n",
       "</div>"
      ],
      "text/plain": [
       "                     created_on  \\\n",
       "24581 2021-06-17 18:25:55+00:00   \n",
       "28707 2021-06-08 21:00:43+00:00   \n",
       "26653 2021-06-21 20:07:22+00:00   \n",
       "\n",
       "                                                     title  \\\n",
       "24581  $DKNG YOLOO. Still holding. Still bullish. 💎🙌 -> 🚀🚀   \n",
       "28707        Sorrento Therapeutics Bull Case = EZ Squeeze.   \n",
       "26653        Be objective and look data and take your seat   \n",
       "\n",
       "                                                                                                      text  \\\n",
       "24581                                                                                                        \n",
       "28707  \"Wall Street analysts also predicted that in 2021, the company’s y-o-y revenues would reach $1.1...   \n",
       "26653  Times like these illustrate why having a cool head in a crisis is so important. The ability to b...   \n",
       "\n",
       "        author       flair  \\\n",
       "24581  arjunav        YOLO   \n",
       "28707  Siphen_  Discussion   \n",
       "26653   Kimaxw          DD   \n",
       "\n",
       "                                                                              permalink  \\\n",
       "24581         /r/wallstreetbets/comments/o241a9/dkng_yoloo_still_holding_still_bullish/   \n",
       "28707     /r/wallstreetbets/comments/nvecr9/sorrento_therapeutics_bull_case_ez_squeeze/   \n",
       "26653  /r/wallstreetbets/comments/o546n6/be_objective_and_look_data_and_take_your_seat/   \n",
       "\n",
       "       post_length  num_comments  sum_comments_length  avg_comment_length  \\\n",
       "24581            0             5                 6974         1394.800000   \n",
       "28707         5008            13                 9433          725.615385   \n",
       "26653         3226             8                 5414          676.750000   \n",
       "\n",
       "       num_rockets  nunique_commenters                  @meta.timestamp  \n",
       "24581            2                   5 2021-07-13 14:10:38.334000+00:00  \n",
       "28707            0                   8 2021-07-13 14:10:42.956000+00:00  \n",
       "26653            3                   6 2021-07-13 14:10:40.689000+00:00  "
      ]
     },
     "execution_count": 26,
     "metadata": {},
     "output_type": "execute_result"
    }
   ],
   "source": [
    "posts[posts['num_comments'] >= 5].sort_values('avg_comment_length', ascending=False).head(3)"
   ]
  },
  {
   "cell_type": "markdown",
   "id": "1351d122",
   "metadata": {},
   "source": [
    "Post with the most rockets (including comments)"
   ]
  },
  {
   "cell_type": "code",
   "execution_count": 39,
   "id": "b13fc0e6",
   "metadata": {},
   "outputs": [
    {
     "data": {
      "text/html": [
       "<div>\n",
       "<style scoped>\n",
       "    .dataframe tbody tr th:only-of-type {\n",
       "        vertical-align: middle;\n",
       "    }\n",
       "\n",
       "    .dataframe tbody tr th {\n",
       "        vertical-align: top;\n",
       "    }\n",
       "\n",
       "    .dataframe thead th {\n",
       "        text-align: right;\n",
       "    }\n",
       "</style>\n",
       "<table border=\"1\" class=\"dataframe\">\n",
       "  <thead>\n",
       "    <tr style=\"text-align: right;\">\n",
       "      <th></th>\n",
       "      <th>created_on</th>\n",
       "      <th>title</th>\n",
       "      <th>text</th>\n",
       "      <th>author</th>\n",
       "      <th>flair</th>\n",
       "      <th>permalink</th>\n",
       "      <th>post_length</th>\n",
       "      <th>num_comments</th>\n",
       "      <th>sum_comments_length</th>\n",
       "      <th>avg_comment_length</th>\n",
       "      <th>num_rockets</th>\n",
       "      <th>num_diamonds</th>\n",
       "      <th>nunique_commenters</th>\n",
       "      <th>@meta.timestamp</th>\n",
       "    </tr>\n",
       "  </thead>\n",
       "  <tbody>\n",
       "    <tr>\n",
       "      <th>311</th>\n",
       "      <td>2021-06-03 10:00:13+00:00</td>\n",
       "      <td>Daily Discussion Thread for June 03, 2021</td>\n",
       "      <td>Your daily trading discussion thread. Please keep the shitposting to a minimum. \\n\\n^Navigate ^W...</td>\n",
       "      <td>OPINION_IS_UNPOPULAR</td>\n",
       "      <td>Daily Discussion</td>\n",
       "      <td>/r/wallstreetbets/comments/nr9r9t/daily_discussion_thread_for_june_03_2021/</td>\n",
       "      <td>2359</td>\n",
       "      <td>56245</td>\n",
       "      <td>3356092</td>\n",
       "      <td>59.669162</td>\n",
       "      <td>6961</td>\n",
       "      <td>830</td>\n",
       "      <td>10522</td>\n",
       "      <td>2021-07-13 14:27:25.308000+00:00</td>\n",
       "    </tr>\n",
       "    <tr>\n",
       "      <th>210</th>\n",
       "      <td>2021-06-02 10:00:15+00:00</td>\n",
       "      <td>Daily Discussion Thread for June 02, 2021</td>\n",
       "      <td>Your daily trading discussion thread. Please keep the shitposting to a minimum. \\n\\n^Navigate ^W...</td>\n",
       "      <td>OPINION_IS_UNPOPULAR</td>\n",
       "      <td>Daily Discussion</td>\n",
       "      <td>/r/wallstreetbets/comments/nqi9f6/daily_discussion_thread_for_june_02_2021/</td>\n",
       "      <td>2359</td>\n",
       "      <td>40962</td>\n",
       "      <td>2273866</td>\n",
       "      <td>55.511596</td>\n",
       "      <td>5528</td>\n",
       "      <td>437</td>\n",
       "      <td>8586</td>\n",
       "      <td>2021-07-13 14:27:25.307000+00:00</td>\n",
       "    </tr>\n",
       "    <tr>\n",
       "      <th>0</th>\n",
       "      <td>2021-06-08 11:07:59+00:00</td>\n",
       "      <td>Daily Popular Ticker Thread for June 08, 2021 - BB | AMC | CLOV</td>\n",
       "      <td>Apologies for the delay. The global Fastly outage knocked Reddit offline.</td>\n",
       "      <td>OPINION_IS_UNPOPULAR</td>\n",
       "      <td>None</td>\n",
       "      <td>/r/wallstreetbets/comments/nv1ig9/daily_popular_ticker_thread_for_june_08_2021_bb/</td>\n",
       "      <td>73</td>\n",
       "      <td>26140</td>\n",
       "      <td>1572924</td>\n",
       "      <td>60.173068</td>\n",
       "      <td>5487</td>\n",
       "      <td>481</td>\n",
       "      <td>6103</td>\n",
       "      <td>2021-07-13 14:27:25.305000+00:00</td>\n",
       "    </tr>\n",
       "  </tbody>\n",
       "</table>\n",
       "</div>"
      ],
      "text/plain": [
       "                   created_on  \\\n",
       "311 2021-06-03 10:00:13+00:00   \n",
       "210 2021-06-02 10:00:15+00:00   \n",
       "0   2021-06-08 11:07:59+00:00   \n",
       "\n",
       "                                                               title  \\\n",
       "311                        Daily Discussion Thread for June 03, 2021   \n",
       "210                        Daily Discussion Thread for June 02, 2021   \n",
       "0    Daily Popular Ticker Thread for June 08, 2021 - BB | AMC | CLOV   \n",
       "\n",
       "                                                                                                    text  \\\n",
       "311  Your daily trading discussion thread. Please keep the shitposting to a minimum. \\n\\n^Navigate ^W...   \n",
       "210  Your daily trading discussion thread. Please keep the shitposting to a minimum. \\n\\n^Navigate ^W...   \n",
       "0                              Apologies for the delay. The global Fastly outage knocked Reddit offline.   \n",
       "\n",
       "                   author             flair  \\\n",
       "311  OPINION_IS_UNPOPULAR  Daily Discussion   \n",
       "210  OPINION_IS_UNPOPULAR  Daily Discussion   \n",
       "0    OPINION_IS_UNPOPULAR              None   \n",
       "\n",
       "                                                                              permalink  \\\n",
       "311         /r/wallstreetbets/comments/nr9r9t/daily_discussion_thread_for_june_03_2021/   \n",
       "210         /r/wallstreetbets/comments/nqi9f6/daily_discussion_thread_for_june_02_2021/   \n",
       "0    /r/wallstreetbets/comments/nv1ig9/daily_popular_ticker_thread_for_june_08_2021_bb/   \n",
       "\n",
       "     post_length  num_comments  sum_comments_length  avg_comment_length  \\\n",
       "311         2359         56245              3356092           59.669162   \n",
       "210         2359         40962              2273866           55.511596   \n",
       "0             73         26140              1572924           60.173068   \n",
       "\n",
       "     num_rockets  num_diamonds  nunique_commenters  \\\n",
       "311         6961           830               10522   \n",
       "210         5528           437                8586   \n",
       "0           5487           481                6103   \n",
       "\n",
       "                     @meta.timestamp  \n",
       "311 2021-07-13 14:27:25.308000+00:00  \n",
       "210 2021-07-13 14:27:25.307000+00:00  \n",
       "0   2021-07-13 14:27:25.305000+00:00  "
      ]
     },
     "execution_count": 39,
     "metadata": {},
     "output_type": "execute_result"
    }
   ],
   "source": [
    "posts.sort_values('num_rockets', ascending=False).head(3)"
   ]
  },
  {
   "cell_type": "markdown",
   "id": "9a35ff6e",
   "metadata": {},
   "source": [
    "Post with the most diamonds (including comments)"
   ]
  },
  {
   "cell_type": "code",
   "execution_count": 38,
   "id": "9e66b799",
   "metadata": {},
   "outputs": [
    {
     "data": {
      "text/html": [
       "<div>\n",
       "<style scoped>\n",
       "    .dataframe tbody tr th:only-of-type {\n",
       "        vertical-align: middle;\n",
       "    }\n",
       "\n",
       "    .dataframe tbody tr th {\n",
       "        vertical-align: top;\n",
       "    }\n",
       "\n",
       "    .dataframe thead th {\n",
       "        text-align: right;\n",
       "    }\n",
       "</style>\n",
       "<table border=\"1\" class=\"dataframe\">\n",
       "  <thead>\n",
       "    <tr style=\"text-align: right;\">\n",
       "      <th></th>\n",
       "      <th>created_on</th>\n",
       "      <th>title</th>\n",
       "      <th>text</th>\n",
       "      <th>author</th>\n",
       "      <th>flair</th>\n",
       "      <th>permalink</th>\n",
       "      <th>post_length</th>\n",
       "      <th>num_comments</th>\n",
       "      <th>sum_comments_length</th>\n",
       "      <th>avg_comment_length</th>\n",
       "      <th>num_rockets</th>\n",
       "      <th>num_diamonds</th>\n",
       "      <th>nunique_commenters</th>\n",
       "      <th>@meta.timestamp</th>\n",
       "    </tr>\n",
       "  </thead>\n",
       "  <tbody>\n",
       "    <tr>\n",
       "      <th>3334</th>\n",
       "      <td>2021-06-11 10:00:19+00:00</td>\n",
       "      <td>Daily Popular Tickers Thread for June 11, 2021 - AMC | BB | CLOV</td>\n",
       "      <td>\\nYour daily hype thread. Please keep the shitposting to a maximum.\\n\\n^Navigate ^WSB |^We ^reco...</td>\n",
       "      <td>VisualMod</td>\n",
       "      <td>None</td>\n",
       "      <td>/r/wallstreetbets/comments/nxcb5h/daily_popular_tickers_thread_for_june_11_2021_amc/</td>\n",
       "      <td>1782</td>\n",
       "      <td>9492</td>\n",
       "      <td>670418</td>\n",
       "      <td>70.629794</td>\n",
       "      <td>3163</td>\n",
       "      <td>1167</td>\n",
       "      <td>2523</td>\n",
       "      <td>2021-07-13 14:27:30.164000+00:00</td>\n",
       "    </tr>\n",
       "    <tr>\n",
       "      <th>311</th>\n",
       "      <td>2021-06-03 10:00:13+00:00</td>\n",
       "      <td>Daily Discussion Thread for June 03, 2021</td>\n",
       "      <td>Your daily trading discussion thread. Please keep the shitposting to a minimum. \\n\\n^Navigate ^W...</td>\n",
       "      <td>OPINION_IS_UNPOPULAR</td>\n",
       "      <td>Daily Discussion</td>\n",
       "      <td>/r/wallstreetbets/comments/nr9r9t/daily_discussion_thread_for_june_03_2021/</td>\n",
       "      <td>2359</td>\n",
       "      <td>56245</td>\n",
       "      <td>3356092</td>\n",
       "      <td>59.669162</td>\n",
       "      <td>6961</td>\n",
       "      <td>830</td>\n",
       "      <td>10522</td>\n",
       "      <td>2021-07-13 14:27:25.308000+00:00</td>\n",
       "    </tr>\n",
       "    <tr>\n",
       "      <th>950</th>\n",
       "      <td>2021-06-02 20:00:20+00:00</td>\n",
       "      <td>What Are Your Moves Tomorrow, June 03, 2021</td>\n",
       "      <td>Your daily trading discussion thread. Please keep the shitposting to a minimum. \\n\\n^Navigate ^W...</td>\n",
       "      <td>OPINION_IS_UNPOPULAR</td>\n",
       "      <td>Daily Discussion</td>\n",
       "      <td>/r/wallstreetbets/comments/nquubf/what_are_your_moves_tomorrow_june_03_2021/</td>\n",
       "      <td>2357</td>\n",
       "      <td>35642</td>\n",
       "      <td>2113514</td>\n",
       "      <td>59.298412</td>\n",
       "      <td>4250</td>\n",
       "      <td>706</td>\n",
       "      <td>8936</td>\n",
       "      <td>2021-07-13 14:27:25.313000+00:00</td>\n",
       "    </tr>\n",
       "  </tbody>\n",
       "</table>\n",
       "</div>"
      ],
      "text/plain": [
       "                    created_on  \\\n",
       "3334 2021-06-11 10:00:19+00:00   \n",
       "311  2021-06-03 10:00:13+00:00   \n",
       "950  2021-06-02 20:00:20+00:00   \n",
       "\n",
       "                                                                 title  \\\n",
       "3334  Daily Popular Tickers Thread for June 11, 2021 - AMC | BB | CLOV   \n",
       "311                          Daily Discussion Thread for June 03, 2021   \n",
       "950                        What Are Your Moves Tomorrow, June 03, 2021   \n",
       "\n",
       "                                                                                                     text  \\\n",
       "3334  \\nYour daily hype thread. Please keep the shitposting to a maximum.\\n\\n^Navigate ^WSB |^We ^reco...   \n",
       "311   Your daily trading discussion thread. Please keep the shitposting to a minimum. \\n\\n^Navigate ^W...   \n",
       "950   Your daily trading discussion thread. Please keep the shitposting to a minimum. \\n\\n^Navigate ^W...   \n",
       "\n",
       "                    author             flair  \\\n",
       "3334             VisualMod              None   \n",
       "311   OPINION_IS_UNPOPULAR  Daily Discussion   \n",
       "950   OPINION_IS_UNPOPULAR  Daily Discussion   \n",
       "\n",
       "                                                                                 permalink  \\\n",
       "3334  /r/wallstreetbets/comments/nxcb5h/daily_popular_tickers_thread_for_june_11_2021_amc/   \n",
       "311            /r/wallstreetbets/comments/nr9r9t/daily_discussion_thread_for_june_03_2021/   \n",
       "950           /r/wallstreetbets/comments/nquubf/what_are_your_moves_tomorrow_june_03_2021/   \n",
       "\n",
       "      post_length  num_comments  sum_comments_length  avg_comment_length  \\\n",
       "3334         1782          9492               670418           70.629794   \n",
       "311          2359         56245              3356092           59.669162   \n",
       "950          2357         35642              2113514           59.298412   \n",
       "\n",
       "      num_rockets  num_diamonds  nunique_commenters  \\\n",
       "3334         3163          1167                2523   \n",
       "311          6961           830               10522   \n",
       "950          4250           706                8936   \n",
       "\n",
       "                      @meta.timestamp  \n",
       "3334 2021-07-13 14:27:30.164000+00:00  \n",
       "311  2021-07-13 14:27:25.308000+00:00  \n",
       "950  2021-07-13 14:27:25.313000+00:00  "
      ]
     },
     "execution_count": 38,
     "metadata": {},
     "output_type": "execute_result"
    }
   ],
   "source": [
    "posts.sort_values('num_diamonds', ascending=False).head(3)"
   ]
  },
  {
   "cell_type": "markdown",
   "id": "52376129",
   "metadata": {},
   "source": [
    "## Authors"
   ]
  },
  {
   "cell_type": "code",
   "execution_count": 54,
   "id": "339e8c22",
   "metadata": {},
   "outputs": [],
   "source": [
    "authors = await beneath.query_warehouse(\"\"\"\n",
    "with\n",
    "    posts_enhanced as (\n",
    "        select *,\n",
    "            array_length(split(title, \" \")) as num_words_title,\n",
    "            array_length(split(text, \" \")) as num_words_body,\n",
    "            array_length(regexp_extract_all(title, r\"\\\\x{1F680}\")) as num_rockets_title,\n",
    "            array_length(regexp_extract_all(text, r\"\\\\x{1F680}\")) as num_rockets_body,\n",
    "            array_length(regexp_extract_all(title, r\"\\\\x{1F48E}\")) as num_diamonds_title,\n",
    "            array_length(regexp_extract_all(text, r\"\\\\x{1F48E}\")) as num_diamonds_body\n",
    "        from `examples/reddit/r-wallstreetbets-posts`\n",
    "        where timestamp_trunc(created_on, month) = \"2021-06-01\"\n",
    "    ),\n",
    "    comments_enhanced as (\n",
    "        select *,\n",
    "            array_length(split(text, \" \")) as num_words,\n",
    "            array_length(regexp_extract_all(text, r\"\\\\x{1F680}\")) as num_rockets,\n",
    "            array_length(regexp_extract_all(text, r\"\\\\x{1F48E}\")) as num_diamonds\n",
    "        from `examples/reddit/r-wallstreetbets-comments`\n",
    "        where timestamp_trunc(created_on, month) = \"2021-06-01\"\n",
    "    ),\n",
    "    author_posts_stats as (\n",
    "        select \n",
    "            author, \n",
    "            count(*) as num_posts,\n",
    "            sum(num_words_title) + sum(num_words_body) as num_words,\n",
    "            sum(num_rockets_title) + sum(num_rockets_body) as num_rockets,\n",
    "            sum(num_diamonds_title) + sum(num_diamonds_body) as num_diamonds,\n",
    "        from posts_enhanced\n",
    "        group by author\n",
    "    ),\n",
    "    author_comments_stats as (\n",
    "        select\n",
    "            author,\n",
    "            count(*) as num_comments,\n",
    "            sum(num_words) as num_words,\n",
    "            sum(num_rockets) as num_rockets,\n",
    "            sum(num_diamonds) as num_diamonds\n",
    "        from comments_enhanced\n",
    "        group by author\n",
    "    )\n",
    "select \n",
    "    coalesce(p.author, c.author) as author,\n",
    "    ifnull(p.num_posts, 0) as num_posts,\n",
    "    ifnull(c.num_comments, 0) as num_comments,\n",
    "    ifnull(p.num_words, 0) + ifnull(c.num_words, 0) as num_words,\n",
    "    ifnull(p.num_rockets, 0) + ifnull(c.num_rockets, 0) as num_rockets,\n",
    "    ifnull(p.num_diamonds, 0) + ifnull(c.num_diamonds, 0) as num_diamonds,\n",
    "from author_posts_stats p\n",
    "full join author_comments_stats c on p.author = c.author\n",
    "\"\"\")"
   ]
  },
  {
   "cell_type": "code",
   "execution_count": 72,
   "id": "a6439819",
   "metadata": {},
   "outputs": [],
   "source": [
    "authors_no_mods = authors.loc[[author not in MODERATORS for author in authors['author']]]"
   ]
  },
  {
   "cell_type": "markdown",
   "id": "87927e8d",
   "metadata": {},
   "source": [
    "Author with the most posts"
   ]
  },
  {
   "cell_type": "code",
   "execution_count": 73,
   "id": "d9e7551b",
   "metadata": {},
   "outputs": [
    {
     "data": {
      "text/html": [
       "<div>\n",
       "<style scoped>\n",
       "    .dataframe tbody tr th:only-of-type {\n",
       "        vertical-align: middle;\n",
       "    }\n",
       "\n",
       "    .dataframe tbody tr th {\n",
       "        vertical-align: top;\n",
       "    }\n",
       "\n",
       "    .dataframe thead th {\n",
       "        text-align: right;\n",
       "    }\n",
       "</style>\n",
       "<table border=\"1\" class=\"dataframe\">\n",
       "  <thead>\n",
       "    <tr style=\"text-align: right;\">\n",
       "      <th></th>\n",
       "      <th>author</th>\n",
       "      <th>num_posts</th>\n",
       "      <th>num_comments</th>\n",
       "      <th>num_words</th>\n",
       "      <th>num_rockets</th>\n",
       "      <th>num_diamonds</th>\n",
       "      <th>@meta.timestamp</th>\n",
       "    </tr>\n",
       "  </thead>\n",
       "  <tbody>\n",
       "    <tr>\n",
       "      <th>15518</th>\n",
       "      <td>BackgroundProgram389</td>\n",
       "      <td>45</td>\n",
       "      <td>323</td>\n",
       "      <td>2280</td>\n",
       "      <td>0</td>\n",
       "      <td>0</td>\n",
       "      <td>2021-07-14 10:15:56.625000+00:00</td>\n",
       "    </tr>\n",
       "    <tr>\n",
       "      <th>7314</th>\n",
       "      <td>DerekZ1985</td>\n",
       "      <td>37</td>\n",
       "      <td>393</td>\n",
       "      <td>6352</td>\n",
       "      <td>0</td>\n",
       "      <td>0</td>\n",
       "      <td>2021-07-14 10:15:53.283000+00:00</td>\n",
       "    </tr>\n",
       "    <tr>\n",
       "      <th>3098</th>\n",
       "      <td>Z3r0Confidence</td>\n",
       "      <td>37</td>\n",
       "      <td>276</td>\n",
       "      <td>12328</td>\n",
       "      <td>49</td>\n",
       "      <td>0</td>\n",
       "      <td>2021-07-14 10:15:50.287000+00:00</td>\n",
       "    </tr>\n",
       "  </tbody>\n",
       "</table>\n",
       "</div>"
      ],
      "text/plain": [
       "                     author  num_posts  num_comments  num_words  num_rockets  \\\n",
       "15518  BackgroundProgram389         45           323       2280            0   \n",
       "7314             DerekZ1985         37           393       6352            0   \n",
       "3098         Z3r0Confidence         37           276      12328           49   \n",
       "\n",
       "       num_diamonds                  @meta.timestamp  \n",
       "15518             0 2021-07-14 10:15:56.625000+00:00  \n",
       "7314              0 2021-07-14 10:15:53.283000+00:00  \n",
       "3098              0 2021-07-14 10:15:50.287000+00:00  "
      ]
     },
     "execution_count": 73,
     "metadata": {},
     "output_type": "execute_result"
    }
   ],
   "source": [
    "authors_no_mods.sort_values('num_posts', ascending=False).head(3)"
   ]
  },
  {
   "cell_type": "markdown",
   "id": "1532fabb",
   "metadata": {},
   "source": [
    "Author with the most comments"
   ]
  },
  {
   "cell_type": "code",
   "execution_count": 74,
   "id": "5da8edb1",
   "metadata": {},
   "outputs": [
    {
     "data": {
      "text/html": [
       "<div>\n",
       "<style scoped>\n",
       "    .dataframe tbody tr th:only-of-type {\n",
       "        vertical-align: middle;\n",
       "    }\n",
       "\n",
       "    .dataframe tbody tr th {\n",
       "        vertical-align: top;\n",
       "    }\n",
       "\n",
       "    .dataframe thead th {\n",
       "        text-align: right;\n",
       "    }\n",
       "</style>\n",
       "<table border=\"1\" class=\"dataframe\">\n",
       "  <thead>\n",
       "    <tr style=\"text-align: right;\">\n",
       "      <th></th>\n",
       "      <th>author</th>\n",
       "      <th>num_posts</th>\n",
       "      <th>num_comments</th>\n",
       "      <th>num_words</th>\n",
       "      <th>num_rockets</th>\n",
       "      <th>num_diamonds</th>\n",
       "      <th>@meta.timestamp</th>\n",
       "    </tr>\n",
       "  </thead>\n",
       "  <tbody>\n",
       "    <tr>\n",
       "      <th>1607</th>\n",
       "      <td>MoonArmy1977</td>\n",
       "      <td>0</td>\n",
       "      <td>3458</td>\n",
       "      <td>43605</td>\n",
       "      <td>25</td>\n",
       "      <td>32</td>\n",
       "      <td>2021-07-14 10:15:48.965000+00:00</td>\n",
       "    </tr>\n",
       "    <tr>\n",
       "      <th>5051</th>\n",
       "      <td>Dinosaur_Eats_Pizza</td>\n",
       "      <td>1</td>\n",
       "      <td>3034</td>\n",
       "      <td>34533</td>\n",
       "      <td>82</td>\n",
       "      <td>0</td>\n",
       "      <td>2021-07-14 10:15:52.077000+00:00</td>\n",
       "    </tr>\n",
       "    <tr>\n",
       "      <th>13272</th>\n",
       "      <td>toydan</td>\n",
       "      <td>1</td>\n",
       "      <td>2811</td>\n",
       "      <td>45763</td>\n",
       "      <td>0</td>\n",
       "      <td>0</td>\n",
       "      <td>2021-07-14 10:15:55.755000+00:00</td>\n",
       "    </tr>\n",
       "  </tbody>\n",
       "</table>\n",
       "</div>"
      ],
      "text/plain": [
       "                    author  num_posts  num_comments  num_words  num_rockets  \\\n",
       "1607          MoonArmy1977          0          3458      43605           25   \n",
       "5051   Dinosaur_Eats_Pizza          1          3034      34533           82   \n",
       "13272               toydan          1          2811      45763            0   \n",
       "\n",
       "       num_diamonds                  @meta.timestamp  \n",
       "1607             32 2021-07-14 10:15:48.965000+00:00  \n",
       "5051              0 2021-07-14 10:15:52.077000+00:00  \n",
       "13272             0 2021-07-14 10:15:55.755000+00:00  "
      ]
     },
     "execution_count": 74,
     "metadata": {},
     "output_type": "execute_result"
    }
   ],
   "source": [
    "authors_no_mods.sort_values('num_comments', ascending=False).head(3)"
   ]
  },
  {
   "cell_type": "markdown",
   "id": "78cbb374",
   "metadata": {},
   "source": [
    "Author who wrote the most words"
   ]
  },
  {
   "cell_type": "code",
   "execution_count": 75,
   "id": "5a85fb21",
   "metadata": {},
   "outputs": [
    {
     "data": {
      "text/html": [
       "<div>\n",
       "<style scoped>\n",
       "    .dataframe tbody tr th:only-of-type {\n",
       "        vertical-align: middle;\n",
       "    }\n",
       "\n",
       "    .dataframe tbody tr th {\n",
       "        vertical-align: top;\n",
       "    }\n",
       "\n",
       "    .dataframe thead th {\n",
       "        text-align: right;\n",
       "    }\n",
       "</style>\n",
       "<table border=\"1\" class=\"dataframe\">\n",
       "  <thead>\n",
       "    <tr style=\"text-align: right;\">\n",
       "      <th></th>\n",
       "      <th>author</th>\n",
       "      <th>num_posts</th>\n",
       "      <th>num_comments</th>\n",
       "      <th>num_words</th>\n",
       "      <th>num_rockets</th>\n",
       "      <th>num_diamonds</th>\n",
       "      <th>@meta.timestamp</th>\n",
       "    </tr>\n",
       "  </thead>\n",
       "  <tbody>\n",
       "    <tr>\n",
       "      <th>13272</th>\n",
       "      <td>toydan</td>\n",
       "      <td>1</td>\n",
       "      <td>2811</td>\n",
       "      <td>45763</td>\n",
       "      <td>0</td>\n",
       "      <td>0</td>\n",
       "      <td>2021-07-14 10:15:55.755000+00:00</td>\n",
       "    </tr>\n",
       "    <tr>\n",
       "      <th>1607</th>\n",
       "      <td>MoonArmy1977</td>\n",
       "      <td>0</td>\n",
       "      <td>3458</td>\n",
       "      <td>43605</td>\n",
       "      <td>25</td>\n",
       "      <td>32</td>\n",
       "      <td>2021-07-14 10:15:48.965000+00:00</td>\n",
       "    </tr>\n",
       "    <tr>\n",
       "      <th>5051</th>\n",
       "      <td>Dinosaur_Eats_Pizza</td>\n",
       "      <td>1</td>\n",
       "      <td>3034</td>\n",
       "      <td>34533</td>\n",
       "      <td>82</td>\n",
       "      <td>0</td>\n",
       "      <td>2021-07-14 10:15:52.077000+00:00</td>\n",
       "    </tr>\n",
       "  </tbody>\n",
       "</table>\n",
       "</div>"
      ],
      "text/plain": [
       "                    author  num_posts  num_comments  num_words  num_rockets  \\\n",
       "13272               toydan          1          2811      45763            0   \n",
       "1607          MoonArmy1977          0          3458      43605           25   \n",
       "5051   Dinosaur_Eats_Pizza          1          3034      34533           82   \n",
       "\n",
       "       num_diamonds                  @meta.timestamp  \n",
       "13272             0 2021-07-14 10:15:55.755000+00:00  \n",
       "1607             32 2021-07-14 10:15:48.965000+00:00  \n",
       "5051              0 2021-07-14 10:15:52.077000+00:00  "
      ]
     },
     "execution_count": 75,
     "metadata": {},
     "output_type": "execute_result"
    }
   ],
   "source": [
    "authors_no_mods.sort_values('num_words', ascending=False).head(3)"
   ]
  },
  {
   "cell_type": "markdown",
   "id": "ecd1b441",
   "metadata": {},
   "source": [
    "Author who posted the most rockets"
   ]
  },
  {
   "cell_type": "code",
   "execution_count": 76,
   "id": "9b28b8fe",
   "metadata": {},
   "outputs": [
    {
     "data": {
      "text/html": [
       "<div>\n",
       "<style scoped>\n",
       "    .dataframe tbody tr th:only-of-type {\n",
       "        vertical-align: middle;\n",
       "    }\n",
       "\n",
       "    .dataframe tbody tr th {\n",
       "        vertical-align: top;\n",
       "    }\n",
       "\n",
       "    .dataframe thead th {\n",
       "        text-align: right;\n",
       "    }\n",
       "</style>\n",
       "<table border=\"1\" class=\"dataframe\">\n",
       "  <thead>\n",
       "    <tr style=\"text-align: right;\">\n",
       "      <th></th>\n",
       "      <th>author</th>\n",
       "      <th>num_posts</th>\n",
       "      <th>num_comments</th>\n",
       "      <th>num_words</th>\n",
       "      <th>num_rockets</th>\n",
       "      <th>num_diamonds</th>\n",
       "      <th>@meta.timestamp</th>\n",
       "    </tr>\n",
       "  </thead>\n",
       "  <tbody>\n",
       "    <tr>\n",
       "      <th>6907</th>\n",
       "      <td>mateace</td>\n",
       "      <td>0</td>\n",
       "      <td>27</td>\n",
       "      <td>295</td>\n",
       "      <td>2717</td>\n",
       "      <td>0</td>\n",
       "      <td>2021-07-14 10:15:52.885000+00:00</td>\n",
       "    </tr>\n",
       "    <tr>\n",
       "      <th>11097</th>\n",
       "      <td>unipaulie</td>\n",
       "      <td>2</td>\n",
       "      <td>377</td>\n",
       "      <td>3032</td>\n",
       "      <td>1760</td>\n",
       "      <td>23</td>\n",
       "      <td>2021-07-14 10:15:54.937000+00:00</td>\n",
       "    </tr>\n",
       "    <tr>\n",
       "      <th>4766</th>\n",
       "      <td>LordTender</td>\n",
       "      <td>0</td>\n",
       "      <td>372</td>\n",
       "      <td>2931</td>\n",
       "      <td>1039</td>\n",
       "      <td>0</td>\n",
       "      <td>2021-07-14 10:15:51.527000+00:00</td>\n",
       "    </tr>\n",
       "  </tbody>\n",
       "</table>\n",
       "</div>"
      ],
      "text/plain": [
       "           author  num_posts  num_comments  num_words  num_rockets  \\\n",
       "6907      mateace          0            27        295         2717   \n",
       "11097   unipaulie          2           377       3032         1760   \n",
       "4766   LordTender          0           372       2931         1039   \n",
       "\n",
       "       num_diamonds                  @meta.timestamp  \n",
       "6907              0 2021-07-14 10:15:52.885000+00:00  \n",
       "11097            23 2021-07-14 10:15:54.937000+00:00  \n",
       "4766              0 2021-07-14 10:15:51.527000+00:00  "
      ]
     },
     "execution_count": 76,
     "metadata": {},
     "output_type": "execute_result"
    }
   ],
   "source": [
    "authors_no_mods.sort_values('num_rockets', ascending=False).head(3)"
   ]
  },
  {
   "cell_type": "markdown",
   "id": "e0152c8d",
   "metadata": {},
   "source": [
    "Author who posted the most diamonds"
   ]
  },
  {
   "cell_type": "code",
   "execution_count": 77,
   "id": "05722790",
   "metadata": {},
   "outputs": [
    {
     "data": {
      "text/html": [
       "<div>\n",
       "<style scoped>\n",
       "    .dataframe tbody tr th:only-of-type {\n",
       "        vertical-align: middle;\n",
       "    }\n",
       "\n",
       "    .dataframe tbody tr th {\n",
       "        vertical-align: top;\n",
       "    }\n",
       "\n",
       "    .dataframe thead th {\n",
       "        text-align: right;\n",
       "    }\n",
       "</style>\n",
       "<table border=\"1\" class=\"dataframe\">\n",
       "  <thead>\n",
       "    <tr style=\"text-align: right;\">\n",
       "      <th></th>\n",
       "      <th>author</th>\n",
       "      <th>num_posts</th>\n",
       "      <th>num_comments</th>\n",
       "      <th>num_words</th>\n",
       "      <th>num_rockets</th>\n",
       "      <th>num_diamonds</th>\n",
       "      <th>@meta.timestamp</th>\n",
       "    </tr>\n",
       "  </thead>\n",
       "  <tbody>\n",
       "    <tr>\n",
       "      <th>15373</th>\n",
       "      <td>Sc0ttyMinz</td>\n",
       "      <td>1</td>\n",
       "      <td>335</td>\n",
       "      <td>2026</td>\n",
       "      <td>590</td>\n",
       "      <td>710</td>\n",
       "      <td>2021-07-14 10:15:56.624000+00:00</td>\n",
       "    </tr>\n",
       "    <tr>\n",
       "      <th>8323</th>\n",
       "      <td>Tazzer57</td>\n",
       "      <td>0</td>\n",
       "      <td>875</td>\n",
       "      <td>8127</td>\n",
       "      <td>926</td>\n",
       "      <td>385</td>\n",
       "      <td>2021-07-14 10:15:53.750000+00:00</td>\n",
       "    </tr>\n",
       "    <tr>\n",
       "      <th>107348</th>\n",
       "      <td>FriendlyhoodKomrad</td>\n",
       "      <td>3</td>\n",
       "      <td>2</td>\n",
       "      <td>246</td>\n",
       "      <td>0</td>\n",
       "      <td>330</td>\n",
       "      <td>2021-07-14 10:16:33.776000+00:00</td>\n",
       "    </tr>\n",
       "  </tbody>\n",
       "</table>\n",
       "</div>"
      ],
      "text/plain": [
       "                    author  num_posts  num_comments  num_words  num_rockets  \\\n",
       "15373           Sc0ttyMinz          1           335       2026          590   \n",
       "8323              Tazzer57          0           875       8127          926   \n",
       "107348  FriendlyhoodKomrad          3             2        246            0   \n",
       "\n",
       "        num_diamonds                  @meta.timestamp  \n",
       "15373            710 2021-07-14 10:15:56.624000+00:00  \n",
       "8323             385 2021-07-14 10:15:53.750000+00:00  \n",
       "107348           330 2021-07-14 10:16:33.776000+00:00  "
      ]
     },
     "execution_count": 77,
     "metadata": {},
     "output_type": "execute_result"
    }
   ],
   "source": [
    "authors_no_mods.sort_values('num_diamonds', ascending=False).head(3)"
   ]
  },
  {
   "cell_type": "markdown",
   "id": "c6987555",
   "metadata": {},
   "source": [
    "Author that spurred the most discussion"
   ]
  },
  {
   "cell_type": "code",
   "execution_count": 90,
   "id": "9d16bbbc",
   "metadata": {},
   "outputs": [
    {
     "data": {
      "text/html": [
       "<div>\n",
       "<style scoped>\n",
       "    .dataframe tbody tr th:only-of-type {\n",
       "        vertical-align: middle;\n",
       "    }\n",
       "\n",
       "    .dataframe tbody tr th {\n",
       "        vertical-align: top;\n",
       "    }\n",
       "\n",
       "    .dataframe thead th {\n",
       "        text-align: right;\n",
       "    }\n",
       "</style>\n",
       "<table border=\"1\" class=\"dataframe\">\n",
       "  <thead>\n",
       "    <tr style=\"text-align: right;\">\n",
       "      <th></th>\n",
       "      <th>author</th>\n",
       "      <th>num_comments_on_posts</th>\n",
       "    </tr>\n",
       "  </thead>\n",
       "  <tbody>\n",
       "    <tr>\n",
       "      <th>17874</th>\n",
       "      <td>pittluke</td>\n",
       "      <td>8297</td>\n",
       "    </tr>\n",
       "    <tr>\n",
       "      <th>19883</th>\n",
       "      <td>yolocallking</td>\n",
       "      <td>5311</td>\n",
       "    </tr>\n",
       "    <tr>\n",
       "      <th>13198</th>\n",
       "      <td>Your_Boy_Roy_</td>\n",
       "      <td>4566</td>\n",
       "    </tr>\n",
       "  </tbody>\n",
       "</table>\n",
       "</div>"
      ],
      "text/plain": [
       "              author  num_comments_on_posts\n",
       "17874       pittluke                   8297\n",
       "19883   yolocallking                   5311\n",
       "13198  Your_Boy_Roy_                   4566"
      ]
     },
     "execution_count": 90,
     "metadata": {},
     "output_type": "execute_result"
    }
   ],
   "source": [
    "posts.loc[[author not in MODERATORS for author in posts['author']]] \\\n",
    "    .groupby('author')['num_comments'] \\\n",
    "    .sum() \\\n",
    "    .reset_index() \\\n",
    "    .sort_values('num_comments', ascending=False) \\\n",
    "    .rename(columns={'num_comments': 'num_comments_on_posts'}) \\\n",
    "    .head(3)"
   ]
  },
  {
   "cell_type": "markdown",
   "id": "611bc89d",
   "metadata": {},
   "source": [
    "## Stock mentions"
   ]
  },
  {
   "cell_type": "code",
   "execution_count": 137,
   "id": "df72a6cc",
   "metadata": {},
   "outputs": [],
   "source": [
    "mentions = await beneath.query_warehouse(\"\"\"\n",
    "with\n",
    "    stock_mentions_posts as (\n",
    "        select \n",
    "            symbol, \n",
    "            timestamp_trunc(timestamp, day) as day, \n",
    "            count(*) as num_mentions\n",
    "        from `examples/wallstreetbets-analytics/r-wallstreetbets-posts-stock-mentions`\n",
    "        group by symbol, timestamp_trunc(timestamp, day)\n",
    "    ),\n",
    "    stock_mentions_comments as (\n",
    "        select \n",
    "            symbol, \n",
    "            timestamp_trunc(timestamp, day) as day, \n",
    "            count(*) as num_mentions\n",
    "        from `examples/wallstreetbets-analytics/r-wallstreetbets-comments-stock-mentions`\n",
    "        group by symbol, timestamp_trunc(timestamp, day)\n",
    "    )\n",
    "select \n",
    "    coalesce(p.symbol, c.symbol) as symbol,\n",
    "    coalesce(p.day, c.day) as day,\n",
    "    ifnull(p.num_mentions, 0) + ifnull(c.num_mentions,0) as num_mentions\n",
    "from stock_mentions_posts p\n",
    "full join stock_mentions_comments c on p.symbol = c.symbol and p.day = c.day\n",
    "order by symbol, day\n",
    "\"\"\")"
   ]
  },
  {
   "cell_type": "code",
   "execution_count": 138,
   "id": "4c8dd72f",
   "metadata": {},
   "outputs": [],
   "source": [
    "mentions = mentions[~mentions['symbol'].isin(BLACKLIST)]"
   ]
  },
  {
   "cell_type": "markdown",
   "id": "516c4f6a",
   "metadata": {},
   "source": [
    "Keep track of the top symbols"
   ]
  },
  {
   "cell_type": "code",
   "execution_count": 156,
   "id": "717e1cfe",
   "metadata": {},
   "outputs": [],
   "source": [
    "top_symbols_alltime_df = mentions \\\n",
    "    .groupby('symbol')['num_mentions'] \\\n",
    "    .sum() \\\n",
    "    .reset_index() \\\n",
    "    .sort_values('num_mentions', ascending=False)\n",
    "top_symbols_alltime = top_symbols_alltime_df['symbol'][:100]\n",
    "top_symbols_june_df = mentions.loc[mentions['day'].dt.month == 6] \\\n",
    "    .groupby('symbol')['num_mentions'] \\\n",
    "    .sum() \\\n",
    "    .reset_index() \\\n",
    "    .sort_values('num_mentions', ascending=False)\n",
    "top_symbols_june = top_symbols_june_df['symbol'][:100]"
   ]
  },
  {
   "cell_type": "code",
   "execution_count": 157,
   "id": "b2aa0c48",
   "metadata": {},
   "outputs": [
    {
     "data": {
      "application/vnd.plotly.v1+json": {
       "config": {
        "plotlyServerURL": "https://plot.ly"
       },
       "data": [
        {
         "alignmentgroup": "True",
         "hovertemplate": "Symbol=%{y}<br>Mentions=%{text}<extra></extra>",
         "legendgroup": "BB",
         "marker": {
          "color": "#636efa",
          "pattern": {
           "shape": ""
          }
         },
         "name": "BB",
         "offsetgroup": "BB",
         "orientation": "h",
         "showlegend": true,
         "text": [
          "77375"
         ],
         "textposition": "auto",
         "type": "bar",
         "x": [
          77375
         ],
         "xaxis": "x",
         "y": [
          "BB"
         ],
         "yaxis": "y"
        },
        {
         "alignmentgroup": "True",
         "hovertemplate": "Symbol=%{y}<br>Mentions=%{text}<extra></extra>",
         "legendgroup": "AMC",
         "marker": {
          "color": "#EF553B",
          "pattern": {
           "shape": ""
          }
         },
         "name": "AMC",
         "offsetgroup": "AMC",
         "orientation": "h",
         "showlegend": true,
         "text": [
          "74149"
         ],
         "textposition": "auto",
         "type": "bar",
         "x": [
          74149
         ],
         "xaxis": "x",
         "y": [
          "AMC"
         ],
         "yaxis": "y"
        },
        {
         "alignmentgroup": "True",
         "hovertemplate": "Symbol=%{y}<br>Mentions=%{text}<extra></extra>",
         "legendgroup": "GME",
         "marker": {
          "color": "#00cc96",
          "pattern": {
           "shape": ""
          }
         },
         "name": "GME",
         "offsetgroup": "GME",
         "orientation": "h",
         "showlegend": true,
         "text": [
          "41550"
         ],
         "textposition": "auto",
         "type": "bar",
         "x": [
          41550
         ],
         "xaxis": "x",
         "y": [
          "GME"
         ],
         "yaxis": "y"
        },
        {
         "alignmentgroup": "True",
         "hovertemplate": "Symbol=%{y}<br>Mentions=%{text}<extra></extra>",
         "legendgroup": "CLOV",
         "marker": {
          "color": "#ab63fa",
          "pattern": {
           "shape": ""
          }
         },
         "name": "CLOV",
         "offsetgroup": "CLOV",
         "orientation": "h",
         "showlegend": true,
         "text": [
          "41188"
         ],
         "textposition": "auto",
         "type": "bar",
         "x": [
          41188
         ],
         "xaxis": "x",
         "y": [
          "CLOV"
         ],
         "yaxis": "y"
        },
        {
         "alignmentgroup": "True",
         "hovertemplate": "Symbol=%{y}<br>Mentions=%{text}<extra></extra>",
         "legendgroup": "CLNE",
         "marker": {
          "color": "#FFA15A",
          "pattern": {
           "shape": ""
          }
         },
         "name": "CLNE",
         "offsetgroup": "CLNE",
         "orientation": "h",
         "showlegend": true,
         "text": [
          "35998"
         ],
         "textposition": "auto",
         "type": "bar",
         "x": [
          35998
         ],
         "xaxis": "x",
         "y": [
          "CLNE"
         ],
         "yaxis": "y"
        },
        {
         "alignmentgroup": "True",
         "hovertemplate": "Symbol=%{y}<br>Mentions=%{text}<extra></extra>",
         "legendgroup": "WISH",
         "marker": {
          "color": "#19d3f3",
          "pattern": {
           "shape": ""
          }
         },
         "name": "WISH",
         "offsetgroup": "WISH",
         "orientation": "h",
         "showlegend": true,
         "text": [
          "35399"
         ],
         "textposition": "auto",
         "type": "bar",
         "x": [
          35399
         ],
         "xaxis": "x",
         "y": [
          "WISH"
         ],
         "yaxis": "y"
        },
        {
         "alignmentgroup": "True",
         "hovertemplate": "Symbol=%{y}<br>Mentions=%{text}<extra></extra>",
         "legendgroup": "WKHS",
         "marker": {
          "color": "#FF6692",
          "pattern": {
           "shape": ""
          }
         },
         "name": "WKHS",
         "offsetgroup": "WKHS",
         "orientation": "h",
         "showlegend": true,
         "text": [
          "19486"
         ],
         "textposition": "auto",
         "type": "bar",
         "x": [
          19486
         ],
         "xaxis": "x",
         "y": [
          "WKHS"
         ],
         "yaxis": "y"
        },
        {
         "alignmentgroup": "True",
         "hovertemplate": "Symbol=%{y}<br>Mentions=%{text}<extra></extra>",
         "legendgroup": "CLF",
         "marker": {
          "color": "#B6E880",
          "pattern": {
           "shape": ""
          }
         },
         "name": "CLF",
         "offsetgroup": "CLF",
         "orientation": "h",
         "showlegend": true,
         "text": [
          "11627"
         ],
         "textposition": "auto",
         "type": "bar",
         "x": [
          11627
         ],
         "xaxis": "x",
         "y": [
          "CLF"
         ],
         "yaxis": "y"
        },
        {
         "alignmentgroup": "True",
         "hovertemplate": "Symbol=%{y}<br>Mentions=%{text}<extra></extra>",
         "legendgroup": "TLRY",
         "marker": {
          "color": "#FF97FF",
          "pattern": {
           "shape": ""
          }
         },
         "name": "TLRY",
         "offsetgroup": "TLRY",
         "orientation": "h",
         "showlegend": true,
         "text": [
          "10823"
         ],
         "textposition": "auto",
         "type": "bar",
         "x": [
          10823
         ],
         "xaxis": "x",
         "y": [
          "TLRY"
         ],
         "yaxis": "y"
        },
        {
         "alignmentgroup": "True",
         "hovertemplate": "Symbol=%{y}<br>Mentions=%{text}<extra></extra>",
         "legendgroup": "UWMC",
         "marker": {
          "color": "#FECB52",
          "pattern": {
           "shape": ""
          }
         },
         "name": "UWMC",
         "offsetgroup": "UWMC",
         "orientation": "h",
         "showlegend": true,
         "text": [
          "9223"
         ],
         "textposition": "auto",
         "type": "bar",
         "x": [
          9223
         ],
         "xaxis": "x",
         "y": [
          "UWMC"
         ],
         "yaxis": "y"
        }
       ],
       "layout": {
        "barmode": "relative",
        "legend": {
         "title": {
          "text": "Symbol"
         },
         "tracegroupgap": 0
        },
        "showlegend": false,
        "template": {
         "data": {
          "bar": [
           {
            "error_x": {
             "color": "#2a3f5f"
            },
            "error_y": {
             "color": "#2a3f5f"
            },
            "marker": {
             "line": {
              "color": "#E5ECF6",
              "width": 0.5
             },
             "pattern": {
              "fillmode": "overlay",
              "size": 10,
              "solidity": 0.2
             }
            },
            "type": "bar"
           }
          ],
          "barpolar": [
           {
            "marker": {
             "line": {
              "color": "#E5ECF6",
              "width": 0.5
             },
             "pattern": {
              "fillmode": "overlay",
              "size": 10,
              "solidity": 0.2
             }
            },
            "type": "barpolar"
           }
          ],
          "carpet": [
           {
            "aaxis": {
             "endlinecolor": "#2a3f5f",
             "gridcolor": "white",
             "linecolor": "white",
             "minorgridcolor": "white",
             "startlinecolor": "#2a3f5f"
            },
            "baxis": {
             "endlinecolor": "#2a3f5f",
             "gridcolor": "white",
             "linecolor": "white",
             "minorgridcolor": "white",
             "startlinecolor": "#2a3f5f"
            },
            "type": "carpet"
           }
          ],
          "choropleth": [
           {
            "colorbar": {
             "outlinewidth": 0,
             "ticks": ""
            },
            "type": "choropleth"
           }
          ],
          "contour": [
           {
            "colorbar": {
             "outlinewidth": 0,
             "ticks": ""
            },
            "colorscale": [
             [
              0,
              "#0d0887"
             ],
             [
              0.1111111111111111,
              "#46039f"
             ],
             [
              0.2222222222222222,
              "#7201a8"
             ],
             [
              0.3333333333333333,
              "#9c179e"
             ],
             [
              0.4444444444444444,
              "#bd3786"
             ],
             [
              0.5555555555555556,
              "#d8576b"
             ],
             [
              0.6666666666666666,
              "#ed7953"
             ],
             [
              0.7777777777777778,
              "#fb9f3a"
             ],
             [
              0.8888888888888888,
              "#fdca26"
             ],
             [
              1,
              "#f0f921"
             ]
            ],
            "type": "contour"
           }
          ],
          "contourcarpet": [
           {
            "colorbar": {
             "outlinewidth": 0,
             "ticks": ""
            },
            "type": "contourcarpet"
           }
          ],
          "heatmap": [
           {
            "colorbar": {
             "outlinewidth": 0,
             "ticks": ""
            },
            "colorscale": [
             [
              0,
              "#0d0887"
             ],
             [
              0.1111111111111111,
              "#46039f"
             ],
             [
              0.2222222222222222,
              "#7201a8"
             ],
             [
              0.3333333333333333,
              "#9c179e"
             ],
             [
              0.4444444444444444,
              "#bd3786"
             ],
             [
              0.5555555555555556,
              "#d8576b"
             ],
             [
              0.6666666666666666,
              "#ed7953"
             ],
             [
              0.7777777777777778,
              "#fb9f3a"
             ],
             [
              0.8888888888888888,
              "#fdca26"
             ],
             [
              1,
              "#f0f921"
             ]
            ],
            "type": "heatmap"
           }
          ],
          "heatmapgl": [
           {
            "colorbar": {
             "outlinewidth": 0,
             "ticks": ""
            },
            "colorscale": [
             [
              0,
              "#0d0887"
             ],
             [
              0.1111111111111111,
              "#46039f"
             ],
             [
              0.2222222222222222,
              "#7201a8"
             ],
             [
              0.3333333333333333,
              "#9c179e"
             ],
             [
              0.4444444444444444,
              "#bd3786"
             ],
             [
              0.5555555555555556,
              "#d8576b"
             ],
             [
              0.6666666666666666,
              "#ed7953"
             ],
             [
              0.7777777777777778,
              "#fb9f3a"
             ],
             [
              0.8888888888888888,
              "#fdca26"
             ],
             [
              1,
              "#f0f921"
             ]
            ],
            "type": "heatmapgl"
           }
          ],
          "histogram": [
           {
            "marker": {
             "pattern": {
              "fillmode": "overlay",
              "size": 10,
              "solidity": 0.2
             }
            },
            "type": "histogram"
           }
          ],
          "histogram2d": [
           {
            "colorbar": {
             "outlinewidth": 0,
             "ticks": ""
            },
            "colorscale": [
             [
              0,
              "#0d0887"
             ],
             [
              0.1111111111111111,
              "#46039f"
             ],
             [
              0.2222222222222222,
              "#7201a8"
             ],
             [
              0.3333333333333333,
              "#9c179e"
             ],
             [
              0.4444444444444444,
              "#bd3786"
             ],
             [
              0.5555555555555556,
              "#d8576b"
             ],
             [
              0.6666666666666666,
              "#ed7953"
             ],
             [
              0.7777777777777778,
              "#fb9f3a"
             ],
             [
              0.8888888888888888,
              "#fdca26"
             ],
             [
              1,
              "#f0f921"
             ]
            ],
            "type": "histogram2d"
           }
          ],
          "histogram2dcontour": [
           {
            "colorbar": {
             "outlinewidth": 0,
             "ticks": ""
            },
            "colorscale": [
             [
              0,
              "#0d0887"
             ],
             [
              0.1111111111111111,
              "#46039f"
             ],
             [
              0.2222222222222222,
              "#7201a8"
             ],
             [
              0.3333333333333333,
              "#9c179e"
             ],
             [
              0.4444444444444444,
              "#bd3786"
             ],
             [
              0.5555555555555556,
              "#d8576b"
             ],
             [
              0.6666666666666666,
              "#ed7953"
             ],
             [
              0.7777777777777778,
              "#fb9f3a"
             ],
             [
              0.8888888888888888,
              "#fdca26"
             ],
             [
              1,
              "#f0f921"
             ]
            ],
            "type": "histogram2dcontour"
           }
          ],
          "mesh3d": [
           {
            "colorbar": {
             "outlinewidth": 0,
             "ticks": ""
            },
            "type": "mesh3d"
           }
          ],
          "parcoords": [
           {
            "line": {
             "colorbar": {
              "outlinewidth": 0,
              "ticks": ""
             }
            },
            "type": "parcoords"
           }
          ],
          "pie": [
           {
            "automargin": true,
            "type": "pie"
           }
          ],
          "scatter": [
           {
            "marker": {
             "colorbar": {
              "outlinewidth": 0,
              "ticks": ""
             }
            },
            "type": "scatter"
           }
          ],
          "scatter3d": [
           {
            "line": {
             "colorbar": {
              "outlinewidth": 0,
              "ticks": ""
             }
            },
            "marker": {
             "colorbar": {
              "outlinewidth": 0,
              "ticks": ""
             }
            },
            "type": "scatter3d"
           }
          ],
          "scattercarpet": [
           {
            "marker": {
             "colorbar": {
              "outlinewidth": 0,
              "ticks": ""
             }
            },
            "type": "scattercarpet"
           }
          ],
          "scattergeo": [
           {
            "marker": {
             "colorbar": {
              "outlinewidth": 0,
              "ticks": ""
             }
            },
            "type": "scattergeo"
           }
          ],
          "scattergl": [
           {
            "marker": {
             "colorbar": {
              "outlinewidth": 0,
              "ticks": ""
             }
            },
            "type": "scattergl"
           }
          ],
          "scattermapbox": [
           {
            "marker": {
             "colorbar": {
              "outlinewidth": 0,
              "ticks": ""
             }
            },
            "type": "scattermapbox"
           }
          ],
          "scatterpolar": [
           {
            "marker": {
             "colorbar": {
              "outlinewidth": 0,
              "ticks": ""
             }
            },
            "type": "scatterpolar"
           }
          ],
          "scatterpolargl": [
           {
            "marker": {
             "colorbar": {
              "outlinewidth": 0,
              "ticks": ""
             }
            },
            "type": "scatterpolargl"
           }
          ],
          "scatterternary": [
           {
            "marker": {
             "colorbar": {
              "outlinewidth": 0,
              "ticks": ""
             }
            },
            "type": "scatterternary"
           }
          ],
          "surface": [
           {
            "colorbar": {
             "outlinewidth": 0,
             "ticks": ""
            },
            "colorscale": [
             [
              0,
              "#0d0887"
             ],
             [
              0.1111111111111111,
              "#46039f"
             ],
             [
              0.2222222222222222,
              "#7201a8"
             ],
             [
              0.3333333333333333,
              "#9c179e"
             ],
             [
              0.4444444444444444,
              "#bd3786"
             ],
             [
              0.5555555555555556,
              "#d8576b"
             ],
             [
              0.6666666666666666,
              "#ed7953"
             ],
             [
              0.7777777777777778,
              "#fb9f3a"
             ],
             [
              0.8888888888888888,
              "#fdca26"
             ],
             [
              1,
              "#f0f921"
             ]
            ],
            "type": "surface"
           }
          ],
          "table": [
           {
            "cells": {
             "fill": {
              "color": "#EBF0F8"
             },
             "line": {
              "color": "white"
             }
            },
            "header": {
             "fill": {
              "color": "#C8D4E3"
             },
             "line": {
              "color": "white"
             }
            },
            "type": "table"
           }
          ]
         },
         "layout": {
          "annotationdefaults": {
           "arrowcolor": "#2a3f5f",
           "arrowhead": 0,
           "arrowwidth": 1
          },
          "autotypenumbers": "strict",
          "coloraxis": {
           "colorbar": {
            "outlinewidth": 0,
            "ticks": ""
           }
          },
          "colorscale": {
           "diverging": [
            [
             0,
             "#8e0152"
            ],
            [
             0.1,
             "#c51b7d"
            ],
            [
             0.2,
             "#de77ae"
            ],
            [
             0.3,
             "#f1b6da"
            ],
            [
             0.4,
             "#fde0ef"
            ],
            [
             0.5,
             "#f7f7f7"
            ],
            [
             0.6,
             "#e6f5d0"
            ],
            [
             0.7,
             "#b8e186"
            ],
            [
             0.8,
             "#7fbc41"
            ],
            [
             0.9,
             "#4d9221"
            ],
            [
             1,
             "#276419"
            ]
           ],
           "sequential": [
            [
             0,
             "#0d0887"
            ],
            [
             0.1111111111111111,
             "#46039f"
            ],
            [
             0.2222222222222222,
             "#7201a8"
            ],
            [
             0.3333333333333333,
             "#9c179e"
            ],
            [
             0.4444444444444444,
             "#bd3786"
            ],
            [
             0.5555555555555556,
             "#d8576b"
            ],
            [
             0.6666666666666666,
             "#ed7953"
            ],
            [
             0.7777777777777778,
             "#fb9f3a"
            ],
            [
             0.8888888888888888,
             "#fdca26"
            ],
            [
             1,
             "#f0f921"
            ]
           ],
           "sequentialminus": [
            [
             0,
             "#0d0887"
            ],
            [
             0.1111111111111111,
             "#46039f"
            ],
            [
             0.2222222222222222,
             "#7201a8"
            ],
            [
             0.3333333333333333,
             "#9c179e"
            ],
            [
             0.4444444444444444,
             "#bd3786"
            ],
            [
             0.5555555555555556,
             "#d8576b"
            ],
            [
             0.6666666666666666,
             "#ed7953"
            ],
            [
             0.7777777777777778,
             "#fb9f3a"
            ],
            [
             0.8888888888888888,
             "#fdca26"
            ],
            [
             1,
             "#f0f921"
            ]
           ]
          },
          "colorway": [
           "#636efa",
           "#EF553B",
           "#00cc96",
           "#ab63fa",
           "#FFA15A",
           "#19d3f3",
           "#FF6692",
           "#B6E880",
           "#FF97FF",
           "#FECB52"
          ],
          "font": {
           "color": "#2a3f5f"
          },
          "geo": {
           "bgcolor": "white",
           "lakecolor": "white",
           "landcolor": "#E5ECF6",
           "showlakes": true,
           "showland": true,
           "subunitcolor": "white"
          },
          "hoverlabel": {
           "align": "left"
          },
          "hovermode": "closest",
          "mapbox": {
           "style": "light"
          },
          "paper_bgcolor": "white",
          "plot_bgcolor": "#E5ECF6",
          "polar": {
           "angularaxis": {
            "gridcolor": "white",
            "linecolor": "white",
            "ticks": ""
           },
           "bgcolor": "#E5ECF6",
           "radialaxis": {
            "gridcolor": "white",
            "linecolor": "white",
            "ticks": ""
           }
          },
          "scene": {
           "xaxis": {
            "backgroundcolor": "#E5ECF6",
            "gridcolor": "white",
            "gridwidth": 2,
            "linecolor": "white",
            "showbackground": true,
            "ticks": "",
            "zerolinecolor": "white"
           },
           "yaxis": {
            "backgroundcolor": "#E5ECF6",
            "gridcolor": "white",
            "gridwidth": 2,
            "linecolor": "white",
            "showbackground": true,
            "ticks": "",
            "zerolinecolor": "white"
           },
           "zaxis": {
            "backgroundcolor": "#E5ECF6",
            "gridcolor": "white",
            "gridwidth": 2,
            "linecolor": "white",
            "showbackground": true,
            "ticks": "",
            "zerolinecolor": "white"
           }
          },
          "shapedefaults": {
           "line": {
            "color": "#2a3f5f"
           }
          },
          "ternary": {
           "aaxis": {
            "gridcolor": "white",
            "linecolor": "white",
            "ticks": ""
           },
           "baxis": {
            "gridcolor": "white",
            "linecolor": "white",
            "ticks": ""
           },
           "bgcolor": "#E5ECF6",
           "caxis": {
            "gridcolor": "white",
            "linecolor": "white",
            "ticks": ""
           }
          },
          "title": {
           "x": 0.05
          },
          "xaxis": {
           "automargin": true,
           "gridcolor": "white",
           "linecolor": "white",
           "ticks": "",
           "title": {
            "standoff": 15
           },
           "zerolinecolor": "white",
           "zerolinewidth": 2
          },
          "yaxis": {
           "automargin": true,
           "gridcolor": "white",
           "linecolor": "white",
           "ticks": "",
           "title": {
            "standoff": 15
           },
           "zerolinecolor": "white",
           "zerolinewidth": 2
          }
         }
        },
        "title": {
         "text": "Most mentioned symbols in June"
        },
        "xaxis": {
         "anchor": "y",
         "domain": [
          0,
          1
         ],
         "title": {
          "text": "Mentions"
         }
        },
        "yaxis": {
         "anchor": "x",
         "categoryarray": [
          "UWMC",
          "TLRY",
          "CLF",
          "WKHS",
          "WISH",
          "CLNE",
          "CLOV",
          "GME",
          "AMC",
          "BB"
         ],
         "categoryorder": "array",
         "domain": [
          0,
          1
         ],
         "title": {
          "text": "Symbol"
         }
        }
       }
      },
      "text/html": [
       "<div>                            <div id=\"db4cdbd6-7bd4-4e78-b691-ecd3818e934c\" class=\"plotly-graph-div\" style=\"height:525px; width:100%;\"></div>            <script type=\"text/javascript\">                require([\"plotly\"], function(Plotly) {                    window.PLOTLYENV=window.PLOTLYENV || {};                                    if (document.getElementById(\"db4cdbd6-7bd4-4e78-b691-ecd3818e934c\")) {                    Plotly.newPlot(                        \"db4cdbd6-7bd4-4e78-b691-ecd3818e934c\",                        [{\"alignmentgroup\":\"True\",\"hovertemplate\":\"Symbol=%{y}<br>Mentions=%{text}<extra></extra>\",\"legendgroup\":\"BB\",\"marker\":{\"color\":\"#636efa\",\"pattern\":{\"shape\":\"\"}},\"name\":\"BB\",\"offsetgroup\":\"BB\",\"orientation\":\"h\",\"showlegend\":true,\"text\":[\"77375\"],\"textposition\":\"auto\",\"type\":\"bar\",\"x\":[77375],\"xaxis\":\"x\",\"y\":[\"BB\"],\"yaxis\":\"y\"},{\"alignmentgroup\":\"True\",\"hovertemplate\":\"Symbol=%{y}<br>Mentions=%{text}<extra></extra>\",\"legendgroup\":\"AMC\",\"marker\":{\"color\":\"#EF553B\",\"pattern\":{\"shape\":\"\"}},\"name\":\"AMC\",\"offsetgroup\":\"AMC\",\"orientation\":\"h\",\"showlegend\":true,\"text\":[\"74149\"],\"textposition\":\"auto\",\"type\":\"bar\",\"x\":[74149],\"xaxis\":\"x\",\"y\":[\"AMC\"],\"yaxis\":\"y\"},{\"alignmentgroup\":\"True\",\"hovertemplate\":\"Symbol=%{y}<br>Mentions=%{text}<extra></extra>\",\"legendgroup\":\"GME\",\"marker\":{\"color\":\"#00cc96\",\"pattern\":{\"shape\":\"\"}},\"name\":\"GME\",\"offsetgroup\":\"GME\",\"orientation\":\"h\",\"showlegend\":true,\"text\":[\"41550\"],\"textposition\":\"auto\",\"type\":\"bar\",\"x\":[41550],\"xaxis\":\"x\",\"y\":[\"GME\"],\"yaxis\":\"y\"},{\"alignmentgroup\":\"True\",\"hovertemplate\":\"Symbol=%{y}<br>Mentions=%{text}<extra></extra>\",\"legendgroup\":\"CLOV\",\"marker\":{\"color\":\"#ab63fa\",\"pattern\":{\"shape\":\"\"}},\"name\":\"CLOV\",\"offsetgroup\":\"CLOV\",\"orientation\":\"h\",\"showlegend\":true,\"text\":[\"41188\"],\"textposition\":\"auto\",\"type\":\"bar\",\"x\":[41188],\"xaxis\":\"x\",\"y\":[\"CLOV\"],\"yaxis\":\"y\"},{\"alignmentgroup\":\"True\",\"hovertemplate\":\"Symbol=%{y}<br>Mentions=%{text}<extra></extra>\",\"legendgroup\":\"CLNE\",\"marker\":{\"color\":\"#FFA15A\",\"pattern\":{\"shape\":\"\"}},\"name\":\"CLNE\",\"offsetgroup\":\"CLNE\",\"orientation\":\"h\",\"showlegend\":true,\"text\":[\"35998\"],\"textposition\":\"auto\",\"type\":\"bar\",\"x\":[35998],\"xaxis\":\"x\",\"y\":[\"CLNE\"],\"yaxis\":\"y\"},{\"alignmentgroup\":\"True\",\"hovertemplate\":\"Symbol=%{y}<br>Mentions=%{text}<extra></extra>\",\"legendgroup\":\"WISH\",\"marker\":{\"color\":\"#19d3f3\",\"pattern\":{\"shape\":\"\"}},\"name\":\"WISH\",\"offsetgroup\":\"WISH\",\"orientation\":\"h\",\"showlegend\":true,\"text\":[\"35399\"],\"textposition\":\"auto\",\"type\":\"bar\",\"x\":[35399],\"xaxis\":\"x\",\"y\":[\"WISH\"],\"yaxis\":\"y\"},{\"alignmentgroup\":\"True\",\"hovertemplate\":\"Symbol=%{y}<br>Mentions=%{text}<extra></extra>\",\"legendgroup\":\"WKHS\",\"marker\":{\"color\":\"#FF6692\",\"pattern\":{\"shape\":\"\"}},\"name\":\"WKHS\",\"offsetgroup\":\"WKHS\",\"orientation\":\"h\",\"showlegend\":true,\"text\":[\"19486\"],\"textposition\":\"auto\",\"type\":\"bar\",\"x\":[19486],\"xaxis\":\"x\",\"y\":[\"WKHS\"],\"yaxis\":\"y\"},{\"alignmentgroup\":\"True\",\"hovertemplate\":\"Symbol=%{y}<br>Mentions=%{text}<extra></extra>\",\"legendgroup\":\"CLF\",\"marker\":{\"color\":\"#B6E880\",\"pattern\":{\"shape\":\"\"}},\"name\":\"CLF\",\"offsetgroup\":\"CLF\",\"orientation\":\"h\",\"showlegend\":true,\"text\":[\"11627\"],\"textposition\":\"auto\",\"type\":\"bar\",\"x\":[11627],\"xaxis\":\"x\",\"y\":[\"CLF\"],\"yaxis\":\"y\"},{\"alignmentgroup\":\"True\",\"hovertemplate\":\"Symbol=%{y}<br>Mentions=%{text}<extra></extra>\",\"legendgroup\":\"TLRY\",\"marker\":{\"color\":\"#FF97FF\",\"pattern\":{\"shape\":\"\"}},\"name\":\"TLRY\",\"offsetgroup\":\"TLRY\",\"orientation\":\"h\",\"showlegend\":true,\"text\":[\"10823\"],\"textposition\":\"auto\",\"type\":\"bar\",\"x\":[10823],\"xaxis\":\"x\",\"y\":[\"TLRY\"],\"yaxis\":\"y\"},{\"alignmentgroup\":\"True\",\"hovertemplate\":\"Symbol=%{y}<br>Mentions=%{text}<extra></extra>\",\"legendgroup\":\"UWMC\",\"marker\":{\"color\":\"#FECB52\",\"pattern\":{\"shape\":\"\"}},\"name\":\"UWMC\",\"offsetgroup\":\"UWMC\",\"orientation\":\"h\",\"showlegend\":true,\"text\":[\"9223\"],\"textposition\":\"auto\",\"type\":\"bar\",\"x\":[9223],\"xaxis\":\"x\",\"y\":[\"UWMC\"],\"yaxis\":\"y\"}],                        {\"barmode\":\"relative\",\"legend\":{\"title\":{\"text\":\"Symbol\"},\"tracegroupgap\":0},\"showlegend\":false,\"template\":{\"data\":{\"bar\":[{\"error_x\":{\"color\":\"#2a3f5f\"},\"error_y\":{\"color\":\"#2a3f5f\"},\"marker\":{\"line\":{\"color\":\"#E5ECF6\",\"width\":0.5},\"pattern\":{\"fillmode\":\"overlay\",\"size\":10,\"solidity\":0.2}},\"type\":\"bar\"}],\"barpolar\":[{\"marker\":{\"line\":{\"color\":\"#E5ECF6\",\"width\":0.5},\"pattern\":{\"fillmode\":\"overlay\",\"size\":10,\"solidity\":0.2}},\"type\":\"barpolar\"}],\"carpet\":[{\"aaxis\":{\"endlinecolor\":\"#2a3f5f\",\"gridcolor\":\"white\",\"linecolor\":\"white\",\"minorgridcolor\":\"white\",\"startlinecolor\":\"#2a3f5f\"},\"baxis\":{\"endlinecolor\":\"#2a3f5f\",\"gridcolor\":\"white\",\"linecolor\":\"white\",\"minorgridcolor\":\"white\",\"startlinecolor\":\"#2a3f5f\"},\"type\":\"carpet\"}],\"choropleth\":[{\"colorbar\":{\"outlinewidth\":0,\"ticks\":\"\"},\"type\":\"choropleth\"}],\"contour\":[{\"colorbar\":{\"outlinewidth\":0,\"ticks\":\"\"},\"colorscale\":[[0.0,\"#0d0887\"],[0.1111111111111111,\"#46039f\"],[0.2222222222222222,\"#7201a8\"],[0.3333333333333333,\"#9c179e\"],[0.4444444444444444,\"#bd3786\"],[0.5555555555555556,\"#d8576b\"],[0.6666666666666666,\"#ed7953\"],[0.7777777777777778,\"#fb9f3a\"],[0.8888888888888888,\"#fdca26\"],[1.0,\"#f0f921\"]],\"type\":\"contour\"}],\"contourcarpet\":[{\"colorbar\":{\"outlinewidth\":0,\"ticks\":\"\"},\"type\":\"contourcarpet\"}],\"heatmap\":[{\"colorbar\":{\"outlinewidth\":0,\"ticks\":\"\"},\"colorscale\":[[0.0,\"#0d0887\"],[0.1111111111111111,\"#46039f\"],[0.2222222222222222,\"#7201a8\"],[0.3333333333333333,\"#9c179e\"],[0.4444444444444444,\"#bd3786\"],[0.5555555555555556,\"#d8576b\"],[0.6666666666666666,\"#ed7953\"],[0.7777777777777778,\"#fb9f3a\"],[0.8888888888888888,\"#fdca26\"],[1.0,\"#f0f921\"]],\"type\":\"heatmap\"}],\"heatmapgl\":[{\"colorbar\":{\"outlinewidth\":0,\"ticks\":\"\"},\"colorscale\":[[0.0,\"#0d0887\"],[0.1111111111111111,\"#46039f\"],[0.2222222222222222,\"#7201a8\"],[0.3333333333333333,\"#9c179e\"],[0.4444444444444444,\"#bd3786\"],[0.5555555555555556,\"#d8576b\"],[0.6666666666666666,\"#ed7953\"],[0.7777777777777778,\"#fb9f3a\"],[0.8888888888888888,\"#fdca26\"],[1.0,\"#f0f921\"]],\"type\":\"heatmapgl\"}],\"histogram\":[{\"marker\":{\"pattern\":{\"fillmode\":\"overlay\",\"size\":10,\"solidity\":0.2}},\"type\":\"histogram\"}],\"histogram2d\":[{\"colorbar\":{\"outlinewidth\":0,\"ticks\":\"\"},\"colorscale\":[[0.0,\"#0d0887\"],[0.1111111111111111,\"#46039f\"],[0.2222222222222222,\"#7201a8\"],[0.3333333333333333,\"#9c179e\"],[0.4444444444444444,\"#bd3786\"],[0.5555555555555556,\"#d8576b\"],[0.6666666666666666,\"#ed7953\"],[0.7777777777777778,\"#fb9f3a\"],[0.8888888888888888,\"#fdca26\"],[1.0,\"#f0f921\"]],\"type\":\"histogram2d\"}],\"histogram2dcontour\":[{\"colorbar\":{\"outlinewidth\":0,\"ticks\":\"\"},\"colorscale\":[[0.0,\"#0d0887\"],[0.1111111111111111,\"#46039f\"],[0.2222222222222222,\"#7201a8\"],[0.3333333333333333,\"#9c179e\"],[0.4444444444444444,\"#bd3786\"],[0.5555555555555556,\"#d8576b\"],[0.6666666666666666,\"#ed7953\"],[0.7777777777777778,\"#fb9f3a\"],[0.8888888888888888,\"#fdca26\"],[1.0,\"#f0f921\"]],\"type\":\"histogram2dcontour\"}],\"mesh3d\":[{\"colorbar\":{\"outlinewidth\":0,\"ticks\":\"\"},\"type\":\"mesh3d\"}],\"parcoords\":[{\"line\":{\"colorbar\":{\"outlinewidth\":0,\"ticks\":\"\"}},\"type\":\"parcoords\"}],\"pie\":[{\"automargin\":true,\"type\":\"pie\"}],\"scatter\":[{\"marker\":{\"colorbar\":{\"outlinewidth\":0,\"ticks\":\"\"}},\"type\":\"scatter\"}],\"scatter3d\":[{\"line\":{\"colorbar\":{\"outlinewidth\":0,\"ticks\":\"\"}},\"marker\":{\"colorbar\":{\"outlinewidth\":0,\"ticks\":\"\"}},\"type\":\"scatter3d\"}],\"scattercarpet\":[{\"marker\":{\"colorbar\":{\"outlinewidth\":0,\"ticks\":\"\"}},\"type\":\"scattercarpet\"}],\"scattergeo\":[{\"marker\":{\"colorbar\":{\"outlinewidth\":0,\"ticks\":\"\"}},\"type\":\"scattergeo\"}],\"scattergl\":[{\"marker\":{\"colorbar\":{\"outlinewidth\":0,\"ticks\":\"\"}},\"type\":\"scattergl\"}],\"scattermapbox\":[{\"marker\":{\"colorbar\":{\"outlinewidth\":0,\"ticks\":\"\"}},\"type\":\"scattermapbox\"}],\"scatterpolar\":[{\"marker\":{\"colorbar\":{\"outlinewidth\":0,\"ticks\":\"\"}},\"type\":\"scatterpolar\"}],\"scatterpolargl\":[{\"marker\":{\"colorbar\":{\"outlinewidth\":0,\"ticks\":\"\"}},\"type\":\"scatterpolargl\"}],\"scatterternary\":[{\"marker\":{\"colorbar\":{\"outlinewidth\":0,\"ticks\":\"\"}},\"type\":\"scatterternary\"}],\"surface\":[{\"colorbar\":{\"outlinewidth\":0,\"ticks\":\"\"},\"colorscale\":[[0.0,\"#0d0887\"],[0.1111111111111111,\"#46039f\"],[0.2222222222222222,\"#7201a8\"],[0.3333333333333333,\"#9c179e\"],[0.4444444444444444,\"#bd3786\"],[0.5555555555555556,\"#d8576b\"],[0.6666666666666666,\"#ed7953\"],[0.7777777777777778,\"#fb9f3a\"],[0.8888888888888888,\"#fdca26\"],[1.0,\"#f0f921\"]],\"type\":\"surface\"}],\"table\":[{\"cells\":{\"fill\":{\"color\":\"#EBF0F8\"},\"line\":{\"color\":\"white\"}},\"header\":{\"fill\":{\"color\":\"#C8D4E3\"},\"line\":{\"color\":\"white\"}},\"type\":\"table\"}]},\"layout\":{\"annotationdefaults\":{\"arrowcolor\":\"#2a3f5f\",\"arrowhead\":0,\"arrowwidth\":1},\"autotypenumbers\":\"strict\",\"coloraxis\":{\"colorbar\":{\"outlinewidth\":0,\"ticks\":\"\"}},\"colorscale\":{\"diverging\":[[0,\"#8e0152\"],[0.1,\"#c51b7d\"],[0.2,\"#de77ae\"],[0.3,\"#f1b6da\"],[0.4,\"#fde0ef\"],[0.5,\"#f7f7f7\"],[0.6,\"#e6f5d0\"],[0.7,\"#b8e186\"],[0.8,\"#7fbc41\"],[0.9,\"#4d9221\"],[1,\"#276419\"]],\"sequential\":[[0.0,\"#0d0887\"],[0.1111111111111111,\"#46039f\"],[0.2222222222222222,\"#7201a8\"],[0.3333333333333333,\"#9c179e\"],[0.4444444444444444,\"#bd3786\"],[0.5555555555555556,\"#d8576b\"],[0.6666666666666666,\"#ed7953\"],[0.7777777777777778,\"#fb9f3a\"],[0.8888888888888888,\"#fdca26\"],[1.0,\"#f0f921\"]],\"sequentialminus\":[[0.0,\"#0d0887\"],[0.1111111111111111,\"#46039f\"],[0.2222222222222222,\"#7201a8\"],[0.3333333333333333,\"#9c179e\"],[0.4444444444444444,\"#bd3786\"],[0.5555555555555556,\"#d8576b\"],[0.6666666666666666,\"#ed7953\"],[0.7777777777777778,\"#fb9f3a\"],[0.8888888888888888,\"#fdca26\"],[1.0,\"#f0f921\"]]},\"colorway\":[\"#636efa\",\"#EF553B\",\"#00cc96\",\"#ab63fa\",\"#FFA15A\",\"#19d3f3\",\"#FF6692\",\"#B6E880\",\"#FF97FF\",\"#FECB52\"],\"font\":{\"color\":\"#2a3f5f\"},\"geo\":{\"bgcolor\":\"white\",\"lakecolor\":\"white\",\"landcolor\":\"#E5ECF6\",\"showlakes\":true,\"showland\":true,\"subunitcolor\":\"white\"},\"hoverlabel\":{\"align\":\"left\"},\"hovermode\":\"closest\",\"mapbox\":{\"style\":\"light\"},\"paper_bgcolor\":\"white\",\"plot_bgcolor\":\"#E5ECF6\",\"polar\":{\"angularaxis\":{\"gridcolor\":\"white\",\"linecolor\":\"white\",\"ticks\":\"\"},\"bgcolor\":\"#E5ECF6\",\"radialaxis\":{\"gridcolor\":\"white\",\"linecolor\":\"white\",\"ticks\":\"\"}},\"scene\":{\"xaxis\":{\"backgroundcolor\":\"#E5ECF6\",\"gridcolor\":\"white\",\"gridwidth\":2,\"linecolor\":\"white\",\"showbackground\":true,\"ticks\":\"\",\"zerolinecolor\":\"white\"},\"yaxis\":{\"backgroundcolor\":\"#E5ECF6\",\"gridcolor\":\"white\",\"gridwidth\":2,\"linecolor\":\"white\",\"showbackground\":true,\"ticks\":\"\",\"zerolinecolor\":\"white\"},\"zaxis\":{\"backgroundcolor\":\"#E5ECF6\",\"gridcolor\":\"white\",\"gridwidth\":2,\"linecolor\":\"white\",\"showbackground\":true,\"ticks\":\"\",\"zerolinecolor\":\"white\"}},\"shapedefaults\":{\"line\":{\"color\":\"#2a3f5f\"}},\"ternary\":{\"aaxis\":{\"gridcolor\":\"white\",\"linecolor\":\"white\",\"ticks\":\"\"},\"baxis\":{\"gridcolor\":\"white\",\"linecolor\":\"white\",\"ticks\":\"\"},\"bgcolor\":\"#E5ECF6\",\"caxis\":{\"gridcolor\":\"white\",\"linecolor\":\"white\",\"ticks\":\"\"}},\"title\":{\"x\":0.05},\"xaxis\":{\"automargin\":true,\"gridcolor\":\"white\",\"linecolor\":\"white\",\"ticks\":\"\",\"title\":{\"standoff\":15},\"zerolinecolor\":\"white\",\"zerolinewidth\":2},\"yaxis\":{\"automargin\":true,\"gridcolor\":\"white\",\"linecolor\":\"white\",\"ticks\":\"\",\"title\":{\"standoff\":15},\"zerolinecolor\":\"white\",\"zerolinewidth\":2}}},\"title\":{\"text\":\"Most mentioned symbols in June\"},\"xaxis\":{\"anchor\":\"y\",\"domain\":[0.0,1.0],\"title\":{\"text\":\"Mentions\"}},\"yaxis\":{\"anchor\":\"x\",\"categoryarray\":[\"UWMC\",\"TLRY\",\"CLF\",\"WKHS\",\"WISH\",\"CLNE\",\"CLOV\",\"GME\",\"AMC\",\"BB\"],\"categoryorder\":\"array\",\"domain\":[0.0,1.0],\"title\":{\"text\":\"Symbol\"}}},                        {\"responsive\": true}                    ).then(function(){\n",
       "                            \n",
       "var gd = document.getElementById('db4cdbd6-7bd4-4e78-b691-ecd3818e934c');\n",
       "var x = new MutationObserver(function (mutations, observer) {{\n",
       "        var display = window.getComputedStyle(gd).display;\n",
       "        if (!display || display === 'none') {{\n",
       "            console.log([gd, 'removed!']);\n",
       "            Plotly.purge(gd);\n",
       "            observer.disconnect();\n",
       "        }}\n",
       "}});\n",
       "\n",
       "// Listen for the removal of the full notebook cells\n",
       "var notebookContainer = gd.closest('#notebook-container');\n",
       "if (notebookContainer) {{\n",
       "    x.observe(notebookContainer, {childList: true});\n",
       "}}\n",
       "\n",
       "// Listen for the clearing of the current output cell\n",
       "var outputEl = gd.closest('.output');\n",
       "if (outputEl) {{\n",
       "    x.observe(outputEl, {childList: true});\n",
       "}}\n",
       "\n",
       "                        })                };                });            </script>        </div>"
      ]
     },
     "metadata": {},
     "output_type": "display_data"
    }
   ],
   "source": [
    "fig = px.bar(top_symbols_june_df[0:10], x=\"num_mentions\", y=\"symbol\", text=\"num_mentions\", color='symbol', orientation='h', title='Most mentioned symbols in June', labels={'num_mentions': 'Mentions', 'symbol': 'Symbol'})\n",
    "fig.update_layout(showlegend=False)\n",
    "fig.show()"
   ]
  },
  {
   "cell_type": "code",
   "execution_count": 162,
   "id": "1f17bdbd",
   "metadata": {},
   "outputs": [
    {
     "data": {
      "application/vnd.plotly.v1+json": {
       "config": {
        "plotlyServerURL": "https://plot.ly"
       },
       "data": [
        {
         "hovertemplate": "symbol=AMC<br>day=%{x}<br>mentions=%{y}<extra></extra>",
         "legendgroup": "AMC",
         "line": {
          "color": "#636efa",
          "dash": "solid"
         },
         "mode": "lines",
         "name": "AMC",
         "orientation": "v",
         "showlegend": true,
         "type": "scatter",
         "x": [
          "2021-06-01T00:00:00+00:00",
          "2021-06-02T00:00:00+00:00",
          "2021-06-03T00:00:00+00:00",
          "2021-06-04T00:00:00+00:00",
          "2021-06-05T00:00:00+00:00",
          "2021-06-06T00:00:00+00:00",
          "2021-06-07T00:00:00+00:00",
          "2021-06-08T00:00:00+00:00",
          "2021-06-09T00:00:00+00:00",
          "2021-06-10T00:00:00+00:00",
          "2021-06-11T00:00:00+00:00",
          "2021-06-12T00:00:00+00:00",
          "2021-06-13T00:00:00+00:00",
          "2021-06-14T00:00:00+00:00",
          "2021-06-15T00:00:00+00:00",
          "2021-06-16T00:00:00+00:00",
          "2021-06-17T00:00:00+00:00",
          "2021-06-18T00:00:00+00:00",
          "2021-06-19T00:00:00+00:00",
          "2021-06-20T00:00:00+00:00",
          "2021-06-21T00:00:00+00:00",
          "2021-06-22T00:00:00+00:00",
          "2021-06-23T00:00:00+00:00",
          "2021-06-24T00:00:00+00:00",
          "2021-06-25T00:00:00+00:00",
          "2021-06-26T00:00:00+00:00",
          "2021-06-27T00:00:00+00:00",
          "2021-06-28T00:00:00+00:00",
          "2021-06-29T00:00:00+00:00",
          "2021-06-30T00:00:00+00:00"
         ],
         "xaxis": "x",
         "y": [
          3986,
          10347,
          12482,
          6647,
          1918,
          1610,
          3443,
          3527,
          4677,
          3698,
          2518,
          837,
          696,
          2283,
          2149,
          1567,
          2168,
          1564,
          611,
          460,
          1127,
          1149,
          832,
          684,
          657,
          200,
          368,
          759,
          681,
          504
         ],
         "yaxis": "y"
        },
        {
         "hovertemplate": "symbol=BB<br>day=%{x}<br>mentions=%{y}<extra></extra>",
         "legendgroup": "BB",
         "line": {
          "color": "#EF553B",
          "dash": "solid"
         },
         "mode": "lines",
         "name": "BB",
         "orientation": "v",
         "showlegend": true,
         "type": "scatter",
         "x": [
          "2021-06-01T00:00:00+00:00",
          "2021-06-02T00:00:00+00:00",
          "2021-06-03T00:00:00+00:00",
          "2021-06-04T00:00:00+00:00",
          "2021-06-05T00:00:00+00:00",
          "2021-06-06T00:00:00+00:00",
          "2021-06-07T00:00:00+00:00",
          "2021-06-08T00:00:00+00:00",
          "2021-06-09T00:00:00+00:00",
          "2021-06-10T00:00:00+00:00",
          "2021-06-11T00:00:00+00:00",
          "2021-06-12T00:00:00+00:00",
          "2021-06-13T00:00:00+00:00",
          "2021-06-14T00:00:00+00:00",
          "2021-06-15T00:00:00+00:00",
          "2021-06-16T00:00:00+00:00",
          "2021-06-17T00:00:00+00:00",
          "2021-06-18T00:00:00+00:00",
          "2021-06-19T00:00:00+00:00",
          "2021-06-20T00:00:00+00:00",
          "2021-06-21T00:00:00+00:00",
          "2021-06-22T00:00:00+00:00",
          "2021-06-23T00:00:00+00:00",
          "2021-06-24T00:00:00+00:00",
          "2021-06-25T00:00:00+00:00",
          "2021-06-26T00:00:00+00:00",
          "2021-06-27T00:00:00+00:00",
          "2021-06-28T00:00:00+00:00",
          "2021-06-29T00:00:00+00:00",
          "2021-06-30T00:00:00+00:00"
         ],
         "xaxis": "x",
         "y": [
          3421,
          9788,
          16809,
          9109,
          1786,
          1714,
          5747,
          5022,
          4696,
          3246,
          2336,
          508,
          429,
          1465,
          1026,
          991,
          1577,
          1151,
          282,
          196,
          1068,
          1078,
          611,
          665,
          793,
          159,
          159,
          746,
          527,
          270
         ],
         "yaxis": "y"
        },
        {
         "hovertemplate": "symbol=CLF<br>day=%{x}<br>mentions=%{y}<extra></extra>",
         "legendgroup": "CLF",
         "line": {
          "color": "#00cc96",
          "dash": "solid"
         },
         "mode": "lines",
         "name": "CLF",
         "orientation": "v",
         "showlegend": true,
         "type": "scatter",
         "x": [
          "2021-06-01T00:00:00+00:00",
          "2021-06-02T00:00:00+00:00",
          "2021-06-03T00:00:00+00:00",
          "2021-06-05T00:00:00+00:00",
          "2021-06-06T00:00:00+00:00",
          "2021-06-07T00:00:00+00:00",
          "2021-06-08T00:00:00+00:00",
          "2021-06-09T00:00:00+00:00",
          "2021-06-10T00:00:00+00:00",
          "2021-06-11T00:00:00+00:00",
          "2021-06-12T00:00:00+00:00",
          "2021-06-13T00:00:00+00:00",
          "2021-06-14T00:00:00+00:00",
          "2021-06-15T00:00:00+00:00",
          "2021-06-16T00:00:00+00:00",
          "2021-06-17T00:00:00+00:00",
          "2021-06-18T00:00:00+00:00",
          "2021-06-19T00:00:00+00:00",
          "2021-06-20T00:00:00+00:00",
          "2021-06-21T00:00:00+00:00",
          "2021-06-22T00:00:00+00:00",
          "2021-06-23T00:00:00+00:00",
          "2021-06-24T00:00:00+00:00",
          "2021-06-25T00:00:00+00:00",
          "2021-06-26T00:00:00+00:00",
          "2021-06-27T00:00:00+00:00",
          "2021-06-28T00:00:00+00:00",
          "2021-06-29T00:00:00+00:00",
          "2021-06-30T00:00:00+00:00"
         ],
         "xaxis": "x",
         "y": [
          3,
          8,
          8,
          4,
          1,
          13,
          33,
          3099,
          2465,
          1276,
          218,
          257,
          596,
          637,
          339,
          383,
          289,
          47,
          107,
          274,
          138,
          131,
          387,
          223,
          35,
          79,
          215,
          232,
          130
         ],
         "yaxis": "y"
        },
        {
         "hovertemplate": "symbol=CLNE<br>day=%{x}<br>mentions=%{y}<extra></extra>",
         "legendgroup": "CLNE",
         "line": {
          "color": "#ab63fa",
          "dash": "solid"
         },
         "mode": "lines",
         "name": "CLNE",
         "orientation": "v",
         "showlegend": true,
         "type": "scatter",
         "x": [
          "2021-06-01T00:00:00+00:00",
          "2021-06-02T00:00:00+00:00",
          "2021-06-03T00:00:00+00:00",
          "2021-06-04T00:00:00+00:00",
          "2021-06-05T00:00:00+00:00",
          "2021-06-06T00:00:00+00:00",
          "2021-06-07T00:00:00+00:00",
          "2021-06-08T00:00:00+00:00",
          "2021-06-09T00:00:00+00:00",
          "2021-06-10T00:00:00+00:00",
          "2021-06-11T00:00:00+00:00",
          "2021-06-12T00:00:00+00:00",
          "2021-06-13T00:00:00+00:00",
          "2021-06-14T00:00:00+00:00",
          "2021-06-15T00:00:00+00:00",
          "2021-06-16T00:00:00+00:00",
          "2021-06-17T00:00:00+00:00",
          "2021-06-18T00:00:00+00:00",
          "2021-06-19T00:00:00+00:00",
          "2021-06-20T00:00:00+00:00",
          "2021-06-21T00:00:00+00:00",
          "2021-06-22T00:00:00+00:00",
          "2021-06-23T00:00:00+00:00",
          "2021-06-24T00:00:00+00:00",
          "2021-06-25T00:00:00+00:00",
          "2021-06-26T00:00:00+00:00",
          "2021-06-27T00:00:00+00:00",
          "2021-06-28T00:00:00+00:00",
          "2021-06-29T00:00:00+00:00",
          "2021-06-30T00:00:00+00:00"
         ],
         "xaxis": "x",
         "y": [
          8,
          158,
          1657,
          1532,
          298,
          537,
          2000,
          2913,
          5887,
          2912,
          1660,
          499,
          864,
          3032,
          2189,
          1264,
          1656,
          2497,
          131,
          131,
          939,
          649,
          520,
          434,
          326,
          61,
          114,
          369,
          382,
          379
         ],
         "yaxis": "y"
        },
        {
         "hovertemplate": "symbol=CLOV<br>day=%{x}<br>mentions=%{y}<extra></extra>",
         "legendgroup": "CLOV",
         "line": {
          "color": "#FFA15A",
          "dash": "solid"
         },
         "mode": "lines",
         "name": "CLOV",
         "orientation": "v",
         "showlegend": true,
         "type": "scatter",
         "x": [
          "2021-06-01T00:00:00+00:00",
          "2021-06-02T00:00:00+00:00",
          "2021-06-03T00:00:00+00:00",
          "2021-06-04T00:00:00+00:00",
          "2021-06-05T00:00:00+00:00",
          "2021-06-06T00:00:00+00:00",
          "2021-06-07T00:00:00+00:00",
          "2021-06-08T00:00:00+00:00",
          "2021-06-09T00:00:00+00:00",
          "2021-06-10T00:00:00+00:00",
          "2021-06-11T00:00:00+00:00",
          "2021-06-12T00:00:00+00:00",
          "2021-06-13T00:00:00+00:00",
          "2021-06-14T00:00:00+00:00",
          "2021-06-15T00:00:00+00:00",
          "2021-06-16T00:00:00+00:00",
          "2021-06-17T00:00:00+00:00",
          "2021-06-18T00:00:00+00:00",
          "2021-06-19T00:00:00+00:00",
          "2021-06-20T00:00:00+00:00",
          "2021-06-21T00:00:00+00:00",
          "2021-06-22T00:00:00+00:00",
          "2021-06-23T00:00:00+00:00",
          "2021-06-24T00:00:00+00:00",
          "2021-06-25T00:00:00+00:00",
          "2021-06-26T00:00:00+00:00",
          "2021-06-27T00:00:00+00:00",
          "2021-06-28T00:00:00+00:00",
          "2021-06-29T00:00:00+00:00",
          "2021-06-30T00:00:00+00:00"
         ],
         "xaxis": "x",
         "y": [
          59,
          742,
          1129,
          498,
          131,
          354,
          2584,
          7441,
          7208,
          3200,
          2521,
          488,
          562,
          1608,
          1193,
          912,
          534,
          467,
          139,
          227,
          624,
          1501,
          1536,
          1365,
          793,
          216,
          331,
          760,
          1261,
          804
         ],
         "yaxis": "y"
        },
        {
         "hovertemplate": "symbol=GME<br>day=%{x}<br>mentions=%{y}<extra></extra>",
         "legendgroup": "GME",
         "line": {
          "color": "#19d3f3",
          "dash": "solid"
         },
         "mode": "lines",
         "name": "GME",
         "orientation": "v",
         "showlegend": true,
         "type": "scatter",
         "x": [
          "2021-06-01T00:00:00+00:00",
          "2021-06-02T00:00:00+00:00",
          "2021-06-03T00:00:00+00:00",
          "2021-06-04T00:00:00+00:00",
          "2021-06-05T00:00:00+00:00",
          "2021-06-06T00:00:00+00:00",
          "2021-06-07T00:00:00+00:00",
          "2021-06-08T00:00:00+00:00",
          "2021-06-09T00:00:00+00:00",
          "2021-06-10T00:00:00+00:00",
          "2021-06-11T00:00:00+00:00",
          "2021-06-12T00:00:00+00:00",
          "2021-06-13T00:00:00+00:00",
          "2021-06-14T00:00:00+00:00",
          "2021-06-15T00:00:00+00:00",
          "2021-06-16T00:00:00+00:00",
          "2021-06-17T00:00:00+00:00",
          "2021-06-18T00:00:00+00:00",
          "2021-06-19T00:00:00+00:00",
          "2021-06-20T00:00:00+00:00",
          "2021-06-21T00:00:00+00:00",
          "2021-06-22T00:00:00+00:00",
          "2021-06-23T00:00:00+00:00",
          "2021-06-24T00:00:00+00:00",
          "2021-06-25T00:00:00+00:00",
          "2021-06-26T00:00:00+00:00",
          "2021-06-27T00:00:00+00:00",
          "2021-06-28T00:00:00+00:00",
          "2021-06-29T00:00:00+00:00",
          "2021-06-30T00:00:00+00:00"
         ],
         "xaxis": "x",
         "y": [
          1350,
          3418,
          3648,
          2208,
          1018,
          1020,
          2276,
          4289,
          5016,
          3221,
          1538,
          568,
          438,
          892,
          978,
          955,
          702,
          737,
          433,
          362,
          822,
          1128,
          766,
          553,
          612,
          199,
          614,
          663,
          594,
          532
         ],
         "yaxis": "y"
        },
        {
         "hovertemplate": "symbol=TLRY<br>day=%{x}<br>mentions=%{y}<extra></extra>",
         "legendgroup": "TLRY",
         "line": {
          "color": "#FF6692",
          "dash": "solid"
         },
         "mode": "lines",
         "name": "TLRY",
         "orientation": "v",
         "showlegend": true,
         "type": "scatter",
         "x": [
          "2021-06-01T00:00:00+00:00",
          "2021-06-02T00:00:00+00:00",
          "2021-06-03T00:00:00+00:00",
          "2021-06-04T00:00:00+00:00",
          "2021-06-05T00:00:00+00:00",
          "2021-06-06T00:00:00+00:00",
          "2021-06-07T00:00:00+00:00",
          "2021-06-08T00:00:00+00:00",
          "2021-06-09T00:00:00+00:00",
          "2021-06-10T00:00:00+00:00",
          "2021-06-11T00:00:00+00:00",
          "2021-06-12T00:00:00+00:00",
          "2021-06-13T00:00:00+00:00",
          "2021-06-14T00:00:00+00:00",
          "2021-06-15T00:00:00+00:00",
          "2021-06-16T00:00:00+00:00",
          "2021-06-17T00:00:00+00:00",
          "2021-06-18T00:00:00+00:00",
          "2021-06-19T00:00:00+00:00",
          "2021-06-20T00:00:00+00:00",
          "2021-06-21T00:00:00+00:00",
          "2021-06-22T00:00:00+00:00",
          "2021-06-23T00:00:00+00:00",
          "2021-06-24T00:00:00+00:00",
          "2021-06-25T00:00:00+00:00",
          "2021-06-26T00:00:00+00:00",
          "2021-06-27T00:00:00+00:00",
          "2021-06-28T00:00:00+00:00",
          "2021-06-29T00:00:00+00:00",
          "2021-06-30T00:00:00+00:00"
         ],
         "xaxis": "x",
         "y": [
          191,
          802,
          1477,
          669,
          77,
          160,
          616,
          768,
          1788,
          667,
          385,
          74,
          164,
          398,
          271,
          250,
          196,
          169,
          30,
          36,
          318,
          165,
          190,
          262,
          145,
          22,
          64,
          146,
          177,
          146
         ],
         "yaxis": "y"
        },
        {
         "hovertemplate": "symbol=UWMC<br>day=%{x}<br>mentions=%{y}<extra></extra>",
         "legendgroup": "UWMC",
         "line": {
          "color": "#B6E880",
          "dash": "solid"
         },
         "mode": "lines",
         "name": "UWMC",
         "orientation": "v",
         "showlegend": true,
         "type": "scatter",
         "x": [
          "2021-06-01T00:00:00+00:00",
          "2021-06-02T00:00:00+00:00",
          "2021-06-03T00:00:00+00:00",
          "2021-06-04T00:00:00+00:00",
          "2021-06-05T00:00:00+00:00",
          "2021-06-06T00:00:00+00:00",
          "2021-06-07T00:00:00+00:00",
          "2021-06-08T00:00:00+00:00",
          "2021-06-09T00:00:00+00:00",
          "2021-06-10T00:00:00+00:00",
          "2021-06-11T00:00:00+00:00",
          "2021-06-12T00:00:00+00:00",
          "2021-06-13T00:00:00+00:00",
          "2021-06-14T00:00:00+00:00",
          "2021-06-15T00:00:00+00:00",
          "2021-06-16T00:00:00+00:00",
          "2021-06-17T00:00:00+00:00",
          "2021-06-18T00:00:00+00:00",
          "2021-06-19T00:00:00+00:00",
          "2021-06-20T00:00:00+00:00",
          "2021-06-21T00:00:00+00:00",
          "2021-06-22T00:00:00+00:00",
          "2021-06-23T00:00:00+00:00",
          "2021-06-24T00:00:00+00:00",
          "2021-06-25T00:00:00+00:00",
          "2021-06-26T00:00:00+00:00",
          "2021-06-27T00:00:00+00:00",
          "2021-06-28T00:00:00+00:00",
          "2021-06-29T00:00:00+00:00",
          "2021-06-30T00:00:00+00:00"
         ],
         "xaxis": "x",
         "y": [
          53,
          157,
          109,
          76,
          9,
          30,
          122,
          301,
          1392,
          968,
          1013,
          299,
          395,
          712,
          565,
          491,
          444,
          455,
          38,
          55,
          257,
          196,
          261,
          200,
          201,
          20,
          27,
          123,
          135,
          119
         ],
         "yaxis": "y"
        },
        {
         "hovertemplate": "symbol=WISH<br>day=%{x}<br>mentions=%{y}<extra></extra>",
         "legendgroup": "WISH",
         "line": {
          "color": "#FF97FF",
          "dash": "solid"
         },
         "mode": "lines",
         "name": "WISH",
         "orientation": "v",
         "showlegend": true,
         "type": "scatter",
         "x": [
          "2021-06-01T00:00:00+00:00",
          "2021-06-02T00:00:00+00:00",
          "2021-06-03T00:00:00+00:00",
          "2021-06-04T00:00:00+00:00",
          "2021-06-05T00:00:00+00:00",
          "2021-06-06T00:00:00+00:00",
          "2021-06-07T00:00:00+00:00",
          "2021-06-08T00:00:00+00:00",
          "2021-06-09T00:00:00+00:00",
          "2021-06-10T00:00:00+00:00",
          "2021-06-11T00:00:00+00:00",
          "2021-06-12T00:00:00+00:00",
          "2021-06-13T00:00:00+00:00",
          "2021-06-14T00:00:00+00:00",
          "2021-06-15T00:00:00+00:00",
          "2021-06-16T00:00:00+00:00",
          "2021-06-17T00:00:00+00:00",
          "2021-06-18T00:00:00+00:00",
          "2021-06-19T00:00:00+00:00",
          "2021-06-20T00:00:00+00:00",
          "2021-06-21T00:00:00+00:00",
          "2021-06-22T00:00:00+00:00",
          "2021-06-23T00:00:00+00:00",
          "2021-06-24T00:00:00+00:00",
          "2021-06-25T00:00:00+00:00",
          "2021-06-26T00:00:00+00:00",
          "2021-06-27T00:00:00+00:00",
          "2021-06-28T00:00:00+00:00",
          "2021-06-29T00:00:00+00:00",
          "2021-06-30T00:00:00+00:00"
         ],
         "xaxis": "x",
         "y": [
          22,
          52,
          27,
          11,
          6,
          3,
          45,
          4653,
          6765,
          2800,
          1564,
          440,
          474,
          2163,
          1689,
          1013,
          953,
          895,
          242,
          220,
          3000,
          2129,
          1375,
          1307,
          833,
          198,
          273,
          929,
          722,
          596
         ],
         "yaxis": "y"
        },
        {
         "hovertemplate": "symbol=WKHS<br>day=%{x}<br>mentions=%{y}<extra></extra>",
         "legendgroup": "WKHS",
         "line": {
          "color": "#FECB52",
          "dash": "solid"
         },
         "mode": "lines",
         "name": "WKHS",
         "orientation": "v",
         "showlegend": true,
         "type": "scatter",
         "x": [
          "2021-06-01T00:00:00+00:00",
          "2021-06-02T00:00:00+00:00",
          "2021-06-03T00:00:00+00:00",
          "2021-06-04T00:00:00+00:00",
          "2021-06-05T00:00:00+00:00",
          "2021-06-06T00:00:00+00:00",
          "2021-06-07T00:00:00+00:00",
          "2021-06-08T00:00:00+00:00",
          "2021-06-09T00:00:00+00:00",
          "2021-06-10T00:00:00+00:00",
          "2021-06-11T00:00:00+00:00",
          "2021-06-12T00:00:00+00:00",
          "2021-06-13T00:00:00+00:00",
          "2021-06-14T00:00:00+00:00",
          "2021-06-15T00:00:00+00:00",
          "2021-06-16T00:00:00+00:00",
          "2021-06-17T00:00:00+00:00",
          "2021-06-18T00:00:00+00:00",
          "2021-06-19T00:00:00+00:00",
          "2021-06-20T00:00:00+00:00",
          "2021-06-21T00:00:00+00:00",
          "2021-06-22T00:00:00+00:00",
          "2021-06-23T00:00:00+00:00",
          "2021-06-24T00:00:00+00:00",
          "2021-06-25T00:00:00+00:00",
          "2021-06-26T00:00:00+00:00",
          "2021-06-27T00:00:00+00:00",
          "2021-06-28T00:00:00+00:00",
          "2021-06-29T00:00:00+00:00",
          "2021-06-30T00:00:00+00:00"
         ],
         "xaxis": "x",
         "y": [
          12,
          266,
          1064,
          588,
          143,
          194,
          594,
          1367,
          2687,
          1544,
          1318,
          253,
          317,
          894,
          599,
          950,
          534,
          409,
          159,
          133,
          306,
          320,
          1026,
          782,
          555,
          89,
          139,
          924,
          785,
          535
         ],
         "yaxis": "y"
        }
       ],
       "layout": {
        "legend": {
         "title": {
          "text": "symbol"
         },
         "tracegroupgap": 0
        },
        "template": {
         "data": {
          "bar": [
           {
            "error_x": {
             "color": "#2a3f5f"
            },
            "error_y": {
             "color": "#2a3f5f"
            },
            "marker": {
             "line": {
              "color": "#E5ECF6",
              "width": 0.5
             },
             "pattern": {
              "fillmode": "overlay",
              "size": 10,
              "solidity": 0.2
             }
            },
            "type": "bar"
           }
          ],
          "barpolar": [
           {
            "marker": {
             "line": {
              "color": "#E5ECF6",
              "width": 0.5
             },
             "pattern": {
              "fillmode": "overlay",
              "size": 10,
              "solidity": 0.2
             }
            },
            "type": "barpolar"
           }
          ],
          "carpet": [
           {
            "aaxis": {
             "endlinecolor": "#2a3f5f",
             "gridcolor": "white",
             "linecolor": "white",
             "minorgridcolor": "white",
             "startlinecolor": "#2a3f5f"
            },
            "baxis": {
             "endlinecolor": "#2a3f5f",
             "gridcolor": "white",
             "linecolor": "white",
             "minorgridcolor": "white",
             "startlinecolor": "#2a3f5f"
            },
            "type": "carpet"
           }
          ],
          "choropleth": [
           {
            "colorbar": {
             "outlinewidth": 0,
             "ticks": ""
            },
            "type": "choropleth"
           }
          ],
          "contour": [
           {
            "colorbar": {
             "outlinewidth": 0,
             "ticks": ""
            },
            "colorscale": [
             [
              0,
              "#0d0887"
             ],
             [
              0.1111111111111111,
              "#46039f"
             ],
             [
              0.2222222222222222,
              "#7201a8"
             ],
             [
              0.3333333333333333,
              "#9c179e"
             ],
             [
              0.4444444444444444,
              "#bd3786"
             ],
             [
              0.5555555555555556,
              "#d8576b"
             ],
             [
              0.6666666666666666,
              "#ed7953"
             ],
             [
              0.7777777777777778,
              "#fb9f3a"
             ],
             [
              0.8888888888888888,
              "#fdca26"
             ],
             [
              1,
              "#f0f921"
             ]
            ],
            "type": "contour"
           }
          ],
          "contourcarpet": [
           {
            "colorbar": {
             "outlinewidth": 0,
             "ticks": ""
            },
            "type": "contourcarpet"
           }
          ],
          "heatmap": [
           {
            "colorbar": {
             "outlinewidth": 0,
             "ticks": ""
            },
            "colorscale": [
             [
              0,
              "#0d0887"
             ],
             [
              0.1111111111111111,
              "#46039f"
             ],
             [
              0.2222222222222222,
              "#7201a8"
             ],
             [
              0.3333333333333333,
              "#9c179e"
             ],
             [
              0.4444444444444444,
              "#bd3786"
             ],
             [
              0.5555555555555556,
              "#d8576b"
             ],
             [
              0.6666666666666666,
              "#ed7953"
             ],
             [
              0.7777777777777778,
              "#fb9f3a"
             ],
             [
              0.8888888888888888,
              "#fdca26"
             ],
             [
              1,
              "#f0f921"
             ]
            ],
            "type": "heatmap"
           }
          ],
          "heatmapgl": [
           {
            "colorbar": {
             "outlinewidth": 0,
             "ticks": ""
            },
            "colorscale": [
             [
              0,
              "#0d0887"
             ],
             [
              0.1111111111111111,
              "#46039f"
             ],
             [
              0.2222222222222222,
              "#7201a8"
             ],
             [
              0.3333333333333333,
              "#9c179e"
             ],
             [
              0.4444444444444444,
              "#bd3786"
             ],
             [
              0.5555555555555556,
              "#d8576b"
             ],
             [
              0.6666666666666666,
              "#ed7953"
             ],
             [
              0.7777777777777778,
              "#fb9f3a"
             ],
             [
              0.8888888888888888,
              "#fdca26"
             ],
             [
              1,
              "#f0f921"
             ]
            ],
            "type": "heatmapgl"
           }
          ],
          "histogram": [
           {
            "marker": {
             "pattern": {
              "fillmode": "overlay",
              "size": 10,
              "solidity": 0.2
             }
            },
            "type": "histogram"
           }
          ],
          "histogram2d": [
           {
            "colorbar": {
             "outlinewidth": 0,
             "ticks": ""
            },
            "colorscale": [
             [
              0,
              "#0d0887"
             ],
             [
              0.1111111111111111,
              "#46039f"
             ],
             [
              0.2222222222222222,
              "#7201a8"
             ],
             [
              0.3333333333333333,
              "#9c179e"
             ],
             [
              0.4444444444444444,
              "#bd3786"
             ],
             [
              0.5555555555555556,
              "#d8576b"
             ],
             [
              0.6666666666666666,
              "#ed7953"
             ],
             [
              0.7777777777777778,
              "#fb9f3a"
             ],
             [
              0.8888888888888888,
              "#fdca26"
             ],
             [
              1,
              "#f0f921"
             ]
            ],
            "type": "histogram2d"
           }
          ],
          "histogram2dcontour": [
           {
            "colorbar": {
             "outlinewidth": 0,
             "ticks": ""
            },
            "colorscale": [
             [
              0,
              "#0d0887"
             ],
             [
              0.1111111111111111,
              "#46039f"
             ],
             [
              0.2222222222222222,
              "#7201a8"
             ],
             [
              0.3333333333333333,
              "#9c179e"
             ],
             [
              0.4444444444444444,
              "#bd3786"
             ],
             [
              0.5555555555555556,
              "#d8576b"
             ],
             [
              0.6666666666666666,
              "#ed7953"
             ],
             [
              0.7777777777777778,
              "#fb9f3a"
             ],
             [
              0.8888888888888888,
              "#fdca26"
             ],
             [
              1,
              "#f0f921"
             ]
            ],
            "type": "histogram2dcontour"
           }
          ],
          "mesh3d": [
           {
            "colorbar": {
             "outlinewidth": 0,
             "ticks": ""
            },
            "type": "mesh3d"
           }
          ],
          "parcoords": [
           {
            "line": {
             "colorbar": {
              "outlinewidth": 0,
              "ticks": ""
             }
            },
            "type": "parcoords"
           }
          ],
          "pie": [
           {
            "automargin": true,
            "type": "pie"
           }
          ],
          "scatter": [
           {
            "marker": {
             "colorbar": {
              "outlinewidth": 0,
              "ticks": ""
             }
            },
            "type": "scatter"
           }
          ],
          "scatter3d": [
           {
            "line": {
             "colorbar": {
              "outlinewidth": 0,
              "ticks": ""
             }
            },
            "marker": {
             "colorbar": {
              "outlinewidth": 0,
              "ticks": ""
             }
            },
            "type": "scatter3d"
           }
          ],
          "scattercarpet": [
           {
            "marker": {
             "colorbar": {
              "outlinewidth": 0,
              "ticks": ""
             }
            },
            "type": "scattercarpet"
           }
          ],
          "scattergeo": [
           {
            "marker": {
             "colorbar": {
              "outlinewidth": 0,
              "ticks": ""
             }
            },
            "type": "scattergeo"
           }
          ],
          "scattergl": [
           {
            "marker": {
             "colorbar": {
              "outlinewidth": 0,
              "ticks": ""
             }
            },
            "type": "scattergl"
           }
          ],
          "scattermapbox": [
           {
            "marker": {
             "colorbar": {
              "outlinewidth": 0,
              "ticks": ""
             }
            },
            "type": "scattermapbox"
           }
          ],
          "scatterpolar": [
           {
            "marker": {
             "colorbar": {
              "outlinewidth": 0,
              "ticks": ""
             }
            },
            "type": "scatterpolar"
           }
          ],
          "scatterpolargl": [
           {
            "marker": {
             "colorbar": {
              "outlinewidth": 0,
              "ticks": ""
             }
            },
            "type": "scatterpolargl"
           }
          ],
          "scatterternary": [
           {
            "marker": {
             "colorbar": {
              "outlinewidth": 0,
              "ticks": ""
             }
            },
            "type": "scatterternary"
           }
          ],
          "surface": [
           {
            "colorbar": {
             "outlinewidth": 0,
             "ticks": ""
            },
            "colorscale": [
             [
              0,
              "#0d0887"
             ],
             [
              0.1111111111111111,
              "#46039f"
             ],
             [
              0.2222222222222222,
              "#7201a8"
             ],
             [
              0.3333333333333333,
              "#9c179e"
             ],
             [
              0.4444444444444444,
              "#bd3786"
             ],
             [
              0.5555555555555556,
              "#d8576b"
             ],
             [
              0.6666666666666666,
              "#ed7953"
             ],
             [
              0.7777777777777778,
              "#fb9f3a"
             ],
             [
              0.8888888888888888,
              "#fdca26"
             ],
             [
              1,
              "#f0f921"
             ]
            ],
            "type": "surface"
           }
          ],
          "table": [
           {
            "cells": {
             "fill": {
              "color": "#EBF0F8"
             },
             "line": {
              "color": "white"
             }
            },
            "header": {
             "fill": {
              "color": "#C8D4E3"
             },
             "line": {
              "color": "white"
             }
            },
            "type": "table"
           }
          ]
         },
         "layout": {
          "annotationdefaults": {
           "arrowcolor": "#2a3f5f",
           "arrowhead": 0,
           "arrowwidth": 1
          },
          "autotypenumbers": "strict",
          "coloraxis": {
           "colorbar": {
            "outlinewidth": 0,
            "ticks": ""
           }
          },
          "colorscale": {
           "diverging": [
            [
             0,
             "#8e0152"
            ],
            [
             0.1,
             "#c51b7d"
            ],
            [
             0.2,
             "#de77ae"
            ],
            [
             0.3,
             "#f1b6da"
            ],
            [
             0.4,
             "#fde0ef"
            ],
            [
             0.5,
             "#f7f7f7"
            ],
            [
             0.6,
             "#e6f5d0"
            ],
            [
             0.7,
             "#b8e186"
            ],
            [
             0.8,
             "#7fbc41"
            ],
            [
             0.9,
             "#4d9221"
            ],
            [
             1,
             "#276419"
            ]
           ],
           "sequential": [
            [
             0,
             "#0d0887"
            ],
            [
             0.1111111111111111,
             "#46039f"
            ],
            [
             0.2222222222222222,
             "#7201a8"
            ],
            [
             0.3333333333333333,
             "#9c179e"
            ],
            [
             0.4444444444444444,
             "#bd3786"
            ],
            [
             0.5555555555555556,
             "#d8576b"
            ],
            [
             0.6666666666666666,
             "#ed7953"
            ],
            [
             0.7777777777777778,
             "#fb9f3a"
            ],
            [
             0.8888888888888888,
             "#fdca26"
            ],
            [
             1,
             "#f0f921"
            ]
           ],
           "sequentialminus": [
            [
             0,
             "#0d0887"
            ],
            [
             0.1111111111111111,
             "#46039f"
            ],
            [
             0.2222222222222222,
             "#7201a8"
            ],
            [
             0.3333333333333333,
             "#9c179e"
            ],
            [
             0.4444444444444444,
             "#bd3786"
            ],
            [
             0.5555555555555556,
             "#d8576b"
            ],
            [
             0.6666666666666666,
             "#ed7953"
            ],
            [
             0.7777777777777778,
             "#fb9f3a"
            ],
            [
             0.8888888888888888,
             "#fdca26"
            ],
            [
             1,
             "#f0f921"
            ]
           ]
          },
          "colorway": [
           "#636efa",
           "#EF553B",
           "#00cc96",
           "#ab63fa",
           "#FFA15A",
           "#19d3f3",
           "#FF6692",
           "#B6E880",
           "#FF97FF",
           "#FECB52"
          ],
          "font": {
           "color": "#2a3f5f"
          },
          "geo": {
           "bgcolor": "white",
           "lakecolor": "white",
           "landcolor": "#E5ECF6",
           "showlakes": true,
           "showland": true,
           "subunitcolor": "white"
          },
          "hoverlabel": {
           "align": "left"
          },
          "hovermode": "closest",
          "mapbox": {
           "style": "light"
          },
          "paper_bgcolor": "white",
          "plot_bgcolor": "#E5ECF6",
          "polar": {
           "angularaxis": {
            "gridcolor": "white",
            "linecolor": "white",
            "ticks": ""
           },
           "bgcolor": "#E5ECF6",
           "radialaxis": {
            "gridcolor": "white",
            "linecolor": "white",
            "ticks": ""
           }
          },
          "scene": {
           "xaxis": {
            "backgroundcolor": "#E5ECF6",
            "gridcolor": "white",
            "gridwidth": 2,
            "linecolor": "white",
            "showbackground": true,
            "ticks": "",
            "zerolinecolor": "white"
           },
           "yaxis": {
            "backgroundcolor": "#E5ECF6",
            "gridcolor": "white",
            "gridwidth": 2,
            "linecolor": "white",
            "showbackground": true,
            "ticks": "",
            "zerolinecolor": "white"
           },
           "zaxis": {
            "backgroundcolor": "#E5ECF6",
            "gridcolor": "white",
            "gridwidth": 2,
            "linecolor": "white",
            "showbackground": true,
            "ticks": "",
            "zerolinecolor": "white"
           }
          },
          "shapedefaults": {
           "line": {
            "color": "#2a3f5f"
           }
          },
          "ternary": {
           "aaxis": {
            "gridcolor": "white",
            "linecolor": "white",
            "ticks": ""
           },
           "baxis": {
            "gridcolor": "white",
            "linecolor": "white",
            "ticks": ""
           },
           "bgcolor": "#E5ECF6",
           "caxis": {
            "gridcolor": "white",
            "linecolor": "white",
            "ticks": ""
           }
          },
          "title": {
           "x": 0.05
          },
          "xaxis": {
           "automargin": true,
           "gridcolor": "white",
           "linecolor": "white",
           "ticks": "",
           "title": {
            "standoff": 15
           },
           "zerolinecolor": "white",
           "zerolinewidth": 2
          },
          "yaxis": {
           "automargin": true,
           "gridcolor": "white",
           "linecolor": "white",
           "ticks": "",
           "title": {
            "standoff": 15
           },
           "zerolinecolor": "white",
           "zerolinewidth": 2
          }
         }
        },
        "title": {
         "text": "Mentions by day"
        },
        "xaxis": {
         "anchor": "y",
         "domain": [
          0,
          1
         ],
         "title": {
          "text": "day"
         }
        },
        "yaxis": {
         "anchor": "x",
         "domain": [
          0,
          1
         ],
         "title": {
          "text": "mentions"
         }
        }
       }
      },
      "text/html": [
       "<div>                            <div id=\"65231cad-0377-4385-9f9d-3c27c15fa70c\" class=\"plotly-graph-div\" style=\"height:525px; width:100%;\"></div>            <script type=\"text/javascript\">                require([\"plotly\"], function(Plotly) {                    window.PLOTLYENV=window.PLOTLYENV || {};                                    if (document.getElementById(\"65231cad-0377-4385-9f9d-3c27c15fa70c\")) {                    Plotly.newPlot(                        \"65231cad-0377-4385-9f9d-3c27c15fa70c\",                        [{\"hovertemplate\":\"symbol=AMC<br>day=%{x}<br>mentions=%{y}<extra></extra>\",\"legendgroup\":\"AMC\",\"line\":{\"color\":\"#636efa\",\"dash\":\"solid\"},\"mode\":\"lines\",\"name\":\"AMC\",\"orientation\":\"v\",\"showlegend\":true,\"type\":\"scatter\",\"x\":[\"2021-06-01T00:00:00+00:00\",\"2021-06-02T00:00:00+00:00\",\"2021-06-03T00:00:00+00:00\",\"2021-06-04T00:00:00+00:00\",\"2021-06-05T00:00:00+00:00\",\"2021-06-06T00:00:00+00:00\",\"2021-06-07T00:00:00+00:00\",\"2021-06-08T00:00:00+00:00\",\"2021-06-09T00:00:00+00:00\",\"2021-06-10T00:00:00+00:00\",\"2021-06-11T00:00:00+00:00\",\"2021-06-12T00:00:00+00:00\",\"2021-06-13T00:00:00+00:00\",\"2021-06-14T00:00:00+00:00\",\"2021-06-15T00:00:00+00:00\",\"2021-06-16T00:00:00+00:00\",\"2021-06-17T00:00:00+00:00\",\"2021-06-18T00:00:00+00:00\",\"2021-06-19T00:00:00+00:00\",\"2021-06-20T00:00:00+00:00\",\"2021-06-21T00:00:00+00:00\",\"2021-06-22T00:00:00+00:00\",\"2021-06-23T00:00:00+00:00\",\"2021-06-24T00:00:00+00:00\",\"2021-06-25T00:00:00+00:00\",\"2021-06-26T00:00:00+00:00\",\"2021-06-27T00:00:00+00:00\",\"2021-06-28T00:00:00+00:00\",\"2021-06-29T00:00:00+00:00\",\"2021-06-30T00:00:00+00:00\"],\"xaxis\":\"x\",\"y\":[3986,10347,12482,6647,1918,1610,3443,3527,4677,3698,2518,837,696,2283,2149,1567,2168,1564,611,460,1127,1149,832,684,657,200,368,759,681,504],\"yaxis\":\"y\"},{\"hovertemplate\":\"symbol=BB<br>day=%{x}<br>mentions=%{y}<extra></extra>\",\"legendgroup\":\"BB\",\"line\":{\"color\":\"#EF553B\",\"dash\":\"solid\"},\"mode\":\"lines\",\"name\":\"BB\",\"orientation\":\"v\",\"showlegend\":true,\"type\":\"scatter\",\"x\":[\"2021-06-01T00:00:00+00:00\",\"2021-06-02T00:00:00+00:00\",\"2021-06-03T00:00:00+00:00\",\"2021-06-04T00:00:00+00:00\",\"2021-06-05T00:00:00+00:00\",\"2021-06-06T00:00:00+00:00\",\"2021-06-07T00:00:00+00:00\",\"2021-06-08T00:00:00+00:00\",\"2021-06-09T00:00:00+00:00\",\"2021-06-10T00:00:00+00:00\",\"2021-06-11T00:00:00+00:00\",\"2021-06-12T00:00:00+00:00\",\"2021-06-13T00:00:00+00:00\",\"2021-06-14T00:00:00+00:00\",\"2021-06-15T00:00:00+00:00\",\"2021-06-16T00:00:00+00:00\",\"2021-06-17T00:00:00+00:00\",\"2021-06-18T00:00:00+00:00\",\"2021-06-19T00:00:00+00:00\",\"2021-06-20T00:00:00+00:00\",\"2021-06-21T00:00:00+00:00\",\"2021-06-22T00:00:00+00:00\",\"2021-06-23T00:00:00+00:00\",\"2021-06-24T00:00:00+00:00\",\"2021-06-25T00:00:00+00:00\",\"2021-06-26T00:00:00+00:00\",\"2021-06-27T00:00:00+00:00\",\"2021-06-28T00:00:00+00:00\",\"2021-06-29T00:00:00+00:00\",\"2021-06-30T00:00:00+00:00\"],\"xaxis\":\"x\",\"y\":[3421,9788,16809,9109,1786,1714,5747,5022,4696,3246,2336,508,429,1465,1026,991,1577,1151,282,196,1068,1078,611,665,793,159,159,746,527,270],\"yaxis\":\"y\"},{\"hovertemplate\":\"symbol=CLF<br>day=%{x}<br>mentions=%{y}<extra></extra>\",\"legendgroup\":\"CLF\",\"line\":{\"color\":\"#00cc96\",\"dash\":\"solid\"},\"mode\":\"lines\",\"name\":\"CLF\",\"orientation\":\"v\",\"showlegend\":true,\"type\":\"scatter\",\"x\":[\"2021-06-01T00:00:00+00:00\",\"2021-06-02T00:00:00+00:00\",\"2021-06-03T00:00:00+00:00\",\"2021-06-05T00:00:00+00:00\",\"2021-06-06T00:00:00+00:00\",\"2021-06-07T00:00:00+00:00\",\"2021-06-08T00:00:00+00:00\",\"2021-06-09T00:00:00+00:00\",\"2021-06-10T00:00:00+00:00\",\"2021-06-11T00:00:00+00:00\",\"2021-06-12T00:00:00+00:00\",\"2021-06-13T00:00:00+00:00\",\"2021-06-14T00:00:00+00:00\",\"2021-06-15T00:00:00+00:00\",\"2021-06-16T00:00:00+00:00\",\"2021-06-17T00:00:00+00:00\",\"2021-06-18T00:00:00+00:00\",\"2021-06-19T00:00:00+00:00\",\"2021-06-20T00:00:00+00:00\",\"2021-06-21T00:00:00+00:00\",\"2021-06-22T00:00:00+00:00\",\"2021-06-23T00:00:00+00:00\",\"2021-06-24T00:00:00+00:00\",\"2021-06-25T00:00:00+00:00\",\"2021-06-26T00:00:00+00:00\",\"2021-06-27T00:00:00+00:00\",\"2021-06-28T00:00:00+00:00\",\"2021-06-29T00:00:00+00:00\",\"2021-06-30T00:00:00+00:00\"],\"xaxis\":\"x\",\"y\":[3,8,8,4,1,13,33,3099,2465,1276,218,257,596,637,339,383,289,47,107,274,138,131,387,223,35,79,215,232,130],\"yaxis\":\"y\"},{\"hovertemplate\":\"symbol=CLNE<br>day=%{x}<br>mentions=%{y}<extra></extra>\",\"legendgroup\":\"CLNE\",\"line\":{\"color\":\"#ab63fa\",\"dash\":\"solid\"},\"mode\":\"lines\",\"name\":\"CLNE\",\"orientation\":\"v\",\"showlegend\":true,\"type\":\"scatter\",\"x\":[\"2021-06-01T00:00:00+00:00\",\"2021-06-02T00:00:00+00:00\",\"2021-06-03T00:00:00+00:00\",\"2021-06-04T00:00:00+00:00\",\"2021-06-05T00:00:00+00:00\",\"2021-06-06T00:00:00+00:00\",\"2021-06-07T00:00:00+00:00\",\"2021-06-08T00:00:00+00:00\",\"2021-06-09T00:00:00+00:00\",\"2021-06-10T00:00:00+00:00\",\"2021-06-11T00:00:00+00:00\",\"2021-06-12T00:00:00+00:00\",\"2021-06-13T00:00:00+00:00\",\"2021-06-14T00:00:00+00:00\",\"2021-06-15T00:00:00+00:00\",\"2021-06-16T00:00:00+00:00\",\"2021-06-17T00:00:00+00:00\",\"2021-06-18T00:00:00+00:00\",\"2021-06-19T00:00:00+00:00\",\"2021-06-20T00:00:00+00:00\",\"2021-06-21T00:00:00+00:00\",\"2021-06-22T00:00:00+00:00\",\"2021-06-23T00:00:00+00:00\",\"2021-06-24T00:00:00+00:00\",\"2021-06-25T00:00:00+00:00\",\"2021-06-26T00:00:00+00:00\",\"2021-06-27T00:00:00+00:00\",\"2021-06-28T00:00:00+00:00\",\"2021-06-29T00:00:00+00:00\",\"2021-06-30T00:00:00+00:00\"],\"xaxis\":\"x\",\"y\":[8,158,1657,1532,298,537,2000,2913,5887,2912,1660,499,864,3032,2189,1264,1656,2497,131,131,939,649,520,434,326,61,114,369,382,379],\"yaxis\":\"y\"},{\"hovertemplate\":\"symbol=CLOV<br>day=%{x}<br>mentions=%{y}<extra></extra>\",\"legendgroup\":\"CLOV\",\"line\":{\"color\":\"#FFA15A\",\"dash\":\"solid\"},\"mode\":\"lines\",\"name\":\"CLOV\",\"orientation\":\"v\",\"showlegend\":true,\"type\":\"scatter\",\"x\":[\"2021-06-01T00:00:00+00:00\",\"2021-06-02T00:00:00+00:00\",\"2021-06-03T00:00:00+00:00\",\"2021-06-04T00:00:00+00:00\",\"2021-06-05T00:00:00+00:00\",\"2021-06-06T00:00:00+00:00\",\"2021-06-07T00:00:00+00:00\",\"2021-06-08T00:00:00+00:00\",\"2021-06-09T00:00:00+00:00\",\"2021-06-10T00:00:00+00:00\",\"2021-06-11T00:00:00+00:00\",\"2021-06-12T00:00:00+00:00\",\"2021-06-13T00:00:00+00:00\",\"2021-06-14T00:00:00+00:00\",\"2021-06-15T00:00:00+00:00\",\"2021-06-16T00:00:00+00:00\",\"2021-06-17T00:00:00+00:00\",\"2021-06-18T00:00:00+00:00\",\"2021-06-19T00:00:00+00:00\",\"2021-06-20T00:00:00+00:00\",\"2021-06-21T00:00:00+00:00\",\"2021-06-22T00:00:00+00:00\",\"2021-06-23T00:00:00+00:00\",\"2021-06-24T00:00:00+00:00\",\"2021-06-25T00:00:00+00:00\",\"2021-06-26T00:00:00+00:00\",\"2021-06-27T00:00:00+00:00\",\"2021-06-28T00:00:00+00:00\",\"2021-06-29T00:00:00+00:00\",\"2021-06-30T00:00:00+00:00\"],\"xaxis\":\"x\",\"y\":[59,742,1129,498,131,354,2584,7441,7208,3200,2521,488,562,1608,1193,912,534,467,139,227,624,1501,1536,1365,793,216,331,760,1261,804],\"yaxis\":\"y\"},{\"hovertemplate\":\"symbol=GME<br>day=%{x}<br>mentions=%{y}<extra></extra>\",\"legendgroup\":\"GME\",\"line\":{\"color\":\"#19d3f3\",\"dash\":\"solid\"},\"mode\":\"lines\",\"name\":\"GME\",\"orientation\":\"v\",\"showlegend\":true,\"type\":\"scatter\",\"x\":[\"2021-06-01T00:00:00+00:00\",\"2021-06-02T00:00:00+00:00\",\"2021-06-03T00:00:00+00:00\",\"2021-06-04T00:00:00+00:00\",\"2021-06-05T00:00:00+00:00\",\"2021-06-06T00:00:00+00:00\",\"2021-06-07T00:00:00+00:00\",\"2021-06-08T00:00:00+00:00\",\"2021-06-09T00:00:00+00:00\",\"2021-06-10T00:00:00+00:00\",\"2021-06-11T00:00:00+00:00\",\"2021-06-12T00:00:00+00:00\",\"2021-06-13T00:00:00+00:00\",\"2021-06-14T00:00:00+00:00\",\"2021-06-15T00:00:00+00:00\",\"2021-06-16T00:00:00+00:00\",\"2021-06-17T00:00:00+00:00\",\"2021-06-18T00:00:00+00:00\",\"2021-06-19T00:00:00+00:00\",\"2021-06-20T00:00:00+00:00\",\"2021-06-21T00:00:00+00:00\",\"2021-06-22T00:00:00+00:00\",\"2021-06-23T00:00:00+00:00\",\"2021-06-24T00:00:00+00:00\",\"2021-06-25T00:00:00+00:00\",\"2021-06-26T00:00:00+00:00\",\"2021-06-27T00:00:00+00:00\",\"2021-06-28T00:00:00+00:00\",\"2021-06-29T00:00:00+00:00\",\"2021-06-30T00:00:00+00:00\"],\"xaxis\":\"x\",\"y\":[1350,3418,3648,2208,1018,1020,2276,4289,5016,3221,1538,568,438,892,978,955,702,737,433,362,822,1128,766,553,612,199,614,663,594,532],\"yaxis\":\"y\"},{\"hovertemplate\":\"symbol=TLRY<br>day=%{x}<br>mentions=%{y}<extra></extra>\",\"legendgroup\":\"TLRY\",\"line\":{\"color\":\"#FF6692\",\"dash\":\"solid\"},\"mode\":\"lines\",\"name\":\"TLRY\",\"orientation\":\"v\",\"showlegend\":true,\"type\":\"scatter\",\"x\":[\"2021-06-01T00:00:00+00:00\",\"2021-06-02T00:00:00+00:00\",\"2021-06-03T00:00:00+00:00\",\"2021-06-04T00:00:00+00:00\",\"2021-06-05T00:00:00+00:00\",\"2021-06-06T00:00:00+00:00\",\"2021-06-07T00:00:00+00:00\",\"2021-06-08T00:00:00+00:00\",\"2021-06-09T00:00:00+00:00\",\"2021-06-10T00:00:00+00:00\",\"2021-06-11T00:00:00+00:00\",\"2021-06-12T00:00:00+00:00\",\"2021-06-13T00:00:00+00:00\",\"2021-06-14T00:00:00+00:00\",\"2021-06-15T00:00:00+00:00\",\"2021-06-16T00:00:00+00:00\",\"2021-06-17T00:00:00+00:00\",\"2021-06-18T00:00:00+00:00\",\"2021-06-19T00:00:00+00:00\",\"2021-06-20T00:00:00+00:00\",\"2021-06-21T00:00:00+00:00\",\"2021-06-22T00:00:00+00:00\",\"2021-06-23T00:00:00+00:00\",\"2021-06-24T00:00:00+00:00\",\"2021-06-25T00:00:00+00:00\",\"2021-06-26T00:00:00+00:00\",\"2021-06-27T00:00:00+00:00\",\"2021-06-28T00:00:00+00:00\",\"2021-06-29T00:00:00+00:00\",\"2021-06-30T00:00:00+00:00\"],\"xaxis\":\"x\",\"y\":[191,802,1477,669,77,160,616,768,1788,667,385,74,164,398,271,250,196,169,30,36,318,165,190,262,145,22,64,146,177,146],\"yaxis\":\"y\"},{\"hovertemplate\":\"symbol=UWMC<br>day=%{x}<br>mentions=%{y}<extra></extra>\",\"legendgroup\":\"UWMC\",\"line\":{\"color\":\"#B6E880\",\"dash\":\"solid\"},\"mode\":\"lines\",\"name\":\"UWMC\",\"orientation\":\"v\",\"showlegend\":true,\"type\":\"scatter\",\"x\":[\"2021-06-01T00:00:00+00:00\",\"2021-06-02T00:00:00+00:00\",\"2021-06-03T00:00:00+00:00\",\"2021-06-04T00:00:00+00:00\",\"2021-06-05T00:00:00+00:00\",\"2021-06-06T00:00:00+00:00\",\"2021-06-07T00:00:00+00:00\",\"2021-06-08T00:00:00+00:00\",\"2021-06-09T00:00:00+00:00\",\"2021-06-10T00:00:00+00:00\",\"2021-06-11T00:00:00+00:00\",\"2021-06-12T00:00:00+00:00\",\"2021-06-13T00:00:00+00:00\",\"2021-06-14T00:00:00+00:00\",\"2021-06-15T00:00:00+00:00\",\"2021-06-16T00:00:00+00:00\",\"2021-06-17T00:00:00+00:00\",\"2021-06-18T00:00:00+00:00\",\"2021-06-19T00:00:00+00:00\",\"2021-06-20T00:00:00+00:00\",\"2021-06-21T00:00:00+00:00\",\"2021-06-22T00:00:00+00:00\",\"2021-06-23T00:00:00+00:00\",\"2021-06-24T00:00:00+00:00\",\"2021-06-25T00:00:00+00:00\",\"2021-06-26T00:00:00+00:00\",\"2021-06-27T00:00:00+00:00\",\"2021-06-28T00:00:00+00:00\",\"2021-06-29T00:00:00+00:00\",\"2021-06-30T00:00:00+00:00\"],\"xaxis\":\"x\",\"y\":[53,157,109,76,9,30,122,301,1392,968,1013,299,395,712,565,491,444,455,38,55,257,196,261,200,201,20,27,123,135,119],\"yaxis\":\"y\"},{\"hovertemplate\":\"symbol=WISH<br>day=%{x}<br>mentions=%{y}<extra></extra>\",\"legendgroup\":\"WISH\",\"line\":{\"color\":\"#FF97FF\",\"dash\":\"solid\"},\"mode\":\"lines\",\"name\":\"WISH\",\"orientation\":\"v\",\"showlegend\":true,\"type\":\"scatter\",\"x\":[\"2021-06-01T00:00:00+00:00\",\"2021-06-02T00:00:00+00:00\",\"2021-06-03T00:00:00+00:00\",\"2021-06-04T00:00:00+00:00\",\"2021-06-05T00:00:00+00:00\",\"2021-06-06T00:00:00+00:00\",\"2021-06-07T00:00:00+00:00\",\"2021-06-08T00:00:00+00:00\",\"2021-06-09T00:00:00+00:00\",\"2021-06-10T00:00:00+00:00\",\"2021-06-11T00:00:00+00:00\",\"2021-06-12T00:00:00+00:00\",\"2021-06-13T00:00:00+00:00\",\"2021-06-14T00:00:00+00:00\",\"2021-06-15T00:00:00+00:00\",\"2021-06-16T00:00:00+00:00\",\"2021-06-17T00:00:00+00:00\",\"2021-06-18T00:00:00+00:00\",\"2021-06-19T00:00:00+00:00\",\"2021-06-20T00:00:00+00:00\",\"2021-06-21T00:00:00+00:00\",\"2021-06-22T00:00:00+00:00\",\"2021-06-23T00:00:00+00:00\",\"2021-06-24T00:00:00+00:00\",\"2021-06-25T00:00:00+00:00\",\"2021-06-26T00:00:00+00:00\",\"2021-06-27T00:00:00+00:00\",\"2021-06-28T00:00:00+00:00\",\"2021-06-29T00:00:00+00:00\",\"2021-06-30T00:00:00+00:00\"],\"xaxis\":\"x\",\"y\":[22,52,27,11,6,3,45,4653,6765,2800,1564,440,474,2163,1689,1013,953,895,242,220,3000,2129,1375,1307,833,198,273,929,722,596],\"yaxis\":\"y\"},{\"hovertemplate\":\"symbol=WKHS<br>day=%{x}<br>mentions=%{y}<extra></extra>\",\"legendgroup\":\"WKHS\",\"line\":{\"color\":\"#FECB52\",\"dash\":\"solid\"},\"mode\":\"lines\",\"name\":\"WKHS\",\"orientation\":\"v\",\"showlegend\":true,\"type\":\"scatter\",\"x\":[\"2021-06-01T00:00:00+00:00\",\"2021-06-02T00:00:00+00:00\",\"2021-06-03T00:00:00+00:00\",\"2021-06-04T00:00:00+00:00\",\"2021-06-05T00:00:00+00:00\",\"2021-06-06T00:00:00+00:00\",\"2021-06-07T00:00:00+00:00\",\"2021-06-08T00:00:00+00:00\",\"2021-06-09T00:00:00+00:00\",\"2021-06-10T00:00:00+00:00\",\"2021-06-11T00:00:00+00:00\",\"2021-06-12T00:00:00+00:00\",\"2021-06-13T00:00:00+00:00\",\"2021-06-14T00:00:00+00:00\",\"2021-06-15T00:00:00+00:00\",\"2021-06-16T00:00:00+00:00\",\"2021-06-17T00:00:00+00:00\",\"2021-06-18T00:00:00+00:00\",\"2021-06-19T00:00:00+00:00\",\"2021-06-20T00:00:00+00:00\",\"2021-06-21T00:00:00+00:00\",\"2021-06-22T00:00:00+00:00\",\"2021-06-23T00:00:00+00:00\",\"2021-06-24T00:00:00+00:00\",\"2021-06-25T00:00:00+00:00\",\"2021-06-26T00:00:00+00:00\",\"2021-06-27T00:00:00+00:00\",\"2021-06-28T00:00:00+00:00\",\"2021-06-29T00:00:00+00:00\",\"2021-06-30T00:00:00+00:00\"],\"xaxis\":\"x\",\"y\":[12,266,1064,588,143,194,594,1367,2687,1544,1318,253,317,894,599,950,534,409,159,133,306,320,1026,782,555,89,139,924,785,535],\"yaxis\":\"y\"}],                        {\"legend\":{\"title\":{\"text\":\"symbol\"},\"tracegroupgap\":0},\"template\":{\"data\":{\"bar\":[{\"error_x\":{\"color\":\"#2a3f5f\"},\"error_y\":{\"color\":\"#2a3f5f\"},\"marker\":{\"line\":{\"color\":\"#E5ECF6\",\"width\":0.5},\"pattern\":{\"fillmode\":\"overlay\",\"size\":10,\"solidity\":0.2}},\"type\":\"bar\"}],\"barpolar\":[{\"marker\":{\"line\":{\"color\":\"#E5ECF6\",\"width\":0.5},\"pattern\":{\"fillmode\":\"overlay\",\"size\":10,\"solidity\":0.2}},\"type\":\"barpolar\"}],\"carpet\":[{\"aaxis\":{\"endlinecolor\":\"#2a3f5f\",\"gridcolor\":\"white\",\"linecolor\":\"white\",\"minorgridcolor\":\"white\",\"startlinecolor\":\"#2a3f5f\"},\"baxis\":{\"endlinecolor\":\"#2a3f5f\",\"gridcolor\":\"white\",\"linecolor\":\"white\",\"minorgridcolor\":\"white\",\"startlinecolor\":\"#2a3f5f\"},\"type\":\"carpet\"}],\"choropleth\":[{\"colorbar\":{\"outlinewidth\":0,\"ticks\":\"\"},\"type\":\"choropleth\"}],\"contour\":[{\"colorbar\":{\"outlinewidth\":0,\"ticks\":\"\"},\"colorscale\":[[0.0,\"#0d0887\"],[0.1111111111111111,\"#46039f\"],[0.2222222222222222,\"#7201a8\"],[0.3333333333333333,\"#9c179e\"],[0.4444444444444444,\"#bd3786\"],[0.5555555555555556,\"#d8576b\"],[0.6666666666666666,\"#ed7953\"],[0.7777777777777778,\"#fb9f3a\"],[0.8888888888888888,\"#fdca26\"],[1.0,\"#f0f921\"]],\"type\":\"contour\"}],\"contourcarpet\":[{\"colorbar\":{\"outlinewidth\":0,\"ticks\":\"\"},\"type\":\"contourcarpet\"}],\"heatmap\":[{\"colorbar\":{\"outlinewidth\":0,\"ticks\":\"\"},\"colorscale\":[[0.0,\"#0d0887\"],[0.1111111111111111,\"#46039f\"],[0.2222222222222222,\"#7201a8\"],[0.3333333333333333,\"#9c179e\"],[0.4444444444444444,\"#bd3786\"],[0.5555555555555556,\"#d8576b\"],[0.6666666666666666,\"#ed7953\"],[0.7777777777777778,\"#fb9f3a\"],[0.8888888888888888,\"#fdca26\"],[1.0,\"#f0f921\"]],\"type\":\"heatmap\"}],\"heatmapgl\":[{\"colorbar\":{\"outlinewidth\":0,\"ticks\":\"\"},\"colorscale\":[[0.0,\"#0d0887\"],[0.1111111111111111,\"#46039f\"],[0.2222222222222222,\"#7201a8\"],[0.3333333333333333,\"#9c179e\"],[0.4444444444444444,\"#bd3786\"],[0.5555555555555556,\"#d8576b\"],[0.6666666666666666,\"#ed7953\"],[0.7777777777777778,\"#fb9f3a\"],[0.8888888888888888,\"#fdca26\"],[1.0,\"#f0f921\"]],\"type\":\"heatmapgl\"}],\"histogram\":[{\"marker\":{\"pattern\":{\"fillmode\":\"overlay\",\"size\":10,\"solidity\":0.2}},\"type\":\"histogram\"}],\"histogram2d\":[{\"colorbar\":{\"outlinewidth\":0,\"ticks\":\"\"},\"colorscale\":[[0.0,\"#0d0887\"],[0.1111111111111111,\"#46039f\"],[0.2222222222222222,\"#7201a8\"],[0.3333333333333333,\"#9c179e\"],[0.4444444444444444,\"#bd3786\"],[0.5555555555555556,\"#d8576b\"],[0.6666666666666666,\"#ed7953\"],[0.7777777777777778,\"#fb9f3a\"],[0.8888888888888888,\"#fdca26\"],[1.0,\"#f0f921\"]],\"type\":\"histogram2d\"}],\"histogram2dcontour\":[{\"colorbar\":{\"outlinewidth\":0,\"ticks\":\"\"},\"colorscale\":[[0.0,\"#0d0887\"],[0.1111111111111111,\"#46039f\"],[0.2222222222222222,\"#7201a8\"],[0.3333333333333333,\"#9c179e\"],[0.4444444444444444,\"#bd3786\"],[0.5555555555555556,\"#d8576b\"],[0.6666666666666666,\"#ed7953\"],[0.7777777777777778,\"#fb9f3a\"],[0.8888888888888888,\"#fdca26\"],[1.0,\"#f0f921\"]],\"type\":\"histogram2dcontour\"}],\"mesh3d\":[{\"colorbar\":{\"outlinewidth\":0,\"ticks\":\"\"},\"type\":\"mesh3d\"}],\"parcoords\":[{\"line\":{\"colorbar\":{\"outlinewidth\":0,\"ticks\":\"\"}},\"type\":\"parcoords\"}],\"pie\":[{\"automargin\":true,\"type\":\"pie\"}],\"scatter\":[{\"marker\":{\"colorbar\":{\"outlinewidth\":0,\"ticks\":\"\"}},\"type\":\"scatter\"}],\"scatter3d\":[{\"line\":{\"colorbar\":{\"outlinewidth\":0,\"ticks\":\"\"}},\"marker\":{\"colorbar\":{\"outlinewidth\":0,\"ticks\":\"\"}},\"type\":\"scatter3d\"}],\"scattercarpet\":[{\"marker\":{\"colorbar\":{\"outlinewidth\":0,\"ticks\":\"\"}},\"type\":\"scattercarpet\"}],\"scattergeo\":[{\"marker\":{\"colorbar\":{\"outlinewidth\":0,\"ticks\":\"\"}},\"type\":\"scattergeo\"}],\"scattergl\":[{\"marker\":{\"colorbar\":{\"outlinewidth\":0,\"ticks\":\"\"}},\"type\":\"scattergl\"}],\"scattermapbox\":[{\"marker\":{\"colorbar\":{\"outlinewidth\":0,\"ticks\":\"\"}},\"type\":\"scattermapbox\"}],\"scatterpolar\":[{\"marker\":{\"colorbar\":{\"outlinewidth\":0,\"ticks\":\"\"}},\"type\":\"scatterpolar\"}],\"scatterpolargl\":[{\"marker\":{\"colorbar\":{\"outlinewidth\":0,\"ticks\":\"\"}},\"type\":\"scatterpolargl\"}],\"scatterternary\":[{\"marker\":{\"colorbar\":{\"outlinewidth\":0,\"ticks\":\"\"}},\"type\":\"scatterternary\"}],\"surface\":[{\"colorbar\":{\"outlinewidth\":0,\"ticks\":\"\"},\"colorscale\":[[0.0,\"#0d0887\"],[0.1111111111111111,\"#46039f\"],[0.2222222222222222,\"#7201a8\"],[0.3333333333333333,\"#9c179e\"],[0.4444444444444444,\"#bd3786\"],[0.5555555555555556,\"#d8576b\"],[0.6666666666666666,\"#ed7953\"],[0.7777777777777778,\"#fb9f3a\"],[0.8888888888888888,\"#fdca26\"],[1.0,\"#f0f921\"]],\"type\":\"surface\"}],\"table\":[{\"cells\":{\"fill\":{\"color\":\"#EBF0F8\"},\"line\":{\"color\":\"white\"}},\"header\":{\"fill\":{\"color\":\"#C8D4E3\"},\"line\":{\"color\":\"white\"}},\"type\":\"table\"}]},\"layout\":{\"annotationdefaults\":{\"arrowcolor\":\"#2a3f5f\",\"arrowhead\":0,\"arrowwidth\":1},\"autotypenumbers\":\"strict\",\"coloraxis\":{\"colorbar\":{\"outlinewidth\":0,\"ticks\":\"\"}},\"colorscale\":{\"diverging\":[[0,\"#8e0152\"],[0.1,\"#c51b7d\"],[0.2,\"#de77ae\"],[0.3,\"#f1b6da\"],[0.4,\"#fde0ef\"],[0.5,\"#f7f7f7\"],[0.6,\"#e6f5d0\"],[0.7,\"#b8e186\"],[0.8,\"#7fbc41\"],[0.9,\"#4d9221\"],[1,\"#276419\"]],\"sequential\":[[0.0,\"#0d0887\"],[0.1111111111111111,\"#46039f\"],[0.2222222222222222,\"#7201a8\"],[0.3333333333333333,\"#9c179e\"],[0.4444444444444444,\"#bd3786\"],[0.5555555555555556,\"#d8576b\"],[0.6666666666666666,\"#ed7953\"],[0.7777777777777778,\"#fb9f3a\"],[0.8888888888888888,\"#fdca26\"],[1.0,\"#f0f921\"]],\"sequentialminus\":[[0.0,\"#0d0887\"],[0.1111111111111111,\"#46039f\"],[0.2222222222222222,\"#7201a8\"],[0.3333333333333333,\"#9c179e\"],[0.4444444444444444,\"#bd3786\"],[0.5555555555555556,\"#d8576b\"],[0.6666666666666666,\"#ed7953\"],[0.7777777777777778,\"#fb9f3a\"],[0.8888888888888888,\"#fdca26\"],[1.0,\"#f0f921\"]]},\"colorway\":[\"#636efa\",\"#EF553B\",\"#00cc96\",\"#ab63fa\",\"#FFA15A\",\"#19d3f3\",\"#FF6692\",\"#B6E880\",\"#FF97FF\",\"#FECB52\"],\"font\":{\"color\":\"#2a3f5f\"},\"geo\":{\"bgcolor\":\"white\",\"lakecolor\":\"white\",\"landcolor\":\"#E5ECF6\",\"showlakes\":true,\"showland\":true,\"subunitcolor\":\"white\"},\"hoverlabel\":{\"align\":\"left\"},\"hovermode\":\"closest\",\"mapbox\":{\"style\":\"light\"},\"paper_bgcolor\":\"white\",\"plot_bgcolor\":\"#E5ECF6\",\"polar\":{\"angularaxis\":{\"gridcolor\":\"white\",\"linecolor\":\"white\",\"ticks\":\"\"},\"bgcolor\":\"#E5ECF6\",\"radialaxis\":{\"gridcolor\":\"white\",\"linecolor\":\"white\",\"ticks\":\"\"}},\"scene\":{\"xaxis\":{\"backgroundcolor\":\"#E5ECF6\",\"gridcolor\":\"white\",\"gridwidth\":2,\"linecolor\":\"white\",\"showbackground\":true,\"ticks\":\"\",\"zerolinecolor\":\"white\"},\"yaxis\":{\"backgroundcolor\":\"#E5ECF6\",\"gridcolor\":\"white\",\"gridwidth\":2,\"linecolor\":\"white\",\"showbackground\":true,\"ticks\":\"\",\"zerolinecolor\":\"white\"},\"zaxis\":{\"backgroundcolor\":\"#E5ECF6\",\"gridcolor\":\"white\",\"gridwidth\":2,\"linecolor\":\"white\",\"showbackground\":true,\"ticks\":\"\",\"zerolinecolor\":\"white\"}},\"shapedefaults\":{\"line\":{\"color\":\"#2a3f5f\"}},\"ternary\":{\"aaxis\":{\"gridcolor\":\"white\",\"linecolor\":\"white\",\"ticks\":\"\"},\"baxis\":{\"gridcolor\":\"white\",\"linecolor\":\"white\",\"ticks\":\"\"},\"bgcolor\":\"#E5ECF6\",\"caxis\":{\"gridcolor\":\"white\",\"linecolor\":\"white\",\"ticks\":\"\"}},\"title\":{\"x\":0.05},\"xaxis\":{\"automargin\":true,\"gridcolor\":\"white\",\"linecolor\":\"white\",\"ticks\":\"\",\"title\":{\"standoff\":15},\"zerolinecolor\":\"white\",\"zerolinewidth\":2},\"yaxis\":{\"automargin\":true,\"gridcolor\":\"white\",\"linecolor\":\"white\",\"ticks\":\"\",\"title\":{\"standoff\":15},\"zerolinecolor\":\"white\",\"zerolinewidth\":2}}},\"title\":{\"text\":\"Mentions by day\"},\"xaxis\":{\"anchor\":\"y\",\"domain\":[0.0,1.0],\"title\":{\"text\":\"day\"}},\"yaxis\":{\"anchor\":\"x\",\"domain\":[0.0,1.0],\"title\":{\"text\":\"mentions\"}}},                        {\"responsive\": true}                    ).then(function(){\n",
       "                            \n",
       "var gd = document.getElementById('65231cad-0377-4385-9f9d-3c27c15fa70c');\n",
       "var x = new MutationObserver(function (mutations, observer) {{\n",
       "        var display = window.getComputedStyle(gd).display;\n",
       "        if (!display || display === 'none') {{\n",
       "            console.log([gd, 'removed!']);\n",
       "            Plotly.purge(gd);\n",
       "            observer.disconnect();\n",
       "        }}\n",
       "}});\n",
       "\n",
       "// Listen for the removal of the full notebook cells\n",
       "var notebookContainer = gd.closest('#notebook-container');\n",
       "if (notebookContainer) {{\n",
       "    x.observe(notebookContainer, {childList: true});\n",
       "}}\n",
       "\n",
       "// Listen for the clearing of the current output cell\n",
       "var outputEl = gd.closest('.output');\n",
       "if (outputEl) {{\n",
       "    x.observe(outputEl, {childList: true});\n",
       "}}\n",
       "\n",
       "                        })                };                });            </script>        </div>"
      ]
     },
     "metadata": {},
     "output_type": "display_data"
    }
   ],
   "source": [
    "fig = px.line(mentions.loc[(mentions['symbol'].isin(top_symbols_june[:10])) & (mentions['day'].dt.month == 6)], \n",
    "              x=\"day\", y=\"num_mentions\", line_group=\"symbol\", color=\"symbol\",\n",
    "              title=\"Mentions by day\", labels={'num_mentions': 'mentions'})\n",
    "fig.show()"
   ]
  },
  {
   "cell_type": "markdown",
   "id": "00b4880a",
   "metadata": {},
   "source": [
    "Get the fraction of all mentions in the day"
   ]
  },
  {
   "cell_type": "code",
   "execution_count": 217,
   "id": "7cfc28a8",
   "metadata": {},
   "outputs": [],
   "source": [
    "total_daily_mentions = mentions.groupby('day')['num_mentions'].sum().reset_index()\n",
    "tmp = mentions \\\n",
    "    .merge(total_daily_mentions, on=\"day\", suffixes=('_stock', '_total')) \\\n",
    "    .sort_values(['symbol','day'])\n",
    "tmp['fraction_of_mentions'] = tmp['num_mentions_stock'] / tmp['num_mentions_total']\n",
    "tmp['fraction_of_mentions_MA'] = tmp.groupby('symbol')['fraction_of_mentions'].transform(lambda x: x.rolling(window=7, min_periods=1).mean())"
   ]
  },
  {
   "cell_type": "code",
   "execution_count": 212,
   "id": "9b802635",
   "metadata": {},
   "outputs": [
    {
     "data": {
      "application/vnd.plotly.v1+json": {
       "config": {
        "plotlyServerURL": "https://plot.ly"
       },
       "data": [
        {
         "hovertemplate": "symbol=WKHS<br>day=%{x}<br>fraction_of_mentions=%{y}<extra></extra>",
         "legendgroup": "WKHS",
         "line": {
          "color": "#636efa",
          "dash": "solid"
         },
         "mode": "lines",
         "name": "WKHS",
         "showlegend": true,
         "type": "scattergl",
         "x": [
          "2021-07-14T00:00:00+00:00",
          "2021-07-13T00:00:00+00:00",
          "2021-07-12T00:00:00+00:00",
          "2021-07-11T00:00:00+00:00",
          "2021-07-10T00:00:00+00:00",
          "2021-07-09T00:00:00+00:00",
          "2021-07-08T00:00:00+00:00",
          "2021-07-07T00:00:00+00:00",
          "2021-07-06T00:00:00+00:00",
          "2021-07-05T00:00:00+00:00",
          "2021-07-04T00:00:00+00:00",
          "2021-07-03T00:00:00+00:00",
          "2021-07-02T00:00:00+00:00",
          "2021-07-01T00:00:00+00:00",
          "2021-06-30T00:00:00+00:00",
          "2021-06-29T00:00:00+00:00",
          "2021-06-28T00:00:00+00:00",
          "2021-06-27T00:00:00+00:00",
          "2021-06-26T00:00:00+00:00",
          "2021-06-25T00:00:00+00:00",
          "2021-06-24T00:00:00+00:00",
          "2021-06-23T00:00:00+00:00",
          "2021-06-22T00:00:00+00:00",
          "2021-06-21T00:00:00+00:00",
          "2021-06-20T00:00:00+00:00",
          "2021-06-19T00:00:00+00:00",
          "2021-06-18T00:00:00+00:00",
          "2021-06-17T00:00:00+00:00",
          "2021-06-16T00:00:00+00:00",
          "2021-06-15T00:00:00+00:00",
          "2021-06-14T00:00:00+00:00",
          "2021-06-13T00:00:00+00:00",
          "2021-06-12T00:00:00+00:00",
          "2021-06-11T00:00:00+00:00",
          "2021-06-10T00:00:00+00:00",
          "2021-06-09T00:00:00+00:00",
          "2021-06-08T00:00:00+00:00",
          "2021-06-07T00:00:00+00:00",
          "2021-06-06T00:00:00+00:00",
          "2021-06-05T00:00:00+00:00",
          "2021-06-04T00:00:00+00:00",
          "2021-06-03T00:00:00+00:00",
          "2021-06-02T00:00:00+00:00",
          "2021-06-01T00:00:00+00:00",
          "2021-05-31T00:00:00+00:00",
          "2021-05-30T00:00:00+00:00",
          "2021-05-29T00:00:00+00:00",
          "2021-05-28T00:00:00+00:00",
          "2021-05-27T00:00:00+00:00",
          "2021-05-26T00:00:00+00:00",
          "2021-05-25T00:00:00+00:00",
          "2021-05-24T00:00:00+00:00",
          "2021-05-23T00:00:00+00:00",
          "2021-05-22T00:00:00+00:00",
          "2021-05-20T00:00:00+00:00",
          "2021-05-19T00:00:00+00:00",
          "2021-05-18T00:00:00+00:00",
          "2021-05-17T00:00:00+00:00",
          "2021-05-16T00:00:00+00:00",
          "2021-05-14T00:00:00+00:00",
          "2021-05-13T00:00:00+00:00",
          "2021-05-12T00:00:00+00:00",
          "2021-05-11T00:00:00+00:00",
          "2021-05-10T00:00:00+00:00",
          "2021-05-09T00:00:00+00:00",
          "2021-05-08T00:00:00+00:00",
          "2021-05-07T00:00:00+00:00",
          "2021-05-06T00:00:00+00:00",
          "2021-05-05T00:00:00+00:00",
          "2021-05-04T00:00:00+00:00",
          "2021-05-03T00:00:00+00:00",
          "2021-05-02T00:00:00+00:00",
          "2021-05-01T00:00:00+00:00",
          "2021-04-30T00:00:00+00:00",
          "2021-04-29T00:00:00+00:00",
          "2021-04-28T00:00:00+00:00",
          "2021-04-27T00:00:00+00:00",
          "2021-04-26T00:00:00+00:00",
          "2021-04-24T00:00:00+00:00",
          "2021-04-23T00:00:00+00:00",
          "2021-04-22T00:00:00+00:00",
          "2021-04-21T00:00:00+00:00",
          "2021-04-20T00:00:00+00:00",
          "2021-04-19T00:00:00+00:00",
          "2021-04-17T00:00:00+00:00",
          "2021-04-16T00:00:00+00:00",
          "2021-04-15T00:00:00+00:00",
          "2021-04-14T00:00:00+00:00",
          "2021-04-13T00:00:00+00:00",
          "2021-04-12T00:00:00+00:00",
          "2021-04-11T00:00:00+00:00",
          "2021-04-09T00:00:00+00:00",
          "2021-04-08T00:00:00+00:00",
          "2021-04-07T00:00:00+00:00",
          "2021-04-06T00:00:00+00:00",
          "2021-04-05T00:00:00+00:00",
          "2021-04-03T00:00:00+00:00",
          "2021-04-02T00:00:00+00:00",
          "2021-04-01T00:00:00+00:00",
          "2021-03-31T00:00:00+00:00",
          "2021-03-30T00:00:00+00:00",
          "2021-03-29T00:00:00+00:00",
          "2021-03-26T00:00:00+00:00",
          "2021-03-25T00:00:00+00:00",
          "2021-03-24T00:00:00+00:00",
          "2021-03-23T00:00:00+00:00",
          "2021-03-22T00:00:00+00:00",
          "2021-03-21T00:00:00+00:00",
          "2021-03-20T00:00:00+00:00",
          "2021-03-19T00:00:00+00:00",
          "2021-03-18T00:00:00+00:00",
          "2021-03-17T00:00:00+00:00",
          "2021-03-16T00:00:00+00:00",
          "2021-03-15T00:00:00+00:00",
          "2021-03-14T00:00:00+00:00",
          "2021-03-13T00:00:00+00:00",
          "2021-03-12T00:00:00+00:00",
          "2021-03-11T00:00:00+00:00",
          "2021-03-10T00:00:00+00:00",
          "2021-03-09T00:00:00+00:00"
         ],
         "xaxis": "x",
         "y": [
          0.009933774834437087,
          0.00748446023087657,
          0.009797684183738388,
          0.012246460007654038,
          0.016789087093389297,
          0.007793398533007335,
          0.016888600194868465,
          0.01178023763582817,
          0.012416427889207259,
          0.01398176291793313,
          0.024468511833132773,
          0.022970903522205207,
          0.023384545865341166,
          0.023372445117335352,
          0.0450868026293612,
          0.05806213017751479,
          0.0653835267478064,
          0.029467882128471488,
          0.028191320874247704,
          0.04130693658827032,
          0.0567118717818551,
          0.07209106239460371,
          0.022027947958972945,
          0.020481927710843374,
          0.03658872077028886,
          0.040406607369758575,
          0.028361417377435683,
          0.03029959146618248,
          0.05297496235989516,
          0.026768557000491577,
          0.033220616104938504,
          0.038452207666181466,
          0.03545403587443946,
          0.049899670616741755,
          0.04021880698098463,
          0.04488507283175197,
          0.03085569825971153,
          0.023224898342195807,
          0.024414799899320414,
          0.018363939899833055,
          0.019991160371264406,
          0.021406297153203902,
          0.007547812269451223,
          0.0008567144998929107,
          0.0019676432006996065,
          0.0017789072426937739,
          0.0015122873345935729,
          0.0016131771098658516,
          0.001344142479102785,
          0.0006822213125938054,
          0.0008152450830530929,
          0.001365374112506827,
          0.0007595898214963919,
          0.00046728971962616824,
          0.0006791632708503124,
          0.001273705066515709,
          0.001249639527059502,
          0.0014565935133035541,
          0.0015552099533437014,
          0.0008588298443370907,
          0.0008771929824561404,
          0.002385082393755421,
          0.002167434299647792,
          0.002590425021586875,
          0.003006285870456409,
          0.0022509848058525606,
          0.0020372822654578793,
          0.0019423761735189381,
          0.0008087706685837527,
          0.0009583133684714902,
          0.0009870585654748849,
          0.0006531678641410843,
          0.0012678288431061807,
          0.0012143961139324355,
          0.0004286694101508916,
          0.00026223776223776224,
          0.00040494027130998176,
          0.00016261484673550696,
          0.0002949852507374631,
          0.0005402485143165856,
          0.0004418262150220913,
          0.0007432733759476735,
          0.0002832058906825262,
          0.0002214103841470165,
          0.0002718868950516585,
          0.0018787779774546642,
          0.00048138639281129655,
          0.0004836258118004698,
          0.0005801906340654787,
          0.0003256003256003256,
          0.00030084235860409147,
          0.000302999697000303,
          0.0007163965254768515,
          0.0004821135859608524,
          0.0015479876160990713,
          0.0007439246156389485,
          0.00037893141341417203,
          0.0012774655084312723,
          0.0007405578869414959,
          0.0012642225031605564,
          0.0015007503751875938,
          0.0015705161763166161,
          0.00021269053527118043,
          0.0005257009345794393,
          0.0004023740066391711,
          0.0007624441781940966,
          0.0007041261794113505,
          0.0030542579949694574,
          0.0006914433880726015,
          0.0008489993935718618,
          0.0002638522427440633,
          0.0002741077791787731,
          0.00035567298409633656,
          0.0007596067917783736,
          0.000668359844940516,
          0.00043053960964408724,
          0.0009847365829640572,
          0.0015743340992255977,
          0.00038750034598245177,
          0.0006933610677760444
         ],
         "yaxis": "y"
        },
        {
         "hovertemplate": "symbol=WISH<br>day=%{x}<br>fraction_of_mentions=%{y}<extra></extra>",
         "legendgroup": "WISH",
         "line": {
          "color": "#EF553B",
          "dash": "solid"
         },
         "mode": "lines",
         "name": "WISH",
         "showlegend": true,
         "type": "scattergl",
         "x": [
          "2021-07-14T00:00:00+00:00",
          "2021-07-13T00:00:00+00:00",
          "2021-07-12T00:00:00+00:00",
          "2021-07-11T00:00:00+00:00",
          "2021-07-10T00:00:00+00:00",
          "2021-07-09T00:00:00+00:00",
          "2021-07-08T00:00:00+00:00",
          "2021-07-07T00:00:00+00:00",
          "2021-07-06T00:00:00+00:00",
          "2021-07-05T00:00:00+00:00",
          "2021-07-04T00:00:00+00:00",
          "2021-07-03T00:00:00+00:00",
          "2021-07-02T00:00:00+00:00",
          "2021-07-01T00:00:00+00:00",
          "2021-06-30T00:00:00+00:00",
          "2021-06-29T00:00:00+00:00",
          "2021-06-28T00:00:00+00:00",
          "2021-06-27T00:00:00+00:00",
          "2021-06-26T00:00:00+00:00",
          "2021-06-25T00:00:00+00:00",
          "2021-06-24T00:00:00+00:00",
          "2021-06-23T00:00:00+00:00",
          "2021-06-22T00:00:00+00:00",
          "2021-06-21T00:00:00+00:00",
          "2021-06-20T00:00:00+00:00",
          "2021-06-19T00:00:00+00:00",
          "2021-06-18T00:00:00+00:00",
          "2021-06-17T00:00:00+00:00",
          "2021-06-16T00:00:00+00:00",
          "2021-06-15T00:00:00+00:00",
          "2021-06-14T00:00:00+00:00",
          "2021-06-13T00:00:00+00:00",
          "2021-06-12T00:00:00+00:00",
          "2021-06-11T00:00:00+00:00",
          "2021-06-10T00:00:00+00:00",
          "2021-06-09T00:00:00+00:00",
          "2021-06-08T00:00:00+00:00",
          "2021-06-07T00:00:00+00:00",
          "2021-06-06T00:00:00+00:00",
          "2021-06-05T00:00:00+00:00",
          "2021-06-04T00:00:00+00:00",
          "2021-06-03T00:00:00+00:00",
          "2021-06-02T00:00:00+00:00",
          "2021-06-01T00:00:00+00:00",
          "2021-05-31T00:00:00+00:00",
          "2021-05-30T00:00:00+00:00",
          "2021-05-29T00:00:00+00:00",
          "2021-05-28T00:00:00+00:00",
          "2021-05-27T00:00:00+00:00",
          "2021-05-26T00:00:00+00:00",
          "2021-05-25T00:00:00+00:00",
          "2021-05-24T00:00:00+00:00",
          "2021-05-23T00:00:00+00:00",
          "2021-05-21T00:00:00+00:00",
          "2021-05-20T00:00:00+00:00",
          "2021-05-19T00:00:00+00:00",
          "2021-05-18T00:00:00+00:00",
          "2021-05-17T00:00:00+00:00",
          "2021-05-16T00:00:00+00:00",
          "2021-05-14T00:00:00+00:00",
          "2021-05-13T00:00:00+00:00",
          "2021-05-12T00:00:00+00:00",
          "2021-05-11T00:00:00+00:00",
          "2021-05-10T00:00:00+00:00",
          "2021-05-09T00:00:00+00:00",
          "2021-05-08T00:00:00+00:00",
          "2021-05-07T00:00:00+00:00",
          "2021-05-06T00:00:00+00:00",
          "2021-05-05T00:00:00+00:00",
          "2021-05-04T00:00:00+00:00",
          "2021-05-03T00:00:00+00:00",
          "2021-05-02T00:00:00+00:00",
          "2021-05-01T00:00:00+00:00",
          "2021-04-30T00:00:00+00:00",
          "2021-04-29T00:00:00+00:00",
          "2021-04-28T00:00:00+00:00",
          "2021-04-27T00:00:00+00:00",
          "2021-04-26T00:00:00+00:00",
          "2021-04-25T00:00:00+00:00",
          "2021-04-23T00:00:00+00:00",
          "2021-04-22T00:00:00+00:00",
          "2021-04-21T00:00:00+00:00",
          "2021-04-20T00:00:00+00:00",
          "2021-04-19T00:00:00+00:00",
          "2021-04-18T00:00:00+00:00",
          "2021-04-17T00:00:00+00:00",
          "2021-04-16T00:00:00+00:00",
          "2021-04-15T00:00:00+00:00",
          "2021-04-14T00:00:00+00:00",
          "2021-04-13T00:00:00+00:00",
          "2021-04-12T00:00:00+00:00",
          "2021-04-11T00:00:00+00:00",
          "2021-04-10T00:00:00+00:00",
          "2021-04-09T00:00:00+00:00",
          "2021-04-08T00:00:00+00:00",
          "2021-04-07T00:00:00+00:00",
          "2021-04-06T00:00:00+00:00",
          "2021-04-05T00:00:00+00:00",
          "2021-04-04T00:00:00+00:00",
          "2021-04-02T00:00:00+00:00",
          "2021-04-01T00:00:00+00:00",
          "2021-03-31T00:00:00+00:00",
          "2021-03-30T00:00:00+00:00",
          "2021-03-29T00:00:00+00:00",
          "2021-03-26T00:00:00+00:00",
          "2021-03-25T00:00:00+00:00",
          "2021-03-24T00:00:00+00:00",
          "2021-03-23T00:00:00+00:00",
          "2021-03-22T00:00:00+00:00",
          "2021-03-21T00:00:00+00:00",
          "2021-03-20T00:00:00+00:00",
          "2021-03-19T00:00:00+00:00",
          "2021-03-18T00:00:00+00:00",
          "2021-03-17T00:00:00+00:00",
          "2021-03-16T00:00:00+00:00",
          "2021-03-15T00:00:00+00:00",
          "2021-03-14T00:00:00+00:00",
          "2021-03-13T00:00:00+00:00",
          "2021-03-12T00:00:00+00:00",
          "2021-03-11T00:00:00+00:00",
          "2021-03-10T00:00:00+00:00",
          "2021-03-09T00:00:00+00:00"
         ],
         "xaxis": "x",
         "y": [
          0.024650478292862398,
          0.025371051630090066,
          0.026466471561267337,
          0.02525832376578645,
          0.01993704092339979,
          0.03102078239608802,
          0.03951499404568583,
          0.03117700822585559,
          0.04083094555873926,
          0.035866261398176294,
          0.02206177296430004,
          0.037263910158244005,
          0.05219159511974695,
          0.06216881150643452,
          0.05022754087308276,
          0.05340236686390532,
          0.06573733371072743,
          0.057875768496926015,
          0.0627177700348432,
          0.061997618338791305,
          0.09478569874537675,
          0.0966132658797077,
          0.14655469126454188,
          0.20080321285140562,
          0.06052269601100413,
          0.061499364675984755,
          0.06206227030025657,
          0.0540739900136178,
          0.05648803881113032,
          0.07547928676766323,
          0.08037605440154584,
          0.05749636098981077,
          0.061659192825112105,
          0.059213266194676865,
          0.07293566032821047,
          0.11300614726713885,
          0.10502674762431438,
          0.0017594619956208947,
          0.0003775484520513466,
          0.0007705149608321562,
          0.0003739842926597083,
          0.000543204908962881,
          0.001475512172975427,
          0.0015706432498036695,
          0.005028421512898994,
          0.0038119440914866584,
          0.002268431001890359,
          0.002292409577177789,
          0.0011341202167429747,
          0.002387774594078319,
          0.003362885967594008,
          0.0006826870562534135,
          0.00037979491074819596,
          0.0003261046796021523,
          0.00040749796251018743,
          0.0007076139258420605,
          0.0007690089397289243,
          0.0006797436395416586,
          0.0007776049766718507,
          0.0049382716049382715,
          0.0044736842105263155,
          0.0010841283607979184,
          0.0006321683373972727,
          0.0008634750071956251,
          0.0019130910084722602,
          0.0008441193021947102,
          0.0004074564530915758,
          0.0002589834898025251,
          0.0004493170381020848,
          0.00023957834211787255,
          0.0003290195218249616,
          0.0006531678641410843,
          0.0012678288431061807,
          0.00022079929344226098,
          0.0006858710562414266,
          0.0019230769230769232,
          0.0026996018087332117,
          0.00024392227010326044,
          0.0006315124723713293,
          0.0001350621285791464,
          0.0002945508100147275,
          0.0002973093503790694,
          0.0008496176720475786,
          0.00011070519207350825,
          0.0002995805871779509,
          0.0002718868950516585,
          0.000980231988237216,
          0.00048138639281129655,
          0.0001381788033715628,
          8.288437629506838e-05,
          0.0003256003256003256,
          0.00030084235860409147,
          0.00030665440049064706,
          0.000706999293000707,
          0.0009850452225306707,
          0.0005785363031530228,
          0.0003869969040247678,
          0.00016531658125309968,
          0.0003257328990228013,
          0.0015329586101175269,
          0.00032913683864066484,
          7.436602959767977e-05,
          0.00035732151790180804,
          0.00041880431368443097,
          0.00021269053527118043,
          0.0005257009345794393,
          0.0004526707574690675,
          0.0001633808953273064,
          0.00035206308970567524,
          0.00035932446999640676,
          0.0005185825410544512,
          0.00012128562765312311,
          0.000474934036939314,
          0.00016446466750726386,
          0.00025405213149738324,
          0.00022341376228775692,
          0.0004010159069643096,
          0.0002870264064293915,
          0.00039389463318562285,
          0.0008935409752361502,
          0.0008026792881065072,
          0.0005200208008320333
         ],
         "yaxis": "y"
        },
        {
         "hovertemplate": "symbol=GME<br>day=%{x}<br>fraction_of_mentions=%{y}<extra></extra>",
         "legendgroup": "GME",
         "line": {
          "color": "#00cc96",
          "dash": "solid"
         },
         "mode": "lines",
         "name": "GME",
         "showlegend": true,
         "type": "scattergl",
         "x": [
          "2021-07-14T00:00:00+00:00",
          "2021-07-13T00:00:00+00:00",
          "2021-07-12T00:00:00+00:00",
          "2021-07-11T00:00:00+00:00",
          "2021-07-10T00:00:00+00:00",
          "2021-07-09T00:00:00+00:00",
          "2021-07-08T00:00:00+00:00",
          "2021-07-07T00:00:00+00:00",
          "2021-07-06T00:00:00+00:00",
          "2021-07-05T00:00:00+00:00",
          "2021-07-04T00:00:00+00:00",
          "2021-07-03T00:00:00+00:00",
          "2021-07-02T00:00:00+00:00",
          "2021-07-01T00:00:00+00:00",
          "2021-06-30T00:00:00+00:00",
          "2021-06-29T00:00:00+00:00",
          "2021-06-28T00:00:00+00:00",
          "2021-06-27T00:00:00+00:00",
          "2021-06-26T00:00:00+00:00",
          "2021-06-25T00:00:00+00:00",
          "2021-06-24T00:00:00+00:00",
          "2021-06-23T00:00:00+00:00",
          "2021-06-22T00:00:00+00:00",
          "2021-06-21T00:00:00+00:00",
          "2021-06-20T00:00:00+00:00",
          "2021-06-19T00:00:00+00:00",
          "2021-06-18T00:00:00+00:00",
          "2021-06-17T00:00:00+00:00",
          "2021-06-16T00:00:00+00:00",
          "2021-06-15T00:00:00+00:00",
          "2021-06-14T00:00:00+00:00",
          "2021-06-13T00:00:00+00:00",
          "2021-06-12T00:00:00+00:00",
          "2021-06-11T00:00:00+00:00",
          "2021-06-10T00:00:00+00:00",
          "2021-06-09T00:00:00+00:00",
          "2021-06-08T00:00:00+00:00",
          "2021-06-07T00:00:00+00:00",
          "2021-06-06T00:00:00+00:00",
          "2021-06-05T00:00:00+00:00",
          "2021-06-04T00:00:00+00:00",
          "2021-06-03T00:00:00+00:00",
          "2021-06-02T00:00:00+00:00",
          "2021-06-01T00:00:00+00:00",
          "2021-05-31T00:00:00+00:00",
          "2021-05-30T00:00:00+00:00",
          "2021-05-29T00:00:00+00:00",
          "2021-05-28T00:00:00+00:00",
          "2021-05-27T00:00:00+00:00",
          "2021-05-26T00:00:00+00:00",
          "2021-05-25T00:00:00+00:00",
          "2021-05-24T00:00:00+00:00",
          "2021-05-23T00:00:00+00:00",
          "2021-05-22T00:00:00+00:00",
          "2021-05-21T00:00:00+00:00",
          "2021-05-20T00:00:00+00:00",
          "2021-05-19T00:00:00+00:00",
          "2021-05-18T00:00:00+00:00",
          "2021-05-17T00:00:00+00:00",
          "2021-05-16T00:00:00+00:00",
          "2021-05-15T00:00:00+00:00",
          "2021-05-14T00:00:00+00:00",
          "2021-05-13T00:00:00+00:00",
          "2021-05-12T00:00:00+00:00",
          "2021-05-11T00:00:00+00:00",
          "2021-05-10T00:00:00+00:00",
          "2021-05-09T00:00:00+00:00",
          "2021-05-08T00:00:00+00:00",
          "2021-05-07T00:00:00+00:00",
          "2021-05-06T00:00:00+00:00",
          "2021-05-05T00:00:00+00:00",
          "2021-05-04T00:00:00+00:00",
          "2021-05-03T00:00:00+00:00",
          "2021-05-02T00:00:00+00:00",
          "2021-05-01T00:00:00+00:00",
          "2021-04-30T00:00:00+00:00",
          "2021-04-29T00:00:00+00:00",
          "2021-04-28T00:00:00+00:00",
          "2021-04-27T00:00:00+00:00",
          "2021-04-26T00:00:00+00:00",
          "2021-04-25T00:00:00+00:00",
          "2021-04-24T00:00:00+00:00",
          "2021-04-23T00:00:00+00:00",
          "2021-04-22T00:00:00+00:00",
          "2021-04-21T00:00:00+00:00",
          "2021-04-20T00:00:00+00:00",
          "2021-04-19T00:00:00+00:00",
          "2021-04-18T00:00:00+00:00",
          "2021-04-17T00:00:00+00:00",
          "2021-04-16T00:00:00+00:00",
          "2021-04-15T00:00:00+00:00",
          "2021-04-14T00:00:00+00:00",
          "2021-04-13T00:00:00+00:00",
          "2021-04-12T00:00:00+00:00",
          "2021-04-11T00:00:00+00:00",
          "2021-04-10T00:00:00+00:00",
          "2021-04-09T00:00:00+00:00",
          "2021-04-08T00:00:00+00:00",
          "2021-04-07T00:00:00+00:00",
          "2021-04-06T00:00:00+00:00",
          "2021-04-05T00:00:00+00:00",
          "2021-04-04T00:00:00+00:00",
          "2021-04-03T00:00:00+00:00",
          "2021-04-02T00:00:00+00:00",
          "2021-04-01T00:00:00+00:00",
          "2021-03-31T00:00:00+00:00",
          "2021-03-30T00:00:00+00:00",
          "2021-03-29T00:00:00+00:00",
          "2021-03-26T00:00:00+00:00",
          "2021-03-25T00:00:00+00:00",
          "2021-03-24T00:00:00+00:00",
          "2021-03-23T00:00:00+00:00",
          "2021-03-22T00:00:00+00:00",
          "2021-03-21T00:00:00+00:00",
          "2021-03-20T00:00:00+00:00",
          "2021-03-19T00:00:00+00:00",
          "2021-03-18T00:00:00+00:00",
          "2021-03-17T00:00:00+00:00",
          "2021-03-16T00:00:00+00:00",
          "2021-03-15T00:00:00+00:00",
          "2021-03-14T00:00:00+00:00",
          "2021-03-13T00:00:00+00:00",
          "2021-03-12T00:00:00+00:00",
          "2021-03-11T00:00:00+00:00",
          "2021-03-10T00:00:00+00:00",
          "2021-03-09T00:00:00+00:00"
         ],
         "xaxis": "x",
         "y": [
          0.05224429727740986,
          0.04554103767601167,
          0.05382364168469271,
          0.03903559127439724,
          0.07135362014690451,
          0.04156479217603912,
          0.053805348056728375,
          0.0817507870417386,
          0.09109360076408787,
          0.11641337386018237,
          0.16686722823906938,
          0.1031138335885656,
          0.048124717577948485,
          0.05545041635124905,
          0.04483397943704703,
          0.04393491124260355,
          0.046914803283328615,
          0.13016747933008269,
          0.06303452644916059,
          0.045549270616254835,
          0.0401044310682428,
          0.05382237211916807,
          0.07764851655537963,
          0.05502008032128514,
          0.09958734525447042,
          0.11003811944091486,
          0.05110602593440122,
          0.03983204720835225,
          0.053253777951263036,
          0.0437055905617375,
          0.0331462970532496,
          0.05312954876273653,
          0.0795964125560538,
          0.0582289024344073,
          0.08390205782755926,
          0.08378992382734197,
          0.09681059973365234,
          0.08898967782295902,
          0.12836647369745785,
          0.13073070502118916,
          0.07506884710842145,
          0.07339301881098481,
          0.09698655013903865,
          0.09638038123795245,
          0.09335373852208133,
          0.13290978398983483,
          0.15330812854442344,
          0.11610629988113431,
          0.15516444743142774,
          0.2636785373175058,
          0.267808009782941,
          0.10363189513926815,
          0.12571211545765287,
          0.18317757009345795,
          0.10908201532691994,
          0.07389296386851399,
          0.12170959524483442,
          0.1576468326444295,
          0.14585356379879588,
          0.09447900466562986,
          0.1646039603960396,
          0.11937734836285561,
          0.13035087719298247,
          0.1063529921942758,
          0.09491556037207623,
          0.09565384246378202,
          0.11341896693085543,
          0.1409679234665166,
          0.09422430477742691,
          0.1364842991259307,
          0.10882458662832495,
          0.07918064206995687,
          0.0708488703663084,
          0.14696276943174397,
          0.11980982567353407,
          0.09317730183263413,
          0.08101851851851852,
          0.0902972027972028,
          0.12134710130255787,
          0.17017643710870803,
          0.11809283233343859,
          0.13952802359882005,
          0.12749864937871422,
          0.1251840942562592,
          0.12814033001337893,
          0.12645143018974794,
          0.3062105612753238,
          0.2546434991012582,
          0.3689505165851006,
          0.33156347002123837,
          0.20667522464698332,
          0.24975818709409978,
          0.23605470368835474,
          0.27627187627187627,
          0.2581227436823105,
          0.3011346212818154,
          0.30481769518230484,
          0.2519924778364825,
          0.2171439591167679,
          0.21555727554179566,
          0.26376260538932056,
          0.19250814332247557,
          0.2493368700265252,
          0.23019928461931527,
          0.2471817658191393,
          0.22741131850970478,
          0.29464732366183094,
          0.27955187938435766,
          0.3741935483870968,
          0.41950934579439253,
          0.42007846293129464,
          0.37583051955124713,
          0.3167159554992255,
          0.3036291771469637,
          0.33638720829732066,
          0.37374166161309885,
          0.3167282321899736,
          0.3331505948138808,
          0.4013007469132666,
          0.3742627345844504,
          0.4185269349017511,
          0.35074626865671643,
          0.3846873461349089,
          0.3913283975831844,
          0.43256110050098256,
          0.3780551222048882
         ],
         "yaxis": "y"
        },
        {
         "hovertemplate": "symbol=TLRY<br>day=%{x}<br>fraction_of_mentions=%{y}<extra></extra>",
         "legendgroup": "TLRY",
         "line": {
          "color": "#ab63fa",
          "dash": "solid"
         },
         "mode": "lines",
         "name": "TLRY",
         "showlegend": true,
         "type": "scattergl",
         "x": [
          "2021-07-14T00:00:00+00:00",
          "2021-07-13T00:00:00+00:00",
          "2021-07-12T00:00:00+00:00",
          "2021-07-11T00:00:00+00:00",
          "2021-07-10T00:00:00+00:00",
          "2021-07-09T00:00:00+00:00",
          "2021-07-08T00:00:00+00:00",
          "2021-07-07T00:00:00+00:00",
          "2021-07-06T00:00:00+00:00",
          "2021-07-05T00:00:00+00:00",
          "2021-07-04T00:00:00+00:00",
          "2021-07-03T00:00:00+00:00",
          "2021-07-02T00:00:00+00:00",
          "2021-07-01T00:00:00+00:00",
          "2021-06-30T00:00:00+00:00",
          "2021-06-29T00:00:00+00:00",
          "2021-06-28T00:00:00+00:00",
          "2021-06-27T00:00:00+00:00",
          "2021-06-26T00:00:00+00:00",
          "2021-06-25T00:00:00+00:00",
          "2021-06-24T00:00:00+00:00",
          "2021-06-23T00:00:00+00:00",
          "2021-06-22T00:00:00+00:00",
          "2021-06-21T00:00:00+00:00",
          "2021-06-20T00:00:00+00:00",
          "2021-06-19T00:00:00+00:00",
          "2021-06-18T00:00:00+00:00",
          "2021-06-17T00:00:00+00:00",
          "2021-06-16T00:00:00+00:00",
          "2021-06-15T00:00:00+00:00",
          "2021-06-14T00:00:00+00:00",
          "2021-06-13T00:00:00+00:00",
          "2021-06-12T00:00:00+00:00",
          "2021-06-11T00:00:00+00:00",
          "2021-06-10T00:00:00+00:00",
          "2021-06-09T00:00:00+00:00",
          "2021-06-08T00:00:00+00:00",
          "2021-06-07T00:00:00+00:00",
          "2021-06-06T00:00:00+00:00",
          "2021-06-05T00:00:00+00:00",
          "2021-06-04T00:00:00+00:00",
          "2021-06-03T00:00:00+00:00",
          "2021-06-02T00:00:00+00:00",
          "2021-06-01T00:00:00+00:00",
          "2021-05-31T00:00:00+00:00",
          "2021-05-30T00:00:00+00:00",
          "2021-05-29T00:00:00+00:00",
          "2021-05-28T00:00:00+00:00",
          "2021-05-27T00:00:00+00:00",
          "2021-05-26T00:00:00+00:00",
          "2021-05-25T00:00:00+00:00",
          "2021-05-24T00:00:00+00:00",
          "2021-05-23T00:00:00+00:00",
          "2021-05-22T00:00:00+00:00",
          "2021-05-21T00:00:00+00:00",
          "2021-05-20T00:00:00+00:00",
          "2021-05-19T00:00:00+00:00",
          "2021-05-18T00:00:00+00:00",
          "2021-05-17T00:00:00+00:00",
          "2021-05-16T00:00:00+00:00",
          "2021-05-15T00:00:00+00:00",
          "2021-05-14T00:00:00+00:00",
          "2021-05-13T00:00:00+00:00",
          "2021-05-12T00:00:00+00:00",
          "2021-05-11T00:00:00+00:00",
          "2021-05-10T00:00:00+00:00",
          "2021-05-09T00:00:00+00:00",
          "2021-05-08T00:00:00+00:00",
          "2021-05-07T00:00:00+00:00",
          "2021-05-06T00:00:00+00:00",
          "2021-05-05T00:00:00+00:00",
          "2021-05-04T00:00:00+00:00",
          "2021-05-03T00:00:00+00:00",
          "2021-05-02T00:00:00+00:00",
          "2021-05-01T00:00:00+00:00",
          "2021-04-30T00:00:00+00:00",
          "2021-04-29T00:00:00+00:00",
          "2021-04-28T00:00:00+00:00",
          "2021-04-27T00:00:00+00:00",
          "2021-04-26T00:00:00+00:00",
          "2021-04-25T00:00:00+00:00",
          "2021-04-24T00:00:00+00:00",
          "2021-04-23T00:00:00+00:00",
          "2021-04-22T00:00:00+00:00",
          "2021-04-21T00:00:00+00:00",
          "2021-04-20T00:00:00+00:00",
          "2021-04-19T00:00:00+00:00",
          "2021-04-18T00:00:00+00:00",
          "2021-04-17T00:00:00+00:00",
          "2021-04-16T00:00:00+00:00",
          "2021-04-15T00:00:00+00:00",
          "2021-04-14T00:00:00+00:00",
          "2021-04-13T00:00:00+00:00",
          "2021-04-12T00:00:00+00:00",
          "2021-04-11T00:00:00+00:00",
          "2021-04-10T00:00:00+00:00",
          "2021-04-09T00:00:00+00:00",
          "2021-04-08T00:00:00+00:00",
          "2021-04-07T00:00:00+00:00",
          "2021-04-06T00:00:00+00:00",
          "2021-04-05T00:00:00+00:00",
          "2021-04-04T00:00:00+00:00",
          "2021-04-03T00:00:00+00:00",
          "2021-04-02T00:00:00+00:00",
          "2021-04-01T00:00:00+00:00",
          "2021-03-31T00:00:00+00:00",
          "2021-03-30T00:00:00+00:00",
          "2021-03-29T00:00:00+00:00",
          "2021-03-26T00:00:00+00:00",
          "2021-03-25T00:00:00+00:00",
          "2021-03-24T00:00:00+00:00",
          "2021-03-23T00:00:00+00:00",
          "2021-03-22T00:00:00+00:00",
          "2021-03-21T00:00:00+00:00",
          "2021-03-20T00:00:00+00:00",
          "2021-03-19T00:00:00+00:00",
          "2021-03-18T00:00:00+00:00",
          "2021-03-17T00:00:00+00:00",
          "2021-03-16T00:00:00+00:00",
          "2021-03-15T00:00:00+00:00",
          "2021-03-14T00:00:00+00:00",
          "2021-03-13T00:00:00+00:00",
          "2021-03-12T00:00:00+00:00",
          "2021-03-11T00:00:00+00:00",
          "2021-03-10T00:00:00+00:00",
          "2021-03-09T00:00:00+00:00"
         ],
         "xaxis": "x",
         "y": [
          0.03826342899190582,
          0.030825827730559432,
          0.00521694872121135,
          0.004592422502870264,
          0.0031479538300104933,
          0.004125916870415648,
          0.006062574428927141,
          0.007007210317863308,
          0.0059694364851957974,
          0.002735562310030395,
          0.005214600882470918,
          0.002552322613578356,
          0.005761409850881157,
          0.007096896290688872,
          0.012304062025956514,
          0.013091715976331362,
          0.010331163317294084,
          0.013567945728217087,
          0.006968641114982578,
          0.010791902351890443,
          0.019000652694176518,
          0.013350196739741428,
          0.011358160666345426,
          0.021285140562248995,
          0.009903713892709767,
          0.007623888182973317,
          0.01171902087233895,
          0.01112119836586473,
          0.013940779568393465,
          0.01211064932743442,
          0.014789491286091189,
          0.019893255701115962,
          0.010369955156950673,
          0.014576155680914702,
          0.017374316228184424,
          0.02986770012027262,
          0.017335169175902308,
          0.024085079762277136,
          0.020135917442738484,
          0.009888275330679337,
          0.022745044708122258,
          0.029715320390302787,
          0.022756937744736395,
          0.013636039123295494,
          0.023830345430695232,
          0.020076238881829734,
          0.014933837429111531,
          0.03217863813890304,
          0.016633763178896963,
          0.012348205757947879,
          0.009986752267400388,
          0.0038230475150191155,
          0.002658564375237372,
          0.004672897196261682,
          0.005217674873634437,
          0.005025808204292312,
          0.003821115199547127,
          0.0053830625781024705,
          0.007185861332297533,
          0.003110419906687403,
          0.0028877887788778876,
          0.0055823939881910895,
          0.007017543859649123,
          0.006287944492627927,
          0.005599205274090129,
          0.012856183440468195,
          0.015031429352282044,
          0.011254924029262802,
          0.041764286441886525,
          0.010618323081903528,
          0.008806613946800863,
          0.009583133684714902,
          0.01809607370037289,
          0.0032658393207054214,
          0.003803486529318542,
          0.010377566791786266,
          0.004972565157750343,
          0.009265734265734266,
          0.003914422622663157,
          0.0029270672412391252,
          0.003789074834227976,
          0.0017699115044247787,
          0.003646677471636953,
          0.0004418262150220913,
          0.006243496357960458,
          0.015151515151515152,
          0.008745710173807151,
          0.005991611743559017,
          0.002990755845568244,
          0.004819473942166312,
          0.008424261874197689,
          0.006079867348348763,
          0.012681309573145462,
          0.013024013024013023,
          0.006618531889290012,
          0.006439742410303588,
          0.010503989496010504,
          0.010566848750783559,
          0.011088612477099604,
          0.006772445820433437,
          0.006116713506364688,
          0.004885993485342019,
          0.005683971201212581,
          0.0030659172202350538,
          0.004361063111988809,
          0.011749832676433406,
          0.0022153934109912098,
          0.0015705161763166161,
          0.0027649769585253456,
          0.004672897196261682,
          0.003721959561412333,
          0.004411284173837272,
          0.004647232784114913,
          0.0035932446999640674,
          0.002765773552290406,
          0.004790782292298363,
          0.0035356200527704483,
          0.0031248286826380135,
          0.005843199024439815,
          0.007506702412868633,
          0.00628258254244085,
          0.004305396096440872,
          0.008911866075824717,
          0.00970130201684963,
          0.0015223227877882034,
          0.0012133818686080777
         ],
         "yaxis": "y"
        },
        {
         "hovertemplate": "symbol=CLF<br>day=%{x}<br>fraction_of_mentions=%{y}<extra></extra>",
         "legendgroup": "CLF",
         "line": {
          "color": "#FFA15A",
          "dash": "solid"
         },
         "mode": "lines",
         "name": "CLF",
         "showlegend": true,
         "type": "scattergl",
         "x": [
          "2021-07-14T00:00:00+00:00",
          "2021-07-13T00:00:00+00:00",
          "2021-07-12T00:00:00+00:00",
          "2021-07-11T00:00:00+00:00",
          "2021-07-10T00:00:00+00:00",
          "2021-07-09T00:00:00+00:00",
          "2021-07-08T00:00:00+00:00",
          "2021-07-07T00:00:00+00:00",
          "2021-07-06T00:00:00+00:00",
          "2021-07-05T00:00:00+00:00",
          "2021-07-04T00:00:00+00:00",
          "2021-07-03T00:00:00+00:00",
          "2021-07-02T00:00:00+00:00",
          "2021-07-01T00:00:00+00:00",
          "2021-06-30T00:00:00+00:00",
          "2021-06-29T00:00:00+00:00",
          "2021-06-28T00:00:00+00:00",
          "2021-06-27T00:00:00+00:00",
          "2021-06-26T00:00:00+00:00",
          "2021-06-25T00:00:00+00:00",
          "2021-06-24T00:00:00+00:00",
          "2021-06-23T00:00:00+00:00",
          "2021-06-22T00:00:00+00:00",
          "2021-06-21T00:00:00+00:00",
          "2021-06-20T00:00:00+00:00",
          "2021-06-19T00:00:00+00:00",
          "2021-06-18T00:00:00+00:00",
          "2021-06-17T00:00:00+00:00",
          "2021-06-16T00:00:00+00:00",
          "2021-06-15T00:00:00+00:00",
          "2021-06-14T00:00:00+00:00",
          "2021-06-13T00:00:00+00:00",
          "2021-06-12T00:00:00+00:00",
          "2021-06-11T00:00:00+00:00",
          "2021-06-10T00:00:00+00:00",
          "2021-06-09T00:00:00+00:00",
          "2021-06-08T00:00:00+00:00",
          "2021-06-07T00:00:00+00:00",
          "2021-06-06T00:00:00+00:00",
          "2021-06-05T00:00:00+00:00",
          "2021-06-03T00:00:00+00:00",
          "2021-06-02T00:00:00+00:00",
          "2021-06-01T00:00:00+00:00",
          "2021-05-31T00:00:00+00:00",
          "2021-05-30T00:00:00+00:00",
          "2021-05-28T00:00:00+00:00",
          "2021-05-27T00:00:00+00:00",
          "2021-05-26T00:00:00+00:00",
          "2021-05-25T00:00:00+00:00",
          "2021-05-24T00:00:00+00:00",
          "2021-05-23T00:00:00+00:00",
          "2021-05-22T00:00:00+00:00",
          "2021-05-21T00:00:00+00:00",
          "2021-05-20T00:00:00+00:00",
          "2021-05-19T00:00:00+00:00",
          "2021-05-18T00:00:00+00:00",
          "2021-05-17T00:00:00+00:00",
          "2021-05-16T00:00:00+00:00",
          "2021-05-15T00:00:00+00:00",
          "2021-05-14T00:00:00+00:00",
          "2021-05-13T00:00:00+00:00",
          "2021-05-12T00:00:00+00:00",
          "2021-05-11T00:00:00+00:00",
          "2021-05-10T00:00:00+00:00",
          "2021-05-09T00:00:00+00:00",
          "2021-05-08T00:00:00+00:00",
          "2021-05-07T00:00:00+00:00",
          "2021-05-06T00:00:00+00:00",
          "2021-05-05T00:00:00+00:00",
          "2021-05-04T00:00:00+00:00",
          "2021-05-03T00:00:00+00:00",
          "2021-05-02T00:00:00+00:00",
          "2021-05-01T00:00:00+00:00",
          "2021-04-30T00:00:00+00:00",
          "2021-04-29T00:00:00+00:00",
          "2021-04-28T00:00:00+00:00",
          "2021-04-27T00:00:00+00:00",
          "2021-04-26T00:00:00+00:00",
          "2021-04-25T00:00:00+00:00",
          "2021-04-24T00:00:00+00:00",
          "2021-04-23T00:00:00+00:00",
          "2021-04-22T00:00:00+00:00",
          "2021-04-21T00:00:00+00:00",
          "2021-04-20T00:00:00+00:00",
          "2021-04-19T00:00:00+00:00",
          "2021-04-18T00:00:00+00:00",
          "2021-04-17T00:00:00+00:00",
          "2021-04-16T00:00:00+00:00",
          "2021-04-15T00:00:00+00:00",
          "2021-04-14T00:00:00+00:00",
          "2021-04-13T00:00:00+00:00",
          "2021-04-12T00:00:00+00:00",
          "2021-04-11T00:00:00+00:00",
          "2021-04-10T00:00:00+00:00",
          "2021-04-09T00:00:00+00:00",
          "2021-04-08T00:00:00+00:00",
          "2021-04-07T00:00:00+00:00",
          "2021-04-06T00:00:00+00:00",
          "2021-04-05T00:00:00+00:00",
          "2021-04-04T00:00:00+00:00",
          "2021-04-03T00:00:00+00:00",
          "2021-04-02T00:00:00+00:00",
          "2021-04-01T00:00:00+00:00",
          "2021-03-31T00:00:00+00:00",
          "2021-03-30T00:00:00+00:00",
          "2021-03-29T00:00:00+00:00",
          "2021-03-26T00:00:00+00:00",
          "2021-03-25T00:00:00+00:00",
          "2021-03-24T00:00:00+00:00",
          "2021-03-23T00:00:00+00:00",
          "2021-03-22T00:00:00+00:00",
          "2021-03-21T00:00:00+00:00",
          "2021-03-20T00:00:00+00:00",
          "2021-03-19T00:00:00+00:00",
          "2021-03-18T00:00:00+00:00",
          "2021-03-17T00:00:00+00:00",
          "2021-03-16T00:00:00+00:00",
          "2021-03-15T00:00:00+00:00",
          "2021-03-14T00:00:00+00:00",
          "2021-03-13T00:00:00+00:00",
          "2021-03-12T00:00:00+00:00",
          "2021-03-11T00:00:00+00:00",
          "2021-03-10T00:00:00+00:00",
          "2021-03-09T00:00:00+00:00"
         ],
         "xaxis": "x",
         "y": [
          0.010301692420897719,
          0.009006723328681973,
          0.01386944903931798,
          0.006505931879066207,
          0.012591815320041973,
          0.025366748166259168,
          0.00974342318934719,
          0.016553264953793032,
          0.0164756446991404,
          0.011550151975683891,
          0.012835940633774568,
          0.025523226135783564,
          0.026999548124717578,
          0.02043906131718395,
          0.01095567166694758,
          0.017159763313609466,
          0.015213699405604303,
          0.016747933008267966,
          0.011086474501108648,
          0.016597201548079785,
          0.0280658495902531,
          0.009204609331084879,
          0.009499552557307084,
          0.018340026773761713,
          0.029436038514442917,
          0.011944091486658195,
          0.020040219124887317,
          0.021731729459827508,
          0.018903697094741538,
          0.028466729230906734,
          0.022147077403292335,
          0.031174187287724406,
          0.03054932735426009,
          0.04830954454246015,
          0.06420942953894243,
          0.051767339302418815,
          0.0007448705505270523,
          0.0005082890209571474,
          0.00012584948401711554,
          0.0005136766405547708,
          0.00016094960265566845,
          0.00022700187276545033,
          0.00021417862497322766,
          0.0008745080891998251,
          0.0007623888182973316,
          0.00046697232127695704,
          0.0006300667870794304,
          0.0001364442625187611,
          0.0010190563538163661,
          0.0012288367012561442,
          0.001139384732244588,
          0.0014018691588785046,
          0.0030979944562204466,
          0.003395816354251562,
          0.003538069629210303,
          0.0007690089397289243,
          0.0022334433870654495,
          0.0019440124416796269,
          0.0033003300330033004,
          0.0021470746108427268,
          0.0021929824561403508,
          0.0032523850823937554,
          0.004425178361780908,
          0.006619975055166458,
          0.001639792292976223,
          0.0025323579065841305,
          0.0034633798512783945,
          0.0029783101327290383,
          0.0036843997124370955,
          0.007666506947771922,
          0.000877385391533231,
          0.0016329196603527107,
          0.0009508716323296355,
          0.0008831971737690439,
          0.00051440329218107,
          0.0006993006993006993,
          0.0008773705878382938,
          0.0026831449711358646,
          0.007262393432270287,
          0.002064896755162242,
          0.002025931928687196,
          0.001914580265095729,
          0.0019325107774639512,
          0.0002832058906825262,
          0.0005535259603675413,
          0.0026962252846015576,
          0.0008156606851549756,
          0.000571801993138376,
          0.0007220795892169448,
          0.0005527152134862512,
          0.000663075010360547,
          0.0002442002442002442,
          0.0009025270758122744,
          0.0009199632014719411,
          0.001312998687001313,
          0.0017909913136921285,
          0.0028926815157651145,
          0.001741486068111455,
          0.0024797487187964953,
          0.004234527687296417,
          0.0011367942402425162,
          0.002043944813490036,
          0.003373652596066815,
          0.008700825462928535,
          0.0035732151790180806,
          0.0015705161763166161,
          0.0003544842254519674,
          0.0007593457943925234,
          0.00030178050497937833,
          0.00027230149221217734,
          0.0002816504717645402,
          0.00035932446999640676,
          0.00017286084701815038,
          6.0642813826561554e-05,
          0.0008443271767810027,
          0.00043857244668603693,
          0.0008129668207916264,
          0.0006702412868632708,
          0.000668359844940516,
          0.00043053960964408724,
          0.001329394387001477,
          0.0011913879669815334,
          0.00022142876913282958,
          0.0013867221355520888
         ],
         "yaxis": "y"
        },
        {
         "hovertemplate": "symbol=CLNE<br>day=%{x}<br>fraction_of_mentions=%{y}<extra></extra>",
         "legendgroup": "CLNE",
         "line": {
          "color": "#19d3f3",
          "dash": "solid"
         },
         "mode": "lines",
         "name": "CLNE",
         "showlegend": true,
         "type": "scattergl",
         "x": [
          "2021-07-14T00:00:00+00:00",
          "2021-07-13T00:00:00+00:00",
          "2021-07-12T00:00:00+00:00",
          "2021-07-11T00:00:00+00:00",
          "2021-07-10T00:00:00+00:00",
          "2021-07-09T00:00:00+00:00",
          "2021-07-08T00:00:00+00:00",
          "2021-07-07T00:00:00+00:00",
          "2021-07-06T00:00:00+00:00",
          "2021-07-05T00:00:00+00:00",
          "2021-07-04T00:00:00+00:00",
          "2021-07-03T00:00:00+00:00",
          "2021-07-02T00:00:00+00:00",
          "2021-07-01T00:00:00+00:00",
          "2021-06-30T00:00:00+00:00",
          "2021-06-29T00:00:00+00:00",
          "2021-06-28T00:00:00+00:00",
          "2021-06-27T00:00:00+00:00",
          "2021-06-26T00:00:00+00:00",
          "2021-06-25T00:00:00+00:00",
          "2021-06-24T00:00:00+00:00",
          "2021-06-23T00:00:00+00:00",
          "2021-06-22T00:00:00+00:00",
          "2021-06-21T00:00:00+00:00",
          "2021-06-20T00:00:00+00:00",
          "2021-06-19T00:00:00+00:00",
          "2021-06-18T00:00:00+00:00",
          "2021-06-17T00:00:00+00:00",
          "2021-06-16T00:00:00+00:00",
          "2021-06-15T00:00:00+00:00",
          "2021-06-14T00:00:00+00:00",
          "2021-06-13T00:00:00+00:00",
          "2021-06-12T00:00:00+00:00",
          "2021-06-11T00:00:00+00:00",
          "2021-06-10T00:00:00+00:00",
          "2021-06-09T00:00:00+00:00",
          "2021-06-08T00:00:00+00:00",
          "2021-06-07T00:00:00+00:00",
          "2021-06-06T00:00:00+00:00",
          "2021-06-05T00:00:00+00:00",
          "2021-06-04T00:00:00+00:00",
          "2021-06-03T00:00:00+00:00",
          "2021-06-02T00:00:00+00:00",
          "2021-06-01T00:00:00+00:00",
          "2021-05-31T00:00:00+00:00",
          "2021-05-30T00:00:00+00:00",
          "2021-05-28T00:00:00+00:00",
          "2021-05-27T00:00:00+00:00",
          "2021-05-26T00:00:00+00:00",
          "2021-05-25T00:00:00+00:00",
          "2021-05-24T00:00:00+00:00",
          "2021-05-23T00:00:00+00:00",
          "2021-05-22T00:00:00+00:00",
          "2021-05-21T00:00:00+00:00",
          "2021-05-20T00:00:00+00:00",
          "2021-05-19T00:00:00+00:00",
          "2021-05-18T00:00:00+00:00",
          "2021-05-17T00:00:00+00:00",
          "2021-05-16T00:00:00+00:00",
          "2021-05-15T00:00:00+00:00",
          "2021-05-14T00:00:00+00:00",
          "2021-05-13T00:00:00+00:00",
          "2021-05-12T00:00:00+00:00",
          "2021-05-11T00:00:00+00:00",
          "2021-05-10T00:00:00+00:00",
          "2021-05-09T00:00:00+00:00",
          "2021-05-08T00:00:00+00:00",
          "2021-05-07T00:00:00+00:00",
          "2021-05-06T00:00:00+00:00",
          "2021-05-05T00:00:00+00:00",
          "2021-05-04T00:00:00+00:00",
          "2021-05-03T00:00:00+00:00",
          "2021-05-02T00:00:00+00:00",
          "2021-05-01T00:00:00+00:00",
          "2021-04-30T00:00:00+00:00",
          "2021-04-29T00:00:00+00:00",
          "2021-04-28T00:00:00+00:00",
          "2021-04-27T00:00:00+00:00",
          "2021-04-26T00:00:00+00:00",
          "2021-04-25T00:00:00+00:00",
          "2021-04-24T00:00:00+00:00",
          "2021-04-23T00:00:00+00:00",
          "2021-04-22T00:00:00+00:00",
          "2021-04-21T00:00:00+00:00",
          "2021-04-20T00:00:00+00:00",
          "2021-04-19T00:00:00+00:00",
          "2021-04-17T00:00:00+00:00",
          "2021-04-16T00:00:00+00:00",
          "2021-04-15T00:00:00+00:00",
          "2021-04-14T00:00:00+00:00",
          "2021-04-13T00:00:00+00:00",
          "2021-04-12T00:00:00+00:00",
          "2021-04-10T00:00:00+00:00",
          "2021-04-09T00:00:00+00:00",
          "2021-04-08T00:00:00+00:00",
          "2021-04-06T00:00:00+00:00",
          "2021-04-05T00:00:00+00:00",
          "2021-04-02T00:00:00+00:00",
          "2021-04-01T00:00:00+00:00",
          "2021-03-31T00:00:00+00:00",
          "2021-03-30T00:00:00+00:00",
          "2021-03-29T00:00:00+00:00",
          "2021-03-26T00:00:00+00:00",
          "2021-03-25T00:00:00+00:00",
          "2021-03-24T00:00:00+00:00",
          "2021-03-23T00:00:00+00:00",
          "2021-03-22T00:00:00+00:00",
          "2021-03-21T00:00:00+00:00",
          "2021-03-20T00:00:00+00:00",
          "2021-03-19T00:00:00+00:00",
          "2021-03-18T00:00:00+00:00",
          "2021-03-17T00:00:00+00:00",
          "2021-03-16T00:00:00+00:00",
          "2021-03-15T00:00:00+00:00",
          "2021-03-14T00:00:00+00:00",
          "2021-03-13T00:00:00+00:00",
          "2021-03-12T00:00:00+00:00",
          "2021-03-11T00:00:00+00:00",
          "2021-03-10T00:00:00+00:00",
          "2021-03-09T00:00:00+00:00"
         ],
         "xaxis": "x",
         "y": [
          0.022810890360559236,
          0.019535709755169352,
          0.016414302074055222,
          0.003827018752391887,
          0.011542497376705142,
          0.014364303178484108,
          0.018295983544440834,
          0.025794658271554787,
          0.03271251193887297,
          0.01094224924012158,
          0.016446048937023665,
          0.014293006636038795,
          0.028581111613194758,
          0.03132096896290689,
          0.0319399966290241,
          0.028254437869822485,
          0.026110953863572036,
          0.024167903328386687,
          0.019322141273360786,
          0.024263173563560583,
          0.031474363623177896,
          0.03653738055087127,
          0.04467543195429201,
          0.06285140562248996,
          0.03603851444291609,
          0.033290978398983484,
          0.17315026697177727,
          0.09396277802995914,
          0.07048458149779736,
          0.09782365822049426,
          0.11266768236037308,
          0.10480349344978165,
          0.06992713004484305,
          0.0628478400787491,
          0.0758530867413389,
          0.09833956969130028,
          0.06575175496016071,
          0.0781983109164842,
          0.06758117291719104,
          0.03826890972133042,
          0.05208581239587937,
          0.033336686450055324,
          0.004483286987117644,
          0.0005711429999286071,
          0.0013117621337997377,
          0.0012706480304955528,
          0.0006367804381049414,
          0.00029403116730373417,
          0.0012962204939282304,
          0.0017323958014878224,
          0.0015019115237575095,
          0.001139384732244588,
          0.0014018691588785046,
          0.0035871514756236752,
          0.005161640858462374,
          0.0015567506368525334,
          0.003556666346246275,
          0.0023305496212856864,
          0.0011664074650077762,
          0.004125412541254125,
          0.0026838432635534087,
          0.0028947368421052633,
          0.0026019080659150044,
          0.005057346699178181,
          0.0031660750263839584,
          0.0010931948619841486,
          0.006471581316826111,
          0.007741672608739941,
          0.0038847523470378763,
          0.0033249460819554278,
          0.0023957834211787254,
          0.003180522044307962,
          0.0032658393207054214,
          0.006022187004754358,
          0.004305586222124089,
          0.0024862825788751716,
          0.002797202797202797,
          0.0033070122156981844,
          0.0031709895113423855,
          0.005683612251341964,
          0.002359882005899705,
          0.0012155591572123178,
          0.000589101620029455,
          0.0028244388286011593,
          0.005664117813650524,
          0.006531606332336987,
          0.001087547580206634,
          0.000571801993138376,
          0.0007220795892169448,
          0.000690894016857814,
          0.0010774968918358888,
          0.0008954008954008954,
          0.00030665440049064706,
          0.000908999091000909,
          0.00035819826273842574,
          0.0011609907120743034,
          0.0011572160687716977,
          0.000510986203372509,
          0.0008228420966016622,
          0.0007436602959767978,
          0.0002858572143214464,
          0.00041880431368443097,
          0.00014179369018078695,
          0.00023364485981308412,
          0.0005532642591288602,
          0.0011981265657335803,
          0.0007041261794113505,
          0.00017966223499820338,
          0.00017286084701815038,
          0.0007277137659187386,
          0.00036939313984168866,
          0.00016446466750726386,
          0.0005081042629947665,
          0.0006702412868632708,
          0.0012030477208929287,
          0.000574052812858783,
          0.00039389463318562285,
          0.0005531444132414263,
          0.0002491073652744333,
          0.0005200208008320333
         ],
         "yaxis": "y"
        },
        {
         "hovertemplate": "symbol=BB<br>day=%{x}<br>fraction_of_mentions=%{y}<extra></extra>",
         "legendgroup": "BB",
         "line": {
          "color": "#FF6692",
          "dash": "solid"
         },
         "mode": "lines",
         "name": "BB",
         "showlegend": true,
         "type": "scattergl",
         "x": [
          "2021-07-14T00:00:00+00:00",
          "2021-07-13T00:00:00+00:00",
          "2021-07-12T00:00:00+00:00",
          "2021-07-11T00:00:00+00:00",
          "2021-07-10T00:00:00+00:00",
          "2021-07-09T00:00:00+00:00",
          "2021-07-08T00:00:00+00:00",
          "2021-07-07T00:00:00+00:00",
          "2021-07-06T00:00:00+00:00",
          "2021-07-05T00:00:00+00:00",
          "2021-07-04T00:00:00+00:00",
          "2021-07-03T00:00:00+00:00",
          "2021-07-02T00:00:00+00:00",
          "2021-07-01T00:00:00+00:00",
          "2021-06-30T00:00:00+00:00",
          "2021-06-29T00:00:00+00:00",
          "2021-06-28T00:00:00+00:00",
          "2021-06-27T00:00:00+00:00",
          "2021-06-26T00:00:00+00:00",
          "2021-06-25T00:00:00+00:00",
          "2021-06-24T00:00:00+00:00",
          "2021-06-23T00:00:00+00:00",
          "2021-06-22T00:00:00+00:00",
          "2021-06-21T00:00:00+00:00",
          "2021-06-20T00:00:00+00:00",
          "2021-06-19T00:00:00+00:00",
          "2021-06-18T00:00:00+00:00",
          "2021-06-17T00:00:00+00:00",
          "2021-06-16T00:00:00+00:00",
          "2021-06-15T00:00:00+00:00",
          "2021-06-14T00:00:00+00:00",
          "2021-06-13T00:00:00+00:00",
          "2021-06-12T00:00:00+00:00",
          "2021-06-11T00:00:00+00:00",
          "2021-06-10T00:00:00+00:00",
          "2021-06-09T00:00:00+00:00",
          "2021-06-08T00:00:00+00:00",
          "2021-06-07T00:00:00+00:00",
          "2021-06-06T00:00:00+00:00",
          "2021-06-05T00:00:00+00:00",
          "2021-06-04T00:00:00+00:00",
          "2021-06-03T00:00:00+00:00",
          "2021-06-02T00:00:00+00:00",
          "2021-06-01T00:00:00+00:00",
          "2021-05-31T00:00:00+00:00",
          "2021-05-30T00:00:00+00:00",
          "2021-05-29T00:00:00+00:00",
          "2021-05-28T00:00:00+00:00",
          "2021-05-27T00:00:00+00:00",
          "2021-05-26T00:00:00+00:00",
          "2021-05-25T00:00:00+00:00",
          "2021-05-24T00:00:00+00:00",
          "2021-05-23T00:00:00+00:00",
          "2021-05-22T00:00:00+00:00",
          "2021-05-21T00:00:00+00:00",
          "2021-05-20T00:00:00+00:00",
          "2021-05-19T00:00:00+00:00",
          "2021-05-18T00:00:00+00:00",
          "2021-05-17T00:00:00+00:00",
          "2021-05-16T00:00:00+00:00",
          "2021-05-15T00:00:00+00:00",
          "2021-05-14T00:00:00+00:00",
          "2021-05-13T00:00:00+00:00",
          "2021-05-12T00:00:00+00:00",
          "2021-05-11T00:00:00+00:00",
          "2021-05-10T00:00:00+00:00",
          "2021-05-09T00:00:00+00:00",
          "2021-05-08T00:00:00+00:00",
          "2021-05-07T00:00:00+00:00",
          "2021-05-06T00:00:00+00:00",
          "2021-05-05T00:00:00+00:00",
          "2021-05-04T00:00:00+00:00",
          "2021-05-03T00:00:00+00:00",
          "2021-05-02T00:00:00+00:00",
          "2021-05-01T00:00:00+00:00",
          "2021-04-30T00:00:00+00:00",
          "2021-04-29T00:00:00+00:00",
          "2021-04-28T00:00:00+00:00",
          "2021-04-27T00:00:00+00:00",
          "2021-04-26T00:00:00+00:00",
          "2021-04-25T00:00:00+00:00",
          "2021-04-24T00:00:00+00:00",
          "2021-04-23T00:00:00+00:00",
          "2021-04-22T00:00:00+00:00",
          "2021-04-21T00:00:00+00:00",
          "2021-04-20T00:00:00+00:00",
          "2021-04-19T00:00:00+00:00",
          "2021-04-18T00:00:00+00:00",
          "2021-04-17T00:00:00+00:00",
          "2021-04-16T00:00:00+00:00",
          "2021-04-15T00:00:00+00:00",
          "2021-04-14T00:00:00+00:00",
          "2021-04-13T00:00:00+00:00",
          "2021-04-12T00:00:00+00:00",
          "2021-04-11T00:00:00+00:00",
          "2021-04-10T00:00:00+00:00",
          "2021-04-09T00:00:00+00:00",
          "2021-04-08T00:00:00+00:00",
          "2021-04-07T00:00:00+00:00",
          "2021-04-06T00:00:00+00:00",
          "2021-04-05T00:00:00+00:00",
          "2021-04-04T00:00:00+00:00",
          "2021-04-03T00:00:00+00:00",
          "2021-04-02T00:00:00+00:00",
          "2021-04-01T00:00:00+00:00",
          "2021-03-31T00:00:00+00:00",
          "2021-03-30T00:00:00+00:00",
          "2021-03-29T00:00:00+00:00",
          "2021-03-26T00:00:00+00:00",
          "2021-03-25T00:00:00+00:00",
          "2021-03-24T00:00:00+00:00",
          "2021-03-23T00:00:00+00:00",
          "2021-03-22T00:00:00+00:00",
          "2021-03-21T00:00:00+00:00",
          "2021-03-20T00:00:00+00:00",
          "2021-03-19T00:00:00+00:00",
          "2021-03-18T00:00:00+00:00",
          "2021-03-17T00:00:00+00:00",
          "2021-03-16T00:00:00+00:00",
          "2021-03-15T00:00:00+00:00",
          "2021-03-14T00:00:00+00:00",
          "2021-03-13T00:00:00+00:00",
          "2021-03-12T00:00:00+00:00",
          "2021-03-11T00:00:00+00:00",
          "2021-03-10T00:00:00+00:00",
          "2021-03-09T00:00:00+00:00"
         ],
         "xaxis": "x",
         "y": [
          0.0235467255334805,
          0.028796143600152226,
          0.02252194935742461,
          0.012246460007654038,
          0.011542497376705142,
          0.018490220048899754,
          0.019378586121034966,
          0.023255813953488372,
          0.02710124164278892,
          0.03221884498480243,
          0.026073004412354592,
          0.04032669729453803,
          0.021238138273836422,
          0.027725208175624527,
          0.022754087308275744,
          0.0389792899408284,
          0.052787998867817716,
          0.033707865168539325,
          0.050364269876465,
          0.059020541827924974,
          0.04822684748712742,
          0.04293142214727375,
          0.07420664968679011,
          0.0714859437751004,
          0.05392022008253095,
          0.07166454891994918,
          0.07981415990569309,
          0.08948025419881979,
          0.05526125020911169,
          0.04585065022120928,
          0.05443870536211958,
          0.05203784570596798,
          0.07118834080717489,
          0.08844129784575777,
          0.08455326908048971,
          0.07844447414138714,
          0.11335575468929869,
          0.22470284641851737,
          0.215706015605336,
          0.22935662000770515,
          0.3096929928942984,
          0.33817523387989135,
          0.27773679132852847,
          0.2442350253444706,
          0.1733712286838653,
          0.12020330368487929,
          0.09395085066162571,
          0.1228986245542537,
          0.0742218675179569,
          0.05382726156365125,
          0.013043921328849486,
          0.004915346805024577,
          0.004557538928978352,
          0.010280373831775701,
          0.0071743029512473504,
          0.006791632708503124,
          0.01004811774695726,
          0.013553782562722291,
          0.006214798990095164,
          0.009720062208398134,
          0.012376237623762377,
          0.01696188942565754,
          0.012543859649122807,
          0.010516045099739808,
          0.006863541948884675,
          0.005372733378106112,
          0.008472260180377153,
          0.010973550928531233,
          0.01314047061220332,
          0.007186791842020071,
          0.007458662832494608,
          0.00706756109247724,
          0.005812678218907655,
          0.007838014369693011,
          0.010142630744849446,
          0.007948774563921396,
          0.009344993141289438,
          0.009178321678321678,
          0.012283188229736114,
          0.011626961541588748,
          0.015156299336911904,
          0.00855457227138643,
          0.011750405186385737,
          0.014285714285714285,
          0.024379366731083693,
          0.022514868309260833,
          0.01516661131407063,
          0.02396644697423607,
          0.01957585644371941,
          0.010455807874530305,
          0.012836970474967908,
          0.009188890424208927,
          0.011852465810194779,
          0.012617012617012617,
          0.01233453670276775,
          0.006746396810794235,
          0.017573982426017574,
          0.023999283603474524,
          0.031240960370263235,
          0.01722136222910217,
          0.017771532484708218,
          0.02247557003257329,
          0.017430845017051912,
          0.02120592743995912,
          0.021393894511643214,
          0.04759425894251506,
          0.04330736796969913,
          0.019683802743168256,
          0.008436724565756825,
          0.009871495327102804,
          0.008248667136103009,
          0.008713647750789675,
          0.009998591747641178,
          0.0073661516349263385,
          0.00881590319792567,
          0.00703456640388114,
          0.007440633245382586,
          0.008881092045392247,
          0.015446369595040902,
          0.020196604110813227,
          0.01376821280577463,
          0.025114810562571758,
          0.03412112259970458,
          0.008552463620117436,
          0.015638406820006088,
          0.0171606864274571
         ],
         "yaxis": "y"
        },
        {
         "hovertemplate": "symbol=UWMC<br>day=%{x}<br>fraction_of_mentions=%{y}<extra></extra>",
         "legendgroup": "UWMC",
         "line": {
          "color": "#B6E880",
          "dash": "solid"
         },
         "mode": "lines",
         "name": "UWMC",
         "showlegend": true,
         "type": "scattergl",
         "x": [
          "2021-07-14T00:00:00+00:00",
          "2021-07-13T00:00:00+00:00",
          "2021-07-12T00:00:00+00:00",
          "2021-07-11T00:00:00+00:00",
          "2021-07-10T00:00:00+00:00",
          "2021-07-09T00:00:00+00:00",
          "2021-07-08T00:00:00+00:00",
          "2021-07-07T00:00:00+00:00",
          "2021-07-06T00:00:00+00:00",
          "2021-07-05T00:00:00+00:00",
          "2021-07-04T00:00:00+00:00",
          "2021-07-03T00:00:00+00:00",
          "2021-07-02T00:00:00+00:00",
          "2021-07-01T00:00:00+00:00",
          "2021-06-30T00:00:00+00:00",
          "2021-06-29T00:00:00+00:00",
          "2021-06-28T00:00:00+00:00",
          "2021-06-27T00:00:00+00:00",
          "2021-06-26T00:00:00+00:00",
          "2021-06-25T00:00:00+00:00",
          "2021-06-24T00:00:00+00:00",
          "2021-06-23T00:00:00+00:00",
          "2021-06-22T00:00:00+00:00",
          "2021-06-21T00:00:00+00:00",
          "2021-06-20T00:00:00+00:00",
          "2021-06-19T00:00:00+00:00",
          "2021-06-18T00:00:00+00:00",
          "2021-06-17T00:00:00+00:00",
          "2021-06-16T00:00:00+00:00",
          "2021-06-15T00:00:00+00:00",
          "2021-06-14T00:00:00+00:00",
          "2021-06-13T00:00:00+00:00",
          "2021-06-12T00:00:00+00:00",
          "2021-06-11T00:00:00+00:00",
          "2021-06-10T00:00:00+00:00",
          "2021-06-09T00:00:00+00:00",
          "2021-06-08T00:00:00+00:00",
          "2021-06-07T00:00:00+00:00",
          "2021-06-06T00:00:00+00:00",
          "2021-06-05T00:00:00+00:00",
          "2021-06-04T00:00:00+00:00",
          "2021-06-03T00:00:00+00:00",
          "2021-06-02T00:00:00+00:00",
          "2021-06-01T00:00:00+00:00",
          "2021-05-31T00:00:00+00:00",
          "2021-05-30T00:00:00+00:00",
          "2021-05-29T00:00:00+00:00",
          "2021-05-28T00:00:00+00:00",
          "2021-05-27T00:00:00+00:00",
          "2021-05-26T00:00:00+00:00",
          "2021-05-25T00:00:00+00:00",
          "2021-05-24T00:00:00+00:00",
          "2021-05-23T00:00:00+00:00",
          "2021-05-22T00:00:00+00:00",
          "2021-05-21T00:00:00+00:00",
          "2021-05-20T00:00:00+00:00",
          "2021-05-19T00:00:00+00:00",
          "2021-05-18T00:00:00+00:00",
          "2021-05-17T00:00:00+00:00",
          "2021-05-16T00:00:00+00:00",
          "2021-05-15T00:00:00+00:00",
          "2021-05-14T00:00:00+00:00",
          "2021-05-13T00:00:00+00:00",
          "2021-05-12T00:00:00+00:00",
          "2021-05-11T00:00:00+00:00",
          "2021-05-10T00:00:00+00:00",
          "2021-05-09T00:00:00+00:00",
          "2021-05-08T00:00:00+00:00",
          "2021-05-07T00:00:00+00:00",
          "2021-05-06T00:00:00+00:00",
          "2021-05-05T00:00:00+00:00",
          "2021-05-04T00:00:00+00:00",
          "2021-05-03T00:00:00+00:00",
          "2021-05-02T00:00:00+00:00",
          "2021-05-01T00:00:00+00:00",
          "2021-04-30T00:00:00+00:00",
          "2021-04-29T00:00:00+00:00",
          "2021-04-28T00:00:00+00:00",
          "2021-04-27T00:00:00+00:00",
          "2021-04-26T00:00:00+00:00",
          "2021-04-25T00:00:00+00:00",
          "2021-04-24T00:00:00+00:00",
          "2021-04-23T00:00:00+00:00",
          "2021-04-22T00:00:00+00:00",
          "2021-04-21T00:00:00+00:00",
          "2021-04-20T00:00:00+00:00",
          "2021-04-19T00:00:00+00:00",
          "2021-04-18T00:00:00+00:00",
          "2021-04-17T00:00:00+00:00",
          "2021-04-16T00:00:00+00:00",
          "2021-04-15T00:00:00+00:00",
          "2021-04-14T00:00:00+00:00",
          "2021-04-13T00:00:00+00:00",
          "2021-04-12T00:00:00+00:00",
          "2021-04-11T00:00:00+00:00",
          "2021-04-10T00:00:00+00:00",
          "2021-04-09T00:00:00+00:00",
          "2021-04-08T00:00:00+00:00",
          "2021-04-07T00:00:00+00:00",
          "2021-04-06T00:00:00+00:00",
          "2021-04-05T00:00:00+00:00",
          "2021-04-04T00:00:00+00:00",
          "2021-04-03T00:00:00+00:00",
          "2021-04-02T00:00:00+00:00",
          "2021-04-01T00:00:00+00:00",
          "2021-03-31T00:00:00+00:00",
          "2021-03-30T00:00:00+00:00",
          "2021-03-29T00:00:00+00:00",
          "2021-03-26T00:00:00+00:00",
          "2021-03-25T00:00:00+00:00",
          "2021-03-24T00:00:00+00:00",
          "2021-03-23T00:00:00+00:00",
          "2021-03-22T00:00:00+00:00",
          "2021-03-21T00:00:00+00:00",
          "2021-03-20T00:00:00+00:00",
          "2021-03-19T00:00:00+00:00",
          "2021-03-18T00:00:00+00:00",
          "2021-03-17T00:00:00+00:00",
          "2021-03-16T00:00:00+00:00",
          "2021-03-15T00:00:00+00:00",
          "2021-03-14T00:00:00+00:00",
          "2021-03-13T00:00:00+00:00",
          "2021-03-12T00:00:00+00:00",
          "2021-03-11T00:00:00+00:00",
          "2021-03-10T00:00:00+00:00",
          "2021-03-09T00:00:00+00:00"
         ],
         "xaxis": "x",
         "y": [
          0.0051508462104488595,
          0.005454776100469364,
          0.003944522203842728,
          0.002296211251435132,
          0.009968520461699895,
          0.0029034229828850855,
          0.004222150048717116,
          0.009139839545039097,
          0.0070439350525310414,
          0.004559270516717325,
          0.006417970316887284,
          0.01633486472690148,
          0.008698599186624491,
          0.008043149129447388,
          0.01002865329512894,
          0.009985207100591717,
          0.008703651287857345,
          0.005723977104091583,
          0.0063351282863477985,
          0.014959809467103305,
          0.014504315033722532,
          0.0183389544688027,
          0.01349211812487093,
          0.017202141900937083,
          0.015130674002751032,
          0.009656925031766201,
          0.03155121004091256,
          0.025192918747162958,
          0.027379691072324765,
          0.025249139741699067,
          0.02645758240124856,
          0.04791363415817564,
          0.04190022421524664,
          0.038352326505887255,
          0.02521489971346705,
          0.023252706133903515,
          0.006794122294201296,
          0.004770096965905537,
          0.003775484520513466,
          0.0011557724412482341,
          0.0025838914765579845,
          0.0021929383361834827,
          0.004454911753021962,
          0.0037838223745270223,
          0.0034980323567993005,
          0.005082592121982211,
          0.008128544423440454,
          0.007896077432501274,
          0.017725878943167975,
          0.006753990994678674,
          0.007846733924386019,
          0.008465319497542327,
          0.013672616786935056,
          0.008878504672897197,
          0.026414479047774334,
          0.030019016571583807,
          0.04840079252759694,
          0.05882918388926271,
          0.09050301029326083,
          0.05948678071539658,
          0.041254125412541254,
          0.020397208803005905,
          0.015526315789473685,
          0.04585862966175195,
          0.01336584484782805,
          0.01861268348843903,
          0.009838753757857338,
          0.024198086662915026,
          0.010899460120199654,
          0.007898996438977015,
          0.0072789360172537745,
          0.004432199329180642,
          0.008006141697740733,
          0.004245591116917048,
          0.003169572107765452,
          0.00463678516228748,
          0.0035150891632373116,
          0.004370629370629371,
          0.0038469325774448267,
          0.0029270672412391252,
          0.004104831070413641,
          0.0032448377581120944,
          0.004051863857374392,
          0.007216494845360825,
          0.005797532332391854,
          0.006230529595015576,
          0.0036532713384257723,
          0.005392450569203115,
          0.004078303425774877,
          0.0028590099656918802,
          0.006097560975609756,
          0.002625397264059693,
          0.004061334438458351,
          0.003907203907203907,
          0.00210589651022864,
          0.0015332720024532351,
          0.003231996768003232,
          0.0029551356675920123,
          0.004917558576800694,
          0.007643188854489164,
          0.004298231112580592,
          0.003908794788273616,
          0.005683971201212581,
          0.006898313745528871,
          0.008392989385336953,
          0.006469844574998141,
          0.005288358464946759,
          0.005444456077897603,
          0.00815313718539525,
          0.005432242990654206,
          0.007393622371994769,
          0.006916457902189304,
          0.01922264469792987,
          0.016349263384836506,
          0.03025064822817632,
          0.029411764705882353,
          0.045963060686015834,
          0.03618222685159805,
          0.01168639804887963,
          0.006568364611260054,
          0.012297821146905493,
          0.009615384615384616,
          0.009551944854751354,
          0.006084588545655689,
          0.008192864457914695,
          0.011440457618304731
         ],
         "yaxis": "y"
        },
        {
         "hovertemplate": "symbol=AMC<br>day=%{x}<br>fraction_of_mentions=%{y}<extra></extra>",
         "legendgroup": "AMC",
         "line": {
          "color": "#FF97FF",
          "dash": "solid"
         },
         "mode": "lines",
         "name": "AMC",
         "showlegend": true,
         "type": "scattergl",
         "x": [
          "2021-07-14T00:00:00+00:00",
          "2021-07-13T00:00:00+00:00",
          "2021-07-12T00:00:00+00:00",
          "2021-07-11T00:00:00+00:00",
          "2021-07-10T00:00:00+00:00",
          "2021-07-09T00:00:00+00:00",
          "2021-07-08T00:00:00+00:00",
          "2021-07-07T00:00:00+00:00",
          "2021-07-06T00:00:00+00:00",
          "2021-07-05T00:00:00+00:00",
          "2021-07-04T00:00:00+00:00",
          "2021-07-03T00:00:00+00:00",
          "2021-07-02T00:00:00+00:00",
          "2021-07-01T00:00:00+00:00",
          "2021-06-30T00:00:00+00:00",
          "2021-06-29T00:00:00+00:00",
          "2021-06-28T00:00:00+00:00",
          "2021-06-27T00:00:00+00:00",
          "2021-06-26T00:00:00+00:00",
          "2021-06-25T00:00:00+00:00",
          "2021-06-24T00:00:00+00:00",
          "2021-06-23T00:00:00+00:00",
          "2021-06-22T00:00:00+00:00",
          "2021-06-21T00:00:00+00:00",
          "2021-06-20T00:00:00+00:00",
          "2021-06-19T00:00:00+00:00",
          "2021-06-18T00:00:00+00:00",
          "2021-06-17T00:00:00+00:00",
          "2021-06-16T00:00:00+00:00",
          "2021-06-15T00:00:00+00:00",
          "2021-06-14T00:00:00+00:00",
          "2021-06-13T00:00:00+00:00",
          "2021-06-12T00:00:00+00:00",
          "2021-06-11T00:00:00+00:00",
          "2021-06-10T00:00:00+00:00",
          "2021-06-09T00:00:00+00:00",
          "2021-06-08T00:00:00+00:00",
          "2021-06-07T00:00:00+00:00",
          "2021-06-06T00:00:00+00:00",
          "2021-06-05T00:00:00+00:00",
          "2021-06-04T00:00:00+00:00",
          "2021-06-03T00:00:00+00:00",
          "2021-06-02T00:00:00+00:00",
          "2021-06-01T00:00:00+00:00",
          "2021-05-31T00:00:00+00:00",
          "2021-05-30T00:00:00+00:00",
          "2021-05-29T00:00:00+00:00",
          "2021-05-28T00:00:00+00:00",
          "2021-05-27T00:00:00+00:00",
          "2021-05-26T00:00:00+00:00",
          "2021-05-25T00:00:00+00:00",
          "2021-05-24T00:00:00+00:00",
          "2021-05-23T00:00:00+00:00",
          "2021-05-22T00:00:00+00:00",
          "2021-05-21T00:00:00+00:00",
          "2021-05-20T00:00:00+00:00",
          "2021-05-19T00:00:00+00:00",
          "2021-05-18T00:00:00+00:00",
          "2021-05-17T00:00:00+00:00",
          "2021-05-16T00:00:00+00:00",
          "2021-05-15T00:00:00+00:00",
          "2021-05-14T00:00:00+00:00",
          "2021-05-13T00:00:00+00:00",
          "2021-05-12T00:00:00+00:00",
          "2021-05-11T00:00:00+00:00",
          "2021-05-10T00:00:00+00:00",
          "2021-05-09T00:00:00+00:00",
          "2021-05-08T00:00:00+00:00",
          "2021-05-07T00:00:00+00:00",
          "2021-05-06T00:00:00+00:00",
          "2021-05-05T00:00:00+00:00",
          "2021-05-04T00:00:00+00:00",
          "2021-05-03T00:00:00+00:00",
          "2021-05-02T00:00:00+00:00",
          "2021-05-01T00:00:00+00:00",
          "2021-04-30T00:00:00+00:00",
          "2021-04-29T00:00:00+00:00",
          "2021-04-28T00:00:00+00:00",
          "2021-04-27T00:00:00+00:00",
          "2021-04-26T00:00:00+00:00",
          "2021-04-25T00:00:00+00:00",
          "2021-04-24T00:00:00+00:00",
          "2021-04-23T00:00:00+00:00",
          "2021-04-22T00:00:00+00:00",
          "2021-04-21T00:00:00+00:00",
          "2021-04-20T00:00:00+00:00",
          "2021-04-19T00:00:00+00:00",
          "2021-04-18T00:00:00+00:00",
          "2021-04-17T00:00:00+00:00",
          "2021-04-16T00:00:00+00:00",
          "2021-04-15T00:00:00+00:00",
          "2021-04-14T00:00:00+00:00",
          "2021-04-13T00:00:00+00:00",
          "2021-04-12T00:00:00+00:00",
          "2021-04-11T00:00:00+00:00",
          "2021-04-10T00:00:00+00:00",
          "2021-04-09T00:00:00+00:00",
          "2021-04-08T00:00:00+00:00",
          "2021-04-07T00:00:00+00:00",
          "2021-04-06T00:00:00+00:00",
          "2021-04-05T00:00:00+00:00",
          "2021-04-04T00:00:00+00:00",
          "2021-04-03T00:00:00+00:00",
          "2021-04-02T00:00:00+00:00",
          "2021-04-01T00:00:00+00:00",
          "2021-03-31T00:00:00+00:00",
          "2021-03-30T00:00:00+00:00",
          "2021-03-29T00:00:00+00:00",
          "2021-03-26T00:00:00+00:00",
          "2021-03-25T00:00:00+00:00",
          "2021-03-24T00:00:00+00:00",
          "2021-03-23T00:00:00+00:00",
          "2021-03-22T00:00:00+00:00",
          "2021-03-21T00:00:00+00:00",
          "2021-03-20T00:00:00+00:00",
          "2021-03-19T00:00:00+00:00",
          "2021-03-18T00:00:00+00:00",
          "2021-03-17T00:00:00+00:00",
          "2021-03-16T00:00:00+00:00",
          "2021-03-15T00:00:00+00:00",
          "2021-03-14T00:00:00+00:00",
          "2021-03-13T00:00:00+00:00",
          "2021-03-12T00:00:00+00:00",
          "2021-03-11T00:00:00+00:00",
          "2021-03-10T00:00:00+00:00",
          "2021-03-09T00:00:00+00:00"
         ],
         "xaxis": "x",
         "y": [
          0.07358351729212656,
          0.07192693137130535,
          0.05051533273953429,
          0.05434366628396479,
          0.06505771248688352,
          0.04385696821515892,
          0.07892172783371225,
          0.0740327003148167,
          0.06769340974212035,
          0.08541033434650457,
          0.11592458884877657,
          0.08677896886166411,
          0.06924988703117939,
          0.05554504163512491,
          0.04247429630878139,
          0.0503698224852071,
          0.0537078969714124,
          0.07801568793724825,
          0.06335128286347799,
          0.048898481690979455,
          0.04960475741533106,
          0.05845980888139404,
          0.07909410064018724,
          0.07543507362784471,
          0.1265474552957359,
          0.15527318932655654,
          0.10845295055821372,
          0.1230140717203813,
          0.08738080633469024,
          0.09603610850426778,
          0.08483519750287986,
          0.08442503639010189,
          0.11729260089686099,
          0.09533184416764472,
          0.09632716853347226,
          0.07812708806628357,
          0.07961086156693678,
          0.13461839224272756,
          0.202617669267556,
          0.2463079491460126,
          0.22598850848264374,
          0.2511216175435067,
          0.2935985471880143,
          0.2845719997144285,
          0.25163970266724967,
          0.2823379923761118,
          0.31890359168241966,
          0.3658091356766853,
          0.35737388163145295,
          0.23386546595715652,
          0.16376235605829004,
          0.0906608410704533,
          0.057349031522977593,
          0.07383177570093458,
          0.06750366867764553,
          0.07606628633523499,
          0.11081234078686669,
          0.1682207055657022,
          0.13157894736842105,
          0.08398133748055987,
          0.11551155115511551,
          0.21374127750939345,
          0.2170175438596491,
          0.055615784908933215,
          0.050663776754267136,
          0.03847260865393841,
          0.03908171631593332,
          0.05993247045582442,
          0.04064378119588469,
          0.04428617675623179,
          0.03199137311286844,
          0.02000479156684236,
          0.018754112744022812,
          0.03755715218811234,
          0.029160063391442156,
          0.021086332523735925,
          0.021176268861454045,
          0.04825174825174825,
          0.030640480529121956,
          0.03642572566875356,
          0.03441742974423745,
          0.031563421828908554,
          0.027552674230145867,
          0.0321060382916053,
          0.027352460234874386,
          0.017983574058340415,
          0.022362448798848664,
          0.032654284002396644,
          0.025829255029907558,
          0.0303871916353537,
          0.03891206675224647,
          0.018446870250103633,
          0.028843762950683798,
          0.03679283679283679,
          0.05956678700361011,
          0.03035878564857406,
          0.03110796889203111,
          0.026506671442643504,
          0.02844470157169029,
          0.029411764705882353,
          0.061415109935526534,
          0.08078175895765473,
          0.07123910572186434,
          0.09632089933571794,
          0.06541594667983214,
          0.028407823306313675,
          0.032444793825484174,
          0.033190241859491154,
          0.05147110953562566,
          0.06875,
          0.053918116889648926,
          0.06099553425552772,
          0.09533868469229687,
          0.12594322673374056,
          0.13569576490924806,
          0.07198302001212856,
          0.06459102902374671,
          0.05871388630009319,
          0.09857222702098471,
          0.16630920464700624,
          0.07258387916054003,
          0.08409873708381171,
          0.062284588872476614,
          0.05931410092758063,
          0.10462509341526198,
          0.11076443057722309
         ],
         "yaxis": "y"
        },
        {
         "hovertemplate": "symbol=CLOV<br>day=%{x}<br>fraction_of_mentions=%{y}<extra></extra>",
         "legendgroup": "CLOV",
         "line": {
          "color": "#FECB52",
          "dash": "solid"
         },
         "mode": "lines",
         "name": "CLOV",
         "showlegend": true,
         "type": "scattergl",
         "x": [
          "2021-07-14T00:00:00+00:00",
          "2021-07-13T00:00:00+00:00",
          "2021-07-12T00:00:00+00:00",
          "2021-07-11T00:00:00+00:00",
          "2021-07-10T00:00:00+00:00",
          "2021-07-09T00:00:00+00:00",
          "2021-07-08T00:00:00+00:00",
          "2021-07-07T00:00:00+00:00",
          "2021-07-06T00:00:00+00:00",
          "2021-07-05T00:00:00+00:00",
          "2021-07-04T00:00:00+00:00",
          "2021-07-03T00:00:00+00:00",
          "2021-07-02T00:00:00+00:00",
          "2021-07-01T00:00:00+00:00",
          "2021-06-30T00:00:00+00:00",
          "2021-06-29T00:00:00+00:00",
          "2021-06-28T00:00:00+00:00",
          "2021-06-27T00:00:00+00:00",
          "2021-06-26T00:00:00+00:00",
          "2021-06-25T00:00:00+00:00",
          "2021-06-24T00:00:00+00:00",
          "2021-06-23T00:00:00+00:00",
          "2021-06-22T00:00:00+00:00",
          "2021-06-21T00:00:00+00:00",
          "2021-06-20T00:00:00+00:00",
          "2021-06-19T00:00:00+00:00",
          "2021-06-18T00:00:00+00:00",
          "2021-06-17T00:00:00+00:00",
          "2021-06-16T00:00:00+00:00",
          "2021-06-15T00:00:00+00:00",
          "2021-06-14T00:00:00+00:00",
          "2021-06-13T00:00:00+00:00",
          "2021-06-12T00:00:00+00:00",
          "2021-06-11T00:00:00+00:00",
          "2021-06-10T00:00:00+00:00",
          "2021-06-09T00:00:00+00:00",
          "2021-06-08T00:00:00+00:00",
          "2021-06-07T00:00:00+00:00",
          "2021-06-06T00:00:00+00:00",
          "2021-06-05T00:00:00+00:00",
          "2021-06-04T00:00:00+00:00",
          "2021-06-03T00:00:00+00:00",
          "2021-06-02T00:00:00+00:00",
          "2021-06-01T00:00:00+00:00",
          "2021-05-31T00:00:00+00:00",
          "2021-05-30T00:00:00+00:00",
          "2021-05-29T00:00:00+00:00",
          "2021-05-28T00:00:00+00:00",
          "2021-05-27T00:00:00+00:00",
          "2021-05-26T00:00:00+00:00",
          "2021-05-25T00:00:00+00:00",
          "2021-05-24T00:00:00+00:00",
          "2021-05-23T00:00:00+00:00",
          "2021-05-22T00:00:00+00:00",
          "2021-05-21T00:00:00+00:00",
          "2021-05-20T00:00:00+00:00",
          "2021-05-19T00:00:00+00:00",
          "2021-05-18T00:00:00+00:00",
          "2021-05-17T00:00:00+00:00",
          "2021-05-16T00:00:00+00:00",
          "2021-05-15T00:00:00+00:00",
          "2021-05-14T00:00:00+00:00",
          "2021-05-13T00:00:00+00:00",
          "2021-05-12T00:00:00+00:00",
          "2021-05-11T00:00:00+00:00",
          "2021-05-10T00:00:00+00:00",
          "2021-05-09T00:00:00+00:00",
          "2021-05-08T00:00:00+00:00",
          "2021-05-07T00:00:00+00:00",
          "2021-05-06T00:00:00+00:00",
          "2021-05-05T00:00:00+00:00",
          "2021-05-04T00:00:00+00:00",
          "2021-05-03T00:00:00+00:00",
          "2021-05-02T00:00:00+00:00",
          "2021-05-01T00:00:00+00:00",
          "2021-04-30T00:00:00+00:00",
          "2021-04-29T00:00:00+00:00",
          "2021-04-28T00:00:00+00:00",
          "2021-04-27T00:00:00+00:00",
          "2021-04-26T00:00:00+00:00",
          "2021-04-25T00:00:00+00:00",
          "2021-04-24T00:00:00+00:00",
          "2021-04-23T00:00:00+00:00",
          "2021-04-22T00:00:00+00:00",
          "2021-04-21T00:00:00+00:00",
          "2021-04-20T00:00:00+00:00",
          "2021-04-19T00:00:00+00:00",
          "2021-04-18T00:00:00+00:00",
          "2021-04-17T00:00:00+00:00",
          "2021-04-16T00:00:00+00:00",
          "2021-04-15T00:00:00+00:00",
          "2021-04-14T00:00:00+00:00",
          "2021-04-13T00:00:00+00:00",
          "2021-04-12T00:00:00+00:00",
          "2021-04-11T00:00:00+00:00",
          "2021-04-10T00:00:00+00:00",
          "2021-04-09T00:00:00+00:00",
          "2021-04-08T00:00:00+00:00",
          "2021-04-07T00:00:00+00:00",
          "2021-04-06T00:00:00+00:00",
          "2021-04-02T00:00:00+00:00",
          "2021-04-01T00:00:00+00:00",
          "2021-03-31T00:00:00+00:00",
          "2021-03-30T00:00:00+00:00",
          "2021-03-29T00:00:00+00:00",
          "2021-03-26T00:00:00+00:00",
          "2021-03-25T00:00:00+00:00",
          "2021-03-24T00:00:00+00:00",
          "2021-03-23T00:00:00+00:00",
          "2021-03-22T00:00:00+00:00",
          "2021-03-21T00:00:00+00:00",
          "2021-03-19T00:00:00+00:00",
          "2021-03-18T00:00:00+00:00",
          "2021-03-17T00:00:00+00:00",
          "2021-03-16T00:00:00+00:00",
          "2021-03-15T00:00:00+00:00",
          "2021-03-14T00:00:00+00:00",
          "2021-03-13T00:00:00+00:00",
          "2021-03-12T00:00:00+00:00",
          "2021-03-11T00:00:00+00:00",
          "2021-03-10T00:00:00+00:00",
          "2021-03-09T00:00:00+00:00"
         ],
         "xaxis": "x",
         "y": [
          0.06254598969830757,
          0.0748446023087657,
          0.08983331212622471,
          0.04247990815154994,
          0.048268625393494226,
          0.04477383863080685,
          0.04546930821695356,
          0.0733218239057581,
          0.09897325692454632,
          0.06048632218844985,
          0.045326915363016446,
          0.055640632976008166,
          0.060212381382738364,
          0.06330431491294473,
          0.06775661554019889,
          0.09326923076923077,
          0.053778658363996604,
          0.07017171931312274,
          0.06841938549255623,
          0.059020541827924974,
          0.09899195010515628,
          0.10792580101180438,
          0.10332484339505747,
          0.04176706827309237,
          0.0624484181568088,
          0.03532401524777637,
          0.0323833298661674,
          0.03029959146618248,
          0.05085596386549936,
          0.05331367028645484,
          0.05975251755787596,
          0.06817079087821445,
          0.06838565022421525,
          0.09544542460152197,
          0.08335504037509768,
          0.12040625417613257,
          0.16795702322641806,
          0.1010322177040976,
          0.0445507173420589,
          0.016822909978168744,
          0.016931288885866792,
          0.02271401267478121,
          0.021054423698995517,
          0.004212179624473477,
          0.00765194578049847,
          0.010419313850063533,
          0.00831758034026465,
          0.007768721344880285,
          0.010207081950686772,
          0.006753990994678674,
          0.004687659227555284,
          0.009011469142545057,
          0.008735282947208508,
          0.003738317757009346,
          0.01271808250448394,
          0.016843249117087747,
          0.005802434191904897,
          0.015572431029510718,
          0.05136919790250534,
          0.03382581648522551,
          0.023514851485148515,
          0.017176596886741814,
          0.007631578947368421,
          0.016045099739809193,
          0.008850356723561817,
          0.011033291758610765,
          0.025416780541131456,
          0.018851997749015192,
          0.014872160537842518,
          0.013531887342181937,
          0.020129403306973402,
          0.02467656923814087,
          0.04715946479491116,
          0.07119529719137818,
          0.027258320126782885,
          0.04901744314418194,
          0.08762002743484225,
          0.059702797202797205,
          0.008908685968819599,
          0.01219611350516302,
          0.012630249447426587,
          0.01592920353982301,
          0.019043760129659644,
          0.013107511045655376,
          0.03731232347257321,
          0.06655338431039366,
          0.10450570131739179,
          0.07159976033553025,
          0.05655247417074497,
          0.0702499591570005,
          0.0008023106546854943,
          0.0002763576067431256,
          0.0003315375051802735,
          0.0004884004884004884,
          0.00030084235860409147,
          0.0009199632014719411,
          0.002120997879002121,
          0.007969911345929972,
          9.642271719217047e-05,
          0.00048374613003095975,
          0.000510986203372509,
          0.00016456841932033242,
          0.0002974641183907191,
          0.0001429286071607232,
          0.00020940215684221548,
          7.089684509039348e-05,
          0.00023364485981308412,
          0.0003520772558092747,
          0.00010892059688487092,
          7.041261794113505e-05,
          0.0005389867049946101,
          0.0003638568829593693,
          0.000158311345646438,
          0.0003289293350145277,
          0.0004064834103958132,
          0.0003127792672028597,
          0.0009357037829167224,
          0.0002870264064293915,
          9.847365829640571e-05,
          0.00038294613224406433,
          0.0001660715768496222,
          0.0001733402669440111
         ],
         "yaxis": "y"
        }
       ],
       "layout": {
        "legend": {
         "title": {
          "text": "symbol"
         },
         "tracegroupgap": 0
        },
        "template": {
         "data": {
          "bar": [
           {
            "error_x": {
             "color": "#2a3f5f"
            },
            "error_y": {
             "color": "#2a3f5f"
            },
            "marker": {
             "line": {
              "color": "#E5ECF6",
              "width": 0.5
             },
             "pattern": {
              "fillmode": "overlay",
              "size": 10,
              "solidity": 0.2
             }
            },
            "type": "bar"
           }
          ],
          "barpolar": [
           {
            "marker": {
             "line": {
              "color": "#E5ECF6",
              "width": 0.5
             },
             "pattern": {
              "fillmode": "overlay",
              "size": 10,
              "solidity": 0.2
             }
            },
            "type": "barpolar"
           }
          ],
          "carpet": [
           {
            "aaxis": {
             "endlinecolor": "#2a3f5f",
             "gridcolor": "white",
             "linecolor": "white",
             "minorgridcolor": "white",
             "startlinecolor": "#2a3f5f"
            },
            "baxis": {
             "endlinecolor": "#2a3f5f",
             "gridcolor": "white",
             "linecolor": "white",
             "minorgridcolor": "white",
             "startlinecolor": "#2a3f5f"
            },
            "type": "carpet"
           }
          ],
          "choropleth": [
           {
            "colorbar": {
             "outlinewidth": 0,
             "ticks": ""
            },
            "type": "choropleth"
           }
          ],
          "contour": [
           {
            "colorbar": {
             "outlinewidth": 0,
             "ticks": ""
            },
            "colorscale": [
             [
              0,
              "#0d0887"
             ],
             [
              0.1111111111111111,
              "#46039f"
             ],
             [
              0.2222222222222222,
              "#7201a8"
             ],
             [
              0.3333333333333333,
              "#9c179e"
             ],
             [
              0.4444444444444444,
              "#bd3786"
             ],
             [
              0.5555555555555556,
              "#d8576b"
             ],
             [
              0.6666666666666666,
              "#ed7953"
             ],
             [
              0.7777777777777778,
              "#fb9f3a"
             ],
             [
              0.8888888888888888,
              "#fdca26"
             ],
             [
              1,
              "#f0f921"
             ]
            ],
            "type": "contour"
           }
          ],
          "contourcarpet": [
           {
            "colorbar": {
             "outlinewidth": 0,
             "ticks": ""
            },
            "type": "contourcarpet"
           }
          ],
          "heatmap": [
           {
            "colorbar": {
             "outlinewidth": 0,
             "ticks": ""
            },
            "colorscale": [
             [
              0,
              "#0d0887"
             ],
             [
              0.1111111111111111,
              "#46039f"
             ],
             [
              0.2222222222222222,
              "#7201a8"
             ],
             [
              0.3333333333333333,
              "#9c179e"
             ],
             [
              0.4444444444444444,
              "#bd3786"
             ],
             [
              0.5555555555555556,
              "#d8576b"
             ],
             [
              0.6666666666666666,
              "#ed7953"
             ],
             [
              0.7777777777777778,
              "#fb9f3a"
             ],
             [
              0.8888888888888888,
              "#fdca26"
             ],
             [
              1,
              "#f0f921"
             ]
            ],
            "type": "heatmap"
           }
          ],
          "heatmapgl": [
           {
            "colorbar": {
             "outlinewidth": 0,
             "ticks": ""
            },
            "colorscale": [
             [
              0,
              "#0d0887"
             ],
             [
              0.1111111111111111,
              "#46039f"
             ],
             [
              0.2222222222222222,
              "#7201a8"
             ],
             [
              0.3333333333333333,
              "#9c179e"
             ],
             [
              0.4444444444444444,
              "#bd3786"
             ],
             [
              0.5555555555555556,
              "#d8576b"
             ],
             [
              0.6666666666666666,
              "#ed7953"
             ],
             [
              0.7777777777777778,
              "#fb9f3a"
             ],
             [
              0.8888888888888888,
              "#fdca26"
             ],
             [
              1,
              "#f0f921"
             ]
            ],
            "type": "heatmapgl"
           }
          ],
          "histogram": [
           {
            "marker": {
             "pattern": {
              "fillmode": "overlay",
              "size": 10,
              "solidity": 0.2
             }
            },
            "type": "histogram"
           }
          ],
          "histogram2d": [
           {
            "colorbar": {
             "outlinewidth": 0,
             "ticks": ""
            },
            "colorscale": [
             [
              0,
              "#0d0887"
             ],
             [
              0.1111111111111111,
              "#46039f"
             ],
             [
              0.2222222222222222,
              "#7201a8"
             ],
             [
              0.3333333333333333,
              "#9c179e"
             ],
             [
              0.4444444444444444,
              "#bd3786"
             ],
             [
              0.5555555555555556,
              "#d8576b"
             ],
             [
              0.6666666666666666,
              "#ed7953"
             ],
             [
              0.7777777777777778,
              "#fb9f3a"
             ],
             [
              0.8888888888888888,
              "#fdca26"
             ],
             [
              1,
              "#f0f921"
             ]
            ],
            "type": "histogram2d"
           }
          ],
          "histogram2dcontour": [
           {
            "colorbar": {
             "outlinewidth": 0,
             "ticks": ""
            },
            "colorscale": [
             [
              0,
              "#0d0887"
             ],
             [
              0.1111111111111111,
              "#46039f"
             ],
             [
              0.2222222222222222,
              "#7201a8"
             ],
             [
              0.3333333333333333,
              "#9c179e"
             ],
             [
              0.4444444444444444,
              "#bd3786"
             ],
             [
              0.5555555555555556,
              "#d8576b"
             ],
             [
              0.6666666666666666,
              "#ed7953"
             ],
             [
              0.7777777777777778,
              "#fb9f3a"
             ],
             [
              0.8888888888888888,
              "#fdca26"
             ],
             [
              1,
              "#f0f921"
             ]
            ],
            "type": "histogram2dcontour"
           }
          ],
          "mesh3d": [
           {
            "colorbar": {
             "outlinewidth": 0,
             "ticks": ""
            },
            "type": "mesh3d"
           }
          ],
          "parcoords": [
           {
            "line": {
             "colorbar": {
              "outlinewidth": 0,
              "ticks": ""
             }
            },
            "type": "parcoords"
           }
          ],
          "pie": [
           {
            "automargin": true,
            "type": "pie"
           }
          ],
          "scatter": [
           {
            "marker": {
             "colorbar": {
              "outlinewidth": 0,
              "ticks": ""
             }
            },
            "type": "scatter"
           }
          ],
          "scatter3d": [
           {
            "line": {
             "colorbar": {
              "outlinewidth": 0,
              "ticks": ""
             }
            },
            "marker": {
             "colorbar": {
              "outlinewidth": 0,
              "ticks": ""
             }
            },
            "type": "scatter3d"
           }
          ],
          "scattercarpet": [
           {
            "marker": {
             "colorbar": {
              "outlinewidth": 0,
              "ticks": ""
             }
            },
            "type": "scattercarpet"
           }
          ],
          "scattergeo": [
           {
            "marker": {
             "colorbar": {
              "outlinewidth": 0,
              "ticks": ""
             }
            },
            "type": "scattergeo"
           }
          ],
          "scattergl": [
           {
            "marker": {
             "colorbar": {
              "outlinewidth": 0,
              "ticks": ""
             }
            },
            "type": "scattergl"
           }
          ],
          "scattermapbox": [
           {
            "marker": {
             "colorbar": {
              "outlinewidth": 0,
              "ticks": ""
             }
            },
            "type": "scattermapbox"
           }
          ],
          "scatterpolar": [
           {
            "marker": {
             "colorbar": {
              "outlinewidth": 0,
              "ticks": ""
             }
            },
            "type": "scatterpolar"
           }
          ],
          "scatterpolargl": [
           {
            "marker": {
             "colorbar": {
              "outlinewidth": 0,
              "ticks": ""
             }
            },
            "type": "scatterpolargl"
           }
          ],
          "scatterternary": [
           {
            "marker": {
             "colorbar": {
              "outlinewidth": 0,
              "ticks": ""
             }
            },
            "type": "scatterternary"
           }
          ],
          "surface": [
           {
            "colorbar": {
             "outlinewidth": 0,
             "ticks": ""
            },
            "colorscale": [
             [
              0,
              "#0d0887"
             ],
             [
              0.1111111111111111,
              "#46039f"
             ],
             [
              0.2222222222222222,
              "#7201a8"
             ],
             [
              0.3333333333333333,
              "#9c179e"
             ],
             [
              0.4444444444444444,
              "#bd3786"
             ],
             [
              0.5555555555555556,
              "#d8576b"
             ],
             [
              0.6666666666666666,
              "#ed7953"
             ],
             [
              0.7777777777777778,
              "#fb9f3a"
             ],
             [
              0.8888888888888888,
              "#fdca26"
             ],
             [
              1,
              "#f0f921"
             ]
            ],
            "type": "surface"
           }
          ],
          "table": [
           {
            "cells": {
             "fill": {
              "color": "#EBF0F8"
             },
             "line": {
              "color": "white"
             }
            },
            "header": {
             "fill": {
              "color": "#C8D4E3"
             },
             "line": {
              "color": "white"
             }
            },
            "type": "table"
           }
          ]
         },
         "layout": {
          "annotationdefaults": {
           "arrowcolor": "#2a3f5f",
           "arrowhead": 0,
           "arrowwidth": 1
          },
          "autotypenumbers": "strict",
          "coloraxis": {
           "colorbar": {
            "outlinewidth": 0,
            "ticks": ""
           }
          },
          "colorscale": {
           "diverging": [
            [
             0,
             "#8e0152"
            ],
            [
             0.1,
             "#c51b7d"
            ],
            [
             0.2,
             "#de77ae"
            ],
            [
             0.3,
             "#f1b6da"
            ],
            [
             0.4,
             "#fde0ef"
            ],
            [
             0.5,
             "#f7f7f7"
            ],
            [
             0.6,
             "#e6f5d0"
            ],
            [
             0.7,
             "#b8e186"
            ],
            [
             0.8,
             "#7fbc41"
            ],
            [
             0.9,
             "#4d9221"
            ],
            [
             1,
             "#276419"
            ]
           ],
           "sequential": [
            [
             0,
             "#0d0887"
            ],
            [
             0.1111111111111111,
             "#46039f"
            ],
            [
             0.2222222222222222,
             "#7201a8"
            ],
            [
             0.3333333333333333,
             "#9c179e"
            ],
            [
             0.4444444444444444,
             "#bd3786"
            ],
            [
             0.5555555555555556,
             "#d8576b"
            ],
            [
             0.6666666666666666,
             "#ed7953"
            ],
            [
             0.7777777777777778,
             "#fb9f3a"
            ],
            [
             0.8888888888888888,
             "#fdca26"
            ],
            [
             1,
             "#f0f921"
            ]
           ],
           "sequentialminus": [
            [
             0,
             "#0d0887"
            ],
            [
             0.1111111111111111,
             "#46039f"
            ],
            [
             0.2222222222222222,
             "#7201a8"
            ],
            [
             0.3333333333333333,
             "#9c179e"
            ],
            [
             0.4444444444444444,
             "#bd3786"
            ],
            [
             0.5555555555555556,
             "#d8576b"
            ],
            [
             0.6666666666666666,
             "#ed7953"
            ],
            [
             0.7777777777777778,
             "#fb9f3a"
            ],
            [
             0.8888888888888888,
             "#fdca26"
            ],
            [
             1,
             "#f0f921"
            ]
           ]
          },
          "colorway": [
           "#636efa",
           "#EF553B",
           "#00cc96",
           "#ab63fa",
           "#FFA15A",
           "#19d3f3",
           "#FF6692",
           "#B6E880",
           "#FF97FF",
           "#FECB52"
          ],
          "font": {
           "color": "#2a3f5f"
          },
          "geo": {
           "bgcolor": "white",
           "lakecolor": "white",
           "landcolor": "#E5ECF6",
           "showlakes": true,
           "showland": true,
           "subunitcolor": "white"
          },
          "hoverlabel": {
           "align": "left"
          },
          "hovermode": "closest",
          "mapbox": {
           "style": "light"
          },
          "paper_bgcolor": "white",
          "plot_bgcolor": "#E5ECF6",
          "polar": {
           "angularaxis": {
            "gridcolor": "white",
            "linecolor": "white",
            "ticks": ""
           },
           "bgcolor": "#E5ECF6",
           "radialaxis": {
            "gridcolor": "white",
            "linecolor": "white",
            "ticks": ""
           }
          },
          "scene": {
           "xaxis": {
            "backgroundcolor": "#E5ECF6",
            "gridcolor": "white",
            "gridwidth": 2,
            "linecolor": "white",
            "showbackground": true,
            "ticks": "",
            "zerolinecolor": "white"
           },
           "yaxis": {
            "backgroundcolor": "#E5ECF6",
            "gridcolor": "white",
            "gridwidth": 2,
            "linecolor": "white",
            "showbackground": true,
            "ticks": "",
            "zerolinecolor": "white"
           },
           "zaxis": {
            "backgroundcolor": "#E5ECF6",
            "gridcolor": "white",
            "gridwidth": 2,
            "linecolor": "white",
            "showbackground": true,
            "ticks": "",
            "zerolinecolor": "white"
           }
          },
          "shapedefaults": {
           "line": {
            "color": "#2a3f5f"
           }
          },
          "ternary": {
           "aaxis": {
            "gridcolor": "white",
            "linecolor": "white",
            "ticks": ""
           },
           "baxis": {
            "gridcolor": "white",
            "linecolor": "white",
            "ticks": ""
           },
           "bgcolor": "#E5ECF6",
           "caxis": {
            "gridcolor": "white",
            "linecolor": "white",
            "ticks": ""
           }
          },
          "title": {
           "x": 0.05
          },
          "xaxis": {
           "automargin": true,
           "gridcolor": "white",
           "linecolor": "white",
           "ticks": "",
           "title": {
            "standoff": 15
           },
           "zerolinecolor": "white",
           "zerolinewidth": 2
          },
          "yaxis": {
           "automargin": true,
           "gridcolor": "white",
           "linecolor": "white",
           "ticks": "",
           "title": {
            "standoff": 15
           },
           "zerolinecolor": "white",
           "zerolinewidth": 2
          }
         }
        },
        "title": {
         "text": "Fraction of mentions (daily)"
        },
        "xaxis": {
         "anchor": "y",
         "domain": [
          0,
          1
         ],
         "title": {
          "text": "day"
         }
        },
        "yaxis": {
         "anchor": "x",
         "domain": [
          0,
          1
         ],
         "title": {
          "text": "fraction_of_mentions"
         }
        }
       }
      },
      "text/html": [
       "<div>                            <div id=\"6cd539c1-5f65-4610-a52b-1782c8405096\" class=\"plotly-graph-div\" style=\"height:525px; width:100%;\"></div>            <script type=\"text/javascript\">                require([\"plotly\"], function(Plotly) {                    window.PLOTLYENV=window.PLOTLYENV || {};                                    if (document.getElementById(\"6cd539c1-5f65-4610-a52b-1782c8405096\")) {                    Plotly.newPlot(                        \"6cd539c1-5f65-4610-a52b-1782c8405096\",                        [{\"hovertemplate\":\"symbol=WKHS<br>day=%{x}<br>fraction_of_mentions=%{y}<extra></extra>\",\"legendgroup\":\"WKHS\",\"line\":{\"color\":\"#636efa\",\"dash\":\"solid\"},\"mode\":\"lines\",\"name\":\"WKHS\",\"showlegend\":true,\"type\":\"scattergl\",\"x\":[\"2021-07-14T00:00:00+00:00\",\"2021-07-13T00:00:00+00:00\",\"2021-07-12T00:00:00+00:00\",\"2021-07-11T00:00:00+00:00\",\"2021-07-10T00:00:00+00:00\",\"2021-07-09T00:00:00+00:00\",\"2021-07-08T00:00:00+00:00\",\"2021-07-07T00:00:00+00:00\",\"2021-07-06T00:00:00+00:00\",\"2021-07-05T00:00:00+00:00\",\"2021-07-04T00:00:00+00:00\",\"2021-07-03T00:00:00+00:00\",\"2021-07-02T00:00:00+00:00\",\"2021-07-01T00:00:00+00:00\",\"2021-06-30T00:00:00+00:00\",\"2021-06-29T00:00:00+00:00\",\"2021-06-28T00:00:00+00:00\",\"2021-06-27T00:00:00+00:00\",\"2021-06-26T00:00:00+00:00\",\"2021-06-25T00:00:00+00:00\",\"2021-06-24T00:00:00+00:00\",\"2021-06-23T00:00:00+00:00\",\"2021-06-22T00:00:00+00:00\",\"2021-06-21T00:00:00+00:00\",\"2021-06-20T00:00:00+00:00\",\"2021-06-19T00:00:00+00:00\",\"2021-06-18T00:00:00+00:00\",\"2021-06-17T00:00:00+00:00\",\"2021-06-16T00:00:00+00:00\",\"2021-06-15T00:00:00+00:00\",\"2021-06-14T00:00:00+00:00\",\"2021-06-13T00:00:00+00:00\",\"2021-06-12T00:00:00+00:00\",\"2021-06-11T00:00:00+00:00\",\"2021-06-10T00:00:00+00:00\",\"2021-06-09T00:00:00+00:00\",\"2021-06-08T00:00:00+00:00\",\"2021-06-07T00:00:00+00:00\",\"2021-06-06T00:00:00+00:00\",\"2021-06-05T00:00:00+00:00\",\"2021-06-04T00:00:00+00:00\",\"2021-06-03T00:00:00+00:00\",\"2021-06-02T00:00:00+00:00\",\"2021-06-01T00:00:00+00:00\",\"2021-05-31T00:00:00+00:00\",\"2021-05-30T00:00:00+00:00\",\"2021-05-29T00:00:00+00:00\",\"2021-05-28T00:00:00+00:00\",\"2021-05-27T00:00:00+00:00\",\"2021-05-26T00:00:00+00:00\",\"2021-05-25T00:00:00+00:00\",\"2021-05-24T00:00:00+00:00\",\"2021-05-23T00:00:00+00:00\",\"2021-05-22T00:00:00+00:00\",\"2021-05-20T00:00:00+00:00\",\"2021-05-19T00:00:00+00:00\",\"2021-05-18T00:00:00+00:00\",\"2021-05-17T00:00:00+00:00\",\"2021-05-16T00:00:00+00:00\",\"2021-05-14T00:00:00+00:00\",\"2021-05-13T00:00:00+00:00\",\"2021-05-12T00:00:00+00:00\",\"2021-05-11T00:00:00+00:00\",\"2021-05-10T00:00:00+00:00\",\"2021-05-09T00:00:00+00:00\",\"2021-05-08T00:00:00+00:00\",\"2021-05-07T00:00:00+00:00\",\"2021-05-06T00:00:00+00:00\",\"2021-05-05T00:00:00+00:00\",\"2021-05-04T00:00:00+00:00\",\"2021-05-03T00:00:00+00:00\",\"2021-05-02T00:00:00+00:00\",\"2021-05-01T00:00:00+00:00\",\"2021-04-30T00:00:00+00:00\",\"2021-04-29T00:00:00+00:00\",\"2021-04-28T00:00:00+00:00\",\"2021-04-27T00:00:00+00:00\",\"2021-04-26T00:00:00+00:00\",\"2021-04-24T00:00:00+00:00\",\"2021-04-23T00:00:00+00:00\",\"2021-04-22T00:00:00+00:00\",\"2021-04-21T00:00:00+00:00\",\"2021-04-20T00:00:00+00:00\",\"2021-04-19T00:00:00+00:00\",\"2021-04-17T00:00:00+00:00\",\"2021-04-16T00:00:00+00:00\",\"2021-04-15T00:00:00+00:00\",\"2021-04-14T00:00:00+00:00\",\"2021-04-13T00:00:00+00:00\",\"2021-04-12T00:00:00+00:00\",\"2021-04-11T00:00:00+00:00\",\"2021-04-09T00:00:00+00:00\",\"2021-04-08T00:00:00+00:00\",\"2021-04-07T00:00:00+00:00\",\"2021-04-06T00:00:00+00:00\",\"2021-04-05T00:00:00+00:00\",\"2021-04-03T00:00:00+00:00\",\"2021-04-02T00:00:00+00:00\",\"2021-04-01T00:00:00+00:00\",\"2021-03-31T00:00:00+00:00\",\"2021-03-30T00:00:00+00:00\",\"2021-03-29T00:00:00+00:00\",\"2021-03-26T00:00:00+00:00\",\"2021-03-25T00:00:00+00:00\",\"2021-03-24T00:00:00+00:00\",\"2021-03-23T00:00:00+00:00\",\"2021-03-22T00:00:00+00:00\",\"2021-03-21T00:00:00+00:00\",\"2021-03-20T00:00:00+00:00\",\"2021-03-19T00:00:00+00:00\",\"2021-03-18T00:00:00+00:00\",\"2021-03-17T00:00:00+00:00\",\"2021-03-16T00:00:00+00:00\",\"2021-03-15T00:00:00+00:00\",\"2021-03-14T00:00:00+00:00\",\"2021-03-13T00:00:00+00:00\",\"2021-03-12T00:00:00+00:00\",\"2021-03-11T00:00:00+00:00\",\"2021-03-10T00:00:00+00:00\",\"2021-03-09T00:00:00+00:00\"],\"xaxis\":\"x\",\"y\":[0.009933774834437087,0.00748446023087657,0.009797684183738388,0.012246460007654038,0.016789087093389297,0.007793398533007335,0.016888600194868465,0.01178023763582817,0.012416427889207259,0.01398176291793313,0.024468511833132773,0.022970903522205207,0.023384545865341166,0.023372445117335352,0.0450868026293612,0.05806213017751479,0.0653835267478064,0.029467882128471488,0.028191320874247704,0.04130693658827032,0.0567118717818551,0.07209106239460371,0.022027947958972945,0.020481927710843374,0.03658872077028886,0.040406607369758575,0.028361417377435683,0.03029959146618248,0.05297496235989516,0.026768557000491577,0.033220616104938504,0.038452207666181466,0.03545403587443946,0.049899670616741755,0.04021880698098463,0.04488507283175197,0.03085569825971153,0.023224898342195807,0.024414799899320414,0.018363939899833055,0.019991160371264406,0.021406297153203902,0.007547812269451223,0.0008567144998929107,0.0019676432006996065,0.0017789072426937739,0.0015122873345935729,0.0016131771098658516,0.001344142479102785,0.0006822213125938054,0.0008152450830530929,0.001365374112506827,0.0007595898214963919,0.00046728971962616824,0.0006791632708503124,0.001273705066515709,0.001249639527059502,0.0014565935133035541,0.0015552099533437014,0.0008588298443370907,0.0008771929824561404,0.002385082393755421,0.002167434299647792,0.002590425021586875,0.003006285870456409,0.0022509848058525606,0.0020372822654578793,0.0019423761735189381,0.0008087706685837527,0.0009583133684714902,0.0009870585654748849,0.0006531678641410843,0.0012678288431061807,0.0012143961139324355,0.0004286694101508916,0.00026223776223776224,0.00040494027130998176,0.00016261484673550696,0.0002949852507374631,0.0005402485143165856,0.0004418262150220913,0.0007432733759476735,0.0002832058906825262,0.0002214103841470165,0.0002718868950516585,0.0018787779774546642,0.00048138639281129655,0.0004836258118004698,0.0005801906340654787,0.0003256003256003256,0.00030084235860409147,0.000302999697000303,0.0007163965254768515,0.0004821135859608524,0.0015479876160990713,0.0007439246156389485,0.00037893141341417203,0.0012774655084312723,0.0007405578869414959,0.0012642225031605564,0.0015007503751875938,0.0015705161763166161,0.00021269053527118043,0.0005257009345794393,0.0004023740066391711,0.0007624441781940966,0.0007041261794113505,0.0030542579949694574,0.0006914433880726015,0.0008489993935718618,0.0002638522427440633,0.0002741077791787731,0.00035567298409633656,0.0007596067917783736,0.000668359844940516,0.00043053960964408724,0.0009847365829640572,0.0015743340992255977,0.00038750034598245177,0.0006933610677760444],\"yaxis\":\"y\"},{\"hovertemplate\":\"symbol=WISH<br>day=%{x}<br>fraction_of_mentions=%{y}<extra></extra>\",\"legendgroup\":\"WISH\",\"line\":{\"color\":\"#EF553B\",\"dash\":\"solid\"},\"mode\":\"lines\",\"name\":\"WISH\",\"showlegend\":true,\"type\":\"scattergl\",\"x\":[\"2021-07-14T00:00:00+00:00\",\"2021-07-13T00:00:00+00:00\",\"2021-07-12T00:00:00+00:00\",\"2021-07-11T00:00:00+00:00\",\"2021-07-10T00:00:00+00:00\",\"2021-07-09T00:00:00+00:00\",\"2021-07-08T00:00:00+00:00\",\"2021-07-07T00:00:00+00:00\",\"2021-07-06T00:00:00+00:00\",\"2021-07-05T00:00:00+00:00\",\"2021-07-04T00:00:00+00:00\",\"2021-07-03T00:00:00+00:00\",\"2021-07-02T00:00:00+00:00\",\"2021-07-01T00:00:00+00:00\",\"2021-06-30T00:00:00+00:00\",\"2021-06-29T00:00:00+00:00\",\"2021-06-28T00:00:00+00:00\",\"2021-06-27T00:00:00+00:00\",\"2021-06-26T00:00:00+00:00\",\"2021-06-25T00:00:00+00:00\",\"2021-06-24T00:00:00+00:00\",\"2021-06-23T00:00:00+00:00\",\"2021-06-22T00:00:00+00:00\",\"2021-06-21T00:00:00+00:00\",\"2021-06-20T00:00:00+00:00\",\"2021-06-19T00:00:00+00:00\",\"2021-06-18T00:00:00+00:00\",\"2021-06-17T00:00:00+00:00\",\"2021-06-16T00:00:00+00:00\",\"2021-06-15T00:00:00+00:00\",\"2021-06-14T00:00:00+00:00\",\"2021-06-13T00:00:00+00:00\",\"2021-06-12T00:00:00+00:00\",\"2021-06-11T00:00:00+00:00\",\"2021-06-10T00:00:00+00:00\",\"2021-06-09T00:00:00+00:00\",\"2021-06-08T00:00:00+00:00\",\"2021-06-07T00:00:00+00:00\",\"2021-06-06T00:00:00+00:00\",\"2021-06-05T00:00:00+00:00\",\"2021-06-04T00:00:00+00:00\",\"2021-06-03T00:00:00+00:00\",\"2021-06-02T00:00:00+00:00\",\"2021-06-01T00:00:00+00:00\",\"2021-05-31T00:00:00+00:00\",\"2021-05-30T00:00:00+00:00\",\"2021-05-29T00:00:00+00:00\",\"2021-05-28T00:00:00+00:00\",\"2021-05-27T00:00:00+00:00\",\"2021-05-26T00:00:00+00:00\",\"2021-05-25T00:00:00+00:00\",\"2021-05-24T00:00:00+00:00\",\"2021-05-23T00:00:00+00:00\",\"2021-05-21T00:00:00+00:00\",\"2021-05-20T00:00:00+00:00\",\"2021-05-19T00:00:00+00:00\",\"2021-05-18T00:00:00+00:00\",\"2021-05-17T00:00:00+00:00\",\"2021-05-16T00:00:00+00:00\",\"2021-05-14T00:00:00+00:00\",\"2021-05-13T00:00:00+00:00\",\"2021-05-12T00:00:00+00:00\",\"2021-05-11T00:00:00+00:00\",\"2021-05-10T00:00:00+00:00\",\"2021-05-09T00:00:00+00:00\",\"2021-05-08T00:00:00+00:00\",\"2021-05-07T00:00:00+00:00\",\"2021-05-06T00:00:00+00:00\",\"2021-05-05T00:00:00+00:00\",\"2021-05-04T00:00:00+00:00\",\"2021-05-03T00:00:00+00:00\",\"2021-05-02T00:00:00+00:00\",\"2021-05-01T00:00:00+00:00\",\"2021-04-30T00:00:00+00:00\",\"2021-04-29T00:00:00+00:00\",\"2021-04-28T00:00:00+00:00\",\"2021-04-27T00:00:00+00:00\",\"2021-04-26T00:00:00+00:00\",\"2021-04-25T00:00:00+00:00\",\"2021-04-23T00:00:00+00:00\",\"2021-04-22T00:00:00+00:00\",\"2021-04-21T00:00:00+00:00\",\"2021-04-20T00:00:00+00:00\",\"2021-04-19T00:00:00+00:00\",\"2021-04-18T00:00:00+00:00\",\"2021-04-17T00:00:00+00:00\",\"2021-04-16T00:00:00+00:00\",\"2021-04-15T00:00:00+00:00\",\"2021-04-14T00:00:00+00:00\",\"2021-04-13T00:00:00+00:00\",\"2021-04-12T00:00:00+00:00\",\"2021-04-11T00:00:00+00:00\",\"2021-04-10T00:00:00+00:00\",\"2021-04-09T00:00:00+00:00\",\"2021-04-08T00:00:00+00:00\",\"2021-04-07T00:00:00+00:00\",\"2021-04-06T00:00:00+00:00\",\"2021-04-05T00:00:00+00:00\",\"2021-04-04T00:00:00+00:00\",\"2021-04-02T00:00:00+00:00\",\"2021-04-01T00:00:00+00:00\",\"2021-03-31T00:00:00+00:00\",\"2021-03-30T00:00:00+00:00\",\"2021-03-29T00:00:00+00:00\",\"2021-03-26T00:00:00+00:00\",\"2021-03-25T00:00:00+00:00\",\"2021-03-24T00:00:00+00:00\",\"2021-03-23T00:00:00+00:00\",\"2021-03-22T00:00:00+00:00\",\"2021-03-21T00:00:00+00:00\",\"2021-03-20T00:00:00+00:00\",\"2021-03-19T00:00:00+00:00\",\"2021-03-18T00:00:00+00:00\",\"2021-03-17T00:00:00+00:00\",\"2021-03-16T00:00:00+00:00\",\"2021-03-15T00:00:00+00:00\",\"2021-03-14T00:00:00+00:00\",\"2021-03-13T00:00:00+00:00\",\"2021-03-12T00:00:00+00:00\",\"2021-03-11T00:00:00+00:00\",\"2021-03-10T00:00:00+00:00\",\"2021-03-09T00:00:00+00:00\"],\"xaxis\":\"x\",\"y\":[0.024650478292862398,0.025371051630090066,0.026466471561267337,0.02525832376578645,0.01993704092339979,0.03102078239608802,0.03951499404568583,0.03117700822585559,0.04083094555873926,0.035866261398176294,0.02206177296430004,0.037263910158244005,0.05219159511974695,0.06216881150643452,0.05022754087308276,0.05340236686390532,0.06573733371072743,0.057875768496926015,0.0627177700348432,0.061997618338791305,0.09478569874537675,0.0966132658797077,0.14655469126454188,0.20080321285140562,0.06052269601100413,0.061499364675984755,0.06206227030025657,0.0540739900136178,0.05648803881113032,0.07547928676766323,0.08037605440154584,0.05749636098981077,0.061659192825112105,0.059213266194676865,0.07293566032821047,0.11300614726713885,0.10502674762431438,0.0017594619956208947,0.0003775484520513466,0.0007705149608321562,0.0003739842926597083,0.000543204908962881,0.001475512172975427,0.0015706432498036695,0.005028421512898994,0.0038119440914866584,0.002268431001890359,0.002292409577177789,0.0011341202167429747,0.002387774594078319,0.003362885967594008,0.0006826870562534135,0.00037979491074819596,0.0003261046796021523,0.00040749796251018743,0.0007076139258420605,0.0007690089397289243,0.0006797436395416586,0.0007776049766718507,0.0049382716049382715,0.0044736842105263155,0.0010841283607979184,0.0006321683373972727,0.0008634750071956251,0.0019130910084722602,0.0008441193021947102,0.0004074564530915758,0.0002589834898025251,0.0004493170381020848,0.00023957834211787255,0.0003290195218249616,0.0006531678641410843,0.0012678288431061807,0.00022079929344226098,0.0006858710562414266,0.0019230769230769232,0.0026996018087332117,0.00024392227010326044,0.0006315124723713293,0.0001350621285791464,0.0002945508100147275,0.0002973093503790694,0.0008496176720475786,0.00011070519207350825,0.0002995805871779509,0.0002718868950516585,0.000980231988237216,0.00048138639281129655,0.0001381788033715628,8.288437629506838e-05,0.0003256003256003256,0.00030084235860409147,0.00030665440049064706,0.000706999293000707,0.0009850452225306707,0.0005785363031530228,0.0003869969040247678,0.00016531658125309968,0.0003257328990228013,0.0015329586101175269,0.00032913683864066484,7.436602959767977e-05,0.00035732151790180804,0.00041880431368443097,0.00021269053527118043,0.0005257009345794393,0.0004526707574690675,0.0001633808953273064,0.00035206308970567524,0.00035932446999640676,0.0005185825410544512,0.00012128562765312311,0.000474934036939314,0.00016446466750726386,0.00025405213149738324,0.00022341376228775692,0.0004010159069643096,0.0002870264064293915,0.00039389463318562285,0.0008935409752361502,0.0008026792881065072,0.0005200208008320333],\"yaxis\":\"y\"},{\"hovertemplate\":\"symbol=GME<br>day=%{x}<br>fraction_of_mentions=%{y}<extra></extra>\",\"legendgroup\":\"GME\",\"line\":{\"color\":\"#00cc96\",\"dash\":\"solid\"},\"mode\":\"lines\",\"name\":\"GME\",\"showlegend\":true,\"type\":\"scattergl\",\"x\":[\"2021-07-14T00:00:00+00:00\",\"2021-07-13T00:00:00+00:00\",\"2021-07-12T00:00:00+00:00\",\"2021-07-11T00:00:00+00:00\",\"2021-07-10T00:00:00+00:00\",\"2021-07-09T00:00:00+00:00\",\"2021-07-08T00:00:00+00:00\",\"2021-07-07T00:00:00+00:00\",\"2021-07-06T00:00:00+00:00\",\"2021-07-05T00:00:00+00:00\",\"2021-07-04T00:00:00+00:00\",\"2021-07-03T00:00:00+00:00\",\"2021-07-02T00:00:00+00:00\",\"2021-07-01T00:00:00+00:00\",\"2021-06-30T00:00:00+00:00\",\"2021-06-29T00:00:00+00:00\",\"2021-06-28T00:00:00+00:00\",\"2021-06-27T00:00:00+00:00\",\"2021-06-26T00:00:00+00:00\",\"2021-06-25T00:00:00+00:00\",\"2021-06-24T00:00:00+00:00\",\"2021-06-23T00:00:00+00:00\",\"2021-06-22T00:00:00+00:00\",\"2021-06-21T00:00:00+00:00\",\"2021-06-20T00:00:00+00:00\",\"2021-06-19T00:00:00+00:00\",\"2021-06-18T00:00:00+00:00\",\"2021-06-17T00:00:00+00:00\",\"2021-06-16T00:00:00+00:00\",\"2021-06-15T00:00:00+00:00\",\"2021-06-14T00:00:00+00:00\",\"2021-06-13T00:00:00+00:00\",\"2021-06-12T00:00:00+00:00\",\"2021-06-11T00:00:00+00:00\",\"2021-06-10T00:00:00+00:00\",\"2021-06-09T00:00:00+00:00\",\"2021-06-08T00:00:00+00:00\",\"2021-06-07T00:00:00+00:00\",\"2021-06-06T00:00:00+00:00\",\"2021-06-05T00:00:00+00:00\",\"2021-06-04T00:00:00+00:00\",\"2021-06-03T00:00:00+00:00\",\"2021-06-02T00:00:00+00:00\",\"2021-06-01T00:00:00+00:00\",\"2021-05-31T00:00:00+00:00\",\"2021-05-30T00:00:00+00:00\",\"2021-05-29T00:00:00+00:00\",\"2021-05-28T00:00:00+00:00\",\"2021-05-27T00:00:00+00:00\",\"2021-05-26T00:00:00+00:00\",\"2021-05-25T00:00:00+00:00\",\"2021-05-24T00:00:00+00:00\",\"2021-05-23T00:00:00+00:00\",\"2021-05-22T00:00:00+00:00\",\"2021-05-21T00:00:00+00:00\",\"2021-05-20T00:00:00+00:00\",\"2021-05-19T00:00:00+00:00\",\"2021-05-18T00:00:00+00:00\",\"2021-05-17T00:00:00+00:00\",\"2021-05-16T00:00:00+00:00\",\"2021-05-15T00:00:00+00:00\",\"2021-05-14T00:00:00+00:00\",\"2021-05-13T00:00:00+00:00\",\"2021-05-12T00:00:00+00:00\",\"2021-05-11T00:00:00+00:00\",\"2021-05-10T00:00:00+00:00\",\"2021-05-09T00:00:00+00:00\",\"2021-05-08T00:00:00+00:00\",\"2021-05-07T00:00:00+00:00\",\"2021-05-06T00:00:00+00:00\",\"2021-05-05T00:00:00+00:00\",\"2021-05-04T00:00:00+00:00\",\"2021-05-03T00:00:00+00:00\",\"2021-05-02T00:00:00+00:00\",\"2021-05-01T00:00:00+00:00\",\"2021-04-30T00:00:00+00:00\",\"2021-04-29T00:00:00+00:00\",\"2021-04-28T00:00:00+00:00\",\"2021-04-27T00:00:00+00:00\",\"2021-04-26T00:00:00+00:00\",\"2021-04-25T00:00:00+00:00\",\"2021-04-24T00:00:00+00:00\",\"2021-04-23T00:00:00+00:00\",\"2021-04-22T00:00:00+00:00\",\"2021-04-21T00:00:00+00:00\",\"2021-04-20T00:00:00+00:00\",\"2021-04-19T00:00:00+00:00\",\"2021-04-18T00:00:00+00:00\",\"2021-04-17T00:00:00+00:00\",\"2021-04-16T00:00:00+00:00\",\"2021-04-15T00:00:00+00:00\",\"2021-04-14T00:00:00+00:00\",\"2021-04-13T00:00:00+00:00\",\"2021-04-12T00:00:00+00:00\",\"2021-04-11T00:00:00+00:00\",\"2021-04-10T00:00:00+00:00\",\"2021-04-09T00:00:00+00:00\",\"2021-04-08T00:00:00+00:00\",\"2021-04-07T00:00:00+00:00\",\"2021-04-06T00:00:00+00:00\",\"2021-04-05T00:00:00+00:00\",\"2021-04-04T00:00:00+00:00\",\"2021-04-03T00:00:00+00:00\",\"2021-04-02T00:00:00+00:00\",\"2021-04-01T00:00:00+00:00\",\"2021-03-31T00:00:00+00:00\",\"2021-03-30T00:00:00+00:00\",\"2021-03-29T00:00:00+00:00\",\"2021-03-26T00:00:00+00:00\",\"2021-03-25T00:00:00+00:00\",\"2021-03-24T00:00:00+00:00\",\"2021-03-23T00:00:00+00:00\",\"2021-03-22T00:00:00+00:00\",\"2021-03-21T00:00:00+00:00\",\"2021-03-20T00:00:00+00:00\",\"2021-03-19T00:00:00+00:00\",\"2021-03-18T00:00:00+00:00\",\"2021-03-17T00:00:00+00:00\",\"2021-03-16T00:00:00+00:00\",\"2021-03-15T00:00:00+00:00\",\"2021-03-14T00:00:00+00:00\",\"2021-03-13T00:00:00+00:00\",\"2021-03-12T00:00:00+00:00\",\"2021-03-11T00:00:00+00:00\",\"2021-03-10T00:00:00+00:00\",\"2021-03-09T00:00:00+00:00\"],\"xaxis\":\"x\",\"y\":[0.05224429727740986,0.04554103767601167,0.05382364168469271,0.03903559127439724,0.07135362014690451,0.04156479217603912,0.053805348056728375,0.0817507870417386,0.09109360076408787,0.11641337386018237,0.16686722823906938,0.1031138335885656,0.048124717577948485,0.05545041635124905,0.04483397943704703,0.04393491124260355,0.046914803283328615,0.13016747933008269,0.06303452644916059,0.045549270616254835,0.0401044310682428,0.05382237211916807,0.07764851655537963,0.05502008032128514,0.09958734525447042,0.11003811944091486,0.05110602593440122,0.03983204720835225,0.053253777951263036,0.0437055905617375,0.0331462970532496,0.05312954876273653,0.0795964125560538,0.0582289024344073,0.08390205782755926,0.08378992382734197,0.09681059973365234,0.08898967782295902,0.12836647369745785,0.13073070502118916,0.07506884710842145,0.07339301881098481,0.09698655013903865,0.09638038123795245,0.09335373852208133,0.13290978398983483,0.15330812854442344,0.11610629988113431,0.15516444743142774,0.2636785373175058,0.267808009782941,0.10363189513926815,0.12571211545765287,0.18317757009345795,0.10908201532691994,0.07389296386851399,0.12170959524483442,0.1576468326444295,0.14585356379879588,0.09447900466562986,0.1646039603960396,0.11937734836285561,0.13035087719298247,0.1063529921942758,0.09491556037207623,0.09565384246378202,0.11341896693085543,0.1409679234665166,0.09422430477742691,0.1364842991259307,0.10882458662832495,0.07918064206995687,0.0708488703663084,0.14696276943174397,0.11980982567353407,0.09317730183263413,0.08101851851851852,0.0902972027972028,0.12134710130255787,0.17017643710870803,0.11809283233343859,0.13952802359882005,0.12749864937871422,0.1251840942562592,0.12814033001337893,0.12645143018974794,0.3062105612753238,0.2546434991012582,0.3689505165851006,0.33156347002123837,0.20667522464698332,0.24975818709409978,0.23605470368835474,0.27627187627187627,0.2581227436823105,0.3011346212818154,0.30481769518230484,0.2519924778364825,0.2171439591167679,0.21555727554179566,0.26376260538932056,0.19250814332247557,0.2493368700265252,0.23019928461931527,0.2471817658191393,0.22741131850970478,0.29464732366183094,0.27955187938435766,0.3741935483870968,0.41950934579439253,0.42007846293129464,0.37583051955124713,0.3167159554992255,0.3036291771469637,0.33638720829732066,0.37374166161309885,0.3167282321899736,0.3331505948138808,0.4013007469132666,0.3742627345844504,0.4185269349017511,0.35074626865671643,0.3846873461349089,0.3913283975831844,0.43256110050098256,0.3780551222048882],\"yaxis\":\"y\"},{\"hovertemplate\":\"symbol=TLRY<br>day=%{x}<br>fraction_of_mentions=%{y}<extra></extra>\",\"legendgroup\":\"TLRY\",\"line\":{\"color\":\"#ab63fa\",\"dash\":\"solid\"},\"mode\":\"lines\",\"name\":\"TLRY\",\"showlegend\":true,\"type\":\"scattergl\",\"x\":[\"2021-07-14T00:00:00+00:00\",\"2021-07-13T00:00:00+00:00\",\"2021-07-12T00:00:00+00:00\",\"2021-07-11T00:00:00+00:00\",\"2021-07-10T00:00:00+00:00\",\"2021-07-09T00:00:00+00:00\",\"2021-07-08T00:00:00+00:00\",\"2021-07-07T00:00:00+00:00\",\"2021-07-06T00:00:00+00:00\",\"2021-07-05T00:00:00+00:00\",\"2021-07-04T00:00:00+00:00\",\"2021-07-03T00:00:00+00:00\",\"2021-07-02T00:00:00+00:00\",\"2021-07-01T00:00:00+00:00\",\"2021-06-30T00:00:00+00:00\",\"2021-06-29T00:00:00+00:00\",\"2021-06-28T00:00:00+00:00\",\"2021-06-27T00:00:00+00:00\",\"2021-06-26T00:00:00+00:00\",\"2021-06-25T00:00:00+00:00\",\"2021-06-24T00:00:00+00:00\",\"2021-06-23T00:00:00+00:00\",\"2021-06-22T00:00:00+00:00\",\"2021-06-21T00:00:00+00:00\",\"2021-06-20T00:00:00+00:00\",\"2021-06-19T00:00:00+00:00\",\"2021-06-18T00:00:00+00:00\",\"2021-06-17T00:00:00+00:00\",\"2021-06-16T00:00:00+00:00\",\"2021-06-15T00:00:00+00:00\",\"2021-06-14T00:00:00+00:00\",\"2021-06-13T00:00:00+00:00\",\"2021-06-12T00:00:00+00:00\",\"2021-06-11T00:00:00+00:00\",\"2021-06-10T00:00:00+00:00\",\"2021-06-09T00:00:00+00:00\",\"2021-06-08T00:00:00+00:00\",\"2021-06-07T00:00:00+00:00\",\"2021-06-06T00:00:00+00:00\",\"2021-06-05T00:00:00+00:00\",\"2021-06-04T00:00:00+00:00\",\"2021-06-03T00:00:00+00:00\",\"2021-06-02T00:00:00+00:00\",\"2021-06-01T00:00:00+00:00\",\"2021-05-31T00:00:00+00:00\",\"2021-05-30T00:00:00+00:00\",\"2021-05-29T00:00:00+00:00\",\"2021-05-28T00:00:00+00:00\",\"2021-05-27T00:00:00+00:00\",\"2021-05-26T00:00:00+00:00\",\"2021-05-25T00:00:00+00:00\",\"2021-05-24T00:00:00+00:00\",\"2021-05-23T00:00:00+00:00\",\"2021-05-22T00:00:00+00:00\",\"2021-05-21T00:00:00+00:00\",\"2021-05-20T00:00:00+00:00\",\"2021-05-19T00:00:00+00:00\",\"2021-05-18T00:00:00+00:00\",\"2021-05-17T00:00:00+00:00\",\"2021-05-16T00:00:00+00:00\",\"2021-05-15T00:00:00+00:00\",\"2021-05-14T00:00:00+00:00\",\"2021-05-13T00:00:00+00:00\",\"2021-05-12T00:00:00+00:00\",\"2021-05-11T00:00:00+00:00\",\"2021-05-10T00:00:00+00:00\",\"2021-05-09T00:00:00+00:00\",\"2021-05-08T00:00:00+00:00\",\"2021-05-07T00:00:00+00:00\",\"2021-05-06T00:00:00+00:00\",\"2021-05-05T00:00:00+00:00\",\"2021-05-04T00:00:00+00:00\",\"2021-05-03T00:00:00+00:00\",\"2021-05-02T00:00:00+00:00\",\"2021-05-01T00:00:00+00:00\",\"2021-04-30T00:00:00+00:00\",\"2021-04-29T00:00:00+00:00\",\"2021-04-28T00:00:00+00:00\",\"2021-04-27T00:00:00+00:00\",\"2021-04-26T00:00:00+00:00\",\"2021-04-25T00:00:00+00:00\",\"2021-04-24T00:00:00+00:00\",\"2021-04-23T00:00:00+00:00\",\"2021-04-22T00:00:00+00:00\",\"2021-04-21T00:00:00+00:00\",\"2021-04-20T00:00:00+00:00\",\"2021-04-19T00:00:00+00:00\",\"2021-04-18T00:00:00+00:00\",\"2021-04-17T00:00:00+00:00\",\"2021-04-16T00:00:00+00:00\",\"2021-04-15T00:00:00+00:00\",\"2021-04-14T00:00:00+00:00\",\"2021-04-13T00:00:00+00:00\",\"2021-04-12T00:00:00+00:00\",\"2021-04-11T00:00:00+00:00\",\"2021-04-10T00:00:00+00:00\",\"2021-04-09T00:00:00+00:00\",\"2021-04-08T00:00:00+00:00\",\"2021-04-07T00:00:00+00:00\",\"2021-04-06T00:00:00+00:00\",\"2021-04-05T00:00:00+00:00\",\"2021-04-04T00:00:00+00:00\",\"2021-04-03T00:00:00+00:00\",\"2021-04-02T00:00:00+00:00\",\"2021-04-01T00:00:00+00:00\",\"2021-03-31T00:00:00+00:00\",\"2021-03-30T00:00:00+00:00\",\"2021-03-29T00:00:00+00:00\",\"2021-03-26T00:00:00+00:00\",\"2021-03-25T00:00:00+00:00\",\"2021-03-24T00:00:00+00:00\",\"2021-03-23T00:00:00+00:00\",\"2021-03-22T00:00:00+00:00\",\"2021-03-21T00:00:00+00:00\",\"2021-03-20T00:00:00+00:00\",\"2021-03-19T00:00:00+00:00\",\"2021-03-18T00:00:00+00:00\",\"2021-03-17T00:00:00+00:00\",\"2021-03-16T00:00:00+00:00\",\"2021-03-15T00:00:00+00:00\",\"2021-03-14T00:00:00+00:00\",\"2021-03-13T00:00:00+00:00\",\"2021-03-12T00:00:00+00:00\",\"2021-03-11T00:00:00+00:00\",\"2021-03-10T00:00:00+00:00\",\"2021-03-09T00:00:00+00:00\"],\"xaxis\":\"x\",\"y\":[0.03826342899190582,0.030825827730559432,0.00521694872121135,0.004592422502870264,0.0031479538300104933,0.004125916870415648,0.006062574428927141,0.007007210317863308,0.0059694364851957974,0.002735562310030395,0.005214600882470918,0.002552322613578356,0.005761409850881157,0.007096896290688872,0.012304062025956514,0.013091715976331362,0.010331163317294084,0.013567945728217087,0.006968641114982578,0.010791902351890443,0.019000652694176518,0.013350196739741428,0.011358160666345426,0.021285140562248995,0.009903713892709767,0.007623888182973317,0.01171902087233895,0.01112119836586473,0.013940779568393465,0.01211064932743442,0.014789491286091189,0.019893255701115962,0.010369955156950673,0.014576155680914702,0.017374316228184424,0.02986770012027262,0.017335169175902308,0.024085079762277136,0.020135917442738484,0.009888275330679337,0.022745044708122258,0.029715320390302787,0.022756937744736395,0.013636039123295494,0.023830345430695232,0.020076238881829734,0.014933837429111531,0.03217863813890304,0.016633763178896963,0.012348205757947879,0.009986752267400388,0.0038230475150191155,0.002658564375237372,0.004672897196261682,0.005217674873634437,0.005025808204292312,0.003821115199547127,0.0053830625781024705,0.007185861332297533,0.003110419906687403,0.0028877887788778876,0.0055823939881910895,0.007017543859649123,0.006287944492627927,0.005599205274090129,0.012856183440468195,0.015031429352282044,0.011254924029262802,0.041764286441886525,0.010618323081903528,0.008806613946800863,0.009583133684714902,0.01809607370037289,0.0032658393207054214,0.003803486529318542,0.010377566791786266,0.004972565157750343,0.009265734265734266,0.003914422622663157,0.0029270672412391252,0.003789074834227976,0.0017699115044247787,0.003646677471636953,0.0004418262150220913,0.006243496357960458,0.015151515151515152,0.008745710173807151,0.005991611743559017,0.002990755845568244,0.004819473942166312,0.008424261874197689,0.006079867348348763,0.012681309573145462,0.013024013024013023,0.006618531889290012,0.006439742410303588,0.010503989496010504,0.010566848750783559,0.011088612477099604,0.006772445820433437,0.006116713506364688,0.004885993485342019,0.005683971201212581,0.0030659172202350538,0.004361063111988809,0.011749832676433406,0.0022153934109912098,0.0015705161763166161,0.0027649769585253456,0.004672897196261682,0.003721959561412333,0.004411284173837272,0.004647232784114913,0.0035932446999640674,0.002765773552290406,0.004790782292298363,0.0035356200527704483,0.0031248286826380135,0.005843199024439815,0.007506702412868633,0.00628258254244085,0.004305396096440872,0.008911866075824717,0.00970130201684963,0.0015223227877882034,0.0012133818686080777],\"yaxis\":\"y\"},{\"hovertemplate\":\"symbol=CLF<br>day=%{x}<br>fraction_of_mentions=%{y}<extra></extra>\",\"legendgroup\":\"CLF\",\"line\":{\"color\":\"#FFA15A\",\"dash\":\"solid\"},\"mode\":\"lines\",\"name\":\"CLF\",\"showlegend\":true,\"type\":\"scattergl\",\"x\":[\"2021-07-14T00:00:00+00:00\",\"2021-07-13T00:00:00+00:00\",\"2021-07-12T00:00:00+00:00\",\"2021-07-11T00:00:00+00:00\",\"2021-07-10T00:00:00+00:00\",\"2021-07-09T00:00:00+00:00\",\"2021-07-08T00:00:00+00:00\",\"2021-07-07T00:00:00+00:00\",\"2021-07-06T00:00:00+00:00\",\"2021-07-05T00:00:00+00:00\",\"2021-07-04T00:00:00+00:00\",\"2021-07-03T00:00:00+00:00\",\"2021-07-02T00:00:00+00:00\",\"2021-07-01T00:00:00+00:00\",\"2021-06-30T00:00:00+00:00\",\"2021-06-29T00:00:00+00:00\",\"2021-06-28T00:00:00+00:00\",\"2021-06-27T00:00:00+00:00\",\"2021-06-26T00:00:00+00:00\",\"2021-06-25T00:00:00+00:00\",\"2021-06-24T00:00:00+00:00\",\"2021-06-23T00:00:00+00:00\",\"2021-06-22T00:00:00+00:00\",\"2021-06-21T00:00:00+00:00\",\"2021-06-20T00:00:00+00:00\",\"2021-06-19T00:00:00+00:00\",\"2021-06-18T00:00:00+00:00\",\"2021-06-17T00:00:00+00:00\",\"2021-06-16T00:00:00+00:00\",\"2021-06-15T00:00:00+00:00\",\"2021-06-14T00:00:00+00:00\",\"2021-06-13T00:00:00+00:00\",\"2021-06-12T00:00:00+00:00\",\"2021-06-11T00:00:00+00:00\",\"2021-06-10T00:00:00+00:00\",\"2021-06-09T00:00:00+00:00\",\"2021-06-08T00:00:00+00:00\",\"2021-06-07T00:00:00+00:00\",\"2021-06-06T00:00:00+00:00\",\"2021-06-05T00:00:00+00:00\",\"2021-06-03T00:00:00+00:00\",\"2021-06-02T00:00:00+00:00\",\"2021-06-01T00:00:00+00:00\",\"2021-05-31T00:00:00+00:00\",\"2021-05-30T00:00:00+00:00\",\"2021-05-28T00:00:00+00:00\",\"2021-05-27T00:00:00+00:00\",\"2021-05-26T00:00:00+00:00\",\"2021-05-25T00:00:00+00:00\",\"2021-05-24T00:00:00+00:00\",\"2021-05-23T00:00:00+00:00\",\"2021-05-22T00:00:00+00:00\",\"2021-05-21T00:00:00+00:00\",\"2021-05-20T00:00:00+00:00\",\"2021-05-19T00:00:00+00:00\",\"2021-05-18T00:00:00+00:00\",\"2021-05-17T00:00:00+00:00\",\"2021-05-16T00:00:00+00:00\",\"2021-05-15T00:00:00+00:00\",\"2021-05-14T00:00:00+00:00\",\"2021-05-13T00:00:00+00:00\",\"2021-05-12T00:00:00+00:00\",\"2021-05-11T00:00:00+00:00\",\"2021-05-10T00:00:00+00:00\",\"2021-05-09T00:00:00+00:00\",\"2021-05-08T00:00:00+00:00\",\"2021-05-07T00:00:00+00:00\",\"2021-05-06T00:00:00+00:00\",\"2021-05-05T00:00:00+00:00\",\"2021-05-04T00:00:00+00:00\",\"2021-05-03T00:00:00+00:00\",\"2021-05-02T00:00:00+00:00\",\"2021-05-01T00:00:00+00:00\",\"2021-04-30T00:00:00+00:00\",\"2021-04-29T00:00:00+00:00\",\"2021-04-28T00:00:00+00:00\",\"2021-04-27T00:00:00+00:00\",\"2021-04-26T00:00:00+00:00\",\"2021-04-25T00:00:00+00:00\",\"2021-04-24T00:00:00+00:00\",\"2021-04-23T00:00:00+00:00\",\"2021-04-22T00:00:00+00:00\",\"2021-04-21T00:00:00+00:00\",\"2021-04-20T00:00:00+00:00\",\"2021-04-19T00:00:00+00:00\",\"2021-04-18T00:00:00+00:00\",\"2021-04-17T00:00:00+00:00\",\"2021-04-16T00:00:00+00:00\",\"2021-04-15T00:00:00+00:00\",\"2021-04-14T00:00:00+00:00\",\"2021-04-13T00:00:00+00:00\",\"2021-04-12T00:00:00+00:00\",\"2021-04-11T00:00:00+00:00\",\"2021-04-10T00:00:00+00:00\",\"2021-04-09T00:00:00+00:00\",\"2021-04-08T00:00:00+00:00\",\"2021-04-07T00:00:00+00:00\",\"2021-04-06T00:00:00+00:00\",\"2021-04-05T00:00:00+00:00\",\"2021-04-04T00:00:00+00:00\",\"2021-04-03T00:00:00+00:00\",\"2021-04-02T00:00:00+00:00\",\"2021-04-01T00:00:00+00:00\",\"2021-03-31T00:00:00+00:00\",\"2021-03-30T00:00:00+00:00\",\"2021-03-29T00:00:00+00:00\",\"2021-03-26T00:00:00+00:00\",\"2021-03-25T00:00:00+00:00\",\"2021-03-24T00:00:00+00:00\",\"2021-03-23T00:00:00+00:00\",\"2021-03-22T00:00:00+00:00\",\"2021-03-21T00:00:00+00:00\",\"2021-03-20T00:00:00+00:00\",\"2021-03-19T00:00:00+00:00\",\"2021-03-18T00:00:00+00:00\",\"2021-03-17T00:00:00+00:00\",\"2021-03-16T00:00:00+00:00\",\"2021-03-15T00:00:00+00:00\",\"2021-03-14T00:00:00+00:00\",\"2021-03-13T00:00:00+00:00\",\"2021-03-12T00:00:00+00:00\",\"2021-03-11T00:00:00+00:00\",\"2021-03-10T00:00:00+00:00\",\"2021-03-09T00:00:00+00:00\"],\"xaxis\":\"x\",\"y\":[0.010301692420897719,0.009006723328681973,0.01386944903931798,0.006505931879066207,0.012591815320041973,0.025366748166259168,0.00974342318934719,0.016553264953793032,0.0164756446991404,0.011550151975683891,0.012835940633774568,0.025523226135783564,0.026999548124717578,0.02043906131718395,0.01095567166694758,0.017159763313609466,0.015213699405604303,0.016747933008267966,0.011086474501108648,0.016597201548079785,0.0280658495902531,0.009204609331084879,0.009499552557307084,0.018340026773761713,0.029436038514442917,0.011944091486658195,0.020040219124887317,0.021731729459827508,0.018903697094741538,0.028466729230906734,0.022147077403292335,0.031174187287724406,0.03054932735426009,0.04830954454246015,0.06420942953894243,0.051767339302418815,0.0007448705505270523,0.0005082890209571474,0.00012584948401711554,0.0005136766405547708,0.00016094960265566845,0.00022700187276545033,0.00021417862497322766,0.0008745080891998251,0.0007623888182973316,0.00046697232127695704,0.0006300667870794304,0.0001364442625187611,0.0010190563538163661,0.0012288367012561442,0.001139384732244588,0.0014018691588785046,0.0030979944562204466,0.003395816354251562,0.003538069629210303,0.0007690089397289243,0.0022334433870654495,0.0019440124416796269,0.0033003300330033004,0.0021470746108427268,0.0021929824561403508,0.0032523850823937554,0.004425178361780908,0.006619975055166458,0.001639792292976223,0.0025323579065841305,0.0034633798512783945,0.0029783101327290383,0.0036843997124370955,0.007666506947771922,0.000877385391533231,0.0016329196603527107,0.0009508716323296355,0.0008831971737690439,0.00051440329218107,0.0006993006993006993,0.0008773705878382938,0.0026831449711358646,0.007262393432270287,0.002064896755162242,0.002025931928687196,0.001914580265095729,0.0019325107774639512,0.0002832058906825262,0.0005535259603675413,0.0026962252846015576,0.0008156606851549756,0.000571801993138376,0.0007220795892169448,0.0005527152134862512,0.000663075010360547,0.0002442002442002442,0.0009025270758122744,0.0009199632014719411,0.001312998687001313,0.0017909913136921285,0.0028926815157651145,0.001741486068111455,0.0024797487187964953,0.004234527687296417,0.0011367942402425162,0.002043944813490036,0.003373652596066815,0.008700825462928535,0.0035732151790180806,0.0015705161763166161,0.0003544842254519674,0.0007593457943925234,0.00030178050497937833,0.00027230149221217734,0.0002816504717645402,0.00035932446999640676,0.00017286084701815038,6.0642813826561554e-05,0.0008443271767810027,0.00043857244668603693,0.0008129668207916264,0.0006702412868632708,0.000668359844940516,0.00043053960964408724,0.001329394387001477,0.0011913879669815334,0.00022142876913282958,0.0013867221355520888],\"yaxis\":\"y\"},{\"hovertemplate\":\"symbol=CLNE<br>day=%{x}<br>fraction_of_mentions=%{y}<extra></extra>\",\"legendgroup\":\"CLNE\",\"line\":{\"color\":\"#19d3f3\",\"dash\":\"solid\"},\"mode\":\"lines\",\"name\":\"CLNE\",\"showlegend\":true,\"type\":\"scattergl\",\"x\":[\"2021-07-14T00:00:00+00:00\",\"2021-07-13T00:00:00+00:00\",\"2021-07-12T00:00:00+00:00\",\"2021-07-11T00:00:00+00:00\",\"2021-07-10T00:00:00+00:00\",\"2021-07-09T00:00:00+00:00\",\"2021-07-08T00:00:00+00:00\",\"2021-07-07T00:00:00+00:00\",\"2021-07-06T00:00:00+00:00\",\"2021-07-05T00:00:00+00:00\",\"2021-07-04T00:00:00+00:00\",\"2021-07-03T00:00:00+00:00\",\"2021-07-02T00:00:00+00:00\",\"2021-07-01T00:00:00+00:00\",\"2021-06-30T00:00:00+00:00\",\"2021-06-29T00:00:00+00:00\",\"2021-06-28T00:00:00+00:00\",\"2021-06-27T00:00:00+00:00\",\"2021-06-26T00:00:00+00:00\",\"2021-06-25T00:00:00+00:00\",\"2021-06-24T00:00:00+00:00\",\"2021-06-23T00:00:00+00:00\",\"2021-06-22T00:00:00+00:00\",\"2021-06-21T00:00:00+00:00\",\"2021-06-20T00:00:00+00:00\",\"2021-06-19T00:00:00+00:00\",\"2021-06-18T00:00:00+00:00\",\"2021-06-17T00:00:00+00:00\",\"2021-06-16T00:00:00+00:00\",\"2021-06-15T00:00:00+00:00\",\"2021-06-14T00:00:00+00:00\",\"2021-06-13T00:00:00+00:00\",\"2021-06-12T00:00:00+00:00\",\"2021-06-11T00:00:00+00:00\",\"2021-06-10T00:00:00+00:00\",\"2021-06-09T00:00:00+00:00\",\"2021-06-08T00:00:00+00:00\",\"2021-06-07T00:00:00+00:00\",\"2021-06-06T00:00:00+00:00\",\"2021-06-05T00:00:00+00:00\",\"2021-06-04T00:00:00+00:00\",\"2021-06-03T00:00:00+00:00\",\"2021-06-02T00:00:00+00:00\",\"2021-06-01T00:00:00+00:00\",\"2021-05-31T00:00:00+00:00\",\"2021-05-30T00:00:00+00:00\",\"2021-05-28T00:00:00+00:00\",\"2021-05-27T00:00:00+00:00\",\"2021-05-26T00:00:00+00:00\",\"2021-05-25T00:00:00+00:00\",\"2021-05-24T00:00:00+00:00\",\"2021-05-23T00:00:00+00:00\",\"2021-05-22T00:00:00+00:00\",\"2021-05-21T00:00:00+00:00\",\"2021-05-20T00:00:00+00:00\",\"2021-05-19T00:00:00+00:00\",\"2021-05-18T00:00:00+00:00\",\"2021-05-17T00:00:00+00:00\",\"2021-05-16T00:00:00+00:00\",\"2021-05-15T00:00:00+00:00\",\"2021-05-14T00:00:00+00:00\",\"2021-05-13T00:00:00+00:00\",\"2021-05-12T00:00:00+00:00\",\"2021-05-11T00:00:00+00:00\",\"2021-05-10T00:00:00+00:00\",\"2021-05-09T00:00:00+00:00\",\"2021-05-08T00:00:00+00:00\",\"2021-05-07T00:00:00+00:00\",\"2021-05-06T00:00:00+00:00\",\"2021-05-05T00:00:00+00:00\",\"2021-05-04T00:00:00+00:00\",\"2021-05-03T00:00:00+00:00\",\"2021-05-02T00:00:00+00:00\",\"2021-05-01T00:00:00+00:00\",\"2021-04-30T00:00:00+00:00\",\"2021-04-29T00:00:00+00:00\",\"2021-04-28T00:00:00+00:00\",\"2021-04-27T00:00:00+00:00\",\"2021-04-26T00:00:00+00:00\",\"2021-04-25T00:00:00+00:00\",\"2021-04-24T00:00:00+00:00\",\"2021-04-23T00:00:00+00:00\",\"2021-04-22T00:00:00+00:00\",\"2021-04-21T00:00:00+00:00\",\"2021-04-20T00:00:00+00:00\",\"2021-04-19T00:00:00+00:00\",\"2021-04-17T00:00:00+00:00\",\"2021-04-16T00:00:00+00:00\",\"2021-04-15T00:00:00+00:00\",\"2021-04-14T00:00:00+00:00\",\"2021-04-13T00:00:00+00:00\",\"2021-04-12T00:00:00+00:00\",\"2021-04-10T00:00:00+00:00\",\"2021-04-09T00:00:00+00:00\",\"2021-04-08T00:00:00+00:00\",\"2021-04-06T00:00:00+00:00\",\"2021-04-05T00:00:00+00:00\",\"2021-04-02T00:00:00+00:00\",\"2021-04-01T00:00:00+00:00\",\"2021-03-31T00:00:00+00:00\",\"2021-03-30T00:00:00+00:00\",\"2021-03-29T00:00:00+00:00\",\"2021-03-26T00:00:00+00:00\",\"2021-03-25T00:00:00+00:00\",\"2021-03-24T00:00:00+00:00\",\"2021-03-23T00:00:00+00:00\",\"2021-03-22T00:00:00+00:00\",\"2021-03-21T00:00:00+00:00\",\"2021-03-20T00:00:00+00:00\",\"2021-03-19T00:00:00+00:00\",\"2021-03-18T00:00:00+00:00\",\"2021-03-17T00:00:00+00:00\",\"2021-03-16T00:00:00+00:00\",\"2021-03-15T00:00:00+00:00\",\"2021-03-14T00:00:00+00:00\",\"2021-03-13T00:00:00+00:00\",\"2021-03-12T00:00:00+00:00\",\"2021-03-11T00:00:00+00:00\",\"2021-03-10T00:00:00+00:00\",\"2021-03-09T00:00:00+00:00\"],\"xaxis\":\"x\",\"y\":[0.022810890360559236,0.019535709755169352,0.016414302074055222,0.003827018752391887,0.011542497376705142,0.014364303178484108,0.018295983544440834,0.025794658271554787,0.03271251193887297,0.01094224924012158,0.016446048937023665,0.014293006636038795,0.028581111613194758,0.03132096896290689,0.0319399966290241,0.028254437869822485,0.026110953863572036,0.024167903328386687,0.019322141273360786,0.024263173563560583,0.031474363623177896,0.03653738055087127,0.04467543195429201,0.06285140562248996,0.03603851444291609,0.033290978398983484,0.17315026697177727,0.09396277802995914,0.07048458149779736,0.09782365822049426,0.11266768236037308,0.10480349344978165,0.06992713004484305,0.0628478400787491,0.0758530867413389,0.09833956969130028,0.06575175496016071,0.0781983109164842,0.06758117291719104,0.03826890972133042,0.05208581239587937,0.033336686450055324,0.004483286987117644,0.0005711429999286071,0.0013117621337997377,0.0012706480304955528,0.0006367804381049414,0.00029403116730373417,0.0012962204939282304,0.0017323958014878224,0.0015019115237575095,0.001139384732244588,0.0014018691588785046,0.0035871514756236752,0.005161640858462374,0.0015567506368525334,0.003556666346246275,0.0023305496212856864,0.0011664074650077762,0.004125412541254125,0.0026838432635534087,0.0028947368421052633,0.0026019080659150044,0.005057346699178181,0.0031660750263839584,0.0010931948619841486,0.006471581316826111,0.007741672608739941,0.0038847523470378763,0.0033249460819554278,0.0023957834211787254,0.003180522044307962,0.0032658393207054214,0.006022187004754358,0.004305586222124089,0.0024862825788751716,0.002797202797202797,0.0033070122156981844,0.0031709895113423855,0.005683612251341964,0.002359882005899705,0.0012155591572123178,0.000589101620029455,0.0028244388286011593,0.005664117813650524,0.006531606332336987,0.001087547580206634,0.000571801993138376,0.0007220795892169448,0.000690894016857814,0.0010774968918358888,0.0008954008954008954,0.00030665440049064706,0.000908999091000909,0.00035819826273842574,0.0011609907120743034,0.0011572160687716977,0.000510986203372509,0.0008228420966016622,0.0007436602959767978,0.0002858572143214464,0.00041880431368443097,0.00014179369018078695,0.00023364485981308412,0.0005532642591288602,0.0011981265657335803,0.0007041261794113505,0.00017966223499820338,0.00017286084701815038,0.0007277137659187386,0.00036939313984168866,0.00016446466750726386,0.0005081042629947665,0.0006702412868632708,0.0012030477208929287,0.000574052812858783,0.00039389463318562285,0.0005531444132414263,0.0002491073652744333,0.0005200208008320333],\"yaxis\":\"y\"},{\"hovertemplate\":\"symbol=BB<br>day=%{x}<br>fraction_of_mentions=%{y}<extra></extra>\",\"legendgroup\":\"BB\",\"line\":{\"color\":\"#FF6692\",\"dash\":\"solid\"},\"mode\":\"lines\",\"name\":\"BB\",\"showlegend\":true,\"type\":\"scattergl\",\"x\":[\"2021-07-14T00:00:00+00:00\",\"2021-07-13T00:00:00+00:00\",\"2021-07-12T00:00:00+00:00\",\"2021-07-11T00:00:00+00:00\",\"2021-07-10T00:00:00+00:00\",\"2021-07-09T00:00:00+00:00\",\"2021-07-08T00:00:00+00:00\",\"2021-07-07T00:00:00+00:00\",\"2021-07-06T00:00:00+00:00\",\"2021-07-05T00:00:00+00:00\",\"2021-07-04T00:00:00+00:00\",\"2021-07-03T00:00:00+00:00\",\"2021-07-02T00:00:00+00:00\",\"2021-07-01T00:00:00+00:00\",\"2021-06-30T00:00:00+00:00\",\"2021-06-29T00:00:00+00:00\",\"2021-06-28T00:00:00+00:00\",\"2021-06-27T00:00:00+00:00\",\"2021-06-26T00:00:00+00:00\",\"2021-06-25T00:00:00+00:00\",\"2021-06-24T00:00:00+00:00\",\"2021-06-23T00:00:00+00:00\",\"2021-06-22T00:00:00+00:00\",\"2021-06-21T00:00:00+00:00\",\"2021-06-20T00:00:00+00:00\",\"2021-06-19T00:00:00+00:00\",\"2021-06-18T00:00:00+00:00\",\"2021-06-17T00:00:00+00:00\",\"2021-06-16T00:00:00+00:00\",\"2021-06-15T00:00:00+00:00\",\"2021-06-14T00:00:00+00:00\",\"2021-06-13T00:00:00+00:00\",\"2021-06-12T00:00:00+00:00\",\"2021-06-11T00:00:00+00:00\",\"2021-06-10T00:00:00+00:00\",\"2021-06-09T00:00:00+00:00\",\"2021-06-08T00:00:00+00:00\",\"2021-06-07T00:00:00+00:00\",\"2021-06-06T00:00:00+00:00\",\"2021-06-05T00:00:00+00:00\",\"2021-06-04T00:00:00+00:00\",\"2021-06-03T00:00:00+00:00\",\"2021-06-02T00:00:00+00:00\",\"2021-06-01T00:00:00+00:00\",\"2021-05-31T00:00:00+00:00\",\"2021-05-30T00:00:00+00:00\",\"2021-05-29T00:00:00+00:00\",\"2021-05-28T00:00:00+00:00\",\"2021-05-27T00:00:00+00:00\",\"2021-05-26T00:00:00+00:00\",\"2021-05-25T00:00:00+00:00\",\"2021-05-24T00:00:00+00:00\",\"2021-05-23T00:00:00+00:00\",\"2021-05-22T00:00:00+00:00\",\"2021-05-21T00:00:00+00:00\",\"2021-05-20T00:00:00+00:00\",\"2021-05-19T00:00:00+00:00\",\"2021-05-18T00:00:00+00:00\",\"2021-05-17T00:00:00+00:00\",\"2021-05-16T00:00:00+00:00\",\"2021-05-15T00:00:00+00:00\",\"2021-05-14T00:00:00+00:00\",\"2021-05-13T00:00:00+00:00\",\"2021-05-12T00:00:00+00:00\",\"2021-05-11T00:00:00+00:00\",\"2021-05-10T00:00:00+00:00\",\"2021-05-09T00:00:00+00:00\",\"2021-05-08T00:00:00+00:00\",\"2021-05-07T00:00:00+00:00\",\"2021-05-06T00:00:00+00:00\",\"2021-05-05T00:00:00+00:00\",\"2021-05-04T00:00:00+00:00\",\"2021-05-03T00:00:00+00:00\",\"2021-05-02T00:00:00+00:00\",\"2021-05-01T00:00:00+00:00\",\"2021-04-30T00:00:00+00:00\",\"2021-04-29T00:00:00+00:00\",\"2021-04-28T00:00:00+00:00\",\"2021-04-27T00:00:00+00:00\",\"2021-04-26T00:00:00+00:00\",\"2021-04-25T00:00:00+00:00\",\"2021-04-24T00:00:00+00:00\",\"2021-04-23T00:00:00+00:00\",\"2021-04-22T00:00:00+00:00\",\"2021-04-21T00:00:00+00:00\",\"2021-04-20T00:00:00+00:00\",\"2021-04-19T00:00:00+00:00\",\"2021-04-18T00:00:00+00:00\",\"2021-04-17T00:00:00+00:00\",\"2021-04-16T00:00:00+00:00\",\"2021-04-15T00:00:00+00:00\",\"2021-04-14T00:00:00+00:00\",\"2021-04-13T00:00:00+00:00\",\"2021-04-12T00:00:00+00:00\",\"2021-04-11T00:00:00+00:00\",\"2021-04-10T00:00:00+00:00\",\"2021-04-09T00:00:00+00:00\",\"2021-04-08T00:00:00+00:00\",\"2021-04-07T00:00:00+00:00\",\"2021-04-06T00:00:00+00:00\",\"2021-04-05T00:00:00+00:00\",\"2021-04-04T00:00:00+00:00\",\"2021-04-03T00:00:00+00:00\",\"2021-04-02T00:00:00+00:00\",\"2021-04-01T00:00:00+00:00\",\"2021-03-31T00:00:00+00:00\",\"2021-03-30T00:00:00+00:00\",\"2021-03-29T00:00:00+00:00\",\"2021-03-26T00:00:00+00:00\",\"2021-03-25T00:00:00+00:00\",\"2021-03-24T00:00:00+00:00\",\"2021-03-23T00:00:00+00:00\",\"2021-03-22T00:00:00+00:00\",\"2021-03-21T00:00:00+00:00\",\"2021-03-20T00:00:00+00:00\",\"2021-03-19T00:00:00+00:00\",\"2021-03-18T00:00:00+00:00\",\"2021-03-17T00:00:00+00:00\",\"2021-03-16T00:00:00+00:00\",\"2021-03-15T00:00:00+00:00\",\"2021-03-14T00:00:00+00:00\",\"2021-03-13T00:00:00+00:00\",\"2021-03-12T00:00:00+00:00\",\"2021-03-11T00:00:00+00:00\",\"2021-03-10T00:00:00+00:00\",\"2021-03-09T00:00:00+00:00\"],\"xaxis\":\"x\",\"y\":[0.0235467255334805,0.028796143600152226,0.02252194935742461,0.012246460007654038,0.011542497376705142,0.018490220048899754,0.019378586121034966,0.023255813953488372,0.02710124164278892,0.03221884498480243,0.026073004412354592,0.04032669729453803,0.021238138273836422,0.027725208175624527,0.022754087308275744,0.0389792899408284,0.052787998867817716,0.033707865168539325,0.050364269876465,0.059020541827924974,0.04822684748712742,0.04293142214727375,0.07420664968679011,0.0714859437751004,0.05392022008253095,0.07166454891994918,0.07981415990569309,0.08948025419881979,0.05526125020911169,0.04585065022120928,0.05443870536211958,0.05203784570596798,0.07118834080717489,0.08844129784575777,0.08455326908048971,0.07844447414138714,0.11335575468929869,0.22470284641851737,0.215706015605336,0.22935662000770515,0.3096929928942984,0.33817523387989135,0.27773679132852847,0.2442350253444706,0.1733712286838653,0.12020330368487929,0.09395085066162571,0.1228986245542537,0.0742218675179569,0.05382726156365125,0.013043921328849486,0.004915346805024577,0.004557538928978352,0.010280373831775701,0.0071743029512473504,0.006791632708503124,0.01004811774695726,0.013553782562722291,0.006214798990095164,0.009720062208398134,0.012376237623762377,0.01696188942565754,0.012543859649122807,0.010516045099739808,0.006863541948884675,0.005372733378106112,0.008472260180377153,0.010973550928531233,0.01314047061220332,0.007186791842020071,0.007458662832494608,0.00706756109247724,0.005812678218907655,0.007838014369693011,0.010142630744849446,0.007948774563921396,0.009344993141289438,0.009178321678321678,0.012283188229736114,0.011626961541588748,0.015156299336911904,0.00855457227138643,0.011750405186385737,0.014285714285714285,0.024379366731083693,0.022514868309260833,0.01516661131407063,0.02396644697423607,0.01957585644371941,0.010455807874530305,0.012836970474967908,0.009188890424208927,0.011852465810194779,0.012617012617012617,0.01233453670276775,0.006746396810794235,0.017573982426017574,0.023999283603474524,0.031240960370263235,0.01722136222910217,0.017771532484708218,0.02247557003257329,0.017430845017051912,0.02120592743995912,0.021393894511643214,0.04759425894251506,0.04330736796969913,0.019683802743168256,0.008436724565756825,0.009871495327102804,0.008248667136103009,0.008713647750789675,0.009998591747641178,0.0073661516349263385,0.00881590319792567,0.00703456640388114,0.007440633245382586,0.008881092045392247,0.015446369595040902,0.020196604110813227,0.01376821280577463,0.025114810562571758,0.03412112259970458,0.008552463620117436,0.015638406820006088,0.0171606864274571],\"yaxis\":\"y\"},{\"hovertemplate\":\"symbol=UWMC<br>day=%{x}<br>fraction_of_mentions=%{y}<extra></extra>\",\"legendgroup\":\"UWMC\",\"line\":{\"color\":\"#B6E880\",\"dash\":\"solid\"},\"mode\":\"lines\",\"name\":\"UWMC\",\"showlegend\":true,\"type\":\"scattergl\",\"x\":[\"2021-07-14T00:00:00+00:00\",\"2021-07-13T00:00:00+00:00\",\"2021-07-12T00:00:00+00:00\",\"2021-07-11T00:00:00+00:00\",\"2021-07-10T00:00:00+00:00\",\"2021-07-09T00:00:00+00:00\",\"2021-07-08T00:00:00+00:00\",\"2021-07-07T00:00:00+00:00\",\"2021-07-06T00:00:00+00:00\",\"2021-07-05T00:00:00+00:00\",\"2021-07-04T00:00:00+00:00\",\"2021-07-03T00:00:00+00:00\",\"2021-07-02T00:00:00+00:00\",\"2021-07-01T00:00:00+00:00\",\"2021-06-30T00:00:00+00:00\",\"2021-06-29T00:00:00+00:00\",\"2021-06-28T00:00:00+00:00\",\"2021-06-27T00:00:00+00:00\",\"2021-06-26T00:00:00+00:00\",\"2021-06-25T00:00:00+00:00\",\"2021-06-24T00:00:00+00:00\",\"2021-06-23T00:00:00+00:00\",\"2021-06-22T00:00:00+00:00\",\"2021-06-21T00:00:00+00:00\",\"2021-06-20T00:00:00+00:00\",\"2021-06-19T00:00:00+00:00\",\"2021-06-18T00:00:00+00:00\",\"2021-06-17T00:00:00+00:00\",\"2021-06-16T00:00:00+00:00\",\"2021-06-15T00:00:00+00:00\",\"2021-06-14T00:00:00+00:00\",\"2021-06-13T00:00:00+00:00\",\"2021-06-12T00:00:00+00:00\",\"2021-06-11T00:00:00+00:00\",\"2021-06-10T00:00:00+00:00\",\"2021-06-09T00:00:00+00:00\",\"2021-06-08T00:00:00+00:00\",\"2021-06-07T00:00:00+00:00\",\"2021-06-06T00:00:00+00:00\",\"2021-06-05T00:00:00+00:00\",\"2021-06-04T00:00:00+00:00\",\"2021-06-03T00:00:00+00:00\",\"2021-06-02T00:00:00+00:00\",\"2021-06-01T00:00:00+00:00\",\"2021-05-31T00:00:00+00:00\",\"2021-05-30T00:00:00+00:00\",\"2021-05-29T00:00:00+00:00\",\"2021-05-28T00:00:00+00:00\",\"2021-05-27T00:00:00+00:00\",\"2021-05-26T00:00:00+00:00\",\"2021-05-25T00:00:00+00:00\",\"2021-05-24T00:00:00+00:00\",\"2021-05-23T00:00:00+00:00\",\"2021-05-22T00:00:00+00:00\",\"2021-05-21T00:00:00+00:00\",\"2021-05-20T00:00:00+00:00\",\"2021-05-19T00:00:00+00:00\",\"2021-05-18T00:00:00+00:00\",\"2021-05-17T00:00:00+00:00\",\"2021-05-16T00:00:00+00:00\",\"2021-05-15T00:00:00+00:00\",\"2021-05-14T00:00:00+00:00\",\"2021-05-13T00:00:00+00:00\",\"2021-05-12T00:00:00+00:00\",\"2021-05-11T00:00:00+00:00\",\"2021-05-10T00:00:00+00:00\",\"2021-05-09T00:00:00+00:00\",\"2021-05-08T00:00:00+00:00\",\"2021-05-07T00:00:00+00:00\",\"2021-05-06T00:00:00+00:00\",\"2021-05-05T00:00:00+00:00\",\"2021-05-04T00:00:00+00:00\",\"2021-05-03T00:00:00+00:00\",\"2021-05-02T00:00:00+00:00\",\"2021-05-01T00:00:00+00:00\",\"2021-04-30T00:00:00+00:00\",\"2021-04-29T00:00:00+00:00\",\"2021-04-28T00:00:00+00:00\",\"2021-04-27T00:00:00+00:00\",\"2021-04-26T00:00:00+00:00\",\"2021-04-25T00:00:00+00:00\",\"2021-04-24T00:00:00+00:00\",\"2021-04-23T00:00:00+00:00\",\"2021-04-22T00:00:00+00:00\",\"2021-04-21T00:00:00+00:00\",\"2021-04-20T00:00:00+00:00\",\"2021-04-19T00:00:00+00:00\",\"2021-04-18T00:00:00+00:00\",\"2021-04-17T00:00:00+00:00\",\"2021-04-16T00:00:00+00:00\",\"2021-04-15T00:00:00+00:00\",\"2021-04-14T00:00:00+00:00\",\"2021-04-13T00:00:00+00:00\",\"2021-04-12T00:00:00+00:00\",\"2021-04-11T00:00:00+00:00\",\"2021-04-10T00:00:00+00:00\",\"2021-04-09T00:00:00+00:00\",\"2021-04-08T00:00:00+00:00\",\"2021-04-07T00:00:00+00:00\",\"2021-04-06T00:00:00+00:00\",\"2021-04-05T00:00:00+00:00\",\"2021-04-04T00:00:00+00:00\",\"2021-04-03T00:00:00+00:00\",\"2021-04-02T00:00:00+00:00\",\"2021-04-01T00:00:00+00:00\",\"2021-03-31T00:00:00+00:00\",\"2021-03-30T00:00:00+00:00\",\"2021-03-29T00:00:00+00:00\",\"2021-03-26T00:00:00+00:00\",\"2021-03-25T00:00:00+00:00\",\"2021-03-24T00:00:00+00:00\",\"2021-03-23T00:00:00+00:00\",\"2021-03-22T00:00:00+00:00\",\"2021-03-21T00:00:00+00:00\",\"2021-03-20T00:00:00+00:00\",\"2021-03-19T00:00:00+00:00\",\"2021-03-18T00:00:00+00:00\",\"2021-03-17T00:00:00+00:00\",\"2021-03-16T00:00:00+00:00\",\"2021-03-15T00:00:00+00:00\",\"2021-03-14T00:00:00+00:00\",\"2021-03-13T00:00:00+00:00\",\"2021-03-12T00:00:00+00:00\",\"2021-03-11T00:00:00+00:00\",\"2021-03-10T00:00:00+00:00\",\"2021-03-09T00:00:00+00:00\"],\"xaxis\":\"x\",\"y\":[0.0051508462104488595,0.005454776100469364,0.003944522203842728,0.002296211251435132,0.009968520461699895,0.0029034229828850855,0.004222150048717116,0.009139839545039097,0.0070439350525310414,0.004559270516717325,0.006417970316887284,0.01633486472690148,0.008698599186624491,0.008043149129447388,0.01002865329512894,0.009985207100591717,0.008703651287857345,0.005723977104091583,0.0063351282863477985,0.014959809467103305,0.014504315033722532,0.0183389544688027,0.01349211812487093,0.017202141900937083,0.015130674002751032,0.009656925031766201,0.03155121004091256,0.025192918747162958,0.027379691072324765,0.025249139741699067,0.02645758240124856,0.04791363415817564,0.04190022421524664,0.038352326505887255,0.02521489971346705,0.023252706133903515,0.006794122294201296,0.004770096965905537,0.003775484520513466,0.0011557724412482341,0.0025838914765579845,0.0021929383361834827,0.004454911753021962,0.0037838223745270223,0.0034980323567993005,0.005082592121982211,0.008128544423440454,0.007896077432501274,0.017725878943167975,0.006753990994678674,0.007846733924386019,0.008465319497542327,0.013672616786935056,0.008878504672897197,0.026414479047774334,0.030019016571583807,0.04840079252759694,0.05882918388926271,0.09050301029326083,0.05948678071539658,0.041254125412541254,0.020397208803005905,0.015526315789473685,0.04585862966175195,0.01336584484782805,0.01861268348843903,0.009838753757857338,0.024198086662915026,0.010899460120199654,0.007898996438977015,0.0072789360172537745,0.004432199329180642,0.008006141697740733,0.004245591116917048,0.003169572107765452,0.00463678516228748,0.0035150891632373116,0.004370629370629371,0.0038469325774448267,0.0029270672412391252,0.004104831070413641,0.0032448377581120944,0.004051863857374392,0.007216494845360825,0.005797532332391854,0.006230529595015576,0.0036532713384257723,0.005392450569203115,0.004078303425774877,0.0028590099656918802,0.006097560975609756,0.002625397264059693,0.004061334438458351,0.003907203907203907,0.00210589651022864,0.0015332720024532351,0.003231996768003232,0.0029551356675920123,0.004917558576800694,0.007643188854489164,0.004298231112580592,0.003908794788273616,0.005683971201212581,0.006898313745528871,0.008392989385336953,0.006469844574998141,0.005288358464946759,0.005444456077897603,0.00815313718539525,0.005432242990654206,0.007393622371994769,0.006916457902189304,0.01922264469792987,0.016349263384836506,0.03025064822817632,0.029411764705882353,0.045963060686015834,0.03618222685159805,0.01168639804887963,0.006568364611260054,0.012297821146905493,0.009615384615384616,0.009551944854751354,0.006084588545655689,0.008192864457914695,0.011440457618304731],\"yaxis\":\"y\"},{\"hovertemplate\":\"symbol=AMC<br>day=%{x}<br>fraction_of_mentions=%{y}<extra></extra>\",\"legendgroup\":\"AMC\",\"line\":{\"color\":\"#FF97FF\",\"dash\":\"solid\"},\"mode\":\"lines\",\"name\":\"AMC\",\"showlegend\":true,\"type\":\"scattergl\",\"x\":[\"2021-07-14T00:00:00+00:00\",\"2021-07-13T00:00:00+00:00\",\"2021-07-12T00:00:00+00:00\",\"2021-07-11T00:00:00+00:00\",\"2021-07-10T00:00:00+00:00\",\"2021-07-09T00:00:00+00:00\",\"2021-07-08T00:00:00+00:00\",\"2021-07-07T00:00:00+00:00\",\"2021-07-06T00:00:00+00:00\",\"2021-07-05T00:00:00+00:00\",\"2021-07-04T00:00:00+00:00\",\"2021-07-03T00:00:00+00:00\",\"2021-07-02T00:00:00+00:00\",\"2021-07-01T00:00:00+00:00\",\"2021-06-30T00:00:00+00:00\",\"2021-06-29T00:00:00+00:00\",\"2021-06-28T00:00:00+00:00\",\"2021-06-27T00:00:00+00:00\",\"2021-06-26T00:00:00+00:00\",\"2021-06-25T00:00:00+00:00\",\"2021-06-24T00:00:00+00:00\",\"2021-06-23T00:00:00+00:00\",\"2021-06-22T00:00:00+00:00\",\"2021-06-21T00:00:00+00:00\",\"2021-06-20T00:00:00+00:00\",\"2021-06-19T00:00:00+00:00\",\"2021-06-18T00:00:00+00:00\",\"2021-06-17T00:00:00+00:00\",\"2021-06-16T00:00:00+00:00\",\"2021-06-15T00:00:00+00:00\",\"2021-06-14T00:00:00+00:00\",\"2021-06-13T00:00:00+00:00\",\"2021-06-12T00:00:00+00:00\",\"2021-06-11T00:00:00+00:00\",\"2021-06-10T00:00:00+00:00\",\"2021-06-09T00:00:00+00:00\",\"2021-06-08T00:00:00+00:00\",\"2021-06-07T00:00:00+00:00\",\"2021-06-06T00:00:00+00:00\",\"2021-06-05T00:00:00+00:00\",\"2021-06-04T00:00:00+00:00\",\"2021-06-03T00:00:00+00:00\",\"2021-06-02T00:00:00+00:00\",\"2021-06-01T00:00:00+00:00\",\"2021-05-31T00:00:00+00:00\",\"2021-05-30T00:00:00+00:00\",\"2021-05-29T00:00:00+00:00\",\"2021-05-28T00:00:00+00:00\",\"2021-05-27T00:00:00+00:00\",\"2021-05-26T00:00:00+00:00\",\"2021-05-25T00:00:00+00:00\",\"2021-05-24T00:00:00+00:00\",\"2021-05-23T00:00:00+00:00\",\"2021-05-22T00:00:00+00:00\",\"2021-05-21T00:00:00+00:00\",\"2021-05-20T00:00:00+00:00\",\"2021-05-19T00:00:00+00:00\",\"2021-05-18T00:00:00+00:00\",\"2021-05-17T00:00:00+00:00\",\"2021-05-16T00:00:00+00:00\",\"2021-05-15T00:00:00+00:00\",\"2021-05-14T00:00:00+00:00\",\"2021-05-13T00:00:00+00:00\",\"2021-05-12T00:00:00+00:00\",\"2021-05-11T00:00:00+00:00\",\"2021-05-10T00:00:00+00:00\",\"2021-05-09T00:00:00+00:00\",\"2021-05-08T00:00:00+00:00\",\"2021-05-07T00:00:00+00:00\",\"2021-05-06T00:00:00+00:00\",\"2021-05-05T00:00:00+00:00\",\"2021-05-04T00:00:00+00:00\",\"2021-05-03T00:00:00+00:00\",\"2021-05-02T00:00:00+00:00\",\"2021-05-01T00:00:00+00:00\",\"2021-04-30T00:00:00+00:00\",\"2021-04-29T00:00:00+00:00\",\"2021-04-28T00:00:00+00:00\",\"2021-04-27T00:00:00+00:00\",\"2021-04-26T00:00:00+00:00\",\"2021-04-25T00:00:00+00:00\",\"2021-04-24T00:00:00+00:00\",\"2021-04-23T00:00:00+00:00\",\"2021-04-22T00:00:00+00:00\",\"2021-04-21T00:00:00+00:00\",\"2021-04-20T00:00:00+00:00\",\"2021-04-19T00:00:00+00:00\",\"2021-04-18T00:00:00+00:00\",\"2021-04-17T00:00:00+00:00\",\"2021-04-16T00:00:00+00:00\",\"2021-04-15T00:00:00+00:00\",\"2021-04-14T00:00:00+00:00\",\"2021-04-13T00:00:00+00:00\",\"2021-04-12T00:00:00+00:00\",\"2021-04-11T00:00:00+00:00\",\"2021-04-10T00:00:00+00:00\",\"2021-04-09T00:00:00+00:00\",\"2021-04-08T00:00:00+00:00\",\"2021-04-07T00:00:00+00:00\",\"2021-04-06T00:00:00+00:00\",\"2021-04-05T00:00:00+00:00\",\"2021-04-04T00:00:00+00:00\",\"2021-04-03T00:00:00+00:00\",\"2021-04-02T00:00:00+00:00\",\"2021-04-01T00:00:00+00:00\",\"2021-03-31T00:00:00+00:00\",\"2021-03-30T00:00:00+00:00\",\"2021-03-29T00:00:00+00:00\",\"2021-03-26T00:00:00+00:00\",\"2021-03-25T00:00:00+00:00\",\"2021-03-24T00:00:00+00:00\",\"2021-03-23T00:00:00+00:00\",\"2021-03-22T00:00:00+00:00\",\"2021-03-21T00:00:00+00:00\",\"2021-03-20T00:00:00+00:00\",\"2021-03-19T00:00:00+00:00\",\"2021-03-18T00:00:00+00:00\",\"2021-03-17T00:00:00+00:00\",\"2021-03-16T00:00:00+00:00\",\"2021-03-15T00:00:00+00:00\",\"2021-03-14T00:00:00+00:00\",\"2021-03-13T00:00:00+00:00\",\"2021-03-12T00:00:00+00:00\",\"2021-03-11T00:00:00+00:00\",\"2021-03-10T00:00:00+00:00\",\"2021-03-09T00:00:00+00:00\"],\"xaxis\":\"x\",\"y\":[0.07358351729212656,0.07192693137130535,0.05051533273953429,0.05434366628396479,0.06505771248688352,0.04385696821515892,0.07892172783371225,0.0740327003148167,0.06769340974212035,0.08541033434650457,0.11592458884877657,0.08677896886166411,0.06924988703117939,0.05554504163512491,0.04247429630878139,0.0503698224852071,0.0537078969714124,0.07801568793724825,0.06335128286347799,0.048898481690979455,0.04960475741533106,0.05845980888139404,0.07909410064018724,0.07543507362784471,0.1265474552957359,0.15527318932655654,0.10845295055821372,0.1230140717203813,0.08738080633469024,0.09603610850426778,0.08483519750287986,0.08442503639010189,0.11729260089686099,0.09533184416764472,0.09632716853347226,0.07812708806628357,0.07961086156693678,0.13461839224272756,0.202617669267556,0.2463079491460126,0.22598850848264374,0.2511216175435067,0.2935985471880143,0.2845719997144285,0.25163970266724967,0.2823379923761118,0.31890359168241966,0.3658091356766853,0.35737388163145295,0.23386546595715652,0.16376235605829004,0.0906608410704533,0.057349031522977593,0.07383177570093458,0.06750366867764553,0.07606628633523499,0.11081234078686669,0.1682207055657022,0.13157894736842105,0.08398133748055987,0.11551155115511551,0.21374127750939345,0.2170175438596491,0.055615784908933215,0.050663776754267136,0.03847260865393841,0.03908171631593332,0.05993247045582442,0.04064378119588469,0.04428617675623179,0.03199137311286844,0.02000479156684236,0.018754112744022812,0.03755715218811234,0.029160063391442156,0.021086332523735925,0.021176268861454045,0.04825174825174825,0.030640480529121956,0.03642572566875356,0.03441742974423745,0.031563421828908554,0.027552674230145867,0.0321060382916053,0.027352460234874386,0.017983574058340415,0.022362448798848664,0.032654284002396644,0.025829255029907558,0.0303871916353537,0.03891206675224647,0.018446870250103633,0.028843762950683798,0.03679283679283679,0.05956678700361011,0.03035878564857406,0.03110796889203111,0.026506671442643504,0.02844470157169029,0.029411764705882353,0.061415109935526534,0.08078175895765473,0.07123910572186434,0.09632089933571794,0.06541594667983214,0.028407823306313675,0.032444793825484174,0.033190241859491154,0.05147110953562566,0.06875,0.053918116889648926,0.06099553425552772,0.09533868469229687,0.12594322673374056,0.13569576490924806,0.07198302001212856,0.06459102902374671,0.05871388630009319,0.09857222702098471,0.16630920464700624,0.07258387916054003,0.08409873708381171,0.062284588872476614,0.05931410092758063,0.10462509341526198,0.11076443057722309],\"yaxis\":\"y\"},{\"hovertemplate\":\"symbol=CLOV<br>day=%{x}<br>fraction_of_mentions=%{y}<extra></extra>\",\"legendgroup\":\"CLOV\",\"line\":{\"color\":\"#FECB52\",\"dash\":\"solid\"},\"mode\":\"lines\",\"name\":\"CLOV\",\"showlegend\":true,\"type\":\"scattergl\",\"x\":[\"2021-07-14T00:00:00+00:00\",\"2021-07-13T00:00:00+00:00\",\"2021-07-12T00:00:00+00:00\",\"2021-07-11T00:00:00+00:00\",\"2021-07-10T00:00:00+00:00\",\"2021-07-09T00:00:00+00:00\",\"2021-07-08T00:00:00+00:00\",\"2021-07-07T00:00:00+00:00\",\"2021-07-06T00:00:00+00:00\",\"2021-07-05T00:00:00+00:00\",\"2021-07-04T00:00:00+00:00\",\"2021-07-03T00:00:00+00:00\",\"2021-07-02T00:00:00+00:00\",\"2021-07-01T00:00:00+00:00\",\"2021-06-30T00:00:00+00:00\",\"2021-06-29T00:00:00+00:00\",\"2021-06-28T00:00:00+00:00\",\"2021-06-27T00:00:00+00:00\",\"2021-06-26T00:00:00+00:00\",\"2021-06-25T00:00:00+00:00\",\"2021-06-24T00:00:00+00:00\",\"2021-06-23T00:00:00+00:00\",\"2021-06-22T00:00:00+00:00\",\"2021-06-21T00:00:00+00:00\",\"2021-06-20T00:00:00+00:00\",\"2021-06-19T00:00:00+00:00\",\"2021-06-18T00:00:00+00:00\",\"2021-06-17T00:00:00+00:00\",\"2021-06-16T00:00:00+00:00\",\"2021-06-15T00:00:00+00:00\",\"2021-06-14T00:00:00+00:00\",\"2021-06-13T00:00:00+00:00\",\"2021-06-12T00:00:00+00:00\",\"2021-06-11T00:00:00+00:00\",\"2021-06-10T00:00:00+00:00\",\"2021-06-09T00:00:00+00:00\",\"2021-06-08T00:00:00+00:00\",\"2021-06-07T00:00:00+00:00\",\"2021-06-06T00:00:00+00:00\",\"2021-06-05T00:00:00+00:00\",\"2021-06-04T00:00:00+00:00\",\"2021-06-03T00:00:00+00:00\",\"2021-06-02T00:00:00+00:00\",\"2021-06-01T00:00:00+00:00\",\"2021-05-31T00:00:00+00:00\",\"2021-05-30T00:00:00+00:00\",\"2021-05-29T00:00:00+00:00\",\"2021-05-28T00:00:00+00:00\",\"2021-05-27T00:00:00+00:00\",\"2021-05-26T00:00:00+00:00\",\"2021-05-25T00:00:00+00:00\",\"2021-05-24T00:00:00+00:00\",\"2021-05-23T00:00:00+00:00\",\"2021-05-22T00:00:00+00:00\",\"2021-05-21T00:00:00+00:00\",\"2021-05-20T00:00:00+00:00\",\"2021-05-19T00:00:00+00:00\",\"2021-05-18T00:00:00+00:00\",\"2021-05-17T00:00:00+00:00\",\"2021-05-16T00:00:00+00:00\",\"2021-05-15T00:00:00+00:00\",\"2021-05-14T00:00:00+00:00\",\"2021-05-13T00:00:00+00:00\",\"2021-05-12T00:00:00+00:00\",\"2021-05-11T00:00:00+00:00\",\"2021-05-10T00:00:00+00:00\",\"2021-05-09T00:00:00+00:00\",\"2021-05-08T00:00:00+00:00\",\"2021-05-07T00:00:00+00:00\",\"2021-05-06T00:00:00+00:00\",\"2021-05-05T00:00:00+00:00\",\"2021-05-04T00:00:00+00:00\",\"2021-05-03T00:00:00+00:00\",\"2021-05-02T00:00:00+00:00\",\"2021-05-01T00:00:00+00:00\",\"2021-04-30T00:00:00+00:00\",\"2021-04-29T00:00:00+00:00\",\"2021-04-28T00:00:00+00:00\",\"2021-04-27T00:00:00+00:00\",\"2021-04-26T00:00:00+00:00\",\"2021-04-25T00:00:00+00:00\",\"2021-04-24T00:00:00+00:00\",\"2021-04-23T00:00:00+00:00\",\"2021-04-22T00:00:00+00:00\",\"2021-04-21T00:00:00+00:00\",\"2021-04-20T00:00:00+00:00\",\"2021-04-19T00:00:00+00:00\",\"2021-04-18T00:00:00+00:00\",\"2021-04-17T00:00:00+00:00\",\"2021-04-16T00:00:00+00:00\",\"2021-04-15T00:00:00+00:00\",\"2021-04-14T00:00:00+00:00\",\"2021-04-13T00:00:00+00:00\",\"2021-04-12T00:00:00+00:00\",\"2021-04-11T00:00:00+00:00\",\"2021-04-10T00:00:00+00:00\",\"2021-04-09T00:00:00+00:00\",\"2021-04-08T00:00:00+00:00\",\"2021-04-07T00:00:00+00:00\",\"2021-04-06T00:00:00+00:00\",\"2021-04-02T00:00:00+00:00\",\"2021-04-01T00:00:00+00:00\",\"2021-03-31T00:00:00+00:00\",\"2021-03-30T00:00:00+00:00\",\"2021-03-29T00:00:00+00:00\",\"2021-03-26T00:00:00+00:00\",\"2021-03-25T00:00:00+00:00\",\"2021-03-24T00:00:00+00:00\",\"2021-03-23T00:00:00+00:00\",\"2021-03-22T00:00:00+00:00\",\"2021-03-21T00:00:00+00:00\",\"2021-03-19T00:00:00+00:00\",\"2021-03-18T00:00:00+00:00\",\"2021-03-17T00:00:00+00:00\",\"2021-03-16T00:00:00+00:00\",\"2021-03-15T00:00:00+00:00\",\"2021-03-14T00:00:00+00:00\",\"2021-03-13T00:00:00+00:00\",\"2021-03-12T00:00:00+00:00\",\"2021-03-11T00:00:00+00:00\",\"2021-03-10T00:00:00+00:00\",\"2021-03-09T00:00:00+00:00\"],\"xaxis\":\"x\",\"y\":[0.06254598969830757,0.0748446023087657,0.08983331212622471,0.04247990815154994,0.048268625393494226,0.04477383863080685,0.04546930821695356,0.0733218239057581,0.09897325692454632,0.06048632218844985,0.045326915363016446,0.055640632976008166,0.060212381382738364,0.06330431491294473,0.06775661554019889,0.09326923076923077,0.053778658363996604,0.07017171931312274,0.06841938549255623,0.059020541827924974,0.09899195010515628,0.10792580101180438,0.10332484339505747,0.04176706827309237,0.0624484181568088,0.03532401524777637,0.0323833298661674,0.03029959146618248,0.05085596386549936,0.05331367028645484,0.05975251755787596,0.06817079087821445,0.06838565022421525,0.09544542460152197,0.08335504037509768,0.12040625417613257,0.16795702322641806,0.1010322177040976,0.0445507173420589,0.016822909978168744,0.016931288885866792,0.02271401267478121,0.021054423698995517,0.004212179624473477,0.00765194578049847,0.010419313850063533,0.00831758034026465,0.007768721344880285,0.010207081950686772,0.006753990994678674,0.004687659227555284,0.009011469142545057,0.008735282947208508,0.003738317757009346,0.01271808250448394,0.016843249117087747,0.005802434191904897,0.015572431029510718,0.05136919790250534,0.03382581648522551,0.023514851485148515,0.017176596886741814,0.007631578947368421,0.016045099739809193,0.008850356723561817,0.011033291758610765,0.025416780541131456,0.018851997749015192,0.014872160537842518,0.013531887342181937,0.020129403306973402,0.02467656923814087,0.04715946479491116,0.07119529719137818,0.027258320126782885,0.04901744314418194,0.08762002743484225,0.059702797202797205,0.008908685968819599,0.01219611350516302,0.012630249447426587,0.01592920353982301,0.019043760129659644,0.013107511045655376,0.03731232347257321,0.06655338431039366,0.10450570131739179,0.07159976033553025,0.05655247417074497,0.0702499591570005,0.0008023106546854943,0.0002763576067431256,0.0003315375051802735,0.0004884004884004884,0.00030084235860409147,0.0009199632014719411,0.002120997879002121,0.007969911345929972,9.642271719217047e-05,0.00048374613003095975,0.000510986203372509,0.00016456841932033242,0.0002974641183907191,0.0001429286071607232,0.00020940215684221548,7.089684509039348e-05,0.00023364485981308412,0.0003520772558092747,0.00010892059688487092,7.041261794113505e-05,0.0005389867049946101,0.0003638568829593693,0.000158311345646438,0.0003289293350145277,0.0004064834103958132,0.0003127792672028597,0.0009357037829167224,0.0002870264064293915,9.847365829640571e-05,0.00038294613224406433,0.0001660715768496222,0.0001733402669440111],\"yaxis\":\"y\"}],                        {\"legend\":{\"title\":{\"text\":\"symbol\"},\"tracegroupgap\":0},\"template\":{\"data\":{\"bar\":[{\"error_x\":{\"color\":\"#2a3f5f\"},\"error_y\":{\"color\":\"#2a3f5f\"},\"marker\":{\"line\":{\"color\":\"#E5ECF6\",\"width\":0.5},\"pattern\":{\"fillmode\":\"overlay\",\"size\":10,\"solidity\":0.2}},\"type\":\"bar\"}],\"barpolar\":[{\"marker\":{\"line\":{\"color\":\"#E5ECF6\",\"width\":0.5},\"pattern\":{\"fillmode\":\"overlay\",\"size\":10,\"solidity\":0.2}},\"type\":\"barpolar\"}],\"carpet\":[{\"aaxis\":{\"endlinecolor\":\"#2a3f5f\",\"gridcolor\":\"white\",\"linecolor\":\"white\",\"minorgridcolor\":\"white\",\"startlinecolor\":\"#2a3f5f\"},\"baxis\":{\"endlinecolor\":\"#2a3f5f\",\"gridcolor\":\"white\",\"linecolor\":\"white\",\"minorgridcolor\":\"white\",\"startlinecolor\":\"#2a3f5f\"},\"type\":\"carpet\"}],\"choropleth\":[{\"colorbar\":{\"outlinewidth\":0,\"ticks\":\"\"},\"type\":\"choropleth\"}],\"contour\":[{\"colorbar\":{\"outlinewidth\":0,\"ticks\":\"\"},\"colorscale\":[[0.0,\"#0d0887\"],[0.1111111111111111,\"#46039f\"],[0.2222222222222222,\"#7201a8\"],[0.3333333333333333,\"#9c179e\"],[0.4444444444444444,\"#bd3786\"],[0.5555555555555556,\"#d8576b\"],[0.6666666666666666,\"#ed7953\"],[0.7777777777777778,\"#fb9f3a\"],[0.8888888888888888,\"#fdca26\"],[1.0,\"#f0f921\"]],\"type\":\"contour\"}],\"contourcarpet\":[{\"colorbar\":{\"outlinewidth\":0,\"ticks\":\"\"},\"type\":\"contourcarpet\"}],\"heatmap\":[{\"colorbar\":{\"outlinewidth\":0,\"ticks\":\"\"},\"colorscale\":[[0.0,\"#0d0887\"],[0.1111111111111111,\"#46039f\"],[0.2222222222222222,\"#7201a8\"],[0.3333333333333333,\"#9c179e\"],[0.4444444444444444,\"#bd3786\"],[0.5555555555555556,\"#d8576b\"],[0.6666666666666666,\"#ed7953\"],[0.7777777777777778,\"#fb9f3a\"],[0.8888888888888888,\"#fdca26\"],[1.0,\"#f0f921\"]],\"type\":\"heatmap\"}],\"heatmapgl\":[{\"colorbar\":{\"outlinewidth\":0,\"ticks\":\"\"},\"colorscale\":[[0.0,\"#0d0887\"],[0.1111111111111111,\"#46039f\"],[0.2222222222222222,\"#7201a8\"],[0.3333333333333333,\"#9c179e\"],[0.4444444444444444,\"#bd3786\"],[0.5555555555555556,\"#d8576b\"],[0.6666666666666666,\"#ed7953\"],[0.7777777777777778,\"#fb9f3a\"],[0.8888888888888888,\"#fdca26\"],[1.0,\"#f0f921\"]],\"type\":\"heatmapgl\"}],\"histogram\":[{\"marker\":{\"pattern\":{\"fillmode\":\"overlay\",\"size\":10,\"solidity\":0.2}},\"type\":\"histogram\"}],\"histogram2d\":[{\"colorbar\":{\"outlinewidth\":0,\"ticks\":\"\"},\"colorscale\":[[0.0,\"#0d0887\"],[0.1111111111111111,\"#46039f\"],[0.2222222222222222,\"#7201a8\"],[0.3333333333333333,\"#9c179e\"],[0.4444444444444444,\"#bd3786\"],[0.5555555555555556,\"#d8576b\"],[0.6666666666666666,\"#ed7953\"],[0.7777777777777778,\"#fb9f3a\"],[0.8888888888888888,\"#fdca26\"],[1.0,\"#f0f921\"]],\"type\":\"histogram2d\"}],\"histogram2dcontour\":[{\"colorbar\":{\"outlinewidth\":0,\"ticks\":\"\"},\"colorscale\":[[0.0,\"#0d0887\"],[0.1111111111111111,\"#46039f\"],[0.2222222222222222,\"#7201a8\"],[0.3333333333333333,\"#9c179e\"],[0.4444444444444444,\"#bd3786\"],[0.5555555555555556,\"#d8576b\"],[0.6666666666666666,\"#ed7953\"],[0.7777777777777778,\"#fb9f3a\"],[0.8888888888888888,\"#fdca26\"],[1.0,\"#f0f921\"]],\"type\":\"histogram2dcontour\"}],\"mesh3d\":[{\"colorbar\":{\"outlinewidth\":0,\"ticks\":\"\"},\"type\":\"mesh3d\"}],\"parcoords\":[{\"line\":{\"colorbar\":{\"outlinewidth\":0,\"ticks\":\"\"}},\"type\":\"parcoords\"}],\"pie\":[{\"automargin\":true,\"type\":\"pie\"}],\"scatter\":[{\"marker\":{\"colorbar\":{\"outlinewidth\":0,\"ticks\":\"\"}},\"type\":\"scatter\"}],\"scatter3d\":[{\"line\":{\"colorbar\":{\"outlinewidth\":0,\"ticks\":\"\"}},\"marker\":{\"colorbar\":{\"outlinewidth\":0,\"ticks\":\"\"}},\"type\":\"scatter3d\"}],\"scattercarpet\":[{\"marker\":{\"colorbar\":{\"outlinewidth\":0,\"ticks\":\"\"}},\"type\":\"scattercarpet\"}],\"scattergeo\":[{\"marker\":{\"colorbar\":{\"outlinewidth\":0,\"ticks\":\"\"}},\"type\":\"scattergeo\"}],\"scattergl\":[{\"marker\":{\"colorbar\":{\"outlinewidth\":0,\"ticks\":\"\"}},\"type\":\"scattergl\"}],\"scattermapbox\":[{\"marker\":{\"colorbar\":{\"outlinewidth\":0,\"ticks\":\"\"}},\"type\":\"scattermapbox\"}],\"scatterpolar\":[{\"marker\":{\"colorbar\":{\"outlinewidth\":0,\"ticks\":\"\"}},\"type\":\"scatterpolar\"}],\"scatterpolargl\":[{\"marker\":{\"colorbar\":{\"outlinewidth\":0,\"ticks\":\"\"}},\"type\":\"scatterpolargl\"}],\"scatterternary\":[{\"marker\":{\"colorbar\":{\"outlinewidth\":0,\"ticks\":\"\"}},\"type\":\"scatterternary\"}],\"surface\":[{\"colorbar\":{\"outlinewidth\":0,\"ticks\":\"\"},\"colorscale\":[[0.0,\"#0d0887\"],[0.1111111111111111,\"#46039f\"],[0.2222222222222222,\"#7201a8\"],[0.3333333333333333,\"#9c179e\"],[0.4444444444444444,\"#bd3786\"],[0.5555555555555556,\"#d8576b\"],[0.6666666666666666,\"#ed7953\"],[0.7777777777777778,\"#fb9f3a\"],[0.8888888888888888,\"#fdca26\"],[1.0,\"#f0f921\"]],\"type\":\"surface\"}],\"table\":[{\"cells\":{\"fill\":{\"color\":\"#EBF0F8\"},\"line\":{\"color\":\"white\"}},\"header\":{\"fill\":{\"color\":\"#C8D4E3\"},\"line\":{\"color\":\"white\"}},\"type\":\"table\"}]},\"layout\":{\"annotationdefaults\":{\"arrowcolor\":\"#2a3f5f\",\"arrowhead\":0,\"arrowwidth\":1},\"autotypenumbers\":\"strict\",\"coloraxis\":{\"colorbar\":{\"outlinewidth\":0,\"ticks\":\"\"}},\"colorscale\":{\"diverging\":[[0,\"#8e0152\"],[0.1,\"#c51b7d\"],[0.2,\"#de77ae\"],[0.3,\"#f1b6da\"],[0.4,\"#fde0ef\"],[0.5,\"#f7f7f7\"],[0.6,\"#e6f5d0\"],[0.7,\"#b8e186\"],[0.8,\"#7fbc41\"],[0.9,\"#4d9221\"],[1,\"#276419\"]],\"sequential\":[[0.0,\"#0d0887\"],[0.1111111111111111,\"#46039f\"],[0.2222222222222222,\"#7201a8\"],[0.3333333333333333,\"#9c179e\"],[0.4444444444444444,\"#bd3786\"],[0.5555555555555556,\"#d8576b\"],[0.6666666666666666,\"#ed7953\"],[0.7777777777777778,\"#fb9f3a\"],[0.8888888888888888,\"#fdca26\"],[1.0,\"#f0f921\"]],\"sequentialminus\":[[0.0,\"#0d0887\"],[0.1111111111111111,\"#46039f\"],[0.2222222222222222,\"#7201a8\"],[0.3333333333333333,\"#9c179e\"],[0.4444444444444444,\"#bd3786\"],[0.5555555555555556,\"#d8576b\"],[0.6666666666666666,\"#ed7953\"],[0.7777777777777778,\"#fb9f3a\"],[0.8888888888888888,\"#fdca26\"],[1.0,\"#f0f921\"]]},\"colorway\":[\"#636efa\",\"#EF553B\",\"#00cc96\",\"#ab63fa\",\"#FFA15A\",\"#19d3f3\",\"#FF6692\",\"#B6E880\",\"#FF97FF\",\"#FECB52\"],\"font\":{\"color\":\"#2a3f5f\"},\"geo\":{\"bgcolor\":\"white\",\"lakecolor\":\"white\",\"landcolor\":\"#E5ECF6\",\"showlakes\":true,\"showland\":true,\"subunitcolor\":\"white\"},\"hoverlabel\":{\"align\":\"left\"},\"hovermode\":\"closest\",\"mapbox\":{\"style\":\"light\"},\"paper_bgcolor\":\"white\",\"plot_bgcolor\":\"#E5ECF6\",\"polar\":{\"angularaxis\":{\"gridcolor\":\"white\",\"linecolor\":\"white\",\"ticks\":\"\"},\"bgcolor\":\"#E5ECF6\",\"radialaxis\":{\"gridcolor\":\"white\",\"linecolor\":\"white\",\"ticks\":\"\"}},\"scene\":{\"xaxis\":{\"backgroundcolor\":\"#E5ECF6\",\"gridcolor\":\"white\",\"gridwidth\":2,\"linecolor\":\"white\",\"showbackground\":true,\"ticks\":\"\",\"zerolinecolor\":\"white\"},\"yaxis\":{\"backgroundcolor\":\"#E5ECF6\",\"gridcolor\":\"white\",\"gridwidth\":2,\"linecolor\":\"white\",\"showbackground\":true,\"ticks\":\"\",\"zerolinecolor\":\"white\"},\"zaxis\":{\"backgroundcolor\":\"#E5ECF6\",\"gridcolor\":\"white\",\"gridwidth\":2,\"linecolor\":\"white\",\"showbackground\":true,\"ticks\":\"\",\"zerolinecolor\":\"white\"}},\"shapedefaults\":{\"line\":{\"color\":\"#2a3f5f\"}},\"ternary\":{\"aaxis\":{\"gridcolor\":\"white\",\"linecolor\":\"white\",\"ticks\":\"\"},\"baxis\":{\"gridcolor\":\"white\",\"linecolor\":\"white\",\"ticks\":\"\"},\"bgcolor\":\"#E5ECF6\",\"caxis\":{\"gridcolor\":\"white\",\"linecolor\":\"white\",\"ticks\":\"\"}},\"title\":{\"x\":0.05},\"xaxis\":{\"automargin\":true,\"gridcolor\":\"white\",\"linecolor\":\"white\",\"ticks\":\"\",\"title\":{\"standoff\":15},\"zerolinecolor\":\"white\",\"zerolinewidth\":2},\"yaxis\":{\"automargin\":true,\"gridcolor\":\"white\",\"linecolor\":\"white\",\"ticks\":\"\",\"title\":{\"standoff\":15},\"zerolinecolor\":\"white\",\"zerolinewidth\":2}}},\"title\":{\"text\":\"Fraction of mentions (daily)\"},\"xaxis\":{\"anchor\":\"y\",\"domain\":[0.0,1.0],\"title\":{\"text\":\"day\"}},\"yaxis\":{\"anchor\":\"x\",\"domain\":[0.0,1.0],\"title\":{\"text\":\"fraction_of_mentions\"}}},                        {\"responsive\": true}                    ).then(function(){\n",
       "                            \n",
       "var gd = document.getElementById('6cd539c1-5f65-4610-a52b-1782c8405096');\n",
       "var x = new MutationObserver(function (mutations, observer) {{\n",
       "        var display = window.getComputedStyle(gd).display;\n",
       "        if (!display || display === 'none') {{\n",
       "            console.log([gd, 'removed!']);\n",
       "            Plotly.purge(gd);\n",
       "            observer.disconnect();\n",
       "        }}\n",
       "}});\n",
       "\n",
       "// Listen for the removal of the full notebook cells\n",
       "var notebookContainer = gd.closest('#notebook-container');\n",
       "if (notebookContainer) {{\n",
       "    x.observe(notebookContainer, {childList: true});\n",
       "}}\n",
       "\n",
       "// Listen for the clearing of the current output cell\n",
       "var outputEl = gd.closest('.output');\n",
       "if (outputEl) {{\n",
       "    x.observe(outputEl, {childList: true});\n",
       "}}\n",
       "\n",
       "                        })                };                });            </script>        </div>"
      ]
     },
     "metadata": {},
     "output_type": "display_data"
    }
   ],
   "source": [
    "fig = px.line(tmp[tmp['symbol'].isin(top_symbols_june[0:10])].sort_values('day', ascending=False), \n",
    "              x=\"day\", y=\"fraction_of_mentions\", line_group=\"symbol\", color=\"symbol\",\n",
    "              title=\"Fraction of mentions (daily)\")\n",
    "fig.show()"
   ]
  },
  {
   "cell_type": "code",
   "execution_count": 210,
   "id": "5bfb4354",
   "metadata": {},
   "outputs": [
    {
     "data": {
      "application/vnd.plotly.v1+json": {
       "config": {
        "plotlyServerURL": "https://plot.ly"
       },
       "data": [
        {
         "hovertemplate": "symbol=WKHS<br>day=%{x}<br>fraction_of_mentions_MA=%{y}<extra></extra>",
         "legendgroup": "WKHS",
         "line": {
          "color": "#636efa",
          "dash": "solid"
         },
         "mode": "lines",
         "name": "WKHS",
         "showlegend": true,
         "type": "scattergl",
         "x": [
          "2021-07-14T00:00:00+00:00",
          "2021-07-13T00:00:00+00:00",
          "2021-07-12T00:00:00+00:00",
          "2021-07-11T00:00:00+00:00",
          "2021-07-10T00:00:00+00:00",
          "2021-07-09T00:00:00+00:00",
          "2021-07-08T00:00:00+00:00",
          "2021-07-07T00:00:00+00:00",
          "2021-07-06T00:00:00+00:00",
          "2021-07-05T00:00:00+00:00",
          "2021-07-04T00:00:00+00:00",
          "2021-07-03T00:00:00+00:00",
          "2021-07-02T00:00:00+00:00",
          "2021-07-01T00:00:00+00:00",
          "2021-06-30T00:00:00+00:00",
          "2021-06-29T00:00:00+00:00",
          "2021-06-28T00:00:00+00:00",
          "2021-06-27T00:00:00+00:00",
          "2021-06-26T00:00:00+00:00",
          "2021-06-25T00:00:00+00:00",
          "2021-06-24T00:00:00+00:00",
          "2021-06-23T00:00:00+00:00",
          "2021-06-22T00:00:00+00:00",
          "2021-06-21T00:00:00+00:00",
          "2021-06-20T00:00:00+00:00",
          "2021-06-19T00:00:00+00:00",
          "2021-06-18T00:00:00+00:00",
          "2021-06-17T00:00:00+00:00",
          "2021-06-16T00:00:00+00:00",
          "2021-06-15T00:00:00+00:00",
          "2021-06-14T00:00:00+00:00",
          "2021-06-13T00:00:00+00:00",
          "2021-06-12T00:00:00+00:00",
          "2021-06-11T00:00:00+00:00",
          "2021-06-10T00:00:00+00:00",
          "2021-06-09T00:00:00+00:00",
          "2021-06-08T00:00:00+00:00",
          "2021-06-07T00:00:00+00:00",
          "2021-06-06T00:00:00+00:00",
          "2021-06-05T00:00:00+00:00",
          "2021-06-04T00:00:00+00:00",
          "2021-06-03T00:00:00+00:00",
          "2021-06-02T00:00:00+00:00",
          "2021-06-01T00:00:00+00:00",
          "2021-05-31T00:00:00+00:00",
          "2021-05-30T00:00:00+00:00",
          "2021-05-29T00:00:00+00:00",
          "2021-05-28T00:00:00+00:00",
          "2021-05-27T00:00:00+00:00",
          "2021-05-26T00:00:00+00:00",
          "2021-05-25T00:00:00+00:00",
          "2021-05-24T00:00:00+00:00",
          "2021-05-23T00:00:00+00:00",
          "2021-05-22T00:00:00+00:00",
          "2021-05-20T00:00:00+00:00",
          "2021-05-19T00:00:00+00:00",
          "2021-05-18T00:00:00+00:00",
          "2021-05-17T00:00:00+00:00",
          "2021-05-16T00:00:00+00:00",
          "2021-05-14T00:00:00+00:00",
          "2021-05-13T00:00:00+00:00",
          "2021-05-12T00:00:00+00:00",
          "2021-05-11T00:00:00+00:00",
          "2021-05-10T00:00:00+00:00",
          "2021-05-09T00:00:00+00:00",
          "2021-05-08T00:00:00+00:00",
          "2021-05-07T00:00:00+00:00",
          "2021-05-06T00:00:00+00:00",
          "2021-05-05T00:00:00+00:00",
          "2021-05-04T00:00:00+00:00",
          "2021-05-03T00:00:00+00:00",
          "2021-05-02T00:00:00+00:00",
          "2021-05-01T00:00:00+00:00",
          "2021-04-30T00:00:00+00:00",
          "2021-04-29T00:00:00+00:00",
          "2021-04-28T00:00:00+00:00",
          "2021-04-27T00:00:00+00:00",
          "2021-04-26T00:00:00+00:00",
          "2021-04-24T00:00:00+00:00",
          "2021-04-23T00:00:00+00:00",
          "2021-04-22T00:00:00+00:00",
          "2021-04-21T00:00:00+00:00",
          "2021-04-20T00:00:00+00:00",
          "2021-04-19T00:00:00+00:00",
          "2021-04-17T00:00:00+00:00",
          "2021-04-16T00:00:00+00:00",
          "2021-04-15T00:00:00+00:00",
          "2021-04-14T00:00:00+00:00",
          "2021-04-13T00:00:00+00:00",
          "2021-04-12T00:00:00+00:00",
          "2021-04-11T00:00:00+00:00",
          "2021-04-09T00:00:00+00:00",
          "2021-04-08T00:00:00+00:00",
          "2021-04-07T00:00:00+00:00",
          "2021-04-06T00:00:00+00:00",
          "2021-04-05T00:00:00+00:00",
          "2021-04-03T00:00:00+00:00",
          "2021-04-02T00:00:00+00:00",
          "2021-04-01T00:00:00+00:00",
          "2021-03-31T00:00:00+00:00",
          "2021-03-30T00:00:00+00:00",
          "2021-03-29T00:00:00+00:00",
          "2021-03-26T00:00:00+00:00",
          "2021-03-25T00:00:00+00:00",
          "2021-03-24T00:00:00+00:00",
          "2021-03-23T00:00:00+00:00",
          "2021-03-22T00:00:00+00:00",
          "2021-03-21T00:00:00+00:00",
          "2021-03-20T00:00:00+00:00",
          "2021-03-19T00:00:00+00:00",
          "2021-03-18T00:00:00+00:00",
          "2021-03-17T00:00:00+00:00",
          "2021-03-16T00:00:00+00:00",
          "2021-03-15T00:00:00+00:00",
          "2021-03-14T00:00:00+00:00",
          "2021-03-13T00:00:00+00:00",
          "2021-03-12T00:00:00+00:00",
          "2021-03-11T00:00:00+00:00",
          "2021-03-10T00:00:00+00:00",
          "2021-03-09T00:00:00+00:00"
         ],
         "xaxis": "x",
         "y": [
          0.011561923582567312,
          0.011825703982766039,
          0.012530270791098993,
          0.013127996324555385,
          0.014874003728195206,
          0.01575712036088319,
          0.01798442712264517,
          0.01891069068299758,
          0.023668771396359443,
          0.0301895860089748,
          0.037532695127528125,
          0.03824689088400508,
          0.03899266479143972,
          0.04155300632328675,
          0.04631578156107529,
          0.05017353295610993,
          0.04502579263917538,
          0.038611278491037807,
          0.039628541154154574,
          0.0413735820820847,
          0.03952422219482261,
          0.03575103929258366,
          0.033020167859053866,
          0.033697397722127966,
          0.03551721034985583,
          0.03578342276355478,
          0.03507591254993776,
          0.03815280586983864,
          0.03956983665766751,
          0.03841413815364705,
          0.03899801547639276,
          0.037570055796000944,
          0.035564711829306504,
          0.033123269547219884,
          0.028850625226437405,
          0.026163123822468725,
          0.020829229456425763,
          0.016543660347880247,
          0.013506909613380788,
          0.010273210662434125,
          0.007865831724542771,
          0.005240405544342977,
          0.002374383448042818,
          0.0013935847399203294,
          0.0013876605375146413,
          0.001301622096344244,
          0.001156005321887475,
          0.001006719948320703,
          0.0008732893998899118,
          0.0008632269123774723,
          0.0009442866573011433,
          0.0010359078616226378,
          0.001063027267456477,
          0.0010772044135765769,
          0.001135762022552287,
          0.001379464754395874,
          0.001507140359129029,
          0.0016986811440615104,
          0.0019200657665119185,
          0.002019462174013184,
          0.0021878125198875826,
          0.0023399815471822675,
          0.00211479415787203,
          0.0019420625962754147,
          0.0017130102454022734,
          0.00137685053021437,
          0.0012363996783934586,
          0.0011188445138898238,
          0.0009026006905515314,
          0.0008245245610735329,
          0.0007454712614790316,
          0.0006276935873734061,
          0.0005765246426014602,
          0.0004725845956315182,
          0.00036221746721575466,
          0.0004071608909010092,
          0.00041015633782168985,
          0.00038393778251269477,
          0.0003995480751292879,
          0.0006258041789460308,
          0.0006173953044452753,
          0.000623366675413615,
          0.0006000691408590157,
          0.0006061254887044157,
          0.0006174729136268549,
          0.0006219175996195185,
          0.00045586310647983096,
          0.00045596699121548174,
          0.0006080186775438535,
          0.0006314092463400635,
          0.0006390279731706129,
          0.0007785455660030673,
          0.0008410538788518092,
          0.0009193147328066242,
          0.00106483427412473,
          0.0010680526398700936,
          0.0009921620569604123,
          0.0010131291314125935,
          0.0008881160597280076,
          0.0008912426727640933,
          0.0008112289122284925,
          0.00103315857219733,
          0.0009075767453053281,
          0.000998478010776854,
          0.0009610710548003717,
          0.0009427473080203148,
          0.0008846371374349206,
          0.0008925629392016381,
          0.0005517203463403609,
          0.0005144483779934302,
          0.0005338394050494581,
          0.0007210510988325345,
          0.0007372500369473457,
          0.0007854911917587325,
          null,
          null,
          null,
          null,
          null,
          null
         ],
         "yaxis": "y"
        },
        {
         "hovertemplate": "symbol=WISH<br>day=%{x}<br>fraction_of_mentions_MA=%{y}<extra></extra>",
         "legendgroup": "WISH",
         "line": {
          "color": "#EF553B",
          "dash": "solid"
         },
         "mode": "lines",
         "name": "WISH",
         "showlegend": true,
         "type": "scattergl",
         "x": [
          "2021-07-14T00:00:00+00:00",
          "2021-07-13T00:00:00+00:00",
          "2021-07-12T00:00:00+00:00",
          "2021-07-11T00:00:00+00:00",
          "2021-07-10T00:00:00+00:00",
          "2021-07-09T00:00:00+00:00",
          "2021-07-08T00:00:00+00:00",
          "2021-07-07T00:00:00+00:00",
          "2021-07-06T00:00:00+00:00",
          "2021-07-05T00:00:00+00:00",
          "2021-07-04T00:00:00+00:00",
          "2021-07-03T00:00:00+00:00",
          "2021-07-02T00:00:00+00:00",
          "2021-07-01T00:00:00+00:00",
          "2021-06-30T00:00:00+00:00",
          "2021-06-29T00:00:00+00:00",
          "2021-06-28T00:00:00+00:00",
          "2021-06-27T00:00:00+00:00",
          "2021-06-26T00:00:00+00:00",
          "2021-06-25T00:00:00+00:00",
          "2021-06-24T00:00:00+00:00",
          "2021-06-23T00:00:00+00:00",
          "2021-06-22T00:00:00+00:00",
          "2021-06-21T00:00:00+00:00",
          "2021-06-20T00:00:00+00:00",
          "2021-06-19T00:00:00+00:00",
          "2021-06-18T00:00:00+00:00",
          "2021-06-17T00:00:00+00:00",
          "2021-06-16T00:00:00+00:00",
          "2021-06-15T00:00:00+00:00",
          "2021-06-14T00:00:00+00:00",
          "2021-06-13T00:00:00+00:00",
          "2021-06-12T00:00:00+00:00",
          "2021-06-11T00:00:00+00:00",
          "2021-06-10T00:00:00+00:00",
          "2021-06-09T00:00:00+00:00",
          "2021-06-08T00:00:00+00:00",
          "2021-06-07T00:00:00+00:00",
          "2021-06-06T00:00:00+00:00",
          "2021-06-05T00:00:00+00:00",
          "2021-06-04T00:00:00+00:00",
          "2021-06-03T00:00:00+00:00",
          "2021-06-02T00:00:00+00:00",
          "2021-06-01T00:00:00+00:00",
          "2021-05-31T00:00:00+00:00",
          "2021-05-30T00:00:00+00:00",
          "2021-05-29T00:00:00+00:00",
          "2021-05-28T00:00:00+00:00",
          "2021-05-27T00:00:00+00:00",
          "2021-05-26T00:00:00+00:00",
          "2021-05-25T00:00:00+00:00",
          "2021-05-24T00:00:00+00:00",
          "2021-05-23T00:00:00+00:00",
          "2021-05-21T00:00:00+00:00",
          "2021-05-20T00:00:00+00:00",
          "2021-05-19T00:00:00+00:00",
          "2021-05-18T00:00:00+00:00",
          "2021-05-17T00:00:00+00:00",
          "2021-05-16T00:00:00+00:00",
          "2021-05-14T00:00:00+00:00",
          "2021-05-13T00:00:00+00:00",
          "2021-05-12T00:00:00+00:00",
          "2021-05-11T00:00:00+00:00",
          "2021-05-10T00:00:00+00:00",
          "2021-05-09T00:00:00+00:00",
          "2021-05-08T00:00:00+00:00",
          "2021-05-07T00:00:00+00:00",
          "2021-05-06T00:00:00+00:00",
          "2021-05-05T00:00:00+00:00",
          "2021-05-04T00:00:00+00:00",
          "2021-05-03T00:00:00+00:00",
          "2021-05-02T00:00:00+00:00",
          "2021-05-01T00:00:00+00:00",
          "2021-04-30T00:00:00+00:00",
          "2021-04-29T00:00:00+00:00",
          "2021-04-28T00:00:00+00:00",
          "2021-04-27T00:00:00+00:00",
          "2021-04-26T00:00:00+00:00",
          "2021-04-25T00:00:00+00:00",
          "2021-04-23T00:00:00+00:00",
          "2021-04-22T00:00:00+00:00",
          "2021-04-21T00:00:00+00:00",
          "2021-04-20T00:00:00+00:00",
          "2021-04-19T00:00:00+00:00",
          "2021-04-18T00:00:00+00:00",
          "2021-04-17T00:00:00+00:00",
          "2021-04-16T00:00:00+00:00",
          "2021-04-15T00:00:00+00:00",
          "2021-04-14T00:00:00+00:00",
          "2021-04-13T00:00:00+00:00",
          "2021-04-12T00:00:00+00:00",
          "2021-04-11T00:00:00+00:00",
          "2021-04-10T00:00:00+00:00",
          "2021-04-09T00:00:00+00:00",
          "2021-04-08T00:00:00+00:00",
          "2021-04-07T00:00:00+00:00",
          "2021-04-06T00:00:00+00:00",
          "2021-04-05T00:00:00+00:00",
          "2021-04-04T00:00:00+00:00",
          "2021-04-02T00:00:00+00:00",
          "2021-04-01T00:00:00+00:00",
          "2021-03-31T00:00:00+00:00",
          "2021-03-30T00:00:00+00:00",
          "2021-03-29T00:00:00+00:00",
          "2021-03-26T00:00:00+00:00",
          "2021-03-25T00:00:00+00:00",
          "2021-03-24T00:00:00+00:00",
          "2021-03-23T00:00:00+00:00",
          "2021-03-22T00:00:00+00:00",
          "2021-03-21T00:00:00+00:00",
          "2021-03-20T00:00:00+00:00",
          "2021-03-19T00:00:00+00:00",
          "2021-03-18T00:00:00+00:00",
          "2021-03-17T00:00:00+00:00",
          "2021-03-16T00:00:00+00:00",
          "2021-03-15T00:00:00+00:00",
          "2021-03-14T00:00:00+00:00",
          "2021-03-13T00:00:00+00:00",
          "2021-03-12T00:00:00+00:00",
          "2021-03-11T00:00:00+00:00",
          "2021-03-10T00:00:00+00:00",
          "2021-03-09T00:00:00+00:00"
         ],
         "xaxis": "x",
         "y": [
          0.027459877516454265,
          0.028392238935453302,
          0.030600795210974613,
          0.031943622330533036,
          0.03148697221603498,
          0.03396223924958415,
          0.036986641067249706,
          0.04022290070449952,
          0.042944405368389116,
          0.04474032269769856,
          0.04900761874234872,
          0.054123903818438145,
          0.057760169515095175,
          0.05916102997495865,
          0.06382058529480754,
          0.07044711743861111,
          0.08375459235298775,
          0.1030497179445132,
          0.10342785044652436,
          0.10325379253811603,
          0.10326302853261106,
          0.09744707014235979,
          0.09171489484684872,
          0.08156126563300892,
          0.06435738585445752,
          0.06392505228000132,
          0.06394788487273381,
          0.06354088428622243,
          0.06623540861687852,
          0.07430942411059402,
          0.07853048994725846,
          0.06729954817498347,
          0.05913971781244642,
          0.050441335260406416,
          0.042035723560118254,
          0.03169394421451146,
          0.015760996343916683,
          0.0009815528618437263,
          0.0014485470785977404,
          0.0019391750270884992,
          0.0021531630329539564,
          0.0024272237878851114,
          0.0025116402604251245,
          0.002641963463439823,
          0.002897998137409872,
          0.0022771789293176458,
          0.0017868719034978657,
          0.0015093967145995504,
          0.001240123626789893,
          0.001179194156661191,
          0.000947941920325563,
          0.0005646358734609418,
          0.0005781955763778614,
          0.0012294065326907294,
          0.001821917894251324,
          0.0019185793797209998,
          0.0019078014385146018,
          0.0019212965910098447,
          0.002097489072285645,
          0.0021069911187889105,
          0.0014597318113822397,
          0.0008576317084216982,
          0.0007669443766080076,
          0.0007108600915680934,
          0.000634509307943713,
          0.0004545202873249735,
          0.0005150502217408979,
          0.0004883849132195672,
          0.0005493688512822674,
          0.0007599059777072442,
          0.0011113379015094355,
          0.0010991811512634782,
          0.001096087523867799,
          0.0009342637075067941,
          0.0009447996384457178,
          0.0008892908233225239,
          0.0007359395017469034,
          0.00036609712793837427,
          0.0003740483160919015,
          0.0003226732336176628,
          0.00044341178499738697,
          0.00047010258253975403,
          0.00044736964725296735,
          0.00033783631928832304,
          0.0003685356240778684,
          0.0003687158771387456,
          0.0003736826636300297,
          0.00033464942145338555,
          0.00040660068284186754,
          0.00046950889709636187,
          0.0005129535439148904,
          0.000490055866151001,
          0.0004936116576393881,
          0.000668797973300371,
          0.0006148176226775077,
          0.00048472059511565186,
          0.0004531184829369069,
          0.00045766239860257305,
          0.00046443010631944175,
          0.0004929969685418186,
          0.00033867013244918157,
          0.00031499071197584456,
          0.0003546617205627011,
          0.0003549478565762153,
          0.00036920188905764667,
          0.00035614404511220994,
          0.0003488916311636206,
          0.00030771933259764867,
          0.0003206723663362311,
          0.00030229389099081414,
          0.0003082498105576574,
          0.00027517036275407746,
          0.0003141145064015774,
          0.00037391549758683973,
          0.0004650890148153031,
          0.0005030845390059674,
          null,
          null,
          null,
          null,
          null,
          null
         ],
         "yaxis": "y"
        },
        {
         "hovertemplate": "symbol=GME<br>day=%{x}<br>fraction_of_mentions_MA=%{y}<extra></extra>",
         "legendgroup": "GME",
         "line": {
          "color": "#00cc96",
          "dash": "solid"
         },
         "mode": "lines",
         "name": "GME",
         "showlegend": true,
         "type": "scattergl",
         "x": [
          "2021-07-14T00:00:00+00:00",
          "2021-07-13T00:00:00+00:00",
          "2021-07-12T00:00:00+00:00",
          "2021-07-11T00:00:00+00:00",
          "2021-07-10T00:00:00+00:00",
          "2021-07-09T00:00:00+00:00",
          "2021-07-08T00:00:00+00:00",
          "2021-07-07T00:00:00+00:00",
          "2021-07-06T00:00:00+00:00",
          "2021-07-05T00:00:00+00:00",
          "2021-07-04T00:00:00+00:00",
          "2021-07-03T00:00:00+00:00",
          "2021-07-02T00:00:00+00:00",
          "2021-07-01T00:00:00+00:00",
          "2021-06-30T00:00:00+00:00",
          "2021-06-29T00:00:00+00:00",
          "2021-06-28T00:00:00+00:00",
          "2021-06-27T00:00:00+00:00",
          "2021-06-26T00:00:00+00:00",
          "2021-06-25T00:00:00+00:00",
          "2021-06-24T00:00:00+00:00",
          "2021-06-23T00:00:00+00:00",
          "2021-06-22T00:00:00+00:00",
          "2021-06-21T00:00:00+00:00",
          "2021-06-20T00:00:00+00:00",
          "2021-06-19T00:00:00+00:00",
          "2021-06-18T00:00:00+00:00",
          "2021-06-17T00:00:00+00:00",
          "2021-06-16T00:00:00+00:00",
          "2021-06-15T00:00:00+00:00",
          "2021-06-14T00:00:00+00:00",
          "2021-06-13T00:00:00+00:00",
          "2021-06-12T00:00:00+00:00",
          "2021-06-11T00:00:00+00:00",
          "2021-06-10T00:00:00+00:00",
          "2021-06-09T00:00:00+00:00",
          "2021-06-08T00:00:00+00:00",
          "2021-06-07T00:00:00+00:00",
          "2021-06-06T00:00:00+00:00",
          "2021-06-05T00:00:00+00:00",
          "2021-06-04T00:00:00+00:00",
          "2021-06-03T00:00:00+00:00",
          "2021-06-02T00:00:00+00:00",
          "2021-06-01T00:00:00+00:00",
          "2021-05-31T00:00:00+00:00",
          "2021-05-30T00:00:00+00:00",
          "2021-05-29T00:00:00+00:00",
          "2021-05-28T00:00:00+00:00",
          "2021-05-27T00:00:00+00:00",
          "2021-05-26T00:00:00+00:00",
          "2021-05-25T00:00:00+00:00",
          "2021-05-24T00:00:00+00:00",
          "2021-05-23T00:00:00+00:00",
          "2021-05-22T00:00:00+00:00",
          "2021-05-21T00:00:00+00:00",
          "2021-05-20T00:00:00+00:00",
          "2021-05-19T00:00:00+00:00",
          "2021-05-18T00:00:00+00:00",
          "2021-05-17T00:00:00+00:00",
          "2021-05-16T00:00:00+00:00",
          "2021-05-15T00:00:00+00:00",
          "2021-05-14T00:00:00+00:00",
          "2021-05-13T00:00:00+00:00",
          "2021-05-12T00:00:00+00:00",
          "2021-05-11T00:00:00+00:00",
          "2021-05-10T00:00:00+00:00",
          "2021-05-09T00:00:00+00:00",
          "2021-05-08T00:00:00+00:00",
          "2021-05-07T00:00:00+00:00",
          "2021-05-06T00:00:00+00:00",
          "2021-05-05T00:00:00+00:00",
          "2021-05-04T00:00:00+00:00",
          "2021-05-03T00:00:00+00:00",
          "2021-05-02T00:00:00+00:00",
          "2021-05-01T00:00:00+00:00",
          "2021-04-30T00:00:00+00:00",
          "2021-04-29T00:00:00+00:00",
          "2021-04-28T00:00:00+00:00",
          "2021-04-27T00:00:00+00:00",
          "2021-04-26T00:00:00+00:00",
          "2021-04-25T00:00:00+00:00",
          "2021-04-24T00:00:00+00:00",
          "2021-04-23T00:00:00+00:00",
          "2021-04-22T00:00:00+00:00",
          "2021-04-21T00:00:00+00:00",
          "2021-04-20T00:00:00+00:00",
          "2021-04-19T00:00:00+00:00",
          "2021-04-18T00:00:00+00:00",
          "2021-04-17T00:00:00+00:00",
          "2021-04-16T00:00:00+00:00",
          "2021-04-15T00:00:00+00:00",
          "2021-04-14T00:00:00+00:00",
          "2021-04-13T00:00:00+00:00",
          "2021-04-12T00:00:00+00:00",
          "2021-04-11T00:00:00+00:00",
          "2021-04-10T00:00:00+00:00",
          "2021-04-09T00:00:00+00:00",
          "2021-04-08T00:00:00+00:00",
          "2021-04-07T00:00:00+00:00",
          "2021-04-06T00:00:00+00:00",
          "2021-04-05T00:00:00+00:00",
          "2021-04-04T00:00:00+00:00",
          "2021-04-03T00:00:00+00:00",
          "2021-04-02T00:00:00+00:00",
          "2021-04-01T00:00:00+00:00",
          "2021-03-31T00:00:00+00:00",
          "2021-03-30T00:00:00+00:00",
          "2021-03-29T00:00:00+00:00",
          "2021-03-26T00:00:00+00:00",
          "2021-03-25T00:00:00+00:00",
          "2021-03-24T00:00:00+00:00",
          "2021-03-23T00:00:00+00:00",
          "2021-03-22T00:00:00+00:00",
          "2021-03-21T00:00:00+00:00",
          "2021-03-20T00:00:00+00:00",
          "2021-03-19T00:00:00+00:00",
          "2021-03-18T00:00:00+00:00",
          "2021-03-17T00:00:00+00:00",
          "2021-03-16T00:00:00+00:00",
          "2021-03-15T00:00:00+00:00",
          "2021-03-14T00:00:00+00:00",
          "2021-03-13T00:00:00+00:00",
          "2021-03-12T00:00:00+00:00",
          "2021-03-11T00:00:00+00:00",
          "2021-03-10T00:00:00+00:00",
          "2021-03-09T00:00:00+00:00"
         ],
         "xaxis": "x",
         "y": [
          0.051052618327454787,
          0.05526783115093032,
          0.061775340163512625,
          0.07071673047429687,
          0.08897839289782146,
          0.09351556624663018,
          0.09445269844690296,
          0.09468770820326307,
          0.08941387854544998,
          0.08267692289952364,
          0.07274855567425882,
          0.06750573440154643,
          0.06178011909591714,
          0.06141219810138948,
          0.05921991448953144,
          0.06050397058697731,
          0.0653201999173739,
          0.06647809663708196,
          0.062109506054851646,
          0.06882430505367368,
          0.06961812724198031,
          0.06957921526199594,
          0.0694979875237238,
          0.06464899809606063,
          0.061524171914912704,
          0.054887343844664996,
          0.05053852857539914,
          0.051556082361114294,
          0.057851798163858145,
          0.062214104717583714,
          0.06980053459928584,
          0.07777816042353003,
          0.08852629255706165,
          0.09583119148065242,
          0.09823689786265444,
          0.09673560657457236,
          0.09862083890481475,
          0.09855937911971477,
          0.09918281636244654,
          0.09983186068992896,
          0.10305720690753385,
          0.10891970016077855,
          0.12060133282084183,
          0.14441447384633713,
          0.16890413506704977,
          0.17037244315521932,
          0.16934420479347903,
          0.17361126787191253,
          0.17260779864988193,
          0.1609975867123228,
          0.14071630927336976,
          0.12497899825358241,
          0.1310106652049435,
          0.12654879223465448,
          0.12389541942073759,
          0.1253661812830141,
          0.1334315974722239,
          0.13123779703642982,
          0.12227618671180791,
          0.11510479794966308,
          0.1178105068446953,
          0.11443393014047774,
          0.11084063819970222,
          0.11171684133298053,
          0.1120699262521304,
          0.10982208078039908,
          0.10627851333790284,
          0.11107048512374407,
          0.10804789972474656,
          0.10789832787549043,
          0.09997464493157442,
          0.09732787581284268,
          0.10335165570321425,
          0.11754130809498563,
          0.11341703136665629,
          0.11623391678455428,
          0.1211369664339943,
          0.12744633439652867,
          0.13285249542741098,
          0.13358168526843814,
          0.15301513157795466,
          0.1725223696876432,
          0.20529701154282612,
          0.23444912877747243,
          0.24609071883329015,
          0.2634646984162503,
          0.2791223089160512,
          0.27484535391555875,
          0.27534238885570905,
          0.26565440381238264,
          0.2618335788353921,
          0.2683074721481777,
          0.26364829672284457,
          0.2607200927019076,
          0.2589330540043996,
          0.24955953966728034,
          0.2421598609165246,
          0.23150008797895466,
          0.2308128434050485,
          0.23227960903261088,
          0.24357818733547307,
          0.24583379790619267,
          0.2717888557725671,
          0.29609920945369106,
          0.32322480635540235,
          0.3416031997457035,
          0.35436100502992074,
          0.3556441269563683,
          0.3637634596582201,
          0.36369890440479186,
          0.34901588817558915,
          0.3365976213016729,
          0.3402362252105328,
          0.34845719365127925,
          0.3648711590448203,
          0.3669224533818768,
          0.36848612259927827,
          0.37914328908402267,
          0.39334478989646576,
          0.39002398636669744,
          null,
          null,
          null,
          null,
          null,
          null
         ],
         "yaxis": "y"
        },
        {
         "hovertemplate": "symbol=TLRY<br>day=%{x}<br>fraction_of_mentions_MA=%{y}<extra></extra>",
         "legendgroup": "TLRY",
         "line": {
          "color": "#ab63fa",
          "dash": "solid"
         },
         "mode": "lines",
         "name": "TLRY",
         "showlegend": true,
         "type": "scattergl",
         "x": [
          "2021-07-14T00:00:00+00:00",
          "2021-07-13T00:00:00+00:00",
          "2021-07-12T00:00:00+00:00",
          "2021-07-11T00:00:00+00:00",
          "2021-07-10T00:00:00+00:00",
          "2021-07-09T00:00:00+00:00",
          "2021-07-08T00:00:00+00:00",
          "2021-07-07T00:00:00+00:00",
          "2021-07-06T00:00:00+00:00",
          "2021-07-05T00:00:00+00:00",
          "2021-07-04T00:00:00+00:00",
          "2021-07-03T00:00:00+00:00",
          "2021-07-02T00:00:00+00:00",
          "2021-07-01T00:00:00+00:00",
          "2021-06-30T00:00:00+00:00",
          "2021-06-29T00:00:00+00:00",
          "2021-06-28T00:00:00+00:00",
          "2021-06-27T00:00:00+00:00",
          "2021-06-26T00:00:00+00:00",
          "2021-06-25T00:00:00+00:00",
          "2021-06-24T00:00:00+00:00",
          "2021-06-23T00:00:00+00:00",
          "2021-06-22T00:00:00+00:00",
          "2021-06-21T00:00:00+00:00",
          "2021-06-20T00:00:00+00:00",
          "2021-06-19T00:00:00+00:00",
          "2021-06-18T00:00:00+00:00",
          "2021-06-17T00:00:00+00:00",
          "2021-06-16T00:00:00+00:00",
          "2021-06-15T00:00:00+00:00",
          "2021-06-14T00:00:00+00:00",
          "2021-06-13T00:00:00+00:00",
          "2021-06-12T00:00:00+00:00",
          "2021-06-11T00:00:00+00:00",
          "2021-06-10T00:00:00+00:00",
          "2021-06-09T00:00:00+00:00",
          "2021-06-08T00:00:00+00:00",
          "2021-06-07T00:00:00+00:00",
          "2021-06-06T00:00:00+00:00",
          "2021-06-05T00:00:00+00:00",
          "2021-06-04T00:00:00+00:00",
          "2021-06-03T00:00:00+00:00",
          "2021-06-02T00:00:00+00:00",
          "2021-06-01T00:00:00+00:00",
          "2021-05-31T00:00:00+00:00",
          "2021-05-30T00:00:00+00:00",
          "2021-05-29T00:00:00+00:00",
          "2021-05-28T00:00:00+00:00",
          "2021-05-27T00:00:00+00:00",
          "2021-05-26T00:00:00+00:00",
          "2021-05-25T00:00:00+00:00",
          "2021-05-24T00:00:00+00:00",
          "2021-05-23T00:00:00+00:00",
          "2021-05-22T00:00:00+00:00",
          "2021-05-21T00:00:00+00:00",
          "2021-05-20T00:00:00+00:00",
          "2021-05-19T00:00:00+00:00",
          "2021-05-18T00:00:00+00:00",
          "2021-05-17T00:00:00+00:00",
          "2021-05-16T00:00:00+00:00",
          "2021-05-15T00:00:00+00:00",
          "2021-05-14T00:00:00+00:00",
          "2021-05-13T00:00:00+00:00",
          "2021-05-12T00:00:00+00:00",
          "2021-05-11T00:00:00+00:00",
          "2021-05-10T00:00:00+00:00",
          "2021-05-09T00:00:00+00:00",
          "2021-05-08T00:00:00+00:00",
          "2021-05-07T00:00:00+00:00",
          "2021-05-06T00:00:00+00:00",
          "2021-05-05T00:00:00+00:00",
          "2021-05-04T00:00:00+00:00",
          "2021-05-03T00:00:00+00:00",
          "2021-05-02T00:00:00+00:00",
          "2021-05-01T00:00:00+00:00",
          "2021-04-30T00:00:00+00:00",
          "2021-04-29T00:00:00+00:00",
          "2021-04-28T00:00:00+00:00",
          "2021-04-27T00:00:00+00:00",
          "2021-04-26T00:00:00+00:00",
          "2021-04-25T00:00:00+00:00",
          "2021-04-24T00:00:00+00:00",
          "2021-04-23T00:00:00+00:00",
          "2021-04-22T00:00:00+00:00",
          "2021-04-21T00:00:00+00:00",
          "2021-04-20T00:00:00+00:00",
          "2021-04-19T00:00:00+00:00",
          "2021-04-18T00:00:00+00:00",
          "2021-04-17T00:00:00+00:00",
          "2021-04-16T00:00:00+00:00",
          "2021-04-15T00:00:00+00:00",
          "2021-04-14T00:00:00+00:00",
          "2021-04-13T00:00:00+00:00",
          "2021-04-12T00:00:00+00:00",
          "2021-04-11T00:00:00+00:00",
          "2021-04-10T00:00:00+00:00",
          "2021-04-09T00:00:00+00:00",
          "2021-04-08T00:00:00+00:00",
          "2021-04-07T00:00:00+00:00",
          "2021-04-06T00:00:00+00:00",
          "2021-04-05T00:00:00+00:00",
          "2021-04-04T00:00:00+00:00",
          "2021-04-03T00:00:00+00:00",
          "2021-04-02T00:00:00+00:00",
          "2021-04-01T00:00:00+00:00",
          "2021-03-31T00:00:00+00:00",
          "2021-03-30T00:00:00+00:00",
          "2021-03-29T00:00:00+00:00",
          "2021-03-26T00:00:00+00:00",
          "2021-03-25T00:00:00+00:00",
          "2021-03-24T00:00:00+00:00",
          "2021-03-23T00:00:00+00:00",
          "2021-03-22T00:00:00+00:00",
          "2021-03-21T00:00:00+00:00",
          "2021-03-20T00:00:00+00:00",
          "2021-03-19T00:00:00+00:00",
          "2021-03-18T00:00:00+00:00",
          "2021-03-17T00:00:00+00:00",
          "2021-03-16T00:00:00+00:00",
          "2021-03-15T00:00:00+00:00",
          "2021-03-14T00:00:00+00:00",
          "2021-03-13T00:00:00+00:00",
          "2021-03-12T00:00:00+00:00",
          "2021-03-11T00:00:00+00:00",
          "2021-03-10T00:00:00+00:00",
          "2021-03-09T00:00:00+00:00"
         ],
         "xaxis": "x",
         "y": [
          0.013176439010842879,
          0.008711264914551091,
          0.005160351879499143,
          0.0048058681064732925,
          0.004894750732130529,
          0.004809660558354509,
          0.005043302412706724,
          0.0051910626786726855,
          0.0059477557798288585,
          0.0069652242785625115,
          0.008050310136743039,
          0.009243645114706777,
          0.00987454775776452,
          0.010593189543622991,
          0.012293726172692655,
          0.012443173988947643,
          0.012195523230378221,
          0.013760377122514638,
          0.01323691543172788,
          0.013330522155726556,
          0.013462967658647771,
          0.012337331326031802,
          0.01242170030155352,
          0.012529198681709092,
          0.01160124878511512,
          0.013028326186316002,
          0.01342062146831277,
          0.013828783583823593,
          0.014722086135583548,
          0.016997360500137712,
          0.01774372047849027,
          0.01907166168937397,
          0.019106327652462906,
          0.01903751624870986,
          0.020204500395453795,
          0.021967500990042133,
          0.020951677793536957,
          0.020423230643164557,
          0.02038684002436714,
          0.02037831451566589,
          0.021099109101156203,
          0.022446765305553458,
          0.02057797141820977,
          0.01909100970581141,
          0.01856968301211211,
          0.015711497595586953,
          0.01322325838035947,
          0.011757409775666635,
          0.007905843594913977,
          0.006247564312827599,
          0.005029408518770347,
          0.004371738563156359,
          0.004852140537053276,
          0.0049166913272604236,
          0.004661675839062739,
          0.004713778569713689,
          0.004998312234764662,
          0.005350716419490491,
          0.005381593947488729,
          0.006191639962941678,
          0.007894641312312342,
          0.009089946348081617,
          0.014258788127180963,
          0.014773185158931595,
          0.015132995080956299,
          0.015702127711045552,
          0.016450683462460505,
          0.01476988488652099,
          0.013705393815100383,
          0.009221576722228916,
          0.008415039875921319,
          0.008480628492911804,
          0.007670812626904412,
          0.0055038117041710174,
          0.00557855963467424,
          0.005288048916832273,
          0.004326493299668085,
          0.003679244879278336,
          0.00324749660673922,
          0.004852795539432362,
          0.005684030244084938,
          0.005998678373989373,
          0.006173084708438438,
          0.006340627061371203,
          0.007480975012682003,
          0.007457599439880333,
          0.007104712928684663,
          0.007715899050142644,
          0.007805459070961357,
          0.008298171437352122,
          0.00911024508790129,
          0.009416328927413559,
          0.010131863945806535,
          0.00928774055256196,
          0.0083009834786122,
          0.008053477992333915,
          0.007945510676749484,
          0.006882928923067278,
          0.005996388117525169,
          0.006090848146001428,
          0.0054398406589382525,
          0.004790383897502813,
          0.004487381536529003,
          0.004342942392964589,
          0.004436662727418486,
          0.004443837164825409,
          0.0034291800373513386,
          0.003626015935776033,
          0.003796766989486574,
          0.004086167751454148,
          0.003923699588098258,
          0.0038383951768447833,
          0.004042954441216576,
          0.004451450102467107,
          0.004835641222820932,
          0.0050555873005567135,
          0.005644313555346192,
          0.0065251252645003605,
          0.006296195850950388,
          0.005634793400117284,
          null,
          null,
          null,
          null,
          null,
          null
         ],
         "yaxis": "y"
        },
        {
         "hovertemplate": "symbol=CLF<br>day=%{x}<br>fraction_of_mentions_MA=%{y}<extra></extra>",
         "legendgroup": "CLF",
         "line": {
          "color": "#FFA15A",
          "dash": "solid"
         },
         "mode": "lines",
         "name": "CLF",
         "showlegend": true,
         "type": "scattergl",
         "x": [
          "2021-07-14T00:00:00+00:00",
          "2021-07-13T00:00:00+00:00",
          "2021-07-12T00:00:00+00:00",
          "2021-07-11T00:00:00+00:00",
          "2021-07-10T00:00:00+00:00",
          "2021-07-09T00:00:00+00:00",
          "2021-07-08T00:00:00+00:00",
          "2021-07-07T00:00:00+00:00",
          "2021-07-06T00:00:00+00:00",
          "2021-07-05T00:00:00+00:00",
          "2021-07-04T00:00:00+00:00",
          "2021-07-03T00:00:00+00:00",
          "2021-07-02T00:00:00+00:00",
          "2021-07-01T00:00:00+00:00",
          "2021-06-30T00:00:00+00:00",
          "2021-06-29T00:00:00+00:00",
          "2021-06-28T00:00:00+00:00",
          "2021-06-27T00:00:00+00:00",
          "2021-06-26T00:00:00+00:00",
          "2021-06-25T00:00:00+00:00",
          "2021-06-24T00:00:00+00:00",
          "2021-06-23T00:00:00+00:00",
          "2021-06-22T00:00:00+00:00",
          "2021-06-21T00:00:00+00:00",
          "2021-06-20T00:00:00+00:00",
          "2021-06-19T00:00:00+00:00",
          "2021-06-18T00:00:00+00:00",
          "2021-06-17T00:00:00+00:00",
          "2021-06-16T00:00:00+00:00",
          "2021-06-15T00:00:00+00:00",
          "2021-06-14T00:00:00+00:00",
          "2021-06-13T00:00:00+00:00",
          "2021-06-12T00:00:00+00:00",
          "2021-06-11T00:00:00+00:00",
          "2021-06-10T00:00:00+00:00",
          "2021-06-09T00:00:00+00:00",
          "2021-06-08T00:00:00+00:00",
          "2021-06-07T00:00:00+00:00",
          "2021-06-06T00:00:00+00:00",
          "2021-06-05T00:00:00+00:00",
          "2021-06-03T00:00:00+00:00",
          "2021-06-02T00:00:00+00:00",
          "2021-06-01T00:00:00+00:00",
          "2021-05-31T00:00:00+00:00",
          "2021-05-30T00:00:00+00:00",
          "2021-05-28T00:00:00+00:00",
          "2021-05-27T00:00:00+00:00",
          "2021-05-26T00:00:00+00:00",
          "2021-05-25T00:00:00+00:00",
          "2021-05-24T00:00:00+00:00",
          "2021-05-23T00:00:00+00:00",
          "2021-05-22T00:00:00+00:00",
          "2021-05-21T00:00:00+00:00",
          "2021-05-20T00:00:00+00:00",
          "2021-05-19T00:00:00+00:00",
          "2021-05-18T00:00:00+00:00",
          "2021-05-17T00:00:00+00:00",
          "2021-05-16T00:00:00+00:00",
          "2021-05-15T00:00:00+00:00",
          "2021-05-14T00:00:00+00:00",
          "2021-05-13T00:00:00+00:00",
          "2021-05-12T00:00:00+00:00",
          "2021-05-11T00:00:00+00:00",
          "2021-05-10T00:00:00+00:00",
          "2021-05-09T00:00:00+00:00",
          "2021-05-08T00:00:00+00:00",
          "2021-05-07T00:00:00+00:00",
          "2021-05-06T00:00:00+00:00",
          "2021-05-05T00:00:00+00:00",
          "2021-05-04T00:00:00+00:00",
          "2021-05-03T00:00:00+00:00",
          "2021-05-02T00:00:00+00:00",
          "2021-05-01T00:00:00+00:00",
          "2021-04-30T00:00:00+00:00",
          "2021-04-29T00:00:00+00:00",
          "2021-04-28T00:00:00+00:00",
          "2021-04-27T00:00:00+00:00",
          "2021-04-26T00:00:00+00:00",
          "2021-04-25T00:00:00+00:00",
          "2021-04-24T00:00:00+00:00",
          "2021-04-23T00:00:00+00:00",
          "2021-04-22T00:00:00+00:00",
          "2021-04-21T00:00:00+00:00",
          "2021-04-20T00:00:00+00:00",
          "2021-04-19T00:00:00+00:00",
          "2021-04-18T00:00:00+00:00",
          "2021-04-17T00:00:00+00:00",
          "2021-04-16T00:00:00+00:00",
          "2021-04-15T00:00:00+00:00",
          "2021-04-14T00:00:00+00:00",
          "2021-04-13T00:00:00+00:00",
          "2021-04-12T00:00:00+00:00",
          "2021-04-11T00:00:00+00:00",
          "2021-04-10T00:00:00+00:00",
          "2021-04-09T00:00:00+00:00",
          "2021-04-08T00:00:00+00:00",
          "2021-04-07T00:00:00+00:00",
          "2021-04-06T00:00:00+00:00",
          "2021-04-05T00:00:00+00:00",
          "2021-04-04T00:00:00+00:00",
          "2021-04-03T00:00:00+00:00",
          "2021-04-02T00:00:00+00:00",
          "2021-04-01T00:00:00+00:00",
          "2021-03-31T00:00:00+00:00",
          "2021-03-30T00:00:00+00:00",
          "2021-03-29T00:00:00+00:00",
          "2021-03-26T00:00:00+00:00",
          "2021-03-25T00:00:00+00:00",
          "2021-03-24T00:00:00+00:00",
          "2021-03-23T00:00:00+00:00",
          "2021-03-22T00:00:00+00:00",
          "2021-03-21T00:00:00+00:00",
          "2021-03-20T00:00:00+00:00",
          "2021-03-19T00:00:00+00:00",
          "2021-03-18T00:00:00+00:00",
          "2021-03-17T00:00:00+00:00",
          "2021-03-16T00:00:00+00:00",
          "2021-03-15T00:00:00+00:00",
          "2021-03-14T00:00:00+00:00",
          "2021-03-13T00:00:00+00:00",
          "2021-03-12T00:00:00+00:00",
          "2021-03-11T00:00:00+00:00",
          "2021-03-10T00:00:00+00:00",
          "2021-03-09T00:00:00+00:00"
         ],
         "xaxis": "x",
         "y": [
          0.012483683334801746,
          0.013376765125215361,
          0.014443753892423706,
          0.01411242574047598,
          0.015016712705434318,
          0.016864057107683118,
          0.017097314244605748,
          0.018625262548582426,
          0.01782560636474736,
          0.0179233375953858,
          0.01844670151394586,
          0.019005557567444913,
          0.01694316447677707,
          0.015457114965828814,
          0.016546656147695838,
          0.016296504385429737,
          0.015202188563100823,
          0.015648806758551882,
          0.017461393259434018,
          0.017583909971655383,
          0.018075769625485027,
          0.017170895321138517,
          0.018556479287375183,
          0.021266075955032274,
          0.021809940330679508,
          0.02205824729829115,
          0.02471613813651999,
          0.02875461319617325,
          0.034822856064618234,
          0.03951766209428642,
          0.0355573965685179,
          0.03246614108532716,
          0.028030664256226114,
          0.02373985701141107,
          0.016861486305724715,
          0.00772113949627086,
          0.0003564022566357761,
          0.00037492190501760075,
          0.0004112218760661985,
          0.0004599537099604616,
          0.00047658087374969867,
          0.00047308011087299765,
          0.0005862307510231284,
          0.0007311819047778308,
          0.000769021425212797,
          0.0008603757595815359,
          0.001236236064573463,
          0.001631343145598053,
          0.002117289626553988,
          0.0020815685673986387,
          0.0022250838082285397,
          0.002340030623862117,
          0.002611239320165659,
          0.002475393627968842,
          0.002303560213952955,
          0.002262748135836305,
          0.0027850580532723028,
          0.0034117054344295896,
          0.0033682454131862467,
          0.003258535109412079,
          0.003446578715188603,
          0.0035587683832727013,
          0.0036204847589931784,
          0.004083531699849038,
          0.0032631617479014336,
          0.0032621799432409316,
          0.0030362533326331468,
          0.0026676558072746682,
          0.0023156691157678157,
          0.0018892263996054732,
          0.0009193497767578121,
          0.0011773154309867597,
          0.001981525969832128,
          0.0021406724159510715,
          0.002303920238082236,
          0.0025039455199271873,
          0.0026801183882362235,
          0.002595237717213971,
          0.0022910064299613534,
          0.0016386966945801061,
          0.0014602343988647825,
          0.0012525015509292365,
          0.001082144311517982,
          0.0008850306595211676,
          0.0009392976766180276,
          0.0008951082885941281,
          0.000638865687338516,
          0.0006537660468123683,
          0.000759651288792788,
          0.0009123529637178142,
          0.0012466338640433662,
          0.0014006925865792102,
          0.0017200566543786743,
          0.0021960567417335522,
          0.002227032604415063,
          0.0023314534796277375,
          0.002557547948538407,
          0.0033872827981331816,
          0.0036489583854055563,
          0.003519068022194145,
          0.0029647760990735095,
          0.0029108548925235104,
          0.0026619742770219884,
          0.0022189241193284683,
          0.001016184834876469,
          0.0005570575907305156,
          0.00035739254368787765,
          0.0003154151991699626,
          0.000327555396654031,
          0.0003470971026121251,
          0.00042433500669490355,
          0.0004798479802804365,
          0.0005239958909867378,
          0.0005608071427904432,
          0.0007420573675297168,
          0.000791637480415507,
          0.000760616955050763,
          0.0008425820000165432,
          null,
          null,
          null,
          null,
          null,
          null
         ],
         "yaxis": "y"
        },
        {
         "hovertemplate": "symbol=CLNE<br>day=%{x}<br>fraction_of_mentions_MA=%{y}<extra></extra>",
         "legendgroup": "CLNE",
         "line": {
          "color": "#19d3f3",
          "dash": "solid"
         },
         "mode": "lines",
         "name": "CLNE",
         "showlegend": true,
         "type": "scattergl",
         "x": [
          "2021-07-14T00:00:00+00:00",
          "2021-07-13T00:00:00+00:00",
          "2021-07-12T00:00:00+00:00",
          "2021-07-11T00:00:00+00:00",
          "2021-07-10T00:00:00+00:00",
          "2021-07-09T00:00:00+00:00",
          "2021-07-08T00:00:00+00:00",
          "2021-07-07T00:00:00+00:00",
          "2021-07-06T00:00:00+00:00",
          "2021-07-05T00:00:00+00:00",
          "2021-07-04T00:00:00+00:00",
          "2021-07-03T00:00:00+00:00",
          "2021-07-02T00:00:00+00:00",
          "2021-07-01T00:00:00+00:00",
          "2021-06-30T00:00:00+00:00",
          "2021-06-29T00:00:00+00:00",
          "2021-06-28T00:00:00+00:00",
          "2021-06-27T00:00:00+00:00",
          "2021-06-26T00:00:00+00:00",
          "2021-06-25T00:00:00+00:00",
          "2021-06-24T00:00:00+00:00",
          "2021-06-23T00:00:00+00:00",
          "2021-06-22T00:00:00+00:00",
          "2021-06-21T00:00:00+00:00",
          "2021-06-20T00:00:00+00:00",
          "2021-06-19T00:00:00+00:00",
          "2021-06-18T00:00:00+00:00",
          "2021-06-17T00:00:00+00:00",
          "2021-06-16T00:00:00+00:00",
          "2021-06-15T00:00:00+00:00",
          "2021-06-14T00:00:00+00:00",
          "2021-06-13T00:00:00+00:00",
          "2021-06-12T00:00:00+00:00",
          "2021-06-11T00:00:00+00:00",
          "2021-06-10T00:00:00+00:00",
          "2021-06-09T00:00:00+00:00",
          "2021-06-08T00:00:00+00:00",
          "2021-06-07T00:00:00+00:00",
          "2021-06-06T00:00:00+00:00",
          "2021-06-05T00:00:00+00:00",
          "2021-06-04T00:00:00+00:00",
          "2021-06-03T00:00:00+00:00",
          "2021-06-02T00:00:00+00:00",
          "2021-06-01T00:00:00+00:00",
          "2021-05-31T00:00:00+00:00",
          "2021-05-30T00:00:00+00:00",
          "2021-05-28T00:00:00+00:00",
          "2021-05-27T00:00:00+00:00",
          "2021-05-26T00:00:00+00:00",
          "2021-05-25T00:00:00+00:00",
          "2021-05-24T00:00:00+00:00",
          "2021-05-23T00:00:00+00:00",
          "2021-05-22T00:00:00+00:00",
          "2021-05-21T00:00:00+00:00",
          "2021-05-20T00:00:00+00:00",
          "2021-05-19T00:00:00+00:00",
          "2021-05-18T00:00:00+00:00",
          "2021-05-17T00:00:00+00:00",
          "2021-05-16T00:00:00+00:00",
          "2021-05-15T00:00:00+00:00",
          "2021-05-14T00:00:00+00:00",
          "2021-05-13T00:00:00+00:00",
          "2021-05-12T00:00:00+00:00",
          "2021-05-11T00:00:00+00:00",
          "2021-05-10T00:00:00+00:00",
          "2021-05-09T00:00:00+00:00",
          "2021-05-08T00:00:00+00:00",
          "2021-05-07T00:00:00+00:00",
          "2021-05-06T00:00:00+00:00",
          "2021-05-05T00:00:00+00:00",
          "2021-05-04T00:00:00+00:00",
          "2021-05-03T00:00:00+00:00",
          "2021-05-02T00:00:00+00:00",
          "2021-05-01T00:00:00+00:00",
          "2021-04-30T00:00:00+00:00",
          "2021-04-29T00:00:00+00:00",
          "2021-04-28T00:00:00+00:00",
          "2021-04-27T00:00:00+00:00",
          "2021-04-26T00:00:00+00:00",
          "2021-04-25T00:00:00+00:00",
          "2021-04-24T00:00:00+00:00",
          "2021-04-23T00:00:00+00:00",
          "2021-04-22T00:00:00+00:00",
          "2021-04-21T00:00:00+00:00",
          "2021-04-20T00:00:00+00:00",
          "2021-04-19T00:00:00+00:00",
          "2021-04-17T00:00:00+00:00",
          "2021-04-16T00:00:00+00:00",
          "2021-04-15T00:00:00+00:00",
          "2021-04-14T00:00:00+00:00",
          "2021-04-13T00:00:00+00:00",
          "2021-04-12T00:00:00+00:00",
          "2021-04-10T00:00:00+00:00",
          "2021-04-09T00:00:00+00:00",
          "2021-04-08T00:00:00+00:00",
          "2021-04-06T00:00:00+00:00",
          "2021-04-05T00:00:00+00:00",
          "2021-04-02T00:00:00+00:00",
          "2021-04-01T00:00:00+00:00",
          "2021-03-31T00:00:00+00:00",
          "2021-03-30T00:00:00+00:00",
          "2021-03-29T00:00:00+00:00",
          "2021-03-26T00:00:00+00:00",
          "2021-03-25T00:00:00+00:00",
          "2021-03-24T00:00:00+00:00",
          "2021-03-23T00:00:00+00:00",
          "2021-03-22T00:00:00+00:00",
          "2021-03-21T00:00:00+00:00",
          "2021-03-20T00:00:00+00:00",
          "2021-03-19T00:00:00+00:00",
          "2021-03-18T00:00:00+00:00",
          "2021-03-17T00:00:00+00:00",
          "2021-03-16T00:00:00+00:00",
          "2021-03-15T00:00:00+00:00",
          "2021-03-14T00:00:00+00:00",
          "2021-03-13T00:00:00+00:00",
          "2021-03-12T00:00:00+00:00",
          "2021-03-11T00:00:00+00:00",
          "2021-03-10T00:00:00+00:00",
          "2021-03-09T00:00:00+00:00"
         ],
         "xaxis": "x",
         "y": [
          0.015255815005972255,
          0.015682067564685907,
          0.017564467876643567,
          0.016782746043224474,
          0.01858546464102901,
          0.018978394535219538,
          0.021009367168749626,
          0.022870079371387634,
          0.02374798485102611,
          0.02311111712687604,
          0.025278074930226102,
          0.026381196986135107,
          0.027099644791466822,
          0.02648279649866194,
          0.026504710021557795,
          0.027161479153250245,
          0.029507335451031607,
          0.034755971416591314,
          0.03645177300438123,
          0.03844732116518447,
          0.059716905937786856,
          0.06864382228161274,
          0.0734934224168879,
          0.0810860261692025,
          0.08820263713175724,
          0.09802620556130946,
          0.10325994151071798,
          0.0875024519545711,
          0.08491535319905393,
          0.08889463722669719,
          0.08431293676093525,
          0.07938874084037971,
          0.07407126647858105,
          0.06954866357522209,
          0.06801123104909786,
          0.061937459578914486,
          0.048529419192602674,
          0.0392179031982838,
          0.02823411051504316,
          0.01876117838837238,
          0.013385159919340167,
          0.005986334029543649,
          0.0014091246072397783,
          0.0010161401521498038,
          0.0011491070841253613,
          0.0011244817410460543,
          0.001143227616529333,
          0.0015647091933177234,
          0.0022600820063403866,
          0.002297300598186715,
          0.0025579106760093514,
          0.0026762875470848053,
          0.0026801479374795466,
          0.003069225563533206,
          0.0029401815332374542,
          0.002616338102329296,
          0.0027656463064810767,
          0.002980029214042778,
          0.0030993899861996737,
          0.003088931042910584,
          0.0034240980108494394,
          0.004146645060161802,
          0.004288075846580746,
          0.004391366991729378,
          0.004011143666300884,
          0.004013207526004313,
          0.0043235853058216376,
          0.004259386118382816,
          0.0037685166345805513,
          0.0035687352391287367,
          0.0034933433413069323,
          0.003623518883381141,
          0.0036221570929574867,
          0.003967553225905564,
          0.0034443667974977566,
          0.003002934359653218,
          0.002731908508389544,
          0.0027357993700178815,
          0.00307252874115393,
          0.003552616858438873,
          0.002896036191133826,
          0.0026405961893107796,
          0.002570099108168583,
          0.0025846408791440627,
          0.0023350777453204526,
          0.0016538324712847914,
          0.0007645536238781715,
          0.0007390466968487822,
          0.0007085318782202179,
          0.0007712334671998404,
          0.0008378509031875381,
          0.0007569208048356266,
          0.0007465552621500219,
          0.0008089846757909006,
          0.0007199644076938346,
          0.0007286224149718354,
          0.0005830228404156187,
          0.0004510840962786739,
          0.0004571238185295812,
          0.0005107358855484268,
          0.0005050881546105056,
          0.0004899174432786138,
          0.000454782662326288,
          0.0005384855302888525,
          0.0005578781417215103,
          0.0005023353429184251,
          0.00040376072824145165,
          0.00039892002930601176,
          0.0005451179558624011,
          0.0006024310938396344,
          0.000554742646306332,
          0.0005809928282205803,
          0.0005930846421873187,
          0.0005947870047354998,
          null,
          null,
          null,
          null,
          null,
          null
         ],
         "yaxis": "y"
        },
        {
         "hovertemplate": "symbol=BB<br>day=%{x}<br>fraction_of_mentions_MA=%{y}<extra></extra>",
         "legendgroup": "BB",
         "line": {
          "color": "#FF6692",
          "dash": "solid"
         },
         "mode": "lines",
         "name": "BB",
         "showlegend": true,
         "type": "scattergl",
         "x": [
          "2021-07-14T00:00:00+00:00",
          "2021-07-13T00:00:00+00:00",
          "2021-07-12T00:00:00+00:00",
          "2021-07-11T00:00:00+00:00",
          "2021-07-10T00:00:00+00:00",
          "2021-07-09T00:00:00+00:00",
          "2021-07-08T00:00:00+00:00",
          "2021-07-07T00:00:00+00:00",
          "2021-07-06T00:00:00+00:00",
          "2021-07-05T00:00:00+00:00",
          "2021-07-04T00:00:00+00:00",
          "2021-07-03T00:00:00+00:00",
          "2021-07-02T00:00:00+00:00",
          "2021-07-01T00:00:00+00:00",
          "2021-06-30T00:00:00+00:00",
          "2021-06-29T00:00:00+00:00",
          "2021-06-28T00:00:00+00:00",
          "2021-06-27T00:00:00+00:00",
          "2021-06-26T00:00:00+00:00",
          "2021-06-25T00:00:00+00:00",
          "2021-06-24T00:00:00+00:00",
          "2021-06-23T00:00:00+00:00",
          "2021-06-22T00:00:00+00:00",
          "2021-06-21T00:00:00+00:00",
          "2021-06-20T00:00:00+00:00",
          "2021-06-19T00:00:00+00:00",
          "2021-06-18T00:00:00+00:00",
          "2021-06-17T00:00:00+00:00",
          "2021-06-16T00:00:00+00:00",
          "2021-06-15T00:00:00+00:00",
          "2021-06-14T00:00:00+00:00",
          "2021-06-13T00:00:00+00:00",
          "2021-06-12T00:00:00+00:00",
          "2021-06-11T00:00:00+00:00",
          "2021-06-10T00:00:00+00:00",
          "2021-06-09T00:00:00+00:00",
          "2021-06-08T00:00:00+00:00",
          "2021-06-07T00:00:00+00:00",
          "2021-06-06T00:00:00+00:00",
          "2021-06-05T00:00:00+00:00",
          "2021-06-04T00:00:00+00:00",
          "2021-06-03T00:00:00+00:00",
          "2021-06-02T00:00:00+00:00",
          "2021-06-01T00:00:00+00:00",
          "2021-05-31T00:00:00+00:00",
          "2021-05-30T00:00:00+00:00",
          "2021-05-29T00:00:00+00:00",
          "2021-05-28T00:00:00+00:00",
          "2021-05-27T00:00:00+00:00",
          "2021-05-26T00:00:00+00:00",
          "2021-05-25T00:00:00+00:00",
          "2021-05-24T00:00:00+00:00",
          "2021-05-23T00:00:00+00:00",
          "2021-05-22T00:00:00+00:00",
          "2021-05-21T00:00:00+00:00",
          "2021-05-20T00:00:00+00:00",
          "2021-05-19T00:00:00+00:00",
          "2021-05-18T00:00:00+00:00",
          "2021-05-17T00:00:00+00:00",
          "2021-05-16T00:00:00+00:00",
          "2021-05-15T00:00:00+00:00",
          "2021-05-14T00:00:00+00:00",
          "2021-05-13T00:00:00+00:00",
          "2021-05-12T00:00:00+00:00",
          "2021-05-11T00:00:00+00:00",
          "2021-05-10T00:00:00+00:00",
          "2021-05-09T00:00:00+00:00",
          "2021-05-08T00:00:00+00:00",
          "2021-05-07T00:00:00+00:00",
          "2021-05-06T00:00:00+00:00",
          "2021-05-05T00:00:00+00:00",
          "2021-05-04T00:00:00+00:00",
          "2021-05-03T00:00:00+00:00",
          "2021-05-02T00:00:00+00:00",
          "2021-05-01T00:00:00+00:00",
          "2021-04-30T00:00:00+00:00",
          "2021-04-29T00:00:00+00:00",
          "2021-04-28T00:00:00+00:00",
          "2021-04-27T00:00:00+00:00",
          "2021-04-26T00:00:00+00:00",
          "2021-04-25T00:00:00+00:00",
          "2021-04-24T00:00:00+00:00",
          "2021-04-23T00:00:00+00:00",
          "2021-04-22T00:00:00+00:00",
          "2021-04-21T00:00:00+00:00",
          "2021-04-20T00:00:00+00:00",
          "2021-04-19T00:00:00+00:00",
          "2021-04-18T00:00:00+00:00",
          "2021-04-17T00:00:00+00:00",
          "2021-04-16T00:00:00+00:00",
          "2021-04-15T00:00:00+00:00",
          "2021-04-14T00:00:00+00:00",
          "2021-04-13T00:00:00+00:00",
          "2021-04-12T00:00:00+00:00",
          "2021-04-11T00:00:00+00:00",
          "2021-04-10T00:00:00+00:00",
          "2021-04-09T00:00:00+00:00",
          "2021-04-08T00:00:00+00:00",
          "2021-04-07T00:00:00+00:00",
          "2021-04-06T00:00:00+00:00",
          "2021-04-05T00:00:00+00:00",
          "2021-04-04T00:00:00+00:00",
          "2021-04-03T00:00:00+00:00",
          "2021-04-02T00:00:00+00:00",
          "2021-04-01T00:00:00+00:00",
          "2021-03-31T00:00:00+00:00",
          "2021-03-30T00:00:00+00:00",
          "2021-03-29T00:00:00+00:00",
          "2021-03-26T00:00:00+00:00",
          "2021-03-25T00:00:00+00:00",
          "2021-03-24T00:00:00+00:00",
          "2021-03-23T00:00:00+00:00",
          "2021-03-22T00:00:00+00:00",
          "2021-03-21T00:00:00+00:00",
          "2021-03-20T00:00:00+00:00",
          "2021-03-19T00:00:00+00:00",
          "2021-03-18T00:00:00+00:00",
          "2021-03-17T00:00:00+00:00",
          "2021-03-16T00:00:00+00:00",
          "2021-03-15T00:00:00+00:00",
          "2021-03-14T00:00:00+00:00",
          "2021-03-13T00:00:00+00:00",
          "2021-03-12T00:00:00+00:00",
          "2021-03-11T00:00:00+00:00",
          "2021-03-10T00:00:00+00:00",
          "2021-03-09T00:00:00+00:00"
         ],
         "xaxis": "x",
         "y": [
          0.019503226006478747,
          0.019461667209337015,
          0.019219538358285115,
          0.02060480916219623,
          0.02258002979143917,
          0.02669205835112958,
          0.027084618097549105,
          0.028276992676776184,
          0.02820531744174581,
          0.02990218148432288,
          0.03284063203903935,
          0.033931326432780025,
          0.0353652653730553,
          0.04076275159506796,
          0.04369155721099694,
          0.04657403361656808,
          0.0516065135802769,
          0.054277648567031565,
          0.05716512784045894,
          0.06020802484667097,
          0.06317854171492356,
          0.0690718855308796,
          0.0708332895397136,
          0.06678243247320205,
          0.06434711269991908,
          0.06407820207469579,
          0.06401017234429947,
          0.06524262062145157,
          0.06453876560454727,
          0.06785065473772948,
          0.07749424109031368,
          0.10181768981265622,
          0.12519885694113736,
          0.147794325398356,
          0.17940171040529032,
          0.21563341966234775,
          0.2441037506890822,
          0.2628007893541068,
          0.2554677011062993,
          0.2418244565462341,
          0.22248077521107984,
          0.19579586544821634,
          0.1580882416822257,
          0.12610116600152896,
          0.0930738654278688,
          0.06900873944517728,
          0.052487915908619995,
          0.04053499064721285,
          0.024002944703926228,
          0.014370054016861407,
          0.00811589061447655,
          0.008188727933601236,
          0.008374363960039892,
          0.00911186728567129,
          0.009411276398812243,
          0.010809503038013698,
          0.01163124974381651,
          0.011698096508499732,
          0.010742347849380074,
          0.010622052761953065,
          0.01044379532937864,
          0.01024341151577419,
          0.009697494542423588,
          0.00893219914140891,
          0.008495430246088167,
          0.008524575838029963,
          0.00858742510100161,
          0.008496818556618163,
          0.008378115673235051,
          0.007636444809194775,
          0.00794475928051897,
          0.008190424829922837,
          0.00893551442095982,
          0.009766126324199976,
          0.010811595605231246,
          0.010584730109022247,
          0.011127820197945722,
          0.01183363750429213,
          0.014005215368972415,
          0.015466883951761662,
          0.015972548204973357,
          0.017231140724591098,
          0.018805609892067237,
          0.018620667418945032,
          0.018413704017409833,
          0.016243635973570585,
          0.014720435616561148,
          0.014356207231267144,
          0.012694505763914527,
          0.01086172581635379,
          0.011878607895137684,
          0.013473224056352916,
          0.016623519762932103,
          0.017390504965633158,
          0.01812686494673253,
          0.019575583993847602,
          0.0211019337375987,
          0.02162078302530464,
          0.02124858458361445,
          0.02358477009393614,
          0.027311342342592852,
          0.027584523808087142,
          0.025578974455684793,
          0.02449906735712063,
          0.02264803017085547,
          0.020836566347876395,
          0.015465756748608698,
          0.010331297272212584,
          0.008778740194320785,
          0.008578431885481403,
          0.008231165873807084,
          0.008321512289419833,
          0.009283329695741438,
          0.010740188604766015,
          0.011654768772030057,
          0.013983184109836639,
          0.01785269213781142,
          0.018011525048487825,
          0.018976855730575514,
          0.019221758135206404,
          null,
          null,
          null,
          null,
          null,
          null
         ],
         "yaxis": "y"
        },
        {
         "hovertemplate": "symbol=UWMC<br>day=%{x}<br>fraction_of_mentions_MA=%{y}<extra></extra>",
         "legendgroup": "UWMC",
         "line": {
          "color": "#B6E880",
          "dash": "solid"
         },
         "mode": "lines",
         "name": "UWMC",
         "showlegend": true,
         "type": "scattergl",
         "x": [
          "2021-07-14T00:00:00+00:00",
          "2021-07-13T00:00:00+00:00",
          "2021-07-12T00:00:00+00:00",
          "2021-07-11T00:00:00+00:00",
          "2021-07-10T00:00:00+00:00",
          "2021-07-09T00:00:00+00:00",
          "2021-07-08T00:00:00+00:00",
          "2021-07-07T00:00:00+00:00",
          "2021-07-06T00:00:00+00:00",
          "2021-07-05T00:00:00+00:00",
          "2021-07-04T00:00:00+00:00",
          "2021-07-03T00:00:00+00:00",
          "2021-07-02T00:00:00+00:00",
          "2021-07-01T00:00:00+00:00",
          "2021-06-30T00:00:00+00:00",
          "2021-06-29T00:00:00+00:00",
          "2021-06-28T00:00:00+00:00",
          "2021-06-27T00:00:00+00:00",
          "2021-06-26T00:00:00+00:00",
          "2021-06-25T00:00:00+00:00",
          "2021-06-24T00:00:00+00:00",
          "2021-06-23T00:00:00+00:00",
          "2021-06-22T00:00:00+00:00",
          "2021-06-21T00:00:00+00:00",
          "2021-06-20T00:00:00+00:00",
          "2021-06-19T00:00:00+00:00",
          "2021-06-18T00:00:00+00:00",
          "2021-06-17T00:00:00+00:00",
          "2021-06-16T00:00:00+00:00",
          "2021-06-15T00:00:00+00:00",
          "2021-06-14T00:00:00+00:00",
          "2021-06-13T00:00:00+00:00",
          "2021-06-12T00:00:00+00:00",
          "2021-06-11T00:00:00+00:00",
          "2021-06-10T00:00:00+00:00",
          "2021-06-09T00:00:00+00:00",
          "2021-06-08T00:00:00+00:00",
          "2021-06-07T00:00:00+00:00",
          "2021-06-06T00:00:00+00:00",
          "2021-06-05T00:00:00+00:00",
          "2021-06-04T00:00:00+00:00",
          "2021-06-03T00:00:00+00:00",
          "2021-06-02T00:00:00+00:00",
          "2021-06-01T00:00:00+00:00",
          "2021-05-31T00:00:00+00:00",
          "2021-05-30T00:00:00+00:00",
          "2021-05-29T00:00:00+00:00",
          "2021-05-28T00:00:00+00:00",
          "2021-05-27T00:00:00+00:00",
          "2021-05-26T00:00:00+00:00",
          "2021-05-25T00:00:00+00:00",
          "2021-05-24T00:00:00+00:00",
          "2021-05-23T00:00:00+00:00",
          "2021-05-22T00:00:00+00:00",
          "2021-05-21T00:00:00+00:00",
          "2021-05-20T00:00:00+00:00",
          "2021-05-19T00:00:00+00:00",
          "2021-05-18T00:00:00+00:00",
          "2021-05-17T00:00:00+00:00",
          "2021-05-16T00:00:00+00:00",
          "2021-05-15T00:00:00+00:00",
          "2021-05-14T00:00:00+00:00",
          "2021-05-13T00:00:00+00:00",
          "2021-05-12T00:00:00+00:00",
          "2021-05-11T00:00:00+00:00",
          "2021-05-10T00:00:00+00:00",
          "2021-05-09T00:00:00+00:00",
          "2021-05-08T00:00:00+00:00",
          "2021-05-07T00:00:00+00:00",
          "2021-05-06T00:00:00+00:00",
          "2021-05-05T00:00:00+00:00",
          "2021-05-04T00:00:00+00:00",
          "2021-05-03T00:00:00+00:00",
          "2021-05-02T00:00:00+00:00",
          "2021-05-01T00:00:00+00:00",
          "2021-04-30T00:00:00+00:00",
          "2021-04-29T00:00:00+00:00",
          "2021-04-28T00:00:00+00:00",
          "2021-04-27T00:00:00+00:00",
          "2021-04-26T00:00:00+00:00",
          "2021-04-25T00:00:00+00:00",
          "2021-04-24T00:00:00+00:00",
          "2021-04-23T00:00:00+00:00",
          "2021-04-22T00:00:00+00:00",
          "2021-04-21T00:00:00+00:00",
          "2021-04-20T00:00:00+00:00",
          "2021-04-19T00:00:00+00:00",
          "2021-04-18T00:00:00+00:00",
          "2021-04-17T00:00:00+00:00",
          "2021-04-16T00:00:00+00:00",
          "2021-04-15T00:00:00+00:00",
          "2021-04-14T00:00:00+00:00",
          "2021-04-13T00:00:00+00:00",
          "2021-04-12T00:00:00+00:00",
          "2021-04-11T00:00:00+00:00",
          "2021-04-10T00:00:00+00:00",
          "2021-04-09T00:00:00+00:00",
          "2021-04-08T00:00:00+00:00",
          "2021-04-07T00:00:00+00:00",
          "2021-04-06T00:00:00+00:00",
          "2021-04-05T00:00:00+00:00",
          "2021-04-04T00:00:00+00:00",
          "2021-04-03T00:00:00+00:00",
          "2021-04-02T00:00:00+00:00",
          "2021-04-01T00:00:00+00:00",
          "2021-03-31T00:00:00+00:00",
          "2021-03-30T00:00:00+00:00",
          "2021-03-29T00:00:00+00:00",
          "2021-03-26T00:00:00+00:00",
          "2021-03-25T00:00:00+00:00",
          "2021-03-24T00:00:00+00:00",
          "2021-03-23T00:00:00+00:00",
          "2021-03-22T00:00:00+00:00",
          "2021-03-21T00:00:00+00:00",
          "2021-03-20T00:00:00+00:00",
          "2021-03-19T00:00:00+00:00",
          "2021-03-18T00:00:00+00:00",
          "2021-03-17T00:00:00+00:00",
          "2021-03-16T00:00:00+00:00",
          "2021-03-15T00:00:00+00:00",
          "2021-03-14T00:00:00+00:00",
          "2021-03-13T00:00:00+00:00",
          "2021-03-12T00:00:00+00:00",
          "2021-03-11T00:00:00+00:00",
          "2021-03-10T00:00:00+00:00",
          "2021-03-09T00:00:00+00:00"
         ],
         "xaxis": "x",
         "y": [
          0.004848635608499741,
          0.005418491799155489,
          0.005645514506592871,
          0.0057333356941463845,
          0.006322158417782406,
          0.007231636169954062,
          0.008059518484773976,
          0.008605375496306873,
          0.00873234888917685,
          0.009152530610328375,
          0.00974458500620552,
          0.009645443118663277,
          0.008216909341441325,
          0.009111367952938296,
          0.010034391653549033,
          0.011221577535502427,
          0.01172256482468517,
          0.01293663491226799,
          0.014280448754933625,
          0.014754991147136255,
          0.017125191229109004,
          0.018652134616743355,
          0.019943668417246502,
          0.021623242933936238,
          0.022945448719695023,
          0.027628728741898537,
          0.0322349143395386,
          0.03320650240596355,
          0.033209642544007,
          0.032620073267089676,
          0.029983642203161427,
          0.026885429998112418,
          0.020579980049874963,
          0.014759344082160909,
          0.009649567649399584,
          0.0063607160240733585,
          0.0036753168268045663,
          0.0032452739811368128,
          0.0030635504655502077,
          0.003250280122902885,
          0.004246390406073202,
          0.005005274114065102,
          0.0072242656293486,
          0.007552705521013845,
          0.008133121456707988,
          0.008842733905385562,
          0.01006988028609311,
          0.010177017464586931,
          0.01282250340962594,
          0.014578665927971057,
          0.020528209004102238,
          0.02781141614194177,
          0.03953108625561584,
          0.04607596681682463,
          0.05070105549391664,
          0.04984144545894972,
          0.04777105963293398,
          0.04740789350924184,
          0.0409131307890369,
          0.030643084102633777,
          0.023550508822985317,
          0.021113931858752998,
          0.019757110618352107,
          0.01866749356828115,
          0.01315610876192427,
          0.01187987368783178,
          0.01036465343201774,
          0.009565630197597699,
          0.0065615566897191885,
          0.005666888838588878,
          0.005040616370626063,
          0.0046251439925368626,
          0.0045415344565746035,
          0.0038159523913600876,
          0.003795843813288172,
          0.003806596049051978,
          0.003723035862635823,
          0.0042518081029391825,
          0.004455651383190965,
          0.00479616524284393,
          0.004899908685299165,
          0.005083854327983376,
          0.005202920851935202,
          0.005032513153123414,
          0.004872665457444691,
          0.00441950330482581,
          0.004109618282460492,
          0.004145894363714511,
          0.003676386641003872,
          0.0033128107233864946,
          0.003366094552288116,
          0.0029171766511427244,
          0.0032446282672485816,
          0.003756321755252984,
          0.0038121827845925098,
          0.0040697396814560775,
          0.00466269670985027,
          0.0051864562780682185,
          0.0059632925234603534,
          0.006185047666059988,
          0.005848643324696788,
          0.006012389748313503,
          0.006618724376473738,
          0.0065827632035368264,
          0.00665352157874624,
          0.0064425885097251475,
          0.008264417098715395,
          0.009844546372985359,
          0.01338828810873946,
          0.016425234897380476,
          0.022215351711003563,
          0.026328009493804035,
          0.027009429514759795,
          0.025201675216664107,
          0.024622897754102535,
          0.021675002952275146,
          0.018837885830685002,
          0.013140961239204984,
          0.009142480897250218,
          0.009107346550025234,
          null,
          null,
          null,
          null,
          null,
          null
         ],
         "yaxis": "y"
        },
        {
         "hovertemplate": "symbol=AMC<br>day=%{x}<br>fraction_of_mentions_MA=%{y}<extra></extra>",
         "legendgroup": "AMC",
         "line": {
          "color": "#FF97FF",
          "dash": "solid"
         },
         "mode": "lines",
         "name": "AMC",
         "showlegend": true,
         "type": "scattergl",
         "x": [
          "2021-07-14T00:00:00+00:00",
          "2021-07-13T00:00:00+00:00",
          "2021-07-12T00:00:00+00:00",
          "2021-07-11T00:00:00+00:00",
          "2021-07-10T00:00:00+00:00",
          "2021-07-09T00:00:00+00:00",
          "2021-07-08T00:00:00+00:00",
          "2021-07-07T00:00:00+00:00",
          "2021-07-06T00:00:00+00:00",
          "2021-07-05T00:00:00+00:00",
          "2021-07-04T00:00:00+00:00",
          "2021-07-03T00:00:00+00:00",
          "2021-07-02T00:00:00+00:00",
          "2021-07-01T00:00:00+00:00",
          "2021-06-30T00:00:00+00:00",
          "2021-06-29T00:00:00+00:00",
          "2021-06-28T00:00:00+00:00",
          "2021-06-27T00:00:00+00:00",
          "2021-06-26T00:00:00+00:00",
          "2021-06-25T00:00:00+00:00",
          "2021-06-24T00:00:00+00:00",
          "2021-06-23T00:00:00+00:00",
          "2021-06-22T00:00:00+00:00",
          "2021-06-21T00:00:00+00:00",
          "2021-06-20T00:00:00+00:00",
          "2021-06-19T00:00:00+00:00",
          "2021-06-18T00:00:00+00:00",
          "2021-06-17T00:00:00+00:00",
          "2021-06-16T00:00:00+00:00",
          "2021-06-15T00:00:00+00:00",
          "2021-06-14T00:00:00+00:00",
          "2021-06-13T00:00:00+00:00",
          "2021-06-12T00:00:00+00:00",
          "2021-06-11T00:00:00+00:00",
          "2021-06-10T00:00:00+00:00",
          "2021-06-09T00:00:00+00:00",
          "2021-06-08T00:00:00+00:00",
          "2021-06-07T00:00:00+00:00",
          "2021-06-06T00:00:00+00:00",
          "2021-06-05T00:00:00+00:00",
          "2021-06-04T00:00:00+00:00",
          "2021-06-03T00:00:00+00:00",
          "2021-06-02T00:00:00+00:00",
          "2021-06-01T00:00:00+00:00",
          "2021-05-31T00:00:00+00:00",
          "2021-05-30T00:00:00+00:00",
          "2021-05-29T00:00:00+00:00",
          "2021-05-28T00:00:00+00:00",
          "2021-05-27T00:00:00+00:00",
          "2021-05-26T00:00:00+00:00",
          "2021-05-25T00:00:00+00:00",
          "2021-05-24T00:00:00+00:00",
          "2021-05-23T00:00:00+00:00",
          "2021-05-22T00:00:00+00:00",
          "2021-05-21T00:00:00+00:00",
          "2021-05-20T00:00:00+00:00",
          "2021-05-19T00:00:00+00:00",
          "2021-05-18T00:00:00+00:00",
          "2021-05-17T00:00:00+00:00",
          "2021-05-16T00:00:00+00:00",
          "2021-05-15T00:00:00+00:00",
          "2021-05-14T00:00:00+00:00",
          "2021-05-13T00:00:00+00:00",
          "2021-05-12T00:00:00+00:00",
          "2021-05-11T00:00:00+00:00",
          "2021-05-10T00:00:00+00:00",
          "2021-05-09T00:00:00+00:00",
          "2021-05-08T00:00:00+00:00",
          "2021-05-07T00:00:00+00:00",
          "2021-05-06T00:00:00+00:00",
          "2021-05-05T00:00:00+00:00",
          "2021-05-04T00:00:00+00:00",
          "2021-05-03T00:00:00+00:00",
          "2021-05-02T00:00:00+00:00",
          "2021-05-01T00:00:00+00:00",
          "2021-04-30T00:00:00+00:00",
          "2021-04-29T00:00:00+00:00",
          "2021-04-28T00:00:00+00:00",
          "2021-04-27T00:00:00+00:00",
          "2021-04-26T00:00:00+00:00",
          "2021-04-25T00:00:00+00:00",
          "2021-04-24T00:00:00+00:00",
          "2021-04-23T00:00:00+00:00",
          "2021-04-22T00:00:00+00:00",
          "2021-04-21T00:00:00+00:00",
          "2021-04-20T00:00:00+00:00",
          "2021-04-19T00:00:00+00:00",
          "2021-04-18T00:00:00+00:00",
          "2021-04-17T00:00:00+00:00",
          "2021-04-16T00:00:00+00:00",
          "2021-04-15T00:00:00+00:00",
          "2021-04-14T00:00:00+00:00",
          "2021-04-13T00:00:00+00:00",
          "2021-04-12T00:00:00+00:00",
          "2021-04-11T00:00:00+00:00",
          "2021-04-10T00:00:00+00:00",
          "2021-04-09T00:00:00+00:00",
          "2021-04-08T00:00:00+00:00",
          "2021-04-07T00:00:00+00:00",
          "2021-04-06T00:00:00+00:00",
          "2021-04-05T00:00:00+00:00",
          "2021-04-04T00:00:00+00:00",
          "2021-04-03T00:00:00+00:00",
          "2021-04-02T00:00:00+00:00",
          "2021-04-01T00:00:00+00:00",
          "2021-03-31T00:00:00+00:00",
          "2021-03-30T00:00:00+00:00",
          "2021-03-29T00:00:00+00:00",
          "2021-03-26T00:00:00+00:00",
          "2021-03-25T00:00:00+00:00",
          "2021-03-24T00:00:00+00:00",
          "2021-03-23T00:00:00+00:00",
          "2021-03-22T00:00:00+00:00",
          "2021-03-21T00:00:00+00:00",
          "2021-03-20T00:00:00+00:00",
          "2021-03-19T00:00:00+00:00",
          "2021-03-18T00:00:00+00:00",
          "2021-03-17T00:00:00+00:00",
          "2021-03-16T00:00:00+00:00",
          "2021-03-15T00:00:00+00:00",
          "2021-03-14T00:00:00+00:00",
          "2021-03-13T00:00:00+00:00",
          "2021-03-12T00:00:00+00:00",
          "2021-03-11T00:00:00+00:00",
          "2021-03-10T00:00:00+00:00",
          "2021-03-09T00:00:00+00:00"
         ],
         "xaxis": "x",
         "y": [
          0.06260083660324081,
          0.06266500560648226,
          0.06206021680231298,
          0.06704521703188017,
          0.07584249168399612,
          0.07894552830896477,
          0.08257308813982485,
          0.07923356154002666,
          0.07472521811059304,
          0.072250419931034,
          0.06772150030602084,
          0.06230594303294536,
          0.0589591307474902,
          0.05605178712746164,
          0.055203175096062526,
          0.05748681974929289,
          0.061590288057147204,
          0.06469417043663753,
          0.07162728005927864,
          0.08475898098257557,
          0.09326676224932332,
          0.10375380715004477,
          0.10788537821480138,
          0.11030566505252717,
          0.1116485398918179,
          0.10563105147672733,
          0.10020525312962796,
          0.09833080935954668,
          0.09451839461855968,
          0.09319643486593014,
          0.09084997101774002,
          0.0979618559805754,
          0.1148465178202117,
          0.13327728185580479,
          0.15194251961509034,
          0.17405601233080953,
          0.20483764934819967,
          0.2341178119406985,
          0.2508351420013445,
          0.26222375958828104,
          0.27259456566491064,
          0.2925689409783451,
          0.3077478358480517,
          0.29921453852935775,
          0.2819560180070523,
          0.2589590377789385,
          0.2268177576570622,
          0.19180749823113574,
          0.14919243151698722,
          0.10900563218895609,
          0.0914266143074861,
          0.09206352137997355,
          0.09790896513682609,
          0.10171358027362357,
          0.10766783390993513,
          0.1285589208858991,
          0.14869481481795827,
          0.14080959254968206,
          0.1240157455766199,
          0.11071484004597953,
          0.10430060845103287,
          0.09636073977970558,
          0.0716325260206329,
          0.04695661643443043,
          0.04358170046356402,
          0.03920184543678906,
          0.036384917449658265,
          0.036167122574255264,
          0.03177106442220066,
          0.02897714318332226,
          0.025675727769782584,
          0.02799863850390827,
          0.029518022641376786,
          0.03204253877348118,
          0.03159400699578476,
          0.03193734391542282,
          0.03286110701633853,
          0.03442250264921728,
          0.03143689007537816,
          0.02962876057955222,
          0.02761972102670866,
          0.02736784306358855,
          0.026548676378016976,
          0.02695360743590381,
          0.027925897215995404,
          0.026653670075313867,
          0.028205125631362925,
          0.030266609630504083,
          0.03411125291639172,
          0.034758328719058366,
          0.03486129689858371,
          0.03308909756864043,
          0.03451735918600995,
          0.03459850229389546,
          0.03811596988570828,
          0.041146680164857515,
          0.046986725889613265,
          0.05630285881013995,
          0.061861326701166904,
          0.06185605837754167,
          0.06228934825177051,
          0.05825722424090831,
          0.054069988609189865,
          0.05371440207749496,
          0.047656861728056533,
          0.04702537423887019,
          0.056586925865439223,
          0.06994384485233299,
          0.08458749100229826,
          0.08751776392751297,
          0.08692362521661963,
          0.08760873513239739,
          0.09297683409889124,
          0.10311547980670686,
          0.09549271586767823,
          0.08812171189261589,
          0.08673622172980845,
          0.0859823748589276,
          0.09254111873252313,
          0.09428286209770005,
          null,
          null,
          null,
          null,
          null,
          null
         ],
         "yaxis": "y"
        },
        {
         "hovertemplate": "symbol=CLOV<br>day=%{x}<br>fraction_of_mentions_MA=%{y}<extra></extra>",
         "legendgroup": "CLOV",
         "line": {
          "color": "#FECB52",
          "dash": "solid"
         },
         "mode": "lines",
         "name": "CLOV",
         "showlegend": true,
         "type": "scattergl",
         "x": [
          "2021-07-14T00:00:00+00:00",
          "2021-07-13T00:00:00+00:00",
          "2021-07-12T00:00:00+00:00",
          "2021-07-11T00:00:00+00:00",
          "2021-07-10T00:00:00+00:00",
          "2021-07-09T00:00:00+00:00",
          "2021-07-08T00:00:00+00:00",
          "2021-07-07T00:00:00+00:00",
          "2021-07-06T00:00:00+00:00",
          "2021-07-05T00:00:00+00:00",
          "2021-07-04T00:00:00+00:00",
          "2021-07-03T00:00:00+00:00",
          "2021-07-02T00:00:00+00:00",
          "2021-07-01T00:00:00+00:00",
          "2021-06-30T00:00:00+00:00",
          "2021-06-29T00:00:00+00:00",
          "2021-06-28T00:00:00+00:00",
          "2021-06-27T00:00:00+00:00",
          "2021-06-26T00:00:00+00:00",
          "2021-06-25T00:00:00+00:00",
          "2021-06-24T00:00:00+00:00",
          "2021-06-23T00:00:00+00:00",
          "2021-06-22T00:00:00+00:00",
          "2021-06-21T00:00:00+00:00",
          "2021-06-20T00:00:00+00:00",
          "2021-06-19T00:00:00+00:00",
          "2021-06-18T00:00:00+00:00",
          "2021-06-17T00:00:00+00:00",
          "2021-06-16T00:00:00+00:00",
          "2021-06-15T00:00:00+00:00",
          "2021-06-14T00:00:00+00:00",
          "2021-06-13T00:00:00+00:00",
          "2021-06-12T00:00:00+00:00",
          "2021-06-11T00:00:00+00:00",
          "2021-06-10T00:00:00+00:00",
          "2021-06-09T00:00:00+00:00",
          "2021-06-08T00:00:00+00:00",
          "2021-06-07T00:00:00+00:00",
          "2021-06-06T00:00:00+00:00",
          "2021-06-05T00:00:00+00:00",
          "2021-06-04T00:00:00+00:00",
          "2021-06-03T00:00:00+00:00",
          "2021-06-02T00:00:00+00:00",
          "2021-06-01T00:00:00+00:00",
          "2021-05-31T00:00:00+00:00",
          "2021-05-30T00:00:00+00:00",
          "2021-05-29T00:00:00+00:00",
          "2021-05-28T00:00:00+00:00",
          "2021-05-27T00:00:00+00:00",
          "2021-05-26T00:00:00+00:00",
          "2021-05-25T00:00:00+00:00",
          "2021-05-24T00:00:00+00:00",
          "2021-05-23T00:00:00+00:00",
          "2021-05-22T00:00:00+00:00",
          "2021-05-21T00:00:00+00:00",
          "2021-05-20T00:00:00+00:00",
          "2021-05-19T00:00:00+00:00",
          "2021-05-18T00:00:00+00:00",
          "2021-05-17T00:00:00+00:00",
          "2021-05-16T00:00:00+00:00",
          "2021-05-15T00:00:00+00:00",
          "2021-05-14T00:00:00+00:00",
          "2021-05-13T00:00:00+00:00",
          "2021-05-12T00:00:00+00:00",
          "2021-05-11T00:00:00+00:00",
          "2021-05-10T00:00:00+00:00",
          "2021-05-09T00:00:00+00:00",
          "2021-05-08T00:00:00+00:00",
          "2021-05-07T00:00:00+00:00",
          "2021-05-06T00:00:00+00:00",
          "2021-05-05T00:00:00+00:00",
          "2021-05-04T00:00:00+00:00",
          "2021-05-03T00:00:00+00:00",
          "2021-05-02T00:00:00+00:00",
          "2021-05-01T00:00:00+00:00",
          "2021-04-30T00:00:00+00:00",
          "2021-04-29T00:00:00+00:00",
          "2021-04-28T00:00:00+00:00",
          "2021-04-27T00:00:00+00:00",
          "2021-04-26T00:00:00+00:00",
          "2021-04-25T00:00:00+00:00",
          "2021-04-24T00:00:00+00:00",
          "2021-04-23T00:00:00+00:00",
          "2021-04-22T00:00:00+00:00",
          "2021-04-21T00:00:00+00:00",
          "2021-04-20T00:00:00+00:00",
          "2021-04-19T00:00:00+00:00",
          "2021-04-18T00:00:00+00:00",
          "2021-04-17T00:00:00+00:00",
          "2021-04-16T00:00:00+00:00",
          "2021-04-15T00:00:00+00:00",
          "2021-04-14T00:00:00+00:00",
          "2021-04-13T00:00:00+00:00",
          "2021-04-12T00:00:00+00:00",
          "2021-04-11T00:00:00+00:00",
          "2021-04-10T00:00:00+00:00",
          "2021-04-09T00:00:00+00:00",
          "2021-04-08T00:00:00+00:00",
          "2021-04-07T00:00:00+00:00",
          "2021-04-06T00:00:00+00:00",
          "2021-04-02T00:00:00+00:00",
          "2021-04-01T00:00:00+00:00",
          "2021-03-31T00:00:00+00:00",
          "2021-03-30T00:00:00+00:00",
          "2021-03-29T00:00:00+00:00",
          "2021-03-26T00:00:00+00:00",
          "2021-03-25T00:00:00+00:00",
          "2021-03-24T00:00:00+00:00",
          "2021-03-23T00:00:00+00:00",
          "2021-03-22T00:00:00+00:00",
          "2021-03-21T00:00:00+00:00",
          "2021-03-19T00:00:00+00:00",
          "2021-03-18T00:00:00+00:00",
          "2021-03-17T00:00:00+00:00",
          "2021-03-16T00:00:00+00:00",
          "2021-03-15T00:00:00+00:00",
          "2021-03-14T00:00:00+00:00",
          "2021-03-13T00:00:00+00:00",
          "2021-03-12T00:00:00+00:00",
          "2021-03-11T00:00:00+00:00",
          "2021-03-10T00:00:00+00:00",
          "2021-03-09T00:00:00+00:00"
         ],
         "xaxis": "x",
         "y": [
          0.05831651207515751,
          0.05985591696193616,
          0.06330286762133339,
          0.05911044048736556,
          0.05951715580328933,
          0.06057029974364847,
          0.06277580585106726,
          0.06532366395049456,
          0.0645286341839861,
          0.06371377330465532,
          0.06275553561544771,
          0.06630479332260576,
          0.06813032939639833,
          0.06796006660285357,
          0.07305830020174094,
          0.07879675526911314,
          0.08023327135851696,
          0.07851732991695921,
          0.07741400118034293,
          0.07268609114537439,
          0.06888077515083758,
          0.05906758105955561,
          0.05091474718151203,
          0.043770293880283084,
          0.04633964377810932,
          0.04715712559545298,
          0.051880216306372816,
          0.060889086982852045,
          0.06846843682698278,
          0.07840419258564468,
          0.09478181443421085,
          0.10067891445509966,
          0.09730461823564886,
          0.08993851248621365,
          0.07872220738397719,
          0.07005920342678913,
          0.055866084787198116,
          0.0324739642726346,
          0.019133925426406156,
          0.01425801064183539,
          0.013042963550706235,
          0.011734025330565306,
          0.009947320941408957,
          0.007904401983649409,
          0.007972327641232523,
          0.008166545264382036,
          0.007925969421117032,
          0.007271789052080561,
          0.007978840646309654,
          0.00892686452722408,
          0.00879092784111354,
          0.010345895241392887,
          0.01639699934995864,
          0.01998136128396107,
          0.02280658038798095,
          0.02344351101401779,
          0.022127558132629316,
          0.023590796068044213,
          0.022630499738622942,
          0.01686822743235229,
          0.015666936583195994,
          0.015000814620891237,
          0.014671609428191337,
          0.01551451062745041,
          0.016097982565616724,
          0.01835887006769945,
          0.023519751930028077,
          0.030059540022920467,
          0.03126044321974442,
          0.03613834073493577,
          0.04672236074817295,
          0.05237570273329064,
          0.05012314798053046,
          0.04512838351056644,
          0.036761948118573355,
          0.035143502891864804,
          0.03086154817550447,
          0.020216902977049207,
          0.017018263872731493,
          0.025253220778670645,
          0.03844030475184618,
          0.04686452059300385,
          0.052667844968849846,
          0.05998301625846997,
          0.05822513048833141,
          0.05293427822178426,
          0.043474014392468056,
          0.028614399988326444,
          0.018428840277336992,
          0.010481338710297989,
          0.0007486299562982193,
          0.0017725729121902875,
          0.0017468679279687225,
          0.0017686120172331064,
          0.0017718385479433948,
          0.0017523708423314293,
          0.0016634424018912547,
          0.0013808610773424837,
          0.0002722169074728042,
          0.00026857035431540746,
          0.00023284160142713952,
          0.0002101403232038204,
          0.00020219063428446874,
          0.0001697547056488139,
          0.0002263344339107977,
          0.00024839939478467685,
          0.00026088718057839746,
          0.00027449924846431796,
          0.0002822715562623949,
          0.00031139422345067896,
          0.0004350072470186201,
          0.0003990129186521603,
          0.00036110102941459404,
          0.0003931917132142549,
          0.00036992631919069695,
          0.00033662015584043955,
          null,
          null,
          null,
          null,
          null,
          null
         ],
         "yaxis": "y"
        }
       ],
       "layout": {
        "legend": {
         "title": {
          "text": "symbol"
         },
         "tracegroupgap": 0
        },
        "template": {
         "data": {
          "bar": [
           {
            "error_x": {
             "color": "#2a3f5f"
            },
            "error_y": {
             "color": "#2a3f5f"
            },
            "marker": {
             "line": {
              "color": "#E5ECF6",
              "width": 0.5
             },
             "pattern": {
              "fillmode": "overlay",
              "size": 10,
              "solidity": 0.2
             }
            },
            "type": "bar"
           }
          ],
          "barpolar": [
           {
            "marker": {
             "line": {
              "color": "#E5ECF6",
              "width": 0.5
             },
             "pattern": {
              "fillmode": "overlay",
              "size": 10,
              "solidity": 0.2
             }
            },
            "type": "barpolar"
           }
          ],
          "carpet": [
           {
            "aaxis": {
             "endlinecolor": "#2a3f5f",
             "gridcolor": "white",
             "linecolor": "white",
             "minorgridcolor": "white",
             "startlinecolor": "#2a3f5f"
            },
            "baxis": {
             "endlinecolor": "#2a3f5f",
             "gridcolor": "white",
             "linecolor": "white",
             "minorgridcolor": "white",
             "startlinecolor": "#2a3f5f"
            },
            "type": "carpet"
           }
          ],
          "choropleth": [
           {
            "colorbar": {
             "outlinewidth": 0,
             "ticks": ""
            },
            "type": "choropleth"
           }
          ],
          "contour": [
           {
            "colorbar": {
             "outlinewidth": 0,
             "ticks": ""
            },
            "colorscale": [
             [
              0,
              "#0d0887"
             ],
             [
              0.1111111111111111,
              "#46039f"
             ],
             [
              0.2222222222222222,
              "#7201a8"
             ],
             [
              0.3333333333333333,
              "#9c179e"
             ],
             [
              0.4444444444444444,
              "#bd3786"
             ],
             [
              0.5555555555555556,
              "#d8576b"
             ],
             [
              0.6666666666666666,
              "#ed7953"
             ],
             [
              0.7777777777777778,
              "#fb9f3a"
             ],
             [
              0.8888888888888888,
              "#fdca26"
             ],
             [
              1,
              "#f0f921"
             ]
            ],
            "type": "contour"
           }
          ],
          "contourcarpet": [
           {
            "colorbar": {
             "outlinewidth": 0,
             "ticks": ""
            },
            "type": "contourcarpet"
           }
          ],
          "heatmap": [
           {
            "colorbar": {
             "outlinewidth": 0,
             "ticks": ""
            },
            "colorscale": [
             [
              0,
              "#0d0887"
             ],
             [
              0.1111111111111111,
              "#46039f"
             ],
             [
              0.2222222222222222,
              "#7201a8"
             ],
             [
              0.3333333333333333,
              "#9c179e"
             ],
             [
              0.4444444444444444,
              "#bd3786"
             ],
             [
              0.5555555555555556,
              "#d8576b"
             ],
             [
              0.6666666666666666,
              "#ed7953"
             ],
             [
              0.7777777777777778,
              "#fb9f3a"
             ],
             [
              0.8888888888888888,
              "#fdca26"
             ],
             [
              1,
              "#f0f921"
             ]
            ],
            "type": "heatmap"
           }
          ],
          "heatmapgl": [
           {
            "colorbar": {
             "outlinewidth": 0,
             "ticks": ""
            },
            "colorscale": [
             [
              0,
              "#0d0887"
             ],
             [
              0.1111111111111111,
              "#46039f"
             ],
             [
              0.2222222222222222,
              "#7201a8"
             ],
             [
              0.3333333333333333,
              "#9c179e"
             ],
             [
              0.4444444444444444,
              "#bd3786"
             ],
             [
              0.5555555555555556,
              "#d8576b"
             ],
             [
              0.6666666666666666,
              "#ed7953"
             ],
             [
              0.7777777777777778,
              "#fb9f3a"
             ],
             [
              0.8888888888888888,
              "#fdca26"
             ],
             [
              1,
              "#f0f921"
             ]
            ],
            "type": "heatmapgl"
           }
          ],
          "histogram": [
           {
            "marker": {
             "pattern": {
              "fillmode": "overlay",
              "size": 10,
              "solidity": 0.2
             }
            },
            "type": "histogram"
           }
          ],
          "histogram2d": [
           {
            "colorbar": {
             "outlinewidth": 0,
             "ticks": ""
            },
            "colorscale": [
             [
              0,
              "#0d0887"
             ],
             [
              0.1111111111111111,
              "#46039f"
             ],
             [
              0.2222222222222222,
              "#7201a8"
             ],
             [
              0.3333333333333333,
              "#9c179e"
             ],
             [
              0.4444444444444444,
              "#bd3786"
             ],
             [
              0.5555555555555556,
              "#d8576b"
             ],
             [
              0.6666666666666666,
              "#ed7953"
             ],
             [
              0.7777777777777778,
              "#fb9f3a"
             ],
             [
              0.8888888888888888,
              "#fdca26"
             ],
             [
              1,
              "#f0f921"
             ]
            ],
            "type": "histogram2d"
           }
          ],
          "histogram2dcontour": [
           {
            "colorbar": {
             "outlinewidth": 0,
             "ticks": ""
            },
            "colorscale": [
             [
              0,
              "#0d0887"
             ],
             [
              0.1111111111111111,
              "#46039f"
             ],
             [
              0.2222222222222222,
              "#7201a8"
             ],
             [
              0.3333333333333333,
              "#9c179e"
             ],
             [
              0.4444444444444444,
              "#bd3786"
             ],
             [
              0.5555555555555556,
              "#d8576b"
             ],
             [
              0.6666666666666666,
              "#ed7953"
             ],
             [
              0.7777777777777778,
              "#fb9f3a"
             ],
             [
              0.8888888888888888,
              "#fdca26"
             ],
             [
              1,
              "#f0f921"
             ]
            ],
            "type": "histogram2dcontour"
           }
          ],
          "mesh3d": [
           {
            "colorbar": {
             "outlinewidth": 0,
             "ticks": ""
            },
            "type": "mesh3d"
           }
          ],
          "parcoords": [
           {
            "line": {
             "colorbar": {
              "outlinewidth": 0,
              "ticks": ""
             }
            },
            "type": "parcoords"
           }
          ],
          "pie": [
           {
            "automargin": true,
            "type": "pie"
           }
          ],
          "scatter": [
           {
            "marker": {
             "colorbar": {
              "outlinewidth": 0,
              "ticks": ""
             }
            },
            "type": "scatter"
           }
          ],
          "scatter3d": [
           {
            "line": {
             "colorbar": {
              "outlinewidth": 0,
              "ticks": ""
             }
            },
            "marker": {
             "colorbar": {
              "outlinewidth": 0,
              "ticks": ""
             }
            },
            "type": "scatter3d"
           }
          ],
          "scattercarpet": [
           {
            "marker": {
             "colorbar": {
              "outlinewidth": 0,
              "ticks": ""
             }
            },
            "type": "scattercarpet"
           }
          ],
          "scattergeo": [
           {
            "marker": {
             "colorbar": {
              "outlinewidth": 0,
              "ticks": ""
             }
            },
            "type": "scattergeo"
           }
          ],
          "scattergl": [
           {
            "marker": {
             "colorbar": {
              "outlinewidth": 0,
              "ticks": ""
             }
            },
            "type": "scattergl"
           }
          ],
          "scattermapbox": [
           {
            "marker": {
             "colorbar": {
              "outlinewidth": 0,
              "ticks": ""
             }
            },
            "type": "scattermapbox"
           }
          ],
          "scatterpolar": [
           {
            "marker": {
             "colorbar": {
              "outlinewidth": 0,
              "ticks": ""
             }
            },
            "type": "scatterpolar"
           }
          ],
          "scatterpolargl": [
           {
            "marker": {
             "colorbar": {
              "outlinewidth": 0,
              "ticks": ""
             }
            },
            "type": "scatterpolargl"
           }
          ],
          "scatterternary": [
           {
            "marker": {
             "colorbar": {
              "outlinewidth": 0,
              "ticks": ""
             }
            },
            "type": "scatterternary"
           }
          ],
          "surface": [
           {
            "colorbar": {
             "outlinewidth": 0,
             "ticks": ""
            },
            "colorscale": [
             [
              0,
              "#0d0887"
             ],
             [
              0.1111111111111111,
              "#46039f"
             ],
             [
              0.2222222222222222,
              "#7201a8"
             ],
             [
              0.3333333333333333,
              "#9c179e"
             ],
             [
              0.4444444444444444,
              "#bd3786"
             ],
             [
              0.5555555555555556,
              "#d8576b"
             ],
             [
              0.6666666666666666,
              "#ed7953"
             ],
             [
              0.7777777777777778,
              "#fb9f3a"
             ],
             [
              0.8888888888888888,
              "#fdca26"
             ],
             [
              1,
              "#f0f921"
             ]
            ],
            "type": "surface"
           }
          ],
          "table": [
           {
            "cells": {
             "fill": {
              "color": "#EBF0F8"
             },
             "line": {
              "color": "white"
             }
            },
            "header": {
             "fill": {
              "color": "#C8D4E3"
             },
             "line": {
              "color": "white"
             }
            },
            "type": "table"
           }
          ]
         },
         "layout": {
          "annotationdefaults": {
           "arrowcolor": "#2a3f5f",
           "arrowhead": 0,
           "arrowwidth": 1
          },
          "autotypenumbers": "strict",
          "coloraxis": {
           "colorbar": {
            "outlinewidth": 0,
            "ticks": ""
           }
          },
          "colorscale": {
           "diverging": [
            [
             0,
             "#8e0152"
            ],
            [
             0.1,
             "#c51b7d"
            ],
            [
             0.2,
             "#de77ae"
            ],
            [
             0.3,
             "#f1b6da"
            ],
            [
             0.4,
             "#fde0ef"
            ],
            [
             0.5,
             "#f7f7f7"
            ],
            [
             0.6,
             "#e6f5d0"
            ],
            [
             0.7,
             "#b8e186"
            ],
            [
             0.8,
             "#7fbc41"
            ],
            [
             0.9,
             "#4d9221"
            ],
            [
             1,
             "#276419"
            ]
           ],
           "sequential": [
            [
             0,
             "#0d0887"
            ],
            [
             0.1111111111111111,
             "#46039f"
            ],
            [
             0.2222222222222222,
             "#7201a8"
            ],
            [
             0.3333333333333333,
             "#9c179e"
            ],
            [
             0.4444444444444444,
             "#bd3786"
            ],
            [
             0.5555555555555556,
             "#d8576b"
            ],
            [
             0.6666666666666666,
             "#ed7953"
            ],
            [
             0.7777777777777778,
             "#fb9f3a"
            ],
            [
             0.8888888888888888,
             "#fdca26"
            ],
            [
             1,
             "#f0f921"
            ]
           ],
           "sequentialminus": [
            [
             0,
             "#0d0887"
            ],
            [
             0.1111111111111111,
             "#46039f"
            ],
            [
             0.2222222222222222,
             "#7201a8"
            ],
            [
             0.3333333333333333,
             "#9c179e"
            ],
            [
             0.4444444444444444,
             "#bd3786"
            ],
            [
             0.5555555555555556,
             "#d8576b"
            ],
            [
             0.6666666666666666,
             "#ed7953"
            ],
            [
             0.7777777777777778,
             "#fb9f3a"
            ],
            [
             0.8888888888888888,
             "#fdca26"
            ],
            [
             1,
             "#f0f921"
            ]
           ]
          },
          "colorway": [
           "#636efa",
           "#EF553B",
           "#00cc96",
           "#ab63fa",
           "#FFA15A",
           "#19d3f3",
           "#FF6692",
           "#B6E880",
           "#FF97FF",
           "#FECB52"
          ],
          "font": {
           "color": "#2a3f5f"
          },
          "geo": {
           "bgcolor": "white",
           "lakecolor": "white",
           "landcolor": "#E5ECF6",
           "showlakes": true,
           "showland": true,
           "subunitcolor": "white"
          },
          "hoverlabel": {
           "align": "left"
          },
          "hovermode": "closest",
          "mapbox": {
           "style": "light"
          },
          "paper_bgcolor": "white",
          "plot_bgcolor": "#E5ECF6",
          "polar": {
           "angularaxis": {
            "gridcolor": "white",
            "linecolor": "white",
            "ticks": ""
           },
           "bgcolor": "#E5ECF6",
           "radialaxis": {
            "gridcolor": "white",
            "linecolor": "white",
            "ticks": ""
           }
          },
          "scene": {
           "xaxis": {
            "backgroundcolor": "#E5ECF6",
            "gridcolor": "white",
            "gridwidth": 2,
            "linecolor": "white",
            "showbackground": true,
            "ticks": "",
            "zerolinecolor": "white"
           },
           "yaxis": {
            "backgroundcolor": "#E5ECF6",
            "gridcolor": "white",
            "gridwidth": 2,
            "linecolor": "white",
            "showbackground": true,
            "ticks": "",
            "zerolinecolor": "white"
           },
           "zaxis": {
            "backgroundcolor": "#E5ECF6",
            "gridcolor": "white",
            "gridwidth": 2,
            "linecolor": "white",
            "showbackground": true,
            "ticks": "",
            "zerolinecolor": "white"
           }
          },
          "shapedefaults": {
           "line": {
            "color": "#2a3f5f"
           }
          },
          "ternary": {
           "aaxis": {
            "gridcolor": "white",
            "linecolor": "white",
            "ticks": ""
           },
           "baxis": {
            "gridcolor": "white",
            "linecolor": "white",
            "ticks": ""
           },
           "bgcolor": "#E5ECF6",
           "caxis": {
            "gridcolor": "white",
            "linecolor": "white",
            "ticks": ""
           }
          },
          "title": {
           "x": 0.05
          },
          "xaxis": {
           "automargin": true,
           "gridcolor": "white",
           "linecolor": "white",
           "ticks": "",
           "title": {
            "standoff": 15
           },
           "zerolinecolor": "white",
           "zerolinewidth": 2
          },
          "yaxis": {
           "automargin": true,
           "gridcolor": "white",
           "linecolor": "white",
           "ticks": "",
           "title": {
            "standoff": 15
           },
           "zerolinecolor": "white",
           "zerolinewidth": 2
          }
         }
        },
        "title": {
         "text": "Fraction of mentions (7 day rolling average)"
        },
        "xaxis": {
         "anchor": "y",
         "domain": [
          0,
          1
         ],
         "title": {
          "text": "day"
         }
        },
        "yaxis": {
         "anchor": "x",
         "domain": [
          0,
          1
         ],
         "title": {
          "text": "fraction_of_mentions_MA"
         }
        }
       }
      },
      "text/html": [
       "<div>                            <div id=\"0419bf04-d847-4327-aada-7dc61a6fd373\" class=\"plotly-graph-div\" style=\"height:525px; width:100%;\"></div>            <script type=\"text/javascript\">                require([\"plotly\"], function(Plotly) {                    window.PLOTLYENV=window.PLOTLYENV || {};                                    if (document.getElementById(\"0419bf04-d847-4327-aada-7dc61a6fd373\")) {                    Plotly.newPlot(                        \"0419bf04-d847-4327-aada-7dc61a6fd373\",                        [{\"hovertemplate\":\"symbol=WKHS<br>day=%{x}<br>fraction_of_mentions_MA=%{y}<extra></extra>\",\"legendgroup\":\"WKHS\",\"line\":{\"color\":\"#636efa\",\"dash\":\"solid\"},\"mode\":\"lines\",\"name\":\"WKHS\",\"showlegend\":true,\"type\":\"scattergl\",\"x\":[\"2021-07-14T00:00:00+00:00\",\"2021-07-13T00:00:00+00:00\",\"2021-07-12T00:00:00+00:00\",\"2021-07-11T00:00:00+00:00\",\"2021-07-10T00:00:00+00:00\",\"2021-07-09T00:00:00+00:00\",\"2021-07-08T00:00:00+00:00\",\"2021-07-07T00:00:00+00:00\",\"2021-07-06T00:00:00+00:00\",\"2021-07-05T00:00:00+00:00\",\"2021-07-04T00:00:00+00:00\",\"2021-07-03T00:00:00+00:00\",\"2021-07-02T00:00:00+00:00\",\"2021-07-01T00:00:00+00:00\",\"2021-06-30T00:00:00+00:00\",\"2021-06-29T00:00:00+00:00\",\"2021-06-28T00:00:00+00:00\",\"2021-06-27T00:00:00+00:00\",\"2021-06-26T00:00:00+00:00\",\"2021-06-25T00:00:00+00:00\",\"2021-06-24T00:00:00+00:00\",\"2021-06-23T00:00:00+00:00\",\"2021-06-22T00:00:00+00:00\",\"2021-06-21T00:00:00+00:00\",\"2021-06-20T00:00:00+00:00\",\"2021-06-19T00:00:00+00:00\",\"2021-06-18T00:00:00+00:00\",\"2021-06-17T00:00:00+00:00\",\"2021-06-16T00:00:00+00:00\",\"2021-06-15T00:00:00+00:00\",\"2021-06-14T00:00:00+00:00\",\"2021-06-13T00:00:00+00:00\",\"2021-06-12T00:00:00+00:00\",\"2021-06-11T00:00:00+00:00\",\"2021-06-10T00:00:00+00:00\",\"2021-06-09T00:00:00+00:00\",\"2021-06-08T00:00:00+00:00\",\"2021-06-07T00:00:00+00:00\",\"2021-06-06T00:00:00+00:00\",\"2021-06-05T00:00:00+00:00\",\"2021-06-04T00:00:00+00:00\",\"2021-06-03T00:00:00+00:00\",\"2021-06-02T00:00:00+00:00\",\"2021-06-01T00:00:00+00:00\",\"2021-05-31T00:00:00+00:00\",\"2021-05-30T00:00:00+00:00\",\"2021-05-29T00:00:00+00:00\",\"2021-05-28T00:00:00+00:00\",\"2021-05-27T00:00:00+00:00\",\"2021-05-26T00:00:00+00:00\",\"2021-05-25T00:00:00+00:00\",\"2021-05-24T00:00:00+00:00\",\"2021-05-23T00:00:00+00:00\",\"2021-05-22T00:00:00+00:00\",\"2021-05-20T00:00:00+00:00\",\"2021-05-19T00:00:00+00:00\",\"2021-05-18T00:00:00+00:00\",\"2021-05-17T00:00:00+00:00\",\"2021-05-16T00:00:00+00:00\",\"2021-05-14T00:00:00+00:00\",\"2021-05-13T00:00:00+00:00\",\"2021-05-12T00:00:00+00:00\",\"2021-05-11T00:00:00+00:00\",\"2021-05-10T00:00:00+00:00\",\"2021-05-09T00:00:00+00:00\",\"2021-05-08T00:00:00+00:00\",\"2021-05-07T00:00:00+00:00\",\"2021-05-06T00:00:00+00:00\",\"2021-05-05T00:00:00+00:00\",\"2021-05-04T00:00:00+00:00\",\"2021-05-03T00:00:00+00:00\",\"2021-05-02T00:00:00+00:00\",\"2021-05-01T00:00:00+00:00\",\"2021-04-30T00:00:00+00:00\",\"2021-04-29T00:00:00+00:00\",\"2021-04-28T00:00:00+00:00\",\"2021-04-27T00:00:00+00:00\",\"2021-04-26T00:00:00+00:00\",\"2021-04-24T00:00:00+00:00\",\"2021-04-23T00:00:00+00:00\",\"2021-04-22T00:00:00+00:00\",\"2021-04-21T00:00:00+00:00\",\"2021-04-20T00:00:00+00:00\",\"2021-04-19T00:00:00+00:00\",\"2021-04-17T00:00:00+00:00\",\"2021-04-16T00:00:00+00:00\",\"2021-04-15T00:00:00+00:00\",\"2021-04-14T00:00:00+00:00\",\"2021-04-13T00:00:00+00:00\",\"2021-04-12T00:00:00+00:00\",\"2021-04-11T00:00:00+00:00\",\"2021-04-09T00:00:00+00:00\",\"2021-04-08T00:00:00+00:00\",\"2021-04-07T00:00:00+00:00\",\"2021-04-06T00:00:00+00:00\",\"2021-04-05T00:00:00+00:00\",\"2021-04-03T00:00:00+00:00\",\"2021-04-02T00:00:00+00:00\",\"2021-04-01T00:00:00+00:00\",\"2021-03-31T00:00:00+00:00\",\"2021-03-30T00:00:00+00:00\",\"2021-03-29T00:00:00+00:00\",\"2021-03-26T00:00:00+00:00\",\"2021-03-25T00:00:00+00:00\",\"2021-03-24T00:00:00+00:00\",\"2021-03-23T00:00:00+00:00\",\"2021-03-22T00:00:00+00:00\",\"2021-03-21T00:00:00+00:00\",\"2021-03-20T00:00:00+00:00\",\"2021-03-19T00:00:00+00:00\",\"2021-03-18T00:00:00+00:00\",\"2021-03-17T00:00:00+00:00\",\"2021-03-16T00:00:00+00:00\",\"2021-03-15T00:00:00+00:00\",\"2021-03-14T00:00:00+00:00\",\"2021-03-13T00:00:00+00:00\",\"2021-03-12T00:00:00+00:00\",\"2021-03-11T00:00:00+00:00\",\"2021-03-10T00:00:00+00:00\",\"2021-03-09T00:00:00+00:00\"],\"xaxis\":\"x\",\"y\":[0.011561923582567312,0.011825703982766039,0.012530270791098993,0.013127996324555385,0.014874003728195206,0.01575712036088319,0.01798442712264517,0.01891069068299758,0.023668771396359443,0.0301895860089748,0.037532695127528125,0.03824689088400508,0.03899266479143972,0.04155300632328675,0.04631578156107529,0.05017353295610993,0.04502579263917538,0.038611278491037807,0.039628541154154574,0.0413735820820847,0.03952422219482261,0.03575103929258366,0.033020167859053866,0.033697397722127966,0.03551721034985583,0.03578342276355478,0.03507591254993776,0.03815280586983864,0.03956983665766751,0.03841413815364705,0.03899801547639276,0.037570055796000944,0.035564711829306504,0.033123269547219884,0.028850625226437405,0.026163123822468725,0.020829229456425763,0.016543660347880247,0.013506909613380788,0.010273210662434125,0.007865831724542771,0.005240405544342977,0.002374383448042818,0.0013935847399203294,0.0013876605375146413,0.001301622096344244,0.001156005321887475,0.001006719948320703,0.0008732893998899118,0.0008632269123774723,0.0009442866573011433,0.0010359078616226378,0.001063027267456477,0.0010772044135765769,0.001135762022552287,0.001379464754395874,0.001507140359129029,0.0016986811440615104,0.0019200657665119185,0.002019462174013184,0.0021878125198875826,0.0023399815471822675,0.00211479415787203,0.0019420625962754147,0.0017130102454022734,0.00137685053021437,0.0012363996783934586,0.0011188445138898238,0.0009026006905515314,0.0008245245610735329,0.0007454712614790316,0.0006276935873734061,0.0005765246426014602,0.0004725845956315182,0.00036221746721575466,0.0004071608909010092,0.00041015633782168985,0.00038393778251269477,0.0003995480751292879,0.0006258041789460308,0.0006173953044452753,0.000623366675413615,0.0006000691408590157,0.0006061254887044157,0.0006174729136268549,0.0006219175996195185,0.00045586310647983096,0.00045596699121548174,0.0006080186775438535,0.0006314092463400635,0.0006390279731706129,0.0007785455660030673,0.0008410538788518092,0.0009193147328066242,0.00106483427412473,0.0010680526398700936,0.0009921620569604123,0.0010131291314125935,0.0008881160597280076,0.0008912426727640933,0.0008112289122284925,0.00103315857219733,0.0009075767453053281,0.000998478010776854,0.0009610710548003717,0.0009427473080203148,0.0008846371374349206,0.0008925629392016381,0.0005517203463403609,0.0005144483779934302,0.0005338394050494581,0.0007210510988325345,0.0007372500369473457,0.0007854911917587325,null,null,null,null,null,null],\"yaxis\":\"y\"},{\"hovertemplate\":\"symbol=WISH<br>day=%{x}<br>fraction_of_mentions_MA=%{y}<extra></extra>\",\"legendgroup\":\"WISH\",\"line\":{\"color\":\"#EF553B\",\"dash\":\"solid\"},\"mode\":\"lines\",\"name\":\"WISH\",\"showlegend\":true,\"type\":\"scattergl\",\"x\":[\"2021-07-14T00:00:00+00:00\",\"2021-07-13T00:00:00+00:00\",\"2021-07-12T00:00:00+00:00\",\"2021-07-11T00:00:00+00:00\",\"2021-07-10T00:00:00+00:00\",\"2021-07-09T00:00:00+00:00\",\"2021-07-08T00:00:00+00:00\",\"2021-07-07T00:00:00+00:00\",\"2021-07-06T00:00:00+00:00\",\"2021-07-05T00:00:00+00:00\",\"2021-07-04T00:00:00+00:00\",\"2021-07-03T00:00:00+00:00\",\"2021-07-02T00:00:00+00:00\",\"2021-07-01T00:00:00+00:00\",\"2021-06-30T00:00:00+00:00\",\"2021-06-29T00:00:00+00:00\",\"2021-06-28T00:00:00+00:00\",\"2021-06-27T00:00:00+00:00\",\"2021-06-26T00:00:00+00:00\",\"2021-06-25T00:00:00+00:00\",\"2021-06-24T00:00:00+00:00\",\"2021-06-23T00:00:00+00:00\",\"2021-06-22T00:00:00+00:00\",\"2021-06-21T00:00:00+00:00\",\"2021-06-20T00:00:00+00:00\",\"2021-06-19T00:00:00+00:00\",\"2021-06-18T00:00:00+00:00\",\"2021-06-17T00:00:00+00:00\",\"2021-06-16T00:00:00+00:00\",\"2021-06-15T00:00:00+00:00\",\"2021-06-14T00:00:00+00:00\",\"2021-06-13T00:00:00+00:00\",\"2021-06-12T00:00:00+00:00\",\"2021-06-11T00:00:00+00:00\",\"2021-06-10T00:00:00+00:00\",\"2021-06-09T00:00:00+00:00\",\"2021-06-08T00:00:00+00:00\",\"2021-06-07T00:00:00+00:00\",\"2021-06-06T00:00:00+00:00\",\"2021-06-05T00:00:00+00:00\",\"2021-06-04T00:00:00+00:00\",\"2021-06-03T00:00:00+00:00\",\"2021-06-02T00:00:00+00:00\",\"2021-06-01T00:00:00+00:00\",\"2021-05-31T00:00:00+00:00\",\"2021-05-30T00:00:00+00:00\",\"2021-05-29T00:00:00+00:00\",\"2021-05-28T00:00:00+00:00\",\"2021-05-27T00:00:00+00:00\",\"2021-05-26T00:00:00+00:00\",\"2021-05-25T00:00:00+00:00\",\"2021-05-24T00:00:00+00:00\",\"2021-05-23T00:00:00+00:00\",\"2021-05-21T00:00:00+00:00\",\"2021-05-20T00:00:00+00:00\",\"2021-05-19T00:00:00+00:00\",\"2021-05-18T00:00:00+00:00\",\"2021-05-17T00:00:00+00:00\",\"2021-05-16T00:00:00+00:00\",\"2021-05-14T00:00:00+00:00\",\"2021-05-13T00:00:00+00:00\",\"2021-05-12T00:00:00+00:00\",\"2021-05-11T00:00:00+00:00\",\"2021-05-10T00:00:00+00:00\",\"2021-05-09T00:00:00+00:00\",\"2021-05-08T00:00:00+00:00\",\"2021-05-07T00:00:00+00:00\",\"2021-05-06T00:00:00+00:00\",\"2021-05-05T00:00:00+00:00\",\"2021-05-04T00:00:00+00:00\",\"2021-05-03T00:00:00+00:00\",\"2021-05-02T00:00:00+00:00\",\"2021-05-01T00:00:00+00:00\",\"2021-04-30T00:00:00+00:00\",\"2021-04-29T00:00:00+00:00\",\"2021-04-28T00:00:00+00:00\",\"2021-04-27T00:00:00+00:00\",\"2021-04-26T00:00:00+00:00\",\"2021-04-25T00:00:00+00:00\",\"2021-04-23T00:00:00+00:00\",\"2021-04-22T00:00:00+00:00\",\"2021-04-21T00:00:00+00:00\",\"2021-04-20T00:00:00+00:00\",\"2021-04-19T00:00:00+00:00\",\"2021-04-18T00:00:00+00:00\",\"2021-04-17T00:00:00+00:00\",\"2021-04-16T00:00:00+00:00\",\"2021-04-15T00:00:00+00:00\",\"2021-04-14T00:00:00+00:00\",\"2021-04-13T00:00:00+00:00\",\"2021-04-12T00:00:00+00:00\",\"2021-04-11T00:00:00+00:00\",\"2021-04-10T00:00:00+00:00\",\"2021-04-09T00:00:00+00:00\",\"2021-04-08T00:00:00+00:00\",\"2021-04-07T00:00:00+00:00\",\"2021-04-06T00:00:00+00:00\",\"2021-04-05T00:00:00+00:00\",\"2021-04-04T00:00:00+00:00\",\"2021-04-02T00:00:00+00:00\",\"2021-04-01T00:00:00+00:00\",\"2021-03-31T00:00:00+00:00\",\"2021-03-30T00:00:00+00:00\",\"2021-03-29T00:00:00+00:00\",\"2021-03-26T00:00:00+00:00\",\"2021-03-25T00:00:00+00:00\",\"2021-03-24T00:00:00+00:00\",\"2021-03-23T00:00:00+00:00\",\"2021-03-22T00:00:00+00:00\",\"2021-03-21T00:00:00+00:00\",\"2021-03-20T00:00:00+00:00\",\"2021-03-19T00:00:00+00:00\",\"2021-03-18T00:00:00+00:00\",\"2021-03-17T00:00:00+00:00\",\"2021-03-16T00:00:00+00:00\",\"2021-03-15T00:00:00+00:00\",\"2021-03-14T00:00:00+00:00\",\"2021-03-13T00:00:00+00:00\",\"2021-03-12T00:00:00+00:00\",\"2021-03-11T00:00:00+00:00\",\"2021-03-10T00:00:00+00:00\",\"2021-03-09T00:00:00+00:00\"],\"xaxis\":\"x\",\"y\":[0.027459877516454265,0.028392238935453302,0.030600795210974613,0.031943622330533036,0.03148697221603498,0.03396223924958415,0.036986641067249706,0.04022290070449952,0.042944405368389116,0.04474032269769856,0.04900761874234872,0.054123903818438145,0.057760169515095175,0.05916102997495865,0.06382058529480754,0.07044711743861111,0.08375459235298775,0.1030497179445132,0.10342785044652436,0.10325379253811603,0.10326302853261106,0.09744707014235979,0.09171489484684872,0.08156126563300892,0.06435738585445752,0.06392505228000132,0.06394788487273381,0.06354088428622243,0.06623540861687852,0.07430942411059402,0.07853048994725846,0.06729954817498347,0.05913971781244642,0.050441335260406416,0.042035723560118254,0.03169394421451146,0.015760996343916683,0.0009815528618437263,0.0014485470785977404,0.0019391750270884992,0.0021531630329539564,0.0024272237878851114,0.0025116402604251245,0.002641963463439823,0.002897998137409872,0.0022771789293176458,0.0017868719034978657,0.0015093967145995504,0.001240123626789893,0.001179194156661191,0.000947941920325563,0.0005646358734609418,0.0005781955763778614,0.0012294065326907294,0.001821917894251324,0.0019185793797209998,0.0019078014385146018,0.0019212965910098447,0.002097489072285645,0.0021069911187889105,0.0014597318113822397,0.0008576317084216982,0.0007669443766080076,0.0007108600915680934,0.000634509307943713,0.0004545202873249735,0.0005150502217408979,0.0004883849132195672,0.0005493688512822674,0.0007599059777072442,0.0011113379015094355,0.0010991811512634782,0.001096087523867799,0.0009342637075067941,0.0009447996384457178,0.0008892908233225239,0.0007359395017469034,0.00036609712793837427,0.0003740483160919015,0.0003226732336176628,0.00044341178499738697,0.00047010258253975403,0.00044736964725296735,0.00033783631928832304,0.0003685356240778684,0.0003687158771387456,0.0003736826636300297,0.00033464942145338555,0.00040660068284186754,0.00046950889709636187,0.0005129535439148904,0.000490055866151001,0.0004936116576393881,0.000668797973300371,0.0006148176226775077,0.00048472059511565186,0.0004531184829369069,0.00045766239860257305,0.00046443010631944175,0.0004929969685418186,0.00033867013244918157,0.00031499071197584456,0.0003546617205627011,0.0003549478565762153,0.00036920188905764667,0.00035614404511220994,0.0003488916311636206,0.00030771933259764867,0.0003206723663362311,0.00030229389099081414,0.0003082498105576574,0.00027517036275407746,0.0003141145064015774,0.00037391549758683973,0.0004650890148153031,0.0005030845390059674,null,null,null,null,null,null],\"yaxis\":\"y\"},{\"hovertemplate\":\"symbol=GME<br>day=%{x}<br>fraction_of_mentions_MA=%{y}<extra></extra>\",\"legendgroup\":\"GME\",\"line\":{\"color\":\"#00cc96\",\"dash\":\"solid\"},\"mode\":\"lines\",\"name\":\"GME\",\"showlegend\":true,\"type\":\"scattergl\",\"x\":[\"2021-07-14T00:00:00+00:00\",\"2021-07-13T00:00:00+00:00\",\"2021-07-12T00:00:00+00:00\",\"2021-07-11T00:00:00+00:00\",\"2021-07-10T00:00:00+00:00\",\"2021-07-09T00:00:00+00:00\",\"2021-07-08T00:00:00+00:00\",\"2021-07-07T00:00:00+00:00\",\"2021-07-06T00:00:00+00:00\",\"2021-07-05T00:00:00+00:00\",\"2021-07-04T00:00:00+00:00\",\"2021-07-03T00:00:00+00:00\",\"2021-07-02T00:00:00+00:00\",\"2021-07-01T00:00:00+00:00\",\"2021-06-30T00:00:00+00:00\",\"2021-06-29T00:00:00+00:00\",\"2021-06-28T00:00:00+00:00\",\"2021-06-27T00:00:00+00:00\",\"2021-06-26T00:00:00+00:00\",\"2021-06-25T00:00:00+00:00\",\"2021-06-24T00:00:00+00:00\",\"2021-06-23T00:00:00+00:00\",\"2021-06-22T00:00:00+00:00\",\"2021-06-21T00:00:00+00:00\",\"2021-06-20T00:00:00+00:00\",\"2021-06-19T00:00:00+00:00\",\"2021-06-18T00:00:00+00:00\",\"2021-06-17T00:00:00+00:00\",\"2021-06-16T00:00:00+00:00\",\"2021-06-15T00:00:00+00:00\",\"2021-06-14T00:00:00+00:00\",\"2021-06-13T00:00:00+00:00\",\"2021-06-12T00:00:00+00:00\",\"2021-06-11T00:00:00+00:00\",\"2021-06-10T00:00:00+00:00\",\"2021-06-09T00:00:00+00:00\",\"2021-06-08T00:00:00+00:00\",\"2021-06-07T00:00:00+00:00\",\"2021-06-06T00:00:00+00:00\",\"2021-06-05T00:00:00+00:00\",\"2021-06-04T00:00:00+00:00\",\"2021-06-03T00:00:00+00:00\",\"2021-06-02T00:00:00+00:00\",\"2021-06-01T00:00:00+00:00\",\"2021-05-31T00:00:00+00:00\",\"2021-05-30T00:00:00+00:00\",\"2021-05-29T00:00:00+00:00\",\"2021-05-28T00:00:00+00:00\",\"2021-05-27T00:00:00+00:00\",\"2021-05-26T00:00:00+00:00\",\"2021-05-25T00:00:00+00:00\",\"2021-05-24T00:00:00+00:00\",\"2021-05-23T00:00:00+00:00\",\"2021-05-22T00:00:00+00:00\",\"2021-05-21T00:00:00+00:00\",\"2021-05-20T00:00:00+00:00\",\"2021-05-19T00:00:00+00:00\",\"2021-05-18T00:00:00+00:00\",\"2021-05-17T00:00:00+00:00\",\"2021-05-16T00:00:00+00:00\",\"2021-05-15T00:00:00+00:00\",\"2021-05-14T00:00:00+00:00\",\"2021-05-13T00:00:00+00:00\",\"2021-05-12T00:00:00+00:00\",\"2021-05-11T00:00:00+00:00\",\"2021-05-10T00:00:00+00:00\",\"2021-05-09T00:00:00+00:00\",\"2021-05-08T00:00:00+00:00\",\"2021-05-07T00:00:00+00:00\",\"2021-05-06T00:00:00+00:00\",\"2021-05-05T00:00:00+00:00\",\"2021-05-04T00:00:00+00:00\",\"2021-05-03T00:00:00+00:00\",\"2021-05-02T00:00:00+00:00\",\"2021-05-01T00:00:00+00:00\",\"2021-04-30T00:00:00+00:00\",\"2021-04-29T00:00:00+00:00\",\"2021-04-28T00:00:00+00:00\",\"2021-04-27T00:00:00+00:00\",\"2021-04-26T00:00:00+00:00\",\"2021-04-25T00:00:00+00:00\",\"2021-04-24T00:00:00+00:00\",\"2021-04-23T00:00:00+00:00\",\"2021-04-22T00:00:00+00:00\",\"2021-04-21T00:00:00+00:00\",\"2021-04-20T00:00:00+00:00\",\"2021-04-19T00:00:00+00:00\",\"2021-04-18T00:00:00+00:00\",\"2021-04-17T00:00:00+00:00\",\"2021-04-16T00:00:00+00:00\",\"2021-04-15T00:00:00+00:00\",\"2021-04-14T00:00:00+00:00\",\"2021-04-13T00:00:00+00:00\",\"2021-04-12T00:00:00+00:00\",\"2021-04-11T00:00:00+00:00\",\"2021-04-10T00:00:00+00:00\",\"2021-04-09T00:00:00+00:00\",\"2021-04-08T00:00:00+00:00\",\"2021-04-07T00:00:00+00:00\",\"2021-04-06T00:00:00+00:00\",\"2021-04-05T00:00:00+00:00\",\"2021-04-04T00:00:00+00:00\",\"2021-04-03T00:00:00+00:00\",\"2021-04-02T00:00:00+00:00\",\"2021-04-01T00:00:00+00:00\",\"2021-03-31T00:00:00+00:00\",\"2021-03-30T00:00:00+00:00\",\"2021-03-29T00:00:00+00:00\",\"2021-03-26T00:00:00+00:00\",\"2021-03-25T00:00:00+00:00\",\"2021-03-24T00:00:00+00:00\",\"2021-03-23T00:00:00+00:00\",\"2021-03-22T00:00:00+00:00\",\"2021-03-21T00:00:00+00:00\",\"2021-03-20T00:00:00+00:00\",\"2021-03-19T00:00:00+00:00\",\"2021-03-18T00:00:00+00:00\",\"2021-03-17T00:00:00+00:00\",\"2021-03-16T00:00:00+00:00\",\"2021-03-15T00:00:00+00:00\",\"2021-03-14T00:00:00+00:00\",\"2021-03-13T00:00:00+00:00\",\"2021-03-12T00:00:00+00:00\",\"2021-03-11T00:00:00+00:00\",\"2021-03-10T00:00:00+00:00\",\"2021-03-09T00:00:00+00:00\"],\"xaxis\":\"x\",\"y\":[0.051052618327454787,0.05526783115093032,0.061775340163512625,0.07071673047429687,0.08897839289782146,0.09351556624663018,0.09445269844690296,0.09468770820326307,0.08941387854544998,0.08267692289952364,0.07274855567425882,0.06750573440154643,0.06178011909591714,0.06141219810138948,0.05921991448953144,0.06050397058697731,0.0653201999173739,0.06647809663708196,0.062109506054851646,0.06882430505367368,0.06961812724198031,0.06957921526199594,0.0694979875237238,0.06464899809606063,0.061524171914912704,0.054887343844664996,0.05053852857539914,0.051556082361114294,0.057851798163858145,0.062214104717583714,0.06980053459928584,0.07777816042353003,0.08852629255706165,0.09583119148065242,0.09823689786265444,0.09673560657457236,0.09862083890481475,0.09855937911971477,0.09918281636244654,0.09983186068992896,0.10305720690753385,0.10891970016077855,0.12060133282084183,0.14441447384633713,0.16890413506704977,0.17037244315521932,0.16934420479347903,0.17361126787191253,0.17260779864988193,0.1609975867123228,0.14071630927336976,0.12497899825358241,0.1310106652049435,0.12654879223465448,0.12389541942073759,0.1253661812830141,0.1334315974722239,0.13123779703642982,0.12227618671180791,0.11510479794966308,0.1178105068446953,0.11443393014047774,0.11084063819970222,0.11171684133298053,0.1120699262521304,0.10982208078039908,0.10627851333790284,0.11107048512374407,0.10804789972474656,0.10789832787549043,0.09997464493157442,0.09732787581284268,0.10335165570321425,0.11754130809498563,0.11341703136665629,0.11623391678455428,0.1211369664339943,0.12744633439652867,0.13285249542741098,0.13358168526843814,0.15301513157795466,0.1725223696876432,0.20529701154282612,0.23444912877747243,0.24609071883329015,0.2634646984162503,0.2791223089160512,0.27484535391555875,0.27534238885570905,0.26565440381238264,0.2618335788353921,0.2683074721481777,0.26364829672284457,0.2607200927019076,0.2589330540043996,0.24955953966728034,0.2421598609165246,0.23150008797895466,0.2308128434050485,0.23227960903261088,0.24357818733547307,0.24583379790619267,0.2717888557725671,0.29609920945369106,0.32322480635540235,0.3416031997457035,0.35436100502992074,0.3556441269563683,0.3637634596582201,0.36369890440479186,0.34901588817558915,0.3365976213016729,0.3402362252105328,0.34845719365127925,0.3648711590448203,0.3669224533818768,0.36848612259927827,0.37914328908402267,0.39334478989646576,0.39002398636669744,null,null,null,null,null,null],\"yaxis\":\"y\"},{\"hovertemplate\":\"symbol=TLRY<br>day=%{x}<br>fraction_of_mentions_MA=%{y}<extra></extra>\",\"legendgroup\":\"TLRY\",\"line\":{\"color\":\"#ab63fa\",\"dash\":\"solid\"},\"mode\":\"lines\",\"name\":\"TLRY\",\"showlegend\":true,\"type\":\"scattergl\",\"x\":[\"2021-07-14T00:00:00+00:00\",\"2021-07-13T00:00:00+00:00\",\"2021-07-12T00:00:00+00:00\",\"2021-07-11T00:00:00+00:00\",\"2021-07-10T00:00:00+00:00\",\"2021-07-09T00:00:00+00:00\",\"2021-07-08T00:00:00+00:00\",\"2021-07-07T00:00:00+00:00\",\"2021-07-06T00:00:00+00:00\",\"2021-07-05T00:00:00+00:00\",\"2021-07-04T00:00:00+00:00\",\"2021-07-03T00:00:00+00:00\",\"2021-07-02T00:00:00+00:00\",\"2021-07-01T00:00:00+00:00\",\"2021-06-30T00:00:00+00:00\",\"2021-06-29T00:00:00+00:00\",\"2021-06-28T00:00:00+00:00\",\"2021-06-27T00:00:00+00:00\",\"2021-06-26T00:00:00+00:00\",\"2021-06-25T00:00:00+00:00\",\"2021-06-24T00:00:00+00:00\",\"2021-06-23T00:00:00+00:00\",\"2021-06-22T00:00:00+00:00\",\"2021-06-21T00:00:00+00:00\",\"2021-06-20T00:00:00+00:00\",\"2021-06-19T00:00:00+00:00\",\"2021-06-18T00:00:00+00:00\",\"2021-06-17T00:00:00+00:00\",\"2021-06-16T00:00:00+00:00\",\"2021-06-15T00:00:00+00:00\",\"2021-06-14T00:00:00+00:00\",\"2021-06-13T00:00:00+00:00\",\"2021-06-12T00:00:00+00:00\",\"2021-06-11T00:00:00+00:00\",\"2021-06-10T00:00:00+00:00\",\"2021-06-09T00:00:00+00:00\",\"2021-06-08T00:00:00+00:00\",\"2021-06-07T00:00:00+00:00\",\"2021-06-06T00:00:00+00:00\",\"2021-06-05T00:00:00+00:00\",\"2021-06-04T00:00:00+00:00\",\"2021-06-03T00:00:00+00:00\",\"2021-06-02T00:00:00+00:00\",\"2021-06-01T00:00:00+00:00\",\"2021-05-31T00:00:00+00:00\",\"2021-05-30T00:00:00+00:00\",\"2021-05-29T00:00:00+00:00\",\"2021-05-28T00:00:00+00:00\",\"2021-05-27T00:00:00+00:00\",\"2021-05-26T00:00:00+00:00\",\"2021-05-25T00:00:00+00:00\",\"2021-05-24T00:00:00+00:00\",\"2021-05-23T00:00:00+00:00\",\"2021-05-22T00:00:00+00:00\",\"2021-05-21T00:00:00+00:00\",\"2021-05-20T00:00:00+00:00\",\"2021-05-19T00:00:00+00:00\",\"2021-05-18T00:00:00+00:00\",\"2021-05-17T00:00:00+00:00\",\"2021-05-16T00:00:00+00:00\",\"2021-05-15T00:00:00+00:00\",\"2021-05-14T00:00:00+00:00\",\"2021-05-13T00:00:00+00:00\",\"2021-05-12T00:00:00+00:00\",\"2021-05-11T00:00:00+00:00\",\"2021-05-10T00:00:00+00:00\",\"2021-05-09T00:00:00+00:00\",\"2021-05-08T00:00:00+00:00\",\"2021-05-07T00:00:00+00:00\",\"2021-05-06T00:00:00+00:00\",\"2021-05-05T00:00:00+00:00\",\"2021-05-04T00:00:00+00:00\",\"2021-05-03T00:00:00+00:00\",\"2021-05-02T00:00:00+00:00\",\"2021-05-01T00:00:00+00:00\",\"2021-04-30T00:00:00+00:00\",\"2021-04-29T00:00:00+00:00\",\"2021-04-28T00:00:00+00:00\",\"2021-04-27T00:00:00+00:00\",\"2021-04-26T00:00:00+00:00\",\"2021-04-25T00:00:00+00:00\",\"2021-04-24T00:00:00+00:00\",\"2021-04-23T00:00:00+00:00\",\"2021-04-22T00:00:00+00:00\",\"2021-04-21T00:00:00+00:00\",\"2021-04-20T00:00:00+00:00\",\"2021-04-19T00:00:00+00:00\",\"2021-04-18T00:00:00+00:00\",\"2021-04-17T00:00:00+00:00\",\"2021-04-16T00:00:00+00:00\",\"2021-04-15T00:00:00+00:00\",\"2021-04-14T00:00:00+00:00\",\"2021-04-13T00:00:00+00:00\",\"2021-04-12T00:00:00+00:00\",\"2021-04-11T00:00:00+00:00\",\"2021-04-10T00:00:00+00:00\",\"2021-04-09T00:00:00+00:00\",\"2021-04-08T00:00:00+00:00\",\"2021-04-07T00:00:00+00:00\",\"2021-04-06T00:00:00+00:00\",\"2021-04-05T00:00:00+00:00\",\"2021-04-04T00:00:00+00:00\",\"2021-04-03T00:00:00+00:00\",\"2021-04-02T00:00:00+00:00\",\"2021-04-01T00:00:00+00:00\",\"2021-03-31T00:00:00+00:00\",\"2021-03-30T00:00:00+00:00\",\"2021-03-29T00:00:00+00:00\",\"2021-03-26T00:00:00+00:00\",\"2021-03-25T00:00:00+00:00\",\"2021-03-24T00:00:00+00:00\",\"2021-03-23T00:00:00+00:00\",\"2021-03-22T00:00:00+00:00\",\"2021-03-21T00:00:00+00:00\",\"2021-03-20T00:00:00+00:00\",\"2021-03-19T00:00:00+00:00\",\"2021-03-18T00:00:00+00:00\",\"2021-03-17T00:00:00+00:00\",\"2021-03-16T00:00:00+00:00\",\"2021-03-15T00:00:00+00:00\",\"2021-03-14T00:00:00+00:00\",\"2021-03-13T00:00:00+00:00\",\"2021-03-12T00:00:00+00:00\",\"2021-03-11T00:00:00+00:00\",\"2021-03-10T00:00:00+00:00\",\"2021-03-09T00:00:00+00:00\"],\"xaxis\":\"x\",\"y\":[0.013176439010842879,0.008711264914551091,0.005160351879499143,0.0048058681064732925,0.004894750732130529,0.004809660558354509,0.005043302412706724,0.0051910626786726855,0.0059477557798288585,0.0069652242785625115,0.008050310136743039,0.009243645114706777,0.00987454775776452,0.010593189543622991,0.012293726172692655,0.012443173988947643,0.012195523230378221,0.013760377122514638,0.01323691543172788,0.013330522155726556,0.013462967658647771,0.012337331326031802,0.01242170030155352,0.012529198681709092,0.01160124878511512,0.013028326186316002,0.01342062146831277,0.013828783583823593,0.014722086135583548,0.016997360500137712,0.01774372047849027,0.01907166168937397,0.019106327652462906,0.01903751624870986,0.020204500395453795,0.021967500990042133,0.020951677793536957,0.020423230643164557,0.02038684002436714,0.02037831451566589,0.021099109101156203,0.022446765305553458,0.02057797141820977,0.01909100970581141,0.01856968301211211,0.015711497595586953,0.01322325838035947,0.011757409775666635,0.007905843594913977,0.006247564312827599,0.005029408518770347,0.004371738563156359,0.004852140537053276,0.0049166913272604236,0.004661675839062739,0.004713778569713689,0.004998312234764662,0.005350716419490491,0.005381593947488729,0.006191639962941678,0.007894641312312342,0.009089946348081617,0.014258788127180963,0.014773185158931595,0.015132995080956299,0.015702127711045552,0.016450683462460505,0.01476988488652099,0.013705393815100383,0.009221576722228916,0.008415039875921319,0.008480628492911804,0.007670812626904412,0.0055038117041710174,0.00557855963467424,0.005288048916832273,0.004326493299668085,0.003679244879278336,0.00324749660673922,0.004852795539432362,0.005684030244084938,0.005998678373989373,0.006173084708438438,0.006340627061371203,0.007480975012682003,0.007457599439880333,0.007104712928684663,0.007715899050142644,0.007805459070961357,0.008298171437352122,0.00911024508790129,0.009416328927413559,0.010131863945806535,0.00928774055256196,0.0083009834786122,0.008053477992333915,0.007945510676749484,0.006882928923067278,0.005996388117525169,0.006090848146001428,0.0054398406589382525,0.004790383897502813,0.004487381536529003,0.004342942392964589,0.004436662727418486,0.004443837164825409,0.0034291800373513386,0.003626015935776033,0.003796766989486574,0.004086167751454148,0.003923699588098258,0.0038383951768447833,0.004042954441216576,0.004451450102467107,0.004835641222820932,0.0050555873005567135,0.005644313555346192,0.0065251252645003605,0.006296195850950388,0.005634793400117284,null,null,null,null,null,null],\"yaxis\":\"y\"},{\"hovertemplate\":\"symbol=CLF<br>day=%{x}<br>fraction_of_mentions_MA=%{y}<extra></extra>\",\"legendgroup\":\"CLF\",\"line\":{\"color\":\"#FFA15A\",\"dash\":\"solid\"},\"mode\":\"lines\",\"name\":\"CLF\",\"showlegend\":true,\"type\":\"scattergl\",\"x\":[\"2021-07-14T00:00:00+00:00\",\"2021-07-13T00:00:00+00:00\",\"2021-07-12T00:00:00+00:00\",\"2021-07-11T00:00:00+00:00\",\"2021-07-10T00:00:00+00:00\",\"2021-07-09T00:00:00+00:00\",\"2021-07-08T00:00:00+00:00\",\"2021-07-07T00:00:00+00:00\",\"2021-07-06T00:00:00+00:00\",\"2021-07-05T00:00:00+00:00\",\"2021-07-04T00:00:00+00:00\",\"2021-07-03T00:00:00+00:00\",\"2021-07-02T00:00:00+00:00\",\"2021-07-01T00:00:00+00:00\",\"2021-06-30T00:00:00+00:00\",\"2021-06-29T00:00:00+00:00\",\"2021-06-28T00:00:00+00:00\",\"2021-06-27T00:00:00+00:00\",\"2021-06-26T00:00:00+00:00\",\"2021-06-25T00:00:00+00:00\",\"2021-06-24T00:00:00+00:00\",\"2021-06-23T00:00:00+00:00\",\"2021-06-22T00:00:00+00:00\",\"2021-06-21T00:00:00+00:00\",\"2021-06-20T00:00:00+00:00\",\"2021-06-19T00:00:00+00:00\",\"2021-06-18T00:00:00+00:00\",\"2021-06-17T00:00:00+00:00\",\"2021-06-16T00:00:00+00:00\",\"2021-06-15T00:00:00+00:00\",\"2021-06-14T00:00:00+00:00\",\"2021-06-13T00:00:00+00:00\",\"2021-06-12T00:00:00+00:00\",\"2021-06-11T00:00:00+00:00\",\"2021-06-10T00:00:00+00:00\",\"2021-06-09T00:00:00+00:00\",\"2021-06-08T00:00:00+00:00\",\"2021-06-07T00:00:00+00:00\",\"2021-06-06T00:00:00+00:00\",\"2021-06-05T00:00:00+00:00\",\"2021-06-03T00:00:00+00:00\",\"2021-06-02T00:00:00+00:00\",\"2021-06-01T00:00:00+00:00\",\"2021-05-31T00:00:00+00:00\",\"2021-05-30T00:00:00+00:00\",\"2021-05-28T00:00:00+00:00\",\"2021-05-27T00:00:00+00:00\",\"2021-05-26T00:00:00+00:00\",\"2021-05-25T00:00:00+00:00\",\"2021-05-24T00:00:00+00:00\",\"2021-05-23T00:00:00+00:00\",\"2021-05-22T00:00:00+00:00\",\"2021-05-21T00:00:00+00:00\",\"2021-05-20T00:00:00+00:00\",\"2021-05-19T00:00:00+00:00\",\"2021-05-18T00:00:00+00:00\",\"2021-05-17T00:00:00+00:00\",\"2021-05-16T00:00:00+00:00\",\"2021-05-15T00:00:00+00:00\",\"2021-05-14T00:00:00+00:00\",\"2021-05-13T00:00:00+00:00\",\"2021-05-12T00:00:00+00:00\",\"2021-05-11T00:00:00+00:00\",\"2021-05-10T00:00:00+00:00\",\"2021-05-09T00:00:00+00:00\",\"2021-05-08T00:00:00+00:00\",\"2021-05-07T00:00:00+00:00\",\"2021-05-06T00:00:00+00:00\",\"2021-05-05T00:00:00+00:00\",\"2021-05-04T00:00:00+00:00\",\"2021-05-03T00:00:00+00:00\",\"2021-05-02T00:00:00+00:00\",\"2021-05-01T00:00:00+00:00\",\"2021-04-30T00:00:00+00:00\",\"2021-04-29T00:00:00+00:00\",\"2021-04-28T00:00:00+00:00\",\"2021-04-27T00:00:00+00:00\",\"2021-04-26T00:00:00+00:00\",\"2021-04-25T00:00:00+00:00\",\"2021-04-24T00:00:00+00:00\",\"2021-04-23T00:00:00+00:00\",\"2021-04-22T00:00:00+00:00\",\"2021-04-21T00:00:00+00:00\",\"2021-04-20T00:00:00+00:00\",\"2021-04-19T00:00:00+00:00\",\"2021-04-18T00:00:00+00:00\",\"2021-04-17T00:00:00+00:00\",\"2021-04-16T00:00:00+00:00\",\"2021-04-15T00:00:00+00:00\",\"2021-04-14T00:00:00+00:00\",\"2021-04-13T00:00:00+00:00\",\"2021-04-12T00:00:00+00:00\",\"2021-04-11T00:00:00+00:00\",\"2021-04-10T00:00:00+00:00\",\"2021-04-09T00:00:00+00:00\",\"2021-04-08T00:00:00+00:00\",\"2021-04-07T00:00:00+00:00\",\"2021-04-06T00:00:00+00:00\",\"2021-04-05T00:00:00+00:00\",\"2021-04-04T00:00:00+00:00\",\"2021-04-03T00:00:00+00:00\",\"2021-04-02T00:00:00+00:00\",\"2021-04-01T00:00:00+00:00\",\"2021-03-31T00:00:00+00:00\",\"2021-03-30T00:00:00+00:00\",\"2021-03-29T00:00:00+00:00\",\"2021-03-26T00:00:00+00:00\",\"2021-03-25T00:00:00+00:00\",\"2021-03-24T00:00:00+00:00\",\"2021-03-23T00:00:00+00:00\",\"2021-03-22T00:00:00+00:00\",\"2021-03-21T00:00:00+00:00\",\"2021-03-20T00:00:00+00:00\",\"2021-03-19T00:00:00+00:00\",\"2021-03-18T00:00:00+00:00\",\"2021-03-17T00:00:00+00:00\",\"2021-03-16T00:00:00+00:00\",\"2021-03-15T00:00:00+00:00\",\"2021-03-14T00:00:00+00:00\",\"2021-03-13T00:00:00+00:00\",\"2021-03-12T00:00:00+00:00\",\"2021-03-11T00:00:00+00:00\",\"2021-03-10T00:00:00+00:00\",\"2021-03-09T00:00:00+00:00\"],\"xaxis\":\"x\",\"y\":[0.012483683334801746,0.013376765125215361,0.014443753892423706,0.01411242574047598,0.015016712705434318,0.016864057107683118,0.017097314244605748,0.018625262548582426,0.01782560636474736,0.0179233375953858,0.01844670151394586,0.019005557567444913,0.01694316447677707,0.015457114965828814,0.016546656147695838,0.016296504385429737,0.015202188563100823,0.015648806758551882,0.017461393259434018,0.017583909971655383,0.018075769625485027,0.017170895321138517,0.018556479287375183,0.021266075955032274,0.021809940330679508,0.02205824729829115,0.02471613813651999,0.02875461319617325,0.034822856064618234,0.03951766209428642,0.0355573965685179,0.03246614108532716,0.028030664256226114,0.02373985701141107,0.016861486305724715,0.00772113949627086,0.0003564022566357761,0.00037492190501760075,0.0004112218760661985,0.0004599537099604616,0.00047658087374969867,0.00047308011087299765,0.0005862307510231284,0.0007311819047778308,0.000769021425212797,0.0008603757595815359,0.001236236064573463,0.001631343145598053,0.002117289626553988,0.0020815685673986387,0.0022250838082285397,0.002340030623862117,0.002611239320165659,0.002475393627968842,0.002303560213952955,0.002262748135836305,0.0027850580532723028,0.0034117054344295896,0.0033682454131862467,0.003258535109412079,0.003446578715188603,0.0035587683832727013,0.0036204847589931784,0.004083531699849038,0.0032631617479014336,0.0032621799432409316,0.0030362533326331468,0.0026676558072746682,0.0023156691157678157,0.0018892263996054732,0.0009193497767578121,0.0011773154309867597,0.001981525969832128,0.0021406724159510715,0.002303920238082236,0.0025039455199271873,0.0026801183882362235,0.002595237717213971,0.0022910064299613534,0.0016386966945801061,0.0014602343988647825,0.0012525015509292365,0.001082144311517982,0.0008850306595211676,0.0009392976766180276,0.0008951082885941281,0.000638865687338516,0.0006537660468123683,0.000759651288792788,0.0009123529637178142,0.0012466338640433662,0.0014006925865792102,0.0017200566543786743,0.0021960567417335522,0.002227032604415063,0.0023314534796277375,0.002557547948538407,0.0033872827981331816,0.0036489583854055563,0.003519068022194145,0.0029647760990735095,0.0029108548925235104,0.0026619742770219884,0.0022189241193284683,0.001016184834876469,0.0005570575907305156,0.00035739254368787765,0.0003154151991699626,0.000327555396654031,0.0003470971026121251,0.00042433500669490355,0.0004798479802804365,0.0005239958909867378,0.0005608071427904432,0.0007420573675297168,0.000791637480415507,0.000760616955050763,0.0008425820000165432,null,null,null,null,null,null],\"yaxis\":\"y\"},{\"hovertemplate\":\"symbol=CLNE<br>day=%{x}<br>fraction_of_mentions_MA=%{y}<extra></extra>\",\"legendgroup\":\"CLNE\",\"line\":{\"color\":\"#19d3f3\",\"dash\":\"solid\"},\"mode\":\"lines\",\"name\":\"CLNE\",\"showlegend\":true,\"type\":\"scattergl\",\"x\":[\"2021-07-14T00:00:00+00:00\",\"2021-07-13T00:00:00+00:00\",\"2021-07-12T00:00:00+00:00\",\"2021-07-11T00:00:00+00:00\",\"2021-07-10T00:00:00+00:00\",\"2021-07-09T00:00:00+00:00\",\"2021-07-08T00:00:00+00:00\",\"2021-07-07T00:00:00+00:00\",\"2021-07-06T00:00:00+00:00\",\"2021-07-05T00:00:00+00:00\",\"2021-07-04T00:00:00+00:00\",\"2021-07-03T00:00:00+00:00\",\"2021-07-02T00:00:00+00:00\",\"2021-07-01T00:00:00+00:00\",\"2021-06-30T00:00:00+00:00\",\"2021-06-29T00:00:00+00:00\",\"2021-06-28T00:00:00+00:00\",\"2021-06-27T00:00:00+00:00\",\"2021-06-26T00:00:00+00:00\",\"2021-06-25T00:00:00+00:00\",\"2021-06-24T00:00:00+00:00\",\"2021-06-23T00:00:00+00:00\",\"2021-06-22T00:00:00+00:00\",\"2021-06-21T00:00:00+00:00\",\"2021-06-20T00:00:00+00:00\",\"2021-06-19T00:00:00+00:00\",\"2021-06-18T00:00:00+00:00\",\"2021-06-17T00:00:00+00:00\",\"2021-06-16T00:00:00+00:00\",\"2021-06-15T00:00:00+00:00\",\"2021-06-14T00:00:00+00:00\",\"2021-06-13T00:00:00+00:00\",\"2021-06-12T00:00:00+00:00\",\"2021-06-11T00:00:00+00:00\",\"2021-06-10T00:00:00+00:00\",\"2021-06-09T00:00:00+00:00\",\"2021-06-08T00:00:00+00:00\",\"2021-06-07T00:00:00+00:00\",\"2021-06-06T00:00:00+00:00\",\"2021-06-05T00:00:00+00:00\",\"2021-06-04T00:00:00+00:00\",\"2021-06-03T00:00:00+00:00\",\"2021-06-02T00:00:00+00:00\",\"2021-06-01T00:00:00+00:00\",\"2021-05-31T00:00:00+00:00\",\"2021-05-30T00:00:00+00:00\",\"2021-05-28T00:00:00+00:00\",\"2021-05-27T00:00:00+00:00\",\"2021-05-26T00:00:00+00:00\",\"2021-05-25T00:00:00+00:00\",\"2021-05-24T00:00:00+00:00\",\"2021-05-23T00:00:00+00:00\",\"2021-05-22T00:00:00+00:00\",\"2021-05-21T00:00:00+00:00\",\"2021-05-20T00:00:00+00:00\",\"2021-05-19T00:00:00+00:00\",\"2021-05-18T00:00:00+00:00\",\"2021-05-17T00:00:00+00:00\",\"2021-05-16T00:00:00+00:00\",\"2021-05-15T00:00:00+00:00\",\"2021-05-14T00:00:00+00:00\",\"2021-05-13T00:00:00+00:00\",\"2021-05-12T00:00:00+00:00\",\"2021-05-11T00:00:00+00:00\",\"2021-05-10T00:00:00+00:00\",\"2021-05-09T00:00:00+00:00\",\"2021-05-08T00:00:00+00:00\",\"2021-05-07T00:00:00+00:00\",\"2021-05-06T00:00:00+00:00\",\"2021-05-05T00:00:00+00:00\",\"2021-05-04T00:00:00+00:00\",\"2021-05-03T00:00:00+00:00\",\"2021-05-02T00:00:00+00:00\",\"2021-05-01T00:00:00+00:00\",\"2021-04-30T00:00:00+00:00\",\"2021-04-29T00:00:00+00:00\",\"2021-04-28T00:00:00+00:00\",\"2021-04-27T00:00:00+00:00\",\"2021-04-26T00:00:00+00:00\",\"2021-04-25T00:00:00+00:00\",\"2021-04-24T00:00:00+00:00\",\"2021-04-23T00:00:00+00:00\",\"2021-04-22T00:00:00+00:00\",\"2021-04-21T00:00:00+00:00\",\"2021-04-20T00:00:00+00:00\",\"2021-04-19T00:00:00+00:00\",\"2021-04-17T00:00:00+00:00\",\"2021-04-16T00:00:00+00:00\",\"2021-04-15T00:00:00+00:00\",\"2021-04-14T00:00:00+00:00\",\"2021-04-13T00:00:00+00:00\",\"2021-04-12T00:00:00+00:00\",\"2021-04-10T00:00:00+00:00\",\"2021-04-09T00:00:00+00:00\",\"2021-04-08T00:00:00+00:00\",\"2021-04-06T00:00:00+00:00\",\"2021-04-05T00:00:00+00:00\",\"2021-04-02T00:00:00+00:00\",\"2021-04-01T00:00:00+00:00\",\"2021-03-31T00:00:00+00:00\",\"2021-03-30T00:00:00+00:00\",\"2021-03-29T00:00:00+00:00\",\"2021-03-26T00:00:00+00:00\",\"2021-03-25T00:00:00+00:00\",\"2021-03-24T00:00:00+00:00\",\"2021-03-23T00:00:00+00:00\",\"2021-03-22T00:00:00+00:00\",\"2021-03-21T00:00:00+00:00\",\"2021-03-20T00:00:00+00:00\",\"2021-03-19T00:00:00+00:00\",\"2021-03-18T00:00:00+00:00\",\"2021-03-17T00:00:00+00:00\",\"2021-03-16T00:00:00+00:00\",\"2021-03-15T00:00:00+00:00\",\"2021-03-14T00:00:00+00:00\",\"2021-03-13T00:00:00+00:00\",\"2021-03-12T00:00:00+00:00\",\"2021-03-11T00:00:00+00:00\",\"2021-03-10T00:00:00+00:00\",\"2021-03-09T00:00:00+00:00\"],\"xaxis\":\"x\",\"y\":[0.015255815005972255,0.015682067564685907,0.017564467876643567,0.016782746043224474,0.01858546464102901,0.018978394535219538,0.021009367168749626,0.022870079371387634,0.02374798485102611,0.02311111712687604,0.025278074930226102,0.026381196986135107,0.027099644791466822,0.02648279649866194,0.026504710021557795,0.027161479153250245,0.029507335451031607,0.034755971416591314,0.03645177300438123,0.03844732116518447,0.059716905937786856,0.06864382228161274,0.0734934224168879,0.0810860261692025,0.08820263713175724,0.09802620556130946,0.10325994151071798,0.0875024519545711,0.08491535319905393,0.08889463722669719,0.08431293676093525,0.07938874084037971,0.07407126647858105,0.06954866357522209,0.06801123104909786,0.061937459578914486,0.048529419192602674,0.0392179031982838,0.02823411051504316,0.01876117838837238,0.013385159919340167,0.005986334029543649,0.0014091246072397783,0.0010161401521498038,0.0011491070841253613,0.0011244817410460543,0.001143227616529333,0.0015647091933177234,0.0022600820063403866,0.002297300598186715,0.0025579106760093514,0.0026762875470848053,0.0026801479374795466,0.003069225563533206,0.0029401815332374542,0.002616338102329296,0.0027656463064810767,0.002980029214042778,0.0030993899861996737,0.003088931042910584,0.0034240980108494394,0.004146645060161802,0.004288075846580746,0.004391366991729378,0.004011143666300884,0.004013207526004313,0.0043235853058216376,0.004259386118382816,0.0037685166345805513,0.0035687352391287367,0.0034933433413069323,0.003623518883381141,0.0036221570929574867,0.003967553225905564,0.0034443667974977566,0.003002934359653218,0.002731908508389544,0.0027357993700178815,0.00307252874115393,0.003552616858438873,0.002896036191133826,0.0026405961893107796,0.002570099108168583,0.0025846408791440627,0.0023350777453204526,0.0016538324712847914,0.0007645536238781715,0.0007390466968487822,0.0007085318782202179,0.0007712334671998404,0.0008378509031875381,0.0007569208048356266,0.0007465552621500219,0.0008089846757909006,0.0007199644076938346,0.0007286224149718354,0.0005830228404156187,0.0004510840962786739,0.0004571238185295812,0.0005107358855484268,0.0005050881546105056,0.0004899174432786138,0.000454782662326288,0.0005384855302888525,0.0005578781417215103,0.0005023353429184251,0.00040376072824145165,0.00039892002930601176,0.0005451179558624011,0.0006024310938396344,0.000554742646306332,0.0005809928282205803,0.0005930846421873187,0.0005947870047354998,null,null,null,null,null,null],\"yaxis\":\"y\"},{\"hovertemplate\":\"symbol=BB<br>day=%{x}<br>fraction_of_mentions_MA=%{y}<extra></extra>\",\"legendgroup\":\"BB\",\"line\":{\"color\":\"#FF6692\",\"dash\":\"solid\"},\"mode\":\"lines\",\"name\":\"BB\",\"showlegend\":true,\"type\":\"scattergl\",\"x\":[\"2021-07-14T00:00:00+00:00\",\"2021-07-13T00:00:00+00:00\",\"2021-07-12T00:00:00+00:00\",\"2021-07-11T00:00:00+00:00\",\"2021-07-10T00:00:00+00:00\",\"2021-07-09T00:00:00+00:00\",\"2021-07-08T00:00:00+00:00\",\"2021-07-07T00:00:00+00:00\",\"2021-07-06T00:00:00+00:00\",\"2021-07-05T00:00:00+00:00\",\"2021-07-04T00:00:00+00:00\",\"2021-07-03T00:00:00+00:00\",\"2021-07-02T00:00:00+00:00\",\"2021-07-01T00:00:00+00:00\",\"2021-06-30T00:00:00+00:00\",\"2021-06-29T00:00:00+00:00\",\"2021-06-28T00:00:00+00:00\",\"2021-06-27T00:00:00+00:00\",\"2021-06-26T00:00:00+00:00\",\"2021-06-25T00:00:00+00:00\",\"2021-06-24T00:00:00+00:00\",\"2021-06-23T00:00:00+00:00\",\"2021-06-22T00:00:00+00:00\",\"2021-06-21T00:00:00+00:00\",\"2021-06-20T00:00:00+00:00\",\"2021-06-19T00:00:00+00:00\",\"2021-06-18T00:00:00+00:00\",\"2021-06-17T00:00:00+00:00\",\"2021-06-16T00:00:00+00:00\",\"2021-06-15T00:00:00+00:00\",\"2021-06-14T00:00:00+00:00\",\"2021-06-13T00:00:00+00:00\",\"2021-06-12T00:00:00+00:00\",\"2021-06-11T00:00:00+00:00\",\"2021-06-10T00:00:00+00:00\",\"2021-06-09T00:00:00+00:00\",\"2021-06-08T00:00:00+00:00\",\"2021-06-07T00:00:00+00:00\",\"2021-06-06T00:00:00+00:00\",\"2021-06-05T00:00:00+00:00\",\"2021-06-04T00:00:00+00:00\",\"2021-06-03T00:00:00+00:00\",\"2021-06-02T00:00:00+00:00\",\"2021-06-01T00:00:00+00:00\",\"2021-05-31T00:00:00+00:00\",\"2021-05-30T00:00:00+00:00\",\"2021-05-29T00:00:00+00:00\",\"2021-05-28T00:00:00+00:00\",\"2021-05-27T00:00:00+00:00\",\"2021-05-26T00:00:00+00:00\",\"2021-05-25T00:00:00+00:00\",\"2021-05-24T00:00:00+00:00\",\"2021-05-23T00:00:00+00:00\",\"2021-05-22T00:00:00+00:00\",\"2021-05-21T00:00:00+00:00\",\"2021-05-20T00:00:00+00:00\",\"2021-05-19T00:00:00+00:00\",\"2021-05-18T00:00:00+00:00\",\"2021-05-17T00:00:00+00:00\",\"2021-05-16T00:00:00+00:00\",\"2021-05-15T00:00:00+00:00\",\"2021-05-14T00:00:00+00:00\",\"2021-05-13T00:00:00+00:00\",\"2021-05-12T00:00:00+00:00\",\"2021-05-11T00:00:00+00:00\",\"2021-05-10T00:00:00+00:00\",\"2021-05-09T00:00:00+00:00\",\"2021-05-08T00:00:00+00:00\",\"2021-05-07T00:00:00+00:00\",\"2021-05-06T00:00:00+00:00\",\"2021-05-05T00:00:00+00:00\",\"2021-05-04T00:00:00+00:00\",\"2021-05-03T00:00:00+00:00\",\"2021-05-02T00:00:00+00:00\",\"2021-05-01T00:00:00+00:00\",\"2021-04-30T00:00:00+00:00\",\"2021-04-29T00:00:00+00:00\",\"2021-04-28T00:00:00+00:00\",\"2021-04-27T00:00:00+00:00\",\"2021-04-26T00:00:00+00:00\",\"2021-04-25T00:00:00+00:00\",\"2021-04-24T00:00:00+00:00\",\"2021-04-23T00:00:00+00:00\",\"2021-04-22T00:00:00+00:00\",\"2021-04-21T00:00:00+00:00\",\"2021-04-20T00:00:00+00:00\",\"2021-04-19T00:00:00+00:00\",\"2021-04-18T00:00:00+00:00\",\"2021-04-17T00:00:00+00:00\",\"2021-04-16T00:00:00+00:00\",\"2021-04-15T00:00:00+00:00\",\"2021-04-14T00:00:00+00:00\",\"2021-04-13T00:00:00+00:00\",\"2021-04-12T00:00:00+00:00\",\"2021-04-11T00:00:00+00:00\",\"2021-04-10T00:00:00+00:00\",\"2021-04-09T00:00:00+00:00\",\"2021-04-08T00:00:00+00:00\",\"2021-04-07T00:00:00+00:00\",\"2021-04-06T00:00:00+00:00\",\"2021-04-05T00:00:00+00:00\",\"2021-04-04T00:00:00+00:00\",\"2021-04-03T00:00:00+00:00\",\"2021-04-02T00:00:00+00:00\",\"2021-04-01T00:00:00+00:00\",\"2021-03-31T00:00:00+00:00\",\"2021-03-30T00:00:00+00:00\",\"2021-03-29T00:00:00+00:00\",\"2021-03-26T00:00:00+00:00\",\"2021-03-25T00:00:00+00:00\",\"2021-03-24T00:00:00+00:00\",\"2021-03-23T00:00:00+00:00\",\"2021-03-22T00:00:00+00:00\",\"2021-03-21T00:00:00+00:00\",\"2021-03-20T00:00:00+00:00\",\"2021-03-19T00:00:00+00:00\",\"2021-03-18T00:00:00+00:00\",\"2021-03-17T00:00:00+00:00\",\"2021-03-16T00:00:00+00:00\",\"2021-03-15T00:00:00+00:00\",\"2021-03-14T00:00:00+00:00\",\"2021-03-13T00:00:00+00:00\",\"2021-03-12T00:00:00+00:00\",\"2021-03-11T00:00:00+00:00\",\"2021-03-10T00:00:00+00:00\",\"2021-03-09T00:00:00+00:00\"],\"xaxis\":\"x\",\"y\":[0.019503226006478747,0.019461667209337015,0.019219538358285115,0.02060480916219623,0.02258002979143917,0.02669205835112958,0.027084618097549105,0.028276992676776184,0.02820531744174581,0.02990218148432288,0.03284063203903935,0.033931326432780025,0.0353652653730553,0.04076275159506796,0.04369155721099694,0.04657403361656808,0.0516065135802769,0.054277648567031565,0.05716512784045894,0.06020802484667097,0.06317854171492356,0.0690718855308796,0.0708332895397136,0.06678243247320205,0.06434711269991908,0.06407820207469579,0.06401017234429947,0.06524262062145157,0.06453876560454727,0.06785065473772948,0.07749424109031368,0.10181768981265622,0.12519885694113736,0.147794325398356,0.17940171040529032,0.21563341966234775,0.2441037506890822,0.2628007893541068,0.2554677011062993,0.2418244565462341,0.22248077521107984,0.19579586544821634,0.1580882416822257,0.12610116600152896,0.0930738654278688,0.06900873944517728,0.052487915908619995,0.04053499064721285,0.024002944703926228,0.014370054016861407,0.00811589061447655,0.008188727933601236,0.008374363960039892,0.00911186728567129,0.009411276398812243,0.010809503038013698,0.01163124974381651,0.011698096508499732,0.010742347849380074,0.010622052761953065,0.01044379532937864,0.01024341151577419,0.009697494542423588,0.00893219914140891,0.008495430246088167,0.008524575838029963,0.00858742510100161,0.008496818556618163,0.008378115673235051,0.007636444809194775,0.00794475928051897,0.008190424829922837,0.00893551442095982,0.009766126324199976,0.010811595605231246,0.010584730109022247,0.011127820197945722,0.01183363750429213,0.014005215368972415,0.015466883951761662,0.015972548204973357,0.017231140724591098,0.018805609892067237,0.018620667418945032,0.018413704017409833,0.016243635973570585,0.014720435616561148,0.014356207231267144,0.012694505763914527,0.01086172581635379,0.011878607895137684,0.013473224056352916,0.016623519762932103,0.017390504965633158,0.01812686494673253,0.019575583993847602,0.0211019337375987,0.02162078302530464,0.02124858458361445,0.02358477009393614,0.027311342342592852,0.027584523808087142,0.025578974455684793,0.02449906735712063,0.02264803017085547,0.020836566347876395,0.015465756748608698,0.010331297272212584,0.008778740194320785,0.008578431885481403,0.008231165873807084,0.008321512289419833,0.009283329695741438,0.010740188604766015,0.011654768772030057,0.013983184109836639,0.01785269213781142,0.018011525048487825,0.018976855730575514,0.019221758135206404,null,null,null,null,null,null],\"yaxis\":\"y\"},{\"hovertemplate\":\"symbol=UWMC<br>day=%{x}<br>fraction_of_mentions_MA=%{y}<extra></extra>\",\"legendgroup\":\"UWMC\",\"line\":{\"color\":\"#B6E880\",\"dash\":\"solid\"},\"mode\":\"lines\",\"name\":\"UWMC\",\"showlegend\":true,\"type\":\"scattergl\",\"x\":[\"2021-07-14T00:00:00+00:00\",\"2021-07-13T00:00:00+00:00\",\"2021-07-12T00:00:00+00:00\",\"2021-07-11T00:00:00+00:00\",\"2021-07-10T00:00:00+00:00\",\"2021-07-09T00:00:00+00:00\",\"2021-07-08T00:00:00+00:00\",\"2021-07-07T00:00:00+00:00\",\"2021-07-06T00:00:00+00:00\",\"2021-07-05T00:00:00+00:00\",\"2021-07-04T00:00:00+00:00\",\"2021-07-03T00:00:00+00:00\",\"2021-07-02T00:00:00+00:00\",\"2021-07-01T00:00:00+00:00\",\"2021-06-30T00:00:00+00:00\",\"2021-06-29T00:00:00+00:00\",\"2021-06-28T00:00:00+00:00\",\"2021-06-27T00:00:00+00:00\",\"2021-06-26T00:00:00+00:00\",\"2021-06-25T00:00:00+00:00\",\"2021-06-24T00:00:00+00:00\",\"2021-06-23T00:00:00+00:00\",\"2021-06-22T00:00:00+00:00\",\"2021-06-21T00:00:00+00:00\",\"2021-06-20T00:00:00+00:00\",\"2021-06-19T00:00:00+00:00\",\"2021-06-18T00:00:00+00:00\",\"2021-06-17T00:00:00+00:00\",\"2021-06-16T00:00:00+00:00\",\"2021-06-15T00:00:00+00:00\",\"2021-06-14T00:00:00+00:00\",\"2021-06-13T00:00:00+00:00\",\"2021-06-12T00:00:00+00:00\",\"2021-06-11T00:00:00+00:00\",\"2021-06-10T00:00:00+00:00\",\"2021-06-09T00:00:00+00:00\",\"2021-06-08T00:00:00+00:00\",\"2021-06-07T00:00:00+00:00\",\"2021-06-06T00:00:00+00:00\",\"2021-06-05T00:00:00+00:00\",\"2021-06-04T00:00:00+00:00\",\"2021-06-03T00:00:00+00:00\",\"2021-06-02T00:00:00+00:00\",\"2021-06-01T00:00:00+00:00\",\"2021-05-31T00:00:00+00:00\",\"2021-05-30T00:00:00+00:00\",\"2021-05-29T00:00:00+00:00\",\"2021-05-28T00:00:00+00:00\",\"2021-05-27T00:00:00+00:00\",\"2021-05-26T00:00:00+00:00\",\"2021-05-25T00:00:00+00:00\",\"2021-05-24T00:00:00+00:00\",\"2021-05-23T00:00:00+00:00\",\"2021-05-22T00:00:00+00:00\",\"2021-05-21T00:00:00+00:00\",\"2021-05-20T00:00:00+00:00\",\"2021-05-19T00:00:00+00:00\",\"2021-05-18T00:00:00+00:00\",\"2021-05-17T00:00:00+00:00\",\"2021-05-16T00:00:00+00:00\",\"2021-05-15T00:00:00+00:00\",\"2021-05-14T00:00:00+00:00\",\"2021-05-13T00:00:00+00:00\",\"2021-05-12T00:00:00+00:00\",\"2021-05-11T00:00:00+00:00\",\"2021-05-10T00:00:00+00:00\",\"2021-05-09T00:00:00+00:00\",\"2021-05-08T00:00:00+00:00\",\"2021-05-07T00:00:00+00:00\",\"2021-05-06T00:00:00+00:00\",\"2021-05-05T00:00:00+00:00\",\"2021-05-04T00:00:00+00:00\",\"2021-05-03T00:00:00+00:00\",\"2021-05-02T00:00:00+00:00\",\"2021-05-01T00:00:00+00:00\",\"2021-04-30T00:00:00+00:00\",\"2021-04-29T00:00:00+00:00\",\"2021-04-28T00:00:00+00:00\",\"2021-04-27T00:00:00+00:00\",\"2021-04-26T00:00:00+00:00\",\"2021-04-25T00:00:00+00:00\",\"2021-04-24T00:00:00+00:00\",\"2021-04-23T00:00:00+00:00\",\"2021-04-22T00:00:00+00:00\",\"2021-04-21T00:00:00+00:00\",\"2021-04-20T00:00:00+00:00\",\"2021-04-19T00:00:00+00:00\",\"2021-04-18T00:00:00+00:00\",\"2021-04-17T00:00:00+00:00\",\"2021-04-16T00:00:00+00:00\",\"2021-04-15T00:00:00+00:00\",\"2021-04-14T00:00:00+00:00\",\"2021-04-13T00:00:00+00:00\",\"2021-04-12T00:00:00+00:00\",\"2021-04-11T00:00:00+00:00\",\"2021-04-10T00:00:00+00:00\",\"2021-04-09T00:00:00+00:00\",\"2021-04-08T00:00:00+00:00\",\"2021-04-07T00:00:00+00:00\",\"2021-04-06T00:00:00+00:00\",\"2021-04-05T00:00:00+00:00\",\"2021-04-04T00:00:00+00:00\",\"2021-04-03T00:00:00+00:00\",\"2021-04-02T00:00:00+00:00\",\"2021-04-01T00:00:00+00:00\",\"2021-03-31T00:00:00+00:00\",\"2021-03-30T00:00:00+00:00\",\"2021-03-29T00:00:00+00:00\",\"2021-03-26T00:00:00+00:00\",\"2021-03-25T00:00:00+00:00\",\"2021-03-24T00:00:00+00:00\",\"2021-03-23T00:00:00+00:00\",\"2021-03-22T00:00:00+00:00\",\"2021-03-21T00:00:00+00:00\",\"2021-03-20T00:00:00+00:00\",\"2021-03-19T00:00:00+00:00\",\"2021-03-18T00:00:00+00:00\",\"2021-03-17T00:00:00+00:00\",\"2021-03-16T00:00:00+00:00\",\"2021-03-15T00:00:00+00:00\",\"2021-03-14T00:00:00+00:00\",\"2021-03-13T00:00:00+00:00\",\"2021-03-12T00:00:00+00:00\",\"2021-03-11T00:00:00+00:00\",\"2021-03-10T00:00:00+00:00\",\"2021-03-09T00:00:00+00:00\"],\"xaxis\":\"x\",\"y\":[0.004848635608499741,0.005418491799155489,0.005645514506592871,0.0057333356941463845,0.006322158417782406,0.007231636169954062,0.008059518484773976,0.008605375496306873,0.00873234888917685,0.009152530610328375,0.00974458500620552,0.009645443118663277,0.008216909341441325,0.009111367952938296,0.010034391653549033,0.011221577535502427,0.01172256482468517,0.01293663491226799,0.014280448754933625,0.014754991147136255,0.017125191229109004,0.018652134616743355,0.019943668417246502,0.021623242933936238,0.022945448719695023,0.027628728741898537,0.0322349143395386,0.03320650240596355,0.033209642544007,0.032620073267089676,0.029983642203161427,0.026885429998112418,0.020579980049874963,0.014759344082160909,0.009649567649399584,0.0063607160240733585,0.0036753168268045663,0.0032452739811368128,0.0030635504655502077,0.003250280122902885,0.004246390406073202,0.005005274114065102,0.0072242656293486,0.007552705521013845,0.008133121456707988,0.008842733905385562,0.01006988028609311,0.010177017464586931,0.01282250340962594,0.014578665927971057,0.020528209004102238,0.02781141614194177,0.03953108625561584,0.04607596681682463,0.05070105549391664,0.04984144545894972,0.04777105963293398,0.04740789350924184,0.0409131307890369,0.030643084102633777,0.023550508822985317,0.021113931858752998,0.019757110618352107,0.01866749356828115,0.01315610876192427,0.01187987368783178,0.01036465343201774,0.009565630197597699,0.0065615566897191885,0.005666888838588878,0.005040616370626063,0.0046251439925368626,0.0045415344565746035,0.0038159523913600876,0.003795843813288172,0.003806596049051978,0.003723035862635823,0.0042518081029391825,0.004455651383190965,0.00479616524284393,0.004899908685299165,0.005083854327983376,0.005202920851935202,0.005032513153123414,0.004872665457444691,0.00441950330482581,0.004109618282460492,0.004145894363714511,0.003676386641003872,0.0033128107233864946,0.003366094552288116,0.0029171766511427244,0.0032446282672485816,0.003756321755252984,0.0038121827845925098,0.0040697396814560775,0.00466269670985027,0.0051864562780682185,0.0059632925234603534,0.006185047666059988,0.005848643324696788,0.006012389748313503,0.006618724376473738,0.0065827632035368264,0.00665352157874624,0.0064425885097251475,0.008264417098715395,0.009844546372985359,0.01338828810873946,0.016425234897380476,0.022215351711003563,0.026328009493804035,0.027009429514759795,0.025201675216664107,0.024622897754102535,0.021675002952275146,0.018837885830685002,0.013140961239204984,0.009142480897250218,0.009107346550025234,null,null,null,null,null,null],\"yaxis\":\"y\"},{\"hovertemplate\":\"symbol=AMC<br>day=%{x}<br>fraction_of_mentions_MA=%{y}<extra></extra>\",\"legendgroup\":\"AMC\",\"line\":{\"color\":\"#FF97FF\",\"dash\":\"solid\"},\"mode\":\"lines\",\"name\":\"AMC\",\"showlegend\":true,\"type\":\"scattergl\",\"x\":[\"2021-07-14T00:00:00+00:00\",\"2021-07-13T00:00:00+00:00\",\"2021-07-12T00:00:00+00:00\",\"2021-07-11T00:00:00+00:00\",\"2021-07-10T00:00:00+00:00\",\"2021-07-09T00:00:00+00:00\",\"2021-07-08T00:00:00+00:00\",\"2021-07-07T00:00:00+00:00\",\"2021-07-06T00:00:00+00:00\",\"2021-07-05T00:00:00+00:00\",\"2021-07-04T00:00:00+00:00\",\"2021-07-03T00:00:00+00:00\",\"2021-07-02T00:00:00+00:00\",\"2021-07-01T00:00:00+00:00\",\"2021-06-30T00:00:00+00:00\",\"2021-06-29T00:00:00+00:00\",\"2021-06-28T00:00:00+00:00\",\"2021-06-27T00:00:00+00:00\",\"2021-06-26T00:00:00+00:00\",\"2021-06-25T00:00:00+00:00\",\"2021-06-24T00:00:00+00:00\",\"2021-06-23T00:00:00+00:00\",\"2021-06-22T00:00:00+00:00\",\"2021-06-21T00:00:00+00:00\",\"2021-06-20T00:00:00+00:00\",\"2021-06-19T00:00:00+00:00\",\"2021-06-18T00:00:00+00:00\",\"2021-06-17T00:00:00+00:00\",\"2021-06-16T00:00:00+00:00\",\"2021-06-15T00:00:00+00:00\",\"2021-06-14T00:00:00+00:00\",\"2021-06-13T00:00:00+00:00\",\"2021-06-12T00:00:00+00:00\",\"2021-06-11T00:00:00+00:00\",\"2021-06-10T00:00:00+00:00\",\"2021-06-09T00:00:00+00:00\",\"2021-06-08T00:00:00+00:00\",\"2021-06-07T00:00:00+00:00\",\"2021-06-06T00:00:00+00:00\",\"2021-06-05T00:00:00+00:00\",\"2021-06-04T00:00:00+00:00\",\"2021-06-03T00:00:00+00:00\",\"2021-06-02T00:00:00+00:00\",\"2021-06-01T00:00:00+00:00\",\"2021-05-31T00:00:00+00:00\",\"2021-05-30T00:00:00+00:00\",\"2021-05-29T00:00:00+00:00\",\"2021-05-28T00:00:00+00:00\",\"2021-05-27T00:00:00+00:00\",\"2021-05-26T00:00:00+00:00\",\"2021-05-25T00:00:00+00:00\",\"2021-05-24T00:00:00+00:00\",\"2021-05-23T00:00:00+00:00\",\"2021-05-22T00:00:00+00:00\",\"2021-05-21T00:00:00+00:00\",\"2021-05-20T00:00:00+00:00\",\"2021-05-19T00:00:00+00:00\",\"2021-05-18T00:00:00+00:00\",\"2021-05-17T00:00:00+00:00\",\"2021-05-16T00:00:00+00:00\",\"2021-05-15T00:00:00+00:00\",\"2021-05-14T00:00:00+00:00\",\"2021-05-13T00:00:00+00:00\",\"2021-05-12T00:00:00+00:00\",\"2021-05-11T00:00:00+00:00\",\"2021-05-10T00:00:00+00:00\",\"2021-05-09T00:00:00+00:00\",\"2021-05-08T00:00:00+00:00\",\"2021-05-07T00:00:00+00:00\",\"2021-05-06T00:00:00+00:00\",\"2021-05-05T00:00:00+00:00\",\"2021-05-04T00:00:00+00:00\",\"2021-05-03T00:00:00+00:00\",\"2021-05-02T00:00:00+00:00\",\"2021-05-01T00:00:00+00:00\",\"2021-04-30T00:00:00+00:00\",\"2021-04-29T00:00:00+00:00\",\"2021-04-28T00:00:00+00:00\",\"2021-04-27T00:00:00+00:00\",\"2021-04-26T00:00:00+00:00\",\"2021-04-25T00:00:00+00:00\",\"2021-04-24T00:00:00+00:00\",\"2021-04-23T00:00:00+00:00\",\"2021-04-22T00:00:00+00:00\",\"2021-04-21T00:00:00+00:00\",\"2021-04-20T00:00:00+00:00\",\"2021-04-19T00:00:00+00:00\",\"2021-04-18T00:00:00+00:00\",\"2021-04-17T00:00:00+00:00\",\"2021-04-16T00:00:00+00:00\",\"2021-04-15T00:00:00+00:00\",\"2021-04-14T00:00:00+00:00\",\"2021-04-13T00:00:00+00:00\",\"2021-04-12T00:00:00+00:00\",\"2021-04-11T00:00:00+00:00\",\"2021-04-10T00:00:00+00:00\",\"2021-04-09T00:00:00+00:00\",\"2021-04-08T00:00:00+00:00\",\"2021-04-07T00:00:00+00:00\",\"2021-04-06T00:00:00+00:00\",\"2021-04-05T00:00:00+00:00\",\"2021-04-04T00:00:00+00:00\",\"2021-04-03T00:00:00+00:00\",\"2021-04-02T00:00:00+00:00\",\"2021-04-01T00:00:00+00:00\",\"2021-03-31T00:00:00+00:00\",\"2021-03-30T00:00:00+00:00\",\"2021-03-29T00:00:00+00:00\",\"2021-03-26T00:00:00+00:00\",\"2021-03-25T00:00:00+00:00\",\"2021-03-24T00:00:00+00:00\",\"2021-03-23T00:00:00+00:00\",\"2021-03-22T00:00:00+00:00\",\"2021-03-21T00:00:00+00:00\",\"2021-03-20T00:00:00+00:00\",\"2021-03-19T00:00:00+00:00\",\"2021-03-18T00:00:00+00:00\",\"2021-03-17T00:00:00+00:00\",\"2021-03-16T00:00:00+00:00\",\"2021-03-15T00:00:00+00:00\",\"2021-03-14T00:00:00+00:00\",\"2021-03-13T00:00:00+00:00\",\"2021-03-12T00:00:00+00:00\",\"2021-03-11T00:00:00+00:00\",\"2021-03-10T00:00:00+00:00\",\"2021-03-09T00:00:00+00:00\"],\"xaxis\":\"x\",\"y\":[0.06260083660324081,0.06266500560648226,0.06206021680231298,0.06704521703188017,0.07584249168399612,0.07894552830896477,0.08257308813982485,0.07923356154002666,0.07472521811059304,0.072250419931034,0.06772150030602084,0.06230594303294536,0.0589591307474902,0.05605178712746164,0.055203175096062526,0.05748681974929289,0.061590288057147204,0.06469417043663753,0.07162728005927864,0.08475898098257557,0.09326676224932332,0.10375380715004477,0.10788537821480138,0.11030566505252717,0.1116485398918179,0.10563105147672733,0.10020525312962796,0.09833080935954668,0.09451839461855968,0.09319643486593014,0.09084997101774002,0.0979618559805754,0.1148465178202117,0.13327728185580479,0.15194251961509034,0.17405601233080953,0.20483764934819967,0.2341178119406985,0.2508351420013445,0.26222375958828104,0.27259456566491064,0.2925689409783451,0.3077478358480517,0.29921453852935775,0.2819560180070523,0.2589590377789385,0.2268177576570622,0.19180749823113574,0.14919243151698722,0.10900563218895609,0.0914266143074861,0.09206352137997355,0.09790896513682609,0.10171358027362357,0.10766783390993513,0.1285589208858991,0.14869481481795827,0.14080959254968206,0.1240157455766199,0.11071484004597953,0.10430060845103287,0.09636073977970558,0.0716325260206329,0.04695661643443043,0.04358170046356402,0.03920184543678906,0.036384917449658265,0.036167122574255264,0.03177106442220066,0.02897714318332226,0.025675727769782584,0.02799863850390827,0.029518022641376786,0.03204253877348118,0.03159400699578476,0.03193734391542282,0.03286110701633853,0.03442250264921728,0.03143689007537816,0.02962876057955222,0.02761972102670866,0.02736784306358855,0.026548676378016976,0.02695360743590381,0.027925897215995404,0.026653670075313867,0.028205125631362925,0.030266609630504083,0.03411125291639172,0.034758328719058366,0.03486129689858371,0.03308909756864043,0.03451735918600995,0.03459850229389546,0.03811596988570828,0.041146680164857515,0.046986725889613265,0.05630285881013995,0.061861326701166904,0.06185605837754167,0.06228934825177051,0.05825722424090831,0.054069988609189865,0.05371440207749496,0.047656861728056533,0.04702537423887019,0.056586925865439223,0.06994384485233299,0.08458749100229826,0.08751776392751297,0.08692362521661963,0.08760873513239739,0.09297683409889124,0.10311547980670686,0.09549271586767823,0.08812171189261589,0.08673622172980845,0.0859823748589276,0.09254111873252313,0.09428286209770005,null,null,null,null,null,null],\"yaxis\":\"y\"},{\"hovertemplate\":\"symbol=CLOV<br>day=%{x}<br>fraction_of_mentions_MA=%{y}<extra></extra>\",\"legendgroup\":\"CLOV\",\"line\":{\"color\":\"#FECB52\",\"dash\":\"solid\"},\"mode\":\"lines\",\"name\":\"CLOV\",\"showlegend\":true,\"type\":\"scattergl\",\"x\":[\"2021-07-14T00:00:00+00:00\",\"2021-07-13T00:00:00+00:00\",\"2021-07-12T00:00:00+00:00\",\"2021-07-11T00:00:00+00:00\",\"2021-07-10T00:00:00+00:00\",\"2021-07-09T00:00:00+00:00\",\"2021-07-08T00:00:00+00:00\",\"2021-07-07T00:00:00+00:00\",\"2021-07-06T00:00:00+00:00\",\"2021-07-05T00:00:00+00:00\",\"2021-07-04T00:00:00+00:00\",\"2021-07-03T00:00:00+00:00\",\"2021-07-02T00:00:00+00:00\",\"2021-07-01T00:00:00+00:00\",\"2021-06-30T00:00:00+00:00\",\"2021-06-29T00:00:00+00:00\",\"2021-06-28T00:00:00+00:00\",\"2021-06-27T00:00:00+00:00\",\"2021-06-26T00:00:00+00:00\",\"2021-06-25T00:00:00+00:00\",\"2021-06-24T00:00:00+00:00\",\"2021-06-23T00:00:00+00:00\",\"2021-06-22T00:00:00+00:00\",\"2021-06-21T00:00:00+00:00\",\"2021-06-20T00:00:00+00:00\",\"2021-06-19T00:00:00+00:00\",\"2021-06-18T00:00:00+00:00\",\"2021-06-17T00:00:00+00:00\",\"2021-06-16T00:00:00+00:00\",\"2021-06-15T00:00:00+00:00\",\"2021-06-14T00:00:00+00:00\",\"2021-06-13T00:00:00+00:00\",\"2021-06-12T00:00:00+00:00\",\"2021-06-11T00:00:00+00:00\",\"2021-06-10T00:00:00+00:00\",\"2021-06-09T00:00:00+00:00\",\"2021-06-08T00:00:00+00:00\",\"2021-06-07T00:00:00+00:00\",\"2021-06-06T00:00:00+00:00\",\"2021-06-05T00:00:00+00:00\",\"2021-06-04T00:00:00+00:00\",\"2021-06-03T00:00:00+00:00\",\"2021-06-02T00:00:00+00:00\",\"2021-06-01T00:00:00+00:00\",\"2021-05-31T00:00:00+00:00\",\"2021-05-30T00:00:00+00:00\",\"2021-05-29T00:00:00+00:00\",\"2021-05-28T00:00:00+00:00\",\"2021-05-27T00:00:00+00:00\",\"2021-05-26T00:00:00+00:00\",\"2021-05-25T00:00:00+00:00\",\"2021-05-24T00:00:00+00:00\",\"2021-05-23T00:00:00+00:00\",\"2021-05-22T00:00:00+00:00\",\"2021-05-21T00:00:00+00:00\",\"2021-05-20T00:00:00+00:00\",\"2021-05-19T00:00:00+00:00\",\"2021-05-18T00:00:00+00:00\",\"2021-05-17T00:00:00+00:00\",\"2021-05-16T00:00:00+00:00\",\"2021-05-15T00:00:00+00:00\",\"2021-05-14T00:00:00+00:00\",\"2021-05-13T00:00:00+00:00\",\"2021-05-12T00:00:00+00:00\",\"2021-05-11T00:00:00+00:00\",\"2021-05-10T00:00:00+00:00\",\"2021-05-09T00:00:00+00:00\",\"2021-05-08T00:00:00+00:00\",\"2021-05-07T00:00:00+00:00\",\"2021-05-06T00:00:00+00:00\",\"2021-05-05T00:00:00+00:00\",\"2021-05-04T00:00:00+00:00\",\"2021-05-03T00:00:00+00:00\",\"2021-05-02T00:00:00+00:00\",\"2021-05-01T00:00:00+00:00\",\"2021-04-30T00:00:00+00:00\",\"2021-04-29T00:00:00+00:00\",\"2021-04-28T00:00:00+00:00\",\"2021-04-27T00:00:00+00:00\",\"2021-04-26T00:00:00+00:00\",\"2021-04-25T00:00:00+00:00\",\"2021-04-24T00:00:00+00:00\",\"2021-04-23T00:00:00+00:00\",\"2021-04-22T00:00:00+00:00\",\"2021-04-21T00:00:00+00:00\",\"2021-04-20T00:00:00+00:00\",\"2021-04-19T00:00:00+00:00\",\"2021-04-18T00:00:00+00:00\",\"2021-04-17T00:00:00+00:00\",\"2021-04-16T00:00:00+00:00\",\"2021-04-15T00:00:00+00:00\",\"2021-04-14T00:00:00+00:00\",\"2021-04-13T00:00:00+00:00\",\"2021-04-12T00:00:00+00:00\",\"2021-04-11T00:00:00+00:00\",\"2021-04-10T00:00:00+00:00\",\"2021-04-09T00:00:00+00:00\",\"2021-04-08T00:00:00+00:00\",\"2021-04-07T00:00:00+00:00\",\"2021-04-06T00:00:00+00:00\",\"2021-04-02T00:00:00+00:00\",\"2021-04-01T00:00:00+00:00\",\"2021-03-31T00:00:00+00:00\",\"2021-03-30T00:00:00+00:00\",\"2021-03-29T00:00:00+00:00\",\"2021-03-26T00:00:00+00:00\",\"2021-03-25T00:00:00+00:00\",\"2021-03-24T00:00:00+00:00\",\"2021-03-23T00:00:00+00:00\",\"2021-03-22T00:00:00+00:00\",\"2021-03-21T00:00:00+00:00\",\"2021-03-19T00:00:00+00:00\",\"2021-03-18T00:00:00+00:00\",\"2021-03-17T00:00:00+00:00\",\"2021-03-16T00:00:00+00:00\",\"2021-03-15T00:00:00+00:00\",\"2021-03-14T00:00:00+00:00\",\"2021-03-13T00:00:00+00:00\",\"2021-03-12T00:00:00+00:00\",\"2021-03-11T00:00:00+00:00\",\"2021-03-10T00:00:00+00:00\",\"2021-03-09T00:00:00+00:00\"],\"xaxis\":\"x\",\"y\":[0.05831651207515751,0.05985591696193616,0.06330286762133339,0.05911044048736556,0.05951715580328933,0.06057029974364847,0.06277580585106726,0.06532366395049456,0.0645286341839861,0.06371377330465532,0.06275553561544771,0.06630479332260576,0.06813032939639833,0.06796006660285357,0.07305830020174094,0.07879675526911314,0.08023327135851696,0.07851732991695921,0.07741400118034293,0.07268609114537439,0.06888077515083758,0.05906758105955561,0.05091474718151203,0.043770293880283084,0.04633964377810932,0.04715712559545298,0.051880216306372816,0.060889086982852045,0.06846843682698278,0.07840419258564468,0.09478181443421085,0.10067891445509966,0.09730461823564886,0.08993851248621365,0.07872220738397719,0.07005920342678913,0.055866084787198116,0.0324739642726346,0.019133925426406156,0.01425801064183539,0.013042963550706235,0.011734025330565306,0.009947320941408957,0.007904401983649409,0.007972327641232523,0.008166545264382036,0.007925969421117032,0.007271789052080561,0.007978840646309654,0.00892686452722408,0.00879092784111354,0.010345895241392887,0.01639699934995864,0.01998136128396107,0.02280658038798095,0.02344351101401779,0.022127558132629316,0.023590796068044213,0.022630499738622942,0.01686822743235229,0.015666936583195994,0.015000814620891237,0.014671609428191337,0.01551451062745041,0.016097982565616724,0.01835887006769945,0.023519751930028077,0.030059540022920467,0.03126044321974442,0.03613834073493577,0.04672236074817295,0.05237570273329064,0.05012314798053046,0.04512838351056644,0.036761948118573355,0.035143502891864804,0.03086154817550447,0.020216902977049207,0.017018263872731493,0.025253220778670645,0.03844030475184618,0.04686452059300385,0.052667844968849846,0.05998301625846997,0.05822513048833141,0.05293427822178426,0.043474014392468056,0.028614399988326444,0.018428840277336992,0.010481338710297989,0.0007486299562982193,0.0017725729121902875,0.0017468679279687225,0.0017686120172331064,0.0017718385479433948,0.0017523708423314293,0.0016634424018912547,0.0013808610773424837,0.0002722169074728042,0.00026857035431540746,0.00023284160142713952,0.0002101403232038204,0.00020219063428446874,0.0001697547056488139,0.0002263344339107977,0.00024839939478467685,0.00026088718057839746,0.00027449924846431796,0.0002822715562623949,0.00031139422345067896,0.0004350072470186201,0.0003990129186521603,0.00036110102941459404,0.0003931917132142549,0.00036992631919069695,0.00033662015584043955,null,null,null,null,null,null],\"yaxis\":\"y\"}],                        {\"legend\":{\"title\":{\"text\":\"symbol\"},\"tracegroupgap\":0},\"template\":{\"data\":{\"bar\":[{\"error_x\":{\"color\":\"#2a3f5f\"},\"error_y\":{\"color\":\"#2a3f5f\"},\"marker\":{\"line\":{\"color\":\"#E5ECF6\",\"width\":0.5},\"pattern\":{\"fillmode\":\"overlay\",\"size\":10,\"solidity\":0.2}},\"type\":\"bar\"}],\"barpolar\":[{\"marker\":{\"line\":{\"color\":\"#E5ECF6\",\"width\":0.5},\"pattern\":{\"fillmode\":\"overlay\",\"size\":10,\"solidity\":0.2}},\"type\":\"barpolar\"}],\"carpet\":[{\"aaxis\":{\"endlinecolor\":\"#2a3f5f\",\"gridcolor\":\"white\",\"linecolor\":\"white\",\"minorgridcolor\":\"white\",\"startlinecolor\":\"#2a3f5f\"},\"baxis\":{\"endlinecolor\":\"#2a3f5f\",\"gridcolor\":\"white\",\"linecolor\":\"white\",\"minorgridcolor\":\"white\",\"startlinecolor\":\"#2a3f5f\"},\"type\":\"carpet\"}],\"choropleth\":[{\"colorbar\":{\"outlinewidth\":0,\"ticks\":\"\"},\"type\":\"choropleth\"}],\"contour\":[{\"colorbar\":{\"outlinewidth\":0,\"ticks\":\"\"},\"colorscale\":[[0.0,\"#0d0887\"],[0.1111111111111111,\"#46039f\"],[0.2222222222222222,\"#7201a8\"],[0.3333333333333333,\"#9c179e\"],[0.4444444444444444,\"#bd3786\"],[0.5555555555555556,\"#d8576b\"],[0.6666666666666666,\"#ed7953\"],[0.7777777777777778,\"#fb9f3a\"],[0.8888888888888888,\"#fdca26\"],[1.0,\"#f0f921\"]],\"type\":\"contour\"}],\"contourcarpet\":[{\"colorbar\":{\"outlinewidth\":0,\"ticks\":\"\"},\"type\":\"contourcarpet\"}],\"heatmap\":[{\"colorbar\":{\"outlinewidth\":0,\"ticks\":\"\"},\"colorscale\":[[0.0,\"#0d0887\"],[0.1111111111111111,\"#46039f\"],[0.2222222222222222,\"#7201a8\"],[0.3333333333333333,\"#9c179e\"],[0.4444444444444444,\"#bd3786\"],[0.5555555555555556,\"#d8576b\"],[0.6666666666666666,\"#ed7953\"],[0.7777777777777778,\"#fb9f3a\"],[0.8888888888888888,\"#fdca26\"],[1.0,\"#f0f921\"]],\"type\":\"heatmap\"}],\"heatmapgl\":[{\"colorbar\":{\"outlinewidth\":0,\"ticks\":\"\"},\"colorscale\":[[0.0,\"#0d0887\"],[0.1111111111111111,\"#46039f\"],[0.2222222222222222,\"#7201a8\"],[0.3333333333333333,\"#9c179e\"],[0.4444444444444444,\"#bd3786\"],[0.5555555555555556,\"#d8576b\"],[0.6666666666666666,\"#ed7953\"],[0.7777777777777778,\"#fb9f3a\"],[0.8888888888888888,\"#fdca26\"],[1.0,\"#f0f921\"]],\"type\":\"heatmapgl\"}],\"histogram\":[{\"marker\":{\"pattern\":{\"fillmode\":\"overlay\",\"size\":10,\"solidity\":0.2}},\"type\":\"histogram\"}],\"histogram2d\":[{\"colorbar\":{\"outlinewidth\":0,\"ticks\":\"\"},\"colorscale\":[[0.0,\"#0d0887\"],[0.1111111111111111,\"#46039f\"],[0.2222222222222222,\"#7201a8\"],[0.3333333333333333,\"#9c179e\"],[0.4444444444444444,\"#bd3786\"],[0.5555555555555556,\"#d8576b\"],[0.6666666666666666,\"#ed7953\"],[0.7777777777777778,\"#fb9f3a\"],[0.8888888888888888,\"#fdca26\"],[1.0,\"#f0f921\"]],\"type\":\"histogram2d\"}],\"histogram2dcontour\":[{\"colorbar\":{\"outlinewidth\":0,\"ticks\":\"\"},\"colorscale\":[[0.0,\"#0d0887\"],[0.1111111111111111,\"#46039f\"],[0.2222222222222222,\"#7201a8\"],[0.3333333333333333,\"#9c179e\"],[0.4444444444444444,\"#bd3786\"],[0.5555555555555556,\"#d8576b\"],[0.6666666666666666,\"#ed7953\"],[0.7777777777777778,\"#fb9f3a\"],[0.8888888888888888,\"#fdca26\"],[1.0,\"#f0f921\"]],\"type\":\"histogram2dcontour\"}],\"mesh3d\":[{\"colorbar\":{\"outlinewidth\":0,\"ticks\":\"\"},\"type\":\"mesh3d\"}],\"parcoords\":[{\"line\":{\"colorbar\":{\"outlinewidth\":0,\"ticks\":\"\"}},\"type\":\"parcoords\"}],\"pie\":[{\"automargin\":true,\"type\":\"pie\"}],\"scatter\":[{\"marker\":{\"colorbar\":{\"outlinewidth\":0,\"ticks\":\"\"}},\"type\":\"scatter\"}],\"scatter3d\":[{\"line\":{\"colorbar\":{\"outlinewidth\":0,\"ticks\":\"\"}},\"marker\":{\"colorbar\":{\"outlinewidth\":0,\"ticks\":\"\"}},\"type\":\"scatter3d\"}],\"scattercarpet\":[{\"marker\":{\"colorbar\":{\"outlinewidth\":0,\"ticks\":\"\"}},\"type\":\"scattercarpet\"}],\"scattergeo\":[{\"marker\":{\"colorbar\":{\"outlinewidth\":0,\"ticks\":\"\"}},\"type\":\"scattergeo\"}],\"scattergl\":[{\"marker\":{\"colorbar\":{\"outlinewidth\":0,\"ticks\":\"\"}},\"type\":\"scattergl\"}],\"scattermapbox\":[{\"marker\":{\"colorbar\":{\"outlinewidth\":0,\"ticks\":\"\"}},\"type\":\"scattermapbox\"}],\"scatterpolar\":[{\"marker\":{\"colorbar\":{\"outlinewidth\":0,\"ticks\":\"\"}},\"type\":\"scatterpolar\"}],\"scatterpolargl\":[{\"marker\":{\"colorbar\":{\"outlinewidth\":0,\"ticks\":\"\"}},\"type\":\"scatterpolargl\"}],\"scatterternary\":[{\"marker\":{\"colorbar\":{\"outlinewidth\":0,\"ticks\":\"\"}},\"type\":\"scatterternary\"}],\"surface\":[{\"colorbar\":{\"outlinewidth\":0,\"ticks\":\"\"},\"colorscale\":[[0.0,\"#0d0887\"],[0.1111111111111111,\"#46039f\"],[0.2222222222222222,\"#7201a8\"],[0.3333333333333333,\"#9c179e\"],[0.4444444444444444,\"#bd3786\"],[0.5555555555555556,\"#d8576b\"],[0.6666666666666666,\"#ed7953\"],[0.7777777777777778,\"#fb9f3a\"],[0.8888888888888888,\"#fdca26\"],[1.0,\"#f0f921\"]],\"type\":\"surface\"}],\"table\":[{\"cells\":{\"fill\":{\"color\":\"#EBF0F8\"},\"line\":{\"color\":\"white\"}},\"header\":{\"fill\":{\"color\":\"#C8D4E3\"},\"line\":{\"color\":\"white\"}},\"type\":\"table\"}]},\"layout\":{\"annotationdefaults\":{\"arrowcolor\":\"#2a3f5f\",\"arrowhead\":0,\"arrowwidth\":1},\"autotypenumbers\":\"strict\",\"coloraxis\":{\"colorbar\":{\"outlinewidth\":0,\"ticks\":\"\"}},\"colorscale\":{\"diverging\":[[0,\"#8e0152\"],[0.1,\"#c51b7d\"],[0.2,\"#de77ae\"],[0.3,\"#f1b6da\"],[0.4,\"#fde0ef\"],[0.5,\"#f7f7f7\"],[0.6,\"#e6f5d0\"],[0.7,\"#b8e186\"],[0.8,\"#7fbc41\"],[0.9,\"#4d9221\"],[1,\"#276419\"]],\"sequential\":[[0.0,\"#0d0887\"],[0.1111111111111111,\"#46039f\"],[0.2222222222222222,\"#7201a8\"],[0.3333333333333333,\"#9c179e\"],[0.4444444444444444,\"#bd3786\"],[0.5555555555555556,\"#d8576b\"],[0.6666666666666666,\"#ed7953\"],[0.7777777777777778,\"#fb9f3a\"],[0.8888888888888888,\"#fdca26\"],[1.0,\"#f0f921\"]],\"sequentialminus\":[[0.0,\"#0d0887\"],[0.1111111111111111,\"#46039f\"],[0.2222222222222222,\"#7201a8\"],[0.3333333333333333,\"#9c179e\"],[0.4444444444444444,\"#bd3786\"],[0.5555555555555556,\"#d8576b\"],[0.6666666666666666,\"#ed7953\"],[0.7777777777777778,\"#fb9f3a\"],[0.8888888888888888,\"#fdca26\"],[1.0,\"#f0f921\"]]},\"colorway\":[\"#636efa\",\"#EF553B\",\"#00cc96\",\"#ab63fa\",\"#FFA15A\",\"#19d3f3\",\"#FF6692\",\"#B6E880\",\"#FF97FF\",\"#FECB52\"],\"font\":{\"color\":\"#2a3f5f\"},\"geo\":{\"bgcolor\":\"white\",\"lakecolor\":\"white\",\"landcolor\":\"#E5ECF6\",\"showlakes\":true,\"showland\":true,\"subunitcolor\":\"white\"},\"hoverlabel\":{\"align\":\"left\"},\"hovermode\":\"closest\",\"mapbox\":{\"style\":\"light\"},\"paper_bgcolor\":\"white\",\"plot_bgcolor\":\"#E5ECF6\",\"polar\":{\"angularaxis\":{\"gridcolor\":\"white\",\"linecolor\":\"white\",\"ticks\":\"\"},\"bgcolor\":\"#E5ECF6\",\"radialaxis\":{\"gridcolor\":\"white\",\"linecolor\":\"white\",\"ticks\":\"\"}},\"scene\":{\"xaxis\":{\"backgroundcolor\":\"#E5ECF6\",\"gridcolor\":\"white\",\"gridwidth\":2,\"linecolor\":\"white\",\"showbackground\":true,\"ticks\":\"\",\"zerolinecolor\":\"white\"},\"yaxis\":{\"backgroundcolor\":\"#E5ECF6\",\"gridcolor\":\"white\",\"gridwidth\":2,\"linecolor\":\"white\",\"showbackground\":true,\"ticks\":\"\",\"zerolinecolor\":\"white\"},\"zaxis\":{\"backgroundcolor\":\"#E5ECF6\",\"gridcolor\":\"white\",\"gridwidth\":2,\"linecolor\":\"white\",\"showbackground\":true,\"ticks\":\"\",\"zerolinecolor\":\"white\"}},\"shapedefaults\":{\"line\":{\"color\":\"#2a3f5f\"}},\"ternary\":{\"aaxis\":{\"gridcolor\":\"white\",\"linecolor\":\"white\",\"ticks\":\"\"},\"baxis\":{\"gridcolor\":\"white\",\"linecolor\":\"white\",\"ticks\":\"\"},\"bgcolor\":\"#E5ECF6\",\"caxis\":{\"gridcolor\":\"white\",\"linecolor\":\"white\",\"ticks\":\"\"}},\"title\":{\"x\":0.05},\"xaxis\":{\"automargin\":true,\"gridcolor\":\"white\",\"linecolor\":\"white\",\"ticks\":\"\",\"title\":{\"standoff\":15},\"zerolinecolor\":\"white\",\"zerolinewidth\":2},\"yaxis\":{\"automargin\":true,\"gridcolor\":\"white\",\"linecolor\":\"white\",\"ticks\":\"\",\"title\":{\"standoff\":15},\"zerolinecolor\":\"white\",\"zerolinewidth\":2}}},\"title\":{\"text\":\"Fraction of mentions (7 day rolling average)\"},\"xaxis\":{\"anchor\":\"y\",\"domain\":[0.0,1.0],\"title\":{\"text\":\"day\"}},\"yaxis\":{\"anchor\":\"x\",\"domain\":[0.0,1.0],\"title\":{\"text\":\"fraction_of_mentions_MA\"}}},                        {\"responsive\": true}                    ).then(function(){\n",
       "                            \n",
       "var gd = document.getElementById('0419bf04-d847-4327-aada-7dc61a6fd373');\n",
       "var x = new MutationObserver(function (mutations, observer) {{\n",
       "        var display = window.getComputedStyle(gd).display;\n",
       "        if (!display || display === 'none') {{\n",
       "            console.log([gd, 'removed!']);\n",
       "            Plotly.purge(gd);\n",
       "            observer.disconnect();\n",
       "        }}\n",
       "}});\n",
       "\n",
       "// Listen for the removal of the full notebook cells\n",
       "var notebookContainer = gd.closest('#notebook-container');\n",
       "if (notebookContainer) {{\n",
       "    x.observe(notebookContainer, {childList: true});\n",
       "}}\n",
       "\n",
       "// Listen for the clearing of the current output cell\n",
       "var outputEl = gd.closest('.output');\n",
       "if (outputEl) {{\n",
       "    x.observe(outputEl, {childList: true});\n",
       "}}\n",
       "\n",
       "                        })                };                });            </script>        </div>"
      ]
     },
     "metadata": {},
     "output_type": "display_data"
    }
   ],
   "source": [
    "fig = px.line(tmp[tmp['symbol'].isin(top_symbols_june[0:10])].sort_values('day', ascending=False), \n",
    "              x=\"day\", y=\"fraction_of_mentions_MA\", line_group=\"symbol\", color=\"symbol\",\n",
    "              title=\"Fraction of mentions (7 day rolling average)\")\n",
    "fig.show()"
   ]
  },
  {
   "cell_type": "code",
   "execution_count": 211,
   "id": "f06b9392",
   "metadata": {},
   "outputs": [
    {
     "data": {
      "application/vnd.plotly.v1+json": {
       "config": {
        "plotlyServerURL": "https://plot.ly"
       },
       "data": [
        {
         "hovertemplate": "symbol=BB<br>week=%{x}<br>mention_perc=%{y}<extra></extra>",
         "legendgroup": "BB",
         "line": {
          "color": "#636efa",
          "dash": "solid"
         },
         "mode": "lines",
         "name": "BB",
         "orientation": "v",
         "showlegend": true,
         "type": "scatter",
         "x": [
          "2021-07-11T00:00:00+00:00",
          "2021-07-04T00:00:00+00:00",
          "2021-06-27T00:00:00+00:00",
          "2021-06-20T00:00:00+00:00",
          "2021-06-13T00:00:00+00:00",
          "2021-06-06T00:00:00+00:00",
          "2021-05-30T00:00:00+00:00",
          "2021-05-23T00:00:00+00:00",
          "2021-05-16T00:00:00+00:00",
          "2021-05-09T00:00:00+00:00",
          "2021-05-02T00:00:00+00:00",
          "2021-04-25T00:00:00+00:00",
          "2021-04-18T00:00:00+00:00",
          "2021-04-11T00:00:00+00:00",
          "2021-04-04T00:00:00+00:00",
          "2021-03-28T00:00:00+00:00",
          "2021-03-21T00:00:00+00:00",
          "2021-03-14T00:00:00+00:00",
          "2021-03-07T00:00:00+00:00"
         ],
         "xaxis": "x",
         "y": [
          0.0237125748502994,
          0.022761614659535172,
          0.03447434998628342,
          0.0588038499150754,
          0.0621023823410651,
          0.11100139294369073,
          0.29156729778865365,
          0.07032532929111976,
          0.009070344107539045,
          0.010275044333947634,
          0.008235216298452176,
          0.010533536585365854,
          0.017213789319678128,
          0.011796064197810922,
          0.0207627400172746,
          0.03273066771998492,
          0.008908062076306796,
          0.012191765741963893,
          0.01869915190228533
         ],
         "yaxis": "y"
        },
        {
         "hovertemplate": "symbol=AMC<br>week=%{x}<br>mention_perc=%{y}<extra></extra>",
         "legendgroup": "AMC",
         "line": {
          "color": "#EF553B",
          "dash": "solid"
         },
         "mode": "lines",
         "name": "AMC",
         "orientation": "v",
         "showlegend": true,
         "type": "scatter",
         "x": [
          "2021-07-11T00:00:00+00:00",
          "2021-07-04T00:00:00+00:00",
          "2021-06-27T00:00:00+00:00",
          "2021-06-20T00:00:00+00:00",
          "2021-06-13T00:00:00+00:00",
          "2021-06-06T00:00:00+00:00",
          "2021-05-30T00:00:00+00:00",
          "2021-05-23T00:00:00+00:00",
          "2021-05-16T00:00:00+00:00",
          "2021-05-09T00:00:00+00:00",
          "2021-05-02T00:00:00+00:00",
          "2021-04-25T00:00:00+00:00",
          "2021-04-18T00:00:00+00:00",
          "2021-04-11T00:00:00+00:00",
          "2021-04-04T00:00:00+00:00",
          "2021-03-28T00:00:00+00:00",
          "2021-03-21T00:00:00+00:00",
          "2021-03-14T00:00:00+00:00",
          "2021-03-07T00:00:00+00:00"
         ],
         "xaxis": "x",
         "y": [
          0.06165269461077844,
          0.07209843378984482,
          0.05611607278934374,
          0.06573935869061712,
          0.09904437166315223,
          0.09688591218730322,
          0.26020475173333885,
          0.28320758833729515,
          0.11389045982511854,
          0.11062623874265447,
          0.03480949861092737,
          0.03190548780487805,
          0.026312179956108267,
          0.03143254125786877,
          0.03808717028768852,
          0.04511912670341311,
          0.06891142360916577,
          0.09606634375458682,
          0.08269492220375925
         ],
         "yaxis": "y"
        },
        {
         "hovertemplate": "symbol=CLNE<br>week=%{x}<br>mention_perc=%{y}<extra></extra>",
         "legendgroup": "CLNE",
         "line": {
          "color": "#00cc96",
          "dash": "solid"
         },
         "mode": "lines",
         "name": "CLNE",
         "orientation": "v",
         "showlegend": true,
         "type": "scatter",
         "x": [
          "2021-07-11T00:00:00+00:00",
          "2021-07-04T00:00:00+00:00",
          "2021-06-27T00:00:00+00:00",
          "2021-06-20T00:00:00+00:00",
          "2021-06-13T00:00:00+00:00",
          "2021-06-06T00:00:00+00:00",
          "2021-05-30T00:00:00+00:00",
          "2021-05-23T00:00:00+00:00",
          "2021-05-16T00:00:00+00:00",
          "2021-05-09T00:00:00+00:00",
          "2021-05-02T00:00:00+00:00",
          "2021-04-25T00:00:00+00:00",
          "2021-04-18T00:00:00+00:00",
          "2021-04-11T00:00:00+00:00",
          "2021-04-04T00:00:00+00:00",
          "2021-03-28T00:00:00+00:00",
          "2021-03-21T00:00:00+00:00",
          "2021-03-14T00:00:00+00:00",
          "2021-03-07T00:00:00+00:00"
         ],
         "xaxis": "x",
         "y": [
          0.016862275449101797,
          0.021346509006308013,
          0.02828664614259152,
          0.03937413145298266,
          0.10438332809906231,
          0.07827198656668002,
          0.025327830889723013,
          0.0008268164123057843,
          0.0030016966111280287,
          0.0032163844361765013,
          0.004216827622701416,
          0.003429878048780488,
          0.0031775786393562545,
          0.0007656099359156128,
          0.0006644076805527872,
          0.0005386286514533997,
          0.0005602554764972828,
          0.0005228974020255394,
          0.000399231748635059
         ],
         "yaxis": "y"
        },
        {
         "hovertemplate": "symbol=CLOV<br>week=%{x}<br>mention_perc=%{y}<extra></extra>",
         "legendgroup": "CLOV",
         "line": {
          "color": "#ab63fa",
          "dash": "solid"
         },
         "mode": "lines",
         "name": "CLOV",
         "orientation": "v",
         "showlegend": true,
         "type": "scatter",
         "x": [
          "2021-07-11T00:00:00+00:00",
          "2021-07-04T00:00:00+00:00",
          "2021-06-27T00:00:00+00:00",
          "2021-06-20T00:00:00+00:00",
          "2021-06-13T00:00:00+00:00",
          "2021-06-06T00:00:00+00:00",
          "2021-05-30T00:00:00+00:00",
          "2021-05-23T00:00:00+00:00",
          "2021-05-16T00:00:00+00:00",
          "2021-05-09T00:00:00+00:00",
          "2021-05-02T00:00:00+00:00",
          "2021-04-25T00:00:00+00:00",
          "2021-04-18T00:00:00+00:00",
          "2021-04-11T00:00:00+00:00",
          "2021-04-04T00:00:00+00:00",
          "2021-03-28T00:00:00+00:00",
          "2021-03-21T00:00:00+00:00",
          "2021-03-14T00:00:00+00:00",
          "2021-03-07T00:00:00+00:00"
         ],
         "xaxis": "x",
         "y": [
          0.0742994011976048,
          0.0639915573357638,
          0.06807998293047215,
          0.08057542848319522,
          0.04858899008479519,
          0.11351537008414907,
          0.018214747378389774,
          0.008084427142545446,
          0.022382216035150303,
          0.01317848325741507,
          0.024804868368831855,
          0.038978658536585366,
          0.050018288222384785,
          0.015496512221403051,
          0.0019766128496445418,
          0.00021545146058135986,
          0.0002016919715390218,
          0.00033942462938499926,
          0.00021580094520814002
         ],
         "yaxis": "y"
        },
        {
         "hovertemplate": "symbol=GME<br>week=%{x}<br>mention_perc=%{y}<extra></extra>",
         "legendgroup": "GME",
         "line": {
          "color": "#FFA15A",
          "dash": "solid"
         },
         "mode": "lines",
         "name": "GME",
         "orientation": "v",
         "showlegend": true,
         "type": "scatter",
         "x": [
          "2021-07-11T00:00:00+00:00",
          "2021-07-04T00:00:00+00:00",
          "2021-06-27T00:00:00+00:00",
          "2021-06-20T00:00:00+00:00",
          "2021-06-13T00:00:00+00:00",
          "2021-06-06T00:00:00+00:00",
          "2021-05-30T00:00:00+00:00",
          "2021-05-23T00:00:00+00:00",
          "2021-05-16T00:00:00+00:00",
          "2021-05-09T00:00:00+00:00",
          "2021-05-02T00:00:00+00:00",
          "2021-04-25T00:00:00+00:00",
          "2021-04-18T00:00:00+00:00",
          "2021-04-11T00:00:00+00:00",
          "2021-04-04T00:00:00+00:00",
          "2021-03-28T00:00:00+00:00",
          "2021-03-21T00:00:00+00:00",
          "2021-03-14T00:00:00+00:00",
          "2021-03-07T00:00:00+00:00"
         ],
         "xaxis": "x",
         "y": [
          0.04876646706586826,
          0.0784784016501571,
          0.055125430548358584,
          0.057156827422924494,
          0.04607653999730809,
          0.08552292632663576,
          0.08704368083062013,
          0.17022082888345333,
          0.12724583460216643,
          0.11198233596439376,
          0.10752083608942982,
          0.11379573170731708,
          0.17460680321872715,
          0.265227130947655,
          0.2504152548003455,
          0.25879311273497674,
          0.37986441817468763,
          0.3632118743578453,
          0.40206953106454607
         ],
         "yaxis": "y"
        },
        {
         "hovertemplate": "symbol=MVIS<br>week=%{x}<br>mention_perc=%{y}<extra></extra>",
         "legendgroup": "MVIS",
         "line": {
          "color": "#19d3f3",
          "dash": "solid"
         },
         "mode": "lines",
         "name": "MVIS",
         "orientation": "v",
         "showlegend": true,
         "type": "scatter",
         "x": [
          "2021-07-11T00:00:00+00:00",
          "2021-07-04T00:00:00+00:00",
          "2021-06-27T00:00:00+00:00",
          "2021-06-20T00:00:00+00:00",
          "2021-06-13T00:00:00+00:00",
          "2021-06-06T00:00:00+00:00",
          "2021-05-30T00:00:00+00:00",
          "2021-05-23T00:00:00+00:00",
          "2021-05-16T00:00:00+00:00",
          "2021-05-09T00:00:00+00:00",
          "2021-05-02T00:00:00+00:00",
          "2021-04-25T00:00:00+00:00",
          "2021-04-18T00:00:00+00:00",
          "2021-04-11T00:00:00+00:00",
          "2021-04-04T00:00:00+00:00",
          "2021-03-28T00:00:00+00:00",
          "2021-03-21T00:00:00+00:00",
          "2021-03-14T00:00:00+00:00",
          "2021-03-07T00:00:00+00:00"
         ],
         "xaxis": "x",
         "y": [
          0.004023952095808383,
          0.0026623174153934713,
          0.0015697869357149388,
          0.003216840804982243,
          0.0013369823679842074,
          0.004975480374759097,
          0.009484111348444315,
          0.007659535375110529,
          0.014508200287118807,
          0.012969852915609027,
          0.03700886360629713,
          0.19396341463414635,
          0.0869147768836869,
          0.007982192480009073,
          0.007408145638163577,
          0.01456092787762357,
          0.0020729452630399462,
          0.002275062380742698,
          0.003226224130861693
         ],
         "yaxis": "y"
        },
        {
         "hovertemplate": "symbol=PLTR<br>week=%{x}<br>mention_perc=%{y}<extra></extra>",
         "legendgroup": "PLTR",
         "line": {
          "color": "#FF6692",
          "dash": "solid"
         },
         "mode": "lines",
         "name": "PLTR",
         "orientation": "v",
         "showlegend": true,
         "type": "scatter",
         "x": [
          "2021-07-11T00:00:00+00:00",
          "2021-07-04T00:00:00+00:00",
          "2021-06-27T00:00:00+00:00",
          "2021-06-20T00:00:00+00:00",
          "2021-06-13T00:00:00+00:00",
          "2021-06-06T00:00:00+00:00",
          "2021-05-30T00:00:00+00:00",
          "2021-05-23T00:00:00+00:00",
          "2021-05-16T00:00:00+00:00",
          "2021-05-09T00:00:00+00:00",
          "2021-05-02T00:00:00+00:00",
          "2021-04-25T00:00:00+00:00",
          "2021-04-18T00:00:00+00:00",
          "2021-04-11T00:00:00+00:00",
          "2021-04-04T00:00:00+00:00",
          "2021-03-28T00:00:00+00:00",
          "2021-03-21T00:00:00+00:00",
          "2021-03-14T00:00:00+00:00",
          "2021-03-07T00:00:00+00:00"
         ],
         "xaxis": "x",
         "y": [
          0.01437125748502994,
          0.020914781857865827,
          0.02481177797421282,
          0.019867208811570333,
          0.01800888330566647,
          0.006005877077489648,
          0.01032745069575496,
          0.020980466462259276,
          0.03928307304128421,
          0.09553531068535068,
          0.05946553776954624,
          0.02117378048780488,
          0.044440380395025604,
          0.07193897805251517,
          0.047804132615773036,
          0.05953642027398244,
          0.03615888845313463,
          0.026108175546748862,
          0.02748225037225663
         ],
         "yaxis": "y"
        },
        {
         "hovertemplate": "symbol=RKT<br>week=%{x}<br>mention_perc=%{y}<extra></extra>",
         "legendgroup": "RKT",
         "line": {
          "color": "#B6E880",
          "dash": "solid"
         },
         "mode": "lines",
         "name": "RKT",
         "orientation": "v",
         "showlegend": true,
         "type": "scatter",
         "x": [
          "2021-07-11T00:00:00+00:00",
          "2021-07-04T00:00:00+00:00",
          "2021-06-27T00:00:00+00:00",
          "2021-06-20T00:00:00+00:00",
          "2021-06-13T00:00:00+00:00",
          "2021-06-06T00:00:00+00:00",
          "2021-05-30T00:00:00+00:00",
          "2021-05-23T00:00:00+00:00",
          "2021-05-16T00:00:00+00:00",
          "2021-05-09T00:00:00+00:00",
          "2021-05-02T00:00:00+00:00",
          "2021-04-25T00:00:00+00:00",
          "2021-04-18T00:00:00+00:00",
          "2021-04-11T00:00:00+00:00",
          "2021-04-04T00:00:00+00:00",
          "2021-03-28T00:00:00+00:00",
          "2021-03-21T00:00:00+00:00",
          "2021-03-14T00:00:00+00:00",
          "2021-03-07T00:00:00+00:00"
         ],
         "xaxis": "x",
         "y": [
          0.00934131736526946,
          0.00438922600916221,
          0.00519706160270674,
          0.007823356837716814,
          0.00535690250796357,
          0.006535386494170626,
          0.007769782183419395,
          0.012987907809970028,
          0.010266672467046592,
          0.01879411662436107,
          0.07755655509988094,
          0.00826219512195122,
          0.00907553035844916,
          0.007330006238303182,
          0.012540694970433858,
          0.02874481569922976,
          0.019093506639027397,
          0.02458535153383238,
          0.01681089363171411
         ],
         "yaxis": "y"
        },
        {
         "hovertemplate": "symbol=TSLA<br>week=%{x}<br>mention_perc=%{y}<extra></extra>",
         "legendgroup": "TSLA",
         "line": {
          "color": "#FF97FF",
          "dash": "solid"
         },
         "mode": "lines",
         "name": "TSLA",
         "orientation": "v",
         "showlegend": true,
         "type": "scatter",
         "x": [
          "2021-07-11T00:00:00+00:00",
          "2021-07-04T00:00:00+00:00",
          "2021-06-27T00:00:00+00:00",
          "2021-06-20T00:00:00+00:00",
          "2021-06-13T00:00:00+00:00",
          "2021-06-06T00:00:00+00:00",
          "2021-05-30T00:00:00+00:00",
          "2021-05-23T00:00:00+00:00",
          "2021-05-16T00:00:00+00:00",
          "2021-05-09T00:00:00+00:00",
          "2021-05-02T00:00:00+00:00",
          "2021-04-25T00:00:00+00:00",
          "2021-04-18T00:00:00+00:00",
          "2021-04-11T00:00:00+00:00",
          "2021-04-04T00:00:00+00:00",
          "2021-03-28T00:00:00+00:00",
          "2021-03-21T00:00:00+00:00",
          "2021-03-14T00:00:00+00:00",
          "2021-03-07T00:00:00+00:00"
         ],
         "xaxis": "x",
         "y": [
          0.023808383233532935,
          0.018588252224594058,
          0.019736641570396563,
          0.03315919501775696,
          0.011736731122975458,
          0.006158528440857137,
          0.008889626234766319,
          0.019889528140466923,
          0.07282376995693218,
          0.04876734239716263,
          0.02305199100410107,
          0.03518292682926829,
          0.03717081199707389,
          0.045029206601259,
          0.04057869908976148,
          0.04407777797726987,
          0.027273236595887724,
          0.019549023924849553,
          0.026360085457174304
         ],
         "yaxis": "y"
        },
        {
         "hovertemplate": "symbol=WISH<br>week=%{x}<br>mention_perc=%{y}<extra></extra>",
         "legendgroup": "WISH",
         "line": {
          "color": "#FECB52",
          "dash": "solid"
         },
         "mode": "lines",
         "name": "WISH",
         "orientation": "v",
         "showlegend": true,
         "type": "scatter",
         "x": [
          "2021-07-11T00:00:00+00:00",
          "2021-07-04T00:00:00+00:00",
          "2021-06-27T00:00:00+00:00",
          "2021-06-20T00:00:00+00:00",
          "2021-06-13T00:00:00+00:00",
          "2021-06-06T00:00:00+00:00",
          "2021-05-30T00:00:00+00:00",
          "2021-05-23T00:00:00+00:00",
          "2021-05-16T00:00:00+00:00",
          "2021-05-09T00:00:00+00:00",
          "2021-05-02T00:00:00+00:00",
          "2021-04-25T00:00:00+00:00",
          "2021-04-18T00:00:00+00:00",
          "2021-04-11T00:00:00+00:00",
          "2021-04-04T00:00:00+00:00",
          "2021-03-28T00:00:00+00:00",
          "2021-03-21T00:00:00+00:00",
          "2021-03-14T00:00:00+00:00",
          "2021-03-07T00:00:00+00:00"
         ],
         "xaxis": "x",
         "y": [
          0.025820359281437125,
          0.034250353776413306,
          0.05657329228518304,
          0.11660404549899635,
          0.06666068464264883,
          0.07761367756215773,
          0.001078368345741482,
          0.0019177547340981384,
          0.0005872884673946144,
          0.0022601620362321362,
          0.0003803413149887551,
          0.0012347560975609756,
          0.00029718361375274325,
          0.0003828049679578064,
          0.0005315261444422297,
          0.00035908576763559976,
          0.0003473583954283153,
          0.00027520915896081023,
          0.000679772977405641
         ],
         "yaxis": "y"
        }
       ],
       "layout": {
        "legend": {
         "title": {
          "text": "symbol"
         },
         "tracegroupgap": 0
        },
        "template": {
         "data": {
          "bar": [
           {
            "error_x": {
             "color": "#2a3f5f"
            },
            "error_y": {
             "color": "#2a3f5f"
            },
            "marker": {
             "line": {
              "color": "#E5ECF6",
              "width": 0.5
             },
             "pattern": {
              "fillmode": "overlay",
              "size": 10,
              "solidity": 0.2
             }
            },
            "type": "bar"
           }
          ],
          "barpolar": [
           {
            "marker": {
             "line": {
              "color": "#E5ECF6",
              "width": 0.5
             },
             "pattern": {
              "fillmode": "overlay",
              "size": 10,
              "solidity": 0.2
             }
            },
            "type": "barpolar"
           }
          ],
          "carpet": [
           {
            "aaxis": {
             "endlinecolor": "#2a3f5f",
             "gridcolor": "white",
             "linecolor": "white",
             "minorgridcolor": "white",
             "startlinecolor": "#2a3f5f"
            },
            "baxis": {
             "endlinecolor": "#2a3f5f",
             "gridcolor": "white",
             "linecolor": "white",
             "minorgridcolor": "white",
             "startlinecolor": "#2a3f5f"
            },
            "type": "carpet"
           }
          ],
          "choropleth": [
           {
            "colorbar": {
             "outlinewidth": 0,
             "ticks": ""
            },
            "type": "choropleth"
           }
          ],
          "contour": [
           {
            "colorbar": {
             "outlinewidth": 0,
             "ticks": ""
            },
            "colorscale": [
             [
              0,
              "#0d0887"
             ],
             [
              0.1111111111111111,
              "#46039f"
             ],
             [
              0.2222222222222222,
              "#7201a8"
             ],
             [
              0.3333333333333333,
              "#9c179e"
             ],
             [
              0.4444444444444444,
              "#bd3786"
             ],
             [
              0.5555555555555556,
              "#d8576b"
             ],
             [
              0.6666666666666666,
              "#ed7953"
             ],
             [
              0.7777777777777778,
              "#fb9f3a"
             ],
             [
              0.8888888888888888,
              "#fdca26"
             ],
             [
              1,
              "#f0f921"
             ]
            ],
            "type": "contour"
           }
          ],
          "contourcarpet": [
           {
            "colorbar": {
             "outlinewidth": 0,
             "ticks": ""
            },
            "type": "contourcarpet"
           }
          ],
          "heatmap": [
           {
            "colorbar": {
             "outlinewidth": 0,
             "ticks": ""
            },
            "colorscale": [
             [
              0,
              "#0d0887"
             ],
             [
              0.1111111111111111,
              "#46039f"
             ],
             [
              0.2222222222222222,
              "#7201a8"
             ],
             [
              0.3333333333333333,
              "#9c179e"
             ],
             [
              0.4444444444444444,
              "#bd3786"
             ],
             [
              0.5555555555555556,
              "#d8576b"
             ],
             [
              0.6666666666666666,
              "#ed7953"
             ],
             [
              0.7777777777777778,
              "#fb9f3a"
             ],
             [
              0.8888888888888888,
              "#fdca26"
             ],
             [
              1,
              "#f0f921"
             ]
            ],
            "type": "heatmap"
           }
          ],
          "heatmapgl": [
           {
            "colorbar": {
             "outlinewidth": 0,
             "ticks": ""
            },
            "colorscale": [
             [
              0,
              "#0d0887"
             ],
             [
              0.1111111111111111,
              "#46039f"
             ],
             [
              0.2222222222222222,
              "#7201a8"
             ],
             [
              0.3333333333333333,
              "#9c179e"
             ],
             [
              0.4444444444444444,
              "#bd3786"
             ],
             [
              0.5555555555555556,
              "#d8576b"
             ],
             [
              0.6666666666666666,
              "#ed7953"
             ],
             [
              0.7777777777777778,
              "#fb9f3a"
             ],
             [
              0.8888888888888888,
              "#fdca26"
             ],
             [
              1,
              "#f0f921"
             ]
            ],
            "type": "heatmapgl"
           }
          ],
          "histogram": [
           {
            "marker": {
             "pattern": {
              "fillmode": "overlay",
              "size": 10,
              "solidity": 0.2
             }
            },
            "type": "histogram"
           }
          ],
          "histogram2d": [
           {
            "colorbar": {
             "outlinewidth": 0,
             "ticks": ""
            },
            "colorscale": [
             [
              0,
              "#0d0887"
             ],
             [
              0.1111111111111111,
              "#46039f"
             ],
             [
              0.2222222222222222,
              "#7201a8"
             ],
             [
              0.3333333333333333,
              "#9c179e"
             ],
             [
              0.4444444444444444,
              "#bd3786"
             ],
             [
              0.5555555555555556,
              "#d8576b"
             ],
             [
              0.6666666666666666,
              "#ed7953"
             ],
             [
              0.7777777777777778,
              "#fb9f3a"
             ],
             [
              0.8888888888888888,
              "#fdca26"
             ],
             [
              1,
              "#f0f921"
             ]
            ],
            "type": "histogram2d"
           }
          ],
          "histogram2dcontour": [
           {
            "colorbar": {
             "outlinewidth": 0,
             "ticks": ""
            },
            "colorscale": [
             [
              0,
              "#0d0887"
             ],
             [
              0.1111111111111111,
              "#46039f"
             ],
             [
              0.2222222222222222,
              "#7201a8"
             ],
             [
              0.3333333333333333,
              "#9c179e"
             ],
             [
              0.4444444444444444,
              "#bd3786"
             ],
             [
              0.5555555555555556,
              "#d8576b"
             ],
             [
              0.6666666666666666,
              "#ed7953"
             ],
             [
              0.7777777777777778,
              "#fb9f3a"
             ],
             [
              0.8888888888888888,
              "#fdca26"
             ],
             [
              1,
              "#f0f921"
             ]
            ],
            "type": "histogram2dcontour"
           }
          ],
          "mesh3d": [
           {
            "colorbar": {
             "outlinewidth": 0,
             "ticks": ""
            },
            "type": "mesh3d"
           }
          ],
          "parcoords": [
           {
            "line": {
             "colorbar": {
              "outlinewidth": 0,
              "ticks": ""
             }
            },
            "type": "parcoords"
           }
          ],
          "pie": [
           {
            "automargin": true,
            "type": "pie"
           }
          ],
          "scatter": [
           {
            "marker": {
             "colorbar": {
              "outlinewidth": 0,
              "ticks": ""
             }
            },
            "type": "scatter"
           }
          ],
          "scatter3d": [
           {
            "line": {
             "colorbar": {
              "outlinewidth": 0,
              "ticks": ""
             }
            },
            "marker": {
             "colorbar": {
              "outlinewidth": 0,
              "ticks": ""
             }
            },
            "type": "scatter3d"
           }
          ],
          "scattercarpet": [
           {
            "marker": {
             "colorbar": {
              "outlinewidth": 0,
              "ticks": ""
             }
            },
            "type": "scattercarpet"
           }
          ],
          "scattergeo": [
           {
            "marker": {
             "colorbar": {
              "outlinewidth": 0,
              "ticks": ""
             }
            },
            "type": "scattergeo"
           }
          ],
          "scattergl": [
           {
            "marker": {
             "colorbar": {
              "outlinewidth": 0,
              "ticks": ""
             }
            },
            "type": "scattergl"
           }
          ],
          "scattermapbox": [
           {
            "marker": {
             "colorbar": {
              "outlinewidth": 0,
              "ticks": ""
             }
            },
            "type": "scattermapbox"
           }
          ],
          "scatterpolar": [
           {
            "marker": {
             "colorbar": {
              "outlinewidth": 0,
              "ticks": ""
             }
            },
            "type": "scatterpolar"
           }
          ],
          "scatterpolargl": [
           {
            "marker": {
             "colorbar": {
              "outlinewidth": 0,
              "ticks": ""
             }
            },
            "type": "scatterpolargl"
           }
          ],
          "scatterternary": [
           {
            "marker": {
             "colorbar": {
              "outlinewidth": 0,
              "ticks": ""
             }
            },
            "type": "scatterternary"
           }
          ],
          "surface": [
           {
            "colorbar": {
             "outlinewidth": 0,
             "ticks": ""
            },
            "colorscale": [
             [
              0,
              "#0d0887"
             ],
             [
              0.1111111111111111,
              "#46039f"
             ],
             [
              0.2222222222222222,
              "#7201a8"
             ],
             [
              0.3333333333333333,
              "#9c179e"
             ],
             [
              0.4444444444444444,
              "#bd3786"
             ],
             [
              0.5555555555555556,
              "#d8576b"
             ],
             [
              0.6666666666666666,
              "#ed7953"
             ],
             [
              0.7777777777777778,
              "#fb9f3a"
             ],
             [
              0.8888888888888888,
              "#fdca26"
             ],
             [
              1,
              "#f0f921"
             ]
            ],
            "type": "surface"
           }
          ],
          "table": [
           {
            "cells": {
             "fill": {
              "color": "#EBF0F8"
             },
             "line": {
              "color": "white"
             }
            },
            "header": {
             "fill": {
              "color": "#C8D4E3"
             },
             "line": {
              "color": "white"
             }
            },
            "type": "table"
           }
          ]
         },
         "layout": {
          "annotationdefaults": {
           "arrowcolor": "#2a3f5f",
           "arrowhead": 0,
           "arrowwidth": 1
          },
          "autotypenumbers": "strict",
          "coloraxis": {
           "colorbar": {
            "outlinewidth": 0,
            "ticks": ""
           }
          },
          "colorscale": {
           "diverging": [
            [
             0,
             "#8e0152"
            ],
            [
             0.1,
             "#c51b7d"
            ],
            [
             0.2,
             "#de77ae"
            ],
            [
             0.3,
             "#f1b6da"
            ],
            [
             0.4,
             "#fde0ef"
            ],
            [
             0.5,
             "#f7f7f7"
            ],
            [
             0.6,
             "#e6f5d0"
            ],
            [
             0.7,
             "#b8e186"
            ],
            [
             0.8,
             "#7fbc41"
            ],
            [
             0.9,
             "#4d9221"
            ],
            [
             1,
             "#276419"
            ]
           ],
           "sequential": [
            [
             0,
             "#0d0887"
            ],
            [
             0.1111111111111111,
             "#46039f"
            ],
            [
             0.2222222222222222,
             "#7201a8"
            ],
            [
             0.3333333333333333,
             "#9c179e"
            ],
            [
             0.4444444444444444,
             "#bd3786"
            ],
            [
             0.5555555555555556,
             "#d8576b"
            ],
            [
             0.6666666666666666,
             "#ed7953"
            ],
            [
             0.7777777777777778,
             "#fb9f3a"
            ],
            [
             0.8888888888888888,
             "#fdca26"
            ],
            [
             1,
             "#f0f921"
            ]
           ],
           "sequentialminus": [
            [
             0,
             "#0d0887"
            ],
            [
             0.1111111111111111,
             "#46039f"
            ],
            [
             0.2222222222222222,
             "#7201a8"
            ],
            [
             0.3333333333333333,
             "#9c179e"
            ],
            [
             0.4444444444444444,
             "#bd3786"
            ],
            [
             0.5555555555555556,
             "#d8576b"
            ],
            [
             0.6666666666666666,
             "#ed7953"
            ],
            [
             0.7777777777777778,
             "#fb9f3a"
            ],
            [
             0.8888888888888888,
             "#fdca26"
            ],
            [
             1,
             "#f0f921"
            ]
           ]
          },
          "colorway": [
           "#636efa",
           "#EF553B",
           "#00cc96",
           "#ab63fa",
           "#FFA15A",
           "#19d3f3",
           "#FF6692",
           "#B6E880",
           "#FF97FF",
           "#FECB52"
          ],
          "font": {
           "color": "#2a3f5f"
          },
          "geo": {
           "bgcolor": "white",
           "lakecolor": "white",
           "landcolor": "#E5ECF6",
           "showlakes": true,
           "showland": true,
           "subunitcolor": "white"
          },
          "hoverlabel": {
           "align": "left"
          },
          "hovermode": "closest",
          "mapbox": {
           "style": "light"
          },
          "paper_bgcolor": "white",
          "plot_bgcolor": "#E5ECF6",
          "polar": {
           "angularaxis": {
            "gridcolor": "white",
            "linecolor": "white",
            "ticks": ""
           },
           "bgcolor": "#E5ECF6",
           "radialaxis": {
            "gridcolor": "white",
            "linecolor": "white",
            "ticks": ""
           }
          },
          "scene": {
           "xaxis": {
            "backgroundcolor": "#E5ECF6",
            "gridcolor": "white",
            "gridwidth": 2,
            "linecolor": "white",
            "showbackground": true,
            "ticks": "",
            "zerolinecolor": "white"
           },
           "yaxis": {
            "backgroundcolor": "#E5ECF6",
            "gridcolor": "white",
            "gridwidth": 2,
            "linecolor": "white",
            "showbackground": true,
            "ticks": "",
            "zerolinecolor": "white"
           },
           "zaxis": {
            "backgroundcolor": "#E5ECF6",
            "gridcolor": "white",
            "gridwidth": 2,
            "linecolor": "white",
            "showbackground": true,
            "ticks": "",
            "zerolinecolor": "white"
           }
          },
          "shapedefaults": {
           "line": {
            "color": "#2a3f5f"
           }
          },
          "ternary": {
           "aaxis": {
            "gridcolor": "white",
            "linecolor": "white",
            "ticks": ""
           },
           "baxis": {
            "gridcolor": "white",
            "linecolor": "white",
            "ticks": ""
           },
           "bgcolor": "#E5ECF6",
           "caxis": {
            "gridcolor": "white",
            "linecolor": "white",
            "ticks": ""
           }
          },
          "title": {
           "x": 0.05
          },
          "xaxis": {
           "automargin": true,
           "gridcolor": "white",
           "linecolor": "white",
           "ticks": "",
           "title": {
            "standoff": 15
           },
           "zerolinecolor": "white",
           "zerolinewidth": 2
          },
          "yaxis": {
           "automargin": true,
           "gridcolor": "white",
           "linecolor": "white",
           "ticks": "",
           "title": {
            "standoff": 15
           },
           "zerolinecolor": "white",
           "zerolinewidth": 2
          }
         }
        },
        "title": {
         "text": "Fraction of mentions (weekly)"
        },
        "xaxis": {
         "anchor": "y",
         "domain": [
          0,
          1
         ],
         "title": {
          "text": "week"
         }
        },
        "yaxis": {
         "anchor": "x",
         "domain": [
          0,
          1
         ],
         "title": {
          "text": "mention_perc"
         }
        }
       }
      },
      "text/html": [
       "<div>                            <div id=\"abd78b54-92b9-4798-9ed4-401d0c7d4d45\" class=\"plotly-graph-div\" style=\"height:525px; width:100%;\"></div>            <script type=\"text/javascript\">                require([\"plotly\"], function(Plotly) {                    window.PLOTLYENV=window.PLOTLYENV || {};                                    if (document.getElementById(\"abd78b54-92b9-4798-9ed4-401d0c7d4d45\")) {                    Plotly.newPlot(                        \"abd78b54-92b9-4798-9ed4-401d0c7d4d45\",                        [{\"hovertemplate\":\"symbol=BB<br>week=%{x}<br>mention_perc=%{y}<extra></extra>\",\"legendgroup\":\"BB\",\"line\":{\"color\":\"#636efa\",\"dash\":\"solid\"},\"mode\":\"lines\",\"name\":\"BB\",\"orientation\":\"v\",\"showlegend\":true,\"type\":\"scatter\",\"x\":[\"2021-07-11T00:00:00+00:00\",\"2021-07-04T00:00:00+00:00\",\"2021-06-27T00:00:00+00:00\",\"2021-06-20T00:00:00+00:00\",\"2021-06-13T00:00:00+00:00\",\"2021-06-06T00:00:00+00:00\",\"2021-05-30T00:00:00+00:00\",\"2021-05-23T00:00:00+00:00\",\"2021-05-16T00:00:00+00:00\",\"2021-05-09T00:00:00+00:00\",\"2021-05-02T00:00:00+00:00\",\"2021-04-25T00:00:00+00:00\",\"2021-04-18T00:00:00+00:00\",\"2021-04-11T00:00:00+00:00\",\"2021-04-04T00:00:00+00:00\",\"2021-03-28T00:00:00+00:00\",\"2021-03-21T00:00:00+00:00\",\"2021-03-14T00:00:00+00:00\",\"2021-03-07T00:00:00+00:00\"],\"xaxis\":\"x\",\"y\":[0.0237125748502994,0.022761614659535172,0.03447434998628342,0.0588038499150754,0.0621023823410651,0.11100139294369073,0.29156729778865365,0.07032532929111976,0.009070344107539045,0.010275044333947634,0.008235216298452176,0.010533536585365854,0.017213789319678128,0.011796064197810922,0.0207627400172746,0.03273066771998492,0.008908062076306796,0.012191765741963893,0.01869915190228533],\"yaxis\":\"y\"},{\"hovertemplate\":\"symbol=AMC<br>week=%{x}<br>mention_perc=%{y}<extra></extra>\",\"legendgroup\":\"AMC\",\"line\":{\"color\":\"#EF553B\",\"dash\":\"solid\"},\"mode\":\"lines\",\"name\":\"AMC\",\"orientation\":\"v\",\"showlegend\":true,\"type\":\"scatter\",\"x\":[\"2021-07-11T00:00:00+00:00\",\"2021-07-04T00:00:00+00:00\",\"2021-06-27T00:00:00+00:00\",\"2021-06-20T00:00:00+00:00\",\"2021-06-13T00:00:00+00:00\",\"2021-06-06T00:00:00+00:00\",\"2021-05-30T00:00:00+00:00\",\"2021-05-23T00:00:00+00:00\",\"2021-05-16T00:00:00+00:00\",\"2021-05-09T00:00:00+00:00\",\"2021-05-02T00:00:00+00:00\",\"2021-04-25T00:00:00+00:00\",\"2021-04-18T00:00:00+00:00\",\"2021-04-11T00:00:00+00:00\",\"2021-04-04T00:00:00+00:00\",\"2021-03-28T00:00:00+00:00\",\"2021-03-21T00:00:00+00:00\",\"2021-03-14T00:00:00+00:00\",\"2021-03-07T00:00:00+00:00\"],\"xaxis\":\"x\",\"y\":[0.06165269461077844,0.07209843378984482,0.05611607278934374,0.06573935869061712,0.09904437166315223,0.09688591218730322,0.26020475173333885,0.28320758833729515,0.11389045982511854,0.11062623874265447,0.03480949861092737,0.03190548780487805,0.026312179956108267,0.03143254125786877,0.03808717028768852,0.04511912670341311,0.06891142360916577,0.09606634375458682,0.08269492220375925],\"yaxis\":\"y\"},{\"hovertemplate\":\"symbol=CLNE<br>week=%{x}<br>mention_perc=%{y}<extra></extra>\",\"legendgroup\":\"CLNE\",\"line\":{\"color\":\"#00cc96\",\"dash\":\"solid\"},\"mode\":\"lines\",\"name\":\"CLNE\",\"orientation\":\"v\",\"showlegend\":true,\"type\":\"scatter\",\"x\":[\"2021-07-11T00:00:00+00:00\",\"2021-07-04T00:00:00+00:00\",\"2021-06-27T00:00:00+00:00\",\"2021-06-20T00:00:00+00:00\",\"2021-06-13T00:00:00+00:00\",\"2021-06-06T00:00:00+00:00\",\"2021-05-30T00:00:00+00:00\",\"2021-05-23T00:00:00+00:00\",\"2021-05-16T00:00:00+00:00\",\"2021-05-09T00:00:00+00:00\",\"2021-05-02T00:00:00+00:00\",\"2021-04-25T00:00:00+00:00\",\"2021-04-18T00:00:00+00:00\",\"2021-04-11T00:00:00+00:00\",\"2021-04-04T00:00:00+00:00\",\"2021-03-28T00:00:00+00:00\",\"2021-03-21T00:00:00+00:00\",\"2021-03-14T00:00:00+00:00\",\"2021-03-07T00:00:00+00:00\"],\"xaxis\":\"x\",\"y\":[0.016862275449101797,0.021346509006308013,0.02828664614259152,0.03937413145298266,0.10438332809906231,0.07827198656668002,0.025327830889723013,0.0008268164123057843,0.0030016966111280287,0.0032163844361765013,0.004216827622701416,0.003429878048780488,0.0031775786393562545,0.0007656099359156128,0.0006644076805527872,0.0005386286514533997,0.0005602554764972828,0.0005228974020255394,0.000399231748635059],\"yaxis\":\"y\"},{\"hovertemplate\":\"symbol=CLOV<br>week=%{x}<br>mention_perc=%{y}<extra></extra>\",\"legendgroup\":\"CLOV\",\"line\":{\"color\":\"#ab63fa\",\"dash\":\"solid\"},\"mode\":\"lines\",\"name\":\"CLOV\",\"orientation\":\"v\",\"showlegend\":true,\"type\":\"scatter\",\"x\":[\"2021-07-11T00:00:00+00:00\",\"2021-07-04T00:00:00+00:00\",\"2021-06-27T00:00:00+00:00\",\"2021-06-20T00:00:00+00:00\",\"2021-06-13T00:00:00+00:00\",\"2021-06-06T00:00:00+00:00\",\"2021-05-30T00:00:00+00:00\",\"2021-05-23T00:00:00+00:00\",\"2021-05-16T00:00:00+00:00\",\"2021-05-09T00:00:00+00:00\",\"2021-05-02T00:00:00+00:00\",\"2021-04-25T00:00:00+00:00\",\"2021-04-18T00:00:00+00:00\",\"2021-04-11T00:00:00+00:00\",\"2021-04-04T00:00:00+00:00\",\"2021-03-28T00:00:00+00:00\",\"2021-03-21T00:00:00+00:00\",\"2021-03-14T00:00:00+00:00\",\"2021-03-07T00:00:00+00:00\"],\"xaxis\":\"x\",\"y\":[0.0742994011976048,0.0639915573357638,0.06807998293047215,0.08057542848319522,0.04858899008479519,0.11351537008414907,0.018214747378389774,0.008084427142545446,0.022382216035150303,0.01317848325741507,0.024804868368831855,0.038978658536585366,0.050018288222384785,0.015496512221403051,0.0019766128496445418,0.00021545146058135986,0.0002016919715390218,0.00033942462938499926,0.00021580094520814002],\"yaxis\":\"y\"},{\"hovertemplate\":\"symbol=GME<br>week=%{x}<br>mention_perc=%{y}<extra></extra>\",\"legendgroup\":\"GME\",\"line\":{\"color\":\"#FFA15A\",\"dash\":\"solid\"},\"mode\":\"lines\",\"name\":\"GME\",\"orientation\":\"v\",\"showlegend\":true,\"type\":\"scatter\",\"x\":[\"2021-07-11T00:00:00+00:00\",\"2021-07-04T00:00:00+00:00\",\"2021-06-27T00:00:00+00:00\",\"2021-06-20T00:00:00+00:00\",\"2021-06-13T00:00:00+00:00\",\"2021-06-06T00:00:00+00:00\",\"2021-05-30T00:00:00+00:00\",\"2021-05-23T00:00:00+00:00\",\"2021-05-16T00:00:00+00:00\",\"2021-05-09T00:00:00+00:00\",\"2021-05-02T00:00:00+00:00\",\"2021-04-25T00:00:00+00:00\",\"2021-04-18T00:00:00+00:00\",\"2021-04-11T00:00:00+00:00\",\"2021-04-04T00:00:00+00:00\",\"2021-03-28T00:00:00+00:00\",\"2021-03-21T00:00:00+00:00\",\"2021-03-14T00:00:00+00:00\",\"2021-03-07T00:00:00+00:00\"],\"xaxis\":\"x\",\"y\":[0.04876646706586826,0.0784784016501571,0.055125430548358584,0.057156827422924494,0.04607653999730809,0.08552292632663576,0.08704368083062013,0.17022082888345333,0.12724583460216643,0.11198233596439376,0.10752083608942982,0.11379573170731708,0.17460680321872715,0.265227130947655,0.2504152548003455,0.25879311273497674,0.37986441817468763,0.3632118743578453,0.40206953106454607],\"yaxis\":\"y\"},{\"hovertemplate\":\"symbol=MVIS<br>week=%{x}<br>mention_perc=%{y}<extra></extra>\",\"legendgroup\":\"MVIS\",\"line\":{\"color\":\"#19d3f3\",\"dash\":\"solid\"},\"mode\":\"lines\",\"name\":\"MVIS\",\"orientation\":\"v\",\"showlegend\":true,\"type\":\"scatter\",\"x\":[\"2021-07-11T00:00:00+00:00\",\"2021-07-04T00:00:00+00:00\",\"2021-06-27T00:00:00+00:00\",\"2021-06-20T00:00:00+00:00\",\"2021-06-13T00:00:00+00:00\",\"2021-06-06T00:00:00+00:00\",\"2021-05-30T00:00:00+00:00\",\"2021-05-23T00:00:00+00:00\",\"2021-05-16T00:00:00+00:00\",\"2021-05-09T00:00:00+00:00\",\"2021-05-02T00:00:00+00:00\",\"2021-04-25T00:00:00+00:00\",\"2021-04-18T00:00:00+00:00\",\"2021-04-11T00:00:00+00:00\",\"2021-04-04T00:00:00+00:00\",\"2021-03-28T00:00:00+00:00\",\"2021-03-21T00:00:00+00:00\",\"2021-03-14T00:00:00+00:00\",\"2021-03-07T00:00:00+00:00\"],\"xaxis\":\"x\",\"y\":[0.004023952095808383,0.0026623174153934713,0.0015697869357149388,0.003216840804982243,0.0013369823679842074,0.004975480374759097,0.009484111348444315,0.007659535375110529,0.014508200287118807,0.012969852915609027,0.03700886360629713,0.19396341463414635,0.0869147768836869,0.007982192480009073,0.007408145638163577,0.01456092787762357,0.0020729452630399462,0.002275062380742698,0.003226224130861693],\"yaxis\":\"y\"},{\"hovertemplate\":\"symbol=PLTR<br>week=%{x}<br>mention_perc=%{y}<extra></extra>\",\"legendgroup\":\"PLTR\",\"line\":{\"color\":\"#FF6692\",\"dash\":\"solid\"},\"mode\":\"lines\",\"name\":\"PLTR\",\"orientation\":\"v\",\"showlegend\":true,\"type\":\"scatter\",\"x\":[\"2021-07-11T00:00:00+00:00\",\"2021-07-04T00:00:00+00:00\",\"2021-06-27T00:00:00+00:00\",\"2021-06-20T00:00:00+00:00\",\"2021-06-13T00:00:00+00:00\",\"2021-06-06T00:00:00+00:00\",\"2021-05-30T00:00:00+00:00\",\"2021-05-23T00:00:00+00:00\",\"2021-05-16T00:00:00+00:00\",\"2021-05-09T00:00:00+00:00\",\"2021-05-02T00:00:00+00:00\",\"2021-04-25T00:00:00+00:00\",\"2021-04-18T00:00:00+00:00\",\"2021-04-11T00:00:00+00:00\",\"2021-04-04T00:00:00+00:00\",\"2021-03-28T00:00:00+00:00\",\"2021-03-21T00:00:00+00:00\",\"2021-03-14T00:00:00+00:00\",\"2021-03-07T00:00:00+00:00\"],\"xaxis\":\"x\",\"y\":[0.01437125748502994,0.020914781857865827,0.02481177797421282,0.019867208811570333,0.01800888330566647,0.006005877077489648,0.01032745069575496,0.020980466462259276,0.03928307304128421,0.09553531068535068,0.05946553776954624,0.02117378048780488,0.044440380395025604,0.07193897805251517,0.047804132615773036,0.05953642027398244,0.03615888845313463,0.026108175546748862,0.02748225037225663],\"yaxis\":\"y\"},{\"hovertemplate\":\"symbol=RKT<br>week=%{x}<br>mention_perc=%{y}<extra></extra>\",\"legendgroup\":\"RKT\",\"line\":{\"color\":\"#B6E880\",\"dash\":\"solid\"},\"mode\":\"lines\",\"name\":\"RKT\",\"orientation\":\"v\",\"showlegend\":true,\"type\":\"scatter\",\"x\":[\"2021-07-11T00:00:00+00:00\",\"2021-07-04T00:00:00+00:00\",\"2021-06-27T00:00:00+00:00\",\"2021-06-20T00:00:00+00:00\",\"2021-06-13T00:00:00+00:00\",\"2021-06-06T00:00:00+00:00\",\"2021-05-30T00:00:00+00:00\",\"2021-05-23T00:00:00+00:00\",\"2021-05-16T00:00:00+00:00\",\"2021-05-09T00:00:00+00:00\",\"2021-05-02T00:00:00+00:00\",\"2021-04-25T00:00:00+00:00\",\"2021-04-18T00:00:00+00:00\",\"2021-04-11T00:00:00+00:00\",\"2021-04-04T00:00:00+00:00\",\"2021-03-28T00:00:00+00:00\",\"2021-03-21T00:00:00+00:00\",\"2021-03-14T00:00:00+00:00\",\"2021-03-07T00:00:00+00:00\"],\"xaxis\":\"x\",\"y\":[0.00934131736526946,0.00438922600916221,0.00519706160270674,0.007823356837716814,0.00535690250796357,0.006535386494170626,0.007769782183419395,0.012987907809970028,0.010266672467046592,0.01879411662436107,0.07755655509988094,0.00826219512195122,0.00907553035844916,0.007330006238303182,0.012540694970433858,0.02874481569922976,0.019093506639027397,0.02458535153383238,0.01681089363171411],\"yaxis\":\"y\"},{\"hovertemplate\":\"symbol=TSLA<br>week=%{x}<br>mention_perc=%{y}<extra></extra>\",\"legendgroup\":\"TSLA\",\"line\":{\"color\":\"#FF97FF\",\"dash\":\"solid\"},\"mode\":\"lines\",\"name\":\"TSLA\",\"orientation\":\"v\",\"showlegend\":true,\"type\":\"scatter\",\"x\":[\"2021-07-11T00:00:00+00:00\",\"2021-07-04T00:00:00+00:00\",\"2021-06-27T00:00:00+00:00\",\"2021-06-20T00:00:00+00:00\",\"2021-06-13T00:00:00+00:00\",\"2021-06-06T00:00:00+00:00\",\"2021-05-30T00:00:00+00:00\",\"2021-05-23T00:00:00+00:00\",\"2021-05-16T00:00:00+00:00\",\"2021-05-09T00:00:00+00:00\",\"2021-05-02T00:00:00+00:00\",\"2021-04-25T00:00:00+00:00\",\"2021-04-18T00:00:00+00:00\",\"2021-04-11T00:00:00+00:00\",\"2021-04-04T00:00:00+00:00\",\"2021-03-28T00:00:00+00:00\",\"2021-03-21T00:00:00+00:00\",\"2021-03-14T00:00:00+00:00\",\"2021-03-07T00:00:00+00:00\"],\"xaxis\":\"x\",\"y\":[0.023808383233532935,0.018588252224594058,0.019736641570396563,0.03315919501775696,0.011736731122975458,0.006158528440857137,0.008889626234766319,0.019889528140466923,0.07282376995693218,0.04876734239716263,0.02305199100410107,0.03518292682926829,0.03717081199707389,0.045029206601259,0.04057869908976148,0.04407777797726987,0.027273236595887724,0.019549023924849553,0.026360085457174304],\"yaxis\":\"y\"},{\"hovertemplate\":\"symbol=WISH<br>week=%{x}<br>mention_perc=%{y}<extra></extra>\",\"legendgroup\":\"WISH\",\"line\":{\"color\":\"#FECB52\",\"dash\":\"solid\"},\"mode\":\"lines\",\"name\":\"WISH\",\"orientation\":\"v\",\"showlegend\":true,\"type\":\"scatter\",\"x\":[\"2021-07-11T00:00:00+00:00\",\"2021-07-04T00:00:00+00:00\",\"2021-06-27T00:00:00+00:00\",\"2021-06-20T00:00:00+00:00\",\"2021-06-13T00:00:00+00:00\",\"2021-06-06T00:00:00+00:00\",\"2021-05-30T00:00:00+00:00\",\"2021-05-23T00:00:00+00:00\",\"2021-05-16T00:00:00+00:00\",\"2021-05-09T00:00:00+00:00\",\"2021-05-02T00:00:00+00:00\",\"2021-04-25T00:00:00+00:00\",\"2021-04-18T00:00:00+00:00\",\"2021-04-11T00:00:00+00:00\",\"2021-04-04T00:00:00+00:00\",\"2021-03-28T00:00:00+00:00\",\"2021-03-21T00:00:00+00:00\",\"2021-03-14T00:00:00+00:00\",\"2021-03-07T00:00:00+00:00\"],\"xaxis\":\"x\",\"y\":[0.025820359281437125,0.034250353776413306,0.05657329228518304,0.11660404549899635,0.06666068464264883,0.07761367756215773,0.001078368345741482,0.0019177547340981384,0.0005872884673946144,0.0022601620362321362,0.0003803413149887551,0.0012347560975609756,0.00029718361375274325,0.0003828049679578064,0.0005315261444422297,0.00035908576763559976,0.0003473583954283153,0.00027520915896081023,0.000679772977405641],\"yaxis\":\"y\"}],                        {\"legend\":{\"title\":{\"text\":\"symbol\"},\"tracegroupgap\":0},\"template\":{\"data\":{\"bar\":[{\"error_x\":{\"color\":\"#2a3f5f\"},\"error_y\":{\"color\":\"#2a3f5f\"},\"marker\":{\"line\":{\"color\":\"#E5ECF6\",\"width\":0.5},\"pattern\":{\"fillmode\":\"overlay\",\"size\":10,\"solidity\":0.2}},\"type\":\"bar\"}],\"barpolar\":[{\"marker\":{\"line\":{\"color\":\"#E5ECF6\",\"width\":0.5},\"pattern\":{\"fillmode\":\"overlay\",\"size\":10,\"solidity\":0.2}},\"type\":\"barpolar\"}],\"carpet\":[{\"aaxis\":{\"endlinecolor\":\"#2a3f5f\",\"gridcolor\":\"white\",\"linecolor\":\"white\",\"minorgridcolor\":\"white\",\"startlinecolor\":\"#2a3f5f\"},\"baxis\":{\"endlinecolor\":\"#2a3f5f\",\"gridcolor\":\"white\",\"linecolor\":\"white\",\"minorgridcolor\":\"white\",\"startlinecolor\":\"#2a3f5f\"},\"type\":\"carpet\"}],\"choropleth\":[{\"colorbar\":{\"outlinewidth\":0,\"ticks\":\"\"},\"type\":\"choropleth\"}],\"contour\":[{\"colorbar\":{\"outlinewidth\":0,\"ticks\":\"\"},\"colorscale\":[[0.0,\"#0d0887\"],[0.1111111111111111,\"#46039f\"],[0.2222222222222222,\"#7201a8\"],[0.3333333333333333,\"#9c179e\"],[0.4444444444444444,\"#bd3786\"],[0.5555555555555556,\"#d8576b\"],[0.6666666666666666,\"#ed7953\"],[0.7777777777777778,\"#fb9f3a\"],[0.8888888888888888,\"#fdca26\"],[1.0,\"#f0f921\"]],\"type\":\"contour\"}],\"contourcarpet\":[{\"colorbar\":{\"outlinewidth\":0,\"ticks\":\"\"},\"type\":\"contourcarpet\"}],\"heatmap\":[{\"colorbar\":{\"outlinewidth\":0,\"ticks\":\"\"},\"colorscale\":[[0.0,\"#0d0887\"],[0.1111111111111111,\"#46039f\"],[0.2222222222222222,\"#7201a8\"],[0.3333333333333333,\"#9c179e\"],[0.4444444444444444,\"#bd3786\"],[0.5555555555555556,\"#d8576b\"],[0.6666666666666666,\"#ed7953\"],[0.7777777777777778,\"#fb9f3a\"],[0.8888888888888888,\"#fdca26\"],[1.0,\"#f0f921\"]],\"type\":\"heatmap\"}],\"heatmapgl\":[{\"colorbar\":{\"outlinewidth\":0,\"ticks\":\"\"},\"colorscale\":[[0.0,\"#0d0887\"],[0.1111111111111111,\"#46039f\"],[0.2222222222222222,\"#7201a8\"],[0.3333333333333333,\"#9c179e\"],[0.4444444444444444,\"#bd3786\"],[0.5555555555555556,\"#d8576b\"],[0.6666666666666666,\"#ed7953\"],[0.7777777777777778,\"#fb9f3a\"],[0.8888888888888888,\"#fdca26\"],[1.0,\"#f0f921\"]],\"type\":\"heatmapgl\"}],\"histogram\":[{\"marker\":{\"pattern\":{\"fillmode\":\"overlay\",\"size\":10,\"solidity\":0.2}},\"type\":\"histogram\"}],\"histogram2d\":[{\"colorbar\":{\"outlinewidth\":0,\"ticks\":\"\"},\"colorscale\":[[0.0,\"#0d0887\"],[0.1111111111111111,\"#46039f\"],[0.2222222222222222,\"#7201a8\"],[0.3333333333333333,\"#9c179e\"],[0.4444444444444444,\"#bd3786\"],[0.5555555555555556,\"#d8576b\"],[0.6666666666666666,\"#ed7953\"],[0.7777777777777778,\"#fb9f3a\"],[0.8888888888888888,\"#fdca26\"],[1.0,\"#f0f921\"]],\"type\":\"histogram2d\"}],\"histogram2dcontour\":[{\"colorbar\":{\"outlinewidth\":0,\"ticks\":\"\"},\"colorscale\":[[0.0,\"#0d0887\"],[0.1111111111111111,\"#46039f\"],[0.2222222222222222,\"#7201a8\"],[0.3333333333333333,\"#9c179e\"],[0.4444444444444444,\"#bd3786\"],[0.5555555555555556,\"#d8576b\"],[0.6666666666666666,\"#ed7953\"],[0.7777777777777778,\"#fb9f3a\"],[0.8888888888888888,\"#fdca26\"],[1.0,\"#f0f921\"]],\"type\":\"histogram2dcontour\"}],\"mesh3d\":[{\"colorbar\":{\"outlinewidth\":0,\"ticks\":\"\"},\"type\":\"mesh3d\"}],\"parcoords\":[{\"line\":{\"colorbar\":{\"outlinewidth\":0,\"ticks\":\"\"}},\"type\":\"parcoords\"}],\"pie\":[{\"automargin\":true,\"type\":\"pie\"}],\"scatter\":[{\"marker\":{\"colorbar\":{\"outlinewidth\":0,\"ticks\":\"\"}},\"type\":\"scatter\"}],\"scatter3d\":[{\"line\":{\"colorbar\":{\"outlinewidth\":0,\"ticks\":\"\"}},\"marker\":{\"colorbar\":{\"outlinewidth\":0,\"ticks\":\"\"}},\"type\":\"scatter3d\"}],\"scattercarpet\":[{\"marker\":{\"colorbar\":{\"outlinewidth\":0,\"ticks\":\"\"}},\"type\":\"scattercarpet\"}],\"scattergeo\":[{\"marker\":{\"colorbar\":{\"outlinewidth\":0,\"ticks\":\"\"}},\"type\":\"scattergeo\"}],\"scattergl\":[{\"marker\":{\"colorbar\":{\"outlinewidth\":0,\"ticks\":\"\"}},\"type\":\"scattergl\"}],\"scattermapbox\":[{\"marker\":{\"colorbar\":{\"outlinewidth\":0,\"ticks\":\"\"}},\"type\":\"scattermapbox\"}],\"scatterpolar\":[{\"marker\":{\"colorbar\":{\"outlinewidth\":0,\"ticks\":\"\"}},\"type\":\"scatterpolar\"}],\"scatterpolargl\":[{\"marker\":{\"colorbar\":{\"outlinewidth\":0,\"ticks\":\"\"}},\"type\":\"scatterpolargl\"}],\"scatterternary\":[{\"marker\":{\"colorbar\":{\"outlinewidth\":0,\"ticks\":\"\"}},\"type\":\"scatterternary\"}],\"surface\":[{\"colorbar\":{\"outlinewidth\":0,\"ticks\":\"\"},\"colorscale\":[[0.0,\"#0d0887\"],[0.1111111111111111,\"#46039f\"],[0.2222222222222222,\"#7201a8\"],[0.3333333333333333,\"#9c179e\"],[0.4444444444444444,\"#bd3786\"],[0.5555555555555556,\"#d8576b\"],[0.6666666666666666,\"#ed7953\"],[0.7777777777777778,\"#fb9f3a\"],[0.8888888888888888,\"#fdca26\"],[1.0,\"#f0f921\"]],\"type\":\"surface\"}],\"table\":[{\"cells\":{\"fill\":{\"color\":\"#EBF0F8\"},\"line\":{\"color\":\"white\"}},\"header\":{\"fill\":{\"color\":\"#C8D4E3\"},\"line\":{\"color\":\"white\"}},\"type\":\"table\"}]},\"layout\":{\"annotationdefaults\":{\"arrowcolor\":\"#2a3f5f\",\"arrowhead\":0,\"arrowwidth\":1},\"autotypenumbers\":\"strict\",\"coloraxis\":{\"colorbar\":{\"outlinewidth\":0,\"ticks\":\"\"}},\"colorscale\":{\"diverging\":[[0,\"#8e0152\"],[0.1,\"#c51b7d\"],[0.2,\"#de77ae\"],[0.3,\"#f1b6da\"],[0.4,\"#fde0ef\"],[0.5,\"#f7f7f7\"],[0.6,\"#e6f5d0\"],[0.7,\"#b8e186\"],[0.8,\"#7fbc41\"],[0.9,\"#4d9221\"],[1,\"#276419\"]],\"sequential\":[[0.0,\"#0d0887\"],[0.1111111111111111,\"#46039f\"],[0.2222222222222222,\"#7201a8\"],[0.3333333333333333,\"#9c179e\"],[0.4444444444444444,\"#bd3786\"],[0.5555555555555556,\"#d8576b\"],[0.6666666666666666,\"#ed7953\"],[0.7777777777777778,\"#fb9f3a\"],[0.8888888888888888,\"#fdca26\"],[1.0,\"#f0f921\"]],\"sequentialminus\":[[0.0,\"#0d0887\"],[0.1111111111111111,\"#46039f\"],[0.2222222222222222,\"#7201a8\"],[0.3333333333333333,\"#9c179e\"],[0.4444444444444444,\"#bd3786\"],[0.5555555555555556,\"#d8576b\"],[0.6666666666666666,\"#ed7953\"],[0.7777777777777778,\"#fb9f3a\"],[0.8888888888888888,\"#fdca26\"],[1.0,\"#f0f921\"]]},\"colorway\":[\"#636efa\",\"#EF553B\",\"#00cc96\",\"#ab63fa\",\"#FFA15A\",\"#19d3f3\",\"#FF6692\",\"#B6E880\",\"#FF97FF\",\"#FECB52\"],\"font\":{\"color\":\"#2a3f5f\"},\"geo\":{\"bgcolor\":\"white\",\"lakecolor\":\"white\",\"landcolor\":\"#E5ECF6\",\"showlakes\":true,\"showland\":true,\"subunitcolor\":\"white\"},\"hoverlabel\":{\"align\":\"left\"},\"hovermode\":\"closest\",\"mapbox\":{\"style\":\"light\"},\"paper_bgcolor\":\"white\",\"plot_bgcolor\":\"#E5ECF6\",\"polar\":{\"angularaxis\":{\"gridcolor\":\"white\",\"linecolor\":\"white\",\"ticks\":\"\"},\"bgcolor\":\"#E5ECF6\",\"radialaxis\":{\"gridcolor\":\"white\",\"linecolor\":\"white\",\"ticks\":\"\"}},\"scene\":{\"xaxis\":{\"backgroundcolor\":\"#E5ECF6\",\"gridcolor\":\"white\",\"gridwidth\":2,\"linecolor\":\"white\",\"showbackground\":true,\"ticks\":\"\",\"zerolinecolor\":\"white\"},\"yaxis\":{\"backgroundcolor\":\"#E5ECF6\",\"gridcolor\":\"white\",\"gridwidth\":2,\"linecolor\":\"white\",\"showbackground\":true,\"ticks\":\"\",\"zerolinecolor\":\"white\"},\"zaxis\":{\"backgroundcolor\":\"#E5ECF6\",\"gridcolor\":\"white\",\"gridwidth\":2,\"linecolor\":\"white\",\"showbackground\":true,\"ticks\":\"\",\"zerolinecolor\":\"white\"}},\"shapedefaults\":{\"line\":{\"color\":\"#2a3f5f\"}},\"ternary\":{\"aaxis\":{\"gridcolor\":\"white\",\"linecolor\":\"white\",\"ticks\":\"\"},\"baxis\":{\"gridcolor\":\"white\",\"linecolor\":\"white\",\"ticks\":\"\"},\"bgcolor\":\"#E5ECF6\",\"caxis\":{\"gridcolor\":\"white\",\"linecolor\":\"white\",\"ticks\":\"\"}},\"title\":{\"x\":0.05},\"xaxis\":{\"automargin\":true,\"gridcolor\":\"white\",\"linecolor\":\"white\",\"ticks\":\"\",\"title\":{\"standoff\":15},\"zerolinecolor\":\"white\",\"zerolinewidth\":2},\"yaxis\":{\"automargin\":true,\"gridcolor\":\"white\",\"linecolor\":\"white\",\"ticks\":\"\",\"title\":{\"standoff\":15},\"zerolinecolor\":\"white\",\"zerolinewidth\":2}}},\"title\":{\"text\":\"Fraction of mentions (weekly)\"},\"xaxis\":{\"anchor\":\"y\",\"domain\":[0.0,1.0],\"title\":{\"text\":\"week\"}},\"yaxis\":{\"anchor\":\"x\",\"domain\":[0.0,1.0],\"title\":{\"text\":\"mention_perc\"}}},                        {\"responsive\": true}                    ).then(function(){\n",
       "                            \n",
       "var gd = document.getElementById('abd78b54-92b9-4798-9ed4-401d0c7d4d45');\n",
       "var x = new MutationObserver(function (mutations, observer) {{\n",
       "        var display = window.getComputedStyle(gd).display;\n",
       "        if (!display || display === 'none') {{\n",
       "            console.log([gd, 'removed!']);\n",
       "            Plotly.purge(gd);\n",
       "            observer.disconnect();\n",
       "        }}\n",
       "}});\n",
       "\n",
       "// Listen for the removal of the full notebook cells\n",
       "var notebookContainer = gd.closest('#notebook-container');\n",
       "if (notebookContainer) {{\n",
       "    x.observe(notebookContainer, {childList: true});\n",
       "}}\n",
       "\n",
       "// Listen for the clearing of the current output cell\n",
       "var outputEl = gd.closest('.output');\n",
       "if (outputEl) {{\n",
       "    x.observe(outputEl, {childList: true});\n",
       "}}\n",
       "\n",
       "                        })                };                });            </script>        </div>"
      ]
     },
     "metadata": {},
     "output_type": "display_data"
    }
   ],
   "source": [
    "fig = px.line(tmp_wk[tmp_wk['symbol'].isin(top_symbols[0:10])].sort_values('week', ascending=False), \n",
    "              x=\"week\", y=\"mention_perc\", line_group=\"symbol\", color=\"symbol\",\n",
    "              title=\"Fraction of mentions (weekly)\")\n",
    "fig.show()"
   ]
  },
  {
   "cell_type": "code",
   "execution_count": 230,
   "id": "ab8b1a54",
   "metadata": {},
   "outputs": [
    {
     "data": {
      "text/html": [
       "<div>\n",
       "<style scoped>\n",
       "    .dataframe tbody tr th:only-of-type {\n",
       "        vertical-align: middle;\n",
       "    }\n",
       "\n",
       "    .dataframe tbody tr th {\n",
       "        vertical-align: top;\n",
       "    }\n",
       "\n",
       "    .dataframe thead th {\n",
       "        text-align: right;\n",
       "    }\n",
       "</style>\n",
       "<table border=\"1\" class=\"dataframe\">\n",
       "  <thead>\n",
       "    <tr style=\"text-align: right;\">\n",
       "      <th></th>\n",
       "      <th>symbol</th>\n",
       "      <th>day</th>\n",
       "      <th>num_mentions_stock</th>\n",
       "      <th>@meta.timestamp</th>\n",
       "      <th>num_mentions_total</th>\n",
       "      <th>fraction_of_mentions</th>\n",
       "      <th>fraction_of_mentions_MA</th>\n",
       "      <th>date_of_peak_popularity</th>\n",
       "      <th>days_from_peak</th>\n",
       "    </tr>\n",
       "  </thead>\n",
       "  <tbody>\n",
       "    <tr>\n",
       "      <th>0</th>\n",
       "      <td>A</td>\n",
       "      <td>2021-03-10 00:00:00+00:00</td>\n",
       "      <td>1</td>\n",
       "      <td>2021-07-14 14:10:31.929000+00:00</td>\n",
       "      <td>36129</td>\n",
       "      <td>0.000028</td>\n",
       "      <td>0.000028</td>\n",
       "      <td>2021-05-11 00:00:00+00:00</td>\n",
       "      <td>-62</td>\n",
       "    </tr>\n",
       "    <tr>\n",
       "      <th>1</th>\n",
       "      <td>A</td>\n",
       "      <td>2021-03-16 00:00:00+00:00</td>\n",
       "      <td>1</td>\n",
       "      <td>2021-07-14 14:10:31.929000+00:00</td>\n",
       "      <td>19681</td>\n",
       "      <td>0.000051</td>\n",
       "      <td>0.000039</td>\n",
       "      <td>2021-05-11 00:00:00+00:00</td>\n",
       "      <td>-56</td>\n",
       "    </tr>\n",
       "    <tr>\n",
       "      <th>2</th>\n",
       "      <td>A</td>\n",
       "      <td>2021-03-19 00:00:00+00:00</td>\n",
       "      <td>1</td>\n",
       "      <td>2021-07-14 14:10:31.929000+00:00</td>\n",
       "      <td>16490</td>\n",
       "      <td>0.000061</td>\n",
       "      <td>0.000046</td>\n",
       "      <td>2021-05-11 00:00:00+00:00</td>\n",
       "      <td>-53</td>\n",
       "    </tr>\n",
       "    <tr>\n",
       "      <th>3</th>\n",
       "      <td>A</td>\n",
       "      <td>2021-03-22 00:00:00+00:00</td>\n",
       "      <td>2</td>\n",
       "      <td>2021-07-14 14:10:31.929000+00:00</td>\n",
       "      <td>14202</td>\n",
       "      <td>0.000141</td>\n",
       "      <td>0.000070</td>\n",
       "      <td>2021-05-11 00:00:00+00:00</td>\n",
       "      <td>-50</td>\n",
       "    </tr>\n",
       "    <tr>\n",
       "      <th>4</th>\n",
       "      <td>A</td>\n",
       "      <td>2021-03-23 00:00:00+00:00</td>\n",
       "      <td>1</td>\n",
       "      <td>2021-07-14 14:10:31.929000+00:00</td>\n",
       "      <td>18362</td>\n",
       "      <td>0.000054</td>\n",
       "      <td>0.000067</td>\n",
       "      <td>2021-05-11 00:00:00+00:00</td>\n",
       "      <td>-49</td>\n",
       "    </tr>\n",
       "  </tbody>\n",
       "</table>\n",
       "</div>"
      ],
      "text/plain": [
       "  symbol                       day  num_mentions_stock  \\\n",
       "0      A 2021-03-10 00:00:00+00:00                   1   \n",
       "1      A 2021-03-16 00:00:00+00:00                   1   \n",
       "2      A 2021-03-19 00:00:00+00:00                   1   \n",
       "3      A 2021-03-22 00:00:00+00:00                   2   \n",
       "4      A 2021-03-23 00:00:00+00:00                   1   \n",
       "\n",
       "                   @meta.timestamp  num_mentions_total  fraction_of_mentions  \\\n",
       "0 2021-07-14 14:10:31.929000+00:00               36129              0.000028   \n",
       "1 2021-07-14 14:10:31.929000+00:00               19681              0.000051   \n",
       "2 2021-07-14 14:10:31.929000+00:00               16490              0.000061   \n",
       "3 2021-07-14 14:10:31.929000+00:00               14202              0.000141   \n",
       "4 2021-07-14 14:10:31.929000+00:00               18362              0.000054   \n",
       "\n",
       "   fraction_of_mentions_MA   date_of_peak_popularity  days_from_peak  \n",
       "0                 0.000028 2021-05-11 00:00:00+00:00             -62  \n",
       "1                 0.000039 2021-05-11 00:00:00+00:00             -56  \n",
       "2                 0.000046 2021-05-11 00:00:00+00:00             -53  \n",
       "3                 0.000070 2021-05-11 00:00:00+00:00             -50  \n",
       "4                 0.000067 2021-05-11 00:00:00+00:00             -49  "
      ]
     },
     "execution_count": 230,
     "metadata": {},
     "output_type": "execute_result"
    }
   ],
   "source": [
    "symbol_peaks = tmp.loc[tmp.groupby(['symbol'])[\"fraction_of_mentions_MA\"].idxmax()][['symbol', 'day']] \\\n",
    "    .rename(columns={'day': 'date_of_peak_popularity'})\n",
    "tmp2 = tmp.merge(symbol_peaks, on='symbol')\n",
    "tmp2['days_from_peak'] = (tmp2['day'] - tmp2['date_of_peak_popularity']).dt.days\n",
    "tmp2.head()"
   ]
  },
  {
   "cell_type": "code",
   "execution_count": 234,
   "id": "d424b48e",
   "metadata": {},
   "outputs": [
    {
     "data": {
      "application/vnd.plotly.v1+json": {
       "config": {
        "plotlyServerURL": "https://plot.ly"
       },
       "data": [
        {
         "hovertemplate": "symbol=WISH<br>days_from_peak=%{x}<br>num_mentions_stock=%{y}<extra></extra>",
         "legendgroup": "WISH",
         "line": {
          "color": "#636efa",
          "dash": "solid"
         },
         "mode": "lines",
         "name": "WISH",
         "showlegend": true,
         "type": "scattergl",
         "x": [
          18,
          17,
          16,
          15,
          14,
          13,
          12,
          11,
          10,
          9,
          8,
          7,
          6,
          5,
          4,
          3,
          2,
          1,
          0,
          -1,
          -2,
          -3,
          -4,
          -5,
          -6,
          -7,
          -8,
          -9,
          -10,
          -11,
          -12,
          -13,
          -14,
          -15,
          -16,
          -17,
          -18,
          -19,
          -20,
          -21,
          -22,
          -23,
          -24,
          -25,
          -26,
          -27,
          -28,
          -29,
          -30,
          -31,
          -32,
          -33,
          -34,
          -36,
          -37,
          -38,
          -39,
          -40,
          -41,
          -43,
          -44,
          -45,
          -46,
          -47,
          -48,
          -49,
          -50,
          -51,
          -52,
          -53,
          -54,
          -55,
          -56,
          -57,
          -58,
          -59,
          -60,
          -61,
          -62,
          -64,
          -65,
          -66,
          -67,
          -68,
          -69,
          -70,
          -71,
          -72,
          -73,
          -74,
          -75,
          -76,
          -77,
          -78,
          -79,
          -80,
          -81,
          -82,
          -83,
          -85,
          -86,
          -87,
          -88,
          -89,
          -92,
          -93,
          -94,
          -95,
          -96,
          -97,
          -98,
          -99,
          -100,
          -101,
          -102,
          -103,
          -104,
          -105,
          -106,
          -107,
          -108,
          -109
         ],
         "xaxis": "x",
         "y": [
          67,
          200,
          208,
          66,
          38,
          203,
          365,
          307,
          342,
          118,
          55,
          73,
          462,
          657,
          596,
          722,
          929,
          273,
          198,
          833,
          1307,
          1375,
          2129,
          3000,
          220,
          242,
          895,
          953,
          1013,
          1689,
          2163,
          474,
          440,
          1564,
          2800,
          6765,
          4653,
          45,
          3,
          6,
          11,
          27,
          52,
          22,
          23,
          15,
          12,
          54,
          27,
          35,
          33,
          5,
          1,
          2,
          3,
          5,
          8,
          7,
          2,
          46,
          51,
          10,
          7,
          9,
          7,
          3,
          4,
          4,
          5,
          2,
          3,
          2,
          4,
          2,
          8,
          22,
          40,
          3,
          2,
          1,
          2,
          2,
          6,
          1,
          1,
          1,
          12,
          6,
          2,
          1,
          4,
          1,
          1,
          7,
          11,
          6,
          4,
          2,
          1,
          6,
          4,
          1,
          5,
          4,
          3,
          9,
          9,
          3,
          5,
          2,
          3,
          2,
          9,
          3,
          5,
          5,
          3,
          2,
          8,
          21,
          29,
          3
         ],
         "yaxis": "y"
        },
        {
         "hovertemplate": "symbol=BB<br>days_from_peak=%{x}<br>num_mentions_stock=%{y}<extra></extra>",
         "legendgroup": "BB",
         "line": {
          "color": "#EF553B",
          "dash": "solid"
         },
         "mode": "lines",
         "name": "BB",
         "showlegend": true,
         "type": "scattergl",
         "x": [
          37,
          36,
          35,
          34,
          33,
          32,
          31,
          30,
          29,
          28,
          27,
          26,
          25,
          24,
          23,
          22,
          21,
          20,
          19,
          18,
          17,
          16,
          15,
          14,
          13,
          12,
          11,
          10,
          9,
          8,
          7,
          6,
          5,
          4,
          3,
          2,
          1,
          0,
          -1,
          -2,
          -3,
          -4,
          -5,
          -6,
          -7,
          -8,
          -9,
          -10,
          -11,
          -12,
          -13,
          -14,
          -15,
          -16,
          -17,
          -18,
          -19,
          -20,
          -21,
          -22,
          -23,
          -24,
          -25,
          -26,
          -27,
          -28,
          -29,
          -30,
          -31,
          -32,
          -33,
          -34,
          -35,
          -36,
          -37,
          -38,
          -39,
          -40,
          -41,
          -42,
          -43,
          -44,
          -45,
          -46,
          -47,
          -48,
          -49,
          -50,
          -51,
          -52,
          -53,
          -54,
          -55,
          -56,
          -57,
          -58,
          -59,
          -60,
          -61,
          -62,
          -63,
          -64,
          -65,
          -66,
          -67,
          -68,
          -69,
          -70,
          -73,
          -74,
          -75,
          -76,
          -77,
          -78,
          -79,
          -80,
          -81,
          -82,
          -83,
          -84,
          -85,
          -86,
          -87,
          -88,
          -89,
          -90
         ],
         "xaxis": "x",
         "y": [
          64,
          227,
          177,
          32,
          22,
          121,
          179,
          229,
          227,
          106,
          65,
          79,
          188,
          293,
          270,
          527,
          746,
          159,
          159,
          793,
          665,
          611,
          1078,
          1068,
          196,
          282,
          1151,
          1577,
          991,
          1026,
          1465,
          429,
          508,
          2336,
          3246,
          4696,
          5022,
          5747,
          1714,
          1786,
          9109,
          16809,
          9788,
          3421,
          793,
          473,
          497,
          2895,
          1767,
          789,
          128,
          36,
          12,
          22,
          44,
          50,
          71,
          141,
          64,
          25,
          30,
          158,
          143,
          97,
          76,
          56,
          31,
          39,
          129,
          111,
          83,
          59,
          53,
          24,
          32,
          72,
          109,
          105,
          182,
          143,
          48,
          29,
          87,
          97,
          164,
          159,
          137,
          80,
          72,
          128,
          160,
          133,
          143,
          155,
          41,
          22,
          174,
          268,
          324,
          178,
          215,
          69,
          46,
          83,
          260,
          640,
          606,
          188,
          119,
          169,
          164,
          160,
          142,
          41,
          51,
          116,
          141,
          162,
          304,
          452,
          103,
          175,
          693,
          201,
          565,
          99
         ],
         "yaxis": "y"
        },
        {
         "hovertemplate": "symbol=MVIS<br>days_from_peak=%{x}<br>num_mentions_stock=%{y}<extra></extra>",
         "legendgroup": "MVIS",
         "line": {
          "color": "#00cc96",
          "dash": "solid"
         },
         "mode": "lines",
         "name": "MVIS",
         "showlegend": true,
         "type": "scattergl",
         "x": [
          75,
          74,
          73,
          72,
          71,
          70,
          69,
          68,
          67,
          66,
          65,
          64,
          63,
          62,
          61,
          60,
          59,
          58,
          57,
          56,
          55,
          54,
          53,
          52,
          51,
          50,
          49,
          48,
          47,
          46,
          45,
          44,
          43,
          42,
          41,
          40,
          39,
          38,
          37,
          36,
          35,
          34,
          33,
          32,
          31,
          30,
          29,
          28,
          27,
          26,
          25,
          24,
          23,
          22,
          21,
          20,
          19,
          18,
          17,
          16,
          15,
          14,
          13,
          12,
          11,
          10,
          9,
          8,
          7,
          6,
          5,
          4,
          3,
          2,
          1,
          0,
          -1,
          -2,
          -3,
          -4,
          -5,
          -6,
          -7,
          -8,
          -9,
          -10,
          -11,
          -12,
          -13,
          -14,
          -15,
          -16,
          -17,
          -18,
          -19,
          -20,
          -21,
          -22,
          -23,
          -24,
          -25,
          -26,
          -27,
          -28,
          -29,
          -30,
          -31,
          -32,
          -35,
          -36,
          -37,
          -38,
          -39,
          -40,
          -41,
          -42,
          -43,
          -44,
          -45,
          -46,
          -47,
          -48,
          -49,
          -50,
          -51,
          -52
         ],
         "xaxis": "x",
         "y": [
          6,
          56,
          18,
          4,
          5,
          23,
          34,
          28,
          15,
          4,
          2,
          4,
          14,
          18,
          15,
          23,
          22,
          7,
          12,
          16,
          39,
          24,
          58,
          95,
          6,
          9,
          20,
          28,
          20,
          27,
          30,
          15,
          16,
          80,
          358,
          105,
          126,
          296,
          62,
          98,
          792,
          100,
          164,
          179,
          14,
          25,
          16,
          196,
          106,
          119,
          159,
          56,
          15,
          24,
          58,
          71,
          53,
          209,
          213,
          39,
          34,
          236,
          98,
          94,
          118,
          116,
          50,
          53,
          200,
          305,
          328,
          598,
          582,
          172,
          219,
          1532,
          2014,
          1911,
          3194,
          3491,
          363,
          447,
          1137,
          947,
          741,
          472,
          45,
          13,
          16,
          98,
          242,
          85,
          45,
          65,
          12,
          19,
          41,
          56,
          71,
          90,
          116,
          53,
          102,
          40,
          221,
          404,
          29,
          15,
          42,
          25,
          43,
          26,
          41,
          8,
          9,
          19,
          25,
          34,
          27,
          78,
          56,
          28,
          163,
          70,
          32,
          6
         ],
         "yaxis": "y"
        },
        {
         "hovertemplate": "symbol=TSLA<br>days_from_peak=%{x}<br>num_mentions_stock=%{y}<extra></extra>",
         "legendgroup": "TSLA",
         "line": {
          "color": "#ab63fa",
          "dash": "solid"
         },
         "mode": "lines",
         "name": "TSLA",
         "showlegend": true,
         "type": "scattergl",
         "x": [
          54,
          53,
          52,
          51,
          50,
          49,
          48,
          47,
          46,
          45,
          44,
          43,
          42,
          41,
          40,
          39,
          38,
          37,
          36,
          35,
          34,
          33,
          32,
          31,
          30,
          29,
          28,
          27,
          26,
          25,
          24,
          23,
          22,
          21,
          20,
          19,
          18,
          17,
          16,
          15,
          14,
          13,
          12,
          11,
          10,
          9,
          8,
          7,
          6,
          5,
          4,
          3,
          2,
          1,
          0,
          -1,
          -2,
          -3,
          -4,
          -5,
          -6,
          -7,
          -8,
          -9,
          -10,
          -11,
          -12,
          -13,
          -14,
          -15,
          -16,
          -17,
          -18,
          -19,
          -20,
          -21,
          -22,
          -23,
          -24,
          -25,
          -26,
          -27,
          -28,
          -29,
          -30,
          -31,
          -32,
          -33,
          -34,
          -35,
          -36,
          -37,
          -38,
          -39,
          -40,
          -41,
          -42,
          -43,
          -44,
          -45,
          -46,
          -47,
          -48,
          -49,
          -50,
          -51,
          -52,
          -53,
          -56,
          -57,
          -58,
          -59,
          -60,
          -61,
          -62,
          -63,
          -64,
          -65,
          -66,
          -67,
          -68,
          -69,
          -70,
          -71,
          -72,
          -73
         ],
         "xaxis": "x",
         "y": [
          55,
          186,
          230,
          27,
          50,
          128,
          197,
          119,
          180,
          43,
          58,
          32,
          279,
          196,
          190,
          178,
          320,
          100,
          72,
          448,
          1124,
          491,
          115,
          225,
          102,
          100,
          231,
          247,
          235,
          170,
          201,
          124,
          66,
          263,
          224,
          224,
          233,
          218,
          63,
          59,
          294,
          455,
          203,
          136,
          102,
          37,
          35,
          197,
          297,
          253,
          310,
          482,
          158,
          70,
          534,
          455,
          496,
          715,
          875,
          203,
          88,
          492,
          744,
          476,
          478,
          380,
          147,
          58,
          258,
          299,
          206,
          218,
          290,
          65,
          81,
          450,
          374,
          273,
          370,
          627,
          133,
          106,
          191,
          233,
          279,
          296,
          383,
          138,
          77,
          293,
          604,
          864,
          845,
          400,
          93,
          83,
          244,
          327,
          341,
          349,
          960,
          139,
          129,
          269,
          789,
          481,
          529,
          258,
          466,
          385,
          406,
          357,
          613,
          207,
          177,
          326,
          395,
          394,
          384,
          336,
          119,
          139,
          491,
          663,
          812,
          338
         ],
         "yaxis": "y"
        },
        {
         "hovertemplate": "symbol=PLTR<br>days_from_peak=%{x}<br>num_mentions_stock=%{y}<extra></extra>",
         "legendgroup": "PLTR",
         "line": {
          "color": "#FFA15A",
          "dash": "solid"
         },
         "mode": "lines",
         "name": "PLTR",
         "showlegend": true,
         "type": "scattergl",
         "x": [
          63,
          62,
          61,
          60,
          59,
          58,
          57,
          56,
          55,
          54,
          53,
          52,
          51,
          50,
          49,
          48,
          47,
          46,
          45,
          44,
          43,
          42,
          41,
          40,
          39,
          38,
          37,
          36,
          35,
          34,
          33,
          32,
          31,
          30,
          29,
          28,
          27,
          26,
          25,
          24,
          23,
          22,
          21,
          20,
          19,
          18,
          17,
          16,
          15,
          14,
          13,
          12,
          11,
          10,
          9,
          8,
          7,
          6,
          5,
          4,
          3,
          2,
          1,
          0,
          -1,
          -2,
          -3,
          -4,
          -5,
          -6,
          -7,
          -8,
          -9,
          -10,
          -11,
          -12,
          -13,
          -14,
          -15,
          -16,
          -17,
          -18,
          -19,
          -20,
          -21,
          -22,
          -23,
          -24,
          -25,
          -26,
          -27,
          -28,
          -29,
          -30,
          -31,
          -32,
          -33,
          -34,
          -35,
          -36,
          -37,
          -38,
          -39,
          -40,
          -41,
          -42,
          -43,
          -44,
          -47,
          -48,
          -49,
          -50,
          -51,
          -52,
          -53,
          -54,
          -55,
          -56,
          -57,
          -58,
          -59,
          -60,
          -61,
          -62,
          -63,
          -64
         ],
         "xaxis": "x",
         "y": [
          55,
          130,
          112,
          8,
          27,
          111,
          209,
          291,
          117,
          89,
          28,
          24,
          203,
          363,
          164,
          257,
          494,
          123,
          78,
          328,
          340,
          385,
          133,
          212,
          68,
          70,
          353,
          454,
          237,
          385,
          449,
          59,
          80,
          194,
          199,
          228,
          300,
          205,
          53,
          63,
          273,
          330,
          461,
          205,
          60,
          102,
          72,
          618,
          323,
          248,
          250,
          256,
          60,
          44,
          272,
          320,
          189,
          527,
          323,
          131,
          101,
          566,
          535,
          850,
          1907,
          1270,
          266,
          315,
          849,
          1070,
          509,
          432,
          324,
          97,
          104,
          182,
          303,
          189,
          251,
          257,
          103,
          76,
          273,
          334,
          334,
          403,
          419,
          105,
          135,
          569,
          835,
          1306,
          1139,
          869,
          221,
          158,
          540,
          507,
          415,
          439,
          661,
          158,
          141,
          177,
          592,
          711,
          954,
          741,
          437,
          561,
          815,
          679,
          557,
          178,
          134,
          325,
          551,
          574,
          568,
          531,
          163,
          206,
          639,
          894,
          660,
          148
         ],
         "yaxis": "y"
        },
        {
         "hovertemplate": "symbol=GME<br>days_from_peak=%{x}<br>num_mentions_stock=%{y}<extra></extra>",
         "legendgroup": "GME",
         "line": {
          "color": "#19d3f3",
          "dash": "solid"
         },
         "mode": "lines",
         "name": "GME",
         "showlegend": true,
         "type": "scattergl",
         "x": [
          126,
          125,
          124,
          123,
          122,
          121,
          120,
          119,
          118,
          117,
          116,
          115,
          114,
          113,
          112,
          111,
          110,
          109,
          108,
          107,
          106,
          105,
          104,
          103,
          102,
          101,
          100,
          99,
          98,
          97,
          96,
          95,
          94,
          93,
          92,
          91,
          90,
          89,
          88,
          87,
          86,
          85,
          84,
          83,
          82,
          81,
          80,
          79,
          78,
          77,
          76,
          75,
          74,
          73,
          72,
          71,
          70,
          69,
          68,
          67,
          66,
          65,
          64,
          63,
          62,
          61,
          60,
          59,
          58,
          57,
          56,
          55,
          54,
          53,
          52,
          51,
          50,
          49,
          48,
          47,
          46,
          45,
          44,
          43,
          42,
          41,
          40,
          39,
          38,
          37,
          36,
          35,
          34,
          33,
          32,
          31,
          30,
          29,
          28,
          27,
          26,
          25,
          24,
          23,
          22,
          21,
          20,
          19,
          16,
          15,
          14,
          13,
          12,
          11,
          10,
          9,
          8,
          7,
          6,
          5,
          4,
          3,
          2,
          1,
          0,
          -1
         ],
         "xaxis": "x",
         "y": [
          142,
          359,
          423,
          102,
          136,
          272,
          497,
          805,
          763,
          383,
          416,
          202,
          426,
          586,
          532,
          594,
          663,
          614,
          199,
          612,
          553,
          766,
          1128,
          822,
          362,
          433,
          737,
          702,
          955,
          978,
          892,
          438,
          568,
          1538,
          3221,
          5016,
          4289,
          2276,
          1020,
          1018,
          2208,
          3648,
          3418,
          1350,
          427,
          523,
          811,
          2735,
          3694,
          3865,
          2628,
          759,
          331,
          392,
          669,
          544,
          860,
          1640,
          1502,
          243,
          399,
          1112,
          1486,
          981,
          1051,
          997,
          415,
          501,
          925,
          2108,
          1211,
          661,
          646,
          450,
          378,
          844,
          945,
          1033,
          1798,
          2093,
          374,
          473,
          944,
          850,
          862,
          893,
          2766,
          850,
          1357,
          4059,
          2576,
          3615,
          2848,
          3394,
          858,
          982,
          3018,
          2814,
          2252,
          2228,
          3191,
          591,
          658,
          901,
          3004,
          3058,
          4123,
          2670,
          5278,
          7182,
          8352,
          6901,
          4498,
          1690,
          1946,
          6163,
          6002,
          6077,
          7898,
          8376,
          3131,
          2444,
          7813,
          9197,
          15628,
          2181
         ],
         "yaxis": "y"
        },
        {
         "hovertemplate": "symbol=AMC<br>days_from_peak=%{x}<br>num_mentions_stock=%{y}<extra></extra>",
         "legendgroup": "AMC",
         "line": {
          "color": "#FF6692",
          "dash": "solid"
         },
         "mode": "lines",
         "name": "AMC",
         "showlegend": true,
         "type": "scattergl",
         "x": [
          42,
          41,
          40,
          39,
          38,
          37,
          36,
          35,
          34,
          33,
          32,
          31,
          30,
          29,
          28,
          27,
          26,
          25,
          24,
          23,
          22,
          21,
          20,
          19,
          18,
          17,
          16,
          15,
          14,
          13,
          12,
          11,
          10,
          9,
          8,
          7,
          6,
          5,
          4,
          3,
          2,
          1,
          0,
          -1,
          -2,
          -3,
          -4,
          -5,
          -6,
          -7,
          -8,
          -9,
          -10,
          -11,
          -12,
          -13,
          -14,
          -15,
          -16,
          -17,
          -18,
          -19,
          -20,
          -21,
          -22,
          -23,
          -24,
          -25,
          -26,
          -27,
          -28,
          -29,
          -30,
          -31,
          -32,
          -33,
          -34,
          -35,
          -36,
          -37,
          -38,
          -39,
          -40,
          -41,
          -42,
          -43,
          -44,
          -45,
          -46,
          -47,
          -48,
          -49,
          -50,
          -51,
          -52,
          -53,
          -54,
          -55,
          -56,
          -57,
          -58,
          -59,
          -60,
          -61,
          -62,
          -63,
          -64,
          -65,
          -68,
          -69,
          -70,
          -71,
          -72,
          -73,
          -74,
          -75,
          -76,
          -77,
          -78,
          -79,
          -80,
          -81,
          -82,
          -83,
          -84,
          -85
         ],
         "xaxis": "x",
         "y": [
          200,
          567,
          397,
          142,
          124,
          287,
          729,
          729,
          567,
          281,
          289,
          170,
          613,
          587,
          504,
          681,
          759,
          368,
          200,
          657,
          684,
          832,
          1149,
          1127,
          460,
          611,
          1564,
          2168,
          1567,
          2149,
          2283,
          696,
          837,
          2518,
          3698,
          4677,
          3527,
          3443,
          1610,
          1918,
          6647,
          12482,
          10347,
          3986,
          1151,
          1111,
          1687,
          8617,
          8508,
          3428,
          1607,
          664,
          151,
          158,
          414,
          560,
          783,
          1750,
          1355,
          216,
          280,
          1991,
          2474,
          513,
          561,
          401,
          143,
          213,
          399,
          684,
          356,
          167,
          171,
          115,
          92,
          191,
          247,
          552,
          454,
          448,
          109,
          107,
          204,
          218,
          184,
          127,
          202,
          109,
          95,
          372,
          485,
          267,
          348,
          452,
          198,
          99,
          308,
          296,
          295,
          304,
          743,
          248,
          188,
          377,
          795,
          382,
          454,
          317,
          726,
          1177,
          1072,
          1120,
          1354,
          701,
          785,
          1187,
          1224,
          1071,
          1940,
          3722,
          543,
          586,
          1265,
          1394,
          3780,
          639
         ],
         "yaxis": "y"
        },
        {
         "hovertemplate": "symbol=CLOV<br>days_from_peak=%{x}<br>num_mentions_stock=%{y}<extra></extra>",
         "legendgroup": "CLOV",
         "line": {
          "color": "#B6E880",
          "dash": "solid"
         },
         "mode": "lines",
         "name": "CLOV",
         "showlegend": true,
         "type": "scattergl",
         "x": [
          31,
          30,
          29,
          28,
          27,
          26,
          25,
          24,
          23,
          22,
          21,
          20,
          19,
          18,
          17,
          16,
          15,
          14,
          13,
          12,
          11,
          10,
          9,
          8,
          7,
          6,
          5,
          4,
          3,
          2,
          1,
          0,
          -1,
          -2,
          -3,
          -4,
          -5,
          -6,
          -7,
          -8,
          -9,
          -10,
          -11,
          -12,
          -13,
          -14,
          -15,
          -16,
          -17,
          -18,
          -19,
          -20,
          -21,
          -22,
          -23,
          -24,
          -25,
          -26,
          -27,
          -28,
          -29,
          -30,
          -31,
          -32,
          -33,
          -34,
          -35,
          -36,
          -37,
          -38,
          -39,
          -40,
          -41,
          -42,
          -43,
          -44,
          -45,
          -46,
          -47,
          -48,
          -49,
          -50,
          -51,
          -52,
          -53,
          -54,
          -55,
          -56,
          -57,
          -58,
          -59,
          -60,
          -61,
          -62,
          -63,
          -64,
          -65,
          -66,
          -67,
          -68,
          -72,
          -73,
          -74,
          -75,
          -76,
          -79,
          -80,
          -81,
          -82,
          -83,
          -84,
          -86,
          -87,
          -88,
          -89,
          -90,
          -91,
          -92,
          -93,
          -94,
          -95,
          -96
         ],
         "xaxis": "x",
         "y": [
          170,
          590,
          706,
          111,
          92,
          293,
          420,
          722,
          829,
          199,
          113,
          109,
          533,
          669,
          804,
          1261,
          760,
          331,
          216,
          793,
          1365,
          1536,
          1501,
          624,
          227,
          139,
          467,
          534,
          912,
          1193,
          1608,
          562,
          488,
          2521,
          3200,
          7208,
          7441,
          2584,
          354,
          131,
          498,
          1129,
          742,
          59,
          35,
          41,
          44,
          183,
          243,
          99,
          46,
          66,
          23,
          8,
          78,
          124,
          41,
          162,
          529,
          87,
          57,
          160,
          87,
          148,
          98,
          115,
          93,
          67,
          146,
          209,
          224,
          206,
          430,
          218,
          86,
          444,
          1022,
          683,
          132,
          150,
          40,
          54,
          141,
          89,
          251,
          470,
          944,
          239,
          208,
          860,
          10,
          4,
          4,
          6,
          1,
          3,
          21,
          89,
          1,
          5,
          2,
          2,
          4,
          2,
          2,
          1,
          4,
          7,
          2,
          1,
          3,
          6,
          3,
          6,
          8,
          7,
          7,
          2,
          2,
          9,
          6,
          1
         ],
         "yaxis": "y"
        },
        {
         "hovertemplate": "symbol=RKT<br>days_from_peak=%{x}<br>num_mentions_stock=%{y}<extra></extra>",
         "legendgroup": "RKT",
         "line": {
          "color": "#FF97FF",
          "dash": "solid"
         },
         "mode": "lines",
         "name": "RKT",
         "showlegend": true,
         "type": "scattergl",
         "x": [
          65,
          64,
          63,
          62,
          61,
          60,
          59,
          58,
          57,
          56,
          55,
          54,
          53,
          52,
          51,
          50,
          49,
          48,
          47,
          46,
          45,
          44,
          43,
          42,
          41,
          40,
          39,
          38,
          37,
          36,
          35,
          34,
          33,
          32,
          31,
          30,
          29,
          28,
          27,
          26,
          25,
          24,
          23,
          22,
          21,
          20,
          19,
          18,
          17,
          16,
          15,
          14,
          13,
          12,
          11,
          10,
          9,
          8,
          7,
          6,
          5,
          4,
          3,
          2,
          1,
          0,
          -1,
          -2,
          -3,
          -4,
          -5,
          -6,
          -7,
          -8,
          -9,
          -10,
          -11,
          -12,
          -13,
          -14,
          -15,
          -16,
          -17,
          -18,
          -19,
          -20,
          -21,
          -22,
          -23,
          -24,
          -25,
          -26,
          -27,
          -28,
          -29,
          -30,
          -31,
          -32,
          -33,
          -34,
          -35,
          -36,
          -37,
          -38,
          -39,
          -40,
          -41,
          -42,
          -45,
          -46,
          -47,
          -48,
          -49,
          -50,
          -51,
          -52,
          -53,
          -54,
          -55,
          -56,
          -57,
          -58,
          -59,
          -60,
          -61,
          -62
         ],
         "xaxis": "x",
         "y": [
          30,
          98,
          57,
          11,
          5,
          46,
          14,
          74,
          30,
          5,
          9,
          7,
          46,
          50,
          65,
          130,
          34,
          9,
          15,
          49,
          73,
          246,
          82,
          126,
          17,
          20,
          74,
          140,
          109,
          79,
          123,
          52,
          68,
          173,
          177,
          490,
          367,
          74,
          21,
          23,
          127,
          265,
          524,
          116,
          37,
          32,
          88,
          199,
          528,
          120,
          92,
          73,
          31,
          21,
          66,
          95,
          43,
          87,
          131,
          29,
          35,
          78,
          121,
          194,
          238,
          334,
          81,
          186,
          603,
          1249,
          1806,
          561,
          217,
          68,
          121,
          97,
          56,
          61,
          125,
          68,
          14,
          22,
          54,
          61,
          73,
          62,
          88,
          37,
          28,
          73,
          174,
          58,
          94,
          77,
          13,
          17,
          75,
          133,
          138,
          233,
          121,
          38,
          41,
          47,
          215,
          193,
          385,
          720,
          242,
          217,
          263,
          555,
          307,
          120,
          164,
          379,
          602,
          448,
          458,
          447,
          182,
          190,
          258,
          369,
          617,
          124
         ],
         "yaxis": "y"
        },
        {
         "hovertemplate": "symbol=CLNE<br>days_from_peak=%{x}<br>num_mentions_stock=%{y}<extra></extra>",
         "legendgroup": "CLNE",
         "line": {
          "color": "#FECB52",
          "dash": "solid"
         },
         "mode": "lines",
         "name": "CLNE",
         "showlegend": true,
         "type": "scattergl",
         "x": [
          26,
          25,
          24,
          23,
          22,
          21,
          20,
          19,
          18,
          17,
          16,
          15,
          14,
          13,
          12,
          11,
          10,
          9,
          8,
          7,
          6,
          5,
          4,
          3,
          2,
          1,
          0,
          -1,
          -2,
          -3,
          -4,
          -5,
          -6,
          -7,
          -8,
          -9,
          -10,
          -11,
          -12,
          -13,
          -14,
          -15,
          -16,
          -17,
          -18,
          -19,
          -21,
          -22,
          -23,
          -24,
          -25,
          -26,
          -27,
          -28,
          -29,
          -30,
          -31,
          -32,
          -33,
          -34,
          -35,
          -36,
          -37,
          -38,
          -39,
          -40,
          -41,
          -42,
          -43,
          -44,
          -45,
          -46,
          -47,
          -48,
          -49,
          -50,
          -51,
          -52,
          -53,
          -54,
          -55,
          -56,
          -57,
          -58,
          -59,
          -60,
          -62,
          -63,
          -64,
          -65,
          -66,
          -67,
          -69,
          -70,
          -71,
          -73,
          -74,
          -77,
          -78,
          -79,
          -80,
          -81,
          -84,
          -85,
          -86,
          -87,
          -88,
          -89,
          -90,
          -91,
          -92,
          -93,
          -94,
          -95,
          -96,
          -97,
          -98,
          -99,
          -100,
          -101
         ],
         "xaxis": "x",
         "y": [
          62,
          154,
          129,
          10,
          22,
          94,
          169,
          254,
          274,
          36,
          41,
          28,
          253,
          331,
          379,
          382,
          369,
          114,
          61,
          326,
          434,
          520,
          649,
          939,
          131,
          131,
          2497,
          1656,
          1264,
          2189,
          3032,
          864,
          499,
          1660,
          2912,
          5887,
          2913,
          2000,
          537,
          298,
          1532,
          1657,
          158,
          8,
          6,
          5,
          15,
          7,
          19,
          17,
          11,
          3,
          3,
          22,
          38,
          11,
          37,
          24,
          3,
          10,
          25,
          33,
          24,
          56,
          33,
          4,
          23,
          76,
          60,
          37,
          20,
          29,
          10,
          19,
          39,
          29,
          32,
          49,
          39,
          18,
          8,
          9,
          4,
          19,
          40,
          59,
          4,
          7,
          9,
          10,
          13,
          11,
          1,
          9,
          4,
          12,
          14,
          2,
          10,
          10,
          4,
          4,
          2,
          4,
          11,
          22,
          10,
          1,
          1,
          12,
          7,
          3,
          10,
          15,
          9,
          4,
          8,
          13,
          9,
          3
         ],
         "yaxis": "y"
        }
       ],
       "layout": {
        "legend": {
         "title": {
          "text": "symbol"
         },
         "tracegroupgap": 0
        },
        "template": {
         "data": {
          "bar": [
           {
            "error_x": {
             "color": "#2a3f5f"
            },
            "error_y": {
             "color": "#2a3f5f"
            },
            "marker": {
             "line": {
              "color": "#E5ECF6",
              "width": 0.5
             },
             "pattern": {
              "fillmode": "overlay",
              "size": 10,
              "solidity": 0.2
             }
            },
            "type": "bar"
           }
          ],
          "barpolar": [
           {
            "marker": {
             "line": {
              "color": "#E5ECF6",
              "width": 0.5
             },
             "pattern": {
              "fillmode": "overlay",
              "size": 10,
              "solidity": 0.2
             }
            },
            "type": "barpolar"
           }
          ],
          "carpet": [
           {
            "aaxis": {
             "endlinecolor": "#2a3f5f",
             "gridcolor": "white",
             "linecolor": "white",
             "minorgridcolor": "white",
             "startlinecolor": "#2a3f5f"
            },
            "baxis": {
             "endlinecolor": "#2a3f5f",
             "gridcolor": "white",
             "linecolor": "white",
             "minorgridcolor": "white",
             "startlinecolor": "#2a3f5f"
            },
            "type": "carpet"
           }
          ],
          "choropleth": [
           {
            "colorbar": {
             "outlinewidth": 0,
             "ticks": ""
            },
            "type": "choropleth"
           }
          ],
          "contour": [
           {
            "colorbar": {
             "outlinewidth": 0,
             "ticks": ""
            },
            "colorscale": [
             [
              0,
              "#0d0887"
             ],
             [
              0.1111111111111111,
              "#46039f"
             ],
             [
              0.2222222222222222,
              "#7201a8"
             ],
             [
              0.3333333333333333,
              "#9c179e"
             ],
             [
              0.4444444444444444,
              "#bd3786"
             ],
             [
              0.5555555555555556,
              "#d8576b"
             ],
             [
              0.6666666666666666,
              "#ed7953"
             ],
             [
              0.7777777777777778,
              "#fb9f3a"
             ],
             [
              0.8888888888888888,
              "#fdca26"
             ],
             [
              1,
              "#f0f921"
             ]
            ],
            "type": "contour"
           }
          ],
          "contourcarpet": [
           {
            "colorbar": {
             "outlinewidth": 0,
             "ticks": ""
            },
            "type": "contourcarpet"
           }
          ],
          "heatmap": [
           {
            "colorbar": {
             "outlinewidth": 0,
             "ticks": ""
            },
            "colorscale": [
             [
              0,
              "#0d0887"
             ],
             [
              0.1111111111111111,
              "#46039f"
             ],
             [
              0.2222222222222222,
              "#7201a8"
             ],
             [
              0.3333333333333333,
              "#9c179e"
             ],
             [
              0.4444444444444444,
              "#bd3786"
             ],
             [
              0.5555555555555556,
              "#d8576b"
             ],
             [
              0.6666666666666666,
              "#ed7953"
             ],
             [
              0.7777777777777778,
              "#fb9f3a"
             ],
             [
              0.8888888888888888,
              "#fdca26"
             ],
             [
              1,
              "#f0f921"
             ]
            ],
            "type": "heatmap"
           }
          ],
          "heatmapgl": [
           {
            "colorbar": {
             "outlinewidth": 0,
             "ticks": ""
            },
            "colorscale": [
             [
              0,
              "#0d0887"
             ],
             [
              0.1111111111111111,
              "#46039f"
             ],
             [
              0.2222222222222222,
              "#7201a8"
             ],
             [
              0.3333333333333333,
              "#9c179e"
             ],
             [
              0.4444444444444444,
              "#bd3786"
             ],
             [
              0.5555555555555556,
              "#d8576b"
             ],
             [
              0.6666666666666666,
              "#ed7953"
             ],
             [
              0.7777777777777778,
              "#fb9f3a"
             ],
             [
              0.8888888888888888,
              "#fdca26"
             ],
             [
              1,
              "#f0f921"
             ]
            ],
            "type": "heatmapgl"
           }
          ],
          "histogram": [
           {
            "marker": {
             "pattern": {
              "fillmode": "overlay",
              "size": 10,
              "solidity": 0.2
             }
            },
            "type": "histogram"
           }
          ],
          "histogram2d": [
           {
            "colorbar": {
             "outlinewidth": 0,
             "ticks": ""
            },
            "colorscale": [
             [
              0,
              "#0d0887"
             ],
             [
              0.1111111111111111,
              "#46039f"
             ],
             [
              0.2222222222222222,
              "#7201a8"
             ],
             [
              0.3333333333333333,
              "#9c179e"
             ],
             [
              0.4444444444444444,
              "#bd3786"
             ],
             [
              0.5555555555555556,
              "#d8576b"
             ],
             [
              0.6666666666666666,
              "#ed7953"
             ],
             [
              0.7777777777777778,
              "#fb9f3a"
             ],
             [
              0.8888888888888888,
              "#fdca26"
             ],
             [
              1,
              "#f0f921"
             ]
            ],
            "type": "histogram2d"
           }
          ],
          "histogram2dcontour": [
           {
            "colorbar": {
             "outlinewidth": 0,
             "ticks": ""
            },
            "colorscale": [
             [
              0,
              "#0d0887"
             ],
             [
              0.1111111111111111,
              "#46039f"
             ],
             [
              0.2222222222222222,
              "#7201a8"
             ],
             [
              0.3333333333333333,
              "#9c179e"
             ],
             [
              0.4444444444444444,
              "#bd3786"
             ],
             [
              0.5555555555555556,
              "#d8576b"
             ],
             [
              0.6666666666666666,
              "#ed7953"
             ],
             [
              0.7777777777777778,
              "#fb9f3a"
             ],
             [
              0.8888888888888888,
              "#fdca26"
             ],
             [
              1,
              "#f0f921"
             ]
            ],
            "type": "histogram2dcontour"
           }
          ],
          "mesh3d": [
           {
            "colorbar": {
             "outlinewidth": 0,
             "ticks": ""
            },
            "type": "mesh3d"
           }
          ],
          "parcoords": [
           {
            "line": {
             "colorbar": {
              "outlinewidth": 0,
              "ticks": ""
             }
            },
            "type": "parcoords"
           }
          ],
          "pie": [
           {
            "automargin": true,
            "type": "pie"
           }
          ],
          "scatter": [
           {
            "marker": {
             "colorbar": {
              "outlinewidth": 0,
              "ticks": ""
             }
            },
            "type": "scatter"
           }
          ],
          "scatter3d": [
           {
            "line": {
             "colorbar": {
              "outlinewidth": 0,
              "ticks": ""
             }
            },
            "marker": {
             "colorbar": {
              "outlinewidth": 0,
              "ticks": ""
             }
            },
            "type": "scatter3d"
           }
          ],
          "scattercarpet": [
           {
            "marker": {
             "colorbar": {
              "outlinewidth": 0,
              "ticks": ""
             }
            },
            "type": "scattercarpet"
           }
          ],
          "scattergeo": [
           {
            "marker": {
             "colorbar": {
              "outlinewidth": 0,
              "ticks": ""
             }
            },
            "type": "scattergeo"
           }
          ],
          "scattergl": [
           {
            "marker": {
             "colorbar": {
              "outlinewidth": 0,
              "ticks": ""
             }
            },
            "type": "scattergl"
           }
          ],
          "scattermapbox": [
           {
            "marker": {
             "colorbar": {
              "outlinewidth": 0,
              "ticks": ""
             }
            },
            "type": "scattermapbox"
           }
          ],
          "scatterpolar": [
           {
            "marker": {
             "colorbar": {
              "outlinewidth": 0,
              "ticks": ""
             }
            },
            "type": "scatterpolar"
           }
          ],
          "scatterpolargl": [
           {
            "marker": {
             "colorbar": {
              "outlinewidth": 0,
              "ticks": ""
             }
            },
            "type": "scatterpolargl"
           }
          ],
          "scatterternary": [
           {
            "marker": {
             "colorbar": {
              "outlinewidth": 0,
              "ticks": ""
             }
            },
            "type": "scatterternary"
           }
          ],
          "surface": [
           {
            "colorbar": {
             "outlinewidth": 0,
             "ticks": ""
            },
            "colorscale": [
             [
              0,
              "#0d0887"
             ],
             [
              0.1111111111111111,
              "#46039f"
             ],
             [
              0.2222222222222222,
              "#7201a8"
             ],
             [
              0.3333333333333333,
              "#9c179e"
             ],
             [
              0.4444444444444444,
              "#bd3786"
             ],
             [
              0.5555555555555556,
              "#d8576b"
             ],
             [
              0.6666666666666666,
              "#ed7953"
             ],
             [
              0.7777777777777778,
              "#fb9f3a"
             ],
             [
              0.8888888888888888,
              "#fdca26"
             ],
             [
              1,
              "#f0f921"
             ]
            ],
            "type": "surface"
           }
          ],
          "table": [
           {
            "cells": {
             "fill": {
              "color": "#EBF0F8"
             },
             "line": {
              "color": "white"
             }
            },
            "header": {
             "fill": {
              "color": "#C8D4E3"
             },
             "line": {
              "color": "white"
             }
            },
            "type": "table"
           }
          ]
         },
         "layout": {
          "annotationdefaults": {
           "arrowcolor": "#2a3f5f",
           "arrowhead": 0,
           "arrowwidth": 1
          },
          "autotypenumbers": "strict",
          "coloraxis": {
           "colorbar": {
            "outlinewidth": 0,
            "ticks": ""
           }
          },
          "colorscale": {
           "diverging": [
            [
             0,
             "#8e0152"
            ],
            [
             0.1,
             "#c51b7d"
            ],
            [
             0.2,
             "#de77ae"
            ],
            [
             0.3,
             "#f1b6da"
            ],
            [
             0.4,
             "#fde0ef"
            ],
            [
             0.5,
             "#f7f7f7"
            ],
            [
             0.6,
             "#e6f5d0"
            ],
            [
             0.7,
             "#b8e186"
            ],
            [
             0.8,
             "#7fbc41"
            ],
            [
             0.9,
             "#4d9221"
            ],
            [
             1,
             "#276419"
            ]
           ],
           "sequential": [
            [
             0,
             "#0d0887"
            ],
            [
             0.1111111111111111,
             "#46039f"
            ],
            [
             0.2222222222222222,
             "#7201a8"
            ],
            [
             0.3333333333333333,
             "#9c179e"
            ],
            [
             0.4444444444444444,
             "#bd3786"
            ],
            [
             0.5555555555555556,
             "#d8576b"
            ],
            [
             0.6666666666666666,
             "#ed7953"
            ],
            [
             0.7777777777777778,
             "#fb9f3a"
            ],
            [
             0.8888888888888888,
             "#fdca26"
            ],
            [
             1,
             "#f0f921"
            ]
           ],
           "sequentialminus": [
            [
             0,
             "#0d0887"
            ],
            [
             0.1111111111111111,
             "#46039f"
            ],
            [
             0.2222222222222222,
             "#7201a8"
            ],
            [
             0.3333333333333333,
             "#9c179e"
            ],
            [
             0.4444444444444444,
             "#bd3786"
            ],
            [
             0.5555555555555556,
             "#d8576b"
            ],
            [
             0.6666666666666666,
             "#ed7953"
            ],
            [
             0.7777777777777778,
             "#fb9f3a"
            ],
            [
             0.8888888888888888,
             "#fdca26"
            ],
            [
             1,
             "#f0f921"
            ]
           ]
          },
          "colorway": [
           "#636efa",
           "#EF553B",
           "#00cc96",
           "#ab63fa",
           "#FFA15A",
           "#19d3f3",
           "#FF6692",
           "#B6E880",
           "#FF97FF",
           "#FECB52"
          ],
          "font": {
           "color": "#2a3f5f"
          },
          "geo": {
           "bgcolor": "white",
           "lakecolor": "white",
           "landcolor": "#E5ECF6",
           "showlakes": true,
           "showland": true,
           "subunitcolor": "white"
          },
          "hoverlabel": {
           "align": "left"
          },
          "hovermode": "closest",
          "mapbox": {
           "style": "light"
          },
          "paper_bgcolor": "white",
          "plot_bgcolor": "#E5ECF6",
          "polar": {
           "angularaxis": {
            "gridcolor": "white",
            "linecolor": "white",
            "ticks": ""
           },
           "bgcolor": "#E5ECF6",
           "radialaxis": {
            "gridcolor": "white",
            "linecolor": "white",
            "ticks": ""
           }
          },
          "scene": {
           "xaxis": {
            "backgroundcolor": "#E5ECF6",
            "gridcolor": "white",
            "gridwidth": 2,
            "linecolor": "white",
            "showbackground": true,
            "ticks": "",
            "zerolinecolor": "white"
           },
           "yaxis": {
            "backgroundcolor": "#E5ECF6",
            "gridcolor": "white",
            "gridwidth": 2,
            "linecolor": "white",
            "showbackground": true,
            "ticks": "",
            "zerolinecolor": "white"
           },
           "zaxis": {
            "backgroundcolor": "#E5ECF6",
            "gridcolor": "white",
            "gridwidth": 2,
            "linecolor": "white",
            "showbackground": true,
            "ticks": "",
            "zerolinecolor": "white"
           }
          },
          "shapedefaults": {
           "line": {
            "color": "#2a3f5f"
           }
          },
          "ternary": {
           "aaxis": {
            "gridcolor": "white",
            "linecolor": "white",
            "ticks": ""
           },
           "baxis": {
            "gridcolor": "white",
            "linecolor": "white",
            "ticks": ""
           },
           "bgcolor": "#E5ECF6",
           "caxis": {
            "gridcolor": "white",
            "linecolor": "white",
            "ticks": ""
           }
          },
          "title": {
           "x": 0.05
          },
          "xaxis": {
           "automargin": true,
           "gridcolor": "white",
           "linecolor": "white",
           "ticks": "",
           "title": {
            "standoff": 15
           },
           "zerolinecolor": "white",
           "zerolinewidth": 2
          },
          "yaxis": {
           "automargin": true,
           "gridcolor": "white",
           "linecolor": "white",
           "ticks": "",
           "title": {
            "standoff": 15
           },
           "zerolinecolor": "white",
           "zerolinewidth": 2
          }
         }
        },
        "title": {
         "text": "Days from peak"
        },
        "xaxis": {
         "anchor": "y",
         "domain": [
          0,
          1
         ],
         "title": {
          "text": "days_from_peak"
         }
        },
        "yaxis": {
         "anchor": "x",
         "domain": [
          0,
          1
         ],
         "title": {
          "text": "num_mentions_stock"
         }
        }
       }
      },
      "text/html": [
       "<div>                            <div id=\"9363de70-75b0-41aa-a66a-ae623d69445e\" class=\"plotly-graph-div\" style=\"height:525px; width:100%;\"></div>            <script type=\"text/javascript\">                require([\"plotly\"], function(Plotly) {                    window.PLOTLYENV=window.PLOTLYENV || {};                                    if (document.getElementById(\"9363de70-75b0-41aa-a66a-ae623d69445e\")) {                    Plotly.newPlot(                        \"9363de70-75b0-41aa-a66a-ae623d69445e\",                        [{\"hovertemplate\":\"symbol=WISH<br>days_from_peak=%{x}<br>num_mentions_stock=%{y}<extra></extra>\",\"legendgroup\":\"WISH\",\"line\":{\"color\":\"#636efa\",\"dash\":\"solid\"},\"mode\":\"lines\",\"name\":\"WISH\",\"showlegend\":true,\"type\":\"scattergl\",\"x\":[18,17,16,15,14,13,12,11,10,9,8,7,6,5,4,3,2,1,0,-1,-2,-3,-4,-5,-6,-7,-8,-9,-10,-11,-12,-13,-14,-15,-16,-17,-18,-19,-20,-21,-22,-23,-24,-25,-26,-27,-28,-29,-30,-31,-32,-33,-34,-36,-37,-38,-39,-40,-41,-43,-44,-45,-46,-47,-48,-49,-50,-51,-52,-53,-54,-55,-56,-57,-58,-59,-60,-61,-62,-64,-65,-66,-67,-68,-69,-70,-71,-72,-73,-74,-75,-76,-77,-78,-79,-80,-81,-82,-83,-85,-86,-87,-88,-89,-92,-93,-94,-95,-96,-97,-98,-99,-100,-101,-102,-103,-104,-105,-106,-107,-108,-109],\"xaxis\":\"x\",\"y\":[67,200,208,66,38,203,365,307,342,118,55,73,462,657,596,722,929,273,198,833,1307,1375,2129,3000,220,242,895,953,1013,1689,2163,474,440,1564,2800,6765,4653,45,3,6,11,27,52,22,23,15,12,54,27,35,33,5,1,2,3,5,8,7,2,46,51,10,7,9,7,3,4,4,5,2,3,2,4,2,8,22,40,3,2,1,2,2,6,1,1,1,12,6,2,1,4,1,1,7,11,6,4,2,1,6,4,1,5,4,3,9,9,3,5,2,3,2,9,3,5,5,3,2,8,21,29,3],\"yaxis\":\"y\"},{\"hovertemplate\":\"symbol=BB<br>days_from_peak=%{x}<br>num_mentions_stock=%{y}<extra></extra>\",\"legendgroup\":\"BB\",\"line\":{\"color\":\"#EF553B\",\"dash\":\"solid\"},\"mode\":\"lines\",\"name\":\"BB\",\"showlegend\":true,\"type\":\"scattergl\",\"x\":[37,36,35,34,33,32,31,30,29,28,27,26,25,24,23,22,21,20,19,18,17,16,15,14,13,12,11,10,9,8,7,6,5,4,3,2,1,0,-1,-2,-3,-4,-5,-6,-7,-8,-9,-10,-11,-12,-13,-14,-15,-16,-17,-18,-19,-20,-21,-22,-23,-24,-25,-26,-27,-28,-29,-30,-31,-32,-33,-34,-35,-36,-37,-38,-39,-40,-41,-42,-43,-44,-45,-46,-47,-48,-49,-50,-51,-52,-53,-54,-55,-56,-57,-58,-59,-60,-61,-62,-63,-64,-65,-66,-67,-68,-69,-70,-73,-74,-75,-76,-77,-78,-79,-80,-81,-82,-83,-84,-85,-86,-87,-88,-89,-90],\"xaxis\":\"x\",\"y\":[64,227,177,32,22,121,179,229,227,106,65,79,188,293,270,527,746,159,159,793,665,611,1078,1068,196,282,1151,1577,991,1026,1465,429,508,2336,3246,4696,5022,5747,1714,1786,9109,16809,9788,3421,793,473,497,2895,1767,789,128,36,12,22,44,50,71,141,64,25,30,158,143,97,76,56,31,39,129,111,83,59,53,24,32,72,109,105,182,143,48,29,87,97,164,159,137,80,72,128,160,133,143,155,41,22,174,268,324,178,215,69,46,83,260,640,606,188,119,169,164,160,142,41,51,116,141,162,304,452,103,175,693,201,565,99],\"yaxis\":\"y\"},{\"hovertemplate\":\"symbol=MVIS<br>days_from_peak=%{x}<br>num_mentions_stock=%{y}<extra></extra>\",\"legendgroup\":\"MVIS\",\"line\":{\"color\":\"#00cc96\",\"dash\":\"solid\"},\"mode\":\"lines\",\"name\":\"MVIS\",\"showlegend\":true,\"type\":\"scattergl\",\"x\":[75,74,73,72,71,70,69,68,67,66,65,64,63,62,61,60,59,58,57,56,55,54,53,52,51,50,49,48,47,46,45,44,43,42,41,40,39,38,37,36,35,34,33,32,31,30,29,28,27,26,25,24,23,22,21,20,19,18,17,16,15,14,13,12,11,10,9,8,7,6,5,4,3,2,1,0,-1,-2,-3,-4,-5,-6,-7,-8,-9,-10,-11,-12,-13,-14,-15,-16,-17,-18,-19,-20,-21,-22,-23,-24,-25,-26,-27,-28,-29,-30,-31,-32,-35,-36,-37,-38,-39,-40,-41,-42,-43,-44,-45,-46,-47,-48,-49,-50,-51,-52],\"xaxis\":\"x\",\"y\":[6,56,18,4,5,23,34,28,15,4,2,4,14,18,15,23,22,7,12,16,39,24,58,95,6,9,20,28,20,27,30,15,16,80,358,105,126,296,62,98,792,100,164,179,14,25,16,196,106,119,159,56,15,24,58,71,53,209,213,39,34,236,98,94,118,116,50,53,200,305,328,598,582,172,219,1532,2014,1911,3194,3491,363,447,1137,947,741,472,45,13,16,98,242,85,45,65,12,19,41,56,71,90,116,53,102,40,221,404,29,15,42,25,43,26,41,8,9,19,25,34,27,78,56,28,163,70,32,6],\"yaxis\":\"y\"},{\"hovertemplate\":\"symbol=TSLA<br>days_from_peak=%{x}<br>num_mentions_stock=%{y}<extra></extra>\",\"legendgroup\":\"TSLA\",\"line\":{\"color\":\"#ab63fa\",\"dash\":\"solid\"},\"mode\":\"lines\",\"name\":\"TSLA\",\"showlegend\":true,\"type\":\"scattergl\",\"x\":[54,53,52,51,50,49,48,47,46,45,44,43,42,41,40,39,38,37,36,35,34,33,32,31,30,29,28,27,26,25,24,23,22,21,20,19,18,17,16,15,14,13,12,11,10,9,8,7,6,5,4,3,2,1,0,-1,-2,-3,-4,-5,-6,-7,-8,-9,-10,-11,-12,-13,-14,-15,-16,-17,-18,-19,-20,-21,-22,-23,-24,-25,-26,-27,-28,-29,-30,-31,-32,-33,-34,-35,-36,-37,-38,-39,-40,-41,-42,-43,-44,-45,-46,-47,-48,-49,-50,-51,-52,-53,-56,-57,-58,-59,-60,-61,-62,-63,-64,-65,-66,-67,-68,-69,-70,-71,-72,-73],\"xaxis\":\"x\",\"y\":[55,186,230,27,50,128,197,119,180,43,58,32,279,196,190,178,320,100,72,448,1124,491,115,225,102,100,231,247,235,170,201,124,66,263,224,224,233,218,63,59,294,455,203,136,102,37,35,197,297,253,310,482,158,70,534,455,496,715,875,203,88,492,744,476,478,380,147,58,258,299,206,218,290,65,81,450,374,273,370,627,133,106,191,233,279,296,383,138,77,293,604,864,845,400,93,83,244,327,341,349,960,139,129,269,789,481,529,258,466,385,406,357,613,207,177,326,395,394,384,336,119,139,491,663,812,338],\"yaxis\":\"y\"},{\"hovertemplate\":\"symbol=PLTR<br>days_from_peak=%{x}<br>num_mentions_stock=%{y}<extra></extra>\",\"legendgroup\":\"PLTR\",\"line\":{\"color\":\"#FFA15A\",\"dash\":\"solid\"},\"mode\":\"lines\",\"name\":\"PLTR\",\"showlegend\":true,\"type\":\"scattergl\",\"x\":[63,62,61,60,59,58,57,56,55,54,53,52,51,50,49,48,47,46,45,44,43,42,41,40,39,38,37,36,35,34,33,32,31,30,29,28,27,26,25,24,23,22,21,20,19,18,17,16,15,14,13,12,11,10,9,8,7,6,5,4,3,2,1,0,-1,-2,-3,-4,-5,-6,-7,-8,-9,-10,-11,-12,-13,-14,-15,-16,-17,-18,-19,-20,-21,-22,-23,-24,-25,-26,-27,-28,-29,-30,-31,-32,-33,-34,-35,-36,-37,-38,-39,-40,-41,-42,-43,-44,-47,-48,-49,-50,-51,-52,-53,-54,-55,-56,-57,-58,-59,-60,-61,-62,-63,-64],\"xaxis\":\"x\",\"y\":[55,130,112,8,27,111,209,291,117,89,28,24,203,363,164,257,494,123,78,328,340,385,133,212,68,70,353,454,237,385,449,59,80,194,199,228,300,205,53,63,273,330,461,205,60,102,72,618,323,248,250,256,60,44,272,320,189,527,323,131,101,566,535,850,1907,1270,266,315,849,1070,509,432,324,97,104,182,303,189,251,257,103,76,273,334,334,403,419,105,135,569,835,1306,1139,869,221,158,540,507,415,439,661,158,141,177,592,711,954,741,437,561,815,679,557,178,134,325,551,574,568,531,163,206,639,894,660,148],\"yaxis\":\"y\"},{\"hovertemplate\":\"symbol=GME<br>days_from_peak=%{x}<br>num_mentions_stock=%{y}<extra></extra>\",\"legendgroup\":\"GME\",\"line\":{\"color\":\"#19d3f3\",\"dash\":\"solid\"},\"mode\":\"lines\",\"name\":\"GME\",\"showlegend\":true,\"type\":\"scattergl\",\"x\":[126,125,124,123,122,121,120,119,118,117,116,115,114,113,112,111,110,109,108,107,106,105,104,103,102,101,100,99,98,97,96,95,94,93,92,91,90,89,88,87,86,85,84,83,82,81,80,79,78,77,76,75,74,73,72,71,70,69,68,67,66,65,64,63,62,61,60,59,58,57,56,55,54,53,52,51,50,49,48,47,46,45,44,43,42,41,40,39,38,37,36,35,34,33,32,31,30,29,28,27,26,25,24,23,22,21,20,19,16,15,14,13,12,11,10,9,8,7,6,5,4,3,2,1,0,-1],\"xaxis\":\"x\",\"y\":[142,359,423,102,136,272,497,805,763,383,416,202,426,586,532,594,663,614,199,612,553,766,1128,822,362,433,737,702,955,978,892,438,568,1538,3221,5016,4289,2276,1020,1018,2208,3648,3418,1350,427,523,811,2735,3694,3865,2628,759,331,392,669,544,860,1640,1502,243,399,1112,1486,981,1051,997,415,501,925,2108,1211,661,646,450,378,844,945,1033,1798,2093,374,473,944,850,862,893,2766,850,1357,4059,2576,3615,2848,3394,858,982,3018,2814,2252,2228,3191,591,658,901,3004,3058,4123,2670,5278,7182,8352,6901,4498,1690,1946,6163,6002,6077,7898,8376,3131,2444,7813,9197,15628,2181],\"yaxis\":\"y\"},{\"hovertemplate\":\"symbol=AMC<br>days_from_peak=%{x}<br>num_mentions_stock=%{y}<extra></extra>\",\"legendgroup\":\"AMC\",\"line\":{\"color\":\"#FF6692\",\"dash\":\"solid\"},\"mode\":\"lines\",\"name\":\"AMC\",\"showlegend\":true,\"type\":\"scattergl\",\"x\":[42,41,40,39,38,37,36,35,34,33,32,31,30,29,28,27,26,25,24,23,22,21,20,19,18,17,16,15,14,13,12,11,10,9,8,7,6,5,4,3,2,1,0,-1,-2,-3,-4,-5,-6,-7,-8,-9,-10,-11,-12,-13,-14,-15,-16,-17,-18,-19,-20,-21,-22,-23,-24,-25,-26,-27,-28,-29,-30,-31,-32,-33,-34,-35,-36,-37,-38,-39,-40,-41,-42,-43,-44,-45,-46,-47,-48,-49,-50,-51,-52,-53,-54,-55,-56,-57,-58,-59,-60,-61,-62,-63,-64,-65,-68,-69,-70,-71,-72,-73,-74,-75,-76,-77,-78,-79,-80,-81,-82,-83,-84,-85],\"xaxis\":\"x\",\"y\":[200,567,397,142,124,287,729,729,567,281,289,170,613,587,504,681,759,368,200,657,684,832,1149,1127,460,611,1564,2168,1567,2149,2283,696,837,2518,3698,4677,3527,3443,1610,1918,6647,12482,10347,3986,1151,1111,1687,8617,8508,3428,1607,664,151,158,414,560,783,1750,1355,216,280,1991,2474,513,561,401,143,213,399,684,356,167,171,115,92,191,247,552,454,448,109,107,204,218,184,127,202,109,95,372,485,267,348,452,198,99,308,296,295,304,743,248,188,377,795,382,454,317,726,1177,1072,1120,1354,701,785,1187,1224,1071,1940,3722,543,586,1265,1394,3780,639],\"yaxis\":\"y\"},{\"hovertemplate\":\"symbol=CLOV<br>days_from_peak=%{x}<br>num_mentions_stock=%{y}<extra></extra>\",\"legendgroup\":\"CLOV\",\"line\":{\"color\":\"#B6E880\",\"dash\":\"solid\"},\"mode\":\"lines\",\"name\":\"CLOV\",\"showlegend\":true,\"type\":\"scattergl\",\"x\":[31,30,29,28,27,26,25,24,23,22,21,20,19,18,17,16,15,14,13,12,11,10,9,8,7,6,5,4,3,2,1,0,-1,-2,-3,-4,-5,-6,-7,-8,-9,-10,-11,-12,-13,-14,-15,-16,-17,-18,-19,-20,-21,-22,-23,-24,-25,-26,-27,-28,-29,-30,-31,-32,-33,-34,-35,-36,-37,-38,-39,-40,-41,-42,-43,-44,-45,-46,-47,-48,-49,-50,-51,-52,-53,-54,-55,-56,-57,-58,-59,-60,-61,-62,-63,-64,-65,-66,-67,-68,-72,-73,-74,-75,-76,-79,-80,-81,-82,-83,-84,-86,-87,-88,-89,-90,-91,-92,-93,-94,-95,-96],\"xaxis\":\"x\",\"y\":[170,590,706,111,92,293,420,722,829,199,113,109,533,669,804,1261,760,331,216,793,1365,1536,1501,624,227,139,467,534,912,1193,1608,562,488,2521,3200,7208,7441,2584,354,131,498,1129,742,59,35,41,44,183,243,99,46,66,23,8,78,124,41,162,529,87,57,160,87,148,98,115,93,67,146,209,224,206,430,218,86,444,1022,683,132,150,40,54,141,89,251,470,944,239,208,860,10,4,4,6,1,3,21,89,1,5,2,2,4,2,2,1,4,7,2,1,3,6,3,6,8,7,7,2,2,9,6,1],\"yaxis\":\"y\"},{\"hovertemplate\":\"symbol=RKT<br>days_from_peak=%{x}<br>num_mentions_stock=%{y}<extra></extra>\",\"legendgroup\":\"RKT\",\"line\":{\"color\":\"#FF97FF\",\"dash\":\"solid\"},\"mode\":\"lines\",\"name\":\"RKT\",\"showlegend\":true,\"type\":\"scattergl\",\"x\":[65,64,63,62,61,60,59,58,57,56,55,54,53,52,51,50,49,48,47,46,45,44,43,42,41,40,39,38,37,36,35,34,33,32,31,30,29,28,27,26,25,24,23,22,21,20,19,18,17,16,15,14,13,12,11,10,9,8,7,6,5,4,3,2,1,0,-1,-2,-3,-4,-5,-6,-7,-8,-9,-10,-11,-12,-13,-14,-15,-16,-17,-18,-19,-20,-21,-22,-23,-24,-25,-26,-27,-28,-29,-30,-31,-32,-33,-34,-35,-36,-37,-38,-39,-40,-41,-42,-45,-46,-47,-48,-49,-50,-51,-52,-53,-54,-55,-56,-57,-58,-59,-60,-61,-62],\"xaxis\":\"x\",\"y\":[30,98,57,11,5,46,14,74,30,5,9,7,46,50,65,130,34,9,15,49,73,246,82,126,17,20,74,140,109,79,123,52,68,173,177,490,367,74,21,23,127,265,524,116,37,32,88,199,528,120,92,73,31,21,66,95,43,87,131,29,35,78,121,194,238,334,81,186,603,1249,1806,561,217,68,121,97,56,61,125,68,14,22,54,61,73,62,88,37,28,73,174,58,94,77,13,17,75,133,138,233,121,38,41,47,215,193,385,720,242,217,263,555,307,120,164,379,602,448,458,447,182,190,258,369,617,124],\"yaxis\":\"y\"},{\"hovertemplate\":\"symbol=CLNE<br>days_from_peak=%{x}<br>num_mentions_stock=%{y}<extra></extra>\",\"legendgroup\":\"CLNE\",\"line\":{\"color\":\"#FECB52\",\"dash\":\"solid\"},\"mode\":\"lines\",\"name\":\"CLNE\",\"showlegend\":true,\"type\":\"scattergl\",\"x\":[26,25,24,23,22,21,20,19,18,17,16,15,14,13,12,11,10,9,8,7,6,5,4,3,2,1,0,-1,-2,-3,-4,-5,-6,-7,-8,-9,-10,-11,-12,-13,-14,-15,-16,-17,-18,-19,-21,-22,-23,-24,-25,-26,-27,-28,-29,-30,-31,-32,-33,-34,-35,-36,-37,-38,-39,-40,-41,-42,-43,-44,-45,-46,-47,-48,-49,-50,-51,-52,-53,-54,-55,-56,-57,-58,-59,-60,-62,-63,-64,-65,-66,-67,-69,-70,-71,-73,-74,-77,-78,-79,-80,-81,-84,-85,-86,-87,-88,-89,-90,-91,-92,-93,-94,-95,-96,-97,-98,-99,-100,-101],\"xaxis\":\"x\",\"y\":[62,154,129,10,22,94,169,254,274,36,41,28,253,331,379,382,369,114,61,326,434,520,649,939,131,131,2497,1656,1264,2189,3032,864,499,1660,2912,5887,2913,2000,537,298,1532,1657,158,8,6,5,15,7,19,17,11,3,3,22,38,11,37,24,3,10,25,33,24,56,33,4,23,76,60,37,20,29,10,19,39,29,32,49,39,18,8,9,4,19,40,59,4,7,9,10,13,11,1,9,4,12,14,2,10,10,4,4,2,4,11,22,10,1,1,12,7,3,10,15,9,4,8,13,9,3],\"yaxis\":\"y\"}],                        {\"legend\":{\"title\":{\"text\":\"symbol\"},\"tracegroupgap\":0},\"template\":{\"data\":{\"bar\":[{\"error_x\":{\"color\":\"#2a3f5f\"},\"error_y\":{\"color\":\"#2a3f5f\"},\"marker\":{\"line\":{\"color\":\"#E5ECF6\",\"width\":0.5},\"pattern\":{\"fillmode\":\"overlay\",\"size\":10,\"solidity\":0.2}},\"type\":\"bar\"}],\"barpolar\":[{\"marker\":{\"line\":{\"color\":\"#E5ECF6\",\"width\":0.5},\"pattern\":{\"fillmode\":\"overlay\",\"size\":10,\"solidity\":0.2}},\"type\":\"barpolar\"}],\"carpet\":[{\"aaxis\":{\"endlinecolor\":\"#2a3f5f\",\"gridcolor\":\"white\",\"linecolor\":\"white\",\"minorgridcolor\":\"white\",\"startlinecolor\":\"#2a3f5f\"},\"baxis\":{\"endlinecolor\":\"#2a3f5f\",\"gridcolor\":\"white\",\"linecolor\":\"white\",\"minorgridcolor\":\"white\",\"startlinecolor\":\"#2a3f5f\"},\"type\":\"carpet\"}],\"choropleth\":[{\"colorbar\":{\"outlinewidth\":0,\"ticks\":\"\"},\"type\":\"choropleth\"}],\"contour\":[{\"colorbar\":{\"outlinewidth\":0,\"ticks\":\"\"},\"colorscale\":[[0.0,\"#0d0887\"],[0.1111111111111111,\"#46039f\"],[0.2222222222222222,\"#7201a8\"],[0.3333333333333333,\"#9c179e\"],[0.4444444444444444,\"#bd3786\"],[0.5555555555555556,\"#d8576b\"],[0.6666666666666666,\"#ed7953\"],[0.7777777777777778,\"#fb9f3a\"],[0.8888888888888888,\"#fdca26\"],[1.0,\"#f0f921\"]],\"type\":\"contour\"}],\"contourcarpet\":[{\"colorbar\":{\"outlinewidth\":0,\"ticks\":\"\"},\"type\":\"contourcarpet\"}],\"heatmap\":[{\"colorbar\":{\"outlinewidth\":0,\"ticks\":\"\"},\"colorscale\":[[0.0,\"#0d0887\"],[0.1111111111111111,\"#46039f\"],[0.2222222222222222,\"#7201a8\"],[0.3333333333333333,\"#9c179e\"],[0.4444444444444444,\"#bd3786\"],[0.5555555555555556,\"#d8576b\"],[0.6666666666666666,\"#ed7953\"],[0.7777777777777778,\"#fb9f3a\"],[0.8888888888888888,\"#fdca26\"],[1.0,\"#f0f921\"]],\"type\":\"heatmap\"}],\"heatmapgl\":[{\"colorbar\":{\"outlinewidth\":0,\"ticks\":\"\"},\"colorscale\":[[0.0,\"#0d0887\"],[0.1111111111111111,\"#46039f\"],[0.2222222222222222,\"#7201a8\"],[0.3333333333333333,\"#9c179e\"],[0.4444444444444444,\"#bd3786\"],[0.5555555555555556,\"#d8576b\"],[0.6666666666666666,\"#ed7953\"],[0.7777777777777778,\"#fb9f3a\"],[0.8888888888888888,\"#fdca26\"],[1.0,\"#f0f921\"]],\"type\":\"heatmapgl\"}],\"histogram\":[{\"marker\":{\"pattern\":{\"fillmode\":\"overlay\",\"size\":10,\"solidity\":0.2}},\"type\":\"histogram\"}],\"histogram2d\":[{\"colorbar\":{\"outlinewidth\":0,\"ticks\":\"\"},\"colorscale\":[[0.0,\"#0d0887\"],[0.1111111111111111,\"#46039f\"],[0.2222222222222222,\"#7201a8\"],[0.3333333333333333,\"#9c179e\"],[0.4444444444444444,\"#bd3786\"],[0.5555555555555556,\"#d8576b\"],[0.6666666666666666,\"#ed7953\"],[0.7777777777777778,\"#fb9f3a\"],[0.8888888888888888,\"#fdca26\"],[1.0,\"#f0f921\"]],\"type\":\"histogram2d\"}],\"histogram2dcontour\":[{\"colorbar\":{\"outlinewidth\":0,\"ticks\":\"\"},\"colorscale\":[[0.0,\"#0d0887\"],[0.1111111111111111,\"#46039f\"],[0.2222222222222222,\"#7201a8\"],[0.3333333333333333,\"#9c179e\"],[0.4444444444444444,\"#bd3786\"],[0.5555555555555556,\"#d8576b\"],[0.6666666666666666,\"#ed7953\"],[0.7777777777777778,\"#fb9f3a\"],[0.8888888888888888,\"#fdca26\"],[1.0,\"#f0f921\"]],\"type\":\"histogram2dcontour\"}],\"mesh3d\":[{\"colorbar\":{\"outlinewidth\":0,\"ticks\":\"\"},\"type\":\"mesh3d\"}],\"parcoords\":[{\"line\":{\"colorbar\":{\"outlinewidth\":0,\"ticks\":\"\"}},\"type\":\"parcoords\"}],\"pie\":[{\"automargin\":true,\"type\":\"pie\"}],\"scatter\":[{\"marker\":{\"colorbar\":{\"outlinewidth\":0,\"ticks\":\"\"}},\"type\":\"scatter\"}],\"scatter3d\":[{\"line\":{\"colorbar\":{\"outlinewidth\":0,\"ticks\":\"\"}},\"marker\":{\"colorbar\":{\"outlinewidth\":0,\"ticks\":\"\"}},\"type\":\"scatter3d\"}],\"scattercarpet\":[{\"marker\":{\"colorbar\":{\"outlinewidth\":0,\"ticks\":\"\"}},\"type\":\"scattercarpet\"}],\"scattergeo\":[{\"marker\":{\"colorbar\":{\"outlinewidth\":0,\"ticks\":\"\"}},\"type\":\"scattergeo\"}],\"scattergl\":[{\"marker\":{\"colorbar\":{\"outlinewidth\":0,\"ticks\":\"\"}},\"type\":\"scattergl\"}],\"scattermapbox\":[{\"marker\":{\"colorbar\":{\"outlinewidth\":0,\"ticks\":\"\"}},\"type\":\"scattermapbox\"}],\"scatterpolar\":[{\"marker\":{\"colorbar\":{\"outlinewidth\":0,\"ticks\":\"\"}},\"type\":\"scatterpolar\"}],\"scatterpolargl\":[{\"marker\":{\"colorbar\":{\"outlinewidth\":0,\"ticks\":\"\"}},\"type\":\"scatterpolargl\"}],\"scatterternary\":[{\"marker\":{\"colorbar\":{\"outlinewidth\":0,\"ticks\":\"\"}},\"type\":\"scatterternary\"}],\"surface\":[{\"colorbar\":{\"outlinewidth\":0,\"ticks\":\"\"},\"colorscale\":[[0.0,\"#0d0887\"],[0.1111111111111111,\"#46039f\"],[0.2222222222222222,\"#7201a8\"],[0.3333333333333333,\"#9c179e\"],[0.4444444444444444,\"#bd3786\"],[0.5555555555555556,\"#d8576b\"],[0.6666666666666666,\"#ed7953\"],[0.7777777777777778,\"#fb9f3a\"],[0.8888888888888888,\"#fdca26\"],[1.0,\"#f0f921\"]],\"type\":\"surface\"}],\"table\":[{\"cells\":{\"fill\":{\"color\":\"#EBF0F8\"},\"line\":{\"color\":\"white\"}},\"header\":{\"fill\":{\"color\":\"#C8D4E3\"},\"line\":{\"color\":\"white\"}},\"type\":\"table\"}]},\"layout\":{\"annotationdefaults\":{\"arrowcolor\":\"#2a3f5f\",\"arrowhead\":0,\"arrowwidth\":1},\"autotypenumbers\":\"strict\",\"coloraxis\":{\"colorbar\":{\"outlinewidth\":0,\"ticks\":\"\"}},\"colorscale\":{\"diverging\":[[0,\"#8e0152\"],[0.1,\"#c51b7d\"],[0.2,\"#de77ae\"],[0.3,\"#f1b6da\"],[0.4,\"#fde0ef\"],[0.5,\"#f7f7f7\"],[0.6,\"#e6f5d0\"],[0.7,\"#b8e186\"],[0.8,\"#7fbc41\"],[0.9,\"#4d9221\"],[1,\"#276419\"]],\"sequential\":[[0.0,\"#0d0887\"],[0.1111111111111111,\"#46039f\"],[0.2222222222222222,\"#7201a8\"],[0.3333333333333333,\"#9c179e\"],[0.4444444444444444,\"#bd3786\"],[0.5555555555555556,\"#d8576b\"],[0.6666666666666666,\"#ed7953\"],[0.7777777777777778,\"#fb9f3a\"],[0.8888888888888888,\"#fdca26\"],[1.0,\"#f0f921\"]],\"sequentialminus\":[[0.0,\"#0d0887\"],[0.1111111111111111,\"#46039f\"],[0.2222222222222222,\"#7201a8\"],[0.3333333333333333,\"#9c179e\"],[0.4444444444444444,\"#bd3786\"],[0.5555555555555556,\"#d8576b\"],[0.6666666666666666,\"#ed7953\"],[0.7777777777777778,\"#fb9f3a\"],[0.8888888888888888,\"#fdca26\"],[1.0,\"#f0f921\"]]},\"colorway\":[\"#636efa\",\"#EF553B\",\"#00cc96\",\"#ab63fa\",\"#FFA15A\",\"#19d3f3\",\"#FF6692\",\"#B6E880\",\"#FF97FF\",\"#FECB52\"],\"font\":{\"color\":\"#2a3f5f\"},\"geo\":{\"bgcolor\":\"white\",\"lakecolor\":\"white\",\"landcolor\":\"#E5ECF6\",\"showlakes\":true,\"showland\":true,\"subunitcolor\":\"white\"},\"hoverlabel\":{\"align\":\"left\"},\"hovermode\":\"closest\",\"mapbox\":{\"style\":\"light\"},\"paper_bgcolor\":\"white\",\"plot_bgcolor\":\"#E5ECF6\",\"polar\":{\"angularaxis\":{\"gridcolor\":\"white\",\"linecolor\":\"white\",\"ticks\":\"\"},\"bgcolor\":\"#E5ECF6\",\"radialaxis\":{\"gridcolor\":\"white\",\"linecolor\":\"white\",\"ticks\":\"\"}},\"scene\":{\"xaxis\":{\"backgroundcolor\":\"#E5ECF6\",\"gridcolor\":\"white\",\"gridwidth\":2,\"linecolor\":\"white\",\"showbackground\":true,\"ticks\":\"\",\"zerolinecolor\":\"white\"},\"yaxis\":{\"backgroundcolor\":\"#E5ECF6\",\"gridcolor\":\"white\",\"gridwidth\":2,\"linecolor\":\"white\",\"showbackground\":true,\"ticks\":\"\",\"zerolinecolor\":\"white\"},\"zaxis\":{\"backgroundcolor\":\"#E5ECF6\",\"gridcolor\":\"white\",\"gridwidth\":2,\"linecolor\":\"white\",\"showbackground\":true,\"ticks\":\"\",\"zerolinecolor\":\"white\"}},\"shapedefaults\":{\"line\":{\"color\":\"#2a3f5f\"}},\"ternary\":{\"aaxis\":{\"gridcolor\":\"white\",\"linecolor\":\"white\",\"ticks\":\"\"},\"baxis\":{\"gridcolor\":\"white\",\"linecolor\":\"white\",\"ticks\":\"\"},\"bgcolor\":\"#E5ECF6\",\"caxis\":{\"gridcolor\":\"white\",\"linecolor\":\"white\",\"ticks\":\"\"}},\"title\":{\"x\":0.05},\"xaxis\":{\"automargin\":true,\"gridcolor\":\"white\",\"linecolor\":\"white\",\"ticks\":\"\",\"title\":{\"standoff\":15},\"zerolinecolor\":\"white\",\"zerolinewidth\":2},\"yaxis\":{\"automargin\":true,\"gridcolor\":\"white\",\"linecolor\":\"white\",\"ticks\":\"\",\"title\":{\"standoff\":15},\"zerolinecolor\":\"white\",\"zerolinewidth\":2}}},\"title\":{\"text\":\"Days from peak\"},\"xaxis\":{\"anchor\":\"y\",\"domain\":[0.0,1.0],\"title\":{\"text\":\"days_from_peak\"}},\"yaxis\":{\"anchor\":\"x\",\"domain\":[0.0,1.0],\"title\":{\"text\":\"num_mentions_stock\"}}},                        {\"responsive\": true}                    ).then(function(){\n",
       "                            \n",
       "var gd = document.getElementById('9363de70-75b0-41aa-a66a-ae623d69445e');\n",
       "var x = new MutationObserver(function (mutations, observer) {{\n",
       "        var display = window.getComputedStyle(gd).display;\n",
       "        if (!display || display === 'none') {{\n",
       "            console.log([gd, 'removed!']);\n",
       "            Plotly.purge(gd);\n",
       "            observer.disconnect();\n",
       "        }}\n",
       "}});\n",
       "\n",
       "// Listen for the removal of the full notebook cells\n",
       "var notebookContainer = gd.closest('#notebook-container');\n",
       "if (notebookContainer) {{\n",
       "    x.observe(notebookContainer, {childList: true});\n",
       "}}\n",
       "\n",
       "// Listen for the clearing of the current output cell\n",
       "var outputEl = gd.closest('.output');\n",
       "if (outputEl) {{\n",
       "    x.observe(outputEl, {childList: true});\n",
       "}}\n",
       "\n",
       "                        })                };                });            </script>        </div>"
      ]
     },
     "metadata": {},
     "output_type": "display_data"
    }
   ],
   "source": [
    "fig = px.line(tmp2[tmp2['symbol'].isin(top_symbols_alltime[0:10])].sort_values('day', ascending=False), \n",
    "              x=\"days_from_peak\", y=\"num_mentions_stock\", line_group=\"symbol\", color=\"symbol\",\n",
    "              title=\"Days from peak\")\n",
    "fig.show()"
   ]
  }
 ],
 "metadata": {
  "kernelspec": {
   "display_name": "Python 3",
   "language": "python",
   "name": "python3"
  },
  "language_info": {
   "codemirror_mode": {
    "name": "ipython",
    "version": 3
   },
   "file_extension": ".py",
   "mimetype": "text/x-python",
   "name": "python",
   "nbconvert_exporter": "python",
   "pygments_lexer": "ipython3",
   "version": "3.8.7"
  }
 },
 "nbformat": 4,
 "nbformat_minor": 5
}
