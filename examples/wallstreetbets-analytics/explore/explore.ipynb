{
 "cells": [
  {
   "cell_type": "code",
   "execution_count": 51,
   "id": "67b7d2f9",
   "metadata": {},
   "outputs": [],
   "source": [
    "import beneath\n",
    "import pandas as pd\n",
    "import plotly.express as px\n",
    "import plotly.graph_objects as go\n",
    "import chart_studio.plotly as py\n",
    "from datetime import datetime, timedelta\n",
    "\n",
    "from config import BLACKLIST, MODERATORS\n",
    "from layout import make_layout"
   ]
  },
  {
   "cell_type": "code",
   "execution_count": 2,
   "id": "b9d4cdf2",
   "metadata": {},
   "outputs": [],
   "source": [
    "# August report\n",
    "MONTH_NUMBER=8"
   ]
  },
  {
   "cell_type": "markdown",
   "id": "d51e55f3",
   "metadata": {},
   "source": [
    "Find number of stocks w/ at least 3 mentions in a day"
   ]
  },
  {
   "cell_type": "code",
   "execution_count": null,
   "id": "db75771e",
   "metadata": {},
   "outputs": [],
   "source": [
    "debates_per_day = await beneath.query_warehouse(\"\"\"\n",
    "with \n",
    "    daily_mentions as (\n",
    "        select timestamp_trunc(timestamp, day) as date, symbol, count(*) as num_mentions\n",
    "        from `examples/wallstreetbets_analytics/r_wallstreetbets_comments_stock_mentions`\n",
    "        group by timestamp_trunc(timestamp, day), symbol\n",
    "    ),\n",
    "    daily_totals as (\n",
    "        select date, count(*) as count\n",
    "        from daily_mentions\n",
    "        where num_mentions >= 3\n",
    "        group by date\n",
    "    )\n",
    "SELECT percentiles[offset(25)], percentiles[offset(50)], percentiles[offset(75)]\n",
    "FROM (SELECT APPROX_QUANTILES(count, 100) percentiles FROM daily_totals)\n",
    "\"\"\")"
   ]
  },
  {
   "cell_type": "markdown",
   "id": "611bc89d",
   "metadata": {},
   "source": [
    "# Stock mentions"
   ]
  },
  {
   "cell_type": "code",
   "execution_count": 3,
   "id": "df72a6cc",
   "metadata": {},
   "outputs": [],
   "source": [
    "stocks = await beneath.query_warehouse(\"\"\"\n",
    "with\n",
    "    stock_mentions_posts as (\n",
    "        select \n",
    "            symbol, \n",
    "            timestamp_trunc(timestamp, day) as day, \n",
    "            count(*) as num_mentions\n",
    "        from `examples/wallstreetbets-analytics/r-wallstreetbets-posts-stock-mentions`\n",
    "        group by symbol, timestamp_trunc(timestamp, day)\n",
    "    ),\n",
    "    stock_mentions_comments as (\n",
    "        select \n",
    "            symbol, \n",
    "            timestamp_trunc(timestamp, day) as day, \n",
    "            count(*) as num_mentions\n",
    "        from `examples/wallstreetbets-analytics/r-wallstreetbets-comments-stock-mentions`\n",
    "        group by symbol, timestamp_trunc(timestamp, day)\n",
    "    ),\n",
    "    mentions as (\n",
    "        select \n",
    "            coalesce(p.symbol, c.symbol) as symbol,\n",
    "            coalesce(p.day, c.day) as day,\n",
    "            ifnull(p.num_mentions, 0) + ifnull(c.num_mentions,0) as num_mentions\n",
    "        from stock_mentions_posts p\n",
    "        full join stock_mentions_comments c on p.symbol = c.symbol and p.day = c.day\n",
    "    )\n",
    "select m.symbol, m.day, m.num_mentions, p.close\n",
    "from mentions m\n",
    "left join `examples/wallstreetbets-analytics/stock_prices_daily` p on m.symbol = p.symbol and m.day = p.date\n",
    "order by symbol, day\n",
    "\"\"\")"
   ]
  },
  {
   "cell_type": "markdown",
   "id": "d12839b8",
   "metadata": {},
   "source": [
    "A bit of feature engineering"
   ]
  },
  {
   "cell_type": "code",
   "execution_count": 4,
   "id": "93b839ce",
   "metadata": {},
   "outputs": [],
   "source": [
    "# filter out blacklist\n",
    "stocks = stocks[~stocks['symbol'].isin(BLACKLIST)]\n",
    "\n",
    "# get the fraction of all mentions in the day (important to do this after applying the blacklist)\n",
    "mentions_daily = stocks.groupby('day')['num_mentions'].sum().reset_index()\n",
    "stocks = stocks \\\n",
    "    .merge(mentions_daily, on=\"day\", suffixes=('_stock', '_total')) \\\n",
    "    .sort_values(['symbol','day'])\n",
    "stocks['fraction_of_mentions'] = stocks['num_mentions_stock'] / stocks['num_mentions_total']\n",
    "stocks['fraction_of_mentions_MA'] = stocks.groupby('symbol')['fraction_of_mentions'] \\\n",
    "                                    .transform(lambda x: x.rolling(window=7, min_periods=1).mean())\n",
    "\n",
    "# get the date of peak popularity\n",
    "symbol_peaks = stocks.loc[stocks.groupby(['symbol'])[\"fraction_of_mentions_MA\"].idxmax()][['symbol', 'day']] \\\n",
    "    .rename(columns={'day': 'date_of_peak_popularity'})\n",
    "stocks = stocks.merge(symbol_peaks, on='symbol')\n",
    "stocks['days_from_peak'] = (stocks['day'] - stocks['date_of_peak_popularity']).dt.days\n",
    "\n",
    "# keep track of the top symbols\n",
    "top_symbols_alltime_df = stocks \\\n",
    "    .groupby('symbol')['num_mentions_stock'] \\\n",
    "    .sum() \\\n",
    "    .reset_index() \\\n",
    "    .sort_values('num_mentions_stock', ascending=False)\n",
    "top_symbols_alltime = top_symbols_alltime_df['symbol'][:500]\n",
    "top_symbols_month_df = stocks.loc[stocks['day'].dt.month == MONTH_NUMBER] \\\n",
    "    .groupby('symbol')['num_mentions_stock'] \\\n",
    "    .sum() \\\n",
    "    .reset_index() \\\n",
    "    .sort_values('num_mentions_stock', ascending=False)\n",
    "top_symbols_month = top_symbols_month_df['symbol'][:100]"
   ]
  },
  {
   "cell_type": "code",
   "execution_count": 5,
   "id": "c49b09ee",
   "metadata": {},
   "outputs": [
    {
     "name": "stdout",
     "output_type": "stream",
     "text": [
      "INFO:beneath:Flushed 500 records to 1 instances (500 total during session)\n"
     ]
    }
   ],
   "source": [
    "# save top symbols so they're searchable in my web dashboard\n",
    "await beneath.write_full(\n",
    "    table_path=\"examples/wallstreetbets-analytics/top_symbols_alltime\",\n",
    "    records=top_symbols_alltime_df.rename(columns={'num_mentions_stock': 'num_mentions'})[:500],\n",
    "    key=\"symbol\",\n",
    "    description=\"Top 500 symbols of alltime (as of August 30th, 2021)\",\n",
    "    recreate_on_schema_change=True,\n",
    ")"
   ]
  },
  {
   "cell_type": "code",
   "execution_count": 6,
   "id": "8bb004ae",
   "metadata": {},
   "outputs": [],
   "source": [
    "# assign colors to symbols used in blogpost, for consistency across graphs\n",
    "symbols_in_blogpost = top_symbols_month[0:10].tolist()\n",
    "colors = px.colors.qualitative.Plotly\n",
    "blogpost_colors = dict(zip(symbols_in_blogpost, colors))"
   ]
  },
  {
   "cell_type": "markdown",
   "id": "184ad9ee",
   "metadata": {},
   "source": [
    "## Top symbols of August"
   ]
  },
  {
   "cell_type": "code",
   "execution_count": 71,
   "id": "6f287b28",
   "metadata": {},
   "outputs": [
    {
     "data": {
      "application/vnd.plotly.v1+json": {
       "config": {
        "plotlyServerURL": "https://plotly.com"
       },
       "data": [
        {
         "alignmentgroup": "True",
         "hovertemplate": "Symbol=%{y}<br>Mentions=%{text}<extra></extra>",
         "legendgroup": "GME",
         "marker": {
          "color": "#636EFA",
          "line": {
           "width": 0
          },
          "pattern": {
           "shape": ""
          }
         },
         "name": "GME",
         "offsetgroup": "GME",
         "orientation": "h",
         "showlegend": true,
         "text": [
          "10794"
         ],
         "textposition": "auto",
         "type": "bar",
         "x": [
          10794
         ],
         "xaxis": "x",
         "y": [
          "GME"
         ],
         "yaxis": "y"
        },
        {
         "alignmentgroup": "True",
         "hovertemplate": "Symbol=%{y}<br>Mentions=%{text}<extra></extra>",
         "legendgroup": "AMC",
         "marker": {
          "color": "#EF553B",
          "line": {
           "width": 0
          },
          "pattern": {
           "shape": ""
          }
         },
         "name": "AMC",
         "offsetgroup": "AMC",
         "orientation": "h",
         "showlegend": true,
         "text": [
          "7813"
         ],
         "textposition": "auto",
         "type": "bar",
         "x": [
          7813
         ],
         "xaxis": "x",
         "y": [
          "AMC"
         ],
         "yaxis": "y"
        },
        {
         "alignmentgroup": "True",
         "hovertemplate": "Symbol=%{y}<br>Mentions=%{text}<extra></extra>",
         "legendgroup": "HOOD",
         "marker": {
          "color": "#00CC96",
          "line": {
           "width": 0
          },
          "pattern": {
           "shape": ""
          }
         },
         "name": "HOOD",
         "offsetgroup": "HOOD",
         "orientation": "h",
         "showlegend": true,
         "text": [
          "7713"
         ],
         "textposition": "auto",
         "type": "bar",
         "x": [
          7713
         ],
         "xaxis": "x",
         "y": [
          "HOOD"
         ],
         "yaxis": "y"
        },
        {
         "alignmentgroup": "True",
         "hovertemplate": "Symbol=%{y}<br>Mentions=%{text}<extra></extra>",
         "legendgroup": "CLOV",
         "marker": {
          "color": "#AB63FA",
          "line": {
           "width": 0
          },
          "pattern": {
           "shape": ""
          }
         },
         "name": "CLOV",
         "offsetgroup": "CLOV",
         "orientation": "h",
         "showlegend": true,
         "text": [
          "6884"
         ],
         "textposition": "auto",
         "type": "bar",
         "x": [
          6884
         ],
         "xaxis": "x",
         "y": [
          "CLOV"
         ],
         "yaxis": "y"
        },
        {
         "alignmentgroup": "True",
         "hovertemplate": "Symbol=%{y}<br>Mentions=%{text}<extra></extra>",
         "legendgroup": "MVST",
         "marker": {
          "color": "#FFA15A",
          "line": {
           "width": 0
          },
          "pattern": {
           "shape": ""
          }
         },
         "name": "MVST",
         "offsetgroup": "MVST",
         "orientation": "h",
         "showlegend": true,
         "text": [
          "5494"
         ],
         "textposition": "auto",
         "type": "bar",
         "x": [
          5494
         ],
         "xaxis": "x",
         "y": [
          "MVST"
         ],
         "yaxis": "y"
        },
        {
         "alignmentgroup": "True",
         "hovertemplate": "Symbol=%{y}<br>Mentions=%{text}<extra></extra>",
         "legendgroup": "AMD",
         "marker": {
          "color": "#19D3F3",
          "line": {
           "width": 0
          },
          "pattern": {
           "shape": ""
          }
         },
         "name": "AMD",
         "offsetgroup": "AMD",
         "orientation": "h",
         "showlegend": true,
         "text": [
          "4887"
         ],
         "textposition": "auto",
         "type": "bar",
         "x": [
          4887
         ],
         "xaxis": "x",
         "y": [
          "AMD"
         ],
         "yaxis": "y"
        },
        {
         "alignmentgroup": "True",
         "hovertemplate": "Symbol=%{y}<br>Mentions=%{text}<extra></extra>",
         "legendgroup": "BABA",
         "marker": {
          "color": "#FF6692",
          "line": {
           "width": 0
          },
          "pattern": {
           "shape": ""
          }
         },
         "name": "BABA",
         "offsetgroup": "BABA",
         "orientation": "h",
         "showlegend": true,
         "text": [
          "4572"
         ],
         "textposition": "auto",
         "type": "bar",
         "x": [
          4572
         ],
         "xaxis": "x",
         "y": [
          "BABA"
         ],
         "yaxis": "y"
        },
        {
         "alignmentgroup": "True",
         "hovertemplate": "Symbol=%{y}<br>Mentions=%{text}<extra></extra>",
         "legendgroup": "PLTR",
         "marker": {
          "color": "#B6E880",
          "line": {
           "width": 0
          },
          "pattern": {
           "shape": ""
          }
         },
         "name": "PLTR",
         "offsetgroup": "PLTR",
         "orientation": "h",
         "showlegend": true,
         "text": [
          "4383"
         ],
         "textposition": "auto",
         "type": "bar",
         "x": [
          4383
         ],
         "xaxis": "x",
         "y": [
          "PLTR"
         ],
         "yaxis": "y"
        },
        {
         "alignmentgroup": "True",
         "hovertemplate": "Symbol=%{y}<br>Mentions=%{text}<extra></extra>",
         "legendgroup": "WISH",
         "marker": {
          "color": "#FF97FF",
          "line": {
           "width": 0
          },
          "pattern": {
           "shape": ""
          }
         },
         "name": "WISH",
         "offsetgroup": "WISH",
         "orientation": "h",
         "showlegend": true,
         "text": [
          "4310"
         ],
         "textposition": "auto",
         "type": "bar",
         "x": [
          4310
         ],
         "xaxis": "x",
         "y": [
          "WISH"
         ],
         "yaxis": "y"
        },
        {
         "alignmentgroup": "True",
         "hovertemplate": "Symbol=%{y}<br>Mentions=%{text}<extra></extra>",
         "legendgroup": "MRNA",
         "marker": {
          "color": "#FECB52",
          "line": {
           "width": 0
          },
          "pattern": {
           "shape": ""
          }
         },
         "name": "MRNA",
         "offsetgroup": "MRNA",
         "orientation": "h",
         "showlegend": true,
         "text": [
          "3240"
         ],
         "textposition": "auto",
         "type": "bar",
         "x": [
          3240
         ],
         "xaxis": "x",
         "y": [
          "MRNA"
         ],
         "yaxis": "y"
        }
       ],
       "layout": {
        "annotations": [
         {
          "align": "right",
          "height": 40,
          "showarrow": false,
          "text": "<a style=\"color: rgb(100, 130, 180);\" href=\"https://beneath.dev/\">beneath.dev</a>",
          "x": 1,
          "xanchor": "right",
          "xref": "paper",
          "y": 1,
          "yanchor": "bottom",
          "yref": "paper",
          "yshift": 13
         },
         {
          "align": "left",
          "font": {
           "size": 12
          },
          "height": 16,
          "showarrow": false,
          "text": "Number of mentions in posts and comments",
          "x": 0,
          "xanchor": "left",
          "xref": "paper",
          "y": 1,
          "yanchor": "bottom",
          "yref": "paper",
          "yshift": 13
         },
         {
          "align": "left",
          "font": {
           "size": 18
          },
          "height": 24,
          "showarrow": false,
          "text": "<b>Top 10 Most Discussed Symbols in August</b>",
          "x": 0,
          "xanchor": "left",
          "xref": "paper",
          "y": 1,
          "yanchor": "bottom",
          "yref": "paper",
          "yshift": 29
         }
        ],
        "bargap": 0,
        "barmode": "relative",
        "colorway": [
         "rgb(60, 170, 255)",
         "rgb(255, 60, 130)",
         "rgb(100, 200, 100)",
         "rgb(200, 220, 240)",
         "rgb(251, 241, 67)",
         "rgb(203, 60, 255)",
         "rgb(249, 148, 66)",
         "rgb(36, 130, 36)",
         "rgb(238, 255, 234)"
        ],
        "dragmode": "select",
        "font": {
         "color": "#e1e1e1",
         "family": "SFMono-Regular,Menlo,Monaco,Consolas,Liberation Mono,Courier,monospace"
        },
        "legend": {
         "title": {
          "text": "Symbol"
         },
         "tracegroupgap": 0
        },
        "margin": {
         "autoexpand": true,
         "b": 30,
         "l": 35,
         "r": 20,
         "t": 68
        },
        "paper_bgcolor": "#1b2442",
        "plot_bgcolor": "#1b2442",
        "showlegend": false,
        "template": {
         "data": {
          "bar": [
           {
            "error_x": {
             "color": "#2a3f5f"
            },
            "error_y": {
             "color": "#2a3f5f"
            },
            "marker": {
             "line": {
              "color": "#E5ECF6",
              "width": 0.5
             },
             "pattern": {
              "fillmode": "overlay",
              "size": 10,
              "solidity": 0.2
             }
            },
            "type": "bar"
           }
          ],
          "barpolar": [
           {
            "marker": {
             "line": {
              "color": "#E5ECF6",
              "width": 0.5
             },
             "pattern": {
              "fillmode": "overlay",
              "size": 10,
              "solidity": 0.2
             }
            },
            "type": "barpolar"
           }
          ],
          "carpet": [
           {
            "aaxis": {
             "endlinecolor": "#2a3f5f",
             "gridcolor": "white",
             "linecolor": "white",
             "minorgridcolor": "white",
             "startlinecolor": "#2a3f5f"
            },
            "baxis": {
             "endlinecolor": "#2a3f5f",
             "gridcolor": "white",
             "linecolor": "white",
             "minorgridcolor": "white",
             "startlinecolor": "#2a3f5f"
            },
            "type": "carpet"
           }
          ],
          "choropleth": [
           {
            "colorbar": {
             "outlinewidth": 0,
             "ticks": ""
            },
            "type": "choropleth"
           }
          ],
          "contour": [
           {
            "colorbar": {
             "outlinewidth": 0,
             "ticks": ""
            },
            "colorscale": [
             [
              0,
              "#0d0887"
             ],
             [
              0.1111111111111111,
              "#46039f"
             ],
             [
              0.2222222222222222,
              "#7201a8"
             ],
             [
              0.3333333333333333,
              "#9c179e"
             ],
             [
              0.4444444444444444,
              "#bd3786"
             ],
             [
              0.5555555555555556,
              "#d8576b"
             ],
             [
              0.6666666666666666,
              "#ed7953"
             ],
             [
              0.7777777777777778,
              "#fb9f3a"
             ],
             [
              0.8888888888888888,
              "#fdca26"
             ],
             [
              1,
              "#f0f921"
             ]
            ],
            "type": "contour"
           }
          ],
          "contourcarpet": [
           {
            "colorbar": {
             "outlinewidth": 0,
             "ticks": ""
            },
            "type": "contourcarpet"
           }
          ],
          "heatmap": [
           {
            "colorbar": {
             "outlinewidth": 0,
             "ticks": ""
            },
            "colorscale": [
             [
              0,
              "#0d0887"
             ],
             [
              0.1111111111111111,
              "#46039f"
             ],
             [
              0.2222222222222222,
              "#7201a8"
             ],
             [
              0.3333333333333333,
              "#9c179e"
             ],
             [
              0.4444444444444444,
              "#bd3786"
             ],
             [
              0.5555555555555556,
              "#d8576b"
             ],
             [
              0.6666666666666666,
              "#ed7953"
             ],
             [
              0.7777777777777778,
              "#fb9f3a"
             ],
             [
              0.8888888888888888,
              "#fdca26"
             ],
             [
              1,
              "#f0f921"
             ]
            ],
            "type": "heatmap"
           }
          ],
          "heatmapgl": [
           {
            "colorbar": {
             "outlinewidth": 0,
             "ticks": ""
            },
            "colorscale": [
             [
              0,
              "#0d0887"
             ],
             [
              0.1111111111111111,
              "#46039f"
             ],
             [
              0.2222222222222222,
              "#7201a8"
             ],
             [
              0.3333333333333333,
              "#9c179e"
             ],
             [
              0.4444444444444444,
              "#bd3786"
             ],
             [
              0.5555555555555556,
              "#d8576b"
             ],
             [
              0.6666666666666666,
              "#ed7953"
             ],
             [
              0.7777777777777778,
              "#fb9f3a"
             ],
             [
              0.8888888888888888,
              "#fdca26"
             ],
             [
              1,
              "#f0f921"
             ]
            ],
            "type": "heatmapgl"
           }
          ],
          "histogram": [
           {
            "marker": {
             "pattern": {
              "fillmode": "overlay",
              "size": 10,
              "solidity": 0.2
             }
            },
            "type": "histogram"
           }
          ],
          "histogram2d": [
           {
            "colorbar": {
             "outlinewidth": 0,
             "ticks": ""
            },
            "colorscale": [
             [
              0,
              "#0d0887"
             ],
             [
              0.1111111111111111,
              "#46039f"
             ],
             [
              0.2222222222222222,
              "#7201a8"
             ],
             [
              0.3333333333333333,
              "#9c179e"
             ],
             [
              0.4444444444444444,
              "#bd3786"
             ],
             [
              0.5555555555555556,
              "#d8576b"
             ],
             [
              0.6666666666666666,
              "#ed7953"
             ],
             [
              0.7777777777777778,
              "#fb9f3a"
             ],
             [
              0.8888888888888888,
              "#fdca26"
             ],
             [
              1,
              "#f0f921"
             ]
            ],
            "type": "histogram2d"
           }
          ],
          "histogram2dcontour": [
           {
            "colorbar": {
             "outlinewidth": 0,
             "ticks": ""
            },
            "colorscale": [
             [
              0,
              "#0d0887"
             ],
             [
              0.1111111111111111,
              "#46039f"
             ],
             [
              0.2222222222222222,
              "#7201a8"
             ],
             [
              0.3333333333333333,
              "#9c179e"
             ],
             [
              0.4444444444444444,
              "#bd3786"
             ],
             [
              0.5555555555555556,
              "#d8576b"
             ],
             [
              0.6666666666666666,
              "#ed7953"
             ],
             [
              0.7777777777777778,
              "#fb9f3a"
             ],
             [
              0.8888888888888888,
              "#fdca26"
             ],
             [
              1,
              "#f0f921"
             ]
            ],
            "type": "histogram2dcontour"
           }
          ],
          "mesh3d": [
           {
            "colorbar": {
             "outlinewidth": 0,
             "ticks": ""
            },
            "type": "mesh3d"
           }
          ],
          "parcoords": [
           {
            "line": {
             "colorbar": {
              "outlinewidth": 0,
              "ticks": ""
             }
            },
            "type": "parcoords"
           }
          ],
          "pie": [
           {
            "automargin": true,
            "type": "pie"
           }
          ],
          "scatter": [
           {
            "marker": {
             "colorbar": {
              "outlinewidth": 0,
              "ticks": ""
             }
            },
            "type": "scatter"
           }
          ],
          "scatter3d": [
           {
            "line": {
             "colorbar": {
              "outlinewidth": 0,
              "ticks": ""
             }
            },
            "marker": {
             "colorbar": {
              "outlinewidth": 0,
              "ticks": ""
             }
            },
            "type": "scatter3d"
           }
          ],
          "scattercarpet": [
           {
            "marker": {
             "colorbar": {
              "outlinewidth": 0,
              "ticks": ""
             }
            },
            "type": "scattercarpet"
           }
          ],
          "scattergeo": [
           {
            "marker": {
             "colorbar": {
              "outlinewidth": 0,
              "ticks": ""
             }
            },
            "type": "scattergeo"
           }
          ],
          "scattergl": [
           {
            "marker": {
             "colorbar": {
              "outlinewidth": 0,
              "ticks": ""
             }
            },
            "type": "scattergl"
           }
          ],
          "scattermapbox": [
           {
            "marker": {
             "colorbar": {
              "outlinewidth": 0,
              "ticks": ""
             }
            },
            "type": "scattermapbox"
           }
          ],
          "scatterpolar": [
           {
            "marker": {
             "colorbar": {
              "outlinewidth": 0,
              "ticks": ""
             }
            },
            "type": "scatterpolar"
           }
          ],
          "scatterpolargl": [
           {
            "marker": {
             "colorbar": {
              "outlinewidth": 0,
              "ticks": ""
             }
            },
            "type": "scatterpolargl"
           }
          ],
          "scatterternary": [
           {
            "marker": {
             "colorbar": {
              "outlinewidth": 0,
              "ticks": ""
             }
            },
            "type": "scatterternary"
           }
          ],
          "surface": [
           {
            "colorbar": {
             "outlinewidth": 0,
             "ticks": ""
            },
            "colorscale": [
             [
              0,
              "#0d0887"
             ],
             [
              0.1111111111111111,
              "#46039f"
             ],
             [
              0.2222222222222222,
              "#7201a8"
             ],
             [
              0.3333333333333333,
              "#9c179e"
             ],
             [
              0.4444444444444444,
              "#bd3786"
             ],
             [
              0.5555555555555556,
              "#d8576b"
             ],
             [
              0.6666666666666666,
              "#ed7953"
             ],
             [
              0.7777777777777778,
              "#fb9f3a"
             ],
             [
              0.8888888888888888,
              "#fdca26"
             ],
             [
              1,
              "#f0f921"
             ]
            ],
            "type": "surface"
           }
          ],
          "table": [
           {
            "cells": {
             "fill": {
              "color": "#EBF0F8"
             },
             "line": {
              "color": "white"
             }
            },
            "header": {
             "fill": {
              "color": "#C8D4E3"
             },
             "line": {
              "color": "white"
             }
            },
            "type": "table"
           }
          ]
         },
         "layout": {
          "annotationdefaults": {
           "arrowcolor": "#2a3f5f",
           "arrowhead": 0,
           "arrowwidth": 1
          },
          "autotypenumbers": "strict",
          "coloraxis": {
           "colorbar": {
            "outlinewidth": 0,
            "ticks": ""
           }
          },
          "colorscale": {
           "diverging": [
            [
             0,
             "#8e0152"
            ],
            [
             0.1,
             "#c51b7d"
            ],
            [
             0.2,
             "#de77ae"
            ],
            [
             0.3,
             "#f1b6da"
            ],
            [
             0.4,
             "#fde0ef"
            ],
            [
             0.5,
             "#f7f7f7"
            ],
            [
             0.6,
             "#e6f5d0"
            ],
            [
             0.7,
             "#b8e186"
            ],
            [
             0.8,
             "#7fbc41"
            ],
            [
             0.9,
             "#4d9221"
            ],
            [
             1,
             "#276419"
            ]
           ],
           "sequential": [
            [
             0,
             "#0d0887"
            ],
            [
             0.1111111111111111,
             "#46039f"
            ],
            [
             0.2222222222222222,
             "#7201a8"
            ],
            [
             0.3333333333333333,
             "#9c179e"
            ],
            [
             0.4444444444444444,
             "#bd3786"
            ],
            [
             0.5555555555555556,
             "#d8576b"
            ],
            [
             0.6666666666666666,
             "#ed7953"
            ],
            [
             0.7777777777777778,
             "#fb9f3a"
            ],
            [
             0.8888888888888888,
             "#fdca26"
            ],
            [
             1,
             "#f0f921"
            ]
           ],
           "sequentialminus": [
            [
             0,
             "#0d0887"
            ],
            [
             0.1111111111111111,
             "#46039f"
            ],
            [
             0.2222222222222222,
             "#7201a8"
            ],
            [
             0.3333333333333333,
             "#9c179e"
            ],
            [
             0.4444444444444444,
             "#bd3786"
            ],
            [
             0.5555555555555556,
             "#d8576b"
            ],
            [
             0.6666666666666666,
             "#ed7953"
            ],
            [
             0.7777777777777778,
             "#fb9f3a"
            ],
            [
             0.8888888888888888,
             "#fdca26"
            ],
            [
             1,
             "#f0f921"
            ]
           ]
          },
          "colorway": [
           "#636efa",
           "#EF553B",
           "#00cc96",
           "#ab63fa",
           "#FFA15A",
           "#19d3f3",
           "#FF6692",
           "#B6E880",
           "#FF97FF",
           "#FECB52"
          ],
          "font": {
           "color": "#2a3f5f"
          },
          "geo": {
           "bgcolor": "white",
           "lakecolor": "white",
           "landcolor": "#E5ECF6",
           "showlakes": true,
           "showland": true,
           "subunitcolor": "white"
          },
          "hoverlabel": {
           "align": "left"
          },
          "hovermode": "closest",
          "mapbox": {
           "style": "light"
          },
          "paper_bgcolor": "white",
          "plot_bgcolor": "#E5ECF6",
          "polar": {
           "angularaxis": {
            "gridcolor": "white",
            "linecolor": "white",
            "ticks": ""
           },
           "bgcolor": "#E5ECF6",
           "radialaxis": {
            "gridcolor": "white",
            "linecolor": "white",
            "ticks": ""
           }
          },
          "scene": {
           "xaxis": {
            "backgroundcolor": "#E5ECF6",
            "gridcolor": "white",
            "gridwidth": 2,
            "linecolor": "white",
            "showbackground": true,
            "ticks": "",
            "zerolinecolor": "white"
           },
           "yaxis": {
            "backgroundcolor": "#E5ECF6",
            "gridcolor": "white",
            "gridwidth": 2,
            "linecolor": "white",
            "showbackground": true,
            "ticks": "",
            "zerolinecolor": "white"
           },
           "zaxis": {
            "backgroundcolor": "#E5ECF6",
            "gridcolor": "white",
            "gridwidth": 2,
            "linecolor": "white",
            "showbackground": true,
            "ticks": "",
            "zerolinecolor": "white"
           }
          },
          "shapedefaults": {
           "line": {
            "color": "#2a3f5f"
           }
          },
          "ternary": {
           "aaxis": {
            "gridcolor": "white",
            "linecolor": "white",
            "ticks": ""
           },
           "baxis": {
            "gridcolor": "white",
            "linecolor": "white",
            "ticks": ""
           },
           "bgcolor": "#E5ECF6",
           "caxis": {
            "gridcolor": "white",
            "linecolor": "white",
            "ticks": ""
           }
          },
          "title": {
           "x": 0.05
          },
          "xaxis": {
           "automargin": true,
           "gridcolor": "white",
           "linecolor": "white",
           "ticks": "",
           "title": {
            "standoff": 15
           },
           "zerolinecolor": "white",
           "zerolinewidth": 2
          },
          "yaxis": {
           "automargin": true,
           "gridcolor": "white",
           "linecolor": "white",
           "ticks": "",
           "title": {
            "standoff": 15
           },
           "zerolinecolor": "white",
           "zerolinewidth": 2
          }
         }
        },
        "title": {
         "font": {
          "color": "#1b2442",
          "size": 1
         },
         "text": "Top 10 Most Discussed Symbols in August"
        },
        "xaxis": {
         "anchor": "y",
         "domain": [
          0,
          1
         ],
         "gridcolor": "rgb(44, 53, 72)",
         "title": {
          "text": "Mentions"
         },
         "zeroline": false,
         "zerolinecolor": "#e1e1e1"
        },
        "yaxis": {
         "anchor": "x",
         "categoryarray": [
          "MRNA",
          "WISH",
          "PLTR",
          "BABA",
          "AMD",
          "MVST",
          "CLOV",
          "HOOD",
          "AMC",
          "GME"
         ],
         "categoryorder": "array",
         "domain": [
          0,
          1
         ],
         "gridcolor": "rgb(44, 53, 72)",
         "title": {
          "text": ""
         },
         "zerolinecolor": "#e1e1e1"
        }
       }
      },
      "text/html": [
       "<div>                            <div id=\"75e15bd5-066d-4a8a-926a-992e0ec27926\" class=\"plotly-graph-div\" style=\"height:525px; width:100%;\"></div>            <script type=\"text/javascript\">                require([\"plotly\"], function(Plotly) {                    window.PLOTLYENV=window.PLOTLYENV || {};                                    if (document.getElementById(\"75e15bd5-066d-4a8a-926a-992e0ec27926\")) {                    Plotly.newPlot(                        \"75e15bd5-066d-4a8a-926a-992e0ec27926\",                        [{\"alignmentgroup\":\"True\",\"hovertemplate\":\"Symbol=%{y}<br>Mentions=%{text}<extra></extra>\",\"legendgroup\":\"GME\",\"marker\":{\"color\":\"#636EFA\",\"line\":{\"width\":0},\"pattern\":{\"shape\":\"\"}},\"name\":\"GME\",\"offsetgroup\":\"GME\",\"orientation\":\"h\",\"showlegend\":true,\"text\":[\"10794\"],\"textposition\":\"auto\",\"type\":\"bar\",\"x\":[10794],\"xaxis\":\"x\",\"y\":[\"GME\"],\"yaxis\":\"y\"},{\"alignmentgroup\":\"True\",\"hovertemplate\":\"Symbol=%{y}<br>Mentions=%{text}<extra></extra>\",\"legendgroup\":\"AMC\",\"marker\":{\"color\":\"#EF553B\",\"line\":{\"width\":0},\"pattern\":{\"shape\":\"\"}},\"name\":\"AMC\",\"offsetgroup\":\"AMC\",\"orientation\":\"h\",\"showlegend\":true,\"text\":[\"7813\"],\"textposition\":\"auto\",\"type\":\"bar\",\"x\":[7813],\"xaxis\":\"x\",\"y\":[\"AMC\"],\"yaxis\":\"y\"},{\"alignmentgroup\":\"True\",\"hovertemplate\":\"Symbol=%{y}<br>Mentions=%{text}<extra></extra>\",\"legendgroup\":\"HOOD\",\"marker\":{\"color\":\"#00CC96\",\"line\":{\"width\":0},\"pattern\":{\"shape\":\"\"}},\"name\":\"HOOD\",\"offsetgroup\":\"HOOD\",\"orientation\":\"h\",\"showlegend\":true,\"text\":[\"7713\"],\"textposition\":\"auto\",\"type\":\"bar\",\"x\":[7713],\"xaxis\":\"x\",\"y\":[\"HOOD\"],\"yaxis\":\"y\"},{\"alignmentgroup\":\"True\",\"hovertemplate\":\"Symbol=%{y}<br>Mentions=%{text}<extra></extra>\",\"legendgroup\":\"CLOV\",\"marker\":{\"color\":\"#AB63FA\",\"line\":{\"width\":0},\"pattern\":{\"shape\":\"\"}},\"name\":\"CLOV\",\"offsetgroup\":\"CLOV\",\"orientation\":\"h\",\"showlegend\":true,\"text\":[\"6884\"],\"textposition\":\"auto\",\"type\":\"bar\",\"x\":[6884],\"xaxis\":\"x\",\"y\":[\"CLOV\"],\"yaxis\":\"y\"},{\"alignmentgroup\":\"True\",\"hovertemplate\":\"Symbol=%{y}<br>Mentions=%{text}<extra></extra>\",\"legendgroup\":\"MVST\",\"marker\":{\"color\":\"#FFA15A\",\"line\":{\"width\":0},\"pattern\":{\"shape\":\"\"}},\"name\":\"MVST\",\"offsetgroup\":\"MVST\",\"orientation\":\"h\",\"showlegend\":true,\"text\":[\"5494\"],\"textposition\":\"auto\",\"type\":\"bar\",\"x\":[5494],\"xaxis\":\"x\",\"y\":[\"MVST\"],\"yaxis\":\"y\"},{\"alignmentgroup\":\"True\",\"hovertemplate\":\"Symbol=%{y}<br>Mentions=%{text}<extra></extra>\",\"legendgroup\":\"AMD\",\"marker\":{\"color\":\"#19D3F3\",\"line\":{\"width\":0},\"pattern\":{\"shape\":\"\"}},\"name\":\"AMD\",\"offsetgroup\":\"AMD\",\"orientation\":\"h\",\"showlegend\":true,\"text\":[\"4887\"],\"textposition\":\"auto\",\"type\":\"bar\",\"x\":[4887],\"xaxis\":\"x\",\"y\":[\"AMD\"],\"yaxis\":\"y\"},{\"alignmentgroup\":\"True\",\"hovertemplate\":\"Symbol=%{y}<br>Mentions=%{text}<extra></extra>\",\"legendgroup\":\"BABA\",\"marker\":{\"color\":\"#FF6692\",\"line\":{\"width\":0},\"pattern\":{\"shape\":\"\"}},\"name\":\"BABA\",\"offsetgroup\":\"BABA\",\"orientation\":\"h\",\"showlegend\":true,\"text\":[\"4572\"],\"textposition\":\"auto\",\"type\":\"bar\",\"x\":[4572],\"xaxis\":\"x\",\"y\":[\"BABA\"],\"yaxis\":\"y\"},{\"alignmentgroup\":\"True\",\"hovertemplate\":\"Symbol=%{y}<br>Mentions=%{text}<extra></extra>\",\"legendgroup\":\"PLTR\",\"marker\":{\"color\":\"#B6E880\",\"line\":{\"width\":0},\"pattern\":{\"shape\":\"\"}},\"name\":\"PLTR\",\"offsetgroup\":\"PLTR\",\"orientation\":\"h\",\"showlegend\":true,\"text\":[\"4383\"],\"textposition\":\"auto\",\"type\":\"bar\",\"x\":[4383],\"xaxis\":\"x\",\"y\":[\"PLTR\"],\"yaxis\":\"y\"},{\"alignmentgroup\":\"True\",\"hovertemplate\":\"Symbol=%{y}<br>Mentions=%{text}<extra></extra>\",\"legendgroup\":\"WISH\",\"marker\":{\"color\":\"#FF97FF\",\"line\":{\"width\":0},\"pattern\":{\"shape\":\"\"}},\"name\":\"WISH\",\"offsetgroup\":\"WISH\",\"orientation\":\"h\",\"showlegend\":true,\"text\":[\"4310\"],\"textposition\":\"auto\",\"type\":\"bar\",\"x\":[4310],\"xaxis\":\"x\",\"y\":[\"WISH\"],\"yaxis\":\"y\"},{\"alignmentgroup\":\"True\",\"hovertemplate\":\"Symbol=%{y}<br>Mentions=%{text}<extra></extra>\",\"legendgroup\":\"MRNA\",\"marker\":{\"color\":\"#FECB52\",\"line\":{\"width\":0},\"pattern\":{\"shape\":\"\"}},\"name\":\"MRNA\",\"offsetgroup\":\"MRNA\",\"orientation\":\"h\",\"showlegend\":true,\"text\":[\"3240\"],\"textposition\":\"auto\",\"type\":\"bar\",\"x\":[3240],\"xaxis\":\"x\",\"y\":[\"MRNA\"],\"yaxis\":\"y\"}],                        {\"annotations\":[{\"align\":\"right\",\"height\":40,\"showarrow\":false,\"text\":\"<a style=\\\"color: rgb(100, 130, 180);\\\" href=\\\"https://beneath.dev/\\\">beneath.dev</a>\",\"x\":1.0,\"xanchor\":\"right\",\"xref\":\"paper\",\"y\":1.0,\"yanchor\":\"bottom\",\"yref\":\"paper\",\"yshift\":13},{\"align\":\"left\",\"font\":{\"size\":12},\"height\":16,\"showarrow\":false,\"text\":\"Number of mentions in posts and comments\",\"x\":0.0,\"xanchor\":\"left\",\"xref\":\"paper\",\"y\":1.0,\"yanchor\":\"bottom\",\"yref\":\"paper\",\"yshift\":13},{\"align\":\"left\",\"font\":{\"size\":18},\"height\":24,\"showarrow\":false,\"text\":\"<b>Top 10 Most Discussed Symbols in August</b>\",\"x\":0.0,\"xanchor\":\"left\",\"xref\":\"paper\",\"y\":1.0,\"yanchor\":\"bottom\",\"yref\":\"paper\",\"yshift\":29}],\"bargap\":0,\"barmode\":\"relative\",\"colorway\":[\"rgb(60, 170, 255)\",\"rgb(255, 60, 130)\",\"rgb(100, 200, 100)\",\"rgb(200, 220, 240)\",\"rgb(251, 241, 67)\",\"rgb(203, 60, 255)\",\"rgb(249, 148, 66)\",\"rgb(36, 130, 36)\",\"rgb(238, 255, 234)\"],\"dragmode\":\"select\",\"font\":{\"color\":\"#e1e1e1\",\"family\":\"SFMono-Regular,Menlo,Monaco,Consolas,Liberation Mono,Courier,monospace\"},\"legend\":{\"title\":{\"text\":\"Symbol\"},\"tracegroupgap\":0},\"margin\":{\"autoexpand\":true,\"b\":30,\"l\":35,\"r\":20,\"t\":68},\"paper_bgcolor\":\"#1b2442\",\"plot_bgcolor\":\"#1b2442\",\"showlegend\":false,\"template\":{\"data\":{\"bar\":[{\"error_x\":{\"color\":\"#2a3f5f\"},\"error_y\":{\"color\":\"#2a3f5f\"},\"marker\":{\"line\":{\"color\":\"#E5ECF6\",\"width\":0.5},\"pattern\":{\"fillmode\":\"overlay\",\"size\":10,\"solidity\":0.2}},\"type\":\"bar\"}],\"barpolar\":[{\"marker\":{\"line\":{\"color\":\"#E5ECF6\",\"width\":0.5},\"pattern\":{\"fillmode\":\"overlay\",\"size\":10,\"solidity\":0.2}},\"type\":\"barpolar\"}],\"carpet\":[{\"aaxis\":{\"endlinecolor\":\"#2a3f5f\",\"gridcolor\":\"white\",\"linecolor\":\"white\",\"minorgridcolor\":\"white\",\"startlinecolor\":\"#2a3f5f\"},\"baxis\":{\"endlinecolor\":\"#2a3f5f\",\"gridcolor\":\"white\",\"linecolor\":\"white\",\"minorgridcolor\":\"white\",\"startlinecolor\":\"#2a3f5f\"},\"type\":\"carpet\"}],\"choropleth\":[{\"colorbar\":{\"outlinewidth\":0,\"ticks\":\"\"},\"type\":\"choropleth\"}],\"contour\":[{\"colorbar\":{\"outlinewidth\":0,\"ticks\":\"\"},\"colorscale\":[[0.0,\"#0d0887\"],[0.1111111111111111,\"#46039f\"],[0.2222222222222222,\"#7201a8\"],[0.3333333333333333,\"#9c179e\"],[0.4444444444444444,\"#bd3786\"],[0.5555555555555556,\"#d8576b\"],[0.6666666666666666,\"#ed7953\"],[0.7777777777777778,\"#fb9f3a\"],[0.8888888888888888,\"#fdca26\"],[1.0,\"#f0f921\"]],\"type\":\"contour\"}],\"contourcarpet\":[{\"colorbar\":{\"outlinewidth\":0,\"ticks\":\"\"},\"type\":\"contourcarpet\"}],\"heatmap\":[{\"colorbar\":{\"outlinewidth\":0,\"ticks\":\"\"},\"colorscale\":[[0.0,\"#0d0887\"],[0.1111111111111111,\"#46039f\"],[0.2222222222222222,\"#7201a8\"],[0.3333333333333333,\"#9c179e\"],[0.4444444444444444,\"#bd3786\"],[0.5555555555555556,\"#d8576b\"],[0.6666666666666666,\"#ed7953\"],[0.7777777777777778,\"#fb9f3a\"],[0.8888888888888888,\"#fdca26\"],[1.0,\"#f0f921\"]],\"type\":\"heatmap\"}],\"heatmapgl\":[{\"colorbar\":{\"outlinewidth\":0,\"ticks\":\"\"},\"colorscale\":[[0.0,\"#0d0887\"],[0.1111111111111111,\"#46039f\"],[0.2222222222222222,\"#7201a8\"],[0.3333333333333333,\"#9c179e\"],[0.4444444444444444,\"#bd3786\"],[0.5555555555555556,\"#d8576b\"],[0.6666666666666666,\"#ed7953\"],[0.7777777777777778,\"#fb9f3a\"],[0.8888888888888888,\"#fdca26\"],[1.0,\"#f0f921\"]],\"type\":\"heatmapgl\"}],\"histogram\":[{\"marker\":{\"pattern\":{\"fillmode\":\"overlay\",\"size\":10,\"solidity\":0.2}},\"type\":\"histogram\"}],\"histogram2d\":[{\"colorbar\":{\"outlinewidth\":0,\"ticks\":\"\"},\"colorscale\":[[0.0,\"#0d0887\"],[0.1111111111111111,\"#46039f\"],[0.2222222222222222,\"#7201a8\"],[0.3333333333333333,\"#9c179e\"],[0.4444444444444444,\"#bd3786\"],[0.5555555555555556,\"#d8576b\"],[0.6666666666666666,\"#ed7953\"],[0.7777777777777778,\"#fb9f3a\"],[0.8888888888888888,\"#fdca26\"],[1.0,\"#f0f921\"]],\"type\":\"histogram2d\"}],\"histogram2dcontour\":[{\"colorbar\":{\"outlinewidth\":0,\"ticks\":\"\"},\"colorscale\":[[0.0,\"#0d0887\"],[0.1111111111111111,\"#46039f\"],[0.2222222222222222,\"#7201a8\"],[0.3333333333333333,\"#9c179e\"],[0.4444444444444444,\"#bd3786\"],[0.5555555555555556,\"#d8576b\"],[0.6666666666666666,\"#ed7953\"],[0.7777777777777778,\"#fb9f3a\"],[0.8888888888888888,\"#fdca26\"],[1.0,\"#f0f921\"]],\"type\":\"histogram2dcontour\"}],\"mesh3d\":[{\"colorbar\":{\"outlinewidth\":0,\"ticks\":\"\"},\"type\":\"mesh3d\"}],\"parcoords\":[{\"line\":{\"colorbar\":{\"outlinewidth\":0,\"ticks\":\"\"}},\"type\":\"parcoords\"}],\"pie\":[{\"automargin\":true,\"type\":\"pie\"}],\"scatter\":[{\"marker\":{\"colorbar\":{\"outlinewidth\":0,\"ticks\":\"\"}},\"type\":\"scatter\"}],\"scatter3d\":[{\"line\":{\"colorbar\":{\"outlinewidth\":0,\"ticks\":\"\"}},\"marker\":{\"colorbar\":{\"outlinewidth\":0,\"ticks\":\"\"}},\"type\":\"scatter3d\"}],\"scattercarpet\":[{\"marker\":{\"colorbar\":{\"outlinewidth\":0,\"ticks\":\"\"}},\"type\":\"scattercarpet\"}],\"scattergeo\":[{\"marker\":{\"colorbar\":{\"outlinewidth\":0,\"ticks\":\"\"}},\"type\":\"scattergeo\"}],\"scattergl\":[{\"marker\":{\"colorbar\":{\"outlinewidth\":0,\"ticks\":\"\"}},\"type\":\"scattergl\"}],\"scattermapbox\":[{\"marker\":{\"colorbar\":{\"outlinewidth\":0,\"ticks\":\"\"}},\"type\":\"scattermapbox\"}],\"scatterpolar\":[{\"marker\":{\"colorbar\":{\"outlinewidth\":0,\"ticks\":\"\"}},\"type\":\"scatterpolar\"}],\"scatterpolargl\":[{\"marker\":{\"colorbar\":{\"outlinewidth\":0,\"ticks\":\"\"}},\"type\":\"scatterpolargl\"}],\"scatterternary\":[{\"marker\":{\"colorbar\":{\"outlinewidth\":0,\"ticks\":\"\"}},\"type\":\"scatterternary\"}],\"surface\":[{\"colorbar\":{\"outlinewidth\":0,\"ticks\":\"\"},\"colorscale\":[[0.0,\"#0d0887\"],[0.1111111111111111,\"#46039f\"],[0.2222222222222222,\"#7201a8\"],[0.3333333333333333,\"#9c179e\"],[0.4444444444444444,\"#bd3786\"],[0.5555555555555556,\"#d8576b\"],[0.6666666666666666,\"#ed7953\"],[0.7777777777777778,\"#fb9f3a\"],[0.8888888888888888,\"#fdca26\"],[1.0,\"#f0f921\"]],\"type\":\"surface\"}],\"table\":[{\"cells\":{\"fill\":{\"color\":\"#EBF0F8\"},\"line\":{\"color\":\"white\"}},\"header\":{\"fill\":{\"color\":\"#C8D4E3\"},\"line\":{\"color\":\"white\"}},\"type\":\"table\"}]},\"layout\":{\"annotationdefaults\":{\"arrowcolor\":\"#2a3f5f\",\"arrowhead\":0,\"arrowwidth\":1},\"autotypenumbers\":\"strict\",\"coloraxis\":{\"colorbar\":{\"outlinewidth\":0,\"ticks\":\"\"}},\"colorscale\":{\"diverging\":[[0,\"#8e0152\"],[0.1,\"#c51b7d\"],[0.2,\"#de77ae\"],[0.3,\"#f1b6da\"],[0.4,\"#fde0ef\"],[0.5,\"#f7f7f7\"],[0.6,\"#e6f5d0\"],[0.7,\"#b8e186\"],[0.8,\"#7fbc41\"],[0.9,\"#4d9221\"],[1,\"#276419\"]],\"sequential\":[[0.0,\"#0d0887\"],[0.1111111111111111,\"#46039f\"],[0.2222222222222222,\"#7201a8\"],[0.3333333333333333,\"#9c179e\"],[0.4444444444444444,\"#bd3786\"],[0.5555555555555556,\"#d8576b\"],[0.6666666666666666,\"#ed7953\"],[0.7777777777777778,\"#fb9f3a\"],[0.8888888888888888,\"#fdca26\"],[1.0,\"#f0f921\"]],\"sequentialminus\":[[0.0,\"#0d0887\"],[0.1111111111111111,\"#46039f\"],[0.2222222222222222,\"#7201a8\"],[0.3333333333333333,\"#9c179e\"],[0.4444444444444444,\"#bd3786\"],[0.5555555555555556,\"#d8576b\"],[0.6666666666666666,\"#ed7953\"],[0.7777777777777778,\"#fb9f3a\"],[0.8888888888888888,\"#fdca26\"],[1.0,\"#f0f921\"]]},\"colorway\":[\"#636efa\",\"#EF553B\",\"#00cc96\",\"#ab63fa\",\"#FFA15A\",\"#19d3f3\",\"#FF6692\",\"#B6E880\",\"#FF97FF\",\"#FECB52\"],\"font\":{\"color\":\"#2a3f5f\"},\"geo\":{\"bgcolor\":\"white\",\"lakecolor\":\"white\",\"landcolor\":\"#E5ECF6\",\"showlakes\":true,\"showland\":true,\"subunitcolor\":\"white\"},\"hoverlabel\":{\"align\":\"left\"},\"hovermode\":\"closest\",\"mapbox\":{\"style\":\"light\"},\"paper_bgcolor\":\"white\",\"plot_bgcolor\":\"#E5ECF6\",\"polar\":{\"angularaxis\":{\"gridcolor\":\"white\",\"linecolor\":\"white\",\"ticks\":\"\"},\"bgcolor\":\"#E5ECF6\",\"radialaxis\":{\"gridcolor\":\"white\",\"linecolor\":\"white\",\"ticks\":\"\"}},\"scene\":{\"xaxis\":{\"backgroundcolor\":\"#E5ECF6\",\"gridcolor\":\"white\",\"gridwidth\":2,\"linecolor\":\"white\",\"showbackground\":true,\"ticks\":\"\",\"zerolinecolor\":\"white\"},\"yaxis\":{\"backgroundcolor\":\"#E5ECF6\",\"gridcolor\":\"white\",\"gridwidth\":2,\"linecolor\":\"white\",\"showbackground\":true,\"ticks\":\"\",\"zerolinecolor\":\"white\"},\"zaxis\":{\"backgroundcolor\":\"#E5ECF6\",\"gridcolor\":\"white\",\"gridwidth\":2,\"linecolor\":\"white\",\"showbackground\":true,\"ticks\":\"\",\"zerolinecolor\":\"white\"}},\"shapedefaults\":{\"line\":{\"color\":\"#2a3f5f\"}},\"ternary\":{\"aaxis\":{\"gridcolor\":\"white\",\"linecolor\":\"white\",\"ticks\":\"\"},\"baxis\":{\"gridcolor\":\"white\",\"linecolor\":\"white\",\"ticks\":\"\"},\"bgcolor\":\"#E5ECF6\",\"caxis\":{\"gridcolor\":\"white\",\"linecolor\":\"white\",\"ticks\":\"\"}},\"title\":{\"x\":0.05},\"xaxis\":{\"automargin\":true,\"gridcolor\":\"white\",\"linecolor\":\"white\",\"ticks\":\"\",\"title\":{\"standoff\":15},\"zerolinecolor\":\"white\",\"zerolinewidth\":2},\"yaxis\":{\"automargin\":true,\"gridcolor\":\"white\",\"linecolor\":\"white\",\"ticks\":\"\",\"title\":{\"standoff\":15},\"zerolinecolor\":\"white\",\"zerolinewidth\":2}}},\"title\":{\"font\":{\"color\":\"#1b2442\",\"size\":1},\"text\":\"Top 10 Most Discussed Symbols in August\"},\"xaxis\":{\"anchor\":\"y\",\"domain\":[0.0,1.0],\"gridcolor\":\"rgb(44, 53, 72)\",\"title\":{\"text\":\"Mentions\"},\"zeroline\":false,\"zerolinecolor\":\"#e1e1e1\"},\"yaxis\":{\"anchor\":\"x\",\"categoryarray\":[\"MRNA\",\"WISH\",\"PLTR\",\"BABA\",\"AMD\",\"MVST\",\"CLOV\",\"HOOD\",\"AMC\",\"GME\"],\"categoryorder\":\"array\",\"domain\":[0.0,1.0],\"gridcolor\":\"rgb(44, 53, 72)\",\"title\":{\"text\":\"\"},\"zerolinecolor\":\"#e1e1e1\"}},                        {\"responsive\": true}                    ).then(function(){\n",
       "                            \n",
       "var gd = document.getElementById('75e15bd5-066d-4a8a-926a-992e0ec27926');\n",
       "var x = new MutationObserver(function (mutations, observer) {{\n",
       "        var display = window.getComputedStyle(gd).display;\n",
       "        if (!display || display === 'none') {{\n",
       "            console.log([gd, 'removed!']);\n",
       "            Plotly.purge(gd);\n",
       "            observer.disconnect();\n",
       "        }}\n",
       "}});\n",
       "\n",
       "// Listen for the removal of the full notebook cells\n",
       "var notebookContainer = gd.closest('#notebook-container');\n",
       "if (notebookContainer) {{\n",
       "    x.observe(notebookContainer, {childList: true});\n",
       "}}\n",
       "\n",
       "// Listen for the clearing of the current output cell\n",
       "var outputEl = gd.closest('.output');\n",
       "if (outputEl) {{\n",
       "    x.observe(outputEl, {childList: true});\n",
       "}}\n",
       "\n",
       "                        })                };                });            </script>        </div>"
      ]
     },
     "metadata": {},
     "output_type": "display_data"
    }
   ],
   "source": [
    "fig = px.bar(\n",
    "    top_symbols_month_df[0:10],\n",
    "    x=\"num_mentions_stock\",\n",
    "    y=\"symbol\",\n",
    "    text=\"num_mentions_stock\",\n",
    "    color='symbol',\n",
    "    color_discrete_map=blogpost_colors,\n",
    "    orientation='h',\n",
    "    labels={'num_mentions_stock': 'Mentions', 'symbol': 'Symbol'},\n",
    ")\n",
    "fig.update_layout(\n",
    "    make_layout(\n",
    "        title=\"Top 10 Most Discussed Symbols in August\",\n",
    "        subtitle=\"Number of mentions in posts and comments\",\n",
    "        legend=False,\n",
    "        source_hidden=False,\n",
    "        override={\n",
    "            \"bargap\": 0,\n",
    "            'showlegend': False,\n",
    "            'yaxis_title': '',\n",
    "            'xaxis_zeroline': False\n",
    "        },\n",
    "    )\n",
    ")\n",
    "fig.update_traces({\n",
    "    'marker_line_width': 0                 \n",
    "})\n",
    "fig.show()"
   ]
  },
  {
   "cell_type": "code",
   "execution_count": 72,
   "id": "f2f6731a",
   "metadata": {},
   "outputs": [
    {
     "data": {
      "text/plain": [
       "'https://plotly.com/~ericpgreen/6/'"
      ]
     },
     "execution_count": 72,
     "metadata": {},
     "output_type": "execute_result"
    }
   ],
   "source": [
    "py.plot(fig, filename=\"wallstreetbets_202108_top10\")"
   ]
  },
  {
   "cell_type": "markdown",
   "id": "aafe376e",
   "metadata": {},
   "source": [
    "## Top meme stocks of alltime"
   ]
  },
  {
   "cell_type": "markdown",
   "id": "3e0aa429",
   "metadata": {},
   "source": [
    "Find stocks that have been over 24% share of mentions"
   ]
  },
  {
   "cell_type": "code",
   "execution_count": 8,
   "id": "133ce44d",
   "metadata": {},
   "outputs": [
    {
     "data": {
      "text/plain": [
       "array(['AMC', 'BB', 'GME', 'HOOD', 'MVIS', 'SPCE'], dtype=object)"
      ]
     },
     "execution_count": 8,
     "metadata": {},
     "output_type": "execute_result"
    }
   ],
   "source": [
    "stocks.loc[stocks['fraction_of_mentions'] > .24]['symbol'].unique()"
   ]
  },
  {
   "cell_type": "code",
   "execution_count": 73,
   "id": "0ff5e949",
   "metadata": {},
   "outputs": [
    {
     "data": {
      "application/vnd.plotly.v1+json": {
       "config": {
        "plotlyServerURL": "https://plotly.com"
       },
       "data": [
        {
         "hovertemplate": "Symbol=SPCE<br>Day=%{x}<br>Percent of mentions (daily)=%{y}<extra></extra>",
         "legendgroup": "SPCE",
         "line": {
          "color": "#636efa",
          "dash": "solid"
         },
         "mode": "lines",
         "name": "SPCE",
         "orientation": "v",
         "showlegend": true,
         "type": "scatter",
         "x": [
          "2021-08-30T00:00:00+00:00",
          "2021-08-29T00:00:00+00:00",
          "2021-08-28T00:00:00+00:00",
          "2021-08-27T00:00:00+00:00",
          "2021-08-26T00:00:00+00:00",
          "2021-08-25T00:00:00+00:00",
          "2021-08-24T00:00:00+00:00",
          "2021-08-23T00:00:00+00:00",
          "2021-08-22T00:00:00+00:00",
          "2021-08-21T00:00:00+00:00",
          "2021-08-20T00:00:00+00:00",
          "2021-08-19T00:00:00+00:00",
          "2021-08-18T00:00:00+00:00",
          "2021-08-17T00:00:00+00:00",
          "2021-08-16T00:00:00+00:00",
          "2021-08-15T00:00:00+00:00",
          "2021-08-14T00:00:00+00:00",
          "2021-08-13T00:00:00+00:00",
          "2021-08-12T00:00:00+00:00",
          "2021-08-11T00:00:00+00:00",
          "2021-08-10T00:00:00+00:00",
          "2021-08-09T00:00:00+00:00",
          "2021-08-08T00:00:00+00:00",
          "2021-08-07T00:00:00+00:00",
          "2021-08-06T00:00:00+00:00",
          "2021-08-05T00:00:00+00:00",
          "2021-08-04T00:00:00+00:00",
          "2021-08-03T00:00:00+00:00",
          "2021-08-02T00:00:00+00:00",
          "2021-08-01T00:00:00+00:00",
          "2021-07-31T00:00:00+00:00",
          "2021-07-30T00:00:00+00:00",
          "2021-07-29T00:00:00+00:00",
          "2021-07-28T00:00:00+00:00",
          "2021-07-27T00:00:00+00:00",
          "2021-07-26T00:00:00+00:00",
          "2021-07-25T00:00:00+00:00",
          "2021-07-24T00:00:00+00:00",
          "2021-07-23T00:00:00+00:00",
          "2021-07-22T00:00:00+00:00",
          "2021-07-21T00:00:00+00:00",
          "2021-07-20T00:00:00+00:00",
          "2021-07-19T00:00:00+00:00",
          "2021-07-18T00:00:00+00:00",
          "2021-07-17T00:00:00+00:00",
          "2021-07-16T00:00:00+00:00",
          "2021-07-15T00:00:00+00:00",
          "2021-07-14T00:00:00+00:00",
          "2021-07-13T00:00:00+00:00",
          "2021-07-12T00:00:00+00:00",
          "2021-07-11T00:00:00+00:00",
          "2021-07-10T00:00:00+00:00",
          "2021-07-09T00:00:00+00:00",
          "2021-07-08T00:00:00+00:00",
          "2021-07-07T00:00:00+00:00",
          "2021-07-06T00:00:00+00:00",
          "2021-07-05T00:00:00+00:00",
          "2021-07-04T00:00:00+00:00",
          "2021-07-03T00:00:00+00:00",
          "2021-07-02T00:00:00+00:00",
          "2021-07-01T00:00:00+00:00",
          "2021-06-30T00:00:00+00:00",
          "2021-06-29T00:00:00+00:00",
          "2021-06-28T00:00:00+00:00",
          "2021-06-27T00:00:00+00:00",
          "2021-06-26T00:00:00+00:00",
          "2021-06-25T00:00:00+00:00",
          "2021-06-24T00:00:00+00:00",
          "2021-06-23T00:00:00+00:00",
          "2021-06-22T00:00:00+00:00",
          "2021-06-21T00:00:00+00:00",
          "2021-06-20T00:00:00+00:00",
          "2021-06-19T00:00:00+00:00",
          "2021-06-18T00:00:00+00:00",
          "2021-06-17T00:00:00+00:00",
          "2021-06-16T00:00:00+00:00",
          "2021-06-15T00:00:00+00:00",
          "2021-06-14T00:00:00+00:00",
          "2021-06-13T00:00:00+00:00",
          "2021-06-12T00:00:00+00:00",
          "2021-06-11T00:00:00+00:00",
          "2021-06-10T00:00:00+00:00",
          "2021-06-09T00:00:00+00:00",
          "2021-06-08T00:00:00+00:00",
          "2021-06-07T00:00:00+00:00",
          "2021-06-06T00:00:00+00:00",
          "2021-06-05T00:00:00+00:00",
          "2021-06-04T00:00:00+00:00",
          "2021-06-03T00:00:00+00:00",
          "2021-06-02T00:00:00+00:00",
          "2021-06-01T00:00:00+00:00",
          "2021-05-31T00:00:00+00:00",
          "2021-05-30T00:00:00+00:00",
          "2021-05-29T00:00:00+00:00",
          "2021-05-28T00:00:00+00:00",
          "2021-05-27T00:00:00+00:00",
          "2021-05-26T00:00:00+00:00",
          "2021-05-25T00:00:00+00:00",
          "2021-05-24T00:00:00+00:00",
          "2021-05-23T00:00:00+00:00",
          "2021-05-22T00:00:00+00:00",
          "2021-05-21T00:00:00+00:00",
          "2021-05-20T00:00:00+00:00",
          "2021-05-19T00:00:00+00:00",
          "2021-05-18T00:00:00+00:00",
          "2021-05-17T00:00:00+00:00",
          "2021-05-16T00:00:00+00:00",
          "2021-05-15T00:00:00+00:00",
          "2021-05-14T00:00:00+00:00",
          "2021-05-13T00:00:00+00:00",
          "2021-05-12T00:00:00+00:00",
          "2021-05-11T00:00:00+00:00",
          "2021-05-10T00:00:00+00:00",
          "2021-05-09T00:00:00+00:00",
          "2021-05-08T00:00:00+00:00",
          "2021-05-07T00:00:00+00:00",
          "2021-05-06T00:00:00+00:00",
          "2021-05-05T00:00:00+00:00",
          "2021-05-04T00:00:00+00:00",
          "2021-05-03T00:00:00+00:00",
          "2021-05-02T00:00:00+00:00",
          "2021-05-01T00:00:00+00:00",
          "2021-04-30T00:00:00+00:00",
          "2021-04-29T00:00:00+00:00",
          "2021-04-28T00:00:00+00:00",
          "2021-04-27T00:00:00+00:00",
          "2021-04-26T00:00:00+00:00",
          "2021-04-25T00:00:00+00:00",
          "2021-04-24T00:00:00+00:00",
          "2021-04-23T00:00:00+00:00",
          "2021-04-22T00:00:00+00:00",
          "2021-04-21T00:00:00+00:00",
          "2021-04-20T00:00:00+00:00",
          "2021-04-19T00:00:00+00:00",
          "2021-04-18T00:00:00+00:00",
          "2021-04-17T00:00:00+00:00",
          "2021-04-16T00:00:00+00:00",
          "2021-04-15T00:00:00+00:00",
          "2021-04-14T00:00:00+00:00",
          "2021-04-13T00:00:00+00:00",
          "2021-04-12T00:00:00+00:00",
          "2021-04-11T00:00:00+00:00",
          "2021-04-10T00:00:00+00:00",
          "2021-04-09T00:00:00+00:00",
          "2021-04-08T00:00:00+00:00",
          "2021-04-07T00:00:00+00:00",
          "2021-04-06T00:00:00+00:00",
          "2021-04-05T00:00:00+00:00",
          "2021-04-03T00:00:00+00:00",
          "2021-04-02T00:00:00+00:00",
          "2021-04-01T00:00:00+00:00",
          "2021-03-31T00:00:00+00:00",
          "2021-03-30T00:00:00+00:00",
          "2021-03-29T00:00:00+00:00",
          "2021-03-26T00:00:00+00:00",
          "2021-03-25T00:00:00+00:00",
          "2021-03-24T00:00:00+00:00",
          "2021-03-23T00:00:00+00:00",
          "2021-03-22T00:00:00+00:00",
          "2021-03-21T00:00:00+00:00",
          "2021-03-20T00:00:00+00:00",
          "2021-03-19T00:00:00+00:00",
          "2021-03-18T00:00:00+00:00",
          "2021-03-17T00:00:00+00:00",
          "2021-03-16T00:00:00+00:00",
          "2021-03-15T00:00:00+00:00",
          "2021-03-14T00:00:00+00:00",
          "2021-03-13T00:00:00+00:00",
          "2021-03-12T00:00:00+00:00",
          "2021-03-11T00:00:00+00:00",
          "2021-03-10T00:00:00+00:00",
          "2021-03-09T00:00:00+00:00"
         ],
         "xaxis": "x",
         "y": [
          0.002982107355864811,
          0.005389514943655071,
          0.0005257623554153522,
          0.0061180185514110915,
          0.003129890453834116,
          0.0027236824186299877,
          0.003472222222222222,
          0.005597375024126616,
          0.006218202374222725,
          0.002794857462269424,
          0.005400372439478585,
          0.0021019442984760903,
          0.0035087719298245615,
          0.0041190788241902265,
          0.0071387227474435655,
          0.0045223289994347085,
          0.00739476678043231,
          0.013625932300631095,
          0.005963156213395804,
          0.011852260198456449,
          0.004558693174623275,
          0.0040132853584278995,
          0.005842259006815969,
          0.004675324675324675,
          0.010321984285934371,
          0.011307280301527474,
          0.003944607637431809,
          0.00247557003257329,
          0.006339144215530904,
          0.0009337068160597573,
          0.0027979854504756574,
          0.0021189894050529746,
          0.0012123661345726409,
          0.004792332268370607,
          0.0021307982297983936,
          0.0029455081001472753,
          0.0023094688221709007,
          0.005009633911368015,
          0.00628099173553719,
          0.006216006216006216,
          0.008382489909965849,
          0.01984126984126984,
          0.028524046434494195,
          0.014478282576135796,
          0.027544351073762838,
          0.029512945862755748,
          0.025597269624573378,
          0.038734057628719884,
          0.04492330168005844,
          0.17228648781688408,
          0.3333333333333333,
          0.07213438735177866,
          0.08312092891532144,
          0.08643892339544514,
          0.017858895103522718,
          0.025957832690999775,
          0.024,
          0.02733485193621868,
          0.02403846153846154,
          0.09076192531836823,
          0.032983377077865264,
          0.02437880918893577,
          0.025523560209424083,
          0.02947008547008547,
          0.03418272218769422,
          0.052192711550339714,
          0.08478403379707189,
          0.0051260145237078175,
          0.009256700746062448,
          0.012387463616056318,
          0.002168861347792409,
          0.004400724825265338,
          0.004016064257028112,
          0.002792154726232634,
          0.002791268910846871,
          0.0030970025439663756,
          0.0035866099893730073,
          0.0031396028037383177,
          0.0028574830336944874,
          0.0028846153846153848,
          0.004486133768352365,
          0.003968556819049072,
          0.0026573631784019953,
          0.005076030103065481,
          0.007963682529911899,
          0.00313782283369539,
          0.002088409328228333,
          0.0032754010695187166,
          0.004341761458517514,
          0.005370857725978838,
          0.009171100532063848,
          0.011380717199914108,
          0.012484394506866416,
          0.012303238646643748,
          0.018695850433196534,
          0.028936893420993783,
          0.024618220115850447,
          0.06930398572278405,
          0.15207312226785005,
          0.11940850277264325,
          0.1130952380952381,
          0.04315973881191273,
          0.035629804849201654,
          0.0016481252575195715,
          0.0020665038512117226,
          0.0014240956992309882,
          0.0011303692539562924,
          0.0011467889908256881,
          0.0018808777429467085,
          0.0024816019168235498,
          0.005955107650022904,
          0.01214040643969385,
          0.009602711353794013,
          0.0026652452025586353,
          0.0018300653594771241,
          0.0023990403838464614,
          0.003972758229284903,
          0.002837130951325472,
          0.005520220808832354,
          0.004565217391304348,
          0.004781638508128785,
          0.005248533497993208,
          0.0014917951268025858,
          0.0016139993204213388,
          0.0017272648760687452,
          0.0024065779798114846,
          0.0013062788469912043,
          0.0006190034045187249,
          0.0017281105990783411,
          0.0009292446568432231,
          0.0033285094066570187,
          0.005216913783635365,
          0.008110753740735561,
          0.0024763135228251507,
          0.0038111990618586926,
          0.003922594142259414,
          0.004274832892896005,
          0.010415862973535993,
          0.0017049180327868853,
          0.0023905572986702523,
          0.002682490651926516,
          0.0011726766344180592,
          0.00118098612341305,
          0.001240576390876992,
          0.001355243096730476,
          0.0021373478301273115,
          0.0012689205111936917,
          0.0017341040462427746,
          0.0010968921389396709,
          0.00024563989191844754,
          0.0006283380458686773,
          0.0007162297665090961,
          0.002055076037813399,
          0.004336425978217023,
          0.0020341207349081365,
          0.0008682772358138822,
          0.0010585574748592599,
          0.0007665968211785149,
          0.0010968670734215397,
          0.001509813789632612,
          0.0004999166805532411,
          0.0005570099704784716,
          0.0005663971989083982,
          0.0011849562081401338,
          0.0014452259369881492,
          0.0014077297158945482,
          0.0018949648077964266,
          0.0017901404571743322,
          0.002081117328770291,
          0.0026397888168946484,
          0.0010667183863460046,
          0.0024429967426710096
         ],
         "yaxis": "y"
        },
        {
         "hovertemplate": "Symbol=MVIS<br>Day=%{x}<br>Percent of mentions (daily)=%{y}<extra></extra>",
         "legendgroup": "MVIS",
         "line": {
          "color": "#EF553B",
          "dash": "solid"
         },
         "mode": "lines",
         "name": "MVIS",
         "orientation": "v",
         "showlegend": true,
         "type": "scatter",
         "x": [
          "2021-08-30T00:00:00+00:00",
          "2021-08-29T00:00:00+00:00",
          "2021-08-28T00:00:00+00:00",
          "2021-08-27T00:00:00+00:00",
          "2021-08-26T00:00:00+00:00",
          "2021-08-25T00:00:00+00:00",
          "2021-08-24T00:00:00+00:00",
          "2021-08-23T00:00:00+00:00",
          "2021-08-22T00:00:00+00:00",
          "2021-08-21T00:00:00+00:00",
          "2021-08-20T00:00:00+00:00",
          "2021-08-19T00:00:00+00:00",
          "2021-08-18T00:00:00+00:00",
          "2021-08-17T00:00:00+00:00",
          "2021-08-16T00:00:00+00:00",
          "2021-08-15T00:00:00+00:00",
          "2021-08-14T00:00:00+00:00",
          "2021-08-13T00:00:00+00:00",
          "2021-08-12T00:00:00+00:00",
          "2021-08-11T00:00:00+00:00",
          "2021-08-10T00:00:00+00:00",
          "2021-08-09T00:00:00+00:00",
          "2021-08-08T00:00:00+00:00",
          "2021-08-07T00:00:00+00:00",
          "2021-08-06T00:00:00+00:00",
          "2021-08-05T00:00:00+00:00",
          "2021-08-04T00:00:00+00:00",
          "2021-08-03T00:00:00+00:00",
          "2021-08-02T00:00:00+00:00",
          "2021-08-01T00:00:00+00:00",
          "2021-07-31T00:00:00+00:00",
          "2021-07-30T00:00:00+00:00",
          "2021-07-29T00:00:00+00:00",
          "2021-07-28T00:00:00+00:00",
          "2021-07-27T00:00:00+00:00",
          "2021-07-26T00:00:00+00:00",
          "2021-07-25T00:00:00+00:00",
          "2021-07-24T00:00:00+00:00",
          "2021-07-23T00:00:00+00:00",
          "2021-07-22T00:00:00+00:00",
          "2021-07-21T00:00:00+00:00",
          "2021-07-20T00:00:00+00:00",
          "2021-07-19T00:00:00+00:00",
          "2021-07-18T00:00:00+00:00",
          "2021-07-17T00:00:00+00:00",
          "2021-07-16T00:00:00+00:00",
          "2021-07-15T00:00:00+00:00",
          "2021-07-14T00:00:00+00:00",
          "2021-07-13T00:00:00+00:00",
          "2021-07-12T00:00:00+00:00",
          "2021-07-11T00:00:00+00:00",
          "2021-07-10T00:00:00+00:00",
          "2021-07-09T00:00:00+00:00",
          "2021-07-08T00:00:00+00:00",
          "2021-07-07T00:00:00+00:00",
          "2021-07-06T00:00:00+00:00",
          "2021-07-05T00:00:00+00:00",
          "2021-07-04T00:00:00+00:00",
          "2021-07-03T00:00:00+00:00",
          "2021-07-02T00:00:00+00:00",
          "2021-07-01T00:00:00+00:00",
          "2021-06-30T00:00:00+00:00",
          "2021-06-29T00:00:00+00:00",
          "2021-06-28T00:00:00+00:00",
          "2021-06-27T00:00:00+00:00",
          "2021-06-26T00:00:00+00:00",
          "2021-06-25T00:00:00+00:00",
          "2021-06-24T00:00:00+00:00",
          "2021-06-23T00:00:00+00:00",
          "2021-06-22T00:00:00+00:00",
          "2021-06-21T00:00:00+00:00",
          "2021-06-20T00:00:00+00:00",
          "2021-06-19T00:00:00+00:00",
          "2021-06-18T00:00:00+00:00",
          "2021-06-17T00:00:00+00:00",
          "2021-06-16T00:00:00+00:00",
          "2021-06-15T00:00:00+00:00",
          "2021-06-14T00:00:00+00:00",
          "2021-06-13T00:00:00+00:00",
          "2021-06-12T00:00:00+00:00",
          "2021-06-11T00:00:00+00:00",
          "2021-06-10T00:00:00+00:00",
          "2021-06-09T00:00:00+00:00",
          "2021-06-08T00:00:00+00:00",
          "2021-06-07T00:00:00+00:00",
          "2021-06-06T00:00:00+00:00",
          "2021-06-05T00:00:00+00:00",
          "2021-06-04T00:00:00+00:00",
          "2021-06-03T00:00:00+00:00",
          "2021-06-02T00:00:00+00:00",
          "2021-06-01T00:00:00+00:00",
          "2021-05-31T00:00:00+00:00",
          "2021-05-30T00:00:00+00:00",
          "2021-05-29T00:00:00+00:00",
          "2021-05-28T00:00:00+00:00",
          "2021-05-27T00:00:00+00:00",
          "2021-05-26T00:00:00+00:00",
          "2021-05-25T00:00:00+00:00",
          "2021-05-24T00:00:00+00:00",
          "2021-05-23T00:00:00+00:00",
          "2021-05-22T00:00:00+00:00",
          "2021-05-21T00:00:00+00:00",
          "2021-05-20T00:00:00+00:00",
          "2021-05-19T00:00:00+00:00",
          "2021-05-18T00:00:00+00:00",
          "2021-05-17T00:00:00+00:00",
          "2021-05-16T00:00:00+00:00",
          "2021-05-15T00:00:00+00:00",
          "2021-05-14T00:00:00+00:00",
          "2021-05-13T00:00:00+00:00",
          "2021-05-12T00:00:00+00:00",
          "2021-05-11T00:00:00+00:00",
          "2021-05-10T00:00:00+00:00",
          "2021-05-09T00:00:00+00:00",
          "2021-05-08T00:00:00+00:00",
          "2021-05-07T00:00:00+00:00",
          "2021-05-06T00:00:00+00:00",
          "2021-05-05T00:00:00+00:00",
          "2021-05-04T00:00:00+00:00",
          "2021-05-03T00:00:00+00:00",
          "2021-05-02T00:00:00+00:00",
          "2021-05-01T00:00:00+00:00",
          "2021-04-30T00:00:00+00:00",
          "2021-04-29T00:00:00+00:00",
          "2021-04-28T00:00:00+00:00",
          "2021-04-27T00:00:00+00:00",
          "2021-04-26T00:00:00+00:00",
          "2021-04-25T00:00:00+00:00",
          "2021-04-24T00:00:00+00:00",
          "2021-04-23T00:00:00+00:00",
          "2021-04-22T00:00:00+00:00",
          "2021-04-21T00:00:00+00:00",
          "2021-04-20T00:00:00+00:00",
          "2021-04-19T00:00:00+00:00",
          "2021-04-18T00:00:00+00:00",
          "2021-04-17T00:00:00+00:00",
          "2021-04-16T00:00:00+00:00",
          "2021-04-15T00:00:00+00:00",
          "2021-04-14T00:00:00+00:00",
          "2021-04-13T00:00:00+00:00",
          "2021-04-12T00:00:00+00:00",
          "2021-04-11T00:00:00+00:00",
          "2021-04-10T00:00:00+00:00",
          "2021-04-09T00:00:00+00:00",
          "2021-04-08T00:00:00+00:00",
          "2021-04-07T00:00:00+00:00",
          "2021-04-06T00:00:00+00:00",
          "2021-04-05T00:00:00+00:00",
          "2021-04-04T00:00:00+00:00",
          "2021-04-03T00:00:00+00:00",
          "2021-04-02T00:00:00+00:00",
          "2021-04-01T00:00:00+00:00",
          "2021-03-31T00:00:00+00:00",
          "2021-03-30T00:00:00+00:00",
          "2021-03-29T00:00:00+00:00",
          "2021-03-26T00:00:00+00:00",
          "2021-03-25T00:00:00+00:00",
          "2021-03-24T00:00:00+00:00",
          "2021-03-23T00:00:00+00:00",
          "2021-03-22T00:00:00+00:00",
          "2021-03-21T00:00:00+00:00",
          "2021-03-20T00:00:00+00:00",
          "2021-03-19T00:00:00+00:00",
          "2021-03-18T00:00:00+00:00",
          "2021-03-17T00:00:00+00:00",
          "2021-03-16T00:00:00+00:00",
          "2021-03-15T00:00:00+00:00",
          "2021-03-14T00:00:00+00:00",
          "2021-03-13T00:00:00+00:00",
          "2021-03-12T00:00:00+00:00",
          "2021-03-11T00:00:00+00:00",
          "2021-03-10T00:00:00+00:00",
          "2021-03-09T00:00:00+00:00"
         ],
         "xaxis": "x",
         "y": [
          0.0016567263088137839,
          0.0004899559039686428,
          0.004206098843322818,
          0.0009867771857114663,
          0.002347417840375587,
          0.005855917200054473,
          0.0011200716845878136,
          0.0015441034549314803,
          0.0011305822498586771,
          0.0016769144773616546,
          0.0007448789571694599,
          0.002277106323349098,
          0.0017543859649122807,
          0.003182924545965175,
          0.003087015242137758,
          0.0022611644997173543,
          0.0011376564277588168,
          0.001004016064257028,
          0.0012778191885848152,
          0.002342888643880926,
          0.005571736102317336,
          0.008580127318018268,
          0.006329113924050633,
          0.01038961038961039,
          0.023108920043136652,
          0.036599880975996826,
          0.010910616869492237,
          0.0029967426710097718,
          0.0024652227504842403,
          0.0014005602240896359,
          0.0027979854504756574,
          0.0017929910350448248,
          0.0017175186906445746,
          0.0017426662794074934,
          0.0027864284543517455,
          0.0016363933889707086,
          0.0018475750577367205,
          0.0038535645472061657,
          0.005123966942148761,
          0.013675213675213675,
          0.0040360136603539275,
          0.004140786749482402,
          0.004311774461028192,
          0.0014977533699450823,
          0.005135387488328665,
          0.005975013579576317,
          0.0024940929377789446,
          0.00271610769957487,
          0.006817628439250061,
          0.0020920502092050207,
          0.0012176560121765602,
          0.0024703557312252965,
          0.0032568677428490515,
          0.0035196687370600416,
          0.0027475223236188796,
          0.0015869417365676718,
          0.0011851851851851852,
          0.0007593014426727411,
          0.0019230769230769232,
          0.00151090006475286,
          0.0015748031496062992,
          0.0011720581340834506,
          0.0016724840023269343,
          0.0015726495726495727,
          0.00145017609281127,
          0.0037059913526868438,
          0.0011654162721246996,
          0.002776591200341734,
          0.0016579165515335729,
          0.0039260813646517295,
          0.007203718048024787,
          0.001553196997152472,
          0.002747833439019235,
          0.001362026695723236,
          0.0015631105900742479,
          0.0011060723371308485,
          0.001195536663124336,
          0.0010952102803738317,
          0.0017859268960590546,
          0.002197802197802198,
          0.002966038855109002,
          0.009132768577170623,
          0.001760706891211138,
          0.002780781708635872,
          0.011426153195090986,
          0.007603186097031137,
          0.013574660633484163,
          0.026470588235294117,
          0.0019645979450305497,
          0.005075460551050003,
          0.012531503780453654,
          0.003006227184882972,
          0.006242197253433208,
          0.002894879681563235,
          0.008042117481241968,
          0.004517196654590993,
          0.007964718272775145,
          0.015764425936942297,
          0.0074182010862365875,
          0.005545286506469501,
          0.01098901098901099,
          0.00923713967192228,
          0.00960969840331165,
          0.007279219887378108,
          0.019631786586511366,
          0.020222158929080036,
          0.0146948003014318,
          0.013379204892966361,
          0.02466039707419018,
          0.008386103029265788,
          0.009390746678882272,
          0.010380927245535321,
          0.01092073055921672,
          0.013326226012793176,
          0.01437908496732026,
          0.019992003198720514,
          0.019233194602093582,
          0.02908059225108609,
          0.07044281771270851,
          0.0632608695652174,
          0.054829454893210075,
          0.06761346094473603,
          0.17235206364992542,
          0.17099898063200816,
          0.1650401589083686,
          0.21345009693161307,
          0.2774536271009318,
          0.11234911792014857,
          0.1287442396313364,
          0.15106863135536971,
          0.1370477568740955,
          0.10928061504667765,
          0.06600475457977906,
          0.0048449612403100775,
          0.0038111990618586926,
          0.0041841004184100415,
          0.007616974972796518,
          0.018671398811820075,
          0.005573770491803279,
          0.004034065441506051,
          0.004877255730775484,
          0.003518029903254178,
          0.005609684086211987,
          0.003912587078919744,
          0.004743350838556666,
          0.006597899823436484,
          0.008157346143388018,
          0.009578860445912468,
          0.016687657430730477,
          0.03729433272394881,
          0.009825595676737903,
          0.01735783851712221,
          0.028935682566967484,
          0.002397588710782299,
          0.0015127067365873336,
          0.0027559055118110236,
          0.0014811788140354461,
          0.0019727662031468027,
          0.001277661368630858,
          0.0028107218756426955,
          0.001342056701895655,
          0.0014997500416597234,
          0.001058318943909096,
          0.0012357757067092323,
          0.0017001545595054096,
          0.0013007033432893343,
          0.0032847026704206127,
          0.007038440714672442,
          0.003855687138529331,
          0.007538269435323498,
          0.0027997760179185667,
          0.0008000387897595034,
          0.000977198697068404
         ],
         "yaxis": "y"
        },
        {
         "hovertemplate": "Symbol=GME<br>Day=%{x}<br>Percent of mentions (daily)=%{y}<extra></extra>",
         "legendgroup": "GME",
         "line": {
          "color": "#00cc96",
          "dash": "solid"
         },
         "mode": "lines",
         "name": "GME",
         "orientation": "v",
         "showlegend": true,
         "type": "scatter",
         "x": [
          "2021-08-30T00:00:00+00:00",
          "2021-08-29T00:00:00+00:00",
          "2021-08-28T00:00:00+00:00",
          "2021-08-27T00:00:00+00:00",
          "2021-08-26T00:00:00+00:00",
          "2021-08-25T00:00:00+00:00",
          "2021-08-24T00:00:00+00:00",
          "2021-08-23T00:00:00+00:00",
          "2021-08-22T00:00:00+00:00",
          "2021-08-21T00:00:00+00:00",
          "2021-08-20T00:00:00+00:00",
          "2021-08-19T00:00:00+00:00",
          "2021-08-18T00:00:00+00:00",
          "2021-08-17T00:00:00+00:00",
          "2021-08-16T00:00:00+00:00",
          "2021-08-15T00:00:00+00:00",
          "2021-08-14T00:00:00+00:00",
          "2021-08-13T00:00:00+00:00",
          "2021-08-12T00:00:00+00:00",
          "2021-08-11T00:00:00+00:00",
          "2021-08-10T00:00:00+00:00",
          "2021-08-09T00:00:00+00:00",
          "2021-08-08T00:00:00+00:00",
          "2021-08-07T00:00:00+00:00",
          "2021-08-06T00:00:00+00:00",
          "2021-08-05T00:00:00+00:00",
          "2021-08-04T00:00:00+00:00",
          "2021-08-03T00:00:00+00:00",
          "2021-08-02T00:00:00+00:00",
          "2021-08-01T00:00:00+00:00",
          "2021-07-31T00:00:00+00:00",
          "2021-07-30T00:00:00+00:00",
          "2021-07-29T00:00:00+00:00",
          "2021-07-28T00:00:00+00:00",
          "2021-07-27T00:00:00+00:00",
          "2021-07-26T00:00:00+00:00",
          "2021-07-25T00:00:00+00:00",
          "2021-07-24T00:00:00+00:00",
          "2021-07-23T00:00:00+00:00",
          "2021-07-22T00:00:00+00:00",
          "2021-07-21T00:00:00+00:00",
          "2021-07-20T00:00:00+00:00",
          "2021-07-19T00:00:00+00:00",
          "2021-07-18T00:00:00+00:00",
          "2021-07-17T00:00:00+00:00",
          "2021-07-16T00:00:00+00:00",
          "2021-07-15T00:00:00+00:00",
          "2021-07-14T00:00:00+00:00",
          "2021-07-13T00:00:00+00:00",
          "2021-07-12T00:00:00+00:00",
          "2021-07-11T00:00:00+00:00",
          "2021-07-10T00:00:00+00:00",
          "2021-07-09T00:00:00+00:00",
          "2021-07-08T00:00:00+00:00",
          "2021-07-07T00:00:00+00:00",
          "2021-07-06T00:00:00+00:00",
          "2021-07-05T00:00:00+00:00",
          "2021-07-04T00:00:00+00:00",
          "2021-07-03T00:00:00+00:00",
          "2021-07-02T00:00:00+00:00",
          "2021-07-01T00:00:00+00:00",
          "2021-06-30T00:00:00+00:00",
          "2021-06-29T00:00:00+00:00",
          "2021-06-28T00:00:00+00:00",
          "2021-06-27T00:00:00+00:00",
          "2021-06-26T00:00:00+00:00",
          "2021-06-25T00:00:00+00:00",
          "2021-06-24T00:00:00+00:00",
          "2021-06-23T00:00:00+00:00",
          "2021-06-22T00:00:00+00:00",
          "2021-06-21T00:00:00+00:00",
          "2021-06-20T00:00:00+00:00",
          "2021-06-19T00:00:00+00:00",
          "2021-06-18T00:00:00+00:00",
          "2021-06-17T00:00:00+00:00",
          "2021-06-16T00:00:00+00:00",
          "2021-06-15T00:00:00+00:00",
          "2021-06-14T00:00:00+00:00",
          "2021-06-13T00:00:00+00:00",
          "2021-06-12T00:00:00+00:00",
          "2021-06-11T00:00:00+00:00",
          "2021-06-10T00:00:00+00:00",
          "2021-06-09T00:00:00+00:00",
          "2021-06-08T00:00:00+00:00",
          "2021-06-07T00:00:00+00:00",
          "2021-06-06T00:00:00+00:00",
          "2021-06-05T00:00:00+00:00",
          "2021-06-04T00:00:00+00:00",
          "2021-06-03T00:00:00+00:00",
          "2021-06-02T00:00:00+00:00",
          "2021-06-01T00:00:00+00:00",
          "2021-05-31T00:00:00+00:00",
          "2021-05-30T00:00:00+00:00",
          "2021-05-29T00:00:00+00:00",
          "2021-05-28T00:00:00+00:00",
          "2021-05-27T00:00:00+00:00",
          "2021-05-26T00:00:00+00:00",
          "2021-05-25T00:00:00+00:00",
          "2021-05-24T00:00:00+00:00",
          "2021-05-23T00:00:00+00:00",
          "2021-05-22T00:00:00+00:00",
          "2021-05-21T00:00:00+00:00",
          "2021-05-20T00:00:00+00:00",
          "2021-05-19T00:00:00+00:00",
          "2021-05-18T00:00:00+00:00",
          "2021-05-17T00:00:00+00:00",
          "2021-05-16T00:00:00+00:00",
          "2021-05-15T00:00:00+00:00",
          "2021-05-14T00:00:00+00:00",
          "2021-05-13T00:00:00+00:00",
          "2021-05-12T00:00:00+00:00",
          "2021-05-11T00:00:00+00:00",
          "2021-05-10T00:00:00+00:00",
          "2021-05-09T00:00:00+00:00",
          "2021-05-08T00:00:00+00:00",
          "2021-05-07T00:00:00+00:00",
          "2021-05-06T00:00:00+00:00",
          "2021-05-05T00:00:00+00:00",
          "2021-05-04T00:00:00+00:00",
          "2021-05-03T00:00:00+00:00",
          "2021-05-02T00:00:00+00:00",
          "2021-05-01T00:00:00+00:00",
          "2021-04-30T00:00:00+00:00",
          "2021-04-29T00:00:00+00:00",
          "2021-04-28T00:00:00+00:00",
          "2021-04-27T00:00:00+00:00",
          "2021-04-26T00:00:00+00:00",
          "2021-04-25T00:00:00+00:00",
          "2021-04-24T00:00:00+00:00",
          "2021-04-23T00:00:00+00:00",
          "2021-04-22T00:00:00+00:00",
          "2021-04-21T00:00:00+00:00",
          "2021-04-20T00:00:00+00:00",
          "2021-04-19T00:00:00+00:00",
          "2021-04-18T00:00:00+00:00",
          "2021-04-17T00:00:00+00:00",
          "2021-04-16T00:00:00+00:00",
          "2021-04-15T00:00:00+00:00",
          "2021-04-14T00:00:00+00:00",
          "2021-04-13T00:00:00+00:00",
          "2021-04-12T00:00:00+00:00",
          "2021-04-11T00:00:00+00:00",
          "2021-04-10T00:00:00+00:00",
          "2021-04-09T00:00:00+00:00",
          "2021-04-08T00:00:00+00:00",
          "2021-04-07T00:00:00+00:00",
          "2021-04-06T00:00:00+00:00",
          "2021-04-05T00:00:00+00:00",
          "2021-04-04T00:00:00+00:00",
          "2021-04-03T00:00:00+00:00",
          "2021-04-02T00:00:00+00:00",
          "2021-04-01T00:00:00+00:00",
          "2021-03-31T00:00:00+00:00",
          "2021-03-30T00:00:00+00:00",
          "2021-03-29T00:00:00+00:00",
          "2021-03-26T00:00:00+00:00",
          "2021-03-25T00:00:00+00:00",
          "2021-03-24T00:00:00+00:00",
          "2021-03-23T00:00:00+00:00",
          "2021-03-22T00:00:00+00:00",
          "2021-03-21T00:00:00+00:00",
          "2021-03-20T00:00:00+00:00",
          "2021-03-19T00:00:00+00:00",
          "2021-03-18T00:00:00+00:00",
          "2021-03-17T00:00:00+00:00",
          "2021-03-16T00:00:00+00:00",
          "2021-03-15T00:00:00+00:00",
          "2021-03-14T00:00:00+00:00",
          "2021-03-13T00:00:00+00:00",
          "2021-03-12T00:00:00+00:00",
          "2021-03-11T00:00:00+00:00",
          "2021-03-10T00:00:00+00:00",
          "2021-03-09T00:00:00+00:00"
         ],
         "xaxis": "x",
         "y": [
          0.052021206096752814,
          0.04507594316511514,
          0.06624605678233439,
          0.07716597592263667,
          0.125,
          0.220073539425303,
          0.23599910394265233,
          0.06465933217525574,
          0.03730921424533635,
          0.05198434879821129,
          0.038547486033519554,
          0.03906113154668068,
          0.037719298245614034,
          0.04081632653061224,
          0.04572641327416554,
          0.0395703787450537,
          0.05460750853242321,
          0.03557085484796328,
          0.02587583856884251,
          0.023153252480705624,
          0.028238571609471953,
          0.0538333794630501,
          0.053554040895813046,
          0.05454545454545454,
          0.03373902326297951,
          0.049990081333068835,
          0.06714225765841376,
          0.07074918566775244,
          0.04331748547279451,
          0.05042016806722689,
          0.041969781757134866,
          0.04971475142624287,
          0.0350575873913922,
          0.03935521347661923,
          0.024750040976889036,
          0.031418753068237604,
          0.052655889145496536,
          0.054720616570327556,
          0.031239669421487603,
          0.035742035742035744,
          0.04501707544240919,
          0.06314699792960662,
          0.06301824212271974,
          0.1108337493759361,
          0.07049486461251167,
          0.06319029512945863,
          0.0956944079810974,
          0.07652338214454417,
          0.04321889457024592,
          0.05180900812207728,
          0.03439878234398782,
          0.06620553359683795,
          0.038091192296799775,
          0.05093167701863354,
          0.07820626042586595,
          0.08501473588755384,
          0.112,
          0.1556567957479119,
          0.09711538461538462,
          0.045219080509389165,
          0.050393700787401574,
          0.04313173933427098,
          0.04246655031995346,
          0.0454017094017094,
          0.1269939921276155,
          0.06145768993205682,
          0.04457717240876976,
          0.03937063932792254,
          0.05291516993644653,
          0.07635551343667502,
          0.05584817970565453,
          0.09370955216153248,
          0.11139294018177975,
          0.05012258240261509,
          0.03918941550829007,
          0.052870257714854554,
          0.04330499468650372,
          0.03216267523364486,
          0.0521490653649244,
          0.07802197802197802,
          0.05702209698947056,
          0.08204228039380294,
          0.0820358988571708,
          0.09456864778971993,
          0.08756203593275112,
          0.12684045377745595,
          0.1280891054646711,
          0.07376336898395722,
          0.07168817901416476,
          0.09624577044954079,
          0.09451134136096331,
          0.09147519862572472,
          0.13058676654182272,
          0.14673421385923646,
          0.11325291215852092,
          0.15421083232702715,
          0.2571748288572933,
          0.2609557802895102,
          0.10054311829381375,
          0.12236598890942699,
          0.17994505494505494,
          0.10654562828475872,
          0.07214665878178593,
          0.11797829968410932,
          0.15414240090174713,
          0.1427893287762271,
          0.09155990957045969,
          0.15902140672782875,
          0.11619644723092999,
          0.1271607051172343,
          0.10249656436097114,
          0.0924606316530307,
          0.09386179627188854,
          0.11060767590618337,
          0.13647058823529412,
          0.09246301479408237,
          0.13286669189052844,
          0.10727901409699442,
          0.078003120124805,
          0.07021739130434783,
          0.14344915524386356,
          0.11670268601420192,
          0.09249129786176032,
          0.08019028202514442,
          0.08921323084895069,
          0.12019520021391804,
          0.1741705129321606,
          0.11575363664500155,
          0.13623271889400923,
          0.12531527943714324,
          0.12286541244573082,
          0.12451949478308622,
          0.12487763949098028,
          0.2980189491817399,
          0.24919378481383758,
          0.35486401673640167,
          0.31400590704181564,
          0.19867294190263096,
          0.23711475409836066,
          0.2253100253996713,
          0.25995773045033327,
          0.2515391380826737,
          0.2896368467670505,
          0.2880045805897509,
          0.2382686769439268,
          0.20936715918594925,
          0.20601830871023294,
          0.2556564822460776,
          0.1860831234256927,
          0.2409506398537477,
          0.2210759027266028,
          0.23601947847942192,
          0.21923793152843432,
          0.2776407727085902,
          0.26916095199677287,
          0.34691601049868764,
          0.3802032790234435,
          0.39484193812250395,
          0.3501303214596003,
          0.3047919380270104,
          0.29441368897835934,
          0.32611231461423096,
          0.34178131788559013,
          0.3014777817826065,
          0.3104585265327151,
          0.37624048559591483,
          0.35312686630833545,
          0.4043042772062805,
          0.3369595152850454,
          0.3610044859640198,
          0.3673706103511719,
          0.37924262994569435,
          0.35684039087947883
         ],
         "yaxis": "y"
        },
        {
         "hovertemplate": "Symbol=AMC<br>Day=%{x}<br>Percent of mentions (daily)=%{y}<extra></extra>",
         "legendgroup": "AMC",
         "line": {
          "color": "#ab63fa",
          "dash": "solid"
         },
         "mode": "lines",
         "name": "AMC",
         "orientation": "v",
         "showlegend": true,
         "type": "scatter",
         "x": [
          "2021-08-30T00:00:00+00:00",
          "2021-08-29T00:00:00+00:00",
          "2021-08-28T00:00:00+00:00",
          "2021-08-27T00:00:00+00:00",
          "2021-08-26T00:00:00+00:00",
          "2021-08-25T00:00:00+00:00",
          "2021-08-24T00:00:00+00:00",
          "2021-08-23T00:00:00+00:00",
          "2021-08-22T00:00:00+00:00",
          "2021-08-21T00:00:00+00:00",
          "2021-08-20T00:00:00+00:00",
          "2021-08-19T00:00:00+00:00",
          "2021-08-18T00:00:00+00:00",
          "2021-08-17T00:00:00+00:00",
          "2021-08-16T00:00:00+00:00",
          "2021-08-15T00:00:00+00:00",
          "2021-08-14T00:00:00+00:00",
          "2021-08-13T00:00:00+00:00",
          "2021-08-12T00:00:00+00:00",
          "2021-08-11T00:00:00+00:00",
          "2021-08-10T00:00:00+00:00",
          "2021-08-09T00:00:00+00:00",
          "2021-08-08T00:00:00+00:00",
          "2021-08-07T00:00:00+00:00",
          "2021-08-06T00:00:00+00:00",
          "2021-08-05T00:00:00+00:00",
          "2021-08-04T00:00:00+00:00",
          "2021-08-03T00:00:00+00:00",
          "2021-08-02T00:00:00+00:00",
          "2021-08-01T00:00:00+00:00",
          "2021-07-31T00:00:00+00:00",
          "2021-07-30T00:00:00+00:00",
          "2021-07-29T00:00:00+00:00",
          "2021-07-28T00:00:00+00:00",
          "2021-07-27T00:00:00+00:00",
          "2021-07-26T00:00:00+00:00",
          "2021-07-25T00:00:00+00:00",
          "2021-07-24T00:00:00+00:00",
          "2021-07-23T00:00:00+00:00",
          "2021-07-22T00:00:00+00:00",
          "2021-07-21T00:00:00+00:00",
          "2021-07-20T00:00:00+00:00",
          "2021-07-19T00:00:00+00:00",
          "2021-07-18T00:00:00+00:00",
          "2021-07-17T00:00:00+00:00",
          "2021-07-16T00:00:00+00:00",
          "2021-07-15T00:00:00+00:00",
          "2021-07-14T00:00:00+00:00",
          "2021-07-13T00:00:00+00:00",
          "2021-07-12T00:00:00+00:00",
          "2021-07-11T00:00:00+00:00",
          "2021-07-10T00:00:00+00:00",
          "2021-07-09T00:00:00+00:00",
          "2021-07-08T00:00:00+00:00",
          "2021-07-07T00:00:00+00:00",
          "2021-07-06T00:00:00+00:00",
          "2021-07-05T00:00:00+00:00",
          "2021-07-04T00:00:00+00:00",
          "2021-07-03T00:00:00+00:00",
          "2021-07-02T00:00:00+00:00",
          "2021-07-01T00:00:00+00:00",
          "2021-06-30T00:00:00+00:00",
          "2021-06-29T00:00:00+00:00",
          "2021-06-28T00:00:00+00:00",
          "2021-06-27T00:00:00+00:00",
          "2021-06-26T00:00:00+00:00",
          "2021-06-25T00:00:00+00:00",
          "2021-06-24T00:00:00+00:00",
          "2021-06-23T00:00:00+00:00",
          "2021-06-22T00:00:00+00:00",
          "2021-06-21T00:00:00+00:00",
          "2021-06-20T00:00:00+00:00",
          "2021-06-19T00:00:00+00:00",
          "2021-06-18T00:00:00+00:00",
          "2021-06-17T00:00:00+00:00",
          "2021-06-16T00:00:00+00:00",
          "2021-06-15T00:00:00+00:00",
          "2021-06-14T00:00:00+00:00",
          "2021-06-13T00:00:00+00:00",
          "2021-06-12T00:00:00+00:00",
          "2021-06-11T00:00:00+00:00",
          "2021-06-10T00:00:00+00:00",
          "2021-06-09T00:00:00+00:00",
          "2021-06-08T00:00:00+00:00",
          "2021-06-07T00:00:00+00:00",
          "2021-06-06T00:00:00+00:00",
          "2021-06-05T00:00:00+00:00",
          "2021-06-04T00:00:00+00:00",
          "2021-06-03T00:00:00+00:00",
          "2021-06-02T00:00:00+00:00",
          "2021-06-01T00:00:00+00:00",
          "2021-05-31T00:00:00+00:00",
          "2021-05-30T00:00:00+00:00",
          "2021-05-29T00:00:00+00:00",
          "2021-05-28T00:00:00+00:00",
          "2021-05-27T00:00:00+00:00",
          "2021-05-26T00:00:00+00:00",
          "2021-05-25T00:00:00+00:00",
          "2021-05-24T00:00:00+00:00",
          "2021-05-23T00:00:00+00:00",
          "2021-05-22T00:00:00+00:00",
          "2021-05-21T00:00:00+00:00",
          "2021-05-20T00:00:00+00:00",
          "2021-05-19T00:00:00+00:00",
          "2021-05-18T00:00:00+00:00",
          "2021-05-17T00:00:00+00:00",
          "2021-05-16T00:00:00+00:00",
          "2021-05-15T00:00:00+00:00",
          "2021-05-14T00:00:00+00:00",
          "2021-05-13T00:00:00+00:00",
          "2021-05-12T00:00:00+00:00",
          "2021-05-11T00:00:00+00:00",
          "2021-05-10T00:00:00+00:00",
          "2021-05-09T00:00:00+00:00",
          "2021-05-08T00:00:00+00:00",
          "2021-05-07T00:00:00+00:00",
          "2021-05-06T00:00:00+00:00",
          "2021-05-05T00:00:00+00:00",
          "2021-05-04T00:00:00+00:00",
          "2021-05-03T00:00:00+00:00",
          "2021-05-02T00:00:00+00:00",
          "2021-05-01T00:00:00+00:00",
          "2021-04-30T00:00:00+00:00",
          "2021-04-29T00:00:00+00:00",
          "2021-04-28T00:00:00+00:00",
          "2021-04-27T00:00:00+00:00",
          "2021-04-26T00:00:00+00:00",
          "2021-04-25T00:00:00+00:00",
          "2021-04-24T00:00:00+00:00",
          "2021-04-23T00:00:00+00:00",
          "2021-04-22T00:00:00+00:00",
          "2021-04-21T00:00:00+00:00",
          "2021-04-20T00:00:00+00:00",
          "2021-04-19T00:00:00+00:00",
          "2021-04-18T00:00:00+00:00",
          "2021-04-17T00:00:00+00:00",
          "2021-04-16T00:00:00+00:00",
          "2021-04-15T00:00:00+00:00",
          "2021-04-14T00:00:00+00:00",
          "2021-04-13T00:00:00+00:00",
          "2021-04-12T00:00:00+00:00",
          "2021-04-11T00:00:00+00:00",
          "2021-04-10T00:00:00+00:00",
          "2021-04-09T00:00:00+00:00",
          "2021-04-08T00:00:00+00:00",
          "2021-04-07T00:00:00+00:00",
          "2021-04-06T00:00:00+00:00",
          "2021-04-05T00:00:00+00:00",
          "2021-04-04T00:00:00+00:00",
          "2021-04-03T00:00:00+00:00",
          "2021-04-02T00:00:00+00:00",
          "2021-04-01T00:00:00+00:00",
          "2021-03-31T00:00:00+00:00",
          "2021-03-30T00:00:00+00:00",
          "2021-03-29T00:00:00+00:00",
          "2021-03-26T00:00:00+00:00",
          "2021-03-25T00:00:00+00:00",
          "2021-03-24T00:00:00+00:00",
          "2021-03-23T00:00:00+00:00",
          "2021-03-22T00:00:00+00:00",
          "2021-03-21T00:00:00+00:00",
          "2021-03-20T00:00:00+00:00",
          "2021-03-19T00:00:00+00:00",
          "2021-03-18T00:00:00+00:00",
          "2021-03-17T00:00:00+00:00",
          "2021-03-16T00:00:00+00:00",
          "2021-03-15T00:00:00+00:00",
          "2021-03-14T00:00:00+00:00",
          "2021-03-13T00:00:00+00:00",
          "2021-03-12T00:00:00+00:00",
          "2021-03-11T00:00:00+00:00",
          "2021-03-10T00:00:00+00:00",
          "2021-03-09T00:00:00+00:00"
         ],
         "xaxis": "x",
         "y": [
          0.03876739562624255,
          0.028907398334149927,
          0.03627760252365931,
          0.04045786461417012,
          0.05672926447574335,
          0.09383085932180307,
          0.0817652329749104,
          0.029723991507430998,
          0.04522328999434709,
          0.03856903297931805,
          0.03407821229050279,
          0.03836048344718865,
          0.04368421052631579,
          0.05972664295075829,
          0.053829828284777156,
          0.06387789711701526,
          0.03981797497155859,
          0.03571428571428571,
          0.024491534447875624,
          0.027839029768467475,
          0.06078257566164366,
          0.07085524494879601,
          0.0730282375851996,
          0.07064935064935066,
          0.04221229394546295,
          0.0579250148780004,
          0.047251363827108685,
          0.03635179153094462,
          0.03328050713153724,
          0.03314659197012138,
          0.041969781757134866,
          0.027709861450692746,
          0.022731865023237017,
          0.024978216671507406,
          0.023110965415505655,
          0.03616429389625266,
          0.051270207852193994,
          0.056647398843930635,
          0.03950413223140496,
          0.051903651903651905,
          0.07606333436820863,
          0.08816425120772947,
          0.060862354892205636,
          0.08237643534697953,
          0.07049486461251167,
          0.0697084917617237,
          0.11354686269362037,
          0.09718941898913556,
          0.06890674458242026,
          0.04848634014275166,
          0.047792998477929984,
          0.060770750988142296,
          0.04007363353157746,
          0.07432712215320911,
          0.07094495142773036,
          0.06347766946270687,
          0.08207407407407408,
          0.10933940774487472,
          0.08125,
          0.06529246708396287,
          0.05100612423447069,
          0.04055321143928739,
          0.04886561954624782,
          0.051897435897435895,
          0.0760306608659623,
          0.06176652254478073,
          0.04785490567412048,
          0.048697137975224264,
          0.057474440453163855,
          0.07777702565491099,
          0.07660728117738187,
          0.11881957028216412,
          0.1511308391460579,
          0.1064423862707709,
          0.12091776921788645,
          0.08677137484791506,
          0.0951115834218916,
          0.08254234813084112,
          0.08286700797714014,
          0.11497252747252747,
          0.09343022393593356,
          0.09420234551883792,
          0.07613427020329644,
          0.077751539361303,
          0.13245873889123994,
          0.19913106444605358,
          0.24097923192945817,
          0.222225935828877,
          0.24506394766311074,
          0.2884419141736935,
          0.27884346121534587,
          0.24715482070002148,
          0.2776529338327091,
          0.3050479464447259,
          0.35704514363885087,
          0.34022094011360077,
          0.22840968931016326,
          0.1591314693634741,
          0.0878262021459796,
          0.05582255083179297,
          0.07234432234432235,
          0.06593406593406594,
          0.07613837965700769,
          0.10740282928169208,
          0.16438098816456886,
          0.1285483717839172,
          0.08138658628485305,
          0.11162079510703364,
          0.20794148380355276,
          0.2117918877289064,
          0.05371049015116812,
          0.049353391396146744,
          0.0377518358124647,
          0.03811300639658849,
          0.057777777777777775,
          0.03988404638144742,
          0.043132803632236094,
          0.031563081833495876,
          0.01956078243129725,
          0.01858695652173913,
          0.036659228562320685,
          0.02840382834208089,
          0.01999005469915465,
          0.020981991165477405,
          0.04767251057949737,
          0.030349622300955947,
          0.034921187842898195,
          0.0337356855462705,
          0.030817972350230413,
          0.027080844285145362,
          0.03154848046309696,
          0.026359143327841845,
          0.017759753880576143,
          0.021748492678725237,
          0.031955438287892116,
          0.024843096234309622,
          0.02891341520286025,
          0.03741995216418486,
          0.017508196721311476,
          0.026968474525623787,
          0.03536010404812226,
          0.05804749340369393,
          0.029229406554472984,
          0.029392117568470273,
          0.025071997289513807,
          0.027413809125545953,
          0.027553702528777306,
          0.05920726672171759,
          0.07808564231738035,
          0.06873857404021938,
          0.09260623925325473,
          0.06244109330819981,
          0.027359977080647472,
          0.030826140567200986,
          0.03196853569987898,
          0.047637795275590554,
          0.0628224117677103,
          0.05100322378867343,
          0.056830377676700565,
          0.0920682799753205,
          0.12346921657440027,
          0.1324779203466089,
          0.06611708349579458,
          0.06111940682766078,
          0.05522926326635755,
          0.09283167935253878,
          0.15762306970395018,
          0.0702490525175961,
          0.08083172679702562,
          0.05854876751607085,
          0.05575553955683545,
          0.09234387121799845,
          0.10423452768729642
         ],
         "yaxis": "y"
        },
        {
         "hovertemplate": "Symbol=BB<br>Day=%{x}<br>Percent of mentions (daily)=%{y}<extra></extra>",
         "legendgroup": "BB",
         "line": {
          "color": "#FFA15A",
          "dash": "solid"
         },
         "mode": "lines",
         "name": "BB",
         "orientation": "v",
         "showlegend": true,
         "type": "scatter",
         "x": [
          "2021-08-30T00:00:00+00:00",
          "2021-08-29T00:00:00+00:00",
          "2021-08-28T00:00:00+00:00",
          "2021-08-27T00:00:00+00:00",
          "2021-08-26T00:00:00+00:00",
          "2021-08-25T00:00:00+00:00",
          "2021-08-24T00:00:00+00:00",
          "2021-08-23T00:00:00+00:00",
          "2021-08-22T00:00:00+00:00",
          "2021-08-21T00:00:00+00:00",
          "2021-08-20T00:00:00+00:00",
          "2021-08-19T00:00:00+00:00",
          "2021-08-18T00:00:00+00:00",
          "2021-08-17T00:00:00+00:00",
          "2021-08-16T00:00:00+00:00",
          "2021-08-15T00:00:00+00:00",
          "2021-08-14T00:00:00+00:00",
          "2021-08-13T00:00:00+00:00",
          "2021-08-12T00:00:00+00:00",
          "2021-08-11T00:00:00+00:00",
          "2021-08-10T00:00:00+00:00",
          "2021-08-09T00:00:00+00:00",
          "2021-08-08T00:00:00+00:00",
          "2021-08-07T00:00:00+00:00",
          "2021-08-06T00:00:00+00:00",
          "2021-08-05T00:00:00+00:00",
          "2021-08-04T00:00:00+00:00",
          "2021-08-03T00:00:00+00:00",
          "2021-08-02T00:00:00+00:00",
          "2021-08-01T00:00:00+00:00",
          "2021-07-31T00:00:00+00:00",
          "2021-07-30T00:00:00+00:00",
          "2021-07-29T00:00:00+00:00",
          "2021-07-28T00:00:00+00:00",
          "2021-07-27T00:00:00+00:00",
          "2021-07-26T00:00:00+00:00",
          "2021-07-25T00:00:00+00:00",
          "2021-07-24T00:00:00+00:00",
          "2021-07-23T00:00:00+00:00",
          "2021-07-22T00:00:00+00:00",
          "2021-07-21T00:00:00+00:00",
          "2021-07-20T00:00:00+00:00",
          "2021-07-19T00:00:00+00:00",
          "2021-07-18T00:00:00+00:00",
          "2021-07-17T00:00:00+00:00",
          "2021-07-16T00:00:00+00:00",
          "2021-07-15T00:00:00+00:00",
          "2021-07-14T00:00:00+00:00",
          "2021-07-13T00:00:00+00:00",
          "2021-07-12T00:00:00+00:00",
          "2021-07-11T00:00:00+00:00",
          "2021-07-10T00:00:00+00:00",
          "2021-07-09T00:00:00+00:00",
          "2021-07-08T00:00:00+00:00",
          "2021-07-07T00:00:00+00:00",
          "2021-07-06T00:00:00+00:00",
          "2021-07-05T00:00:00+00:00",
          "2021-07-04T00:00:00+00:00",
          "2021-07-03T00:00:00+00:00",
          "2021-07-02T00:00:00+00:00",
          "2021-07-01T00:00:00+00:00",
          "2021-06-30T00:00:00+00:00",
          "2021-06-29T00:00:00+00:00",
          "2021-06-28T00:00:00+00:00",
          "2021-06-27T00:00:00+00:00",
          "2021-06-26T00:00:00+00:00",
          "2021-06-25T00:00:00+00:00",
          "2021-06-24T00:00:00+00:00",
          "2021-06-23T00:00:00+00:00",
          "2021-06-22T00:00:00+00:00",
          "2021-06-21T00:00:00+00:00",
          "2021-06-20T00:00:00+00:00",
          "2021-06-19T00:00:00+00:00",
          "2021-06-18T00:00:00+00:00",
          "2021-06-17T00:00:00+00:00",
          "2021-06-16T00:00:00+00:00",
          "2021-06-15T00:00:00+00:00",
          "2021-06-14T00:00:00+00:00",
          "2021-06-13T00:00:00+00:00",
          "2021-06-12T00:00:00+00:00",
          "2021-06-11T00:00:00+00:00",
          "2021-06-10T00:00:00+00:00",
          "2021-06-09T00:00:00+00:00",
          "2021-06-08T00:00:00+00:00",
          "2021-06-07T00:00:00+00:00",
          "2021-06-06T00:00:00+00:00",
          "2021-06-05T00:00:00+00:00",
          "2021-06-04T00:00:00+00:00",
          "2021-06-03T00:00:00+00:00",
          "2021-06-02T00:00:00+00:00",
          "2021-06-01T00:00:00+00:00",
          "2021-05-31T00:00:00+00:00",
          "2021-05-30T00:00:00+00:00",
          "2021-05-29T00:00:00+00:00",
          "2021-05-28T00:00:00+00:00",
          "2021-05-27T00:00:00+00:00",
          "2021-05-26T00:00:00+00:00",
          "2021-05-25T00:00:00+00:00",
          "2021-05-24T00:00:00+00:00",
          "2021-05-23T00:00:00+00:00",
          "2021-05-22T00:00:00+00:00",
          "2021-05-21T00:00:00+00:00",
          "2021-05-20T00:00:00+00:00",
          "2021-05-19T00:00:00+00:00",
          "2021-05-18T00:00:00+00:00",
          "2021-05-17T00:00:00+00:00",
          "2021-05-16T00:00:00+00:00",
          "2021-05-15T00:00:00+00:00",
          "2021-05-14T00:00:00+00:00",
          "2021-05-13T00:00:00+00:00",
          "2021-05-12T00:00:00+00:00",
          "2021-05-11T00:00:00+00:00",
          "2021-05-10T00:00:00+00:00",
          "2021-05-09T00:00:00+00:00",
          "2021-05-08T00:00:00+00:00",
          "2021-05-07T00:00:00+00:00",
          "2021-05-06T00:00:00+00:00",
          "2021-05-05T00:00:00+00:00",
          "2021-05-04T00:00:00+00:00",
          "2021-05-03T00:00:00+00:00",
          "2021-05-02T00:00:00+00:00",
          "2021-05-01T00:00:00+00:00",
          "2021-04-30T00:00:00+00:00",
          "2021-04-29T00:00:00+00:00",
          "2021-04-28T00:00:00+00:00",
          "2021-04-27T00:00:00+00:00",
          "2021-04-26T00:00:00+00:00",
          "2021-04-25T00:00:00+00:00",
          "2021-04-24T00:00:00+00:00",
          "2021-04-23T00:00:00+00:00",
          "2021-04-22T00:00:00+00:00",
          "2021-04-21T00:00:00+00:00",
          "2021-04-20T00:00:00+00:00",
          "2021-04-19T00:00:00+00:00",
          "2021-04-18T00:00:00+00:00",
          "2021-04-17T00:00:00+00:00",
          "2021-04-16T00:00:00+00:00",
          "2021-04-15T00:00:00+00:00",
          "2021-04-14T00:00:00+00:00",
          "2021-04-13T00:00:00+00:00",
          "2021-04-12T00:00:00+00:00",
          "2021-04-11T00:00:00+00:00",
          "2021-04-10T00:00:00+00:00",
          "2021-04-09T00:00:00+00:00",
          "2021-04-08T00:00:00+00:00",
          "2021-04-07T00:00:00+00:00",
          "2021-04-06T00:00:00+00:00",
          "2021-04-05T00:00:00+00:00",
          "2021-04-04T00:00:00+00:00",
          "2021-04-03T00:00:00+00:00",
          "2021-04-02T00:00:00+00:00",
          "2021-04-01T00:00:00+00:00",
          "2021-03-31T00:00:00+00:00",
          "2021-03-30T00:00:00+00:00",
          "2021-03-29T00:00:00+00:00",
          "2021-03-26T00:00:00+00:00",
          "2021-03-25T00:00:00+00:00",
          "2021-03-24T00:00:00+00:00",
          "2021-03-23T00:00:00+00:00",
          "2021-03-22T00:00:00+00:00",
          "2021-03-21T00:00:00+00:00",
          "2021-03-20T00:00:00+00:00",
          "2021-03-19T00:00:00+00:00",
          "2021-03-18T00:00:00+00:00",
          "2021-03-17T00:00:00+00:00",
          "2021-03-16T00:00:00+00:00",
          "2021-03-15T00:00:00+00:00",
          "2021-03-14T00:00:00+00:00",
          "2021-03-13T00:00:00+00:00",
          "2021-03-12T00:00:00+00:00",
          "2021-03-11T00:00:00+00:00",
          "2021-03-10T00:00:00+00:00",
          "2021-03-09T00:00:00+00:00"
         ],
         "xaxis": "x",
         "y": [
          0.02253147779986746,
          0.018128368446839783,
          0.011566771819137749,
          0.03749753305703572,
          0.029342723004694836,
          0.055971673702846246,
          0.039874551971326166,
          0.011387762980119669,
          0.006783493499152063,
          0.0072666294019005035,
          0.00968342644320298,
          0.01348747591522158,
          0.023859649122807018,
          0.020969855832241154,
          0.01582095311595601,
          0.008479366873940079,
          0.017064846416382253,
          0.009036144578313253,
          0.005004791821957193,
          0.013368246968026461,
          0.005824996834240851,
          0.0071962358151120955,
          0.004381694255111977,
          0.014025974025974027,
          0.007702973347712217,
          0.010216226939099385,
          0.006966009232060428,
          0.011596091205211727,
          0.010565240359218173,
          0.012605042016806723,
          0.011751538891997761,
          0.009127954360228199,
          0.009193776520509194,
          0.03020621550972989,
          0.01376823471562039,
          0.016363933889707086,
          0.006004618937644342,
          0.008477842003853564,
          0.008264462809917356,
          0.009790209790209791,
          0.023129462899720583,
          0.03761214630779848,
          0.017081260364842456,
          0.02196704942586121,
          0.023809523809523808,
          0.024443237370994023,
          0.02060908374901549,
          0.023500236183278223,
          0.027148770392013636,
          0.02165887275412257,
          0.0106544901065449,
          0.010869565217391304,
          0.017133956386292833,
          0.01832298136645963,
          0.022274555980767344,
          0.025277714803899343,
          0.030814814814814816,
          0.023538344722854973,
          0.03701923076923077,
          0.02007338657457371,
          0.02537182852143482,
          0.023284888263791218,
          0.03759453170447935,
          0.05100854700854701,
          0.033146882121400455,
          0.04910438542310068,
          0.05776094398718042,
          0.0473444396981347,
          0.04213871235147831,
          0.07290326947810194,
          0.07343144848954299,
          0.050737768573647424,
          0.06658211794546608,
          0.07831653500408609,
          0.08809244682632725,
          0.054750580687976995,
          0.04543039319872476,
          0.053738317757009345,
          0.051077509227288966,
          0.06978021978021978,
          0.08653418359780513,
          0.08265282759673358,
          0.0766070526092698,
          0.11078987442342919,
          0.22090562843842573,
          0.21252715423606083,
          0.22241559345631745,
          0.30427807486631014,
          0.33013103868293353,
          0.274611955529298,
          0.23949873984878187,
          0.17028129697229977,
          0.11785268414481898,
          0.09010313008865568,
          0.11980267794221283,
          0.0728565678250369,
          0.05206687730384413,
          0.012690858615903232,
          0.004768843555437806,
          0.0044362292051756,
          0.010073260073260074,
          0.007007485268354834,
          0.006800709639266706,
          0.009751407773657465,
          0.013244411046402404,
          0.006076141650052217,
          0.009419743782969104,
          0.012996941896024464,
          0.016509926854754442,
          0.012236864624336813,
          0.00950526797984425,
          0.00668602093780241,
          0.0052720768216908305,
          0.00826226012793177,
          0.01019607843137255,
          0.01289484206317473,
          0.0069996216420734015,
          0.0073588084050004434,
          0.006840273610944437,
          0.005760869565217391,
          0.007650621613006056,
          0.009879592466810744,
          0.007558428642466435,
          0.009259259259259259,
          0.009068140599360912,
          0.012166588675713618,
          0.01175650962292084,
          0.014856081708449397,
          0.008352534562211982,
          0.011549183592194345,
          0.014037626628075252,
          0.023476112026359144,
          0.022234652496154386,
          0.01475021533161068,
          0.023453532688361183,
          0.01882845188284519,
          0.009948702005285248,
          0.012344726487153769,
          0.008721311475409835,
          0.011280442253100254,
          0.012437002113477483,
          0.012019935502785108,
          0.006495423678771774,
          0.01660463784712282,
          0.022700321870235473,
          0.03010872595483691,
          0.01694915254237288,
          0.01750619322873658,
          0.02172544080604534,
          0.016819012797074956,
          0.020388111029231146,
          0.020420986490732013,
          0.04583870505658215,
          0.04123852582545554,
          0.018959257765227916,
          0.0078083989501312335,
          0.009040298278768068,
          0.007602367319443776,
          0.008125926304492258,
          0.009666141084527319,
          0.007213554772689146,
          0.00899850024995834,
          0.00646131565755027,
          0.007054219659131868,
          0.008552292632663576,
          0.014548607765680701,
          0.01923897278389216,
          0.01312939902544667,
          0.024098044615808317,
          0.03204920686306248,
          0.008039356851451884,
          0.01372187742435997,
          0.016612377850162865
         ],
         "yaxis": "y"
        },
        {
         "hovertemplate": "Symbol=HOOD<br>Day=%{x}<br>Percent of mentions (daily)=%{y}<extra></extra>",
         "legendgroup": "HOOD",
         "line": {
          "color": "#19d3f3",
          "dash": "solid"
         },
         "mode": "lines",
         "name": "HOOD",
         "orientation": "v",
         "showlegend": true,
         "type": "scatter",
         "x": [
          "2021-08-30T00:00:00+00:00",
          "2021-08-29T00:00:00+00:00",
          "2021-08-28T00:00:00+00:00",
          "2021-08-27T00:00:00+00:00",
          "2021-08-26T00:00:00+00:00",
          "2021-08-25T00:00:00+00:00",
          "2021-08-24T00:00:00+00:00",
          "2021-08-23T00:00:00+00:00",
          "2021-08-22T00:00:00+00:00",
          "2021-08-21T00:00:00+00:00",
          "2021-08-20T00:00:00+00:00",
          "2021-08-19T00:00:00+00:00",
          "2021-08-18T00:00:00+00:00",
          "2021-08-17T00:00:00+00:00",
          "2021-08-16T00:00:00+00:00",
          "2021-08-15T00:00:00+00:00",
          "2021-08-14T00:00:00+00:00",
          "2021-08-13T00:00:00+00:00",
          "2021-08-12T00:00:00+00:00",
          "2021-08-11T00:00:00+00:00",
          "2021-08-10T00:00:00+00:00",
          "2021-08-09T00:00:00+00:00",
          "2021-08-08T00:00:00+00:00",
          "2021-08-07T00:00:00+00:00",
          "2021-08-06T00:00:00+00:00",
          "2021-08-05T00:00:00+00:00",
          "2021-08-04T00:00:00+00:00",
          "2021-08-03T00:00:00+00:00",
          "2021-08-02T00:00:00+00:00",
          "2021-08-01T00:00:00+00:00",
          "2021-07-31T00:00:00+00:00",
          "2021-07-30T00:00:00+00:00",
          "2021-07-29T00:00:00+00:00",
          "2021-07-28T00:00:00+00:00",
          "2021-07-27T00:00:00+00:00",
          "2021-07-26T00:00:00+00:00",
          "2021-07-25T00:00:00+00:00",
          "2021-07-24T00:00:00+00:00",
          "2021-07-23T00:00:00+00:00",
          "2021-07-22T00:00:00+00:00",
          "2021-07-21T00:00:00+00:00",
          "2021-07-20T00:00:00+00:00",
          "2021-07-19T00:00:00+00:00",
          "2021-07-18T00:00:00+00:00",
          "2021-07-17T00:00:00+00:00",
          "2021-07-16T00:00:00+00:00",
          "2021-07-15T00:00:00+00:00",
          "2021-07-14T00:00:00+00:00",
          "2021-07-12T00:00:00+00:00",
          "2021-07-10T00:00:00+00:00",
          "2021-07-08T00:00:00+00:00",
          "2021-07-07T00:00:00+00:00",
          "2021-07-06T00:00:00+00:00",
          "2021-07-05T00:00:00+00:00",
          "2021-07-04T00:00:00+00:00",
          "2021-07-03T00:00:00+00:00",
          "2021-07-02T00:00:00+00:00",
          "2021-07-01T00:00:00+00:00",
          "2021-06-25T00:00:00+00:00",
          "2021-06-23T00:00:00+00:00",
          "2021-06-22T00:00:00+00:00",
          "2021-06-20T00:00:00+00:00",
          "2021-06-19T00:00:00+00:00",
          "2021-06-10T00:00:00+00:00",
          "2021-06-09T00:00:00+00:00",
          "2021-06-08T00:00:00+00:00",
          "2021-06-02T00:00:00+00:00",
          "2021-05-27T00:00:00+00:00",
          "2021-05-24T00:00:00+00:00",
          "2021-05-21T00:00:00+00:00",
          "2021-05-19T00:00:00+00:00",
          "2021-05-18T00:00:00+00:00",
          "2021-05-17T00:00:00+00:00",
          "2021-05-16T00:00:00+00:00",
          "2021-05-11T00:00:00+00:00",
          "2021-05-10T00:00:00+00:00",
          "2021-05-06T00:00:00+00:00",
          "2021-04-27T00:00:00+00:00",
          "2021-04-26T00:00:00+00:00",
          "2021-04-20T00:00:00+00:00",
          "2021-04-17T00:00:00+00:00",
          "2021-04-16T00:00:00+00:00",
          "2021-04-15T00:00:00+00:00",
          "2021-04-13T00:00:00+00:00",
          "2021-04-11T00:00:00+00:00",
          "2021-04-09T00:00:00+00:00",
          "2021-04-07T00:00:00+00:00",
          "2021-04-02T00:00:00+00:00",
          "2021-03-30T00:00:00+00:00",
          "2021-03-26T00:00:00+00:00",
          "2021-03-25T00:00:00+00:00",
          "2021-03-23T00:00:00+00:00",
          "2021-03-22T00:00:00+00:00",
          "2021-03-19T00:00:00+00:00",
          "2021-03-18T00:00:00+00:00",
          "2021-03-17T00:00:00+00:00",
          "2021-03-16T00:00:00+00:00",
          "2021-03-13T00:00:00+00:00",
          "2021-03-11T00:00:00+00:00",
          "2021-03-10T00:00:00+00:00"
         ],
         "xaxis": "x",
         "y": [
          0.0026507620941020544,
          0.005879470847623714,
          0.005257623554153523,
          0.004341819617130452,
          0.003325508607198748,
          0.009669072586136456,
          0.005824372759856631,
          0.009264620729588882,
          0.005087620124364048,
          0.010061486864169928,
          0.012104283054003724,
          0.019793308810649852,
          0.04982456140350877,
          0.012544467328215689,
          0.012733937873818251,
          0.011871113623516111,
          0.017064846416382253,
          0.015060240963855422,
          0.009690128846768183,
          0.015297684674751929,
          0.010257059642902367,
          0.019789648491558263,
          0.021421616358325218,
          0.02909090909090909,
          0.06886458172854722,
          0.12914104344376115,
          0.24255140579101972,
          0.15413680781758957,
          0.03645007923930269,
          0.06535947712418301,
          0.04756575265808618,
          0.08296658516707417,
          0.18862396443726004,
          0.015393552134766193,
          0.003933781347320112,
          0.0027818687612502046,
          0.009237875288683603,
          0.005394990366088632,
          0.0028099173553719006,
          0.0029526029526029526,
          0.003104625892579944,
          0.005003450655624569,
          0.013432835820895522,
          0.0014977533699450823,
          0.0009337068160597573,
          0.0001810610175629187,
          0.00026253609871357313,
          0.00011809163911195088,
          0.00012306177701206005,
          0.0004940711462450593,
          0.00020703933747412008,
          0.0008831321754489255,
          0.0006801178871004307,
          0.0002962962962962963,
          0.003416856492027335,
          0.00625,
          0.003669328728685517,
          0.005161854768153981,
          7.283851700779372e-05,
          0.00013815971262779773,
          6.769105801123671e-05,
          0.0002588661661920787,
          0.0004227436060029592,
          5.0878933577552216e-05,
          1.6302841585288316e-05,
          4.41393922005694e-05,
          5.3708577259788386e-05,
          8.944943870477213e-05,
          0.00013246787653993907,
          0.00015926102882624622,
          0.0002746875429199286,
          9.393199323689649e-05,
          9.493971328206589e-05,
          0.00037678975131876413,
          8.797395970792646e-05,
          9.414422895876483e-05,
          6.30596544330937e-05,
          6.68493883280968e-05,
          8.708525646608029e-05,
          0.00027968116347364006,
          0.0002615062761506276,
          7.7724234416291e-05,
          7.715454054471106e-05,
          7.470491558344539e-05,
          0.0002931691586045148,
          0.00047714476572192005,
          9.292816652727442e-05,
          0.00024563989191844754,
          0.0002055076037813399,
          0.00013123359580052493,
          0.00010215026303692733,
          0.00035774518321664023,
          6.855419208884623e-05,
          0.00016710299114354148,
          0.00010298130889243603,
          0.00020607934054611026,
          0.00014452259369881492,
          0.00013770311209033325,
          3.999680025597952e-05,
          9.69743987587277e-05
         ],
         "yaxis": "y"
        }
       ],
       "layout": {
        "annotations": [
         {
          "align": "right",
          "height": 40,
          "showarrow": false,
          "text": "<a style=\"color: rgb(100, 130, 180);\" href=\"https://beneath.dev/\">beneath.dev</a>",
          "x": 1,
          "xanchor": "right",
          "xref": "paper",
          "y": 1,
          "yanchor": "bottom",
          "yref": "paper",
          "yshift": 13
         },
         {
          "align": "left",
          "font": {
           "size": 12
          },
          "height": 16,
          "showarrow": false,
          "text": "Share of mentions across all stocks on r/wallstreetbets",
          "x": 0,
          "xanchor": "left",
          "xref": "paper",
          "y": 1,
          "yanchor": "bottom",
          "yref": "paper",
          "yshift": 13
         },
         {
          "align": "left",
          "font": {
           "size": 18
          },
          "height": 24,
          "showarrow": false,
          "text": "<b>Ebbs and Flows of Select Meme Stocks</b>",
          "x": 0,
          "xanchor": "left",
          "xref": "paper",
          "y": 1,
          "yanchor": "bottom",
          "yref": "paper",
          "yshift": 29
         }
        ],
        "colorway": [
         "rgb(60, 170, 255)",
         "rgb(255, 60, 130)",
         "rgb(100, 200, 100)",
         "rgb(200, 220, 240)",
         "rgb(251, 241, 67)",
         "rgb(203, 60, 255)",
         "rgb(249, 148, 66)",
         "rgb(36, 130, 36)",
         "rgb(238, 255, 234)"
        ],
        "dragmode": "select",
        "font": {
         "color": "#e1e1e1",
         "family": "SFMono-Regular,Menlo,Monaco,Consolas,Liberation Mono,Courier,monospace"
        },
        "legend": {
         "orientation": "h",
         "title": {
          "text": "Symbol"
         },
         "tracegroupgap": 0,
         "x": 0,
         "y": -0.1,
         "yanchor": "top"
        },
        "margin": {
         "autoexpand": true,
         "b": 30,
         "l": 35,
         "r": 20,
         "t": 68
        },
        "paper_bgcolor": "#1b2442",
        "plot_bgcolor": "#1b2442",
        "template": {
         "data": {
          "bar": [
           {
            "error_x": {
             "color": "#2a3f5f"
            },
            "error_y": {
             "color": "#2a3f5f"
            },
            "marker": {
             "line": {
              "color": "#E5ECF6",
              "width": 0.5
             },
             "pattern": {
              "fillmode": "overlay",
              "size": 10,
              "solidity": 0.2
             }
            },
            "type": "bar"
           }
          ],
          "barpolar": [
           {
            "marker": {
             "line": {
              "color": "#E5ECF6",
              "width": 0.5
             },
             "pattern": {
              "fillmode": "overlay",
              "size": 10,
              "solidity": 0.2
             }
            },
            "type": "barpolar"
           }
          ],
          "carpet": [
           {
            "aaxis": {
             "endlinecolor": "#2a3f5f",
             "gridcolor": "white",
             "linecolor": "white",
             "minorgridcolor": "white",
             "startlinecolor": "#2a3f5f"
            },
            "baxis": {
             "endlinecolor": "#2a3f5f",
             "gridcolor": "white",
             "linecolor": "white",
             "minorgridcolor": "white",
             "startlinecolor": "#2a3f5f"
            },
            "type": "carpet"
           }
          ],
          "choropleth": [
           {
            "colorbar": {
             "outlinewidth": 0,
             "ticks": ""
            },
            "type": "choropleth"
           }
          ],
          "contour": [
           {
            "colorbar": {
             "outlinewidth": 0,
             "ticks": ""
            },
            "colorscale": [
             [
              0,
              "#0d0887"
             ],
             [
              0.1111111111111111,
              "#46039f"
             ],
             [
              0.2222222222222222,
              "#7201a8"
             ],
             [
              0.3333333333333333,
              "#9c179e"
             ],
             [
              0.4444444444444444,
              "#bd3786"
             ],
             [
              0.5555555555555556,
              "#d8576b"
             ],
             [
              0.6666666666666666,
              "#ed7953"
             ],
             [
              0.7777777777777778,
              "#fb9f3a"
             ],
             [
              0.8888888888888888,
              "#fdca26"
             ],
             [
              1,
              "#f0f921"
             ]
            ],
            "type": "contour"
           }
          ],
          "contourcarpet": [
           {
            "colorbar": {
             "outlinewidth": 0,
             "ticks": ""
            },
            "type": "contourcarpet"
           }
          ],
          "heatmap": [
           {
            "colorbar": {
             "outlinewidth": 0,
             "ticks": ""
            },
            "colorscale": [
             [
              0,
              "#0d0887"
             ],
             [
              0.1111111111111111,
              "#46039f"
             ],
             [
              0.2222222222222222,
              "#7201a8"
             ],
             [
              0.3333333333333333,
              "#9c179e"
             ],
             [
              0.4444444444444444,
              "#bd3786"
             ],
             [
              0.5555555555555556,
              "#d8576b"
             ],
             [
              0.6666666666666666,
              "#ed7953"
             ],
             [
              0.7777777777777778,
              "#fb9f3a"
             ],
             [
              0.8888888888888888,
              "#fdca26"
             ],
             [
              1,
              "#f0f921"
             ]
            ],
            "type": "heatmap"
           }
          ],
          "heatmapgl": [
           {
            "colorbar": {
             "outlinewidth": 0,
             "ticks": ""
            },
            "colorscale": [
             [
              0,
              "#0d0887"
             ],
             [
              0.1111111111111111,
              "#46039f"
             ],
             [
              0.2222222222222222,
              "#7201a8"
             ],
             [
              0.3333333333333333,
              "#9c179e"
             ],
             [
              0.4444444444444444,
              "#bd3786"
             ],
             [
              0.5555555555555556,
              "#d8576b"
             ],
             [
              0.6666666666666666,
              "#ed7953"
             ],
             [
              0.7777777777777778,
              "#fb9f3a"
             ],
             [
              0.8888888888888888,
              "#fdca26"
             ],
             [
              1,
              "#f0f921"
             ]
            ],
            "type": "heatmapgl"
           }
          ],
          "histogram": [
           {
            "marker": {
             "pattern": {
              "fillmode": "overlay",
              "size": 10,
              "solidity": 0.2
             }
            },
            "type": "histogram"
           }
          ],
          "histogram2d": [
           {
            "colorbar": {
             "outlinewidth": 0,
             "ticks": ""
            },
            "colorscale": [
             [
              0,
              "#0d0887"
             ],
             [
              0.1111111111111111,
              "#46039f"
             ],
             [
              0.2222222222222222,
              "#7201a8"
             ],
             [
              0.3333333333333333,
              "#9c179e"
             ],
             [
              0.4444444444444444,
              "#bd3786"
             ],
             [
              0.5555555555555556,
              "#d8576b"
             ],
             [
              0.6666666666666666,
              "#ed7953"
             ],
             [
              0.7777777777777778,
              "#fb9f3a"
             ],
             [
              0.8888888888888888,
              "#fdca26"
             ],
             [
              1,
              "#f0f921"
             ]
            ],
            "type": "histogram2d"
           }
          ],
          "histogram2dcontour": [
           {
            "colorbar": {
             "outlinewidth": 0,
             "ticks": ""
            },
            "colorscale": [
             [
              0,
              "#0d0887"
             ],
             [
              0.1111111111111111,
              "#46039f"
             ],
             [
              0.2222222222222222,
              "#7201a8"
             ],
             [
              0.3333333333333333,
              "#9c179e"
             ],
             [
              0.4444444444444444,
              "#bd3786"
             ],
             [
              0.5555555555555556,
              "#d8576b"
             ],
             [
              0.6666666666666666,
              "#ed7953"
             ],
             [
              0.7777777777777778,
              "#fb9f3a"
             ],
             [
              0.8888888888888888,
              "#fdca26"
             ],
             [
              1,
              "#f0f921"
             ]
            ],
            "type": "histogram2dcontour"
           }
          ],
          "mesh3d": [
           {
            "colorbar": {
             "outlinewidth": 0,
             "ticks": ""
            },
            "type": "mesh3d"
           }
          ],
          "parcoords": [
           {
            "line": {
             "colorbar": {
              "outlinewidth": 0,
              "ticks": ""
             }
            },
            "type": "parcoords"
           }
          ],
          "pie": [
           {
            "automargin": true,
            "type": "pie"
           }
          ],
          "scatter": [
           {
            "marker": {
             "colorbar": {
              "outlinewidth": 0,
              "ticks": ""
             }
            },
            "type": "scatter"
           }
          ],
          "scatter3d": [
           {
            "line": {
             "colorbar": {
              "outlinewidth": 0,
              "ticks": ""
             }
            },
            "marker": {
             "colorbar": {
              "outlinewidth": 0,
              "ticks": ""
             }
            },
            "type": "scatter3d"
           }
          ],
          "scattercarpet": [
           {
            "marker": {
             "colorbar": {
              "outlinewidth": 0,
              "ticks": ""
             }
            },
            "type": "scattercarpet"
           }
          ],
          "scattergeo": [
           {
            "marker": {
             "colorbar": {
              "outlinewidth": 0,
              "ticks": ""
             }
            },
            "type": "scattergeo"
           }
          ],
          "scattergl": [
           {
            "marker": {
             "colorbar": {
              "outlinewidth": 0,
              "ticks": ""
             }
            },
            "type": "scattergl"
           }
          ],
          "scattermapbox": [
           {
            "marker": {
             "colorbar": {
              "outlinewidth": 0,
              "ticks": ""
             }
            },
            "type": "scattermapbox"
           }
          ],
          "scatterpolar": [
           {
            "marker": {
             "colorbar": {
              "outlinewidth": 0,
              "ticks": ""
             }
            },
            "type": "scatterpolar"
           }
          ],
          "scatterpolargl": [
           {
            "marker": {
             "colorbar": {
              "outlinewidth": 0,
              "ticks": ""
             }
            },
            "type": "scatterpolargl"
           }
          ],
          "scatterternary": [
           {
            "marker": {
             "colorbar": {
              "outlinewidth": 0,
              "ticks": ""
             }
            },
            "type": "scatterternary"
           }
          ],
          "surface": [
           {
            "colorbar": {
             "outlinewidth": 0,
             "ticks": ""
            },
            "colorscale": [
             [
              0,
              "#0d0887"
             ],
             [
              0.1111111111111111,
              "#46039f"
             ],
             [
              0.2222222222222222,
              "#7201a8"
             ],
             [
              0.3333333333333333,
              "#9c179e"
             ],
             [
              0.4444444444444444,
              "#bd3786"
             ],
             [
              0.5555555555555556,
              "#d8576b"
             ],
             [
              0.6666666666666666,
              "#ed7953"
             ],
             [
              0.7777777777777778,
              "#fb9f3a"
             ],
             [
              0.8888888888888888,
              "#fdca26"
             ],
             [
              1,
              "#f0f921"
             ]
            ],
            "type": "surface"
           }
          ],
          "table": [
           {
            "cells": {
             "fill": {
              "color": "#EBF0F8"
             },
             "line": {
              "color": "white"
             }
            },
            "header": {
             "fill": {
              "color": "#C8D4E3"
             },
             "line": {
              "color": "white"
             }
            },
            "type": "table"
           }
          ]
         },
         "layout": {
          "annotationdefaults": {
           "arrowcolor": "#2a3f5f",
           "arrowhead": 0,
           "arrowwidth": 1
          },
          "autotypenumbers": "strict",
          "coloraxis": {
           "colorbar": {
            "outlinewidth": 0,
            "ticks": ""
           }
          },
          "colorscale": {
           "diverging": [
            [
             0,
             "#8e0152"
            ],
            [
             0.1,
             "#c51b7d"
            ],
            [
             0.2,
             "#de77ae"
            ],
            [
             0.3,
             "#f1b6da"
            ],
            [
             0.4,
             "#fde0ef"
            ],
            [
             0.5,
             "#f7f7f7"
            ],
            [
             0.6,
             "#e6f5d0"
            ],
            [
             0.7,
             "#b8e186"
            ],
            [
             0.8,
             "#7fbc41"
            ],
            [
             0.9,
             "#4d9221"
            ],
            [
             1,
             "#276419"
            ]
           ],
           "sequential": [
            [
             0,
             "#0d0887"
            ],
            [
             0.1111111111111111,
             "#46039f"
            ],
            [
             0.2222222222222222,
             "#7201a8"
            ],
            [
             0.3333333333333333,
             "#9c179e"
            ],
            [
             0.4444444444444444,
             "#bd3786"
            ],
            [
             0.5555555555555556,
             "#d8576b"
            ],
            [
             0.6666666666666666,
             "#ed7953"
            ],
            [
             0.7777777777777778,
             "#fb9f3a"
            ],
            [
             0.8888888888888888,
             "#fdca26"
            ],
            [
             1,
             "#f0f921"
            ]
           ],
           "sequentialminus": [
            [
             0,
             "#0d0887"
            ],
            [
             0.1111111111111111,
             "#46039f"
            ],
            [
             0.2222222222222222,
             "#7201a8"
            ],
            [
             0.3333333333333333,
             "#9c179e"
            ],
            [
             0.4444444444444444,
             "#bd3786"
            ],
            [
             0.5555555555555556,
             "#d8576b"
            ],
            [
             0.6666666666666666,
             "#ed7953"
            ],
            [
             0.7777777777777778,
             "#fb9f3a"
            ],
            [
             0.8888888888888888,
             "#fdca26"
            ],
            [
             1,
             "#f0f921"
            ]
           ]
          },
          "colorway": [
           "#636efa",
           "#EF553B",
           "#00cc96",
           "#ab63fa",
           "#FFA15A",
           "#19d3f3",
           "#FF6692",
           "#B6E880",
           "#FF97FF",
           "#FECB52"
          ],
          "font": {
           "color": "#2a3f5f"
          },
          "geo": {
           "bgcolor": "white",
           "lakecolor": "white",
           "landcolor": "#E5ECF6",
           "showlakes": true,
           "showland": true,
           "subunitcolor": "white"
          },
          "hoverlabel": {
           "align": "left"
          },
          "hovermode": "closest",
          "mapbox": {
           "style": "light"
          },
          "paper_bgcolor": "white",
          "plot_bgcolor": "#E5ECF6",
          "polar": {
           "angularaxis": {
            "gridcolor": "white",
            "linecolor": "white",
            "ticks": ""
           },
           "bgcolor": "#E5ECF6",
           "radialaxis": {
            "gridcolor": "white",
            "linecolor": "white",
            "ticks": ""
           }
          },
          "scene": {
           "xaxis": {
            "backgroundcolor": "#E5ECF6",
            "gridcolor": "white",
            "gridwidth": 2,
            "linecolor": "white",
            "showbackground": true,
            "ticks": "",
            "zerolinecolor": "white"
           },
           "yaxis": {
            "backgroundcolor": "#E5ECF6",
            "gridcolor": "white",
            "gridwidth": 2,
            "linecolor": "white",
            "showbackground": true,
            "ticks": "",
            "zerolinecolor": "white"
           },
           "zaxis": {
            "backgroundcolor": "#E5ECF6",
            "gridcolor": "white",
            "gridwidth": 2,
            "linecolor": "white",
            "showbackground": true,
            "ticks": "",
            "zerolinecolor": "white"
           }
          },
          "shapedefaults": {
           "line": {
            "color": "#2a3f5f"
           }
          },
          "ternary": {
           "aaxis": {
            "gridcolor": "white",
            "linecolor": "white",
            "ticks": ""
           },
           "baxis": {
            "gridcolor": "white",
            "linecolor": "white",
            "ticks": ""
           },
           "bgcolor": "#E5ECF6",
           "caxis": {
            "gridcolor": "white",
            "linecolor": "white",
            "ticks": ""
           }
          },
          "title": {
           "x": 0.05
          },
          "xaxis": {
           "automargin": true,
           "gridcolor": "white",
           "linecolor": "white",
           "ticks": "",
           "title": {
            "standoff": 15
           },
           "zerolinecolor": "white",
           "zerolinewidth": 2
          },
          "yaxis": {
           "automargin": true,
           "gridcolor": "white",
           "linecolor": "white",
           "ticks": "",
           "title": {
            "standoff": 15
           },
           "zerolinecolor": "white",
           "zerolinewidth": 2
          }
         }
        },
        "title": {
         "font": {
          "color": "#1b2442",
          "size": 1
         },
         "text": "Ebbs and Flows of Select Meme Stocks"
        },
        "xaxis": {
         "anchor": "y",
         "domain": [
          0,
          1
         ],
         "gridcolor": "rgb(44, 53, 72)",
         "title": {
          "text": ""
         },
         "zerolinecolor": "#e1e1e1"
        },
        "yaxis": {
         "anchor": "x",
         "domain": [
          0,
          1
         ],
         "gridcolor": "rgb(44, 53, 72)",
         "tickformat": ",.0%",
         "title": {
          "text": "Percent of mentions (daily)"
         },
         "zerolinecolor": "#e1e1e1"
        }
       }
      },
      "text/html": [
       "<div>                            <div id=\"ca29abbf-8991-439e-8e9b-a96c529a19bb\" class=\"plotly-graph-div\" style=\"height:525px; width:100%;\"></div>            <script type=\"text/javascript\">                require([\"plotly\"], function(Plotly) {                    window.PLOTLYENV=window.PLOTLYENV || {};                                    if (document.getElementById(\"ca29abbf-8991-439e-8e9b-a96c529a19bb\")) {                    Plotly.newPlot(                        \"ca29abbf-8991-439e-8e9b-a96c529a19bb\",                        [{\"hovertemplate\":\"Symbol=SPCE<br>Day=%{x}<br>Percent of mentions (daily)=%{y}<extra></extra>\",\"legendgroup\":\"SPCE\",\"line\":{\"color\":\"#636efa\",\"dash\":\"solid\"},\"mode\":\"lines\",\"name\":\"SPCE\",\"orientation\":\"v\",\"showlegend\":true,\"type\":\"scatter\",\"x\":[\"2021-08-30T00:00:00+00:00\",\"2021-08-29T00:00:00+00:00\",\"2021-08-28T00:00:00+00:00\",\"2021-08-27T00:00:00+00:00\",\"2021-08-26T00:00:00+00:00\",\"2021-08-25T00:00:00+00:00\",\"2021-08-24T00:00:00+00:00\",\"2021-08-23T00:00:00+00:00\",\"2021-08-22T00:00:00+00:00\",\"2021-08-21T00:00:00+00:00\",\"2021-08-20T00:00:00+00:00\",\"2021-08-19T00:00:00+00:00\",\"2021-08-18T00:00:00+00:00\",\"2021-08-17T00:00:00+00:00\",\"2021-08-16T00:00:00+00:00\",\"2021-08-15T00:00:00+00:00\",\"2021-08-14T00:00:00+00:00\",\"2021-08-13T00:00:00+00:00\",\"2021-08-12T00:00:00+00:00\",\"2021-08-11T00:00:00+00:00\",\"2021-08-10T00:00:00+00:00\",\"2021-08-09T00:00:00+00:00\",\"2021-08-08T00:00:00+00:00\",\"2021-08-07T00:00:00+00:00\",\"2021-08-06T00:00:00+00:00\",\"2021-08-05T00:00:00+00:00\",\"2021-08-04T00:00:00+00:00\",\"2021-08-03T00:00:00+00:00\",\"2021-08-02T00:00:00+00:00\",\"2021-08-01T00:00:00+00:00\",\"2021-07-31T00:00:00+00:00\",\"2021-07-30T00:00:00+00:00\",\"2021-07-29T00:00:00+00:00\",\"2021-07-28T00:00:00+00:00\",\"2021-07-27T00:00:00+00:00\",\"2021-07-26T00:00:00+00:00\",\"2021-07-25T00:00:00+00:00\",\"2021-07-24T00:00:00+00:00\",\"2021-07-23T00:00:00+00:00\",\"2021-07-22T00:00:00+00:00\",\"2021-07-21T00:00:00+00:00\",\"2021-07-20T00:00:00+00:00\",\"2021-07-19T00:00:00+00:00\",\"2021-07-18T00:00:00+00:00\",\"2021-07-17T00:00:00+00:00\",\"2021-07-16T00:00:00+00:00\",\"2021-07-15T00:00:00+00:00\",\"2021-07-14T00:00:00+00:00\",\"2021-07-13T00:00:00+00:00\",\"2021-07-12T00:00:00+00:00\",\"2021-07-11T00:00:00+00:00\",\"2021-07-10T00:00:00+00:00\",\"2021-07-09T00:00:00+00:00\",\"2021-07-08T00:00:00+00:00\",\"2021-07-07T00:00:00+00:00\",\"2021-07-06T00:00:00+00:00\",\"2021-07-05T00:00:00+00:00\",\"2021-07-04T00:00:00+00:00\",\"2021-07-03T00:00:00+00:00\",\"2021-07-02T00:00:00+00:00\",\"2021-07-01T00:00:00+00:00\",\"2021-06-30T00:00:00+00:00\",\"2021-06-29T00:00:00+00:00\",\"2021-06-28T00:00:00+00:00\",\"2021-06-27T00:00:00+00:00\",\"2021-06-26T00:00:00+00:00\",\"2021-06-25T00:00:00+00:00\",\"2021-06-24T00:00:00+00:00\",\"2021-06-23T00:00:00+00:00\",\"2021-06-22T00:00:00+00:00\",\"2021-06-21T00:00:00+00:00\",\"2021-06-20T00:00:00+00:00\",\"2021-06-19T00:00:00+00:00\",\"2021-06-18T00:00:00+00:00\",\"2021-06-17T00:00:00+00:00\",\"2021-06-16T00:00:00+00:00\",\"2021-06-15T00:00:00+00:00\",\"2021-06-14T00:00:00+00:00\",\"2021-06-13T00:00:00+00:00\",\"2021-06-12T00:00:00+00:00\",\"2021-06-11T00:00:00+00:00\",\"2021-06-10T00:00:00+00:00\",\"2021-06-09T00:00:00+00:00\",\"2021-06-08T00:00:00+00:00\",\"2021-06-07T00:00:00+00:00\",\"2021-06-06T00:00:00+00:00\",\"2021-06-05T00:00:00+00:00\",\"2021-06-04T00:00:00+00:00\",\"2021-06-03T00:00:00+00:00\",\"2021-06-02T00:00:00+00:00\",\"2021-06-01T00:00:00+00:00\",\"2021-05-31T00:00:00+00:00\",\"2021-05-30T00:00:00+00:00\",\"2021-05-29T00:00:00+00:00\",\"2021-05-28T00:00:00+00:00\",\"2021-05-27T00:00:00+00:00\",\"2021-05-26T00:00:00+00:00\",\"2021-05-25T00:00:00+00:00\",\"2021-05-24T00:00:00+00:00\",\"2021-05-23T00:00:00+00:00\",\"2021-05-22T00:00:00+00:00\",\"2021-05-21T00:00:00+00:00\",\"2021-05-20T00:00:00+00:00\",\"2021-05-19T00:00:00+00:00\",\"2021-05-18T00:00:00+00:00\",\"2021-05-17T00:00:00+00:00\",\"2021-05-16T00:00:00+00:00\",\"2021-05-15T00:00:00+00:00\",\"2021-05-14T00:00:00+00:00\",\"2021-05-13T00:00:00+00:00\",\"2021-05-12T00:00:00+00:00\",\"2021-05-11T00:00:00+00:00\",\"2021-05-10T00:00:00+00:00\",\"2021-05-09T00:00:00+00:00\",\"2021-05-08T00:00:00+00:00\",\"2021-05-07T00:00:00+00:00\",\"2021-05-06T00:00:00+00:00\",\"2021-05-05T00:00:00+00:00\",\"2021-05-04T00:00:00+00:00\",\"2021-05-03T00:00:00+00:00\",\"2021-05-02T00:00:00+00:00\",\"2021-05-01T00:00:00+00:00\",\"2021-04-30T00:00:00+00:00\",\"2021-04-29T00:00:00+00:00\",\"2021-04-28T00:00:00+00:00\",\"2021-04-27T00:00:00+00:00\",\"2021-04-26T00:00:00+00:00\",\"2021-04-25T00:00:00+00:00\",\"2021-04-24T00:00:00+00:00\",\"2021-04-23T00:00:00+00:00\",\"2021-04-22T00:00:00+00:00\",\"2021-04-21T00:00:00+00:00\",\"2021-04-20T00:00:00+00:00\",\"2021-04-19T00:00:00+00:00\",\"2021-04-18T00:00:00+00:00\",\"2021-04-17T00:00:00+00:00\",\"2021-04-16T00:00:00+00:00\",\"2021-04-15T00:00:00+00:00\",\"2021-04-14T00:00:00+00:00\",\"2021-04-13T00:00:00+00:00\",\"2021-04-12T00:00:00+00:00\",\"2021-04-11T00:00:00+00:00\",\"2021-04-10T00:00:00+00:00\",\"2021-04-09T00:00:00+00:00\",\"2021-04-08T00:00:00+00:00\",\"2021-04-07T00:00:00+00:00\",\"2021-04-06T00:00:00+00:00\",\"2021-04-05T00:00:00+00:00\",\"2021-04-03T00:00:00+00:00\",\"2021-04-02T00:00:00+00:00\",\"2021-04-01T00:00:00+00:00\",\"2021-03-31T00:00:00+00:00\",\"2021-03-30T00:00:00+00:00\",\"2021-03-29T00:00:00+00:00\",\"2021-03-26T00:00:00+00:00\",\"2021-03-25T00:00:00+00:00\",\"2021-03-24T00:00:00+00:00\",\"2021-03-23T00:00:00+00:00\",\"2021-03-22T00:00:00+00:00\",\"2021-03-21T00:00:00+00:00\",\"2021-03-20T00:00:00+00:00\",\"2021-03-19T00:00:00+00:00\",\"2021-03-18T00:00:00+00:00\",\"2021-03-17T00:00:00+00:00\",\"2021-03-16T00:00:00+00:00\",\"2021-03-15T00:00:00+00:00\",\"2021-03-14T00:00:00+00:00\",\"2021-03-13T00:00:00+00:00\",\"2021-03-12T00:00:00+00:00\",\"2021-03-11T00:00:00+00:00\",\"2021-03-10T00:00:00+00:00\",\"2021-03-09T00:00:00+00:00\"],\"xaxis\":\"x\",\"y\":[0.002982107355864811,0.005389514943655071,0.0005257623554153522,0.0061180185514110915,0.003129890453834116,0.0027236824186299877,0.003472222222222222,0.005597375024126616,0.006218202374222725,0.002794857462269424,0.005400372439478585,0.0021019442984760903,0.0035087719298245615,0.0041190788241902265,0.0071387227474435655,0.0045223289994347085,0.00739476678043231,0.013625932300631095,0.005963156213395804,0.011852260198456449,0.004558693174623275,0.0040132853584278995,0.005842259006815969,0.004675324675324675,0.010321984285934371,0.011307280301527474,0.003944607637431809,0.00247557003257329,0.006339144215530904,0.0009337068160597573,0.0027979854504756574,0.0021189894050529746,0.0012123661345726409,0.004792332268370607,0.0021307982297983936,0.0029455081001472753,0.0023094688221709007,0.005009633911368015,0.00628099173553719,0.006216006216006216,0.008382489909965849,0.01984126984126984,0.028524046434494195,0.014478282576135796,0.027544351073762838,0.029512945862755748,0.025597269624573378,0.038734057628719884,0.04492330168005844,0.17228648781688408,0.3333333333333333,0.07213438735177866,0.08312092891532144,0.08643892339544514,0.017858895103522718,0.025957832690999775,0.024,0.02733485193621868,0.02403846153846154,0.09076192531836823,0.032983377077865264,0.02437880918893577,0.025523560209424083,0.02947008547008547,0.03418272218769422,0.052192711550339714,0.08478403379707189,0.0051260145237078175,0.009256700746062448,0.012387463616056318,0.002168861347792409,0.004400724825265338,0.004016064257028112,0.002792154726232634,0.002791268910846871,0.0030970025439663756,0.0035866099893730073,0.0031396028037383177,0.0028574830336944874,0.0028846153846153848,0.004486133768352365,0.003968556819049072,0.0026573631784019953,0.005076030103065481,0.007963682529911899,0.00313782283369539,0.002088409328228333,0.0032754010695187166,0.004341761458517514,0.005370857725978838,0.009171100532063848,0.011380717199914108,0.012484394506866416,0.012303238646643748,0.018695850433196534,0.028936893420993783,0.024618220115850447,0.06930398572278405,0.15207312226785005,0.11940850277264325,0.1130952380952381,0.04315973881191273,0.035629804849201654,0.0016481252575195715,0.0020665038512117226,0.0014240956992309882,0.0011303692539562924,0.0011467889908256881,0.0018808777429467085,0.0024816019168235498,0.005955107650022904,0.01214040643969385,0.009602711353794013,0.0026652452025586353,0.0018300653594771241,0.0023990403838464614,0.003972758229284903,0.002837130951325472,0.005520220808832354,0.004565217391304348,0.004781638508128785,0.005248533497993208,0.0014917951268025858,0.0016139993204213388,0.0017272648760687452,0.0024065779798114846,0.0013062788469912043,0.0006190034045187249,0.0017281105990783411,0.0009292446568432231,0.0033285094066570187,0.005216913783635365,0.008110753740735561,0.0024763135228251507,0.0038111990618586926,0.003922594142259414,0.004274832892896005,0.010415862973535993,0.0017049180327868853,0.0023905572986702523,0.002682490651926516,0.0011726766344180592,0.00118098612341305,0.001240576390876992,0.001355243096730476,0.0021373478301273115,0.0012689205111936917,0.0017341040462427746,0.0010968921389396709,0.00024563989191844754,0.0006283380458686773,0.0007162297665090961,0.002055076037813399,0.004336425978217023,0.0020341207349081365,0.0008682772358138822,0.0010585574748592599,0.0007665968211785149,0.0010968670734215397,0.001509813789632612,0.0004999166805532411,0.0005570099704784716,0.0005663971989083982,0.0011849562081401338,0.0014452259369881492,0.0014077297158945482,0.0018949648077964266,0.0017901404571743322,0.002081117328770291,0.0026397888168946484,0.0010667183863460046,0.0024429967426710096],\"yaxis\":\"y\"},{\"hovertemplate\":\"Symbol=MVIS<br>Day=%{x}<br>Percent of mentions (daily)=%{y}<extra></extra>\",\"legendgroup\":\"MVIS\",\"line\":{\"color\":\"#EF553B\",\"dash\":\"solid\"},\"mode\":\"lines\",\"name\":\"MVIS\",\"orientation\":\"v\",\"showlegend\":true,\"type\":\"scatter\",\"x\":[\"2021-08-30T00:00:00+00:00\",\"2021-08-29T00:00:00+00:00\",\"2021-08-28T00:00:00+00:00\",\"2021-08-27T00:00:00+00:00\",\"2021-08-26T00:00:00+00:00\",\"2021-08-25T00:00:00+00:00\",\"2021-08-24T00:00:00+00:00\",\"2021-08-23T00:00:00+00:00\",\"2021-08-22T00:00:00+00:00\",\"2021-08-21T00:00:00+00:00\",\"2021-08-20T00:00:00+00:00\",\"2021-08-19T00:00:00+00:00\",\"2021-08-18T00:00:00+00:00\",\"2021-08-17T00:00:00+00:00\",\"2021-08-16T00:00:00+00:00\",\"2021-08-15T00:00:00+00:00\",\"2021-08-14T00:00:00+00:00\",\"2021-08-13T00:00:00+00:00\",\"2021-08-12T00:00:00+00:00\",\"2021-08-11T00:00:00+00:00\",\"2021-08-10T00:00:00+00:00\",\"2021-08-09T00:00:00+00:00\",\"2021-08-08T00:00:00+00:00\",\"2021-08-07T00:00:00+00:00\",\"2021-08-06T00:00:00+00:00\",\"2021-08-05T00:00:00+00:00\",\"2021-08-04T00:00:00+00:00\",\"2021-08-03T00:00:00+00:00\",\"2021-08-02T00:00:00+00:00\",\"2021-08-01T00:00:00+00:00\",\"2021-07-31T00:00:00+00:00\",\"2021-07-30T00:00:00+00:00\",\"2021-07-29T00:00:00+00:00\",\"2021-07-28T00:00:00+00:00\",\"2021-07-27T00:00:00+00:00\",\"2021-07-26T00:00:00+00:00\",\"2021-07-25T00:00:00+00:00\",\"2021-07-24T00:00:00+00:00\",\"2021-07-23T00:00:00+00:00\",\"2021-07-22T00:00:00+00:00\",\"2021-07-21T00:00:00+00:00\",\"2021-07-20T00:00:00+00:00\",\"2021-07-19T00:00:00+00:00\",\"2021-07-18T00:00:00+00:00\",\"2021-07-17T00:00:00+00:00\",\"2021-07-16T00:00:00+00:00\",\"2021-07-15T00:00:00+00:00\",\"2021-07-14T00:00:00+00:00\",\"2021-07-13T00:00:00+00:00\",\"2021-07-12T00:00:00+00:00\",\"2021-07-11T00:00:00+00:00\",\"2021-07-10T00:00:00+00:00\",\"2021-07-09T00:00:00+00:00\",\"2021-07-08T00:00:00+00:00\",\"2021-07-07T00:00:00+00:00\",\"2021-07-06T00:00:00+00:00\",\"2021-07-05T00:00:00+00:00\",\"2021-07-04T00:00:00+00:00\",\"2021-07-03T00:00:00+00:00\",\"2021-07-02T00:00:00+00:00\",\"2021-07-01T00:00:00+00:00\",\"2021-06-30T00:00:00+00:00\",\"2021-06-29T00:00:00+00:00\",\"2021-06-28T00:00:00+00:00\",\"2021-06-27T00:00:00+00:00\",\"2021-06-26T00:00:00+00:00\",\"2021-06-25T00:00:00+00:00\",\"2021-06-24T00:00:00+00:00\",\"2021-06-23T00:00:00+00:00\",\"2021-06-22T00:00:00+00:00\",\"2021-06-21T00:00:00+00:00\",\"2021-06-20T00:00:00+00:00\",\"2021-06-19T00:00:00+00:00\",\"2021-06-18T00:00:00+00:00\",\"2021-06-17T00:00:00+00:00\",\"2021-06-16T00:00:00+00:00\",\"2021-06-15T00:00:00+00:00\",\"2021-06-14T00:00:00+00:00\",\"2021-06-13T00:00:00+00:00\",\"2021-06-12T00:00:00+00:00\",\"2021-06-11T00:00:00+00:00\",\"2021-06-10T00:00:00+00:00\",\"2021-06-09T00:00:00+00:00\",\"2021-06-08T00:00:00+00:00\",\"2021-06-07T00:00:00+00:00\",\"2021-06-06T00:00:00+00:00\",\"2021-06-05T00:00:00+00:00\",\"2021-06-04T00:00:00+00:00\",\"2021-06-03T00:00:00+00:00\",\"2021-06-02T00:00:00+00:00\",\"2021-06-01T00:00:00+00:00\",\"2021-05-31T00:00:00+00:00\",\"2021-05-30T00:00:00+00:00\",\"2021-05-29T00:00:00+00:00\",\"2021-05-28T00:00:00+00:00\",\"2021-05-27T00:00:00+00:00\",\"2021-05-26T00:00:00+00:00\",\"2021-05-25T00:00:00+00:00\",\"2021-05-24T00:00:00+00:00\",\"2021-05-23T00:00:00+00:00\",\"2021-05-22T00:00:00+00:00\",\"2021-05-21T00:00:00+00:00\",\"2021-05-20T00:00:00+00:00\",\"2021-05-19T00:00:00+00:00\",\"2021-05-18T00:00:00+00:00\",\"2021-05-17T00:00:00+00:00\",\"2021-05-16T00:00:00+00:00\",\"2021-05-15T00:00:00+00:00\",\"2021-05-14T00:00:00+00:00\",\"2021-05-13T00:00:00+00:00\",\"2021-05-12T00:00:00+00:00\",\"2021-05-11T00:00:00+00:00\",\"2021-05-10T00:00:00+00:00\",\"2021-05-09T00:00:00+00:00\",\"2021-05-08T00:00:00+00:00\",\"2021-05-07T00:00:00+00:00\",\"2021-05-06T00:00:00+00:00\",\"2021-05-05T00:00:00+00:00\",\"2021-05-04T00:00:00+00:00\",\"2021-05-03T00:00:00+00:00\",\"2021-05-02T00:00:00+00:00\",\"2021-05-01T00:00:00+00:00\",\"2021-04-30T00:00:00+00:00\",\"2021-04-29T00:00:00+00:00\",\"2021-04-28T00:00:00+00:00\",\"2021-04-27T00:00:00+00:00\",\"2021-04-26T00:00:00+00:00\",\"2021-04-25T00:00:00+00:00\",\"2021-04-24T00:00:00+00:00\",\"2021-04-23T00:00:00+00:00\",\"2021-04-22T00:00:00+00:00\",\"2021-04-21T00:00:00+00:00\",\"2021-04-20T00:00:00+00:00\",\"2021-04-19T00:00:00+00:00\",\"2021-04-18T00:00:00+00:00\",\"2021-04-17T00:00:00+00:00\",\"2021-04-16T00:00:00+00:00\",\"2021-04-15T00:00:00+00:00\",\"2021-04-14T00:00:00+00:00\",\"2021-04-13T00:00:00+00:00\",\"2021-04-12T00:00:00+00:00\",\"2021-04-11T00:00:00+00:00\",\"2021-04-10T00:00:00+00:00\",\"2021-04-09T00:00:00+00:00\",\"2021-04-08T00:00:00+00:00\",\"2021-04-07T00:00:00+00:00\",\"2021-04-06T00:00:00+00:00\",\"2021-04-05T00:00:00+00:00\",\"2021-04-04T00:00:00+00:00\",\"2021-04-03T00:00:00+00:00\",\"2021-04-02T00:00:00+00:00\",\"2021-04-01T00:00:00+00:00\",\"2021-03-31T00:00:00+00:00\",\"2021-03-30T00:00:00+00:00\",\"2021-03-29T00:00:00+00:00\",\"2021-03-26T00:00:00+00:00\",\"2021-03-25T00:00:00+00:00\",\"2021-03-24T00:00:00+00:00\",\"2021-03-23T00:00:00+00:00\",\"2021-03-22T00:00:00+00:00\",\"2021-03-21T00:00:00+00:00\",\"2021-03-20T00:00:00+00:00\",\"2021-03-19T00:00:00+00:00\",\"2021-03-18T00:00:00+00:00\",\"2021-03-17T00:00:00+00:00\",\"2021-03-16T00:00:00+00:00\",\"2021-03-15T00:00:00+00:00\",\"2021-03-14T00:00:00+00:00\",\"2021-03-13T00:00:00+00:00\",\"2021-03-12T00:00:00+00:00\",\"2021-03-11T00:00:00+00:00\",\"2021-03-10T00:00:00+00:00\",\"2021-03-09T00:00:00+00:00\"],\"xaxis\":\"x\",\"y\":[0.0016567263088137839,0.0004899559039686428,0.004206098843322818,0.0009867771857114663,0.002347417840375587,0.005855917200054473,0.0011200716845878136,0.0015441034549314803,0.0011305822498586771,0.0016769144773616546,0.0007448789571694599,0.002277106323349098,0.0017543859649122807,0.003182924545965175,0.003087015242137758,0.0022611644997173543,0.0011376564277588168,0.001004016064257028,0.0012778191885848152,0.002342888643880926,0.005571736102317336,0.008580127318018268,0.006329113924050633,0.01038961038961039,0.023108920043136652,0.036599880975996826,0.010910616869492237,0.0029967426710097718,0.0024652227504842403,0.0014005602240896359,0.0027979854504756574,0.0017929910350448248,0.0017175186906445746,0.0017426662794074934,0.0027864284543517455,0.0016363933889707086,0.0018475750577367205,0.0038535645472061657,0.005123966942148761,0.013675213675213675,0.0040360136603539275,0.004140786749482402,0.004311774461028192,0.0014977533699450823,0.005135387488328665,0.005975013579576317,0.0024940929377789446,0.00271610769957487,0.006817628439250061,0.0020920502092050207,0.0012176560121765602,0.0024703557312252965,0.0032568677428490515,0.0035196687370600416,0.0027475223236188796,0.0015869417365676718,0.0011851851851851852,0.0007593014426727411,0.0019230769230769232,0.00151090006475286,0.0015748031496062992,0.0011720581340834506,0.0016724840023269343,0.0015726495726495727,0.00145017609281127,0.0037059913526868438,0.0011654162721246996,0.002776591200341734,0.0016579165515335729,0.0039260813646517295,0.007203718048024787,0.001553196997152472,0.002747833439019235,0.001362026695723236,0.0015631105900742479,0.0011060723371308485,0.001195536663124336,0.0010952102803738317,0.0017859268960590546,0.002197802197802198,0.002966038855109002,0.009132768577170623,0.001760706891211138,0.002780781708635872,0.011426153195090986,0.007603186097031137,0.013574660633484163,0.026470588235294117,0.0019645979450305497,0.005075460551050003,0.012531503780453654,0.003006227184882972,0.006242197253433208,0.002894879681563235,0.008042117481241968,0.004517196654590993,0.007964718272775145,0.015764425936942297,0.0074182010862365875,0.005545286506469501,0.01098901098901099,0.00923713967192228,0.00960969840331165,0.007279219887378108,0.019631786586511366,0.020222158929080036,0.0146948003014318,0.013379204892966361,0.02466039707419018,0.008386103029265788,0.009390746678882272,0.010380927245535321,0.01092073055921672,0.013326226012793176,0.01437908496732026,0.019992003198720514,0.019233194602093582,0.02908059225108609,0.07044281771270851,0.0632608695652174,0.054829454893210075,0.06761346094473603,0.17235206364992542,0.17099898063200816,0.1650401589083686,0.21345009693161307,0.2774536271009318,0.11234911792014857,0.1287442396313364,0.15106863135536971,0.1370477568740955,0.10928061504667765,0.06600475457977906,0.0048449612403100775,0.0038111990618586926,0.0041841004184100415,0.007616974972796518,0.018671398811820075,0.005573770491803279,0.004034065441506051,0.004877255730775484,0.003518029903254178,0.005609684086211987,0.003912587078919744,0.004743350838556666,0.006597899823436484,0.008157346143388018,0.009578860445912468,0.016687657430730477,0.03729433272394881,0.009825595676737903,0.01735783851712221,0.028935682566967484,0.002397588710782299,0.0015127067365873336,0.0027559055118110236,0.0014811788140354461,0.0019727662031468027,0.001277661368630858,0.0028107218756426955,0.001342056701895655,0.0014997500416597234,0.001058318943909096,0.0012357757067092323,0.0017001545595054096,0.0013007033432893343,0.0032847026704206127,0.007038440714672442,0.003855687138529331,0.007538269435323498,0.0027997760179185667,0.0008000387897595034,0.000977198697068404],\"yaxis\":\"y\"},{\"hovertemplate\":\"Symbol=GME<br>Day=%{x}<br>Percent of mentions (daily)=%{y}<extra></extra>\",\"legendgroup\":\"GME\",\"line\":{\"color\":\"#00cc96\",\"dash\":\"solid\"},\"mode\":\"lines\",\"name\":\"GME\",\"orientation\":\"v\",\"showlegend\":true,\"type\":\"scatter\",\"x\":[\"2021-08-30T00:00:00+00:00\",\"2021-08-29T00:00:00+00:00\",\"2021-08-28T00:00:00+00:00\",\"2021-08-27T00:00:00+00:00\",\"2021-08-26T00:00:00+00:00\",\"2021-08-25T00:00:00+00:00\",\"2021-08-24T00:00:00+00:00\",\"2021-08-23T00:00:00+00:00\",\"2021-08-22T00:00:00+00:00\",\"2021-08-21T00:00:00+00:00\",\"2021-08-20T00:00:00+00:00\",\"2021-08-19T00:00:00+00:00\",\"2021-08-18T00:00:00+00:00\",\"2021-08-17T00:00:00+00:00\",\"2021-08-16T00:00:00+00:00\",\"2021-08-15T00:00:00+00:00\",\"2021-08-14T00:00:00+00:00\",\"2021-08-13T00:00:00+00:00\",\"2021-08-12T00:00:00+00:00\",\"2021-08-11T00:00:00+00:00\",\"2021-08-10T00:00:00+00:00\",\"2021-08-09T00:00:00+00:00\",\"2021-08-08T00:00:00+00:00\",\"2021-08-07T00:00:00+00:00\",\"2021-08-06T00:00:00+00:00\",\"2021-08-05T00:00:00+00:00\",\"2021-08-04T00:00:00+00:00\",\"2021-08-03T00:00:00+00:00\",\"2021-08-02T00:00:00+00:00\",\"2021-08-01T00:00:00+00:00\",\"2021-07-31T00:00:00+00:00\",\"2021-07-30T00:00:00+00:00\",\"2021-07-29T00:00:00+00:00\",\"2021-07-28T00:00:00+00:00\",\"2021-07-27T00:00:00+00:00\",\"2021-07-26T00:00:00+00:00\",\"2021-07-25T00:00:00+00:00\",\"2021-07-24T00:00:00+00:00\",\"2021-07-23T00:00:00+00:00\",\"2021-07-22T00:00:00+00:00\",\"2021-07-21T00:00:00+00:00\",\"2021-07-20T00:00:00+00:00\",\"2021-07-19T00:00:00+00:00\",\"2021-07-18T00:00:00+00:00\",\"2021-07-17T00:00:00+00:00\",\"2021-07-16T00:00:00+00:00\",\"2021-07-15T00:00:00+00:00\",\"2021-07-14T00:00:00+00:00\",\"2021-07-13T00:00:00+00:00\",\"2021-07-12T00:00:00+00:00\",\"2021-07-11T00:00:00+00:00\",\"2021-07-10T00:00:00+00:00\",\"2021-07-09T00:00:00+00:00\",\"2021-07-08T00:00:00+00:00\",\"2021-07-07T00:00:00+00:00\",\"2021-07-06T00:00:00+00:00\",\"2021-07-05T00:00:00+00:00\",\"2021-07-04T00:00:00+00:00\",\"2021-07-03T00:00:00+00:00\",\"2021-07-02T00:00:00+00:00\",\"2021-07-01T00:00:00+00:00\",\"2021-06-30T00:00:00+00:00\",\"2021-06-29T00:00:00+00:00\",\"2021-06-28T00:00:00+00:00\",\"2021-06-27T00:00:00+00:00\",\"2021-06-26T00:00:00+00:00\",\"2021-06-25T00:00:00+00:00\",\"2021-06-24T00:00:00+00:00\",\"2021-06-23T00:00:00+00:00\",\"2021-06-22T00:00:00+00:00\",\"2021-06-21T00:00:00+00:00\",\"2021-06-20T00:00:00+00:00\",\"2021-06-19T00:00:00+00:00\",\"2021-06-18T00:00:00+00:00\",\"2021-06-17T00:00:00+00:00\",\"2021-06-16T00:00:00+00:00\",\"2021-06-15T00:00:00+00:00\",\"2021-06-14T00:00:00+00:00\",\"2021-06-13T00:00:00+00:00\",\"2021-06-12T00:00:00+00:00\",\"2021-06-11T00:00:00+00:00\",\"2021-06-10T00:00:00+00:00\",\"2021-06-09T00:00:00+00:00\",\"2021-06-08T00:00:00+00:00\",\"2021-06-07T00:00:00+00:00\",\"2021-06-06T00:00:00+00:00\",\"2021-06-05T00:00:00+00:00\",\"2021-06-04T00:00:00+00:00\",\"2021-06-03T00:00:00+00:00\",\"2021-06-02T00:00:00+00:00\",\"2021-06-01T00:00:00+00:00\",\"2021-05-31T00:00:00+00:00\",\"2021-05-30T00:00:00+00:00\",\"2021-05-29T00:00:00+00:00\",\"2021-05-28T00:00:00+00:00\",\"2021-05-27T00:00:00+00:00\",\"2021-05-26T00:00:00+00:00\",\"2021-05-25T00:00:00+00:00\",\"2021-05-24T00:00:00+00:00\",\"2021-05-23T00:00:00+00:00\",\"2021-05-22T00:00:00+00:00\",\"2021-05-21T00:00:00+00:00\",\"2021-05-20T00:00:00+00:00\",\"2021-05-19T00:00:00+00:00\",\"2021-05-18T00:00:00+00:00\",\"2021-05-17T00:00:00+00:00\",\"2021-05-16T00:00:00+00:00\",\"2021-05-15T00:00:00+00:00\",\"2021-05-14T00:00:00+00:00\",\"2021-05-13T00:00:00+00:00\",\"2021-05-12T00:00:00+00:00\",\"2021-05-11T00:00:00+00:00\",\"2021-05-10T00:00:00+00:00\",\"2021-05-09T00:00:00+00:00\",\"2021-05-08T00:00:00+00:00\",\"2021-05-07T00:00:00+00:00\",\"2021-05-06T00:00:00+00:00\",\"2021-05-05T00:00:00+00:00\",\"2021-05-04T00:00:00+00:00\",\"2021-05-03T00:00:00+00:00\",\"2021-05-02T00:00:00+00:00\",\"2021-05-01T00:00:00+00:00\",\"2021-04-30T00:00:00+00:00\",\"2021-04-29T00:00:00+00:00\",\"2021-04-28T00:00:00+00:00\",\"2021-04-27T00:00:00+00:00\",\"2021-04-26T00:00:00+00:00\",\"2021-04-25T00:00:00+00:00\",\"2021-04-24T00:00:00+00:00\",\"2021-04-23T00:00:00+00:00\",\"2021-04-22T00:00:00+00:00\",\"2021-04-21T00:00:00+00:00\",\"2021-04-20T00:00:00+00:00\",\"2021-04-19T00:00:00+00:00\",\"2021-04-18T00:00:00+00:00\",\"2021-04-17T00:00:00+00:00\",\"2021-04-16T00:00:00+00:00\",\"2021-04-15T00:00:00+00:00\",\"2021-04-14T00:00:00+00:00\",\"2021-04-13T00:00:00+00:00\",\"2021-04-12T00:00:00+00:00\",\"2021-04-11T00:00:00+00:00\",\"2021-04-10T00:00:00+00:00\",\"2021-04-09T00:00:00+00:00\",\"2021-04-08T00:00:00+00:00\",\"2021-04-07T00:00:00+00:00\",\"2021-04-06T00:00:00+00:00\",\"2021-04-05T00:00:00+00:00\",\"2021-04-04T00:00:00+00:00\",\"2021-04-03T00:00:00+00:00\",\"2021-04-02T00:00:00+00:00\",\"2021-04-01T00:00:00+00:00\",\"2021-03-31T00:00:00+00:00\",\"2021-03-30T00:00:00+00:00\",\"2021-03-29T00:00:00+00:00\",\"2021-03-26T00:00:00+00:00\",\"2021-03-25T00:00:00+00:00\",\"2021-03-24T00:00:00+00:00\",\"2021-03-23T00:00:00+00:00\",\"2021-03-22T00:00:00+00:00\",\"2021-03-21T00:00:00+00:00\",\"2021-03-20T00:00:00+00:00\",\"2021-03-19T00:00:00+00:00\",\"2021-03-18T00:00:00+00:00\",\"2021-03-17T00:00:00+00:00\",\"2021-03-16T00:00:00+00:00\",\"2021-03-15T00:00:00+00:00\",\"2021-03-14T00:00:00+00:00\",\"2021-03-13T00:00:00+00:00\",\"2021-03-12T00:00:00+00:00\",\"2021-03-11T00:00:00+00:00\",\"2021-03-10T00:00:00+00:00\",\"2021-03-09T00:00:00+00:00\"],\"xaxis\":\"x\",\"y\":[0.052021206096752814,0.04507594316511514,0.06624605678233439,0.07716597592263667,0.125,0.220073539425303,0.23599910394265233,0.06465933217525574,0.03730921424533635,0.05198434879821129,0.038547486033519554,0.03906113154668068,0.037719298245614034,0.04081632653061224,0.04572641327416554,0.0395703787450537,0.05460750853242321,0.03557085484796328,0.02587583856884251,0.023153252480705624,0.028238571609471953,0.0538333794630501,0.053554040895813046,0.05454545454545454,0.03373902326297951,0.049990081333068835,0.06714225765841376,0.07074918566775244,0.04331748547279451,0.05042016806722689,0.041969781757134866,0.04971475142624287,0.0350575873913922,0.03935521347661923,0.024750040976889036,0.031418753068237604,0.052655889145496536,0.054720616570327556,0.031239669421487603,0.035742035742035744,0.04501707544240919,0.06314699792960662,0.06301824212271974,0.1108337493759361,0.07049486461251167,0.06319029512945863,0.0956944079810974,0.07652338214454417,0.04321889457024592,0.05180900812207728,0.03439878234398782,0.06620553359683795,0.038091192296799775,0.05093167701863354,0.07820626042586595,0.08501473588755384,0.112,0.1556567957479119,0.09711538461538462,0.045219080509389165,0.050393700787401574,0.04313173933427098,0.04246655031995346,0.0454017094017094,0.1269939921276155,0.06145768993205682,0.04457717240876976,0.03937063932792254,0.05291516993644653,0.07635551343667502,0.05584817970565453,0.09370955216153248,0.11139294018177975,0.05012258240261509,0.03918941550829007,0.052870257714854554,0.04330499468650372,0.03216267523364486,0.0521490653649244,0.07802197802197802,0.05702209698947056,0.08204228039380294,0.0820358988571708,0.09456864778971993,0.08756203593275112,0.12684045377745595,0.1280891054646711,0.07376336898395722,0.07168817901416476,0.09624577044954079,0.09451134136096331,0.09147519862572472,0.13058676654182272,0.14673421385923646,0.11325291215852092,0.15421083232702715,0.2571748288572933,0.2609557802895102,0.10054311829381375,0.12236598890942699,0.17994505494505494,0.10654562828475872,0.07214665878178593,0.11797829968410932,0.15414240090174713,0.1427893287762271,0.09155990957045969,0.15902140672782875,0.11619644723092999,0.1271607051172343,0.10249656436097114,0.0924606316530307,0.09386179627188854,0.11060767590618337,0.13647058823529412,0.09246301479408237,0.13286669189052844,0.10727901409699442,0.078003120124805,0.07021739130434783,0.14344915524386356,0.11670268601420192,0.09249129786176032,0.08019028202514442,0.08921323084895069,0.12019520021391804,0.1741705129321606,0.11575363664500155,0.13623271889400923,0.12531527943714324,0.12286541244573082,0.12451949478308622,0.12487763949098028,0.2980189491817399,0.24919378481383758,0.35486401673640167,0.31400590704181564,0.19867294190263096,0.23711475409836066,0.2253100253996713,0.25995773045033327,0.2515391380826737,0.2896368467670505,0.2880045805897509,0.2382686769439268,0.20936715918594925,0.20601830871023294,0.2556564822460776,0.1860831234256927,0.2409506398537477,0.2210759027266028,0.23601947847942192,0.21923793152843432,0.2776407727085902,0.26916095199677287,0.34691601049868764,0.3802032790234435,0.39484193812250395,0.3501303214596003,0.3047919380270104,0.29441368897835934,0.32611231461423096,0.34178131788559013,0.3014777817826065,0.3104585265327151,0.37624048559591483,0.35312686630833545,0.4043042772062805,0.3369595152850454,0.3610044859640198,0.3673706103511719,0.37924262994569435,0.35684039087947883],\"yaxis\":\"y\"},{\"hovertemplate\":\"Symbol=AMC<br>Day=%{x}<br>Percent of mentions (daily)=%{y}<extra></extra>\",\"legendgroup\":\"AMC\",\"line\":{\"color\":\"#ab63fa\",\"dash\":\"solid\"},\"mode\":\"lines\",\"name\":\"AMC\",\"orientation\":\"v\",\"showlegend\":true,\"type\":\"scatter\",\"x\":[\"2021-08-30T00:00:00+00:00\",\"2021-08-29T00:00:00+00:00\",\"2021-08-28T00:00:00+00:00\",\"2021-08-27T00:00:00+00:00\",\"2021-08-26T00:00:00+00:00\",\"2021-08-25T00:00:00+00:00\",\"2021-08-24T00:00:00+00:00\",\"2021-08-23T00:00:00+00:00\",\"2021-08-22T00:00:00+00:00\",\"2021-08-21T00:00:00+00:00\",\"2021-08-20T00:00:00+00:00\",\"2021-08-19T00:00:00+00:00\",\"2021-08-18T00:00:00+00:00\",\"2021-08-17T00:00:00+00:00\",\"2021-08-16T00:00:00+00:00\",\"2021-08-15T00:00:00+00:00\",\"2021-08-14T00:00:00+00:00\",\"2021-08-13T00:00:00+00:00\",\"2021-08-12T00:00:00+00:00\",\"2021-08-11T00:00:00+00:00\",\"2021-08-10T00:00:00+00:00\",\"2021-08-09T00:00:00+00:00\",\"2021-08-08T00:00:00+00:00\",\"2021-08-07T00:00:00+00:00\",\"2021-08-06T00:00:00+00:00\",\"2021-08-05T00:00:00+00:00\",\"2021-08-04T00:00:00+00:00\",\"2021-08-03T00:00:00+00:00\",\"2021-08-02T00:00:00+00:00\",\"2021-08-01T00:00:00+00:00\",\"2021-07-31T00:00:00+00:00\",\"2021-07-30T00:00:00+00:00\",\"2021-07-29T00:00:00+00:00\",\"2021-07-28T00:00:00+00:00\",\"2021-07-27T00:00:00+00:00\",\"2021-07-26T00:00:00+00:00\",\"2021-07-25T00:00:00+00:00\",\"2021-07-24T00:00:00+00:00\",\"2021-07-23T00:00:00+00:00\",\"2021-07-22T00:00:00+00:00\",\"2021-07-21T00:00:00+00:00\",\"2021-07-20T00:00:00+00:00\",\"2021-07-19T00:00:00+00:00\",\"2021-07-18T00:00:00+00:00\",\"2021-07-17T00:00:00+00:00\",\"2021-07-16T00:00:00+00:00\",\"2021-07-15T00:00:00+00:00\",\"2021-07-14T00:00:00+00:00\",\"2021-07-13T00:00:00+00:00\",\"2021-07-12T00:00:00+00:00\",\"2021-07-11T00:00:00+00:00\",\"2021-07-10T00:00:00+00:00\",\"2021-07-09T00:00:00+00:00\",\"2021-07-08T00:00:00+00:00\",\"2021-07-07T00:00:00+00:00\",\"2021-07-06T00:00:00+00:00\",\"2021-07-05T00:00:00+00:00\",\"2021-07-04T00:00:00+00:00\",\"2021-07-03T00:00:00+00:00\",\"2021-07-02T00:00:00+00:00\",\"2021-07-01T00:00:00+00:00\",\"2021-06-30T00:00:00+00:00\",\"2021-06-29T00:00:00+00:00\",\"2021-06-28T00:00:00+00:00\",\"2021-06-27T00:00:00+00:00\",\"2021-06-26T00:00:00+00:00\",\"2021-06-25T00:00:00+00:00\",\"2021-06-24T00:00:00+00:00\",\"2021-06-23T00:00:00+00:00\",\"2021-06-22T00:00:00+00:00\",\"2021-06-21T00:00:00+00:00\",\"2021-06-20T00:00:00+00:00\",\"2021-06-19T00:00:00+00:00\",\"2021-06-18T00:00:00+00:00\",\"2021-06-17T00:00:00+00:00\",\"2021-06-16T00:00:00+00:00\",\"2021-06-15T00:00:00+00:00\",\"2021-06-14T00:00:00+00:00\",\"2021-06-13T00:00:00+00:00\",\"2021-06-12T00:00:00+00:00\",\"2021-06-11T00:00:00+00:00\",\"2021-06-10T00:00:00+00:00\",\"2021-06-09T00:00:00+00:00\",\"2021-06-08T00:00:00+00:00\",\"2021-06-07T00:00:00+00:00\",\"2021-06-06T00:00:00+00:00\",\"2021-06-05T00:00:00+00:00\",\"2021-06-04T00:00:00+00:00\",\"2021-06-03T00:00:00+00:00\",\"2021-06-02T00:00:00+00:00\",\"2021-06-01T00:00:00+00:00\",\"2021-05-31T00:00:00+00:00\",\"2021-05-30T00:00:00+00:00\",\"2021-05-29T00:00:00+00:00\",\"2021-05-28T00:00:00+00:00\",\"2021-05-27T00:00:00+00:00\",\"2021-05-26T00:00:00+00:00\",\"2021-05-25T00:00:00+00:00\",\"2021-05-24T00:00:00+00:00\",\"2021-05-23T00:00:00+00:00\",\"2021-05-22T00:00:00+00:00\",\"2021-05-21T00:00:00+00:00\",\"2021-05-20T00:00:00+00:00\",\"2021-05-19T00:00:00+00:00\",\"2021-05-18T00:00:00+00:00\",\"2021-05-17T00:00:00+00:00\",\"2021-05-16T00:00:00+00:00\",\"2021-05-15T00:00:00+00:00\",\"2021-05-14T00:00:00+00:00\",\"2021-05-13T00:00:00+00:00\",\"2021-05-12T00:00:00+00:00\",\"2021-05-11T00:00:00+00:00\",\"2021-05-10T00:00:00+00:00\",\"2021-05-09T00:00:00+00:00\",\"2021-05-08T00:00:00+00:00\",\"2021-05-07T00:00:00+00:00\",\"2021-05-06T00:00:00+00:00\",\"2021-05-05T00:00:00+00:00\",\"2021-05-04T00:00:00+00:00\",\"2021-05-03T00:00:00+00:00\",\"2021-05-02T00:00:00+00:00\",\"2021-05-01T00:00:00+00:00\",\"2021-04-30T00:00:00+00:00\",\"2021-04-29T00:00:00+00:00\",\"2021-04-28T00:00:00+00:00\",\"2021-04-27T00:00:00+00:00\",\"2021-04-26T00:00:00+00:00\",\"2021-04-25T00:00:00+00:00\",\"2021-04-24T00:00:00+00:00\",\"2021-04-23T00:00:00+00:00\",\"2021-04-22T00:00:00+00:00\",\"2021-04-21T00:00:00+00:00\",\"2021-04-20T00:00:00+00:00\",\"2021-04-19T00:00:00+00:00\",\"2021-04-18T00:00:00+00:00\",\"2021-04-17T00:00:00+00:00\",\"2021-04-16T00:00:00+00:00\",\"2021-04-15T00:00:00+00:00\",\"2021-04-14T00:00:00+00:00\",\"2021-04-13T00:00:00+00:00\",\"2021-04-12T00:00:00+00:00\",\"2021-04-11T00:00:00+00:00\",\"2021-04-10T00:00:00+00:00\",\"2021-04-09T00:00:00+00:00\",\"2021-04-08T00:00:00+00:00\",\"2021-04-07T00:00:00+00:00\",\"2021-04-06T00:00:00+00:00\",\"2021-04-05T00:00:00+00:00\",\"2021-04-04T00:00:00+00:00\",\"2021-04-03T00:00:00+00:00\",\"2021-04-02T00:00:00+00:00\",\"2021-04-01T00:00:00+00:00\",\"2021-03-31T00:00:00+00:00\",\"2021-03-30T00:00:00+00:00\",\"2021-03-29T00:00:00+00:00\",\"2021-03-26T00:00:00+00:00\",\"2021-03-25T00:00:00+00:00\",\"2021-03-24T00:00:00+00:00\",\"2021-03-23T00:00:00+00:00\",\"2021-03-22T00:00:00+00:00\",\"2021-03-21T00:00:00+00:00\",\"2021-03-20T00:00:00+00:00\",\"2021-03-19T00:00:00+00:00\",\"2021-03-18T00:00:00+00:00\",\"2021-03-17T00:00:00+00:00\",\"2021-03-16T00:00:00+00:00\",\"2021-03-15T00:00:00+00:00\",\"2021-03-14T00:00:00+00:00\",\"2021-03-13T00:00:00+00:00\",\"2021-03-12T00:00:00+00:00\",\"2021-03-11T00:00:00+00:00\",\"2021-03-10T00:00:00+00:00\",\"2021-03-09T00:00:00+00:00\"],\"xaxis\":\"x\",\"y\":[0.03876739562624255,0.028907398334149927,0.03627760252365931,0.04045786461417012,0.05672926447574335,0.09383085932180307,0.0817652329749104,0.029723991507430998,0.04522328999434709,0.03856903297931805,0.03407821229050279,0.03836048344718865,0.04368421052631579,0.05972664295075829,0.053829828284777156,0.06387789711701526,0.03981797497155859,0.03571428571428571,0.024491534447875624,0.027839029768467475,0.06078257566164366,0.07085524494879601,0.0730282375851996,0.07064935064935066,0.04221229394546295,0.0579250148780004,0.047251363827108685,0.03635179153094462,0.03328050713153724,0.03314659197012138,0.041969781757134866,0.027709861450692746,0.022731865023237017,0.024978216671507406,0.023110965415505655,0.03616429389625266,0.051270207852193994,0.056647398843930635,0.03950413223140496,0.051903651903651905,0.07606333436820863,0.08816425120772947,0.060862354892205636,0.08237643534697953,0.07049486461251167,0.0697084917617237,0.11354686269362037,0.09718941898913556,0.06890674458242026,0.04848634014275166,0.047792998477929984,0.060770750988142296,0.04007363353157746,0.07432712215320911,0.07094495142773036,0.06347766946270687,0.08207407407407408,0.10933940774487472,0.08125,0.06529246708396287,0.05100612423447069,0.04055321143928739,0.04886561954624782,0.051897435897435895,0.0760306608659623,0.06176652254478073,0.04785490567412048,0.048697137975224264,0.057474440453163855,0.07777702565491099,0.07660728117738187,0.11881957028216412,0.1511308391460579,0.1064423862707709,0.12091776921788645,0.08677137484791506,0.0951115834218916,0.08254234813084112,0.08286700797714014,0.11497252747252747,0.09343022393593356,0.09420234551883792,0.07613427020329644,0.077751539361303,0.13245873889123994,0.19913106444605358,0.24097923192945817,0.222225935828877,0.24506394766311074,0.2884419141736935,0.27884346121534587,0.24715482070002148,0.2776529338327091,0.3050479464447259,0.35704514363885087,0.34022094011360077,0.22840968931016326,0.1591314693634741,0.0878262021459796,0.05582255083179297,0.07234432234432235,0.06593406593406594,0.07613837965700769,0.10740282928169208,0.16438098816456886,0.1285483717839172,0.08138658628485305,0.11162079510703364,0.20794148380355276,0.2117918877289064,0.05371049015116812,0.049353391396146744,0.0377518358124647,0.03811300639658849,0.057777777777777775,0.03988404638144742,0.043132803632236094,0.031563081833495876,0.01956078243129725,0.01858695652173913,0.036659228562320685,0.02840382834208089,0.01999005469915465,0.020981991165477405,0.04767251057949737,0.030349622300955947,0.034921187842898195,0.0337356855462705,0.030817972350230413,0.027080844285145362,0.03154848046309696,0.026359143327841845,0.017759753880576143,0.021748492678725237,0.031955438287892116,0.024843096234309622,0.02891341520286025,0.03741995216418486,0.017508196721311476,0.026968474525623787,0.03536010404812226,0.05804749340369393,0.029229406554472984,0.029392117568470273,0.025071997289513807,0.027413809125545953,0.027553702528777306,0.05920726672171759,0.07808564231738035,0.06873857404021938,0.09260623925325473,0.06244109330819981,0.027359977080647472,0.030826140567200986,0.03196853569987898,0.047637795275590554,0.0628224117677103,0.05100322378867343,0.056830377676700565,0.0920682799753205,0.12346921657440027,0.1324779203466089,0.06611708349579458,0.06111940682766078,0.05522926326635755,0.09283167935253878,0.15762306970395018,0.0702490525175961,0.08083172679702562,0.05854876751607085,0.05575553955683545,0.09234387121799845,0.10423452768729642],\"yaxis\":\"y\"},{\"hovertemplate\":\"Symbol=BB<br>Day=%{x}<br>Percent of mentions (daily)=%{y}<extra></extra>\",\"legendgroup\":\"BB\",\"line\":{\"color\":\"#FFA15A\",\"dash\":\"solid\"},\"mode\":\"lines\",\"name\":\"BB\",\"orientation\":\"v\",\"showlegend\":true,\"type\":\"scatter\",\"x\":[\"2021-08-30T00:00:00+00:00\",\"2021-08-29T00:00:00+00:00\",\"2021-08-28T00:00:00+00:00\",\"2021-08-27T00:00:00+00:00\",\"2021-08-26T00:00:00+00:00\",\"2021-08-25T00:00:00+00:00\",\"2021-08-24T00:00:00+00:00\",\"2021-08-23T00:00:00+00:00\",\"2021-08-22T00:00:00+00:00\",\"2021-08-21T00:00:00+00:00\",\"2021-08-20T00:00:00+00:00\",\"2021-08-19T00:00:00+00:00\",\"2021-08-18T00:00:00+00:00\",\"2021-08-17T00:00:00+00:00\",\"2021-08-16T00:00:00+00:00\",\"2021-08-15T00:00:00+00:00\",\"2021-08-14T00:00:00+00:00\",\"2021-08-13T00:00:00+00:00\",\"2021-08-12T00:00:00+00:00\",\"2021-08-11T00:00:00+00:00\",\"2021-08-10T00:00:00+00:00\",\"2021-08-09T00:00:00+00:00\",\"2021-08-08T00:00:00+00:00\",\"2021-08-07T00:00:00+00:00\",\"2021-08-06T00:00:00+00:00\",\"2021-08-05T00:00:00+00:00\",\"2021-08-04T00:00:00+00:00\",\"2021-08-03T00:00:00+00:00\",\"2021-08-02T00:00:00+00:00\",\"2021-08-01T00:00:00+00:00\",\"2021-07-31T00:00:00+00:00\",\"2021-07-30T00:00:00+00:00\",\"2021-07-29T00:00:00+00:00\",\"2021-07-28T00:00:00+00:00\",\"2021-07-27T00:00:00+00:00\",\"2021-07-26T00:00:00+00:00\",\"2021-07-25T00:00:00+00:00\",\"2021-07-24T00:00:00+00:00\",\"2021-07-23T00:00:00+00:00\",\"2021-07-22T00:00:00+00:00\",\"2021-07-21T00:00:00+00:00\",\"2021-07-20T00:00:00+00:00\",\"2021-07-19T00:00:00+00:00\",\"2021-07-18T00:00:00+00:00\",\"2021-07-17T00:00:00+00:00\",\"2021-07-16T00:00:00+00:00\",\"2021-07-15T00:00:00+00:00\",\"2021-07-14T00:00:00+00:00\",\"2021-07-13T00:00:00+00:00\",\"2021-07-12T00:00:00+00:00\",\"2021-07-11T00:00:00+00:00\",\"2021-07-10T00:00:00+00:00\",\"2021-07-09T00:00:00+00:00\",\"2021-07-08T00:00:00+00:00\",\"2021-07-07T00:00:00+00:00\",\"2021-07-06T00:00:00+00:00\",\"2021-07-05T00:00:00+00:00\",\"2021-07-04T00:00:00+00:00\",\"2021-07-03T00:00:00+00:00\",\"2021-07-02T00:00:00+00:00\",\"2021-07-01T00:00:00+00:00\",\"2021-06-30T00:00:00+00:00\",\"2021-06-29T00:00:00+00:00\",\"2021-06-28T00:00:00+00:00\",\"2021-06-27T00:00:00+00:00\",\"2021-06-26T00:00:00+00:00\",\"2021-06-25T00:00:00+00:00\",\"2021-06-24T00:00:00+00:00\",\"2021-06-23T00:00:00+00:00\",\"2021-06-22T00:00:00+00:00\",\"2021-06-21T00:00:00+00:00\",\"2021-06-20T00:00:00+00:00\",\"2021-06-19T00:00:00+00:00\",\"2021-06-18T00:00:00+00:00\",\"2021-06-17T00:00:00+00:00\",\"2021-06-16T00:00:00+00:00\",\"2021-06-15T00:00:00+00:00\",\"2021-06-14T00:00:00+00:00\",\"2021-06-13T00:00:00+00:00\",\"2021-06-12T00:00:00+00:00\",\"2021-06-11T00:00:00+00:00\",\"2021-06-10T00:00:00+00:00\",\"2021-06-09T00:00:00+00:00\",\"2021-06-08T00:00:00+00:00\",\"2021-06-07T00:00:00+00:00\",\"2021-06-06T00:00:00+00:00\",\"2021-06-05T00:00:00+00:00\",\"2021-06-04T00:00:00+00:00\",\"2021-06-03T00:00:00+00:00\",\"2021-06-02T00:00:00+00:00\",\"2021-06-01T00:00:00+00:00\",\"2021-05-31T00:00:00+00:00\",\"2021-05-30T00:00:00+00:00\",\"2021-05-29T00:00:00+00:00\",\"2021-05-28T00:00:00+00:00\",\"2021-05-27T00:00:00+00:00\",\"2021-05-26T00:00:00+00:00\",\"2021-05-25T00:00:00+00:00\",\"2021-05-24T00:00:00+00:00\",\"2021-05-23T00:00:00+00:00\",\"2021-05-22T00:00:00+00:00\",\"2021-05-21T00:00:00+00:00\",\"2021-05-20T00:00:00+00:00\",\"2021-05-19T00:00:00+00:00\",\"2021-05-18T00:00:00+00:00\",\"2021-05-17T00:00:00+00:00\",\"2021-05-16T00:00:00+00:00\",\"2021-05-15T00:00:00+00:00\",\"2021-05-14T00:00:00+00:00\",\"2021-05-13T00:00:00+00:00\",\"2021-05-12T00:00:00+00:00\",\"2021-05-11T00:00:00+00:00\",\"2021-05-10T00:00:00+00:00\",\"2021-05-09T00:00:00+00:00\",\"2021-05-08T00:00:00+00:00\",\"2021-05-07T00:00:00+00:00\",\"2021-05-06T00:00:00+00:00\",\"2021-05-05T00:00:00+00:00\",\"2021-05-04T00:00:00+00:00\",\"2021-05-03T00:00:00+00:00\",\"2021-05-02T00:00:00+00:00\",\"2021-05-01T00:00:00+00:00\",\"2021-04-30T00:00:00+00:00\",\"2021-04-29T00:00:00+00:00\",\"2021-04-28T00:00:00+00:00\",\"2021-04-27T00:00:00+00:00\",\"2021-04-26T00:00:00+00:00\",\"2021-04-25T00:00:00+00:00\",\"2021-04-24T00:00:00+00:00\",\"2021-04-23T00:00:00+00:00\",\"2021-04-22T00:00:00+00:00\",\"2021-04-21T00:00:00+00:00\",\"2021-04-20T00:00:00+00:00\",\"2021-04-19T00:00:00+00:00\",\"2021-04-18T00:00:00+00:00\",\"2021-04-17T00:00:00+00:00\",\"2021-04-16T00:00:00+00:00\",\"2021-04-15T00:00:00+00:00\",\"2021-04-14T00:00:00+00:00\",\"2021-04-13T00:00:00+00:00\",\"2021-04-12T00:00:00+00:00\",\"2021-04-11T00:00:00+00:00\",\"2021-04-10T00:00:00+00:00\",\"2021-04-09T00:00:00+00:00\",\"2021-04-08T00:00:00+00:00\",\"2021-04-07T00:00:00+00:00\",\"2021-04-06T00:00:00+00:00\",\"2021-04-05T00:00:00+00:00\",\"2021-04-04T00:00:00+00:00\",\"2021-04-03T00:00:00+00:00\",\"2021-04-02T00:00:00+00:00\",\"2021-04-01T00:00:00+00:00\",\"2021-03-31T00:00:00+00:00\",\"2021-03-30T00:00:00+00:00\",\"2021-03-29T00:00:00+00:00\",\"2021-03-26T00:00:00+00:00\",\"2021-03-25T00:00:00+00:00\",\"2021-03-24T00:00:00+00:00\",\"2021-03-23T00:00:00+00:00\",\"2021-03-22T00:00:00+00:00\",\"2021-03-21T00:00:00+00:00\",\"2021-03-20T00:00:00+00:00\",\"2021-03-19T00:00:00+00:00\",\"2021-03-18T00:00:00+00:00\",\"2021-03-17T00:00:00+00:00\",\"2021-03-16T00:00:00+00:00\",\"2021-03-15T00:00:00+00:00\",\"2021-03-14T00:00:00+00:00\",\"2021-03-13T00:00:00+00:00\",\"2021-03-12T00:00:00+00:00\",\"2021-03-11T00:00:00+00:00\",\"2021-03-10T00:00:00+00:00\",\"2021-03-09T00:00:00+00:00\"],\"xaxis\":\"x\",\"y\":[0.02253147779986746,0.018128368446839783,0.011566771819137749,0.03749753305703572,0.029342723004694836,0.055971673702846246,0.039874551971326166,0.011387762980119669,0.006783493499152063,0.0072666294019005035,0.00968342644320298,0.01348747591522158,0.023859649122807018,0.020969855832241154,0.01582095311595601,0.008479366873940079,0.017064846416382253,0.009036144578313253,0.005004791821957193,0.013368246968026461,0.005824996834240851,0.0071962358151120955,0.004381694255111977,0.014025974025974027,0.007702973347712217,0.010216226939099385,0.006966009232060428,0.011596091205211727,0.010565240359218173,0.012605042016806723,0.011751538891997761,0.009127954360228199,0.009193776520509194,0.03020621550972989,0.01376823471562039,0.016363933889707086,0.006004618937644342,0.008477842003853564,0.008264462809917356,0.009790209790209791,0.023129462899720583,0.03761214630779848,0.017081260364842456,0.02196704942586121,0.023809523809523808,0.024443237370994023,0.02060908374901549,0.023500236183278223,0.027148770392013636,0.02165887275412257,0.0106544901065449,0.010869565217391304,0.017133956386292833,0.01832298136645963,0.022274555980767344,0.025277714803899343,0.030814814814814816,0.023538344722854973,0.03701923076923077,0.02007338657457371,0.02537182852143482,0.023284888263791218,0.03759453170447935,0.05100854700854701,0.033146882121400455,0.04910438542310068,0.05776094398718042,0.0473444396981347,0.04213871235147831,0.07290326947810194,0.07343144848954299,0.050737768573647424,0.06658211794546608,0.07831653500408609,0.08809244682632725,0.054750580687976995,0.04543039319872476,0.053738317757009345,0.051077509227288966,0.06978021978021978,0.08653418359780513,0.08265282759673358,0.0766070526092698,0.11078987442342919,0.22090562843842573,0.21252715423606083,0.22241559345631745,0.30427807486631014,0.33013103868293353,0.274611955529298,0.23949873984878187,0.17028129697229977,0.11785268414481898,0.09010313008865568,0.11980267794221283,0.0728565678250369,0.05206687730384413,0.012690858615903232,0.004768843555437806,0.0044362292051756,0.010073260073260074,0.007007485268354834,0.006800709639266706,0.009751407773657465,0.013244411046402404,0.006076141650052217,0.009419743782969104,0.012996941896024464,0.016509926854754442,0.012236864624336813,0.00950526797984425,0.00668602093780241,0.0052720768216908305,0.00826226012793177,0.01019607843137255,0.01289484206317473,0.0069996216420734015,0.0073588084050004434,0.006840273610944437,0.005760869565217391,0.007650621613006056,0.009879592466810744,0.007558428642466435,0.009259259259259259,0.009068140599360912,0.012166588675713618,0.01175650962292084,0.014856081708449397,0.008352534562211982,0.011549183592194345,0.014037626628075252,0.023476112026359144,0.022234652496154386,0.01475021533161068,0.023453532688361183,0.01882845188284519,0.009948702005285248,0.012344726487153769,0.008721311475409835,0.011280442253100254,0.012437002113477483,0.012019935502785108,0.006495423678771774,0.01660463784712282,0.022700321870235473,0.03010872595483691,0.01694915254237288,0.01750619322873658,0.02172544080604534,0.016819012797074956,0.020388111029231146,0.020420986490732013,0.04583870505658215,0.04123852582545554,0.018959257765227916,0.0078083989501312335,0.009040298278768068,0.007602367319443776,0.008125926304492258,0.009666141084527319,0.007213554772689146,0.00899850024995834,0.00646131565755027,0.007054219659131868,0.008552292632663576,0.014548607765680701,0.01923897278389216,0.01312939902544667,0.024098044615808317,0.03204920686306248,0.008039356851451884,0.01372187742435997,0.016612377850162865],\"yaxis\":\"y\"},{\"hovertemplate\":\"Symbol=HOOD<br>Day=%{x}<br>Percent of mentions (daily)=%{y}<extra></extra>\",\"legendgroup\":\"HOOD\",\"line\":{\"color\":\"#19d3f3\",\"dash\":\"solid\"},\"mode\":\"lines\",\"name\":\"HOOD\",\"orientation\":\"v\",\"showlegend\":true,\"type\":\"scatter\",\"x\":[\"2021-08-30T00:00:00+00:00\",\"2021-08-29T00:00:00+00:00\",\"2021-08-28T00:00:00+00:00\",\"2021-08-27T00:00:00+00:00\",\"2021-08-26T00:00:00+00:00\",\"2021-08-25T00:00:00+00:00\",\"2021-08-24T00:00:00+00:00\",\"2021-08-23T00:00:00+00:00\",\"2021-08-22T00:00:00+00:00\",\"2021-08-21T00:00:00+00:00\",\"2021-08-20T00:00:00+00:00\",\"2021-08-19T00:00:00+00:00\",\"2021-08-18T00:00:00+00:00\",\"2021-08-17T00:00:00+00:00\",\"2021-08-16T00:00:00+00:00\",\"2021-08-15T00:00:00+00:00\",\"2021-08-14T00:00:00+00:00\",\"2021-08-13T00:00:00+00:00\",\"2021-08-12T00:00:00+00:00\",\"2021-08-11T00:00:00+00:00\",\"2021-08-10T00:00:00+00:00\",\"2021-08-09T00:00:00+00:00\",\"2021-08-08T00:00:00+00:00\",\"2021-08-07T00:00:00+00:00\",\"2021-08-06T00:00:00+00:00\",\"2021-08-05T00:00:00+00:00\",\"2021-08-04T00:00:00+00:00\",\"2021-08-03T00:00:00+00:00\",\"2021-08-02T00:00:00+00:00\",\"2021-08-01T00:00:00+00:00\",\"2021-07-31T00:00:00+00:00\",\"2021-07-30T00:00:00+00:00\",\"2021-07-29T00:00:00+00:00\",\"2021-07-28T00:00:00+00:00\",\"2021-07-27T00:00:00+00:00\",\"2021-07-26T00:00:00+00:00\",\"2021-07-25T00:00:00+00:00\",\"2021-07-24T00:00:00+00:00\",\"2021-07-23T00:00:00+00:00\",\"2021-07-22T00:00:00+00:00\",\"2021-07-21T00:00:00+00:00\",\"2021-07-20T00:00:00+00:00\",\"2021-07-19T00:00:00+00:00\",\"2021-07-18T00:00:00+00:00\",\"2021-07-17T00:00:00+00:00\",\"2021-07-16T00:00:00+00:00\",\"2021-07-15T00:00:00+00:00\",\"2021-07-14T00:00:00+00:00\",\"2021-07-12T00:00:00+00:00\",\"2021-07-10T00:00:00+00:00\",\"2021-07-08T00:00:00+00:00\",\"2021-07-07T00:00:00+00:00\",\"2021-07-06T00:00:00+00:00\",\"2021-07-05T00:00:00+00:00\",\"2021-07-04T00:00:00+00:00\",\"2021-07-03T00:00:00+00:00\",\"2021-07-02T00:00:00+00:00\",\"2021-07-01T00:00:00+00:00\",\"2021-06-25T00:00:00+00:00\",\"2021-06-23T00:00:00+00:00\",\"2021-06-22T00:00:00+00:00\",\"2021-06-20T00:00:00+00:00\",\"2021-06-19T00:00:00+00:00\",\"2021-06-10T00:00:00+00:00\",\"2021-06-09T00:00:00+00:00\",\"2021-06-08T00:00:00+00:00\",\"2021-06-02T00:00:00+00:00\",\"2021-05-27T00:00:00+00:00\",\"2021-05-24T00:00:00+00:00\",\"2021-05-21T00:00:00+00:00\",\"2021-05-19T00:00:00+00:00\",\"2021-05-18T00:00:00+00:00\",\"2021-05-17T00:00:00+00:00\",\"2021-05-16T00:00:00+00:00\",\"2021-05-11T00:00:00+00:00\",\"2021-05-10T00:00:00+00:00\",\"2021-05-06T00:00:00+00:00\",\"2021-04-27T00:00:00+00:00\",\"2021-04-26T00:00:00+00:00\",\"2021-04-20T00:00:00+00:00\",\"2021-04-17T00:00:00+00:00\",\"2021-04-16T00:00:00+00:00\",\"2021-04-15T00:00:00+00:00\",\"2021-04-13T00:00:00+00:00\",\"2021-04-11T00:00:00+00:00\",\"2021-04-09T00:00:00+00:00\",\"2021-04-07T00:00:00+00:00\",\"2021-04-02T00:00:00+00:00\",\"2021-03-30T00:00:00+00:00\",\"2021-03-26T00:00:00+00:00\",\"2021-03-25T00:00:00+00:00\",\"2021-03-23T00:00:00+00:00\",\"2021-03-22T00:00:00+00:00\",\"2021-03-19T00:00:00+00:00\",\"2021-03-18T00:00:00+00:00\",\"2021-03-17T00:00:00+00:00\",\"2021-03-16T00:00:00+00:00\",\"2021-03-13T00:00:00+00:00\",\"2021-03-11T00:00:00+00:00\",\"2021-03-10T00:00:00+00:00\"],\"xaxis\":\"x\",\"y\":[0.0026507620941020544,0.005879470847623714,0.005257623554153523,0.004341819617130452,0.003325508607198748,0.009669072586136456,0.005824372759856631,0.009264620729588882,0.005087620124364048,0.010061486864169928,0.012104283054003724,0.019793308810649852,0.04982456140350877,0.012544467328215689,0.012733937873818251,0.011871113623516111,0.017064846416382253,0.015060240963855422,0.009690128846768183,0.015297684674751929,0.010257059642902367,0.019789648491558263,0.021421616358325218,0.02909090909090909,0.06886458172854722,0.12914104344376115,0.24255140579101972,0.15413680781758957,0.03645007923930269,0.06535947712418301,0.04756575265808618,0.08296658516707417,0.18862396443726004,0.015393552134766193,0.003933781347320112,0.0027818687612502046,0.009237875288683603,0.005394990366088632,0.0028099173553719006,0.0029526029526029526,0.003104625892579944,0.005003450655624569,0.013432835820895522,0.0014977533699450823,0.0009337068160597573,0.0001810610175629187,0.00026253609871357313,0.00011809163911195088,0.00012306177701206005,0.0004940711462450593,0.00020703933747412008,0.0008831321754489255,0.0006801178871004307,0.0002962962962962963,0.003416856492027335,0.00625,0.003669328728685517,0.005161854768153981,7.283851700779372e-05,0.00013815971262779773,6.769105801123671e-05,0.0002588661661920787,0.0004227436060029592,5.0878933577552216e-05,1.6302841585288316e-05,4.41393922005694e-05,5.3708577259788386e-05,8.944943870477213e-05,0.00013246787653993907,0.00015926102882624622,0.0002746875429199286,9.393199323689649e-05,9.493971328206589e-05,0.00037678975131876413,8.797395970792646e-05,9.414422895876483e-05,6.30596544330937e-05,6.68493883280968e-05,8.708525646608029e-05,0.00027968116347364006,0.0002615062761506276,7.7724234416291e-05,7.715454054471106e-05,7.470491558344539e-05,0.0002931691586045148,0.00047714476572192005,9.292816652727442e-05,0.00024563989191844754,0.0002055076037813399,0.00013123359580052493,0.00010215026303692733,0.00035774518321664023,6.855419208884623e-05,0.00016710299114354148,0.00010298130889243603,0.00020607934054611026,0.00014452259369881492,0.00013770311209033325,3.999680025597952e-05,9.69743987587277e-05],\"yaxis\":\"y\"}],                        {\"annotations\":[{\"align\":\"right\",\"height\":40,\"showarrow\":false,\"text\":\"<a style=\\\"color: rgb(100, 130, 180);\\\" href=\\\"https://beneath.dev/\\\">beneath.dev</a>\",\"x\":1.0,\"xanchor\":\"right\",\"xref\":\"paper\",\"y\":1.0,\"yanchor\":\"bottom\",\"yref\":\"paper\",\"yshift\":13},{\"align\":\"left\",\"font\":{\"size\":12},\"height\":16,\"showarrow\":false,\"text\":\"Share of mentions across all stocks on r/wallstreetbets\",\"x\":0.0,\"xanchor\":\"left\",\"xref\":\"paper\",\"y\":1.0,\"yanchor\":\"bottom\",\"yref\":\"paper\",\"yshift\":13},{\"align\":\"left\",\"font\":{\"size\":18},\"height\":24,\"showarrow\":false,\"text\":\"<b>Ebbs and Flows of Select Meme Stocks</b>\",\"x\":0.0,\"xanchor\":\"left\",\"xref\":\"paper\",\"y\":1.0,\"yanchor\":\"bottom\",\"yref\":\"paper\",\"yshift\":29}],\"colorway\":[\"rgb(60, 170, 255)\",\"rgb(255, 60, 130)\",\"rgb(100, 200, 100)\",\"rgb(200, 220, 240)\",\"rgb(251, 241, 67)\",\"rgb(203, 60, 255)\",\"rgb(249, 148, 66)\",\"rgb(36, 130, 36)\",\"rgb(238, 255, 234)\"],\"dragmode\":\"select\",\"font\":{\"color\":\"#e1e1e1\",\"family\":\"SFMono-Regular,Menlo,Monaco,Consolas,Liberation Mono,Courier,monospace\"},\"legend\":{\"orientation\":\"h\",\"title\":{\"text\":\"Symbol\"},\"tracegroupgap\":0,\"x\":0,\"y\":-0.1,\"yanchor\":\"top\"},\"margin\":{\"autoexpand\":true,\"b\":30,\"l\":35,\"r\":20,\"t\":68},\"paper_bgcolor\":\"#1b2442\",\"plot_bgcolor\":\"#1b2442\",\"template\":{\"data\":{\"bar\":[{\"error_x\":{\"color\":\"#2a3f5f\"},\"error_y\":{\"color\":\"#2a3f5f\"},\"marker\":{\"line\":{\"color\":\"#E5ECF6\",\"width\":0.5},\"pattern\":{\"fillmode\":\"overlay\",\"size\":10,\"solidity\":0.2}},\"type\":\"bar\"}],\"barpolar\":[{\"marker\":{\"line\":{\"color\":\"#E5ECF6\",\"width\":0.5},\"pattern\":{\"fillmode\":\"overlay\",\"size\":10,\"solidity\":0.2}},\"type\":\"barpolar\"}],\"carpet\":[{\"aaxis\":{\"endlinecolor\":\"#2a3f5f\",\"gridcolor\":\"white\",\"linecolor\":\"white\",\"minorgridcolor\":\"white\",\"startlinecolor\":\"#2a3f5f\"},\"baxis\":{\"endlinecolor\":\"#2a3f5f\",\"gridcolor\":\"white\",\"linecolor\":\"white\",\"minorgridcolor\":\"white\",\"startlinecolor\":\"#2a3f5f\"},\"type\":\"carpet\"}],\"choropleth\":[{\"colorbar\":{\"outlinewidth\":0,\"ticks\":\"\"},\"type\":\"choropleth\"}],\"contour\":[{\"colorbar\":{\"outlinewidth\":0,\"ticks\":\"\"},\"colorscale\":[[0.0,\"#0d0887\"],[0.1111111111111111,\"#46039f\"],[0.2222222222222222,\"#7201a8\"],[0.3333333333333333,\"#9c179e\"],[0.4444444444444444,\"#bd3786\"],[0.5555555555555556,\"#d8576b\"],[0.6666666666666666,\"#ed7953\"],[0.7777777777777778,\"#fb9f3a\"],[0.8888888888888888,\"#fdca26\"],[1.0,\"#f0f921\"]],\"type\":\"contour\"}],\"contourcarpet\":[{\"colorbar\":{\"outlinewidth\":0,\"ticks\":\"\"},\"type\":\"contourcarpet\"}],\"heatmap\":[{\"colorbar\":{\"outlinewidth\":0,\"ticks\":\"\"},\"colorscale\":[[0.0,\"#0d0887\"],[0.1111111111111111,\"#46039f\"],[0.2222222222222222,\"#7201a8\"],[0.3333333333333333,\"#9c179e\"],[0.4444444444444444,\"#bd3786\"],[0.5555555555555556,\"#d8576b\"],[0.6666666666666666,\"#ed7953\"],[0.7777777777777778,\"#fb9f3a\"],[0.8888888888888888,\"#fdca26\"],[1.0,\"#f0f921\"]],\"type\":\"heatmap\"}],\"heatmapgl\":[{\"colorbar\":{\"outlinewidth\":0,\"ticks\":\"\"},\"colorscale\":[[0.0,\"#0d0887\"],[0.1111111111111111,\"#46039f\"],[0.2222222222222222,\"#7201a8\"],[0.3333333333333333,\"#9c179e\"],[0.4444444444444444,\"#bd3786\"],[0.5555555555555556,\"#d8576b\"],[0.6666666666666666,\"#ed7953\"],[0.7777777777777778,\"#fb9f3a\"],[0.8888888888888888,\"#fdca26\"],[1.0,\"#f0f921\"]],\"type\":\"heatmapgl\"}],\"histogram\":[{\"marker\":{\"pattern\":{\"fillmode\":\"overlay\",\"size\":10,\"solidity\":0.2}},\"type\":\"histogram\"}],\"histogram2d\":[{\"colorbar\":{\"outlinewidth\":0,\"ticks\":\"\"},\"colorscale\":[[0.0,\"#0d0887\"],[0.1111111111111111,\"#46039f\"],[0.2222222222222222,\"#7201a8\"],[0.3333333333333333,\"#9c179e\"],[0.4444444444444444,\"#bd3786\"],[0.5555555555555556,\"#d8576b\"],[0.6666666666666666,\"#ed7953\"],[0.7777777777777778,\"#fb9f3a\"],[0.8888888888888888,\"#fdca26\"],[1.0,\"#f0f921\"]],\"type\":\"histogram2d\"}],\"histogram2dcontour\":[{\"colorbar\":{\"outlinewidth\":0,\"ticks\":\"\"},\"colorscale\":[[0.0,\"#0d0887\"],[0.1111111111111111,\"#46039f\"],[0.2222222222222222,\"#7201a8\"],[0.3333333333333333,\"#9c179e\"],[0.4444444444444444,\"#bd3786\"],[0.5555555555555556,\"#d8576b\"],[0.6666666666666666,\"#ed7953\"],[0.7777777777777778,\"#fb9f3a\"],[0.8888888888888888,\"#fdca26\"],[1.0,\"#f0f921\"]],\"type\":\"histogram2dcontour\"}],\"mesh3d\":[{\"colorbar\":{\"outlinewidth\":0,\"ticks\":\"\"},\"type\":\"mesh3d\"}],\"parcoords\":[{\"line\":{\"colorbar\":{\"outlinewidth\":0,\"ticks\":\"\"}},\"type\":\"parcoords\"}],\"pie\":[{\"automargin\":true,\"type\":\"pie\"}],\"scatter\":[{\"marker\":{\"colorbar\":{\"outlinewidth\":0,\"ticks\":\"\"}},\"type\":\"scatter\"}],\"scatter3d\":[{\"line\":{\"colorbar\":{\"outlinewidth\":0,\"ticks\":\"\"}},\"marker\":{\"colorbar\":{\"outlinewidth\":0,\"ticks\":\"\"}},\"type\":\"scatter3d\"}],\"scattercarpet\":[{\"marker\":{\"colorbar\":{\"outlinewidth\":0,\"ticks\":\"\"}},\"type\":\"scattercarpet\"}],\"scattergeo\":[{\"marker\":{\"colorbar\":{\"outlinewidth\":0,\"ticks\":\"\"}},\"type\":\"scattergeo\"}],\"scattergl\":[{\"marker\":{\"colorbar\":{\"outlinewidth\":0,\"ticks\":\"\"}},\"type\":\"scattergl\"}],\"scattermapbox\":[{\"marker\":{\"colorbar\":{\"outlinewidth\":0,\"ticks\":\"\"}},\"type\":\"scattermapbox\"}],\"scatterpolar\":[{\"marker\":{\"colorbar\":{\"outlinewidth\":0,\"ticks\":\"\"}},\"type\":\"scatterpolar\"}],\"scatterpolargl\":[{\"marker\":{\"colorbar\":{\"outlinewidth\":0,\"ticks\":\"\"}},\"type\":\"scatterpolargl\"}],\"scatterternary\":[{\"marker\":{\"colorbar\":{\"outlinewidth\":0,\"ticks\":\"\"}},\"type\":\"scatterternary\"}],\"surface\":[{\"colorbar\":{\"outlinewidth\":0,\"ticks\":\"\"},\"colorscale\":[[0.0,\"#0d0887\"],[0.1111111111111111,\"#46039f\"],[0.2222222222222222,\"#7201a8\"],[0.3333333333333333,\"#9c179e\"],[0.4444444444444444,\"#bd3786\"],[0.5555555555555556,\"#d8576b\"],[0.6666666666666666,\"#ed7953\"],[0.7777777777777778,\"#fb9f3a\"],[0.8888888888888888,\"#fdca26\"],[1.0,\"#f0f921\"]],\"type\":\"surface\"}],\"table\":[{\"cells\":{\"fill\":{\"color\":\"#EBF0F8\"},\"line\":{\"color\":\"white\"}},\"header\":{\"fill\":{\"color\":\"#C8D4E3\"},\"line\":{\"color\":\"white\"}},\"type\":\"table\"}]},\"layout\":{\"annotationdefaults\":{\"arrowcolor\":\"#2a3f5f\",\"arrowhead\":0,\"arrowwidth\":1},\"autotypenumbers\":\"strict\",\"coloraxis\":{\"colorbar\":{\"outlinewidth\":0,\"ticks\":\"\"}},\"colorscale\":{\"diverging\":[[0,\"#8e0152\"],[0.1,\"#c51b7d\"],[0.2,\"#de77ae\"],[0.3,\"#f1b6da\"],[0.4,\"#fde0ef\"],[0.5,\"#f7f7f7\"],[0.6,\"#e6f5d0\"],[0.7,\"#b8e186\"],[0.8,\"#7fbc41\"],[0.9,\"#4d9221\"],[1,\"#276419\"]],\"sequential\":[[0.0,\"#0d0887\"],[0.1111111111111111,\"#46039f\"],[0.2222222222222222,\"#7201a8\"],[0.3333333333333333,\"#9c179e\"],[0.4444444444444444,\"#bd3786\"],[0.5555555555555556,\"#d8576b\"],[0.6666666666666666,\"#ed7953\"],[0.7777777777777778,\"#fb9f3a\"],[0.8888888888888888,\"#fdca26\"],[1.0,\"#f0f921\"]],\"sequentialminus\":[[0.0,\"#0d0887\"],[0.1111111111111111,\"#46039f\"],[0.2222222222222222,\"#7201a8\"],[0.3333333333333333,\"#9c179e\"],[0.4444444444444444,\"#bd3786\"],[0.5555555555555556,\"#d8576b\"],[0.6666666666666666,\"#ed7953\"],[0.7777777777777778,\"#fb9f3a\"],[0.8888888888888888,\"#fdca26\"],[1.0,\"#f0f921\"]]},\"colorway\":[\"#636efa\",\"#EF553B\",\"#00cc96\",\"#ab63fa\",\"#FFA15A\",\"#19d3f3\",\"#FF6692\",\"#B6E880\",\"#FF97FF\",\"#FECB52\"],\"font\":{\"color\":\"#2a3f5f\"},\"geo\":{\"bgcolor\":\"white\",\"lakecolor\":\"white\",\"landcolor\":\"#E5ECF6\",\"showlakes\":true,\"showland\":true,\"subunitcolor\":\"white\"},\"hoverlabel\":{\"align\":\"left\"},\"hovermode\":\"closest\",\"mapbox\":{\"style\":\"light\"},\"paper_bgcolor\":\"white\",\"plot_bgcolor\":\"#E5ECF6\",\"polar\":{\"angularaxis\":{\"gridcolor\":\"white\",\"linecolor\":\"white\",\"ticks\":\"\"},\"bgcolor\":\"#E5ECF6\",\"radialaxis\":{\"gridcolor\":\"white\",\"linecolor\":\"white\",\"ticks\":\"\"}},\"scene\":{\"xaxis\":{\"backgroundcolor\":\"#E5ECF6\",\"gridcolor\":\"white\",\"gridwidth\":2,\"linecolor\":\"white\",\"showbackground\":true,\"ticks\":\"\",\"zerolinecolor\":\"white\"},\"yaxis\":{\"backgroundcolor\":\"#E5ECF6\",\"gridcolor\":\"white\",\"gridwidth\":2,\"linecolor\":\"white\",\"showbackground\":true,\"ticks\":\"\",\"zerolinecolor\":\"white\"},\"zaxis\":{\"backgroundcolor\":\"#E5ECF6\",\"gridcolor\":\"white\",\"gridwidth\":2,\"linecolor\":\"white\",\"showbackground\":true,\"ticks\":\"\",\"zerolinecolor\":\"white\"}},\"shapedefaults\":{\"line\":{\"color\":\"#2a3f5f\"}},\"ternary\":{\"aaxis\":{\"gridcolor\":\"white\",\"linecolor\":\"white\",\"ticks\":\"\"},\"baxis\":{\"gridcolor\":\"white\",\"linecolor\":\"white\",\"ticks\":\"\"},\"bgcolor\":\"#E5ECF6\",\"caxis\":{\"gridcolor\":\"white\",\"linecolor\":\"white\",\"ticks\":\"\"}},\"title\":{\"x\":0.05},\"xaxis\":{\"automargin\":true,\"gridcolor\":\"white\",\"linecolor\":\"white\",\"ticks\":\"\",\"title\":{\"standoff\":15},\"zerolinecolor\":\"white\",\"zerolinewidth\":2},\"yaxis\":{\"automargin\":true,\"gridcolor\":\"white\",\"linecolor\":\"white\",\"ticks\":\"\",\"title\":{\"standoff\":15},\"zerolinecolor\":\"white\",\"zerolinewidth\":2}}},\"title\":{\"font\":{\"color\":\"#1b2442\",\"size\":1},\"text\":\"Ebbs and Flows of Select Meme Stocks\"},\"xaxis\":{\"anchor\":\"y\",\"domain\":[0.0,1.0],\"gridcolor\":\"rgb(44, 53, 72)\",\"title\":{\"text\":\"\"},\"zerolinecolor\":\"#e1e1e1\"},\"yaxis\":{\"anchor\":\"x\",\"domain\":[0.0,1.0],\"gridcolor\":\"rgb(44, 53, 72)\",\"tickformat\":\",.0%\",\"title\":{\"text\":\"Percent of mentions (daily)\"},\"zerolinecolor\":\"#e1e1e1\"}},                        {\"responsive\": true}                    ).then(function(){\n",
       "                            \n",
       "var gd = document.getElementById('ca29abbf-8991-439e-8e9b-a96c529a19bb');\n",
       "var x = new MutationObserver(function (mutations, observer) {{\n",
       "        var display = window.getComputedStyle(gd).display;\n",
       "        if (!display || display === 'none') {{\n",
       "            console.log([gd, 'removed!']);\n",
       "            Plotly.purge(gd);\n",
       "            observer.disconnect();\n",
       "        }}\n",
       "}});\n",
       "\n",
       "// Listen for the removal of the full notebook cells\n",
       "var notebookContainer = gd.closest('#notebook-container');\n",
       "if (notebookContainer) {{\n",
       "    x.observe(notebookContainer, {childList: true});\n",
       "}}\n",
       "\n",
       "// Listen for the clearing of the current output cell\n",
       "var outputEl = gd.closest('.output');\n",
       "if (outputEl) {{\n",
       "    x.observe(outputEl, {childList: true});\n",
       "}}\n",
       "\n",
       "                        })                };                });            </script>        </div>"
      ]
     },
     "metadata": {},
     "output_type": "display_data"
    }
   ],
   "source": [
    "symbols_to_graph = stocks.loc[stocks['fraction_of_mentions'] > .24]['symbol'].unique()\n",
    "fig = px.line(stocks.loc[stocks['symbol'].isin(symbols_to_graph)].sort_values('day', ascending=False), \n",
    "              x=\"day\",\n",
    "              y=\"fraction_of_mentions\", \n",
    "              line_group=\"symbol\",\n",
    "              color=\"symbol\",\n",
    "#               color_discrete_map=blogpost_colors,\n",
    "              labels={'day': 'Day', 'fraction_of_mentions': 'Percent of mentions (daily)', 'symbol': 'Symbol'},\n",
    "            )\n",
    "fig.update_layout(\n",
    "    make_layout(\n",
    "        title=\"Ebbs and Flows of Select Meme Stocks\",\n",
    "        subtitle=\"Share of mentions across all stocks on r/wallstreetbets\",\n",
    "        source_hidden=False,\n",
    "        legend=True,\n",
    "        override={\n",
    "            'xaxis': {\n",
    "                'title': ''\n",
    "            },\n",
    "            'yaxis': {\n",
    "                'tickformat': ',.0%'\n",
    "            }\n",
    "        },\n",
    "    )\n",
    ")\n",
    "fig.show()"
   ]
  },
  {
   "cell_type": "code",
   "execution_count": 74,
   "id": "978a53bc",
   "metadata": {},
   "outputs": [
    {
     "data": {
      "text/plain": [
       "'https://plotly.com/~ericpgreen/8/'"
      ]
     },
     "execution_count": 74,
     "metadata": {},
     "output_type": "execute_result"
    }
   ],
   "source": [
    "py.plot(fig, filename=\"wallstreetbets_202108_ebbs_flows\")"
   ]
  },
  {
   "cell_type": "markdown",
   "id": "fc312b40",
   "metadata": {},
   "source": [
    "## Interesting discussions"
   ]
  },
  {
   "cell_type": "code",
   "execution_count": 10,
   "id": "63644297",
   "metadata": {},
   "outputs": [],
   "source": [
    "pd.set_option('max_colwidth', 100)"
   ]
  },
  {
   "cell_type": "code",
   "execution_count": 24,
   "id": "4c5106ec",
   "metadata": {},
   "outputs": [],
   "source": [
    "posts = await beneath.query_warehouse(\"\"\"\n",
    "with\n",
    "    posts_scores_deduped as (\n",
    "        select r.* from (\n",
    "            select array_agg(t order by t.__timestamp desc limit 1)[offset(0)] r\n",
    "            from `examples/reddit/r-wallstreetbets-posts-scores` t\n",
    "            group by t.__key\n",
    "        )\n",
    "    ),\n",
    "    comments_deduped as (\n",
    "        select r.* from (\n",
    "            select array_agg(t order by t.__timestamp desc limit 1)[offset(0)] r\n",
    "            from `examples/reddit/r-wallstreetbets-comments` t\n",
    "            where timestamp_trunc(created_on, month) = \"2021-08-01\"\n",
    "            group by t.__key\n",
    "        )\n",
    "    ),\n",
    "    posts as (\n",
    "        select \n",
    "            p.created_on, \n",
    "            p.id, \n",
    "            p.author, \n",
    "            p.title, \n",
    "            p.text, \n",
    "            p.flair, \n",
    "            p.permalink,\n",
    "            s.score,\n",
    "            array_length(split(p.text, \" \")) as num_words,\n",
    "            array_length(regexp_extract_all(p.title, r\"\\\\x{1F680}\")) + array_length(regexp_extract_all(text, r\"\\\\x{1F680}\")) as num_rockets,\n",
    "            array_length(regexp_extract_all(p.title, r\"\\\\x{1F48E}\")) + array_length(regexp_extract_all(text, r\"\\\\x{1F48E}\")) as num_diamonds,\n",
    "        from `examples/reddit/r-wallstreetbets-posts` p\n",
    "        left join posts_scores_deduped s on p.id = s.id\n",
    "        where timestamp_trunc(created_on, month) = \"2021-08-01\"\n",
    "    ),\n",
    "    comments as (\n",
    "        select \n",
    "            created_on, \n",
    "            id, \n",
    "            post_id, \n",
    "            author, \n",
    "            text,\n",
    "            array_length(split(text, \" \")) as num_words,\n",
    "            array_length(regexp_extract_all(c.text, r\"\\\\x{1F680}\")) as num_rockets,\n",
    "            array_length(regexp_extract_all(c.text, r\"\\\\x{1F48E}\")) as num_diamonds,\n",
    "        from comments_deduped c\n",
    "    )\n",
    "select \n",
    "    p.created_on, \n",
    "    p.title, \n",
    "    p.text, \n",
    "    p.author, \n",
    "    p.flair, \n",
    "    p.permalink,\n",
    "    p.num_words,\n",
    "    p.score,\n",
    "    count(c.id) as num_comments,\n",
    "    sum(c.num_words) as sum_comments_words, \n",
    "    sum(c.num_words)/count(c.id) as avg_words_per_comment,\n",
    "    p.num_rockets + sum(c.num_rockets) as num_rockets,\n",
    "    (p.num_rockets + sum(c.num_rockets))/count(c.id) as avg_rockets_per_comment,\n",
    "    count(distinct if(c.num_rockets > 0, c.author, null)) as num_authors_commented_with_rocket,\n",
    "    count(distinct if(c.num_rockets > 0, c.author, null))/count(distinct c.author) as fraction_of_authors_who_commented_with_rocket,\n",
    "    p.num_diamonds + sum(c.num_diamonds) as num_diamonds,\n",
    "    count(distinct c.author) as nunique_commenters,\n",
    "from posts p\n",
    "join comments c on p.id = c.post_id\n",
    "group by p.created_on, p.title, p.text, p.author, p.flair, p.permalink, p.num_words, p.score, p.num_rockets, p.num_diamonds\n",
    "\"\"\")"
   ]
  },
  {
   "cell_type": "markdown",
   "id": "ce0bb825",
   "metadata": {},
   "source": [
    "Exclude moderators"
   ]
  },
  {
   "cell_type": "code",
   "execution_count": 25,
   "id": "81d12354",
   "metadata": {},
   "outputs": [],
   "source": [
    "posts_no_mods = posts.loc[[author not in MODERATORS for author in posts['author']]]"
   ]
  },
  {
   "cell_type": "markdown",
   "id": "16b4b502",
   "metadata": {},
   "source": [
    "Post with the highest avg words per comment (at least 15 comments)"
   ]
  },
  {
   "cell_type": "code",
   "execution_count": 26,
   "id": "09cd9af0",
   "metadata": {},
   "outputs": [],
   "source": [
    "tbl1_df = posts_no_mods[posts_no_mods['num_comments'] >= 15].sort_values('avg_words_per_comment', ascending=False).head(10)"
   ]
  },
  {
   "cell_type": "code",
   "execution_count": 76,
   "id": "c5e68d83",
   "metadata": {},
   "outputs": [
    {
     "data": {
      "application/vnd.plotly.v1+json": {
       "config": {
        "plotlyServerURL": "https://plotly.com"
       },
       "data": [
        {
         "cells": {
          "align": "left",
          "fill": {
           "color": "#1b2442"
          },
          "values": [
           [
            "<a href=\"https://reddit.com/r/wallstreetbets/comments/pc8rsf/dallas_feds_kaplan_calls_for_tapering/\">Dallas Fed’s Kaplan calls for tapering announcement in September</a>",
            "<a href=\"https://reddit.com/r/wallstreetbets/comments/pe86nl/the_ride_case/\">The RIDE case</a>",
            "<a href=\"https://reddit.com/r/wallstreetbets/comments/pchjj1/smile_direct_club_sdc_in_depth_analysis_by_a/\">Smile direct club, $sdc - in depth analysis by a dentist</a>",
            "<a href=\"https://reddit.com/r/wallstreetbets/comments/pd57v0/passive_investor_of_2_years_looking_for_better/\">Passive investor of 2 years looking for better guidance!</a>",
            "<a href=\"https://reddit.com/r/wallstreetbets/comments/paxr9w/elon_bad_peter_good_get_lucid_lcid/\">Elon BAD! Peter GOOD! Get LUCID! $LCID</a>",
            "<a href=\"https://reddit.com/r/wallstreetbets/comments/p7u7rv/a_valuable_lesson_learned_using_margin_money/\">A valuable lesson learned using margin money</a>",
            "<a href=\"https://reddit.com/r/wallstreetbets/comments/peddi9/im_building_a_didi_bag_fuck/\">Im Building a DIDI bag, fuck</a>",
            "<a href=\"https://reddit.com/r/wallstreetbets/comments/oxty90/amd_is_going_to_revolutionize_the_gpu_computing/\">AMD is going to revolutionize the GPU computing industry with their MCM designs.</a>",
            "<a href=\"https://reddit.com/r/wallstreetbets/comments/ox2jwg/chip_shortage_how_about_chip_guh/\">Chip Shortage? How about Chip GUH</a>",
            "<a href=\"https://reddit.com/r/wallstreetbets/comments/p36ywi/ride_why_lordstown_motors_is_headed_to_zero/\">$RIDE - Why Lordstown Motors is Headed to Zero</a>"
           ],
           [
            "August 26, 2021",
            "August 30, 2021",
            "August 27, 2021",
            "August 28, 2021",
            "August 24, 2021",
            "August 20, 2021",
            "August 30, 2021",
            "August 04, 2021",
            "August 03, 2021",
            "August 12, 2021"
           ],
           [
            16,
            null,
            0,
            2,
            0,
            7,
            null,
            147,
            22,
            73
           ],
           [
            24,
            18,
            20,
            19,
            26,
            16,
            17,
            45,
            33,
            213
           ],
           [
            98.7,
            72.3,
            71.9,
            65.6,
            59.3,
            59.2,
            58.2,
            56,
            55.4,
            55.3
           ]
          ]
         },
         "columnwidth": [
          130,
          40,
          25,
          25,
          25
         ],
         "header": {
          "align": "left",
          "fill": {
           "color": "#1b2442"
          },
          "values": [
           "<b>Post</b>",
           "<b>Date</b>",
           "<b>Score</b>",
           "<b># of comments</b>",
           "<b>Average words per comment</b>"
          ]
         },
         "type": "table"
        }
       ],
       "layout": {
        "annotations": [
         {
          "align": "right",
          "height": 40,
          "showarrow": false,
          "text": "<a style=\"color: rgb(100, 130, 180);\" href=\"https://beneath.dev/\">beneath.dev</a>",
          "x": 1,
          "xanchor": "right",
          "xref": "paper",
          "y": 1,
          "yanchor": "bottom",
          "yref": "paper",
          "yshift": 13
         },
         {
          "align": "left",
          "font": {
           "size": 12
          },
          "height": 16,
          "showarrow": false,
          "text": "Posts with highest average words per comment",
          "x": 0,
          "xanchor": "left",
          "xref": "paper",
          "y": 1,
          "yanchor": "bottom",
          "yref": "paper",
          "yshift": 13
         },
         {
          "align": "left",
          "font": {
           "size": 18
          },
          "height": 24,
          "showarrow": false,
          "text": "<b>Sophisticated intellectual discussion</b>",
          "x": 0,
          "xanchor": "left",
          "xref": "paper",
          "y": 1,
          "yanchor": "bottom",
          "yref": "paper",
          "yshift": 29
         }
        ],
        "colorway": [
         "rgb(60, 170, 255)",
         "rgb(255, 60, 130)",
         "rgb(100, 200, 100)",
         "rgb(200, 220, 240)",
         "rgb(251, 241, 67)",
         "rgb(203, 60, 255)",
         "rgb(249, 148, 66)",
         "rgb(36, 130, 36)",
         "rgb(238, 255, 234)"
        ],
        "dragmode": "select",
        "font": {
         "color": "#e1e1e1",
         "family": "SFMono-Regular,Menlo,Monaco,Consolas,Liberation Mono,Courier,monospace"
        },
        "height": 480,
        "margin": {
         "autoexpand": true,
         "b": 30,
         "l": 35,
         "r": 20,
         "t": 68
        },
        "paper_bgcolor": "#1b2442",
        "plot_bgcolor": "#1b2442",
        "template": {
         "data": {
          "bar": [
           {
            "error_x": {
             "color": "#2a3f5f"
            },
            "error_y": {
             "color": "#2a3f5f"
            },
            "marker": {
             "line": {
              "color": "#E5ECF6",
              "width": 0.5
             },
             "pattern": {
              "fillmode": "overlay",
              "size": 10,
              "solidity": 0.2
             }
            },
            "type": "bar"
           }
          ],
          "barpolar": [
           {
            "marker": {
             "line": {
              "color": "#E5ECF6",
              "width": 0.5
             },
             "pattern": {
              "fillmode": "overlay",
              "size": 10,
              "solidity": 0.2
             }
            },
            "type": "barpolar"
           }
          ],
          "carpet": [
           {
            "aaxis": {
             "endlinecolor": "#2a3f5f",
             "gridcolor": "white",
             "linecolor": "white",
             "minorgridcolor": "white",
             "startlinecolor": "#2a3f5f"
            },
            "baxis": {
             "endlinecolor": "#2a3f5f",
             "gridcolor": "white",
             "linecolor": "white",
             "minorgridcolor": "white",
             "startlinecolor": "#2a3f5f"
            },
            "type": "carpet"
           }
          ],
          "choropleth": [
           {
            "colorbar": {
             "outlinewidth": 0,
             "ticks": ""
            },
            "type": "choropleth"
           }
          ],
          "contour": [
           {
            "colorbar": {
             "outlinewidth": 0,
             "ticks": ""
            },
            "colorscale": [
             [
              0,
              "#0d0887"
             ],
             [
              0.1111111111111111,
              "#46039f"
             ],
             [
              0.2222222222222222,
              "#7201a8"
             ],
             [
              0.3333333333333333,
              "#9c179e"
             ],
             [
              0.4444444444444444,
              "#bd3786"
             ],
             [
              0.5555555555555556,
              "#d8576b"
             ],
             [
              0.6666666666666666,
              "#ed7953"
             ],
             [
              0.7777777777777778,
              "#fb9f3a"
             ],
             [
              0.8888888888888888,
              "#fdca26"
             ],
             [
              1,
              "#f0f921"
             ]
            ],
            "type": "contour"
           }
          ],
          "contourcarpet": [
           {
            "colorbar": {
             "outlinewidth": 0,
             "ticks": ""
            },
            "type": "contourcarpet"
           }
          ],
          "heatmap": [
           {
            "colorbar": {
             "outlinewidth": 0,
             "ticks": ""
            },
            "colorscale": [
             [
              0,
              "#0d0887"
             ],
             [
              0.1111111111111111,
              "#46039f"
             ],
             [
              0.2222222222222222,
              "#7201a8"
             ],
             [
              0.3333333333333333,
              "#9c179e"
             ],
             [
              0.4444444444444444,
              "#bd3786"
             ],
             [
              0.5555555555555556,
              "#d8576b"
             ],
             [
              0.6666666666666666,
              "#ed7953"
             ],
             [
              0.7777777777777778,
              "#fb9f3a"
             ],
             [
              0.8888888888888888,
              "#fdca26"
             ],
             [
              1,
              "#f0f921"
             ]
            ],
            "type": "heatmap"
           }
          ],
          "heatmapgl": [
           {
            "colorbar": {
             "outlinewidth": 0,
             "ticks": ""
            },
            "colorscale": [
             [
              0,
              "#0d0887"
             ],
             [
              0.1111111111111111,
              "#46039f"
             ],
             [
              0.2222222222222222,
              "#7201a8"
             ],
             [
              0.3333333333333333,
              "#9c179e"
             ],
             [
              0.4444444444444444,
              "#bd3786"
             ],
             [
              0.5555555555555556,
              "#d8576b"
             ],
             [
              0.6666666666666666,
              "#ed7953"
             ],
             [
              0.7777777777777778,
              "#fb9f3a"
             ],
             [
              0.8888888888888888,
              "#fdca26"
             ],
             [
              1,
              "#f0f921"
             ]
            ],
            "type": "heatmapgl"
           }
          ],
          "histogram": [
           {
            "marker": {
             "pattern": {
              "fillmode": "overlay",
              "size": 10,
              "solidity": 0.2
             }
            },
            "type": "histogram"
           }
          ],
          "histogram2d": [
           {
            "colorbar": {
             "outlinewidth": 0,
             "ticks": ""
            },
            "colorscale": [
             [
              0,
              "#0d0887"
             ],
             [
              0.1111111111111111,
              "#46039f"
             ],
             [
              0.2222222222222222,
              "#7201a8"
             ],
             [
              0.3333333333333333,
              "#9c179e"
             ],
             [
              0.4444444444444444,
              "#bd3786"
             ],
             [
              0.5555555555555556,
              "#d8576b"
             ],
             [
              0.6666666666666666,
              "#ed7953"
             ],
             [
              0.7777777777777778,
              "#fb9f3a"
             ],
             [
              0.8888888888888888,
              "#fdca26"
             ],
             [
              1,
              "#f0f921"
             ]
            ],
            "type": "histogram2d"
           }
          ],
          "histogram2dcontour": [
           {
            "colorbar": {
             "outlinewidth": 0,
             "ticks": ""
            },
            "colorscale": [
             [
              0,
              "#0d0887"
             ],
             [
              0.1111111111111111,
              "#46039f"
             ],
             [
              0.2222222222222222,
              "#7201a8"
             ],
             [
              0.3333333333333333,
              "#9c179e"
             ],
             [
              0.4444444444444444,
              "#bd3786"
             ],
             [
              0.5555555555555556,
              "#d8576b"
             ],
             [
              0.6666666666666666,
              "#ed7953"
             ],
             [
              0.7777777777777778,
              "#fb9f3a"
             ],
             [
              0.8888888888888888,
              "#fdca26"
             ],
             [
              1,
              "#f0f921"
             ]
            ],
            "type": "histogram2dcontour"
           }
          ],
          "mesh3d": [
           {
            "colorbar": {
             "outlinewidth": 0,
             "ticks": ""
            },
            "type": "mesh3d"
           }
          ],
          "parcoords": [
           {
            "line": {
             "colorbar": {
              "outlinewidth": 0,
              "ticks": ""
             }
            },
            "type": "parcoords"
           }
          ],
          "pie": [
           {
            "automargin": true,
            "type": "pie"
           }
          ],
          "scatter": [
           {
            "marker": {
             "colorbar": {
              "outlinewidth": 0,
              "ticks": ""
             }
            },
            "type": "scatter"
           }
          ],
          "scatter3d": [
           {
            "line": {
             "colorbar": {
              "outlinewidth": 0,
              "ticks": ""
             }
            },
            "marker": {
             "colorbar": {
              "outlinewidth": 0,
              "ticks": ""
             }
            },
            "type": "scatter3d"
           }
          ],
          "scattercarpet": [
           {
            "marker": {
             "colorbar": {
              "outlinewidth": 0,
              "ticks": ""
             }
            },
            "type": "scattercarpet"
           }
          ],
          "scattergeo": [
           {
            "marker": {
             "colorbar": {
              "outlinewidth": 0,
              "ticks": ""
             }
            },
            "type": "scattergeo"
           }
          ],
          "scattergl": [
           {
            "marker": {
             "colorbar": {
              "outlinewidth": 0,
              "ticks": ""
             }
            },
            "type": "scattergl"
           }
          ],
          "scattermapbox": [
           {
            "marker": {
             "colorbar": {
              "outlinewidth": 0,
              "ticks": ""
             }
            },
            "type": "scattermapbox"
           }
          ],
          "scatterpolar": [
           {
            "marker": {
             "colorbar": {
              "outlinewidth": 0,
              "ticks": ""
             }
            },
            "type": "scatterpolar"
           }
          ],
          "scatterpolargl": [
           {
            "marker": {
             "colorbar": {
              "outlinewidth": 0,
              "ticks": ""
             }
            },
            "type": "scatterpolargl"
           }
          ],
          "scatterternary": [
           {
            "marker": {
             "colorbar": {
              "outlinewidth": 0,
              "ticks": ""
             }
            },
            "type": "scatterternary"
           }
          ],
          "surface": [
           {
            "colorbar": {
             "outlinewidth": 0,
             "ticks": ""
            },
            "colorscale": [
             [
              0,
              "#0d0887"
             ],
             [
              0.1111111111111111,
              "#46039f"
             ],
             [
              0.2222222222222222,
              "#7201a8"
             ],
             [
              0.3333333333333333,
              "#9c179e"
             ],
             [
              0.4444444444444444,
              "#bd3786"
             ],
             [
              0.5555555555555556,
              "#d8576b"
             ],
             [
              0.6666666666666666,
              "#ed7953"
             ],
             [
              0.7777777777777778,
              "#fb9f3a"
             ],
             [
              0.8888888888888888,
              "#fdca26"
             ],
             [
              1,
              "#f0f921"
             ]
            ],
            "type": "surface"
           }
          ],
          "table": [
           {
            "cells": {
             "fill": {
              "color": "#EBF0F8"
             },
             "line": {
              "color": "white"
             }
            },
            "header": {
             "fill": {
              "color": "#C8D4E3"
             },
             "line": {
              "color": "white"
             }
            },
            "type": "table"
           }
          ]
         },
         "layout": {
          "annotationdefaults": {
           "arrowcolor": "#2a3f5f",
           "arrowhead": 0,
           "arrowwidth": 1
          },
          "autotypenumbers": "strict",
          "coloraxis": {
           "colorbar": {
            "outlinewidth": 0,
            "ticks": ""
           }
          },
          "colorscale": {
           "diverging": [
            [
             0,
             "#8e0152"
            ],
            [
             0.1,
             "#c51b7d"
            ],
            [
             0.2,
             "#de77ae"
            ],
            [
             0.3,
             "#f1b6da"
            ],
            [
             0.4,
             "#fde0ef"
            ],
            [
             0.5,
             "#f7f7f7"
            ],
            [
             0.6,
             "#e6f5d0"
            ],
            [
             0.7,
             "#b8e186"
            ],
            [
             0.8,
             "#7fbc41"
            ],
            [
             0.9,
             "#4d9221"
            ],
            [
             1,
             "#276419"
            ]
           ],
           "sequential": [
            [
             0,
             "#0d0887"
            ],
            [
             0.1111111111111111,
             "#46039f"
            ],
            [
             0.2222222222222222,
             "#7201a8"
            ],
            [
             0.3333333333333333,
             "#9c179e"
            ],
            [
             0.4444444444444444,
             "#bd3786"
            ],
            [
             0.5555555555555556,
             "#d8576b"
            ],
            [
             0.6666666666666666,
             "#ed7953"
            ],
            [
             0.7777777777777778,
             "#fb9f3a"
            ],
            [
             0.8888888888888888,
             "#fdca26"
            ],
            [
             1,
             "#f0f921"
            ]
           ],
           "sequentialminus": [
            [
             0,
             "#0d0887"
            ],
            [
             0.1111111111111111,
             "#46039f"
            ],
            [
             0.2222222222222222,
             "#7201a8"
            ],
            [
             0.3333333333333333,
             "#9c179e"
            ],
            [
             0.4444444444444444,
             "#bd3786"
            ],
            [
             0.5555555555555556,
             "#d8576b"
            ],
            [
             0.6666666666666666,
             "#ed7953"
            ],
            [
             0.7777777777777778,
             "#fb9f3a"
            ],
            [
             0.8888888888888888,
             "#fdca26"
            ],
            [
             1,
             "#f0f921"
            ]
           ]
          },
          "colorway": [
           "#636efa",
           "#EF553B",
           "#00cc96",
           "#ab63fa",
           "#FFA15A",
           "#19d3f3",
           "#FF6692",
           "#B6E880",
           "#FF97FF",
           "#FECB52"
          ],
          "font": {
           "color": "#2a3f5f"
          },
          "geo": {
           "bgcolor": "white",
           "lakecolor": "white",
           "landcolor": "#E5ECF6",
           "showlakes": true,
           "showland": true,
           "subunitcolor": "white"
          },
          "hoverlabel": {
           "align": "left"
          },
          "hovermode": "closest",
          "mapbox": {
           "style": "light"
          },
          "paper_bgcolor": "white",
          "plot_bgcolor": "#E5ECF6",
          "polar": {
           "angularaxis": {
            "gridcolor": "white",
            "linecolor": "white",
            "ticks": ""
           },
           "bgcolor": "#E5ECF6",
           "radialaxis": {
            "gridcolor": "white",
            "linecolor": "white",
            "ticks": ""
           }
          },
          "scene": {
           "xaxis": {
            "backgroundcolor": "#E5ECF6",
            "gridcolor": "white",
            "gridwidth": 2,
            "linecolor": "white",
            "showbackground": true,
            "ticks": "",
            "zerolinecolor": "white"
           },
           "yaxis": {
            "backgroundcolor": "#E5ECF6",
            "gridcolor": "white",
            "gridwidth": 2,
            "linecolor": "white",
            "showbackground": true,
            "ticks": "",
            "zerolinecolor": "white"
           },
           "zaxis": {
            "backgroundcolor": "#E5ECF6",
            "gridcolor": "white",
            "gridwidth": 2,
            "linecolor": "white",
            "showbackground": true,
            "ticks": "",
            "zerolinecolor": "white"
           }
          },
          "shapedefaults": {
           "line": {
            "color": "#2a3f5f"
           }
          },
          "ternary": {
           "aaxis": {
            "gridcolor": "white",
            "linecolor": "white",
            "ticks": ""
           },
           "baxis": {
            "gridcolor": "white",
            "linecolor": "white",
            "ticks": ""
           },
           "bgcolor": "#E5ECF6",
           "caxis": {
            "gridcolor": "white",
            "linecolor": "white",
            "ticks": ""
           }
          },
          "title": {
           "x": 0.05
          },
          "xaxis": {
           "automargin": true,
           "gridcolor": "white",
           "linecolor": "white",
           "ticks": "",
           "title": {
            "standoff": 15
           },
           "zerolinecolor": "white",
           "zerolinewidth": 2
          },
          "yaxis": {
           "automargin": true,
           "gridcolor": "white",
           "linecolor": "white",
           "ticks": "",
           "title": {
            "standoff": 15
           },
           "zerolinecolor": "white",
           "zerolinewidth": 2
          }
         }
        },
        "title": {
         "font": {
          "color": "#1b2442",
          "size": 1
         },
         "text": "Sophisticated intellectual discussion"
        },
        "xaxis": {
         "gridcolor": "rgb(44, 53, 72)",
         "zerolinecolor": "#e1e1e1"
        },
        "yaxis": {
         "gridcolor": "rgb(44, 53, 72)",
         "zerolinecolor": "#e1e1e1"
        }
       }
      },
      "text/html": [
       "<div>                            <div id=\"38b8f69b-9e5e-4964-8548-2342219a64e5\" class=\"plotly-graph-div\" style=\"height:480px; width:100%;\"></div>            <script type=\"text/javascript\">                require([\"plotly\"], function(Plotly) {                    window.PLOTLYENV=window.PLOTLYENV || {};                                    if (document.getElementById(\"38b8f69b-9e5e-4964-8548-2342219a64e5\")) {                    Plotly.newPlot(                        \"38b8f69b-9e5e-4964-8548-2342219a64e5\",                        [{\"cells\":{\"align\":\"left\",\"fill\":{\"color\":\"#1b2442\"},\"values\":[[\"<a href=\\\"https://reddit.com/r/wallstreetbets/comments/pc8rsf/dallas_feds_kaplan_calls_for_tapering/\\\">Dallas Fed\\u2019s Kaplan calls for tapering announcement in September</a>\",\"<a href=\\\"https://reddit.com/r/wallstreetbets/comments/pe86nl/the_ride_case/\\\">The RIDE case</a>\",\"<a href=\\\"https://reddit.com/r/wallstreetbets/comments/pchjj1/smile_direct_club_sdc_in_depth_analysis_by_a/\\\">Smile direct club, $sdc - in depth analysis by a dentist</a>\",\"<a href=\\\"https://reddit.com/r/wallstreetbets/comments/pd57v0/passive_investor_of_2_years_looking_for_better/\\\">Passive investor of 2 years looking for better guidance!</a>\",\"<a href=\\\"https://reddit.com/r/wallstreetbets/comments/paxr9w/elon_bad_peter_good_get_lucid_lcid/\\\">Elon BAD! Peter GOOD! Get LUCID! $LCID</a>\",\"<a href=\\\"https://reddit.com/r/wallstreetbets/comments/p7u7rv/a_valuable_lesson_learned_using_margin_money/\\\">A valuable lesson learned using margin money</a>\",\"<a href=\\\"https://reddit.com/r/wallstreetbets/comments/peddi9/im_building_a_didi_bag_fuck/\\\">Im Building a DIDI bag, fuck</a>\",\"<a href=\\\"https://reddit.com/r/wallstreetbets/comments/oxty90/amd_is_going_to_revolutionize_the_gpu_computing/\\\">AMD is going to revolutionize the GPU computing industry with their MCM designs.</a>\",\"<a href=\\\"https://reddit.com/r/wallstreetbets/comments/ox2jwg/chip_shortage_how_about_chip_guh/\\\">Chip Shortage? How about Chip GUH</a>\",\"<a href=\\\"https://reddit.com/r/wallstreetbets/comments/p36ywi/ride_why_lordstown_motors_is_headed_to_zero/\\\">$RIDE - Why Lordstown Motors is Headed to Zero</a>\"],[\"August 26, 2021\",\"August 30, 2021\",\"August 27, 2021\",\"August 28, 2021\",\"August 24, 2021\",\"August 20, 2021\",\"August 30, 2021\",\"August 04, 2021\",\"August 03, 2021\",\"August 12, 2021\"],[16.0,null,0.0,2.0,0.0,7.0,null,147.0,22.0,73.0],[24,18,20,19,26,16,17,45,33,213],[98.7,72.3,71.9,65.6,59.3,59.2,58.2,56.0,55.4,55.3]]},\"columnwidth\":[130,40,25,25,25],\"header\":{\"align\":\"left\",\"fill\":{\"color\":\"#1b2442\"},\"values\":[\"<b>Post</b>\",\"<b>Date</b>\",\"<b>Score</b>\",\"<b># of comments</b>\",\"<b>Average words per comment</b>\"]},\"type\":\"table\"}],                        {\"annotations\":[{\"align\":\"right\",\"height\":40,\"showarrow\":false,\"text\":\"<a style=\\\"color: rgb(100, 130, 180);\\\" href=\\\"https://beneath.dev/\\\">beneath.dev</a>\",\"x\":1.0,\"xanchor\":\"right\",\"xref\":\"paper\",\"y\":1.0,\"yanchor\":\"bottom\",\"yref\":\"paper\",\"yshift\":13},{\"align\":\"left\",\"font\":{\"size\":12},\"height\":16,\"showarrow\":false,\"text\":\"Posts with highest average words per comment\",\"x\":0.0,\"xanchor\":\"left\",\"xref\":\"paper\",\"y\":1.0,\"yanchor\":\"bottom\",\"yref\":\"paper\",\"yshift\":13},{\"align\":\"left\",\"font\":{\"size\":18},\"height\":24,\"showarrow\":false,\"text\":\"<b>Sophisticated intellectual discussion</b>\",\"x\":0.0,\"xanchor\":\"left\",\"xref\":\"paper\",\"y\":1.0,\"yanchor\":\"bottom\",\"yref\":\"paper\",\"yshift\":29}],\"colorway\":[\"rgb(60, 170, 255)\",\"rgb(255, 60, 130)\",\"rgb(100, 200, 100)\",\"rgb(200, 220, 240)\",\"rgb(251, 241, 67)\",\"rgb(203, 60, 255)\",\"rgb(249, 148, 66)\",\"rgb(36, 130, 36)\",\"rgb(238, 255, 234)\"],\"dragmode\":\"select\",\"font\":{\"color\":\"#e1e1e1\",\"family\":\"SFMono-Regular,Menlo,Monaco,Consolas,Liberation Mono,Courier,monospace\"},\"height\":480,\"margin\":{\"autoexpand\":true,\"b\":30,\"l\":35,\"r\":20,\"t\":68},\"paper_bgcolor\":\"#1b2442\",\"plot_bgcolor\":\"#1b2442\",\"template\":{\"data\":{\"bar\":[{\"error_x\":{\"color\":\"#2a3f5f\"},\"error_y\":{\"color\":\"#2a3f5f\"},\"marker\":{\"line\":{\"color\":\"#E5ECF6\",\"width\":0.5},\"pattern\":{\"fillmode\":\"overlay\",\"size\":10,\"solidity\":0.2}},\"type\":\"bar\"}],\"barpolar\":[{\"marker\":{\"line\":{\"color\":\"#E5ECF6\",\"width\":0.5},\"pattern\":{\"fillmode\":\"overlay\",\"size\":10,\"solidity\":0.2}},\"type\":\"barpolar\"}],\"carpet\":[{\"aaxis\":{\"endlinecolor\":\"#2a3f5f\",\"gridcolor\":\"white\",\"linecolor\":\"white\",\"minorgridcolor\":\"white\",\"startlinecolor\":\"#2a3f5f\"},\"baxis\":{\"endlinecolor\":\"#2a3f5f\",\"gridcolor\":\"white\",\"linecolor\":\"white\",\"minorgridcolor\":\"white\",\"startlinecolor\":\"#2a3f5f\"},\"type\":\"carpet\"}],\"choropleth\":[{\"colorbar\":{\"outlinewidth\":0,\"ticks\":\"\"},\"type\":\"choropleth\"}],\"contour\":[{\"colorbar\":{\"outlinewidth\":0,\"ticks\":\"\"},\"colorscale\":[[0.0,\"#0d0887\"],[0.1111111111111111,\"#46039f\"],[0.2222222222222222,\"#7201a8\"],[0.3333333333333333,\"#9c179e\"],[0.4444444444444444,\"#bd3786\"],[0.5555555555555556,\"#d8576b\"],[0.6666666666666666,\"#ed7953\"],[0.7777777777777778,\"#fb9f3a\"],[0.8888888888888888,\"#fdca26\"],[1.0,\"#f0f921\"]],\"type\":\"contour\"}],\"contourcarpet\":[{\"colorbar\":{\"outlinewidth\":0,\"ticks\":\"\"},\"type\":\"contourcarpet\"}],\"heatmap\":[{\"colorbar\":{\"outlinewidth\":0,\"ticks\":\"\"},\"colorscale\":[[0.0,\"#0d0887\"],[0.1111111111111111,\"#46039f\"],[0.2222222222222222,\"#7201a8\"],[0.3333333333333333,\"#9c179e\"],[0.4444444444444444,\"#bd3786\"],[0.5555555555555556,\"#d8576b\"],[0.6666666666666666,\"#ed7953\"],[0.7777777777777778,\"#fb9f3a\"],[0.8888888888888888,\"#fdca26\"],[1.0,\"#f0f921\"]],\"type\":\"heatmap\"}],\"heatmapgl\":[{\"colorbar\":{\"outlinewidth\":0,\"ticks\":\"\"},\"colorscale\":[[0.0,\"#0d0887\"],[0.1111111111111111,\"#46039f\"],[0.2222222222222222,\"#7201a8\"],[0.3333333333333333,\"#9c179e\"],[0.4444444444444444,\"#bd3786\"],[0.5555555555555556,\"#d8576b\"],[0.6666666666666666,\"#ed7953\"],[0.7777777777777778,\"#fb9f3a\"],[0.8888888888888888,\"#fdca26\"],[1.0,\"#f0f921\"]],\"type\":\"heatmapgl\"}],\"histogram\":[{\"marker\":{\"pattern\":{\"fillmode\":\"overlay\",\"size\":10,\"solidity\":0.2}},\"type\":\"histogram\"}],\"histogram2d\":[{\"colorbar\":{\"outlinewidth\":0,\"ticks\":\"\"},\"colorscale\":[[0.0,\"#0d0887\"],[0.1111111111111111,\"#46039f\"],[0.2222222222222222,\"#7201a8\"],[0.3333333333333333,\"#9c179e\"],[0.4444444444444444,\"#bd3786\"],[0.5555555555555556,\"#d8576b\"],[0.6666666666666666,\"#ed7953\"],[0.7777777777777778,\"#fb9f3a\"],[0.8888888888888888,\"#fdca26\"],[1.0,\"#f0f921\"]],\"type\":\"histogram2d\"}],\"histogram2dcontour\":[{\"colorbar\":{\"outlinewidth\":0,\"ticks\":\"\"},\"colorscale\":[[0.0,\"#0d0887\"],[0.1111111111111111,\"#46039f\"],[0.2222222222222222,\"#7201a8\"],[0.3333333333333333,\"#9c179e\"],[0.4444444444444444,\"#bd3786\"],[0.5555555555555556,\"#d8576b\"],[0.6666666666666666,\"#ed7953\"],[0.7777777777777778,\"#fb9f3a\"],[0.8888888888888888,\"#fdca26\"],[1.0,\"#f0f921\"]],\"type\":\"histogram2dcontour\"}],\"mesh3d\":[{\"colorbar\":{\"outlinewidth\":0,\"ticks\":\"\"},\"type\":\"mesh3d\"}],\"parcoords\":[{\"line\":{\"colorbar\":{\"outlinewidth\":0,\"ticks\":\"\"}},\"type\":\"parcoords\"}],\"pie\":[{\"automargin\":true,\"type\":\"pie\"}],\"scatter\":[{\"marker\":{\"colorbar\":{\"outlinewidth\":0,\"ticks\":\"\"}},\"type\":\"scatter\"}],\"scatter3d\":[{\"line\":{\"colorbar\":{\"outlinewidth\":0,\"ticks\":\"\"}},\"marker\":{\"colorbar\":{\"outlinewidth\":0,\"ticks\":\"\"}},\"type\":\"scatter3d\"}],\"scattercarpet\":[{\"marker\":{\"colorbar\":{\"outlinewidth\":0,\"ticks\":\"\"}},\"type\":\"scattercarpet\"}],\"scattergeo\":[{\"marker\":{\"colorbar\":{\"outlinewidth\":0,\"ticks\":\"\"}},\"type\":\"scattergeo\"}],\"scattergl\":[{\"marker\":{\"colorbar\":{\"outlinewidth\":0,\"ticks\":\"\"}},\"type\":\"scattergl\"}],\"scattermapbox\":[{\"marker\":{\"colorbar\":{\"outlinewidth\":0,\"ticks\":\"\"}},\"type\":\"scattermapbox\"}],\"scatterpolar\":[{\"marker\":{\"colorbar\":{\"outlinewidth\":0,\"ticks\":\"\"}},\"type\":\"scatterpolar\"}],\"scatterpolargl\":[{\"marker\":{\"colorbar\":{\"outlinewidth\":0,\"ticks\":\"\"}},\"type\":\"scatterpolargl\"}],\"scatterternary\":[{\"marker\":{\"colorbar\":{\"outlinewidth\":0,\"ticks\":\"\"}},\"type\":\"scatterternary\"}],\"surface\":[{\"colorbar\":{\"outlinewidth\":0,\"ticks\":\"\"},\"colorscale\":[[0.0,\"#0d0887\"],[0.1111111111111111,\"#46039f\"],[0.2222222222222222,\"#7201a8\"],[0.3333333333333333,\"#9c179e\"],[0.4444444444444444,\"#bd3786\"],[0.5555555555555556,\"#d8576b\"],[0.6666666666666666,\"#ed7953\"],[0.7777777777777778,\"#fb9f3a\"],[0.8888888888888888,\"#fdca26\"],[1.0,\"#f0f921\"]],\"type\":\"surface\"}],\"table\":[{\"cells\":{\"fill\":{\"color\":\"#EBF0F8\"},\"line\":{\"color\":\"white\"}},\"header\":{\"fill\":{\"color\":\"#C8D4E3\"},\"line\":{\"color\":\"white\"}},\"type\":\"table\"}]},\"layout\":{\"annotationdefaults\":{\"arrowcolor\":\"#2a3f5f\",\"arrowhead\":0,\"arrowwidth\":1},\"autotypenumbers\":\"strict\",\"coloraxis\":{\"colorbar\":{\"outlinewidth\":0,\"ticks\":\"\"}},\"colorscale\":{\"diverging\":[[0,\"#8e0152\"],[0.1,\"#c51b7d\"],[0.2,\"#de77ae\"],[0.3,\"#f1b6da\"],[0.4,\"#fde0ef\"],[0.5,\"#f7f7f7\"],[0.6,\"#e6f5d0\"],[0.7,\"#b8e186\"],[0.8,\"#7fbc41\"],[0.9,\"#4d9221\"],[1,\"#276419\"]],\"sequential\":[[0.0,\"#0d0887\"],[0.1111111111111111,\"#46039f\"],[0.2222222222222222,\"#7201a8\"],[0.3333333333333333,\"#9c179e\"],[0.4444444444444444,\"#bd3786\"],[0.5555555555555556,\"#d8576b\"],[0.6666666666666666,\"#ed7953\"],[0.7777777777777778,\"#fb9f3a\"],[0.8888888888888888,\"#fdca26\"],[1.0,\"#f0f921\"]],\"sequentialminus\":[[0.0,\"#0d0887\"],[0.1111111111111111,\"#46039f\"],[0.2222222222222222,\"#7201a8\"],[0.3333333333333333,\"#9c179e\"],[0.4444444444444444,\"#bd3786\"],[0.5555555555555556,\"#d8576b\"],[0.6666666666666666,\"#ed7953\"],[0.7777777777777778,\"#fb9f3a\"],[0.8888888888888888,\"#fdca26\"],[1.0,\"#f0f921\"]]},\"colorway\":[\"#636efa\",\"#EF553B\",\"#00cc96\",\"#ab63fa\",\"#FFA15A\",\"#19d3f3\",\"#FF6692\",\"#B6E880\",\"#FF97FF\",\"#FECB52\"],\"font\":{\"color\":\"#2a3f5f\"},\"geo\":{\"bgcolor\":\"white\",\"lakecolor\":\"white\",\"landcolor\":\"#E5ECF6\",\"showlakes\":true,\"showland\":true,\"subunitcolor\":\"white\"},\"hoverlabel\":{\"align\":\"left\"},\"hovermode\":\"closest\",\"mapbox\":{\"style\":\"light\"},\"paper_bgcolor\":\"white\",\"plot_bgcolor\":\"#E5ECF6\",\"polar\":{\"angularaxis\":{\"gridcolor\":\"white\",\"linecolor\":\"white\",\"ticks\":\"\"},\"bgcolor\":\"#E5ECF6\",\"radialaxis\":{\"gridcolor\":\"white\",\"linecolor\":\"white\",\"ticks\":\"\"}},\"scene\":{\"xaxis\":{\"backgroundcolor\":\"#E5ECF6\",\"gridcolor\":\"white\",\"gridwidth\":2,\"linecolor\":\"white\",\"showbackground\":true,\"ticks\":\"\",\"zerolinecolor\":\"white\"},\"yaxis\":{\"backgroundcolor\":\"#E5ECF6\",\"gridcolor\":\"white\",\"gridwidth\":2,\"linecolor\":\"white\",\"showbackground\":true,\"ticks\":\"\",\"zerolinecolor\":\"white\"},\"zaxis\":{\"backgroundcolor\":\"#E5ECF6\",\"gridcolor\":\"white\",\"gridwidth\":2,\"linecolor\":\"white\",\"showbackground\":true,\"ticks\":\"\",\"zerolinecolor\":\"white\"}},\"shapedefaults\":{\"line\":{\"color\":\"#2a3f5f\"}},\"ternary\":{\"aaxis\":{\"gridcolor\":\"white\",\"linecolor\":\"white\",\"ticks\":\"\"},\"baxis\":{\"gridcolor\":\"white\",\"linecolor\":\"white\",\"ticks\":\"\"},\"bgcolor\":\"#E5ECF6\",\"caxis\":{\"gridcolor\":\"white\",\"linecolor\":\"white\",\"ticks\":\"\"}},\"title\":{\"x\":0.05},\"xaxis\":{\"automargin\":true,\"gridcolor\":\"white\",\"linecolor\":\"white\",\"ticks\":\"\",\"title\":{\"standoff\":15},\"zerolinecolor\":\"white\",\"zerolinewidth\":2},\"yaxis\":{\"automargin\":true,\"gridcolor\":\"white\",\"linecolor\":\"white\",\"ticks\":\"\",\"title\":{\"standoff\":15},\"zerolinecolor\":\"white\",\"zerolinewidth\":2}}},\"title\":{\"font\":{\"color\":\"#1b2442\",\"size\":1},\"text\":\"Sophisticated intellectual discussion\"},\"xaxis\":{\"gridcolor\":\"rgb(44, 53, 72)\",\"zerolinecolor\":\"#e1e1e1\"},\"yaxis\":{\"gridcolor\":\"rgb(44, 53, 72)\",\"zerolinecolor\":\"#e1e1e1\"}},                        {\"responsive\": true}                    ).then(function(){\n",
       "                            \n",
       "var gd = document.getElementById('38b8f69b-9e5e-4964-8548-2342219a64e5');\n",
       "var x = new MutationObserver(function (mutations, observer) {{\n",
       "        var display = window.getComputedStyle(gd).display;\n",
       "        if (!display || display === 'none') {{\n",
       "            console.log([gd, 'removed!']);\n",
       "            Plotly.purge(gd);\n",
       "            observer.disconnect();\n",
       "        }}\n",
       "}});\n",
       "\n",
       "// Listen for the removal of the full notebook cells\n",
       "var notebookContainer = gd.closest('#notebook-container');\n",
       "if (notebookContainer) {{\n",
       "    x.observe(notebookContainer, {childList: true});\n",
       "}}\n",
       "\n",
       "// Listen for the clearing of the current output cell\n",
       "var outputEl = gd.closest('.output');\n",
       "if (outputEl) {{\n",
       "    x.observe(outputEl, {childList: true});\n",
       "}}\n",
       "\n",
       "                        })                };                });            </script>        </div>"
      ]
     },
     "metadata": {},
     "output_type": "display_data"
    }
   ],
   "source": [
    "TITLE_LENGTH = 100\n",
    "table_df = tbl1_df\n",
    "\n",
    "def format_title(row):\n",
    "    title = row['title']\n",
    "    # truncate\n",
    "    if len(title) > TITLE_LENGTH:\n",
    "        title = title[0:TITLE_LENGTH] + '...'\n",
    "    \n",
    "    # add link\n",
    "    title = f'<a href=\"https://reddit.com{row.permalink}\">{title}</a>'\n",
    "    \n",
    "    return title\n",
    "\n",
    "fig = go.Figure(data=[go.Table(\n",
    "    columnwidth = [130,40,25,25,25],\n",
    "    header=dict(\n",
    "        values=['<b>Post</b>', '<b>Date</b>', '<b>Score</b>', '<b># of comments</b>', '<b>Average words per comment</b>'],\n",
    "        fill_color='#1b2442',\n",
    "        align='left'\n",
    "    ),\n",
    "    cells=dict(\n",
    "        values=[\n",
    "            table_df.apply(format_title, axis=1),\n",
    "            table_df.created_on.dt.strftime('%B %d, %Y'),\n",
    "            table_df.score,\n",
    "            table_df.num_comments,\n",
    "            round(table_df.avg_words_per_comment, 1)\n",
    "        ],\n",
    "       fill_color='#1b2442',\n",
    "       align='left',\n",
    "    )\n",
    ")])\n",
    "\n",
    "fig.update_layout(\n",
    "    make_layout(\n",
    "        title=\"Sophisticated intellectual discussion\",\n",
    "        subtitle=\"Posts with highest average words per comment\",\n",
    "        source_hidden=False,\n",
    "        override={\n",
    "            'height': 480\n",
    "        }\n",
    "    )\n",
    ")\n",
    "\n",
    "fig.show()"
   ]
  },
  {
   "cell_type": "code",
   "execution_count": 77,
   "id": "690bed50",
   "metadata": {},
   "outputs": [
    {
     "data": {
      "text/plain": [
       "'https://plotly.com/~ericpgreen/12/'"
      ]
     },
     "execution_count": 77,
     "metadata": {},
     "output_type": "execute_result"
    }
   ],
   "source": [
    "py.plot(fig, filename=\"wallstreetbets_202108_sophisticated\")"
   ]
  },
  {
   "cell_type": "markdown",
   "id": "1351d122",
   "metadata": {},
   "source": [
    "Post with the highest fraction of comment authors who posted a rocket\n",
    "\n",
    "This normalizes:\n",
    "- big threads that of course have lots of rockets\n",
    "- some small threads where crazy people post a ton of rockets repeatedly"
   ]
  },
  {
   "cell_type": "code",
   "execution_count": 28,
   "id": "216ba57b",
   "metadata": {},
   "outputs": [],
   "source": [
    "tbl2_df = posts_no_mods[posts_no_mods['num_comments'] >= 25].sort_values('fraction_of_authors_who_commented_with_rocket', ascending=False)[0:10]"
   ]
  },
  {
   "cell_type": "code",
   "execution_count": 78,
   "id": "b13fc0e6",
   "metadata": {},
   "outputs": [
    {
     "data": {
      "application/vnd.plotly.v1+json": {
       "config": {
        "plotlyServerURL": "https://plotly.com"
       },
       "data": [
        {
         "cells": {
          "align": "left",
          "fill": {
           "color": "#1b2442"
          },
          "format": [
           null,
           null,
           null,
           null,
           ",.1%"
          ],
          "values": [
           [
            "<a href=\"https://reddit.com/r/wallstreetbets/comments/p2p9rr/clov_revenue_up_140_clover_assistant_managing_an/\">Clov revenue up 140%, Clover Assistant managing an annualized 1 billion in revenue, only a 3.2 billi...</a>",
            "<a href=\"https://reddit.com/r/wallstreetbets/comments/pashfk/went_all_in_on_clov_lets_go/\">Went all in on $CLOV. Let’s go! ✌️🚀</a>",
            "<a href=\"https://reddit.com/r/wallstreetbets/comments/p0ft76/wish_discussion_uschina_trade_tensions/\">$WISH Discussion: US/China trade tensions.</a>",
            "<a href=\"https://reddit.com/r/wallstreetbets/comments/oz535u/astra_space_inc_rocket_launch_33/\">ASTRA SPACE INC. - ROCKET LAUNCH 3.3</a>",
            "<a href=\"https://reddit.com/r/wallstreetbets/comments/pcensj/meme_stock_losses_every_time_i_was_i_up_big_i/\">MEME Stock Losses. Every time I was I up big I just kept buying more OTM FDs</a>",
            "<a href=\"https://reddit.com/r/wallstreetbets/comments/p2fejm/hut_yolo_just_hit_1b_marketcap/\">$HUT Yolo 🛖🚀 (Just hit 1B marketcap)</a>",
            "<a href=\"https://reddit.com/r/wallstreetbets/comments/p2qv0n/clover_health_reports_second_quarter_2021/\">Clover Health reports second quarter 2021 financial results - Total revenue was $412 million, up 140...</a>",
            "<a href=\"https://reddit.com/r/wallstreetbets/comments/pb3ew6/everything_you_need_to_know_about_rocket_lab_rklb/\">Everything you need to know about Rocket Lab $RKLB</a>",
            "<a href=\"https://reddit.com/r/wallstreetbets/comments/ozjoya/bitf_junky_update_9k_shares_now_and_100_contracts/\">$BITF Junky Update 9k shares now and 100 contracts 😘 Still holding 💪</a>",
            "<a href=\"https://reddit.com/r/wallstreetbets/comments/p19eh7/when_people_ask_for_actual_reasons_i_think_a/\">When people ask for actual reasons I think a stock will go up (🍀🚀)</a>"
           ],
           [
            "August 11, 2021",
            "August 24, 2021",
            "August 08, 2021",
            "August 06, 2021",
            "August 27, 2021",
            "August 11, 2021",
            "August 12, 2021",
            "August 25, 2021",
            "August 07, 2021",
            "August 09, 2021"
           ],
           [
            160,
            139,
            79,
            36,
            43,
            191,
            112,
            159,
            25,
            963
           ],
           [
            81,
            30,
            78,
            26,
            26,
            62,
            32,
            53,
            25,
            34
           ],
           [
            0.20408163265306123,
            0.2,
            0.15789473684210525,
            0.15384615384615385,
            0.15,
            0.14583333333333334,
            0.14285714285714285,
            0.1388888888888889,
            0.13333333333333333,
            0.13333333333333333
           ]
          ]
         },
         "columnwidth": [
          130,
          40,
          25,
          25,
          25
         ],
         "header": {
          "align": "left",
          "fill": {
           "color": "#1b2442"
          },
          "values": [
           "<b>Post</b>",
           "<b>Date</b>",
           "<b>Score</b>",
           "<b># of comments</b>",
           "<b>% of commenters who included a 🚀</b>"
          ]
         },
         "type": "table"
        }
       ],
       "layout": {
        "annotations": [
         {
          "align": "right",
          "height": 40,
          "showarrow": false,
          "text": "<a style=\"color: rgb(100, 130, 180);\" href=\"https://beneath.dev/\">beneath.dev</a>",
          "x": 1,
          "xanchor": "right",
          "xref": "paper",
          "y": 1,
          "yanchor": "bottom",
          "yref": "paper",
          "yshift": 13
         },
         {
          "align": "left",
          "font": {
           "size": 12
          },
          "height": 16,
          "showarrow": false,
          "text": "Posts with highest percent of commenters who included a 🚀",
          "x": 0,
          "xanchor": "left",
          "xref": "paper",
          "y": 1,
          "yanchor": "bottom",
          "yref": "paper",
          "yshift": 13
         },
         {
          "align": "left",
          "font": {
           "size": 18
          },
          "height": 24,
          "showarrow": false,
          "text": "<b>Stocks approaching liftoff</b>",
          "x": 0,
          "xanchor": "left",
          "xref": "paper",
          "y": 1,
          "yanchor": "bottom",
          "yref": "paper",
          "yshift": 29
         }
        ],
        "colorway": [
         "rgb(60, 170, 255)",
         "rgb(255, 60, 130)",
         "rgb(100, 200, 100)",
         "rgb(200, 220, 240)",
         "rgb(251, 241, 67)",
         "rgb(203, 60, 255)",
         "rgb(249, 148, 66)",
         "rgb(36, 130, 36)",
         "rgb(238, 255, 234)"
        ],
        "dragmode": "select",
        "font": {
         "color": "#e1e1e1",
         "family": "SFMono-Regular,Menlo,Monaco,Consolas,Liberation Mono,Courier,monospace"
        },
        "height": 580,
        "margin": {
         "autoexpand": true,
         "b": 30,
         "l": 35,
         "r": 20,
         "t": 68
        },
        "paper_bgcolor": "#1b2442",
        "plot_bgcolor": "#1b2442",
        "template": {
         "data": {
          "bar": [
           {
            "error_x": {
             "color": "#2a3f5f"
            },
            "error_y": {
             "color": "#2a3f5f"
            },
            "marker": {
             "line": {
              "color": "#E5ECF6",
              "width": 0.5
             },
             "pattern": {
              "fillmode": "overlay",
              "size": 10,
              "solidity": 0.2
             }
            },
            "type": "bar"
           }
          ],
          "barpolar": [
           {
            "marker": {
             "line": {
              "color": "#E5ECF6",
              "width": 0.5
             },
             "pattern": {
              "fillmode": "overlay",
              "size": 10,
              "solidity": 0.2
             }
            },
            "type": "barpolar"
           }
          ],
          "carpet": [
           {
            "aaxis": {
             "endlinecolor": "#2a3f5f",
             "gridcolor": "white",
             "linecolor": "white",
             "minorgridcolor": "white",
             "startlinecolor": "#2a3f5f"
            },
            "baxis": {
             "endlinecolor": "#2a3f5f",
             "gridcolor": "white",
             "linecolor": "white",
             "minorgridcolor": "white",
             "startlinecolor": "#2a3f5f"
            },
            "type": "carpet"
           }
          ],
          "choropleth": [
           {
            "colorbar": {
             "outlinewidth": 0,
             "ticks": ""
            },
            "type": "choropleth"
           }
          ],
          "contour": [
           {
            "colorbar": {
             "outlinewidth": 0,
             "ticks": ""
            },
            "colorscale": [
             [
              0,
              "#0d0887"
             ],
             [
              0.1111111111111111,
              "#46039f"
             ],
             [
              0.2222222222222222,
              "#7201a8"
             ],
             [
              0.3333333333333333,
              "#9c179e"
             ],
             [
              0.4444444444444444,
              "#bd3786"
             ],
             [
              0.5555555555555556,
              "#d8576b"
             ],
             [
              0.6666666666666666,
              "#ed7953"
             ],
             [
              0.7777777777777778,
              "#fb9f3a"
             ],
             [
              0.8888888888888888,
              "#fdca26"
             ],
             [
              1,
              "#f0f921"
             ]
            ],
            "type": "contour"
           }
          ],
          "contourcarpet": [
           {
            "colorbar": {
             "outlinewidth": 0,
             "ticks": ""
            },
            "type": "contourcarpet"
           }
          ],
          "heatmap": [
           {
            "colorbar": {
             "outlinewidth": 0,
             "ticks": ""
            },
            "colorscale": [
             [
              0,
              "#0d0887"
             ],
             [
              0.1111111111111111,
              "#46039f"
             ],
             [
              0.2222222222222222,
              "#7201a8"
             ],
             [
              0.3333333333333333,
              "#9c179e"
             ],
             [
              0.4444444444444444,
              "#bd3786"
             ],
             [
              0.5555555555555556,
              "#d8576b"
             ],
             [
              0.6666666666666666,
              "#ed7953"
             ],
             [
              0.7777777777777778,
              "#fb9f3a"
             ],
             [
              0.8888888888888888,
              "#fdca26"
             ],
             [
              1,
              "#f0f921"
             ]
            ],
            "type": "heatmap"
           }
          ],
          "heatmapgl": [
           {
            "colorbar": {
             "outlinewidth": 0,
             "ticks": ""
            },
            "colorscale": [
             [
              0,
              "#0d0887"
             ],
             [
              0.1111111111111111,
              "#46039f"
             ],
             [
              0.2222222222222222,
              "#7201a8"
             ],
             [
              0.3333333333333333,
              "#9c179e"
             ],
             [
              0.4444444444444444,
              "#bd3786"
             ],
             [
              0.5555555555555556,
              "#d8576b"
             ],
             [
              0.6666666666666666,
              "#ed7953"
             ],
             [
              0.7777777777777778,
              "#fb9f3a"
             ],
             [
              0.8888888888888888,
              "#fdca26"
             ],
             [
              1,
              "#f0f921"
             ]
            ],
            "type": "heatmapgl"
           }
          ],
          "histogram": [
           {
            "marker": {
             "pattern": {
              "fillmode": "overlay",
              "size": 10,
              "solidity": 0.2
             }
            },
            "type": "histogram"
           }
          ],
          "histogram2d": [
           {
            "colorbar": {
             "outlinewidth": 0,
             "ticks": ""
            },
            "colorscale": [
             [
              0,
              "#0d0887"
             ],
             [
              0.1111111111111111,
              "#46039f"
             ],
             [
              0.2222222222222222,
              "#7201a8"
             ],
             [
              0.3333333333333333,
              "#9c179e"
             ],
             [
              0.4444444444444444,
              "#bd3786"
             ],
             [
              0.5555555555555556,
              "#d8576b"
             ],
             [
              0.6666666666666666,
              "#ed7953"
             ],
             [
              0.7777777777777778,
              "#fb9f3a"
             ],
             [
              0.8888888888888888,
              "#fdca26"
             ],
             [
              1,
              "#f0f921"
             ]
            ],
            "type": "histogram2d"
           }
          ],
          "histogram2dcontour": [
           {
            "colorbar": {
             "outlinewidth": 0,
             "ticks": ""
            },
            "colorscale": [
             [
              0,
              "#0d0887"
             ],
             [
              0.1111111111111111,
              "#46039f"
             ],
             [
              0.2222222222222222,
              "#7201a8"
             ],
             [
              0.3333333333333333,
              "#9c179e"
             ],
             [
              0.4444444444444444,
              "#bd3786"
             ],
             [
              0.5555555555555556,
              "#d8576b"
             ],
             [
              0.6666666666666666,
              "#ed7953"
             ],
             [
              0.7777777777777778,
              "#fb9f3a"
             ],
             [
              0.8888888888888888,
              "#fdca26"
             ],
             [
              1,
              "#f0f921"
             ]
            ],
            "type": "histogram2dcontour"
           }
          ],
          "mesh3d": [
           {
            "colorbar": {
             "outlinewidth": 0,
             "ticks": ""
            },
            "type": "mesh3d"
           }
          ],
          "parcoords": [
           {
            "line": {
             "colorbar": {
              "outlinewidth": 0,
              "ticks": ""
             }
            },
            "type": "parcoords"
           }
          ],
          "pie": [
           {
            "automargin": true,
            "type": "pie"
           }
          ],
          "scatter": [
           {
            "marker": {
             "colorbar": {
              "outlinewidth": 0,
              "ticks": ""
             }
            },
            "type": "scatter"
           }
          ],
          "scatter3d": [
           {
            "line": {
             "colorbar": {
              "outlinewidth": 0,
              "ticks": ""
             }
            },
            "marker": {
             "colorbar": {
              "outlinewidth": 0,
              "ticks": ""
             }
            },
            "type": "scatter3d"
           }
          ],
          "scattercarpet": [
           {
            "marker": {
             "colorbar": {
              "outlinewidth": 0,
              "ticks": ""
             }
            },
            "type": "scattercarpet"
           }
          ],
          "scattergeo": [
           {
            "marker": {
             "colorbar": {
              "outlinewidth": 0,
              "ticks": ""
             }
            },
            "type": "scattergeo"
           }
          ],
          "scattergl": [
           {
            "marker": {
             "colorbar": {
              "outlinewidth": 0,
              "ticks": ""
             }
            },
            "type": "scattergl"
           }
          ],
          "scattermapbox": [
           {
            "marker": {
             "colorbar": {
              "outlinewidth": 0,
              "ticks": ""
             }
            },
            "type": "scattermapbox"
           }
          ],
          "scatterpolar": [
           {
            "marker": {
             "colorbar": {
              "outlinewidth": 0,
              "ticks": ""
             }
            },
            "type": "scatterpolar"
           }
          ],
          "scatterpolargl": [
           {
            "marker": {
             "colorbar": {
              "outlinewidth": 0,
              "ticks": ""
             }
            },
            "type": "scatterpolargl"
           }
          ],
          "scatterternary": [
           {
            "marker": {
             "colorbar": {
              "outlinewidth": 0,
              "ticks": ""
             }
            },
            "type": "scatterternary"
           }
          ],
          "surface": [
           {
            "colorbar": {
             "outlinewidth": 0,
             "ticks": ""
            },
            "colorscale": [
             [
              0,
              "#0d0887"
             ],
             [
              0.1111111111111111,
              "#46039f"
             ],
             [
              0.2222222222222222,
              "#7201a8"
             ],
             [
              0.3333333333333333,
              "#9c179e"
             ],
             [
              0.4444444444444444,
              "#bd3786"
             ],
             [
              0.5555555555555556,
              "#d8576b"
             ],
             [
              0.6666666666666666,
              "#ed7953"
             ],
             [
              0.7777777777777778,
              "#fb9f3a"
             ],
             [
              0.8888888888888888,
              "#fdca26"
             ],
             [
              1,
              "#f0f921"
             ]
            ],
            "type": "surface"
           }
          ],
          "table": [
           {
            "cells": {
             "fill": {
              "color": "#EBF0F8"
             },
             "line": {
              "color": "white"
             }
            },
            "header": {
             "fill": {
              "color": "#C8D4E3"
             },
             "line": {
              "color": "white"
             }
            },
            "type": "table"
           }
          ]
         },
         "layout": {
          "annotationdefaults": {
           "arrowcolor": "#2a3f5f",
           "arrowhead": 0,
           "arrowwidth": 1
          },
          "autotypenumbers": "strict",
          "coloraxis": {
           "colorbar": {
            "outlinewidth": 0,
            "ticks": ""
           }
          },
          "colorscale": {
           "diverging": [
            [
             0,
             "#8e0152"
            ],
            [
             0.1,
             "#c51b7d"
            ],
            [
             0.2,
             "#de77ae"
            ],
            [
             0.3,
             "#f1b6da"
            ],
            [
             0.4,
             "#fde0ef"
            ],
            [
             0.5,
             "#f7f7f7"
            ],
            [
             0.6,
             "#e6f5d0"
            ],
            [
             0.7,
             "#b8e186"
            ],
            [
             0.8,
             "#7fbc41"
            ],
            [
             0.9,
             "#4d9221"
            ],
            [
             1,
             "#276419"
            ]
           ],
           "sequential": [
            [
             0,
             "#0d0887"
            ],
            [
             0.1111111111111111,
             "#46039f"
            ],
            [
             0.2222222222222222,
             "#7201a8"
            ],
            [
             0.3333333333333333,
             "#9c179e"
            ],
            [
             0.4444444444444444,
             "#bd3786"
            ],
            [
             0.5555555555555556,
             "#d8576b"
            ],
            [
             0.6666666666666666,
             "#ed7953"
            ],
            [
             0.7777777777777778,
             "#fb9f3a"
            ],
            [
             0.8888888888888888,
             "#fdca26"
            ],
            [
             1,
             "#f0f921"
            ]
           ],
           "sequentialminus": [
            [
             0,
             "#0d0887"
            ],
            [
             0.1111111111111111,
             "#46039f"
            ],
            [
             0.2222222222222222,
             "#7201a8"
            ],
            [
             0.3333333333333333,
             "#9c179e"
            ],
            [
             0.4444444444444444,
             "#bd3786"
            ],
            [
             0.5555555555555556,
             "#d8576b"
            ],
            [
             0.6666666666666666,
             "#ed7953"
            ],
            [
             0.7777777777777778,
             "#fb9f3a"
            ],
            [
             0.8888888888888888,
             "#fdca26"
            ],
            [
             1,
             "#f0f921"
            ]
           ]
          },
          "colorway": [
           "#636efa",
           "#EF553B",
           "#00cc96",
           "#ab63fa",
           "#FFA15A",
           "#19d3f3",
           "#FF6692",
           "#B6E880",
           "#FF97FF",
           "#FECB52"
          ],
          "font": {
           "color": "#2a3f5f"
          },
          "geo": {
           "bgcolor": "white",
           "lakecolor": "white",
           "landcolor": "#E5ECF6",
           "showlakes": true,
           "showland": true,
           "subunitcolor": "white"
          },
          "hoverlabel": {
           "align": "left"
          },
          "hovermode": "closest",
          "mapbox": {
           "style": "light"
          },
          "paper_bgcolor": "white",
          "plot_bgcolor": "#E5ECF6",
          "polar": {
           "angularaxis": {
            "gridcolor": "white",
            "linecolor": "white",
            "ticks": ""
           },
           "bgcolor": "#E5ECF6",
           "radialaxis": {
            "gridcolor": "white",
            "linecolor": "white",
            "ticks": ""
           }
          },
          "scene": {
           "xaxis": {
            "backgroundcolor": "#E5ECF6",
            "gridcolor": "white",
            "gridwidth": 2,
            "linecolor": "white",
            "showbackground": true,
            "ticks": "",
            "zerolinecolor": "white"
           },
           "yaxis": {
            "backgroundcolor": "#E5ECF6",
            "gridcolor": "white",
            "gridwidth": 2,
            "linecolor": "white",
            "showbackground": true,
            "ticks": "",
            "zerolinecolor": "white"
           },
           "zaxis": {
            "backgroundcolor": "#E5ECF6",
            "gridcolor": "white",
            "gridwidth": 2,
            "linecolor": "white",
            "showbackground": true,
            "ticks": "",
            "zerolinecolor": "white"
           }
          },
          "shapedefaults": {
           "line": {
            "color": "#2a3f5f"
           }
          },
          "ternary": {
           "aaxis": {
            "gridcolor": "white",
            "linecolor": "white",
            "ticks": ""
           },
           "baxis": {
            "gridcolor": "white",
            "linecolor": "white",
            "ticks": ""
           },
           "bgcolor": "#E5ECF6",
           "caxis": {
            "gridcolor": "white",
            "linecolor": "white",
            "ticks": ""
           }
          },
          "title": {
           "x": 0.05
          },
          "xaxis": {
           "automargin": true,
           "gridcolor": "white",
           "linecolor": "white",
           "ticks": "",
           "title": {
            "standoff": 15
           },
           "zerolinecolor": "white",
           "zerolinewidth": 2
          },
          "yaxis": {
           "automargin": true,
           "gridcolor": "white",
           "linecolor": "white",
           "ticks": "",
           "title": {
            "standoff": 15
           },
           "zerolinecolor": "white",
           "zerolinewidth": 2
          }
         }
        },
        "title": {
         "font": {
          "color": "#1b2442",
          "size": 1
         },
         "text": "Stocks approaching liftoff"
        },
        "xaxis": {
         "gridcolor": "rgb(44, 53, 72)",
         "zerolinecolor": "#e1e1e1"
        },
        "yaxis": {
         "gridcolor": "rgb(44, 53, 72)",
         "zerolinecolor": "#e1e1e1"
        }
       }
      },
      "text/html": [
       "<div>                            <div id=\"b05fcd1b-f8f3-4099-89f0-b5507c15e81f\" class=\"plotly-graph-div\" style=\"height:580px; width:100%;\"></div>            <script type=\"text/javascript\">                require([\"plotly\"], function(Plotly) {                    window.PLOTLYENV=window.PLOTLYENV || {};                                    if (document.getElementById(\"b05fcd1b-f8f3-4099-89f0-b5507c15e81f\")) {                    Plotly.newPlot(                        \"b05fcd1b-f8f3-4099-89f0-b5507c15e81f\",                        [{\"cells\":{\"align\":\"left\",\"fill\":{\"color\":\"#1b2442\"},\"format\":[null,null,null,null,\",.1%\"],\"values\":[[\"<a href=\\\"https://reddit.com/r/wallstreetbets/comments/p2p9rr/clov_revenue_up_140_clover_assistant_managing_an/\\\">Clov revenue up 140%, Clover Assistant managing an annualized 1 billion in revenue, only a 3.2 billi...</a>\",\"<a href=\\\"https://reddit.com/r/wallstreetbets/comments/pashfk/went_all_in_on_clov_lets_go/\\\">Went all in on $CLOV. Let\\u2019s go! \\u270c\\ufe0f\\ud83d\\ude80</a>\",\"<a href=\\\"https://reddit.com/r/wallstreetbets/comments/p0ft76/wish_discussion_uschina_trade_tensions/\\\">$WISH Discussion: US/China trade tensions.</a>\",\"<a href=\\\"https://reddit.com/r/wallstreetbets/comments/oz535u/astra_space_inc_rocket_launch_33/\\\">ASTRA SPACE INC. - ROCKET LAUNCH 3.3</a>\",\"<a href=\\\"https://reddit.com/r/wallstreetbets/comments/pcensj/meme_stock_losses_every_time_i_was_i_up_big_i/\\\">MEME Stock Losses. Every time I was I up big I just kept buying more OTM FDs</a>\",\"<a href=\\\"https://reddit.com/r/wallstreetbets/comments/p2fejm/hut_yolo_just_hit_1b_marketcap/\\\">$HUT Yolo \\ud83d\\uded6\\ud83d\\ude80 (Just hit 1B marketcap)</a>\",\"<a href=\\\"https://reddit.com/r/wallstreetbets/comments/p2qv0n/clover_health_reports_second_quarter_2021/\\\">Clover Health reports second quarter 2021 financial results - Total revenue was $412 million, up 140...</a>\",\"<a href=\\\"https://reddit.com/r/wallstreetbets/comments/pb3ew6/everything_you_need_to_know_about_rocket_lab_rklb/\\\">Everything you need to know about Rocket Lab $RKLB</a>\",\"<a href=\\\"https://reddit.com/r/wallstreetbets/comments/ozjoya/bitf_junky_update_9k_shares_now_and_100_contracts/\\\">$BITF Junky Update 9k shares now and 100 contracts \\ud83d\\ude18 Still holding \\ud83d\\udcaa</a>\",\"<a href=\\\"https://reddit.com/r/wallstreetbets/comments/p19eh7/when_people_ask_for_actual_reasons_i_think_a/\\\">When people ask for actual reasons I think a stock will go up (\\ud83c\\udf40\\ud83d\\ude80)</a>\"],[\"August 11, 2021\",\"August 24, 2021\",\"August 08, 2021\",\"August 06, 2021\",\"August 27, 2021\",\"August 11, 2021\",\"August 12, 2021\",\"August 25, 2021\",\"August 07, 2021\",\"August 09, 2021\"],[160.0,139.0,79.0,36.0,43.0,191.0,112.0,159.0,25.0,963.0],[81,30,78,26,26,62,32,53,25,34],[0.20408163265306123,0.2,0.15789473684210525,0.15384615384615385,0.15,0.14583333333333334,0.14285714285714285,0.1388888888888889,0.13333333333333333,0.13333333333333333]]},\"columnwidth\":[130,40,25,25,25],\"header\":{\"align\":\"left\",\"fill\":{\"color\":\"#1b2442\"},\"values\":[\"<b>Post</b>\",\"<b>Date</b>\",\"<b>Score</b>\",\"<b># of comments</b>\",\"<b>% of commenters who included a \\ud83d\\ude80</b>\"]},\"type\":\"table\"}],                        {\"annotations\":[{\"align\":\"right\",\"height\":40,\"showarrow\":false,\"text\":\"<a style=\\\"color: rgb(100, 130, 180);\\\" href=\\\"https://beneath.dev/\\\">beneath.dev</a>\",\"x\":1.0,\"xanchor\":\"right\",\"xref\":\"paper\",\"y\":1.0,\"yanchor\":\"bottom\",\"yref\":\"paper\",\"yshift\":13},{\"align\":\"left\",\"font\":{\"size\":12},\"height\":16,\"showarrow\":false,\"text\":\"Posts with highest percent of commenters who included a \\ud83d\\ude80\",\"x\":0.0,\"xanchor\":\"left\",\"xref\":\"paper\",\"y\":1.0,\"yanchor\":\"bottom\",\"yref\":\"paper\",\"yshift\":13},{\"align\":\"left\",\"font\":{\"size\":18},\"height\":24,\"showarrow\":false,\"text\":\"<b>Stocks approaching liftoff</b>\",\"x\":0.0,\"xanchor\":\"left\",\"xref\":\"paper\",\"y\":1.0,\"yanchor\":\"bottom\",\"yref\":\"paper\",\"yshift\":29}],\"colorway\":[\"rgb(60, 170, 255)\",\"rgb(255, 60, 130)\",\"rgb(100, 200, 100)\",\"rgb(200, 220, 240)\",\"rgb(251, 241, 67)\",\"rgb(203, 60, 255)\",\"rgb(249, 148, 66)\",\"rgb(36, 130, 36)\",\"rgb(238, 255, 234)\"],\"dragmode\":\"select\",\"font\":{\"color\":\"#e1e1e1\",\"family\":\"SFMono-Regular,Menlo,Monaco,Consolas,Liberation Mono,Courier,monospace\"},\"height\":580,\"margin\":{\"autoexpand\":true,\"b\":30,\"l\":35,\"r\":20,\"t\":68},\"paper_bgcolor\":\"#1b2442\",\"plot_bgcolor\":\"#1b2442\",\"template\":{\"data\":{\"bar\":[{\"error_x\":{\"color\":\"#2a3f5f\"},\"error_y\":{\"color\":\"#2a3f5f\"},\"marker\":{\"line\":{\"color\":\"#E5ECF6\",\"width\":0.5},\"pattern\":{\"fillmode\":\"overlay\",\"size\":10,\"solidity\":0.2}},\"type\":\"bar\"}],\"barpolar\":[{\"marker\":{\"line\":{\"color\":\"#E5ECF6\",\"width\":0.5},\"pattern\":{\"fillmode\":\"overlay\",\"size\":10,\"solidity\":0.2}},\"type\":\"barpolar\"}],\"carpet\":[{\"aaxis\":{\"endlinecolor\":\"#2a3f5f\",\"gridcolor\":\"white\",\"linecolor\":\"white\",\"minorgridcolor\":\"white\",\"startlinecolor\":\"#2a3f5f\"},\"baxis\":{\"endlinecolor\":\"#2a3f5f\",\"gridcolor\":\"white\",\"linecolor\":\"white\",\"minorgridcolor\":\"white\",\"startlinecolor\":\"#2a3f5f\"},\"type\":\"carpet\"}],\"choropleth\":[{\"colorbar\":{\"outlinewidth\":0,\"ticks\":\"\"},\"type\":\"choropleth\"}],\"contour\":[{\"colorbar\":{\"outlinewidth\":0,\"ticks\":\"\"},\"colorscale\":[[0.0,\"#0d0887\"],[0.1111111111111111,\"#46039f\"],[0.2222222222222222,\"#7201a8\"],[0.3333333333333333,\"#9c179e\"],[0.4444444444444444,\"#bd3786\"],[0.5555555555555556,\"#d8576b\"],[0.6666666666666666,\"#ed7953\"],[0.7777777777777778,\"#fb9f3a\"],[0.8888888888888888,\"#fdca26\"],[1.0,\"#f0f921\"]],\"type\":\"contour\"}],\"contourcarpet\":[{\"colorbar\":{\"outlinewidth\":0,\"ticks\":\"\"},\"type\":\"contourcarpet\"}],\"heatmap\":[{\"colorbar\":{\"outlinewidth\":0,\"ticks\":\"\"},\"colorscale\":[[0.0,\"#0d0887\"],[0.1111111111111111,\"#46039f\"],[0.2222222222222222,\"#7201a8\"],[0.3333333333333333,\"#9c179e\"],[0.4444444444444444,\"#bd3786\"],[0.5555555555555556,\"#d8576b\"],[0.6666666666666666,\"#ed7953\"],[0.7777777777777778,\"#fb9f3a\"],[0.8888888888888888,\"#fdca26\"],[1.0,\"#f0f921\"]],\"type\":\"heatmap\"}],\"heatmapgl\":[{\"colorbar\":{\"outlinewidth\":0,\"ticks\":\"\"},\"colorscale\":[[0.0,\"#0d0887\"],[0.1111111111111111,\"#46039f\"],[0.2222222222222222,\"#7201a8\"],[0.3333333333333333,\"#9c179e\"],[0.4444444444444444,\"#bd3786\"],[0.5555555555555556,\"#d8576b\"],[0.6666666666666666,\"#ed7953\"],[0.7777777777777778,\"#fb9f3a\"],[0.8888888888888888,\"#fdca26\"],[1.0,\"#f0f921\"]],\"type\":\"heatmapgl\"}],\"histogram\":[{\"marker\":{\"pattern\":{\"fillmode\":\"overlay\",\"size\":10,\"solidity\":0.2}},\"type\":\"histogram\"}],\"histogram2d\":[{\"colorbar\":{\"outlinewidth\":0,\"ticks\":\"\"},\"colorscale\":[[0.0,\"#0d0887\"],[0.1111111111111111,\"#46039f\"],[0.2222222222222222,\"#7201a8\"],[0.3333333333333333,\"#9c179e\"],[0.4444444444444444,\"#bd3786\"],[0.5555555555555556,\"#d8576b\"],[0.6666666666666666,\"#ed7953\"],[0.7777777777777778,\"#fb9f3a\"],[0.8888888888888888,\"#fdca26\"],[1.0,\"#f0f921\"]],\"type\":\"histogram2d\"}],\"histogram2dcontour\":[{\"colorbar\":{\"outlinewidth\":0,\"ticks\":\"\"},\"colorscale\":[[0.0,\"#0d0887\"],[0.1111111111111111,\"#46039f\"],[0.2222222222222222,\"#7201a8\"],[0.3333333333333333,\"#9c179e\"],[0.4444444444444444,\"#bd3786\"],[0.5555555555555556,\"#d8576b\"],[0.6666666666666666,\"#ed7953\"],[0.7777777777777778,\"#fb9f3a\"],[0.8888888888888888,\"#fdca26\"],[1.0,\"#f0f921\"]],\"type\":\"histogram2dcontour\"}],\"mesh3d\":[{\"colorbar\":{\"outlinewidth\":0,\"ticks\":\"\"},\"type\":\"mesh3d\"}],\"parcoords\":[{\"line\":{\"colorbar\":{\"outlinewidth\":0,\"ticks\":\"\"}},\"type\":\"parcoords\"}],\"pie\":[{\"automargin\":true,\"type\":\"pie\"}],\"scatter\":[{\"marker\":{\"colorbar\":{\"outlinewidth\":0,\"ticks\":\"\"}},\"type\":\"scatter\"}],\"scatter3d\":[{\"line\":{\"colorbar\":{\"outlinewidth\":0,\"ticks\":\"\"}},\"marker\":{\"colorbar\":{\"outlinewidth\":0,\"ticks\":\"\"}},\"type\":\"scatter3d\"}],\"scattercarpet\":[{\"marker\":{\"colorbar\":{\"outlinewidth\":0,\"ticks\":\"\"}},\"type\":\"scattercarpet\"}],\"scattergeo\":[{\"marker\":{\"colorbar\":{\"outlinewidth\":0,\"ticks\":\"\"}},\"type\":\"scattergeo\"}],\"scattergl\":[{\"marker\":{\"colorbar\":{\"outlinewidth\":0,\"ticks\":\"\"}},\"type\":\"scattergl\"}],\"scattermapbox\":[{\"marker\":{\"colorbar\":{\"outlinewidth\":0,\"ticks\":\"\"}},\"type\":\"scattermapbox\"}],\"scatterpolar\":[{\"marker\":{\"colorbar\":{\"outlinewidth\":0,\"ticks\":\"\"}},\"type\":\"scatterpolar\"}],\"scatterpolargl\":[{\"marker\":{\"colorbar\":{\"outlinewidth\":0,\"ticks\":\"\"}},\"type\":\"scatterpolargl\"}],\"scatterternary\":[{\"marker\":{\"colorbar\":{\"outlinewidth\":0,\"ticks\":\"\"}},\"type\":\"scatterternary\"}],\"surface\":[{\"colorbar\":{\"outlinewidth\":0,\"ticks\":\"\"},\"colorscale\":[[0.0,\"#0d0887\"],[0.1111111111111111,\"#46039f\"],[0.2222222222222222,\"#7201a8\"],[0.3333333333333333,\"#9c179e\"],[0.4444444444444444,\"#bd3786\"],[0.5555555555555556,\"#d8576b\"],[0.6666666666666666,\"#ed7953\"],[0.7777777777777778,\"#fb9f3a\"],[0.8888888888888888,\"#fdca26\"],[1.0,\"#f0f921\"]],\"type\":\"surface\"}],\"table\":[{\"cells\":{\"fill\":{\"color\":\"#EBF0F8\"},\"line\":{\"color\":\"white\"}},\"header\":{\"fill\":{\"color\":\"#C8D4E3\"},\"line\":{\"color\":\"white\"}},\"type\":\"table\"}]},\"layout\":{\"annotationdefaults\":{\"arrowcolor\":\"#2a3f5f\",\"arrowhead\":0,\"arrowwidth\":1},\"autotypenumbers\":\"strict\",\"coloraxis\":{\"colorbar\":{\"outlinewidth\":0,\"ticks\":\"\"}},\"colorscale\":{\"diverging\":[[0,\"#8e0152\"],[0.1,\"#c51b7d\"],[0.2,\"#de77ae\"],[0.3,\"#f1b6da\"],[0.4,\"#fde0ef\"],[0.5,\"#f7f7f7\"],[0.6,\"#e6f5d0\"],[0.7,\"#b8e186\"],[0.8,\"#7fbc41\"],[0.9,\"#4d9221\"],[1,\"#276419\"]],\"sequential\":[[0.0,\"#0d0887\"],[0.1111111111111111,\"#46039f\"],[0.2222222222222222,\"#7201a8\"],[0.3333333333333333,\"#9c179e\"],[0.4444444444444444,\"#bd3786\"],[0.5555555555555556,\"#d8576b\"],[0.6666666666666666,\"#ed7953\"],[0.7777777777777778,\"#fb9f3a\"],[0.8888888888888888,\"#fdca26\"],[1.0,\"#f0f921\"]],\"sequentialminus\":[[0.0,\"#0d0887\"],[0.1111111111111111,\"#46039f\"],[0.2222222222222222,\"#7201a8\"],[0.3333333333333333,\"#9c179e\"],[0.4444444444444444,\"#bd3786\"],[0.5555555555555556,\"#d8576b\"],[0.6666666666666666,\"#ed7953\"],[0.7777777777777778,\"#fb9f3a\"],[0.8888888888888888,\"#fdca26\"],[1.0,\"#f0f921\"]]},\"colorway\":[\"#636efa\",\"#EF553B\",\"#00cc96\",\"#ab63fa\",\"#FFA15A\",\"#19d3f3\",\"#FF6692\",\"#B6E880\",\"#FF97FF\",\"#FECB52\"],\"font\":{\"color\":\"#2a3f5f\"},\"geo\":{\"bgcolor\":\"white\",\"lakecolor\":\"white\",\"landcolor\":\"#E5ECF6\",\"showlakes\":true,\"showland\":true,\"subunitcolor\":\"white\"},\"hoverlabel\":{\"align\":\"left\"},\"hovermode\":\"closest\",\"mapbox\":{\"style\":\"light\"},\"paper_bgcolor\":\"white\",\"plot_bgcolor\":\"#E5ECF6\",\"polar\":{\"angularaxis\":{\"gridcolor\":\"white\",\"linecolor\":\"white\",\"ticks\":\"\"},\"bgcolor\":\"#E5ECF6\",\"radialaxis\":{\"gridcolor\":\"white\",\"linecolor\":\"white\",\"ticks\":\"\"}},\"scene\":{\"xaxis\":{\"backgroundcolor\":\"#E5ECF6\",\"gridcolor\":\"white\",\"gridwidth\":2,\"linecolor\":\"white\",\"showbackground\":true,\"ticks\":\"\",\"zerolinecolor\":\"white\"},\"yaxis\":{\"backgroundcolor\":\"#E5ECF6\",\"gridcolor\":\"white\",\"gridwidth\":2,\"linecolor\":\"white\",\"showbackground\":true,\"ticks\":\"\",\"zerolinecolor\":\"white\"},\"zaxis\":{\"backgroundcolor\":\"#E5ECF6\",\"gridcolor\":\"white\",\"gridwidth\":2,\"linecolor\":\"white\",\"showbackground\":true,\"ticks\":\"\",\"zerolinecolor\":\"white\"}},\"shapedefaults\":{\"line\":{\"color\":\"#2a3f5f\"}},\"ternary\":{\"aaxis\":{\"gridcolor\":\"white\",\"linecolor\":\"white\",\"ticks\":\"\"},\"baxis\":{\"gridcolor\":\"white\",\"linecolor\":\"white\",\"ticks\":\"\"},\"bgcolor\":\"#E5ECF6\",\"caxis\":{\"gridcolor\":\"white\",\"linecolor\":\"white\",\"ticks\":\"\"}},\"title\":{\"x\":0.05},\"xaxis\":{\"automargin\":true,\"gridcolor\":\"white\",\"linecolor\":\"white\",\"ticks\":\"\",\"title\":{\"standoff\":15},\"zerolinecolor\":\"white\",\"zerolinewidth\":2},\"yaxis\":{\"automargin\":true,\"gridcolor\":\"white\",\"linecolor\":\"white\",\"ticks\":\"\",\"title\":{\"standoff\":15},\"zerolinecolor\":\"white\",\"zerolinewidth\":2}}},\"title\":{\"font\":{\"color\":\"#1b2442\",\"size\":1},\"text\":\"Stocks approaching liftoff\"},\"xaxis\":{\"gridcolor\":\"rgb(44, 53, 72)\",\"zerolinecolor\":\"#e1e1e1\"},\"yaxis\":{\"gridcolor\":\"rgb(44, 53, 72)\",\"zerolinecolor\":\"#e1e1e1\"}},                        {\"responsive\": true}                    ).then(function(){\n",
       "                            \n",
       "var gd = document.getElementById('b05fcd1b-f8f3-4099-89f0-b5507c15e81f');\n",
       "var x = new MutationObserver(function (mutations, observer) {{\n",
       "        var display = window.getComputedStyle(gd).display;\n",
       "        if (!display || display === 'none') {{\n",
       "            console.log([gd, 'removed!']);\n",
       "            Plotly.purge(gd);\n",
       "            observer.disconnect();\n",
       "        }}\n",
       "}});\n",
       "\n",
       "// Listen for the removal of the full notebook cells\n",
       "var notebookContainer = gd.closest('#notebook-container');\n",
       "if (notebookContainer) {{\n",
       "    x.observe(notebookContainer, {childList: true});\n",
       "}}\n",
       "\n",
       "// Listen for the clearing of the current output cell\n",
       "var outputEl = gd.closest('.output');\n",
       "if (outputEl) {{\n",
       "    x.observe(outputEl, {childList: true});\n",
       "}}\n",
       "\n",
       "                        })                };                });            </script>        </div>"
      ]
     },
     "metadata": {},
     "output_type": "display_data"
    }
   ],
   "source": [
    "TITLE_LENGTH = 100\n",
    "table_df = tbl2_df\n",
    "\n",
    "def format_title(row):\n",
    "    title = row['title']\n",
    "    # truncate\n",
    "    if len(title) > TITLE_LENGTH:\n",
    "        title = title[0:TITLE_LENGTH] + '...'\n",
    "    \n",
    "    # add link\n",
    "    title = f'<a href=\"https://reddit.com{row.permalink}\">{title}</a>'\n",
    "    \n",
    "    return title\n",
    "\n",
    "fig = go.Figure(data=[go.Table(\n",
    "    columnwidth = [130,40,25,25,25],\n",
    "    header=dict(\n",
    "        values=['<b>Post</b>', '<b>Date</b>', '<b>Score</b>', '<b># of comments</b>', '<b>% of commenters who included a 🚀</b>'],\n",
    "        fill_color='#1b2442',\n",
    "        align='left'\n",
    "    ),\n",
    "    cells=dict(\n",
    "        values=[\n",
    "            table_df.apply(format_title, axis=1),\n",
    "            table_df.created_on.dt.strftime('%B %d, %Y'),\n",
    "            table_df.score,\n",
    "            table_df.num_comments,\n",
    "            table_df.fraction_of_authors_who_commented_with_rocket\n",
    "        ],\n",
    "       format = [None, None, None, None, \",.1%\"],\n",
    "       fill_color='#1b2442',\n",
    "       align='left',\n",
    "    )\n",
    ")])\n",
    "\n",
    "fig.update_layout(\n",
    "    make_layout(\n",
    "        title=\"Stocks approaching liftoff\",\n",
    "        subtitle=\"Posts with highest percent of commenters who included a 🚀\",\n",
    "        source_hidden=False,\n",
    "        override={\n",
    "            'height': 580\n",
    "        }\n",
    "    )\n",
    ")\n",
    "\n",
    "fig.show()"
   ]
  },
  {
   "cell_type": "code",
   "execution_count": 79,
   "id": "190d2ef6",
   "metadata": {},
   "outputs": [
    {
     "data": {
      "text/plain": [
       "'https://plotly.com/~ericpgreen/4/'"
      ]
     },
     "execution_count": 79,
     "metadata": {},
     "output_type": "execute_result"
    }
   ],
   "source": [
    "py.plot(fig, filename=\"wallstreetbets_202108_rockets\")"
   ]
  },
  {
   "cell_type": "markdown",
   "id": "52376129",
   "metadata": {},
   "source": [
    "# Influencers"
   ]
  },
  {
   "cell_type": "code",
   "execution_count": 43,
   "id": "f5385172",
   "metadata": {},
   "outputs": [],
   "source": [
    "influencers = await beneath.query_warehouse(\"\"\"\n",
    "WITH\n",
    "    posts_deduped AS (\n",
    "      SELECT r.* FROM (\n",
    "        SELECT array_agg(t ORDER BY t.__timestamp DESC LIMIT 1)[OFFSET(0)] r\n",
    "        FROM `examples/reddit/r-wallstreetbets-posts` t\n",
    "        GROUP BY t.__key\n",
    "      )\n",
    "    ),\n",
    "    scores_deduped AS (\n",
    "      SELECT r.* FROM (\n",
    "        SELECT array_agg(t ORDER BY t.__timestamp DESC LIMIT 1)[OFFSET(0)] r\n",
    "        FROM `examples/reddit/r-wallstreetbets-posts-scores` t\n",
    "        GROUP BY t.__key\n",
    "      )\n",
    "    )\n",
    "select \n",
    "    author, \n",
    "    count(*) as num_posts, \n",
    "    sum(score) as total_upvotes, \n",
    "    sum(score)/count(*) as avg_upvotes, \n",
    "    avg(upvote_ratio) as avg_upvote_ratio, \n",
    "    min(created_on) as first_active_date, \n",
    "    max(created_on) as last_active_date,\n",
    "    TIMESTAMP_DIFF(max(created_on), min(created_on), day) as days_active\n",
    "from posts_deduped p\n",
    "left join scores_deduped s on p.id = s.id\n",
    "where flair not in (\"Meme\", \"Gain\", \"Loss\")\n",
    "group by author\n",
    "order by total_upvotes desc\n",
    "\"\"\")"
   ]
  },
  {
   "cell_type": "code",
   "execution_count": 44,
   "id": "9af454c6",
   "metadata": {},
   "outputs": [],
   "source": [
    "influencers = influencers.loc[~influencers['total_upvotes'].isnull()]\n",
    "influencers['total_upvotes'] = influencers['total_upvotes'].astype('int')"
   ]
  },
  {
   "cell_type": "code",
   "execution_count": 45,
   "id": "cefcc0c4",
   "metadata": {},
   "outputs": [],
   "source": [
    "cond1 = [author not in MODERATORS for author in influencers['author']]\n",
    "cond2 = influencers['last_active_date'] > '2021-07-01'\n",
    "cond3 = influencers['num_posts'] >= 10\n",
    "cond4 = influencers['avg_upvote_ratio'] >= .9"
   ]
  },
  {
   "cell_type": "code",
   "execution_count": 80,
   "id": "49110a2a",
   "metadata": {},
   "outputs": [
    {
     "data": {
      "application/vnd.plotly.v1+json": {
       "config": {
        "plotlyServerURL": "https://plotly.com"
       },
       "data": [
        {
         "alignmentgroup": "True",
         "hovertemplate": "Author=%{y}<br># of Upvotes=%{text}<extra></extra>",
         "legendgroup": "quantkim",
         "marker": {
          "color": "#636efa",
          "line": {
           "width": 0
          },
          "pattern": {
           "shape": ""
          }
         },
         "name": "quantkim",
         "offsetgroup": "quantkim",
         "orientation": "h",
         "showlegend": true,
         "text": [
          "169982"
         ],
         "textposition": "auto",
         "type": "bar",
         "x": [
          169982
         ],
         "xaxis": "x",
         "y": [
          "quantkim"
         ],
         "yaxis": "y"
        },
        {
         "alignmentgroup": "True",
         "hovertemplate": "Author=%{y}<br># of Upvotes=%{text}<extra></extra>",
         "legendgroup": "nobjos",
         "marker": {
          "color": "#EF553B",
          "line": {
           "width": 0
          },
          "pattern": {
           "shape": ""
          }
         },
         "name": "nobjos",
         "offsetgroup": "nobjos",
         "orientation": "h",
         "showlegend": true,
         "text": [
          "88505"
         ],
         "textposition": "auto",
         "type": "bar",
         "x": [
          88505
         ],
         "xaxis": "x",
         "y": [
          "nobjos"
         ],
         "yaxis": "y"
        },
        {
         "alignmentgroup": "True",
         "hovertemplate": "Author=%{y}<br># of Upvotes=%{text}<extra></extra>",
         "legendgroup": "pdwp90",
         "marker": {
          "color": "#00cc96",
          "line": {
           "width": 0
          },
          "pattern": {
           "shape": ""
          }
         },
         "name": "pdwp90",
         "offsetgroup": "pdwp90",
         "orientation": "h",
         "showlegend": true,
         "text": [
          "66261"
         ],
         "textposition": "auto",
         "type": "bar",
         "x": [
          66261
         ],
         "xaxis": "x",
         "y": [
          "pdwp90"
         ],
         "yaxis": "y"
        },
        {
         "alignmentgroup": "True",
         "hovertemplate": "Author=%{y}<br># of Upvotes=%{text}<extra></extra>",
         "legendgroup": "roman_axt",
         "marker": {
          "color": "#ab63fa",
          "line": {
           "width": 0
          },
          "pattern": {
           "shape": ""
          }
         },
         "name": "roman_axt",
         "offsetgroup": "roman_axt",
         "orientation": "h",
         "showlegend": true,
         "text": [
          "55512"
         ],
         "textposition": "auto",
         "type": "bar",
         "x": [
          55512
         ],
         "xaxis": "x",
         "y": [
          "roman_axt"
         ],
         "yaxis": "y"
        },
        {
         "alignmentgroup": "True",
         "hovertemplate": "Author=%{y}<br># of Upvotes=%{text}<extra></extra>",
         "legendgroup": "dumbledoreRothIRA",
         "marker": {
          "color": "#FFA15A",
          "line": {
           "width": 0
          },
          "pattern": {
           "shape": ""
          }
         },
         "name": "dumbledoreRothIRA",
         "offsetgroup": "dumbledoreRothIRA",
         "orientation": "h",
         "showlegend": true,
         "text": [
          "51411"
         ],
         "textposition": "auto",
         "type": "bar",
         "x": [
          51411
         ],
         "xaxis": "x",
         "y": [
          "dumbledoreRothIRA"
         ],
         "yaxis": "y"
        },
        {
         "alignmentgroup": "True",
         "hovertemplate": "Author=%{y}<br># of Upvotes=%{text}<extra></extra>",
         "legendgroup": "bigbear0083",
         "marker": {
          "color": "#19d3f3",
          "line": {
           "width": 0
          },
          "pattern": {
           "shape": ""
          }
         },
         "name": "bigbear0083",
         "offsetgroup": "bigbear0083",
         "orientation": "h",
         "showlegend": true,
         "text": [
          "37642"
         ],
         "textposition": "auto",
         "type": "bar",
         "x": [
          37642
         ],
         "xaxis": "x",
         "y": [
          "bigbear0083"
         ],
         "yaxis": "y"
        },
        {
         "alignmentgroup": "True",
         "hovertemplate": "Author=%{y}<br># of Upvotes=%{text}<extra></extra>",
         "legendgroup": "TrueNorthCoin",
         "marker": {
          "color": "#FF6692",
          "line": {
           "width": 0
          },
          "pattern": {
           "shape": ""
          }
         },
         "name": "TrueNorthCoin",
         "offsetgroup": "TrueNorthCoin",
         "orientation": "h",
         "showlegend": true,
         "text": [
          "36728"
         ],
         "textposition": "auto",
         "type": "bar",
         "x": [
          36728
         ],
         "xaxis": "x",
         "y": [
          "TrueNorthCoin"
         ],
         "yaxis": "y"
        },
        {
         "alignmentgroup": "True",
         "hovertemplate": "Author=%{y}<br># of Upvotes=%{text}<extra></extra>",
         "legendgroup": "pittluke",
         "marker": {
          "color": "#B6E880",
          "line": {
           "width": 0
          },
          "pattern": {
           "shape": ""
          }
         },
         "name": "pittluke",
         "offsetgroup": "pittluke",
         "orientation": "h",
         "showlegend": true,
         "text": [
          "34920"
         ],
         "textposition": "auto",
         "type": "bar",
         "x": [
          34920
         ],
         "xaxis": "x",
         "y": [
          "pittluke"
         ],
         "yaxis": "y"
        },
        {
         "alignmentgroup": "True",
         "hovertemplate": "Author=%{y}<br># of Upvotes=%{text}<extra></extra>",
         "legendgroup": "lookshee",
         "marker": {
          "color": "#FF97FF",
          "line": {
           "width": 0
          },
          "pattern": {
           "shape": ""
          }
         },
         "name": "lookshee",
         "offsetgroup": "lookshee",
         "orientation": "h",
         "showlegend": true,
         "text": [
          "32820"
         ],
         "textposition": "auto",
         "type": "bar",
         "x": [
          32820
         ],
         "xaxis": "x",
         "y": [
          "lookshee"
         ],
         "yaxis": "y"
        },
        {
         "alignmentgroup": "True",
         "hovertemplate": "Author=%{y}<br># of Upvotes=%{text}<extra></extra>",
         "legendgroup": "irishdud1",
         "marker": {
          "color": "#FECB52",
          "line": {
           "width": 0
          },
          "pattern": {
           "shape": ""
          }
         },
         "name": "irishdud1",
         "offsetgroup": "irishdud1",
         "orientation": "h",
         "showlegend": true,
         "text": [
          "31931"
         ],
         "textposition": "auto",
         "type": "bar",
         "x": [
          31931
         ],
         "xaxis": "x",
         "y": [
          "irishdud1"
         ],
         "yaxis": "y"
        }
       ],
       "layout": {
        "annotations": [
         {
          "align": "right",
          "height": 40,
          "showarrow": false,
          "text": "<a style=\"color: rgb(100, 130, 180);\" href=\"https://beneath.dev/\">beneath.dev</a>",
          "x": 1,
          "xanchor": "right",
          "xref": "paper",
          "y": 1,
          "yanchor": "bottom",
          "yref": "paper",
          "yshift": 13
         },
         {
          "align": "left",
          "font": {
           "size": 12
          },
          "height": 16,
          "showarrow": false,
          "text": "Number of upvotes since March 9th (excluding Memes, Gains, and Losses)",
          "x": 0,
          "xanchor": "left",
          "xref": "paper",
          "y": 1,
          "yanchor": "bottom",
          "yref": "paper",
          "yshift": 13
         },
         {
          "align": "left",
          "font": {
           "size": 18
          },
          "height": 24,
          "showarrow": false,
          "text": "<b>Most Influential Active Authors</b>",
          "x": 0,
          "xanchor": "left",
          "xref": "paper",
          "y": 1,
          "yanchor": "bottom",
          "yref": "paper",
          "yshift": 29
         }
        ],
        "bargap": 0,
        "barmode": "relative",
        "colorway": [
         "rgb(60, 170, 255)",
         "rgb(255, 60, 130)",
         "rgb(100, 200, 100)",
         "rgb(200, 220, 240)",
         "rgb(251, 241, 67)",
         "rgb(203, 60, 255)",
         "rgb(249, 148, 66)",
         "rgb(36, 130, 36)",
         "rgb(238, 255, 234)"
        ],
        "dragmode": "select",
        "font": {
         "color": "#e1e1e1",
         "family": "SFMono-Regular,Menlo,Monaco,Consolas,Liberation Mono,Courier,monospace"
        },
        "legend": {
         "title": {
          "text": "Author"
         },
         "tracegroupgap": 0
        },
        "margin": {
         "autoexpand": true,
         "b": 30,
         "l": 35,
         "r": 20,
         "t": 68
        },
        "paper_bgcolor": "#1b2442",
        "plot_bgcolor": "#1b2442",
        "showlegend": false,
        "template": {
         "data": {
          "bar": [
           {
            "error_x": {
             "color": "#2a3f5f"
            },
            "error_y": {
             "color": "#2a3f5f"
            },
            "marker": {
             "line": {
              "color": "#E5ECF6",
              "width": 0.5
             },
             "pattern": {
              "fillmode": "overlay",
              "size": 10,
              "solidity": 0.2
             }
            },
            "type": "bar"
           }
          ],
          "barpolar": [
           {
            "marker": {
             "line": {
              "color": "#E5ECF6",
              "width": 0.5
             },
             "pattern": {
              "fillmode": "overlay",
              "size": 10,
              "solidity": 0.2
             }
            },
            "type": "barpolar"
           }
          ],
          "carpet": [
           {
            "aaxis": {
             "endlinecolor": "#2a3f5f",
             "gridcolor": "white",
             "linecolor": "white",
             "minorgridcolor": "white",
             "startlinecolor": "#2a3f5f"
            },
            "baxis": {
             "endlinecolor": "#2a3f5f",
             "gridcolor": "white",
             "linecolor": "white",
             "minorgridcolor": "white",
             "startlinecolor": "#2a3f5f"
            },
            "type": "carpet"
           }
          ],
          "choropleth": [
           {
            "colorbar": {
             "outlinewidth": 0,
             "ticks": ""
            },
            "type": "choropleth"
           }
          ],
          "contour": [
           {
            "colorbar": {
             "outlinewidth": 0,
             "ticks": ""
            },
            "colorscale": [
             [
              0,
              "#0d0887"
             ],
             [
              0.1111111111111111,
              "#46039f"
             ],
             [
              0.2222222222222222,
              "#7201a8"
             ],
             [
              0.3333333333333333,
              "#9c179e"
             ],
             [
              0.4444444444444444,
              "#bd3786"
             ],
             [
              0.5555555555555556,
              "#d8576b"
             ],
             [
              0.6666666666666666,
              "#ed7953"
             ],
             [
              0.7777777777777778,
              "#fb9f3a"
             ],
             [
              0.8888888888888888,
              "#fdca26"
             ],
             [
              1,
              "#f0f921"
             ]
            ],
            "type": "contour"
           }
          ],
          "contourcarpet": [
           {
            "colorbar": {
             "outlinewidth": 0,
             "ticks": ""
            },
            "type": "contourcarpet"
           }
          ],
          "heatmap": [
           {
            "colorbar": {
             "outlinewidth": 0,
             "ticks": ""
            },
            "colorscale": [
             [
              0,
              "#0d0887"
             ],
             [
              0.1111111111111111,
              "#46039f"
             ],
             [
              0.2222222222222222,
              "#7201a8"
             ],
             [
              0.3333333333333333,
              "#9c179e"
             ],
             [
              0.4444444444444444,
              "#bd3786"
             ],
             [
              0.5555555555555556,
              "#d8576b"
             ],
             [
              0.6666666666666666,
              "#ed7953"
             ],
             [
              0.7777777777777778,
              "#fb9f3a"
             ],
             [
              0.8888888888888888,
              "#fdca26"
             ],
             [
              1,
              "#f0f921"
             ]
            ],
            "type": "heatmap"
           }
          ],
          "heatmapgl": [
           {
            "colorbar": {
             "outlinewidth": 0,
             "ticks": ""
            },
            "colorscale": [
             [
              0,
              "#0d0887"
             ],
             [
              0.1111111111111111,
              "#46039f"
             ],
             [
              0.2222222222222222,
              "#7201a8"
             ],
             [
              0.3333333333333333,
              "#9c179e"
             ],
             [
              0.4444444444444444,
              "#bd3786"
             ],
             [
              0.5555555555555556,
              "#d8576b"
             ],
             [
              0.6666666666666666,
              "#ed7953"
             ],
             [
              0.7777777777777778,
              "#fb9f3a"
             ],
             [
              0.8888888888888888,
              "#fdca26"
             ],
             [
              1,
              "#f0f921"
             ]
            ],
            "type": "heatmapgl"
           }
          ],
          "histogram": [
           {
            "marker": {
             "pattern": {
              "fillmode": "overlay",
              "size": 10,
              "solidity": 0.2
             }
            },
            "type": "histogram"
           }
          ],
          "histogram2d": [
           {
            "colorbar": {
             "outlinewidth": 0,
             "ticks": ""
            },
            "colorscale": [
             [
              0,
              "#0d0887"
             ],
             [
              0.1111111111111111,
              "#46039f"
             ],
             [
              0.2222222222222222,
              "#7201a8"
             ],
             [
              0.3333333333333333,
              "#9c179e"
             ],
             [
              0.4444444444444444,
              "#bd3786"
             ],
             [
              0.5555555555555556,
              "#d8576b"
             ],
             [
              0.6666666666666666,
              "#ed7953"
             ],
             [
              0.7777777777777778,
              "#fb9f3a"
             ],
             [
              0.8888888888888888,
              "#fdca26"
             ],
             [
              1,
              "#f0f921"
             ]
            ],
            "type": "histogram2d"
           }
          ],
          "histogram2dcontour": [
           {
            "colorbar": {
             "outlinewidth": 0,
             "ticks": ""
            },
            "colorscale": [
             [
              0,
              "#0d0887"
             ],
             [
              0.1111111111111111,
              "#46039f"
             ],
             [
              0.2222222222222222,
              "#7201a8"
             ],
             [
              0.3333333333333333,
              "#9c179e"
             ],
             [
              0.4444444444444444,
              "#bd3786"
             ],
             [
              0.5555555555555556,
              "#d8576b"
             ],
             [
              0.6666666666666666,
              "#ed7953"
             ],
             [
              0.7777777777777778,
              "#fb9f3a"
             ],
             [
              0.8888888888888888,
              "#fdca26"
             ],
             [
              1,
              "#f0f921"
             ]
            ],
            "type": "histogram2dcontour"
           }
          ],
          "mesh3d": [
           {
            "colorbar": {
             "outlinewidth": 0,
             "ticks": ""
            },
            "type": "mesh3d"
           }
          ],
          "parcoords": [
           {
            "line": {
             "colorbar": {
              "outlinewidth": 0,
              "ticks": ""
             }
            },
            "type": "parcoords"
           }
          ],
          "pie": [
           {
            "automargin": true,
            "type": "pie"
           }
          ],
          "scatter": [
           {
            "marker": {
             "colorbar": {
              "outlinewidth": 0,
              "ticks": ""
             }
            },
            "type": "scatter"
           }
          ],
          "scatter3d": [
           {
            "line": {
             "colorbar": {
              "outlinewidth": 0,
              "ticks": ""
             }
            },
            "marker": {
             "colorbar": {
              "outlinewidth": 0,
              "ticks": ""
             }
            },
            "type": "scatter3d"
           }
          ],
          "scattercarpet": [
           {
            "marker": {
             "colorbar": {
              "outlinewidth": 0,
              "ticks": ""
             }
            },
            "type": "scattercarpet"
           }
          ],
          "scattergeo": [
           {
            "marker": {
             "colorbar": {
              "outlinewidth": 0,
              "ticks": ""
             }
            },
            "type": "scattergeo"
           }
          ],
          "scattergl": [
           {
            "marker": {
             "colorbar": {
              "outlinewidth": 0,
              "ticks": ""
             }
            },
            "type": "scattergl"
           }
          ],
          "scattermapbox": [
           {
            "marker": {
             "colorbar": {
              "outlinewidth": 0,
              "ticks": ""
             }
            },
            "type": "scattermapbox"
           }
          ],
          "scatterpolar": [
           {
            "marker": {
             "colorbar": {
              "outlinewidth": 0,
              "ticks": ""
             }
            },
            "type": "scatterpolar"
           }
          ],
          "scatterpolargl": [
           {
            "marker": {
             "colorbar": {
              "outlinewidth": 0,
              "ticks": ""
             }
            },
            "type": "scatterpolargl"
           }
          ],
          "scatterternary": [
           {
            "marker": {
             "colorbar": {
              "outlinewidth": 0,
              "ticks": ""
             }
            },
            "type": "scatterternary"
           }
          ],
          "surface": [
           {
            "colorbar": {
             "outlinewidth": 0,
             "ticks": ""
            },
            "colorscale": [
             [
              0,
              "#0d0887"
             ],
             [
              0.1111111111111111,
              "#46039f"
             ],
             [
              0.2222222222222222,
              "#7201a8"
             ],
             [
              0.3333333333333333,
              "#9c179e"
             ],
             [
              0.4444444444444444,
              "#bd3786"
             ],
             [
              0.5555555555555556,
              "#d8576b"
             ],
             [
              0.6666666666666666,
              "#ed7953"
             ],
             [
              0.7777777777777778,
              "#fb9f3a"
             ],
             [
              0.8888888888888888,
              "#fdca26"
             ],
             [
              1,
              "#f0f921"
             ]
            ],
            "type": "surface"
           }
          ],
          "table": [
           {
            "cells": {
             "fill": {
              "color": "#EBF0F8"
             },
             "line": {
              "color": "white"
             }
            },
            "header": {
             "fill": {
              "color": "#C8D4E3"
             },
             "line": {
              "color": "white"
             }
            },
            "type": "table"
           }
          ]
         },
         "layout": {
          "annotationdefaults": {
           "arrowcolor": "#2a3f5f",
           "arrowhead": 0,
           "arrowwidth": 1
          },
          "autotypenumbers": "strict",
          "coloraxis": {
           "colorbar": {
            "outlinewidth": 0,
            "ticks": ""
           }
          },
          "colorscale": {
           "diverging": [
            [
             0,
             "#8e0152"
            ],
            [
             0.1,
             "#c51b7d"
            ],
            [
             0.2,
             "#de77ae"
            ],
            [
             0.3,
             "#f1b6da"
            ],
            [
             0.4,
             "#fde0ef"
            ],
            [
             0.5,
             "#f7f7f7"
            ],
            [
             0.6,
             "#e6f5d0"
            ],
            [
             0.7,
             "#b8e186"
            ],
            [
             0.8,
             "#7fbc41"
            ],
            [
             0.9,
             "#4d9221"
            ],
            [
             1,
             "#276419"
            ]
           ],
           "sequential": [
            [
             0,
             "#0d0887"
            ],
            [
             0.1111111111111111,
             "#46039f"
            ],
            [
             0.2222222222222222,
             "#7201a8"
            ],
            [
             0.3333333333333333,
             "#9c179e"
            ],
            [
             0.4444444444444444,
             "#bd3786"
            ],
            [
             0.5555555555555556,
             "#d8576b"
            ],
            [
             0.6666666666666666,
             "#ed7953"
            ],
            [
             0.7777777777777778,
             "#fb9f3a"
            ],
            [
             0.8888888888888888,
             "#fdca26"
            ],
            [
             1,
             "#f0f921"
            ]
           ],
           "sequentialminus": [
            [
             0,
             "#0d0887"
            ],
            [
             0.1111111111111111,
             "#46039f"
            ],
            [
             0.2222222222222222,
             "#7201a8"
            ],
            [
             0.3333333333333333,
             "#9c179e"
            ],
            [
             0.4444444444444444,
             "#bd3786"
            ],
            [
             0.5555555555555556,
             "#d8576b"
            ],
            [
             0.6666666666666666,
             "#ed7953"
            ],
            [
             0.7777777777777778,
             "#fb9f3a"
            ],
            [
             0.8888888888888888,
             "#fdca26"
            ],
            [
             1,
             "#f0f921"
            ]
           ]
          },
          "colorway": [
           "#636efa",
           "#EF553B",
           "#00cc96",
           "#ab63fa",
           "#FFA15A",
           "#19d3f3",
           "#FF6692",
           "#B6E880",
           "#FF97FF",
           "#FECB52"
          ],
          "font": {
           "color": "#2a3f5f"
          },
          "geo": {
           "bgcolor": "white",
           "lakecolor": "white",
           "landcolor": "#E5ECF6",
           "showlakes": true,
           "showland": true,
           "subunitcolor": "white"
          },
          "hoverlabel": {
           "align": "left"
          },
          "hovermode": "closest",
          "mapbox": {
           "style": "light"
          },
          "paper_bgcolor": "white",
          "plot_bgcolor": "#E5ECF6",
          "polar": {
           "angularaxis": {
            "gridcolor": "white",
            "linecolor": "white",
            "ticks": ""
           },
           "bgcolor": "#E5ECF6",
           "radialaxis": {
            "gridcolor": "white",
            "linecolor": "white",
            "ticks": ""
           }
          },
          "scene": {
           "xaxis": {
            "backgroundcolor": "#E5ECF6",
            "gridcolor": "white",
            "gridwidth": 2,
            "linecolor": "white",
            "showbackground": true,
            "ticks": "",
            "zerolinecolor": "white"
           },
           "yaxis": {
            "backgroundcolor": "#E5ECF6",
            "gridcolor": "white",
            "gridwidth": 2,
            "linecolor": "white",
            "showbackground": true,
            "ticks": "",
            "zerolinecolor": "white"
           },
           "zaxis": {
            "backgroundcolor": "#E5ECF6",
            "gridcolor": "white",
            "gridwidth": 2,
            "linecolor": "white",
            "showbackground": true,
            "ticks": "",
            "zerolinecolor": "white"
           }
          },
          "shapedefaults": {
           "line": {
            "color": "#2a3f5f"
           }
          },
          "ternary": {
           "aaxis": {
            "gridcolor": "white",
            "linecolor": "white",
            "ticks": ""
           },
           "baxis": {
            "gridcolor": "white",
            "linecolor": "white",
            "ticks": ""
           },
           "bgcolor": "#E5ECF6",
           "caxis": {
            "gridcolor": "white",
            "linecolor": "white",
            "ticks": ""
           }
          },
          "title": {
           "x": 0.05
          },
          "xaxis": {
           "automargin": true,
           "gridcolor": "white",
           "linecolor": "white",
           "ticks": "",
           "title": {
            "standoff": 15
           },
           "zerolinecolor": "white",
           "zerolinewidth": 2
          },
          "yaxis": {
           "automargin": true,
           "gridcolor": "white",
           "linecolor": "white",
           "ticks": "",
           "title": {
            "standoff": 15
           },
           "zerolinecolor": "white",
           "zerolinewidth": 2
          }
         }
        },
        "title": {
         "font": {
          "color": "#1b2442",
          "size": 1
         },
         "text": "Most Influential Active Authors"
        },
        "xaxis": {
         "anchor": "y",
         "domain": [
          0,
          1
         ],
         "gridcolor": "rgb(44, 53, 72)",
         "title": {
          "text": "# of Upvotes"
         },
         "zeroline": false,
         "zerolinecolor": "#e1e1e1"
        },
        "yaxis": {
         "anchor": "x",
         "categoryarray": [
          "irishdud1",
          "lookshee",
          "pittluke",
          "TrueNorthCoin",
          "bigbear0083",
          "dumbledoreRothIRA",
          "roman_axt",
          "pdwp90",
          "nobjos",
          "quantkim"
         ],
         "categoryorder": "array",
         "domain": [
          0,
          1
         ],
         "gridcolor": "rgb(44, 53, 72)",
         "title": {
          "text": ""
         },
         "zerolinecolor": "#e1e1e1"
        }
       }
      },
      "text/html": [
       "<div>                            <div id=\"72a3b72e-a1fa-4058-9c06-43be10ca399d\" class=\"plotly-graph-div\" style=\"height:525px; width:100%;\"></div>            <script type=\"text/javascript\">                require([\"plotly\"], function(Plotly) {                    window.PLOTLYENV=window.PLOTLYENV || {};                                    if (document.getElementById(\"72a3b72e-a1fa-4058-9c06-43be10ca399d\")) {                    Plotly.newPlot(                        \"72a3b72e-a1fa-4058-9c06-43be10ca399d\",                        [{\"alignmentgroup\":\"True\",\"hovertemplate\":\"Author=%{y}<br># of Upvotes=%{text}<extra></extra>\",\"legendgroup\":\"quantkim\",\"marker\":{\"color\":\"#636efa\",\"line\":{\"width\":0},\"pattern\":{\"shape\":\"\"}},\"name\":\"quantkim\",\"offsetgroup\":\"quantkim\",\"orientation\":\"h\",\"showlegend\":true,\"text\":[\"169982\"],\"textposition\":\"auto\",\"type\":\"bar\",\"x\":[169982],\"xaxis\":\"x\",\"y\":[\"quantkim\"],\"yaxis\":\"y\"},{\"alignmentgroup\":\"True\",\"hovertemplate\":\"Author=%{y}<br># of Upvotes=%{text}<extra></extra>\",\"legendgroup\":\"nobjos\",\"marker\":{\"color\":\"#EF553B\",\"line\":{\"width\":0},\"pattern\":{\"shape\":\"\"}},\"name\":\"nobjos\",\"offsetgroup\":\"nobjos\",\"orientation\":\"h\",\"showlegend\":true,\"text\":[\"88505\"],\"textposition\":\"auto\",\"type\":\"bar\",\"x\":[88505],\"xaxis\":\"x\",\"y\":[\"nobjos\"],\"yaxis\":\"y\"},{\"alignmentgroup\":\"True\",\"hovertemplate\":\"Author=%{y}<br># of Upvotes=%{text}<extra></extra>\",\"legendgroup\":\"pdwp90\",\"marker\":{\"color\":\"#00cc96\",\"line\":{\"width\":0},\"pattern\":{\"shape\":\"\"}},\"name\":\"pdwp90\",\"offsetgroup\":\"pdwp90\",\"orientation\":\"h\",\"showlegend\":true,\"text\":[\"66261\"],\"textposition\":\"auto\",\"type\":\"bar\",\"x\":[66261],\"xaxis\":\"x\",\"y\":[\"pdwp90\"],\"yaxis\":\"y\"},{\"alignmentgroup\":\"True\",\"hovertemplate\":\"Author=%{y}<br># of Upvotes=%{text}<extra></extra>\",\"legendgroup\":\"roman_axt\",\"marker\":{\"color\":\"#ab63fa\",\"line\":{\"width\":0},\"pattern\":{\"shape\":\"\"}},\"name\":\"roman_axt\",\"offsetgroup\":\"roman_axt\",\"orientation\":\"h\",\"showlegend\":true,\"text\":[\"55512\"],\"textposition\":\"auto\",\"type\":\"bar\",\"x\":[55512],\"xaxis\":\"x\",\"y\":[\"roman_axt\"],\"yaxis\":\"y\"},{\"alignmentgroup\":\"True\",\"hovertemplate\":\"Author=%{y}<br># of Upvotes=%{text}<extra></extra>\",\"legendgroup\":\"dumbledoreRothIRA\",\"marker\":{\"color\":\"#FFA15A\",\"line\":{\"width\":0},\"pattern\":{\"shape\":\"\"}},\"name\":\"dumbledoreRothIRA\",\"offsetgroup\":\"dumbledoreRothIRA\",\"orientation\":\"h\",\"showlegend\":true,\"text\":[\"51411\"],\"textposition\":\"auto\",\"type\":\"bar\",\"x\":[51411],\"xaxis\":\"x\",\"y\":[\"dumbledoreRothIRA\"],\"yaxis\":\"y\"},{\"alignmentgroup\":\"True\",\"hovertemplate\":\"Author=%{y}<br># of Upvotes=%{text}<extra></extra>\",\"legendgroup\":\"bigbear0083\",\"marker\":{\"color\":\"#19d3f3\",\"line\":{\"width\":0},\"pattern\":{\"shape\":\"\"}},\"name\":\"bigbear0083\",\"offsetgroup\":\"bigbear0083\",\"orientation\":\"h\",\"showlegend\":true,\"text\":[\"37642\"],\"textposition\":\"auto\",\"type\":\"bar\",\"x\":[37642],\"xaxis\":\"x\",\"y\":[\"bigbear0083\"],\"yaxis\":\"y\"},{\"alignmentgroup\":\"True\",\"hovertemplate\":\"Author=%{y}<br># of Upvotes=%{text}<extra></extra>\",\"legendgroup\":\"TrueNorthCoin\",\"marker\":{\"color\":\"#FF6692\",\"line\":{\"width\":0},\"pattern\":{\"shape\":\"\"}},\"name\":\"TrueNorthCoin\",\"offsetgroup\":\"TrueNorthCoin\",\"orientation\":\"h\",\"showlegend\":true,\"text\":[\"36728\"],\"textposition\":\"auto\",\"type\":\"bar\",\"x\":[36728],\"xaxis\":\"x\",\"y\":[\"TrueNorthCoin\"],\"yaxis\":\"y\"},{\"alignmentgroup\":\"True\",\"hovertemplate\":\"Author=%{y}<br># of Upvotes=%{text}<extra></extra>\",\"legendgroup\":\"pittluke\",\"marker\":{\"color\":\"#B6E880\",\"line\":{\"width\":0},\"pattern\":{\"shape\":\"\"}},\"name\":\"pittluke\",\"offsetgroup\":\"pittluke\",\"orientation\":\"h\",\"showlegend\":true,\"text\":[\"34920\"],\"textposition\":\"auto\",\"type\":\"bar\",\"x\":[34920],\"xaxis\":\"x\",\"y\":[\"pittluke\"],\"yaxis\":\"y\"},{\"alignmentgroup\":\"True\",\"hovertemplate\":\"Author=%{y}<br># of Upvotes=%{text}<extra></extra>\",\"legendgroup\":\"lookshee\",\"marker\":{\"color\":\"#FF97FF\",\"line\":{\"width\":0},\"pattern\":{\"shape\":\"\"}},\"name\":\"lookshee\",\"offsetgroup\":\"lookshee\",\"orientation\":\"h\",\"showlegend\":true,\"text\":[\"32820\"],\"textposition\":\"auto\",\"type\":\"bar\",\"x\":[32820],\"xaxis\":\"x\",\"y\":[\"lookshee\"],\"yaxis\":\"y\"},{\"alignmentgroup\":\"True\",\"hovertemplate\":\"Author=%{y}<br># of Upvotes=%{text}<extra></extra>\",\"legendgroup\":\"irishdud1\",\"marker\":{\"color\":\"#FECB52\",\"line\":{\"width\":0},\"pattern\":{\"shape\":\"\"}},\"name\":\"irishdud1\",\"offsetgroup\":\"irishdud1\",\"orientation\":\"h\",\"showlegend\":true,\"text\":[\"31931\"],\"textposition\":\"auto\",\"type\":\"bar\",\"x\":[31931],\"xaxis\":\"x\",\"y\":[\"irishdud1\"],\"yaxis\":\"y\"}],                        {\"annotations\":[{\"align\":\"right\",\"height\":40,\"showarrow\":false,\"text\":\"<a style=\\\"color: rgb(100, 130, 180);\\\" href=\\\"https://beneath.dev/\\\">beneath.dev</a>\",\"x\":1.0,\"xanchor\":\"right\",\"xref\":\"paper\",\"y\":1.0,\"yanchor\":\"bottom\",\"yref\":\"paper\",\"yshift\":13},{\"align\":\"left\",\"font\":{\"size\":12},\"height\":16,\"showarrow\":false,\"text\":\"Number of upvotes since March 9th (excluding Memes, Gains, and Losses)\",\"x\":0.0,\"xanchor\":\"left\",\"xref\":\"paper\",\"y\":1.0,\"yanchor\":\"bottom\",\"yref\":\"paper\",\"yshift\":13},{\"align\":\"left\",\"font\":{\"size\":18},\"height\":24,\"showarrow\":false,\"text\":\"<b>Most Influential Active Authors</b>\",\"x\":0.0,\"xanchor\":\"left\",\"xref\":\"paper\",\"y\":1.0,\"yanchor\":\"bottom\",\"yref\":\"paper\",\"yshift\":29}],\"bargap\":0,\"barmode\":\"relative\",\"colorway\":[\"rgb(60, 170, 255)\",\"rgb(255, 60, 130)\",\"rgb(100, 200, 100)\",\"rgb(200, 220, 240)\",\"rgb(251, 241, 67)\",\"rgb(203, 60, 255)\",\"rgb(249, 148, 66)\",\"rgb(36, 130, 36)\",\"rgb(238, 255, 234)\"],\"dragmode\":\"select\",\"font\":{\"color\":\"#e1e1e1\",\"family\":\"SFMono-Regular,Menlo,Monaco,Consolas,Liberation Mono,Courier,monospace\"},\"legend\":{\"title\":{\"text\":\"Author\"},\"tracegroupgap\":0},\"margin\":{\"autoexpand\":true,\"b\":30,\"l\":35,\"r\":20,\"t\":68},\"paper_bgcolor\":\"#1b2442\",\"plot_bgcolor\":\"#1b2442\",\"showlegend\":false,\"template\":{\"data\":{\"bar\":[{\"error_x\":{\"color\":\"#2a3f5f\"},\"error_y\":{\"color\":\"#2a3f5f\"},\"marker\":{\"line\":{\"color\":\"#E5ECF6\",\"width\":0.5},\"pattern\":{\"fillmode\":\"overlay\",\"size\":10,\"solidity\":0.2}},\"type\":\"bar\"}],\"barpolar\":[{\"marker\":{\"line\":{\"color\":\"#E5ECF6\",\"width\":0.5},\"pattern\":{\"fillmode\":\"overlay\",\"size\":10,\"solidity\":0.2}},\"type\":\"barpolar\"}],\"carpet\":[{\"aaxis\":{\"endlinecolor\":\"#2a3f5f\",\"gridcolor\":\"white\",\"linecolor\":\"white\",\"minorgridcolor\":\"white\",\"startlinecolor\":\"#2a3f5f\"},\"baxis\":{\"endlinecolor\":\"#2a3f5f\",\"gridcolor\":\"white\",\"linecolor\":\"white\",\"minorgridcolor\":\"white\",\"startlinecolor\":\"#2a3f5f\"},\"type\":\"carpet\"}],\"choropleth\":[{\"colorbar\":{\"outlinewidth\":0,\"ticks\":\"\"},\"type\":\"choropleth\"}],\"contour\":[{\"colorbar\":{\"outlinewidth\":0,\"ticks\":\"\"},\"colorscale\":[[0.0,\"#0d0887\"],[0.1111111111111111,\"#46039f\"],[0.2222222222222222,\"#7201a8\"],[0.3333333333333333,\"#9c179e\"],[0.4444444444444444,\"#bd3786\"],[0.5555555555555556,\"#d8576b\"],[0.6666666666666666,\"#ed7953\"],[0.7777777777777778,\"#fb9f3a\"],[0.8888888888888888,\"#fdca26\"],[1.0,\"#f0f921\"]],\"type\":\"contour\"}],\"contourcarpet\":[{\"colorbar\":{\"outlinewidth\":0,\"ticks\":\"\"},\"type\":\"contourcarpet\"}],\"heatmap\":[{\"colorbar\":{\"outlinewidth\":0,\"ticks\":\"\"},\"colorscale\":[[0.0,\"#0d0887\"],[0.1111111111111111,\"#46039f\"],[0.2222222222222222,\"#7201a8\"],[0.3333333333333333,\"#9c179e\"],[0.4444444444444444,\"#bd3786\"],[0.5555555555555556,\"#d8576b\"],[0.6666666666666666,\"#ed7953\"],[0.7777777777777778,\"#fb9f3a\"],[0.8888888888888888,\"#fdca26\"],[1.0,\"#f0f921\"]],\"type\":\"heatmap\"}],\"heatmapgl\":[{\"colorbar\":{\"outlinewidth\":0,\"ticks\":\"\"},\"colorscale\":[[0.0,\"#0d0887\"],[0.1111111111111111,\"#46039f\"],[0.2222222222222222,\"#7201a8\"],[0.3333333333333333,\"#9c179e\"],[0.4444444444444444,\"#bd3786\"],[0.5555555555555556,\"#d8576b\"],[0.6666666666666666,\"#ed7953\"],[0.7777777777777778,\"#fb9f3a\"],[0.8888888888888888,\"#fdca26\"],[1.0,\"#f0f921\"]],\"type\":\"heatmapgl\"}],\"histogram\":[{\"marker\":{\"pattern\":{\"fillmode\":\"overlay\",\"size\":10,\"solidity\":0.2}},\"type\":\"histogram\"}],\"histogram2d\":[{\"colorbar\":{\"outlinewidth\":0,\"ticks\":\"\"},\"colorscale\":[[0.0,\"#0d0887\"],[0.1111111111111111,\"#46039f\"],[0.2222222222222222,\"#7201a8\"],[0.3333333333333333,\"#9c179e\"],[0.4444444444444444,\"#bd3786\"],[0.5555555555555556,\"#d8576b\"],[0.6666666666666666,\"#ed7953\"],[0.7777777777777778,\"#fb9f3a\"],[0.8888888888888888,\"#fdca26\"],[1.0,\"#f0f921\"]],\"type\":\"histogram2d\"}],\"histogram2dcontour\":[{\"colorbar\":{\"outlinewidth\":0,\"ticks\":\"\"},\"colorscale\":[[0.0,\"#0d0887\"],[0.1111111111111111,\"#46039f\"],[0.2222222222222222,\"#7201a8\"],[0.3333333333333333,\"#9c179e\"],[0.4444444444444444,\"#bd3786\"],[0.5555555555555556,\"#d8576b\"],[0.6666666666666666,\"#ed7953\"],[0.7777777777777778,\"#fb9f3a\"],[0.8888888888888888,\"#fdca26\"],[1.0,\"#f0f921\"]],\"type\":\"histogram2dcontour\"}],\"mesh3d\":[{\"colorbar\":{\"outlinewidth\":0,\"ticks\":\"\"},\"type\":\"mesh3d\"}],\"parcoords\":[{\"line\":{\"colorbar\":{\"outlinewidth\":0,\"ticks\":\"\"}},\"type\":\"parcoords\"}],\"pie\":[{\"automargin\":true,\"type\":\"pie\"}],\"scatter\":[{\"marker\":{\"colorbar\":{\"outlinewidth\":0,\"ticks\":\"\"}},\"type\":\"scatter\"}],\"scatter3d\":[{\"line\":{\"colorbar\":{\"outlinewidth\":0,\"ticks\":\"\"}},\"marker\":{\"colorbar\":{\"outlinewidth\":0,\"ticks\":\"\"}},\"type\":\"scatter3d\"}],\"scattercarpet\":[{\"marker\":{\"colorbar\":{\"outlinewidth\":0,\"ticks\":\"\"}},\"type\":\"scattercarpet\"}],\"scattergeo\":[{\"marker\":{\"colorbar\":{\"outlinewidth\":0,\"ticks\":\"\"}},\"type\":\"scattergeo\"}],\"scattergl\":[{\"marker\":{\"colorbar\":{\"outlinewidth\":0,\"ticks\":\"\"}},\"type\":\"scattergl\"}],\"scattermapbox\":[{\"marker\":{\"colorbar\":{\"outlinewidth\":0,\"ticks\":\"\"}},\"type\":\"scattermapbox\"}],\"scatterpolar\":[{\"marker\":{\"colorbar\":{\"outlinewidth\":0,\"ticks\":\"\"}},\"type\":\"scatterpolar\"}],\"scatterpolargl\":[{\"marker\":{\"colorbar\":{\"outlinewidth\":0,\"ticks\":\"\"}},\"type\":\"scatterpolargl\"}],\"scatterternary\":[{\"marker\":{\"colorbar\":{\"outlinewidth\":0,\"ticks\":\"\"}},\"type\":\"scatterternary\"}],\"surface\":[{\"colorbar\":{\"outlinewidth\":0,\"ticks\":\"\"},\"colorscale\":[[0.0,\"#0d0887\"],[0.1111111111111111,\"#46039f\"],[0.2222222222222222,\"#7201a8\"],[0.3333333333333333,\"#9c179e\"],[0.4444444444444444,\"#bd3786\"],[0.5555555555555556,\"#d8576b\"],[0.6666666666666666,\"#ed7953\"],[0.7777777777777778,\"#fb9f3a\"],[0.8888888888888888,\"#fdca26\"],[1.0,\"#f0f921\"]],\"type\":\"surface\"}],\"table\":[{\"cells\":{\"fill\":{\"color\":\"#EBF0F8\"},\"line\":{\"color\":\"white\"}},\"header\":{\"fill\":{\"color\":\"#C8D4E3\"},\"line\":{\"color\":\"white\"}},\"type\":\"table\"}]},\"layout\":{\"annotationdefaults\":{\"arrowcolor\":\"#2a3f5f\",\"arrowhead\":0,\"arrowwidth\":1},\"autotypenumbers\":\"strict\",\"coloraxis\":{\"colorbar\":{\"outlinewidth\":0,\"ticks\":\"\"}},\"colorscale\":{\"diverging\":[[0,\"#8e0152\"],[0.1,\"#c51b7d\"],[0.2,\"#de77ae\"],[0.3,\"#f1b6da\"],[0.4,\"#fde0ef\"],[0.5,\"#f7f7f7\"],[0.6,\"#e6f5d0\"],[0.7,\"#b8e186\"],[0.8,\"#7fbc41\"],[0.9,\"#4d9221\"],[1,\"#276419\"]],\"sequential\":[[0.0,\"#0d0887\"],[0.1111111111111111,\"#46039f\"],[0.2222222222222222,\"#7201a8\"],[0.3333333333333333,\"#9c179e\"],[0.4444444444444444,\"#bd3786\"],[0.5555555555555556,\"#d8576b\"],[0.6666666666666666,\"#ed7953\"],[0.7777777777777778,\"#fb9f3a\"],[0.8888888888888888,\"#fdca26\"],[1.0,\"#f0f921\"]],\"sequentialminus\":[[0.0,\"#0d0887\"],[0.1111111111111111,\"#46039f\"],[0.2222222222222222,\"#7201a8\"],[0.3333333333333333,\"#9c179e\"],[0.4444444444444444,\"#bd3786\"],[0.5555555555555556,\"#d8576b\"],[0.6666666666666666,\"#ed7953\"],[0.7777777777777778,\"#fb9f3a\"],[0.8888888888888888,\"#fdca26\"],[1.0,\"#f0f921\"]]},\"colorway\":[\"#636efa\",\"#EF553B\",\"#00cc96\",\"#ab63fa\",\"#FFA15A\",\"#19d3f3\",\"#FF6692\",\"#B6E880\",\"#FF97FF\",\"#FECB52\"],\"font\":{\"color\":\"#2a3f5f\"},\"geo\":{\"bgcolor\":\"white\",\"lakecolor\":\"white\",\"landcolor\":\"#E5ECF6\",\"showlakes\":true,\"showland\":true,\"subunitcolor\":\"white\"},\"hoverlabel\":{\"align\":\"left\"},\"hovermode\":\"closest\",\"mapbox\":{\"style\":\"light\"},\"paper_bgcolor\":\"white\",\"plot_bgcolor\":\"#E5ECF6\",\"polar\":{\"angularaxis\":{\"gridcolor\":\"white\",\"linecolor\":\"white\",\"ticks\":\"\"},\"bgcolor\":\"#E5ECF6\",\"radialaxis\":{\"gridcolor\":\"white\",\"linecolor\":\"white\",\"ticks\":\"\"}},\"scene\":{\"xaxis\":{\"backgroundcolor\":\"#E5ECF6\",\"gridcolor\":\"white\",\"gridwidth\":2,\"linecolor\":\"white\",\"showbackground\":true,\"ticks\":\"\",\"zerolinecolor\":\"white\"},\"yaxis\":{\"backgroundcolor\":\"#E5ECF6\",\"gridcolor\":\"white\",\"gridwidth\":2,\"linecolor\":\"white\",\"showbackground\":true,\"ticks\":\"\",\"zerolinecolor\":\"white\"},\"zaxis\":{\"backgroundcolor\":\"#E5ECF6\",\"gridcolor\":\"white\",\"gridwidth\":2,\"linecolor\":\"white\",\"showbackground\":true,\"ticks\":\"\",\"zerolinecolor\":\"white\"}},\"shapedefaults\":{\"line\":{\"color\":\"#2a3f5f\"}},\"ternary\":{\"aaxis\":{\"gridcolor\":\"white\",\"linecolor\":\"white\",\"ticks\":\"\"},\"baxis\":{\"gridcolor\":\"white\",\"linecolor\":\"white\",\"ticks\":\"\"},\"bgcolor\":\"#E5ECF6\",\"caxis\":{\"gridcolor\":\"white\",\"linecolor\":\"white\",\"ticks\":\"\"}},\"title\":{\"x\":0.05},\"xaxis\":{\"automargin\":true,\"gridcolor\":\"white\",\"linecolor\":\"white\",\"ticks\":\"\",\"title\":{\"standoff\":15},\"zerolinecolor\":\"white\",\"zerolinewidth\":2},\"yaxis\":{\"automargin\":true,\"gridcolor\":\"white\",\"linecolor\":\"white\",\"ticks\":\"\",\"title\":{\"standoff\":15},\"zerolinecolor\":\"white\",\"zerolinewidth\":2}}},\"title\":{\"font\":{\"color\":\"#1b2442\",\"size\":1},\"text\":\"Most Influential Active Authors\"},\"xaxis\":{\"anchor\":\"y\",\"domain\":[0.0,1.0],\"gridcolor\":\"rgb(44, 53, 72)\",\"title\":{\"text\":\"# of Upvotes\"},\"zeroline\":false,\"zerolinecolor\":\"#e1e1e1\"},\"yaxis\":{\"anchor\":\"x\",\"categoryarray\":[\"irishdud1\",\"lookshee\",\"pittluke\",\"TrueNorthCoin\",\"bigbear0083\",\"dumbledoreRothIRA\",\"roman_axt\",\"pdwp90\",\"nobjos\",\"quantkim\"],\"categoryorder\":\"array\",\"domain\":[0.0,1.0],\"gridcolor\":\"rgb(44, 53, 72)\",\"title\":{\"text\":\"\"},\"zerolinecolor\":\"#e1e1e1\"}},                        {\"responsive\": true}                    ).then(function(){\n",
       "                            \n",
       "var gd = document.getElementById('72a3b72e-a1fa-4058-9c06-43be10ca399d');\n",
       "var x = new MutationObserver(function (mutations, observer) {{\n",
       "        var display = window.getComputedStyle(gd).display;\n",
       "        if (!display || display === 'none') {{\n",
       "            console.log([gd, 'removed!']);\n",
       "            Plotly.purge(gd);\n",
       "            observer.disconnect();\n",
       "        }}\n",
       "}});\n",
       "\n",
       "// Listen for the removal of the full notebook cells\n",
       "var notebookContainer = gd.closest('#notebook-container');\n",
       "if (notebookContainer) {{\n",
       "    x.observe(notebookContainer, {childList: true});\n",
       "}}\n",
       "\n",
       "// Listen for the clearing of the current output cell\n",
       "var outputEl = gd.closest('.output');\n",
       "if (outputEl) {{\n",
       "    x.observe(outputEl, {childList: true});\n",
       "}}\n",
       "\n",
       "                        })                };                });            </script>        </div>"
      ]
     },
     "metadata": {},
     "output_type": "display_data"
    }
   ],
   "source": [
    "fig = px.bar(\n",
    "    influencers.loc[cond1 & cond2 & cond3][:10],\n",
    "    x=\"total_upvotes\",\n",
    "    y=\"author\",\n",
    "    text=\"total_upvotes\",\n",
    "    color='author',\n",
    "    orientation='h',\n",
    "    labels={'total_upvotes': '# of Upvotes', 'author': 'Author'},\n",
    ")\n",
    "fig.update_layout(\n",
    "    make_layout(\n",
    "        title=\"Most Influential Active Authors\",\n",
    "        subtitle=\"Number of upvotes since March 9th (excluding Memes, Gains, and Losses)\",\n",
    "        legend=False,\n",
    "        source_hidden=False,\n",
    "        override={\n",
    "            \"bargap\": 0,\n",
    "            'showlegend': False,\n",
    "            'yaxis_title': '',\n",
    "            'xaxis_zeroline': False\n",
    "        },\n",
    "    )\n",
    ")\n",
    "fig.update_traces({\n",
    "    'marker_line_width': 0                 \n",
    "})\n",
    "fig.show()"
   ]
  },
  {
   "cell_type": "code",
   "execution_count": 81,
   "id": "8f3eb670",
   "metadata": {},
   "outputs": [
    {
     "data": {
      "text/plain": [
       "'https://plotly.com/~ericpgreen/1/'"
      ]
     },
     "execution_count": 81,
     "metadata": {},
     "output_type": "execute_result"
    }
   ],
   "source": [
    "py.plot(fig, filename=\"wallstreetbets_202108_influencers\")"
   ]
  },
  {
   "cell_type": "code",
   "execution_count": null,
   "id": "b6d7177d",
   "metadata": {},
   "outputs": [],
   "source": []
  }
 ],
 "metadata": {
  "kernelspec": {
   "display_name": "Python 3",
   "language": "python",
   "name": "python3"
  },
  "language_info": {
   "codemirror_mode": {
    "name": "ipython",
    "version": 3
   },
   "file_extension": ".py",
   "mimetype": "text/x-python",
   "name": "python",
   "nbconvert_exporter": "python",
   "pygments_lexer": "ipython3",
   "version": "3.8.7"
  }
 },
 "nbformat": 4,
 "nbformat_minor": 5
}
