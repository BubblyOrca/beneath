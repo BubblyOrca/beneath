{
 "cells": [
  {
   "cell_type": "code",
   "execution_count": null,
   "id": "67b7d2f9",
   "metadata": {},
   "outputs": [],
   "source": [
    "import beneath\n",
    "import plotly.express as px\n",
    "\n",
    "from config import BLACKLIST, MODERATORS\n",
    "from layout import make_layout"
   ]
  },
  {
   "cell_type": "code",
   "execution_count": null,
   "id": "b9d4cdf2",
   "metadata": {},
   "outputs": [],
   "source": [
    "# July report\n",
    "MONTH_NUMBER=7"
   ]
  },
  {
   "cell_type": "markdown",
   "id": "611bc89d",
   "metadata": {},
   "source": [
    "## Stock mentions"
   ]
  },
  {
   "cell_type": "code",
   "execution_count": null,
   "id": "df72a6cc",
   "metadata": {},
   "outputs": [],
   "source": [
    "stocks = await beneath.query_warehouse(\"\"\"\n",
    "with\n",
    "    stock_mentions_posts as (\n",
    "        select \n",
    "            symbol, \n",
    "            timestamp_trunc(timestamp, day) as day, \n",
    "            count(*) as num_mentions\n",
    "        from `examples/wallstreetbets-analytics/r-wallstreetbets-posts-stock-mentions`\n",
    "        group by symbol, timestamp_trunc(timestamp, day)\n",
    "    ),\n",
    "    stock_mentions_comments as (\n",
    "        select \n",
    "            symbol, \n",
    "            timestamp_trunc(timestamp, day) as day, \n",
    "            count(*) as num_mentions\n",
    "        from `examples/wallstreetbets-analytics/r-wallstreetbets-comments-stock-mentions`\n",
    "        group by symbol, timestamp_trunc(timestamp, day)\n",
    "    ),\n",
    "    mentions as (\n",
    "        select \n",
    "            coalesce(p.symbol, c.symbol) as symbol,\n",
    "            coalesce(p.day, c.day) as day,\n",
    "            ifnull(p.num_mentions, 0) + ifnull(c.num_mentions,0) as num_mentions\n",
    "        from stock_mentions_posts p\n",
    "        full join stock_mentions_comments c on p.symbol = c.symbol and p.day = c.day\n",
    "    )\n",
    "select m.symbol, m.day, m.num_mentions, p.close\n",
    "from mentions m\n",
    "left join `examples/wallstreetbets-analytics/stock_prices_daily` p on m.symbol = p.symbol and m.day = p.date\n",
    "order by symbol, day\n",
    "\"\"\")"
   ]
  },
  {
   "cell_type": "markdown",
   "id": "d12839b8",
   "metadata": {},
   "source": [
    "A bit of feature engineering"
   ]
  },
  {
   "cell_type": "code",
   "execution_count": null,
   "id": "93b839ce",
   "metadata": {},
   "outputs": [],
   "source": [
    "# filter out blacklist\n",
    "stocks = stocks[~stocks['symbol'].isin(BLACKLIST)]\n",
    "\n",
    "# get the fraction of all mentions in the day (important to do this after applying the blacklist)\n",
    "mentions_daily = stocks.groupby('day')['num_mentions'].sum().reset_index()\n",
    "stocks = stocks \\\n",
    "    .merge(mentions_daily, on=\"day\", suffixes=('_stock', '_total')) \\\n",
    "    .sort_values(['symbol','day'])\n",
    "stocks['fraction_of_mentions'] = stocks['num_mentions_stock'] / stocks['num_mentions_total']\n",
    "stocks['fraction_of_mentions_MA'] = stocks.groupby('symbol')['fraction_of_mentions'] \\\n",
    "                                    .transform(lambda x: x.rolling(window=7, min_periods=1).mean())\n",
    "\n",
    "# get the date of peak popularity\n",
    "symbol_peaks = stocks.loc[stocks.groupby(['symbol'])[\"fraction_of_mentions_MA\"].idxmax()][['symbol', 'day']] \\\n",
    "    .rename(columns={'day': 'date_of_peak_popularity'})\n",
    "stocks = stocks.merge(symbol_peaks, on='symbol')\n",
    "stocks['days_from_peak'] = (stocks['day'] - stocks['date_of_peak_popularity']).dt.days\n",
    "\n",
    "# keep track of the top symbols\n",
    "top_symbols_alltime_df = stocks \\\n",
    "    .groupby('symbol')['num_mentions_stock'] \\\n",
    "    .sum() \\\n",
    "    .reset_index() \\\n",
    "    .sort_values('num_mentions_stock', ascending=False)\n",
    "top_symbols_alltime = top_symbols_alltime_df['symbol'][:500]\n",
    "top_symbols_month_df = stocks.loc[stocks['day'].dt.month == MONTH_NUMBER] \\\n",
    "    .groupby('symbol')['num_mentions_stock'] \\\n",
    "    .sum() \\\n",
    "    .reset_index() \\\n",
    "    .sort_values('num_mentions_stock', ascending=False)\n",
    "top_symbols_month = top_symbols_month_df['symbol'][:100]"
   ]
  },
  {
   "cell_type": "code",
   "execution_count": null,
   "id": "c49b09ee",
   "metadata": {},
   "outputs": [],
   "source": [
    "# save top symbols\n",
    "# I'll allow these symbols to be searchable in my wsb dashboard\n",
    "top_symbols_alltime_df[:500].to_csv('/workspaces/beneath/examples/wallstreetbets-analytics/explore/data/top_symbols_alltime.csv')"
   ]
  },
  {
   "cell_type": "code",
   "execution_count": null,
   "id": "8bb004ae",
   "metadata": {},
   "outputs": [],
   "source": [
    "# assign colors to symbols used in blogpost, for consistency across graphs\n",
    "chinese_symbols = ['BABA', 'JD', 'PDD', 'TAL']\n",
    "symbols_in_blogpost = top_symbols_month[0:10].tolist() + chinese_symbols\n",
    "colors = px.colors.qualitative.Plotly\n",
    "blogpost_colors = dict(zip(symbols_in_blogpost, colors))"
   ]
  },
  {
   "cell_type": "code",
   "execution_count": null,
   "id": "6f287b28",
   "metadata": {},
   "outputs": [],
   "source": [
    "fig = px.bar(\n",
    "    top_symbols_month_df[0:10],\n",
    "    x=\"num_mentions_stock\",\n",
    "    y=\"symbol\",\n",
    "    text=\"num_mentions_stock\",\n",
    "    color='symbol',\n",
    "    color_discrete_map=blogpost_colors,\n",
    "    orientation='h',\n",
    "    labels={'num_mentions_stock': 'Mentions', 'symbol': 'Symbol'},\n",
    ")\n",
    "fig.update_layout(\n",
    "    make_layout(\n",
    "        title=\"Top 10 Most Popular Symbols in July\",\n",
    "        subtitle=\"Number of mentions in posts and comments\",\n",
    "        legend=False,\n",
    "        source_hidden=False,\n",
    "        override={\n",
    "            \"bargap\": 0,\n",
    "            'showlegend': False,\n",
    "            'yaxis_title': '',\n",
    "            'xaxis_zeroline': False\n",
    "        },\n",
    "    )\n",
    ")\n",
    "fig.update_traces({\n",
    "    'marker_line_width': 0                 \n",
    "})\n",
    "fig.show()"
   ]
  },
  {
   "cell_type": "code",
   "execution_count": null,
   "id": "1f17bdbd",
   "metadata": {},
   "outputs": [],
   "source": [
    "fig = px.line(stocks.loc[(stocks['symbol'].isin(top_symbols_month[:10])) & (stocks['day'].dt.month == MONTH_NUMBER)], \n",
    "              x=\"day\",\n",
    "              y=\"num_mentions_stock\",\n",
    "              line_group=\"symbol\",\n",
    "              color=\"symbol\",\n",
    "              color_discrete_map=blogpost_colors,\n",
    "              labels={'num_mentions_stock': 'Mentions', 'day': 'Day', 'symbol': 'Symbol'},\n",
    "             )\n",
    "fig.update_layout(\n",
    "    make_layout(\n",
    "        title=\"Stock mentions in July\",\n",
    "        subtitle=\"Number of mentions in posts and comments\",\n",
    "        source_hidden=False,\n",
    "        legend=True,\n",
    "        override={\n",
    "            'xaxis': {\n",
    "#                 'tickmode': 'array',\n",
    "#                 'tickvals': [\"2021-07-07\", \"2021-07-14\", \"2021-07-21\", \"2021-07-28\"],\n",
    "                'title': ''\n",
    "            }\n",
    "        },\n",
    "    )\n",
    ")\n",
    "fig.show()"
   ]
  },
  {
   "cell_type": "markdown",
   "id": "737d21a6",
   "metadata": {},
   "source": [
    "Relative interest in GME and AMC has declined, following their big price spikes"
   ]
  },
  {
   "cell_type": "code",
   "execution_count": null,
   "id": "9b802635",
   "metadata": {},
   "outputs": [],
   "source": [
    "symbols_to_graph = ['AMC', 'GME']\n",
    "fig = px.line(stocks[stocks['symbol'].isin(symbols_to_graph)].sort_values('day', ascending=False), \n",
    "              x=\"day\",\n",
    "              y=\"fraction_of_mentions\", \n",
    "              line_group=\"symbol\",\n",
    "              color=\"symbol\",\n",
    "              color_discrete_map=blogpost_colors,\n",
    "              labels={'day': 'Day', 'fraction_of_mentions': 'Fraction of all mentions', 'symbol': 'Symbol'},\n",
    "            )\n",
    "fig.update_layout(\n",
    "    make_layout(\n",
    "        title=\"Relative interest in GME and AMC\",\n",
    "        subtitle=\"Share of mentions across all stocks on r/wallstreetbets\",\n",
    "        source_hidden=False,\n",
    "        legend=True,\n",
    "        override={\n",
    "            'xaxis': {\n",
    "                'title': ''\n",
    "            }\n",
    "        },\n",
    "    )\n",
    ")\n",
    "fig.show()"
   ]
  },
  {
   "cell_type": "code",
   "execution_count": null,
   "id": "581820dc",
   "metadata": {},
   "outputs": [],
   "source": [
    "symbols_to_graph = ['CLOV', 'SPCE', 'WISH']\n",
    "fig = px.line(stocks[stocks['symbol'].isin(symbols_to_graph)].sort_values('day', ascending=False), \n",
    "              x=\"day\",\n",
    "              y=\"fraction_of_mentions\", \n",
    "              line_group=\"symbol\",\n",
    "              color=\"symbol\",\n",
    "              color_discrete_map=blogpost_colors,\n",
    "              labels={'day': 'Day', 'fraction_of_mentions': 'Fraction of mentions', 'symbol': 'Symbol'},\n",
    "            )\n",
    "fig.update_layout(\n",
    "    make_layout(\n",
    "        title=\"Relative interest in CLOV and SPCE has increased\",\n",
    "        subtitle=\"Share of mentions across all stocks on r/wallstreetbets\",\n",
    "        source_hidden=False,\n",
    "        legend=True,\n",
    "        override={\n",
    "            'xaxis': {\n",
    "                'title': ''\n",
    "            }\n",
    "        },\n",
    "    )\n",
    ")\n",
    "fig.show()"
   ]
  },
  {
   "cell_type": "markdown",
   "id": "fcf7665f",
   "metadata": {},
   "source": [
    "Find stocks that are peaking"
   ]
  },
  {
   "cell_type": "code",
   "execution_count": null,
   "id": "34667d87",
   "metadata": {},
   "outputs": [],
   "source": [
    "# JD, BABA, TAL, PDD\n",
    "stocks.loc[(stocks['day'] == \"2021-07-27\") & \n",
    "             (stocks['days_from_peak'] < 10) & \n",
    "             (stocks['num_mentions_stock'] > 10) ]"
   ]
  },
  {
   "cell_type": "code",
   "execution_count": null,
   "id": "c4409142",
   "metadata": {},
   "outputs": [],
   "source": [
    "blogpost_colors"
   ]
  },
  {
   "cell_type": "code",
   "execution_count": null,
   "id": "077d5b4d",
   "metadata": {},
   "outputs": [],
   "source": [
    "symbols_to_graph = ['JD', 'BABA', 'TAL', 'PDD']\n",
    "fig = px.line(stocks[(stocks['symbol'].isin(symbols_to_graph)) & (stocks['day'] >= '2021-07-01')], \n",
    "              x=\"day\",\n",
    "              y=\"fraction_of_mentions\", \n",
    "              line_group=\"symbol\",\n",
    "              color=\"symbol\",\n",
    "              color_discrete_map=blogpost_colors,\n",
    "              labels={'day': 'Day', 'fraction_of_mentions': 'Fraction of mentions', 'symbol': 'Symbol'},\n",
    "            )\n",
    "fig.update_layout(\n",
    "    make_layout(\n",
    "        title=\"Chinese stocks were buzzing at the end of July\",\n",
    "        subtitle=\"Share of mentions across all stocks on r/wallstreetbets\",\n",
    "        source_hidden=False,\n",
    "        legend=True,\n",
    "        override={\n",
    "            'xaxis': {\n",
    "                'title': ''\n",
    "            }\n",
    "        },\n",
    "    )\n",
    ")\n",
    "fig.show()"
   ]
  },
  {
   "cell_type": "code",
   "execution_count": null,
   "id": "d424b48e",
   "metadata": {},
   "outputs": [],
   "source": [
    "symbols_to_plot = top_symbols_alltime[0:10]\n",
    "fig = px.line(stocks[stocks['symbol'].isin(symbols_to_plot)].sort_values('day', ascending=False), \n",
    "              x=\"days_from_peak\", \n",
    "              y=\"num_mentions_stock\",\n",
    "              line_group=\"symbol\",\n",
    "              color=\"symbol\",\n",
    "              labels={'days_from_peak': 'Days from peak', 'num_mentions_stock': 'Mentions', 'symbol': 'Symbol'},\n",
    "             )\n",
    "fig.update_layout(\n",
    "    make_layout(\n",
    "        title=\"Days from peak\",\n",
    "        subtitle=\"...\",\n",
    "        source_hidden=False,\n",
    "        legend=True,\n",
    "        override={},\n",
    "    )\n",
    ")\n",
    "fig.show()"
   ]
  },
  {
   "cell_type": "markdown",
   "id": "fc312b40",
   "metadata": {},
   "source": [
    "## Interesting discussions"
   ]
  },
  {
   "cell_type": "code",
   "execution_count": null,
   "id": "63644297",
   "metadata": {},
   "outputs": [],
   "source": [
    "pd.set_option('max_colwidth', 100)"
   ]
  },
  {
   "cell_type": "code",
   "execution_count": null,
   "id": "4c5106ec",
   "metadata": {},
   "outputs": [],
   "source": [
    "posts = await beneath.query_warehouse(\"\"\"\n",
    "with\n",
    "    posts as (\n",
    "        select \n",
    "            created_on, \n",
    "            id, \n",
    "            author, \n",
    "            title, \n",
    "            text, \n",
    "            flair, \n",
    "            permalink,\n",
    "            length(text) as post_length,\n",
    "            array_length(regexp_extract_all(title, r\"\\\\x{1F680}\")) + array_length(regexp_extract_all(text, r\"\\\\x{1F680}\")) as num_rockets,\n",
    "            array_length(regexp_extract_all(title, r\"\\\\x{1F48E}\")) + array_length(regexp_extract_all(text, r\"\\\\x{1F48E}\")) as num_diamonds,\n",
    "        from `examples/reddit/r-wallstreetbets-posts`\n",
    "        where timestamp_trunc(created_on, month) = \"2021-07-01\"\n",
    "    ),\n",
    "    comments as (\n",
    "        select \n",
    "            created_on, \n",
    "            id, \n",
    "            post_id, \n",
    "            author, \n",
    "            text,\n",
    "            length(text) as comment_length,\n",
    "            array_length(regexp_extract_all(c.text, r\"\\\\x{1F680}\")) as num_rockets,\n",
    "            array_length(regexp_extract_all(c.text, r\"\\\\x{1F48E}\")) as num_diamonds,\n",
    "        from `examples/reddit/r-wallstreetbets-comments` c\n",
    "        where timestamp_trunc(created_on, month) = \"2021-07-01\"\n",
    "    )\n",
    "select \n",
    "    p.created_on, \n",
    "    p.title, \n",
    "    p.text, \n",
    "    p.author, \n",
    "    p.flair, \n",
    "    p.permalink,\n",
    "    p.post_length,\n",
    "    count(c.id) as num_comments,\n",
    "    sum(c.comment_length) as sum_comments_length, \n",
    "    sum(c.comment_length)/count(c.id) as avg_comment_length,\n",
    "    p.num_rockets + sum(c.num_rockets) as num_rockets,\n",
    "    p.num_diamonds + sum(c.num_diamonds) as num_diamonds,\n",
    "    count(distinct c.author) as nunique_commenters,\n",
    "from posts p\n",
    "join comments c on p.id = c.post_id\n",
    "group by p.created_on, p.title, p.text, p.author, p.flair, p.permalink, p.post_length, p.num_rockets, p.num_diamonds\n",
    "\"\"\")"
   ]
  },
  {
   "cell_type": "markdown",
   "id": "ce0bb825",
   "metadata": {},
   "source": [
    "Exclude moderators"
   ]
  },
  {
   "cell_type": "code",
   "execution_count": null,
   "id": "81d12354",
   "metadata": {},
   "outputs": [],
   "source": [
    "posts_no_mods = posts.loc[[author not in MODERATORS for author in posts['author']]]"
   ]
  },
  {
   "cell_type": "markdown",
   "id": "7db63fbc",
   "metadata": {},
   "source": [
    "Post with most comments"
   ]
  },
  {
   "cell_type": "code",
   "execution_count": null,
   "id": "9f541390",
   "metadata": {},
   "outputs": [],
   "source": [
    "posts_no_mods.sort_values('num_comments', ascending=False).head(3)"
   ]
  },
  {
   "cell_type": "markdown",
   "id": "9a14f1fe",
   "metadata": {},
   "source": [
    "Longest discussion"
   ]
  },
  {
   "cell_type": "code",
   "execution_count": null,
   "id": "de673c53",
   "metadata": {},
   "outputs": [],
   "source": [
    "posts_no_mods.sort_values('sum_comments_length', ascending=False).head(3)"
   ]
  },
  {
   "cell_type": "markdown",
   "id": "16b4b502",
   "metadata": {},
   "source": [
    "Post with the highest avg comment length (at least 5 comments)"
   ]
  },
  {
   "cell_type": "code",
   "execution_count": null,
   "id": "09cd9af0",
   "metadata": {},
   "outputs": [],
   "source": [
    "posts_no_mods[posts_no_mods['num_comments'] >= 15].sort_values('avg_comment_length', ascending=False).head(3)"
   ]
  },
  {
   "cell_type": "markdown",
   "id": "1351d122",
   "metadata": {},
   "source": [
    "Post with the most rockets (including comments)"
   ]
  },
  {
   "cell_type": "code",
   "execution_count": null,
   "id": "b13fc0e6",
   "metadata": {},
   "outputs": [],
   "source": [
    "posts_no_mods.sort_values('num_rockets', ascending=False).head(3)"
   ]
  },
  {
   "cell_type": "markdown",
   "id": "9a35ff6e",
   "metadata": {},
   "source": [
    "Post with the most diamonds (including comments)"
   ]
  },
  {
   "cell_type": "code",
   "execution_count": null,
   "id": "9e66b799",
   "metadata": {},
   "outputs": [],
   "source": [
    "posts_no_mods.sort_values('num_diamonds', ascending=False).head(3)"
   ]
  },
  {
   "cell_type": "markdown",
   "id": "52376129",
   "metadata": {},
   "source": [
    "## Degenerate shoutouts"
   ]
  },
  {
   "cell_type": "code",
   "execution_count": null,
   "id": "339e8c22",
   "metadata": {},
   "outputs": [],
   "source": [
    "authors = await beneath.query_warehouse(\"\"\"\n",
    "with\n",
    "    posts_enhanced as (\n",
    "        select *,\n",
    "            array_length(split(title, \" \")) as num_words_title,\n",
    "            array_length(split(text, \" \")) as num_words_body,\n",
    "            array_length(regexp_extract_all(title, r\"\\\\x{1F680}\")) as num_rockets_title,\n",
    "            array_length(regexp_extract_all(text, r\"\\\\x{1F680}\")) as num_rockets_body,\n",
    "            array_length(regexp_extract_all(title, r\"\\\\x{1F48E}\")) as num_diamonds_title,\n",
    "            array_length(regexp_extract_all(text, r\"\\\\x{1F48E}\")) as num_diamonds_body\n",
    "        from `examples/reddit/r-wallstreetbets-posts`\n",
    "        where timestamp_trunc(created_on, month) = \"2021-07-01\"\n",
    "    ),\n",
    "    comments_enhanced as (\n",
    "        select *,\n",
    "            array_length(split(text, \" \")) as num_words,\n",
    "            array_length(regexp_extract_all(text, r\"\\\\x{1F680}\")) as num_rockets,\n",
    "            array_length(regexp_extract_all(text, r\"\\\\x{1F48E}\")) as num_diamonds\n",
    "        from `examples/reddit/r-wallstreetbets-comments`\n",
    "        where timestamp_trunc(created_on, month) = \"2021-07-01\"\n",
    "    ),\n",
    "    author_posts_stats as (\n",
    "        select \n",
    "            author, \n",
    "            count(*) as num_posts,\n",
    "            sum(num_words_title) + sum(num_words_body) as num_words,\n",
    "            sum(num_rockets_title) + sum(num_rockets_body) as num_rockets,\n",
    "            sum(num_diamonds_title) + sum(num_diamonds_body) as num_diamonds,\n",
    "        from posts_enhanced\n",
    "        group by author\n",
    "    ),\n",
    "    author_comments_stats as (\n",
    "        select\n",
    "            author,\n",
    "            count(*) as num_comments,\n",
    "            sum(num_words) as num_words,\n",
    "            sum(num_rockets) as num_rockets,\n",
    "            sum(num_diamonds) as num_diamonds\n",
    "        from comments_enhanced\n",
    "        group by author\n",
    "    )\n",
    "select \n",
    "    coalesce(p.author, c.author) as author,\n",
    "    ifnull(p.num_posts, 0) as num_posts,\n",
    "    ifnull(c.num_comments, 0) as num_comments,\n",
    "    ifnull(p.num_words, 0) + ifnull(c.num_words, 0) as num_words,\n",
    "    ifnull(p.num_rockets, 0) + ifnull(c.num_rockets, 0) as num_rockets,\n",
    "    ifnull(p.num_diamonds, 0) + ifnull(c.num_diamonds, 0) as num_diamonds,\n",
    "from author_posts_stats p\n",
    "full join author_comments_stats c on p.author = c.author\n",
    "\"\"\")"
   ]
  },
  {
   "cell_type": "code",
   "execution_count": null,
   "id": "a6439819",
   "metadata": {},
   "outputs": [],
   "source": [
    "authors_no_mods = authors.loc[[author not in MODERATORS for author in authors['author']]]"
   ]
  },
  {
   "cell_type": "markdown",
   "id": "87927e8d",
   "metadata": {},
   "source": [
    "Author with the most posts"
   ]
  },
  {
   "cell_type": "code",
   "execution_count": null,
   "id": "d9e7551b",
   "metadata": {},
   "outputs": [],
   "source": [
    "authors_no_mods.sort_values('num_posts', ascending=False).head(3)"
   ]
  },
  {
   "cell_type": "markdown",
   "id": "1532fabb",
   "metadata": {},
   "source": [
    "Author with the most comments"
   ]
  },
  {
   "cell_type": "code",
   "execution_count": null,
   "id": "5da8edb1",
   "metadata": {},
   "outputs": [],
   "source": [
    "authors_no_mods.sort_values('num_comments', ascending=False).head(3)"
   ]
  },
  {
   "cell_type": "markdown",
   "id": "78cbb374",
   "metadata": {},
   "source": [
    "Author who wrote the most words"
   ]
  },
  {
   "cell_type": "code",
   "execution_count": null,
   "id": "5a85fb21",
   "metadata": {},
   "outputs": [],
   "source": [
    "authors_no_mods.sort_values('num_words', ascending=False).head(3)"
   ]
  },
  {
   "cell_type": "markdown",
   "id": "ecd1b441",
   "metadata": {},
   "source": [
    "Author who posted the most rockets"
   ]
  },
  {
   "cell_type": "code",
   "execution_count": null,
   "id": "9b28b8fe",
   "metadata": {},
   "outputs": [],
   "source": [
    "authors_no_mods.sort_values('num_rockets', ascending=False).head(3)"
   ]
  },
  {
   "cell_type": "markdown",
   "id": "e0152c8d",
   "metadata": {},
   "source": [
    "Author who posted the most diamonds"
   ]
  },
  {
   "cell_type": "code",
   "execution_count": null,
   "id": "05722790",
   "metadata": {},
   "outputs": [],
   "source": [
    "authors_no_mods.sort_values('num_diamonds', ascending=False).head(3)"
   ]
  }
 ],
 "metadata": {
  "kernelspec": {
   "display_name": "Python 3",
   "language": "python",
   "name": "python3"
  },
  "language_info": {
   "codemirror_mode": {
    "name": "ipython",
    "version": 3
   },
   "file_extension": ".py",
   "mimetype": "text/x-python",
   "name": "python",
   "nbconvert_exporter": "python",
   "pygments_lexer": "ipython3",
   "version": "3.8.7"
  }
 },
 "nbformat": 4,
 "nbformat_minor": 5
}
