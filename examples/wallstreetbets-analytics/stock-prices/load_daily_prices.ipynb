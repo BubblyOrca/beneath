{
 "cells": [
  {
   "cell_type": "markdown",
   "metadata": {},
   "source": [
    "It's a real pain to find historical stock prices these days. Both Google Finance and Yahoo Finance have decommissioned their APIs. The following is a dumb approach via the NASDAQ website. \n",
    "\n",
    "Go to https://www.nasdaq.com/market-activity/stocks/screener, enter a stock symbol, go to 'Historical Quotes', select 'YTD', then download the CSV file to a local directory. Prefix the filename with the stock symbol, e.g. \"AAPL_HistoricalData_1627476057029\". Do this for every stock of interest.\n",
    "\n",
    "Then, you're ready to run the following code to load the data into Beneath."
   ]
  },
  {
   "cell_type": "code",
   "execution_count": 1,
   "metadata": {
    "cell_id": "00000-19fb5a92-cc34-456e-b3a1-86919341d821",
    "deepnote_cell_type": "code",
    "deepnote_to_be_reexecuted": false,
    "execution_millis": 151,
    "execution_start": 1624284595311,
    "source_hash": "197bf27c",
    "tags": []
   },
   "outputs": [],
   "source": [
    "import beneath\n",
    "import pandas as pd\n",
    "import numpy as np\n",
    "import glob\n",
    "from datetime import datetime"
   ]
  },
  {
   "cell_type": "code",
   "execution_count": 2,
   "metadata": {},
   "outputs": [],
   "source": [
    "all_files = glob.glob(\"data/*.csv\")\n",
    "li = []\n",
    "for filename in all_files:\n",
    "    df = pd.read_csv(filename, index_col=None, header=0)\n",
    "    df['symbol'] = filename.split('/')[1].split('_')[0]\n",
    "    li.append(df)\n",
    "\n",
    "prices = pd.concat(li, axis=0, ignore_index=True)\n",
    "prices = prices.rename(columns={'Date': 'date', 'Close/Last': 'close'})\n",
    "prices['date'] = prices['date'].apply(lambda s: datetime.strptime(s, \"%m/%d/%Y\"))\n",
    "prices = prices[['symbol', 'date', 'close']]"
   ]
  },
  {
   "cell_type": "code",
   "execution_count": 3,
   "metadata": {
    "cell_id": "00005-f51983fd-9eb8-4f29-882f-0d365a4b5b00",
    "deepnote_cell_type": "code",
    "deepnote_to_be_reexecuted": false,
    "execution_millis": 1479,
    "execution_start": 1624285686169,
    "source_hash": "2f85f526",
    "tags": []
   },
   "outputs": [
    {
     "name": "stdout",
     "output_type": "stream",
     "text": [
      "INFO:beneath:Flushed 1987 records to 1 instances (1987 total during session)\n"
     ]
    }
   ],
   "source": [
    "await beneath.write_full(\n",
    "    \"examples/wallstreetbets-analytics/stock_prices_daily\",\n",
    "    prices,\n",
    "    key=[\"symbol\", \"date\"],\n",
    "    description=\"Daily stock prices for select symbols. Pulled from the NASDAQ Stock Screener on July 28th, 2021.\",\n",
    "    recreate_on_schema_change=True,\n",
    ")"
   ]
  },
  {
   "cell_type": "code",
   "execution_count": null,
   "metadata": {},
   "outputs": [],
   "source": []
  }
 ],
 "metadata": {
  "deepnote": {},
  "deepnote_execution_queue": [],
  "deepnote_notebook_id": "c3fa02f1-7b53-4741-8af7-d1be97f3ae7e",
  "kernelspec": {
   "display_name": "Python 3 (ipykernel)",
   "language": "python",
   "name": "python3"
  },
  "language_info": {
   "codemirror_mode": {
    "name": "ipython",
    "version": 3
   },
   "file_extension": ".py",
   "mimetype": "text/x-python",
   "name": "python",
   "nbconvert_exporter": "python",
   "pygments_lexer": "ipython3",
   "version": "3.8.7"
  }
 },
 "nbformat": 4,
 "nbformat_minor": 2
}
