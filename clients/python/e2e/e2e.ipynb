{
 "cells": [
  {
   "cell_type": "markdown",
   "metadata": {},
   "source": [
    "# End-To-End Python Client Example\n",
    "\n",
    "This notebook creates a project named `test`, creates a dummy stream, and writes and reads to it."
   ]
  },
  {
   "cell_type": "code",
   "execution_count": null,
   "metadata": {
    "tags": []
   },
   "outputs": [],
   "source": [
    "%load_ext autoreload\n",
    "%autoreload 2\n",
    "import asyncio\n",
    "import beneath\n",
    "import sys\n",
    "import secrets\n",
    "import time"
   ]
  },
  {
   "cell_type": "markdown",
   "metadata": {},
   "source": [
    "Create a client (assumes you have already authenticated with `beneath auth SECRET` on the command-line)"
   ]
  },
  {
   "cell_type": "code",
   "execution_count": null,
   "metadata": {
    "scrolled": true
   },
   "outputs": [],
   "source": [
    "client = beneath.Client(write_delay_ms=100)\n",
    "await client.start()"
   ]
  },
  {
   "cell_type": "markdown",
   "metadata": {},
   "source": [
    "Get user and organization info"
   ]
  },
  {
   "cell_type": "code",
   "execution_count": null,
   "metadata": {
    "scrolled": false
   },
   "outputs": [],
   "source": [
    "me = await client.admin.organizations.find_me()\n",
    "organization_name = me[\"name\"]\n",
    "organization_id = me[\"organizationID\"]"
   ]
  },
  {
   "cell_type": "markdown",
   "metadata": {},
   "source": [
    "Get or create test project"
   ]
  },
  {
   "cell_type": "code",
   "execution_count": null,
   "metadata": {},
   "outputs": [],
   "source": [
    "project_name = \"test\"\n",
    "project = await client.admin.projects.create(organization_id=organization_id, project_name=project_name)"
   ]
  },
  {
   "cell_type": "markdown",
   "metadata": {},
   "source": [
    "Create test stream"
   ]
  },
  {
   "cell_type": "code",
   "execution_count": null,
   "metadata": {},
   "outputs": [],
   "source": [
    "stream_path = f\"{organization_name}/{project_name}/dummies\"\n",
    "schema = \"\"\"\n",
    "type Dummmy @schema {\n",
    "    a: String! @key\n",
    "    b: Int!\n",
    "    c: Int\n",
    "    d: Bytes16\n",
    "}\n",
    "\"\"\""
   ]
  },
  {
   "cell_type": "code",
   "execution_count": null,
   "metadata": {},
   "outputs": [],
   "source": [
    "stream = await client.create_stream(\n",
    "    stream_path=stream_path,\n",
    "    schema=schema,\n",
    "    update_if_exists=True,\n",
    ")\n",
    "instance = stream.primary_instance"
   ]
  },
  {
   "cell_type": "markdown",
   "metadata": {},
   "source": [
    "Create function for generating random records for the stream"
   ]
  },
  {
   "cell_type": "code",
   "execution_count": null,
   "metadata": {},
   "outputs": [],
   "source": [
    "def generate_record():\n",
    "    return {\n",
    "        \"a\": secrets.token_urlsafe(30),\n",
    "        \"b\": secrets.randbelow(sys.maxsize),\n",
    "        \"c\": None,\n",
    "        \"d\": secrets.token_bytes(16),   \n",
    "    }"
   ]
  },
  {
   "cell_type": "markdown",
   "metadata": {},
   "source": [
    "Write records to the stream"
   ]
  },
  {
   "cell_type": "code",
   "execution_count": null,
   "metadata": {
    "scrolled": false
   },
   "outputs": [],
   "source": [
    "n = 1000\n",
    "for _ in range(n):\n",
    "    record = generate_record()\n",
    "    await instance.write(record)\n",
    "\n",
    "await client.force_flush()"
   ]
  },
  {
   "cell_type": "markdown",
   "metadata": {},
   "source": [
    "Write records forever"
   ]
  },
  {
   "cell_type": "code",
   "execution_count": null,
   "metadata": {},
   "outputs": [],
   "source": [
    "delay_seconds = 2\n",
    "while True:\n",
    "    record = generate_record()\n",
    "    await instance.write(record)\n",
    "    await asyncio.sleep(delay_seconds)"
   ]
  },
  {
   "cell_type": "markdown",
   "metadata": {},
   "source": [
    "Read all records really easily"
   ]
  },
  {
   "cell_type": "code",
   "execution_count": null,
   "metadata": {},
   "outputs": [],
   "source": [
    "df = await beneath.easy_read(stream_path)\n",
    "df"
   ]
  },
  {
   "cell_type": "markdown",
   "metadata": {},
   "source": [
    "Read some records with lower-level APIs"
   ]
  },
  {
   "cell_type": "code",
   "execution_count": null,
   "metadata": {},
   "outputs": [],
   "source": [
    "cursor = await instance.query_index()\n",
    "df = await cursor.read_next(to_dataframe=True)\n",
    "df"
   ]
  },
  {
   "cell_type": "markdown",
   "metadata": {},
   "source": [
    "Read all the records with lower-level APIs"
   ]
  },
  {
   "cell_type": "code",
   "execution_count": null,
   "metadata": {
    "scrolled": false
   },
   "outputs": [],
   "source": [
    "cursor = await instance.query_index()\n",
    "df = await cursor.read_all(to_dataframe=True)\n",
    "df"
   ]
  },
  {
   "cell_type": "markdown",
   "metadata": {},
   "source": [
    "Peek at the latest writes"
   ]
  },
  {
   "cell_type": "code",
   "execution_count": null,
   "metadata": {
    "scrolled": true
   },
   "outputs": [],
   "source": [
    "cursor = await instance.query_log(peek=True)\n",
    "df = await cursor.read_next(to_dataframe=True)\n",
    "df"
   ]
  },
  {
   "cell_type": "markdown",
   "metadata": {},
   "source": [
    "Write some more and fetch the changes"
   ]
  },
  {
   "cell_type": "code",
   "execution_count": null,
   "metadata": {
    "scrolled": false
   },
   "outputs": [],
   "source": [
    "cursor = await instance.query_log()\n",
    "\n",
    "n = 25\n",
    "await instance.write([generate_record() for _ in range(n)])\n",
    "await client.force_flush()\n",
    "await asyncio.sleep(2)\n",
    "\n",
    "df = await cursor.read_next_changes(to_dataframe=True)\n",
    "df"
   ]
  },
  {
   "cell_type": "markdown",
   "metadata": {},
   "source": [
    "Helper to write records in the background for next demos"
   ]
  },
  {
   "cell_type": "code",
   "execution_count": null,
   "metadata": {},
   "outputs": [],
   "source": [
    "async def write_forever():\n",
    "    n = 10\n",
    "    sleep = 1\n",
    "    while True:\n",
    "        records = (generate_record() for _ in range(n))\n",
    "        await instance.write(records)\n",
    "        print(f\"Wrote {n} records\")\n",
    "        await asyncio.sleep(sleep)"
   ]
  },
  {
   "cell_type": "markdown",
   "metadata": {},
   "source": [
    "Write and subscribe to changes with a callback"
   ]
  },
  {
   "cell_type": "code",
   "execution_count": null,
   "metadata": {
    "scrolled": false
   },
   "outputs": [],
   "source": [
    "async def subscribe_forever_callback():\n",
    "    async def cb(records, cursor):\n",
    "        print(f\"Received {len(records)} records – Sample: {records[0]['a']}\")\n",
    "    cursor = await instance.query_log()\n",
    "    await cursor.subscribe_changes_with_callback(callback=cb, poll_at_most_every_ms=100)\n",
    "\n",
    "task = asyncio.create_task(write_forever())\n",
    "try:\n",
    "    await subscribe_forever_callback()\n",
    "finally:\n",
    "    task.cancel()"
   ]
  },
  {
   "cell_type": "markdown",
   "metadata": {},
   "source": [
    "Write and subscribe to changes with async iterator"
   ]
  },
  {
   "cell_type": "code",
   "execution_count": null,
   "metadata": {},
   "outputs": [],
   "source": [
    "async def subscribe_forever():\n",
    "    cursor = await instance.query_log()\n",
    "    iterator = cursor.subscribe_changes(poll_at_most_every_ms=100)\n",
    "    async for records in iterator:\n",
    "        print(f\"Received {len(records)} records – Sample: {records[0]['a']}\")\n",
    "\n",
    "task = asyncio.create_task(write_forever())\n",
    "try:\n",
    "    await subscribe_forever()\n",
    "finally:\n",
    "    task.cancel()"
   ]
  },
  {
   "cell_type": "markdown",
   "metadata": {},
   "source": [
    "Consume forever"
   ]
  },
  {
   "cell_type": "code",
   "execution_count": null,
   "metadata": {},
   "outputs": [],
   "source": [
    "async def consume_forever():\n",
    "    i = 0\n",
    "    def count(record):\n",
    "        nonlocal i\n",
    "        i += 1\n",
    "        if i % 10 == 0:\n",
    "            print(f\"Consumed {i} records\")\n",
    "    \n",
    "    consumer = await client.consumer(stream_path)\n",
    "    await consumer.subscribe(count, changes_only=True)\n",
    "\n",
    "task = asyncio.create_task(write_forever())\n",
    "try:\n",
    "    await consume_forever()\n",
    "finally:\n",
    "    task.cancel()"
   ]
  },
  {
   "cell_type": "markdown",
   "metadata": {},
   "source": [
    "Checkpointed consumer"
   ]
  },
  {
   "cell_type": "code",
   "execution_count": null,
   "metadata": {},
   "outputs": [],
   "source": [
    "subscription_path = f\"{organization_name}/{project_name}/test-sub\"\n",
    "consumer = await client.consumer(stream_path, subscription_path=subscription_path, batch_size=10)\n",
    "await consumer.reset()\n",
    "\n",
    "i = 0\n",
    "async def cb(record):\n",
    "    global i\n",
    "    i += 1\n",
    "    print(f\"{i}: {consumer.cursor.replay_cursor}\")\n",
    "    await asyncio.sleep(2)\n",
    "\n",
    "await consumer.replay(cb)"
   ]
  },
  {
   "cell_type": "markdown",
   "metadata": {},
   "source": [
    "Delta and changes only consumer"
   ]
  },
  {
   "cell_type": "code",
   "execution_count": null,
   "metadata": {},
   "outputs": [],
   "source": [
    "def cb(record):\n",
    "    print(record)\n",
    "\n",
    "consumer = await client.consumer(stream_path)\n",
    "\n",
    "await consumer.subscribe(cb, changes_only=True, stop_when_idle=True)\n",
    "# expecting nothing\n",
    "\n",
    "await instance.write(generate_record())\n",
    "await asyncio.sleep(2)\n",
    "await consumer.subscribe(cb, changes_only=True, stop_when_idle=True)\n",
    "# expecting one record\n",
    "\n",
    "await instance.write([generate_record() for _ in range(5)])\n",
    "await asyncio.sleep(2)\n",
    "await consumer.subscribe(cb, changes_only=True, stop_when_idle=True)\n",
    "# expecting five records"
   ]
  },
  {
   "cell_type": "markdown",
   "metadata": {},
   "source": [
    "### Pipelines"
   ]
  },
  {
   "cell_type": "markdown",
   "metadata": {},
   "source": [
    "Prepare pipeline parameters"
   ]
  },
  {
   "cell_type": "code",
   "execution_count": null,
   "metadata": {},
   "outputs": [],
   "source": [
    "version = 0\n",
    "\n",
    "generating_service = f\"{organization_name}/{project_name}/generator\"\n",
    "generated_stream = f\"{organization_name}/{project_name}/generated\"\n",
    "generated_schema = \"\"\"\n",
    "type Generated @schema {\n",
    "    a: Int! @key\n",
    "    b: String\n",
    "}\n",
    "\"\"\"\n",
    "\n",
    "processing_service = f\"{organization_name}/{project_name}/processor\"\n",
    "processed_stream = f\"{organization_name}/{project_name}/processed\"\n",
    "processed_schema = \"\"\"\n",
    "type Processed @schema {\n",
    "    a: Int! @key\n",
    "    b: String\n",
    "    double_a: Int!\n",
    "}\n",
    "\"\"\""
   ]
  },
  {
   "cell_type": "markdown",
   "metadata": {},
   "source": [
    "Run generating pipeline forever (until interrupt)"
   ]
  },
  {
   "cell_type": "code",
   "execution_count": null,
   "metadata": {},
   "outputs": [],
   "source": [
    "try:\n",
    "    stream = await client.find_stream(stream_path=generated_stream)\n",
    "except Exception as e:\n",
    "    ex = e"
   ]
  },
  {
   "cell_type": "code",
   "execution_count": null,
   "metadata": {
    "scrolled": false,
    "tags": []
   },
   "outputs": [],
   "source": [
    "p = beneath.Pipeline(\n",
    "    action=\"run\",\n",
    "    strategy=\"batch\",\n",
    "    version=15,\n",
    "    service_path=generating_service,\n",
    ")\n",
    "\n",
    "async def generate(p):\n",
    "    i = await p.checkpoints.get(\"i\", default=0)\n",
    "    p.logger.info(\"Starting generate at i=%i\", i)\n",
    "    while True:\n",
    "        yield { \"a\": i, \"b\": secrets.token_urlsafe(10) }\n",
    "        i += 1\n",
    "        await p.checkpoints.set(\"i\", i)\n",
    "        if i >= 100:\n",
    "            yield beneath.PIPELINE_IDLE\n",
    "            await asyncio.sleep(1)\n",
    "\n",
    "generated = p.generate(generate)\n",
    "p.write_stream(generated, stream_path=generated_stream, schema=generated_schema)\n",
    "\n",
    "await p.run()"
   ]
  },
  {
   "cell_type": "markdown",
   "metadata": {},
   "source": [
    "Delta process the generated rows to processed"
   ]
  },
  {
   "cell_type": "code",
   "execution_count": null,
   "metadata": {
    "tags": []
   },
   "outputs": [],
   "source": [
    "p = beneath.Pipeline(\n",
    "    action=\"run\",\n",
    "    strategy=\"delta\",\n",
    "    version=version,\n",
    "    service_path=processing_service,\n",
    ")\n",
    "\n",
    "async def process(record):\n",
    "    if record[\"a\"] % 2 == 0:\n",
    "        return {\n",
    "            \"a\": record[\"a\"],\n",
    "            \"b\": record[\"b\"],\n",
    "            \"double_a\": record[\"a\"] * 2,\n",
    "        }\n",
    "\n",
    "generated = p.read_stream(generated_stream)\n",
    "processed = p.apply(generated, process)\n",
    "p.write_stream(processed, stream_path=processed_stream, schema=processed_schema)\n",
    "\n",
    "await p.run()"
   ]
  },
  {
   "cell_type": "code",
   "execution_count": null,
   "metadata": {},
   "outputs": [],
   "source": []
  }
 ],
 "metadata": {
  "kernelspec": {
   "display_name": "Python 3",
   "language": "python",
   "name": "python3"
  },
  "language_info": {
   "codemirror_mode": {
    "name": "ipython",
    "version": 3
   },
   "file_extension": ".py",
   "mimetype": "text/x-python",
   "name": "python",
   "nbconvert_exporter": "python",
   "pygments_lexer": "ipython3",
   "version": "3.8.5"
  }
 },
 "nbformat": 4,
 "nbformat_minor": 2
}
