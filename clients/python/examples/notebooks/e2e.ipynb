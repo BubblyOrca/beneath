{
 "cells": [
  {
   "cell_type": "markdown",
   "metadata": {},
   "source": [
    "# End-To-End Python Client Example\n",
    "\n",
    "This notebook creates a project named `test`, creates a dummy stream, and writes and reads to it."
   ]
  },
  {
   "cell_type": "code",
   "execution_count": null,
   "metadata": {},
   "outputs": [],
   "source": [
    "%load_ext autoreload\n",
    "%autoreload 2\n",
    "import asyncio\n",
    "import beneath\n",
    "import sys\n",
    "import secrets"
   ]
  },
  {
   "cell_type": "markdown",
   "metadata": {},
   "source": [
    "Create a client (assumes you have already authenticated with `beneath auth SECRET` on the command-line)"
   ]
  },
  {
   "cell_type": "code",
   "execution_count": null,
   "metadata": {},
   "outputs": [],
   "source": [
    "client = beneath.Client()"
   ]
  },
  {
   "cell_type": "markdown",
   "metadata": {},
   "source": [
    "Get user and organization info"
   ]
  },
  {
   "cell_type": "code",
   "execution_count": null,
   "metadata": {
    "scrolled": false
   },
   "outputs": [],
   "source": [
    "me = await client.admin.organizations.find_me()\n",
    "organization_name = me[\"name\"]\n",
    "organization_id = me[\"organizationID\"]"
   ]
  },
  {
   "cell_type": "markdown",
   "metadata": {},
   "source": [
    "Get or create test project"
   ]
  },
  {
   "cell_type": "code",
   "execution_count": null,
   "metadata": {},
   "outputs": [],
   "source": [
    "project_name = \"test\"\n",
    "project = await client.admin.projects.stage(organization_name=organization_name, project_name=project_name)"
   ]
  },
  {
   "cell_type": "markdown",
   "metadata": {},
   "source": [
    "Create test stream"
   ]
  },
  {
   "cell_type": "code",
   "execution_count": null,
   "metadata": {},
   "outputs": [],
   "source": [
    "stream_path = f\"{organization_name}/{project_name}/dummies\""
   ]
  },
  {
   "cell_type": "code",
   "execution_count": null,
   "metadata": {},
   "outputs": [],
   "source": [
    "stream = await client.stage_stream(\n",
    "    stream_path=stream_path,\n",
    "    schema=\"\"\"\n",
    "        type Dummmy @stream() @key(fields: \"a\") {\n",
    "            a: String!\n",
    "            b: Int!\n",
    "            c: Int\n",
    "            d: Bytes16\n",
    "        }\n",
    "    \"\"\",\n",
    ")"
   ]
  },
  {
   "cell_type": "code",
   "execution_count": null,
   "metadata": {},
   "outputs": [],
   "source": [
    "instance = await stream.stage_instance(version=0, make_primary=True)"
   ]
  },
  {
   "cell_type": "markdown",
   "metadata": {},
   "source": [
    "Create function for generating random records for the stream"
   ]
  },
  {
   "cell_type": "code",
   "execution_count": null,
   "metadata": {},
   "outputs": [],
   "source": [
    "def generate_record():\n",
    "    return {\n",
    "        \"a\": secrets.token_urlsafe(30),\n",
    "        \"b\": secrets.randbelow(sys.maxsize),\n",
    "        \"c\": None,\n",
    "        \"d\": secrets.token_bytes(16),   \n",
    "    }"
   ]
  },
  {
   "cell_type": "markdown",
   "metadata": {},
   "source": [
    "Write records to the stream"
   ]
  },
  {
   "cell_type": "code",
   "execution_count": null,
   "metadata": {},
   "outputs": [],
   "source": [
    "async with instance.writer() as w:\n",
    "    n = 1000\n",
    "    records = [generate_record() for _ in range(n)]\n",
    "    await w.write(records)"
   ]
  },
  {
   "cell_type": "markdown",
   "metadata": {},
   "source": [
    "Write records forever"
   ]
  },
  {
   "cell_type": "code",
   "execution_count": null,
   "metadata": {},
   "outputs": [],
   "source": [
    "async with instance.writer() as w:\n",
    "    delay_seconds = 2\n",
    "    while True:\n",
    "        record = generate_record()\n",
    "        await w.write(record)\n",
    "        await asyncio.sleep(delay_seconds)"
   ]
  },
  {
   "cell_type": "markdown",
   "metadata": {},
   "source": [
    "Read all records really easily"
   ]
  },
  {
   "cell_type": "code",
   "execution_count": null,
   "metadata": {},
   "outputs": [],
   "source": [
    "df = await beneath.easy_read(stream_path)\n",
    "df"
   ]
  },
  {
   "cell_type": "markdown",
   "metadata": {},
   "source": [
    "Read some records with lower-level APIs"
   ]
  },
  {
   "cell_type": "code",
   "execution_count": null,
   "metadata": {},
   "outputs": [],
   "source": [
    "cursor = await instance.query_index()\n",
    "df = await cursor.read_next(to_dataframe=True)\n",
    "df"
   ]
  },
  {
   "cell_type": "markdown",
   "metadata": {},
   "source": [
    "Read all the records with lower-level APIs"
   ]
  },
  {
   "cell_type": "code",
   "execution_count": null,
   "metadata": {
    "scrolled": false
   },
   "outputs": [],
   "source": [
    "cursor = await instance.query_index()\n",
    "df = await cursor.read_all(to_dataframe=True)\n",
    "df"
   ]
  },
  {
   "cell_type": "markdown",
   "metadata": {},
   "source": [
    "Peek at the latest writes"
   ]
  },
  {
   "cell_type": "code",
   "execution_count": null,
   "metadata": {
    "scrolled": true
   },
   "outputs": [],
   "source": [
    "cursor = await instance.query_log(peek=True)\n",
    "df = await cursor.read_next(to_dataframe=True)\n",
    "df"
   ]
  },
  {
   "cell_type": "markdown",
   "metadata": {},
   "source": [
    "Write some more and fetch the changes"
   ]
  },
  {
   "cell_type": "code",
   "execution_count": null,
   "metadata": {
    "scrolled": false
   },
   "outputs": [],
   "source": [
    "cursor = await instance.query_log()\n",
    "\n",
    "n = 25\n",
    "records = [generate_record() for _ in range(n)]\n",
    "async with instance.writer() as w:\n",
    "    await w.write(records)\n",
    "    await asyncio.sleep(2)\n",
    "\n",
    "df = await cursor.read_next_changes(to_dataframe=True)\n",
    "df"
   ]
  },
  {
   "cell_type": "markdown",
   "metadata": {},
   "source": [
    "Helper to write records in the background for next demos"
   ]
  },
  {
   "cell_type": "code",
   "execution_count": null,
   "metadata": {},
   "outputs": [],
   "source": [
    "async def write_forever():\n",
    "    n = 2000\n",
    "    sleep = 1\n",
    "    async with instance.writer(write_delay_ms=100) as w:\n",
    "        while True:\n",
    "            records = (generate_record() for _ in range(n))\n",
    "            await w.write(records)\n",
    "            print(f\"Wrote {n} records\")\n",
    "            await asyncio.sleep(sleep)"
   ]
  },
  {
   "cell_type": "markdown",
   "metadata": {},
   "source": [
    "Write and subscribe to changes with a callback"
   ]
  },
  {
   "cell_type": "code",
   "execution_count": null,
   "metadata": {
    "scrolled": false
   },
   "outputs": [],
   "source": [
    "async def subscribe_forever():\n",
    "    async def cb(records, cursor):\n",
    "        print(f\"Received {len(records)} records – Sample: {records[0]['a']}\")\n",
    "    cursor = await instance.query_log()\n",
    "    await cursor.subscribe_changes(callback=cb, poll_at_most_every_ms=100)\n",
    "\n",
    "task = asyncio.create_task(write_forever())\n",
    "try:\n",
    "    await subscribe_forever()\n",
    "finally:\n",
    "    task.cancel()"
   ]
  },
  {
   "cell_type": "markdown",
   "metadata": {},
   "source": [
    "Write and subscribe to changes with async iterator"
   ]
  },
  {
   "cell_type": "code",
   "execution_count": null,
   "metadata": {},
   "outputs": [],
   "source": [
    "async def iterate_forever():\n",
    "    cursor = await instance.query_log()\n",
    "    iterator = cursor.iterate_changes(poll_at_most_every_ms=100)\n",
    "    async for records in iterator:\n",
    "        print(f\"Received {len(records)} records – Sample: {records[0]['a']}\")\n",
    "\n",
    "task = asyncio.create_task(write_forever())\n",
    "try:\n",
    "    await iterate_forever()\n",
    "finally:\n",
    "    task.cancel()"
   ]
  },
  {
   "cell_type": "code",
   "execution_count": null,
   "metadata": {},
   "outputs": [],
   "source": []
  }
 ],
 "metadata": {
  "kernelspec": {
   "display_name": "Python 3",
   "language": "python",
   "name": "python3"
  },
  "language_info": {
   "codemirror_mode": {
    "name": "ipython",
    "version": 3
   },
   "file_extension": ".py",
   "mimetype": "text/x-python",
   "name": "python",
   "nbconvert_exporter": "python",
   "pygments_lexer": "ipython3",
   "version": "3.7.5"
  }
 },
 "nbformat": 4,
 "nbformat_minor": 2
}
