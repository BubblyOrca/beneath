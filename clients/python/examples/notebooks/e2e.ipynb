{
 "cells": [
  {
   "cell_type": "markdown",
   "metadata": {},
   "source": [
    "# End-To-End Python Client Example\n",
    "\n",
    "This notebook creates a project named `test`, creates a dummy stream, and writes and reads to it."
   ]
  },
  {
   "cell_type": "code",
   "execution_count": 1,
   "metadata": {},
   "outputs": [],
   "source": [
    "%load_ext autoreload\n",
    "%autoreload 2\n",
    "import asyncio\n",
    "import beneath\n",
    "import sys\n",
    "import secrets"
   ]
  },
  {
   "cell_type": "markdown",
   "metadata": {},
   "source": [
    "Create a client (assumes you have already authenticated with `beneath auth SECRET` on the command-line)"
   ]
  },
  {
   "cell_type": "code",
   "execution_count": 2,
   "metadata": {},
   "outputs": [],
   "source": [
    "client = beneath.Client()"
   ]
  },
  {
   "cell_type": "markdown",
   "metadata": {},
   "source": [
    "Get user and organization info"
   ]
  },
  {
   "cell_type": "code",
   "execution_count": 3,
   "metadata": {},
   "outputs": [],
   "source": [
    "me = await client.admin.users.get_me()\n",
    "organization_id = me[\"organization\"][\"organizationID\"]"
   ]
  },
  {
   "cell_type": "markdown",
   "metadata": {},
   "source": [
    "Get or create test project"
   ]
  },
  {
   "cell_type": "code",
   "execution_count": 4,
   "metadata": {},
   "outputs": [],
   "source": [
    "project_name = \"test\"\n",
    "try:\n",
    "    project = await client.admin.projects.create(name=project_name, organization_id=organization_id, public=True)\n",
    "except beneath.GraphQLError:\n",
    "    project = await client.admin.projects.find_by_name(name=project_name)"
   ]
  },
  {
   "cell_type": "markdown",
   "metadata": {},
   "source": [
    "Create test stream"
   ]
  },
  {
   "cell_type": "code",
   "execution_count": 84,
   "metadata": {},
   "outputs": [],
   "source": [
    "stream_name = \"dummmies\"\n",
    "schema = \"\"\"\n",
    "    type Dummmy @stream() @key(fields: \"a\") {\n",
    "        a: String!\n",
    "        b: Int!\n",
    "        c: Int\n",
    "        d: Bytes16\n",
    "    }\n",
    "\"\"\""
   ]
  },
  {
   "cell_type": "code",
   "execution_count": 85,
   "metadata": {},
   "outputs": [],
   "source": [
    "try:\n",
    "    await client.admin.streams.create(schema=schema, project_id=project[\"projectID\"])\n",
    "except beneath.GraphQLError:\n",
    "    await client.admin.streams.find_by_project_and_name(project_name=project_name, stream_name=stream_name)\n",
    "stream = await client.find_stream(project=project_name, stream=stream_name)"
   ]
  },
  {
   "cell_type": "markdown",
   "metadata": {},
   "source": [
    "Create function for generating random records for the stream"
   ]
  },
  {
   "cell_type": "code",
   "execution_count": 86,
   "metadata": {},
   "outputs": [],
   "source": [
    "def generate_record():\n",
    "    return {\n",
    "        \"a\": secrets.token_urlsafe(30),\n",
    "        \"b\": secrets.randbelow(sys.maxsize),\n",
    "        \"c\": None,\n",
    "        \"d\": secrets.token_bytes(16),   \n",
    "    }"
   ]
  },
  {
   "cell_type": "markdown",
   "metadata": {},
   "source": [
    "Write records to the stream"
   ]
  },
  {
   "cell_type": "code",
   "execution_count": 255,
   "metadata": {},
   "outputs": [],
   "source": [
    "n = 1000\n",
    "records = [generate_record() for _ in range(n)]\n",
    "await stream.write(records)"
   ]
  },
  {
   "cell_type": "markdown",
   "metadata": {},
   "source": [
    "Write records forever"
   ]
  },
  {
   "cell_type": "code",
   "execution_count": null,
   "metadata": {},
   "outputs": [],
   "source": [
    "delay_seconds = 2\n",
    "while True:\n",
    "    record = generate_record()\n",
    "    await stream.write(record, immediate=True)\n",
    "    await asyncio.sleep(delay_seconds)"
   ]
  },
  {
   "cell_type": "markdown",
   "metadata": {},
   "source": [
    "Read all records really easily"
   ]
  },
  {
   "cell_type": "code",
   "execution_count": null,
   "metadata": {},
   "outputs": [],
   "source": [
    "df = await client.easy_read(project=project_name, stream=stream_name)\n",
    "df"
   ]
  },
  {
   "cell_type": "markdown",
   "metadata": {},
   "source": [
    "Read some records with lower-level APIs"
   ]
  },
  {
   "cell_type": "code",
   "execution_count": null,
   "metadata": {},
   "outputs": [],
   "source": [
    "cursor = await stream.query_index()\n",
    "df = await cursor.fetch_next(to_dataframe=True)\n",
    "df"
   ]
  },
  {
   "cell_type": "markdown",
   "metadata": {},
   "source": [
    "Read all the records with lower-level APIs"
   ]
  },
  {
   "cell_type": "code",
   "execution_count": null,
   "metadata": {
    "scrolled": false
   },
   "outputs": [],
   "source": [
    "cursor = await stream.query_index()\n",
    "df = await cursor.fetch_all(to_dataframe=True)\n",
    "df"
   ]
  },
  {
   "cell_type": "markdown",
   "metadata": {},
   "source": [
    "Peek at the latest writes"
   ]
  },
  {
   "cell_type": "code",
   "execution_count": null,
   "metadata": {
    "scrolled": true
   },
   "outputs": [],
   "source": [
    "cursor = await stream.query_log(peek=True)\n",
    "df = await cursor.fetch_next(to_dataframe=True)\n",
    "df"
   ]
  },
  {
   "cell_type": "markdown",
   "metadata": {},
   "source": [
    "Write some more and fetch the changes"
   ]
  },
  {
   "cell_type": "code",
   "execution_count": null,
   "metadata": {
    "scrolled": false
   },
   "outputs": [],
   "source": [
    "cursor = await stream.query_log()\n",
    "\n",
    "n = 25\n",
    "records = [generate_record() for _ in range(n)]\n",
    "await stream.write(records)\n",
    "await asyncio.sleep(2)\n",
    "\n",
    "df = await cursor.fetch_next_changes(to_dataframe=True)\n",
    "df"
   ]
  },
  {
   "cell_type": "markdown",
   "metadata": {},
   "source": [
    "Replay values with concurrent callbacks"
   ]
  },
  {
   "cell_type": "code",
   "execution_count": null,
   "metadata": {
    "scrolled": false
   },
   "outputs": [],
   "source": [
    "state = { \"count\": 0 }\n",
    "async def cb(record):\n",
    "    state[\"count\"] = state[\"count\"] + 1\n",
    "    await asyncio.sleep(0.5)\n",
    "\n",
    "query = await stream.query_index()\n",
    "await query.subscribe_replay(callback=cb)\n",
    "\n",
    "print(f\"Processed: {state['count']} records\")"
   ]
  },
  {
   "cell_type": "markdown",
   "metadata": {},
   "source": [
    "Helper to write records in the background for next demos"
   ]
  },
  {
   "cell_type": "code",
   "execution_count": null,
   "metadata": {},
   "outputs": [],
   "source": [
    "async def write_forever():\n",
    "    n = 200\n",
    "    sleep = 1\n",
    "    while True:\n",
    "        records = (generate_record() for _ in range(n))\n",
    "        await stream.write(records, immediate=True)\n",
    "        print(f\"Wrote {n} records\")\n",
    "        await asyncio.sleep(sleep)"
   ]
  },
  {
   "cell_type": "markdown",
   "metadata": {},
   "source": [
    "Write and subscribe to new changes in parallel"
   ]
  },
  {
   "cell_type": "code",
   "execution_count": null,
   "metadata": {
    "scrolled": false
   },
   "outputs": [],
   "source": [
    "async def subscribe_forever():\n",
    "    async def cb(record):\n",
    "        print(f\"Received record: {record['a']}\")\n",
    "        await asyncio.sleep(4)\n",
    "    query = await stream.query_log()\n",
    "    await query.subscribe_changes(callback=cb, max_concurrent_callbacks=2, max_prefetched_records=5)\n",
    "    \n",
    "await asyncio.gather(write_forever(), subscribe_forever())"
   ]
  },
  {
   "cell_type": "markdown",
   "metadata": {},
   "source": [
    "Easy helper to consume history and future progress of a stream"
   ]
  },
  {
   "cell_type": "code",
   "execution_count": null,
   "metadata": {},
   "outputs": [],
   "source": [
    "state = { \"count\": 0 }\n",
    "async def cb(record):    \n",
    "    await asyncio.sleep(0.5) # simulate network op\n",
    "    \n",
    "    # print progress\n",
    "    state[\"count\"] = state[\"count\"] + 1\n",
    "    if state[\"count\"] % 1000 == 0:\n",
    "        print(f\"processed {state['count']} records\")\n",
    "\n",
    "await asyncio.gather(\n",
    "    write_forever(),\n",
    "    # THIS IS IT!\n",
    "    client.easy_process_forever(project=project_name, stream=stream_name, callback=cb),\n",
    ")"
   ]
  },
  {
   "cell_type": "code",
   "execution_count": null,
   "metadata": {},
   "outputs": [],
   "source": []
  }
 ],
 "metadata": {
  "kernelspec": {
   "display_name": "Python 3",
   "language": "python",
   "name": "python3"
  },
  "language_info": {
   "codemirror_mode": {
    "name": "ipython",
    "version": 3
   },
   "file_extension": ".py",
   "mimetype": "text/x-python",
   "name": "python",
   "nbconvert_exporter": "python",
   "pygments_lexer": "ipython3",
   "version": "3.7.5"
  }
 },
 "nbformat": 4,
 "nbformat_minor": 2
}
