{
 "cells": [
  {
   "cell_type": "markdown",
   "metadata": {},
   "source": [
    "# Loading COVID-19 data into Beneath"
   ]
  },
  {
   "cell_type": "markdown",
   "metadata": {},
   "source": [
    "To use this notebook:\n",
    "\n",
    "1. Install the beneath client with `pip install beneath`\n",
    "2. Issue a command-line secret from your settings page in the Beneath Terminal\n",
    "3. Authenticate your command-line by running `beneath auth SECRET`\n",
    "4. Create a project for your data using `beneath project create USERNAME/PROJECT`\n",
    "5. Enter your username and project name in the `username` and `project_name` variables below"
   ]
  },
  {
   "cell_type": "markdown",
   "metadata": {},
   "source": [
    "### Config"
   ]
  },
  {
   "cell_type": "code",
   "execution_count": null,
   "metadata": {},
   "outputs": [],
   "source": [
    "username = \"bem\" # change to your username\n",
    "project_name = \"covid19\" # change to your project name\n",
    "stream_name = \"cases\""
   ]
  },
  {
   "cell_type": "markdown",
   "metadata": {},
   "source": [
    "### Create stream on Beneath"
   ]
  },
  {
   "cell_type": "code",
   "execution_count": null,
   "metadata": {},
   "outputs": [],
   "source": [
    "import beneath\n",
    "client = beneath.Client()"
   ]
  },
  {
   "cell_type": "code",
   "execution_count": null,
   "metadata": {},
   "outputs": [],
   "source": [
    "stream_path = f\"{username}/{project_name}/{stream_name}\"\n",
    "stream = await client.stage_stream(stream_path, \"\"\"\n",
    "    type Case @stream() @key(fields: [\"country\", \"date\"]) {\n",
    "        country: String!\n",
    "        date: Timestamp!\n",
    "        cases: Int!\n",
    "        deaths: Int!\n",
    "    }\n",
    "\"\"\")"
   ]
  },
  {
   "cell_type": "markdown",
   "metadata": {},
   "source": [
    "### Scrape COVID-19 data"
   ]
  },
  {
   "cell_type": "code",
   "execution_count": null,
   "metadata": {},
   "outputs": [],
   "source": [
    "from datetime import datetime, timezone\n",
    "import requests"
   ]
  },
  {
   "cell_type": "code",
   "execution_count": null,
   "metadata": {},
   "outputs": [],
   "source": [
    "req = requests.get(\"https://opendata.ecdc.europa.eu/covid19/casedistribution/json/\")\n",
    "json = req.json()\n",
    "records = [{\n",
    "        \"country\": record[\"countriesAndTerritories\"],\n",
    "        \"date\": datetime(\n",
    "            year=int(record[\"year\"]),\n",
    "            month=int(record[\"month\"]),\n",
    "            day=int(record[\"day\"]),\n",
    "            tzinfo=timezone.utc\n",
    "        ),\n",
    "        \"cases\": int(record[\"cases\"]),\n",
    "        \"deaths\": int(record[\"deaths\"]),\n",
    "    }\n",
    "    for record in json[\"records\"]\n",
    "]"
   ]
  },
  {
   "cell_type": "markdown",
   "metadata": {},
   "source": [
    "### Write to Beneath"
   ]
  },
  {
   "cell_type": "code",
   "execution_count": null,
   "metadata": {},
   "outputs": [],
   "source": [
    "await stream.write(records)"
   ]
  },
  {
   "cell_type": "markdown",
   "metadata": {},
   "source": [
    "### Read from Beneath"
   ]
  },
  {
   "cell_type": "code",
   "execution_count": null,
   "metadata": {},
   "outputs": [],
   "source": [
    "import beneath\n",
    "client = beneath.Client()\n",
    "df = await client.easy_read(f\"{username}/{project_name}/{stream_name}\")\n",
    "df"
   ]
  },
  {
   "cell_type": "code",
   "execution_count": null,
   "metadata": {},
   "outputs": [],
   "source": []
  }
 ],
 "metadata": {
  "kernelspec": {
   "display_name": "Python 3",
   "language": "python",
   "name": "python3"
  },
  "language_info": {
   "codemirror_mode": {
    "name": "ipython",
    "version": 3
   },
   "file_extension": ".py",
   "mimetype": "text/x-python",
   "name": "python",
   "nbconvert_exporter": "python",
   "pygments_lexer": "ipython3",
   "version": "3.7.5"
  }
 },
 "nbformat": 4,
 "nbformat_minor": 2
}
