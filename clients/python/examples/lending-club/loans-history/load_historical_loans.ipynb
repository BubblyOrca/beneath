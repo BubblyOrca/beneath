{
 "cells": [
  {
   "cell_type": "code",
   "execution_count": null,
   "metadata": {},
   "outputs": [],
   "source": [
    "import beneath\n",
    "import pandas as pd\n",
    "import numpy as np\n",
    "from datetime import datetime, timezone"
   ]
  },
  {
   "cell_type": "markdown",
   "metadata": {},
   "source": [
    "### Create a client"
   ]
  },
  {
   "cell_type": "markdown",
   "metadata": {},
   "source": [
    "Before creating a Beneath client, you'll need to authenticate your environment by calling `beneath auth SECRET` on the command-line."
   ]
  },
  {
   "cell_type": "code",
   "execution_count": null,
   "metadata": {},
   "outputs": [],
   "source": [
    "client = beneath.Client()"
   ]
  },
  {
   "cell_type": "markdown",
   "metadata": {},
   "source": [
    "### Config"
   ]
  },
  {
   "cell_type": "code",
   "execution_count": null,
   "metadata": {},
   "outputs": [],
   "source": [
    "username = \"greenep12\"\n",
    "project_name = \"lending-club\"\n",
    "stream_name = \"loans-history\"\n",
    "\n",
    "STREAM_PATH = f\"{username}/{project_name}/{stream_name}\"\n",
    "SCHEMA = open(\"loans_history.graphql\", \"r\").read()"
   ]
  },
  {
   "cell_type": "markdown",
   "metadata": {},
   "source": [
    "### Stage stream"
   ]
  },
  {
   "cell_type": "code",
   "execution_count": null,
   "metadata": {},
   "outputs": [],
   "source": [
    "stream = await client.stage_stream(\n",
    "    stream_path=STREAM_PATH, \n",
    "    schema=SCHEMA,\n",
    ")"
   ]
  },
  {
   "cell_type": "markdown",
   "metadata": {},
   "source": [
    "### Stage instance"
   ]
  },
  {
   "cell_type": "code",
   "execution_count": null,
   "metadata": {},
   "outputs": [],
   "source": [
    "instance = await stream.stage_instance(version=0, make_primary=True)"
   ]
  },
  {
   "cell_type": "markdown",
   "metadata": {},
   "source": [
    "### Write data to Beneath\n",
    "\n",
    "Lending Club distributes their historical loan records as csv files that you can download [here](https://www.lendingclub.com/info/statistics.action).\n",
    "\n",
    "These csv files have a slightly different schema from the new loans that Lending Club lists on its website. Because we would like schema consistency, in this script, we transform the schema from the old records to match the schema of the new records."
   ]
  },
  {
   "cell_type": "code",
   "execution_count": null,
   "metadata": {},
   "outputs": [],
   "source": [
    "periods = ['2016Q1', '2016Q2', '2016Q3', '2016Q4', '2017Q1', '2017Q2', '2017Q3', '2017Q4', \n",
    "          '2018Q1', '2018Q2', '2018Q3', '2018Q4', '2019Q1', '2019Q2', '2019Q3', '2019Q4', '2020Q1']\n",
    "\n",
    "for i in range(0, len(periods)):\n",
    "    print('period: ', periods[i])\n",
    "    \n",
    "    print('reading file...')\n",
    "    \n",
    "    path = '~/Downloads/LoanStats_securev1_' + periods[i] + '.csv'\n",
    "    data = pd.read_csv(path, skiprows=1)\n",
    "    data = data[:-2] # cut out the notes at the bottom of each csv file\n",
    "\n",
    "    print('aligning schema...')\n",
    "    \n",
    "    data['id'] = data['id'].apply(lambda x: int(x))\n",
    "    data['issue_d'] = data['issue_d'].apply(lambda x: datetime.strptime(x, '%b-%Y'))\n",
    "    data['term'] = data['term'].apply(lambda x: int(x[0:3]) if type(x) == str else x)\n",
    "    data['int_rate'] = data['int_rate'].apply(lambda x: float(x[:-1]) if type(x) == str else x)\n",
    "    data = data.rename(columns = {'loan_amnt': 'loan_amount'})\n",
    "    data['loan_amount'] = data['loan_amount'].apply(lambda x: float(x))\n",
    "    data['purpose'] = data['purpose'].apply(lambda x: str(x))\n",
    "    data['home_ownership'] = data['home_ownership'].apply(lambda x: str(x))\n",
    "    data['annual_inc'] = data['annual_inc'].apply(lambda x: float(x))\n",
    "    data['addr_state'] = data['addr_state'].apply(lambda x: str(x))\n",
    "    data['acc_now_delinq'] = data['acc_now_delinq'].apply(lambda x: int(x))\n",
    "    data['dti'] = data['dti'].apply(lambda x: float(x))\n",
    "    data['fico_range_high'] = data['fico_range_high'].apply(lambda x: int(x))\n",
    "    data['open_acc'] = data['open_acc'].apply(lambda x: int(x))\n",
    "    data['pub_rec'] = data['pub_rec'].apply(lambda x: int(x))\n",
    "    data['revol_util'] = data['revol_util'].apply(lambda x: float(x[:-1]) if type(x) != float else x)\n",
    "    data['loan_status'] = data['loan_status'].apply(lambda x: str(x))\n",
    "    \n",
    "    print('writing to Beneath...')\n",
    "    \n",
    "    async with instance.writer() as w:\n",
    "        await w.write(data.to_dict('records'))"
   ]
  }
 ],
 "metadata": {
  "kernelspec": {
   "display_name": "Python 3",
   "language": "python",
   "name": "python3"
  },
  "language_info": {
   "codemirror_mode": {
    "name": "ipython",
    "version": 3
   },
   "file_extension": ".py",
   "mimetype": "text/x-python",
   "name": "python",
   "nbconvert_exporter": "python",
   "pygments_lexer": "ipython3",
   "version": "3.7.6"
  }
 },
 "nbformat": 4,
 "nbformat_minor": 4
}
